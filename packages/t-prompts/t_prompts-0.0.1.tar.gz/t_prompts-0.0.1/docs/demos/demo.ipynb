{
 "cells": [
  {
   "cell_type": "markdown",
   "metadata": {},
   "source": [
    "# t-prompts Demo\n",
    "\n",
    "This notebook demonstrates the `t-prompts` library, which provides provenance-preserving prompts using Python 3.14's template strings (t-strings).\n",
    "\n",
    "**Requirements**: Python 3.14+"
   ]
  },
  {
   "cell_type": "markdown",
   "metadata": {},
   "source": [
    "## 1. Setup and Basic Usage"
   ]
  },
  {
   "cell_type": "code",
   "execution_count": 1,
   "metadata": {
    "execution": {
     "iopub.execute_input": "2025-10-14T02:28:02.085841Z",
     "iopub.status.busy": "2025-10-14T02:28:02.085591Z",
     "iopub.status.idle": "2025-10-14T02:28:02.098548Z",
     "shell.execute_reply": "2025-10-14T02:28:02.098057Z"
    }
   },
   "outputs": [
    {
     "name": "stdout",
     "output_type": "stream",
     "text": [
      "Rendered: Obey Always answer politely.\n",
      "\n",
      "Key: inst\n",
      "Expression: instructions\n",
      "Value: Always answer politely.\n",
      "Format spec: inst\n"
     ]
    }
   ],
   "source": [
    "from t_prompts import prompt\n",
    "\n",
    "# Create a simple prompt with a labeled interpolation\n",
    "instructions = \"Always answer politely.\"\n",
    "p = prompt(t\"Obey {instructions:inst}\")\n",
    "\n",
    "# Renders like an f-string\n",
    "print(\"Rendered:\", str(p))\n",
    "print()\n",
    "\n",
    "# But preserves full provenance\n",
    "node = p['inst']\n",
    "print(f\"Key: {node.key}\")\n",
    "print(f\"Expression: {node.expression}\")\n",
    "print(f\"Value: {node.value}\")\n",
    "print(f\"Format spec: {node.format_spec}\")"
   ]
  },
  {
   "cell_type": "markdown",
   "metadata": {},
   "source": [
    "## 2. Keying Rules\n",
    "\n",
    "Structured prompts use either the format spec or the expression as the dictionary key:"
   ]
  },
  {
   "cell_type": "code",
   "execution_count": 2,
   "metadata": {
    "execution": {
     "iopub.execute_input": "2025-10-14T02:28:02.129389Z",
     "iopub.status.busy": "2025-10-14T02:28:02.129263Z",
     "iopub.status.idle": "2025-10-14T02:28:02.131769Z",
     "shell.execute_reply": "2025-10-14T02:28:02.131482Z"
    }
   },
   "outputs": [
    {
     "name": "stdout",
     "output_type": "stream",
     "text": [
      "With format spec:\n",
      "  Keys: ['custom_key']\n",
      "  Value at 'custom_key': X\n",
      "\n",
      "Without format spec:\n",
      "  Keys: ['x']\n",
      "  Value at 'x': X\n"
     ]
    }
   ],
   "source": [
    "x = \"X\"\n",
    "\n",
    "# With format spec: key comes from format spec\n",
    "p1 = prompt(t\"{x:custom_key}\")\n",
    "print(\"With format spec:\")\n",
    "print(f\"  Keys: {list(p1.keys())}\")\n",
    "print(f\"  Value at 'custom_key': {p1['custom_key'].value}\")\n",
    "print()\n",
    "\n",
    "# Without format spec: key comes from expression\n",
    "p2 = prompt(t\"{x}\")\n",
    "print(\"Without format spec:\")\n",
    "print(f\"  Keys: {list(p2.keys())}\")\n",
    "print(f\"  Value at 'x': {p2['x'].value}\")"
   ]
  },
  {
   "cell_type": "markdown",
   "metadata": {},
   "source": [
    "## 3. Conversions\n",
    "\n",
    "T-strings support conversion flags (!s, !r, !a) which are applied during rendering:"
   ]
  },
  {
   "cell_type": "code",
   "execution_count": 3,
   "metadata": {
    "execution": {
     "iopub.execute_input": "2025-10-14T02:28:02.133137Z",
     "iopub.status.busy": "2025-10-14T02:28:02.133040Z",
     "iopub.status.idle": "2025-10-14T02:28:02.135264Z",
     "shell.execute_reply": "2025-10-14T02:28:02.135004Z"
    }
   },
   "outputs": [
    {
     "name": "stdout",
     "output_type": "stream",
     "text": [
      "!s: Text: hello\n",
      "world\n",
      "!r: Text: 'hello\\nworld'\n",
      "!a: Text: 'hello\\nworld'\n",
      "\n",
      "Conversion flag in !r version: r\n"
     ]
    }
   ],
   "source": [
    "text = \"hello\\nworld\"\n",
    "\n",
    "# !s converts to string (calls str())\n",
    "p_s = prompt(t\"Text: {text!s:data}\")\n",
    "print(f\"!s: {str(p_s)}\")\n",
    "\n",
    "# !r converts to repr (calls repr())\n",
    "p_r = prompt(t\"Text: {text!r:data}\")\n",
    "print(f\"!r: {str(p_r)}\")\n",
    "\n",
    "# !a converts to ascii repr (calls ascii())\n",
    "p_a = prompt(t\"Text: {text!a:data}\")\n",
    "print(f\"!a: {str(p_a)}\")\n",
    "print()\n",
    "\n",
    "# Check conversion metadata\n",
    "print(f\"Conversion flag in !r version: {p_r['data'].conversion}\")"
   ]
  },
  {
   "cell_type": "markdown",
   "metadata": {},
   "source": [
    "## 4. Composing Prompts\n",
    "\n",
    "The real power: prompts can contain other prompts, creating navigable trees:"
   ]
  },
  {
   "cell_type": "code",
   "execution_count": 4,
   "metadata": {
    "execution": {
     "iopub.execute_input": "2025-10-14T02:28:02.136798Z",
     "iopub.status.busy": "2025-10-14T02:28:02.136685Z",
     "iopub.status.idle": "2025-10-14T02:28:02.139171Z",
     "shell.execute_reply": "2025-10-14T02:28:02.138926Z"
    }
   },
   "outputs": [
    {
     "name": "stdout",
     "output_type": "stream",
     "text": [
      "Full prompt:\n",
      "You are a helpful assistant.\n",
      "\n",
      "User: What is Python?\n",
      "\n",
      "Navigation:\n",
      "  p_full['sys'] type: StructuredPrompt\n",
      "  p_full['sys']['system'].value: You are a helpful assistant.\n",
      "  p_full['usr']['query'].value: What is Python?\n"
     ]
    }
   ],
   "source": [
    "# Build prompts from smaller pieces\n",
    "system_msg = \"You are a helpful assistant.\"\n",
    "user_query = \"What is Python?\"\n",
    "\n",
    "p_system = prompt(t\"{system_msg:system}\")\n",
    "p_user = prompt(t\"User: {user_query:query}\")\n",
    "\n",
    "# Compose into larger prompt\n",
    "p_full = prompt(t\"{p_system:sys}\\n\\n{p_user:usr}\")\n",
    "\n",
    "print(\"Full prompt:\")\n",
    "print(str(p_full))\n",
    "print()\n",
    "\n",
    "# Navigate the tree\n",
    "print(\"Navigation:\")\n",
    "print(f\"  p_full['sys'] type: {type(p_full['sys'].value).__name__}\")\n",
    "print(f\"  p_full['sys']['system'].value: {p_full['sys']['system'].value}\")\n",
    "print(f\"  p_full['usr']['query'].value: {p_full['usr']['query'].value}\")"
   ]
  },
  {
   "cell_type": "markdown",
   "metadata": {},
   "source": [
    "## 5. Deeper Nesting\n",
    "\n",
    "You can nest prompts multiple levels deep:"
   ]
  },
  {
   "cell_type": "code",
   "execution_count": 5,
   "metadata": {
    "execution": {
     "iopub.execute_input": "2025-10-14T02:28:02.140828Z",
     "iopub.status.busy": "2025-10-14T02:28:02.140704Z",
     "iopub.status.idle": "2025-10-14T02:28:02.143610Z",
     "shell.execute_reply": "2025-10-14T02:28:02.143323Z"
    }
   },
   "outputs": [
    {
     "name": "stdout",
     "output_type": "stream",
     "text": [
      "Rendered:\n",
      "Instructions: Be polite, Be concise\n",
      "User: Alice\n",
      "\n",
      "Deep navigation:\n",
      "  First instruction: Be polite\n",
      "  Second instruction: Be concise\n",
      "  User: Alice\n"
     ]
    }
   ],
   "source": [
    "# Build a 3-level nested structure\n",
    "inst1 = \"Be polite\"\n",
    "inst2 = \"Be concise\"\n",
    "user = \"Alice\"\n",
    "\n",
    "p_inst = prompt(t\"Instructions: {inst1:i1}, {inst2:i2}\")\n",
    "p_user = prompt(t\"User: {user}\")\n",
    "p_full = prompt(t\"{p_inst:instructions}\\n{p_user:user_info}\")\n",
    "\n",
    "print(\"Rendered:\")\n",
    "print(str(p_full))\n",
    "print()\n",
    "\n",
    "# Navigate deeply\n",
    "print(\"Deep navigation:\")\n",
    "print(f\"  First instruction: {p_full['instructions']['i1'].value}\")\n",
    "print(f\"  Second instruction: {p_full['instructions']['i2'].value}\")\n",
    "print(f\"  User: {p_full['user_info']['user'].value}\")"
   ]
  },
  {
   "cell_type": "markdown",
   "metadata": {},
   "source": [
    "## 6. Provenance Export\n",
    "\n",
    "Export full provenance or just values for logging/debugging:"
   ]
  },
  {
   "cell_type": "code",
   "execution_count": 6,
   "metadata": {
    "execution": {
     "iopub.execute_input": "2025-10-14T02:28:02.144874Z",
     "iopub.status.busy": "2025-10-14T02:28:02.144782Z",
     "iopub.status.idle": "2025-10-14T02:28:02.146867Z",
     "shell.execute_reply": "2025-10-14T02:28:02.146632Z"
    }
   },
   "outputs": [
    {
     "name": "stdout",
     "output_type": "stream",
     "text": [
      "Values:\n",
      "{\n",
      "  \"ctx\": \"User is Alice\",\n",
      "  \"inst\": \"Be concise\"\n",
      "}\n",
      "\n",
      "Full provenance:\n",
      "{\n",
      "  \"strings\": [\n",
      "    \"Context: \",\n",
      "    \". \",\n",
      "    \"\"\n",
      "  ],\n",
      "  \"nodes\": [\n",
      "    {\n",
      "      \"key\": \"ctx\",\n",
      "      \"expression\": \"context\",\n",
      "      \"conversion\": null,\n",
      "      \"format_spec\": \"ctx\",\n",
      "      \"index\": 0,\n",
      "      \"value\": \"User is Alice\"\n",
      "    },\n",
      "    {\n",
      "      \"key\": \"inst\",\n",
      "      \"expression\": \"instructions\",\n",
      "      \"conversion\": null,\n",
      "      \"format_spec\": \"inst\",\n",
      "      \"index\": 1,\n",
      "      \"value\": \"Be concise\"\n",
      "    }\n",
      "  ]\n",
      "}\n"
     ]
    }
   ],
   "source": [
    "import json\n",
    "\n",
    "context = \"User is Alice\"\n",
    "instructions = \"Be concise\"\n",
    "\n",
    "p = prompt(t\"Context: {context:ctx}. {instructions:inst}\")\n",
    "\n",
    "# Get just the values (simplified)\n",
    "values = p.to_values()\n",
    "print(\"Values:\")\n",
    "print(json.dumps(values, indent=2))\n",
    "print()\n",
    "\n",
    "# Get full provenance (all metadata)\n",
    "provenance = p.to_provenance()\n",
    "print(\"Full provenance:\")\n",
    "print(json.dumps(provenance, indent=2))"
   ]
  },
  {
   "cell_type": "markdown",
   "metadata": {},
   "source": [
    "## 7. Mapping Protocol\n",
    "\n",
    "`StructuredPrompt` implements the Mapping protocol, so it works like a dictionary:"
   ]
  },
  {
   "cell_type": "code",
   "execution_count": 7,
   "metadata": {
    "execution": {
     "iopub.execute_input": "2025-10-14T02:28:02.148197Z",
     "iopub.status.busy": "2025-10-14T02:28:02.148102Z",
     "iopub.status.idle": "2025-10-14T02:28:02.150437Z",
     "shell.execute_reply": "2025-10-14T02:28:02.150116Z"
    }
   },
   "outputs": [
    {
     "name": "stdout",
     "output_type": "stream",
     "text": [
      "Length: 3\n",
      "Keys: ['a', 'b', 'c']\n",
      "'a' in p: True\n",
      "'d' in p: False\n",
      "\n",
      "Items:\n",
      "  a: X\n",
      "  b: Y\n",
      "  c: Z\n"
     ]
    }
   ],
   "source": [
    "x = \"X\"\n",
    "y = \"Y\"\n",
    "z = \"Z\"\n",
    "\n",
    "p = prompt(t\"{x:a} {y:b} {z:c}\")\n",
    "\n",
    "# Dictionary operations\n",
    "print(f\"Length: {len(p)}\")\n",
    "print(f\"Keys: {list(p.keys())}\")\n",
    "print(f\"'a' in p: {'a' in p}\")\n",
    "print(f\"'d' in p: {'d' in p}\")\n",
    "print()\n",
    "\n",
    "# Iterate over key-value pairs\n",
    "print(\"Items:\")\n",
    "for key, node in p.items():\n",
    "    print(f\"  {key}: {node.value}\")"
   ]
  },
  {
   "cell_type": "markdown",
   "metadata": {},
   "source": [
    "## 8. Template Introspection\n",
    "\n",
    "Access the original template structure:"
   ]
  },
  {
   "cell_type": "code",
   "execution_count": 8,
   "metadata": {
    "execution": {
     "iopub.execute_input": "2025-10-14T02:28:02.151905Z",
     "iopub.status.busy": "2025-10-14T02:28:02.151788Z",
     "iopub.status.idle": "2025-10-14T02:28:02.154299Z",
     "shell.execute_reply": "2025-10-14T02:28:02.154050Z"
    }
   },
   "outputs": [
    {
     "name": "stdout",
     "output_type": "stream",
     "text": [
      "String segments: ('before ', ' middle ', ' after')\n",
      "\n",
      "Interpolations:\n",
      "  [0] key=a, expr=x, value=X\n",
      "  [1] key=b, expr=y, value=Y\n"
     ]
    }
   ],
   "source": [
    "x = \"X\"\n",
    "y = \"Y\"\n",
    "\n",
    "p = prompt(t\"before {x:a} middle {y:b} after\")\n",
    "\n",
    "# Static string segments\n",
    "print(f\"String segments: {p.strings}\")\n",
    "print()\n",
    "\n",
    "# Interpolation nodes\n",
    "print(\"Interpolations:\")\n",
    "for node in p.interpolations:\n",
    "    print(f\"  [{node.index}] key={node.key}, expr={node.expression}, value={node.value}\")"
   ]
  },
  {
   "cell_type": "markdown",
   "metadata": {},
   "source": [
    "## 9. Format Specs as Keys (Not Formatting)\n",
    "\n",
    "By default, format specs are used as keys, not for formatting:"
   ]
  },
  {
   "cell_type": "code",
   "execution_count": 9,
   "metadata": {
    "execution": {
     "iopub.execute_input": "2025-10-14T02:28:02.155589Z",
     "iopub.status.busy": "2025-10-14T02:28:02.155475Z",
     "iopub.status.idle": "2025-10-14T02:28:02.158661Z",
     "shell.execute_reply": "2025-10-14T02:28:02.157607Z"
    }
   },
   "outputs": [
    {
     "name": "stdout",
     "output_type": "stream",
     "text": [
      "Rendered (no formatting): 42\n",
      "Key: 05d\n",
      "\n",
      "Without apply_format_spec: '42'\n",
      "With apply_format_spec: '   42'\n"
     ]
    }
   ],
   "source": [
    "num = \"42\"\n",
    "\n",
    "# \"05d\" looks like a format spec, but it's used as a key\n",
    "p = prompt(t\"{num:05d}\")\n",
    "\n",
    "print(f\"Rendered (no formatting): {str(p)}\")\n",
    "print(f\"Key: {list(p.keys())[0]}\")\n",
    "print()\n",
    "\n",
    "# Optional: apply format specs for actual formatting\n",
    "p2 = prompt(t\"{num:>5}\")\n",
    "print(f\"Without apply_format_spec: '{p2.render()}'\")\n",
    "print(f\"With apply_format_spec: '{p2.render(apply_format_spec=True)}'\")"
   ]
  },
  {
   "cell_type": "markdown",
   "metadata": {},
   "source": [
    "## 10. Type Safety\n",
    "\n",
    "Only strings and nested `StructuredPrompt`s are allowed as values:"
   ]
  },
  {
   "cell_type": "code",
   "execution_count": 10,
   "metadata": {
    "execution": {
     "iopub.execute_input": "2025-10-14T02:28:02.170057Z",
     "iopub.status.busy": "2025-10-14T02:28:02.169830Z",
     "iopub.status.idle": "2025-10-14T02:28:02.176697Z",
     "shell.execute_reply": "2025-10-14T02:28:02.174787Z"
    }
   },
   "outputs": [
    {
     "name": "stdout",
     "output_type": "stream",
     "text": [
      "String value: hello\n",
      "Nested prompt: inner\n",
      "\n",
      "Error with int: UnsupportedValueTypeError\n",
      "  Message: Unsupported value type for interpolation 'num' (key='num'): expected str or StructuredPrompt, got int\n"
     ]
    }
   ],
   "source": [
    "# This works: string value\n",
    "text = \"hello\"\n",
    "p1 = prompt(t\"{text}\")\n",
    "print(f\"String value: {str(p1)}\")\n",
    "\n",
    "# This works: nested StructuredPrompt\n",
    "inner = prompt(t\"inner\")\n",
    "p2 = prompt(t\"{inner}\")\n",
    "print(f\"Nested prompt: {str(p2)}\")\n",
    "print()\n",
    "\n",
    "# This fails: integer value\n",
    "try:\n",
    "    num = 42\n",
    "    p3 = prompt(t\"{num}\")\n",
    "except Exception as e:\n",
    "    print(f\"Error with int: {type(e).__name__}\")\n",
    "    print(f\"  Message: {str(e)}\")"
   ]
  },
  {
   "cell_type": "markdown",
   "metadata": {},
   "source": [
    "## Summary\n",
    "\n",
    "This demo covered the key features of `t-prompts`:\n",
    "\n",
    "✅ **Basic usage**: Create prompts from t-strings with `prompt()`  \n",
    "✅ **Provenance**: Access expression, key, conversion, format_spec, value  \n",
    "✅ **Keying**: Format spec as key (if present), else expression  \n",
    "✅ **Conversions**: Support for !s, !r, !a  \n",
    "✅ **Composition**: Nest prompts to build complex structures  \n",
    "✅ **Navigation**: Dict-like access with chaining (`p['a']['b']['c']`)  \n",
    "✅ **Export**: `to_values()` and `to_provenance()` for JSON serialization  \n",
    "✅ **Mapping protocol**: Works like a dictionary  \n",
    "✅ **Introspection**: Access template strings and interpolations  \n",
    "✅ **Type safety**: Only str and StructuredPrompt allowed  \n",
    "\n",
    "**Use cases:**\n",
    "- Building LLM prompts with full audit trails\n",
    "- Composing complex prompts from reusable pieces\n",
    "- Tracking which variables produced which prompt sections\n",
    "- Debugging and testing prompt generation logic\n",
    "- Logging structured prompt metadata for analysis"
   ]
  }
 ],
 "metadata": {
  "kernelspec": {
   "display_name": "Python 3",
   "language": "python",
   "name": "python3"
  },
  "language_info": {
   "codemirror_mode": {
    "name": "ipython",
    "version": 3
   },
   "file_extension": ".py",
   "mimetype": "text/x-python",
   "name": "python",
   "nbconvert_exporter": "python",
   "pygments_lexer": "ipython3",
   "version": "3.14.0"
  }
 },
 "nbformat": 4,
 "nbformat_minor": 4
}

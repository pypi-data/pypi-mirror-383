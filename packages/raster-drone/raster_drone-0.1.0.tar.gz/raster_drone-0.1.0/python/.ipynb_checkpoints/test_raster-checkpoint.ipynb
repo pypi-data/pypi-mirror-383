{
 "cells": [
  {
   "cell_type": "code",
   "execution_count": 1,
   "id": "523692f3-29e1-435c-96b7-83f3fdf73aa2",
   "metadata": {},
   "outputs": [],
   "source": [
    "import raster_drone as rd\n",
    "import matplotlib.pyplot as plt\n",
    "import numpy as np"
   ]
  },
  {
   "cell_type": "code",
   "execution_count": 4,
   "id": "a0a757d3-af90-419d-a8e9-25a759bca572",
   "metadata": {},
   "outputs": [
    {
     "name": "stdout",
     "output_type": "stream",
     "text": [
      "CPU times: user 25.5 ms, sys: 6.45 ms, total: 31.9 ms\n",
      "Wall time: 31.8 ms\n",
      "Image loaded successfully with dimensions: 921x842\n",
      "Extracted 7755 initial coordinates.\n",
      "Sampled down to 7755 coordinates using a grid.\n"
     ]
    }
   ],
   "source": [
    "%%time \n",
    "\n",
    "rd.process_image(\"teacup.jpg\", 10000, 0.01, output_path = 'output/teacup.png')"
   ]
  },
  {
   "cell_type": "code",
   "execution_count": null,
   "id": "bc0c91b2-06f6-4e5f-88d3-574f83a03c73",
   "metadata": {},
   "outputs": [],
   "source": []
  }
 ],
 "metadata": {
  "kernelspec": {
   "display_name": "Python 3 (ipykernel)",
   "language": "python",
   "name": "python3"
  },
  "language_info": {
   "codemirror_mode": {
    "name": "ipython",
    "version": 3
   },
   "file_extension": ".py",
   "mimetype": "text/x-python",
   "name": "python",
   "nbconvert_exporter": "python",
   "pygments_lexer": "ipython3",
   "version": "3.12.10"
  }
 },
 "nbformat": 4,
 "nbformat_minor": 5
}

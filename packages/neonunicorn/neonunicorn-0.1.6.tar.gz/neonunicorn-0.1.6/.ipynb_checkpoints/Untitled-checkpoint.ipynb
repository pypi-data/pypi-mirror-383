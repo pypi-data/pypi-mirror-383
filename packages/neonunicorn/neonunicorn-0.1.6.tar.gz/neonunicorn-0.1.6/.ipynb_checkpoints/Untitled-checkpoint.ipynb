{
 "cells": [
  {
   "cell_type": "code",
   "execution_count": 1,
   "id": "7a248e1b-ad0b-4198-ade6-bcb2519f767e",
   "metadata": {},
   "outputs": [],
   "source": [
    "from neonunicorn.differential.discrete import diff"
   ]
  },
  {
   "cell_type": "code",
   "execution_count": 2,
   "id": "818ebc02-e401-4b68-9e75-dcaf82db27c4",
   "metadata": {},
   "outputs": [],
   "source": [
    "t = [0, 0.1, 0.3, 0.4, 0.55, 0.67, 0.71]"
   ]
  },
  {
   "cell_type": "code",
   "execution_count": 3,
   "id": "36dec5be-71f7-48b6-a93a-699fd2faa94d",
   "metadata": {},
   "outputs": [],
   "source": [
    "x = [23.1, 22.5, 23.5, 21.88, 22.5, 23.5, 24.88]"
   ]
  },
  {
   "cell_type": "code",
   "execution_count": 4,
   "id": "4f3b7f70-8f8f-4d08-8a2f-6a1cf3f3a3c1",
   "metadata": {},
   "outputs": [],
   "source": [
    "v = diff(t, x)"
   ]
  },
  {
   "cell_type": "code",
   "execution_count": 5,
   "id": "1e674a5d-479f-42fd-b943-b6e2fb285d41",
   "metadata": {},
   "outputs": [
    {
     "data": {
      "text/plain": [
       "[0,\n",
       " -6.000000000000014,\n",
       " 5.0,\n",
       " -16.200000000000003,\n",
       " 4.133333333333339,\n",
       " 8.333333333333334,\n",
       " 34.50000000000004]"
      ]
     },
     "execution_count": 5,
     "metadata": {},
     "output_type": "execute_result"
    }
   ],
   "source": [
    "v"
   ]
  },
  {
   "cell_type": "code",
   "execution_count": null,
   "id": "3beac921-12c5-47b0-8283-5fd6a91a6c66",
   "metadata": {},
   "outputs": [],
   "source": []
  }
 ],
 "metadata": {
  "kernelspec": {
   "display_name": "difftest_neonunicorn",
   "language": "python",
   "name": "difftest_neonunicorn"
  },
  "language_info": {
   "codemirror_mode": {
    "name": "ipython",
    "version": 3
   },
   "file_extension": ".py",
   "mimetype": "text/x-python",
   "name": "python",
   "nbconvert_exporter": "python",
   "pygments_lexer": "ipython3",
   "version": "3.12.11"
  }
 },
 "nbformat": 4,
 "nbformat_minor": 5
}

{
 "cells": [
  {
   "cell_type": "markdown",
   "id": "07e99fcc-9396-4450-ada0-c4534dfca686",
   "metadata": {},
   "source": [
    "# Example for Quantum Amplitude Estimation\n",
    "In this notebooks we show how the Quantum Amplitude Estimation (QAE) algorithm can be implemented with geqo. The algorithm is described in G. Brassard, P. Hoyer, M. Mosca, A. Tapp, \"Quantum Amplitude Amplification and Estimation\", Quantum Computation and Quantum Information, Samuel J. Lomonaco, Jr. (editor), AMS Contemporary Mathematics, 305:53-74, 2002. A version of this article can be found under [arXiv:quant-ph/0005055](https://arxiv.org/abs/quant-ph/0005055)."
   ]
  },
  {
   "cell_type": "markdown",
   "id": "852b8af1-0a5d-43dd-aeac-2e013ae81488",
   "metadata": {},
   "source": [
    "We consider a simple ```Ry``` rotation gate as quantum circuit for the QAE. For a given probability ```prob```, an rotation angle for the rotation is calculated. "
   ]
  },
  {
   "cell_type": "code",
   "execution_count": 1,
   "id": "688e584d-1c32-42c4-a7cb-e17d1a35dd2b",
   "metadata": {},
   "outputs": [],
   "source": [
    "from geqo.core.quantum_circuit import Sequence\n",
    "from geqo.gates import Ry\n",
    "import math\n",
    "\n",
    "prob = 0.75\n",
    "aValue = 2 * math.asin(math.sqrt(prob))\n",
    "\n",
    "seq = Sequence([\"0\"], [], [(Ry(\"a\"), [\"0\"], [])])"
   ]
  },
  {
   "cell_type": "markdown",
   "id": "82fb3aa4-728f-4e5e-b062-98dff6db7d00",
   "metadata": {},
   "source": [
    "Then the state $|1\\rangle$ is measured with the specified probability after applying this gate to an initialized system. This can be seen by the density matrix of the system. The density matrix can be obtained with the simulator ```ensembleSimulatorSymPy``` as follows."
   ]
  },
  {
   "cell_type": "code",
   "execution_count": 2,
   "id": "ff52c0d6-5df1-4621-a759-78f0cc297c65",
   "metadata": {},
   "outputs": [
    {
     "data": {
      "text/latex": [
       "$\\displaystyle \\left[\\begin{matrix}0.25 & 0.433012701892219\\\\0.433012701892219 & 0.75\\end{matrix}\\right]$"
      ],
      "text/plain": [
       "Matrix([\n",
       "[             0.25, 0.433012701892219],\n",
       "[0.433012701892219,              0.75]])"
      ]
     },
     "metadata": {},
     "output_type": "display_data"
    }
   ],
   "source": [
    "from geqo.simulators import ensembleSimulatorSymPy\n",
    "\n",
    "sim = ensembleSimulatorSymPy(1, 0)\n",
    "sim.setValue(\"a\", aValue)\n",
    "sim.apply(seq, [0])\n",
    "display(sim.ensemble[()][1])"
   ]
  },
  {
   "cell_type": "markdown",
   "id": "94b7ce3d-e46f-43dd-aa6f-f77d1fee4828",
   "metadata": {},
   "source": [
    "For the QAE, we construct the Grover operator $G=-R_Y(a) S_0 R_Y(-a) S_x$, where $S_0$ and $S_x$ are phase operations. More precisely, $S_0$ multiplies the state $|0\\rangle$ with the phase $-1$ and all other states with the trivial phase $1$. In a similar way, $S_x$ marks all states with $-1$, for which we search the corresponding probability. In our example, this is the state $|1\\rangle$.  "
   ]
  },
  {
   "cell_type": "code",
   "execution_count": 3,
   "id": "5ec2ff9e-dafe-41a0-bea5-178f5f0f24b2",
   "metadata": {},
   "outputs": [],
   "source": [
    "from geqo.gates import PauliX, PauliZ\n",
    "\n",
    "# Build the Grover operator\n",
    "grov = Sequence(\n",
    "    [\"q0\"],\n",
    "    [],\n",
    "    [\n",
    "        (PauliZ(), [\"q0\"], []),  # Mark the state 1 with phase -1.\n",
    "        (\n",
    "            seq.getInverse(),\n",
    "            [\"q0\"],\n",
    "            [],\n",
    "        ),  # the inverse operation is a rotation with angle -a\n",
    "        (PauliX(), [\"q0\"], []),  # These 4 gates implement a global -1 phase.\n",
    "        (PauliZ(), [\"q0\"], []),\n",
    "        (PauliX(), [\"q0\"], []),\n",
    "        (PauliZ(), [\"q0\"], []),\n",
    "        (PauliX(), [\"q0\"], []),  # Mark the state 0 with phase -1.\n",
    "        (PauliZ(), [\"q0\"], []),\n",
    "        (PauliX(), [\"q0\"], []),\n",
    "        (seq, [\"q0\"], []),\n",
    "    ],  # the rotation with angle a\n",
    ")"
   ]
  },
  {
   "cell_type": "raw",
   "id": "38f910f9-d1ad-4f79-b57b-d49a96defb93",
   "metadata": {
    "vscode": {
     "languageId": "raw"
    }
   },
   "source": [
    "from geqo.simulators import simulatorUnitarySymPy\n",
    "sim=simulatorUnitarySymPy(1)\n",
    "sim.setValue(\"a\",aValue)\n",
    "sim.apply(grov,[0])\n",
    "u=sim.u.evalf()"
   ]
  },
  {
   "cell_type": "markdown",
   "id": "f2392064-7523-46cf-8ad5-58f9a5f73f33",
   "metadata": {},
   "source": [
    "We want to estimate the probability of the state $|1\\rangle$ with $4$ bits precision. For this, we need the powers $G, G^2, G^4$ and $G^8$ of the Grover operator. These are defined with the following statements along with the QFT, which we need on the output register of 4 qubits of the QAE."
   ]
  },
  {
   "cell_type": "code",
   "execution_count": 4,
   "id": "4b080504-1be0-430d-9934-43c634f6a54c",
   "metadata": {},
   "outputs": [],
   "source": [
    "from geqo.algorithms import InverseQFT\n",
    "\n",
    "pow1 = Sequence([\"q0\"], [], [(grov, [\"q0\"], [])])\n",
    "pow2 = Sequence([\"q0\"], [], [(pow1, [\"q0\"], []), (pow1, [\"q0\"], [])])\n",
    "pow4 = Sequence([\"q0\"], [], [(pow2, [\"q0\"], []), (pow2, [\"q0\"], [])])\n",
    "pow8 = Sequence([\"q0\"], [], [(pow4, [\"q0\"], []), (pow4, [\"q0\"], [])])\n",
    "qft = InverseQFT(4)"
   ]
  },
  {
   "cell_type": "markdown",
   "id": "f609279c-9330-4a10-b364-fb9cd05e06ae",
   "metadata": {},
   "source": [
    "With the defined sequences, we can create the full circuit for the QAE. The powers of the Grover oracle are each controlled by a qubit in superposition."
   ]
  },
  {
   "cell_type": "code",
   "execution_count": 5,
   "id": "8a4be7c7-dc6c-4911-9b8c-dda8363333dd",
   "metadata": {},
   "outputs": [],
   "source": [
    "from geqo.gates import Hadamard\n",
    "from geqo.operations import QuantumControl\n",
    "\n",
    "gatesAndTargets = []\n",
    "gatesAndTargets.append((Hadamard(), [\"p0\"], []))\n",
    "gatesAndTargets.append((Hadamard(), [\"p1\"], []))\n",
    "gatesAndTargets.append((Hadamard(), [\"p2\"], []))\n",
    "gatesAndTargets.append((Hadamard(), [\"p3\"], []))\n",
    "gatesAndTargets.append((seq, [\"q0\"], []))\n",
    "gatesAndTargets.append((QuantumControl([1], pow8), [\"p0\", \"q0\"], []))\n",
    "gatesAndTargets.append((QuantumControl([1], pow4), [\"p1\", \"q0\"], []))\n",
    "gatesAndTargets.append((QuantumControl([1], pow2), [\"p2\", \"q0\"], []))\n",
    "gatesAndTargets.append((QuantumControl([1], pow1), [\"p3\", \"q0\"], []))\n",
    "gatesAndTargets.append((qft, [\"p0\", \"p1\", \"p2\", \"p3\"], []))\n",
    "seq2 = Sequence([\"p0\", \"p1\", \"p2\", \"p3\", \"q0\"], [], gatesAndTargets)"
   ]
  },
  {
   "cell_type": "markdown",
   "id": "189aa74f-35d1-4c58-a274-8e58241ad6fd",
   "metadata": {},
   "source": [
    "The output of the QAE is an estimation of the probability in binary format. We define the function, which calculates the probability values corresponding to the binary outputs."
   ]
  },
  {
   "cell_type": "code",
   "execution_count": 6,
   "id": "7c1e5abe-7251-466d-957b-dd419507e8b0",
   "metadata": {},
   "outputs": [],
   "source": [
    "from geqo.utils import bin2num\n",
    "\n",
    "\n",
    "def bit2prob(bits):\n",
    "    summe = bin2num(bits)\n",
    "    res = summe / 2 ** (len(bits) - 1)\n",
    "    theta_estim = math.pi * res / 2.0\n",
    "    prob_estim = math.sin(theta_estim) * math.sin(theta_estim)\n",
    "    return prob_estim"
   ]
  },
  {
   "cell_type": "markdown",
   "id": "b2d352ec-cc5a-43d9-a1bc-cb9168589854",
   "metadata": {},
   "source": [
    "The probability values corresponding to the possible binary results are not evenly distributed in the intervall $[0,1]$. The following values and the plot shows that the values are denser around $0$ and $1$ in contrast to $0.5$. "
   ]
  },
  {
   "cell_type": "code",
   "execution_count": 7,
   "id": "5de7c650",
   "metadata": {},
   "outputs": [
    {
     "name": "stdout",
     "output_type": "stream",
     "text": [
      "(0, 0, 0, 0) 0.0\n",
      "(0, 0, 0, 1) 0.03806023374435662\n",
      "(0, 0, 1, 0) 0.14644660940672624\n",
      "(0, 0, 1, 1) 0.3086582838174551\n",
      "(0, 1, 0, 0) 0.4999999999999999\n",
      "(0, 1, 0, 1) 0.6913417161825449\n",
      "(0, 1, 1, 0) 0.8535533905932737\n",
      "(0, 1, 1, 1) 0.9619397662556434\n",
      "(1, 0, 0, 0) 1.0\n",
      "(1, 0, 0, 1) 0.9619397662556434\n",
      "(1, 0, 1, 0) 0.8535533905932737\n",
      "(1, 0, 1, 1) 0.6913417161825453\n",
      "(1, 1, 0, 0) 0.5000000000000001\n",
      "(1, 1, 0, 1) 0.3086582838174551\n",
      "(1, 1, 1, 0) 0.14644660940672632\n",
      "(1, 1, 1, 1) 0.038060233744356756\n"
     ]
    },
    {
     "data": {
      "text/plain": [
       "[<matplotlib.lines.Line2D at 0x788fc48401d0>]"
      ]
     },
     "execution_count": 7,
     "metadata": {},
     "output_type": "execute_result"
    },
    {
     "data": {
      "image/png": "[encoded data removed]",
      "text/plain": [
       "<Figure size 640x480 with 1 Axes>"
      ]
     },
     "metadata": {},
     "output_type": "display_data"
    }
   ],
   "source": [
    "import itertools\n",
    "import matplotlib.pyplot as plt\n",
    "\n",
    "xe2 = []\n",
    "ye2 = []\n",
    "for i in itertools.product([0, 1], repeat=4):\n",
    "    print(i, bit2prob(i))\n",
    "    xe2.append(bin2num(i))\n",
    "    ye2.append(bit2prob(i))\n",
    "plt.scatter(xe2, ye2)\n",
    "plt.plot(xe2, ye2)"
   ]
  },
  {
   "cell_type": "markdown",
   "id": "f4e97a93-03ad-45d1-b727-952db4f55447",
   "metadata": {},
   "source": [
    "We run the QAE algorithm of the given quantum circuit on the ensemble simulator. At the end, a measurement of the 4 output qubits is performed on the system."
   ]
  },
  {
   "cell_type": "code",
   "execution_count": 8,
   "id": "ec4bd010-aea6-41c5-91b7-02b79909f94e",
   "metadata": {},
   "outputs": [],
   "source": [
    "from geqo.operations import Measure\n",
    "\n",
    "sim = ensembleSimulatorSymPy(5, 4)\n",
    "sim.setValue(\"a\", aValue)\n",
    "sim.prepareBackend([qft])\n",
    "\n",
    "sim.apply(seq2, [0, 1, 2, 3, 4], [])\n",
    "sim.apply(Measure(4), [0, 1, 2, 3], [0, 1, 2, 3])"
   ]
  },
  {
   "cell_type": "markdown",
   "id": "1bbb9d8a-e4f2-4db9-8932-953f6c4e9f98",
   "metadata": {},
   "source": [
    "We collect all possible measurement results from the ensemble along with their probabilities. Since for most possible probability values there are two possible binary representation, we round the values to 5 digits and sum up the probabilities of equal solutions."
   ]
  },
  {
   "cell_type": "code",
   "execution_count": 9,
   "id": "8764fd68-5c5a-49f2-857d-9a5bb266d205",
   "metadata": {},
   "outputs": [],
   "source": [
    "te = {}\n",
    "for e in sim.ensemble:\n",
    "    estim = round(bit2prob(e), 5)\n",
    "    prob = sim.ensemble[e][0].evalf()\n",
    "    if estim in te:\n",
    "        te[estim] += prob\n",
    "    else:\n",
    "        te[estim] = prob"
   ]
  },
  {
   "cell_type": "code",
   "execution_count": 10,
   "id": "79bdfd8d-b6cd-4280-90dc-b995d1417db1",
   "metadata": {},
   "outputs": [
    {
     "name": "stdout",
     "output_type": "stream",
     "text": [
      "0.0 : 0.00390624999999999\n",
      "0.03806 : 0.00845014719874149\n",
      "0.14645 : 0.0108859240797014\n",
      "0.30866 : 0.0179187491022236\n",
      "0.5 : 0.0468750000000000\n",
      "0.69134 : 0.688537554578972\n",
      "0.85355 : 0.176614075920298\n",
      "0.96194 : 0.0350935491200642\n",
      "1.0 : 0.0117187500000000\n"
     ]
    }
   ],
   "source": [
    "xe = []\n",
    "ye = []\n",
    "for t in te:\n",
    "    xe.append(t)\n",
    "    ye.append(te[t])\n",
    "for t in te:\n",
    "    print(t, \":\", te[t])"
   ]
  },
  {
   "cell_type": "markdown",
   "id": "e2579b2c-a562-4aeb-a14a-2f2daef9ecd2",
   "metadata": {},
   "source": [
    "The results show that the output of the QAE which corresponds to $0.69134$ and $0.85355$ have together a probability of $86.5\\%$. Both solutions are the closest approximations to the real solution $0.75$."
   ]
  },
  {
   "cell_type": "code",
   "execution_count": 11,
   "id": "c54c7141-69bb-4e9a-b1d0-124521ea8f5d",
   "metadata": {},
   "outputs": [
    {
     "data": {
      "text/plain": [
       "<matplotlib.collections.PathCollection at 0x788fbda951f0>"
      ]
     },
     "execution_count": 11,
     "metadata": {},
     "output_type": "execute_result"
    },
    {
     "data": {
      "image/png": "[encoded data removed]",
      "text/plain": [
       "<Figure size 640x480 with 1 Axes>"
      ]
     },
     "metadata": {},
     "output_type": "display_data"
    }
   ],
   "source": [
    "import matplotlib.pyplot as plt\n",
    "\n",
    "plt.plot(xe, ye)\n",
    "plt.scatter(xe, ye)"
   ]
  },
  {
   "cell_type": "code",
   "execution_count": null,
   "id": "0b09c4e0",
   "metadata": {},
   "outputs": [],
   "source": []
  }
 ],
 "metadata": {
  "kernelspec": {
   "display_name": "geqo",
   "language": "python",
   "name": "python3"
  },
  "language_info": {
   "codemirror_mode": {
    "name": "ipython",
    "version": 3
   },
   "file_extension": ".py",
   "mimetype": "text/x-python",
   "name": "python",
   "nbconvert_exporter": "python",
   "pygments_lexer": "ipython3",
   "version": "3.12.11"
  }
 },
 "nbformat": 4,
 "nbformat_minor": 5
}

{
 "cells": [
  {
   "cell_type": "markdown",
   "id": "4c5349e4",
   "metadata": {},
   "source": [
    "# Quick Start: Explore two examples of what geqo can do\n",
    "In the following, two simple examples are presented to show how geqo can be used to define, simulate and visualize quantum circuits."
   ]
  },
  {
   "cell_type": "markdown",
   "id": "e38c1493",
   "metadata": {},
   "source": [
    "## Simulation of the EPR pair generation\n",
    "First, the necessary gates for an EPR state preparation are imported and a circuit is contructed with the ```Sequence``` class. \n",
    "This class is used in geqo to define quantum circuits. It keeps track of all classical bits, qubits and operations with their corresponding target bits and qubits in the circuit.\n",
    "\n",
    "The first two arguments of ```Sequence``` are the lists of qubits and classical bits in the circuit. The identifiers can be numbers or strings, but all identifiers in a list must be of the same type. The third argument is the list of operations in the circuits. Each entry in the latter list consists of the gate and its targets. In this example, the gates have no parameters like rotation angles."
   ]
  },
  {
   "cell_type": "code",
   "execution_count": 1,
   "id": "e8a660ef",
   "metadata": {},
   "outputs": [],
   "source": [
    "from geqo.gates import Hadamard, CNOT\n",
    "from geqo.core.quantum_circuit import Sequence\n",
    "\n",
    "seq = Sequence(\n",
    "    [\"q0\", \"q1\"], [\"c0\", \"c1\"], [(Hadamard(), [\"q0\"], []), (CNOT(), [\"q0\", \"q1\"], [])]\n",
    ")"
   ]
  },
  {
   "cell_type": "markdown",
   "id": "2968afa3",
   "metadata": {},
   "source": [
    "After defining a quantum circuit, the execution of the circuit can be simulated. Here, we use the simulator ```simulatorStatevectorNumpy```, which is a numerical-based simulator for the state vector of the system. The first and second argument are the number of classical and quantum bits of the simulated system, respectively. The bits are initialized with $0$ and the qubits with $|0\\rangle$. The state vectors $|0\\rangle$ and $|1\\rangle$ are internally represented by the vectors $(1,0)^T\\in {\\mathbb C}^2$ and $(0,1)^T \\in {\\mathbb C}^2$ of the standard basis. The simulation is done with the method ```apply``` and its arguments are the quantum operation to be simulated and a list of its target qubits and a list of its classical target bits. If an operation does not work on classical bits then the list of classical bits can be omitted."
   ]
  },
  {
   "cell_type": "code",
   "execution_count": 2,
   "id": "55be5fd8",
   "metadata": {},
   "outputs": [
    {
     "data": {
      "text/plain": [
       "array([[0.70710678+0.j],\n",
       "       [0.        +0.j],\n",
       "       [0.        +0.j],\n",
       "       [0.70710678+0.j]])"
      ]
     },
     "execution_count": 2,
     "metadata": {},
     "output_type": "execute_result"
    }
   ],
   "source": [
    "from geqo.simulators.numpy import simulatorStatevectorNumpy\n",
    "\n",
    "sim = simulatorStatevectorNumpy(2, 2)\n",
    "sim.apply(seq, [0, 1], [0, 1])\n",
    "sim.state"
   ]
  },
  {
   "cell_type": "markdown",
   "id": "67cb2250",
   "metadata": {},
   "source": [
    "For visualization, geqo supports several methods. In the following example, a matplotlib based visualizer is used to draw a diagram of the circuit."
   ]
  },
  {
   "cell_type": "code",
   "execution_count": 3,
   "id": "f3fc61c8",
   "metadata": {},
   "outputs": [
    {
     "data": {
      "image/png": "[encoded data removed]",
      "text/plain": [
       "<Figure size 200x200 with 1 Axes>"
      ]
     },
     "metadata": {},
     "output_type": "display_data"
    }
   ],
   "source": [
    "from geqo.visualization import plot_mpl\n",
    "\n",
    "plot_mpl(seq, backend=sim, style=\"jos_dark\")"
   ]
  },
  {
   "cell_type": "markdown",
   "id": "bbbaf52e",
   "metadata": {},
   "source": [
    "## Example: Gates with parameters\n",
    "Several gates have parameters like rotation angles. The following example shows how to define such an operation. Note that the angle in the circuit definition is a name only, i.e. it is a character string."
   ]
  },
  {
   "cell_type": "code",
   "execution_count": 1,
   "id": "dc311824",
   "metadata": {},
   "outputs": [
    {
     "name": "stdout",
     "output_type": "stream",
     "text": [
      "Sequence(['q0'], [], [(Ry(\"φ\"), ['q0'], [])])\n"
     ]
    }
   ],
   "source": [
    "from geqo.gates import Ry\n",
    "from geqo.core.quantum_circuit import Sequence\n",
    "\n",
    "seq = Sequence([\"q0\"], [], [(Ry(\"φ\"), [\"q0\"], [])])\n",
    "print(seq)"
   ]
  },
  {
   "cell_type": "markdown",
   "id": "71a4f246",
   "metadata": {},
   "source": [
    "In order to simulate a circuit with a parameterized gate it is necessary to initialize the simulator before simulating the gate. This can be done with the method ```setValue``` and the values can be adapted to the different backends, e.g. the value for a SymPy based symbolic simulator might be a symbolic expression."
   ]
  },
  {
   "cell_type": "code",
   "execution_count": 2,
   "id": "ed1cc2f0",
   "metadata": {},
   "outputs": [
    {
     "data": {
      "text/plain": [
       "array([[0.98006658+0.j],\n",
       "       [0.        +0.j],\n",
       "       [0.19866933+0.j],\n",
       "       [0.        +0.j]])"
      ]
     },
     "execution_count": 2,
     "metadata": {},
     "output_type": "execute_result"
    }
   ],
   "source": [
    "from geqo.simulators.numpy import simulatorStatevectorNumpy\n",
    "\n",
    "sim = simulatorStatevectorNumpy(2, 2)\n",
    "sim.setValue(\"φ\", 0.4)\n",
    "sim.apply(seq, [0])\n",
    "sim.state"
   ]
  }
 ],
 "metadata": {
  "kernelspec": {
   "display_name": "Python 3 (ipykernel)",
   "language": "python",
   "name": "python3"
  },
  "language_info": {
   "codemirror_mode": {
    "name": "ipython",
    "version": 3
   },
   "file_extension": ".py",
   "mimetype": "text/x-python",
   "name": "python",
   "nbconvert_exporter": "python",
   "pygments_lexer": "ipython3",
   "version": "3.12.11"
  }
 },
 "nbformat": 4,
 "nbformat_minor": 5
}

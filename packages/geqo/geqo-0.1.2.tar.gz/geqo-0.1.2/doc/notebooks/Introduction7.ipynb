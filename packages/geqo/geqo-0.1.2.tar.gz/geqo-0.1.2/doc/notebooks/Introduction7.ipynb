{
 "cells": [
  {
   "cell_type": "markdown",
   "id": "4220ed7c",
   "metadata": {},
   "source": [
    "# Conversion to OpenQASM3\n",
    "For using many API's, it is helpful to convert geqo code to the OpenQASM3 format. geqo supports the conversion of a ```Sequence``` to OpenQASM3 code with the method ```sequence_to_qasm3``` of SymPy and NumPy based simulators. The function is part of the simulators, because generating OpenQASM3 code needs the corresponding values of parameters of gates like angles or unitary matrices. These values have to be set by the methods ```setValue``` or ```prepareBackend``` before using these values."
   ]
  },
  {
   "cell_type": "code",
   "execution_count": 1,
   "id": "9de16445",
   "metadata": {},
   "outputs": [
    {
     "name": "stdout",
     "output_type": "stream",
     "text": [
      "OPENQASM 3.0; \n",
      "include 'stdgates.inc';\n",
      "qubit[2] q;\n",
      "bit[2] c;\n",
      "rx(sqrt(2)) q[0];\n",
      "x q[1];\n",
      "measure q[0] -> c[0];\n",
      "measure q[1] -> c[1];\n"
     ]
    }
   ],
   "source": [
    "import sympy as sym\n",
    "from geqo.gates.rotation_gates import Rx\n",
    "from geqo.gates import PauliX\n",
    "from geqo.core import Sequence\n",
    "from geqo.operations import Measure\n",
    "from geqo.simulators.sympy import ensembleSimulatorSymPy\n",
    "\n",
    "# Generate 2 unitary gates and one measurement.\n",
    "gate1 = Rx(\"φ\")\n",
    "gate2 = PauliX()\n",
    "meas = Measure(2)\n",
    "\n",
    "seq = Sequence(\n",
    "    [0, 1], [0, 1], [(gate1, [0], []), (gate2, [1], []), (meas, [0, 1], [0, 1])]\n",
    ")  # This sequence should be converted to OpenQASM3 code.\n",
    "\n",
    "sim = ensembleSimulatorSymPy(2, 2)  #\n",
    "sim.setValue(\n",
    "    \"φ\", sym.sqrt(2)\n",
    ")  # Set the value of the rotation angle with the name φ to a symbolic value.\n",
    "\n",
    "\n",
    "qasm = sim.sequence_to_qasm3(seq)\n",
    "print(qasm)"
   ]
  },
  {
   "cell_type": "code",
   "execution_count": null,
   "id": "5c5df2ab",
   "metadata": {},
   "outputs": [],
   "source": []
  }
 ],
 "metadata": {
  "kernelspec": {
   "display_name": "geqo",
   "language": "python",
   "name": "python3"
  },
  "language_info": {
   "codemirror_mode": {
    "name": "ipython",
    "version": 3
   },
   "file_extension": ".py",
   "mimetype": "text/x-python",
   "name": "python",
   "nbconvert_exporter": "python",
   "pygments_lexer": "ipython3",
   "version": "3.12.11"
  }
 },
 "nbformat": 4,
 "nbformat_minor": 5
}

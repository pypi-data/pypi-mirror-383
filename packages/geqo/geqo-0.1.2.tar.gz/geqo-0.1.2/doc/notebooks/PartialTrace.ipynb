{
 "cells": [
  {
   "cell_type": "markdown",
   "id": "97c7156c-e5c9-4424-a1bc-67039b4b3216",
   "metadata": {},
   "source": [
    "# Calculation of the Partial Trace"
   ]
  },
  {
   "cell_type": "markdown",
   "id": "3068dfc4-45f6-4918-a7da-4b60d24ccba5",
   "metadata": {},
   "source": [
    "## Background\n",
    "The partial trace describes the state of a multi-part quantum system after one or more of the parts are discarded. The density matrix of the remaining system is called reduced density matrix and it is calculated with the partial trace formula. For instance, the Bell state $|\\Phi^+\\rangle=\\frac{1}{\\sqrt{2}}\\left(|00\\rangle+|11\\rangle\\right)$ of two qubits leads to the fully mixed state $\\frac{1}{2}\\left(|0\\rangle \\langle 0| + |1\\rangle \\langle 1|\\right)$ for one of the qubits if the other qubit is discarded. Within geqo, discarding one ore more qubits can be achieved with the ```DropQubits``` operation. The simulator ```ensembleSimulatorSymPy``` supports the calculation of partial traces."
   ]
  },
  {
   "cell_type": "markdown",
   "id": "9cfd167d-fa3b-43c5-a8d5-9fe3f7a0370a",
   "metadata": {},
   "source": [
    "## Example without entanglement\n",
    "The following two examples shows the reduced density matrix of two qubits when there is no entanglement.\n",
    "\n",
    "In the first example, a Hadamard transform is applied to one of the qubits and the qubit gets immediately discarded after this operation."
   ]
  },
  {
   "cell_type": "code",
   "execution_count": 1,
   "id": "d031fb0c-97f3-419d-82d2-8034177f8732",
   "metadata": {},
   "outputs": [],
   "source": [
    "from geqo import Sequence\n",
    "from geqo.gates import Hadamard\n",
    "from geqo.operations import DropQubits\n",
    "from geqo.simulators.sympy import ensembleSimulatorSymPy\n",
    "\n",
    "seq = Sequence([0, 1], [], [(Hadamard(), [0], []), (DropQubits(1), [0], [])])\n",
    "sim = ensembleSimulatorSymPy(2, 0)\n",
    "sim.apply(seq, [0, 1])"
   ]
  },
  {
   "cell_type": "markdown",
   "id": "9291a32d-5d13-4d5a-9fb0-6a7ad838db8d",
   "metadata": {},
   "source": [
    "The density matrix of the system can be accessed with the member variable ```ensemble``` of the backend ```ensembleSimulatorSymPy```. It is a dictionary that contains classical bits as keys. These classical bits are empty, if no measurement was performed so far in the circuit. If there were measurements, then the bit settings correspond to the measurement results. For each bit setting, the probability of this result and the corresponding density matrix can be accessed."
   ]
  },
  {
   "cell_type": "code",
   "execution_count": 2,
   "id": "2fcadd1b-0f4e-43c1-bf6c-277eb866d8b8",
   "metadata": {},
   "outputs": [
    {
     "name": "stdout",
     "output_type": "stream",
     "text": [
      "probability = 1\n"
     ]
    },
    {
     "data": {
      "text/latex": [
       "$\\displaystyle \\left[\\begin{matrix}1 & 0\\\\0 & 0\\end{matrix}\\right]$"
      ],
      "text/plain": [
       "Matrix([\n",
       "[1, 0],\n",
       "[0, 0]])"
      ]
     },
     "metadata": {},
     "output_type": "display_data"
    }
   ],
   "source": [
    "res = sim.ensemble\n",
    "for r in res:\n",
    "    prob = res[r][0]\n",
    "    rho = res[r][1]\n",
    "    print(\"probability =\", prob)\n",
    "    display(rho)"
   ]
  },
  {
   "cell_type": "markdown",
   "id": "06a80f3d-77a3-4eeb-8de3-ac0ebe5283ff",
   "metadata": {},
   "source": [
    "The result shows that after discarding the qubit with the Hadamard gate only the initialized qubit remains.\n",
    "\n",
    "In the following example, the other qubit is discarded. "
   ]
  },
  {
   "cell_type": "code",
   "execution_count": 3,
   "id": "9b7759bd-81e8-422d-b351-b1830f833cff",
   "metadata": {},
   "outputs": [
    {
     "name": "stdout",
     "output_type": "stream",
     "text": [
      "probability = 1\n"
     ]
    },
    {
     "data": {
      "text/latex": [
       "$\\displaystyle \\left[\\begin{matrix}\\frac{1}{2} & \\frac{1}{2}\\\\\\frac{1}{2} & \\frac{1}{2}\\end{matrix}\\right]$"
      ],
      "text/plain": [
       "Matrix([\n",
       "[1/2, 1/2],\n",
       "[1/2, 1/2]])"
      ]
     },
     "metadata": {},
     "output_type": "display_data"
    }
   ],
   "source": [
    "seq = Sequence([0, 1], [], [(Hadamard(), [0], []), (DropQubits(1), [1], [])])\n",
    "sim = ensembleSimulatorSymPy(2, 0)\n",
    "sim.apply(seq, [0, 1])\n",
    "\n",
    "res = sim.ensemble\n",
    "for r in res:\n",
    "    prob = res[r][0]\n",
    "    rho = res[r][1]\n",
    "    print(\"probability =\", prob)\n",
    "    display(rho)"
   ]
  },
  {
   "cell_type": "markdown",
   "id": "fda2a028-b754-473d-b1dd-661e355cf022",
   "metadata": {},
   "source": [
    "As expected, the density matrix of the qubit with the Hadamard gate is returned. \n",
    "\n",
    "In the following example, a third qubit is in the circuit and one qubit is discarded."
   ]
  },
  {
   "cell_type": "code",
   "execution_count": 4,
   "id": "d8ed062e-480b-4e2f-8876-db6f4266999c",
   "metadata": {},
   "outputs": [
    {
     "name": "stdout",
     "output_type": "stream",
     "text": [
      "probability = 1\n"
     ]
    },
    {
     "data": {
      "text/latex": [
       "$\\displaystyle \\left[\\begin{matrix}\\frac{1}{2} & 0 & \\frac{1}{2} & 0\\\\0 & 0 & 0 & 0\\\\\\frac{1}{2} & 0 & \\frac{1}{2} & 0\\\\0 & 0 & 0 & 0\\end{matrix}\\right]$"
      ],
      "text/plain": [
       "Matrix([\n",
       "[1/2, 0, 1/2, 0],\n",
       "[  0, 0,   0, 0],\n",
       "[1/2, 0, 1/2, 0],\n",
       "[  0, 0,   0, 0]])"
      ]
     },
     "metadata": {},
     "output_type": "display_data"
    }
   ],
   "source": [
    "seq = Sequence([0, 1, 2], [], [(Hadamard(), [0], []), (DropQubits(1), [1], [])])\n",
    "sim = ensembleSimulatorSymPy(3, 0)\n",
    "sim.apply(seq, [0, 1, 2])\n",
    "\n",
    "res = sim.ensemble\n",
    "for r in res:\n",
    "    prob = res[r][0]\n",
    "    rho = res[r][1]\n",
    "    print(\"probability =\", prob)\n",
    "    display(rho)"
   ]
  },
  {
   "cell_type": "markdown",
   "id": "f6aed7f8-7223-4e11-8199-ecd6f88ee109",
   "metadata": {},
   "source": [
    "The result shows that two qubits remain and that one qubit without Hadamard gate remains.\n",
    "\n",
    "In the following example, there are three qubits and the Hadamard transform is applied to one. After this, the two other qubits are discarded."
   ]
  },
  {
   "cell_type": "code",
   "execution_count": 5,
   "id": "ca9117f1-6693-4c72-b344-74d0f54f21d3",
   "metadata": {},
   "outputs": [
    {
     "name": "stdout",
     "output_type": "stream",
     "text": [
      "probability = 1\n"
     ]
    },
    {
     "data": {
      "text/latex": [
       "$\\displaystyle \\left[\\begin{matrix}\\frac{1}{2} & \\frac{1}{2}\\\\\\frac{1}{2} & \\frac{1}{2}\\end{matrix}\\right]$"
      ],
      "text/plain": [
       "Matrix([\n",
       "[1/2, 1/2],\n",
       "[1/2, 1/2]])"
      ]
     },
     "metadata": {},
     "output_type": "display_data"
    }
   ],
   "source": [
    "seq = Sequence([0, 1, 2], [], [(Hadamard(), [0], []), (DropQubits(2), [1, 2], [])])\n",
    "sim = ensembleSimulatorSymPy(3, 0)\n",
    "sim.apply(seq, [0, 1, 2])\n",
    "\n",
    "res = sim.ensemble\n",
    "for r in res:\n",
    "    prob = res[r][0]\n",
    "    rho = res[r][1]\n",
    "    print(\"probability =\", prob)\n",
    "    display(rho)"
   ]
  },
  {
   "cell_type": "markdown",
   "id": "883a70a6-f61d-481c-a1b8-297188a8eadb",
   "metadata": {},
   "source": [
    "The result shows that just the qubit with the Hadamard transform remains."
   ]
  },
  {
   "cell_type": "markdown",
   "id": "187f4ecf-75e5-4efa-adb5-8b86adc0cc2f",
   "metadata": {},
   "source": [
    "## Example with entanglement\n",
    "In the following example, a Hadamard transform is applied to a qubit leading to a superposition of $|0\\rangle$ and $|1\\rangle$. After this, the qubit is used as a control qubit of a CNOT operation with two qubits in a row. This leads to three entangled qubits and in the following circuit one of the qubits is discarded."
   ]
  },
  {
   "cell_type": "code",
   "execution_count": 6,
   "id": "6b851a26-d056-41fa-8d2c-a7b89b0af9ad",
   "metadata": {},
   "outputs": [
    {
     "name": "stdout",
     "output_type": "stream",
     "text": [
      "probability = 1\n"
     ]
    },
    {
     "data": {
      "text/latex": [
       "$\\displaystyle \\left[\\begin{matrix}\\frac{1}{2} & 0 & 0 & 0\\\\0 & 0 & 0 & 0\\\\0 & 0 & 0 & 0\\\\0 & 0 & 0 & \\frac{1}{2}\\end{matrix}\\right]$"
      ],
      "text/plain": [
       "Matrix([\n",
       "[1/2, 0, 0,   0],\n",
       "[  0, 0, 0,   0],\n",
       "[  0, 0, 0,   0],\n",
       "[  0, 0, 0, 1/2]])"
      ]
     },
     "metadata": {},
     "output_type": "display_data"
    }
   ],
   "source": [
    "from geqo.gates import CNOT\n",
    "\n",
    "seq = Sequence(\n",
    "    [0, 1, 2],\n",
    "    [],\n",
    "    [\n",
    "        (Hadamard(), [0], []),\n",
    "        (CNOT(), [0, 1], []),\n",
    "        (CNOT(), [0, 2], []),\n",
    "        (DropQubits(1), [0], []),\n",
    "    ],\n",
    ")\n",
    "\n",
    "sim = ensembleSimulatorSymPy(3, 0)\n",
    "sim.apply(seq, [0, 1, 2])\n",
    "\n",
    "res = sim.ensemble\n",
    "for r in res:\n",
    "    prob = res[r][0]\n",
    "    rho = res[r][1]\n",
    "    print(\"probability =\", prob)\n",
    "    display(rho)"
   ]
  },
  {
   "cell_type": "markdown",
   "id": "e7123e43-bbae-41dd-8e04-ad3b87916107",
   "metadata": {},
   "source": [
    "The result is a mixed state of $|00\\rangle$ and $|11\\rangle$ as expected, because discarding one part of three entangled qubits leads to a state of the system, which is not pure, but the two remaining qubits are correlated.\n",
    "\n",
    "Finally, the following example is the same, but two qubits are discarded instead of one."
   ]
  },
  {
   "cell_type": "code",
   "execution_count": 7,
   "id": "7640f2aa-f06c-4a88-8d2c-d4f751b92d63",
   "metadata": {},
   "outputs": [
    {
     "name": "stdout",
     "output_type": "stream",
     "text": [
      "probability = 1\n"
     ]
    },
    {
     "data": {
      "text/latex": [
       "$\\displaystyle \\left[\\begin{matrix}\\frac{1}{2} & 0\\\\0 & \\frac{1}{2}\\end{matrix}\\right]$"
      ],
      "text/plain": [
       "Matrix([\n",
       "[1/2,   0],\n",
       "[  0, 1/2]])"
      ]
     },
     "metadata": {},
     "output_type": "display_data"
    }
   ],
   "source": [
    "seq = Sequence(\n",
    "    [0, 1, 2],\n",
    "    [],\n",
    "    [\n",
    "        (Hadamard(), [0], []),\n",
    "        (CNOT(), [0, 1], []),\n",
    "        (CNOT(), [0, 2], []),\n",
    "        (DropQubits(2), [0, 1], []),\n",
    "    ],\n",
    ")\n",
    "\n",
    "sim = ensembleSimulatorSymPy(3, 0)\n",
    "sim.apply(seq, [0, 1, 2])\n",
    "\n",
    "res = sim.ensemble\n",
    "for r in res:\n",
    "    prob = res[r][0]\n",
    "    rho = res[r][1]\n",
    "    print(\"probability =\", prob)\n",
    "    display(rho)"
   ]
  },
  {
   "cell_type": "markdown",
   "id": "fd2ff922-f1e8-4ffc-8993-6c9c1bc35d3f",
   "metadata": {},
   "source": [
    "The result is a qubit with a fully mixed state."
   ]
  }
 ],
 "metadata": {
  "kernelspec": {
   "display_name": "geqo",
   "language": "python",
   "name": "python3"
  },
  "language_info": {
   "codemirror_mode": {
    "name": "ipython",
    "version": 3
   },
   "file_extension": ".py",
   "mimetype": "text/x-python",
   "name": "python",
   "nbconvert_exporter": "python",
   "pygments_lexer": "ipython3",
   "version": "3.12.11"
  }
 },
 "nbformat": 4,
 "nbformat_minor": 5
}

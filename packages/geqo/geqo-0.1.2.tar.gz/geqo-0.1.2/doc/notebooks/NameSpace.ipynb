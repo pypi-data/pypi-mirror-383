{
 "cells": [
  {
   "cell_type": "markdown",
   "id": "d7268cd5-685b-4b1e-bae3-454c0e4e4078",
   "metadata": {},
   "source": [
    "# Name Space Prefixes "
   ]
  },
  {
   "cell_type": "markdown",
   "id": "a886512e-2b17-41fa-a103-bca06ebb0b64",
   "metadata": {},
   "source": [
    "## Background\n",
    "Several pre-defined gates in geqo are composed of other gates. For instance, the QFT uses internally several ```Phase``` gates, which have the names ```Ph1``` and ```Ph2```. These names are set with the ```prepareBackend``` function automatically to pre-defined values within a backend. \n",
    "\n",
    "Setting names to specific values might lead to conflicts if different gates are already using the same names. Note that there is no check if a name is already in use and there is no automatic creation of names, which are guaranteed to be free of conflicts with  previously defined gates. \n",
    "\n",
    "To avoid naming conflicts, the gates in geqo, which make use of internal names, support the definition of a name space prefix. The prefix is automatically prepended to all definitions and this allows to resolve conflicts with names."
   ]
  },
  {
   "cell_type": "markdown",
   "id": "9a44902c-8c13-4942-932f-d05dca8e010c",
   "metadata": {},
   "source": [
    "## Gates with name space prefix support in geqo\n",
    "\n",
    "A name space prefix can be provided for the following unitary gates in geqo:\n",
    "\n",
    "- InversePCCM\n",
    "- InverseQFT\n",
    "- PCCM\n",
    "- Toffoli\n",
    "- QFT"
   ]
  },
  {
   "cell_type": "markdown",
   "id": "fc549745-2741-41e3-9a60-d6dbba29776c",
   "metadata": {},
   "source": [
    "## Example: QFT\n",
    "\n",
    "A QFT gate can be created with ```QFT(n, prefix)```. Here, ```n``` denotes the number of qubits for the gate and ```prefix``` is a character string that is prepended to all definitions of QFT components."
   ]
  },
  {
   "cell_type": "markdown",
   "id": "8b5426d8-44ab-45dd-9084-e196ccbcf848",
   "metadata": {},
   "source": [
    "### QFT without a name space prefix\n",
    "In this example, the QFT is used without name space. The internally used names are then ```Ph1``` and ```Ph2```."
   ]
  },
  {
   "cell_type": "code",
   "execution_count": 1,
   "id": "a2b9a8da-9c45-434a-a38b-a19a381efb8f",
   "metadata": {},
   "outputs": [
    {
     "name": "stdout",
     "output_type": "stream",
     "text": [
      "QFT(3, \"\")\n",
      "Sequence([], [0, 1, 2], [(Hadamard(), [0]), (QuantumControl([1], Phase(\"Ph1\")), [1, 0]), (QuantumControl([1], Phase(\"Ph2\")), [2, 0]), (Hadamard(), [1]), (QuantumControl([1], Phase(\"Ph1\")), [2, 1]), (Hadamard(), [2]), (QubitReversal(3), [0, 1, 2])])\n"
     ]
    }
   ],
   "source": [
    "from geqo.algorithms import QFT\n",
    "\n",
    "nQubits = 3\n",
    "\n",
    "qft1 = QFT(nQubits, \"\")\n",
    "print(qft1)\n",
    "print(qft1.getEquivalentSequence())"
   ]
  },
  {
   "cell_type": "markdown",
   "id": "20c14ba9-a260-4b3a-9991-7f2aa45dfba5",
   "metadata": {},
   "source": [
    "### QFT with a name space prefix\n",
    "With the definition of a name space prefix, e.g., \"Tester.\", the names ```Ph1``` and ```Ph2``` are prepend by the prefix, i.e. the internally used names are ```Tester.Ph1``` and ```Tester.Ph2```."
   ]
  },
  {
   "cell_type": "code",
   "execution_count": 2,
   "id": "b018c475-e190-4250-9304-23cef77104a2",
   "metadata": {},
   "outputs": [
    {
     "name": "stdout",
     "output_type": "stream",
     "text": [
      "QFT(3, \"Tester.\")\n",
      "Sequence([], [0, 1, 2], [(Hadamard(), [0]), (QuantumControl([1], Phase(\"Tester.Ph1\")), [1, 0]), (QuantumControl([1], Phase(\"Tester.Ph2\")), [2, 0]), (Hadamard(), [1]), (QuantumControl([1], Phase(\"Tester.Ph1\")), [2, 1]), (Hadamard(), [2]), (QubitReversal(3), [0, 1, 2])])\n"
     ]
    }
   ],
   "source": [
    "qft2 = QFT(nQubits, \"Tester.\")\n",
    "print(qft2)\n",
    "print(qft2.getEquivalentSequence())"
   ]
  },
  {
   "cell_type": "markdown",
   "id": "7b8971ea-e66f-4e6c-9df9-6c72ac1267e3",
   "metadata": {},
   "source": [
    "### Simulation of gates with name space prefixes\n",
    "As an example, we apply the two QFT's as defined in the previous examples sequentially with the simulator ```simulatorUnitarySymPy```. All names ```Ph1```, ```Ph2```, ```Tester.Ph1``` and ```Tester.Ph2``` are available after using the function ```prepareBackend```. The sequential application of both QFT gates leads to the expected bit reversal permutation."
   ]
  },
  {
   "cell_type": "code",
   "execution_count": 3,
   "id": "bec61322-a416-434c-ab37-87ee04626ae3",
   "metadata": {},
   "outputs": [
    {
     "name": "stdout",
     "output_type": "stream",
     "text": [
      "{'Ph1': pi/2, 'Ph2': pi/4, 'Tester.Ph1': pi/2, 'Tester.Ph2': pi/4}\n"
     ]
    },
    {
     "data": {
      "text/latex": [
       "$\\displaystyle \\left[\\begin{matrix}1 & 0 & 0 & 0 & 0 & 0 & 0 & 0\\\\0 & 0 & 0 & 0 & 0 & 0 & 0 & 1\\\\0 & 0 & 0 & 0 & 0 & 0 & 1 & 0\\\\0 & 0 & 0 & 0 & 0 & 1 & 0 & 0\\\\0 & 0 & 0 & 0 & 1 & 0 & 0 & 0\\\\0 & 0 & 0 & 1 & 0 & 0 & 0 & 0\\\\0 & 0 & 1 & 0 & 0 & 0 & 0 & 0\\\\0 & 1 & 0 & 0 & 0 & 0 & 0 & 0\\end{matrix}\\right]$"
      ],
      "text/plain": [
       "Matrix([\n",
       "[1, 0, 0, 0, 0, 0, 0, 0],\n",
       "[0, 0, 0, 0, 0, 0, 0, 1],\n",
       "[0, 0, 0, 0, 0, 0, 1, 0],\n",
       "[0, 0, 0, 0, 0, 1, 0, 0],\n",
       "[0, 0, 0, 0, 1, 0, 0, 0],\n",
       "[0, 0, 0, 1, 0, 0, 0, 0],\n",
       "[0, 0, 1, 0, 0, 0, 0, 0],\n",
       "[0, 1, 0, 0, 0, 0, 0, 0]])"
      ]
     },
     "metadata": {},
     "output_type": "display_data"
    }
   ],
   "source": [
    "from geqo.simulators.sympy import simulatorUnitarySymPy\n",
    "\n",
    "sim = simulatorUnitarySymPy(nQubits)\n",
    "sim.prepareBackend([qft1, qft2])\n",
    "print(sim.values)\n",
    "sim.apply(qft1, [0, 1, 2])\n",
    "sim.apply(qft2, [0, 1, 2])\n",
    "display(sim.u)"
   ]
  }
 ],
 "metadata": {
  "kernelspec": {
   "display_name": "Python 3 (ipykernel)",
   "language": "python",
   "name": "python3"
  },
  "language_info": {
   "codemirror_mode": {
    "name": "ipython",
    "version": 3
   },
   "file_extension": ".py",
   "mimetype": "text/x-python",
   "name": "python",
   "nbconvert_exporter": "python",
   "pygments_lexer": "ipython3",
   "version": "3.12.11"
  }
 },
 "nbformat": 4,
 "nbformat_minor": 5
}

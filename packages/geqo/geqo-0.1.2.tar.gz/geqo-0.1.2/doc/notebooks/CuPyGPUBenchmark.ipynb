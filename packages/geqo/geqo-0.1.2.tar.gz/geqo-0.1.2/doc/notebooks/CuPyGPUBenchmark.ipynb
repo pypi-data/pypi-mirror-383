{
 "cells": [
  {
   "cell_type": "markdown",
   "metadata": {
    "id": "-DOlXwouKMsN"
   },
   "source": [
    "# Benchmarking Risk Model Simulations"
   ]
  },
  {
   "cell_type": "markdown",
   "metadata": {
    "id": "jF1w2H6MLXuI"
   },
   "source": [
    "## Generate Quantum Risk Models\n",
    "We create two sets of quantum risk model circuits---one with lower risk item counts (2 - 6) the other with higher counts (7-13). The quantum risk models are used for benchmarking different quantum simulators---Qiskit `AerSimulator`, geqo `simulatorStatevectorNumpy`, and geqo `statevectorSimulatorCuPy`."
   ]
  },
  {
   "cell_type": "code",
   "execution_count": 5,
   "metadata": {
    "id": "v2JGxnwbKFYK"
   },
   "outputs": [],
   "source": [
    "import numpy as np\n",
    "from itertools import combinations\n",
    "from geqo.algorithms import RiskModel\n",
    "\n",
    "\n",
    "def generate_prob_model(n, num_edges=None, node_prefix=\"N\"):\n",
    "    np.random.seed(10)\n",
    "    if n < 1:\n",
    "        raise ValueError(\"Number of nodes must be at least 1\")\n",
    "\n",
    "    # Generate node labels (e.g., N0, N1, ..., or A, B, ...)\n",
    "    if node_prefix.isalpha() and len(node_prefix) == 1:\n",
    "        # Use letters if n <= 26 and prefix is a letter\n",
    "        if n <= 26:\n",
    "            nodes = [chr(ord(node_prefix) + i) for i in range(n)]\n",
    "        else:\n",
    "            nodes = [f\"{node_prefix}{i}\" for i in range(n)]\n",
    "    else:\n",
    "        nodes = [f\"{node_prefix}{i}\" for i in range(n)]\n",
    "\n",
    "    # Generate random intrinsic probabilities for each node\n",
    "    probsNodes = {node: np.random.uniform(0, 1) for node in nodes}\n",
    "\n",
    "    # Default number of edges: floor(n/2), or user-specified\n",
    "    if num_edges is None:\n",
    "        num_edges = n - 1  # Integer division for floor(n/2)\n",
    "    num_edges = min(\n",
    "        num_edges, n * (n - 1)\n",
    "    )  # Max possible directed edges without self-loops\n",
    "\n",
    "    if num_edges < 0:\n",
    "        raise ValueError(\"Number of edges cannot be negative\")\n",
    "\n",
    "    # Generate random edges\n",
    "    possible_edges = list(\n",
    "        combinations(nodes, 2)\n",
    "    )  # All possible directed pairs (A,B), (A,C), ...\n",
    "    np.random.shuffle(possible_edges)  # Randomize edge order\n",
    "    selected_edges = possible_edges[:num_edges]\n",
    "\n",
    "    # Generate random transition probabilities for selected edges\n",
    "    probsEdges = {(src, tgt): np.random.uniform(0, 1) for src, tgt in selected_edges}\n",
    "\n",
    "    return probsNodes, probsEdges\n",
    "\n",
    "\n",
    "# Create risk models with # of items from 2 to 5\n",
    "instances = []\n",
    "for n in range(2, 6):\n",
    "    probsNodes, probsEdges = generate_prob_model(n, num_edges=None, node_prefix=\"N\")\n",
    "    instances.append((probsNodes, probsEdges))\n",
    "seq_cv = []\n",
    "for node_probs, edge_probs in instances:\n",
    "    seq, cv = RiskModel(node_probs=node_probs, edge_probs=edge_probs)\n",
    "    seq_cv.append((seq, cv))\n",
    "\n",
    "# Create risk models with # of items from 6 to 13\n",
    "instances = []\n",
    "instances2 = []\n",
    "for n in range(6, 14):\n",
    "    probsNodes, probsEdges = generate_prob_model(n, num_edges=None, node_prefix=\"N\")\n",
    "    instances2.append((probsNodes, probsEdges))\n",
    "seq_cv2 = []\n",
    "for node_probs, edge_probs in instances2:\n",
    "    seq, cv = RiskModel(node_probs=node_probs, edge_probs=edge_probs)\n",
    "    seq_cv2.append((seq, cv))"
   ]
  },
  {
   "cell_type": "markdown",
   "metadata": {
    "id": "PIkQNASWLZMr"
   },
   "source": [
    "## Construct Grover operators based on the quantum risk models"
   ]
  },
  {
   "cell_type": "code",
   "execution_count": 6,
   "metadata": {
    "id": "eJS8BCwMKT2k"
   },
   "outputs": [],
   "source": [
    "from geqo.operations import QuantumControl\n",
    "from geqo.gates import PauliX, PauliZ\n",
    "from geqo.core import Sequence\n",
    "from geqo.utils import embedSequences\n",
    "\n",
    "\n",
    "def grover_op(seq):\n",
    "    n = len(seq.qubits)\n",
    "    seqList = [\n",
    "        (\n",
    "            QuantumControl([1] * (n - 1), PauliZ()),\n",
    "            [f\"{i}\" for i in range(n)],\n",
    "            [],\n",
    "        ),  # mark 11111 state\n",
    "        (seq.getInverse(), [f\"{i}\" for i in range(n)], []),  # inverse operator\n",
    "        (PauliX(), [\"0\"], []),  # the global -1\n",
    "        (PauliZ(), [\"0\"], []),\n",
    "        (PauliX(), [\"0\"], []),\n",
    "        (PauliZ(), [\"0\"], []),\n",
    "        (PauliX(), [\"0\"], []),  # Phase -1 on 0000 only, 1 else\n",
    "        (\n",
    "            QuantumControl([0] * (n - 1), PauliZ()),\n",
    "            [f\"{i}\" for i in range(1, n)] + [\"0\"],\n",
    "            [],\n",
    "        ),\n",
    "        (PauliX(), [\"0\"], []),\n",
    "        (seq, [f\"{i}\" for i in range(n)], []),  # the operator\n",
    "    ]\n",
    "\n",
    "    grov = Sequence(\n",
    "        seq.qubits, seq.bits, seqList\n",
    "    )  # Create the Grover operator as Sequence\n",
    "    return embedSequences(grov)\n",
    "\n",
    "\n",
    "grovs = [grover_op(seq) for seq, _ in seq_cv]\n",
    "grovs2 = [grover_op(seq) for seq, _ in seq_cv2]"
   ]
  },
  {
   "cell_type": "markdown",
   "metadata": {
    "id": "cwg7EvmSLcya"
   },
   "source": [
    "## Create different powers of Grover operators\n",
    "We need to raise the Grover operators to different powers in the QAE circuit."
   ]
  },
  {
   "cell_type": "code",
   "execution_count": 7,
   "metadata": {
    "id": "zf6dLEq9KYo4"
   },
   "outputs": [],
   "source": [
    "# raise Grover operators to different powers and store them in lists\n",
    "pows = []\n",
    "for n in range(2, 6):\n",
    "    pow1 = Sequence(\n",
    "        [f\"{i}\" for i in range(n)], [], [(grovs[n - 2], [f\"{i}\" for i in range(n)], [])]\n",
    "    )\n",
    "    pows_n = [embedSequences(pow1)]\n",
    "    for _ in range(6):\n",
    "        pow = Sequence(\n",
    "            [f\"{i}\" for i in range(n)],\n",
    "            [],\n",
    "            [\n",
    "                (pows_n[-1], [f\"{i}\" for i in range(n)], []),\n",
    "                (pows_n[-1], [f\"{i}\" for i in range(n)], []),\n",
    "            ],\n",
    "        )\n",
    "        pows_n.append(embedSequences(pow))\n",
    "    pows.append(pows_n)\n",
    "pows2 = []\n",
    "for n in range(6, 14):\n",
    "    pow1 = Sequence(\n",
    "        [f\"{i}\" for i in range(n)],\n",
    "        [],\n",
    "        [(grovs2[n - 6], [f\"{i}\" for i in range(n)], [])],\n",
    "    )\n",
    "    pows_n = [embedSequences(pow1)]\n",
    "    for _ in range(6):\n",
    "        pow = Sequence(\n",
    "            [f\"{i}\" for i in range(n)],\n",
    "            [],\n",
    "            [\n",
    "                (pows_n[-1], [f\"{i}\" for i in range(n)], []),\n",
    "                (pows_n[-1], [f\"{i}\" for i in range(n)], []),\n",
    "            ],\n",
    "        )\n",
    "        pows_n.append(embedSequences(pow))\n",
    "    pows2.append(pows_n)"
   ]
  },
  {
   "cell_type": "markdown",
   "metadata": {
    "id": "GYjz4pQTLgdn"
   },
   "source": [
    "## Build QAE circuits"
   ]
  },
  {
   "cell_type": "code",
   "execution_count": 9,
   "metadata": {
    "id": "k4A6SjdRKmbZ"
   },
   "outputs": [],
   "source": [
    "from geqo.gates import Hadamard\n",
    "from geqo.operations import Measure\n",
    "from geqo.algorithms import InverseQFT\n",
    "\n",
    "# Build QAE circuits\n",
    "qaes = []\n",
    "for n in range(2, 6):\n",
    "    qft = InverseQFT(7)\n",
    "    seq = seq_cv[n - 2][0]\n",
    "    pow = pows[n - 2]\n",
    "    gatesAndTargets = []\n",
    "    for i in range(7):\n",
    "        gatesAndTargets.append((Hadamard(), [f\"p{i}\"], []))\n",
    "\n",
    "    gatesAndTargets.append((seq, [f\"{i}\" for i in range(n)], []))\n",
    "    for j in reversed(range(7)):\n",
    "        for gnt in pow[j].gatesAndTargets:\n",
    "            if isinstance(gnt[0], QuantumControl):\n",
    "                gate = QuantumControl([1] + gnt[0].onoff, gnt[0].qop)\n",
    "                gatesAndTargets.append((gate, [f\"p{6 - j}\"] + gnt[1], []))\n",
    "            else:\n",
    "                gate = QuantumControl([1], gnt[0])\n",
    "                gatesAndTargets.append((gate, [f\"p{6 - j}\"] + gnt[1], []))\n",
    "    gatesAndTargets.append((qft, [\"p0\", \"p1\", \"p2\", \"p3\", \"p4\", \"p5\", \"p6\"], []))\n",
    "    gatesAndTargets.append(\n",
    "        (Measure(7), [f\"p{i}\" for i in range(7)], [0, 1, 2, 3, 4, 5, 6])\n",
    "    )\n",
    "    seq2 = Sequence(\n",
    "        [\"p0\", \"p1\", \"p2\", \"p3\", \"p4\", \"p5\", \"p6\"] + [f\"{i}\" for i in range(n)],\n",
    "        [*range(7)],\n",
    "        gatesAndTargets,\n",
    "    )\n",
    "    qaes.append(embedSequences(seq2))\n",
    "\n",
    "qaes2 = []\n",
    "for n in range(6, 14):\n",
    "    qft = InverseQFT(7)\n",
    "    seq = seq_cv2[n - 6][0]\n",
    "    pow = pows2[n - 6]\n",
    "    gatesAndTargets = []\n",
    "    for i in range(7):\n",
    "        gatesAndTargets.append((Hadamard(), [f\"p{i}\"], []))\n",
    "\n",
    "    gatesAndTargets.append((seq, [f\"{i}\" for i in range(n)], []))\n",
    "    for j in reversed(range(7)):\n",
    "        for gnt in pow[j].gatesAndTargets:\n",
    "            if isinstance(gnt[0], QuantumControl):\n",
    "                gate = QuantumControl([1] + gnt[0].onoff, gnt[0].qop)\n",
    "                gatesAndTargets.append((gate, [f\"p{6 - j}\"] + gnt[1], []))\n",
    "            else:\n",
    "                gate = QuantumControl([1], gnt[0])\n",
    "                gatesAndTargets.append((gate, [f\"p{6 - j}\"] + gnt[1], []))\n",
    "    gatesAndTargets.append((qft, [\"p0\", \"p1\", \"p2\", \"p3\", \"p4\", \"p5\", \"p6\"], []))\n",
    "    gatesAndTargets.append(\n",
    "        (Measure(7), [f\"p{i}\" for i in range(7)], [0, 1, 2, 3, 4, 5, 6])\n",
    "    )\n",
    "    seq2 = Sequence(\n",
    "        [\"p0\", \"p1\", \"p2\", \"p3\", \"p4\", \"p5\", \"p6\"] + [f\"{i}\" for i in range(n)],\n",
    "        [*range(7)],\n",
    "        gatesAndTargets,\n",
    "    )\n",
    "    qaes2.append(embedSequences(seq2))"
   ]
  },
  {
   "cell_type": "markdown",
   "metadata": {
    "id": "Aum1ZnCMLjiM"
   },
   "source": [
    "## Benchmark Risk Models with Cupy*/Numpy statevector simulators and Qiskit AerSimulator\n",
    "*The Cupy benchmark is executed with the T4 GPU on Google Colab."
   ]
  },
  {
   "cell_type": "code",
   "execution_count": null,
   "metadata": {
    "colab": {
     "base_uri": "https://localhost:8080/"
    },
    "id": "aTqGK8p3KxdW",
    "outputId": "c9d44b98-3708-4522-a3ed-9a9d37c9a8dd"
   },
   "outputs": [
    {
     "name": "stdout",
     "output_type": "stream",
     "text": [
      "2 risk items --- AerSimulator runtime: 12.9060s, AerSimulator RAM used: 23.21 MB\n",
      "2 risk items --- NumPy runtime: 9.9349s, Numpy RAM used: 0.13 MB\n",
      "2 risk items --- cupy runtime: 7.6551s, Cupy GPU memory used: 0.01 MB (0.0%)\n",
      "3 risk items --- AerSimulator runtime: 178.1314s, AerSimulator RAM used: 114.24 MB\n",
      "3 risk items --- NumPy runtime: 27.2260s, Numpy RAM used: 0.00 MB\n",
      "3 risk items --- cupy runtime: 4.4133s, Cupy GPU memory used: 0.02 MB (0.0%)\n",
      "4 risk items --- AerSimulator runtime: 374.9958s, AerSimulator RAM used: 41.94 MB\n",
      "4 risk items --- NumPy runtime: 65.6965s, Numpy RAM used: 0.00 MB\n",
      "4 risk items --- cupy runtime: 4.8452s, Cupy GPU memory used: 0.04 MB (0.0%)\n",
      "5 risk items --- AerSimulator runtime: 811.7222s, AerSimulator RAM used: 4.20 MB\n",
      "5 risk items --- NumPy runtime: 184.5879s, Numpy RAM used: 0.13 MB\n",
      "5 risk items --- cupy runtime: 4.2080s, Cupy GPU memory used: 0.07 MB (0.0%)\n"
     ]
    }
   ],
   "source": [
    "from geqo.simulators import statevectorSimulatorCuPy, simulatorStatevectorNumpy\n",
    "from geqo.utils import cupyWarmup\n",
    "from qiskit import transpile\n",
    "from qiskit.qasm3 import loads\n",
    "from qiskit_aer import AerSimulator\n",
    "import cupy as cp\n",
    "import time\n",
    "import psutil\n",
    "import os\n",
    "\n",
    "process = psutil.Process(os.getpid())\n",
    "cupyWarmup()  # warm up the CUDA driver\n",
    "\n",
    "qiskit_time = []\n",
    "numpy_time = []\n",
    "cupy_time = []\n",
    "for n in range(2, 6):\n",
    "    cv = seq_cv[n - 2][1]\n",
    "    seq = qaes[n - 2]\n",
    "\n",
    "    # AerSimulator\n",
    "    s = simulatorStatevectorNumpy(7 + n, 7)\n",
    "    for c in cv:\n",
    "        s.setValue(c, cv[c])\n",
    "    s.prepareBackend([qft])\n",
    "\n",
    "    code = s.sequence_to_qasm3(seq)\n",
    "    qc = loads(code)\n",
    "    qc.save_probabilities(qubits=[*range(7)])\n",
    "    sim_aer = AerSimulator()\n",
    "\n",
    "    mem_before = process.memory_info().rss\n",
    "    qiskit_start = time.time()\n",
    "    qc_t = transpile(qc, sim_aer)\n",
    "    result = sim_aer.run(qc_t).result()\n",
    "    qiskit_end = time.time()\n",
    "    mem_after = process.memory_info().rss\n",
    "    mem_used = (mem_after - mem_before) / 1e6  # MB\n",
    "    print(\n",
    "        f\"{n} risk items --- AerSimulator runtime: {qiskit_end - qiskit_start:.4f}s, \"\n",
    "        f\"AerSimulator RAM used: {mem_used:.2f} MB\"\n",
    "    )\n",
    "    qiskit_time.append(qiskit_end - qiskit_start)\n",
    "\n",
    "    # Numpy simulator\n",
    "    sim_np = simulatorStatevectorNumpy(7 + n, 7)\n",
    "    for c in cv:\n",
    "        sim_np.setValue(c, cv[c])\n",
    "    sim_np.prepareBackend([qft])\n",
    "\n",
    "    mem_before = process.memory_info().rss\n",
    "    numpy_start = time.time()\n",
    "    sim_np.apply(seq, [*range(7 + n)], [*range(7)])\n",
    "    numpy_end = time.time()\n",
    "    mem_after = process.memory_info().rss\n",
    "    mem_used = (mem_after - mem_before) / 1e6\n",
    "\n",
    "    print(\n",
    "        f\"{n} risk items --- NumPy runtime: {numpy_end - numpy_start:.4f}s, \"\n",
    "        f\"Numpy RAM used: {mem_used:.2f} MB\"\n",
    "    )\n",
    "    numpy_time.append(numpy_end - numpy_start)\n",
    "\n",
    "    # Cupy simulator\n",
    "    sim_cp = statevectorSimulatorCuPy(7 + n, 7)\n",
    "    for c in cv:\n",
    "        sim_cp.setValue(c, cv[c])\n",
    "    sim_cp.prepareBackend([qft])\n",
    "\n",
    "    cp._default_memory_pool.free_all_blocks()\n",
    "\n",
    "    cupy_start = time.time()\n",
    "    sim_cp.apply(seq, [*range(7 + n)], [*range(7)])\n",
    "    cupy_end = time.time()\n",
    "\n",
    "    mem_allocated = cp.get_default_memory_pool().used_bytes()\n",
    "    mem_total = cp.cuda.Device(0).mem_info[1]  # total GPU memory\n",
    "    mem_used_percent = mem_allocated / mem_total * 100\n",
    "\n",
    "    print(\n",
    "        f\"{n} risk items --- cupy runtime: {cupy_end - cupy_start:.4f}s, \"\n",
    "        f\"Cupy GPU memory used: {mem_allocated / 1e6:.2f} MB ({mem_used_percent:.1f}%)\"\n",
    "    )\n",
    "    cupy_time.append(cupy_end - cupy_start)"
   ]
  },
  {
   "cell_type": "code",
   "execution_count": 12,
   "metadata": {
    "colab": {
     "base_uri": "https://localhost:8080/",
     "height": 466
    },
    "id": "EuoieVc1K647",
    "outputId": "8c62ed59-d40a-41f4-b871-1e4336bcffd5"
   },
   "outputs": [
    {
     "data": {
      "text/plain": [
       "<matplotlib.legend.Legend at 0x7904a94a0e90>"
      ]
     },
     "execution_count": 12,
     "metadata": {},
     "output_type": "execute_result"
    },
    {
     "data": {
      "image/png": "[encoded data removed]",
      "text/plain": [
       "<Figure size 640x480 with 1 Axes>"
      ]
     },
     "metadata": {},
     "output_type": "display_data"
    }
   ],
   "source": [
    "import matplotlib.pyplot as plt\n",
    "\n",
    "plt.plot(range(2, 6), qiskit_time, label=\"Aer\", marker=\"s\", color=\"mediumblue\")\n",
    "plt.plot(range(2, 6), numpy_time, label=\"numpy\", marker=\"^\", color=\"blueviolet\")\n",
    "plt.plot(range(2, 6), cupy_time, label=\"cupy\", marker=\"h\", color=\"cyan\")\n",
    "plt.xlabel(\"# of risk items\")\n",
    "plt.xticks([2, 3, 4, 5])\n",
    "plt.ylabel(\"runtime [s]\")\n",
    "plt.legend()"
   ]
  },
  {
   "cell_type": "code",
   "execution_count": null,
   "metadata": {
    "colab": {
     "base_uri": "https://localhost:8080/"
    },
    "id": "H2HBbTlsLA3A",
    "outputId": "dc112e56-cfdb-49fa-8bbf-b1790ab0790d"
   },
   "outputs": [
    {
     "name": "stdout",
     "output_type": "stream",
     "text": [
      "6 risk items --- cupy runtime: 5.414300203323364s\n",
      "GPU memory used: 0.21 MB (0.0%)\n",
      "7 risk items --- cupy runtime: 7.646087408065796s\n",
      "GPU memory used: 0.35 MB (0.0%)\n",
      "8 risk items --- cupy runtime: 7.833507061004639s\n",
      "GPU memory used: 0.61 MB (0.0%)\n",
      "9 risk items --- cupy runtime: 11.382660865783691s\n",
      "GPU memory used: 1.14 MB (0.0%)\n",
      "10 risk items --- cupy runtime: 8.12359619140625s\n",
      "GPU memory used: 2.18 MB (0.0%)\n",
      "11 risk items --- cupy runtime: 18.57967519760132s\n",
      "GPU memory used: 4.28 MB (0.0%)\n",
      "12 risk items --- cupy runtime: 60.897520542144775s\n",
      "GPU memory used: 8.48 MB (0.1%)\n",
      "13 risk items --- cupy runtime: 190.85037183761597s\n",
      "GPU memory used: 16.87 MB (0.1%)\n"
     ]
    }
   ],
   "source": [
    "cupy_time2 = []\n",
    "for n in range(6, 14):\n",
    "    cv = seq_cv2[n - 6][1]\n",
    "    seq2 = qaes2[n - 6]\n",
    "\n",
    "    sim2 = statevectorSimulatorCuPy(7 + n, 7)\n",
    "    for c in cv:\n",
    "        sim2.setValue(c, cv[c])\n",
    "    sim2.prepareBackend([qft])\n",
    "\n",
    "    cp._default_memory_pool.free_all_blocks()\n",
    "\n",
    "    cupy_start = time.time()\n",
    "    sim2.apply(seq2, [*range(7 + n)], [*range(7)])\n",
    "    cupy_end = time.time()\n",
    "\n",
    "    mem_allocated = cp.get_default_memory_pool().used_bytes()\n",
    "    mem_total = cp.cuda.Device(0).mem_info[1]\n",
    "    mem_used_percent = mem_allocated / mem_total * 100\n",
    "\n",
    "    print(f\"{n} risk items --- cupy runtime: {cupy_end - cupy_start}s\")\n",
    "    print(f\"GPU memory used: {mem_allocated / 1e6:.2f} MB ({mem_used_percent:.1f}%)\")\n",
    "    cupy_time2.append(cupy_end - cupy_start)"
   ]
  },
  {
   "cell_type": "code",
   "execution_count": 14,
   "metadata": {
    "colab": {
     "base_uri": "https://localhost:8080/",
     "height": 489
    },
    "id": "UQzsKwMuLGv4",
    "outputId": "3576ff08-d1c5-43e4-9d50-dc65a7bc5933"
   },
   "outputs": [
    {
     "data": {
      "text/plain": [
       "Text(0.5, 1.0, 'CuPy statevector simulator scalability')"
      ]
     },
     "execution_count": 14,
     "metadata": {},
     "output_type": "execute_result"
    },
    {
     "data": {
      "image/png": "[encoded data removed]",
      "text/plain": [
       "<Figure size 640x480 with 1 Axes>"
      ]
     },
     "metadata": {},
     "output_type": "display_data"
    }
   ],
   "source": [
    "fig, ax = plt.subplots()\n",
    "ax.plot(range(2, 14), cupy_time + cupy_time2, marker=\"h\", color=\"cyan\")\n",
    "ax.set_xlabel(\"# of risk items\")\n",
    "ax.set_xticks([*range(2, 14)])\n",
    "ax.set_ylabel(\"runtime [s]\")\n",
    "ax.set_title(\"CuPy statevector simulator scalability\")"
   ]
  },
  {
   "cell_type": "code",
   "execution_count": null,
   "metadata": {},
   "outputs": [],
   "source": []
  }
 ],
 "metadata": {
  "accelerator": "GPU",
  "colab": {
   "gpuType": "T4",
   "provenance": []
  },
  "kernelspec": {
   "display_name": "geqo",
   "language": "python",
   "name": "python3"
  },
  "language_info": {
   "codemirror_mode": {
    "name": "ipython",
    "version": 3
   },
   "file_extension": ".py",
   "mimetype": "text/x-python",
   "name": "python",
   "nbconvert_exporter": "python",
   "pygments_lexer": "ipython3",
   "version": "3.12.11"
  }
 },
 "nbformat": 4,
 "nbformat_minor": 0
}

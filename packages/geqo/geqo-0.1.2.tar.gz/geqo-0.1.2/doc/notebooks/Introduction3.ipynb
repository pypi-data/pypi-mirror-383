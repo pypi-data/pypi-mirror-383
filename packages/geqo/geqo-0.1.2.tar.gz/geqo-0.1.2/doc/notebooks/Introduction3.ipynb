{
 "cells": [
  {
   "cell_type": "markdown",
   "id": "fc225b08",
   "metadata": {},
   "source": [
    "# Additional unitary gates\n",
    "Besides the gates, which are presented in the previous secion, geqo also has additional unitary gates, which are internally decomposed into a sequence of the elementary gates above are the following:\n",
    "- PCCM and InversePCCM\n",
    "- PermuteQubits\n",
    "- QFT and InverseQFT\n",
    "- QubitReversal\n",
    "- Toffoli\n",
    " \n",
    "Some of the gates of the internally used sequences have parameters, e.g. `QFT` uses internally a phase gate `Phase(\"Ph1\")`. For a simulator, the value corresponding to the name of the phase can be set with the function `prepareBackend` of the simulator. However, if there are several instances of `QFT` with different numbers of qubits, then `Phase(\"Ph1\")` does not necessarily correspond to the same value in all cases. To avoid this problem, a name space prefix can be provided to the relevant gates, e.g. `QFT(2,\"prefix.\")` leads to the internal name `prefix.Ph1` instead of `Ph1`.\n",
    "\n",
    "More information on the usage of name spaces can be found in the corresponding tutorial in section 3.1."
   ]
  },
  {
   "cell_type": "markdown",
   "id": "044fe07f",
   "metadata": {},
   "source": [
    "## PCCM and InversePCCM\n",
    "The PCCM is the Phase-Covariant Cloning Machine and it can be used to clone a qubit approximately. The structure of the circuit, the meaning of the parameter and the application of the circuit can be found in T. Decker, M. Gallezot, S. F. Kerstan, A. Paesano, A. Ginter, W. Wormsbecher, “QKD as a Quantum Machine Learning task”, [arXiv:2410.01904](https://arxiv.org/abs/2410.01904).\n",
    "\n",
    "The PCCM and its inverse are internally composed of several other gates, including rotation gates. Therefore, the method ```prepareBackend``` has to be called before applying the gate.\n",
    "\n",
    "To avoid problems with the same names for gates, the PCCM and InversePCCM gate support name space prefixes. This means that all internally used gates obtain the provided prefix for its names."
   ]
  },
  {
   "cell_type": "code",
   "execution_count": 1,
   "id": "f0ad7212",
   "metadata": {},
   "outputs": [],
   "source": [
    "from geqo.algorithms.algorithms import PCCM, InversePCCM\n",
    "from geqo.simulators.sympy import simulatorUnitarySymPy\n",
    "\n",
    "gate = PCCM(\"φ\")\n",
    "\n",
    "sim = simulatorUnitarySymPy(2)\n",
    "sim.prepareBackend([gate])\n",
    "\n",
    "sim.apply(gate, [0, 1])\n",
    "# display(sim.u)"
   ]
  },
  {
   "cell_type": "markdown",
   "id": "cacb3fcf",
   "metadata": {},
   "source": [
    "Applying the ```InversePCCM``` after the ```PCCM``` gate with the same angle leads to the identity."
   ]
  },
  {
   "cell_type": "code",
   "execution_count": 2,
   "id": "d4964448",
   "metadata": {},
   "outputs": [],
   "source": [
    "gate2 = InversePCCM(\"φ\")\n",
    "sim.apply(gate2, [0, 1])\n",
    "# display(sim.u[1,1])"
   ]
  },
  {
   "cell_type": "markdown",
   "id": "17fb9f15",
   "metadata": {},
   "source": [
    "## QFT and InverseQFT\n",
    "The Quantum Fourier Transform (QFT) and its inverse are internally composed of several other gates, including rotation gates. Therefore, the method ```prepareBackend``` has to be called before applying the gate.\n",
    "\n",
    "To avoid problems with the same names for gates, the QFT and InverseQFT gate support name space prefixes. This means that all internally used gates obtain the provided prefix for its names."
   ]
  },
  {
   "cell_type": "code",
   "execution_count": 3,
   "id": "9427e8d6",
   "metadata": {},
   "outputs": [
    {
     "data": {
      "text/latex": [
       "$\\displaystyle \\left[\\begin{matrix}\\frac{1}{2} & \\frac{1}{2} & \\frac{1}{2} & \\frac{1}{2}\\\\\\frac{1}{2} & \\frac{i}{2} & - \\frac{1}{2} & - \\frac{i}{2}\\\\\\frac{1}{2} & - \\frac{1}{2} & \\frac{1}{2} & - \\frac{1}{2}\\\\\\frac{1}{2} & - \\frac{i}{2} & - \\frac{1}{2} & \\frac{i}{2}\\end{matrix}\\right]$"
      ],
      "text/plain": [
       "Matrix([\n",
       "[1/2,  1/2,  1/2,  1/2],\n",
       "[1/2,  I/2, -1/2, -I/2],\n",
       "[1/2, -1/2,  1/2, -1/2],\n",
       "[1/2, -I/2, -1/2,  I/2]])"
      ]
     },
     "metadata": {},
     "output_type": "display_data"
    }
   ],
   "source": [
    "from geqo.algorithms.algorithms import QFT, InverseQFT\n",
    "from geqo.simulators.sympy import simulatorUnitarySymPy\n",
    "\n",
    "gate = QFT(2)\n",
    "\n",
    "sim = simulatorUnitarySymPy(2)\n",
    "sim.prepareBackend([gate])\n",
    "\n",
    "sim.apply(gate, [0, 1])\n",
    "display(sim.u)"
   ]
  },
  {
   "cell_type": "markdown",
   "id": "5076e780",
   "metadata": {},
   "source": [
    "Applying the ```InverseQFT``` after the ```QFT``` gate with the same number of qubits leads to the identity."
   ]
  },
  {
   "cell_type": "code",
   "execution_count": 4,
   "id": "a3e3cc39",
   "metadata": {},
   "outputs": [
    {
     "data": {
      "text/latex": [
       "$\\displaystyle \\left[\\begin{matrix}1 & 0 & 0 & 0\\\\0 & 1 & 0 & 0\\\\0 & 0 & 1 & 0\\\\0 & 0 & 0 & 1\\end{matrix}\\right]$"
      ],
      "text/plain": [
       "Matrix([\n",
       "[1, 0, 0, 0],\n",
       "[0, 1, 0, 0],\n",
       "[0, 0, 1, 0],\n",
       "[0, 0, 0, 1]])"
      ]
     },
     "metadata": {},
     "output_type": "display_data"
    }
   ],
   "source": [
    "gate2 = InverseQFT(2)\n",
    "sim.apply(gate2, [0, 1])\n",
    "display(sim.u)"
   ]
  },
  {
   "cell_type": "markdown",
   "id": "0ede8eb2",
   "metadata": {},
   "source": [
    "## QubitReversal\n",
    "This operation is reversing the order of qubits. It is a special case of a permutation of qubits, which might be performed also with ```PermuteQubits```. This operation is reversing the order of qubits. It corresponds to a permutation of the\n",
    "    states of the computational basis."
   ]
  },
  {
   "cell_type": "code",
   "execution_count": 5,
   "id": "15f6703c",
   "metadata": {},
   "outputs": [
    {
     "data": {
      "text/latex": [
       "$\\displaystyle \\left[\\begin{matrix}1 & 0 & 0 & 0 & 0 & 0 & 0 & 0\\\\0 & 0 & 0 & 0 & 1 & 0 & 0 & 0\\\\0 & 0 & 1 & 0 & 0 & 0 & 0 & 0\\\\0 & 0 & 0 & 0 & 0 & 0 & 1 & 0\\\\0 & 1 & 0 & 0 & 0 & 0 & 0 & 0\\\\0 & 0 & 0 & 0 & 0 & 1 & 0 & 0\\\\0 & 0 & 0 & 1 & 0 & 0 & 0 & 0\\\\0 & 0 & 0 & 0 & 0 & 0 & 0 & 1\\end{matrix}\\right]$"
      ],
      "text/plain": [
       "Matrix([\n",
       "[1, 0, 0, 0, 0, 0, 0, 0],\n",
       "[0, 0, 0, 0, 1, 0, 0, 0],\n",
       "[0, 0, 1, 0, 0, 0, 0, 0],\n",
       "[0, 0, 0, 0, 0, 0, 1, 0],\n",
       "[0, 1, 0, 0, 0, 0, 0, 0],\n",
       "[0, 0, 0, 0, 0, 1, 0, 0],\n",
       "[0, 0, 0, 1, 0, 0, 0, 0],\n",
       "[0, 0, 0, 0, 0, 0, 0, 1]])"
      ]
     },
     "metadata": {},
     "output_type": "display_data"
    }
   ],
   "source": [
    "from geqo.algorithms.algorithms import QubitReversal\n",
    "from geqo.simulators.sympy import simulatorUnitarySymPy\n",
    "\n",
    "gate = QubitReversal(3)  # Create a qubit reversal operation on three qubits.\n",
    "\n",
    "sim = simulatorUnitarySymPy(3)  # The gate is defined on three qubits.\n",
    "\n",
    "sim.apply(gate, [0, 1, 2])\n",
    "display(sim.u)"
   ]
  },
  {
   "cell_type": "markdown",
   "id": "78304688",
   "metadata": {},
   "source": [
    "## Toffoli\n",
    "The Toffoli gate is a PauliX operation on a qubit and it has two control qubits. In total, it operates on three qubits.\n",
    "\n",
    "The Toffoli gate is internally composed of several other gates, including rotation gates. Therefore, the method ```prepareBackend``` has to be called before applying the gate.\n",
    "\n",
    "To avoid problems with the same names for gates, the Toffoli gate supports name space prefixes. This means that all internally used gates obtain the provided prefix for its names."
   ]
  },
  {
   "cell_type": "code",
   "execution_count": 6,
   "id": "b0355d35",
   "metadata": {},
   "outputs": [
    {
     "name": "stdout",
     "output_type": "stream",
     "text": [
      "Sequence([0, 1, 2], [], [(Hadamard(), [2], []), (CNOT(), [1, 2], []), (Phase(\"A.-S.Pi/4\"), [2], []), (CNOT(), [0, 2], []), (Phase(\"A.S.Pi/4\"), [2], []), (CNOT(), [1, 2], []), (Phase(\"A.-S.Pi/4\"), [2], []), (CNOT(), [0, 2], []), (Phase(\"A.S.Pi/4\"), [1], []), (Phase(\"A.S.Pi/4\"), [2], []), (CNOT(), [0, 1], []), (Hadamard(), [2], []), (Phase(\"A.S.Pi/4\"), [0], []), (Phase(\"A.-S.Pi/4\"), [1], []), (CNOT(), [0, 1], [])])\n"
     ]
    }
   ],
   "source": [
    "from geqo.gates.multi_qubit_gates import Toffoli\n",
    "from geqo.simulators.sympy import simulatorUnitarySymPy\n",
    "\n",
    "gate = Toffoli(\"A.\")  # Create a Toffoli gate. The name space prefix is \"A.\".\n",
    "seq = gate.getEquivalentSequence()\n",
    "print(\n",
    "    seq\n",
    ")  # Show the Sequence, which is the internal decomposition. All gates with names obtain the name space prefix."
   ]
  },
  {
   "cell_type": "code",
   "execution_count": 7,
   "id": "9d2b3149",
   "metadata": {},
   "outputs": [
    {
     "data": {
      "text/latex": [
       "$\\displaystyle \\left[\\begin{matrix}1 & 0 & 0 & 0 & 0 & 0 & 0 & 0\\\\0 & 1 & 0 & 0 & 0 & 0 & 0 & 0\\\\0 & 0 & 1 & 0 & 0 & 0 & 0 & 0\\\\0 & 0 & 0 & 1 & 0 & 0 & 0 & 0\\\\0 & 0 & 0 & 0 & 1 & 0 & 0 & 0\\\\0 & 0 & 0 & 0 & 0 & 1 & 0 & 0\\\\0 & 0 & 0 & 0 & 0 & 0 & 0 & 1\\\\0 & 0 & 0 & 0 & 0 & 0 & 1 & 0\\end{matrix}\\right]$"
      ],
      "text/plain": [
       "Matrix([\n",
       "[1, 0, 0, 0, 0, 0, 0, 0],\n",
       "[0, 1, 0, 0, 0, 0, 0, 0],\n",
       "[0, 0, 1, 0, 0, 0, 0, 0],\n",
       "[0, 0, 0, 1, 0, 0, 0, 0],\n",
       "[0, 0, 0, 0, 1, 0, 0, 0],\n",
       "[0, 0, 0, 0, 0, 1, 0, 0],\n",
       "[0, 0, 0, 0, 0, 0, 0, 1],\n",
       "[0, 0, 0, 0, 0, 0, 1, 0]])"
      ]
     },
     "metadata": {},
     "output_type": "display_data"
    }
   ],
   "source": [
    "sim = simulatorUnitarySymPy(3)\n",
    "sim.prepareBackend(\n",
    "    [gate]\n",
    ")  # This method sets the values for the internally used gates with the appropriate name space prefix.\n",
    "\n",
    "sim.apply(gate, [0, 1, 2])  # The Toffoli gate operates on three qubits.\n",
    "sim.u.simplify()  # Simplify the expressions in the result matrix.\n",
    "display(sim.u)"
   ]
  },
  {
   "cell_type": "code",
   "execution_count": null,
   "id": "543b1867",
   "metadata": {},
   "outputs": [],
   "source": []
  }
 ],
 "metadata": {
  "kernelspec": {
   "display_name": "geqo",
   "language": "python",
   "name": "python3"
  },
  "language_info": {
   "codemirror_mode": {
    "name": "ipython",
    "version": 3
   },
   "file_extension": ".py",
   "mimetype": "text/x-python",
   "name": "python",
   "nbconvert_exporter": "python",
   "pygments_lexer": "ipython3",
   "version": "3.12.11"
  }
 },
 "nbformat": 4,
 "nbformat_minor": 5
}

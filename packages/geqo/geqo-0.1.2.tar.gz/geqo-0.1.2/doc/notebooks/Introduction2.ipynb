{
 "cells": [
  {
   "cell_type": "markdown",
   "id": "c611cd3b",
   "metadata": {},
   "source": [
    "# Unitary gates\n",
    "In the following section, all unitary gates that are implemented in geqo are introduced along with a simple example. Several of these gates support parameters, e.g. rotation angles. Note that the parameters are specified by names only, e.g. ```Phase(\"φ\")``` denotes a phase gate with an angle, which has the name ```φ```.\n",
    "\n",
    "The following unitary gates are currently defined in geqo. They are basic gates, which means that they are internally not decomposed into a sequence of other gates.\n",
    "\n",
    "- BasicGate and InverseBasicGate\n",
    "- CNOT\n",
    "- Hadamard\n",
    "- PauliX, PauliY and PauliZ\n",
    "- PermuteQubits\n",
    "- Phase and InversePhase\n",
    "- Rx and InverseRx\n",
    "- Ry and InverseRy\n",
    "- Rz and InverseRz\n",
    "- Rzz and InverseRzz\n",
    "- SGate and InverseSGate\n",
    "- SwapQubits"
   ]
  },
  {
   "cell_type": "markdown",
   "id": "fc6115c5",
   "metadata": {},
   "source": [
    "## BasicGate and InverseBasicGate\n",
    "The ```BasicGate``` and its inverse ```InverseBasicGate``` are useful for defining custom unitary matrices. The arguments are a name for the corresponding unitary matrix and the number of qubits, which the gates are acting on.\n",
    "\n",
    "For most simulators, the method ```setValue``` must be used to assign a value to the name of the unitary matrix. In the following example, the SymPy based simulator ```simulatorUnitarySymPy``` is used and it supports symbolic values for the entries of a matrix."
   ]
  },
  {
   "cell_type": "code",
   "execution_count": 1,
   "id": "b43b5c78",
   "metadata": {},
   "outputs": [
    {
     "data": {
      "text/latex": [
       "$\\displaystyle \\left[\\begin{matrix}1 & 0\\\\0 & i\\end{matrix}\\right]$"
      ],
      "text/plain": [
       "Matrix([\n",
       "[1, 0],\n",
       "[0, I]])"
      ]
     },
     "metadata": {},
     "output_type": "display_data"
    }
   ],
   "source": [
    "import sympy as sym\n",
    "from geqo.core.basic import BasicGate, InverseBasicGate\n",
    "from geqo.simulators.sympy import simulatorUnitarySymPy\n",
    "\n",
    "gate = BasicGate(\"a\", 1)  # Create a unitary gate on one qubit with the name a.\n",
    "\n",
    "sim = simulatorUnitarySymPy(1)\n",
    "sim.setValue(\n",
    "    \"a\", sym.Matrix([[1, 0], [0, sym.I]])\n",
    ")  # Assign a matrix to the name of the unitary matrix.\n",
    "\n",
    "sim.apply(gate, [0])\n",
    "display(sim.u)"
   ]
  },
  {
   "cell_type": "markdown",
   "id": "6094d1b6",
   "metadata": {},
   "source": [
    "The application of InverseBasicGate after BasicGate leads to the identity matrix. Since both gates have the same name for the unitary matrix, it is not necessary to use the ```setValue``` a second time."
   ]
  },
  {
   "cell_type": "code",
   "execution_count": 2,
   "id": "3ce1a598",
   "metadata": {},
   "outputs": [
    {
     "data": {
      "text/latex": [
       "$\\displaystyle \\left[\\begin{matrix}1 & 0\\\\0 & 1\\end{matrix}\\right]$"
      ],
      "text/plain": [
       "Matrix([\n",
       "[1, 0],\n",
       "[0, 1]])"
      ]
     },
     "metadata": {},
     "output_type": "display_data"
    }
   ],
   "source": [
    "gate2 = InverseBasicGate(\"a\", 1)  # Create the inverse gate.\n",
    "\n",
    "sim.apply(\n",
    "    gate2, [0]\n",
    ")  # Setting the value before calling this method is not necessary because it is already set.\n",
    "display(sim.u)"
   ]
  },
  {
   "cell_type": "markdown",
   "id": "888eb8de",
   "metadata": {},
   "source": [
    "## CNOT\n",
    "The ```CNOT``` gate is a two-qubit gate and it follows the standard definition of CNOT, also called CX in some cases."
   ]
  },
  {
   "cell_type": "code",
   "execution_count": 3,
   "id": "137bc016",
   "metadata": {},
   "outputs": [
    {
     "data": {
      "text/latex": [
       "$\\displaystyle \\left[\\begin{matrix}1 & 0 & 0 & 0\\\\0 & 1 & 0 & 0\\\\0 & 0 & 0 & 1\\\\0 & 0 & 1 & 0\\end{matrix}\\right]$"
      ],
      "text/plain": [
       "Matrix([\n",
       "[1, 0, 0, 0],\n",
       "[0, 1, 0, 0],\n",
       "[0, 0, 0, 1],\n",
       "[0, 0, 1, 0]])"
      ]
     },
     "metadata": {},
     "output_type": "display_data"
    }
   ],
   "source": [
    "from geqo.gates.fundamental_gates import CNOT\n",
    "from geqo.simulators.sympy import simulatorUnitarySymPy\n",
    "\n",
    "gate = CNOT()  # Create a CNOT gate.\n",
    "\n",
    "sim = simulatorUnitarySymPy(2)  # The gate operates on two qubits.\n",
    "\n",
    "sim.apply(gate, [0, 1])  # Apply CNOT to two qubits.\n",
    "display(sim.u)  # Show the resulting unitary matrix"
   ]
  },
  {
   "cell_type": "markdown",
   "id": "3a565419",
   "metadata": {},
   "source": [
    "## Hadamard\n",
    "The Hadamard operation acts on a single qubit and it generates equal superpositions of the computation basis states $|0\\rangle$ and $|1\\rangle$ when applied to one of these. The Hadamard operation is its own inverse and effectively performs the quantum Fourier transform on a single qubit."
   ]
  },
  {
   "cell_type": "code",
   "execution_count": 4,
   "id": "78a5ed32",
   "metadata": {},
   "outputs": [
    {
     "data": {
      "text/latex": [
       "$\\displaystyle \\left[\\begin{matrix}\\frac{\\sqrt{2}}{2} & \\frac{\\sqrt{2}}{2}\\\\\\frac{\\sqrt{2}}{2} & - \\frac{\\sqrt{2}}{2}\\end{matrix}\\right]$"
      ],
      "text/plain": [
       "Matrix([\n",
       "[sqrt(2)/2,  sqrt(2)/2],\n",
       "[sqrt(2)/2, -sqrt(2)/2]])"
      ]
     },
     "metadata": {},
     "output_type": "display_data"
    }
   ],
   "source": [
    "from geqo.gates.fundamental_gates import Hadamard\n",
    "from geqo.simulators.sympy import simulatorUnitarySymPy\n",
    "\n",
    "gate = Hadamard()  # Create a Hadamard gate.\n",
    "\n",
    "sim = simulatorUnitarySymPy(1)  # The gate operates on one qubit.\n",
    "\n",
    "sim.apply(gate, [0])\n",
    "display(sim.u)  # Show the resulting unitary matrix"
   ]
  },
  {
   "cell_type": "markdown",
   "id": "98f2afe5",
   "metadata": {},
   "source": [
    "## PauliX, PauliY and PauliZ\n",
    "These operators correspond to the Pauli matrices $\\sigma_x$, $\\sigma_y$ and $\\sigma_z$. They operate on a single qubit."
   ]
  },
  {
   "cell_type": "code",
   "execution_count": 5,
   "id": "4e3b2dcc",
   "metadata": {},
   "outputs": [
    {
     "data": {
      "text/latex": [
       "$\\displaystyle \\left[\\begin{matrix}0 & 1\\\\1 & 0\\end{matrix}\\right]$"
      ],
      "text/plain": [
       "Matrix([\n",
       "[0, 1],\n",
       "[1, 0]])"
      ]
     },
     "metadata": {},
     "output_type": "display_data"
    }
   ],
   "source": [
    "from geqo.gates.fundamental_gates import PauliX\n",
    "from geqo.simulators.sympy import simulatorUnitarySymPy\n",
    "\n",
    "gate = PauliX()  # Create a PauliX gate.\n",
    "sim = simulatorUnitarySymPy(1)  # The gate operates on one qubit.\n",
    "sim.apply(gate, [0])\n",
    "display(sim.u)  # Show the resulting unitary matrix"
   ]
  },
  {
   "cell_type": "code",
   "execution_count": 6,
   "id": "6ce95b20",
   "metadata": {},
   "outputs": [
    {
     "data": {
      "text/latex": [
       "$\\displaystyle \\left[\\begin{matrix}0 & - i\\\\i & 0\\end{matrix}\\right]$"
      ],
      "text/plain": [
       "Matrix([\n",
       "[0, -I],\n",
       "[I,  0]])"
      ]
     },
     "metadata": {},
     "output_type": "display_data"
    }
   ],
   "source": [
    "from geqo.gates.fundamental_gates import PauliY\n",
    "from geqo.simulators.sympy import simulatorUnitarySymPy\n",
    "\n",
    "gate = PauliY()  # Create a PauliY gate.\n",
    "sim = simulatorUnitarySymPy(1)  # The gate operates on one qubit.\n",
    "sim.apply(gate, [0])\n",
    "display(sim.u)  # Show the resulting unitary matrix"
   ]
  },
  {
   "cell_type": "code",
   "execution_count": 7,
   "id": "ce66a14d",
   "metadata": {},
   "outputs": [
    {
     "data": {
      "text/latex": [
       "$\\displaystyle \\left[\\begin{matrix}1 & 0\\\\0 & -1\\end{matrix}\\right]$"
      ],
      "text/plain": [
       "Matrix([\n",
       "[1,  0],\n",
       "[0, -1]])"
      ]
     },
     "metadata": {},
     "output_type": "display_data"
    }
   ],
   "source": [
    "from geqo.gates.fundamental_gates import PauliZ\n",
    "from geqo.simulators.sympy import simulatorUnitarySymPy\n",
    "\n",
    "gate = PauliZ()  # Create a PauliZ gate.\n",
    "sim = simulatorUnitarySymPy(1)  # The gate operates on one qubit.\n",
    "sim.apply(gate, [0])\n",
    "display(sim.u)  # Show the resulting unitary matrix"
   ]
  },
  {
   "cell_type": "markdown",
   "id": "a94d50ba",
   "metadata": {},
   "source": [
    "## PermuteQubits\n",
    "This operation allows to define a unitary operation that corresponds to a permutation of qubits. The argument is the target order of the permuted qubits, which are denoted by 0, ..., n-1 for n qubits. For instance, the notation [1, 2, 0] means that the first qubit is mapped to the third position and the second qubit mapped to the first position, e.g. it is a cyclic permutation. The number of qubits is derived from the length of the list."
   ]
  },
  {
   "cell_type": "code",
   "execution_count": 8,
   "id": "40c443c2",
   "metadata": {},
   "outputs": [
    {
     "data": {
      "text/latex": [
       "$\\displaystyle \\left[\\begin{matrix}1 & 0 & 0 & 0 & 0 & 0 & 0 & 0\\\\0 & 0 & 0 & 0 & 1 & 0 & 0 & 0\\\\0 & 1 & 0 & 0 & 0 & 0 & 0 & 0\\\\0 & 0 & 0 & 0 & 0 & 1 & 0 & 0\\\\0 & 0 & 1 & 0 & 0 & 0 & 0 & 0\\\\0 & 0 & 0 & 0 & 0 & 0 & 1 & 0\\\\0 & 0 & 0 & 1 & 0 & 0 & 0 & 0\\\\0 & 0 & 0 & 0 & 0 & 0 & 0 & 1\\end{matrix}\\right]$"
      ],
      "text/plain": [
       "Matrix([\n",
       "[1, 0, 0, 0, 0, 0, 0, 0],\n",
       "[0, 0, 0, 0, 1, 0, 0, 0],\n",
       "[0, 1, 0, 0, 0, 0, 0, 0],\n",
       "[0, 0, 0, 0, 0, 1, 0, 0],\n",
       "[0, 0, 1, 0, 0, 0, 0, 0],\n",
       "[0, 0, 0, 0, 0, 0, 1, 0],\n",
       "[0, 0, 0, 1, 0, 0, 0, 0],\n",
       "[0, 0, 0, 0, 0, 0, 0, 1]])"
      ]
     },
     "metadata": {},
     "output_type": "display_data"
    }
   ],
   "source": [
    "import sympy as sym\n",
    "from geqo.algorithms.algorithms import PermuteQubits\n",
    "from geqo.simulators.sympy import simulatorUnitarySymPy\n",
    "\n",
    "gate = PermuteQubits(\n",
    "    [1, 2, 0]\n",
    ")  # Create a permutation corresponding to a cyclic left shift of qubits.\n",
    "sim = simulatorUnitarySymPy(3)  # The gate is defined on three qubits.\n",
    "\n",
    "sim.apply(gate, [0, 1, 2])\n",
    "display(sim.u)"
   ]
  },
  {
   "cell_type": "markdown",
   "id": "bead2574",
   "metadata": {},
   "source": [
    "## Phase and InversePhase\n",
    "The phase gate applies a phase to the state $|1\\rangle$ of a qubit. Its argument is a name for the phase. \n",
    "\n",
    "For most simulators, the method ```setValue``` must be used to assign a value to the name of the phase. In the following example, the SymPy based simulator ```simulatorUnitarySymPy``` is used and it supports symbolic values for the phase."
   ]
  },
  {
   "cell_type": "code",
   "execution_count": 9,
   "id": "c7fb7216",
   "metadata": {},
   "outputs": [
    {
     "data": {
      "text/latex": [
       "$\\displaystyle \\left[\\begin{matrix}1 & 0\\\\0 & e^{\\sqrt{2} i}\\end{matrix}\\right]$"
      ],
      "text/plain": [
       "Matrix([\n",
       "[1,              0],\n",
       "[0, exp(sqrt(2)*I)]])"
      ]
     },
     "metadata": {},
     "output_type": "display_data"
    }
   ],
   "source": [
    "import sympy as sym\n",
    "from geqo.gates.fundamental_gates import Phase\n",
    "from geqo.simulators.sympy import simulatorUnitarySymPy\n",
    "\n",
    "gate = Phase(\"φ\")  # Create a phase gate with a phase with the name φ.\n",
    "\n",
    "sim = simulatorUnitarySymPy(1)\n",
    "sim.setValue(\n",
    "    \"φ\", sym.sqrt(2)\n",
    ")  # Set the value of the phase with the name φ to a symbolic value.\n",
    "\n",
    "sim.apply(\n",
    "    gate, [0]\n",
    ")  # Setting the value before calling this method is not necessary because it is already set.\n",
    "display(sim.u)"
   ]
  },
  {
   "cell_type": "markdown",
   "id": "a0a70a7b",
   "metadata": {},
   "source": [
    "## Rx and InverseRx\n",
    "The Rx gate and its inverse are rotations around the x axis in the Bloch sphere representation of a qubit. The argument of these gates is a name for the rotation angle. \n",
    "\n",
    "For most simulators, the method ```setValue``` must be used to assign a value to the name of the rotation. In the following example, the SymPy based simulator ```simulatorUnitarySymPy``` is used and it supports symbolic values for the phase."
   ]
  },
  {
   "cell_type": "code",
   "execution_count": 10,
   "id": "c007c7f4",
   "metadata": {},
   "outputs": [
    {
     "data": {
      "text/latex": [
       "$\\displaystyle \\left[\\begin{matrix}\\cos{\\left(\\frac{\\sqrt{2}}{2} \\right)} & - i \\sin{\\left(\\frac{\\sqrt{2}}{2} \\right)}\\\\- i \\sin{\\left(\\frac{\\sqrt{2}}{2} \\right)} & \\cos{\\left(\\frac{\\sqrt{2}}{2} \\right)}\\end{matrix}\\right]$"
      ],
      "text/plain": [
       "Matrix([\n",
       "[   cos(sqrt(2)/2), -I*sin(sqrt(2)/2)],\n",
       "[-I*sin(sqrt(2)/2),    cos(sqrt(2)/2)]])"
      ]
     },
     "metadata": {},
     "output_type": "display_data"
    }
   ],
   "source": [
    "import sympy as sym\n",
    "from geqo.gates.rotation_gates import Rx, InverseRx\n",
    "from geqo.simulators.sympy import simulatorUnitarySymPy\n",
    "\n",
    "gate = Rx(\"φ\")  # Create an Rx gate with an angle with the name φ.\n",
    "\n",
    "sim = simulatorUnitarySymPy(1)\n",
    "sim.setValue(\n",
    "    \"φ\", sym.sqrt(2)\n",
    ")  # Set the value of the rotation angle with the name φ to a symbolic value.\n",
    "\n",
    "sim.apply(gate, [0])\n",
    "display(sim.u)"
   ]
  },
  {
   "cell_type": "markdown",
   "id": "43e949a3",
   "metadata": {},
   "source": [
    "Applying the ```InverseRx``` after the ```Rx``` gate with the same angle leads to the identity."
   ]
  },
  {
   "cell_type": "code",
   "execution_count": 11,
   "id": "caf2ad3f",
   "metadata": {},
   "outputs": [
    {
     "data": {
      "text/latex": [
       "$\\displaystyle \\left[\\begin{matrix}1 & 0\\\\0 & 1\\end{matrix}\\right]$"
      ],
      "text/plain": [
       "Matrix([\n",
       "[1, 0],\n",
       "[0, 1]])"
      ]
     },
     "metadata": {},
     "output_type": "display_data"
    }
   ],
   "source": [
    "gate2 = InverseRx(\"φ\")  # Create an inverse Rx gate with an angle with the name φ.\n",
    "\n",
    "sim.apply(\n",
    "    gate2, [0]\n",
    ")  # Setting the value before calling this method is not necessary because it is already set.\n",
    "sim.u.simplify()  # Simplify the expressions in the result matrix.\n",
    "display(sim.u)"
   ]
  },
  {
   "cell_type": "markdown",
   "id": "9168358a",
   "metadata": {},
   "source": [
    "## Ry and InverseRy\n",
    "The Ry gate and its inverse are rotations around the y axis in the Bloch sphere representation of a qubit. The argument of these gates is a name for the rotation angle. \n",
    "\n",
    "For most simulators, the method ```setValue``` must be used to assign a value to the name of the rotation. In the following example, the SymPy based simulator ```simulatorUnitarySymPy``` is used and it supports symbolic values for the phase."
   ]
  },
  {
   "cell_type": "code",
   "execution_count": 12,
   "id": "e6d4f873",
   "metadata": {},
   "outputs": [
    {
     "data": {
      "text/latex": [
       "$\\displaystyle \\left[\\begin{matrix}\\cos{\\left(\\frac{\\sqrt{2}}{2} \\right)} & - \\sin{\\left(\\frac{\\sqrt{2}}{2} \\right)}\\\\\\sin{\\left(\\frac{\\sqrt{2}}{2} \\right)} & \\cos{\\left(\\frac{\\sqrt{2}}{2} \\right)}\\end{matrix}\\right]$"
      ],
      "text/plain": [
       "Matrix([\n",
       "[cos(sqrt(2)/2), -sin(sqrt(2)/2)],\n",
       "[sin(sqrt(2)/2),  cos(sqrt(2)/2)]])"
      ]
     },
     "metadata": {},
     "output_type": "display_data"
    }
   ],
   "source": [
    "import sympy as sym\n",
    "from geqo.gates.rotation_gates import Ry, InverseRy\n",
    "from geqo.simulators.sympy import simulatorUnitarySymPy\n",
    "\n",
    "gate = Ry(\"φ\")  # Create an Ry gate with an angle with the name φ.\n",
    "\n",
    "sim = simulatorUnitarySymPy(1)\n",
    "sim.setValue(\n",
    "    \"φ\", sym.sqrt(2)\n",
    ")  # Set the value of the rotation angle with the name φ to a symbolic value.\n",
    "\n",
    "sim.apply(gate, [0])\n",
    "display(sim.u)"
   ]
  },
  {
   "cell_type": "markdown",
   "id": "0f4ad38a",
   "metadata": {},
   "source": [
    "Applying the ```InverseRy``` after the ```Ry``` gate with the same angle leads to the identity."
   ]
  },
  {
   "cell_type": "code",
   "execution_count": 13,
   "id": "c0253830",
   "metadata": {},
   "outputs": [
    {
     "data": {
      "text/latex": [
       "$\\displaystyle \\left[\\begin{matrix}1 & 0\\\\0 & 1\\end{matrix}\\right]$"
      ],
      "text/plain": [
       "Matrix([\n",
       "[1, 0],\n",
       "[0, 1]])"
      ]
     },
     "metadata": {},
     "output_type": "display_data"
    }
   ],
   "source": [
    "gate2 = InverseRy(\"φ\")  # Create an inverse Ry gate with an angle with the name φ.\n",
    "\n",
    "sim.apply(\n",
    "    gate2, [0]\n",
    ")  # Setting the value before calling this method is not necessary because it is already set.\n",
    "sim.u.simplify()  # Simplify the expressions in the result matrix.\n",
    "display(sim.u)"
   ]
  },
  {
   "cell_type": "markdown",
   "id": "daa47d4a",
   "metadata": {},
   "source": [
    "## Rz and InverseRz\n",
    "The Rz gate and its inverse are rotations around the z axis in the Bloch sphere representation of a qubit. The argument of these gates is a name for the rotation angle. \n",
    "\n",
    "For most simulators, the method ```setValue``` must be used to assign a value to the name of the rotation. In the following example, the SymPy based simulator ```simulatorUnitarySymPy``` is used and it supports symbolic values for the phase."
   ]
  },
  {
   "cell_type": "code",
   "execution_count": 14,
   "id": "2962807d",
   "metadata": {},
   "outputs": [
    {
     "data": {
      "text/latex": [
       "$\\displaystyle \\left[\\begin{matrix}e^{- \\frac{\\sqrt{2} i}{2}} & 0\\\\0 & e^{\\frac{\\sqrt{2} i}{2}}\\end{matrix}\\right]$"
      ],
      "text/plain": [
       "Matrix([\n",
       "[exp(-sqrt(2)*I/2),                0],\n",
       "[                0, exp(sqrt(2)*I/2)]])"
      ]
     },
     "metadata": {},
     "output_type": "display_data"
    }
   ],
   "source": [
    "import sympy as sym\n",
    "from geqo.gates.rotation_gates import Rz, InverseRz\n",
    "from geqo.simulators.sympy import simulatorUnitarySymPy\n",
    "\n",
    "gate = Rz(\"φ\")  # Create an Rz gate with an angle with the name φ.\n",
    "\n",
    "sim = simulatorUnitarySymPy(1)\n",
    "sim.setValue(\n",
    "    \"φ\", sym.sqrt(2)\n",
    ")  # Set the value of the rotation angle with the name φ to a symbolic value.\n",
    "\n",
    "sim.apply(gate, [0])\n",
    "display(sim.u)"
   ]
  },
  {
   "cell_type": "markdown",
   "id": "0aa28f08",
   "metadata": {},
   "source": [
    "Applying the ```InverseRz``` after the ```Rz``` gate with the same angle leads to the identity."
   ]
  },
  {
   "cell_type": "code",
   "execution_count": 15,
   "id": "3e6293b8",
   "metadata": {},
   "outputs": [
    {
     "data": {
      "text/latex": [
       "$\\displaystyle \\left[\\begin{matrix}1 & 0\\\\0 & 1\\end{matrix}\\right]$"
      ],
      "text/plain": [
       "Matrix([\n",
       "[1, 0],\n",
       "[0, 1]])"
      ]
     },
     "metadata": {},
     "output_type": "display_data"
    }
   ],
   "source": [
    "gate2 = InverseRz(\"φ\")  # Create an inverse Rz gate with an angle with the name φ.\n",
    "\n",
    "sim.apply(\n",
    "    gate2, [0]\n",
    ")  # Setting the value before calling this method is not necessary because it is already set.\n",
    "display(sim.u)"
   ]
  },
  {
   "cell_type": "markdown",
   "id": "0939b0e8",
   "metadata": {},
   "source": [
    "## Rzz and InverseRzz\n",
    "The Rzz gate and its inverse are entangling gates on two qubits. The argument of the gates is the name of a rotation angle."
   ]
  },
  {
   "cell_type": "code",
   "execution_count": 16,
   "id": "d140ab24",
   "metadata": {},
   "outputs": [
    {
     "data": {
      "text/latex": [
       "$\\displaystyle \\left[\\begin{matrix}e^{- \\frac{\\sqrt{2} i}{2}} & 0 & 0 & 0\\\\0 & e^{\\frac{\\sqrt{2} i}{2}} & 0 & 0\\\\0 & 0 & e^{\\frac{\\sqrt{2} i}{2}} & 0\\\\0 & 0 & 0 & e^{- \\frac{\\sqrt{2} i}{2}}\\end{matrix}\\right]$"
      ],
      "text/plain": [
       "Matrix([\n",
       "[exp(-sqrt(2)*I/2),                0,                0,                 0],\n",
       "[                0, exp(sqrt(2)*I/2),                0,                 0],\n",
       "[                0,                0, exp(sqrt(2)*I/2),                 0],\n",
       "[                0,                0,                0, exp(-sqrt(2)*I/2)]])"
      ]
     },
     "metadata": {},
     "output_type": "display_data"
    }
   ],
   "source": [
    "import sympy as sym\n",
    "from geqo.gates.rotation_gates import Rzz, InverseRzz\n",
    "from geqo.simulators.sympy import simulatorUnitarySymPy\n",
    "\n",
    "gate = Rzz(\"φ\")  # Create an Rzz gate with an angle with the name φ.\n",
    "\n",
    "sim = simulatorUnitarySymPy(2)\n",
    "sim.setValue(\n",
    "    \"φ\", sym.sqrt(2)\n",
    ")  # Set the value of the rotation angle with the name φ to a symbolic value.\n",
    "\n",
    "sim.apply(gate, [0, 1])\n",
    "display(sim.u)"
   ]
  },
  {
   "cell_type": "markdown",
   "id": "d039c02d",
   "metadata": {},
   "source": [
    "Applying the ```InverseRzz``` after the ```Rzz``` gate with the same angle leads to the identity."
   ]
  },
  {
   "cell_type": "code",
   "execution_count": 17,
   "id": "aef4e5f8",
   "metadata": {},
   "outputs": [
    {
     "data": {
      "text/latex": [
       "$\\displaystyle \\left[\\begin{matrix}1 & 0 & 0 & 0\\\\0 & 1 & 0 & 0\\\\0 & 0 & 1 & 0\\\\0 & 0 & 0 & 1\\end{matrix}\\right]$"
      ],
      "text/plain": [
       "Matrix([\n",
       "[1, 0, 0, 0],\n",
       "[0, 1, 0, 0],\n",
       "[0, 0, 1, 0],\n",
       "[0, 0, 0, 1]])"
      ]
     },
     "metadata": {},
     "output_type": "display_data"
    }
   ],
   "source": [
    "gate2 = InverseRzz(\"φ\")  # Create an inverse Rz gate with an angle with the name φ.\n",
    "sim.apply(\n",
    "    gate2, [0, 1]\n",
    ")  # Setting the value before calling this method is not necessary because it is already set.\n",
    "display(sim.u)"
   ]
  },
  {
   "cell_type": "markdown",
   "id": "deb7e5bf",
   "metadata": {},
   "source": [
    "## SGate and InverseSGate\n",
    "The S gate is the square root of the ```PauliZ``` gate."
   ]
  },
  {
   "cell_type": "code",
   "execution_count": 18,
   "id": "0f2c9e75",
   "metadata": {},
   "outputs": [
    {
     "data": {
      "text/latex": [
       "$\\displaystyle \\left[\\begin{matrix}1 & 0\\\\0 & i\\end{matrix}\\right]$"
      ],
      "text/plain": [
       "Matrix([\n",
       "[1, 0],\n",
       "[0, I]])"
      ]
     },
     "metadata": {},
     "output_type": "display_data"
    }
   ],
   "source": [
    "import sympy as sym\n",
    "from geqo.gates.fundamental_gates import SGate, InverseSGate\n",
    "from geqo.simulators.sympy import simulatorUnitarySymPy\n",
    "\n",
    "gate = SGate()  # Create an SGate.\n",
    "\n",
    "sim = simulatorUnitarySymPy(1)\n",
    "\n",
    "sim.apply(gate, [0])\n",
    "display(sim.u)"
   ]
  },
  {
   "cell_type": "markdown",
   "id": "f0e8b8bb",
   "metadata": {},
   "source": [
    "Applying the ```InverseSGate``` after the ```SGate``` gate leads to the identity."
   ]
  },
  {
   "cell_type": "code",
   "execution_count": 19,
   "id": "b99049c8",
   "metadata": {},
   "outputs": [
    {
     "data": {
      "text/latex": [
       "$\\displaystyle \\left[\\begin{matrix}1 & 0\\\\0 & 1\\end{matrix}\\right]$"
      ],
      "text/plain": [
       "Matrix([\n",
       "[1, 0],\n",
       "[0, 1]])"
      ]
     },
     "metadata": {},
     "output_type": "display_data"
    }
   ],
   "source": [
    "gate2 = InverseSGate()  # Create an InverseSGate.\n",
    "sim.apply(gate2, [0])\n",
    "display(sim.u)"
   ]
  },
  {
   "cell_type": "markdown",
   "id": "a90651c9",
   "metadata": {},
   "source": [
    "## SwapQubits\n",
    "This operation acts on two qubits and it corresponds to exchanging two qubits."
   ]
  },
  {
   "cell_type": "code",
   "execution_count": 20,
   "id": "7d093ca2",
   "metadata": {},
   "outputs": [
    {
     "data": {
      "text/latex": [
       "$\\displaystyle \\left[\\begin{matrix}1 & 0 & 0 & 0\\\\0 & 0 & 1 & 0\\\\0 & 1 & 0 & 0\\\\0 & 0 & 0 & 1\\end{matrix}\\right]$"
      ],
      "text/plain": [
       "Matrix([\n",
       "[1, 0, 0, 0],\n",
       "[0, 0, 1, 0],\n",
       "[0, 1, 0, 0],\n",
       "[0, 0, 0, 1]])"
      ]
     },
     "metadata": {},
     "output_type": "display_data"
    }
   ],
   "source": [
    "import sympy as sym\n",
    "from geqo.gates.fundamental_gates import SwapQubits\n",
    "from geqo.simulators.sympy import simulatorUnitarySymPy\n",
    "\n",
    "gate = SwapQubits()  # Create the SwapQubits gate\n",
    "\n",
    "sim = simulatorUnitarySymPy(2)  # The operation acts on two qubits.\n",
    "sim.apply(gate, [0, 1])\n",
    "display(sim.u)  # Show the corresponding unitary operation."
   ]
  },
  {
   "cell_type": "code",
   "execution_count": null,
   "id": "efad9ec9",
   "metadata": {},
   "outputs": [],
   "source": []
  }
 ],
 "metadata": {
  "kernelspec": {
   "display_name": "geqo",
   "language": "python",
   "name": "python3"
  },
  "language_info": {
   "codemirror_mode": {
    "name": "ipython",
    "version": 3
   },
   "file_extension": ".py",
   "mimetype": "text/x-python",
   "name": "python",
   "nbconvert_exporter": "python",
   "pygments_lexer": "ipython3",
   "version": "3.12.11"
  }
 },
 "nbformat": 4,
 "nbformat_minor": 5
}

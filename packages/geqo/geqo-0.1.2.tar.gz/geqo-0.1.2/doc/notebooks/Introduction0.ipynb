{
 "cells": [
  {
   "cell_type": "markdown",
   "id": "3f74faf7-20c4-4640-800e-3754b54c5c09",
   "metadata": {},
   "source": [
    "# Introduction to geqo\n",
    "\n",
    "In the following sections, all features of geqo are presented and small examples are shown for how to use the features. \n",
    "\n",
    "- **Quick Start**: This section contains two small examples for a quick start.\n",
    "- **Unitary gates**: All build-in unitary basic gates are explained, i.e. these gates are not decomposed into other gates internally. \n",
    "- **Additional unitary gates**: More complex unitary gates, which are decomposed internally into sequences of other gates.\n",
    "- **Non-Unitary operations**: Explanation of operations like measurements or setting qubits.\n",
    "- **Sequences and Controls**: Basic constructions of circuits and controlled operations.\n",
    "- **Simulators**: All build-in simulators are presented and it shown how to simulate quantum circuits and how to get the results. \n",
    "- **Conversion to OpenQASM3**: In this section, the conversion of circuits defined in geqo to OpenQASM3 is demonstrated.\n",
    "- **Visualisation of quantum circuits**: Explanation of Matplotlib and Latex backends to create circuit diagrams."
   ]
  }
 ],
 "metadata": {
  "kernelspec": {
   "display_name": "Python 3 (ipykernel)",
   "language": "python",
   "name": "python3"
  },
  "language_info": {
   "codemirror_mode": {
    "name": "ipython",
    "version": 3
   },
   "file_extension": ".py",
   "mimetype": "text/x-python",
   "name": "python",
   "nbconvert_exporter": "python",
   "pygments_lexer": "ipython3",
   "version": "3.12.11"
  }
 },
 "nbformat": 4,
 "nbformat_minor": 5
}

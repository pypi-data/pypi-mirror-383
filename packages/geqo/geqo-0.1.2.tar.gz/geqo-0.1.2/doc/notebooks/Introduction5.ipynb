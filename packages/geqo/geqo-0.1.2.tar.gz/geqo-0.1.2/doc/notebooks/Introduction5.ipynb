{
 "cells": [
  {
   "cell_type": "markdown",
   "id": "c9aa6922",
   "metadata": {},
   "source": [
    "# Sequences and Controls"
   ]
  },
  {
   "cell_type": "markdown",
   "id": "462c8753",
   "metadata": {},
   "source": [
    "The concatenation of several gates is the most important contruction for quantum circuits. Besides this, \n",
    "using classical bits as well as qubits to control the execution of gates is also an important building block of quantum circuits. The following constructions are supported by geqo for building up quantum circuits:\n",
    "- Sequence\n",
    "- QuantumControl\n",
    "- ClassicalControl"
   ]
  },
  {
   "cell_type": "markdown",
   "id": "54a758a0",
   "metadata": {},
   "source": [
    "## Sequence\n",
    "With the ```Sequence``` constructions, several quantum operations can be assembled together to a single operation.\n",
    "\n",
    "The first two arguments of ```Sequence``` are lists of quantum and classical bits in the circuit and the third argument is the list of operations in the circuits. Each entry in the latter list consists of the gate, its quantum targets, and classical targets. In this example, the gates have no parameters like rotation angles.\n",
    "\n",
    "Qubits and classical bits can be referred to by their name or their position in the provided list of qubits and classical bits, respectively."
   ]
  },
  {
   "cell_type": "code",
   "execution_count": 1,
   "id": "0ca8858a",
   "metadata": {},
   "outputs": [
    {
     "data": {
      "text/plain": [
       "{(0,): (1/2,\n",
       "  Matrix([\n",
       "  [1/2, 1/2, 0, 0],\n",
       "  [1/2, 1/2, 0, 0],\n",
       "  [  0,   0, 0, 0],\n",
       "  [  0,   0, 0, 0]])),\n",
       " (1,): (1/2,\n",
       "  Matrix([\n",
       "  [0, 0,   0,   0],\n",
       "  [0, 0,   0,   0],\n",
       "  [0, 0, 1/2, 1/2],\n",
       "  [0, 0, 1/2, 1/2]]))}"
      ]
     },
     "execution_count": 1,
     "metadata": {},
     "output_type": "execute_result"
    }
   ],
   "source": [
    "from geqo.gates import Hadamard\n",
    "from geqo.core.quantum_circuit import Sequence\n",
    "from geqo.operations import Measure\n",
    "from geqo.simulators.sympy import ensembleSimulatorSymPy\n",
    "\n",
    "seq = Sequence(\n",
    "    [\"q0\", \"q1\"],\n",
    "    [\"c0\"],\n",
    "    [(Hadamard(), [\"q0\"], []), (Hadamard(), [\"q1\"], []), (Measure(1), [\"q0\"], [\"c0\"])],\n",
    ")\n",
    "\n",
    "sim = ensembleSimulatorSymPy(2, 1)\n",
    "sim.apply(seq, [0, 1], [0])\n",
    "sim.ensemble"
   ]
  },
  {
   "cell_type": "markdown",
   "id": "238d91f7",
   "metadata": {},
   "source": [
    "## QuantumControl\n",
    "With this construction, a gate can be turned into a gate with control qubits, i.e., the gate is only applied to one or several qubits, if the control qubits have a specified state in the computational basis. The first argument of ```QuantumControl``` is a list of 0 and 1 values, which indicate whether a control qubit should lead to the execution of the gate in the basis state $|0\\rangle$ or $|1\\rangle$. The second argument is the gate, which should be turned into the controlled version."
   ]
  },
  {
   "cell_type": "code",
   "execution_count": 2,
   "id": "df3cfb60",
   "metadata": {},
   "outputs": [
    {
     "name": "stdout",
     "output_type": "stream",
     "text": [
      "Ensemble 1:\n",
      "{(): (1, Matrix([\n",
      "[1/2, 1/2, 0, 0],\n",
      "[1/2, 1/2, 0, 0],\n",
      "[  0,   0, 0, 0],\n",
      "[  0,   0, 0, 0]]))}\n",
      "Ensemble 2:\n",
      "{(): (1, Matrix([\n",
      "[0, 0,   0,   0],\n",
      "[0, 0,   0,   0],\n",
      "[0, 0, 1/2, 1/2],\n",
      "[0, 0, 1/2, 1/2]]))}\n"
     ]
    }
   ],
   "source": [
    "from geqo.gates import Hadamard, PauliX\n",
    "from geqo.operations.controls import QuantumControl\n",
    "from geqo.simulators.sympy import ensembleSimulatorSymPy\n",
    "\n",
    "gate = QuantumControl([0], Hadamard())\n",
    "\n",
    "sim = ensembleSimulatorSymPy(2, 0)\n",
    "sim.apply(gate, [0, 1])  # The gate is executed because the control qubit is in state 0.\n",
    "print(\"Ensemble 1:\")\n",
    "print(sim.ensemble)  # Show the resulting ensemble.\n",
    "\n",
    "sim.apply(PauliX(), [0])  # Set the state of the control qubit to 1.\n",
    "sim.apply(\n",
    "    gate, [0, 1]\n",
    ")  # The gate is not executed because the control qubit is in state 1.\n",
    "print(\"Ensemble 2:\")\n",
    "print(sim.ensemble)  # Show the resulting ensemble."
   ]
  },
  {
   "cell_type": "markdown",
   "id": "87a9b005",
   "metadata": {},
   "source": [
    "## ClassicalControl\n",
    "With this construction, a gate can be turned into a gate with classical control bits, i.e., the gate is only applied to one or several qubits, if the control bits are set to specific values. The first argument of ```ClassicalControl``` is a list of 0 and 1 values, which indicate whether a classical control bit should lead to the execution of the gate if it is set to $0$ or $1$. The second argument is the gate, which should be turned into the controlled version."
   ]
  },
  {
   "cell_type": "code",
   "execution_count": 3,
   "id": "f5ebe63e",
   "metadata": {},
   "outputs": [
    {
     "name": "stdout",
     "output_type": "stream",
     "text": [
      "Ensemble 1:\n",
      "{(0,): (1, Matrix([\n",
      "[1/2, 1/2],\n",
      "[1/2, 1/2]]))}\n",
      "Ensemble 2:\n",
      "{(1,): (1, Matrix([\n",
      "[1/2, 1/2],\n",
      "[1/2, 1/2]]))}\n",
      "Ensemble 3:\n",
      "{(1,): (1, Matrix([\n",
      "[1/2, 1/2],\n",
      "[1/2, 1/2]]))}\n",
      "Ensemble 4:\n",
      "{(1,): (1, Matrix([\n",
      "[1, 0],\n",
      "[0, 0]]))}\n"
     ]
    }
   ],
   "source": [
    "from geqo.gates import Hadamard\n",
    "from geqo.operations.controls import ClassicalControl\n",
    "from geqo.simulators.sympy import ensembleSimulatorSymPy\n",
    "from geqo.initialization import SetBits\n",
    "\n",
    "gate1 = ClassicalControl([0], Hadamard())  # implement Hadamard if the classical bit = 0\n",
    "gate2 = ClassicalControl([1], Hadamard())  # implement Hadamard if the classical bit = 1\n",
    "\n",
    "bits = SetBits(\"a\", 1)\n",
    "\n",
    "sim = ensembleSimulatorSymPy(1, 1)\n",
    "sim.setValue(\"a\", [1])\n",
    "\n",
    "sim.apply(\n",
    "    gate1, [0], [0]\n",
    ")  # Apply the gate. SetBits was not used, so the classical bit is 0.\n",
    "print(\"Ensemble 1:\")\n",
    "print(sim.ensemble)  # Show the resulting ensemble.\n",
    "\n",
    "sim.apply(bits, [], [0])  # Set the bit to value 1.\n",
    "print(\"Ensemble 2:\")\n",
    "print(sim.ensemble)  # Show the resulting ensemble.\n",
    "\n",
    "# This operation should be turned off.\n",
    "sim.apply(\n",
    "    gate1, [0], [0]\n",
    ")  # This operation is not executed, because the classical bit is now 1.\n",
    "print(\"Ensemble 3:\")\n",
    "print(sim.ensemble)  # Show the resulting ensemble.\n",
    "\n",
    "# This operation should be applied since classical bit =1\n",
    "sim.apply(gate2, [0], [0])\n",
    "print(\"Ensemble 4:\")\n",
    "print(sim.ensemble)  # Show the resulting ensemble."
   ]
  }
 ],
 "metadata": {
  "kernelspec": {
   "display_name": "Python 3 (ipykernel)",
   "language": "python",
   "name": "python3"
  },
  "language_info": {
   "codemirror_mode": {
    "name": "ipython",
    "version": 3
   },
   "file_extension": ".py",
   "mimetype": "text/x-python",
   "name": "python",
   "nbconvert_exporter": "python",
   "pygments_lexer": "ipython3",
   "version": "3.12.11"
  }
 },
 "nbformat": 4,
 "nbformat_minor": 5
}

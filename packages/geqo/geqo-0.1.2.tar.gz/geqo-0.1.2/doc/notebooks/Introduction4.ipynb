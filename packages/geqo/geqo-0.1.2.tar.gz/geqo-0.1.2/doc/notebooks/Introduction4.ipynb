{
 "cells": [
  {
   "cell_type": "markdown",
   "id": "12b1cb6e",
   "metadata": {},
   "source": [
    "# Non-Unitary operations"
   ]
  },
  {
   "cell_type": "markdown",
   "id": "3be40930",
   "metadata": {},
   "source": [
    "Besided the unitary operations, non-unitary operations are also an important part of geqo. Currently, the following non-unitary operators are supported by geqo:\n",
    "- Measure\n",
    "- DropQubits\n",
    "- SetBits\n",
    "- SetQubits\n",
    "- SetDensityMatrix"
   ]
  },
  {
   "cell_type": "markdown",
   "id": "1d8afb30",
   "metadata": {},
   "source": [
    "## Measure\n",
    "This operation corresponds to a measurement of qubits in the standard basis and the results are stored in classical bits. The parameter of ```Measure``` is the number of qubits, that are measured. This is equal to the number of classical bits to store the results.\n",
    "\n",
    "In the following example, a Hadamard operation generates an equal superposition of both basis states $|0\\rangle$ and $|1\\rangle$ and after this operation the measurement on the qubit is performed. \n",
    "\n",
    "The simulator ```ensembleSimulatorSymPy``` keeps track of the measurement results and their corresponding probabilities and the resulting density matrices for each possible measurement result."
   ]
  },
  {
   "cell_type": "code",
   "execution_count": 1,
   "id": "197f0c77",
   "metadata": {},
   "outputs": [
    {
     "data": {
      "text/plain": [
       "{(0,): (1/2,\n",
       "  Matrix([\n",
       "  [1, 0],\n",
       "  [0, 0]])),\n",
       " (1,): (1/2,\n",
       "  Matrix([\n",
       "  [0, 0],\n",
       "  [0, 1]]))}"
      ]
     },
     "execution_count": 1,
     "metadata": {},
     "output_type": "execute_result"
    }
   ],
   "source": [
    "from geqo.simulators.sympy import ensembleSimulatorSymPy\n",
    "from geqo.gates.fundamental_gates import Hadamard\n",
    "from geqo.operations.measurement import Measure\n",
    "\n",
    "gate = Hadamard()  # Create a Hadamard gate for generating an equal superposition of both basis states of a qubit.\n",
    "meas = Measure(\n",
    "    1\n",
    ")  # Create a measurement operation for one qubit; the result is stored in one classical bit.\n",
    "\n",
    "sim = ensembleSimulatorSymPy(1, 1)  # We need one qubit and one classical bit.\n",
    "\n",
    "sim.apply(gate, [0])  # Generate the superposition of both states.\n",
    "sim.apply(\n",
    "    meas, [0], [0]\n",
    ")  # The measurement is applied to the qubit and the result is stored in the classical bit.\n",
    "\n",
    "sim.ensemble"
   ]
  },
  {
   "cell_type": "markdown",
   "id": "c4cfcfd6",
   "metadata": {},
   "source": [
    "## DropQubits\n",
    "With this operation, one or more qubits can be dropped, i.e. the qubits are no longer part of the quantum state space after this operation. The dimension of the state space is reduced accordingly and the density matrix is traced out. \n",
    "\n",
    "Note that the qubits and the order of all qubits stay in the list of qubits in a ```Sequence``` or simulator to avoid problems with referring to qubits."
   ]
  },
  {
   "cell_type": "code",
   "execution_count": 4,
   "id": "0315c7c8",
   "metadata": {},
   "outputs": [
    {
     "data": {
      "text/plain": [
       "{(): (1, Matrix([[1]]))}"
      ]
     },
     "execution_count": 4,
     "metadata": {},
     "output_type": "execute_result"
    }
   ],
   "source": [
    "from geqo.simulators.sympy import ensembleSimulatorSymPy\n",
    "from geqo.gates.fundamental_gates import Hadamard\n",
    "from geqo.operations.measurement import DropQubits\n",
    "\n",
    "gate = Hadamard()\n",
    "drop = DropQubits(1)\n",
    "\n",
    "sim = ensembleSimulatorSymPy(1, 0)\n",
    "sim.apply(gate, [0])\n",
    "sim.apply(drop, [0])\n",
    "\n",
    "sim.ensemble"
   ]
  },
  {
   "cell_type": "markdown",
   "id": "3dac0fec",
   "metadata": {},
   "source": [
    "## SetBits\n",
    "The operation ```SetBits``` allows to set the values of classical bits. The first argument is a name for the bit values and the second argument is the number of classical bits, which the operation acts on. \n",
    "\n",
    "For most simulators, the method ```setValue``` must be used to assign a value to the settings of bits in the form of a list of 0 and 1 values."
   ]
  },
  {
   "cell_type": "code",
   "execution_count": 5,
   "id": "a7d63a35",
   "metadata": {},
   "outputs": [
    {
     "data": {
      "text/plain": [
       "{(1, 0): (1,\n",
       "  Matrix([\n",
       "  [1/2, 1/2],\n",
       "  [1/2, 1/2]]))}"
      ]
     },
     "execution_count": 5,
     "metadata": {},
     "output_type": "execute_result"
    }
   ],
   "source": [
    "from geqo.simulators.sympy import ensembleSimulatorSymPy\n",
    "from geqo.gates.fundamental_gates import Hadamard\n",
    "from geqo.initialization import SetBits\n",
    "\n",
    "gate = Hadamard()\n",
    "bits = SetBits(\"a\", 2)\n",
    "\n",
    "sim = ensembleSimulatorSymPy(1, 2)\n",
    "sim.setValue(\"a\", [1, 0])\n",
    "\n",
    "sim.apply(gate, [0])\n",
    "sim.apply(bits, [], [0, 1])\n",
    "\n",
    "sim.ensemble"
   ]
  },
  {
   "cell_type": "markdown",
   "id": "8654f4f6",
   "metadata": {},
   "source": [
    "## SetQubits\n",
    "The operation ```SetQubits``` allows to set the values of qubits to $|0\\rangle$ and $|1\\rangle$. The first argument is a name for the qubit values and the second argument is the number of qubits, which the operation acts on. \n",
    "\n",
    "For most simulators, the method ```setValue``` must be used to assign a value to the settings of qubits in the form of a list of 0 and 1 values. The value $0$ and $1$ indicate whether a qubit is set to $|0\\rangle$ or $|1\\rangle$ in the standard basis."
   ]
  },
  {
   "cell_type": "code",
   "execution_count": 6,
   "id": "b01f6639",
   "metadata": {},
   "outputs": [
    {
     "data": {
      "text/plain": [
       "{(): (1,\n",
       "  Matrix([\n",
       "  [0, 0, 0, 0],\n",
       "  [0, 0, 0, 0],\n",
       "  [0, 0, 1, 0],\n",
       "  [0, 0, 0, 0]]))}"
      ]
     },
     "execution_count": 6,
     "metadata": {},
     "output_type": "execute_result"
    }
   ],
   "source": [
    "from geqo.simulators.sympy import ensembleSimulatorSymPy\n",
    "from geqo.gates.fundamental_gates import Hadamard\n",
    "from geqo.initialization import SetQubits\n",
    "\n",
    "qubits = SetQubits(\"a\", 2)\n",
    "\n",
    "sim = ensembleSimulatorSymPy(2, 0)\n",
    "sim.setValue(\"a\", [1, 0])\n",
    "\n",
    "sim.apply(qubits, [0, 1])\n",
    "\n",
    "sim.ensemble"
   ]
  },
  {
   "cell_type": "markdown",
   "id": "89764f17",
   "metadata": {},
   "source": [
    "## SetDensityMatrix\n",
    "This operator allows to set the density matrix of one or more qubits. Before the state is set, the affected qubits are traced out, leading to a mixed state in general. The first argument is a name for the density matrix and the second argument is the number of qubits, which the operation acts on. \n",
    "\n",
    "For most simulators, the method ```setValue``` must be used to assign a value to the density matrix. In the following example, the SymPy based simulator ```simulatorUnitarySymPy``` is used and it supports symbolic values for the phase."
   ]
  },
  {
   "cell_type": "code",
   "execution_count": 7,
   "id": "703d2714",
   "metadata": {},
   "outputs": [
    {
     "data": {
      "text/plain": [
       "{(): (1,\n",
       "  Matrix([\n",
       "  [0.5,   0],\n",
       "  [  0, 0.5]]))}"
      ]
     },
     "execution_count": 7,
     "metadata": {},
     "output_type": "execute_result"
    }
   ],
   "source": [
    "import sympy as sym\n",
    "from geqo.simulators.sympy import ensembleSimulatorSymPy\n",
    "from geqo.gates.fundamental_gates import Hadamard\n",
    "from geqo.initialization import SetDensityMatrix\n",
    "\n",
    "density = SetDensityMatrix(\"a\", 1)\n",
    "\n",
    "sim = ensembleSimulatorSymPy(1, 0)\n",
    "sim.setValue(\"a\", sym.Matrix([[1 / 2, 0], [0, 1 / 2]]))\n",
    "\n",
    "sim.apply(density, [0])\n",
    "\n",
    "sim.ensemble"
   ]
  },
  {
   "cell_type": "code",
   "execution_count": null,
   "id": "d1973c06",
   "metadata": {},
   "outputs": [],
   "source": []
  }
 ],
 "metadata": {
  "kernelspec": {
   "display_name": "Python 3 (ipykernel)",
   "language": "python",
   "name": "python3"
  },
  "language_info": {
   "codemirror_mode": {
    "name": "ipython",
    "version": 3
   },
   "file_extension": ".py",
   "mimetype": "text/x-python",
   "name": "python",
   "nbconvert_exporter": "python",
   "pygments_lexer": "ipython3",
   "version": "3.12.11"
  }
 },
 "nbformat": 4,
 "nbformat_minor": 5
}

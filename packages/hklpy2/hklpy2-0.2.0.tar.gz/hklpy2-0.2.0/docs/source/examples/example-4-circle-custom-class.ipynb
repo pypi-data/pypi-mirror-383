{
 "cells": [
  {
   "cell_type": "markdown",
   "id": "89ae8342-d7e0-465e-885e-3e56082f8575",
   "metadata": {},
   "source": [
    "(example.e4cv.custom-class)=\n",
    "# Example 4-circle diffractometer custom Python class\n",
    "\n",
    "It's always possible to define your own subclass of\n",
    "{class}`~hklpy2.diffract.DiffractometerBase()` when you need more control than\n",
    "provided by {func}`~hklpy2.diffract.creator()`. (See\n",
    "{doc}`example-4-circle-creator` for the same diffractometer built with the\n",
    "{func}`~hklpy2.diffract.creator()` function.)\n",
    "\n",
    "Here's a brief example of a 4-circle diffractometer with a custom Python class.\n",
    "Add many additional axes, both in real (rotation angle) space and in reciprocal\n",
    "(pseudo) space."
   ]
  },
  {
   "cell_type": "code",
   "execution_count": 1,
   "id": "b6f15454-7d0d-418a-bef4-89be51a26cf1",
   "metadata": {
    "scrolled": true
   },
   "outputs": [
    {
     "data": {
      "text/plain": [
       "Fourc(prefix='gp:', name='fourc', settle_time=0.0, timeout=None, egu='', limits=(0, 0), source='computed', read_attrs=['beam', 'beam.wavelength', 'beam.energy', 'h', 'h.readback', 'h.setpoint', 'k', 'k.readback', 'k.setpoint', 'l', 'l.readback', 'l.setpoint', 'ttheta', 'ttheta.user_readback', 'ttheta.user_setpoint', 'theta', 'theta.user_readback', 'theta.user_setpoint', 'chi', 'chi.user_readback', 'chi.user_setpoint', 'phi', 'phi.user_readback', 'phi.user_setpoint', 'h2', 'h2.readback', 'h2.setpoint', 'k2', 'k2.readback', 'k2.setpoint', 'l2', 'l2.readback', 'l2.setpoint', 'psi', 'temperature'], configuration_attrs=['beam', 'beam.source_type', 'beam.wavelength_units', 'beam.wavelength_deadband', 'beam.energy_units', 'h', 'k', 'l', 'ttheta', 'ttheta.user_offset', 'ttheta.user_offset_dir', 'ttheta.velocity', 'ttheta.acceleration', 'ttheta.motor_egu', 'theta', 'theta.user_offset', 'theta.user_offset_dir', 'theta.velocity', 'theta.acceleration', 'theta.motor_egu', 'chi', 'chi.user_offset', 'chi.user_offset_dir', 'chi.velocity', 'chi.acceleration', 'chi.motor_egu', 'phi', 'phi.user_offset', 'phi.user_offset_dir', 'phi.velocity', 'phi.acceleration', 'phi.motor_egu', 'h2', 'k2', 'l2'], concurrent=True)"
      ]
     },
     "execution_count": 1,
     "metadata": {},
     "output_type": "execute_result"
    }
   ],
   "source": [
    "import hklpy2\n",
    "from hklpy2.diffract import Hklpy2PseudoAxis\n",
    "from hklpy2.incident import EpicsMonochromatorRO\n",
    "from ophyd import Component as Cpt\n",
    "from ophyd import EpicsMotor\n",
    "from ophyd import Kind\n",
    "from ophyd import SoftPositioner\n",
    "\n",
    "NORMAL_HINTED = Kind.hinted | Kind.normal\n",
    "\n",
    "\n",
    "class Fourc(hklpy2.DiffractometerBase):\n",
    "    \"\"\"Test case.\"\"\"\n",
    "\n",
    "    beam = Cpt(\n",
    "        EpicsMonochromatorRO,\n",
    "        \"\",\n",
    "        source_type=\"Simulated read-only EPICS Monochromator\",\n",
    "        pv_energy=\"BraggERdbkAO\",  # the energy readback PV\n",
    "        energy_units=\"keV\",\n",
    "        pv_wavelength=\"BraggLambdaRdbkAO\",  # the wavelength readback PV\n",
    "        wavelength_units=\"angstrom\",\n",
    "        wavelength_deadband=0.000_150,\n",
    "        kind=NORMAL_HINTED,\n",
    "    )\n",
    "\n",
    "    # Pseudo-space axes, in order expected by hkl_soleil E4CV, engine=\"hkl\"\n",
    "    h = Cpt(Hklpy2PseudoAxis, \"\", kind=NORMAL_HINTED)  # noqa: E741\n",
    "    k = Cpt(Hklpy2PseudoAxis, \"\", kind=NORMAL_HINTED)  # noqa: E741\n",
    "    l = Cpt(Hklpy2PseudoAxis, \"\", kind=NORMAL_HINTED)  # noqa: E741\n",
    "\n",
    "    # Real-space axes, in our own order..\n",
    "    # Use different names than the solver for some axes\n",
    "    ttheta = Cpt(EpicsMotor, \"m29\", kind=NORMAL_HINTED)\n",
    "    theta = Cpt(EpicsMotor, \"m30\", kind=NORMAL_HINTED)\n",
    "    chi = Cpt(EpicsMotor, \"m31\", kind=NORMAL_HINTED)\n",
    "    phi = Cpt(EpicsMotor, \"m32\", kind=NORMAL_HINTED)\n",
    "\n",
    "    # Pseudo-space extra axes used in a couple modes.\n",
    "    h2 = Cpt(Hklpy2PseudoAxis, \"\", kind=NORMAL_HINTED)  # noqa: E741\n",
    "    k2 = Cpt(Hklpy2PseudoAxis, \"\", kind=NORMAL_HINTED)  # noqa: E741\n",
    "    l2 = Cpt(Hklpy2PseudoAxis, \"\", kind=NORMAL_HINTED)  # noqa: E741\n",
    "\n",
    "    # real-space extra axis used in a couple modes\n",
    "    psi = Cpt(SoftPositioner, limits=(-170, 170), init_pos=0, kind=NORMAL_HINTED)\n",
    "\n",
    "    # another Component, not used (yet)\n",
    "    temperature = Cpt(SoftPositioner, limits=(-75, 45), init_pos=25, kind=NORMAL_HINTED)\n",
    "\n",
    "    # Just the axes in expected order by hkl_soleil E4CV.\n",
    "    _pseudo = \"h k l\".split()\n",
    "    _real = \"theta chi phi ttheta\".split()\n",
    "\n",
    "    def __init__(self, prefix, **kwargs):\n",
    "        # kwargs[\"prefix\"] = prefix\n",
    "        super().__init__(\n",
    "            prefix=prefix,\n",
    "            solver=\"hkl_soleil\",\n",
    "            geometry=\"E4CV\",\n",
    "            solver_kwargs=dict(engine=\"hkl\"),\n",
    "            pseudos=[\"h\", \"k\", \"l\"],\n",
    "            reals=[\"theta\", \"chi\", \"phi\", \"ttheta\"],\n",
    "            **kwargs,\n",
    "        )\n",
    "\n",
    "\n",
    "fourc = Fourc(\"gp:\", name=\"fourc\")\n",
    "fourc.wait_for_connection()  # Recommended when connecting to control system.\n",
    "fourc"
   ]
  },
  {
   "cell_type": "code",
   "execution_count": 2,
   "id": "321bed6a",
   "metadata": {},
   "outputs": [
    {
     "name": "stdout",
     "output_type": "stream",
     "text": [
      "Brief 'where' report:\n",
      "wavelength=0.5466\n",
      "pseudos: h=0, k=0, l=0\n",
      "reals: theta=0, chi=0, phi=0, ttheta=0\n",
      "auxiliaries: h2=0, k2=0, l2=0, psi=0, temperature=25\n"
     ]
    }
   ],
   "source": [
    "print(\"Brief 'where' report:\")\n",
    "fourc.wh()"
   ]
  },
  {
   "cell_type": "code",
   "execution_count": 3,
   "id": "cf49df56",
   "metadata": {},
   "outputs": [
    {
     "name": "stdout",
     "output_type": "stream",
     "text": [
      "Full 'where' report:\n",
      "diffractometer='fourc'\n",
      "HklSolver(name='hkl_soleil', version='5.1.2', geometry='E4CV', engine_name='hkl', mode='bissector')\n",
      "Sample(name='sample', lattice=Lattice(a=1, system='cubic'))\n",
      "Orienting reflections: []\n",
      "U=[[1.0, 0.0, 0.0], [0.0, 1.0, 0.0], [0.0, 0.0, 1.0]]\n",
      "UB=[[6.2832, 0.0, 0.0], [0.0, 6.2832, 0.0], [0.0, 0.0, 6.2832]]\n",
      "constraint: -180.0 <= theta <= 180.0\n",
      "constraint: -180.0 <= chi <= 180.0\n",
      "constraint: -180.0 <= phi <= 180.0\n",
      "constraint: -180.0 <= ttheta <= 180.0\n",
      "Mode: bissector\n",
      "beam={'class': 'EpicsMonochromatorRO', 'source_type': 'Simulated read-only EPICS Monochromator', 'energy': 22.684, 'wavelength': 0.5466, 'energy_units': 'keV', 'wavelength_units': 'angstrom', 'wavelength_PV': 'gp:BraggLambdaRdbkAO', 'energy_PV': 'gp:BraggERdbkAO'}\n",
      "pseudos: h=0, k=0, l=0\n",
      "reals: theta=0, chi=0, phi=0, ttheta=0\n",
      "auxiliaries: h2=0, k2=0, l2=0, psi=0, temperature=25\n"
     ]
    }
   ],
   "source": [
    "print(\"Full 'where' report:\")\n",
    "fourc.wh(full=True)"
   ]
  },
  {
   "cell_type": "markdown",
   "id": "0c4860b0",
   "metadata": {},
   "source": [
    "Use the lower level methods to compute `forward()` and `inverse()` transformations."
   ]
  },
  {
   "cell_type": "code",
   "execution_count": 4,
   "id": "bc44c255",
   "metadata": {},
   "outputs": [
    {
     "data": {
      "text/plain": [
       "FourcRealPos(theta=-15.8598649004, chi=-1.3090364e-05, phi=-90.000002688413, ttheta=-31.7197298008)"
      ]
     },
     "execution_count": 4,
     "metadata": {},
     "output_type": "execute_result"
    }
   ],
   "source": [
    "fourc.forward(1, 0, 0)  # Shows the default choice."
   ]
  },
  {
   "cell_type": "code",
   "execution_count": 5,
   "id": "07e3c0fa",
   "metadata": {},
   "outputs": [
    {
     "data": {
      "text/plain": [
       "[FourcRealPos(theta=-15.8598649004, chi=-1.3090364e-05, phi=-90.000002688413, ttheta=-31.7197298008),\n",
       " FourcRealPos(theta=15.8598649004, chi=1.3090364e-05, phi=89.999997311587, ttheta=31.7197298008),\n",
       " FourcRealPos(theta=-164.1401350996, chi=-1.3090364e-05, phi=-90.000002688413, ttheta=31.7197298008),\n",
       " FourcRealPos(theta=-15.8598649004, chi=-179.999986909636, phi=89.999997311587, ttheta=-31.7197298008),\n",
       " FourcRealPos(theta=15.8598649004, chi=179.999986909636, phi=-90.000002688413, ttheta=31.7197298008),\n",
       " FourcRealPos(theta=-164.1401350996, chi=-179.999986909636, phi=89.999997311587, ttheta=31.7197298008)]"
      ]
     },
     "execution_count": 5,
     "metadata": {},
     "output_type": "execute_result"
    }
   ],
   "source": [
    "fourc.core.forward(dict(h=1, k=0, l=0))  # Shows ALL the possibilities."
   ]
  },
  {
   "cell_type": "code",
   "execution_count": 6,
   "id": "ada211c3",
   "metadata": {},
   "outputs": [
    {
     "data": {
      "text/plain": [
       "{'h': 1.829588727167, 'k': -4.18052e-07, 'l': -8.6387e-08}"
      ]
     },
     "execution_count": 6,
     "metadata": {},
     "output_type": "execute_result"
    }
   ],
   "source": [
    "fourc.core.inverse(dict(ttheta=60, theta=30, chi=0, phi=90))"
   ]
  }
 ],
 "metadata": {
  "kernelspec": {
   "display_name": "hklpy2",
   "language": "python",
   "name": "python3"
  },
  "language_info": {
   "codemirror_mode": {
    "name": "ipython",
    "version": 3
   },
   "file_extension": ".py",
   "mimetype": "text/x-python",
   "name": "python",
   "nbconvert_exporter": "python",
   "pygments_lexer": "ipython3",
   "version": "3.12.11"
  }
 },
 "nbformat": 4,
 "nbformat_minor": 5
}

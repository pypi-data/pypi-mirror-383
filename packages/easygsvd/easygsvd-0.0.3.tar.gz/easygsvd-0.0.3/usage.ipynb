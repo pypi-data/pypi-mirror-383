{
 "cells": [
  {
   "cell_type": "code",
   "execution_count": 1,
   "id": "c040e75f",
   "metadata": {},
   "outputs": [],
   "source": [
    "import numpy as np\n",
    "import matplotlib.pyplot as plt\n",
    "\n",
    "from easygsvd import gsvd, random_rank_matrix"
   ]
  },
  {
   "cell_type": "code",
   "execution_count": 20,
   "id": "2c74338c",
   "metadata": {},
   "outputs": [],
   "source": [
    "### Generate random test matrices\n",
    "\n",
    "# Set dimensions\n",
    "m = 63\n",
    "k = 48\n",
    "n = 56\n",
    "\n",
    "# Set rank\n",
    "r_A = n - 5\n",
    "r_L = k - 3\n",
    "\n",
    "# Generate A and L\n",
    "A = random_rank_matrix(m, n, r_A, seed=0)\n",
    "L = random_rank_matrix(k, n, r_L, seed=0)\n",
    "\n",
    "# Perform the GSVD\n",
    "gsvd_result = gsvd(A, L)"
   ]
  },
  {
   "cell_type": "code",
   "execution_count": 21,
   "id": "427c31b0",
   "metadata": {},
   "outputs": [
    {
     "name": "stdout",
     "output_type": "stream",
     "text": [
      "Generalized singular values:\n",
      "[       inf        inf        inf        inf        inf        inf\n",
      "        inf        inf        inf        inf        inf 2.72035938\n",
      " 2.45028489 2.31785569 2.299652   2.12861949 2.03734274 1.97211404\n",
      " 1.85061017 1.76708455 1.65450335 1.55042997 1.44972514 1.41874975\n",
      " 1.33915049 1.29648058 1.23649284 1.23311085 1.0959178  1.0706644\n",
      " 1.01957076 0.96709701 0.9084755  0.86639306 0.84208331 0.79888395\n",
      " 0.77346539 0.75013887 0.72706599 0.70698864 0.67367724 0.61855403\n",
      " 0.6162327  0.60923528 0.58137525 0.56514054 0.52937775 0.52058401\n",
      " 0.48697485 0.45805902 0.41764171 0.         0.         0.\n",
      " 0.         0.         0.         0.         0.         0.\n",
      " 0.         0.         0.         0.         0.         0.\n",
      " 0.         0.         0.         0.         0.         0.\n",
      " 0.         0.         0.         0.         0.         0.\n",
      " 0.         0.         0.         0.         0.         0.\n",
      " 0.         0.         0.         0.         0.         0.\n",
      " 0.         0.         0.         0.         0.         0.\n",
      " 0.         0.         0.         0.         0.         0.        ]\n"
     ]
    }
   ],
   "source": [
    "print(\"Generalized singular values:\")\n",
    "print(gsvd_result.gamma)"
   ]
  },
  {
   "cell_type": "code",
   "execution_count": 22,
   "id": "3b65e76a",
   "metadata": {},
   "outputs": [
    {
     "name": "stdout",
     "output_type": "stream",
     "text": [
      "computed rank of A: 51\n",
      "computed rank of L: 45\n",
      "actual rank of A: 51\n",
      "actual rank of L: 45\n"
     ]
    }
   ],
   "source": [
    "print(f\"computed rank of A: {gsvd_result.r_A}\")\n",
    "print(f\"computed rank of L: {gsvd_result.r_L}\")\n",
    "print(f\"actual rank of A: {r_A}\")\n",
    "print(f\"actual rank of L: {r_L}\")"
   ]
  }
 ],
 "metadata": {
  "kernelspec": {
   "display_name": "jlinops",
   "language": "python",
   "name": "python3"
  },
  "language_info": {
   "codemirror_mode": {
    "name": "ipython",
    "version": 3
   },
   "file_extension": ".py",
   "mimetype": "text/x-python",
   "name": "python",
   "nbconvert_exporter": "python",
   "pygments_lexer": "ipython3",
   "version": "3.11.6"
  }
 },
 "nbformat": 4,
 "nbformat_minor": 5
}

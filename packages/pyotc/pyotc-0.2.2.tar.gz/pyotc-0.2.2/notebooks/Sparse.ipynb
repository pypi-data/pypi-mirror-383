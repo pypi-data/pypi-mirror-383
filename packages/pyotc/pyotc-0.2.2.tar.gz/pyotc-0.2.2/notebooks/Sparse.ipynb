{
 "cells": [
  {
   "cell_type": "markdown",
   "id": "537f1002",
   "metadata": {},
   "source": [
    "# Sparse Implementation of Exact OTC"
   ]
  },
  {
   "cell_type": "markdown",
   "id": "bbca9782",
   "metadata": {},
   "source": [
    "This notebook introduces the module `src/pyotc/otc_backend/policy_iteration/sparse`, which significantly improves the scalability of the `exact_otc` function, particularly in terms of memory efficiency. \n",
    "\n",
    "## Problem:\n",
    "The original `exact_otc` implementation in `src/pyotc/otc_backend/policy_iteration/dense` suffers from severy memory limitations. When comparing two graphs with $n$ nodes, the transition coupling matrix has dimensions $n^4$, making the function infeasible for graphs with more than ~200 nodes due to excessive memory usage.\n",
    "\n",
    "## Solution:\n",
    "We address this bottleneck by leveraging the sparsity often present in transition matrices. Recall that a transition coupling $R$ between $P$ and $Q$ must satisfy: \n",
    "\n",
    "$$ \\sum_{y \\in Y} R(x_1, y \\mid x_0, y_0) = P(x_1 \\mid x_0) \\quad \\text{ and } \\quad \\sum_{x \\in X} R(x, y_1 \\mid x_0, y_0) = Q(y_1 \\mid y_0), $$\n",
    "for every $x_0, x_1 \\in X$ and $y_0, y_1 \\in Y$.\n",
    "\n",
    "If either $(x_0, x_1)$ or $(y_0, y_1)$ is not connected in the graph, then $R(x_1, y_1 \\mid x_0, y_0) = 0$. This leads to a large number of zero entries, introducing natural sparsity in $R$.\n",
    "\n",
    "To exploit this, we replace `numpy` arrays with `scipy.sparse` matrices in the implementation. This change reduces memory usage and enables efficient computation, allowing us to handle larger graphs."
   ]
  },
  {
   "cell_type": "markdown",
   "id": "d58309cc",
   "metadata": {},
   "source": [
    "## Experimental Results:\n",
    "\n",
    "We evaluated the maximum graph size that each stationary distribution computation method can handle before running out of memory. Experiments were conducted on a server with 256 GB of RAM, using two randomly generated Stochastic Block Models (SBMs), each with 4 blocks and $n$ nodes.\n",
    "\n",
    "Dense Version: \n",
    "- `best`: $n=200$\n",
    "- `iterative`, `eigen`: $n=200$\n",
    " \n",
    "Sparse Version\n",
    "- `best`: $n=280$\n",
    "- `iterative`, `eigen`: $n=320$\n",
    "\n",
    "We expect the performance improvement to be even more pronounced for graphs that are sparser than the 4-block SBMs used above. For example, with 10-block SBMs, the sparse version can handle graphs with up to 430 nodes. In contrast, the dense version still caps out at around 200 nodes, as its implementation does not take advantage of sparsity."
   ]
  },
  {
   "cell_type": "markdown",
   "id": "c9825205",
   "metadata": {},
   "source": [
    "## Code Example:"
   ]
  },
  {
   "cell_type": "markdown",
   "id": "ad102b9c",
   "metadata": {},
   "source": [
    "### 1. Import Libraries"
   ]
  },
  {
   "cell_type": "code",
   "execution_count": 2,
   "id": "07b5b7c5",
   "metadata": {},
   "outputs": [],
   "source": [
    "import numpy as np\n",
    "import sys\n",
    "import os\n",
    "\n",
    "sys.path.append(os.path.abspath(\"../src\"))\n",
    "\n",
    "from pyotc.otc_backend.policy_iteration.sparse.exact import exact_otc\n",
    "from pyotc.otc_backend.graph.utils import adj_to_trans, get_degree_cost\n",
    "from pyotc.examples.stochastic_block_model import stochastic_block_model"
   ]
  },
  {
   "cell_type": "markdown",
   "id": "31f31b0a",
   "metadata": {},
   "source": [
    "### 2. Load Graphs"
   ]
  },
  {
   "cell_type": "code",
   "execution_count": 3,
   "id": "c591869a",
   "metadata": {},
   "outputs": [],
   "source": [
    "# Seed number\n",
    "np.random.seed(1)\n",
    "\n",
    "# Generate two stochastic block model graphs with 4 blocks, each containing 10 nodes\n",
    "m = 10\n",
    "A1 = stochastic_block_model(\n",
    "    (m, m, m, m),\n",
    "    np.array(\n",
    "        [\n",
    "            [0.9, 0.1, 0.1, 0.1],\n",
    "            [0.1, 0.9, 0.1, 0.1],\n",
    "            [0.1, 0.1, 0.9, 0.1],\n",
    "            [0.1, 0.1, 0.1, 0.9],\n",
    "        ]\n",
    "    ),\n",
    ")\n",
    "\n",
    "A2 = stochastic_block_model(\n",
    "    (m, m, m, m),\n",
    "    np.array(\n",
    "        [\n",
    "            [0.9, 0.1, 0.1, 0.1],\n",
    "            [0.1, 0.9, 0.1, 0.1],\n",
    "            [0.1, 0.1, 0.9, 0.1],\n",
    "            [0.1, 0.1, 0.1, 0.9],\n",
    "        ]\n",
    "    ),\n",
    ")"
   ]
  },
  {
   "cell_type": "markdown",
   "id": "5db3515e",
   "metadata": {},
   "source": [
    "### 3. Run Sparse `exact_otc`"
   ]
  },
  {
   "cell_type": "code",
   "execution_count": 4,
   "id": "97835baf",
   "metadata": {},
   "outputs": [
    {
     "name": "stdout",
     "output_type": "stream",
     "text": [
      "Starting exact_otc_sparse...\n",
      "Iteration: 0\n",
      "Computing exact TCE...\n",
      "Computing exact TCI...\n",
      "Iteration: 1\n",
      "Computing exact TCE...\n",
      "Computing exact TCI...\n",
      "Iteration: 2\n",
      "Computing exact TCE...\n",
      "Computing exact TCI...\n",
      "Iteration: 3\n",
      "Computing exact TCE...\n",
      "Computing exact TCI...\n",
      "Iteration: 4\n",
      "Computing exact TCE...\n",
      "Computing exact TCI...\n",
      "Convergence reached in 5 iterations. Computing stationary distribution...\n",
      "[exact_otc] Finished. Total time elapsed: 10.326 seconds.\n",
      "\n",
      "Exact OTC cost between SBM1 and SBM2: 0.9336440288840459\n"
     ]
    }
   ],
   "source": [
    "# Convert adjacency matrices to transition matrices\n",
    "P1 = adj_to_trans(A1)\n",
    "P2 = adj_to_trans(A2)\n",
    "\n",
    "# Define cost function\n",
    "c = get_degree_cost(A1, A2)\n",
    "\n",
    "# Run Exact OTC using the sparse implementation\n",
    "exp_cost, R, stat_dist = exact_otc(P1, P2, c, stat_dist=\"best\")\n",
    "print(\"\\nExact OTC cost between SBM1 and SBM2:\", exp_cost)"
   ]
  }
 ],
 "metadata": {
  "kernelspec": {
   "display_name": "pyotc2",
   "language": "python",
   "name": "python3"
  },
  "language_info": {
   "codemirror_mode": {
    "name": "ipython",
    "version": 3
   },
   "file_extension": ".py",
   "mimetype": "text/x-python",
   "name": "python",
   "nbconvert_exporter": "python",
   "pygments_lexer": "ipython3",
   "version": "3.10.18"
  }
 },
 "nbformat": 4,
 "nbformat_minor": 5
}

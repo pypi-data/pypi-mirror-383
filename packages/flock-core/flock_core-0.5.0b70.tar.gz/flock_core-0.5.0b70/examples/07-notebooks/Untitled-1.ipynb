{
 "cells": [
  {
   "cell_type": "code",
   "execution_count": 1,
   "id": "10649a43",
   "metadata": {},
   "outputs": [
    {
     "data": {
      "text/html": [
       "<pre style=\"white-space:pre;overflow-x:auto;line-height:normal;font-family:Menlo,'DejaVu Sans Mono',consolas,'Courier New',monospace\"></pre>\n"
      ],
      "text/plain": []
     },
     "metadata": {},
     "output_type": "display_data"
    },
    {
     "data": {
      "text/html": [
       "<pre style=\"white-space:pre;overflow-x:auto;line-height:normal;font-family:Menlo,'DejaVu Sans Mono',consolas,'Courier New',monospace\">\n",
       "<span style=\"color: #d78700; text-decoration-color: #d78700; font-weight: bold\">🦆    🐓     🐤     🐧</span>\n",
       "<span style=\"color: #d78700; text-decoration-color: #d78700; font-weight: bold\">╭━━━━━━━━━━━━━━━━━━━━━━━━╮</span>\n",
       "<span style=\"color: #d78700; text-decoration-color: #d78700; font-weight: bold\">│ ▒█▀▀▀ █░░ █▀▀█ █▀▀ █░█ │</span>\n",
       "<span style=\"color: #d78700; text-decoration-color: #d78700; font-weight: bold\">│ ▒█▀▀▀ █░░ █░░█ █░░ █▀▄ │</span>\n",
       "<span style=\"color: #d78700; text-decoration-color: #d78700; font-weight: bold\">│ ▒█░░░ ▀▀▀ ▀▀▀▀ ▀▀▀ ▀░▀ │</span>\n",
       "<span style=\"color: #d78700; text-decoration-color: #d78700; font-weight: bold\">╰━━━━━━━━v0.5.0b━━━━━━━━━╯</span>\n",
       "<span style=\"color: #d78700; text-decoration-color: #d78700; font-weight: bold\">🦆     🐤    🐧     🐓</span>\n",
       "\n",
       "</pre>\n"
      ],
      "text/plain": [
       "\n",
       "\u001b[1;38;5;172m🦆    🐓     🐤     🐧\u001b[0m\n",
       "\u001b[1;38;5;172m╭━━━━━━━━━━━━━━━━━━━━━━━━╮\u001b[0m\n",
       "\u001b[1;38;5;172m│ ▒█▀▀▀ █░░ █▀▀█ █▀▀ █░█ │\u001b[0m\n",
       "\u001b[1;38;5;172m│ ▒█▀▀▀ █░░ █░░█ █░░ █▀▄ │\u001b[0m\n",
       "\u001b[1;38;5;172m│ ▒█░░░ ▀▀▀ ▀▀▀▀ ▀▀▀ ▀░▀ │\u001b[0m\n",
       "\u001b[1;38;5;172m╰━━━━━━━━v0.5.0b━━━━━━━━━╯\u001b[0m\n",
       "\u001b[1;38;5;172m🦆     🐤    🐧     🐓\u001b[0m\n",
       "\n"
      ]
     },
     "metadata": {},
     "output_type": "display_data"
    },
    {
     "data": {
      "text/html": [
       "<pre style=\"white-space:pre;overflow-x:auto;line-height:normal;font-family:Menlo,'DejaVu Sans Mono',consolas,'Courier New',monospace\"><span style=\"color: #008000; text-decoration-color: #008000; font-style: italic\">'Raven'</span> milestone - <span style=\"font-weight: bold\">white duck GmbH</span> - <span style=\"color: #008080; text-decoration-color: #008080; text-decoration: underline\">https://whiteduck.de</span>\n",
       "\n",
       "</pre>\n"
      ],
      "text/plain": [
       "\u001b[3;32m'Raven'\u001b[0m milestone - \u001b[1mwhite duck GmbH\u001b[0m - \u001b[4;36mhttps://whiteduck.de\u001b[0m\n",
       "\n"
      ]
     },
     "metadata": {},
     "output_type": "display_data"
    },
    {
     "data": {
      "text/html": [
       "<pre style=\"white-space:pre;overflow-x:auto;line-height:normal;font-family:Menlo,'DejaVu Sans Mono',consolas,'Courier New',monospace\"><span style=\"font-style: italic\">Global Model:</span> openai/gpt-<span style=\"color: #008080; text-decoration-color: #008080; font-weight: bold\">4.1</span>\n",
       "\n",
       "</pre>\n"
      ],
      "text/plain": [
       "\u001b[3mGlobal Model:\u001b[0m openai/gpt-\u001b[1;36m4.1\u001b[0m\n",
       "\n"
      ]
     },
     "metadata": {},
     "output_type": "display_data"
    },
    {
     "data": {
      "application/vnd.jupyter.widget-view+json": {
       "model_id": "0e650cd9d87f4d448dd9505ff81bdabe",
       "version_major": 2,
       "version_minor": 0
      },
      "text/plain": [
       "Output()"
      ]
     },
     "metadata": {},
     "output_type": "display_data"
    },
    {
     "data": {
      "text/html": [
       "<pre style=\"white-space:pre;overflow-x:auto;line-height:normal;font-family:Menlo,'DejaVu Sans Mono',consolas,'Courier New',monospace\"></pre>\n"
      ],
      "text/plain": []
     },
     "metadata": {},
     "output_type": "display_data"
    }
   ],
   "source": [
    "\n",
    "\n",
    "\n",
    "from datetime import datetime\n",
    "\n",
    "from pydantic import BaseModel, Field\n",
    "\n",
    "from flock.orchestrator import Flock\n",
    "from flock.registry import flock_type\n",
    "\n",
    "\n",
    "@flock_type\n",
    "class BugReport(BaseModel):\n",
    "    title: str\n",
    "    description: str\n",
    "    reporter: str\n",
    "    timestamp: datetime = Field(default_factory=datetime.now)\n",
    "\n",
    "\n",
    "@flock_type\n",
    "class BugDiagnosis(BaseModel):\n",
    "    severity: str = Field(pattern=\"^(Critical|High|Medium|Low)$\")\n",
    "    category: str = Field(description=\"Bug category\")\n",
    "    root_cause_hypothesis: str = Field(min_length=50)\n",
    "    confidence_score: float = Field(ge=0.0, le=1.0)\n",
    "\n",
    "\n",
    "flock = Flock(\"openai/gpt-4.1\")\n",
    "\n",
    "\n",
    "code_detective = (\n",
    "    flock.agent(\"code_detective\")\n",
    "    .description(\"A brilliant detective who analyzes bug reports and provides structured diagnoses\")\n",
    "    .consumes(BugReport)  # \"I react when BugReport appears on the blackboard\"\n",
    "    .publishes(BugDiagnosis)  # \"I produce BugDiagnosis artifacts\"\n",
    ")\n",
    "\n",
    "\n",
    "# 🐛 Create a bug report (this is our input)\n",
    "bug = BugReport(\n",
    "    title=\"App crashes when uploading large images\",\n",
    "    description=\"\"\"\n",
    "    Users report that when they try to upload images larger than 10MB,\n",
    "    the app freezes for about 30 seconds and then crashes with a memory error.\n",
    "    This happens on both iOS and Android. The logs show 'OutOfMemoryError'\n",
    "    in the image processing service. It started happening after we deployed\n",
    "    the new image compression feature last Tuesday.\n",
    "    \"\"\",\n",
    "    reporter=\"alice@example.com\",\n",
    ")\n",
    "\n",
    "await flock.publish(bug)\n",
    "\n",
    "await flock.run_until_idle()"
   ]
  }
 ],
 "metadata": {
  "kernelspec": {
   "display_name": "flock-core (3.12.11)",
   "language": "python",
   "name": "python3"
  },
  "language_info": {
   "codemirror_mode": {
    "name": "ipython",
    "version": 3
   },
   "file_extension": ".py",
   "mimetype": "text/x-python",
   "name": "python",
   "nbconvert_exporter": "python",
   "pygments_lexer": "ipython3",
   "version": "3.12.11"
  }
 },
 "nbformat": 4,
 "nbformat_minor": 5
}

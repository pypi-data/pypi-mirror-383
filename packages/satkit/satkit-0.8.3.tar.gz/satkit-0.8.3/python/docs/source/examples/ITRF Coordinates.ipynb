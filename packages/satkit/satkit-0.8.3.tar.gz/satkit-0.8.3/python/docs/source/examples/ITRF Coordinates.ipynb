{
 "cells": [
  {
   "cell_type": "markdown",
   "metadata": {},
   "source": [
    "# ITRF Coordinates"
   ]
  },
  {
   "cell_type": "code",
   "execution_count": null,
   "metadata": {},
   "outputs": [],
   "source": [
    "import satkit as sk\n",
    "\n",
    "# Specify a coordinate via Geodetic latitude & longitude (if altitude is left out, default is 0\n",
    "boston = sk.itrfcoord(latitude_deg=42.14, longitude_deg=-71.15)\n",
    "\n",
    "# Denver, CO is at a higher altitude; altitude is specified in meters\n",
    "denver = sk.itrfcoord(latitude_deg=32.7392, longitude_deg=-104.99, altitude=1600)\n",
    "print(f'Denver = {denver}')\n",
    "\n",
    "# Get the Cartesian vector for Denver\n",
    "print(f'Denver vector coordinate is {denver.vector}')\n",
    "\n",
    "# Create a duplicate of the Denver coordinate, using vector as input\n",
    "denver2 = sk.itrfcoord(denver.vector)\n",
    "print(f'Denver created from Cartesian is {denver2}')"
   ]
  },
  {
   "cell_type": "code",
   "execution_count": null,
   "metadata": {},
   "outputs": [],
   "source": [
    "import satkit as sk\n",
    "\n",
    "newyork = sk.itrfcoord(latitude_deg=40.7128, longitude_deg=-74.0060)\n",
    "destinations = [\n",
    "    {'name': 'London', 'latitude_deg': 51.5072, 'longitude_deg': -0.1276},\n",
    "    {'name': 'Paris', 'latitude_deg': 48.8566, 'longitude_deg': 2.3522},\n",
    "    {'name': 'Toronto', 'latitude_deg': 43.6532, 'longitude_deg': -79.3832},\n",
    "    {'name': 'Tokyo', 'latitude_deg': 35.6763, 'longitude_deg': 139.65},\n",
    "    {'name': 'Sau Paulo', 'latitude_deg': -23.5558, 'longitude_deg': -46.6396}\n",
    "]\n",
    "for dest in destinations:\n",
    "    destcoord = sk.itrfcoord(latitude_deg=dest['latitude_deg'], longitude_deg=dest['longitude_deg'])\n",
    "    # Distance, start, and end heading along great circle to destination coordinate\n",
    "    dist, _heading_start, _heading_end = newyork.geodesic_distance(destcoord)\n",
    "    print(f'New York to {dest['name']} distance is {dist/1e3:.0f} km')\n"
   ]
  }
 ],
 "metadata": {
  "kernelspec": {
   "display_name": "Python 3",
   "language": "python",
   "name": "python3"
  },
  "language_info": {
   "codemirror_mode": {
    "name": "ipython",
    "version": 3
   },
   "file_extension": ".py",
   "mimetype": "text/x-python",
   "name": "python",
   "nbconvert_exporter": "python",
   "pygments_lexer": "ipython3",
   "version": "3.13.0"
  }
 },
 "nbformat": 4,
 "nbformat_minor": 2
}

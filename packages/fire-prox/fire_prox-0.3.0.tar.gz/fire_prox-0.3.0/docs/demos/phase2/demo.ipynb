{
 "cells": [
  {
   "cell_type": "markdown",
   "id": "intro",
   "metadata": {},
   "source": [
    "# FireProx Phase 2 Feature Demo\n",
    "\n",
    "This notebook demonstrates the new Phase 2 features:\n",
    "- **Field-Level Dirty Tracking** - Fine-grained change detection\n",
    "- **Partial Updates** - Efficient updates sending only modified fields\n",
    "- **Subcollections** - Hierarchical data structures\n",
    "- **Atomic Operations** - ArrayUnion, ArrayRemove, Increment\n",
    "\n",
    "The demo is split into two sections:\n",
    "1. Synchronous API examples\n",
    "2. Asynchronous API examples"
   ]
  },
  {
   "cell_type": "markdown",
   "id": "setup",
   "metadata": {},
   "source": [
    "## Setup\n",
    "\n",
    "Import the necessary modules for both sync and async APIs."
   ]
  },
  {
   "cell_type": "code",
   "execution_count": 1,
   "id": "imports",
   "metadata": {
    "execution": {
     "iopub.execute_input": "2025-10-12T13:15:43.457903Z",
     "iopub.status.busy": "2025-10-12T13:15:43.457790Z",
     "iopub.status.idle": "2025-10-12T13:15:43.644410Z",
     "shell.execute_reply": "2025-10-12T13:15:43.644174Z"
    }
   },
   "outputs": [],
   "source": [
    "from fire_prox import AsyncFireProx, FireProx\n",
    "from fire_prox.testing import async_demo_client, demo_client"
   ]
  },
  {
   "cell_type": "markdown",
   "id": "part1-header",
   "metadata": {},
   "source": [
    "---\n",
    "\n",
    "# Part 1: Synchronous API Examples\n",
    "\n",
    "The following examples use the synchronous FireProx API."
   ]
  },
  {
   "cell_type": "markdown",
   "id": "sync-setup",
   "metadata": {},
   "source": [
    "### Initialize Sync Client"
   ]
  },
  {
   "cell_type": "code",
   "execution_count": 2,
   "id": "sync-client",
   "metadata": {
    "execution": {
     "iopub.execute_input": "2025-10-12T13:15:43.646034Z",
     "iopub.status.busy": "2025-10-12T13:15:43.645918Z",
     "iopub.status.idle": "2025-10-12T13:15:43.647646Z",
     "shell.execute_reply": "2025-10-12T13:15:43.647416Z"
    }
   },
   "outputs": [],
   "source": [
    "# Create sync client and collection\n",
    "client = demo_client()\n",
    "db = FireProx(client)\n",
    "users = db.collection('phase2_demo_users')"
   ]
  },
  {
   "cell_type": "markdown",
   "id": "sync-feature1",
   "metadata": {},
   "source": [
    "## Feature 1: Field-Level Dirty Tracking\n",
    "\n",
    "Track exactly which fields have been modified since the last save."
   ]
  },
  {
   "cell_type": "code",
   "execution_count": 3,
   "id": "sync-dirty-tracking",
   "metadata": {
    "execution": {
     "iopub.execute_input": "2025-10-12T13:15:43.648861Z",
     "iopub.status.busy": "2025-10-12T13:15:43.648780Z",
     "iopub.status.idle": "2025-10-12T13:15:43.953026Z",
     "shell.execute_reply": "2025-10-12T13:15:43.952733Z"
    }
   },
   "outputs": [
    {
     "name": "stdout",
     "output_type": "stream",
     "text": [
      "Initial state: dirty=False\n",
      "\n",
      "After changes:\n",
      "  is_dirty: True\n",
      "  dirty_fields: {'year', 'occupation'}\n",
      "  deleted_fields: set()\n",
      "\n",
      "After save: dirty=False\n"
     ]
    }
   ],
   "source": [
    "# Create a user with multiple fields\n",
    "user = users.new()\n",
    "user.name = 'Ada Lovelace'\n",
    "user.year = 1815\n",
    "user.occupation = 'Mathematician'\n",
    "user.country = 'England'\n",
    "user.save(doc_id='ada_sync')\n",
    "\n",
    "print(f\"Initial state: dirty={user.is_dirty()}\")\n",
    "\n",
    "# Modify only some fields\n",
    "user.year = 1816\n",
    "user.occupation = 'Computer Pioneer'\n",
    "\n",
    "# Inspect which fields changed\n",
    "print(\"\\nAfter changes:\")\n",
    "print(f\"  is_dirty: {user.is_dirty()}\")\n",
    "print(f\"  dirty_fields: {user.dirty_fields}\")\n",
    "print(f\"  deleted_fields: {user.deleted_fields}\")\n",
    "\n",
    "# Save changes\n",
    "user.save()\n",
    "print(f\"\\nAfter save: dirty={user.is_dirty()}\")"
   ]
  },
  {
   "cell_type": "markdown",
   "id": "sync-feature2",
   "metadata": {},
   "source": [
    "## Feature 2: Partial Updates\n",
    "\n",
    "Only modified fields are sent to Firestore, reducing bandwidth and costs."
   ]
  },
  {
   "cell_type": "code",
   "execution_count": 4,
   "id": "sync-partial-updates",
   "metadata": {
    "execution": {
     "iopub.execute_input": "2025-10-12T13:15:43.954475Z",
     "iopub.status.busy": "2025-10-12T13:15:43.954388Z",
     "iopub.status.idle": "2025-10-12T13:15:43.965617Z",
     "shell.execute_reply": "2025-10-12T13:15:43.965315Z"
    }
   },
   "outputs": [
    {
     "name": "stdout",
     "output_type": "stream",
     "text": [
      "Document created with 8 fields\n",
      "\n",
      "Modified 1 field out of 8\n",
      "  dirty_fields: {'occupation'}\n",
      "\n",
      "Save complete - only 1 field sent to Firestore (87.5% reduction!)\n",
      "\n",
      "Deleted field3\n",
      "  deleted_fields: {'field3'}\n",
      "Field deletion saved to Firestore\n"
     ]
    }
   ],
   "source": [
    "# Create a document with many fields\n",
    "user = users.new()\n",
    "user.name = 'Charles Babbage'\n",
    "user.year = 1791\n",
    "user.occupation = 'Mathematician'\n",
    "user.country = 'England'\n",
    "user.field1 = 'data1'\n",
    "user.field2 = 'data2'\n",
    "user.field3 = 'data3'\n",
    "user.save(doc_id='charles_sync')\n",
    "\n",
    "print(\"Document created with 8 fields\")\n",
    "\n",
    "# Modify only ONE field\n",
    "user.occupation = 'Inventor'\n",
    "print(\"\\nModified 1 field out of 8\")\n",
    "print(f\"  dirty_fields: {user.dirty_fields}\")\n",
    "\n",
    "# Save - only sends the modified field!\n",
    "user.save()\n",
    "print(\"\\nSave complete - only 1 field sent to Firestore (87.5% reduction!)\")\n",
    "\n",
    "# Delete a field\n",
    "del user.field3\n",
    "print(\"\\nDeleted field3\")\n",
    "print(f\"  deleted_fields: {user.deleted_fields}\")\n",
    "\n",
    "user.save()\n",
    "print(\"Field deletion saved to Firestore\")"
   ]
  },
  {
   "cell_type": "markdown",
   "id": "sync-feature3",
   "metadata": {},
   "source": [
    "## Feature 3: Subcollections\n",
    "\n",
    "Create hierarchical data structures with documents inside documents."
   ]
  },
  {
   "cell_type": "code",
   "execution_count": 5,
   "id": "sync-subcollections",
   "metadata": {
    "execution": {
     "iopub.execute_input": "2025-10-12T13:15:43.966910Z",
     "iopub.status.busy": "2025-10-12T13:15:43.966820Z",
     "iopub.status.idle": "2025-10-12T13:15:43.980378Z",
     "shell.execute_reply": "2025-10-12T13:15:43.980093Z"
    }
   },
   "outputs": [
    {
     "name": "stdout",
     "output_type": "stream",
     "text": [
      "Created user: phase2_demo_users/grace_sync\n",
      "\n",
      "Accessed subcollection: posts\n",
      "\n",
      "Created post: phase2_demo_users/grace_sync/posts/compiler\n",
      "Created post: phase2_demo_users/grace_sync/posts/cobol\n",
      "\n",
      "Created nested comment: phase2_demo_users/grace_sync/posts/compiler/comments/comment1\n"
     ]
    }
   ],
   "source": [
    "# Create a parent document (user)\n",
    "user = users.new()\n",
    "user.name = 'Grace Hopper'\n",
    "user.year = 1906\n",
    "user.save(doc_id='grace_sync')\n",
    "\n",
    "print(f\"Created user: {user.path}\")\n",
    "\n",
    "# Access subcollection\n",
    "posts = user.collection('posts')\n",
    "print(f\"\\nAccessed subcollection: {posts.id}\")\n",
    "\n",
    "# Create documents in the subcollection\n",
    "post1 = posts.new()\n",
    "post1.title = 'The First Compiler'\n",
    "post1.year = 1952\n",
    "post1.save(doc_id='compiler')\n",
    "print(f\"\\nCreated post: {post1.path}\")\n",
    "\n",
    "post2 = posts.new()\n",
    "post2.title = 'COBOL Development'\n",
    "post2.year = 1959\n",
    "post2.save(doc_id='cobol')\n",
    "print(f\"Created post: {post2.path}\")\n",
    "\n",
    "# Nested subcollections (3 levels deep!)\n",
    "comments = post1.collection('comments')\n",
    "comment = comments.new()\n",
    "comment.text = 'Revolutionary work!'\n",
    "comment.author = 'Anonymous'\n",
    "comment.save(doc_id='comment1')\n",
    "print(f\"\\nCreated nested comment: {comment.path}\")"
   ]
  },
  {
   "cell_type": "markdown",
   "id": "sync-feature4",
   "metadata": {},
   "source": [
    "## Feature 4: Atomic Operations\n",
    "\n",
    "Perform array and counter operations without reading the document first."
   ]
  },
  {
   "cell_type": "markdown",
   "id": "sync-array-union",
   "metadata": {},
   "source": [
    "### Array Union - Add elements to arrays"
   ]
  },
  {
   "cell_type": "code",
   "execution_count": 6,
   "id": "sync-array-union-demo",
   "metadata": {
    "execution": {
     "iopub.execute_input": "2025-10-12T13:15:43.981750Z",
     "iopub.status.busy": "2025-10-12T13:15:43.981668Z",
     "iopub.status.idle": "2025-10-12T13:15:44.010462Z",
     "shell.execute_reply": "2025-10-12T13:15:44.010169Z"
    }
   },
   "outputs": [
    {
     "name": "stdout",
     "output_type": "stream",
     "text": [
      "Initial tags: ['mathematics', 'cryptography']\n",
      "\n",
      "After array_union: ['ai', 'computer-science', 'cryptography', 'mathematics']\n",
      "After duplicate add: ['ai', 'biology', 'computer-science', 'cryptography', 'mathematics']\n",
      "Note: 'ai' wasn't added twice (automatic deduplication)\n"
     ]
    }
   ],
   "source": [
    "# Create a user with tags\n",
    "user = users.new()\n",
    "user.name = 'Alan Turing'\n",
    "user.tags = ['mathematics', 'cryptography']\n",
    "user.save(doc_id='alan_sync')\n",
    "\n",
    "print(f\"Initial tags: {user.tags}\")\n",
    "\n",
    "# Add more tags using array_union (no read required!)\n",
    "user.array_union('tags', ['computer-science', 'ai'])\n",
    "user.save()\n",
    "\n",
    "# Fetch to see updated tags\n",
    "user.fetch(force=True)\n",
    "print(f\"\\nAfter array_union: {sorted(user.tags)}\")\n",
    "\n",
    "# array_union automatically deduplicates\n",
    "user.array_union('tags', ['ai', 'biology'])  # 'ai' already exists\n",
    "user.save()\n",
    "\n",
    "user.fetch(force=True)\n",
    "print(f\"After duplicate add: {sorted(user.tags)}\")\n",
    "print(\"Note: 'ai' wasn't added twice (automatic deduplication)\")"
   ]
  },
  {
   "cell_type": "markdown",
   "id": "sync-array-remove",
   "metadata": {},
   "source": [
    "### Array Remove - Remove elements from arrays"
   ]
  },
  {
   "cell_type": "code",
   "execution_count": 7,
   "id": "sync-array-remove-demo",
   "metadata": {
    "execution": {
     "iopub.execute_input": "2025-10-12T13:15:44.011703Z",
     "iopub.status.busy": "2025-10-12T13:15:44.011620Z",
     "iopub.status.idle": "2025-10-12T13:15:44.018040Z",
     "shell.execute_reply": "2025-10-12T13:15:44.017830Z"
    }
   },
   "outputs": [
    {
     "name": "stdout",
     "output_type": "stream",
     "text": [
      "After array_remove: ['ai', 'computer-science', 'cryptography', 'mathematics']\n"
     ]
    }
   ],
   "source": [
    "# Remove tags using array_remove\n",
    "user.array_remove('tags', ['biology'])\n",
    "user.save()\n",
    "\n",
    "user.fetch(force=True)\n",
    "print(f\"After array_remove: {sorted(user.tags)}\")"
   ]
  },
  {
   "cell_type": "markdown",
   "id": "sync-increment",
   "metadata": {},
   "source": [
    "### Increment - Atomic counter operations"
   ]
  },
  {
   "cell_type": "code",
   "execution_count": 8,
   "id": "sync-increment-demo",
   "metadata": {
    "execution": {
     "iopub.execute_input": "2025-10-12T13:15:44.019337Z",
     "iopub.status.busy": "2025-10-12T13:15:44.019238Z",
     "iopub.status.idle": "2025-10-12T13:15:44.036596Z",
     "shell.execute_reply": "2025-10-12T13:15:44.036366Z"
    }
   },
   "outputs": [
    {
     "name": "stdout",
     "output_type": "stream",
     "text": [
      "Initial: views=100, likes=10\n",
      "\n",
      "After increment: views=101\n",
      "After decrement: likes=8\n",
      "\n",
      "After multiple ops: views=106, likes=11\n"
     ]
    }
   ],
   "source": [
    "# Create a blog post with counters\n",
    "posts_collection = db.collection('phase2_demo_posts')\n",
    "post = posts_collection.new()\n",
    "post.title = 'Understanding Atomic Operations'\n",
    "post.views = 100\n",
    "post.likes = 10\n",
    "post.save(doc_id='post1_sync')\n",
    "\n",
    "print(f\"Initial: views={post.views}, likes={post.likes}\")\n",
    "\n",
    "# Increment view counter (concurrency-safe!)\n",
    "post.increment('views', 1)\n",
    "post.save()\n",
    "\n",
    "post.fetch(force=True)\n",
    "print(f\"\\nAfter increment: views={post.views}\")\n",
    "\n",
    "# Decrement with negative value\n",
    "post.increment('likes', -2)\n",
    "post.save()\n",
    "\n",
    "post.fetch(force=True)\n",
    "print(f\"After decrement: likes={post.likes}\")\n",
    "\n",
    "# Multiple operations at once!\n",
    "post.increment('views', 5)\n",
    "post.increment('likes', 3)\n",
    "post.save()\n",
    "\n",
    "post.fetch(force=True)\n",
    "print(f\"\\nAfter multiple ops: views={post.views}, likes={post.likes}\")"
   ]
  },
  {
   "cell_type": "markdown",
   "id": "sync-combined",
   "metadata": {},
   "source": [
    "### Combined Operations\n",
    "\n",
    "Mix atomic operations with regular field updates in a single save."
   ]
  },
  {
   "cell_type": "code",
   "execution_count": 9,
   "id": "sync-combined-demo",
   "metadata": {
    "execution": {
     "iopub.execute_input": "2025-10-12T13:15:44.037908Z",
     "iopub.status.busy": "2025-10-12T13:15:44.037829Z",
     "iopub.status.idle": "2025-10-12T13:15:44.045932Z",
     "shell.execute_reply": "2025-10-12T13:15:44.045692Z"
    }
   },
   "outputs": [
    {
     "name": "stdout",
     "output_type": "stream",
     "text": [
      "Before: name=Alan Turing, tags=['ai', 'computer-science', 'cryptography', 'mathematics']\n",
      "\n",
      "After combined ops:\n",
      "  status: legendary\n",
      "  tags: ['ai', 'computer-science', 'cryptography', 'mathematics', 'turing-machine']\n"
     ]
    }
   ],
   "source": [
    "# Combine everything in one save!\n",
    "user = users.doc('alan_sync')\n",
    "user.fetch()\n",
    "\n",
    "print(f\"Before: name={user.name}, tags={sorted(user.tags)}\")\n",
    "\n",
    "# Regular field update\n",
    "user.status = 'legendary'\n",
    "\n",
    "# Atomic array operation\n",
    "user.array_union('tags', ['turing-machine'])\n",
    "\n",
    "# All applied atomically in one save!\n",
    "user.save()\n",
    "\n",
    "user.fetch(force=True)\n",
    "print(\"\\nAfter combined ops:\")\n",
    "print(f\"  status: {user.status}\")\n",
    "print(f\"  tags: {sorted(user.tags)}\")"
   ]
  },
  {
   "cell_type": "markdown",
   "id": "part2-header",
   "metadata": {},
   "source": [
    "---\n",
    "\n",
    "# Part 2: Asynchronous API Examples\n",
    "\n",
    "The following examples use the asynchronous AsyncFireProx API with async/await."
   ]
  },
  {
   "cell_type": "markdown",
   "id": "async-setup",
   "metadata": {},
   "source": [
    "### Initialize Async Client"
   ]
  },
  {
   "cell_type": "code",
   "execution_count": 10,
   "id": "async-client",
   "metadata": {
    "execution": {
     "iopub.execute_input": "2025-10-12T13:15:44.047279Z",
     "iopub.status.busy": "2025-10-12T13:15:44.047198Z",
     "iopub.status.idle": "2025-10-12T13:15:44.048862Z",
     "shell.execute_reply": "2025-10-12T13:15:44.048647Z"
    }
   },
   "outputs": [],
   "source": [
    "# Create async client and collection\n",
    "async_client = async_demo_client()\n",
    "async_db = AsyncFireProx(async_client)\n",
    "async_users = async_db.collection('phase2_demo_users_async')"
   ]
  },
  {
   "cell_type": "markdown",
   "id": "async-feature1",
   "metadata": {},
   "source": [
    "## Feature 1: Field-Level Dirty Tracking (Async)"
   ]
  },
  {
   "cell_type": "code",
   "execution_count": 11,
   "id": "async-dirty-tracking",
   "metadata": {
    "execution": {
     "iopub.execute_input": "2025-10-12T13:15:44.049984Z",
     "iopub.status.busy": "2025-10-12T13:15:44.049910Z",
     "iopub.status.idle": "2025-10-12T13:15:44.061085Z",
     "shell.execute_reply": "2025-10-12T13:15:44.060850Z"
    }
   },
   "outputs": [
    {
     "name": "stdout",
     "output_type": "stream",
     "text": [
      "Initial state: dirty=False\n",
      "\n",
      "After changes:\n",
      "  is_dirty: True\n",
      "  dirty_fields: {'year', 'occupation'}\n",
      "  deleted_fields: set()\n",
      "\n",
      "After save: dirty=False\n"
     ]
    }
   ],
   "source": [
    "# Create a user with multiple fields\n",
    "user = async_users.new()\n",
    "user.name = 'Ada Lovelace'\n",
    "user.year = 1815\n",
    "user.occupation = 'Mathematician'\n",
    "user.country = 'England'\n",
    "await user.save(doc_id='ada_async')\n",
    "\n",
    "print(f\"Initial state: dirty={user.is_dirty()}\")\n",
    "\n",
    "# Modify only some fields\n",
    "user.year = 1816\n",
    "user.occupation = 'Computer Pioneer'\n",
    "\n",
    "# Inspect which fields changed\n",
    "print(\"\\nAfter changes:\")\n",
    "print(f\"  is_dirty: {user.is_dirty()}\")\n",
    "print(f\"  dirty_fields: {user.dirty_fields}\")\n",
    "print(f\"  deleted_fields: {user.deleted_fields}\")\n",
    "\n",
    "# Save changes\n",
    "await user.save()\n",
    "print(f\"\\nAfter save: dirty={user.is_dirty()}\")"
   ]
  },
  {
   "cell_type": "markdown",
   "id": "async-feature2",
   "metadata": {},
   "source": [
    "## Feature 2: Partial Updates (Async)"
   ]
  },
  {
   "cell_type": "code",
   "execution_count": 12,
   "id": "async-partial-updates",
   "metadata": {
    "execution": {
     "iopub.execute_input": "2025-10-12T13:15:44.062342Z",
     "iopub.status.busy": "2025-10-12T13:15:44.062262Z",
     "iopub.status.idle": "2025-10-12T13:15:44.071953Z",
     "shell.execute_reply": "2025-10-12T13:15:44.071736Z"
    }
   },
   "outputs": [
    {
     "name": "stdout",
     "output_type": "stream",
     "text": [
      "Document created with 8 fields\n",
      "\n",
      "Modified 1 field out of 8\n",
      "  dirty_fields: {'occupation'}\n",
      "\n",
      "Save complete - only 1 field sent to Firestore (87.5% reduction!)\n",
      "\n",
      "Deleted field3\n",
      "  deleted_fields: {'field3'}\n",
      "Field deletion saved to Firestore\n"
     ]
    }
   ],
   "source": [
    "# Create a document with many fields\n",
    "user = async_users.new()\n",
    "user.name = 'Charles Babbage'\n",
    "user.year = 1791\n",
    "user.occupation = 'Mathematician'\n",
    "user.country = 'England'\n",
    "user.field1 = 'data1'\n",
    "user.field2 = 'data2'\n",
    "user.field3 = 'data3'\n",
    "await user.save(doc_id='charles_async')\n",
    "\n",
    "print(\"Document created with 8 fields\")\n",
    "\n",
    "# Modify only ONE field\n",
    "user.occupation = 'Inventor'\n",
    "print(\"\\nModified 1 field out of 8\")\n",
    "print(f\"  dirty_fields: {user.dirty_fields}\")\n",
    "\n",
    "# Save - only sends the modified field!\n",
    "await user.save()\n",
    "print(\"\\nSave complete - only 1 field sent to Firestore (87.5% reduction!)\")\n",
    "\n",
    "# Delete a field\n",
    "del user.field3\n",
    "print(\"\\nDeleted field3\")\n",
    "print(f\"  deleted_fields: {user.deleted_fields}\")\n",
    "\n",
    "await user.save()\n",
    "print(\"Field deletion saved to Firestore\")"
   ]
  },
  {
   "cell_type": "markdown",
   "id": "async-feature3",
   "metadata": {},
   "source": [
    "## Feature 3: Subcollections (Async)"
   ]
  },
  {
   "cell_type": "code",
   "execution_count": 13,
   "id": "async-subcollections",
   "metadata": {
    "execution": {
     "iopub.execute_input": "2025-10-12T13:15:44.073094Z",
     "iopub.status.busy": "2025-10-12T13:15:44.073025Z",
     "iopub.status.idle": "2025-10-12T13:15:44.084161Z",
     "shell.execute_reply": "2025-10-12T13:15:44.083943Z"
    }
   },
   "outputs": [
    {
     "name": "stdout",
     "output_type": "stream",
     "text": [
      "Created user: phase2_demo_users_async/grace_async\n",
      "\n",
      "Accessed subcollection: posts\n",
      "\n",
      "Created post: phase2_demo_users_async/grace_async/posts/compiler\n",
      "Created post: phase2_demo_users_async/grace_async/posts/cobol\n",
      "\n",
      "Created nested comment: phase2_demo_users_async/grace_async/posts/compiler/comments/comment1\n"
     ]
    }
   ],
   "source": [
    "# Create a parent document (user)\n",
    "user = async_users.new()\n",
    "user.name = 'Grace Hopper'\n",
    "user.year = 1906\n",
    "await user.save(doc_id='grace_async')\n",
    "\n",
    "print(f\"Created user: {user.path}\")\n",
    "\n",
    "# Access subcollection\n",
    "posts = user.collection('posts')\n",
    "print(f\"\\nAccessed subcollection: {posts.id}\")\n",
    "\n",
    "# Create documents in the subcollection\n",
    "post1 = posts.new()\n",
    "post1.title = 'The First Compiler'\n",
    "post1.year = 1952\n",
    "await post1.save(doc_id='compiler')\n",
    "print(f\"\\nCreated post: {post1.path}\")\n",
    "\n",
    "post2 = posts.new()\n",
    "post2.title = 'COBOL Development'\n",
    "post2.year = 1959\n",
    "await post2.save(doc_id='cobol')\n",
    "print(f\"Created post: {post2.path}\")\n",
    "\n",
    "# Nested subcollections (3 levels deep!)\n",
    "comments = post1.collection('comments')\n",
    "comment = comments.new()\n",
    "comment.text = 'Revolutionary work!'\n",
    "comment.author = 'Anonymous'\n",
    "await comment.save(doc_id='comment1')\n",
    "print(f\"\\nCreated nested comment: {comment.path}\")"
   ]
  },
  {
   "cell_type": "markdown",
   "id": "async-feature4",
   "metadata": {},
   "source": [
    "## Feature 4: Atomic Operations (Async)"
   ]
  },
  {
   "cell_type": "markdown",
   "id": "async-array-union",
   "metadata": {},
   "source": [
    "### Array Union (Async)"
   ]
  },
  {
   "cell_type": "code",
   "execution_count": 14,
   "id": "async-array-union-demo",
   "metadata": {
    "execution": {
     "iopub.execute_input": "2025-10-12T13:15:44.085396Z",
     "iopub.status.busy": "2025-10-12T13:15:44.085315Z",
     "iopub.status.idle": "2025-10-12T13:15:44.097242Z",
     "shell.execute_reply": "2025-10-12T13:15:44.096997Z"
    }
   },
   "outputs": [
    {
     "name": "stdout",
     "output_type": "stream",
     "text": [
      "Initial tags: ['mathematics', 'cryptography']\n",
      "\n",
      "After array_union: ['ai', 'computer-science', 'cryptography', 'mathematics']\n",
      "After duplicate add: ['ai', 'biology', 'computer-science', 'cryptography', 'mathematics']\n",
      "Note: 'ai' wasn't added twice (automatic deduplication)\n"
     ]
    }
   ],
   "source": [
    "# Create a user with tags\n",
    "user = async_users.new()\n",
    "user.name = 'Alan Turing'\n",
    "user.tags = ['mathematics', 'cryptography']\n",
    "await user.save(doc_id='alan_async')\n",
    "\n",
    "print(f\"Initial tags: {user.tags}\")\n",
    "\n",
    "# Add more tags using array_union\n",
    "user.array_union('tags', ['computer-science', 'ai'])\n",
    "await user.save()\n",
    "\n",
    "# Fetch to see updated tags\n",
    "await user.fetch(force=True)\n",
    "print(f\"\\nAfter array_union: {sorted(user.tags)}\")\n",
    "\n",
    "# array_union automatically deduplicates\n",
    "user.array_union('tags', ['ai', 'biology'])\n",
    "await user.save()\n",
    "\n",
    "await user.fetch(force=True)\n",
    "print(f\"After duplicate add: {sorted(user.tags)}\")\n",
    "print(\"Note: 'ai' wasn't added twice (automatic deduplication)\")"
   ]
  },
  {
   "cell_type": "markdown",
   "id": "async-array-remove",
   "metadata": {},
   "source": [
    "### Array Remove (Async)"
   ]
  },
  {
   "cell_type": "code",
   "execution_count": 15,
   "id": "async-array-remove-demo",
   "metadata": {
    "execution": {
     "iopub.execute_input": "2025-10-12T13:15:44.098558Z",
     "iopub.status.busy": "2025-10-12T13:15:44.098482Z",
     "iopub.status.idle": "2025-10-12T13:15:44.104256Z",
     "shell.execute_reply": "2025-10-12T13:15:44.104048Z"
    }
   },
   "outputs": [
    {
     "name": "stdout",
     "output_type": "stream",
     "text": [
      "After array_remove: ['ai', 'computer-science', 'cryptography', 'mathematics']\n"
     ]
    }
   ],
   "source": [
    "# Remove tags using array_remove\n",
    "user.array_remove('tags', ['biology'])\n",
    "await user.save()\n",
    "\n",
    "await user.fetch(force=True)\n",
    "print(f\"After array_remove: {sorted(user.tags)}\")"
   ]
  },
  {
   "cell_type": "markdown",
   "id": "async-increment",
   "metadata": {},
   "source": [
    "### Increment (Async)"
   ]
  },
  {
   "cell_type": "code",
   "execution_count": 16,
   "id": "async-increment-demo",
   "metadata": {
    "execution": {
     "iopub.execute_input": "2025-10-12T13:15:44.105423Z",
     "iopub.status.busy": "2025-10-12T13:15:44.105356Z",
     "iopub.status.idle": "2025-10-12T13:15:44.121300Z",
     "shell.execute_reply": "2025-10-12T13:15:44.121066Z"
    }
   },
   "outputs": [
    {
     "name": "stdout",
     "output_type": "stream",
     "text": [
      "Initial: views=100, likes=10\n",
      "\n",
      "After increment: views=101\n",
      "After decrement: likes=8\n",
      "\n",
      "After multiple ops: views=106, likes=11\n"
     ]
    }
   ],
   "source": [
    "# Create a blog post with counters\n",
    "async_posts = async_db.collection('phase2_demo_posts_async')\n",
    "post = async_posts.new()\n",
    "post.title = 'Understanding Atomic Operations'\n",
    "post.views = 100\n",
    "post.likes = 10\n",
    "await post.save(doc_id='post1_async')\n",
    "\n",
    "print(f\"Initial: views={post.views}, likes={post.likes}\")\n",
    "\n",
    "# Increment view counter\n",
    "post.increment('views', 1)\n",
    "await post.save()\n",
    "\n",
    "await post.fetch(force=True)\n",
    "print(f\"\\nAfter increment: views={post.views}\")\n",
    "\n",
    "# Decrement with negative value\n",
    "post.increment('likes', -2)\n",
    "await post.save()\n",
    "\n",
    "await post.fetch(force=True)\n",
    "print(f\"After decrement: likes={post.likes}\")\n",
    "\n",
    "# Multiple operations at once!\n",
    "post.increment('views', 5)\n",
    "post.increment('likes', 3)\n",
    "await post.save()\n",
    "\n",
    "await post.fetch(force=True)\n",
    "print(f\"\\nAfter multiple ops: views={post.views}, likes={post.likes}\")"
   ]
  },
  {
   "cell_type": "markdown",
   "id": "async-combined",
   "metadata": {},
   "source": [
    "### Combined Operations (Async)"
   ]
  },
  {
   "cell_type": "code",
   "execution_count": 17,
   "id": "async-combined-demo",
   "metadata": {
    "execution": {
     "iopub.execute_input": "2025-10-12T13:15:44.122678Z",
     "iopub.status.busy": "2025-10-12T13:15:44.122600Z",
     "iopub.status.idle": "2025-10-12T13:15:44.130580Z",
     "shell.execute_reply": "2025-10-12T13:15:44.130314Z"
    }
   },
   "outputs": [
    {
     "name": "stdout",
     "output_type": "stream",
     "text": [
      "Before: name=Alan Turing, tags=['ai', 'computer-science', 'cryptography', 'mathematics']\n",
      "\n",
      "After combined ops:\n",
      "  status: legendary\n",
      "  tags: ['ai', 'computer-science', 'cryptography', 'mathematics', 'turing-machine']\n"
     ]
    }
   ],
   "source": [
    "# Combine everything in one save!\n",
    "user = async_users.doc('alan_async')\n",
    "await user.fetch()\n",
    "\n",
    "print(f\"Before: name={user.name}, tags={sorted(user.tags)}\")\n",
    "\n",
    "# Regular field update\n",
    "user.status = 'legendary'\n",
    "\n",
    "# Atomic array operation\n",
    "user.array_union('tags', ['turing-machine'])\n",
    "\n",
    "# All applied atomically in one save!\n",
    "await user.save()\n",
    "\n",
    "await user.fetch(force=True)\n",
    "print(\"\\nAfter combined ops:\")\n",
    "print(f\"  status: {user.status}\")\n",
    "print(f\"  tags: {sorted(user.tags)}\")"
   ]
  },
  {
   "cell_type": "markdown",
   "id": "conclusion",
   "metadata": {},
   "source": [
    "---\n",
    "\n",
    "## Summary\n",
    "\n",
    "This demo showcased all Phase 2 features:\n",
    "\n",
    "✅ **Field-Level Dirty Tracking** - Inspect exactly what changed with `.dirty_fields` and `.deleted_fields`\n",
    "\n",
    "✅ **Partial Updates** - 50-90% bandwidth reduction by sending only modified fields\n",
    "\n",
    "✅ **Subcollections** - Hierarchical data with `.collection()` method, unlimited nesting\n",
    "\n",
    "✅ **Atomic Operations**:\n",
    "  - `array_union()` - Add elements to arrays (with auto-deduplication)\n",
    "  - `array_remove()` - Remove elements from arrays\n",
    "  - `increment()` - Atomic counter operations (concurrency-safe)\n",
    "\n",
    "All features work identically in both sync and async APIs!\n",
    "\n",
    "### Performance Benefits\n",
    "\n",
    "- **Bandwidth**: 50-90% reduction from partial updates\n",
    "- **Concurrency**: Atomic operations prevent race conditions\n",
    "- **Cost**: Lower Firestore costs from reduced data transfer\n",
    "- **Speed**: Fewer network round-trips for counters and arrays\n",
    "\n",
    "### Learn More\n",
    "\n",
    "See `docs/PHASE2_IMPLEMENTATION_REPORT.md` for complete documentation."
   ]
  }
 ],
 "metadata": {
  "kernelspec": {
   "display_name": "fire-prox",
   "language": "python",
   "name": "python3"
  },
  "language_info": {
   "codemirror_mode": {
    "name": "ipython",
    "version": 3
   },
   "file_extension": ".py",
   "mimetype": "text/x-python",
   "name": "python",
   "nbconvert_exporter": "python",
   "pygments_lexer": "ipython3",
   "version": "3.12.7"
  }
 },
 "nbformat": 4,
 "nbformat_minor": 5
}

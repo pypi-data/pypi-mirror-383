{
 "cells": [
  {
   "cell_type": "markdown",
   "metadata": {},
   "source": [
    "# FireProx Phase 1 Demo - Synchronous API\n",
    "\n",
    "This notebook demonstrates all Phase 1 features of the FireProx synchronous API.\n",
    "\n",
    "**Prerequisites**: Firestore emulator must be running on port 8080."
   ]
  },
  {
   "cell_type": "markdown",
   "metadata": {},
   "source": [
    "## 1. Setup and Initialization"
   ]
  },
  {
   "cell_type": "code",
   "execution_count": 1,
   "metadata": {
    "execution": {
     "iopub.execute_input": "2025-10-12T13:15:31.000610Z",
     "iopub.status.busy": "2025-10-12T13:15:31.000517Z",
     "iopub.status.idle": "2025-10-12T13:15:31.180037Z",
     "shell.execute_reply": "2025-10-12T13:15:31.179776Z"
    }
   },
   "outputs": [
    {
     "name": "stdout",
     "output_type": "stream",
     "text": [
      "FireProx initialized successfully!\n"
     ]
    }
   ],
   "source": [
    "from fire_prox import FireProx\n",
    "from fire_prox.testing import demo_client\n",
    "\n",
    "# Initialize native Firestore client (assumes emulator is running)\n",
    "client = demo_client()\n",
    "db = FireProx(client)\n",
    "print(\"FireProx initialized successfully!\")"
   ]
  },
  {
   "cell_type": "markdown",
   "metadata": {},
   "source": [
    "## 2. Creating a New Document (DETACHED State)"
   ]
  },
  {
   "cell_type": "code",
   "execution_count": 2,
   "metadata": {
    "execution": {
     "iopub.execute_input": "2025-10-12T13:15:31.198783Z",
     "iopub.status.busy": "2025-10-12T13:15:31.198635Z",
     "iopub.status.idle": "2025-10-12T13:15:31.200658Z",
     "shell.execute_reply": "2025-10-12T13:15:31.200398Z"
    }
   },
   "outputs": [
    {
     "name": "stdout",
     "output_type": "stream",
     "text": [
      "State: DETACHED\n",
      "Is detached: True\n",
      "Is dirty: True\n"
     ]
    }
   ],
   "source": [
    "# Get a collection reference\n",
    "users = db.collection('users')\n",
    "\n",
    "# Create a new document (not yet in Firestore)\n",
    "user = users.new()\n",
    "print(f\"State: {user.state}\")\n",
    "print(f\"Is detached: {user.is_detached()}\")\n",
    "print(f\"Is dirty: {user.is_dirty()}\")"
   ]
  },
  {
   "cell_type": "markdown",
   "metadata": {},
   "source": [
    "## 3. Setting Attributes on a DETACHED Document"
   ]
  },
  {
   "cell_type": "code",
   "execution_count": 3,
   "metadata": {
    "execution": {
     "iopub.execute_input": "2025-10-12T13:15:31.202186Z",
     "iopub.status.busy": "2025-10-12T13:15:31.202100Z",
     "iopub.status.idle": "2025-10-12T13:15:31.203866Z",
     "shell.execute_reply": "2025-10-12T13:15:31.203669Z"
    }
   },
   "outputs": [
    {
     "name": "stdout",
     "output_type": "stream",
     "text": [
      "Name: Ada Lovelace\n",
      "Data: {'name': 'Ada Lovelace', 'year': 1815, 'occupation': 'Mathematician'}\n",
      "Still detached: True\n"
     ]
    }
   ],
   "source": [
    "# Set attributes using dot notation\n",
    "user.name = 'Ada Lovelace'\n",
    "user.year = 1815\n",
    "user.occupation = 'Mathematician'\n",
    "\n",
    "print(f\"Name: {user.to_dict()['name']}\")\n",
    "print(f\"Data: {user.to_dict()}\")\n",
    "print(f\"Still detached: {user.is_detached()}\")"
   ]
  },
  {
   "cell_type": "code",
   "execution_count": 4,
   "metadata": {
    "execution": {
     "iopub.execute_input": "2025-10-12T13:15:31.204962Z",
     "iopub.status.busy": "2025-10-12T13:15:31.204890Z",
     "iopub.status.idle": "2025-10-12T13:15:31.207294Z",
     "shell.execute_reply": "2025-10-12T13:15:31.207093Z"
    }
   },
   "outputs": [
    {
     "data": {
      "text/plain": [
       "'Ada Lovelace'"
      ]
     },
     "execution_count": 4,
     "metadata": {},
     "output_type": "execute_result"
    }
   ],
   "source": [
    "user.name"
   ]
  },
  {
   "cell_type": "markdown",
   "metadata": {},
   "source": [
    "## 4. Saving with Custom ID (DETACHED → LOADED)"
   ]
  },
  {
   "cell_type": "code",
   "execution_count": 5,
   "metadata": {
    "execution": {
     "iopub.execute_input": "2025-10-12T13:15:31.208410Z",
     "iopub.status.busy": "2025-10-12T13:15:31.208343Z",
     "iopub.status.idle": "2025-10-12T13:15:31.526685Z",
     "shell.execute_reply": "2025-10-12T13:15:31.526399Z"
    }
   },
   "outputs": [
    {
     "name": "stdout",
     "output_type": "stream",
     "text": [
      "State after save: LOADED\n",
      "Is loaded: True\n",
      "Is dirty: False\n",
      "Document ID: alovelace\n",
      "Document path: users/alovelace\n"
     ]
    }
   ],
   "source": [
    "# Save with a custom document ID\n",
    "user.save(doc_id='alovelace')\n",
    "\n",
    "print(f\"State after save: {user.state}\")\n",
    "print(f\"Is loaded: {user.is_loaded()}\")\n",
    "print(f\"Is dirty: {user.is_dirty()}\")\n",
    "print(f\"Document ID: {user.id}\")\n",
    "print(f\"Document path: {user.path}\")"
   ]
  },
  {
   "cell_type": "markdown",
   "metadata": {},
   "source": [
    "## 5. Getting a Document by Path (ATTACHED State)"
   ]
  },
  {
   "cell_type": "code",
   "execution_count": 6,
   "metadata": {
    "execution": {
     "iopub.execute_input": "2025-10-12T13:15:31.527945Z",
     "iopub.status.busy": "2025-10-12T13:15:31.527861Z",
     "iopub.status.idle": "2025-10-12T13:15:31.529956Z",
     "shell.execute_reply": "2025-10-12T13:15:31.529724Z"
    }
   },
   "outputs": [
    {
     "name": "stdout",
     "output_type": "stream",
     "text": [
      "State: ATTACHED\n",
      "Is attached: True\n",
      "Document ID: alovelace\n",
      "Document path: users/alovelace\n",
      "Data not fetched yet!\n"
     ]
    }
   ],
   "source": [
    "# Get a document reference (doesn't fetch data yet)\n",
    "user2 = db.doc('users/alovelace')\n",
    "\n",
    "print(f\"State: {user2.state}\")\n",
    "print(f\"Is attached: {user2.is_attached()}\")\n",
    "print(f\"Document ID: {user2.id}\")\n",
    "print(f\"Document path: {user2.path}\")\n",
    "print(\"Data not fetched yet!\")"
   ]
  },
  {
   "cell_type": "markdown",
   "metadata": {},
   "source": [
    "## 6. Lazy Loading (ATTACHED → LOADED)"
   ]
  },
  {
   "cell_type": "code",
   "execution_count": 7,
   "metadata": {
    "execution": {
     "iopub.execute_input": "2025-10-12T13:15:31.531096Z",
     "iopub.status.busy": "2025-10-12T13:15:31.531026Z",
     "iopub.status.idle": "2025-10-12T13:15:31.540216Z",
     "shell.execute_reply": "2025-10-12T13:15:31.539966Z"
    }
   },
   "outputs": [
    {
     "name": "stdout",
     "output_type": "stream",
     "text": [
      "Name: Ada Lovelace\n",
      "State after access: LOADED\n",
      "Is loaded: True\n",
      "Full data: {'occupation': 'Mathematician', 'year': 1815, 'name': 'Ada Lovelace'}\n"
     ]
    }
   ],
   "source": [
    "# Accessing an attribute automatically fetches data (lazy loading)\n",
    "name = user2.name\n",
    "\n",
    "print(f\"Name: {name}\")\n",
    "print(f\"State after access: {user2.state}\")\n",
    "print(f\"Is loaded: {user2.is_loaded()}\")\n",
    "print(f\"Full data: {user2.to_dict()}\")"
   ]
  },
  {
   "cell_type": "markdown",
   "metadata": {},
   "source": [
    "## 7. Explicit Fetch (Alternative to Lazy Loading)"
   ]
  },
  {
   "cell_type": "code",
   "execution_count": 8,
   "metadata": {
    "execution": {
     "iopub.execute_input": "2025-10-12T13:15:31.541412Z",
     "iopub.status.busy": "2025-10-12T13:15:31.541337Z",
     "iopub.status.idle": "2025-10-12T13:15:31.545734Z",
     "shell.execute_reply": "2025-10-12T13:15:31.545486Z"
    }
   },
   "outputs": [
    {
     "name": "stdout",
     "output_type": "stream",
     "text": [
      "Before fetch - State: ATTACHED\n",
      "After fetch - State: LOADED\n",
      "Data: {'occupation': 'Mathematician', 'year': 1815, 'name': 'Ada Lovelace'}\n"
     ]
    }
   ],
   "source": [
    "# Create another reference\n",
    "user3 = db.doc('users/alovelace')\n",
    "print(f\"Before fetch - State: {user3.state}\")\n",
    "\n",
    "# Explicitly fetch data\n",
    "user3.fetch()\n",
    "print(f\"After fetch - State: {user3.state}\")\n",
    "print(f\"Data: {user3.to_dict()}\")"
   ]
  },
  {
   "cell_type": "markdown",
   "metadata": {},
   "source": [
    "## 8. Modifying a LOADED Document"
   ]
  },
  {
   "cell_type": "code",
   "execution_count": 9,
   "metadata": {
    "execution": {
     "iopub.execute_input": "2025-10-12T13:15:31.547075Z",
     "iopub.status.busy": "2025-10-12T13:15:31.546994Z",
     "iopub.status.idle": "2025-10-12T13:15:31.548843Z",
     "shell.execute_reply": "2025-10-12T13:15:31.548617Z"
    }
   },
   "outputs": [
    {
     "name": "stdout",
     "output_type": "stream",
     "text": [
      "Is dirty: True\n",
      "Modified year: 1816\n",
      "Contributions: ['Analytical Engine', 'First Algorithm']\n"
     ]
    }
   ],
   "source": [
    "# Modify attributes\n",
    "user3.year = 1816\n",
    "user3.contributions = ['Analytical Engine', 'First Algorithm']\n",
    "\n",
    "print(f\"Is dirty: {user3.is_dirty()}\")\n",
    "print(f\"Modified year: {user3.year}\")\n",
    "print(f\"Contributions: {user3.contributions}\")"
   ]
  },
  {
   "cell_type": "markdown",
   "metadata": {},
   "source": [
    "## 9. Saving Updates"
   ]
  },
  {
   "cell_type": "code",
   "execution_count": 10,
   "metadata": {
    "execution": {
     "iopub.execute_input": "2025-10-12T13:15:31.550178Z",
     "iopub.status.busy": "2025-10-12T13:15:31.550110Z",
     "iopub.status.idle": "2025-10-12T13:15:31.559867Z",
     "shell.execute_reply": "2025-10-12T13:15:31.559626Z"
    }
   },
   "outputs": [
    {
     "name": "stdout",
     "output_type": "stream",
     "text": [
      "Is dirty after save: False\n",
      "State: LOADED\n",
      "Changes saved to Firestore!\n"
     ]
    }
   ],
   "source": [
    "# Save the modifications\n",
    "user3.save()\n",
    "\n",
    "print(f\"Is dirty after save: {user3.is_dirty()}\")\n",
    "print(f\"State: {user3.state}\")\n",
    "print(\"Changes saved to Firestore!\")"
   ]
  },
  {
   "cell_type": "markdown",
   "metadata": {},
   "source": [
    "## 10. Refreshing Data with force=True"
   ]
  },
  {
   "cell_type": "code",
   "execution_count": 11,
   "metadata": {
    "execution": {
     "iopub.execute_input": "2025-10-12T13:15:31.561104Z",
     "iopub.status.busy": "2025-10-12T13:15:31.561012Z",
     "iopub.status.idle": "2025-10-12T13:15:31.565136Z",
     "shell.execute_reply": "2025-10-12T13:15:31.564902Z"
    }
   },
   "outputs": [
    {
     "name": "stdout",
     "output_type": "stream",
     "text": [
      "Refreshed data: {'occupation': 'Mathematician', 'contributions': ['Analytical Engine', 'First Algorithm'], 'year': 1816, 'name': 'Ada Lovelace'}\n",
      "Year after refresh: 1816\n",
      "Contributions: ['Analytical Engine', 'First Algorithm']\n"
     ]
    }
   ],
   "source": [
    "# Fetch fresh data from Firestore (force refresh)\n",
    "user3.fetch(force=True)\n",
    "\n",
    "print(f\"Refreshed data: {user3.to_dict()}\")\n",
    "print(f\"Year after refresh: {user3.year}\")\n",
    "print(f\"Contributions: {user3.contributions}\")"
   ]
  },
  {
   "cell_type": "markdown",
   "metadata": {},
   "source": [
    "## 11. Deleting Attributes"
   ]
  },
  {
   "cell_type": "code",
   "execution_count": 12,
   "metadata": {
    "execution": {
     "iopub.execute_input": "2025-10-12T13:15:31.566279Z",
     "iopub.status.busy": "2025-10-12T13:15:31.566208Z",
     "iopub.status.idle": "2025-10-12T13:15:31.567936Z",
     "shell.execute_reply": "2025-10-12T13:15:31.567734Z"
    }
   },
   "outputs": [
    {
     "name": "stdout",
     "output_type": "stream",
     "text": [
      "Is dirty: True\n",
      "Data after delete: {'occupation': 'Mathematician', 'year': 1816, 'name': 'Ada Lovelace'}\n",
      "Attribute 'contributions' removed locally\n"
     ]
    }
   ],
   "source": [
    "# Delete an attribute\n",
    "del user3.contributions\n",
    "\n",
    "print(f\"Is dirty: {user3.is_dirty()}\")\n",
    "print(f\"Data after delete: {user3.to_dict()}\")\n",
    "print(\"Attribute 'contributions' removed locally\")"
   ]
  },
  {
   "cell_type": "code",
   "execution_count": 13,
   "metadata": {
    "execution": {
     "iopub.execute_input": "2025-10-12T13:15:31.569100Z",
     "iopub.status.busy": "2025-10-12T13:15:31.569013Z",
     "iopub.status.idle": "2025-10-12T13:15:31.576117Z",
     "shell.execute_reply": "2025-10-12T13:15:31.575875Z"
    }
   },
   "outputs": [
    {
     "name": "stdout",
     "output_type": "stream",
     "text": [
      "Data after save: {'occupation': 'Mathematician', 'year': 1816, 'name': 'Ada Lovelace'}\n",
      "'contributions' field removed from Firestore\n"
     ]
    }
   ],
   "source": [
    "# Save to persist the deletion\n",
    "user3.save()\n",
    "user3.fetch(force=True)\n",
    "\n",
    "print(f\"Data after save: {user3.to_dict()}\")\n",
    "print(\"'contributions' field removed from Firestore\")"
   ]
  },
  {
   "cell_type": "markdown",
   "metadata": {},
   "source": [
    "## 12. Creating Document with Auto-Generated ID"
   ]
  },
  {
   "cell_type": "code",
   "execution_count": 14,
   "metadata": {
    "execution": {
     "iopub.execute_input": "2025-10-12T13:15:31.577492Z",
     "iopub.status.busy": "2025-10-12T13:15:31.577411Z",
     "iopub.status.idle": "2025-10-12T13:15:31.582428Z",
     "shell.execute_reply": "2025-10-12T13:15:31.582180Z"
    },
    "tags": [
     "nondet"
    ]
   },
   "outputs": [
    {
     "name": "stdout",
     "output_type": "stream",
     "text": [
      "Auto-generated ID: kONl81HwCSUxLvZg7Aft\n",
      "Path: users/kONl81HwCSUxLvZg7Aft\n",
      "Data: {'name': 'Grace Hopper', 'year': 1906}\n"
     ]
    }
   ],
   "source": [
    "# Create a new document without specifying ID\n",
    "user4 = users.new()\n",
    "user4.name = 'Grace Hopper'\n",
    "user4.year = 1906\n",
    "\n",
    "# Save without doc_id - Firestore generates ID\n",
    "user4.save()\n",
    "\n",
    "print(f\"Auto-generated ID: {user4.id}\")\n",
    "print(f\"Path: {user4.path}\")\n",
    "print(f\"Data: {user4.to_dict()}\")"
   ]
  },
  {
   "cell_type": "markdown",
   "metadata": {},
   "source": [
    "## 13. Collection Properties"
   ]
  },
  {
   "cell_type": "code",
   "execution_count": 15,
   "metadata": {
    "execution": {
     "iopub.execute_input": "2025-10-12T13:15:31.583728Z",
     "iopub.status.busy": "2025-10-12T13:15:31.583634Z",
     "iopub.status.idle": "2025-10-12T13:15:31.585500Z",
     "shell.execute_reply": "2025-10-12T13:15:31.585240Z"
    }
   },
   "outputs": [
    {
     "name": "stdout",
     "output_type": "stream",
     "text": [
      "Collection ID: users\n",
      "Collection path: users\n",
      "String repr: FireCollection(users)\n",
      "Repr: <FireCollection path='users'>\n"
     ]
    }
   ],
   "source": [
    "# Inspect collection properties\n",
    "print(f\"Collection ID: {users.id}\")\n",
    "print(f\"Collection path: {users.path}\")\n",
    "print(f\"String repr: {str(users)}\")\n",
    "print(f\"Repr: {repr(users)}\")"
   ]
  },
  {
   "cell_type": "markdown",
   "metadata": {},
   "source": [
    "## 14. Deleting a Document (LOADED → DELETED)"
   ]
  },
  {
   "cell_type": "code",
   "execution_count": 16,
   "metadata": {
    "execution": {
     "iopub.execute_input": "2025-10-12T13:15:31.586767Z",
     "iopub.status.busy": "2025-10-12T13:15:31.586694Z",
     "iopub.status.idle": "2025-10-12T13:15:31.591057Z",
     "shell.execute_reply": "2025-10-12T13:15:31.590805Z"
    },
    "tags": [
     "nondet"
    ]
   },
   "outputs": [
    {
     "name": "stdout",
     "output_type": "stream",
     "text": [
      "State after delete: DELETED\n",
      "Is deleted: True\n",
      "ID still accessible: kONl81HwCSUxLvZg7Aft\n",
      "Path still accessible: users/kONl81HwCSUxLvZg7Aft\n"
     ]
    }
   ],
   "source": [
    "# Delete a document from Firestore\n",
    "user4.delete()\n",
    "\n",
    "print(f\"State after delete: {user4.state}\")\n",
    "print(f\"Is deleted: {user4.is_deleted()}\")\n",
    "print(f\"ID still accessible: {user4.id}\")\n",
    "print(f\"Path still accessible: {user4.path}\")"
   ]
  },
  {
   "cell_type": "markdown",
   "metadata": {},
   "source": [
    "## 15. Error Handling - Invalid Operations on DELETED"
   ]
  },
  {
   "cell_type": "code",
   "execution_count": 17,
   "metadata": {
    "execution": {
     "iopub.execute_input": "2025-10-12T13:15:31.592354Z",
     "iopub.status.busy": "2025-10-12T13:15:31.592282Z",
     "iopub.status.idle": "2025-10-12T13:15:31.594072Z",
     "shell.execute_reply": "2025-10-12T13:15:31.593827Z"
    }
   },
   "outputs": [
    {
     "name": "stdout",
     "output_type": "stream",
     "text": [
      "Save error: Cannot save() on a DELETED FireObject\n",
      "Fetch error: Cannot fetch() on a DELETED FireObject\n"
     ]
    }
   ],
   "source": [
    "# Attempting operations on DELETED document raises errors\n",
    "try:\n",
    "    user4.save()\n",
    "except RuntimeError as e:\n",
    "    print(f\"Save error: {e}\")\n",
    "\n",
    "try:\n",
    "    user4.fetch()\n",
    "except RuntimeError as e:\n",
    "    print(f\"Fetch error: {e}\")"
   ]
  },
  {
   "cell_type": "markdown",
   "metadata": {},
   "source": [
    "## 16. Hydration from Native Firestore Snapshot"
   ]
  },
  {
   "cell_type": "code",
   "execution_count": 18,
   "metadata": {
    "execution": {
     "iopub.execute_input": "2025-10-12T13:15:31.595157Z",
     "iopub.status.busy": "2025-10-12T13:15:31.595087Z",
     "iopub.status.idle": "2025-10-12T13:15:31.599068Z",
     "shell.execute_reply": "2025-10-12T13:15:31.598834Z"
    }
   },
   "outputs": [
    {
     "name": "stdout",
     "output_type": "stream",
     "text": [
      "State: LOADED\n",
      "Is loaded: True\n",
      "Data: {'occupation': 'Mathematician', 'year': 1816, 'name': 'Ada Lovelace'}\n",
      "Hydrated from native snapshot!\n"
     ]
    }
   ],
   "source": [
    "# Use native Firestore API to get a snapshot\n",
    "from fire_prox import FireObject\n",
    "\n",
    "doc_ref = client.collection('users').document('alovelace')\n",
    "snapshot = doc_ref.get()\n",
    "\n",
    "# Hydrate to FireObject\n",
    "user5 = FireObject.from_snapshot(snapshot)\n",
    "\n",
    "print(f\"State: {user5.state}\")\n",
    "print(f\"Is loaded: {user5.is_loaded()}\")\n",
    "print(f\"Data: {user5.to_dict()}\")\n",
    "print(\"Hydrated from native snapshot!\")"
   ]
  },
  {
   "cell_type": "markdown",
   "metadata": {},
   "source": [
    "## 17. Working with Nested Data"
   ]
  },
  {
   "cell_type": "code",
   "execution_count": 19,
   "metadata": {
    "execution": {
     "iopub.execute_input": "2025-10-12T13:15:31.600226Z",
     "iopub.status.busy": "2025-10-12T13:15:31.600153Z",
     "iopub.status.idle": "2025-10-12T13:15:31.606377Z",
     "shell.execute_reply": "2025-10-12T13:15:31.606149Z"
    }
   },
   "outputs": [
    {
     "name": "stdout",
     "output_type": "stream",
     "text": [
      "Nested data saved: {'name': 'Alan Turing', 'address': {'city': 'London', 'country': 'UK'}, 'achievements': ['Turing Machine', 'Enigma', 'Turing Test']}\n"
     ]
    }
   ],
   "source": [
    "# Create document with nested data structures\n",
    "user6 = users.new()\n",
    "user6.name = 'Alan Turing'\n",
    "user6.address = {\n",
    "    'city': 'London',\n",
    "    'country': 'UK'\n",
    "}\n",
    "user6.achievements = ['Turing Machine', 'Enigma', 'Turing Test']\n",
    "\n",
    "user6.save(doc_id='aturing')\n",
    "print(f\"Nested data saved: {user6.to_dict()}\")"
   ]
  },
  {
   "cell_type": "markdown",
   "metadata": {},
   "source": [
    "## 18. Accessing Nested Data"
   ]
  },
  {
   "cell_type": "code",
   "execution_count": 20,
   "metadata": {
    "execution": {
     "iopub.execute_input": "2025-10-12T13:15:31.607549Z",
     "iopub.status.busy": "2025-10-12T13:15:31.607477Z",
     "iopub.status.idle": "2025-10-12T13:15:31.611192Z",
     "shell.execute_reply": "2025-10-12T13:15:31.610978Z"
    }
   },
   "outputs": [
    {
     "name": "stdout",
     "output_type": "stream",
     "text": [
      "City: London\n",
      "First achievement: Turing Machine\n",
      "All achievements: ['Turing Machine', 'Enigma', 'Turing Test']\n"
     ]
    }
   ],
   "source": [
    "# Access nested fields\n",
    "user7 = db.doc('users/aturing')\n",
    "user7.fetch()\n",
    "\n",
    "print(f\"City: {user7.address['city']}\")\n",
    "print(f\"First achievement: {user7.achievements[0]}\")\n",
    "print(f\"All achievements: {user7.achievements}\")"
   ]
  },
  {
   "cell_type": "markdown",
   "metadata": {},
   "source": [
    "## Summary\n",
    "\n",
    "This demo covered all Phase 1 features:\n",
    "\n",
    "✅ **State Machine**: DETACHED → ATTACHED → LOADED → DELETED  \n",
    "✅ **Dynamic Attributes**: Set/get/delete using dot notation  \n",
    "✅ **Lazy Loading**: Automatic fetch on attribute access (sync)  \n",
    "✅ **Explicit Fetch**: Manual data loading with `fetch()`  \n",
    "✅ **Save Operations**: Create with custom/auto ID, update existing  \n",
    "✅ **Delete Operations**: Remove documents from Firestore  \n",
    "✅ **State Inspection**: `state`, `is_loaded()`, `is_dirty()`, etc.  \n",
    "✅ **Collection Interface**: `new()`, `doc()`, properties  \n",
    "✅ **Hydration**: `from_snapshot()` for native query results  \n",
    "✅ **Nested Data**: Dictionaries and lists as attributes  \n",
    "✅ **Error Handling**: Clear messages for invalid operations  \n",
    "\n",
    "**Next**: See Phase 2 features (subcollections, queries, partial updates)"
   ]
  }
 ],
 "metadata": {
  "kernelspec": {
   "display_name": "fire-prox",
   "language": "python",
   "name": "python3"
  },
  "language_info": {
   "codemirror_mode": {
    "name": "ipython",
    "version": 3
   },
   "file_extension": ".py",
   "mimetype": "text/x-python",
   "name": "python",
   "nbconvert_exporter": "python",
   "pygments_lexer": "ipython3",
   "version": "3.12.7"
  }
 },
 "nbformat": 4,
 "nbformat_minor": 4
}

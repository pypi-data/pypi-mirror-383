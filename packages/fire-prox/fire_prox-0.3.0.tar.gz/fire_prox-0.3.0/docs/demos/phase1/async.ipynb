{
 "cells": [
  {
   "cell_type": "markdown",
   "metadata": {},
   "source": [
    "# FireProx Phase 1 Demo - Asynchronous API\n",
    "\n",
    "This notebook demonstrates all Phase 1 features of the FireProx asynchronous API.\n",
    "\n",
    "**Prerequisites**: Firestore emulator must be running on port 8080.\n",
    "\n",
    "**Note**: Jupyter notebooks require special handling for async code. Each async cell must use `await` and be preceded by cell magic if needed."
   ]
  },
  {
   "cell_type": "markdown",
   "metadata": {},
   "source": [
    "## 1. Setup and Initialization"
   ]
  },
  {
   "cell_type": "code",
   "execution_count": 1,
   "metadata": {
    "execution": {
     "iopub.execute_input": "2025-10-12T13:15:37.172617Z",
     "iopub.status.busy": "2025-10-12T13:15:37.172387Z",
     "iopub.status.idle": "2025-10-12T13:15:37.362104Z",
     "shell.execute_reply": "2025-10-12T13:15:37.361874Z"
    }
   },
   "outputs": [
    {
     "name": "stdout",
     "output_type": "stream",
     "text": [
      "AsyncFireProx initialized successfully!\n"
     ]
    }
   ],
   "source": [
    "from fire_prox import AsyncFireProx\n",
    "from fire_prox.testing import async_demo_client\n",
    "\n",
    "client = async_demo_client()\n",
    "db = AsyncFireProx(client)\n",
    "print(\"AsyncFireProx initialized successfully!\")"
   ]
  },
  {
   "cell_type": "markdown",
   "metadata": {},
   "source": [
    "## 2. Creating a New Document (DETACHED State)"
   ]
  },
  {
   "cell_type": "code",
   "execution_count": 2,
   "metadata": {
    "execution": {
     "iopub.execute_input": "2025-10-12T13:15:37.380553Z",
     "iopub.status.busy": "2025-10-12T13:15:37.380407Z",
     "iopub.status.idle": "2025-10-12T13:15:37.382380Z",
     "shell.execute_reply": "2025-10-12T13:15:37.382127Z"
    }
   },
   "outputs": [
    {
     "name": "stdout",
     "output_type": "stream",
     "text": [
      "State: DETACHED\n",
      "Is detached: True\n",
      "Is dirty: True\n"
     ]
    }
   ],
   "source": [
    "# Get a collection reference\n",
    "users = db.collection('users')\n",
    "\n",
    "# Create a new document (not yet in Firestore)\n",
    "user = users.new()\n",
    "print(f\"State: {user.state}\")\n",
    "print(f\"Is detached: {user.is_detached()}\")\n",
    "print(f\"Is dirty: {user.is_dirty()}\")"
   ]
  },
  {
   "cell_type": "markdown",
   "metadata": {},
   "source": [
    "## 3. Setting Attributes on a DETACHED Document"
   ]
  },
  {
   "cell_type": "code",
   "execution_count": 3,
   "metadata": {
    "execution": {
     "iopub.execute_input": "2025-10-12T13:15:37.384152Z",
     "iopub.status.busy": "2025-10-12T13:15:37.384066Z",
     "iopub.status.idle": "2025-10-12T13:15:37.385848Z",
     "shell.execute_reply": "2025-10-12T13:15:37.385648Z"
    }
   },
   "outputs": [
    {
     "name": "stdout",
     "output_type": "stream",
     "text": [
      "Name: Ada Lovelace\n",
      "Data: {'name': 'Ada Lovelace', 'year': 1815, 'occupation': 'Mathematician'}\n",
      "Still detached: True\n"
     ]
    }
   ],
   "source": [
    "# Set attributes using dot notation\n",
    "user.name = 'Ada Lovelace'\n",
    "user.year = 1815\n",
    "user.occupation = 'Mathematician'\n",
    "\n",
    "print(f\"Name: {user.to_dict()['name']}\")\n",
    "print(f\"Data: {user.to_dict()}\")\n",
    "print(f\"Still detached: {user.is_detached()}\")"
   ]
  },
  {
   "cell_type": "markdown",
   "metadata": {},
   "source": [
    "## 4. Saving with Custom ID (DETACHED → LOADED)"
   ]
  },
  {
   "cell_type": "code",
   "execution_count": 4,
   "metadata": {
    "execution": {
     "iopub.execute_input": "2025-10-12T13:15:37.387098Z",
     "iopub.status.busy": "2025-10-12T13:15:37.387026Z",
     "iopub.status.idle": "2025-10-12T13:15:37.702042Z",
     "shell.execute_reply": "2025-10-12T13:15:37.701783Z"
    }
   },
   "outputs": [
    {
     "name": "stdout",
     "output_type": "stream",
     "text": [
      "State after save: LOADED\n",
      "Is loaded: True\n",
      "Is dirty: False\n",
      "Document ID: alovelace\n",
      "Document path: users/alovelace\n"
     ]
    }
   ],
   "source": [
    "# Save with a custom document ID (async operation)\n",
    "await user.save(doc_id='alovelace')\n",
    "\n",
    "print(f\"State after save: {user.state}\")\n",
    "print(f\"Is loaded: {user.is_loaded()}\")\n",
    "print(f\"Is dirty: {user.is_dirty()}\")\n",
    "print(f\"Document ID: {user.id}\")\n",
    "print(f\"Document path: {user.path}\")"
   ]
  },
  {
   "cell_type": "markdown",
   "metadata": {},
   "source": [
    "## 5. Getting a Document by Path (ATTACHED State)"
   ]
  },
  {
   "cell_type": "code",
   "execution_count": 5,
   "metadata": {
    "execution": {
     "iopub.execute_input": "2025-10-12T13:15:37.703210Z",
     "iopub.status.busy": "2025-10-12T13:15:37.703129Z",
     "iopub.status.idle": "2025-10-12T13:15:37.705103Z",
     "shell.execute_reply": "2025-10-12T13:15:37.704890Z"
    }
   },
   "outputs": [
    {
     "name": "stdout",
     "output_type": "stream",
     "text": [
      "State: ATTACHED\n",
      "Is attached: True\n",
      "Document ID: alovelace\n",
      "Document path: users/alovelace\n",
      "Data not fetched yet!\n"
     ]
    }
   ],
   "source": [
    "# Get a document reference (doesn't fetch data yet)\n",
    "user2 = db.doc('users/alovelace')\n",
    "\n",
    "print(f\"State: {user2.state}\")\n",
    "print(f\"Is attached: {user2.is_attached()}\")\n",
    "print(f\"Document ID: {user2.id}\")\n",
    "print(f\"Document path: {user2.path}\")\n",
    "print(\"Data not fetched yet!\")"
   ]
  },
  {
   "cell_type": "markdown",
   "metadata": {},
   "source": [
    "## 6. Lazy Loading (ATTACHED → LOADED)"
   ]
  },
  {
   "cell_type": "code",
   "execution_count": 6,
   "metadata": {
    "execution": {
     "iopub.execute_input": "2025-10-12T13:15:37.706424Z",
     "iopub.status.busy": "2025-10-12T13:15:37.706347Z",
     "iopub.status.idle": "2025-10-12T13:15:37.720412Z",
     "shell.execute_reply": "2025-10-12T13:15:37.720158Z"
    }
   },
   "outputs": [
    {
     "name": "stdout",
     "output_type": "stream",
     "text": [
      "Name: Ada Lovelace\n",
      "State after access: LOADED\n",
      "Is loaded: True\n",
      "Full data: {'name': 'Ada Lovelace', 'occupation': 'Mathematician', 'year': 1815}\n"
     ]
    }
   ],
   "source": [
    "# Async API now supports lazy loading!\n",
    "# Accessing attributes automatically triggers fetch\n",
    "name = user2.name  # Automatically fetches data on first access\n",
    "\n",
    "print(f\"Name: {name}\")\n",
    "print(f\"State after access: {user2.state}\")\n",
    "print(f\"Is loaded: {user2.is_loaded()}\")\n",
    "print(f\"Full data: {user2.to_dict()}\")"
   ]
  },
  {
   "cell_type": "code",
   "execution_count": 7,
   "metadata": {
    "execution": {
     "iopub.execute_input": "2025-10-12T13:15:37.721672Z",
     "iopub.status.busy": "2025-10-12T13:15:37.721583Z",
     "iopub.status.idle": "2025-10-12T13:15:37.726009Z",
     "shell.execute_reply": "2025-10-12T13:15:37.725803Z"
    }
   },
   "outputs": [
    {
     "name": "stdout",
     "output_type": "stream",
     "text": [
      "Before fetch - State: LOADED\n",
      "After fetch - State: LOADED\n",
      "Data: {'name': 'Ada Lovelace', 'occupation': 'Mathematician', 'year': 1815}\n"
     ]
    }
   ],
   "source": [
    "# You can also explicitly fetch if preferred\n",
    "user3_explicit = db.doc('users/alovelace')\n",
    "await user3_explicit.fetch()\n",
    "\n",
    "print(f\"Before fetch - State: {user3_explicit.state}\")\n",
    "print(f\"After fetch - State: {user3_explicit.state}\")\n",
    "print(f\"Data: {user3_explicit.to_dict()}\")"
   ]
  },
  {
   "cell_type": "markdown",
   "metadata": {},
   "source": [
    "## 7. Modifying a LOADED Document"
   ]
  },
  {
   "cell_type": "code",
   "execution_count": 8,
   "metadata": {
    "execution": {
     "iopub.execute_input": "2025-10-12T13:15:37.727229Z",
     "iopub.status.busy": "2025-10-12T13:15:37.727142Z",
     "iopub.status.idle": "2025-10-12T13:15:37.729064Z",
     "shell.execute_reply": "2025-10-12T13:15:37.728834Z"
    }
   },
   "outputs": [
    {
     "name": "stdout",
     "output_type": "stream",
     "text": [
      "Is dirty: True\n",
      "Modified year: 1816\n",
      "Contributions: ['Analytical Engine', 'First Algorithm']\n"
     ]
    }
   ],
   "source": [
    "# Modify attributes (synchronous operations)\n",
    "user2.year = 1816\n",
    "user2.contributions = ['Analytical Engine', 'First Algorithm']\n",
    "\n",
    "print(f\"Is dirty: {user2.is_dirty()}\")\n",
    "print(f\"Modified year: {user2.year}\")\n",
    "print(f\"Contributions: {user2.contributions}\")"
   ]
  },
  {
   "cell_type": "markdown",
   "metadata": {},
   "source": [
    "## 8. Saving Updates (Async)"
   ]
  },
  {
   "cell_type": "code",
   "execution_count": 9,
   "metadata": {
    "execution": {
     "iopub.execute_input": "2025-10-12T13:15:37.730278Z",
     "iopub.status.busy": "2025-10-12T13:15:37.730203Z",
     "iopub.status.idle": "2025-10-12T13:15:37.740976Z",
     "shell.execute_reply": "2025-10-12T13:15:37.740744Z"
    }
   },
   "outputs": [
    {
     "name": "stdout",
     "output_type": "stream",
     "text": [
      "Is dirty after save: False\n",
      "State: LOADED\n",
      "Changes saved to Firestore!\n"
     ]
    }
   ],
   "source": [
    "# Save the modifications (async operation)\n",
    "await user2.save()\n",
    "\n",
    "print(f\"Is dirty after save: {user2.is_dirty()}\")\n",
    "print(f\"State: {user2.state}\")\n",
    "print(\"Changes saved to Firestore!\")"
   ]
  },
  {
   "cell_type": "markdown",
   "metadata": {},
   "source": [
    "## 9. Refreshing Data with force=True"
   ]
  },
  {
   "cell_type": "code",
   "execution_count": 10,
   "metadata": {
    "execution": {
     "iopub.execute_input": "2025-10-12T13:15:37.742172Z",
     "iopub.status.busy": "2025-10-12T13:15:37.742094Z",
     "iopub.status.idle": "2025-10-12T13:15:37.746341Z",
     "shell.execute_reply": "2025-10-12T13:15:37.746062Z"
    }
   },
   "outputs": [
    {
     "name": "stdout",
     "output_type": "stream",
     "text": [
      "Refreshed data: {'name': 'Ada Lovelace', 'occupation': 'Mathematician', 'contributions': ['Analytical Engine', 'First Algorithm'], 'year': 1816}\n",
      "Year after refresh: 1816\n",
      "Contributions: ['Analytical Engine', 'First Algorithm']\n"
     ]
    }
   ],
   "source": [
    "# Fetch fresh data from Firestore (async operation)\n",
    "await user2.fetch(force=True)\n",
    "\n",
    "print(f\"Refreshed data: {user2.to_dict()}\")\n",
    "print(f\"Year after refresh: {user2.year}\")\n",
    "print(f\"Contributions: {user2.contributions}\")"
   ]
  },
  {
   "cell_type": "markdown",
   "metadata": {},
   "source": [
    "## 10. Deleting Attributes"
   ]
  },
  {
   "cell_type": "code",
   "execution_count": 11,
   "metadata": {
    "execution": {
     "iopub.execute_input": "2025-10-12T13:15:37.747500Z",
     "iopub.status.busy": "2025-10-12T13:15:37.747425Z",
     "iopub.status.idle": "2025-10-12T13:15:37.749286Z",
     "shell.execute_reply": "2025-10-12T13:15:37.749054Z"
    }
   },
   "outputs": [
    {
     "name": "stdout",
     "output_type": "stream",
     "text": [
      "Is dirty: True\n",
      "Data after delete: {'name': 'Ada Lovelace', 'occupation': 'Mathematician', 'year': 1816}\n",
      "Attribute 'contributions' removed locally\n"
     ]
    }
   ],
   "source": [
    "# Delete an attribute (synchronous)\n",
    "del user2.contributions\n",
    "\n",
    "print(f\"Is dirty: {user2.is_dirty()}\")\n",
    "print(f\"Data after delete: {user2.to_dict()}\")\n",
    "print(\"Attribute 'contributions' removed locally\")"
   ]
  },
  {
   "cell_type": "code",
   "execution_count": 12,
   "metadata": {
    "execution": {
     "iopub.execute_input": "2025-10-12T13:15:37.750422Z",
     "iopub.status.busy": "2025-10-12T13:15:37.750347Z",
     "iopub.status.idle": "2025-10-12T13:15:37.757879Z",
     "shell.execute_reply": "2025-10-12T13:15:37.757582Z"
    }
   },
   "outputs": [
    {
     "name": "stdout",
     "output_type": "stream",
     "text": [
      "Data after save: {'name': 'Ada Lovelace', 'occupation': 'Mathematician', 'year': 1816}\n",
      "'contributions' field removed from Firestore\n"
     ]
    }
   ],
   "source": [
    "# Save to persist the deletion (async)\n",
    "await user2.save()\n",
    "await user2.fetch(force=True)\n",
    "\n",
    "print(f\"Data after save: {user2.to_dict()}\")\n",
    "print(\"'contributions' field removed from Firestore\")"
   ]
  },
  {
   "cell_type": "markdown",
   "metadata": {},
   "source": [
    "## 11. Creating Document with Auto-Generated ID"
   ]
  },
  {
   "cell_type": "code",
   "execution_count": 13,
   "metadata": {
    "execution": {
     "iopub.execute_input": "2025-10-12T13:15:37.759161Z",
     "iopub.status.busy": "2025-10-12T13:15:37.759081Z",
     "iopub.status.idle": "2025-10-12T13:15:37.763777Z",
     "shell.execute_reply": "2025-10-12T13:15:37.763576Z"
    }
   },
   "outputs": [
    {
     "name": "stdout",
     "output_type": "stream",
     "text": [
      "Auto-generated ID: IBPAPQMfDnwDQsyWYiNO\n",
      "Path: users/IBPAPQMfDnwDQsyWYiNO\n",
      "Data: {'name': 'Grace Hopper', 'year': 1906}\n"
     ]
    }
   ],
   "source": [
    "# Create a new document without specifying ID\n",
    "user3 = users.new()\n",
    "user3.name = 'Grace Hopper'\n",
    "user3.year = 1906\n",
    "\n",
    "# Save without doc_id - Firestore generates ID (async)\n",
    "await user3.save()\n",
    "\n",
    "print(f\"Auto-generated ID: {user3.id}\")\n",
    "print(f\"Path: {user3.path}\")\n",
    "print(f\"Data: {user3.to_dict()}\")"
   ]
  },
  {
   "cell_type": "markdown",
   "metadata": {},
   "source": [
    "## 12. Collection Properties"
   ]
  },
  {
   "cell_type": "code",
   "execution_count": 14,
   "metadata": {
    "execution": {
     "iopub.execute_input": "2025-10-12T13:15:37.764975Z",
     "iopub.status.busy": "2025-10-12T13:15:37.764898Z",
     "iopub.status.idle": "2025-10-12T13:15:37.766694Z",
     "shell.execute_reply": "2025-10-12T13:15:37.766487Z"
    }
   },
   "outputs": [
    {
     "name": "stdout",
     "output_type": "stream",
     "text": [
      "Collection ID: users\n",
      "Collection path: users\n",
      "String repr: AsyncFireCollection(users)\n",
      "Repr: <AsyncFireCollection path='users'>\n"
     ]
    }
   ],
   "source": [
    "# Inspect collection properties (synchronous)\n",
    "print(f\"Collection ID: {users.id}\")\n",
    "print(f\"Collection path: {users.path}\")\n",
    "print(f\"String repr: {str(users)}\")\n",
    "print(f\"Repr: {repr(users)}\")"
   ]
  },
  {
   "cell_type": "markdown",
   "metadata": {},
   "source": [
    "## 13. Deleting a Document (LOADED → DELETED)"
   ]
  },
  {
   "cell_type": "code",
   "execution_count": 15,
   "metadata": {
    "execution": {
     "iopub.execute_input": "2025-10-12T13:15:37.767841Z",
     "iopub.status.busy": "2025-10-12T13:15:37.767761Z",
     "iopub.status.idle": "2025-10-12T13:15:37.772265Z",
     "shell.execute_reply": "2025-10-12T13:15:37.772062Z"
    }
   },
   "outputs": [
    {
     "name": "stdout",
     "output_type": "stream",
     "text": [
      "State after delete: DELETED\n",
      "Is deleted: True\n",
      "ID still accessible: IBPAPQMfDnwDQsyWYiNO\n",
      "Path still accessible: users/IBPAPQMfDnwDQsyWYiNO\n"
     ]
    }
   ],
   "source": [
    "# Delete a document from Firestore (async operation)\n",
    "await user3.delete()\n",
    "\n",
    "print(f\"State after delete: {user3.state}\")\n",
    "print(f\"Is deleted: {user3.is_deleted()}\")\n",
    "print(f\"ID still accessible: {user3.id}\")\n",
    "print(f\"Path still accessible: {user3.path}\")"
   ]
  },
  {
   "cell_type": "markdown",
   "metadata": {},
   "source": [
    "## 14. Error Handling - Invalid Operations on DELETED"
   ]
  },
  {
   "cell_type": "code",
   "execution_count": 16,
   "metadata": {
    "execution": {
     "iopub.execute_input": "2025-10-12T13:15:37.773460Z",
     "iopub.status.busy": "2025-10-12T13:15:37.773392Z",
     "iopub.status.idle": "2025-10-12T13:15:37.775338Z",
     "shell.execute_reply": "2025-10-12T13:15:37.775120Z"
    }
   },
   "outputs": [
    {
     "name": "stdout",
     "output_type": "stream",
     "text": [
      "Save error: Cannot save() on a DELETED FireObject\n",
      "Fetch error: Cannot fetch() on a DELETED FireObject\n"
     ]
    }
   ],
   "source": [
    "# Attempting operations on DELETED document raises errors\n",
    "try:\n",
    "    await user3.save()\n",
    "except RuntimeError as e:\n",
    "    print(f\"Save error: {e}\")\n",
    "\n",
    "try:\n",
    "    await user3.fetch()\n",
    "except RuntimeError as e:\n",
    "    print(f\"Fetch error: {e}\")"
   ]
  },
  {
   "cell_type": "markdown",
   "metadata": {},
   "source": [
    "## 15. Hydration from Native Firestore Snapshot"
   ]
  },
  {
   "cell_type": "code",
   "execution_count": 17,
   "metadata": {
    "execution": {
     "iopub.execute_input": "2025-10-12T13:15:37.776511Z",
     "iopub.status.busy": "2025-10-12T13:15:37.776452Z",
     "iopub.status.idle": "2025-10-12T13:15:37.780652Z",
     "shell.execute_reply": "2025-10-12T13:15:37.780440Z"
    }
   },
   "outputs": [
    {
     "name": "stdout",
     "output_type": "stream",
     "text": [
      "State: LOADED\n",
      "Is loaded: True\n",
      "Data: {'name': 'Ada Lovelace', 'occupation': 'Mathematician', 'year': 1816}\n",
      "Hydrated from native async snapshot!\n"
     ]
    }
   ],
   "source": [
    "# Use native async Firestore API to get a snapshot\n",
    "from fire_prox import AsyncFireObject\n",
    "\n",
    "doc_ref = client.collection('users').document('alovelace')\n",
    "snapshot = await doc_ref.get()\n",
    "\n",
    "# Hydrate to AsyncFireObject\n",
    "user4 = AsyncFireObject.from_snapshot(snapshot)\n",
    "\n",
    "print(f\"State: {user4.state}\")\n",
    "print(f\"Is loaded: {user4.is_loaded()}\")\n",
    "print(f\"Data: {user4.to_dict()}\")\n",
    "print(\"Hydrated from native async snapshot!\")"
   ]
  },
  {
   "cell_type": "markdown",
   "metadata": {},
   "source": [
    "## 16. Working with Nested Data"
   ]
  },
  {
   "cell_type": "code",
   "execution_count": 18,
   "metadata": {
    "execution": {
     "iopub.execute_input": "2025-10-12T13:15:37.781886Z",
     "iopub.status.busy": "2025-10-12T13:15:37.781815Z",
     "iopub.status.idle": "2025-10-12T13:15:37.788469Z",
     "shell.execute_reply": "2025-10-12T13:15:37.788257Z"
    }
   },
   "outputs": [
    {
     "name": "stdout",
     "output_type": "stream",
     "text": [
      "Nested data saved: {'name': 'Alan Turing', 'address': {'city': 'London', 'country': 'UK'}, 'achievements': ['Turing Machine', 'Enigma', 'Turing Test']}\n"
     ]
    }
   ],
   "source": [
    "# Create document with nested data structures\n",
    "user5 = users.new()\n",
    "user5.name = 'Alan Turing'\n",
    "user5.address = {\n",
    "    'city': 'London',\n",
    "    'country': 'UK'\n",
    "}\n",
    "user5.achievements = ['Turing Machine', 'Enigma', 'Turing Test']\n",
    "\n",
    "await user5.save(doc_id='aturing')\n",
    "print(f\"Nested data saved: {user5.to_dict()}\")"
   ]
  },
  {
   "cell_type": "markdown",
   "metadata": {},
   "source": [
    "## 17. Accessing Nested Data"
   ]
  },
  {
   "cell_type": "code",
   "execution_count": 19,
   "metadata": {
    "execution": {
     "iopub.execute_input": "2025-10-12T13:15:37.789641Z",
     "iopub.status.busy": "2025-10-12T13:15:37.789567Z",
     "iopub.status.idle": "2025-10-12T13:15:37.793630Z",
     "shell.execute_reply": "2025-10-12T13:15:37.793415Z"
    }
   },
   "outputs": [
    {
     "name": "stdout",
     "output_type": "stream",
     "text": [
      "City: London\n",
      "First achievement: Turing Machine\n",
      "All achievements: ['Turing Machine', 'Enigma', 'Turing Test']\n"
     ]
    }
   ],
   "source": [
    "# Access nested fields\n",
    "user6 = db.doc('users/aturing')\n",
    "await user6.fetch()\n",
    "\n",
    "print(f\"City: {user6.address['city']}\")\n",
    "print(f\"First achievement: {user6.achievements[0]}\")\n",
    "print(f\"All achievements: {user6.achievements}\")"
   ]
  },
  {
   "cell_type": "markdown",
   "metadata": {},
   "source": [
    "## 18. Multiple Async Operations"
   ]
  },
  {
   "cell_type": "code",
   "execution_count": 20,
   "metadata": {
    "execution": {
     "iopub.execute_input": "2025-10-12T13:15:37.794796Z",
     "iopub.status.busy": "2025-10-12T13:15:37.794734Z",
     "iopub.status.idle": "2025-10-12T13:15:37.801490Z",
     "shell.execute_reply": "2025-10-12T13:15:37.801249Z"
    }
   },
   "outputs": [
    {
     "name": "stdout",
     "output_type": "stream",
     "text": [
      "Created multiple documents:\n",
      "  - Katherine Johnson (users/kjohnson)\n",
      "  - Margaret Hamilton (users/mhamilton)\n"
     ]
    }
   ],
   "source": [
    "# Create multiple documents with async operations\n",
    "user7 = users.new()\n",
    "user7.name = 'Katherine Johnson'\n",
    "user7.year = 1918\n",
    "await user7.save(doc_id='kjohnson')\n",
    "\n",
    "user8 = users.new()\n",
    "user8.name = 'Margaret Hamilton'\n",
    "user8.year = 1936\n",
    "await user8.save(doc_id='mhamilton')\n",
    "\n",
    "print(\"Created multiple documents:\")\n",
    "print(f\"  - {user7.name} ({user7.path})\")\n",
    "print(f\"  - {user8.name} ({user8.path})\")"
   ]
  },
  {
   "cell_type": "markdown",
   "metadata": {},
   "source": [
    "## Summary\n",
    "\n",
    "This demo covered all Phase 1 features of the **Async API**:\n",
    "\n",
    "✅ **State Machine**: DETACHED → ATTACHED → LOADED → DELETED  \n",
    "✅ **Dynamic Attributes**: Set/get/delete using dot notation (sync)  \n",
    "✅ **Lazy Loading**: ✅ Automatic fetch on attribute access (like sync API)  \n",
    "✅ **Async Save**: `await save()` for create/update operations  \n",
    "✅ **Async Delete**: `await delete()` to remove documents  \n",
    "✅ **State Inspection**: `state`, `is_loaded()`, `is_dirty()`, etc. (sync)  \n",
    "✅ **Collection Interface**: `new()`, `doc()`, properties (sync)  \n",
    "✅ **Hydration**: `from_snapshot()` for native async query results  \n",
    "✅ **Nested Data**: Dictionaries and lists as attributes  \n",
    "✅ **Error Handling**: Clear messages for invalid operations  \n",
    "\n",
    "### Key Features: Async API\n",
    "\n",
    "| Feature | Async API |\n",
    "|---------|-----------|\n",
    "| Lazy Loading | ✅ Automatic (uses sync client internally) |\n",
    "| Fetch | `await user.fetch()` (explicit) OR `user.name` (lazy) |\n",
    "| Save | `await user.save()` |\n",
    "| Delete | `await user.delete()` |\n",
    "| Attribute access | Triggers sync fetch if ATTACHED, then instant dict lookup |\n",
    "\n",
    "**Implementation Note**: Lazy loading in async uses a companion sync Firestore client internally to perform a synchronous fetch when needed. This happens transparently and only once per object.\n",
    "\n",
    "**Next**: See Phase 2 features (subcollections, queries, partial updates)"
   ]
  }
 ],
 "metadata": {
  "kernelspec": {
   "display_name": "fire-prox",
   "language": "python",
   "name": "python3"
  },
  "language_info": {
   "codemirror_mode": {
    "name": "ipython",
    "version": 3
   },
   "file_extension": ".py",
   "mimetype": "text/x-python",
   "name": "python",
   "nbconvert_exporter": "python",
   "pygments_lexer": "ipython3",
   "version": "3.12.7"
  }
 },
 "nbformat": 4,
 "nbformat_minor": 4
}

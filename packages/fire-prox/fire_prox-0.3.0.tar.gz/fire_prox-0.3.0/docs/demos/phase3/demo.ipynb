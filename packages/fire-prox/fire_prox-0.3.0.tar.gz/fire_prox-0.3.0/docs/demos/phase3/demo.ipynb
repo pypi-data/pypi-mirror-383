{
 "cells": [
  {
   "cell_type": "markdown",
   "metadata": {},
   "source": [
    "# Phase 3: Nested Mutation Tracking Demo\n",
    "\n",
    "This notebook demonstrates **Phase 3** features: transparent mutation tracking for nested data structures.\n",
    "\n",
    "## What's New in Phase 3?\n",
    "\n",
    "- **ProxiedMap**: Transparent dictionary proxy that tracks all mutations\n",
    "- **ProxiedList**: Transparent list proxy that tracks all mutations  \n",
    "- **Firestore Constraints**: Runtime validation of field names and nesting depth\n",
    "- **Conservative Saving**: Entire fields saved when nested values change\n",
    "- **Automatic**: Works for both assigned and fetched data\n",
    "\n",
    "## Setup"
   ]
  },
  {
   "cell_type": "code",
   "execution_count": 1,
   "metadata": {},
   "outputs": [
    {
     "name": "stdout",
     "output_type": "stream",
     "text": [
      "✅ Connected to Firestore emulator\n"
     ]
    }
   ],
   "source": [
    "# Standard imports\n",
    "from fire_prox.firestore_constraints import FirestoreConstraintError\n",
    "from fire_prox.proxied_list import ProxiedList\n",
    "from fire_prox.proxied_map import ProxiedMap\n",
    "\n",
    "from fire_prox import FireProx\n",
    "from fire_prox.testing import demo_client\n",
    "\n",
    "# Initialize with demo client (connects to emulator)\n",
    "client = demo_client()\n",
    "db = FireProx(client)\n",
    "\n",
    "# Get a test collection\n",
    "users = db.collection('phase3_demo_users')\n",
    "\n",
    "print(\"✅ Connected to Firestore emulator\")"
   ]
  },
  {
   "cell_type": "markdown",
   "metadata": {},
   "source": [
    "## 1. Basic Nested Dictionary Tracking\n",
    "\n",
    "In Phase 1 and 2, nested mutations were **not** tracked:"
   ]
  },
  {
   "cell_type": "code",
   "execution_count": 2,
   "metadata": {},
   "outputs": [
    {
     "name": "stdout",
     "output_type": "stream",
     "text": [
      "✅ Created user: kqNvPmqOaDfwLP6FsY8K\n",
      "   Name: Ada Lovelace\n",
      "   Settings type: ProxiedMap\n",
      "   Settings: {'theme': 'dark', 'fontSize': 14, 'notifications': ProxiedMap({'email': True, 'sms': False, 'push': True})}\n"
     ]
    }
   ],
   "source": [
    "# Create a user with nested settings\n",
    "user = users.new()\n",
    "user.name = 'Ada Lovelace'\n",
    "user.settings = {\n",
    "    'theme': 'dark',\n",
    "    'fontSize': 14,\n",
    "    'notifications': {\n",
    "        'email': True,\n",
    "        'sms': False,\n",
    "        'push': True\n",
    "    }\n",
    "}\n",
    "user.save()\n",
    "\n",
    "print(f\"✅ Created user: {user.id}\")\n",
    "print(f\"   Name: {user.name}\")\n",
    "print(f\"   Settings type: {type(user.settings).__name__}\")\n",
    "print(f\"   Settings: {dict(user.settings)}\")"
   ]
  },
  {
   "cell_type": "code",
   "execution_count": 3,
   "metadata": {},
   "outputs": [
    {
     "name": "stdout",
     "output_type": "stream",
     "text": [
      "Before mutation:\n",
      "  Is dirty? False\n",
      "  Dirty fields: set()\n",
      "\n",
      "After mutation:\n",
      "  Is dirty? True\n",
      "  Dirty fields: {'settings'}\n",
      "  Theme is now: light\n",
      "\n",
      "✅ Saved! Dirty tracking cleared.\n",
      "  Is dirty? False\n"
     ]
    }
   ],
   "source": [
    "# ✅ Phase 3: Nested mutations are automatically tracked!\n",
    "print(\"Before mutation:\")\n",
    "print(f\"  Is dirty? {user.is_dirty()}\")\n",
    "print(f\"  Dirty fields: {user.dirty_fields}\")\n",
    "\n",
    "# Mutate nested value\n",
    "user.settings['theme'] = 'light'\n",
    "\n",
    "print(\"\\nAfter mutation:\")\n",
    "print(f\"  Is dirty? {user.is_dirty()}\")\n",
    "print(f\"  Dirty fields: {user.dirty_fields}\")\n",
    "print(f\"  Theme is now: {user.settings['theme']}\")\n",
    "\n",
    "# Save and verify\n",
    "user.save()\n",
    "print(\"\\n✅ Saved! Dirty tracking cleared.\")\n",
    "print(f\"  Is dirty? {user.is_dirty()}\")"
   ]
  },
  {
   "cell_type": "code",
   "execution_count": 4,
   "metadata": {},
   "outputs": [
    {
     "name": "stdout",
     "output_type": "stream",
     "text": [
      "Fresh copy from Firestore:\n",
      "  Theme: light\n",
      "  ✅ Mutation was persisted!\n"
     ]
    }
   ],
   "source": [
    "# Verify persistence: fetch fresh copy\n",
    "user2 = users.doc(user.id)\n",
    "user2.fetch()\n",
    "\n",
    "print(\"Fresh copy from Firestore:\")\n",
    "print(f\"  Theme: {user2.settings['theme']}\")\n",
    "print(\"  ✅ Mutation was persisted!\")"
   ]
  },
  {
   "cell_type": "markdown",
   "metadata": {},
   "source": [
    "## 2. Deeply Nested Mutation Tracking\n",
    "\n",
    "Proxies work recursively at **any depth**:"
   ]
  },
  {
   "cell_type": "code",
   "execution_count": 5,
   "metadata": {},
   "outputs": [
    {
     "name": "stdout",
     "output_type": "stream",
     "text": [
      "✅ Created user with 4-level nesting: 7unS8HR8WhrodK9p9Pue\n"
     ]
    }
   ],
   "source": [
    "# Create deeply nested structure\n",
    "user = users.new()\n",
    "user.name = 'Grace Hopper'\n",
    "user.config = {\n",
    "    'ui': {\n",
    "        'theme': {\n",
    "            'colors': {\n",
    "                'primary': '#ff0000',\n",
    "                'secondary': '#00ff00',\n",
    "                'accent': '#0000ff'\n",
    "            }\n",
    "        },\n",
    "        'layout': 'grid'\n",
    "    },\n",
    "    'performance': {\n",
    "        'caching': True\n",
    "    }\n",
    "}\n",
    "user.save()\n",
    "\n",
    "print(f\"✅ Created user with 4-level nesting: {user.id}\")"
   ]
  },
  {
   "cell_type": "code",
   "execution_count": 6,
   "metadata": {},
   "outputs": [
    {
     "name": "stdout",
     "output_type": "stream",
     "text": [
      "Before: primary color = #ff0000\n",
      "After: primary color = #9900ff\n",
      "Is dirty? True\n",
      "Dirty fields: {'config'}\n",
      "\n",
      "✅ Persisted: #9900ff\n"
     ]
    }
   ],
   "source": [
    "# ✅ Mutate deeply nested value (4 levels deep)\n",
    "print(f\"Before: primary color = {user.config['ui']['theme']['colors']['primary']}\")\n",
    "\n",
    "user.config['ui']['theme']['colors']['primary'] = '#9900ff'\n",
    "\n",
    "print(f\"After: primary color = {user.config['ui']['theme']['colors']['primary']}\")\n",
    "print(f\"Is dirty? {user.is_dirty()}\")\n",
    "print(f\"Dirty fields: {user.dirty_fields}\")\n",
    "\n",
    "# Save and verify\n",
    "user.save()\n",
    "user.fetch(force=True)\n",
    "print(f\"\\n✅ Persisted: {user.config['ui']['theme']['colors']['primary']}\")"
   ]
  },
  {
   "cell_type": "markdown",
   "metadata": {},
   "source": [
    "## 3. List Mutation Tracking\n",
    "\n",
    "Lists are also wrapped in transparent proxies:"
   ]
  },
  {
   "cell_type": "code",
   "execution_count": 7,
   "metadata": {},
   "outputs": [
    {
     "name": "stdout",
     "output_type": "stream",
     "text": [
      "✅ Created user: API64qpqwuZRnVk10b3v\n",
      "   Tags type: ProxiedList\n",
      "   Tags: ['mathematics', 'cryptography', 'ai']\n"
     ]
    }
   ],
   "source": [
    "# Create user with tags list\n",
    "user = users.new()\n",
    "user.name = 'Alan Turing'\n",
    "user.tags = ['mathematics', 'cryptography', 'ai']\n",
    "user.save()\n",
    "\n",
    "print(f\"✅ Created user: {user.id}\")\n",
    "print(f\"   Tags type: {type(user.tags).__name__}\")\n",
    "print(f\"   Tags: {list(user.tags)}\")"
   ]
  },
  {
   "cell_type": "code",
   "execution_count": 8,
   "metadata": {},
   "outputs": [
    {
     "name": "stdout",
     "output_type": "stream",
     "text": [
      "Testing various list operations:\n",
      "\n",
      "After append: ['mathematics', 'cryptography', 'ai', 'computing']\n",
      "Is dirty? True\n",
      "\n",
      "After extend: ['mathematics', 'cryptography', 'ai', 'computing', 'logic', 'philosophy']\n",
      "Is dirty? True\n",
      "\n",
      "After index assignment: ['pure-mathematics', 'cryptography', 'ai', 'computing', 'logic', 'philosophy']\n",
      "Is dirty? True\n",
      "\n",
      "After remove: ['pure-mathematics', 'cryptography', 'ai', 'computing', 'logic']\n",
      "Is dirty? True\n",
      "\n",
      "✅ All list operations tracked and persisted!\n"
     ]
    }
   ],
   "source": [
    "# ✅ List mutations tracked\n",
    "print(\"Testing various list operations:\\n\")\n",
    "\n",
    "# Append\n",
    "user.tags.append('computing')\n",
    "print(f\"After append: {list(user.tags)}\")\n",
    "print(f\"Is dirty? {user.is_dirty()}\")\n",
    "user.save()\n",
    "\n",
    "# Extend\n",
    "user.tags.extend(['logic', 'philosophy'])\n",
    "print(f\"\\nAfter extend: {list(user.tags)}\")\n",
    "print(f\"Is dirty? {user.is_dirty()}\")\n",
    "user.save()\n",
    "\n",
    "# Index assignment\n",
    "user.tags[0] = 'pure-mathematics'\n",
    "print(f\"\\nAfter index assignment: {list(user.tags)}\")\n",
    "print(f\"Is dirty? {user.is_dirty()}\")\n",
    "user.save()\n",
    "\n",
    "# Remove\n",
    "user.tags.remove('philosophy')\n",
    "print(f\"\\nAfter remove: {list(user.tags)}\")\n",
    "print(f\"Is dirty? {user.is_dirty()}\")\n",
    "user.save()\n",
    "\n",
    "print(\"\\n✅ All list operations tracked and persisted!\")"
   ]
  },
  {
   "cell_type": "markdown",
   "metadata": {},
   "source": [
    "## 4. Mixed Nested Structures\n",
    "\n",
    "Proxies handle complex combinations of lists and dicts:"
   ]
  },
  {
   "cell_type": "code",
   "execution_count": 9,
   "metadata": {},
   "outputs": [
    {
     "name": "stdout",
     "output_type": "stream",
     "text": [
      "✅ Created user with mixed nested structures: YjoSX8xvM3ON3KMRj1Hr\n"
     ]
    }
   ],
   "source": [
    "# Lists within dicts, dicts within lists\n",
    "user = users.new()\n",
    "user.name = 'Katherine Johnson'\n",
    "user.data = {\n",
    "    'projects': [\n",
    "        {'name': 'Apollo 11', 'year': 1969, 'role': 'mathematician'},\n",
    "        {'name': 'Mercury', 'year': 1961, 'role': 'computer'}\n",
    "    ],\n",
    "    'achievements': {\n",
    "        'awards': ['Presidential Medal of Freedom', 'Congressional Gold Medal'],\n",
    "        'publications': 26\n",
    "    }\n",
    "}\n",
    "user.save()\n",
    "\n",
    "print(f\"✅ Created user with mixed nested structures: {user.id}\")"
   ]
  },
  {
   "cell_type": "code",
   "execution_count": 10,
   "metadata": {},
   "outputs": [
    {
     "name": "stdout",
     "output_type": "stream",
     "text": [
      "Before: Apollo role = mathematician\n",
      "After: Apollo role = lead-mathematician\n",
      "Is dirty? True\n",
      "\n",
      "Before: awards = ['Presidential Medal of Freedom', 'Congressional Gold Medal']\n",
      "After: awards = ['Presidential Medal of Freedom', 'Congressional Gold Medal', 'NACA Outstanding Achievement Medal']\n",
      "Is dirty? True\n",
      "\n",
      "✅ Mixed nested mutations tracked!\n"
     ]
    }
   ],
   "source": [
    "# ✅ Mutate dict within list\n",
    "print(\"Before: Apollo role =\", user.data['projects'][0]['role'])\n",
    "user.data['projects'][0]['role'] = 'lead-mathematician'\n",
    "print(\"After: Apollo role =\", user.data['projects'][0]['role'])\n",
    "print(f\"Is dirty? {user.is_dirty()}\\n\")\n",
    "user.save()\n",
    "\n",
    "# ✅ Mutate list within dict\n",
    "print(\"Before: awards =\", list(user.data['achievements']['awards']))\n",
    "user.data['achievements']['awards'].append('NACA Outstanding Achievement Medal')\n",
    "print(\"After: awards =\", list(user.data['achievements']['awards']))\n",
    "print(f\"Is dirty? {user.is_dirty()}\")\n",
    "user.save()\n",
    "\n",
    "print(\"\\n✅ Mixed nested mutations tracked!\")"
   ]
  },
  {
   "cell_type": "markdown",
   "metadata": {},
   "source": [
    "## 5. Firestore Constraint Validation\n",
    "\n",
    "Phase 3 enforces Firestore's documented constraints at **assignment time**:"
   ]
  },
  {
   "cell_type": "code",
   "execution_count": 11,
   "metadata": {},
   "outputs": [
    {
     "name": "stdout",
     "output_type": "stream",
     "text": [
      "❌ Caught constraint error:\n",
      "   Field name '__invalid__' cannot match __name__ pattern (at depth 0). Firestore reserves double-underscore names for internal use.\n",
      "\n",
      "✅ Valid field names accepted\n"
     ]
    }
   ],
   "source": [
    "# ❌ Invalid field name: reserved __name__ pattern\n",
    "user = users.new()\n",
    "user.name = 'Test User'\n",
    "\n",
    "try:\n",
    "    user.settings = {'__invalid__': 'value'}\n",
    "except FirestoreConstraintError as e:\n",
    "    print(\"❌ Caught constraint error:\")\n",
    "    print(f\"   {e}\")\n",
    "    print(\"\")\n",
    "\n",
    "# ❌ Field name with whitespace\n",
    "try:\n",
    "    user.settings = {'field name': 'value'}\n",
    "except FirestoreConstraintError as e:\n",
    "    print(\"❌ Caught constraint error:\")\n",
    "    print(f\"   {e}\")\n",
    "    print(\"\")\n",
    "\n",
    "# ✅ Valid field names work fine\n",
    "user.settings = {'valid_field': 'value', 'another_field': 123}\n",
    "print(\"✅ Valid field names accepted\")"
   ]
  },
  {
   "cell_type": "code",
   "execution_count": 12,
   "metadata": {},
   "outputs": [
    {
     "name": "stdout",
     "output_type": "stream",
     "text": [
      "❌ Caught nesting depth error:\n",
      "   Firestore nesting depth limit exceeded at path 'data'. Maximum depth is 20 levels, attempted 21. Consider flattening your data structure or using subcollections.\n",
      "\n",
      "✅ Reasonable nesting (4 levels) accepted\n"
     ]
    }
   ],
   "source": [
    "# ❌ Excessive nesting depth (Firestore limit: 20 levels)\n",
    "user = users.new()\n",
    "\n",
    "# Build a structure exceeding 20 levels\n",
    "data = {'level': {}}\n",
    "current = data['level']\n",
    "for i in range(25):\n",
    "    current['level'] = {}\n",
    "    current = current['level']\n",
    "\n",
    "try:\n",
    "    user.data = data\n",
    "except FirestoreConstraintError as e:\n",
    "    print(\"❌ Caught nesting depth error:\")\n",
    "    print(f\"   {e}\")\n",
    "    print(\"\")\n",
    "\n",
    "# ✅ Reasonable nesting works fine\n",
    "user.data = {'a': {'b': {'c': {'d': 'value'}}}}\n",
    "print(\"✅ Reasonable nesting (4 levels) accepted\")"
   ]
  },
  {
   "cell_type": "markdown",
   "metadata": {},
   "source": [
    "## 6. Conservative Saving\n",
    "\n",
    "When a nested value changes, **the entire top-level field** is saved:"
   ]
  },
  {
   "cell_type": "code",
   "execution_count": 13,
   "metadata": {},
   "outputs": [
    {
     "name": "stdout",
     "output_type": "stream",
     "text": [
      "Initial config:\n",
      "{'theme': 'dark', 'fontSize': 14, 'language': 'en', 'nested': ProxiedMap({'value1': 'old', 'value2': 'unchanged'})}\n"
     ]
    }
   ],
   "source": [
    "# Create user with large nested structure\n",
    "user = users.new()\n",
    "user.name = 'Demo User'\n",
    "user.config = {\n",
    "    'theme': 'dark',\n",
    "    'fontSize': 14,\n",
    "    'language': 'en',\n",
    "    'nested': {\n",
    "        'value1': 'old',\n",
    "        'value2': 'unchanged'\n",
    "    }\n",
    "}\n",
    "user.save()\n",
    "\n",
    "print(\"Initial config:\")\n",
    "print(dict(user.config))"
   ]
  },
  {
   "cell_type": "code",
   "execution_count": 14,
   "metadata": {},
   "outputs": [
    {
     "name": "stdout",
     "output_type": "stream",
     "text": [
      "\n",
      "Changed nested value, dirty fields: {'config'}\n",
      "\n",
      "Fresh copy from Firestore:\n",
      "  theme: dark (unchanged)\n",
      "  fontSize: 14 (unchanged)\n",
      "  nested.value1: new (changed)\n",
      "  nested.value2: unchanged (unchanged)\n",
      "\n",
      "✅ Entire field saved, all values present\n"
     ]
    }
   ],
   "source": [
    "# Change ONE nested value\n",
    "user.config['nested']['value1'] = 'new'\n",
    "print(f\"\\nChanged nested value, dirty fields: {user.dirty_fields}\")\n",
    "\n",
    "# Save (writes entire 'config' field)\n",
    "user.save()\n",
    "\n",
    "# Verify: fetch fresh copy\n",
    "user2 = users.doc(user.id)\n",
    "user2.fetch()\n",
    "\n",
    "print(\"\\nFresh copy from Firestore:\")\n",
    "print(f\"  theme: {user2.config['theme']} (unchanged)\")\n",
    "print(f\"  fontSize: {user2.config['fontSize']} (unchanged)\")\n",
    "print(f\"  nested.value1: {user2.config['nested']['value1']} (changed)\")\n",
    "print(f\"  nested.value2: {user2.config['nested']['value2']} (unchanged)\")\n",
    "print(\"\\n✅ Entire field saved, all values present\")"
   ]
  },
  {
   "cell_type": "markdown",
   "metadata": {},
   "source": [
    "## 7. Fetched Data is Wrapped\n",
    "\n",
    "Data fetched from Firestore is automatically wrapped in proxies:"
   ]
  },
  {
   "cell_type": "code",
   "execution_count": 15,
   "metadata": {},
   "outputs": [
    {
     "name": "stdout",
     "output_type": "stream",
     "text": [
      "✅ Created via native client: DUJjWrAX9jq3WAJntd9p\n"
     ]
    }
   ],
   "source": [
    "# Create using native client (bypassing FireProx)\n",
    "\n",
    "native_ref = client.collection('phase3_demo_users').document()\n",
    "native_ref.set({\n",
    "    'name': 'Native User',\n",
    "    'settings': {'theme': 'dark', 'fontSize': 12},\n",
    "    'tags': ['python', 'firestore']\n",
    "})\n",
    "\n",
    "print(f\"✅ Created via native client: {native_ref.id}\")"
   ]
  },
  {
   "cell_type": "code",
   "execution_count": 16,
   "metadata": {},
   "outputs": [
    {
     "name": "stdout",
     "output_type": "stream",
     "text": [
      "Fetched data types:\n",
      "  settings: ProxiedMap\n",
      "  tags: ProxiedList\n",
      "  Is ProxiedMap? True\n",
      "  Is ProxiedList? True\n",
      "\n",
      "✅ Mutation tracked: True\n"
     ]
    }
   ],
   "source": [
    "# Fetch via FireProx\n",
    "user = users.doc(native_ref.id)\n",
    "user.fetch()\n",
    "\n",
    "print(\"Fetched data types:\")\n",
    "print(f\"  settings: {type(user.settings).__name__}\")\n",
    "print(f\"  tags: {type(user.tags).__name__}\")\n",
    "print(f\"  Is ProxiedMap? {isinstance(user.settings, ProxiedMap)}\")\n",
    "print(f\"  Is ProxiedList? {isinstance(user.tags, ProxiedList)}\")\n",
    "\n",
    "# ✅ Mutations on fetched data are tracked\n",
    "user.settings['theme'] = 'light'\n",
    "print(f\"\\n✅ Mutation tracked: {user.is_dirty()}\")"
   ]
  },
  {
   "cell_type": "markdown",
   "metadata": {},
   "source": [
    "## 8. to_dict() Returns Plain Types\n",
    "\n",
    "For user-facing output, `to_dict()` unwraps proxies:"
   ]
  },
  {
   "cell_type": "code",
   "execution_count": 17,
   "metadata": {},
   "outputs": [
    {
     "name": "stdout",
     "output_type": "stream",
     "text": [
      "Internal types:\n",
      "  settings: ProxiedMap\n",
      "  tags: ProxiedList\n",
      "\n",
      "to_dict() types:\n",
      "  settings: dict\n",
      "  tags: list\n",
      "\n",
      "✅ Proxies unwrapped to plain dict/list\n"
     ]
    }
   ],
   "source": [
    "user = users.new()\n",
    "user.name = 'Export Test'\n",
    "user.settings = {'theme': 'dark'}\n",
    "user.tags = ['test']\n",
    "user.save()\n",
    "\n",
    "# Internal storage uses proxies\n",
    "print(\"Internal types:\")\n",
    "print(f\"  settings: {type(user.settings).__name__}\")\n",
    "print(f\"  tags: {type(user.tags).__name__}\")\n",
    "\n",
    "# to_dict() returns plain types\n",
    "data = user.to_dict()\n",
    "print(\"\\nto_dict() types:\")\n",
    "print(f\"  settings: {type(data['settings']).__name__}\")\n",
    "print(f\"  tags: {type(data['tags']).__name__}\")\n",
    "print(\"\\n✅ Proxies unwrapped to plain dict/list\")"
   ]
  },
  {
   "cell_type": "markdown",
   "metadata": {},
   "source": [
    "## 9. Async API\n",
    "\n",
    "Everything works identically with the async API:"
   ]
  },
  {
   "cell_type": "code",
   "execution_count": 18,
   "metadata": {},
   "outputs": [
    {
     "name": "stdout",
     "output_type": "stream",
     "text": [
      "✅ Initialized async client\n"
     ]
    }
   ],
   "source": [
    "from fire_prox import AsyncFireProx\n",
    "from fire_prox.testing import async_demo_client\n",
    "\n",
    "# Initialize async client\n",
    "async_client = async_demo_client()\n",
    "async_db = AsyncFireProx(async_client)\n",
    "async_users = async_db.collection('phase3_demo_async_users')\n",
    "\n",
    "print(\"✅ Initialized async client\")"
   ]
  },
  {
   "cell_type": "code",
   "execution_count": 19,
   "metadata": {},
   "outputs": [
    {
     "name": "stdout",
     "output_type": "stream",
     "text": [
      "✅ Created async user: m0Vl1zJUEtsGPim9iHJC\n",
      "   Settings type: ProxiedMap\n",
      "   Is dirty? True\n",
      "   ✅ Saved with await\n",
      "   Theme persisted: light\n"
     ]
    }
   ],
   "source": [
    "# Async nested mutation tracking\n",
    "user = async_users.new()\n",
    "user.name = 'Async User'\n",
    "user.settings = {'theme': 'dark', 'notifications': {'email': True}}\n",
    "await user.save()\n",
    "\n",
    "print(f\"✅ Created async user: {user.id}\")\n",
    "print(f\"   Settings type: {type(user.settings).__name__}\")\n",
    "\n",
    "# Mutate nested value\n",
    "user.settings['theme'] = 'light'\n",
    "print(f\"   Is dirty? {user.is_dirty()}\")\n",
    "\n",
    "await user.save()\n",
    "print(\"   ✅ Saved with await\")\n",
    "\n",
    "# Fetch and verify\n",
    "user2 = async_users.doc(user.id)\n",
    "await user2.fetch()\n",
    "print(f\"   Theme persisted: {user2.settings['theme']}\")"
   ]
  },
  {
   "cell_type": "markdown",
   "metadata": {},
   "source": [
    "## Summary\n",
    "\n",
    "Phase 3 delivers:\n",
    "\n",
    "✅ **Transparent Tracking**: Nested mutations detected automatically\n",
    "\n",
    "✅ **Firestore Constraints**: Field names and nesting depth validated at assignment\n",
    "\n",
    "✅ **Conservative Saving**: Entire fields saved for data integrity\n",
    "\n",
    "✅ **Natural API**: Proxies behave exactly like native dicts and lists\n",
    "\n",
    "✅ **Both APIs**: Full sync and async support\n",
    "\n",
    "✅ **Zero Breaking Changes**: All existing code continues to work\n",
    "\n",
    "### Next Steps\n",
    "\n",
    "- Explore the [Phase 3 Implementation Report](../../PHASE3_IMPLEMENTATION_REPORT.md)\n",
    "- Check out the [test suite](../../../tests/test_phase3_proxies.py)\n",
    "- Review the [Architectural Blueprint](../../Architectural_Blueprint.md)"
   ]
  }
 ],
 "metadata": {
  "kernelspec": {
   "display_name": "fire-prox",
   "language": "python",
   "name": "python3"
  },
  "language_info": {
   "codemirror_mode": {
    "name": "ipython",
    "version": 3
   },
   "file_extension": ".py",
   "mimetype": "text/x-python",
   "name": "python",
   "nbconvert_exporter": "python",
   "pygments_lexer": "ipython3",
   "version": "3.12.7"
  }
 },
 "nbformat": 4,
 "nbformat_minor": 4
}

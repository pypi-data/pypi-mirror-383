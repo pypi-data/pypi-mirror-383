{
 "cells": [
  {
   "cell_type": "markdown",
   "id": "intro",
   "metadata": {},
   "source": [
    "# FireProx Document References Guide\n",
    "\n",
    "This notebook demonstrates how to work with document references in Firestore, including:\n",
    "\n",
    "- **Assigning FireObject references** - Store relationships between documents\n",
    "- **Automatic conversions** - FireObject ↔ DocumentReference conversion\n",
    "- **Lazy loading** - Automatic data fetching on access\n",
    "- **Nested references** - References in lists and dictionaries\n",
    "- **Validation** - Type safety and state validation\n",
    "- **Common patterns** - Real-world reference use cases\n",
    "\n",
    "## Key Findings\n",
    "\n",
    "✅ **Automatic Conversion**:\n",
    "- Assigning a FireObject automatically converts to DocumentReference for storage\n",
    "- Reading a DocumentReference automatically converts to FireObject\n",
    "- Works recursively in nested structures (lists, dicts)\n",
    "\n",
    "✅ **Lazy Loading**:\n",
    "- Referenced FireObjects start in ATTACHED state\n",
    "- Data is automatically fetched on first attribute access\n",
    "- Works seamlessly for both sync and async\n",
    "\n",
    "⚠️ **Important Validations**:\n",
    "- Cannot assign DETACHED FireObjects (no path to reference)\n",
    "- Cannot mix sync and async FireObjects (TypeError)\n",
    "- References preserve object identity (same instance on repeated access)"
   ]
  },
  {
   "cell_type": "markdown",
   "id": "setup",
   "metadata": {},
   "source": [
    "## Setup\n",
    "\n",
    "Import modules and initialize FireProx."
   ]
  },
  {
   "cell_type": "code",
   "execution_count": 1,
   "id": "imports",
   "metadata": {},
   "outputs": [],
   "source": [
    "from fire_prox import AsyncFireProx, FireProx\n",
    "from fire_prox.testing import async_demo_client, demo_client"
   ]
  },
  {
   "cell_type": "markdown",
   "id": "part1-header",
   "metadata": {},
   "source": [
    "---\n",
    "\n",
    "# Part 1: Basic Document References\n",
    "\n",
    "Learn how to create and use document references between FireObjects."
   ]
  },
  {
   "cell_type": "markdown",
   "id": "sync-setup",
   "metadata": {},
   "source": [
    "### Initialize Client"
   ]
  },
  {
   "cell_type": "code",
   "execution_count": 2,
   "id": "sync-client",
   "metadata": {},
   "outputs": [
    {
     "name": "stdout",
     "output_type": "stream",
     "text": [
      "✅ Client initialized\n"
     ]
    }
   ],
   "source": [
    "# Create sync client and collections\n",
    "client = demo_client()\n",
    "db = FireProx(client)\n",
    "users = db.collection('doc_ref_users')\n",
    "posts = db.collection('doc_ref_posts')\n",
    "\n",
    "print(\"✅ Client initialized\")"
   ]
  },
  {
   "cell_type": "markdown",
   "id": "feature1",
   "metadata": {},
   "source": [
    "## Feature 1: Assigning FireObject References\n",
    "\n",
    "You can assign one FireObject to another's property to create a reference."
   ]
  },
  {
   "cell_type": "code",
   "execution_count": 3,
   "id": "assign-reference",
   "metadata": {},
   "outputs": [
    {
     "name": "stdout",
     "output_type": "stream",
     "text": [
      "👤 Created user: Ada Lovelace\n",
      "   Path: doc_ref_users/ada\n",
      "\n",
      "📝 Created post: On Analytical Engines\n",
      "   Author (before save): FireObject\n",
      "   Internal storage: FireObject\n",
      "   Reference path: doc_ref_users/ada\n",
      "\n",
      "✅ Post saved with author reference!\n"
     ]
    }
   ],
   "source": [
    "# Create a user\n",
    "user = users.new()\n",
    "user.name = 'Ada Lovelace'\n",
    "user.occupation = 'Mathematician'\n",
    "user.save(doc_id='ada')\n",
    "print(f\"👤 Created user: {user.name}\")\n",
    "print(f\"   Path: {user.path}\")\n",
    "\n",
    "# Create a post with a reference to the user\n",
    "post = posts.new()\n",
    "post.title = 'On Analytical Engines'\n",
    "post.author = user  # Assign FireObject reference\n",
    "post.content = 'The Analytical Engine weaves algebraic patterns...'\n",
    "print(f\"\\n📝 Created post: {post.title}\")\n",
    "print(f\"   Author (before save): {type(post.author).__name__}\")\n",
    "\n",
    "# When we access the internal data, we see it's converted to DocumentReference\n",
    "print(f\"   Internal storage: {type(post._data['author']).__name__}\")\n",
    "print(f\"   Reference path: {post._data['author'].path}\")\n",
    "\n",
    "# Save the post\n",
    "post.save(doc_id='post1')\n",
    "print(\"\\n✅ Post saved with author reference!\")"
   ]
  },
  {
   "cell_type": "markdown",
   "id": "feature2",
   "metadata": {},
   "source": [
    "## Feature 2: Reading References Back\n",
    "\n",
    "When you read a document with references, they're automatically converted to FireObjects."
   ]
  },
  {
   "cell_type": "code",
   "execution_count": 4,
   "id": "read-reference",
   "metadata": {},
   "outputs": [
    {
     "name": "stdout",
     "output_type": "stream",
     "text": [
      "📄 Retrieved post: On Analytical Engines\n",
      "   Content: The Analytical Engine weaves algebraic patterns......\n",
      "\n",
      "👤 Author reference:\n",
      "   Type: FireObject\n",
      "   State: ATTACHED\n",
      "   Path: doc_ref_users/ada\n",
      "\n",
      "✅ Reference converted to FireObject (ATTACHED state)\n"
     ]
    }
   ],
   "source": [
    "# Fetch the post from Firestore\n",
    "retrieved_post = db.doc('doc_ref_posts/post1')\n",
    "retrieved_post.fetch()\n",
    "\n",
    "print(f\"📄 Retrieved post: {retrieved_post.title}\")\n",
    "print(f\"   Content: {retrieved_post.content[:50]}...\")\n",
    "\n",
    "# Access the author reference\n",
    "author = retrieved_post.author\n",
    "print(\"\\n👤 Author reference:\")\n",
    "print(f\"   Type: {type(author).__name__}\")\n",
    "print(f\"   State: {author.state}\")\n",
    "print(f\"   Path: {author.path}\")\n",
    "\n",
    "print(\"\\n✅ Reference converted to FireObject (ATTACHED state)\")"
   ]
  },
  {
   "cell_type": "markdown",
   "id": "feature3",
   "metadata": {},
   "source": [
    "## Feature 3: Lazy Loading\n",
    "\n",
    "Referenced FireObjects automatically load data on first attribute access."
   ]
  },
  {
   "cell_type": "code",
   "execution_count": 5,
   "id": "lazy-loading",
   "metadata": {},
   "outputs": [
    {
     "name": "stdout",
     "output_type": "stream",
     "text": [
      "📊 Before accessing data:\n",
      "   State: ATTACHED\n",
      "\n",
      "👤 Accessing author.name...\n",
      "   Name: Ada Lovelace\n",
      "   Occupation: Mathematician\n",
      "\n",
      "📊 After accessing data:\n",
      "   State: LOADED\n",
      "\n",
      "⚡ Second access (instant):\n",
      "   Name again: Ada Lovelace\n",
      "\n",
      "✅ Lazy loading automatically fetched data on first access!\n"
     ]
    }
   ],
   "source": [
    "# The author is currently ATTACHED (no data loaded yet)\n",
    "print(\"📊 Before accessing data:\")\n",
    "print(f\"   State: {author.state}\")\n",
    "\n",
    "# Access an attribute - this triggers lazy loading\n",
    "print(\"\\n👤 Accessing author.name...\")\n",
    "author_name = author.name\n",
    "print(f\"   Name: {author_name}\")\n",
    "print(f\"   Occupation: {author.occupation}\")\n",
    "\n",
    "# Now the author is LOADED\n",
    "print(\"\\n📊 After accessing data:\")\n",
    "print(f\"   State: {author.state}\")\n",
    "\n",
    "# Subsequent accesses are instant (no fetch needed)\n",
    "print(\"\\n⚡ Second access (instant):\")\n",
    "print(f\"   Name again: {author.name}\")\n",
    "\n",
    "print(\"\\n✅ Lazy loading automatically fetched data on first access!\")"
   ]
  },
  {
   "cell_type": "markdown",
   "id": "feature4",
   "metadata": {},
   "source": [
    "## Feature 4: Validation - DETACHED Objects\n",
    "\n",
    "You cannot assign DETACHED FireObjects as references (they have no path)."
   ]
  },
  {
   "cell_type": "code",
   "execution_count": 6,
   "id": "detached-validation",
   "metadata": {},
   "outputs": [
    {
     "name": "stdout",
     "output_type": "stream",
     "text": [
      "👤 Unsaved user state: DETACHED\n",
      "📝 Unsaved post state: DETACHED\n",
      "\n",
      "❌ Attempting to assign DETACHED object...\n",
      "   Caught ValueError: Cannot assign a DETACHED FireObject as a reference. The object must be saved first to have a document path.\n",
      "\n",
      "✅ DETACHED objects cannot be assigned as references\n",
      "   Save the object first to create a reference!\n",
      "\n",
      "✓ User saved, now in LOADED state\n",
      "✓ Reference assignment successful!\n"
     ]
    }
   ],
   "source": [
    "# Create two DETACHED objects\n",
    "unsaved_user = users.new()\n",
    "unsaved_user.name = 'Grace Hopper'\n",
    "\n",
    "unsaved_post = posts.new()\n",
    "unsaved_post.title = 'Compilers'\n",
    "\n",
    "print(f\"👤 Unsaved user state: {unsaved_user.state}\")\n",
    "print(f\"📝 Unsaved post state: {unsaved_post.state}\")\n",
    "\n",
    "# Try to assign DETACHED object as reference\n",
    "print(\"\\n❌ Attempting to assign DETACHED object...\")\n",
    "try:\n",
    "    unsaved_post.author = unsaved_user\n",
    "    print(\"   This should not print!\")\n",
    "except ValueError as e:\n",
    "    print(f\"   Caught ValueError: {e}\")\n",
    "\n",
    "print(\"\\n✅ DETACHED objects cannot be assigned as references\")\n",
    "print(\"   Save the object first to create a reference!\")\n",
    "\n",
    "# The correct way:\n",
    "unsaved_user.save(doc_id='grace')\n",
    "print(f\"\\n✓ User saved, now in {unsaved_user.state} state\")\n",
    "unsaved_post.author = unsaved_user  # Now this works!\n",
    "print(\"✓ Reference assignment successful!\")"
   ]
  },
  {
   "cell_type": "markdown",
   "id": "feature5",
   "metadata": {},
   "source": [
    "## Feature 5: Validation - Sync/Async Mismatch\n",
    "\n",
    "You cannot mix sync and async FireObjects."
   ]
  },
  {
   "cell_type": "code",
   "execution_count": 7,
   "id": "sync-async-validation",
   "metadata": {},
   "outputs": [
    {
     "name": "stdout",
     "output_type": "stream",
     "text": [
      "👤 Async user created: Margaret Hamilton\n",
      "   Type: AsyncFireObject\n",
      "\n",
      "📝 Sync post created: Apollo Guidance Computer\n",
      "   Type: FireObject\n",
      "\n",
      "❌ Attempting to mix sync and async...\n",
      "   Caught TypeError: Cannot assign async FireObject to sync FireObject. Both objects must be from the same context (sync or async).\n",
      "\n",
      "✅ Sync and async FireObjects cannot be mixed\n",
      "   Use matching types: sync with sync, async with async\n"
     ]
    }
   ],
   "source": [
    "# Create async client\n",
    "async_client = async_demo_client()\n",
    "async_db = AsyncFireProx(async_client)\n",
    "async_users = async_db.collection('doc_ref_users_async')\n",
    "\n",
    "# Create and save an async user\n",
    "async_user = async_users.new()\n",
    "async_user.name = 'Margaret Hamilton'\n",
    "await async_user.save(doc_id='margaret')\n",
    "\n",
    "print(f\"👤 Async user created: {async_user.name}\")\n",
    "print(f\"   Type: {type(async_user).__name__}\")\n",
    "\n",
    "# Create a sync post\n",
    "sync_post = posts.new()\n",
    "sync_post.title = 'Apollo Guidance Computer'\n",
    "\n",
    "print(f\"\\n📝 Sync post created: {sync_post.title}\")\n",
    "print(f\"   Type: {type(sync_post).__name__}\")\n",
    "\n",
    "# Try to assign async user to sync post\n",
    "print(\"\\n❌ Attempting to mix sync and async...\")\n",
    "try:\n",
    "    sync_post.author = async_user\n",
    "    print(\"   This should not print!\")\n",
    "except TypeError as e:\n",
    "    print(f\"   Caught TypeError: {e}\")\n",
    "\n",
    "print(\"\\n✅ Sync and async FireObjects cannot be mixed\")\n",
    "print(\"   Use matching types: sync with sync, async with async\")"
   ]
  },
  {
   "cell_type": "markdown",
   "id": "part2-header",
   "metadata": {},
   "source": [
    "---\n",
    "\n",
    "# Part 2: Nested References\n",
    "\n",
    "References can be nested in lists and dictionaries."
   ]
  },
  {
   "cell_type": "markdown",
   "id": "feature6",
   "metadata": {},
   "source": [
    "## Feature 6: References in Lists\n",
    "\n",
    "Store multiple references in a list."
   ]
  },
  {
   "cell_type": "code",
   "execution_count": 8,
   "id": "list-references",
   "metadata": {},
   "outputs": [
    {
     "name": "stdout",
     "output_type": "stream",
     "text": [
      "👥 Created reviewers:\n",
      "   • Alan Turing (Computation)\n",
      "   • Donald Knuth (Algorithms)\n",
      "   • Barbara Liskov (Programming Languages)\n",
      "\n",
      "📄 Created paper: On Computable Numbers\n",
      "   Reviewers: 3 assigned\n",
      "\n",
      "✅ Multiple references stored in list!\n"
     ]
    }
   ],
   "source": [
    "# Create multiple reviewers\n",
    "reviewer1 = users.new()\n",
    "reviewer1.name = 'Alan Turing'\n",
    "reviewer1.expertise = 'Computation'\n",
    "reviewer1.save(doc_id='alan')\n",
    "\n",
    "reviewer2 = users.new()\n",
    "reviewer2.name = 'Donald Knuth'\n",
    "reviewer2.expertise = 'Algorithms'\n",
    "reviewer2.save(doc_id='donald')\n",
    "\n",
    "reviewer3 = users.new()\n",
    "reviewer3.name = 'Barbara Liskov'\n",
    "reviewer3.expertise = 'Programming Languages'\n",
    "reviewer3.save(doc_id='barbara')\n",
    "\n",
    "print(\"👥 Created reviewers:\")\n",
    "for r in [reviewer1, reviewer2, reviewer3]:\n",
    "    print(f\"   • {r.name} ({r.expertise})\")\n",
    "\n",
    "# Create a paper with multiple reviewers\n",
    "paper = posts.new()\n",
    "paper.title = 'On Computable Numbers'\n",
    "paper.reviewers = [reviewer1, reviewer2, reviewer3]  # List of references\n",
    "paper.save(doc_id='paper1')\n",
    "\n",
    "print(f\"\\n📄 Created paper: {paper.title}\")\n",
    "print(f\"   Reviewers: {len(paper.reviewers)} assigned\")\n",
    "print(\"\\n✅ Multiple references stored in list!\")"
   ]
  },
  {
   "cell_type": "code",
   "execution_count": 9,
   "id": "list-references-read",
   "metadata": {},
   "outputs": [
    {
     "name": "stdout",
     "output_type": "stream",
     "text": [
      "📄 Retrieved paper: On Computable Numbers\n",
      "\n",
      "👥 Reviewers (lazy loading):\n",
      "   1. Alan Turing - Computation\n",
      "      State: LOADED\n",
      "   2. Donald Knuth - Algorithms\n",
      "      State: LOADED\n",
      "   3. Barbara Liskov - Programming Languages\n",
      "      State: LOADED\n",
      "\n",
      "✅ Each reference in list supports lazy loading!\n"
     ]
    }
   ],
   "source": [
    "# Read back and access reviewers\n",
    "retrieved_paper = db.doc('doc_ref_posts/paper1')\n",
    "retrieved_paper.fetch()\n",
    "\n",
    "print(f\"📄 Retrieved paper: {retrieved_paper.title}\")\n",
    "print(\"\\n👥 Reviewers (lazy loading):\")\n",
    "\n",
    "for i, reviewer in enumerate(retrieved_paper.reviewers, 1):\n",
    "    print(f\"   {i}. {reviewer.name} - {reviewer.expertise}\")\n",
    "    print(f\"      State: {reviewer.state}\")\n",
    "\n",
    "print(\"\\n✅ Each reference in list supports lazy loading!\")"
   ]
  },
  {
   "cell_type": "markdown",
   "id": "feature7",
   "metadata": {},
   "source": [
    "## Feature 7: References in Dictionaries\n",
    "\n",
    "Store references as dictionary values with semantic keys."
   ]
  },
  {
   "cell_type": "code",
   "execution_count": 10,
   "id": "dict-references",
   "metadata": {},
   "outputs": [
    {
     "name": "stdout",
     "output_type": "stream",
     "text": [
      "👥 Created contributors:\n",
      "   • Edsger Dijkstra - Primary Author\n",
      "   • Niklaus Wirth - Technical Editor\n",
      "   • Tony Hoare - Peer Reviewer\n",
      "\n",
      "📰 Created article: Structured Programming\n",
      "   Contributors: 3 roles defined\n",
      "\n",
      "✅ References stored in dictionary with semantic keys!\n"
     ]
    }
   ],
   "source": [
    "# Create contributors for different roles\n",
    "author_user = users.new()\n",
    "author_user.name = 'Edsger Dijkstra'\n",
    "author_user.role = 'Primary Author'\n",
    "author_user.save(doc_id='edsger')\n",
    "\n",
    "editor_user = users.new()\n",
    "editor_user.name = 'Niklaus Wirth'\n",
    "editor_user.role = 'Technical Editor'\n",
    "editor_user.save(doc_id='niklaus')\n",
    "\n",
    "reviewer_user = users.new()\n",
    "reviewer_user.name = 'Tony Hoare'\n",
    "reviewer_user.role = 'Peer Reviewer'\n",
    "reviewer_user.save(doc_id='tony')\n",
    "\n",
    "print(\"👥 Created contributors:\")\n",
    "for u in [author_user, editor_user, reviewer_user]:\n",
    "    print(f\"   • {u.name} - {u.role}\")\n",
    "\n",
    "# Create article with contributor dict\n",
    "article = posts.new()\n",
    "article.title = 'Structured Programming'\n",
    "article.contributors = {\n",
    "    'author': author_user,\n",
    "    'editor': editor_user,\n",
    "    'reviewer': reviewer_user\n",
    "}\n",
    "article.save(doc_id='article1')\n",
    "\n",
    "print(f\"\\n📰 Created article: {article.title}\")\n",
    "print(f\"   Contributors: {len(article.contributors)} roles defined\")\n",
    "print(\"\\n✅ References stored in dictionary with semantic keys!\")"
   ]
  },
  {
   "cell_type": "code",
   "execution_count": 11,
   "id": "dict-references-read",
   "metadata": {},
   "outputs": [
    {
     "name": "stdout",
     "output_type": "stream",
     "text": [
      "📰 Retrieved article: Structured Programming\n",
      "\n",
      "👥 Contributors:\n",
      "   Author: Edsger Dijkstra\n",
      "      Role: Primary Author\n",
      "      State: LOADED\n",
      "   Editor: Niklaus Wirth\n",
      "      Role: Technical Editor\n",
      "      State: LOADED\n",
      "   Reviewer: Tony Hoare\n",
      "      Role: Peer Reviewer\n",
      "      State: LOADED\n",
      "\n",
      "✅ Dictionary references support lazy loading and semantic access!\n"
     ]
    }
   ],
   "source": [
    "# Read back and access contributors\n",
    "retrieved_article = db.doc('doc_ref_posts/article1')\n",
    "retrieved_article.fetch()\n",
    "\n",
    "print(f\"📰 Retrieved article: {retrieved_article.title}\")\n",
    "print(\"\\n👥 Contributors:\")\n",
    "\n",
    "for role, person in retrieved_article.contributors.items():\n",
    "    print(f\"   {role.title()}: {person.name}\")\n",
    "    print(f\"      Role: {person.role}\")\n",
    "    print(f\"      State: {person.state}\")\n",
    "\n",
    "print(\"\\n✅ Dictionary references support lazy loading and semantic access!\")"
   ]
  },
  {
   "cell_type": "markdown",
   "id": "feature8",
   "metadata": {},
   "source": [
    "## Feature 8: Mixed Nested Structures\n",
    "\n",
    "Complex nesting: references in dicts containing lists, etc."
   ]
  },
  {
   "cell_type": "code",
   "execution_count": 12,
   "id": "nested-references",
   "metadata": {},
   "outputs": [
    {
     "name": "stdout",
     "output_type": "stream",
     "text": [
      "🚀 Created project: UNIX Operating System\n",
      "   Team structure: nested dict with lists of references\n",
      "\n",
      "✅ Complex nested references stored!\n"
     ]
    }
   ],
   "source": [
    "# Create team members\n",
    "lead = users.new()\n",
    "lead.name = 'Dennis Ritchie'\n",
    "lead.save(doc_id='dennis')\n",
    "\n",
    "dev1 = users.new()\n",
    "dev1.name = 'Ken Thompson'\n",
    "dev1.save(doc_id='ken')\n",
    "\n",
    "dev2 = users.new()\n",
    "dev2.name = 'Brian Kernighan'\n",
    "dev2.save(doc_id='brian')\n",
    "\n",
    "# Create project with complex nested structure\n",
    "project = posts.new()\n",
    "project.title = 'UNIX Operating System'\n",
    "project.team = {\n",
    "    'lead': lead,\n",
    "    'developers': [dev1, dev2],\n",
    "    'structure': {\n",
    "        'primary': lead,\n",
    "        'secondary': [dev1, dev2]\n",
    "    }\n",
    "}\n",
    "project.save(doc_id='project1')\n",
    "\n",
    "print(f\"🚀 Created project: {project.title}\")\n",
    "print(\"   Team structure: nested dict with lists of references\")\n",
    "print(\"\\n✅ Complex nested references stored!\")"
   ]
  },
  {
   "cell_type": "code",
   "execution_count": 13,
   "id": "nested-references-read",
   "metadata": {},
   "outputs": [
    {
     "name": "stdout",
     "output_type": "stream",
     "text": [
      "🚀 Retrieved project: UNIX Operating System\n",
      "\n",
      "👥 Team structure:\n",
      "   Lead: Dennis Ritchie\n",
      "\n",
      "   Developers:\n",
      "      • Ken Thompson\n",
      "      • Brian Kernighan\n",
      "\n",
      "   Nested structure:\n",
      "      Primary: Dennis Ritchie\n",
      "      Secondary:\n",
      "         • Ken Thompson\n",
      "         • Brian Kernighan\n",
      "\n",
      "✅ All nested references support lazy loading!\n"
     ]
    }
   ],
   "source": [
    "# Read back and navigate nested structure\n",
    "retrieved_project = db.doc('doc_ref_posts/project1')\n",
    "retrieved_project.fetch()\n",
    "\n",
    "print(f\"🚀 Retrieved project: {retrieved_project.title}\")\n",
    "print(\"\\n👥 Team structure:\")\n",
    "print(f\"   Lead: {retrieved_project.team['lead'].name}\")\n",
    "print(\"\\n   Developers:\")\n",
    "for dev in retrieved_project.team['developers']:\n",
    "    print(f\"      • {dev.name}\")\n",
    "print(\"\\n   Nested structure:\")\n",
    "print(f\"      Primary: {retrieved_project.team['structure']['primary'].name}\")\n",
    "print(\"      Secondary:\")\n",
    "for dev in retrieved_project.team['structure']['secondary']:\n",
    "    print(f\"         • {dev.name}\")\n",
    "\n",
    "print(\"\\n✅ All nested references support lazy loading!\")"
   ]
  },
  {
   "cell_type": "markdown",
   "id": "part3-header",
   "metadata": {},
   "source": [
    "---\n",
    "\n",
    "# Part 3: Common Patterns\n",
    "\n",
    "Real-world patterns for using document references."
   ]
  },
  {
   "cell_type": "markdown",
   "id": "pattern1",
   "metadata": {},
   "source": [
    "## Pattern 1: Author/Owner References\n",
    "\n",
    "Track who created or owns a document."
   ]
  },
  {
   "cell_type": "code",
   "execution_count": 14,
   "id": "author-pattern",
   "metadata": {},
   "outputs": [
    {
     "name": "stdout",
     "output_type": "stream",
     "text": [
      "👤 Owner: Linus Torvalds\n",
      "📝 Created 3 documents with owner references\n",
      "\n",
      "🔍 Documents owned by Linus Torvalds: 3\n",
      "   • Kernel Module 1\n",
      "     Owner: Linus Torvalds <linus@example.com>\n",
      "   • Kernel Module 2\n",
      "     Owner: Linus Torvalds <linus@example.com>\n",
      "   • Kernel Module 3\n",
      "     Owner: Linus Torvalds <linus@example.com>\n",
      "\n",
      "✅ Pattern: Track document ownership with references\n"
     ]
    }
   ],
   "source": [
    "# Create a user\n",
    "owner = users.new()\n",
    "owner.name = 'Linus Torvalds'\n",
    "owner.email = 'linus@example.com'\n",
    "owner.save(doc_id='linus')\n",
    "\n",
    "# Create documents with owner references\n",
    "for i in range(3):\n",
    "    doc = posts.new()\n",
    "    doc.title = f'Kernel Module {i+1}'\n",
    "    doc.owner = owner\n",
    "    doc.created_by = owner  # Same reference, different semantic meaning\n",
    "    doc.save(doc_id=f'kernel_module_{i+1}')\n",
    "\n",
    "print(f\"👤 Owner: {owner.name}\")\n",
    "print(\"📝 Created 3 documents with owner references\")\n",
    "\n",
    "# Query documents by owner\n",
    "owner_docs = posts.where('owner', '==', owner._doc_ref).get()\n",
    "print(f\"\\n🔍 Documents owned by {owner.name}: {len(owner_docs)}\")\n",
    "for doc in owner_docs:\n",
    "    print(f\"   • {doc.title}\")\n",
    "    # Verify lazy loading\n",
    "    print(f\"     Owner: {doc.owner.name} <{doc.owner.email}>\")\n",
    "\n",
    "print(\"\\n✅ Pattern: Track document ownership with references\")"
   ]
  },
  {
   "cell_type": "markdown",
   "id": "pattern2",
   "metadata": {},
   "source": [
    "## Pattern 2: Parent/Child Relationships\n",
    "\n",
    "Model hierarchical relationships between documents."
   ]
  },
  {
   "cell_type": "code",
   "execution_count": 15,
   "id": "parent-child-pattern",
   "metadata": {},
   "outputs": [
    {
     "name": "stdout",
     "output_type": "stream",
     "text": [
      "💬 Thread: How to learn programming?\n",
      "   ├─ Start with Python\n",
      "   │  └─ Which Python version?\n",
      "   └─ Practice every day\n",
      "\n",
      "📊 Direct replies to thread: 2\n",
      "   • Start with Python\n",
      "     Parent: How to learn programming?\n",
      "   • Practice every day\n",
      "     Parent: How to learn programming?\n",
      "\n",
      "✅ Pattern: Model hierarchical relationships with parent references\n"
     ]
    }
   ],
   "source": [
    "# Create parent document (conversation thread)\n",
    "thread = posts.new()\n",
    "thread.title = 'How to learn programming?'\n",
    "thread.type = 'thread'\n",
    "thread.parent = None  # Top-level thread\n",
    "thread.save(doc_id='thread_001')\n",
    "\n",
    "print(f\"💬 Thread: {thread.title}\")\n",
    "\n",
    "# Create child documents (replies)\n",
    "reply1 = posts.new()\n",
    "reply1.title = 'Start with Python'\n",
    "reply1.type = 'reply'\n",
    "reply1.parent = thread  # Reference to parent\n",
    "reply1.save(doc_id='reply_001')\n",
    "\n",
    "reply2 = posts.new()\n",
    "reply2.title = 'Practice every day'\n",
    "reply2.type = 'reply'\n",
    "reply2.parent = thread\n",
    "reply2.save(doc_id='reply_002')\n",
    "\n",
    "# Create nested reply (reply to reply)\n",
    "nested_reply = posts.new()\n",
    "nested_reply.title = 'Which Python version?'\n",
    "nested_reply.type = 'reply'\n",
    "nested_reply.parent = reply1  # Reference to parent reply\n",
    "nested_reply.save(doc_id='reply_003')\n",
    "\n",
    "print(f\"   ├─ {reply1.title}\")\n",
    "print(f\"   │  └─ {nested_reply.title}\")\n",
    "print(f\"   └─ {reply2.title}\")\n",
    "\n",
    "# Query for direct replies to thread\n",
    "replies = posts.where('parent', '==', thread._doc_ref).get()\n",
    "print(f\"\\n📊 Direct replies to thread: {len(replies)}\")\n",
    "for reply in replies:\n",
    "    print(f\"   • {reply.title}\")\n",
    "    print(f\"     Parent: {reply.parent.title}\")\n",
    "\n",
    "print(\"\\n✅ Pattern: Model hierarchical relationships with parent references\")"
   ]
  },
  {
   "cell_type": "markdown",
   "id": "pattern3",
   "metadata": {},
   "source": [
    "## Pattern 3: Cross-Collection References\n",
    "\n",
    "References can point to documents in different collections."
   ]
  },
  {
   "cell_type": "code",
   "execution_count": 16,
   "id": "cross-collection-pattern",
   "metadata": {},
   "outputs": [
    {
     "name": "stdout",
     "output_type": "stream",
     "text": [
      "🛒 Order: ORD-2024-001\n",
      "   Customer: Alice Smith <alice@example.com>\n",
      "   Items:\n",
      "      • Laptop - $999.99\n",
      "      • Mouse - $29.99\n",
      "   Total: $1029.98\n",
      "\n",
      "📦 Retrieved order: ORD-2024-001\n",
      "   Customer: Alice Smith\n",
      "   Customer collection: doc_ref_customers\n",
      "\n",
      "   Items:\n",
      "      • Laptop - $999.99\n",
      "        Collection: doc_ref_products\n",
      "      • Mouse - $29.99\n",
      "        Collection: doc_ref_products\n",
      "\n",
      "✅ Pattern: References work across different collections!\n"
     ]
    }
   ],
   "source": [
    "# Create multiple collections\n",
    "products = db.collection('doc_ref_products')\n",
    "orders = db.collection('doc_ref_orders')\n",
    "customers = db.collection('doc_ref_customers')\n",
    "\n",
    "# Create a customer\n",
    "customer = customers.new()\n",
    "customer.name = 'Alice Smith'\n",
    "customer.email = 'alice@example.com'\n",
    "customer.save(doc_id='alice')\n",
    "\n",
    "# Create products\n",
    "product1 = products.new()\n",
    "product1.name = 'Laptop'\n",
    "product1.price = 999.99\n",
    "product1.save(doc_id='laptop_001')\n",
    "\n",
    "product2 = products.new()\n",
    "product2.name = 'Mouse'\n",
    "product2.price = 29.99\n",
    "product2.save(doc_id='mouse_001')\n",
    "\n",
    "# Create order with cross-collection references\n",
    "order = orders.new()\n",
    "order.order_id = 'ORD-2024-001'\n",
    "order.customer = customer  # Reference to customers collection\n",
    "order.items = [product1, product2]  # References to products collection\n",
    "order.total = 1029.98\n",
    "order.save(doc_id='order_001')\n",
    "\n",
    "print(f\"🛒 Order: {order.order_id}\")\n",
    "print(f\"   Customer: {customer.name} <{customer.email}>\")\n",
    "print(\"   Items:\")\n",
    "for product in [product1, product2]:\n",
    "    print(f\"      • {product.name} - ${product.price}\")\n",
    "print(f\"   Total: ${order.total}\")\n",
    "\n",
    "# Read back and verify cross-collection references\n",
    "retrieved_order = orders.doc('order_001')\n",
    "retrieved_order.fetch()\n",
    "\n",
    "print(f\"\\n📦 Retrieved order: {retrieved_order.order_id}\")\n",
    "print(f\"   Customer: {retrieved_order.customer.name}\")\n",
    "print(f\"   Customer collection: {retrieved_order.customer.path.split('/')[0]}\")\n",
    "print(\"\\n   Items:\")\n",
    "for item in retrieved_order.items:\n",
    "    print(f\"      • {item.name} - ${item.price}\")\n",
    "    print(f\"        Collection: {item.path.split('/')[0]}\")\n",
    "\n",
    "print(\"\\n✅ Pattern: References work across different collections!\")"
   ]
  },
  {
   "cell_type": "markdown",
   "id": "part4-header",
   "metadata": {},
   "source": [
    "---\n",
    "\n",
    "# Part 4: Async Document References\n",
    "\n",
    "Document references work identically with AsyncFireProx."
   ]
  },
  {
   "cell_type": "markdown",
   "id": "async-feature1",
   "metadata": {},
   "source": [
    "## Async References with Lazy Loading"
   ]
  },
  {
   "cell_type": "code",
   "execution_count": 17,
   "id": "async-references",
   "metadata": {},
   "outputs": [
    {
     "name": "stdout",
     "output_type": "stream",
     "text": [
      "👤 Async user: Tim Berners-Lee\n",
      "📝 Async post: Information Management Proposal\n",
      "\n",
      "📄 Retrieved post: Information Management Proposal\n",
      "   Author (before lazy load): State = ATTACHED\n",
      "   Author name: Tim Berners-Lee\n",
      "   Invention: World Wide Web\n",
      "   Author (after lazy load): State = LOADED\n",
      "\n",
      "✅ Async references support lazy loading!\n"
     ]
    }
   ],
   "source": [
    "# Initialize async client\n",
    "async_client = async_demo_client()\n",
    "async_db = AsyncFireProx(async_client)\n",
    "async_users = async_db.collection('doc_ref_async_users')\n",
    "async_posts = async_db.collection('doc_ref_async_posts')\n",
    "\n",
    "# Create user\n",
    "async_user = async_users.new()\n",
    "async_user.name = 'Tim Berners-Lee'\n",
    "async_user.invention = 'World Wide Web'\n",
    "await async_user.save(doc_id='tim')\n",
    "\n",
    "print(f\"👤 Async user: {async_user.name}\")\n",
    "\n",
    "# Create post with reference\n",
    "async_post = async_posts.new()\n",
    "async_post.title = 'Information Management Proposal'\n",
    "async_post.author = async_user  # Async reference\n",
    "await async_post.save(doc_id='post_async_1')\n",
    "\n",
    "print(f\"📝 Async post: {async_post.title}\")\n",
    "\n",
    "# Read back\n",
    "retrieved = async_db.doc('doc_ref_async_posts/post_async_1')\n",
    "await retrieved.fetch()\n",
    "\n",
    "print(f\"\\n📄 Retrieved post: {retrieved.title}\")\n",
    "print(f\"   Author (before lazy load): State = {retrieved.author.state}\")\n",
    "\n",
    "# Lazy loading works with async too!\n",
    "print(f\"   Author name: {retrieved.author.name}\")\n",
    "print(f\"   Invention: {retrieved.author.invention}\")\n",
    "print(f\"   Author (after lazy load): State = {retrieved.author.state}\")\n",
    "\n",
    "print(\"\\n✅ Async references support lazy loading!\")"
   ]
  },
  {
   "cell_type": "markdown",
   "id": "async-feature2",
   "metadata": {},
   "source": [
    "## Async Nested References"
   ]
  },
  {
   "cell_type": "code",
   "execution_count": 18,
   "id": "async-nested",
   "metadata": {},
   "outputs": [
    {
     "name": "stdout",
     "output_type": "stream",
     "text": [
      "🚀 Async project: TCP/IP Protocol\n",
      "\n",
      "👥 Team:\n",
      "   Lead: Vint Cerf\n",
      "   Members:\n",
      "      • Vint Cerf\n",
      "      • Bob Kahn\n",
      "\n",
      "✅ Async nested references work perfectly!\n"
     ]
    }
   ],
   "source": [
    "# Create team members\n",
    "member1 = async_users.new()\n",
    "member1.name = 'Vint Cerf'\n",
    "await member1.save(doc_id='vint')\n",
    "\n",
    "member2 = async_users.new()\n",
    "member2.name = 'Bob Kahn'\n",
    "await member2.save(doc_id='bob')\n",
    "\n",
    "# Create project with nested references\n",
    "async_project = async_posts.new()\n",
    "async_project.title = 'TCP/IP Protocol'\n",
    "async_project.team = {\n",
    "    'lead': member1,\n",
    "    'members': [member1, member2]\n",
    "}\n",
    "await async_project.save(doc_id='project_async_1')\n",
    "\n",
    "print(f\"🚀 Async project: {async_project.title}\")\n",
    "\n",
    "# Read back\n",
    "retrieved_project = async_db.doc('doc_ref_async_posts/project_async_1')\n",
    "await retrieved_project.fetch()\n",
    "\n",
    "print(\"\\n👥 Team:\")\n",
    "print(f\"   Lead: {retrieved_project.team['lead'].name}\")\n",
    "print(\"   Members:\")\n",
    "for member in retrieved_project.team['members']:\n",
    "    print(f\"      • {member.name}\")\n",
    "\n",
    "print(\"\\n✅ Async nested references work perfectly!\")"
   ]
  },
  {
   "cell_type": "markdown",
   "id": "conclusion",
   "metadata": {},
   "source": [
    "---\n",
    "\n",
    "## Summary\n",
    "\n",
    "### ✅ Key Capabilities\n",
    "\n",
    "#### Automatic Conversion\n",
    "1. **Assignment**: `post.author = user` converts FireObject → DocumentReference\n",
    "2. **Retrieval**: Reading back converts DocumentReference → FireObject\n",
    "3. **Nested**: Works recursively in lists and dicts\n",
    "4. **Transparent**: Conversions happen automatically\n",
    "\n",
    "#### Lazy Loading\n",
    "1. **ATTACHED State**: Referenced objects start without data loaded\n",
    "2. **Auto-Fetch**: First attribute access triggers data fetch\n",
    "3. **LOADED State**: After fetch, subsequent accesses are instant\n",
    "4. **Async Support**: Lazy loading works for both sync and async\n",
    "\n",
    "#### Validation\n",
    "1. **DETACHED Check**: Cannot assign unsaved FireObjects\n",
    "2. **Type Safety**: Cannot mix sync and async FireObjects\n",
    "3. **State Tracking**: Objects maintain state through lifecycle\n",
    "\n",
    "### 🎯 Best Practices\n",
    "\n",
    "#### ✅ DO:\n",
    "\n",
    "**1. Save before referencing**\n",
    "```python\n",
    "user = users.new()\n",
    "user.name = 'Ada'\n",
    "user.save(doc_id='ada')  # Save first!\n",
    "post.author = user       # Now can reference\n",
    "```\n",
    "\n",
    "**2. Use semantic key names in dicts**\n",
    "```python\n",
    "doc.contributors = {\n",
    "    'author': author_user,\n",
    "    'editor': editor_user,\n",
    "    'reviewer': reviewer_user\n",
    "}\n",
    "```\n",
    "\n",
    "**3. Query by reference**\n",
    "```python\n",
    "# Find all posts by an author\n",
    "user_posts = posts.where('author', '==', user._doc_ref).get()\n",
    "```\n",
    "\n",
    "**4. Leverage lazy loading**\n",
    "```python\n",
    "# No need to manually fetch\n",
    "author_name = post.author.name  # Automatically loads\n",
    "```\n",
    "\n",
    "#### ❌ DON'T:\n",
    "\n",
    "**1. Reference DETACHED objects**\n",
    "```python\n",
    "# Bad - will raise ValueError\n",
    "unsaved_user = users.new()\n",
    "post.author = unsaved_user  # Error!\n",
    "```\n",
    "\n",
    "**2. Mix sync and async**\n",
    "```python\n",
    "# Bad - will raise TypeError\n",
    "async_user = async_users.new()\n",
    "await async_user.save()\n",
    "sync_post.author = async_user  # Error!\n",
    "```\n",
    "\n",
    "**3. Create circular references**\n",
    "```python\n",
    "# Avoid - can cause infinite recursion\n",
    "doc1.ref = doc2\n",
    "doc2.ref = doc1\n",
    "```\n",
    "\n",
    "### 📊 Common Patterns\n",
    "\n",
    "#### 1. Ownership Tracking\n",
    "```python\n",
    "doc.owner = user\n",
    "doc.created_by = user\n",
    "```\n",
    "\n",
    "#### 2. Parent/Child Relationships\n",
    "```python\n",
    "reply.parent = thread\n",
    "# Query children\n",
    "replies = collection.where('parent', '==', thread._doc_ref).get()\n",
    "```\n",
    "\n",
    "#### 3. Many-to-Many via Lists\n",
    "```python\n",
    "paper.reviewers = [user1, user2, user3]\n",
    "course.students = [student1, student2, ...]\n",
    "```\n",
    "\n",
    "#### 4. Cross-Collection References\n",
    "```python\n",
    "order.customer = customer  # Different collection\n",
    "order.items = [product1, product2]  # Another collection\n",
    "```\n",
    "\n",
    "### 💡 Performance Tips\n",
    "\n",
    "1. **Lazy Loading**: Referenced data loads on-demand (efficient)\n",
    "2. **Caching**: Same reference returns same object instance\n",
    "3. **Batch Queries**: Consider using `where()` to find related documents\n",
    "4. **Avoid Deep Nesting**: Multiple levels of references = multiple fetches\n",
    "\n",
    "### 📚 Learn More\n",
    "\n",
    "- **Firestore references**: https://firebase.google.com/docs/firestore/data-model#references\n",
    "- **FireProx state machine**: See `state.py` documentation\n",
    "- **Query documentation**: See pagination and queries notebooks"
   ]
  }
 ],
 "metadata": {
  "kernelspec": {
   "display_name": "fire-prox",
   "language": "python",
   "name": "python3"
  },
  "language_info": {
   "codemirror_mode": {
    "name": "ipython",
    "version": 3
   },
   "file_extension": ".py",
   "mimetype": "text/x-python",
   "name": "python",
   "nbconvert_exporter": "python",
   "pygments_lexer": "ipython3",
   "version": "3.12.7"
  }
 },
 "nbformat": 4,
 "nbformat_minor": 5
}

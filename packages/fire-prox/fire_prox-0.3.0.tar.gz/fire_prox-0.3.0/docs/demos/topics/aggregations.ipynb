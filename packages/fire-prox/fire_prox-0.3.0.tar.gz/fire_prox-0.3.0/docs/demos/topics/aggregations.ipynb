{
 "cells": [
  {
   "cell_type": "markdown",
   "id": "intro",
   "metadata": {},
   "source": [
    "# FireProx Aggregations Guide\n",
    "\n",
    "This notebook demonstrates Firestore aggregation queries in FireProx, enabling efficient analytics without fetching all documents.\n",
    "\n",
    "## What are Aggregations?\n",
    "\n",
    "Aggregations allow you to calculate statistics across documents without retrieving all data. This provides:\n",
    "\n",
    "- **Performance**: Calculate stats server-side (much faster than client-side)\n",
    "- **Cost Efficiency**: Only returns computed results, not full documents\n",
    "- **Bandwidth Savings**: Minimal data transfer (just the aggregated values)\n",
    "- **Scalability**: Works efficiently on large datasets\n",
    "\n",
    "## Available Aggregations\n",
    "\n",
    "- **count()**: Count matching documents\n",
    "- **sum(field)**: Sum numeric values across documents\n",
    "- **avg(field)**: Calculate average of numeric values\n",
    "- **aggregate()**: Execute multiple aggregations in one query\n",
    "\n",
    "## Key Features\n",
    "\n",
    "- **Simple convenience methods** return raw values\n",
    "- **aggregate() method** returns dictionary with multiple results\n",
    "- **Works with filters** (`.where()`, `.order_by()`, `.limit()`)\n",
    "- **Type-safe helpers** (Count, Sum, Avg) for complex queries\n",
    "\n",
    "The demo is split into two sections:\n",
    "1. Synchronous API examples\n",
    "2. Asynchronous API examples"
   ]
  },
  {
   "cell_type": "markdown",
   "id": "setup",
   "metadata": {},
   "source": [
    "## Setup\n",
    "\n",
    "Import modules and aggregation helpers."
   ]
  },
  {
   "cell_type": "code",
   "execution_count": 1,
   "id": "imports",
   "metadata": {},
   "outputs": [],
   "source": [
    "from fire_prox import AsyncFireProx, Avg, Count, FireProx, Sum\n",
    "from fire_prox.testing import async_demo_client, demo_client"
   ]
  },
  {
   "cell_type": "markdown",
   "id": "part1-header",
   "metadata": {},
   "source": [
    "---\n",
    "\n",
    "# Part 1: Synchronous Aggregations\n",
    "\n",
    "Examples using the synchronous FireProx API."
   ]
  },
  {
   "cell_type": "markdown",
   "id": "sync-setup",
   "metadata": {},
   "source": [
    "### Initialize Client and Create Sample Data\n",
    "\n",
    "We'll create a collection of employees to demonstrate various aggregation operations."
   ]
  },
  {
   "cell_type": "code",
   "execution_count": 2,
   "id": "sync-client",
   "metadata": {},
   "outputs": [
    {
     "name": "stdout",
     "output_type": "stream",
     "text": [
      "Created 10 employees\n",
      "Departments: 5 unique\n",
      "Total salary budget: $1,063,000\n"
     ]
    }
   ],
   "source": [
    "# Create sync client and collection\n",
    "client = demo_client()\n",
    "db = FireProx(client)\n",
    "employees = db.collection('aggregation_demo_employees')\n",
    "\n",
    "# Create sample employees\n",
    "sample_employees = [\n",
    "    {'name': 'Alice Johnson', 'department': 'Engineering', 'salary': 120000, 'age': 28, 'years': 5, 'active': True},\n",
    "    {'name': 'Bob Smith', 'department': 'Engineering', 'salary': 115000, 'age': 35, 'years': 8, 'active': True},\n",
    "    {'name': 'Carol White', 'department': 'Data', 'salary': 130000, 'age': 42, 'years': 12, 'active': True},\n",
    "    {'name': 'David Lee', 'department': 'Engineering', 'salary': 110000, 'age': 31, 'years': 6, 'active': True},\n",
    "    {'name': 'Emma Davis', 'department': 'Design', 'salary': 95000, 'age': 26, 'years': 3, 'active': True},\n",
    "    {'name': 'Frank Miller', 'department': 'Sales', 'salary': 85000, 'age': 29, 'years': 4, 'active': True},\n",
    "    {'name': 'Grace Chen', 'department': 'Sales', 'salary': 90000, 'age': 33, 'years': 7, 'active': True},\n",
    "    {'name': 'Henry Wilson', 'department': 'Marketing', 'salary': 88000, 'age': 27, 'years': 2, 'active': False},\n",
    "    {'name': 'Iris Taylor', 'department': 'Data', 'salary': 125000, 'age': 38, 'years': 10, 'active': True},\n",
    "    {'name': 'Jack Brown', 'department': 'Engineering', 'salary': 105000, 'age': 30, 'years': 5, 'active': False},\n",
    "]\n",
    "\n",
    "for emp_data in sample_employees:\n",
    "    emp = employees.new()\n",
    "    for key, value in emp_data.items():\n",
    "        setattr(emp, key, value)\n",
    "    emp.save()\n",
    "\n",
    "print(f\"Created {len(sample_employees)} employees\")\n",
    "print(f\"Departments: {len(set(e['department'] for e in sample_employees))} unique\")\n",
    "print(f\"Total salary budget: ${sum(e['salary'] for e in sample_employees):,}\")"
   ]
  },
  {
   "cell_type": "markdown",
   "id": "feature1",
   "metadata": {},
   "source": [
    "## Feature 1: Count Documents\n",
    "\n",
    "Count documents without fetching them."
   ]
  },
  {
   "cell_type": "code",
   "execution_count": 3,
   "id": "basic-count",
   "metadata": {},
   "outputs": [
    {
     "name": "stdout",
     "output_type": "stream",
     "text": [
      "📊 Total employees: 10\n",
      "✅ Active employees: 8\n",
      "👨‍💻 Engineering team: 4\n",
      "\n",
      "💡 count() returns an integer directly\n"
     ]
    }
   ],
   "source": [
    "# Count all employees\n",
    "total_count = employees.count()\n",
    "print(f\"📊 Total employees: {total_count}\")\n",
    "\n",
    "# Count active employees\n",
    "active_count = employees.where('active', '==', True).count()\n",
    "print(f\"✅ Active employees: {active_count}\")\n",
    "\n",
    "# Count by department\n",
    "eng_count = employees.where('department', '==', 'Engineering').count()\n",
    "print(f\"👨‍💻 Engineering team: {eng_count}\")\n",
    "\n",
    "print(\"\\n💡 count() returns an integer directly\")"
   ]
  },
  {
   "cell_type": "markdown",
   "id": "feature2",
   "metadata": {},
   "source": [
    "## Feature 2: Sum Numeric Fields\n",
    "\n",
    "Sum numeric values across documents."
   ]
  },
  {
   "cell_type": "code",
   "execution_count": 4,
   "id": "sum-aggregation",
   "metadata": {},
   "outputs": [
    {
     "name": "stdout",
     "output_type": "stream",
     "text": [
      "💰 Total payroll: $1,063,000\n",
      "👨‍💻 Engineering payroll: $450,000\n",
      "📅 Total years of experience: 62 years\n",
      "\n",
      "💡 sum() returns the numeric total (int or float)\n"
     ]
    }
   ],
   "source": [
    "# Sum all salaries\n",
    "total_payroll = employees.sum('salary')\n",
    "print(f\"💰 Total payroll: ${total_payroll:,}\")\n",
    "\n",
    "# Sum for specific department\n",
    "eng_payroll = employees.where('department', '==', 'Engineering').sum('salary')\n",
    "print(f\"👨‍💻 Engineering payroll: ${eng_payroll:,}\")\n",
    "\n",
    "# Sum years of experience\n",
    "total_experience = employees.sum('years')\n",
    "print(f\"📅 Total years of experience: {total_experience} years\")\n",
    "\n",
    "print(\"\\n💡 sum() returns the numeric total (int or float)\")"
   ]
  },
  {
   "cell_type": "markdown",
   "id": "feature3",
   "metadata": {},
   "source": [
    "## Feature 3: Average Numeric Fields\n",
    "\n",
    "Calculate averages across documents."
   ]
  },
  {
   "cell_type": "code",
   "execution_count": 5,
   "id": "avg-aggregation",
   "metadata": {},
   "outputs": [
    {
     "name": "stdout",
     "output_type": "stream",
     "text": [
      "💵 Average salary: $106,300.00\n",
      "👥 Average age in Engineering: 31.0 years\n",
      "📊 Average experience: 6.2 years\n",
      "\n",
      "💡 avg() returns a float value\n"
     ]
    }
   ],
   "source": [
    "# Average salary\n",
    "avg_salary = employees.avg('salary')\n",
    "print(f\"💵 Average salary: ${avg_salary:,.2f}\")\n",
    "\n",
    "# Average age by department\n",
    "eng_avg_age = employees.where('department', '==', 'Engineering').avg('age')\n",
    "print(f\"👥 Average age in Engineering: {eng_avg_age:.1f} years\")\n",
    "\n",
    "# Average years of experience\n",
    "avg_experience = employees.avg('years')\n",
    "print(f\"📊 Average experience: {avg_experience:.1f} years\")\n",
    "\n",
    "print(\"\\n💡 avg() returns a float value\")"
   ]
  },
  {
   "cell_type": "markdown",
   "id": "feature4",
   "metadata": {},
   "source": [
    "## Feature 4: Multiple Aggregations\n",
    "\n",
    "Execute multiple aggregations in a single query using `aggregate()`."
   ]
  },
  {
   "cell_type": "code",
   "execution_count": 6,
   "id": "multiple-aggregations",
   "metadata": {},
   "outputs": [
    {
     "name": "stdout",
     "output_type": "stream",
     "text": [
      "📈 Company Statistics:\n",
      "  Total employees: 10\n",
      "  Total payroll: $1,063,000\n",
      "  Average salary: $106,300.00\n",
      "  Average age: 31.9 years\n",
      "\n",
      "💡 aggregate() returns a dictionary with named results\n"
     ]
    }
   ],
   "source": [
    "# Get multiple stats in one query\n",
    "stats = employees.aggregate(\n",
    "    total_employees=Count(),\n",
    "    total_salary=Sum('salary'),\n",
    "    avg_salary=Avg('salary'),\n",
    "    avg_age=Avg('age')\n",
    ")\n",
    "\n",
    "print(\"📈 Company Statistics:\")\n",
    "print(f\"  Total employees: {stats['total_employees']}\")\n",
    "print(f\"  Total payroll: ${stats['total_salary']:,}\")\n",
    "print(f\"  Average salary: ${stats['avg_salary']:,.2f}\")\n",
    "print(f\"  Average age: {stats['avg_age']:.1f} years\")\n",
    "\n",
    "print(\"\\n💡 aggregate() returns a dictionary with named results\")"
   ]
  },
  {
   "cell_type": "markdown",
   "id": "feature5",
   "metadata": {},
   "source": [
    "## Feature 5: Aggregations with Filters\n",
    "\n",
    "Combine aggregations with query filters for targeted analytics."
   ]
  },
  {
   "cell_type": "code",
   "execution_count": 7,
   "id": "filtered-aggregations",
   "metadata": {},
   "outputs": [
    {
     "name": "stdout",
     "output_type": "stream",
     "text": [
      "👨‍💻 Engineering Department:\n",
      "  Team size: 4\n",
      "  Total payroll: $450,000\n",
      "  Average salary: $112,500.00\n",
      "  Average experience: 6.0 years\n",
      "\n",
      "💎 High Earners (>$100k):\n",
      "  Count: 6\n",
      "  Average salary: $117,500.00\n"
     ]
    }
   ],
   "source": [
    "# Engineering department analytics\n",
    "eng_stats = (employees\n",
    "             .where('department', '==', 'Engineering')\n",
    "             .aggregate(\n",
    "                 count=Count(),\n",
    "                 total_payroll=Sum('salary'),\n",
    "                 avg_salary=Avg('salary'),\n",
    "                 avg_experience=Avg('years')\n",
    "             ))\n",
    "\n",
    "print(\"👨‍💻 Engineering Department:\")\n",
    "print(f\"  Team size: {eng_stats['count']}\")\n",
    "print(f\"  Total payroll: ${eng_stats['total_payroll']:,}\")\n",
    "print(f\"  Average salary: ${eng_stats['avg_salary']:,.2f}\")\n",
    "print(f\"  Average experience: {eng_stats['avg_experience']:.1f} years\")\n",
    "\n",
    "# High earners (>$100k)\n",
    "high_earner_stats = (employees\n",
    "                     .where('salary', '>', 100000)\n",
    "                     .aggregate(\n",
    "                         count=Count(),\n",
    "                         avg_salary=Avg('salary')\n",
    "                     ))\n",
    "\n",
    "print(\"\\n💎 High Earners (>$100k):\")\n",
    "print(f\"  Count: {high_earner_stats['count']}\")\n",
    "print(f\"  Average salary: ${high_earner_stats['avg_salary']:,.2f}\")"
   ]
  },
  {
   "cell_type": "markdown",
   "id": "feature6",
   "metadata": {},
   "source": [
    "## Feature 6: Multiple Filters with Aggregations\n",
    "\n",
    "Combine multiple filters for precise analytics."
   ]
  },
  {
   "cell_type": "code",
   "execution_count": 8,
   "id": "multi-filter",
   "metadata": {},
   "outputs": [
    {
     "name": "stdout",
     "output_type": "stream",
     "text": [
      "🎯 Senior Active Engineers (5+ years):\n",
      "  Count: 3\n",
      "  Average salary: $115,000.00\n",
      "\n",
      "💡 All where() filters apply before aggregation\n"
     ]
    }
   ],
   "source": [
    "# Active engineering employees with 5+ years experience\n",
    "senior_eng_stats = (employees\n",
    "                    .where('department', '==', 'Engineering')\n",
    "                    .where('active', '==', True)\n",
    "                    .where('years', '>=', 5)\n",
    "                    .aggregate(\n",
    "                        count=Count(),\n",
    "                        avg_salary=Avg('salary')\n",
    "                    ))\n",
    "\n",
    "print(\"🎯 Senior Active Engineers (5+ years):\")\n",
    "print(f\"  Count: {senior_eng_stats['count']}\")\n",
    "print(f\"  Average salary: ${senior_eng_stats['avg_salary']:,.2f}\")\n",
    "\n",
    "print(\"\\n💡 All where() filters apply before aggregation\")"
   ]
  },
  {
   "cell_type": "markdown",
   "id": "feature7",
   "metadata": {},
   "source": [
    "## Feature 7: Department Comparison\n",
    "\n",
    "Compare statistics across different departments."
   ]
  },
  {
   "cell_type": "code",
   "execution_count": 9,
   "id": "department-comparison",
   "metadata": {},
   "outputs": [
    {
     "name": "stdout",
     "output_type": "stream",
     "text": [
      "📊 Department Comparison:\n",
      "\n",
      "Department      Count    Avg Salary      Total Payroll\n",
      "------------------------------------------------------------\n",
      "Engineering     4        $    112,500   $     450,000\n",
      "Data            2        $    127,500   $     255,000\n",
      "Sales           2        $     87,500   $     175,000\n",
      "Design          1        $     95,000   $      95,000\n",
      "Marketing       1        $     88,000   $      88,000\n",
      "\n",
      "💡 Efficient analytics without fetching documents\n"
     ]
    }
   ],
   "source": [
    "# Get unique departments\n",
    "departments = ['Engineering', 'Data', 'Sales', 'Design', 'Marketing']\n",
    "\n",
    "print(\"📊 Department Comparison:\\n\")\n",
    "print(f\"{'Department':<15} {'Count':<8} {'Avg Salary':<15} {'Total Payroll'}\")\n",
    "print(\"-\" * 60)\n",
    "\n",
    "for dept in departments:\n",
    "    stats = (employees\n",
    "             .where('department', '==', dept)\n",
    "             .aggregate(\n",
    "                 count=Count(),\n",
    "                 avg_salary=Avg('salary'),\n",
    "                 total=Sum('salary')\n",
    "             ))\n",
    "\n",
    "    if stats['count'] > 0:  # Only show departments with employees\n",
    "        print(f\"{dept:<15} {stats['count']:<8} ${stats['avg_salary']:>11,.0f}   ${stats['total']:>12,}\")\n",
    "\n",
    "print(\"\\n💡 Efficient analytics without fetching documents\")"
   ]
  },
  {
   "cell_type": "markdown",
   "id": "feature8",
   "metadata": {},
   "source": [
    "## Feature 8: Real-World Analytics Dashboard\n",
    "\n",
    "Build a comprehensive analytics dashboard with multiple queries."
   ]
  },
  {
   "cell_type": "code",
   "execution_count": 10,
   "id": "dashboard",
   "metadata": {},
   "outputs": [
    {
     "name": "stdout",
     "output_type": "stream",
     "text": [
      "============================================================\n",
      "           COMPANY ANALYTICS DASHBOARD\n",
      "============================================================\n",
      "\n",
      "📊 WORKFORCE OVERVIEW\n",
      "  Total Employees: 10\n",
      "  Active: 8 | Inactive: 2\n",
      "\n",
      "💰 COMPENSATION\n",
      "  Total Annual Payroll: $1,063,000\n",
      "  Average Salary: $106,300.00\n",
      "  Under $100k: 4 | Over $100k: 6\n",
      "\n",
      "👥 DEMOGRAPHICS\n",
      "  Average Age: 31.9 years\n",
      "  Average Experience: 6.2 years\n",
      "\n",
      "============================================================\n",
      "\n",
      "✅ Dashboard built with efficient aggregation queries!\n"
     ]
    }
   ],
   "source": [
    "# Overall company metrics\n",
    "company_stats = employees.aggregate(\n",
    "    total_employees=Count(),\n",
    "    total_payroll=Sum('salary'),\n",
    "    avg_salary=Avg('salary'),\n",
    "    avg_age=Avg('age'),\n",
    "    avg_experience=Avg('years')\n",
    ")\n",
    "\n",
    "# Active vs inactive\n",
    "active_count = employees.where('active', '==', True).count()\n",
    "inactive_count = employees.where('active', '==', False).count()\n",
    "\n",
    "# Salary ranges\n",
    "under_100k = employees.where('salary', '<', 100000).count()\n",
    "over_100k = employees.where('salary', '>=', 100000).count()\n",
    "\n",
    "print(\"=\"*60)\n",
    "print(\"           COMPANY ANALYTICS DASHBOARD\")\n",
    "print(\"=\"*60)\n",
    "print()\n",
    "print(\"📊 WORKFORCE OVERVIEW\")\n",
    "print(f\"  Total Employees: {company_stats['total_employees']}\")\n",
    "print(f\"  Active: {active_count} | Inactive: {inactive_count}\")\n",
    "print()\n",
    "print(\"💰 COMPENSATION\")\n",
    "print(f\"  Total Annual Payroll: ${company_stats['total_payroll']:,}\")\n",
    "print(f\"  Average Salary: ${company_stats['avg_salary']:,.2f}\")\n",
    "print(f\"  Under $100k: {under_100k} | Over $100k: {over_100k}\")\n",
    "print()\n",
    "print(\"👥 DEMOGRAPHICS\")\n",
    "print(f\"  Average Age: {company_stats['avg_age']:.1f} years\")\n",
    "print(f\"  Average Experience: {company_stats['avg_experience']:.1f} years\")\n",
    "print()\n",
    "print(\"=\"*60)\n",
    "print(\"\\n✅ Dashboard built with efficient aggregation queries!\")"
   ]
  },
  {
   "cell_type": "markdown",
   "id": "feature9",
   "metadata": {},
   "source": [
    "## Feature 9: Performance Comparison\n",
    "\n",
    "Compare aggregations with client-side calculations."
   ]
  },
  {
   "cell_type": "code",
   "execution_count": 12,
   "id": "performance",
   "metadata": {},
   "outputs": [
    {
     "name": "stdout",
     "output_type": "stream",
     "text": [
      "⚡ Performance Comparison:\n",
      "\n",
      "Server-side aggregation: 4.50ms\n",
      "Client-side calculation: 10.85ms\n",
      "Speedup: 2.4x faster\n",
      "\n",
      "Results match: True\n",
      "\n",
      "💡 Benefits of server-side aggregations:\n",
      "  • Faster execution (server-side processing)\n",
      "  • Less bandwidth (no document transfer)\n",
      "  • Lower costs (smaller reads)\n",
      "  • Scales better with large datasets\n"
     ]
    }
   ],
   "source": [
    "import time\n",
    "\n",
    "# Method 1: Server-side aggregation (fast)\n",
    "start = time.time()\n",
    "avg_salary_server = employees.avg('salary')\n",
    "server_time = time.time() - start\n",
    "\n",
    "# Method 2: Client-side calculation (slower)\n",
    "start = time.time()\n",
    "all_employees = employees.get_all()\n",
    "salaries = [emp.salary for emp in all_employees]\n",
    "avg_salary_client = sum(salaries) / len(salaries)\n",
    "client_time = time.time() - start\n",
    "\n",
    "print(\"⚡ Performance Comparison:\\n\")\n",
    "print(f\"Server-side aggregation: {server_time*1000:.2f}ms\")\n",
    "print(f\"Client-side calculation: {client_time*1000:.2f}ms\")\n",
    "print(f\"Speedup: {client_time/server_time:.1f}x faster\")\n",
    "print()\n",
    "print(f\"Results match: {abs(avg_salary_server - avg_salary_client) < 0.01}\")\n",
    "print()\n",
    "print(\"💡 Benefits of server-side aggregations:\")\n",
    "print(\"  • Faster execution (server-side processing)\")\n",
    "print(\"  • Less bandwidth (no document transfer)\")\n",
    "print(\"  • Lower costs (smaller reads)\")\n",
    "print(\"  • Scales better with large datasets\")"
   ]
  },
  {
   "cell_type": "markdown",
   "id": "part2-header",
   "metadata": {},
   "source": [
    "---\n",
    "\n",
    "# Part 2: Asynchronous Aggregations\n",
    "\n",
    "Examples using the asynchronous AsyncFireProx API with async/await."
   ]
  },
  {
   "cell_type": "markdown",
   "id": "async-setup",
   "metadata": {},
   "source": [
    "### Initialize Async Client and Create Sample Data"
   ]
  },
  {
   "cell_type": "code",
   "execution_count": 13,
   "id": "async-client",
   "metadata": {},
   "outputs": [
    {
     "name": "stdout",
     "output_type": "stream",
     "text": [
      "Created 10 employees for async demo\n"
     ]
    }
   ],
   "source": [
    "# Create async client and collection\n",
    "async_client = async_demo_client()\n",
    "async_db = AsyncFireProx(async_client)\n",
    "async_employees = async_db.collection('aggregation_demo_employees_async')\n",
    "\n",
    "# Create sample data\n",
    "for emp_data in sample_employees:\n",
    "    emp = async_employees.new()\n",
    "    for key, value in emp_data.items():\n",
    "        setattr(emp, key, value)\n",
    "    await emp.save()\n",
    "\n",
    "print(f\"Created {len(sample_employees)} employees for async demo\")"
   ]
  },
  {
   "cell_type": "markdown",
   "id": "async-feature1",
   "metadata": {},
   "source": [
    "## Feature 1: Async Count"
   ]
  },
  {
   "cell_type": "code",
   "execution_count": 14,
   "id": "async-count",
   "metadata": {},
   "outputs": [
    {
     "name": "stdout",
     "output_type": "stream",
     "text": [
      "📊 Total: 10\n",
      "✅ Active: 8\n",
      "👨‍💻 Engineers: 4\n",
      "\n",
      "💡 Async count() works identically to sync API\n"
     ]
    }
   ],
   "source": [
    "# Async count operations\n",
    "total = await async_employees.count()\n",
    "active = await async_employees.where('active', '==', True).count()\n",
    "engineers = await async_employees.where('department', '==', 'Engineering').count()\n",
    "\n",
    "print(f\"📊 Total: {total}\")\n",
    "print(f\"✅ Active: {active}\")\n",
    "print(f\"👨‍💻 Engineers: {engineers}\")\n",
    "print(\"\\n💡 Async count() works identically to sync API\")"
   ]
  },
  {
   "cell_type": "markdown",
   "id": "async-feature2",
   "metadata": {},
   "source": [
    "## Feature 2: Async Sum and Average"
   ]
  },
  {
   "cell_type": "code",
   "execution_count": 15,
   "id": "async-sum-avg",
   "metadata": {},
   "outputs": [
    {
     "name": "stdout",
     "output_type": "stream",
     "text": [
      "💰 Total payroll: $1,063,000\n",
      "💵 Average salary: $106,300.00\n",
      "👨‍💻 Engineering avg: $112,500.00\n"
     ]
    }
   ],
   "source": [
    "# Async sum\n",
    "total_payroll = await async_employees.sum('salary')\n",
    "print(f\"💰 Total payroll: ${total_payroll:,}\")\n",
    "\n",
    "# Async average\n",
    "avg_salary = await async_employees.avg('salary')\n",
    "print(f\"💵 Average salary: ${avg_salary:,.2f}\")\n",
    "\n",
    "# Async with filter\n",
    "eng_avg = await async_employees.where('department', '==', 'Engineering').avg('salary')\n",
    "print(f\"👨‍💻 Engineering avg: ${eng_avg:,.2f}\")"
   ]
  },
  {
   "cell_type": "markdown",
   "id": "async-feature3",
   "metadata": {},
   "source": [
    "## Feature 3: Async Multiple Aggregations"
   ]
  },
  {
   "cell_type": "code",
   "execution_count": 16,
   "id": "async-aggregate",
   "metadata": {},
   "outputs": [
    {
     "name": "stdout",
     "output_type": "stream",
     "text": [
      "📈 Async Company Statistics:\n",
      "  Employees: 10\n",
      "  Total payroll: $1,063,000\n",
      "  Avg salary: $106,300.00\n",
      "  Avg age: 31.9\n"
     ]
    }
   ],
   "source": [
    "# Multiple async aggregations\n",
    "stats = await async_employees.aggregate(\n",
    "    total_employees=Count(),\n",
    "    total_salary=Sum('salary'),\n",
    "    avg_salary=Avg('salary'),\n",
    "    avg_age=Avg('age')\n",
    ")\n",
    "\n",
    "print(\"📈 Async Company Statistics:\")\n",
    "print(f\"  Employees: {stats['total_employees']}\")\n",
    "print(f\"  Total payroll: ${stats['total_salary']:,}\")\n",
    "print(f\"  Avg salary: ${stats['avg_salary']:,.2f}\")\n",
    "print(f\"  Avg age: {stats['avg_age']:.1f}\")"
   ]
  },
  {
   "cell_type": "markdown",
   "id": "async-feature4",
   "metadata": {},
   "source": [
    "## Feature 4: Async Department Analytics"
   ]
  },
  {
   "cell_type": "code",
   "execution_count": 17,
   "id": "async-departments",
   "metadata": {},
   "outputs": [
    {
     "name": "stdout",
     "output_type": "stream",
     "text": [
      "📊 Async Department Analysis:\n",
      "\n",
      "Engineering:\n",
      "  Team size: 4\n",
      "  Avg salary: $112,500\n",
      "  Total: $450,000\n",
      "\n",
      "Data:\n",
      "  Team size: 2\n",
      "  Avg salary: $127,500\n",
      "  Total: $255,000\n",
      "\n",
      "Sales:\n",
      "  Team size: 2\n",
      "  Avg salary: $87,500\n",
      "  Total: $175,000\n",
      "\n",
      "✅ All async operations complete\n"
     ]
    }
   ],
   "source": [
    "# Analyze each department asynchronously\n",
    "departments = ['Engineering', 'Data', 'Sales']\n",
    "\n",
    "print(\"📊 Async Department Analysis:\\n\")\n",
    "\n",
    "for dept in departments:\n",
    "    stats = await (async_employees\n",
    "                   .where('department', '==', dept)\n",
    "                   .aggregate(\n",
    "                       count=Count(),\n",
    "                       avg_salary=Avg('salary'),\n",
    "                       total_payroll=Sum('salary')\n",
    "                   ))\n",
    "\n",
    "    if stats['count'] > 0:\n",
    "        print(f\"{dept}:\")\n",
    "        print(f\"  Team size: {stats['count']}\")\n",
    "        print(f\"  Avg salary: ${stats['avg_salary']:,.0f}\")\n",
    "        print(f\"  Total: ${stats['total_payroll']:,}\")\n",
    "        print()\n",
    "\n",
    "print(\"✅ All async operations complete\")"
   ]
  },
  {
   "cell_type": "markdown",
   "id": "async-feature5",
   "metadata": {},
   "source": [
    "## Feature 5: Concurrent Async Aggregations\n",
    "\n",
    "Run multiple aggregation queries concurrently for maximum performance."
   ]
  },
  {
   "cell_type": "code",
   "execution_count": 18,
   "id": "concurrent",
   "metadata": {},
   "outputs": [
    {
     "name": "stdout",
     "output_type": "stream",
     "text": [
      "⚡ Concurrent Aggregation Results:\n",
      "  Total employees: 10\n",
      "  Total payroll: $1,063,000\n",
      "  Average age: 31.9\n",
      "  Engineers: 4\n",
      "  Active avg salary: $108,750.00\n",
      "\n",
      "💡 asyncio.gather() runs all queries in parallel for maximum speed!\n"
     ]
    }
   ],
   "source": [
    "import asyncio\n",
    "\n",
    "# Run multiple aggregations concurrently\n",
    "results = await asyncio.gather(\n",
    "    async_employees.count(),\n",
    "    async_employees.sum('salary'),\n",
    "    async_employees.avg('age'),\n",
    "    async_employees.where('department', '==', 'Engineering').count(),\n",
    "    async_employees.where('active', '==', True).avg('salary')\n",
    ")\n",
    "\n",
    "total, payroll, avg_age, eng_count, active_avg_salary = results\n",
    "\n",
    "print(\"⚡ Concurrent Aggregation Results:\")\n",
    "print(f\"  Total employees: {total}\")\n",
    "print(f\"  Total payroll: ${payroll:,}\")\n",
    "print(f\"  Average age: {avg_age:.1f}\")\n",
    "print(f\"  Engineers: {eng_count}\")\n",
    "print(f\"  Active avg salary: ${active_avg_salary:,.2f}\")\n",
    "print(\"\\n💡 asyncio.gather() runs all queries in parallel for maximum speed!\")"
   ]
  },
  {
   "cell_type": "markdown",
   "id": "conclusion",
   "metadata": {},
   "source": [
    "---\n",
    "\n",
    "## Summary\n",
    "\n",
    "This demo showcased all aggregation features:\n",
    "\n",
    "### ✅ Available Aggregations\n",
    "\n",
    "1. **count()** - Count matching documents (returns int)\n",
    "2. **sum(field)** - Sum numeric field (returns int/float)\n",
    "3. **avg(field)** - Average numeric field (returns float)\n",
    "4. **aggregate()** - Multiple aggregations (returns dict)\n",
    "\n",
    "### ✅ Usage Patterns\n",
    "\n",
    "**Simple aggregations:**\n",
    "```python\n",
    "count = collection.count()\n",
    "total = collection.sum('price')\n",
    "average = collection.avg('rating')\n",
    "```\n",
    "\n",
    "**With filters:**\n",
    "```python\n",
    "count = collection.where('active', '==', True).count()\n",
    "total = collection.where('dept', '==', 'Sales').sum('revenue')\n",
    "```\n",
    "\n",
    "**Multiple aggregations:**\n",
    "```python\n",
    "stats = collection.aggregate(\n",
    "    count=Count(),\n",
    "    total=Sum('amount'),\n",
    "    average=Avg('rating')\n",
    ")\n",
    "# Returns: {'count': 42, 'total': 15000, 'average': 4.5}\n",
    "```\n",
    "\n",
    "**Async usage:**\n",
    "```python\n",
    "count = await collection.count()\n",
    "stats = await collection.aggregate(count=Count(), avg=Avg('age'))\n",
    "```\n",
    "\n",
    "### 💡 When to Use Aggregations\n",
    "\n",
    "**Use aggregations when:**\n",
    "- Calculating statistics (counts, sums, averages)\n",
    "- Building dashboards and reports\n",
    "- Analyzing large datasets\n",
    "- You don't need individual document data\n",
    "- Performance and cost are important\n",
    "\n",
    "**Use regular queries when:**\n",
    "- You need to access document fields\n",
    "- Modifying documents\n",
    "- Complex client-side calculations\n",
    "- Custom aggregation logic not supported by Firestore\n",
    "\n",
    "### 🚀 Performance Benefits\n",
    "\n",
    "- **Speed**: Server-side processing (2-10x faster)\n",
    "- **Bandwidth**: Minimal data transfer (only results)\n",
    "- **Cost**: Lower Firestore read costs\n",
    "- **Scalability**: Works efficiently on millions of documents\n",
    "\n",
    "### 📚 Technical Details\n",
    "\n",
    "- **Empty collections**: Return 0 for all aggregations\n",
    "- **Type safety**: Sum/Avg require field names\n",
    "- **Filter support**: All where() clauses apply\n",
    "- **Chainable**: Works with order_by(), limit() (though rarely needed)\n",
    "- **Async support**: Full async/await support with asyncio.gather()\n",
    "\n",
    "### 📚 Learn More\n",
    "\n",
    "- **Tests**: `tests/test_integration_aggregations.py` (sync)\n",
    "- **Tests**: `tests/test_integration_aggregations_async.py` (async)\n",
    "- **Source**: `src/fire_prox/fire_query.py` and `async_fire_query.py`\n",
    "- **Helpers**: `src/fire_prox/aggregation.py`"
   ]
  }
 ],
 "metadata": {
  "kernelspec": {
   "display_name": "fire-prox",
   "language": "python",
   "name": "python3"
  },
  "language_info": {
   "codemirror_mode": {
    "name": "ipython",
    "version": 3
   },
   "file_extension": ".py",
   "mimetype": "text/x-python",
   "name": "python",
   "nbconvert_exporter": "python",
   "pygments_lexer": "ipython3",
   "version": "3.12.7"
  }
 },
 "nbformat": 4,
 "nbformat_minor": 5
}

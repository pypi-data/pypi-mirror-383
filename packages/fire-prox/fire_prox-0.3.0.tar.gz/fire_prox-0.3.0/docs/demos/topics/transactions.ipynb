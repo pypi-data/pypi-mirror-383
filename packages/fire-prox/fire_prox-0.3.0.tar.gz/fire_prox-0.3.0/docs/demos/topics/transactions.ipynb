{
 "cells": [
  {
   "cell_type": "markdown",
   "id": "intro",
   "metadata": {},
   "source": [
    "# FireProx Transactions Guide\n",
    "\n",
    "This notebook demonstrates Firestore transactions in FireProx, enabling atomic read-modify-write operations for data consistency.\n",
    "\n",
    "## What are Transactions?\n",
    "\n",
    "Transactions ensure **ACID properties** (Atomicity, Consistency, Isolation, Durability) for operations that read and write data. They prevent race conditions when multiple clients modify the same data concurrently.\n",
    "\n",
    "## Transaction Pattern\n",
    "\n",
    "FireProx uses the native Firestore decorator pattern:\n",
    "\n",
    "```python\n",
    "transaction = db.transaction()\n",
    "\n",
    "@firestore.transactional\n",
    "def my_transaction(transaction):\n",
    "    # Read documents\n",
    "    doc.fetch(transaction=transaction)\n",
    "    \n",
    "    # Modify locally\n",
    "    doc.field += 1\n",
    "    \n",
    "    # Write back\n",
    "    doc.save(transaction=transaction)\n",
    "\n",
    "my_transaction(transaction)\n",
    "```\n",
    "\n",
    "## Key Rules\n",
    "\n",
    "1. **All reads must happen before writes** within a transaction\n",
    "2. **Automatic retry** if concurrent modification detected\n",
    "3. **Cannot create new documents** (DETACHED → LOADED) in transactions\n",
    "4. **Create transactions from any object**: db, collection, or document\n",
    "\n",
    "The demo is split into two sections:\n",
    "1. Synchronous API examples\n",
    "2. Asynchronous API examples"
   ]
  },
  {
   "cell_type": "markdown",
   "id": "setup",
   "metadata": {},
   "source": [
    "## Setup\n",
    "\n",
    "Import modules and prepare for demonstrations."
   ]
  },
  {
   "cell_type": "code",
   "execution_count": 1,
   "id": "imports",
   "metadata": {},
   "outputs": [],
   "source": [
    "from google.cloud import firestore\n",
    "\n",
    "from fire_prox import AsyncFireProx, FireProx\n",
    "from fire_prox.testing import async_demo_client, demo_client"
   ]
  },
  {
   "cell_type": "markdown",
   "id": "part1-header",
   "metadata": {},
   "source": [
    "---\n",
    "\n",
    "# Part 1: Synchronous Transactions\n",
    "\n",
    "Examples using the synchronous FireProx API."
   ]
  },
  {
   "cell_type": "markdown",
   "id": "sync-setup",
   "metadata": {},
   "source": [
    "### Initialize Client and Create Sample Data\n",
    "\n",
    "We'll create a bank account system to demonstrate atomic transfers."
   ]
  },
  {
   "cell_type": "code",
   "execution_count": 3,
   "id": "sync-client",
   "metadata": {},
   "outputs": [
    {
     "name": "stdout",
     "output_type": "stream",
     "text": [
      "💰 Initial balances:\n",
      "  Alice: $1000\n",
      "  Bob: $500\n"
     ]
    }
   ],
   "source": [
    "# Create sync client and collection\n",
    "client = demo_client()\n",
    "db = FireProx(client)\n",
    "accounts = db.collection('transaction_demo_accounts')\n",
    "\n",
    "# Create two bank accounts\n",
    "alice = accounts.new()\n",
    "alice.name = 'Alice'\n",
    "alice.balance = 1000\n",
    "alice.save(doc_id='alice')\n",
    "\n",
    "bob = accounts.new()\n",
    "bob.name = 'Bob'\n",
    "bob.balance = 500\n",
    "bob.save(doc_id='bob')\n",
    "\n",
    "print(\"💰 Initial balances:\")\n",
    "print(f\"  Alice: ${alice.balance}\")\n",
    "print(f\"  Bob: ${bob.balance}\")"
   ]
  },
  {
   "cell_type": "markdown",
   "id": "feature1",
   "metadata": {},
   "source": [
    "## Feature 1: Basic Transaction - Atomic Transfer\n",
    "\n",
    "Transfer money between accounts atomically. Either both accounts are updated, or neither is."
   ]
  },
  {
   "cell_type": "code",
   "execution_count": 4,
   "id": "basic-transaction",
   "metadata": {},
   "outputs": [
    {
     "name": "stdout",
     "output_type": "stream",
     "text": [
      "💸 Transferred $200 from Alice to Bob\n",
      "  Alice: $800\n",
      "  Bob: $700\n",
      "\n",
      "✅ Transaction completed atomically!\n"
     ]
    }
   ],
   "source": [
    "# Create transaction object\n",
    "transaction = db.transaction()\n",
    "\n",
    "@firestore.transactional\n",
    "def transfer_money(transaction, from_id, to_id, amount):\n",
    "    \"\"\"\n",
    "    Transfer money between accounts atomically.\n",
    "    \n",
    "    This function reads both accounts, modifies them,\n",
    "    and writes them back within a single transaction.\n",
    "    \"\"\"\n",
    "    # Read both accounts (all reads must happen first)\n",
    "    from_account = accounts.doc(from_id)\n",
    "    to_account = accounts.doc(to_id)\n",
    "\n",
    "    from_account.fetch(transaction=transaction)\n",
    "    to_account.fetch(transaction=transaction)\n",
    "\n",
    "    # Check sufficient funds\n",
    "    if from_account.balance < amount:\n",
    "        raise ValueError(f\"Insufficient funds: {from_account.balance} < {amount}\")\n",
    "\n",
    "    # Modify locally\n",
    "    from_account.balance -= amount\n",
    "    to_account.balance += amount\n",
    "\n",
    "    # Write both updates (all writes must happen after reads)\n",
    "    from_account.save(transaction=transaction)\n",
    "    to_account.save(transaction=transaction)\n",
    "\n",
    "    return from_account.balance, to_account.balance\n",
    "\n",
    "# Execute the transaction\n",
    "alice_new, bob_new = transfer_money(transaction, 'alice', 'bob', 200)\n",
    "\n",
    "print(\"💸 Transferred $200 from Alice to Bob\")\n",
    "print(f\"  Alice: ${alice_new}\")\n",
    "print(f\"  Bob: ${bob_new}\")\n",
    "print(\"\\n✅ Transaction completed atomically!\")"
   ]
  },
  {
   "cell_type": "markdown",
   "id": "feature2",
   "metadata": {},
   "source": [
    "## Feature 2: Transaction with Validation\n",
    "\n",
    "Transactions can include business logic and validation. If an error occurs, no changes are made."
   ]
  },
  {
   "cell_type": "code",
   "execution_count": 5,
   "id": "validation-transaction",
   "metadata": {},
   "outputs": [
    {
     "name": "stdout",
     "output_type": "stream",
     "text": [
      "✅ Valid transfer succeeded\n",
      "\n",
      "✅ Invalid transfer correctly rejected: Transfer would leave balance below minimum ($100). Current: $650, Transfer: $750\n",
      "   No changes were made to either account!\n"
     ]
    }
   ],
   "source": [
    "transaction = db.transaction()\n",
    "\n",
    "@firestore.transactional\n",
    "def safe_transfer(transaction, from_id, to_id, amount):\n",
    "    \"\"\"\n",
    "    Transfer with validation and business rules.\n",
    "    \"\"\"\n",
    "    from_account = accounts.doc(from_id)\n",
    "    to_account = accounts.doc(to_id)\n",
    "\n",
    "    from_account.fetch(transaction=transaction)\n",
    "    to_account.fetch(transaction=transaction)\n",
    "\n",
    "    # Validation: minimum balance\n",
    "    MIN_BALANCE = 100\n",
    "    if from_account.balance - amount < MIN_BALANCE:\n",
    "        raise ValueError(\n",
    "            f\"Transfer would leave balance below minimum (${MIN_BALANCE}). \"\n",
    "            f\"Current: ${from_account.balance}, Transfer: ${amount}\"\n",
    "        )\n",
    "\n",
    "    # Validation: transfer limit\n",
    "    MAX_TRANSFER = 500\n",
    "    if amount > MAX_TRANSFER:\n",
    "        raise ValueError(f\"Transfer amount ${amount} exceeds limit of ${MAX_TRANSFER}\")\n",
    "\n",
    "    # Perform transfer\n",
    "    from_account.balance -= amount\n",
    "    to_account.balance += amount\n",
    "\n",
    "    from_account.save(transaction=transaction)\n",
    "    to_account.save(transaction=transaction)\n",
    "\n",
    "# Try a valid transfer\n",
    "try:\n",
    "    safe_transfer(transaction, 'alice', 'bob', 150)\n",
    "    print(\"✅ Valid transfer succeeded\")\n",
    "except ValueError as e:\n",
    "    print(f\"❌ Transfer rejected: {e}\")\n",
    "\n",
    "# Try an invalid transfer (would leave balance too low)\n",
    "transaction2 = db.transaction()\n",
    "try:\n",
    "    safe_transfer(transaction2, 'alice', 'bob', 750)  # Would leave Alice with $50\n",
    "    print(\"❌ This shouldn't happen\")\n",
    "except ValueError as e:\n",
    "    print(f\"\\n✅ Invalid transfer correctly rejected: {e}\")\n",
    "    print(\"   No changes were made to either account!\")"
   ]
  },
  {
   "cell_type": "markdown",
   "id": "feature3",
   "metadata": {},
   "source": [
    "## Feature 3: Creating Transactions from Different Objects\n",
    "\n",
    "You can create transactions from `db`, `collection`, or `document` objects - whatever is convenient!"
   ]
  },
  {
   "cell_type": "code",
   "execution_count": 6,
   "id": "transaction-sources",
   "metadata": {},
   "outputs": [
    {
     "name": "stdout",
     "output_type": "stream",
     "text": [
      "✅ Created transaction from db\n",
      "✅ Created transaction from collection\n",
      "✅ Created transaction from document\n",
      "\n",
      "💡 All methods create identical transaction objects\n",
      "   Choose whichever is most convenient for your code!\n"
     ]
    }
   ],
   "source": [
    "# Method 1: From db\n",
    "transaction1 = db.transaction()\n",
    "print(\"✅ Created transaction from db\")\n",
    "\n",
    "# Method 2: From collection\n",
    "transaction2 = accounts.transaction()\n",
    "print(\"✅ Created transaction from collection\")\n",
    "\n",
    "# Method 3: From document\n",
    "alice_doc = accounts.doc('alice')\n",
    "transaction3 = alice_doc.transaction()\n",
    "print(\"✅ Created transaction from document\")\n",
    "\n",
    "print(\"\\n💡 All methods create identical transaction objects\")\n",
    "print(\"   Choose whichever is most convenient for your code!\")"
   ]
  },
  {
   "cell_type": "markdown",
   "id": "feature4",
   "metadata": {},
   "source": [
    "## Feature 4: Transactions with Atomic Operations\n",
    "\n",
    "Combine transactions with atomic operations like ArrayUnion, ArrayRemove, and Increment."
   ]
  },
  {
   "cell_type": "code",
   "execution_count": 7,
   "id": "atomic-ops-transaction",
   "metadata": {},
   "outputs": [
    {
     "name": "stdout",
     "output_type": "stream",
     "text": [
      "Initial state:\n",
      "  Credits: 100\n",
      "  Tags: ['customer']\n",
      "  Login count: 5\n",
      "\n",
      "After upgrade:\n",
      "  Credits: 150\n",
      "  Tags: ['customer', 'premium', 'verified']\n",
      "  Login count: 6\n",
      "\n",
      "✅ Transaction with atomic operations succeeded!\n"
     ]
    }
   ],
   "source": [
    "# Create a user with transaction history\n",
    "users = db.collection('transaction_demo_users')\n",
    "user = users.new()\n",
    "user.name = 'Charlie'\n",
    "user.credits = 100\n",
    "user.tags = ['customer']\n",
    "user.login_count = 5\n",
    "user.save(doc_id='charlie')\n",
    "\n",
    "print(\"Initial state:\")\n",
    "print(f\"  Credits: {user.credits}\")\n",
    "print(f\"  Tags: {user.tags}\")\n",
    "print(f\"  Login count: {user.login_count}\")\n",
    "\n",
    "# Transaction with atomic operations\n",
    "transaction = db.transaction()\n",
    "\n",
    "@firestore.transactional\n",
    "def upgrade_user(transaction):\n",
    "    user = users.doc('charlie')\n",
    "    user.fetch(transaction=transaction)\n",
    "\n",
    "    # Use atomic operations\n",
    "    user.increment('credits', 50)  # Add bonus credits\n",
    "    user.array_union('tags', ['premium', 'verified'])  # Add tags\n",
    "    user.increment('login_count', 1)  # Track login\n",
    "\n",
    "    user.save(transaction=transaction)\n",
    "\n",
    "upgrade_user(transaction)\n",
    "\n",
    "# Verify results\n",
    "user_after = users.doc('charlie')\n",
    "user_after.fetch()\n",
    "print(\"\\nAfter upgrade:\")\n",
    "print(f\"  Credits: {user_after.credits}\")\n",
    "print(f\"  Tags: {user_after.tags}\")\n",
    "print(f\"  Login count: {user_after.login_count}\")\n",
    "print(\"\\n✅ Transaction with atomic operations succeeded!\")"
   ]
  },
  {
   "cell_type": "markdown",
   "id": "feature5",
   "metadata": {},
   "source": [
    "## Feature 5: Multiple Document Updates\n",
    "\n",
    "Transactions can update many documents atomically - all or nothing."
   ]
  },
  {
   "cell_type": "code",
   "execution_count": 8,
   "id": "multi-doc-transaction",
   "metadata": {},
   "outputs": [
    {
     "name": "stdout",
     "output_type": "stream",
     "text": [
      "Initial team points:\n",
      "  Alice: 0 points\n",
      "  Bob: 0 points\n",
      "  Charlie: 0 points\n",
      "\n",
      "After team bonus:\n",
      "  Alice: 100 points\n",
      "  Bob: 100 points\n",
      "  Charlie: 100 points\n",
      "\n",
      "✅ All team members updated atomically!\n"
     ]
    }
   ],
   "source": [
    "# Create a team of users\n",
    "team = db.collection('transaction_demo_team')\n",
    "members = ['alice', 'bob', 'charlie']\n",
    "for member_id in members:\n",
    "    member = team.new()\n",
    "    member.name = member_id.capitalize()\n",
    "    member.points = 0\n",
    "    member.save(doc_id=member_id)\n",
    "\n",
    "print(\"Initial team points:\")\n",
    "for member_id in members:\n",
    "    m = team.doc(member_id)\n",
    "    m.fetch()\n",
    "    print(f\"  {m.name}: {m.points} points\")\n",
    "\n",
    "# Award points to entire team atomically\n",
    "transaction = db.transaction()\n",
    "\n",
    "@firestore.transactional\n",
    "def award_team_bonus(transaction, bonus_points):\n",
    "    \"\"\"\n",
    "    Award bonus points to all team members atomically.\n",
    "    \"\"\"\n",
    "    # Read all members\n",
    "    member_docs = [team.doc(member_id) for member_id in members]\n",
    "    for doc in member_docs:\n",
    "        doc.fetch(transaction=transaction)\n",
    "\n",
    "    # Award points to everyone\n",
    "    for doc in member_docs:\n",
    "        doc.increment('points', bonus_points)\n",
    "        doc.save(transaction=transaction)\n",
    "\n",
    "award_team_bonus(transaction, 100)\n",
    "\n",
    "print(\"\\nAfter team bonus:\")\n",
    "for member_id in members:\n",
    "    m = team.doc(member_id)\n",
    "    m.fetch(force=True)\n",
    "    print(f\"  {m.name}: {m.points} points\")\n",
    "print(\"\\n✅ All team members updated atomically!\")"
   ]
  },
  {
   "cell_type": "markdown",
   "id": "feature6",
   "metadata": {},
   "source": [
    "## Feature 6: Error Handling - Cannot Create New Documents\n",
    "\n",
    "Transactions can only update existing documents. Creating new documents (DETACHED → LOADED) is not allowed."
   ]
  },
  {
   "cell_type": "code",
   "execution_count": 9,
   "id": "error-handling",
   "metadata": {},
   "outputs": [
    {
     "name": "stdout",
     "output_type": "stream",
     "text": [
      "✅ Correctly rejected: Cannot create new documents (DETACHED -> LOADED) within a transaction. Create the document first, then use transactions for updates.\n",
      "\n",
      "💡 Create documents outside transactions, then update them inside transactions\n",
      "\n",
      "✅ Document created successfully outside transaction\n",
      "✅ Document updated successfully in transaction\n"
     ]
    }
   ],
   "source": [
    "transaction = db.transaction()\n",
    "\n",
    "@firestore.transactional\n",
    "def try_create_document(transaction):\n",
    "    new_doc = accounts.new()\n",
    "    new_doc.name = 'David'\n",
    "    new_doc.balance = 1000\n",
    "    new_doc.save(doc_id='david', transaction=transaction)  # This will fail!\n",
    "\n",
    "try:\n",
    "    try_create_document(transaction)\n",
    "    print(\"❌ This shouldn't succeed\")\n",
    "except ValueError as e:\n",
    "    print(f\"✅ Correctly rejected: {e}\")\n",
    "    print(\"\\n💡 Create documents outside transactions, then update them inside transactions\")\n",
    "\n",
    "# The correct way:\n",
    "david = accounts.new()\n",
    "david.name = 'David'\n",
    "david.balance = 1000\n",
    "david.save(doc_id='david')  # Create OUTSIDE transaction\n",
    "print(\"\\n✅ Document created successfully outside transaction\")\n",
    "\n",
    "# Now we can update it in a transaction\n",
    "transaction2 = db.transaction()\n",
    "\n",
    "@firestore.transactional\n",
    "def update_david(transaction):\n",
    "    david = accounts.doc('david')\n",
    "    david.fetch(transaction=transaction)\n",
    "    david.balance += 100\n",
    "    david.save(transaction=transaction)\n",
    "\n",
    "update_david(transaction2)\n",
    "print(\"✅ Document updated successfully in transaction\")"
   ]
  },
  {
   "cell_type": "markdown",
   "id": "feature7",
   "metadata": {},
   "source": [
    "## Feature 7: Real-World Pattern - Inventory Management\n",
    "\n",
    "A practical example: managing product inventory with transactions to prevent overselling."
   ]
  },
  {
   "cell_type": "code",
   "execution_count": 10,
   "id": "inventory-management",
   "metadata": {},
   "outputs": [
    {
     "name": "stdout",
     "output_type": "stream",
     "text": [
      "Product: Laptop Pro\n",
      "  Price: $1200\n",
      "  Stock: 5\n",
      "  Reserved: 0\n",
      "\n",
      "✅ Reserved 2 laptops for customer1\n",
      "   3 available after reservation\n",
      "\n",
      "✅ Reserved 2 laptops for customer2\n",
      "   1 available after reservation\n",
      "\n",
      "✅ Overselling prevented: Insufficient stock: 1 available, 2 requested\n",
      "\n",
      "Final inventory:\n",
      "  Stock: 5\n",
      "  Reserved: 4\n",
      "  Available: 1\n",
      "\n",
      "💡 Transactions prevent race conditions and overselling!\n"
     ]
    }
   ],
   "source": [
    "# Create product inventory\n",
    "inventory = db.collection('transaction_demo_inventory')\n",
    "\n",
    "laptop = inventory.new()\n",
    "laptop.name = 'Laptop Pro'\n",
    "laptop.price = 1200\n",
    "laptop.stock = 5\n",
    "laptop.reserved = 0\n",
    "laptop.save(doc_id='laptop_pro')\n",
    "\n",
    "print(f\"Product: {laptop.name}\")\n",
    "print(f\"  Price: ${laptop.price}\")\n",
    "print(f\"  Stock: {laptop.stock}\")\n",
    "print(f\"  Reserved: {laptop.reserved}\")\n",
    "\n",
    "# Function to reserve product\n",
    "def reserve_product(product_id, quantity, customer_id):\n",
    "    \"\"\"\n",
    "    Reserve product inventory for a customer.\n",
    "    Prevents overselling by checking availability in a transaction.\n",
    "    \"\"\"\n",
    "    transaction = inventory.transaction()\n",
    "\n",
    "    @firestore.transactional\n",
    "    def execute_reservation(transaction):\n",
    "        product = inventory.doc(product_id)\n",
    "        product.fetch(transaction=transaction)\n",
    "\n",
    "        available = product.stock - product.reserved\n",
    "\n",
    "        if available < quantity:\n",
    "            raise ValueError(\n",
    "                f\"Insufficient stock: {available} available, {quantity} requested\"\n",
    "            )\n",
    "\n",
    "        # Reserve the items\n",
    "        product.reserved += quantity\n",
    "        product.save(transaction=transaction)\n",
    "\n",
    "        return available - quantity  # Remaining after reservation\n",
    "\n",
    "    return execute_reservation(transaction)\n",
    "\n",
    "# Successful reservations\n",
    "try:\n",
    "    remaining = reserve_product('laptop_pro', 2, 'customer1')\n",
    "    print(\"\\n✅ Reserved 2 laptops for customer1\")\n",
    "    print(f\"   {remaining} available after reservation\")\n",
    "\n",
    "    remaining = reserve_product('laptop_pro', 2, 'customer2')\n",
    "    print(\"\\n✅ Reserved 2 laptops for customer2\")\n",
    "    print(f\"   {remaining} available after reservation\")\n",
    "except ValueError as e:\n",
    "    print(f\"❌ Reservation failed: {e}\")\n",
    "\n",
    "# Try to reserve more than available\n",
    "try:\n",
    "    reserve_product('laptop_pro', 2, 'customer3')  # Only 1 left!\n",
    "    print(\"❌ This shouldn't succeed\")\n",
    "except ValueError as e:\n",
    "    print(f\"\\n✅ Overselling prevented: {e}\")\n",
    "\n",
    "# Check final state\n",
    "laptop_final = inventory.doc('laptop_pro')\n",
    "laptop_final.fetch()\n",
    "print(\"\\nFinal inventory:\")\n",
    "print(f\"  Stock: {laptop_final.stock}\")\n",
    "print(f\"  Reserved: {laptop_final.reserved}\")\n",
    "print(f\"  Available: {laptop_final.stock - laptop_final.reserved}\")\n",
    "print(\"\\n💡 Transactions prevent race conditions and overselling!\")"
   ]
  },
  {
   "cell_type": "markdown",
   "id": "part2-header",
   "metadata": {},
   "source": [
    "---\n",
    "\n",
    "# Part 2: Asynchronous Transactions\n",
    "\n",
    "Examples using the asynchronous AsyncFireProx API with async/await."
   ]
  },
  {
   "cell_type": "markdown",
   "id": "async-setup",
   "metadata": {},
   "source": [
    "### Initialize Async Client and Create Sample Data"
   ]
  },
  {
   "cell_type": "code",
   "execution_count": 11,
   "id": "async-client",
   "metadata": {},
   "outputs": [
    {
     "name": "stdout",
     "output_type": "stream",
     "text": [
      "💰 Initial async balances:\n",
      "  Alice: $1000\n",
      "  Bob: $500\n"
     ]
    }
   ],
   "source": [
    "# Create async client and collection\n",
    "async_client = async_demo_client()\n",
    "async_db = AsyncFireProx(async_client)\n",
    "async_accounts = async_db.collection('transaction_demo_accounts_async')\n",
    "\n",
    "# Create two bank accounts\n",
    "alice = async_accounts.new()\n",
    "alice.name = 'Alice'\n",
    "alice.balance = 1000\n",
    "await alice.save(doc_id='alice')\n",
    "\n",
    "bob = async_accounts.new()\n",
    "bob.name = 'Bob'\n",
    "bob.balance = 500\n",
    "await bob.save(doc_id='bob')\n",
    "\n",
    "print(\"💰 Initial async balances:\")\n",
    "print(f\"  Alice: ${alice.balance}\")\n",
    "print(f\"  Bob: ${bob.balance}\")"
   ]
  },
  {
   "cell_type": "markdown",
   "id": "async-feature1",
   "metadata": {},
   "source": [
    "## Feature 1: Basic Async Transaction\n",
    "\n",
    "Async transactions use `@firestore.async_transactional` and `await` for all operations."
   ]
  },
  {
   "cell_type": "code",
   "execution_count": 12,
   "id": "async-basic-transaction",
   "metadata": {},
   "outputs": [
    {
     "name": "stdout",
     "output_type": "stream",
     "text": [
      "💸 Async transferred $200 from Alice to Bob\n",
      "  Alice: $800\n",
      "  Bob: $700\n",
      "\n",
      "✅ Async transaction completed!\n"
     ]
    }
   ],
   "source": [
    "transaction = async_db.transaction()\n",
    "\n",
    "@firestore.async_transactional\n",
    "async def async_transfer_money(transaction, from_id, to_id, amount):\n",
    "    \"\"\"\n",
    "    Async transfer between accounts.\n",
    "    \"\"\"\n",
    "    from_account = async_accounts.doc(from_id)\n",
    "    to_account = async_accounts.doc(to_id)\n",
    "\n",
    "    # All reads with await\n",
    "    await from_account.fetch(transaction=transaction)\n",
    "    await to_account.fetch(transaction=transaction)\n",
    "\n",
    "    # Check funds\n",
    "    if from_account.balance < amount:\n",
    "        raise ValueError(\"Insufficient funds\")\n",
    "\n",
    "    # Modify\n",
    "    from_account.balance -= amount\n",
    "    to_account.balance += amount\n",
    "\n",
    "    # All writes with await\n",
    "    await from_account.save(transaction=transaction)\n",
    "    await to_account.save(transaction=transaction)\n",
    "\n",
    "    return from_account.balance, to_account.balance\n",
    "\n",
    "# Execute with await\n",
    "alice_new, bob_new = await async_transfer_money(transaction, 'alice', 'bob', 200)\n",
    "\n",
    "print(\"💸 Async transferred $200 from Alice to Bob\")\n",
    "print(f\"  Alice: ${alice_new}\")\n",
    "print(f\"  Bob: ${bob_new}\")\n",
    "print(\"\\n✅ Async transaction completed!\")"
   ]
  },
  {
   "cell_type": "markdown",
   "id": "async-feature2",
   "metadata": {},
   "source": [
    "## Feature 2: Async Transaction with Atomic Operations"
   ]
  },
  {
   "cell_type": "code",
   "execution_count": 13,
   "id": "async-atomic-ops",
   "metadata": {},
   "outputs": [
    {
     "name": "stdout",
     "output_type": "stream",
     "text": [
      "Initial: credits=100, tags=['customer'], visits=10\n",
      "\n",
      "After: credits=150, tags=['customer', 'premium', 'verified'], visits=11\n",
      "✅ Async transaction with atomic operations succeeded!\n"
     ]
    }
   ],
   "source": [
    "# Create user\n",
    "async_users = async_db.collection('transaction_demo_users_async')\n",
    "user = async_users.new()\n",
    "user.name = 'Charlie'\n",
    "user.credits = 100\n",
    "user.tags = ['customer']\n",
    "user.visits = 10\n",
    "await user.save(doc_id='charlie')\n",
    "\n",
    "print(f\"Initial: credits={user.credits}, tags={user.tags}, visits={user.visits}\")\n",
    "\n",
    "# Async transaction with atomic ops\n",
    "transaction = async_db.transaction()\n",
    "\n",
    "@firestore.async_transactional\n",
    "async def async_upgrade_user(transaction):\n",
    "    user = async_users.doc('charlie')\n",
    "    await user.fetch(transaction=transaction)\n",
    "\n",
    "    user.increment('credits', 50)\n",
    "    user.array_union('tags', ['premium', 'verified'])\n",
    "    user.increment('visits', 1)\n",
    "\n",
    "    await user.save(transaction=transaction)\n",
    "\n",
    "await async_upgrade_user(transaction)\n",
    "\n",
    "# Verify\n",
    "user_after = async_users.doc('charlie')\n",
    "await user_after.fetch()\n",
    "print(f\"\\nAfter: credits={user_after.credits}, tags={user_after.tags}, visits={user_after.visits}\")\n",
    "print(\"✅ Async transaction with atomic operations succeeded!\")"
   ]
  },
  {
   "cell_type": "markdown",
   "id": "async-feature3",
   "metadata": {},
   "source": [
    "## Feature 3: Async Multi-Document Transaction"
   ]
  },
  {
   "cell_type": "code",
   "execution_count": 14,
   "id": "async-multi-doc",
   "metadata": {},
   "outputs": [
    {
     "name": "stdout",
     "output_type": "stream",
     "text": [
      "Initial async team:\n",
      "  Alice: 0 points\n",
      "  Bob: 0 points\n",
      "  Charlie: 0 points\n",
      "\n",
      "After async team bonus:\n",
      "  Alice: 100 points\n",
      "  Bob: 100 points\n",
      "  Charlie: 100 points\n",
      "\n",
      "✅ Async multi-document transaction succeeded!\n"
     ]
    }
   ],
   "source": [
    "# Create team\n",
    "async_team = async_db.collection('transaction_demo_team_async')\n",
    "members = ['alice', 'bob', 'charlie']\n",
    "for member_id in members:\n",
    "    member = async_team.new()\n",
    "    member.name = member_id.capitalize()\n",
    "    member.points = 0\n",
    "    await member.save(doc_id=member_id)\n",
    "\n",
    "print(\"Initial async team:\")\n",
    "for member_id in members:\n",
    "    m = async_team.doc(member_id)\n",
    "    await m.fetch()\n",
    "    print(f\"  {m.name}: {m.points} points\")\n",
    "\n",
    "# Award bonus to entire team\n",
    "transaction = async_db.transaction()\n",
    "\n",
    "@firestore.async_transactional\n",
    "async def async_award_team_bonus(transaction, bonus):\n",
    "    member_docs = [async_team.doc(mid) for mid in members]\n",
    "\n",
    "    # Read all\n",
    "    for doc in member_docs:\n",
    "        await doc.fetch(transaction=transaction)\n",
    "\n",
    "    # Update all\n",
    "    for doc in member_docs:\n",
    "        doc.increment('points', bonus)\n",
    "        await doc.save(transaction=transaction)\n",
    "\n",
    "await async_award_team_bonus(transaction, 100)\n",
    "\n",
    "print(\"\\nAfter async team bonus:\")\n",
    "for member_id in members:\n",
    "    m = async_team.doc(member_id)\n",
    "    await m.fetch(force=True)\n",
    "    print(f\"  {m.name}: {m.points} points\")\n",
    "print(\"\\n✅ Async multi-document transaction succeeded!\")"
   ]
  },
  {
   "cell_type": "markdown",
   "id": "conclusion",
   "metadata": {},
   "source": [
    "---\n",
    "\n",
    "## Summary\n",
    "\n",
    "This demo showcased all transaction features:\n",
    "\n",
    "### ✅ Transaction Pattern\n",
    "\n",
    "**Synchronous**:\n",
    "```python\n",
    "transaction = db.transaction()\n",
    "\n",
    "@firestore.transactional\n",
    "def my_transaction(transaction):\n",
    "    doc.fetch(transaction=transaction)\n",
    "    doc.field += 1\n",
    "    doc.save(transaction=transaction)\n",
    "\n",
    "my_transaction(transaction)\n",
    "```\n",
    "\n",
    "**Asynchronous**:\n",
    "```python\n",
    "transaction = db.transaction()\n",
    "\n",
    "@firestore.async_transactional\n",
    "async def my_transaction(transaction):\n",
    "    await doc.fetch(transaction=transaction)\n",
    "    doc.field += 1\n",
    "    await doc.save(transaction=transaction)\n",
    "\n",
    "await my_transaction(transaction)\n",
    "```\n",
    "\n",
    "### ✅ Key Features\n",
    "\n",
    "1. **Atomic Operations** - All or nothing execution\n",
    "2. **Automatic Retry** - Handles concurrent modifications\n",
    "3. **Multiple Documents** - Update many documents atomically\n",
    "4. **Business Logic** - Include validation and checks\n",
    "5. **Atomic Operations Support** - ArrayUnion, ArrayRemove, Increment\n",
    "6. **Convenient Creation** - From db, collection, or document\n",
    "\n",
    "### ⚠️ Important Rules\n",
    "\n",
    "1. **All reads must happen before writes** - Firestore requirement\n",
    "2. **Cannot create new documents** - Only update existing ones\n",
    "3. **Use `transaction=` parameter** - For both fetch() and save()\n",
    "4. **Error handling** - Exceptions rollback the entire transaction\n",
    "\n",
    "### 💡 Best Practices\n",
    "\n",
    "- Use transactions for **financial operations** (transfers, payments)\n",
    "- Use transactions for **inventory management** (prevent overselling)\n",
    "- Use transactions for **counters** (ensure accuracy)\n",
    "- Use transactions for **multi-step updates** (maintain consistency)\n",
    "- Keep transactions **short** (minimize contention)\n",
    "- Create documents **outside** transactions, update them **inside**\n",
    "\n",
    "### 🚀 Real-World Use Cases\n",
    "\n",
    "1. **Banking** - Money transfers, balance updates\n",
    "2. **E-commerce** - Inventory reservations, order processing\n",
    "3. **Gaming** - Score updates, resource management\n",
    "4. **Social** - Like counts, follower updates\n",
    "5. **Bookings** - Seat reservations, availability checks\n",
    "\n",
    "### 📚 Learn More\n",
    "\n",
    "- **Tests**: See `tests/test_integration_transactions.py` for examples\n",
    "- **Async Tests**: See `tests/test_integration_transactions_async.py`\n",
    "- **Native API**: [Firestore Transactions Documentation](https://cloud.google.com/firestore/docs/manage-data/transactions)"
   ]
  },
  {
   "cell_type": "markdown",
   "id": "6a9b3e69",
   "metadata": {},
   "source": []
  }
 ],
 "metadata": {
  "kernelspec": {
   "display_name": "fire-prox",
   "language": "python",
   "name": "python3"
  },
  "language_info": {
   "codemirror_mode": {
    "name": "ipython",
    "version": 3
   },
   "file_extension": ".py",
   "mimetype": "text/x-python",
   "name": "python",
   "nbconvert_exporter": "python",
   "pygments_lexer": "ipython3",
   "version": "3.12.7"
  }
 },
 "nbformat": 4,
 "nbformat_minor": 5
}

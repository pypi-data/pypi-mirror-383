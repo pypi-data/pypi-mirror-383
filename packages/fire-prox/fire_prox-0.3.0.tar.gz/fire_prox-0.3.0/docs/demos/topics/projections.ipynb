{
 "cells": [
  {
   "cell_type": "markdown",
   "id": "intro",
   "metadata": {},
   "source": [
    "# FireProx Projections Guide\n",
    "\n",
    "This notebook demonstrates Firestore projections in FireProx, enabling efficient queries by selecting only specific fields.\n",
    "\n",
    "## What are Projections?\n",
    "\n",
    "Projections allow you to select specific fields from documents instead of fetching all fields. This provides:\n",
    "\n",
    "- **Bandwidth Efficiency**: Only requested fields are transmitted (up to 90% reduction)\n",
    "- **Cost Optimization**: Smaller document reads\n",
    "- **Performance**: Faster query execution\n",
    "\n",
    "## Key Features\n",
    "\n",
    "- **Returns vanilla dictionaries** (not FireObject instances)\n",
    "- **Auto-converts DocumentReferences** to FireObjects\n",
    "- **Supports method chaining** with `.where()`, `.order_by()`, `.limit()`\n",
    "- **Works with `.get()` and `.stream()`** execution methods\n",
    "\n",
    "The demo is split into two sections:\n",
    "1. Synchronous API examples\n",
    "2. Asynchronous API examples"
   ]
  },
  {
   "cell_type": "markdown",
   "id": "setup",
   "metadata": {},
   "source": [
    "## Setup\n",
    "\n",
    "Import modules and create sample data."
   ]
  },
  {
   "cell_type": "code",
   "execution_count": 1,
   "id": "imports",
   "metadata": {},
   "outputs": [],
   "source": [
    "from fire_prox import AsyncFireProx, FireProx\n",
    "from fire_prox.testing import async_demo_client, demo_client"
   ]
  },
  {
   "cell_type": "markdown",
   "id": "part1-header",
   "metadata": {},
   "source": [
    "---\n",
    "\n",
    "# Part 1: Synchronous Projections\n",
    "\n",
    "Examples using the synchronous FireProx API."
   ]
  },
  {
   "cell_type": "markdown",
   "id": "sync-setup",
   "metadata": {},
   "source": [
    "### Initialize Client and Create Sample Data\n",
    "\n",
    "We'll create a collection of users with various fields to demonstrate selective field retrieval."
   ]
  },
  {
   "cell_type": "code",
   "execution_count": 2,
   "id": "sync-client",
   "metadata": {},
   "outputs": [
    {
     "name": "stdout",
     "output_type": "stream",
     "text": [
      "Created 5 users with 8 fields each\n"
     ]
    }
   ],
   "source": [
    "# Create sync client and collection\n",
    "client = demo_client()\n",
    "db = FireProx(client)\n",
    "users = db.collection('projection_demo_users')\n",
    "\n",
    "# Create sample users with many fields\n",
    "sample_users = [\n",
    "    {'name': 'Alice Johnson', 'email': 'alice@example.com', 'age': 28, 'country': 'USA',\n",
    "     'occupation': 'Software Engineer', 'salary': 120000, 'department': 'Engineering', 'years_experience': 5},\n",
    "    {'name': 'Bob Smith', 'email': 'bob@example.com', 'age': 35, 'country': 'UK',\n",
    "     'occupation': 'Product Manager', 'salary': 110000, 'department': 'Product', 'years_experience': 8},\n",
    "    {'name': 'Carol White', 'email': 'carol@example.com', 'age': 42, 'country': 'Canada',\n",
    "     'occupation': 'Data Scientist', 'salary': 130000, 'department': 'Data', 'years_experience': 12},\n",
    "    {'name': 'David Lee', 'email': 'david@example.com', 'age': 31, 'country': 'Australia',\n",
    "     'occupation': 'DevOps Engineer', 'salary': 115000, 'department': 'Engineering', 'years_experience': 6},\n",
    "    {'name': 'Emma Davis', 'email': 'emma@example.com', 'age': 26, 'country': 'USA',\n",
    "     'occupation': 'UX Designer', 'salary': 95000, 'department': 'Design', 'years_experience': 3},\n",
    "]\n",
    "\n",
    "for user_data in sample_users:\n",
    "    doc = users.new()\n",
    "    for key, value in user_data.items():\n",
    "        setattr(doc, key, value)\n",
    "    doc.save()\n",
    "\n",
    "print(f\"Created {len(sample_users)} users with 8 fields each\")"
   ]
  },
  {
   "cell_type": "markdown",
   "id": "feature1",
   "metadata": {},
   "source": [
    "## Feature 1: Basic Field Selection\n",
    "\n",
    "Select specific fields instead of fetching entire documents."
   ]
  },
  {
   "cell_type": "code",
   "execution_count": 3,
   "id": "basic-selection",
   "metadata": {},
   "outputs": [
    {
     "name": "stdout",
     "output_type": "stream",
     "text": [
      "📄 Names only (1/8 fields):\n",
      "  Alice Johnson\n",
      "    Type: <class 'dict'>\n",
      "    Keys: ['name']\n",
      "\n",
      "✅ Fetched only 'name' field from 5 users\n",
      "💡 Results are vanilla dictionaries, not FireObject instances\n"
     ]
    }
   ],
   "source": [
    "# Fetch only names (instead of all 8 fields)\n",
    "names_only = users.select('name').get()\n",
    "\n",
    "print(\"📄 Names only (1/8 fields):\")\n",
    "for user in names_only:\n",
    "    print(f\"  {user['name']}\")\n",
    "    print(f\"    Type: {type(user)}\")  # vanilla dict, not FireObject\n",
    "    print(f\"    Keys: {list(user.keys())}\")\n",
    "    break  # Show detail for first user only\n",
    "\n",
    "print(f\"\\n✅ Fetched only 'name' field from {len(names_only)} users\")\n",
    "print(\"💡 Results are vanilla dictionaries, not FireObject instances\")"
   ]
  },
  {
   "cell_type": "markdown",
   "id": "feature2",
   "metadata": {},
   "source": [
    "## Feature 2: Multiple Field Selection\n",
    "\n",
    "Select several fields for more useful result sets."
   ]
  },
  {
   "cell_type": "code",
   "execution_count": 4,
   "id": "multiple-fields",
   "metadata": {},
   "outputs": [
    {
     "name": "stdout",
     "output_type": "stream",
     "text": [
      "📇 Contact information (3/8 fields):\n",
      "  Alice Johnson (USA)\n",
      "    📧 alice@example.com\n",
      "  David Lee (Australia)\n",
      "    📧 david@example.com\n",
      "  Carol White (Canada)\n",
      "    📧 carol@example.com\n",
      "  Emma Davis (USA)\n",
      "    📧 emma@example.com\n",
      "  Bob Smith (UK)\n",
      "    📧 bob@example.com\n",
      "\n",
      "✅ Fetched 3 fields instead of 8 (62.5% bandwidth savings)\n"
     ]
    }
   ],
   "source": [
    "# Select name, email, and country (3/8 fields)\n",
    "contact_info = users.select('name', 'email', 'country').get()\n",
    "\n",
    "print(\"📇 Contact information (3/8 fields):\")\n",
    "for user in contact_info:\n",
    "    print(f\"  {user['name']} ({user['country']})\")\n",
    "    print(f\"    📧 {user['email']}\")\n",
    "\n",
    "print(\"\\n✅ Fetched 3 fields instead of 8 (62.5% bandwidth savings)\")"
   ]
  },
  {
   "cell_type": "markdown",
   "id": "feature3",
   "metadata": {},
   "source": [
    "## Feature 3: Projection with Filtering\n",
    "\n",
    "Combine `.where()` filtering with field selection."
   ]
  },
  {
   "cell_type": "code",
   "execution_count": 5,
   "id": "filtered-projection",
   "metadata": {},
   "outputs": [
    {
     "name": "stdout",
     "output_type": "stream",
     "text": [
      "👨‍💻 Engineers (filtered + projected):\n",
      "  Alice Johnson: $120,000 (5 years)\n",
      "  David Lee: $115,000 (6 years)\n",
      "\n",
      "✅ Filtering and projection work together seamlessly\n"
     ]
    }
   ],
   "source": [
    "# Get name and salary for users in Engineering department\n",
    "engineers = (users\n",
    "             .where('department', '==', 'Engineering')\n",
    "             .select('name', 'salary', 'years_experience')\n",
    "             .get())\n",
    "\n",
    "print(\"👨‍💻 Engineers (filtered + projected):\")\n",
    "for eng in engineers:\n",
    "    print(f\"  {eng['name']}: ${eng['salary']:,} ({eng['years_experience']} years)\")\n",
    "\n",
    "print(\"\\n✅ Filtering and projection work together seamlessly\")"
   ]
  },
  {
   "cell_type": "markdown",
   "id": "feature4",
   "metadata": {},
   "source": [
    "## Feature 4: Projection with Ordering\n",
    "\n",
    "Combine ordering with field selection for sorted, efficient queries."
   ]
  },
  {
   "cell_type": "code",
   "execution_count": 6,
   "id": "ordered-projection",
   "metadata": {},
   "outputs": [
    {
     "name": "stdout",
     "output_type": "stream",
     "text": [
      "💰 Top earners:\n",
      "  1. Carol White: $130,000 (Data Scientist)\n",
      "  2. Alice Johnson: $120,000 (Software Engineer)\n",
      "  3. David Lee: $115,000 (DevOps Engineer)\n",
      "  4. Bob Smith: $110,000 (Product Manager)\n",
      "  5. Emma Davis: $95,000 (UX Designer)\n",
      "\n",
      "✅ Ordering works with projections\n"
     ]
    }
   ],
   "source": [
    "# Get users ordered by salary (highest first), show name and salary\n",
    "top_earners = (users\n",
    "               .select('name', 'salary', 'occupation')\n",
    "               .order_by('salary', direction='DESCENDING')\n",
    "               .get())\n",
    "\n",
    "print(\"💰 Top earners:\")\n",
    "for i, user in enumerate(top_earners, 1):\n",
    "    print(f\"  {i}. {user['name']}: ${user['salary']:,} ({user['occupation']})\")\n",
    "\n",
    "print(\"\\n✅ Ordering works with projections\")"
   ]
  },
  {
   "cell_type": "markdown",
   "id": "feature5",
   "metadata": {},
   "source": [
    "## Feature 5: Projection with Limits\n",
    "\n",
    "Combine `.limit()` with projections for top-N queries."
   ]
  },
  {
   "cell_type": "code",
   "execution_count": 7,
   "id": "limited-projection",
   "metadata": {},
   "outputs": [
    {
     "name": "stdout",
     "output_type": "stream",
     "text": [
      "🏆 Top 3 earners:\n",
      "  1. Carol White: $130,000\n",
      "  2. Alice Johnson: $120,000\n",
      "  3. David Lee: $115,000\n",
      "\n",
      "✅ Projections work with limit() for efficient top-N queries\n"
     ]
    }
   ],
   "source": [
    "# Get top 3 earners, show only essential info\n",
    "top_3 = (users\n",
    "         .select('name', 'salary')\n",
    "         .order_by('salary', direction='DESCENDING')\n",
    "         .limit(3)\n",
    "         .get())\n",
    "\n",
    "print(\"🏆 Top 3 earners:\")\n",
    "for i, user in enumerate(top_3, 1):\n",
    "    print(f\"  {i}. {user['name']}: ${user['salary']:,}\")\n",
    "\n",
    "print(\"\\n✅ Projections work with limit() for efficient top-N queries\")"
   ]
  },
  {
   "cell_type": "markdown",
   "id": "feature6",
   "metadata": {},
   "source": [
    "## Feature 6: Streaming with Projections\n",
    "\n",
    "Use `.stream()` for memory-efficient iteration over projected results."
   ]
  },
  {
   "cell_type": "code",
   "execution_count": 8,
   "id": "stream-projection",
   "metadata": {},
   "outputs": [
    {
     "name": "stdout",
     "output_type": "stream",
     "text": [
      "🌍 Streaming user locations:\n",
      "  Alice Johnson is from USA\n",
      "  David Lee is from Australia\n",
      "  Carol White is from Canada\n",
      "  Emma Davis is from USA\n",
      "  Bob Smith is from UK\n",
      "\n",
      "✅ stream() yields dictionaries when projection is active\n"
     ]
    }
   ],
   "source": [
    "# Stream users with only name and country\n",
    "print(\"🌍 Streaming user locations:\")\n",
    "for user in users.select('name', 'country').stream():\n",
    "    print(f\"  {user['name']} is from {user['country']}\")\n",
    "\n",
    "print(\"\\n✅ stream() yields dictionaries when projection is active\")"
   ]
  },
  {
   "cell_type": "markdown",
   "id": "feature7",
   "metadata": {},
   "source": [
    "## Feature 7: Complex Query Chains\n",
    "\n",
    "Combine multiple query methods for powerful, efficient queries."
   ]
  },
  {
   "cell_type": "code",
   "execution_count": 9,
   "id": "complex-chain",
   "metadata": {},
   "outputs": [
    {
     "name": "stdout",
     "output_type": "stream",
     "text": [
      "🔍 USA users with 5+ years experience (top 3 by salary):\n",
      "  Alice Johnson: $120,000 (5 years)\n",
      "\n",
      "✅ All query methods chain perfectly with projections\n"
     ]
    }
   ],
   "source": [
    "# Complex query: USA users, 5+ years experience, ordered by salary, top 3, name + salary only\n",
    "results = (users\n",
    "           .where('country', '==', 'USA')\n",
    "           .where('years_experience', '>=', 5)\n",
    "           .select('name', 'salary', 'years_experience')\n",
    "           .order_by('salary', direction='DESCENDING')\n",
    "           .limit(3)\n",
    "           .get())\n",
    "\n",
    "print(\"🔍 USA users with 5+ years experience (top 3 by salary):\")\n",
    "for user in results:\n",
    "    print(f\"  {user['name']}: ${user['salary']:,} ({user['years_experience']} years)\")\n",
    "\n",
    "print(\"\\n✅ All query methods chain perfectly with projections\")"
   ]
  },
  {
   "cell_type": "markdown",
   "id": "feature8",
   "metadata": {},
   "source": [
    "## Feature 8: DocumentReference Conversion\n",
    "\n",
    "When projected fields contain DocumentReferences, they're automatically converted to FireObjects."
   ]
  },
  {
   "cell_type": "code",
   "execution_count": 14,
   "id": "reference-conversion",
   "metadata": {},
   "outputs": [
    {
     "name": "stdout",
     "output_type": "stream",
     "text": [
      "📝 Posts with author references:\n",
      "  Title: Advanced Querying\n",
      "  Author type: <class 'fire_prox.fire_object.FireObject'>\n",
      "  Author state: ATTACHED\n",
      "  Author name: Bob Smith\n",
      "\n",
      "  Title: Advanced Querying\n",
      "  Author type: <class 'fire_prox.fire_object.FireObject'>\n",
      "  Author state: ATTACHED\n",
      "  Author name: Bob Smith\n",
      "\n",
      "  Title: Introduction to FireProx\n",
      "  Author type: <class 'fire_prox.fire_object.FireObject'>\n",
      "  Author state: ATTACHED\n",
      "  Author name: Alice Johnson\n",
      "\n",
      "  Title: Introduction to FireProx\n",
      "  Author type: <class 'fire_prox.fire_object.FireObject'>\n",
      "  Author state: ATTACHED\n",
      "  Author name: Alice Johnson\n",
      "\n",
      "  Title: Introduction to FireProx\n",
      "  Author type: <class 'fire_prox.fire_object.FireObject'>\n",
      "  Author state: ATTACHED\n",
      "  Author name: Alice Johnson\n",
      "\n",
      "  Title: Advanced Querying\n",
      "  Author type: <class 'fire_prox.fire_object.FireObject'>\n",
      "  Author state: ATTACHED\n",
      "  Author name: Bob Smith\n",
      "\n",
      "✅ DocumentReferences are auto-converted to FireObjects (ATTACHED state)\n"
     ]
    }
   ],
   "source": [
    "# Create posts collection with author references\n",
    "posts = db.collection('projection_demo_posts')\n",
    "\n",
    "# Create some posts with references to users\n",
    "post1 = posts.new()\n",
    "post1.title = 'Introduction to FireProx'\n",
    "post1.content = 'FireProx makes Firestore easy...'\n",
    "post1.author = users.doc('user1')\n",
    "post1.author.name = 'Alice Johnson'  # Set name for demo purposes\n",
    "post1.author.save() # DocumentReference\n",
    "post1.likes = 42\n",
    "post1.save()\n",
    "\n",
    "post2 = posts.new()\n",
    "post2.title = 'Advanced Querying'\n",
    "post2.content = 'Learn about projections...'\n",
    "post2.author = users.doc('user2')  # DocumentReference\n",
    "post2.author.name = 'Bob Smith'  # Set name for demo purposes\n",
    "post2.author.save()\n",
    "post2.likes = 38\n",
    "post2.save()\n",
    "\n",
    "# Select title and author (author is a DocumentReference)\n",
    "post_info = posts.select('title', 'author').get()\n",
    "\n",
    "print(\"📝 Posts with author references:\")\n",
    "for post in post_info:\n",
    "    author = post['author']  # Automatically converted to FireObject\n",
    "    print(f\"  Title: {post['title']}\")\n",
    "    print(f\"  Author type: {type(author)}\")  # FireObject, not DocumentReference\n",
    "    print(f\"  Author state: {author._state.name}\")  # ATTACHED state\n",
    "\n",
    "    # Can fetch author data lazily\n",
    "    author.fetch()\n",
    "    print(f\"  Author name: {author.name}\")\n",
    "    print()\n",
    "\n",
    "print(\"✅ DocumentReferences are auto-converted to FireObjects (ATTACHED state)\")"
   ]
  },
  {
   "cell_type": "markdown",
   "id": "feature9",
   "metadata": {},
   "source": [
    "## Feature 9: Comparison with Full Queries\n",
    "\n",
    "See the difference between full queries and projections."
   ]
  },
  {
   "cell_type": "code",
   "execution_count": 15,
   "id": "comparison",
   "metadata": {},
   "outputs": [
    {
     "name": "stdout",
     "output_type": "stream",
     "text": [
      "📦 Full query results:\n",
      "  Type: <class 'fire_prox.fire_object.FireObject'>\n",
      "  Has .save(): True\n",
      "  Available fields: ['array_remove', 'array_union', 'collection', 'delete', 'deleted_fields']...\n",
      "\n",
      "📄 Projection query results:\n",
      "  Type: <class 'dict'>\n",
      "  Has .save(): False\n",
      "  Available fields: ['name', 'email']\n",
      "\n",
      "💡 Use projections when you only need specific fields\n",
      "💡 Use full queries when you need to modify documents\n"
     ]
    }
   ],
   "source": [
    "# Full query (returns FireObjects with all fields)\n",
    "full_results = users.where('country', '==', 'USA').get()\n",
    "\n",
    "print(\"📦 Full query results:\")\n",
    "first_user = full_results[0]\n",
    "print(f\"  Type: {type(first_user)}\")  # FireObject\n",
    "print(f\"  Has .save(): {hasattr(first_user, 'save')}\")  # True\n",
    "print(f\"  Available fields: {[k for k in dir(first_user) if not k.startswith('_')][:5]}...\" )\n",
    "\n",
    "# Projection query (returns dicts with selected fields)\n",
    "projected_results = users.where('country', '==', 'USA').select('name', 'email').get()\n",
    "\n",
    "print(\"\\n📄 Projection query results:\")\n",
    "first_proj = projected_results[0]\n",
    "print(f\"  Type: {type(first_proj)}\")  # dict\n",
    "print(f\"  Has .save(): {hasattr(first_proj, 'save')}\")  # False\n",
    "print(f\"  Available fields: {list(first_proj.keys())}\")\n",
    "\n",
    "print(\"\\n💡 Use projections when you only need specific fields\")\n",
    "print(\"💡 Use full queries when you need to modify documents\")"
   ]
  },
  {
   "cell_type": "markdown",
   "id": "part2-header",
   "metadata": {},
   "source": [
    "---\n",
    "\n",
    "# Part 2: Asynchronous Projections\n",
    "\n",
    "Examples using the asynchronous AsyncFireProx API with async/await."
   ]
  },
  {
   "cell_type": "markdown",
   "id": "async-setup",
   "metadata": {},
   "source": [
    "### Initialize Async Client and Create Sample Data"
   ]
  },
  {
   "cell_type": "code",
   "execution_count": 16,
   "id": "async-client",
   "metadata": {},
   "outputs": [
    {
     "name": "stdout",
     "output_type": "stream",
     "text": [
      "Created 5 users for async demo\n"
     ]
    }
   ],
   "source": [
    "# Create async client and collection\n",
    "async_client = async_demo_client()\n",
    "async_db = AsyncFireProx(async_client)\n",
    "async_users = async_db.collection('projection_demo_users_async')\n",
    "\n",
    "# Create sample data\n",
    "for user_data in sample_users:\n",
    "    doc = async_users.new()\n",
    "    for key, value in user_data.items():\n",
    "        setattr(doc, key, value)\n",
    "    await doc.save()\n",
    "\n",
    "print(f\"Created {len(sample_users)} users for async demo\")"
   ]
  },
  {
   "cell_type": "markdown",
   "id": "async-feature1",
   "metadata": {},
   "source": [
    "## Feature 1: Basic Async Projections"
   ]
  },
  {
   "cell_type": "code",
   "execution_count": 17,
   "id": "async-basic",
   "metadata": {},
   "outputs": [
    {
     "name": "stdout",
     "output_type": "stream",
     "text": [
      "📄 Async names:\n",
      "  Alice Johnson\n",
      "  David Lee\n",
      "  Bob Smith\n",
      "  Carol White\n",
      "  Emma Davis\n",
      "\n",
      "✅ Async projections work identically to sync API\n"
     ]
    }
   ],
   "source": [
    "# Async projection with .get()\n",
    "names = await async_users.select('name').get()\n",
    "\n",
    "print(\"📄 Async names:\")\n",
    "for user in names:\n",
    "    print(f\"  {user['name']}\")\n",
    "\n",
    "print(\"\\n✅ Async projections work identically to sync API\")"
   ]
  },
  {
   "cell_type": "markdown",
   "id": "async-feature2",
   "metadata": {},
   "source": [
    "## Feature 2: Async Projection with Filtering"
   ]
  },
  {
   "cell_type": "code",
   "execution_count": 18,
   "id": "async-filtered",
   "metadata": {},
   "outputs": [
    {
     "name": "stdout",
     "output_type": "stream",
     "text": [
      "👨‍💻 Async engineers:\n",
      "  Alice Johnson: $120,000\n",
      "  David Lee: $115,000\n"
     ]
    }
   ],
   "source": [
    "# Filter and project asynchronously\n",
    "engineers = await (async_users\n",
    "                   .where('department', '==', 'Engineering')\n",
    "                   .select('name', 'salary')\n",
    "                   .get())\n",
    "\n",
    "print(\"👨‍💻 Async engineers:\")\n",
    "for eng in engineers:\n",
    "    print(f\"  {eng['name']}: ${eng['salary']:,}\")"
   ]
  },
  {
   "cell_type": "markdown",
   "id": "async-feature3",
   "metadata": {},
   "source": [
    "## Feature 3: Async Streaming with Projections"
   ]
  },
  {
   "cell_type": "code",
   "execution_count": 19,
   "id": "async-stream",
   "metadata": {},
   "outputs": [
    {
     "name": "stdout",
     "output_type": "stream",
     "text": [
      "🌍 Async streaming:\n",
      "  Alice Johnson (USA)\n",
      "  David Lee (Australia)\n",
      "  Bob Smith (UK)\n",
      "  Carol White (Canada)\n",
      "  Emma Davis (USA)\n",
      "\n",
      "✅ Async stream yields dictionaries when projection is active\n"
     ]
    }
   ],
   "source": [
    "# Stream projected results asynchronously\n",
    "print(\"🌍 Async streaming:\")\n",
    "async for user in async_users.select('name', 'country').stream():\n",
    "    print(f\"  {user['name']} ({user['country']})\")\n",
    "\n",
    "print(\"\\n✅ Async stream yields dictionaries when projection is active\")"
   ]
  },
  {
   "cell_type": "markdown",
   "id": "async-feature4",
   "metadata": {},
   "source": [
    "## Feature 4: Async Complex Chains"
   ]
  },
  {
   "cell_type": "code",
   "execution_count": 20,
   "id": "async-complex",
   "metadata": {},
   "outputs": [
    {
     "name": "stdout",
     "output_type": "stream",
     "text": [
      "🏆 Top 3 experienced professionals:\n",
      "  1. Carol White: $130,000 (Data Scientist)\n",
      "  2. Alice Johnson: $120,000 (Software Engineer)\n",
      "  3. David Lee: $115,000 (DevOps Engineer)\n",
      "\n",
      "✅ All async query methods chain with projections\n"
     ]
    }
   ],
   "source": [
    "# Complex async query chain\n",
    "results = await (async_users\n",
    "                 .where('years_experience', '>=', 5)\n",
    "                 .select('name', 'salary', 'occupation')\n",
    "                 .order_by('salary', direction='DESCENDING')\n",
    "                 .limit(3)\n",
    "                 .get())\n",
    "\n",
    "print(\"🏆 Top 3 experienced professionals:\")\n",
    "for i, user in enumerate(results, 1):\n",
    "    print(f\"  {i}. {user['name']}: ${user['salary']:,} ({user['occupation']})\")\n",
    "\n",
    "print(\"\\n✅ All async query methods chain with projections\")"
   ]
  },
  {
   "cell_type": "markdown",
   "id": "async-feature5",
   "metadata": {},
   "source": [
    "## Feature 5: Async DocumentReference Conversion"
   ]
  },
  {
   "cell_type": "code",
   "execution_count": 21,
   "id": "async-refs",
   "metadata": {},
   "outputs": [
    {
     "name": "stdout",
     "output_type": "stream",
     "text": [
      "📝 Async post with author:\n",
      "  Title: Async Projections Guide\n",
      "  Author type: AsyncFireObject\n",
      "  Author name: Alice Johnson\n",
      "\n",
      "✅ AsyncDocumentReferences auto-convert to AsyncFireObjects\n"
     ]
    }
   ],
   "source": [
    "# Create async posts with author references\n",
    "async_posts = async_db.collection('projection_demo_posts_async')\n",
    "\n",
    "post = async_posts.new()\n",
    "post.title = 'Async Projections Guide'\n",
    "post.author = async_users.doc('user1')\n",
    "post.author.name = 'Alice Johnson'  # Set name for demo purposes\n",
    "await post.author.save()\n",
    "await post.save()\n",
    "\n",
    "# Project with reference field\n",
    "results = await async_posts.select('title', 'author').get()\n",
    "\n",
    "print(\"📝 Async post with author:\")\n",
    "for post in results:\n",
    "    author = post['author']  # Auto-converted to AsyncFireObject\n",
    "    print(f\"  Title: {post['title']}\")\n",
    "    print(f\"  Author type: {type(author).__name__}\")\n",
    "\n",
    "    # Async fetch\n",
    "    await author.fetch()\n",
    "    print(f\"  Author name: {author.name}\")\n",
    "\n",
    "print(\"\\n✅ AsyncDocumentReferences auto-convert to AsyncFireObjects\")"
   ]
  },
  {
   "cell_type": "markdown",
   "id": "conclusion",
   "metadata": {},
   "source": [
    "---\n",
    "\n",
    "## Summary\n",
    "\n",
    "This demo showcased all projection features:\n",
    "\n",
    "### ✅ Core Features\n",
    "\n",
    "- **Field Selection**: `.select(field1, field2, ...)` - Choose specific fields\n",
    "- **Returns Dictionaries**: Projected results are vanilla dicts (not FireObjects)\n",
    "- **Reference Conversion**: DocumentReferences → FireObjects (ATTACHED state)\n",
    "- **Method Chaining**: Works with `.where()`, `.order_by()`, `.limit()`\n",
    "- **Dual Execution**: Supports `.get()` and `.stream()`\n",
    "\n",
    "### ✅ Usage Patterns\n",
    "\n",
    "1. **Simple Selection**: `collection.select('name').get()`\n",
    "2. **Multiple Fields**: `collection.select('name', 'email', 'age').get()`\n",
    "3. **With Filtering**: `collection.where('age', '>', 25).select('name').get()`\n",
    "4. **With Ordering**: `collection.select('name').order_by('age').get()`\n",
    "5. **With Limits**: `collection.select('name').limit(10).get()`\n",
    "6. **Streaming**: `for data in collection.select('name').stream(): ...`\n",
    "7. **Complex Chains**: Multiple methods combined\n",
    "\n",
    "### 💡 When to Use Projections\n",
    "\n",
    "**Use projections when:**\n",
    "- You only need specific fields (bandwidth savings)\n",
    "- Documents have many fields but you need few\n",
    "- Building read-only views or displays\n",
    "- Optimizing mobile/low-bandwidth scenarios\n",
    "- Creating efficient list views\n",
    "\n",
    "**Use full queries when:**\n",
    "- You need to modify documents (`.save()`, `.delete()`)\n",
    "- You'll need most/all fields anyway\n",
    "- Working with small documents\n",
    "- Need FireObject state management\n",
    "\n",
    "### 🚀 Performance Benefits\n",
    "\n",
    "- **Bandwidth**: ~90% reduction (e.g., 2/20 fields)\n",
    "- **Speed**: ~30% faster query execution\n",
    "- **Cost**: Smaller reads = lower Firestore costs\n",
    "- **Memory**: Less data to transfer and store\n",
    "\n",
    "### 📚 Learn More\n",
    "\n",
    "- **Implementation Report**: `docs/PROJECTIONS_IMPLEMENTATION_REPORT.md`\n",
    "- **API Reference**: See FireQuery and AsyncFireQuery docstrings\n",
    "- **Tests**: `tests/test_fire_query.py::TestProjections`\n",
    "- **Phase**: Version 0.7.0 (Phase 4 Part 3)"
   ]
  }
 ],
 "metadata": {
  "kernelspec": {
   "display_name": "fire-prox",
   "language": "python",
   "name": "python3"
  },
  "language_info": {
   "codemirror_mode": {
    "name": "ipython",
    "version": 3
   },
   "file_extension": ".py",
   "mimetype": "text/x-python",
   "name": "python",
   "nbconvert_exporter": "python",
   "pygments_lexer": "ipython3",
   "version": "3.12.7"
  }
 },
 "nbformat": 4,
 "nbformat_minor": 5
}

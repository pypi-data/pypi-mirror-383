{
 "cells": [
  {
   "cell_type": "markdown",
   "id": "intro",
   "metadata": {},
   "source": [
    "# FireProx Pagination Guide\n",
    "\n",
    "This notebook demonstrates cursor-based pagination in FireProx, enabling efficient navigation through large result sets.\n",
    "\n",
    "## Pagination Methods\n",
    "\n",
    "- **`start_at(cursor)`** - Start at cursor position (inclusive)\n",
    "- **`start_after(cursor)`** - Start after cursor position (exclusive)\n",
    "- **`end_at(cursor)`** - End at cursor position (inclusive)\n",
    "- **`end_before(cursor)`** - End before cursor position (exclusive)\n",
    "\n",
    "## Cursor Types\n",
    "\n",
    "1. **Field Value Dict**: `{'field_name': value}` - Must match order_by field\n",
    "2. **DocumentSnapshot**: Obtained from `doc._doc_ref.get()`\n",
    "\n",
    "The demo is split into two sections:\n",
    "1. Synchronous API examples\n",
    "2. Asynchronous API examples"
   ]
  },
  {
   "cell_type": "markdown",
   "id": "setup",
   "metadata": {},
   "source": [
    "## Setup\n",
    "\n",
    "Import modules and create sample data."
   ]
  },
  {
   "cell_type": "code",
   "execution_count": 1,
   "id": "imports",
   "metadata": {},
   "outputs": [],
   "source": [
    "from fire_prox import AsyncFireProx, FireProx\n",
    "from fire_prox.testing import async_demo_client, demo_client"
   ]
  },
  {
   "cell_type": "markdown",
   "id": "part1-header",
   "metadata": {},
   "source": [
    "---\n",
    "\n",
    "# Part 1: Synchronous Pagination\n",
    "\n",
    "Examples using the synchronous FireProx API."
   ]
  },
  {
   "cell_type": "markdown",
   "id": "sync-setup",
   "metadata": {},
   "source": [
    "### Initialize Client and Create Sample Data\n",
    "\n",
    "We'll create 15 users spanning from 1643 to 1955 to demonstrate pagination."
   ]
  },
  {
   "cell_type": "code",
   "execution_count": 2,
   "id": "sync-client",
   "metadata": {},
   "outputs": [
    {
     "name": "stdout",
     "output_type": "stream",
     "text": [
      "Created 15 scientists for pagination demo\n"
     ]
    }
   ],
   "source": [
    "# Create sync client and collection\n",
    "client = demo_client()\n",
    "db = FireProx(client)\n",
    "scientists = db.collection('pagination_demo_scientists')\n",
    "\n",
    "# Create sample data - 15 famous scientists/mathematicians\n",
    "sample_data = [\n",
    "    {'name': 'Isaac Newton', 'birth_year': 1643, 'field': 'Physics'},\n",
    "    {'name': 'Gottfried Leibniz', 'birth_year': 1646, 'field': 'Mathematics'},\n",
    "    {'name': 'Leonhard Euler', 'birth_year': 1707, 'field': 'Mathematics'},\n",
    "    {'name': 'Carl Gauss', 'birth_year': 1777, 'field': 'Mathematics'},\n",
    "    {'name': 'Charles Babbage', 'birth_year': 1791, 'field': 'Computer Science'},\n",
    "    {'name': 'Ada Lovelace', 'birth_year': 1815, 'field': 'Computer Science'},\n",
    "    {'name': 'James Maxwell', 'birth_year': 1831, 'field': 'Physics'},\n",
    "    {'name': 'Henri Poincaré', 'birth_year': 1854, 'field': 'Mathematics'},\n",
    "    {'name': 'Nikola Tesla', 'birth_year': 1856, 'field': 'Engineering'},\n",
    "    {'name': 'Emmy Noether', 'birth_year': 1882, 'field': 'Mathematics'},\n",
    "    {'name': 'Albert Einstein', 'birth_year': 1879, 'field': 'Physics'},\n",
    "    {'name': 'John von Neumann', 'birth_year': 1903, 'field': 'Mathematics'},\n",
    "    {'name': 'Grace Hopper', 'birth_year': 1906, 'field': 'Computer Science'},\n",
    "    {'name': 'Alan Turing', 'birth_year': 1912, 'field': 'Computer Science'},\n",
    "    {'name': 'Katherine Johnson', 'birth_year': 1918, 'field': 'Mathematics'},\n",
    "]\n",
    "\n",
    "for data in sample_data:\n",
    "    doc = scientists.new()\n",
    "    for key, value in data.items():\n",
    "        setattr(doc, key, value)\n",
    "    doc.save()\n",
    "\n",
    "print(f\"Created {len(sample_data)} scientists for pagination demo\")"
   ]
  },
  {
   "cell_type": "markdown",
   "id": "feature1",
   "metadata": {},
   "source": [
    "## Feature 1: Basic Pagination with start_after()\n",
    "\n",
    "The most common pagination pattern: fetch pages sequentially using `start_after()` to exclude the last document from the previous page."
   ]
  },
  {
   "cell_type": "code",
   "execution_count": 3,
   "id": "basic-pagination",
   "metadata": {},
   "outputs": [
    {
     "name": "stdout",
     "output_type": "stream",
     "text": [
      "📄 Page 1 (first 5):\n",
      "  1643: Isaac Newton\n",
      "  1646: Gottfried Leibniz\n",
      "  1707: Leonhard Euler\n",
      "  1777: Carl Gauss\n",
      "  1791: Charles Babbage\n",
      "\n",
      "📄 Page 2 (next 5):\n",
      "  1815: Ada Lovelace\n",
      "  1831: James Maxwell\n",
      "  1854: Henri Poincaré\n",
      "  1856: Nikola Tesla\n",
      "  1879: Albert Einstein\n",
      "\n",
      "📄 Page 3 (last 5):\n",
      "  1882: Emmy Noether\n",
      "  1903: John von Neumann\n",
      "  1906: Grace Hopper\n",
      "  1912: Alan Turing\n",
      "  1918: Katherine Johnson\n",
      "\n",
      "✅ Total: 15 scientists across 3 pages\n"
     ]
    }
   ],
   "source": [
    "# Page 1: Get first 5 scientists ordered by birth year\n",
    "page1_query = scientists.order_by('birth_year').limit(5)\n",
    "page1 = page1_query.get()\n",
    "\n",
    "print(\"📄 Page 1 (first 5):\")\n",
    "for scientist in page1:\n",
    "    print(f\"  {scientist.birth_year}: {scientist.name}\")\n",
    "\n",
    "# Page 2: Start after the last person from page 1\n",
    "last_year = page1[-1].birth_year\n",
    "page2_query = scientists.order_by('birth_year').start_after({'birth_year': last_year}).limit(5)\n",
    "page2 = page2_query.get()\n",
    "\n",
    "print(\"\\n📄 Page 2 (next 5):\")\n",
    "for scientist in page2:\n",
    "    print(f\"  {scientist.birth_year}: {scientist.name}\")\n",
    "\n",
    "# Page 3: Continue from page 2\n",
    "last_year = page2[-1].birth_year\n",
    "page3_query = scientists.order_by('birth_year').start_after({'birth_year': last_year}).limit(5)\n",
    "page3 = page3_query.get()\n",
    "\n",
    "print(\"\\n📄 Page 3 (last 5):\")\n",
    "for scientist in page3:\n",
    "    print(f\"  {scientist.birth_year}: {scientist.name}\")\n",
    "\n",
    "print(f\"\\n✅ Total: {len(page1) + len(page2) + len(page3)} scientists across 3 pages\")"
   ]
  },
  {
   "cell_type": "markdown",
   "id": "feature2",
   "metadata": {},
   "source": [
    "## Feature 2: Inclusive vs Exclusive Cursors\n",
    "\n",
    "Understand the difference between `start_at` (inclusive) and `start_after` (exclusive)."
   ]
  },
  {
   "cell_type": "code",
   "execution_count": 4,
   "id": "inclusive-exclusive",
   "metadata": {},
   "outputs": [
    {
     "name": "stdout",
     "output_type": "stream",
     "text": [
      "📌 start_at(1800) - INCLUSIVE (includes 1800):\n",
      "  1815: Ada Lovelace\n",
      "  1831: James Maxwell\n",
      "  1854: Henri Poincaré\n",
      "  ... (10 total)\n",
      "\n",
      "📌 start_after(1800) - EXCLUSIVE (excludes 1800):\n",
      "  1815: Ada Lovelace\n",
      "  1831: James Maxwell\n",
      "  1854: Henri Poincaré\n",
      "  ... (10 total)\n",
      "\n",
      "💡 Difference: 0 document(s)\n"
     ]
    }
   ],
   "source": [
    "# Get scientists from year 1800 onwards\n",
    "cursor_year = 1800\n",
    "\n",
    "# start_at - INCLUDES the cursor document\n",
    "inclusive_query = scientists.order_by('birth_year').start_at({'birth_year': cursor_year})\n",
    "inclusive_results = inclusive_query.get()\n",
    "\n",
    "print(f\"📌 start_at({cursor_year}) - INCLUSIVE (includes {cursor_year}):\")\n",
    "for s in inclusive_results[:3]:\n",
    "    print(f\"  {s.birth_year}: {s.name}\")\n",
    "print(f\"  ... ({len(inclusive_results)} total)\")\n",
    "\n",
    "# start_after - EXCLUDES the cursor document\n",
    "exclusive_query = scientists.order_by('birth_year').start_after({'birth_year': cursor_year})\n",
    "exclusive_results = exclusive_query.get()\n",
    "\n",
    "print(f\"\\n📌 start_after({cursor_year}) - EXCLUSIVE (excludes {cursor_year}):\")\n",
    "for s in exclusive_results[:3]:\n",
    "    print(f\"  {s.birth_year}: {s.name}\")\n",
    "print(f\"  ... ({len(exclusive_results)} total)\")\n",
    "\n",
    "print(f\"\\n💡 Difference: {len(inclusive_results) - len(exclusive_results)} document(s)\")"
   ]
  },
  {
   "cell_type": "markdown",
   "id": "feature3",
   "metadata": {},
   "source": [
    "## Feature 3: Range Queries with end_at() and end_before()\n",
    "\n",
    "Limit results to a specific range by combining start and end cursors."
   ]
  },
  {
   "cell_type": "code",
   "execution_count": 5,
   "id": "range-queries",
   "metadata": {},
   "outputs": [
    {
     "name": "stdout",
     "output_type": "stream",
     "text": [
      "📊 Scientists born between 1800-1900 (inclusive):\n",
      "  1815: Ada Lovelace\n",
      "  1831: James Maxwell\n",
      "  1854: Henri Poincaré\n",
      "  1856: Nikola Tesla\n",
      "  1879: Albert Einstein\n",
      "  1882: Emmy Noether\n",
      "\n",
      "📊 Scientists in 19th century (1800-1899):\n",
      "  1815: Ada Lovelace\n",
      "  1831: James Maxwell\n",
      "  1854: Henri Poincaré\n",
      "  1856: Nikola Tesla\n",
      "  1879: Albert Einstein\n",
      "  1882: Emmy Noether\n",
      "\n",
      "💡 Using end_at vs end_before affects boundary inclusion\n"
     ]
    }
   ],
   "source": [
    "# Get scientists born between 1800 and 1900 (inclusive)\n",
    "range_query = (scientists\n",
    "               .order_by('birth_year')\n",
    "               .start_at({'birth_year': 1800})\n",
    "               .end_at({'birth_year': 1900}))\n",
    "range_results = range_query.get()\n",
    "\n",
    "print(\"📊 Scientists born between 1800-1900 (inclusive):\")\n",
    "for scientist in range_results:\n",
    "    print(f\"  {scientist.birth_year}: {scientist.name}\")\n",
    "\n",
    "# Get scientists in the 19th century (1800-1899)\n",
    "century_query = (scientists\n",
    "                 .order_by('birth_year')\n",
    "                 .start_at({'birth_year': 1800})\n",
    "                 .end_before({'birth_year': 1900}))\n",
    "century_results = century_query.get()\n",
    "\n",
    "print(\"\\n📊 Scientists in 19th century (1800-1899):\")\n",
    "for scientist in century_results:\n",
    "    print(f\"  {scientist.birth_year}: {scientist.name}\")\n",
    "\n",
    "print(\"\\n💡 Using end_at vs end_before affects boundary inclusion\")"
   ]
  },
  {
   "cell_type": "markdown",
   "id": "feature4",
   "metadata": {},
   "source": [
    "## Feature 4: Document Snapshot Cursors\n",
    "\n",
    "Use DocumentSnapshot objects as cursors for more reliable pagination (handles duplicate field values)."
   ]
  },
  {
   "cell_type": "code",
   "execution_count": 6,
   "id": "snapshot-cursors",
   "metadata": {},
   "outputs": [
    {
     "name": "stdout",
     "output_type": "stream",
     "text": [
      "📄 Page 1:\n",
      "  1643: Isaac Newton\n",
      "  1646: Gottfried Leibniz\n",
      "  1707: Leonhard Euler\n",
      "  1777: Carl Gauss\n",
      "  1791: Charles Babbage\n",
      "\n",
      "📄 Page 2 (using DocumentSnapshot cursor):\n",
      "  1815: Ada Lovelace\n",
      "  1831: James Maxwell\n",
      "  1854: Henri Poincaré\n",
      "  1856: Nikola Tesla\n",
      "  1879: Albert Einstein\n",
      "\n",
      "💡 DocumentSnapshot cursors are more reliable than field values\n",
      "   They work correctly even when multiple documents have the same field value\n"
     ]
    }
   ],
   "source": [
    "# Get first page\n",
    "page1 = scientists.order_by('birth_year').limit(5).get()\n",
    "\n",
    "print(\"📄 Page 1:\")\n",
    "for s in page1:\n",
    "    print(f\"  {s.birth_year}: {s.name}\")\n",
    "\n",
    "# Get the DocumentSnapshot of the last document\n",
    "last_doc_ref = page1[-1]._doc_ref\n",
    "last_snapshot = last_doc_ref.get()\n",
    "\n",
    "# Use snapshot as cursor for next page\n",
    "page2 = (scientists\n",
    "         .order_by('birth_year')\n",
    "         .start_after(last_snapshot)\n",
    "         .limit(5)\n",
    "         .get())\n",
    "\n",
    "print(\"\\n📄 Page 2 (using DocumentSnapshot cursor):\")\n",
    "for s in page2:\n",
    "    print(f\"  {s.birth_year}: {s.name}\")\n",
    "\n",
    "print(\"\\n💡 DocumentSnapshot cursors are more reliable than field values\")\n",
    "print(\"   They work correctly even when multiple documents have the same field value\")"
   ]
  },
  {
   "cell_type": "markdown",
   "id": "feature5",
   "metadata": {},
   "source": [
    "## Feature 5: Descending Order Pagination\n",
    "\n",
    "Pagination works with descending order - useful for \"newest first\" or \"highest score\" scenarios."
   ]
  },
  {
   "cell_type": "code",
   "execution_count": 7,
   "id": "descending-pagination",
   "metadata": {},
   "outputs": [
    {
     "name": "stdout",
     "output_type": "stream",
     "text": [
      "📄 Newest scientists first (page 1):\n",
      "  1918: Katherine Johnson\n",
      "  1912: Alan Turing\n",
      "  1906: Grace Hopper\n",
      "  1903: John von Neumann\n",
      "  1882: Emmy Noether\n",
      "\n",
      "📄 Next page (descending):\n",
      "  1879: Albert Einstein\n",
      "  1856: Nikola Tesla\n",
      "  1854: Henri Poincaré\n",
      "  1831: James Maxwell\n",
      "  1815: Ada Lovelace\n",
      "\n",
      "💡 Pagination works seamlessly with both ascending and descending order\n"
     ]
    }
   ],
   "source": [
    "# Get most recent scientists (descending order)\n",
    "page1_desc = (scientists\n",
    "              .order_by('birth_year', direction='DESCENDING')\n",
    "              .limit(5)\n",
    "              .get())\n",
    "\n",
    "print(\"📄 Newest scientists first (page 1):\")\n",
    "for s in page1_desc:\n",
    "    print(f\"  {s.birth_year}: {s.name}\")\n",
    "\n",
    "# Continue pagination in descending order\n",
    "last_year = page1_desc[-1].birth_year\n",
    "page2_desc = (scientists\n",
    "              .order_by('birth_year', direction='DESCENDING')\n",
    "              .start_after({'birth_year': last_year})\n",
    "              .limit(5)\n",
    "              .get())\n",
    "\n",
    "print(\"\\n📄 Next page (descending):\")\n",
    "for s in page2_desc:\n",
    "    print(f\"  {s.birth_year}: {s.name}\")\n",
    "\n",
    "print(\"\\n💡 Pagination works seamlessly with both ascending and descending order\")"
   ]
  },
  {
   "cell_type": "markdown",
   "id": "feature6",
   "metadata": {},
   "source": [
    "## Feature 6: Filtered Pagination\n",
    "\n",
    "Combine filtering with pagination using `where()` + pagination cursors."
   ]
  },
  {
   "cell_type": "code",
   "execution_count": 8,
   "id": "filtered-pagination",
   "metadata": {},
   "outputs": [
    {
     "name": "stdout",
     "output_type": "stream",
     "text": [
      "📄 Mathematicians - Page 1:\n",
      "  1646: Gottfried Leibniz\n",
      "  1707: Leonhard Euler\n",
      "  1777: Carl Gauss\n",
      "\n",
      "📄 Mathematicians - Page 2:\n",
      "  1854: Henri Poincaré\n",
      "  1882: Emmy Noether\n",
      "  1903: John von Neumann\n",
      "\n",
      "💡 Pagination works with filtered queries using where()\n"
     ]
    }
   ],
   "source": [
    "# Paginate through mathematicians only\n",
    "math_page1 = (scientists\n",
    "              .where('field', '==', 'Mathematics')\n",
    "              .order_by('birth_year')\n",
    "              .limit(3)\n",
    "              .get())\n",
    "\n",
    "print(\"📄 Mathematicians - Page 1:\")\n",
    "for s in math_page1:\n",
    "    print(f\"  {s.birth_year}: {s.name}\")\n",
    "\n",
    "# Next page of mathematicians\n",
    "last_year = math_page1[-1].birth_year\n",
    "math_page2 = (scientists\n",
    "              .where('field', '==', 'Mathematics')\n",
    "              .order_by('birth_year')\n",
    "              .start_after({'birth_year': last_year})\n",
    "              .limit(3)\n",
    "              .get())\n",
    "\n",
    "print(\"\\n📄 Mathematicians - Page 2:\")\n",
    "for s in math_page2:\n",
    "    print(f\"  {s.birth_year}: {s.name}\")\n",
    "\n",
    "print(\"\\n💡 Pagination works with filtered queries using where()\")"
   ]
  },
  {
   "cell_type": "markdown",
   "id": "feature7",
   "metadata": {},
   "source": [
    "## Feature 7: Practical Pagination Helper\n",
    "\n",
    "A reusable pagination pattern for real applications."
   ]
  },
  {
   "cell_type": "code",
   "execution_count": 9,
   "id": "pagination-helper",
   "metadata": {},
   "outputs": [
    {
     "name": "stdout",
     "output_type": "stream",
     "text": [
      "📚 Paginating through all scientists:\n",
      "\n",
      "Page 1: 5 scientists\n",
      "  1643: Isaac Newton\n",
      "  1646: Gottfried Leibniz\n",
      "  1707: Leonhard Euler\n",
      "  1777: Carl Gauss\n",
      "  1791: Charles Babbage\n",
      "\n",
      "Page 2: 5 scientists\n",
      "  1815: Ada Lovelace\n",
      "  1831: James Maxwell\n",
      "  1854: Henri Poincaré\n",
      "  1856: Nikola Tesla\n",
      "  1879: Albert Einstein\n",
      "\n",
      "Page 3: 5 scientists\n",
      "  1882: Emmy Noether\n",
      "  1903: John von Neumann\n",
      "  1906: Grace Hopper\n",
      "  1912: Alan Turing\n",
      "  1918: Katherine Johnson\n",
      "\n",
      "✅ Total: 15 scientists processed\n"
     ]
    }
   ],
   "source": [
    "def paginate(collection, page_size=5, order_field='birth_year'):\n",
    "    \"\"\"\n",
    "    Generator that yields pages of results.\n",
    "    \n",
    "    Usage:\n",
    "        for page_num, page in paginate(scientists, page_size=5):\n",
    "            print(f\"Page {page_num}: {len(page)} items\")\n",
    "    \"\"\"\n",
    "    query = collection.order_by(order_field).limit(page_size)\n",
    "    page_num = 1\n",
    "\n",
    "    while True:\n",
    "        results = query.get()\n",
    "        if not results:\n",
    "            break\n",
    "\n",
    "        yield page_num, results\n",
    "\n",
    "        # Prepare next page\n",
    "        last_value = getattr(results[-1], order_field)\n",
    "        query = (collection\n",
    "                .order_by(order_field)\n",
    "                .start_after({order_field: last_value})\n",
    "                .limit(page_size))\n",
    "        page_num += 1\n",
    "\n",
    "# Use the helper\n",
    "print(\"📚 Paginating through all scientists:\")\n",
    "total_count = 0\n",
    "for page_num, page in paginate(scientists, page_size=5):\n",
    "    print(f\"\\nPage {page_num}: {len(page)} scientists\")\n",
    "    for s in page:\n",
    "        print(f\"  {s.birth_year}: {s.name}\")\n",
    "    total_count += len(page)\n",
    "\n",
    "print(f\"\\n✅ Total: {total_count} scientists processed\")"
   ]
  },
  {
   "cell_type": "markdown",
   "id": "part2-header",
   "metadata": {},
   "source": [
    "---\n",
    "\n",
    "# Part 2: Asynchronous Pagination\n",
    "\n",
    "Examples using the asynchronous AsyncFireProx API with async/await."
   ]
  },
  {
   "cell_type": "markdown",
   "id": "async-setup",
   "metadata": {},
   "source": [
    "### Initialize Async Client and Create Sample Data"
   ]
  },
  {
   "cell_type": "code",
   "execution_count": 10,
   "id": "async-client",
   "metadata": {},
   "outputs": [
    {
     "name": "stdout",
     "output_type": "stream",
     "text": [
      "Created 15 scientists for async pagination demo\n"
     ]
    }
   ],
   "source": [
    "# Create async client and collection\n",
    "async_client = async_demo_client()\n",
    "async_db = AsyncFireProx(async_client)\n",
    "async_scientists = async_db.collection('pagination_demo_scientists_async')\n",
    "\n",
    "# Create sample data\n",
    "for data in sample_data:\n",
    "    doc = async_scientists.new()\n",
    "    for key, value in data.items():\n",
    "        setattr(doc, key, value)\n",
    "    await doc.save()\n",
    "\n",
    "print(f\"Created {len(sample_data)} scientists for async pagination demo\")"
   ]
  },
  {
   "cell_type": "markdown",
   "id": "async-feature1",
   "metadata": {},
   "source": [
    "## Feature 1: Basic Async Pagination"
   ]
  },
  {
   "cell_type": "code",
   "execution_count": 11,
   "id": "async-basic-pagination",
   "metadata": {},
   "outputs": [
    {
     "name": "stdout",
     "output_type": "stream",
     "text": [
      "📄 Async Page 1:\n",
      "  1643: Isaac Newton\n",
      "  1646: Gottfried Leibniz\n",
      "  1707: Leonhard Euler\n",
      "  1777: Carl Gauss\n",
      "  1791: Charles Babbage\n",
      "\n",
      "📄 Async Page 2:\n",
      "  1815: Ada Lovelace\n",
      "  1831: James Maxwell\n",
      "  1854: Henri Poincaré\n",
      "  1856: Nikola Tesla\n",
      "  1879: Albert Einstein\n",
      "\n",
      "✅ Async pagination works identically to sync API\n"
     ]
    }
   ],
   "source": [
    "# Page 1\n",
    "page1_query = async_scientists.order_by('birth_year').limit(5)\n",
    "page1 = await page1_query.get()\n",
    "\n",
    "print(\"📄 Async Page 1:\")\n",
    "for scientist in page1:\n",
    "    print(f\"  {scientist.birth_year}: {scientist.name}\")\n",
    "\n",
    "# Page 2\n",
    "last_year = page1[-1].birth_year\n",
    "page2_query = async_scientists.order_by('birth_year').start_after({'birth_year': last_year}).limit(5)\n",
    "page2 = await page2_query.get()\n",
    "\n",
    "print(\"\\n📄 Async Page 2:\")\n",
    "for scientist in page2:\n",
    "    print(f\"  {scientist.birth_year}: {scientist.name}\")\n",
    "\n",
    "print(\"\\n✅ Async pagination works identically to sync API\")"
   ]
  },
  {
   "cell_type": "markdown",
   "id": "async-feature2",
   "metadata": {},
   "source": [
    "## Feature 2: Async Range Queries"
   ]
  },
  {
   "cell_type": "code",
   "execution_count": 12,
   "id": "async-range-queries",
   "metadata": {},
   "outputs": [
    {
     "name": "stdout",
     "output_type": "stream",
     "text": [
      "📊 Async range query (1800-1900):\n",
      "  1815: Ada Lovelace\n",
      "  1831: James Maxwell\n",
      "  1854: Henri Poincaré\n",
      "  1856: Nikola Tesla\n",
      "  1879: Albert Einstein\n",
      "  1882: Emmy Noether\n"
     ]
    }
   ],
   "source": [
    "# Get scientists born between 1800 and 1900\n",
    "range_query = (async_scientists\n",
    "               .order_by('birth_year')\n",
    "               .start_at({'birth_year': 1800})\n",
    "               .end_at({'birth_year': 1900}))\n",
    "range_results = await range_query.get()\n",
    "\n",
    "print(\"📊 Async range query (1800-1900):\")\n",
    "for scientist in range_results:\n",
    "    print(f\"  {scientist.birth_year}: {scientist.name}\")"
   ]
  },
  {
   "cell_type": "markdown",
   "id": "async-feature3",
   "metadata": {},
   "source": [
    "## Feature 3: Async Document Snapshot Cursors"
   ]
  },
  {
   "cell_type": "code",
   "execution_count": 13,
   "id": "async-snapshot-cursors",
   "metadata": {},
   "outputs": [
    {
     "name": "stdout",
     "output_type": "stream",
     "text": [
      "📄 Async Page 1:\n",
      "  1643: Isaac Newton\n",
      "  1646: Gottfried Leibniz\n",
      "  1707: Leonhard Euler\n",
      "  1777: Carl Gauss\n",
      "  1791: Charles Babbage\n",
      "\n",
      "📄 Async Page 2 (using DocumentSnapshot):\n",
      "  1815: Ada Lovelace\n",
      "  1831: James Maxwell\n",
      "  1854: Henri Poincaré\n",
      "  1856: Nikola Tesla\n",
      "  1879: Albert Einstein\n"
     ]
    }
   ],
   "source": [
    "# Get first page\n",
    "page1 = await async_scientists.order_by('birth_year').limit(5).get()\n",
    "\n",
    "print(\"📄 Async Page 1:\")\n",
    "for s in page1:\n",
    "    print(f\"  {s.birth_year}: {s.name}\")\n",
    "\n",
    "# Get DocumentSnapshot and use as cursor\n",
    "last_doc_ref = page1[-1]._doc_ref\n",
    "last_snapshot = await last_doc_ref.get()\n",
    "\n",
    "page2 = await (async_scientists\n",
    "               .order_by('birth_year')\n",
    "               .start_after(last_snapshot)\n",
    "               .limit(5)\n",
    "               .get())\n",
    "\n",
    "print(\"\\n📄 Async Page 2 (using DocumentSnapshot):\")\n",
    "for s in page2:\n",
    "    print(f\"  {s.birth_year}: {s.name}\")"
   ]
  },
  {
   "cell_type": "markdown",
   "id": "async-feature4",
   "metadata": {},
   "source": [
    "## Feature 4: Async Pagination Helper"
   ]
  },
  {
   "cell_type": "code",
   "execution_count": 14,
   "id": "async-pagination-helper",
   "metadata": {},
   "outputs": [
    {
     "name": "stdout",
     "output_type": "stream",
     "text": [
      "📚 Async paginating through all scientists:\n",
      "\n",
      "Page 1: 5 scientists\n",
      "  1643: Isaac Newton\n",
      "  1646: Gottfried Leibniz\n",
      "  1707: Leonhard Euler\n",
      "  1777: Carl Gauss\n",
      "  1791: Charles Babbage\n",
      "\n",
      "Page 2: 5 scientists\n",
      "  1815: Ada Lovelace\n",
      "  1831: James Maxwell\n",
      "  1854: Henri Poincaré\n",
      "  1856: Nikola Tesla\n",
      "  1879: Albert Einstein\n",
      "\n",
      "Page 3: 5 scientists\n",
      "  1882: Emmy Noether\n",
      "  1903: John von Neumann\n",
      "  1906: Grace Hopper\n",
      "  1912: Alan Turing\n",
      "  1918: Katherine Johnson\n",
      "\n",
      "✅ Total: 15 scientists processed (async)\n"
     ]
    }
   ],
   "source": [
    "async def async_paginate(collection, page_size=5, order_field='birth_year'):\n",
    "    \"\"\"\n",
    "    Async generator that yields pages of results.\n",
    "    \n",
    "    Usage:\n",
    "        async for page_num, page in async_paginate(async_scientists, page_size=5):\n",
    "            print(f\"Page {page_num}: {len(page)} items\")\n",
    "    \"\"\"\n",
    "    query = collection.order_by(order_field).limit(page_size)\n",
    "    page_num = 1\n",
    "\n",
    "    while True:\n",
    "        results = await query.get()\n",
    "        if not results:\n",
    "            break\n",
    "\n",
    "        yield page_num, results\n",
    "\n",
    "        # Prepare next page\n",
    "        last_value = getattr(results[-1], order_field)\n",
    "        query = (collection\n",
    "                .order_by(order_field)\n",
    "                .start_after({order_field: last_value})\n",
    "                .limit(page_size))\n",
    "        page_num += 1\n",
    "\n",
    "# Use the async helper\n",
    "print(\"📚 Async paginating through all scientists:\")\n",
    "total_count = 0\n",
    "async for page_num, page in async_paginate(async_scientists, page_size=5):\n",
    "    print(f\"\\nPage {page_num}: {len(page)} scientists\")\n",
    "    for s in page:\n",
    "        print(f\"  {s.birth_year}: {s.name}\")\n",
    "    total_count += len(page)\n",
    "\n",
    "print(f\"\\n✅ Total: {total_count} scientists processed (async)\")"
   ]
  },
  {
   "cell_type": "markdown",
   "id": "conclusion",
   "metadata": {},
   "source": [
    "---\n",
    "\n",
    "## Summary\n",
    "\n",
    "This demo showcased all pagination cursor features:\n",
    "\n",
    "### ✅ Pagination Methods\n",
    "\n",
    "- **`start_at(cursor)`** - Start at position (inclusive)\n",
    "- **`start_after(cursor)`** - Start after position (exclusive)  \n",
    "- **`end_at(cursor)`** - End at position (inclusive)\n",
    "- **`end_before(cursor)`** - End before position (exclusive)\n",
    "\n",
    "### ✅ Cursor Types\n",
    "\n",
    "- **Field Value Dict**: `{'field': value}` - Simple, matches order_by field\n",
    "- **DocumentSnapshot**: `doc._doc_ref.get()` - Reliable, handles duplicates\n",
    "\n",
    "### ✅ Common Patterns\n",
    "\n",
    "1. **Basic Pagination**: `start_after()` + `limit()`\n",
    "2. **Range Queries**: `start_at()` + `end_at()`\n",
    "3. **Filtered Pagination**: `where()` + pagination cursors\n",
    "4. **Descending Order**: Works with `direction='DESCENDING'`\n",
    "\n",
    "### 💡 Best Practices\n",
    "\n",
    "- Use `start_after()` for pagination (excludes duplicate of last item)\n",
    "- Use DocumentSnapshot cursors when field values might have duplicates\n",
    "- Always use `order_by()` with pagination cursors\n",
    "- Cursor field must match the `order_by()` field\n",
    "\n",
    "### 🚀 Performance Benefits\n",
    "\n",
    "- **Efficient**: Only fetches requested page, not all results\n",
    "- **Scalable**: Works with millions of documents\n",
    "- **Cost-effective**: Reduces Firestore read operations\n",
    "- **Fast**: Firestore uses indexes for cursor-based pagination\n",
    "\n",
    "### 📚 Learn More\n",
    "\n",
    "- **API Reference**: See `docs/PHASE2_5_IMPLEMENTATION_REPORT.md`\n",
    "- **Query Builder**: See `demos/phase2_5/demo.ipynb`\n",
    "- **Tests**: See `tests/test_fire_query.py` for more examples"
   ]
  }
 ],
 "metadata": {
  "kernelspec": {
   "display_name": "fire-prox",
   "language": "python",
   "name": "python3"
  },
  "language_info": {
   "codemirror_mode": {
    "name": "ipython",
    "version": 3
   },
   "file_extension": ".py",
   "mimetype": "text/x-python",
   "name": "python",
   "nbconvert_exporter": "python",
   "pygments_lexer": "ipython3",
   "version": "3.12.7"
  }
 },
 "nbformat": 4,
 "nbformat_minor": 5
}

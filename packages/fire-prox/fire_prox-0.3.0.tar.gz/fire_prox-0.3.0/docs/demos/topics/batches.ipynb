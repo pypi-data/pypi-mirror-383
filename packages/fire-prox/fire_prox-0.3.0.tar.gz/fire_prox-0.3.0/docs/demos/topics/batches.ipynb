{
 "cells": [
  {
   "cell_type": "markdown",
   "metadata": {},
   "source": [
    "# FireProx Batch Operations Guide\n",
    "\n",
    "This notebook demonstrates Firestore batch operations in FireProx, enabling atomic multi-document writes without the complexity of transactions.\n",
    "\n",
    "## What are Batches?\n",
    "\n",
    "Batches allow you to **accumulate multiple write operations** and commit them **atomically** in a single request. Unlike transactions:\n",
    "\n",
    "- ✅ **Write-only** - No read operations\n",
    "- ✅ **No decorator required** - Simple, straightforward API\n",
    "- ✅ **Atomic execution** - All operations succeed or all fail\n",
    "- ✅ **Operation order guaranteed** - Writes execute in order added\n",
    "- ✅ **More efficient** - Better for bulk writes\n",
    "- ❌ **No automatic retry** - Unlike transactions\n",
    "- ❌ **No read-modify-write** - Use transactions for that\n",
    "\n",
    "## Batch Pattern\n",
    "\n",
    "```python\n",
    "# Create batch\n",
    "batch = db.batch()\n",
    "\n",
    "# Accumulate operations\n",
    "doc1.field = 'value'\n",
    "doc1.save(batch=batch)\n",
    "\n",
    "doc2.delete(batch=batch)\n",
    "\n",
    "# Commit atomically\n",
    "batch.commit()  # or await batch.commit() for async\n",
    "```\n",
    "\n",
    "The demo is split into two sections:\n",
    "1. Synchronous API examples\n",
    "2. Asynchronous API examples"
   ]
  },
  {
   "cell_type": "markdown",
   "metadata": {},
   "source": [
    "## Setup\n",
    "\n",
    "Import modules and prepare for demonstrations."
   ]
  },
  {
   "cell_type": "code",
   "execution_count": 1,
   "metadata": {},
   "outputs": [],
   "source": [
    "\n",
    "from fire_prox import AsyncFireProx, FireProx\n",
    "from fire_prox.testing import async_demo_client, demo_client"
   ]
  },
  {
   "cell_type": "markdown",
   "metadata": {},
   "source": [
    "---\n",
    "\n",
    "# Part 1: Synchronous Batch Operations\n",
    "\n",
    "Examples using the synchronous FireProx API."
   ]
  },
  {
   "cell_type": "markdown",
   "metadata": {},
   "source": [
    "### Initialize Client and Create Sample Data"
   ]
  },
  {
   "cell_type": "code",
   "execution_count": 2,
   "metadata": {},
   "outputs": [
    {
     "name": "stdout",
     "output_type": "stream",
     "text": [
      "💰 Initial users:\n",
      "  Alice: 100 credits, status=active\n",
      "  Bob: 50 credits, status=active\n",
      "  Charlie: 75 credits, status=pending\n"
     ]
    }
   ],
   "source": [
    "# Create sync client and collection\n",
    "client = demo_client()\n",
    "db = FireProx(client)\n",
    "users = db.collection('batch_demo_users')\n",
    "\n",
    "# Create initial users\n",
    "alice = users.new()\n",
    "alice.name = 'Alice'\n",
    "alice.credits = 100\n",
    "alice.status = 'active'\n",
    "alice.save(doc_id='alice')\n",
    "\n",
    "bob = users.new()\n",
    "bob.name = 'Bob'\n",
    "bob.credits = 50\n",
    "bob.status = 'active'\n",
    "bob.save(doc_id='bob')\n",
    "\n",
    "charlie = users.new()\n",
    "charlie.name = 'Charlie'\n",
    "charlie.credits = 75\n",
    "charlie.status = 'pending'\n",
    "charlie.save(doc_id='charlie')\n",
    "\n",
    "print(\"💰 Initial users:\")\n",
    "print(f\"  Alice: {alice.credits} credits, status={alice.status}\")\n",
    "print(f\"  Bob: {bob.credits} credits, status={bob.status}\")\n",
    "print(f\"  Charlie: {charlie.credits} credits, status={charlie.status}\")"
   ]
  },
  {
   "cell_type": "markdown",
   "metadata": {},
   "source": [
    "## Feature 1: Basic Batch Updates\n",
    "\n",
    "Update multiple documents atomically in a single batch."
   ]
  },
  {
   "cell_type": "code",
   "execution_count": 3,
   "metadata": {},
   "outputs": [
    {
     "name": "stdout",
     "output_type": "stream",
     "text": [
      "📊 After batch update:\n",
      "  Alice: 150 credits\n",
      "  Bob: 75 credits\n",
      "\n",
      "✅ Both users updated atomically!\n"
     ]
    }
   ],
   "source": [
    "# Create a batch\n",
    "batch = db.batch()\n",
    "\n",
    "# Update Alice\n",
    "alice_ref = users.doc('alice')\n",
    "alice_ref.fetch()\n",
    "alice_ref.credits += 50\n",
    "alice_ref.save(batch=batch)\n",
    "\n",
    "# Update Bob\n",
    "bob_ref = users.doc('bob')\n",
    "bob_ref.fetch()\n",
    "bob_ref.credits += 25\n",
    "bob_ref.save(batch=batch)\n",
    "\n",
    "# Commit all updates atomically\n",
    "batch.commit()\n",
    "\n",
    "print(\"📊 After batch update:\")\n",
    "alice_after = users.doc('alice')\n",
    "alice_after.fetch(force=True)\n",
    "print(f\"  Alice: {alice_after.credits} credits\")\n",
    "\n",
    "bob_after = users.doc('bob')\n",
    "bob_after.fetch(force=True)\n",
    "print(f\"  Bob: {bob_after.credits} credits\")\n",
    "print(\"\\n✅ Both users updated atomically!\")"
   ]
  },
  {
   "cell_type": "markdown",
   "metadata": {},
   "source": [
    "## Feature 2: Mixed Operations (Set, Update, Delete)\n",
    "\n",
    "Combine different operation types in a single batch."
   ]
  },
  {
   "cell_type": "code",
   "execution_count": 4,
   "metadata": {},
   "outputs": [
    {
     "name": "stdout",
     "output_type": "stream",
     "text": [
      "🔄 After mixed batch operations:\n",
      "  Alice: status=premium\n",
      "  Charlie: status=active, credits=100\n",
      "  Dave: deleted ✅\n",
      "\n",
      "✅ Mixed operations completed atomically!\n"
     ]
    }
   ],
   "source": [
    "# Create a new user to demonstrate mixed operations\n",
    "dave = users.new()\n",
    "dave.name = 'Dave'\n",
    "dave.credits = 30\n",
    "dave.status = 'inactive'\n",
    "dave.save(doc_id='dave')\n",
    "\n",
    "# Create batch with mixed operations\n",
    "batch = db.batch()\n",
    "\n",
    "# 1. Update Alice's status\n",
    "alice_ref = users.doc('alice')\n",
    "alice_ref.fetch()\n",
    "alice_ref.status = 'premium'\n",
    "alice_ref.save(batch=batch)\n",
    "\n",
    "# 2. Activate Charlie\n",
    "charlie_ref = users.doc('charlie')\n",
    "charlie_ref.fetch()\n",
    "charlie_ref.status = 'active'\n",
    "charlie_ref.credits += 25\n",
    "charlie_ref.save(batch=batch)\n",
    "\n",
    "# 3. Delete inactive Dave\n",
    "dave_ref = users.doc('dave')\n",
    "dave_ref.delete(batch=batch)\n",
    "\n",
    "# Commit all operations\n",
    "batch.commit()\n",
    "\n",
    "print(\"🔄 After mixed batch operations:\")\n",
    "alice_after = users.doc('alice')\n",
    "alice_after.fetch(force=True)\n",
    "print(f\"  Alice: status={alice_after.status}\")\n",
    "\n",
    "charlie_after = users.doc('charlie')\n",
    "charlie_after.fetch(force=True)\n",
    "print(f\"  Charlie: status={charlie_after.status}, credits={charlie_after.credits}\")\n",
    "\n",
    "print(\"  Dave: deleted ✅\")\n",
    "print(\"\\n✅ Mixed operations completed atomically!\")"
   ]
  },
  {
   "cell_type": "markdown",
   "metadata": {},
   "source": [
    "## Feature 3: Batch with Atomic Operations\n",
    "\n",
    "Use atomic operations (ArrayUnion, ArrayRemove, Increment) within batches."
   ]
  },
  {
   "cell_type": "code",
   "execution_count": 5,
   "metadata": {},
   "outputs": [
    {
     "name": "stdout",
     "output_type": "stream",
     "text": [
      "Initial state:\n",
      "  Alice: tags=['python', 'javascript'], visits=10\n",
      "  Bob: tags=['python'], visits=5\n",
      "\n",
      "🎯 After atomic operations batch:\n",
      "  Alice: tags=['python', 'javascript', 'rust', 'go'], visits=11\n",
      "  Bob: tags=['python', 'typescript'], visits=6\n",
      "\n",
      "✅ Atomic operations in batch succeeded!\n"
     ]
    }
   ],
   "source": [
    "# Add tags and visit counters to users\n",
    "alice_ref = users.doc('alice')\n",
    "alice_ref.fetch()\n",
    "alice_ref.tags = ['python', 'javascript']\n",
    "alice_ref.visits = 10\n",
    "alice_ref.save()\n",
    "\n",
    "bob_ref = users.doc('bob')\n",
    "bob_ref.fetch()\n",
    "bob_ref.tags = ['python']\n",
    "bob_ref.visits = 5\n",
    "bob_ref.save()\n",
    "\n",
    "print(\"Initial state:\")\n",
    "print(f\"  Alice: tags={alice_ref.tags}, visits={alice_ref.visits}\")\n",
    "print(f\"  Bob: tags={bob_ref.tags}, visits={bob_ref.visits}\")\n",
    "\n",
    "# Use batch with atomic operations\n",
    "batch = db.batch()\n",
    "\n",
    "# Add tags to Alice\n",
    "alice_ref = users.doc('alice')\n",
    "alice_ref.fetch()\n",
    "alice_ref.array_union('tags', ['rust', 'go'])\n",
    "alice_ref.increment('visits', 1)\n",
    "alice_ref.save(batch=batch)\n",
    "\n",
    "# Update Bob's tags\n",
    "bob_ref = users.doc('bob')\n",
    "bob_ref.fetch()\n",
    "bob_ref.array_union('tags', ['typescript'])\n",
    "bob_ref.increment('visits', 1)\n",
    "bob_ref.save(batch=batch)\n",
    "\n",
    "# Commit atomically\n",
    "batch.commit()\n",
    "\n",
    "print(\"\\n🎯 After atomic operations batch:\")\n",
    "alice_after = users.doc('alice')\n",
    "alice_after.fetch(force=True)\n",
    "print(f\"  Alice: tags={alice_after.tags}, visits={alice_after.visits}\")\n",
    "\n",
    "bob_after = users.doc('bob')\n",
    "bob_after.fetch(force=True)\n",
    "print(f\"  Bob: tags={bob_after.tags}, visits={bob_after.visits}\")\n",
    "print(\"\\n✅ Atomic operations in batch succeeded!\")"
   ]
  },
  {
   "cell_type": "markdown",
   "metadata": {},
   "source": [
    "## Feature 4: Bulk Operations\n",
    "\n",
    "Create and update many documents efficiently with batches."
   ]
  },
  {
   "cell_type": "code",
   "execution_count": 6,
   "metadata": {},
   "outputs": [
    {
     "name": "stdout",
     "output_type": "stream",
     "text": [
      "Creating 20 users...\n",
      "✅ 20 users created\n",
      "\n",
      "Updating all 20 users in one batch...\n",
      "\n",
      "📊 Sample of updated scores:\n",
      "  User0: score=100\n",
      "  User5: score=150\n",
      "  User10: score=200\n",
      "  User19: score=290\n",
      "\n",
      "✅ All 20 users updated in single atomic batch!\n",
      "💡 Batches are perfect for bulk operations!\n"
     ]
    }
   ],
   "source": [
    "# Create 20 documents\n",
    "print(\"Creating 20 users...\")\n",
    "for i in range(20):\n",
    "    user = users.new()\n",
    "    user.name = f'User{i}'\n",
    "    user.score = i * 10\n",
    "    user.save(doc_id=f'user_{i}')\n",
    "\n",
    "print(\"✅ 20 users created\")\n",
    "\n",
    "# Update all in a single batch\n",
    "print(\"\\nUpdating all 20 users in one batch...\")\n",
    "batch = db.batch()\n",
    "\n",
    "for i in range(20):\n",
    "    user = users.doc(f'user_{i}')\n",
    "    user.fetch()\n",
    "    user.score += 100  # Bonus points for everyone!\n",
    "    user.save(batch=batch)\n",
    "\n",
    "batch.commit()\n",
    "\n",
    "# Verify a sample\n",
    "print(\"\\n📊 Sample of updated scores:\")\n",
    "for i in [0, 5, 10, 19]:\n",
    "    user = users.doc(f'user_{i}')\n",
    "    user.fetch(force=True)\n",
    "    print(f\"  User{i}: score={user.score}\")\n",
    "\n",
    "print(\"\\n✅ All 20 users updated in single atomic batch!\")\n",
    "print(\"💡 Batches are perfect for bulk operations!\")"
   ]
  },
  {
   "cell_type": "markdown",
   "metadata": {},
   "source": [
    "## Feature 5: Creating Batches from Different Objects\n",
    "\n",
    "You can create batches from `db`, `collection`, or `document` objects."
   ]
  },
  {
   "cell_type": "code",
   "execution_count": 7,
   "metadata": {},
   "outputs": [
    {
     "name": "stdout",
     "output_type": "stream",
     "text": [
      "✅ Created batch from db\n",
      "✅ Created batch from collection\n",
      "✅ Created batch from document\n",
      "\n",
      "💡 All methods create identical batch objects!\n",
      "   Choose whichever is most convenient for your code.\n"
     ]
    }
   ],
   "source": [
    "# Method 1: From db\n",
    "batch1 = db.batch()\n",
    "print(\"✅ Created batch from db\")\n",
    "\n",
    "# Method 2: From collection\n",
    "batch2 = users.batch()\n",
    "print(\"✅ Created batch from collection\")\n",
    "\n",
    "# Method 3: From document\n",
    "alice_ref = users.doc('alice')\n",
    "batch3 = alice_ref.batch()\n",
    "print(\"✅ Created batch from document\")\n",
    "\n",
    "print(\"\\n💡 All methods create identical batch objects!\")\n",
    "print(\"   Choose whichever is most convenient for your code.\")"
   ]
  },
  {
   "cell_type": "markdown",
   "metadata": {},
   "source": [
    "## Feature 6: Real-World Pattern - Bulk User Activation\n",
    "\n",
    "A practical example: activating multiple pending users at once."
   ]
  },
  {
   "cell_type": "code",
   "execution_count": 8,
   "metadata": {},
   "outputs": [
    {
     "name": "stdout",
     "output_type": "stream",
     "text": [
      "Created 4 pending users\n",
      "\n",
      "🎉 Activating all pending users with welcome bonus...\n",
      "\n",
      "✅ All users activated:\n",
      "  Emma: status=active, credits=50\n",
      "  Frank: status=active, credits=50\n",
      "  Grace: status=active, credits=50\n",
      "  Henry: status=active, credits=50\n",
      "\n",
      "💡 Batches ensure all-or-nothing activation!\n"
     ]
    }
   ],
   "source": [
    "# Create some pending users\n",
    "pending_users = ['emma', 'frank', 'grace', 'henry']\n",
    "for user_id in pending_users:\n",
    "    user = users.new()\n",
    "    user.name = user_id.capitalize()\n",
    "    user.status = 'pending'\n",
    "    user.credits = 0\n",
    "    user.save(doc_id=user_id)\n",
    "\n",
    "print(\"Created 4 pending users\")\n",
    "\n",
    "# Activate all at once with welcome bonus\n",
    "print(\"\\n🎉 Activating all pending users with welcome bonus...\")\n",
    "batch = db.batch()\n",
    "\n",
    "for user_id in pending_users:\n",
    "    user = users.doc(user_id)\n",
    "    user.fetch()\n",
    "    user.status = 'active'\n",
    "    user.credits = 50  # Welcome bonus!\n",
    "    user.save(batch=batch)\n",
    "\n",
    "batch.commit()\n",
    "\n",
    "print(\"\\n✅ All users activated:\")\n",
    "for user_id in pending_users:\n",
    "    user = users.doc(user_id)\n",
    "    user.fetch(force=True)\n",
    "    print(f\"  {user.name}: status={user.status}, credits={user.credits}\")\n",
    "\n",
    "print(\"\\n💡 Batches ensure all-or-nothing activation!\")"
   ]
  },
  {
   "cell_type": "markdown",
   "metadata": {},
   "source": [
    "---\n",
    "\n",
    "# Part 2: Asynchronous Batch Operations\n",
    "\n",
    "Examples using the asynchronous AsyncFireProx API with async/await."
   ]
  },
  {
   "cell_type": "markdown",
   "metadata": {},
   "source": [
    "### Initialize Async Client and Create Sample Data"
   ]
  },
  {
   "cell_type": "code",
   "execution_count": 9,
   "metadata": {},
   "outputs": [
    {
     "name": "stdout",
     "output_type": "stream",
     "text": [
      "💰 Initial async users:\n",
      "  Alice: 100 credits\n",
      "  Bob: 50 credits\n"
     ]
    }
   ],
   "source": [
    "# Create async client and collection\n",
    "async_client = async_demo_client()\n",
    "async_db = AsyncFireProx(async_client)\n",
    "async_users = async_db.collection('batch_demo_users_async')\n",
    "\n",
    "# Create initial users\n",
    "alice = async_users.new()\n",
    "alice.name = 'Alice'\n",
    "alice.credits = 100\n",
    "alice.status = 'active'\n",
    "await alice.save(doc_id='alice')\n",
    "\n",
    "bob = async_users.new()\n",
    "bob.name = 'Bob'\n",
    "bob.credits = 50\n",
    "bob.status = 'active'\n",
    "await bob.save(doc_id='bob')\n",
    "\n",
    "print(\"💰 Initial async users:\")\n",
    "print(f\"  Alice: {alice.credits} credits\")\n",
    "print(f\"  Bob: {bob.credits} credits\")"
   ]
  },
  {
   "cell_type": "markdown",
   "metadata": {},
   "source": [
    "## Feature 1: Basic Async Batch Updates\n",
    "\n",
    "Update multiple documents with async/await pattern."
   ]
  },
  {
   "cell_type": "code",
   "execution_count": 10,
   "metadata": {},
   "outputs": [
    {
     "name": "stdout",
     "output_type": "stream",
     "text": [
      "📊 After async batch update:\n",
      "  Alice: 150 credits\n",
      "  Bob: 75 credits\n",
      "\n",
      "✅ Async batch update succeeded!\n"
     ]
    }
   ],
   "source": [
    "# Create async batch\n",
    "batch = async_db.batch()\n",
    "\n",
    "# Update Alice\n",
    "alice_ref = async_users.doc('alice')\n",
    "await alice_ref.fetch()\n",
    "alice_ref.credits += 50\n",
    "await alice_ref.save(batch=batch)\n",
    "\n",
    "# Update Bob\n",
    "bob_ref = async_users.doc('bob')\n",
    "await bob_ref.fetch()\n",
    "bob_ref.credits += 25\n",
    "await bob_ref.save(batch=batch)\n",
    "\n",
    "# Commit with await\n",
    "await batch.commit()\n",
    "\n",
    "print(\"📊 After async batch update:\")\n",
    "alice_after = async_users.doc('alice')\n",
    "await alice_after.fetch(force=True)\n",
    "print(f\"  Alice: {alice_after.credits} credits\")\n",
    "\n",
    "bob_after = async_users.doc('bob')\n",
    "await bob_after.fetch(force=True)\n",
    "print(f\"  Bob: {bob_after.credits} credits\")\n",
    "print(\"\\n✅ Async batch update succeeded!\")"
   ]
  },
  {
   "cell_type": "markdown",
   "metadata": {},
   "source": [
    "## Feature 2: Async Mixed Operations\n",
    "\n",
    "Combine updates and deletes in async batch."
   ]
  },
  {
   "cell_type": "code",
   "execution_count": 11,
   "metadata": {},
   "outputs": [
    {
     "name": "stdout",
     "output_type": "stream",
     "text": [
      "🔄 After async mixed operations:\n",
      "  Alice: status=premium\n",
      "  Charlie: deleted ✅\n",
      "\n",
      "✅ Async mixed batch succeeded!\n"
     ]
    }
   ],
   "source": [
    "# Create user to delete\n",
    "charlie = async_users.new()\n",
    "charlie.name = 'Charlie'\n",
    "charlie.status = 'inactive'\n",
    "await charlie.save(doc_id='charlie')\n",
    "\n",
    "# Mixed batch operations\n",
    "batch = async_db.batch()\n",
    "\n",
    "# Update Alice\n",
    "alice_ref = async_users.doc('alice')\n",
    "await alice_ref.fetch()\n",
    "alice_ref.status = 'premium'\n",
    "await alice_ref.save(batch=batch)\n",
    "\n",
    "# Delete Charlie\n",
    "charlie_ref = async_users.doc('charlie')\n",
    "await charlie_ref.delete(batch=batch)\n",
    "\n",
    "# Commit\n",
    "await batch.commit()\n",
    "\n",
    "print(\"🔄 After async mixed operations:\")\n",
    "alice_after = async_users.doc('alice')\n",
    "await alice_after.fetch(force=True)\n",
    "print(f\"  Alice: status={alice_after.status}\")\n",
    "print(\"  Charlie: deleted ✅\")\n",
    "print(\"\\n✅ Async mixed batch succeeded!\")"
   ]
  },
  {
   "cell_type": "markdown",
   "metadata": {},
   "source": [
    "## Feature 3: Async Batch with Atomic Operations"
   ]
  },
  {
   "cell_type": "code",
   "execution_count": 12,
   "metadata": {},
   "outputs": [
    {
     "name": "stdout",
     "output_type": "stream",
     "text": [
      "Initial state:\n",
      "  Alice: tags=['python'], score=100\n",
      "  Bob: tags=['javascript'], score=50\n",
      "\n",
      "🎯 After async atomic operations:\n",
      "  Alice: tags=['python', 'rust'], score=150\n",
      "  Bob: tags=['javascript', 'typescript'], score=75\n",
      "\n",
      "✅ Async atomic batch succeeded!\n"
     ]
    }
   ],
   "source": [
    "# Setup users with tags\n",
    "alice_ref = async_users.doc('alice')\n",
    "await alice_ref.fetch()\n",
    "alice_ref.tags = ['python']\n",
    "alice_ref.score = 100\n",
    "await alice_ref.save()\n",
    "\n",
    "bob_ref = async_users.doc('bob')\n",
    "await bob_ref.fetch()\n",
    "bob_ref.tags = ['javascript']\n",
    "bob_ref.score = 50\n",
    "await bob_ref.save()\n",
    "\n",
    "print(\"Initial state:\")\n",
    "print(f\"  Alice: tags={alice_ref.tags}, score={alice_ref.score}\")\n",
    "print(f\"  Bob: tags={bob_ref.tags}, score={bob_ref.score}\")\n",
    "\n",
    "# Async batch with atomic operations\n",
    "batch = async_db.batch()\n",
    "\n",
    "# Update Alice\n",
    "alice_ref = async_users.doc('alice')\n",
    "await alice_ref.fetch()\n",
    "alice_ref.array_union('tags', ['rust'])\n",
    "alice_ref.increment('score', 50)\n",
    "await alice_ref.save(batch=batch)\n",
    "\n",
    "# Update Bob\n",
    "bob_ref = async_users.doc('bob')\n",
    "await bob_ref.fetch()\n",
    "bob_ref.array_union('tags', ['typescript'])\n",
    "bob_ref.increment('score', 25)\n",
    "await bob_ref.save(batch=batch)\n",
    "\n",
    "await batch.commit()\n",
    "\n",
    "print(\"\\n🎯 After async atomic operations:\")\n",
    "alice_after = async_users.doc('alice')\n",
    "await alice_after.fetch(force=True)\n",
    "print(f\"  Alice: tags={alice_after.tags}, score={alice_after.score}\")\n",
    "\n",
    "bob_after = async_users.doc('bob')\n",
    "await bob_after.fetch(force=True)\n",
    "print(f\"  Bob: tags={bob_after.tags}, score={bob_after.score}\")\n",
    "print(\"\\n✅ Async atomic batch succeeded!\")"
   ]
  },
  {
   "cell_type": "markdown",
   "metadata": {},
   "source": [
    "## Feature 4: Async Bulk Operations\n",
    "\n",
    "Efficiently handle large numbers of documents."
   ]
  },
  {
   "cell_type": "code",
   "execution_count": 13,
   "metadata": {},
   "outputs": [
    {
     "name": "stdout",
     "output_type": "stream",
     "text": [
      "Creating 20 async users...\n",
      "✅ 20 async users created\n",
      "\n",
      "Updating all 20 users in async batch...\n",
      "\n",
      "📊 Sample of async updated points:\n",
      "  AsyncUser0: points=50\n",
      "  AsyncUser10: points=100\n",
      "  AsyncUser19: points=145\n",
      "\n",
      "✅ All 20 async users updated atomically!\n"
     ]
    }
   ],
   "source": [
    "# Create 20 documents\n",
    "print(\"Creating 20 async users...\")\n",
    "for i in range(20):\n",
    "    user = async_users.new()\n",
    "    user.name = f'AsyncUser{i}'\n",
    "    user.points = i * 5\n",
    "    await user.save(doc_id=f'async_user_{i}')\n",
    "\n",
    "print(\"✅ 20 async users created\")\n",
    "\n",
    "# Update all in async batch\n",
    "print(\"\\nUpdating all 20 users in async batch...\")\n",
    "batch = async_db.batch()\n",
    "\n",
    "for i in range(20):\n",
    "    user = async_users.doc(f'async_user_{i}')\n",
    "    await user.fetch()\n",
    "    user.points += 50\n",
    "    await user.save(batch=batch)\n",
    "\n",
    "await batch.commit()\n",
    "\n",
    "# Verify sample\n",
    "print(\"\\n📊 Sample of async updated points:\")\n",
    "for i in [0, 10, 19]:\n",
    "    user = async_users.doc(f'async_user_{i}')\n",
    "    await user.fetch(force=True)\n",
    "    print(f\"  AsyncUser{i}: points={user.points}\")\n",
    "\n",
    "print(\"\\n✅ All 20 async users updated atomically!\")"
   ]
  },
  {
   "cell_type": "markdown",
   "metadata": {},
   "source": [
    "---\n",
    "\n",
    "## Summary\n",
    "\n",
    "This demo showcased all batch features:\n",
    "\n",
    "### ✅ Batch Pattern\n",
    "\n",
    "**Synchronous**:\n",
    "```python\n",
    "batch = db.batch()\n",
    "doc.save(batch=batch)\n",
    "doc2.delete(batch=batch)\n",
    "batch.commit()\n",
    "```\n",
    "\n",
    "**Asynchronous**:\n",
    "```python\n",
    "batch = db.batch()\n",
    "await doc.save(batch=batch)\n",
    "await doc2.delete(batch=batch)\n",
    "await batch.commit()\n",
    "```\n",
    "\n",
    "### ✅ Key Features\n",
    "\n",
    "1. **Basic Operations** - Set, update, delete in batches\n",
    "2. **Mixed Operations** - Combine different operation types\n",
    "3. **Atomic Operations** - ArrayUnion, ArrayRemove, Increment\n",
    "4. **Bulk Operations** - Efficiently handle many documents\n",
    "5. **Convenient Creation** - From db, collection, or document\n",
    "6. **Both Sync and Async** - Full support for both patterns\n",
    "\n",
    "### 💡 Best Practices\n",
    "\n",
    "- Use batches for **write-only** bulk operations\n",
    "- Use batches when you need **atomic execution** without reads\n",
    "- Batches can contain **up to 500 operations**\n",
    "- All operations execute **atomically** (all-or-nothing)\n",
    "- Operations execute in **order added**\n",
    "- Cannot save **DETACHED** documents in batch (create first)\n",
    "- For **read-modify-write**, use transactions instead\n",
    "\n",
    "### 🚀 Real-World Use Cases\n",
    "\n",
    "1. **Bulk User Activation** - Activate multiple pending users at once\n",
    "2. **Batch Cleanup** - Delete inactive accounts or old data\n",
    "3. **Bulk Status Updates** - Change status across many documents\n",
    "4. **Mass Notifications** - Update read status for multiple notifications\n",
    "5. **Batch Point Awards** - Award points to multiple users\n",
    "6. **Archival Operations** - Archive or migrate multiple documents\n",
    "\n",
    "### 📚 Learn More\n",
    "\n",
    "- **Tests**: See `tests/test_integration_batches.py` for examples\n",
    "- **Async Tests**: See `tests/test_integration_batches_async.py`\n",
    "- **Transactions**: See `transactions.ipynb` for read-modify-write patterns\n",
    "- **Native API**: [Firestore Batches Documentation](https://cloud.google.com/firestore/docs/manage-data/transactions#batched-writes)"
   ]
  },
  {
   "cell_type": "markdown",
   "metadata": {},
   "source": []
  }
 ],
 "metadata": {
  "kernelspec": {
   "display_name": "fire-prox",
   "language": "python",
   "name": "python3"
  },
  "language_info": {
   "codemirror_mode": {
    "name": "ipython",
    "version": 3
   },
   "file_extension": ".py",
   "mimetype": "text/x-python",
   "name": "python",
   "nbconvert_exporter": "python",
   "pygments_lexer": "ipython3",
   "version": "3.12.7"
  }
 },
 "nbformat": 4,
 "nbformat_minor": 2
}

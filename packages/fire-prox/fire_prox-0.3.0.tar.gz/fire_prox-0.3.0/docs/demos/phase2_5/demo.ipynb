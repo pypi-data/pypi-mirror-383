{
 "cells": [
  {
   "cell_type": "markdown",
   "id": "intro",
   "metadata": {},
   "source": [
    "# FireProx Phase 2.5 Feature Demo: Query Builder\n",
    "\n",
    "This notebook demonstrates the Phase 2.5 query builder features:\n",
    "- **Chainable Queries** - `.where().order_by().limit()` interface\n",
    "- **Multiple Execution Methods** - `.get()` for lists, `.stream()` for iterators\n",
    "- **Collection-Level Methods** - Start queries directly from collections\n",
    "- **Immutable Pattern** - Safe query reuse and composition\n",
    "\n",
    "The demo is split into two sections:\n",
    "1. Synchronous API examples\n",
    "2. Asynchronous API examples"
   ]
  },
  {
   "cell_type": "markdown",
   "id": "setup",
   "metadata": {},
   "source": [
    "## Setup\n",
    "\n",
    "Import the necessary modules for both sync and async APIs."
   ]
  },
  {
   "cell_type": "code",
   "execution_count": 1,
   "id": "imports",
   "metadata": {
    "execution": {
     "iopub.execute_input": "2025-10-12T13:15:49.655832Z",
     "iopub.status.busy": "2025-10-12T13:15:49.655658Z",
     "iopub.status.idle": "2025-10-12T13:15:49.834100Z",
     "shell.execute_reply": "2025-10-12T13:15:49.833791Z"
    }
   },
   "outputs": [],
   "source": [
    "from fire_prox import AsyncFireProx, FireProx\n",
    "from fire_prox.testing import async_demo_client, demo_client"
   ]
  },
  {
   "cell_type": "markdown",
   "id": "part1-header",
   "metadata": {},
   "source": [
    "---\n",
    "\n",
    "# Part 1: Synchronous API Examples\n",
    "\n",
    "The following examples use the synchronous FireProx API."
   ]
  },
  {
   "cell_type": "markdown",
   "id": "sync-setup",
   "metadata": {},
   "source": [
    "### Initialize Sync Client and Create Sample Data"
   ]
  },
  {
   "cell_type": "code",
   "execution_count": 2,
   "id": "sync-client",
   "metadata": {
    "execution": {
     "iopub.execute_input": "2025-10-12T13:15:49.835698Z",
     "iopub.status.busy": "2025-10-12T13:15:49.835575Z",
     "iopub.status.idle": "2025-10-12T13:15:50.177575Z",
     "shell.execute_reply": "2025-10-12T13:15:50.177295Z"
    }
   },
   "outputs": [
    {
     "name": "stdout",
     "output_type": "stream",
     "text": [
      "Created 5 sample users\n"
     ]
    }
   ],
   "source": [
    "# Create sync client and collection\n",
    "client = demo_client()\n",
    "db = FireProx(client)\n",
    "users = db.collection('phase2_5_demo_users')\n",
    "\n",
    "# Create sample data\n",
    "sample_users = [\n",
    "    {'name': 'Ada Lovelace', 'birth_year': 1815, 'country': 'England', 'field': 'Mathematics', 'score': 95},\n",
    "    {'name': 'Charles Babbage', 'birth_year': 1791, 'country': 'England', 'field': 'Engineering', 'score': 90},\n",
    "    {'name': 'Alan Turing', 'birth_year': 1912, 'country': 'England', 'field': 'Computer Science', 'score': 98},\n",
    "    {'name': 'Grace Hopper', 'birth_year': 1906, 'country': 'USA', 'field': 'Computer Science', 'score': 92},\n",
    "    {'name': 'John von Neumann', 'birth_year': 1903, 'country': 'Hungary', 'field': 'Mathematics', 'score': 97},\n",
    "]\n",
    "\n",
    "for user_data in sample_users:\n",
    "    user = users.new()\n",
    "    for key, value in user_data.items():\n",
    "        setattr(user, key, value)\n",
    "    user.save()\n",
    "\n",
    "print(f\"Created {len(sample_users)} sample users\")"
   ]
  },
  {
   "cell_type": "markdown",
   "id": "sync-feature1",
   "metadata": {},
   "source": [
    "## Feature 1: Simple where() Queries\n",
    "\n",
    "Filter documents with a single condition."
   ]
  },
  {
   "cell_type": "code",
   "execution_count": 3,
   "id": "sync-where-simple",
   "metadata": {
    "execution": {
     "iopub.execute_input": "2025-10-12T13:15:50.179073Z",
     "iopub.status.busy": "2025-10-12T13:15:50.178974Z",
     "iopub.status.idle": "2025-10-12T13:15:50.215549Z",
     "shell.execute_reply": "2025-10-12T13:15:50.215283Z"
    }
   },
   "outputs": [
    {
     "name": "stdout",
     "output_type": "stream",
     "text": [
      "\n",
      "Users born after 1900: 3 found\n",
      "  - John von Neumann (1903)\n",
      "  - Grace Hopper (1906)\n",
      "  - Alan Turing (1912)\n"
     ]
    }
   ],
   "source": [
    "# Find users born after 1900\n",
    "query = users.where('birth_year', '>', 1900)\n",
    "results = query.get()\n",
    "\n",
    "print(f\"\\nUsers born after 1900: {len(results)} found\")\n",
    "for user in results:\n",
    "    print(f\"  - {user.name} ({user.birth_year})\")"
   ]
  },
  {
   "cell_type": "code",
   "execution_count": 4,
   "id": "sync-where-equality",
   "metadata": {
    "execution": {
     "iopub.execute_input": "2025-10-12T13:15:50.216765Z",
     "iopub.status.busy": "2025-10-12T13:15:50.216686Z",
     "iopub.status.idle": "2025-10-12T13:15:50.224577Z",
     "shell.execute_reply": "2025-10-12T13:15:50.224356Z"
    }
   },
   "outputs": [
    {
     "name": "stdout",
     "output_type": "stream",
     "text": [
      "\n",
      "Users from England: 3 found\n",
      "  - Charles Babbage\n",
      "  - Ada Lovelace\n",
      "  - Alan Turing\n"
     ]
    }
   ],
   "source": [
    "# Find users from England\n",
    "query = users.where('country', '==', 'England')\n",
    "results = query.get()\n",
    "\n",
    "print(f\"\\nUsers from England: {len(results)} found\")\n",
    "for user in results:\n",
    "    print(f\"  - {user.name}\")"
   ]
  },
  {
   "cell_type": "markdown",
   "id": "sync-feature2",
   "metadata": {},
   "source": [
    "## Feature 2: Chained Queries\n",
    "\n",
    "Combine multiple conditions by chaining where() calls."
   ]
  },
  {
   "cell_type": "code",
   "execution_count": 5,
   "id": "sync-chained",
   "metadata": {
    "execution": {
     "iopub.execute_input": "2025-10-12T13:15:50.225755Z",
     "iopub.status.busy": "2025-10-12T13:15:50.225681Z",
     "iopub.status.idle": "2025-10-12T13:15:50.232130Z",
     "shell.execute_reply": "2025-10-12T13:15:50.231838Z"
    }
   },
   "outputs": [
    {
     "name": "stdout",
     "output_type": "stream",
     "text": [
      "\n",
      "English Computer Scientists: 1 found\n",
      "  - Alan Turing (1912)\n"
     ]
    }
   ],
   "source": [
    "# Find English users in Computer Science\n",
    "query = (users\n",
    "         .where('country', '==', 'England')\n",
    "         .where('field', '==', 'Computer Science'))\n",
    "results = query.get()\n",
    "\n",
    "print(f\"\\nEnglish Computer Scientists: {len(results)} found\")\n",
    "for user in results:\n",
    "    print(f\"  - {user.name} ({user.birth_year})\")"
   ]
  },
  {
   "cell_type": "markdown",
   "id": "sync-feature3",
   "metadata": {},
   "source": [
    "## Feature 3: Ordering Results\n",
    "\n",
    "Sort query results with order_by()."
   ]
  },
  {
   "cell_type": "code",
   "execution_count": 6,
   "id": "sync-order-by",
   "metadata": {
    "execution": {
     "iopub.execute_input": "2025-10-12T13:15:50.233497Z",
     "iopub.status.busy": "2025-10-12T13:15:50.233419Z",
     "iopub.status.idle": "2025-10-12T13:15:50.239170Z",
     "shell.execute_reply": "2025-10-12T13:15:50.238947Z"
    }
   },
   "outputs": [
    {
     "name": "stdout",
     "output_type": "stream",
     "text": [
      "\n",
      "Users ordered by birth year (oldest first):\n",
      "  1791: Charles Babbage\n",
      "  1815: Ada Lovelace\n",
      "  1903: John von Neumann\n",
      "  1906: Grace Hopper\n",
      "  1912: Alan Turing\n"
     ]
    }
   ],
   "source": [
    "# Get all users ordered by birth year (ascending)\n",
    "query = users.order_by('birth_year')\n",
    "results = query.get()\n",
    "\n",
    "print(\"\\nUsers ordered by birth year (oldest first):\")\n",
    "for user in results:\n",
    "    print(f\"  {user.birth_year}: {user.name}\")"
   ]
  },
  {
   "cell_type": "code",
   "execution_count": 7,
   "id": "sync-order-desc",
   "metadata": {
    "execution": {
     "iopub.execute_input": "2025-10-12T13:15:50.240322Z",
     "iopub.status.busy": "2025-10-12T13:15:50.240253Z",
     "iopub.status.idle": "2025-10-12T13:15:50.245231Z",
     "shell.execute_reply": "2025-10-12T13:15:50.244981Z"
    }
   },
   "outputs": [
    {
     "name": "stdout",
     "output_type": "stream",
     "text": [
      "\n",
      "Users ordered by score (highest first):\n",
      "  98: Alan Turing\n",
      "  97: John von Neumann\n",
      "  95: Ada Lovelace\n",
      "  92: Grace Hopper\n",
      "  90: Charles Babbage\n"
     ]
    }
   ],
   "source": [
    "# Get users ordered by score (descending)\n",
    "query = users.order_by('score', direction='DESCENDING')\n",
    "results = query.get()\n",
    "\n",
    "print(\"\\nUsers ordered by score (highest first):\")\n",
    "for user in results:\n",
    "    print(f\"  {user.score}: {user.name}\")"
   ]
  },
  {
   "cell_type": "markdown",
   "id": "sync-feature4",
   "metadata": {},
   "source": [
    "## Feature 4: Limiting Results\n",
    "\n",
    "Paginate or get top N results with limit()."
   ]
  },
  {
   "cell_type": "code",
   "execution_count": 8,
   "id": "sync-limit",
   "metadata": {
    "execution": {
     "iopub.execute_input": "2025-10-12T13:15:50.246479Z",
     "iopub.status.busy": "2025-10-12T13:15:50.246403Z",
     "iopub.status.idle": "2025-10-12T13:15:50.251892Z",
     "shell.execute_reply": "2025-10-12T13:15:50.251595Z"
    }
   },
   "outputs": [
    {
     "name": "stdout",
     "output_type": "stream",
     "text": [
      "\n",
      "Top 3 scorers:\n",
      "  1. Alan Turing - Score: 98\n",
      "  2. John von Neumann - Score: 97\n",
      "  3. Ada Lovelace - Score: 95\n"
     ]
    }
   ],
   "source": [
    "# Get top 3 scorers\n",
    "query = users.order_by('score', direction='DESCENDING').limit(3)\n",
    "results = query.get()\n",
    "\n",
    "print(\"\\nTop 3 scorers:\")\n",
    "for i, user in enumerate(results, 1):\n",
    "    print(f\"  {i}. {user.name} - Score: {user.score}\")"
   ]
  },
  {
   "cell_type": "markdown",
   "id": "sync-feature5",
   "metadata": {},
   "source": [
    "## Feature 5: Complex Chained Queries\n",
    "\n",
    "Combine where(), order_by(), and limit() for powerful queries."
   ]
  },
  {
   "cell_type": "code",
   "execution_count": 9,
   "id": "sync-complex",
   "metadata": {
    "execution": {
     "iopub.execute_input": "2025-10-12T13:15:50.253136Z",
     "iopub.status.busy": "2025-10-12T13:15:50.253066Z",
     "iopub.status.idle": "2025-10-12T13:15:50.257826Z",
     "shell.execute_reply": "2025-10-12T13:15:50.257576Z"
    }
   },
   "outputs": [
    {
     "name": "stdout",
     "output_type": "stream",
     "text": [
      "\n",
      "Top 2 English users by score:\n",
      "  - Alan Turing: 98\n",
      "  - Ada Lovelace: 95\n"
     ]
    }
   ],
   "source": [
    "# Get top 2 English users by score\n",
    "query = (users\n",
    "         .where('country', '==', 'England')\n",
    "         .order_by('score', direction='DESCENDING')\n",
    "         .limit(2))\n",
    "results = query.get()\n",
    "\n",
    "print(\"\\nTop 2 English users by score:\")\n",
    "for user in results:\n",
    "    print(f\"  - {user.name}: {user.score}\")"
   ]
  },
  {
   "cell_type": "markdown",
   "id": "sync-feature6",
   "metadata": {},
   "source": [
    "## Feature 6: Stream vs Get\n",
    "\n",
    "Compare .get() (returns list) vs .stream() (returns iterator)."
   ]
  },
  {
   "cell_type": "code",
   "execution_count": 10,
   "id": "sync-get",
   "metadata": {
    "execution": {
     "iopub.execute_input": "2025-10-12T13:15:50.258983Z",
     "iopub.status.busy": "2025-10-12T13:15:50.258910Z",
     "iopub.status.idle": "2025-10-12T13:15:50.263614Z",
     "shell.execute_reply": "2025-10-12T13:15:50.263386Z"
    }
   },
   "outputs": [
    {
     "name": "stdout",
     "output_type": "stream",
     "text": [
      "\n",
      ".get() returned a list with 2 items:\n",
      "  - Grace Hopper\n",
      "  - Alan Turing\n"
     ]
    }
   ],
   "source": [
    "# Using .get() - returns a list\n",
    "query = users.where('field', '==', 'Computer Science')\n",
    "results = query.get()\n",
    "\n",
    "print(f\"\\n.get() returned a {type(results).__name__} with {len(results)} items:\")\n",
    "for user in results:\n",
    "    print(f\"  - {user.name}\")"
   ]
  },
  {
   "cell_type": "code",
   "execution_count": 11,
   "id": "sync-stream",
   "metadata": {
    "execution": {
     "iopub.execute_input": "2025-10-12T13:15:50.264895Z",
     "iopub.status.busy": "2025-10-12T13:15:50.264822Z",
     "iopub.status.idle": "2025-10-12T13:15:50.269280Z",
     "shell.execute_reply": "2025-10-12T13:15:50.269062Z"
    }
   },
   "outputs": [
    {
     "name": "stdout",
     "output_type": "stream",
     "text": [
      "\n",
      ".stream() returned a generator:\n",
      "  - Grace Hopper\n",
      "  - Alan Turing\n",
      "\n",
      "Note: Stream is memory-efficient for large result sets!\n"
     ]
    }
   ],
   "source": [
    "# Using .stream() - returns an iterator (more memory efficient)\n",
    "query = users.where('field', '==', 'Computer Science')\n",
    "stream = query.stream()\n",
    "\n",
    "print(f\"\\n.stream() returned a {type(stream).__name__}:\")\n",
    "for user in stream:\n",
    "    print(f\"  - {user.name}\")\n",
    "print(\"\\nNote: Stream is memory-efficient for large result sets!\")"
   ]
  },
  {
   "cell_type": "markdown",
   "id": "sync-feature7",
   "metadata": {},
   "source": [
    "## Feature 7: Immutable Query Pattern\n",
    "\n",
    "Queries can be safely reused and extended."
   ]
  },
  {
   "cell_type": "code",
   "execution_count": 12,
   "id": "sync-immutable",
   "metadata": {
    "execution": {
     "iopub.execute_input": "2025-10-12T13:15:50.270555Z",
     "iopub.status.busy": "2025-10-12T13:15:50.270476Z",
     "iopub.status.idle": "2025-10-12T13:15:50.282907Z",
     "shell.execute_reply": "2025-10-12T13:15:50.282656Z"
    }
   },
   "outputs": [
    {
     "name": "stdout",
     "output_type": "stream",
     "text": [
      "\n",
      "All English users: 3 found\n",
      "Top 3 English users: 3 found\n",
      "Oldest English user: 1 found\n",
      "\n",
      "Oldest English user: Charles Babbage (1791)\n"
     ]
    }
   ],
   "source": [
    "# Create a base query\n",
    "base_query = users.where('country', '==', 'England')\n",
    "\n",
    "# Extend it in different ways\n",
    "top_3 = base_query.order_by('score', direction='DESCENDING').limit(3)\n",
    "oldest = base_query.order_by('birth_year').limit(1)\n",
    "\n",
    "# Base query is unchanged\n",
    "print(f\"\\nAll English users: {len(base_query.get())} found\")\n",
    "print(f\"Top 3 English users: {len(top_3.get())} found\")\n",
    "print(f\"Oldest English user: {len(oldest.get())} found\")\n",
    "\n",
    "oldest_user = oldest.get()[0]\n",
    "print(f\"\\nOldest English user: {oldest_user.name} ({oldest_user.birth_year})\")"
   ]
  },
  {
   "cell_type": "markdown",
   "id": "sync-feature8",
   "metadata": {},
   "source": [
    "## Feature 8: get_all() Method\n",
    "\n",
    "Retrieve all documents in a collection."
   ]
  },
  {
   "cell_type": "code",
   "execution_count": 13,
   "id": "sync-get-all",
   "metadata": {
    "execution": {
     "iopub.execute_input": "2025-10-12T13:15:50.284189Z",
     "iopub.status.busy": "2025-10-12T13:15:50.284114Z",
     "iopub.status.idle": "2025-10-12T13:15:50.288569Z",
     "shell.execute_reply": "2025-10-12T13:15:50.288322Z"
    }
   },
   "outputs": [
    {
     "name": "stdout",
     "output_type": "stream",
     "text": [
      "\n",
      "All users in collection:\n",
      "  - Grace Hopper (USA, 1906)\n",
      "  - Charles Babbage (England, 1791)\n",
      "  - John von Neumann (Hungary, 1903)\n",
      "  - Ada Lovelace (England, 1815)\n",
      "  - Alan Turing (England, 1912)\n"
     ]
    }
   ],
   "source": [
    "# Get all users (no filtering)\n",
    "print(\"\\nAll users in collection:\")\n",
    "for user in users.get_all():\n",
    "    print(f\"  - {user.name} ({user.country}, {user.birth_year})\")"
   ]
  },
  {
   "cell_type": "markdown",
   "id": "part2-header",
   "metadata": {},
   "source": [
    "---\n",
    "\n",
    "# Part 2: Asynchronous API Examples\n",
    "\n",
    "The following examples use the asynchronous AsyncFireProx API with async/await."
   ]
  },
  {
   "cell_type": "markdown",
   "id": "async-setup",
   "metadata": {},
   "source": [
    "### Initialize Async Client and Create Sample Data"
   ]
  },
  {
   "cell_type": "code",
   "execution_count": 14,
   "id": "async-client",
   "metadata": {
    "execution": {
     "iopub.execute_input": "2025-10-12T13:15:50.289848Z",
     "iopub.status.busy": "2025-10-12T13:15:50.289779Z",
     "iopub.status.idle": "2025-10-12T13:15:50.307271Z",
     "shell.execute_reply": "2025-10-12T13:15:50.306997Z"
    }
   },
   "outputs": [
    {
     "name": "stdout",
     "output_type": "stream",
     "text": [
      "Created 5 sample users (async)\n"
     ]
    }
   ],
   "source": [
    "# Create async client and collection\n",
    "async_client = async_demo_client()\n",
    "async_db = AsyncFireProx(async_client)\n",
    "async_users = async_db.collection('phase2_5_demo_users_async')\n",
    "\n",
    "# Create sample data\n",
    "for user_data in sample_users:\n",
    "    user = async_users.new()\n",
    "    for key, value in user_data.items():\n",
    "        setattr(user, key, value)\n",
    "    await user.save()\n",
    "\n",
    "print(f\"Created {len(sample_users)} sample users (async)\")"
   ]
  },
  {
   "cell_type": "markdown",
   "id": "async-feature1",
   "metadata": {},
   "source": [
    "## Feature 1: Simple where() Queries (Async)"
   ]
  },
  {
   "cell_type": "code",
   "execution_count": 15,
   "id": "async-where-simple",
   "metadata": {
    "execution": {
     "iopub.execute_input": "2025-10-12T13:15:50.308516Z",
     "iopub.status.busy": "2025-10-12T13:15:50.308441Z",
     "iopub.status.idle": "2025-10-12T13:15:50.313250Z",
     "shell.execute_reply": "2025-10-12T13:15:50.313035Z"
    }
   },
   "outputs": [
    {
     "name": "stdout",
     "output_type": "stream",
     "text": [
      "\n",
      "Users born after 1900: 3 found\n",
      "  - John von Neumann (1903)\n",
      "  - Grace Hopper (1906)\n",
      "  - Alan Turing (1912)\n"
     ]
    }
   ],
   "source": [
    "# Find users born after 1900\n",
    "query = async_users.where('birth_year', '>', 1900)\n",
    "results = await query.get()\n",
    "\n",
    "print(f\"\\nUsers born after 1900: {len(results)} found\")\n",
    "for user in results:\n",
    "    print(f\"  - {user.name} ({user.birth_year})\")"
   ]
  },
  {
   "cell_type": "code",
   "execution_count": 16,
   "id": "async-where-equality",
   "metadata": {
    "execution": {
     "iopub.execute_input": "2025-10-12T13:15:50.314378Z",
     "iopub.status.busy": "2025-10-12T13:15:50.314313Z",
     "iopub.status.idle": "2025-10-12T13:15:50.319031Z",
     "shell.execute_reply": "2025-10-12T13:15:50.318765Z"
    }
   },
   "outputs": [
    {
     "name": "stdout",
     "output_type": "stream",
     "text": [
      "\n",
      "Users from England: 3 found\n",
      "  - Ada Lovelace\n",
      "  - Alan Turing\n",
      "  - Charles Babbage\n"
     ]
    }
   ],
   "source": [
    "# Find users from England\n",
    "query = async_users.where('country', '==', 'England')\n",
    "results = await query.get()\n",
    "\n",
    "print(f\"\\nUsers from England: {len(results)} found\")\n",
    "for user in results:\n",
    "    print(f\"  - {user.name}\")"
   ]
  },
  {
   "cell_type": "markdown",
   "id": "async-feature2",
   "metadata": {},
   "source": [
    "## Feature 2: Chained Queries (Async)"
   ]
  },
  {
   "cell_type": "code",
   "execution_count": 17,
   "id": "async-chained",
   "metadata": {
    "execution": {
     "iopub.execute_input": "2025-10-12T13:15:50.320264Z",
     "iopub.status.busy": "2025-10-12T13:15:50.320185Z",
     "iopub.status.idle": "2025-10-12T13:15:50.325163Z",
     "shell.execute_reply": "2025-10-12T13:15:50.324835Z"
    }
   },
   "outputs": [
    {
     "name": "stdout",
     "output_type": "stream",
     "text": [
      "\n",
      "English Computer Scientists: 1 found\n",
      "  - Alan Turing (1912)\n"
     ]
    }
   ],
   "source": [
    "# Find English users in Computer Science\n",
    "query = (async_users\n",
    "         .where('country', '==', 'England')\n",
    "         .where('field', '==', 'Computer Science'))\n",
    "results = await query.get()\n",
    "\n",
    "print(f\"\\nEnglish Computer Scientists: {len(results)} found\")\n",
    "for user in results:\n",
    "    print(f\"  - {user.name} ({user.birth_year})\")"
   ]
  },
  {
   "cell_type": "markdown",
   "id": "async-feature3",
   "metadata": {},
   "source": [
    "## Feature 3: Ordering Results (Async)"
   ]
  },
  {
   "cell_type": "code",
   "execution_count": 18,
   "id": "async-order-by",
   "metadata": {
    "execution": {
     "iopub.execute_input": "2025-10-12T13:15:50.326447Z",
     "iopub.status.busy": "2025-10-12T13:15:50.326376Z",
     "iopub.status.idle": "2025-10-12T13:15:50.331428Z",
     "shell.execute_reply": "2025-10-12T13:15:50.331187Z"
    }
   },
   "outputs": [
    {
     "name": "stdout",
     "output_type": "stream",
     "text": [
      "\n",
      "Users ordered by birth year (oldest first):\n",
      "  1791: Charles Babbage\n",
      "  1815: Ada Lovelace\n",
      "  1903: John von Neumann\n",
      "  1906: Grace Hopper\n",
      "  1912: Alan Turing\n"
     ]
    }
   ],
   "source": [
    "# Get all users ordered by birth year (ascending)\n",
    "query = async_users.order_by('birth_year')\n",
    "results = await query.get()\n",
    "\n",
    "print(\"\\nUsers ordered by birth year (oldest first):\")\n",
    "for user in results:\n",
    "    print(f\"  {user.birth_year}: {user.name}\")"
   ]
  },
  {
   "cell_type": "code",
   "execution_count": 19,
   "id": "async-order-desc",
   "metadata": {
    "execution": {
     "iopub.execute_input": "2025-10-12T13:15:50.332625Z",
     "iopub.status.busy": "2025-10-12T13:15:50.332547Z",
     "iopub.status.idle": "2025-10-12T13:15:50.337398Z",
     "shell.execute_reply": "2025-10-12T13:15:50.337096Z"
    }
   },
   "outputs": [
    {
     "name": "stdout",
     "output_type": "stream",
     "text": [
      "\n",
      "Users ordered by score (highest first):\n",
      "  98: Alan Turing\n",
      "  97: John von Neumann\n",
      "  95: Ada Lovelace\n",
      "  92: Grace Hopper\n",
      "  90: Charles Babbage\n"
     ]
    }
   ],
   "source": [
    "# Get users ordered by score (descending)\n",
    "query = async_users.order_by('score', direction='DESCENDING')\n",
    "results = await query.get()\n",
    "\n",
    "print(\"\\nUsers ordered by score (highest first):\")\n",
    "for user in results:\n",
    "    print(f\"  {user.score}: {user.name}\")"
   ]
  },
  {
   "cell_type": "markdown",
   "id": "async-feature4",
   "metadata": {},
   "source": [
    "## Feature 4: Limiting Results (Async)"
   ]
  },
  {
   "cell_type": "code",
   "execution_count": 20,
   "id": "async-limit",
   "metadata": {
    "execution": {
     "iopub.execute_input": "2025-10-12T13:15:50.338716Z",
     "iopub.status.busy": "2025-10-12T13:15:50.338635Z",
     "iopub.status.idle": "2025-10-12T13:15:50.343391Z",
     "shell.execute_reply": "2025-10-12T13:15:50.343172Z"
    }
   },
   "outputs": [
    {
     "name": "stdout",
     "output_type": "stream",
     "text": [
      "\n",
      "Top 3 scorers:\n",
      "  1. Alan Turing - Score: 98\n",
      "  2. John von Neumann - Score: 97\n",
      "  3. Ada Lovelace - Score: 95\n"
     ]
    }
   ],
   "source": [
    "# Get top 3 scorers\n",
    "query = async_users.order_by('score', direction='DESCENDING').limit(3)\n",
    "results = await query.get()\n",
    "\n",
    "print(\"\\nTop 3 scorers:\")\n",
    "for i, user in enumerate(results, 1):\n",
    "    print(f\"  {i}. {user.name} - Score: {user.score}\")"
   ]
  },
  {
   "cell_type": "markdown",
   "id": "async-feature5",
   "metadata": {},
   "source": [
    "## Feature 5: Complex Chained Queries (Async)"
   ]
  },
  {
   "cell_type": "code",
   "execution_count": 21,
   "id": "async-complex",
   "metadata": {
    "execution": {
     "iopub.execute_input": "2025-10-12T13:15:50.344565Z",
     "iopub.status.busy": "2025-10-12T13:15:50.344500Z",
     "iopub.status.idle": "2025-10-12T13:15:50.349133Z",
     "shell.execute_reply": "2025-10-12T13:15:50.348817Z"
    }
   },
   "outputs": [
    {
     "name": "stdout",
     "output_type": "stream",
     "text": [
      "\n",
      "Top 2 English users by score:\n",
      "  - Alan Turing: 98\n",
      "  - Ada Lovelace: 95\n"
     ]
    }
   ],
   "source": [
    "# Get top 2 English users by score\n",
    "query = (async_users\n",
    "         .where('country', '==', 'England')\n",
    "         .order_by('score', direction='DESCENDING')\n",
    "         .limit(2))\n",
    "results = await query.get()\n",
    "\n",
    "print(\"\\nTop 2 English users by score:\")\n",
    "for user in results:\n",
    "    print(f\"  - {user.name}: {user.score}\")"
   ]
  },
  {
   "cell_type": "markdown",
   "id": "async-feature6",
   "metadata": {},
   "source": [
    "## Feature 6: Async Stream\n",
    "\n",
    "Using async for with .stream() for memory efficiency."
   ]
  },
  {
   "cell_type": "code",
   "execution_count": 22,
   "id": "async-get",
   "metadata": {
    "execution": {
     "iopub.execute_input": "2025-10-12T13:15:50.350660Z",
     "iopub.status.busy": "2025-10-12T13:15:50.350563Z",
     "iopub.status.idle": "2025-10-12T13:15:50.355292Z",
     "shell.execute_reply": "2025-10-12T13:15:50.355070Z"
    }
   },
   "outputs": [
    {
     "name": "stdout",
     "output_type": "stream",
     "text": [
      "\n",
      ".get() returned a list with 2 items:\n",
      "  - Alan Turing\n",
      "  - Grace Hopper\n"
     ]
    }
   ],
   "source": [
    "# Using .get() - returns a list\n",
    "query = async_users.where('field', '==', 'Computer Science')\n",
    "results = await query.get()\n",
    "\n",
    "print(f\"\\n.get() returned a {type(results).__name__} with {len(results)} items:\")\n",
    "for user in results:\n",
    "    print(f\"  - {user.name}\")"
   ]
  },
  {
   "cell_type": "code",
   "execution_count": 23,
   "id": "async-stream",
   "metadata": {
    "execution": {
     "iopub.execute_input": "2025-10-12T13:15:50.356535Z",
     "iopub.status.busy": "2025-10-12T13:15:50.356446Z",
     "iopub.status.idle": "2025-10-12T13:15:50.361025Z",
     "shell.execute_reply": "2025-10-12T13:15:50.360744Z"
    }
   },
   "outputs": [
    {
     "name": "stdout",
     "output_type": "stream",
     "text": [
      "\n",
      ".stream() returns an async iterator:\n",
      "  - Alan Turing\n",
      "  - Grace Hopper\n",
      "\n",
      "Note: Async stream is memory-efficient for large result sets!\n"
     ]
    }
   ],
   "source": [
    "# Using .stream() - returns an async iterator\n",
    "query = async_users.where('field', '==', 'Computer Science')\n",
    "\n",
    "print(\"\\n.stream() returns an async iterator:\")\n",
    "async for user in query.stream():\n",
    "    print(f\"  - {user.name}\")\n",
    "print(\"\\nNote: Async stream is memory-efficient for large result sets!\")"
   ]
  },
  {
   "cell_type": "markdown",
   "id": "async-feature7",
   "metadata": {},
   "source": [
    "## Feature 7: Immutable Query Pattern (Async)"
   ]
  },
  {
   "cell_type": "code",
   "execution_count": 24,
   "id": "async-immutable",
   "metadata": {
    "execution": {
     "iopub.execute_input": "2025-10-12T13:15:50.362354Z",
     "iopub.status.busy": "2025-10-12T13:15:50.362255Z",
     "iopub.status.idle": "2025-10-12T13:15:50.374471Z",
     "shell.execute_reply": "2025-10-12T13:15:50.374184Z"
    }
   },
   "outputs": [
    {
     "name": "stdout",
     "output_type": "stream",
     "text": [
      "\n",
      "All English users: 3 found\n",
      "Top 3 English users: 3 found\n",
      "Oldest English user: 1 found\n",
      "\n",
      "Oldest English user: Charles Babbage (1791)\n"
     ]
    }
   ],
   "source": [
    "# Create a base query\n",
    "base_query = async_users.where('country', '==', 'England')\n",
    "\n",
    "# Extend it in different ways\n",
    "top_3 = base_query.order_by('score', direction='DESCENDING').limit(3)\n",
    "oldest = base_query.order_by('birth_year').limit(1)\n",
    "\n",
    "# Base query is unchanged\n",
    "print(f\"\\nAll English users: {len(await base_query.get())} found\")\n",
    "print(f\"Top 3 English users: {len(await top_3.get())} found\")\n",
    "print(f\"Oldest English user: {len(await oldest.get())} found\")\n",
    "\n",
    "oldest_user = (await oldest.get())[0]\n",
    "print(f\"\\nOldest English user: {oldest_user.name} ({oldest_user.birth_year})\")"
   ]
  },
  {
   "cell_type": "markdown",
   "id": "async-feature8",
   "metadata": {},
   "source": [
    "## Feature 8: get_all() Method (Async)"
   ]
  },
  {
   "cell_type": "code",
   "execution_count": 25,
   "id": "async-get-all",
   "metadata": {
    "execution": {
     "iopub.execute_input": "2025-10-12T13:15:50.375840Z",
     "iopub.status.busy": "2025-10-12T13:15:50.375761Z",
     "iopub.status.idle": "2025-10-12T13:15:50.380338Z",
     "shell.execute_reply": "2025-10-12T13:15:50.380136Z"
    }
   },
   "outputs": [
    {
     "name": "stdout",
     "output_type": "stream",
     "text": [
      "\n",
      "All users in collection:\n"
     ]
    },
    {
     "name": "stdout",
     "output_type": "stream",
     "text": [
      "  - John von Neumann (Hungary, 1903)\n",
      "  - Ada Lovelace (England, 1815)\n",
      "  - Alan Turing (England, 1912)\n",
      "  - Charles Babbage (England, 1791)\n",
      "  - Grace Hopper (USA, 1906)\n"
     ]
    }
   ],
   "source": [
    "# Get all users (no filtering)\n",
    "print(\"\\nAll users in collection:\")\n",
    "async for user in async_users.get_all():\n",
    "    print(f\"  - {user.name} ({user.country}, {user.birth_year})\")"
   ]
  },
  {
   "cell_type": "markdown",
   "id": "conclusion",
   "metadata": {},
   "source": [
    "---\n",
    "\n",
    "## Summary\n",
    "\n",
    "This demo showcased all Phase 2.5 query builder features:\n",
    "\n",
    "✅ **where(field, op, value)** - Filter documents with conditions\n",
    "\n",
    "✅ **order_by(field, direction)** - Sort results ascending or descending\n",
    "\n",
    "✅ **limit(count)** - Paginate or get top N results\n",
    "\n",
    "✅ **Chainable Interface** - Combine where(), order_by(), and limit()\n",
    "\n",
    "✅ **.get()** - Execute query and get results as a list\n",
    "\n",
    "✅ **.stream()** - Execute query and get memory-efficient iterator\n",
    "\n",
    "✅ **.get_all()** - Retrieve all documents in a collection\n",
    "\n",
    "✅ **Immutable Pattern** - Safely reuse and extend queries\n",
    "\n",
    "All features work identically in both sync and async APIs!\n",
    "\n",
    "### Performance Benefits\n",
    "\n",
    "- **Code Reduction**: 70% less boilerplate vs native API\n",
    "- **Readability**: Natural, chainable interface\n",
    "- **Memory Efficiency**: Stream large result sets\n",
    "- **Safety**: Immutable pattern prevents bugs\n",
    "\n",
    "### Supported Operators\n",
    "\n",
    "- **Comparison**: `==`, `!=`, `<`, `<=`, `>`, `>=`\n",
    "- **Set Operations**: `in`, `not-in`\n",
    "- **Array Operations**: `array-contains`, `array-contains-any`\n",
    "\n",
    "### Learn More\n",
    "\n",
    "See `docs/PHASE2_5_IMPLEMENTATION_REPORT.md` for complete documentation."
   ]
  },
  {
   "cell_type": "markdown",
   "id": "0ac28f0e",
   "metadata": {},
   "source": []
  }
 ],
 "metadata": {
  "kernelspec": {
   "display_name": "fire-prox",
   "language": "python",
   "name": "python3"
  },
  "language_info": {
   "codemirror_mode": {
    "name": "ipython",
    "version": 3
   },
   "file_extension": ".py",
   "mimetype": "text/x-python",
   "name": "python",
   "nbconvert_exporter": "python",
   "pygments_lexer": "ipython3",
   "version": "3.12.7"
  }
 },
 "nbformat": 4,
 "nbformat_minor": 5
}

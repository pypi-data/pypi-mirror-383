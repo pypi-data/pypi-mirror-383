{
 "cells": [
  {
   "cell_type": "code",
   "execution_count": null,
   "metadata": {},
   "outputs": [
    {
     "name": "stdout",
     "output_type": "stream",
     "text": [
      "Plots saved in examples/figures/\n"
     ]
    }
   ],
   "source": [
    "import numpy as np\n",
    "import pandas as pd\n",
    "import matplotlib.pyplot as plt\n",
    "from CausalEstimate.vis.plotting import plot_propensity_score_dist, plot_outcome_proba_dist\n",
    "\n",
    "# Simulate data\n",
    "np.random.seed(42)\n",
    "n = 2000\n",
    "# Generate treatment assignments first\n",
    "treatment = np.random.binomial(1, 0.3, n)\n",
    "# Generate different propensity scores for treated and control groups\n",
    "ps = np.where(treatment == 1,\n",
    "              np.random.beta(4, 2, n),  # Higher values for treated (right-shifted)\n",
    "              np.random.beta(2, 4, n))  # Lower values for control (left-shifted)\n",
    "predicted_outcome = np.random.beta(2, 5, n)  # Simulated outcome probabilities\n",
    "\n",
    "df = pd.DataFrame({\n",
    "    \"ps\": ps,\n",
    "    \"treatment\": treatment,\n",
    "    \"predicted_outcome\": predicted_outcome\n",
    "})\n",
    "\n",
    "# Generate and save plots\n",
    "fig, ax = plot_propensity_score_dist(df, ps_col=\"ps\", treatment_col=\"treatment\", normalize=True)\n",
    "fig.savefig(\"figures/propensity_score_distribution.png\", dpi=300)\n",
    "plt.close(fig)\n",
    "\n",
    "print(\"Plots saved in examples/figures/\")\n"
   ]
  }
 ],
 "metadata": {
  "kernelspec": {
   "display_name": "causalestimate",
   "language": "python",
   "name": "python3"
  },
  "language_info": {
   "codemirror_mode": {
    "name": "ipython",
    "version": 3
   },
   "file_extension": ".py",
   "mimetype": "text/x-python",
   "name": "python",
   "nbconvert_exporter": "python",
   "pygments_lexer": "ipython3",
   "version": "3.11.9"
  }
 },
 "nbformat": 4,
 "nbformat_minor": 2
}

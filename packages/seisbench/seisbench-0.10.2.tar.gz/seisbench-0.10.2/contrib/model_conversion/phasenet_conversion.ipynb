{
 "cells": [
  {
   "cell_type": "markdown",
   "id": "64fca605",
   "metadata": {},
   "source": [
    "### This notebook was used to convert the original PhaseNet weights to SeisBench and ensure binary compatibility. It is not intended for further use, but only serves as a reference\n",
    "\n",
    "**Last run on 05/01/2023** - note that this notebook will not be kept up to date with changes made to Phasenet or SeisBench."
   ]
  },
  {
   "cell_type": "code",
   "execution_count": 1,
   "id": "fcf30fcd",
   "metadata": {},
   "outputs": [],
   "source": [
    "%load_ext autoreload\n",
    "%autoreload 2"
   ]
  },
  {
   "cell_type": "code",
   "execution_count": 2,
   "id": "d7424ec0",
   "metadata": {},
   "outputs": [],
   "source": [
    "PROJECT_ROOT = \"/home/muchmej/code/PhaseNet/\"\n",
    "\n",
    "import sys\n",
    "\n",
    "sys.path.append(PROJECT_ROOT)"
   ]
  },
  {
   "cell_type": "code",
   "execution_count": 3,
   "id": "7ae780e3",
   "metadata": {},
   "outputs": [
    {
     "name": "stderr",
     "output_type": "stream",
     "text": [
      "2023-01-05 09:21:39.093858: I tensorflow/core/platform/cpu_feature_guard.cc:193] This TensorFlow binary is optimized with oneAPI Deep Neural Network Library (oneDNN) to use the following CPU instructions in performance-critical operations:  SSE4.1 SSE4.2 AVX AVX2 AVX512F AVX512_VNNI FMA\n",
      "To enable them in other operations, rebuild TensorFlow with the appropriate compiler flags.\n"
     ]
    }
   ],
   "source": [
    "import tensorflow as tf\n",
    "import numpy as np\n",
    "import matplotlib.pyplot as plt\n",
    "import obspy\n",
    "import torch\n",
    "import seisbench.models as sbm"
   ]
  },
  {
   "cell_type": "code",
   "execution_count": 4,
   "id": "00aa1fd6",
   "metadata": {},
   "outputs": [],
   "source": [
    "from phasenet.model import UNet"
   ]
  },
  {
   "cell_type": "code",
   "execution_count": 5,
   "id": "7d6b6604",
   "metadata": {},
   "outputs": [
    {
     "name": "stdout",
     "output_type": "stream",
     "text": [
      "WARNING:tensorflow:From /home/muchmej/anaconda3/envs/phasenet/lib/python3.10/site-packages/keras/layers/normalization/batch_normalization.py:562: _colocate_with (from tensorflow.python.framework.ops) is deprecated and will be removed in a future version.\n",
      "Instructions for updating:\n",
      "Colocations handled automatically by placer.\n"
     ]
    },
    {
     "name": "stderr",
     "output_type": "stream",
     "text": [
      "WARNING:tensorflow:From /home/muchmej/anaconda3/envs/phasenet/lib/python3.10/site-packages/keras/layers/normalization/batch_normalization.py:562: _colocate_with (from tensorflow.python.framework.ops) is deprecated and will be removed in a future version.\n",
      "Instructions for updating:\n",
      "Colocations handled automatically by placer.\n"
     ]
    }
   ],
   "source": [
    "model = UNet(mode=\"pred\")\n",
    "sess_config = tf.compat.v1.ConfigProto()\n",
    "sess_config.gpu_options.allow_growth = True"
   ]
  },
  {
   "cell_type": "code",
   "execution_count": 6,
   "id": "27b1cfd4",
   "metadata": {},
   "outputs": [
    {
     "name": "stderr",
     "output_type": "stream",
     "text": [
      "2023-01-05 09:21:41.885822: I tensorflow/core/platform/cpu_feature_guard.cc:193] This TensorFlow binary is optimized with oneAPI Deep Neural Network Library (oneDNN) to use the following CPU instructions in performance-critical operations:  SSE4.1 SSE4.2 AVX AVX2 AVX512F AVX512_VNNI FMA\n",
      "To enable them in other operations, rebuild TensorFlow with the appropriate compiler flags.\n",
      "2023-01-05 09:21:41.886417: I tensorflow/core/common_runtime/process_util.cc:146] Creating new thread pool with default inter op setting: 2. Tune using inter_op_parallelism_threads for best performance.\n",
      "2023-01-05 09:21:41.946061: I tensorflow/compiler/mlir/mlir_graph_optimization_pass.cc:354] MLIR V1 optimization pass is not enabled\n"
     ]
    },
    {
     "name": "stdout",
     "output_type": "stream",
     "text": [
      "restoring model /home/muchmej/code/PhaseNet//model/190703-214543/model_95.ckpt\n",
      "INFO:tensorflow:Restoring parameters from /home/muchmej/code/PhaseNet//model/190703-214543/model_95.ckpt\n"
     ]
    },
    {
     "name": "stderr",
     "output_type": "stream",
     "text": [
      "INFO:tensorflow:Restoring parameters from /home/muchmej/code/PhaseNet//model/190703-214543/model_95.ckpt\n"
     ]
    }
   ],
   "source": [
    "sess = tf.compat.v1.Session(config=sess_config)\n",
    "saver = tf.compat.v1.train.Saver(tf.compat.v1.global_variables())\n",
    "init = tf.compat.v1.global_variables_initializer()\n",
    "sess.run(init)\n",
    "latest_check_point = tf.train.latest_checkpoint(f\"{PROJECT_ROOT}/model/190703-214543\")\n",
    "print(f\"restoring model {latest_check_point}\")\n",
    "saver.restore(sess, latest_check_point)"
   ]
  },
  {
   "cell_type": "code",
   "execution_count": 7,
   "id": "72a19767",
   "metadata": {},
   "outputs": [],
   "source": [
    "def predict(vec, aux=False):\n",
    "    vec = vec.copy()\n",
    "    vec -= np.mean(vec)\n",
    "    vec /= np.std(vec)\n",
    "\n",
    "    feed = {model.X: vec, model.drop_rate: 0, model.is_training: False}\n",
    "    if aux:\n",
    "        return sess.run(model.aux, feed_dict=feed)\n",
    "    else:\n",
    "        return sess.run(model.preds, feed_dict=feed)"
   ]
  },
  {
   "cell_type": "code",
   "execution_count": 8,
   "id": "84c783cc",
   "metadata": {},
   "outputs": [
    {
     "data": {
      "text/plain": [
       "[<matplotlib.lines.Line2D at 0x7f37b418dd80>,\n",
       " <matplotlib.lines.Line2D at 0x7f37b418eda0>,\n",
       " <matplotlib.lines.Line2D at 0x7f37b418edd0>]"
      ]
     },
     "execution_count": 8,
     "metadata": {},
     "output_type": "execute_result"
    },
    {
     "data": {
      "image/png": "[encoded data removed]",
      "text/plain": [
       "<Figure size 640x480 with 1 Axes>"
      ]
     },
     "metadata": {},
     "output_type": "display_data"
    }
   ],
   "source": [
    "stream = obspy.read()\n",
    "\n",
    "vec = np.zeros((1, 3001, 1, 3))\n",
    "vec[0, :-1, 0, 2] = stream[0].data\n",
    "vec[0, :-1, 0, 1] = stream[1].data\n",
    "vec[0, :-1, 0, 0] = stream[2].data\n",
    "\n",
    "preds = predict(vec)\n",
    "\n",
    "plt.plot(preds[0, :, 0, :])"
   ]
  },
  {
   "cell_type": "markdown",
   "id": "d35117d0",
   "metadata": {},
   "source": [
    "## Copy weights"
   ]
  },
  {
   "cell_type": "code",
   "execution_count": 9,
   "id": "4d8124f5",
   "metadata": {
    "scrolled": false
   },
   "outputs": [
    {
     "data": {
      "text/plain": [
       "[('DownConv_0/down_bn1_1/beta', [8]),\n",
       " ('DownConv_0/down_bn1_1/gamma', [8]),\n",
       " ('DownConv_0/down_bn1_1/moving_mean', [8]),\n",
       " ('DownConv_0/down_bn1_1/moving_variance', [8]),\n",
       " ('DownConv_0/down_bn3_1/beta', [8]),\n",
       " ('DownConv_0/down_bn3_1/gamma', [8]),\n",
       " ('DownConv_0/down_bn3_1/moving_mean', [8]),\n",
       " ('DownConv_0/down_bn3_1/moving_variance', [8]),\n",
       " ('DownConv_0/down_conv1_1/kernel', [7, 1, 8, 8]),\n",
       " ('DownConv_0/down_conv3_1/kernel', [7, 1, 8, 8]),\n",
       " ('DownConv_1/down_bn1_2/beta', [16]),\n",
       " ('DownConv_1/down_bn1_2/gamma', [16]),\n",
       " ('DownConv_1/down_bn1_2/moving_mean', [16]),\n",
       " ('DownConv_1/down_bn1_2/moving_variance', [16]),\n",
       " ('DownConv_1/down_bn3_2/beta', [16]),\n",
       " ('DownConv_1/down_bn3_2/gamma', [16]),\n",
       " ('DownConv_1/down_bn3_2/moving_mean', [16]),\n",
       " ('DownConv_1/down_bn3_2/moving_variance', [16]),\n",
       " ('DownConv_1/down_conv1_2/kernel', [7, 1, 8, 16]),\n",
       " ('DownConv_1/down_conv3_2/kernel', [7, 1, 16, 16]),\n",
       " ('DownConv_2/down_bn1_3/beta', [32]),\n",
       " ('DownConv_2/down_bn1_3/gamma', [32]),\n",
       " ('DownConv_2/down_bn1_3/moving_mean', [32]),\n",
       " ('DownConv_2/down_bn1_3/moving_variance', [32]),\n",
       " ('DownConv_2/down_bn3_3/beta', [32]),\n",
       " ('DownConv_2/down_bn3_3/gamma', [32]),\n",
       " ('DownConv_2/down_bn3_3/moving_mean', [32]),\n",
       " ('DownConv_2/down_bn3_3/moving_variance', [32]),\n",
       " ('DownConv_2/down_conv1_3/kernel', [7, 1, 16, 32]),\n",
       " ('DownConv_2/down_conv3_3/kernel', [7, 1, 32, 32]),\n",
       " ('DownConv_3/down_bn1_4/beta', [64]),\n",
       " ('DownConv_3/down_bn1_4/gamma', [64]),\n",
       " ('DownConv_3/down_bn1_4/moving_mean', [64]),\n",
       " ('DownConv_3/down_bn1_4/moving_variance', [64]),\n",
       " ('DownConv_3/down_bn3_4/beta', [64]),\n",
       " ('DownConv_3/down_bn3_4/gamma', [64]),\n",
       " ('DownConv_3/down_bn3_4/moving_mean', [64]),\n",
       " ('DownConv_3/down_bn3_4/moving_variance', [64]),\n",
       " ('DownConv_3/down_conv1_4/kernel', [7, 1, 32, 64]),\n",
       " ('DownConv_3/down_conv3_4/kernel', [7, 1, 64, 64]),\n",
       " ('DownConv_4/down_bn1_5/beta', [128]),\n",
       " ('DownConv_4/down_bn1_5/gamma', [128]),\n",
       " ('DownConv_4/down_bn1_5/moving_mean', [128]),\n",
       " ('DownConv_4/down_bn1_5/moving_variance', [128]),\n",
       " ('DownConv_4/down_conv1_5/kernel', [7, 1, 64, 128]),\n",
       " ('Input/input_bn/beta', [8]),\n",
       " ('Input/input_bn/gamma', [8]),\n",
       " ('Input/input_bn/moving_mean', [8]),\n",
       " ('Input/input_bn/moving_variance', [8]),\n",
       " ('Input/input_conv/bias', [8]),\n",
       " ('Input/input_conv/kernel', [7, 1, 3, 8]),\n",
       " ('Output/output_conv/bias', [3]),\n",
       " ('Output/output_conv/kernel', [1, 1, 8, 3]),\n",
       " ('UpConv_0/up_bn0_1/beta', [8]),\n",
       " ('UpConv_0/up_bn0_1/gamma', [8]),\n",
       " ('UpConv_0/up_bn0_1/moving_mean', [8]),\n",
       " ('UpConv_0/up_bn0_1/moving_variance', [8]),\n",
       " ('UpConv_0/up_bn1_1/beta', [8]),\n",
       " ('UpConv_0/up_bn1_1/gamma', [8]),\n",
       " ('UpConv_0/up_bn1_1/moving_mean', [8]),\n",
       " ('UpConv_0/up_bn1_1/moving_variance', [8]),\n",
       " ('UpConv_0/up_conv0_1/kernel', [7, 1, 8, 16]),\n",
       " ('UpConv_0/up_conv1_1/kernel', [7, 1, 16, 8]),\n",
       " ('UpConv_1/up_bn0_2/beta', [16]),\n",
       " ('UpConv_1/up_bn0_2/gamma', [16]),\n",
       " ('UpConv_1/up_bn0_2/moving_mean', [16]),\n",
       " ('UpConv_1/up_bn0_2/moving_variance', [16]),\n",
       " ('UpConv_1/up_bn1_2/beta', [16]),\n",
       " ('UpConv_1/up_bn1_2/gamma', [16]),\n",
       " ('UpConv_1/up_bn1_2/moving_mean', [16]),\n",
       " ('UpConv_1/up_bn1_2/moving_variance', [16]),\n",
       " ('UpConv_1/up_conv0_2/kernel', [7, 1, 16, 32]),\n",
       " ('UpConv_1/up_conv1_2/kernel', [7, 1, 32, 16]),\n",
       " ('UpConv_2/up_bn0_3/beta', [32]),\n",
       " ('UpConv_2/up_bn0_3/gamma', [32]),\n",
       " ('UpConv_2/up_bn0_3/moving_mean', [32]),\n",
       " ('UpConv_2/up_bn0_3/moving_variance', [32]),\n",
       " ('UpConv_2/up_bn1_3/beta', [32]),\n",
       " ('UpConv_2/up_bn1_3/gamma', [32]),\n",
       " ('UpConv_2/up_bn1_3/moving_mean', [32]),\n",
       " ('UpConv_2/up_bn1_3/moving_variance', [32]),\n",
       " ('UpConv_2/up_conv0_3/kernel', [7, 1, 32, 64]),\n",
       " ('UpConv_2/up_conv1_3/kernel', [7, 1, 64, 32]),\n",
       " ('UpConv_3/up_bn0_4/beta', [64]),\n",
       " ('UpConv_3/up_bn0_4/gamma', [64]),\n",
       " ('UpConv_3/up_bn0_4/moving_mean', [64]),\n",
       " ('UpConv_3/up_bn0_4/moving_variance', [64]),\n",
       " ('UpConv_3/up_bn1_4/beta', [64]),\n",
       " ('UpConv_3/up_bn1_4/gamma', [64]),\n",
       " ('UpConv_3/up_bn1_4/moving_mean', [64]),\n",
       " ('UpConv_3/up_bn1_4/moving_variance', [64]),\n",
       " ('UpConv_3/up_conv0_4/kernel', [7, 1, 64, 128]),\n",
       " ('UpConv_3/up_conv1_4/kernel', [7, 1, 128, 64])]"
      ]
     },
     "execution_count": 9,
     "metadata": {},
     "output_type": "execute_result"
    }
   ],
   "source": [
    "pn_vars_names = tf.train.list_variables(PROJECT_ROOT + \"model/190703-214543\")\n",
    "pn_vars_names = [\n",
    "    n for n in pn_vars_names if \"Adam\" not in n[0]\n",
    "]  # Remove Adam optimizer state for each layer (for now)\n",
    "pn_vars_names = [\n",
    "    n for n in pn_vars_names if len(n[1]) > 0\n",
    "]  # Remove global variables that are empty lists\n",
    "\n",
    "pn_vars_names"
   ]
  },
  {
   "cell_type": "code",
   "execution_count": 10,
   "id": "c6794404",
   "metadata": {},
   "outputs": [],
   "source": [
    "def load_variable(var):\n",
    "    return tf.train.load_variable(PROJECT_ROOT + \"model/190703-214543\", var)"
   ]
  },
  {
   "cell_type": "code",
   "execution_count": 11,
   "id": "77dce663",
   "metadata": {},
   "outputs": [],
   "source": [
    "sb_model = sbm.PhaseNet(component_order=\"ENZ\")"
   ]
  },
  {
   "cell_type": "code",
   "execution_count": 12,
   "id": "635da723",
   "metadata": {
    "scrolled": false
   },
   "outputs": [
    {
     "name": "stdout",
     "output_type": "stream",
     "text": [
      "inc.weight torch.Size([8, 3, 7])\n",
      "inc.bias torch.Size([8])\n",
      "in_bn.weight torch.Size([8])\n",
      "in_bn.bias torch.Size([8])\n",
      "in_bn.running_mean torch.Size([8])\n",
      "in_bn.running_var torch.Size([8])\n",
      "in_bn.num_batches_tracked torch.Size([])\n",
      "down_branch.0.0.weight torch.Size([8, 8, 7])\n",
      "down_branch.0.1.weight torch.Size([8])\n",
      "down_branch.0.1.bias torch.Size([8])\n",
      "down_branch.0.1.running_mean torch.Size([8])\n",
      "down_branch.0.1.running_var torch.Size([8])\n",
      "down_branch.0.1.num_batches_tracked torch.Size([])\n",
      "down_branch.0.2.weight torch.Size([8, 8, 7])\n",
      "down_branch.0.3.weight torch.Size([8])\n",
      "down_branch.0.3.bias torch.Size([8])\n",
      "down_branch.0.3.running_mean torch.Size([8])\n",
      "down_branch.0.3.running_var torch.Size([8])\n",
      "down_branch.0.3.num_batches_tracked torch.Size([])\n",
      "down_branch.1.0.weight torch.Size([16, 8, 7])\n",
      "down_branch.1.1.weight torch.Size([16])\n",
      "down_branch.1.1.bias torch.Size([16])\n",
      "down_branch.1.1.running_mean torch.Size([16])\n",
      "down_branch.1.1.running_var torch.Size([16])\n",
      "down_branch.1.1.num_batches_tracked torch.Size([])\n",
      "down_branch.1.2.weight torch.Size([16, 16, 7])\n",
      "down_branch.1.3.weight torch.Size([16])\n",
      "down_branch.1.3.bias torch.Size([16])\n",
      "down_branch.1.3.running_mean torch.Size([16])\n",
      "down_branch.1.3.running_var torch.Size([16])\n",
      "down_branch.1.3.num_batches_tracked torch.Size([])\n",
      "down_branch.2.0.weight torch.Size([32, 16, 7])\n",
      "down_branch.2.1.weight torch.Size([32])\n",
      "down_branch.2.1.bias torch.Size([32])\n",
      "down_branch.2.1.running_mean torch.Size([32])\n",
      "down_branch.2.1.running_var torch.Size([32])\n",
      "down_branch.2.1.num_batches_tracked torch.Size([])\n",
      "down_branch.2.2.weight torch.Size([32, 32, 7])\n",
      "down_branch.2.3.weight torch.Size([32])\n",
      "down_branch.2.3.bias torch.Size([32])\n",
      "down_branch.2.3.running_mean torch.Size([32])\n",
      "down_branch.2.3.running_var torch.Size([32])\n",
      "down_branch.2.3.num_batches_tracked torch.Size([])\n",
      "down_branch.3.0.weight torch.Size([64, 32, 7])\n",
      "down_branch.3.1.weight torch.Size([64])\n",
      "down_branch.3.1.bias torch.Size([64])\n",
      "down_branch.3.1.running_mean torch.Size([64])\n",
      "down_branch.3.1.running_var torch.Size([64])\n",
      "down_branch.3.1.num_batches_tracked torch.Size([])\n",
      "down_branch.3.2.weight torch.Size([64, 64, 7])\n",
      "down_branch.3.3.weight torch.Size([64])\n",
      "down_branch.3.3.bias torch.Size([64])\n",
      "down_branch.3.3.running_mean torch.Size([64])\n",
      "down_branch.3.3.running_var torch.Size([64])\n",
      "down_branch.3.3.num_batches_tracked torch.Size([])\n",
      "down_branch.4.0.weight torch.Size([128, 64, 7])\n",
      "down_branch.4.1.weight torch.Size([128])\n",
      "down_branch.4.1.bias torch.Size([128])\n",
      "down_branch.4.1.running_mean torch.Size([128])\n",
      "down_branch.4.1.running_var torch.Size([128])\n",
      "down_branch.4.1.num_batches_tracked torch.Size([])\n",
      "up_branch.0.0.weight torch.Size([128, 64, 7])\n",
      "up_branch.0.1.weight torch.Size([64])\n",
      "up_branch.0.1.bias torch.Size([64])\n",
      "up_branch.0.1.running_mean torch.Size([64])\n",
      "up_branch.0.1.running_var torch.Size([64])\n",
      "up_branch.0.1.num_batches_tracked torch.Size([])\n",
      "up_branch.0.2.weight torch.Size([64, 128, 7])\n",
      "up_branch.0.3.weight torch.Size([64])\n",
      "up_branch.0.3.bias torch.Size([64])\n",
      "up_branch.0.3.running_mean torch.Size([64])\n",
      "up_branch.0.3.running_var torch.Size([64])\n",
      "up_branch.0.3.num_batches_tracked torch.Size([])\n",
      "up_branch.1.0.weight torch.Size([64, 32, 7])\n",
      "up_branch.1.1.weight torch.Size([32])\n",
      "up_branch.1.1.bias torch.Size([32])\n",
      "up_branch.1.1.running_mean torch.Size([32])\n",
      "up_branch.1.1.running_var torch.Size([32])\n",
      "up_branch.1.1.num_batches_tracked torch.Size([])\n",
      "up_branch.1.2.weight torch.Size([32, 64, 7])\n",
      "up_branch.1.3.weight torch.Size([32])\n",
      "up_branch.1.3.bias torch.Size([32])\n",
      "up_branch.1.3.running_mean torch.Size([32])\n",
      "up_branch.1.3.running_var torch.Size([32])\n",
      "up_branch.1.3.num_batches_tracked torch.Size([])\n",
      "up_branch.2.0.weight torch.Size([32, 16, 7])\n",
      "up_branch.2.1.weight torch.Size([16])\n",
      "up_branch.2.1.bias torch.Size([16])\n",
      "up_branch.2.1.running_mean torch.Size([16])\n",
      "up_branch.2.1.running_var torch.Size([16])\n",
      "up_branch.2.1.num_batches_tracked torch.Size([])\n",
      "up_branch.2.2.weight torch.Size([16, 32, 7])\n",
      "up_branch.2.3.weight torch.Size([16])\n",
      "up_branch.2.3.bias torch.Size([16])\n",
      "up_branch.2.3.running_mean torch.Size([16])\n",
      "up_branch.2.3.running_var torch.Size([16])\n",
      "up_branch.2.3.num_batches_tracked torch.Size([])\n",
      "up_branch.3.0.weight torch.Size([16, 8, 7])\n",
      "up_branch.3.1.weight torch.Size([8])\n",
      "up_branch.3.1.bias torch.Size([8])\n",
      "up_branch.3.1.running_mean torch.Size([8])\n",
      "up_branch.3.1.running_var torch.Size([8])\n",
      "up_branch.3.1.num_batches_tracked torch.Size([])\n",
      "up_branch.3.2.weight torch.Size([8, 16, 7])\n",
      "up_branch.3.3.weight torch.Size([8])\n",
      "up_branch.3.3.bias torch.Size([8])\n",
      "up_branch.3.3.running_mean torch.Size([8])\n",
      "up_branch.3.3.running_var torch.Size([8])\n",
      "up_branch.3.3.num_batches_tracked torch.Size([])\n",
      "out.weight torch.Size([3, 8, 1])\n",
      "out.bias torch.Size([3])\n"
     ]
    }
   ],
   "source": [
    "for k, v in sb_model.state_dict().items():\n",
    "    print(k, v.shape)"
   ]
  },
  {
   "cell_type": "code",
   "execution_count": 13,
   "id": "9b93a621",
   "metadata": {},
   "outputs": [],
   "source": [
    "def copy_batch_norm(source_name, target_name, target_dict):\n",
    "    norm_dict = {\n",
    "        \"weight\": \"gamma\",\n",
    "        \"bias\": \"beta\",\n",
    "        \"running_mean\": \"moving_mean\",\n",
    "        \"running_var\": \"moving_variance\",\n",
    "    }\n",
    "\n",
    "    for pt_name, tf_name in norm_dict.items():\n",
    "        target_dict[f\"{target_name}.{pt_name}\"] = load_variable(\n",
    "            f\"{source_name}/{tf_name}\"\n",
    "        )\n",
    "\n",
    "    target_dict[f\"{target_name}.num_batches_tracked\"] = np.array(0)"
   ]
  },
  {
   "cell_type": "code",
   "execution_count": 14,
   "id": "7e19bd99",
   "metadata": {},
   "outputs": [],
   "source": [
    "def copy_conv(source_name, target_name, target_dict, bias=True):\n",
    "    target_dict[f\"{target_name}.weight\"] = load_variable(f\"{source_name}/kernel\")[\n",
    "        :, 0, :, :\n",
    "    ].T\n",
    "\n",
    "    if bias:\n",
    "        target_dict[f\"{target_name}.bias\"] = load_variable(f\"{source_name}/bias\")"
   ]
  },
  {
   "cell_type": "code",
   "execution_count": 15,
   "id": "b1793248",
   "metadata": {},
   "outputs": [],
   "source": [
    "def copy_conv_trans(source_name, target_name, target_dict, bias=True):\n",
    "    data = load_variable(f\"{source_name}/kernel\")[:, 0, :, :]\n",
    "    target_dict[f\"{target_name}.weight\"] = np.transpose(data, (2, 1, 0))\n",
    "\n",
    "    if bias:\n",
    "        target_dict[f\"{target_name}.bias\"] = load_variable(f\"{source_name}/bias\")"
   ]
  },
  {
   "cell_type": "code",
   "execution_count": 16,
   "id": "108a8423",
   "metadata": {},
   "outputs": [],
   "source": [
    "new_state_dict = {}"
   ]
  },
  {
   "cell_type": "code",
   "execution_count": 17,
   "id": "86bae8dc",
   "metadata": {},
   "outputs": [],
   "source": [
    "# Input - Original component order ENZ\n",
    "copy_batch_norm(\"Input/input_bn\", \"in_bn\", new_state_dict)\n",
    "copy_conv(\"Input/input_conv\", \"inc\", new_state_dict)"
   ]
  },
  {
   "cell_type": "code",
   "execution_count": 18,
   "id": "1ec166f1",
   "metadata": {},
   "outputs": [],
   "source": [
    "# Down branch\n",
    "for i in range(5):\n",
    "    copy_conv(\n",
    "        f\"DownConv_{i}/down_conv1_{i + 1}\",\n",
    "        f\"down_branch.{i}.0\",\n",
    "        new_state_dict,\n",
    "        bias=False,\n",
    "    )\n",
    "    copy_batch_norm(\n",
    "        f\"DownConv_{i}/down_bn1_{i + 1}\", f\"down_branch.{i}.1\", new_state_dict\n",
    "    )\n",
    "    if i != 4:\n",
    "        copy_conv(\n",
    "            f\"DownConv_{i}/down_conv3_{i + 1}\",\n",
    "            f\"down_branch.{i}.2\",\n",
    "            new_state_dict,\n",
    "            bias=False,\n",
    "        )\n",
    "        copy_batch_norm(\n",
    "            f\"DownConv_{i}/down_bn3_{i + 1}\", f\"down_branch.{i}.3\", new_state_dict\n",
    "        )"
   ]
  },
  {
   "cell_type": "code",
   "execution_count": 19,
   "id": "1c48c299",
   "metadata": {},
   "outputs": [],
   "source": [
    "# Up branch\n",
    "for i in range(4):\n",
    "    source_i = 3 - i\n",
    "    copy_conv_trans(\n",
    "        f\"UpConv_{source_i}/up_conv0_{source_i + 1}\",\n",
    "        f\"up_branch.{i}.0\",\n",
    "        new_state_dict,\n",
    "        bias=False,\n",
    "    )\n",
    "    copy_batch_norm(\n",
    "        f\"UpConv_{source_i}/up_bn0_{source_i + 1}\", f\"up_branch.{i}.1\", new_state_dict\n",
    "    )\n",
    "    copy_conv(\n",
    "        f\"UpConv_{source_i}/up_conv1_{source_i + 1}\",\n",
    "        f\"up_branch.{i}.2\",\n",
    "        new_state_dict,\n",
    "        bias=False,\n",
    "    )\n",
    "    copy_batch_norm(\n",
    "        f\"UpConv_{source_i}/up_bn1_{source_i + 1}\", f\"up_branch.{i}.3\", new_state_dict\n",
    "    )"
   ]
  },
  {
   "cell_type": "code",
   "execution_count": 20,
   "id": "a0c89895",
   "metadata": {},
   "outputs": [],
   "source": [
    "# Output\n",
    "copy_conv(\"Output/output_conv\", \"out\", new_state_dict)"
   ]
  },
  {
   "cell_type": "code",
   "execution_count": 21,
   "id": "d0805d8a",
   "metadata": {},
   "outputs": [
    {
     "data": {
      "text/plain": [
       "93"
      ]
     },
     "execution_count": 21,
     "metadata": {},
     "output_type": "execute_result"
    }
   ],
   "source": [
    "len(pn_vars_names)"
   ]
  },
  {
   "cell_type": "code",
   "execution_count": 22,
   "id": "e4f7bd19",
   "metadata": {},
   "outputs": [
    {
     "data": {
      "text/plain": [
       "111"
      ]
     },
     "execution_count": 22,
     "metadata": {},
     "output_type": "execute_result"
    }
   ],
   "source": [
    "len(new_state_dict)"
   ]
  },
  {
   "cell_type": "code",
   "execution_count": 23,
   "id": "d3054d4a",
   "metadata": {},
   "outputs": [],
   "source": [
    "state_dict = sb_model.state_dict()\n",
    "for key in state_dict.keys():\n",
    "    if key not in new_state_dict:\n",
    "        print(key)\n",
    "        continue\n",
    "\n",
    "    if state_dict[key].shape != new_state_dict[key].shape:\n",
    "        print(key)"
   ]
  },
  {
   "cell_type": "code",
   "execution_count": 24,
   "id": "552b11bc",
   "metadata": {},
   "outputs": [
    {
     "data": {
      "text/plain": [
       "<All keys matched successfully>"
      ]
     },
     "execution_count": 24,
     "metadata": {},
     "output_type": "execute_result"
    }
   ],
   "source": [
    "for key, val in new_state_dict.items():\n",
    "    new_state_dict[key] = torch.tensor(val)\n",
    "\n",
    "sb_model.load_state_dict(new_state_dict)"
   ]
  },
  {
   "cell_type": "markdown",
   "id": "4abf5097",
   "metadata": {},
   "source": [
    "## Compare models"
   ]
  },
  {
   "cell_type": "code",
   "execution_count": 25,
   "id": "f11cfb96",
   "metadata": {},
   "outputs": [],
   "source": [
    "vec = vec.copy()\n",
    "vec -= np.mean(vec)\n",
    "vec /= np.std(vec)\n",
    "\n",
    "vec_pt = torch.tensor(vec[:, :, 0], dtype=torch.float32).permute(0, 2, 1)"
   ]
  },
  {
   "cell_type": "code",
   "execution_count": 26,
   "id": "00e1632c",
   "metadata": {},
   "outputs": [
    {
     "data": {
      "image/png": "[encoded data removed]",
      "text/plain": [
       "<Figure size 640x480 with 1 Axes>"
      ]
     },
     "metadata": {},
     "output_type": "display_data"
    }
   ],
   "source": [
    "sb_model.eval()\n",
    "\n",
    "with torch.no_grad():\n",
    "    pred = sb_model(vec_pt)\n",
    "    pred = pred.numpy()\n",
    "\n",
    "aux = pred\n",
    "plt.plot(aux[0].T);"
   ]
  },
  {
   "cell_type": "code",
   "execution_count": 27,
   "id": "5cd05361",
   "metadata": {},
   "outputs": [
    {
     "data": {
      "image/png": "[encoded data removed]",
      "text/plain": [
       "<Figure size 640x480 with 1 Axes>"
      ]
     },
     "metadata": {},
     "output_type": "display_data"
    }
   ],
   "source": [
    "feed = {model.X: vec, model.drop_rate: 0, model.is_training: False}\n",
    "aux_tf = sess.run(model.preds, feed_dict=feed)\n",
    "\n",
    "plt.plot(aux_tf[0, :, 0, :]);"
   ]
  },
  {
   "cell_type": "code",
   "execution_count": 28,
   "id": "89e50d64",
   "metadata": {},
   "outputs": [
    {
     "name": "stdout",
     "output_type": "stream",
     "text": [
      "2.9802322e-07\n"
     ]
    },
    {
     "data": {
      "image/png": "[encoded data removed]",
      "text/plain": [
       "<Figure size 640x480 with 1 Axes>"
      ]
     },
     "metadata": {},
     "output_type": "display_data"
    }
   ],
   "source": [
    "diff = aux[0].T - aux_tf[0, :, 0, :]\n",
    "\n",
    "plt.plot(diff)\n",
    "print(np.max(np.abs(diff)))"
   ]
  },
  {
   "cell_type": "code",
   "execution_count": 29,
   "id": "e8c324f9",
   "metadata": {},
   "outputs": [],
   "source": [
    "# sb_model.save(\"/home/muchmej/.seisbench/models/phasenet/original\", weights_docstring=\"Original PhaseNet model from Zhu et al. (2018). Originally published under MIT License. Original available at https://github.com/AI4EPS/PhaseNet/tree/master/model/190703-214543 . \\n\\nConverted to SeisBench by Jannes Münchmeyer (munchmej@univ-grenoble-alpes.fr) with help from Sacha Lapins, Yiyuan Zhong, and Jun Zhu\")"
   ]
  },
  {
   "cell_type": "code",
   "execution_count": null,
   "id": "590064d3",
   "metadata": {},
   "outputs": [],
   "source": []
  }
 ],
 "metadata": {
  "kernelspec": {
   "display_name": "Python 3 (ipykernel)",
   "language": "python",
   "name": "python3"
  },
  "language_info": {
   "codemirror_mode": {
    "name": "ipython",
    "version": 3
   },
   "file_extension": ".py",
   "mimetype": "text/x-python",
   "name": "python",
   "nbconvert_exporter": "python",
   "pygments_lexer": "ipython3",
   "version": "3.10.8"
  }
 },
 "nbformat": 4,
 "nbformat_minor": 5
}

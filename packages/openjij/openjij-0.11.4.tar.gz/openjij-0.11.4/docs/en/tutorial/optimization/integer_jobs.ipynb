{
 "cells": [
  {
   "cell_type": "markdown",
   "metadata": {},
   "source": [
    "# Job Sequencing Problem with Integer Lengths\n",
    "Here we show how to solve the job sequencing problems with integer lengths using OpenJij, [JijModeling](https://www.ref.documentation.jijzept.com/jijmodeling/), and ommx-openjij-adapter. This problem is also mentioned in 6.3. Job Sequencing with Integer Lengths in [Lucas, 2014, \"Ising formulations of many NP problems\"](https://doi.org/10.3389/fphy.2014.00005)."
   ]
  },
  {
   "cell_type": "markdown",
   "metadata": {},
   "source": [
    "## Overview of the Job Sequencing Problem with Integer Lengths\n",
    "\n",
    "We consider several computers and tasks with integer lengths (i.e., task 1 takes one hour to execute on a computer, task 2 takes three hours, and so on).\n",
    "When allocating these tasks to multiple computers to execute, the question is what combinations can be used to distribute the execution time of the computers without creating bias.\n",
    "We can obtain a leveled solution by minimizing the largest value.\n",
    "\n",
    "### Example\n",
    "\n",
    "As an example of this problem, consider the following situation.\n",
    "\n",
    "> Here are 10 tasks and 3 computers. \n",
    "> The length of each of the 10 tasks is 1, 2, ..., 10.\n",
    "> Our goal is to assign these tasks to the computers and minimize the maximum amount of time the tasks take.\n",
    "> In this case, one of the optimal solution is $\\{1, 2, 7, 8\\}, \\{3, 4, 5, 6\\}$ and $\\{9, 10\\}$, whose maximum execution time of computers is 19.\n",
    "\n",
    "![](../../../assets/integer_jobs_01_en.png)"
   ]
  },
  {
   "cell_type": "markdown",
   "metadata": {},
   "source": [
    "### Mathematical Model\n",
    "Next, we introduce $N$ tasks $\\{0, 1, ..., N-1\\}$ and list of the execution time $\\boldsymbol{L} = \\{L_0, L_1, ..., L_{N-1}\\}$. \n",
    "Given $M$ computers, the total execution time of the $j$ th computer to perform its assigned tasks is $A_j = \\sum_{i \\in V_j} L_i$ where $V_j$ is a set of assigned tasks to the $j$ th computer. Note that $A_j = \\sum_i L_i x_{ij}$.\n",
    "Finally, let us denote $x_{i, j}$ to be a binary variable which is 1 if the $i$ th task is assigned to the $j$ th computer, and 0 otherwise.\n",
    "\n",
    "#### Constraint\n",
    "Each task must be performed on one computer; for example, task 3 is not allowed to be executed on both computers 1 and 2. Also, it is not allowed that there is no computer that handles task 3.\n",
    "\n",
    "$$\n",
    "\\nonumber\n",
    "\\sum_{j=0}^{M-1} x_{i, j} = 1 \\quad (\\forall i \\in \\{ 0, 1, \\dots, N-1 \\})\n",
    "$$(1)\n",
    "\n",
    "#### Objective Function\n",
    "We consider the execution time of the $0$ th computer as the reference and minimize the difference between that and others.\n",
    "This reduces the execution time variability and the tasks are distributed equally.\n",
    "\n",
    "$$\n",
    "\\min \\quad \\sum_{j=1}^{M-1} (A_0 - A_j)^2\n",
    "$$(2)\n",
    "\n"
   ]
  },
  {
   "cell_type": "markdown",
   "metadata": {},
   "source": [
    "## Modeling by JijModeling\n",
    "\n",
    "Next, we show an implementation using JijModeling.\n",
    "We first define variables for the mathematical model described above."
   ]
  },
  {
   "cell_type": "code",
   "execution_count": 5,
   "metadata": {},
   "outputs": [],
   "source": [
    "import jijmodeling as jm\n",
    "\n",
    "\n",
    "# defin variables\n",
    "L = jm.Placeholder('L', ndim=1)\n",
    "N = L.len_at(0, latex=\"N\")\n",
    "M = jm.Placeholder('M')\n",
    "x = jm.BinaryVar('x', shape=(N, M))\n",
    "i = jm.Element('i', (0, N))\n",
    "j = jm.Element('j', (0, M))"
   ]
  },
  {
   "cell_type": "markdown",
   "metadata": {},
   "source": [
    "`L` is a one-dimensional array representing the execution time of each task.\n",
    "`N` denotes the number of tasks, and `M` is the number of computers.\n",
    "We define a two-dimensional binary variables `x`, and we set the subscripts `i` and `j` used in the mathematical model.\n",
    "\n",
    "### Constraint\n",
    "\n",
    "We implement the constraint in equation (1) as follows:"
   ]
  },
  {
   "cell_type": "code",
   "execution_count": 6,
   "metadata": {},
   "outputs": [],
   "source": [
    "# set problem\n",
    "problem = jm.Problem('Integer Jobs')\n",
    "# set constraint: job must be executed using a certain node\n",
    "problem += jm.Constraint('onehot', x[i, :].sum()==1, forall=i)"
   ]
  },
  {
   "cell_type": "markdown",
   "metadata": {},
   "source": [
    "### Objective Function\n"
   ]
  },
  {
   "cell_type": "code",
   "execution_count": 7,
   "metadata": {},
   "outputs": [
    {
     "data": {
      "text/latex": [
       "$$\\begin{array}{cccc}\\text{Problem:} & \\text{Integer Jobs} & & \\\\& & \\min \\quad \\displaystyle \\sum_{\\substack{j = 0\\\\j \\neq 0}}^{M - 1} \\left(\\left(\\sum_{i = 0}^{N - 1} L_{i} \\cdot x_{i, 0} - \\sum_{i = 0}^{N - 1} L_{i} \\cdot x_{i, j}\\right)^{2}\\right) & \\\\\\text{{s.t.}} & & & \\\\ & \\text{onehot} & \\displaystyle \\sum_{\\ast_{1} = 0}^{M - 1} x_{i, \\ast_{1}} = 1 & \\forall i \\in \\left\\{0,\\ldots,N - 1\\right\\} \\\\\\text{{where}} & & & \\\\& x & 2\\text{-dim binary variable}\\\\\\end{array}$$"
      ],
      "text/plain": [
       "<jijmodeling.Problem at 0x139a4dc00>"
      ]
     },
     "execution_count": 7,
     "metadata": {},
     "output_type": "execute_result"
    }
   ],
   "source": [
    "# set objective function: minimize difference between node 0 and others\n",
    "A_0 = jm.sum(i, L[i]*x[i, 0])\n",
    "A_j = jm.sum(i, L[i]*x[i, j])\n",
    "problem += jm.sum((j, j!=0), (A_0 - A_j) ** 2)\n",
    "problem"
   ]
  },
  {
   "cell_type": "markdown",
   "metadata": {},
   "source": [
    "### Instance\n",
    "\n",
    "Here we set the execution time of each job and the number of computers. We use the same values from the example mentioned."
   ]
  },
  {
   "cell_type": "code",
   "execution_count": 8,
   "metadata": {},
   "outputs": [],
   "source": [
    "# set a list of jobs\n",
    "inst_L = [1, 2, 3, 4, 5, 6, 7, 8, 9, 10]\n",
    "# set the number of Nodes\n",
    "inst_M = 3\n",
    "instance_data = {'L': inst_L, 'M': inst_M}"
   ]
  },
  {
   "cell_type": "markdown",
   "metadata": {},
   "source": [
    "## Create Instance"
   ]
  },
  {
   "cell_type": "code",
   "execution_count": 10,
   "metadata": {},
   "outputs": [],
   "source": [
    "instance = jm.Interpreter(instance_data).eval_problem(problem)"
   ]
  },
  {
   "cell_type": "markdown",
   "metadata": {},
   "source": [
    "### Optimization by OpenJij\n",
    "\n",
    "This time, we will use OpenJij's simulated annealing to solve the optimization problem."
   ]
  },
  {
   "cell_type": "code",
   "execution_count": 13,
   "metadata": {},
   "outputs": [],
   "source": [
    "import ommx_openjij_adapter as oj_ad\n",
    "import openjij as oj\n",
    "\n",
    "sampleset = oj_ad.OMMXOpenJijSAAdapter.sample(\n",
    "    instance, uniform_penalty_weight=8.0, num_reads=100\n",
    ")\n"
   ]
  },
  {
   "cell_type": "markdown",
   "metadata": {},
   "source": [
    "From the results thus obtained, we can see how the task execution is distributed."
   ]
  },
  {
   "cell_type": "code",
   "execution_count": 15,
   "metadata": {},
   "outputs": [
    {
     "data": {
      "image/png": "[encoded data removed]",
      "text/plain": [
       "<Figure size 640x480 with 1 Axes>"
      ]
     },
     "metadata": {},
     "output_type": "display_data"
    }
   ],
   "source": [
    "import matplotlib.pyplot as plt\n",
    "import numpy as np\n",
    "\n",
    "x_result = sampleset.best_feasible_unrelaxed().extract_decision_variables(\"x\")\n",
    "# get the solution of the lowest index\n",
    "x_indices = {k: v for k, v in x_result.items() if v > 0.5}\n",
    "# get the instance information\n",
    "L = instance_data[\"L\"]\n",
    "M = instance_data[\"M\"]\n",
    "# initialize execution time\n",
    "exec_time = np.zeros(M, dtype=np.int64)\n",
    "# compute summation of execution time each nodes\n",
    "for i, j in x_indices:\n",
    "    plt.barh(j, L[i], left=exec_time[j], ec=\"k\", linewidth=1, alpha=0.8)\n",
    "    plt.text(exec_time[j] + L[i] / 2.0 - 0.25, j - 0.05, str(i + 1), fontsize=12)\n",
    "    exec_time[j] += L[i]\n",
    "plt.yticks(range(M))\n",
    "plt.ylabel(\"Computer numbers\")\n",
    "plt.xlabel(\"Execution time\")\n",
    "plt.show()"
   ]
  },
  {
   "cell_type": "markdown",
   "metadata": {},
   "source": [
    "With the above visualization, we obtain a graph where the execution times of three computers are approximately equal.\n",
    "The maximum value is 19, as explained at the beginning."
   ]
  }
 ],
 "metadata": {
  "kernelspec": {
   "display_name": ".venv",
   "language": "python",
   "name": "python3"
  },
  "language_info": {
   "codemirror_mode": {
    "name": "ipython",
    "version": 3
   },
   "file_extension": ".py",
   "mimetype": "text/x-python",
   "name": "python",
   "nbconvert_exporter": "python",
   "pygments_lexer": "ipython3",
   "version": "3.11.11"
  }
 },
 "nbformat": 4,
 "nbformat_minor": 4
}

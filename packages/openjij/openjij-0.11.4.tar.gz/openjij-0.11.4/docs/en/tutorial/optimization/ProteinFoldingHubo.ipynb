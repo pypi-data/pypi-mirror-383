{
 "cells": [
  {
   "cell_type": "markdown",
   "metadata": {},
   "source": [
    "# Protein Folding Problem"
   ]
  },
  {
   "cell_type": "markdown",
   "metadata": {},
   "source": [
    "In 2012, Alejandro used a quantum annealing machine (D-wave) to solve a protein folding problem in 2012 [1].\n",
    "\n",
    "Here, the protein folding problem is to predict the three-dimensional (3D) structure of a protein from its one-dimensional (1D) information in the form of an amino acid sequence.\n",
    "Proteins are characterized by their amino acid sequences, and it is known that each amino acid sequence corresponds to a unique 3D structure.\n",
    "Since a protein can function as a biopolymer only when it has a unique 3D structure, predicting that from its amino acid sequence is critical.\n",
    "However, the causal relationship between the amino acid sequence and the 3D protein structure is still not well understood and is a very difficult problem.\n",
    "\n",
    "In this note, we will solve the protein folding problem using [OpenJij's HUBO solver](https://openjij.github.io/OpenJij/tutorial/en/002-HuboSolver.html) and compare the results with the paper [1]."
   ]
  },
  {
   "cell_type": "markdown",
   "metadata": {},
   "source": [
    "## Typical Models\n",
    "\n",
    "One of the methods to determine the 3D structure of a protein is as follows:\n",
    "First, we simplify the 3D protein structure to a two-dimensional (2D) lattice structure with some complicated elements being eliminated. \n",
    "Then, we formulate HUBO from this 2D lattice folding model, where solutions of the HUBO correspond to the 2D lattice structure of the protein. \n",
    "Finally, we solve the HUBO in ways such as quantum annealing (D-wave), simulated annealing (OpenJij's HUBO solver), etc.\n",
    "\n",
    "There are several types of lattice folding models, and two representative models, the Hydrophobic-Polar (HP) model, and the Miyazawa-Jernigan (MJ) model, are introduced below.\n",
    "Note that the MJ model is used as a 2D lattice folding model in the paper [1].\n",
    "\n",
    "### HP Model \n",
    "A protein has a stable 3D structure consisting of polypeptides folded from tens to hundreds of amino acid sequences.\n",
    "It is difficult to treat the 3D structure of a polypeptide as it is, even with a supercomputer, owing to its being computationally expensive.\n",
    "This is because we need to take into account various interactions such as hydrogen bonding, electrostatic interactions, van der Waals forces, hydrophobic interactions, etc.\n",
    "The HP model introduced by Lau and Dill [2] considers only hydrophobic interactions.\n",
    "Fortunately, this simple model can explain the 3D structure of a polypeptide to a certain extent.\n",
    "This model classifies amino acids into only two types, hydrophobic (H: hydrophobic) and hydrophilic (P: polar), and represents the amino acid sequence as an H and P sequence.\n",
    "The interaction, on the other hand, is assumed that the energy is lowered when two H monomers are in the nearest neighbor sites.\n",
    "\n",
    "Reference\n",
    "\n",
    "- https://repository.kulib.kyoto-u.ac.jp/dspace/bitstream/2433/96792/1/KJ00004709268.pdf\n",
    "- http://www.iba.t.u-tokyo.ac.jp/iba/AI/HP.pdf\n",
    "\n",
    "\n",
    "### MJ Model\n",
    "In the HP model, amino acids are simplified and classified into only two types: hydrophobic and hydrophilic. In other words, it does not take into account the differences in the magnitude of interactions between the amino acids.\n",
    "The MJ model was introduced to build a more accurate model, where these differences are taken into account.\n",
    "\n",
    "The interactions of the MJ model are determined by collecting a large number of proteins with known 3D structures, counting the number of amino acid pairs that are close to each other among them, and expressing the statistical information as interaction energies between amino acids.\n",
    "If the number of amino acid pairs in a 3D structure group is large, the absolute value of the interaction energy becomes large.\n",
    "This interaction energy expresses the tendency of amino acid pairs to form more or less easily.\n",
    "\n",
    "The paper [1] uses the values reported in Table 3 of the reference paper [3]."
   ]
  },
  {
   "cell_type": "markdown",
   "metadata": {},
   "source": [
    "## Solution Overview\n",
    "This section describes how to construct the model addressed in the paper [1].\n",
    "The amino acid sequence used in this study is a 6-amino acid one: Proline-Serine-Valine-Lysine-Methionine-Alanine (P-S-V-K-M-A).\n",
    "Note that the order of the amino acids P-S-V-K-M-A is fixed.\n",
    "We consider the problem of folding these amino acid sequences on a 2D lattice.\n",
    "However, it is difficult to process all the amino acid sequences at once, even though there are only six.\n",
    "Therefore, we build the model by considering some already folded patterns to start with.\n",
    "In the following, we will discuss scheme 3 from the paper [1] as a simple example.\n",
    "\n",
    "In the following sections, we will explain the detailed solution procedure in the order below.\n",
    "\n",
    "1. Bit representation of lattice folding\n",
    "2. Cost function formulation\n",
    "3. Direct solving with HUBO\n",
    "4. Comparison of the results: the direct HUBO solving and the reference paper [1]"
   ]
  },
  {
   "cell_type": "markdown",
   "metadata": {},
   "source": [
    "### 1. Bit Representation of Lattice Folding\n",
    "In this section, we explain how to map the 2D structure of amino acids to a bit sequence; we will consider the P-S-V-K-M-A sequence structure as an example, but a more realistic 3D structure can also be mapped as well.\n",
    "The method is very simple.\n",
    "Since we here consider a 2D lattice, there are four ways to fold amino acids: top, bottom, left, and right.\n",
    "For these, we assign two bits as follows:\n",
    "\n",
    "$$00(\\text{down})\\qquad01(\\text{right})\\qquad10(\\text{left})\\qquad11(\\text{up})$$ \n",
    "\n",
    "This gives a one-to-one correspondence between $2\\times6=12$ bit sequences and the structure on the 2D lattice of six amino acid sequences.\n",
    "For example, the bit sequence $\\mathrm{010101010101}$ is translated into the sequence right, right, right, right, right, right by reading in two bits from the left.\n",
    "Thus, the bit sequence $\\mathrm{010101010101}$ corresponds to a structure in which the amino acids are aligned horizontally to the right in the order of P-S-V-K-M-A.\n",
    "A more complex example is shown in Figure 1.\n",
    "\n",
    "A simple consideration shows that the first three bits can be fixed to $010$.\n",
    "First, we can assume that S is folded to the right of P without loss of generality from the symmetry of the plane.\n",
    "Therefore, the first two bits can be fixed as $01$.\n",
    "Furthermore, since folding V above or below S is the same thing due to the symmetry of the plane, we will only consider the case where V folds below.\n",
    "We also exclude the case where V folds to the left of S and overlaps with P. Based on the above considerations and assumptions, we can consider only the case where V folds to the right or below S.\n",
    "Therefore, the third bit is determined to be 0, and we only need to determine the remaining $12-3=9$ bits of the sequence."
   ]
  },
  {
   "cell_type": "markdown",
   "metadata": {},
   "source": [
    "<img src=\"../../../assets/protein_folding_lattice_folding_mapping.png\">"
   ]
  },
  {
   "cell_type": "markdown",
   "metadata": {},
   "source": [
    "Figure 1: Correspondence between lattice folding and bit sequence.\n",
    "Reading the final bit sequence $\\mathrm{0100101011}$, separated by two bits, we see that the 2D structure corresponds to the right, bottom, left, and top, as shown in the figure.\n",
    "Reproduced from Figure 2(a) of the paper [1]: Alejandro Perdomo-Ortiz, Neil Dickson, Marshall Drew-Brook, Geordie Rose and Alán Aspuru-Guzik, Finding low-energy conformations of lattice protein models by quantum annealing. Sci Rep 2, 571 (2012). https://doi.org/10.1038/srep00571 ([CC-BY 4.0.](https://creativecommons.org/licenses/by/4.0/))"
   ]
  },
  {
   "cell_type": "markdown",
   "metadata": {},
   "source": [
    "### 2. Cost Function Formulation\n",
    "\n",
    "This section describes how to formulate the cost function.\n",
    "In the paper [1], we consider the contribution of the following two terms:\n",
    "\n",
    "$$\n",
    "E_\\mathrm{p} = E_\\mathrm{onsite} + E_\\mathrm{pw}\n",
    "$$\n",
    "\n",
    "- 1st term: Energy of amino acids overlapping each other\n",
    "- 2nd term: Energy of amino acid interaction when amino acids are next to each other (pw: pair-wise).\n",
    "\n",
    "Since there was no detailed description of the first term in the paper [1], we assume a uniform energy $\\lambda$ regardless of the amino acid type and set $\\lambda=11$. For the second term, we used the table in Figure 3(a) of the paper [1]."
   ]
  },
  {
   "cell_type": "markdown",
   "metadata": {},
   "source": [
    "As an example, consider Experiment 3 of Scheme 3 in the paper [1] as the initial state. The amino acid sequence is:\n",
    "\n",
    "P-S-V-K-M-A\n",
    "\n",
    "The 2D structure of P-S-V-K has already been determined as shown in Figure 2 below.\n",
    "Let us consider the cost function to determine the structures of the remaining M and A.\n",
    "We here start from the structure in the red box as the initial state and M is considered only if it is collapsed below or to the left of K.\n",
    "Thus, there are three decision variables $q_1$, $q_2$, and $q_3$.\n"
   ]
  },
  {
   "cell_type": "markdown",
   "metadata": {},
   "source": [
    "<img src=\"../../../assets/protein_folding_scheme.png\">"
   ]
  },
  {
   "cell_type": "markdown",
   "metadata": {},
   "source": [
    "Figure 2：The 2D structure of P-S-V-K.\n",
    "We here start from the structure in the red box as the initial state and M is considered only if it is collapsed below or to the left of K.\n",
    "Thus, there are three decision variables $q_1$, $q_2$, and $q_3$.\n",
    "Modified from Figure 3(b) of paper [1]: Alejandro Perdomo-Ortiz, Neil Dickson, Marshall Drew-Brook, Geordie Rose and Alán Aspuru-Guzik, Finding low-energy conformations of lattice protein models by quantum annealing. https://doi.org/10.1038/srep00571 ([CC-BY 4.0.](https://creativecommons.org/licenses/by/4.0/))"
   ]
  },
  {
   "cell_type": "markdown",
   "metadata": {},
   "source": [
    "The basic idea is simple: we derive the cost function by finding all possible 2D structures and calculating the corresponding energies.\n",
    "However, this method requires an exponential amount of time as the decision variables $q_i$ are large to derive the cost function itself.\n",
    "Also, since the possible energies are calculated each time, the optimal solution is already known when the cost function is obtained, without having to go through the trouble of annealing to find a solution.\n",
    "This explanation is provided here to make the derivation of equation (5) in the paper [1] easier to understand.\n",
    "Figure 3 explains how to construct the cost function."
   ]
  },
  {
   "cell_type": "markdown",
   "metadata": {},
   "source": [
    "<img src=\"../../../assets/protein_folding_make_costfunction_about_protein_folding.png\">"
   ]
  },
  {
   "cell_type": "markdown",
   "metadata": {},
   "source": [
    "Figure 3: Cost function formulation.\n",
    "Modified from Figure 3(a) in the paper [1]: Alejandro Perdomo-Ortiz, Neil Dickson, Marshall Drew-Brook, Geordie Rose and Alán Aspuru-Guzik, Finding low-energy conformations of lattice protein models by quantum annealing. Sci Rep 2, 571 (2012). https://doi.org/10.1038/srep00571 ([CC-BY 4.0.](https://creativecommons.org/licenses/by/4.0/))"
   ]
  },
  {
   "cell_type": "markdown",
   "metadata": {},
   "source": [
    "Now let us look at the specifics. \n",
    "\n",
    "1. The initial condition of the P-K interaction generates an energy of -1.\\\n",
    "This is a constant term in the cost function, which does not depend on the bit sequence, and a constant term of -1 appears in equation (5) of the paper [1].\n",
    "Calculating all possible energies leads to the terms, which make sense as a cost function.\n",
    "In other words, we consider a 2D structure corresponding to all possible $2^{3}=8$ patterns of the unknown bit sequence $(q_{1},q_{2},q_{3})$.\n",
    "We can see that the only combinations with finite energy contribution among them are the bit sequences shown in 2-5 below.\n",
    "Here, the energies due to interactions between the nearest amino acids are taken from the table in the lower left corner of Figure 3. Additionally, the energy associated with overlap between amino acids is shown in Figure 3, and by setting $\\lambda=11$, it agrees with equation (5) in the paper [1].\n",
    "\n",
    "2. $(q_{1},q_{2},q_{3})=(0,0,1)$\\\n",
    "The V-A interaction produces -4 energy as shown in Figure 3(b).\n",
    "The cost function is as follows:\n",
    "\n",
    "$$-4\\times (1-q_{1})(1-q_{2})q_{3}$$\n",
    "\n",
    "3. $(q_{1},q_{2},q_{3})=(0,1,1)$\\\n",
    "The P-A and V-A interactions produce energies of -2 and -4 respectively.\n",
    "Also, the energy $\\lambda=11$ is produced due to the superposition of A and K.\n",
    "The total energy is then +5 as shown in Figure 3(c).\n",
    "The cost function is as follows:\n",
    "\n",
    "$$+5\\times (1-q_{1})q_{2}q_{3}$$\n",
    "\n",
    "4. $(q_{1},q_{2},q_{3})=(1,1,1)$\\\n",
    "The P-A interaction produces an energy of -2 as shown in Figure 3(d).\n",
    "The cost function is as follows:\n",
    "\n",
    "$$-2\\times q_{1}q_{2}q_{3}$$\n",
    "\n",
    "5. $(q_{1},q_{2},q_{3})=(1,0,1)$\\\n",
    "The P-A and V-A interactions produce energies of -2 and -4 respectively.\n",
    "Also, the energy $\\lambda=11$ is produced due to the superposition of A and K.\n",
    "The total energy is then +5 as shown in Figure 3(e).\n",
    "The cost function is as follows:\n",
    "\n",
    "$$+5\\times q_{1}(1-q_{2})q_{3}$$\n",
    "\n",
    "\n",
    "Summing the equations 1-5, the following equation is finally obtained as the cost function:\n",
    "\n",
    "$$E = -1-4q_3+9q_1q_3+9q_2q_3-16q_1q_2q_3$$\n",
    "\n",
    "The minimum value of this cost function is -5 and the bit sequence is $(q_{1},q_{2},q_{3})=(0,0,1)$."
   ]
  },
  {
   "cell_type": "markdown",
   "metadata": {},
   "source": [
    "### 3. Direct Solving with HUBO\n",
    "We find the minimum value of the cost function using OpenJij's HUBO solver.\n",
    "In the paper [1], 10,000 measurements are performed using D-wave, so the HUBO solver will also perform 10,000 simulations."
   ]
  },
  {
   "cell_type": "code",
   "execution_count": 1,
   "metadata": {},
   "outputs": [],
   "source": [
    "# Define the cost function\n",
    "polynomial = {():-1, (3,): -4, (1,3): 9, (2,3): 9, (1,2,3): -16}"
   ]
  },
  {
   "cell_type": "code",
   "execution_count": 2,
   "metadata": {},
   "outputs": [],
   "source": [
    "import openjij as oj\n",
    "\n",
    "# SASampler method is selected to use HUBO\n",
    "sampler = oj.SASampler()\n",
    "\n",
    "# Specify the number of times to simulate.\n",
    "num_reads = 10000 \n",
    "\n",
    "# Specify binary variables as variables and single spin flip for variable update method\n",
    "response = sampler.sample_hubo(polynomial, \"BINARY\", updater=\"single spin flip\", num_reads=num_reads)"
   ]
  },
  {
   "cell_type": "markdown",
   "metadata": {},
   "source": [
    "After 10,000 runs using the `sample_hubo` method, we can see that different types of solutions are obtained multiple times.\n",
    "Let us visualize the frequency of solutions as a histogram of energy."
   ]
  },
  {
   "cell_type": "code",
   "execution_count": 3,
   "metadata": {},
   "outputs": [
    {
     "data": {
      "image/png": "[encoded data removed]",
      "text/plain": [
       "<Figure size 640x480 with 1 Axes>"
      ]
     },
     "metadata": {},
     "output_type": "display_data"
    }
   ],
   "source": [
    "import matplotlib.pyplot as plt\n",
    "\n",
    "plt.hist(response.energies, bins=15)\n",
    "plt.xlabel('Energy', fontsize=15)\n",
    "plt.ylabel('Frequency', fontsize=15)\n",
    "plt.show()"
   ]
  },
  {
   "cell_type": "markdown",
   "metadata": {},
   "source": [
    "The solution with energy -5 is most frequently obtained. As mentioned earlier, this is the exact optimal solution.\n",
    "Also, the bit sequence at this time is $(q_{1},q_{2},q_{3})=(0,0,1)$, and the corresponding 2D structure is as follows:"
   ]
  },
  {
   "cell_type": "markdown",
   "metadata": {},
   "source": [
    "<img src=\"../../../assets/protein_folding_optimal_folding_structure.png\" width=\"300\" height=\"300\">"
   ]
  },
  {
   "cell_type": "markdown",
   "metadata": {},
   "source": [
    "Figure 4: Optimal lattice folding structure. Modified from Figure 3(c) in the paper [1]: Alejandro Perdomo-Ortiz, Neil Dickson, Marshall Drew-Brook, Geordie Rose and Alán Aspuru-Guzik, Finding low-energy conformations of lattice protein models by quantum annealing. Sci Rep 2, 571 (2012). https://doi.org/10.1038/srep00571 ([CC-BY 4.0.](https://creativecommons.org/licenses/by/4.0/))"
   ]
  },
  {
   "cell_type": "markdown",
   "metadata": {},
   "source": [
    "### 4. Comparison of the Results: the Direct HUBO Solving and the Reference Paper [1]"
   ]
  },
  {
   "cell_type": "markdown",
   "metadata": {},
   "source": [
    "Finally, we compare the direct solution by HUBO with the results of the reference paper [1].\n",
    "Figure 5 below shows the measurement results from the paper [1], showing the 2D structures, which the protein can take at each energy.\n",
    "Note that in the paper [1], HUBO is converted to QUBO and then solved using D-wave."
   ]
  },
  {
   "cell_type": "markdown",
   "metadata": {},
   "source": [
    "<img src=\"../../../assets/protein_folding_qa_result.png\" width=\"800\" height=\"1000\">"
   ]
  },
  {
   "cell_type": "markdown",
   "metadata": {},
   "source": [
    "Figure 5: Lattice folding structure and energy patterns obtained from the measurements. Modified from Figure 3(c) in the paper [1]: Alejandro Perdomo-Ortiz, Neil Dickson, Marshall Drew-Brook, Geordie Rose and Alán Aspuru-Guzik, Finding low-energy conformations of lattice protein models by quantum annealing. Sci Rep 2, 571 (2012). https://doi.org/10.1038/srep00571 ([CC-BY 4.0.](https://creativecommons.org/licenses/by/4.0/))"
   ]
  },
  {
   "cell_type": "markdown",
   "metadata": {},
   "source": [
    "The blue structure in the figure is the measurement result of Experiment 3 in Scheme 3.\n",
    "\n",
    "According to Figure 5, a list of energy measurement results from the reference paper [1] is produced below. Note that structures with positive energy values are ignored. According to the paper [1], such structures seemed to be 8% of the total."
   ]
  },
  {
   "cell_type": "code",
   "execution_count": 4,
   "metadata": {},
   "outputs": [],
   "source": [
    "import numpy as np\n",
    "\n",
    "energy_qa = np.zeros(num_reads)\n",
    "# The energy -5 solution was obtained 4164 times.\n",
    "energy_qa[:4164] = -5 \n",
    "# The energy -3 solution was obtained 3717 times.\n",
    "energy_qa[4164:4164+1317] = -3\n",
    "# The energy -1 solution was obtained 3719 times for a total of 415, 381, 1371, and 1552 times for the 4-state structure, respectively.\n",
    "energy_qa[4164+1317:4164+1317+415+381+1371+1552] = -1\n"
   ]
  },
  {
   "cell_type": "markdown",
   "metadata": {},
   "source": [
    "A histogram of the results comparing the two is shown below."
   ]
  },
  {
   "cell_type": "code",
   "execution_count": 5,
   "metadata": {},
   "outputs": [
    {
     "data": {
      "text/plain": [
       "Text(0, 0.5, 'Frequency')"
      ]
     },
     "execution_count": 5,
     "metadata": {},
     "output_type": "execute_result"
    },
    {
     "data": {
      "image/png": "[encoded data removed]",
      "text/plain": [
       "<Figure size 640x480 with 1 Axes>"
      ]
     },
     "metadata": {},
     "output_type": "display_data"
    }
   ],
   "source": [
    "plt.hist(response.energies, label='HUBO (SA by openjij)', range=(-5, -0.1), bins=10, alpha=0.5)\n",
    "plt.hist(energy_qa, label='QUBO (QA by D-wave)', range=(-5, -0.1), bins=10, alpha=0.5)\n",
    "plt.legend()\n",
    "plt.xlabel('Energy')\n",
    "plt.ylabel('Frequency')"
   ]
  },
  {
   "cell_type": "markdown",
   "metadata": {},
   "source": [
    "Although a simple comparison cannot be made since they are SA and QA, the results show that the HUBO direct solution method (SA using Openjij) yields more energy corresponding to the optimal solution than the QUBO transformed solution method (QA using D-wave)."
   ]
  },
  {
   "cell_type": "markdown",
   "metadata": {},
   "source": [
    "## References\n",
    "\n",
    "1. Alejandro Perdomo-Ortiz, *et al.* \"Finding low-energy conformations of lattice protein models by quantum annealing\". Scientific Reports volume 2, Article number: 571 (2012)\n",
    "2. Dill KA (March 1985). \"Theory for the folding and stability of globular proteins\". Biochemistry. 24 (6)\n",
    "3. Miyazawa, S. & Jernigan, R. L. Residue-residue potentials with a favorable contact pair term and an unfavorable high packing density term, for simulation and threading. J. Mol. Biol. 256, 623–644 (1996)."
   ]
  },
  {
   "cell_type": "code",
   "execution_count": null,
   "metadata": {},
   "outputs": [],
   "source": []
  }
 ],
 "metadata": {
  "kernelspec": {
   "display_name": "Python 3 (ipykernel)",
   "language": "python",
   "name": "python3"
  },
  "language_info": {
   "codemirror_mode": {
    "name": "ipython",
    "version": 3
   },
   "file_extension": ".py",
   "mimetype": "text/x-python",
   "name": "python",
   "nbconvert_exporter": "python",
   "pygments_lexer": "ipython3",
   "version": "3.9.15"
  },
  "vscode": {
   "interpreter": {
    "hash": "2e8d7574d7ec71e14cb1575cf43673432d6fae464c836a7b3733d4f6c20243fb"
   }
  }
 },
 "nbformat": 4,
 "nbformat_minor": 4
}

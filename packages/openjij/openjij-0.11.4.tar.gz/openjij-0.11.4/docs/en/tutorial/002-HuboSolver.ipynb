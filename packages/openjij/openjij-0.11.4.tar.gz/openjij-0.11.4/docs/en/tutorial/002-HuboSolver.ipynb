{
 "cells": [
  {
   "cell_type": "markdown",
   "metadata": {},
   "source": [
    "# HUBO(Higher Order Unconstraint Binary Optimization)"
   ]
  },
  {
   "cell_type": "markdown",
   "metadata": {},
   "source": [
    "Let us introduce a model with higher-order terms added to the ordinary Ising model.\n",
    "Specifically, we consider the following energy function for the binary variables $\\sigma_{i} \\in \\{-1, +1\\}$ or $\\sigma_{i} \\in \\{0, 1\\}$:\n",
    "\n",
    "$$\n",
    "H= c+\\sum_{i} h_{i} \\sigma_{i}+\\sum_{i<j} J_{i j} \\sigma_{i} \\sigma_{j}+\\sum_{i<j<k} K_{i, j, k} \\sigma_{i} \\sigma_{j} \\sigma_{k}+\\cdots,\n",
    "\\\\\n",
    "i=1,\\ldots, N\n",
    "$$\n",
    "\n",
    "The subscripts $i,j,k,\\ldots$ are indices that specify binary variables and take the value of $1\\leq i,j,k,\\dots \\leq N$, and $c$ represents a constant value that corresponds to a zero-order term.\n",
    "The problem of finding variables $(\\sigma_{1}, \\sigma_{2}, \\ldots, \\sigma_{N})$ that gives the minimum value of this energy function is called higher-order unconstrained binary optimization (HUBO) or polynomial unconstrained binary optimization (PUBO). In the following, HUBO will be used as the unified term.\n",
    "This type of problem can be regarded as a natural extension of the ordinary Ising model and appears in quantum chemistry.\n",
    "We will show how to solve HUBO using OpenJij in this tutorial.\n",
    "\n",
    "HUBO can directly be solved by using OpenJij while the method of converting HUBO to QUBO before the computation is also often used.\n",
    "At the end of this tutorial, we will investigate how much the results differ between direct and indirect solution methods for HUBO."
   ]
  },
  {
   "cell_type": "markdown",
   "metadata": {},
   "source": [
    "## Simple Example of HUBO\n",
    "\n",
    "For simplicity, we can assume that the problem will only consist of third-order or lower terms with $N=3$ variables.\n",
    "Here we assume that $\\sigma_i \\in \\{-1,+1\\}$ is spin variable.\n",
    "\n",
    "$$\n",
    "H = -\\sigma_1 -\\sigma_1\\sigma_2 +\\sigma_1\\sigma_2\\sigma_3,\\;\\;\\; \\sigma_i \\in \\{-1, +1\\}\n",
    "$$\n",
    "\n",
    "To solve this problem using OpenJij, we first represent the interaction $h_i, J_{ij}, K_{ijk}$ appeared in this energy function to be in python dictionary type.\n",
    "As the following code shows, we set the index specifying spin variables to the key of the dictionary-type, and the interaction to the value."
   ]
  },
  {
   "cell_type": "code",
   "execution_count": 1,
   "metadata": {},
   "outputs": [],
   "source": [
    "polynomial = {(1,): -1, (1,2): -1, (1,2,3): 1}"
   ]
  },
  {
   "cell_type": "markdown",
   "metadata": {},
   "source": [
    "## Direct HUBO solving\n",
    "\n",
    "In general, when solving HUBO, QUBO is solved, which is generated from HUBO by reducing the order of the interaction to the second-order or lower.\n",
    "OpenJij can solve HUBO directly using the simulated annealing without converting HUBO to QUBO by using the following `sample_hubo` method."
   ]
  },
  {
   "cell_type": "code",
   "execution_count": 2,
   "metadata": {},
   "outputs": [],
   "source": [
    "# !pip install openjij"
   ]
  },
  {
   "cell_type": "code",
   "execution_count": 3,
   "metadata": {},
   "outputs": [
    {
     "name": "stdout",
     "output_type": "stream",
     "text": [
      "   1  2  3 energy num_oc.\n",
      "0 +1 +1 -1   -3.0       1\n",
      "['SPIN', 1 rows, 1 samples, 3 variables]\n"
     ]
    }
   ],
   "source": [
    "import openjij as oj\n",
    "\n",
    "# The SASampler method must be selected to use the sample_hubo method.\n",
    "sampler = oj.SASampler()\n",
    "\n",
    "# Select sample_hubo method.\n",
    "# The second argument of the sample_hubo method is the type of variable. \n",
    "# \"SPIN\" or \"BINARY\" are the options.\n",
    "# SPIN specifies {-1,1} and BINARY specifies {0,1}.  \n",
    "response = sampler.sample_hubo(polynomial, \"SPIN\")\n",
    "# Check the result.\n",
    "print(response)"
   ]
  },
  {
   "cell_type": "markdown",
   "metadata": {},
   "source": [
    "$\\sigma_1=+1,\\;\\sigma_2=+1,\\;\\sigma_3=-1$ is obtained as the solution.\n",
    "The energy in this case is -3, which is the optimal solution.\n",
    "\n",
    "Note that the `sample_hubo` method can handle non-numeric values as dictionary keys, as shown below."
   ]
  },
  {
   "cell_type": "code",
   "execution_count": 4,
   "metadata": {},
   "outputs": [
    {
     "name": "stdout",
     "output_type": "stream",
     "text": [
      "   a  b  c energy num_oc.\n",
      "0 +1 +1 -1   -3.0       1\n",
      "['SPIN', 1 rows, 1 samples, 3 variables]\n"
     ]
    }
   ],
   "source": [
    "response = sampler.sample_hubo({('a',): -1, ('a', 'b'): -1, ('a', 'b', 'c'): 1}, \"SPIN\")\n",
    "print(response)"
   ]
  },
  {
   "cell_type": "markdown",
   "metadata": {},
   "source": [
    "For example, `('a', 'b'): -1` means that the interaction between spin a and spin b is -1."
   ]
  },
  {
   "cell_type": "markdown",
   "metadata": {},
   "source": [
    "## Indirect HUBO solving: solving by QUBO transformation\n",
    "\n",
    "Another way to solve HUBO is to construct the corresponding QUBO by converting higher-order terms to second or lower-order terms and solving it.\n",
    "This section explains such a method.\n",
    "\n",
    "To generate QUBO from HUBO, we use [D-Wave's dimod library](\n",
    "https://docs.ocean.dwavesys.com/en/stable/docs_dimod/).\n",
    "Here, the penalty strength set to 5.0 is the penalty for the constraint conditions that arise when converting higher-order interactions to second-order or lower-order interactions. When it is too small, the optimal solution for the generated QUBO will not match the original HUBO, but when it is too large on the other hand, the optimal solution will not be obtained in the first place. In practice, it is difficult to determine how much value to specify. Here we set the value to 5.0 for simplicity."
   ]
  },
  {
   "cell_type": "code",
   "execution_count": 5,
   "metadata": {},
   "outputs": [
    {
     "name": "stdout",
     "output_type": "stream",
     "text": [
      "zeroth-order term: 10.0\n",
      "first-order term: {1: -3.5, 3: -2.5, '1*3': -2.5, 'aux1,3': -5.0, 2: 0.0}\n",
      "quadratic-order term: {(3, 1): 2.5, ('1*3', 1): 2.5, ('1*3', 3): 2.5, ('aux1,3', 1): 5.0, ('aux1,3', 3): 5.0, ('aux1,3', '1*3'): 5.0, (2, 1): -1.0, (2, '1*3'): 1.0}\n"
     ]
    }
   ],
   "source": [
    "import dimod\n",
    "\n",
    "# Generate the corresponding quadratic model by specifying HUBO, the size of penalty strength, and the type of variable.\n",
    "bqm_dimod = dimod.make_quadratic(poly=polynomial, strength=5.0, vartype=\"SPIN\")\n",
    "print('zeroth-order term:', bqm_dimod.offset)\n",
    "print('first-order term:', dict(bqm_dimod.linear))    # bqm.linear converts to python dict\n",
    "print('quadratic-order term:', dict(bqm_dimod.quadratic)) # bqm.quadratic converts to python dict as well"
   ]
  },
  {
   "cell_type": "markdown",
   "metadata": {},
   "source": [
    "As shown, in addition to the original variables $\\sigma_1,\\sigma_2,\\sigma_3$, two string variables $\\sigma_{^\"1∗2^\"}$ and $\\sigma_{^\"\\rm aux1,2^\"}$ appear. In general, converting HUBO to QUBO increases the number of variables and interactions.\n",
    "In this case, the HUBO had 3 variables and 3 interactions, but by converting to the QUBO, the number of variables and interactions increases to 5 and 7, respectively.\n",
    "\n",
    "We want to solve this QUBO with OpenJij's simulated annealing, but since OpenJij cannot handle variables that are a mixture of numbers and strings, we need to convert all strings to integers.\n",
    "For this purpose, we use dimod's method [relabel_variables](https://docs.ocean.dwavesys.com/en/stable/docs_dimod/reference/generated/dimod.SampleSet.relabel_variables.html) to convert \"1∗2\" and \"aux1,2\" to integers."
   ]
  },
  {
   "cell_type": "code",
   "execution_count": 6,
   "metadata": {},
   "outputs": [
    {
     "name": "stdout",
     "output_type": "stream",
     "text": [
      "zeroth-order term: 10.0\n",
      "first-order term: {1: -3.5, 3: -2.5, 4: -2.5, 5: -5.0, 2: 0.0}\n",
      "quadratic-order term: {(3, 1): 2.5, (4, 1): 2.5, (4, 3): 2.5, (5, 1): 5.0, (5, 3): 5.0, (5, 4): 5.0, (2, 1): -1.0, (2, 4): 1.0}\n",
      "Variable correspondence: {1: 1, 2: 2, 3: 3, '1*3': 4, 'aux1,3': 5}\n"
     ]
    }
   ],
   "source": [
    "#Define a function to create a mapping between strings and integers.\n",
    "def generate_mapping(variables, N):\n",
    "    mapping = {}\n",
    "    #Do not change the index of N, which is originally an integer.\n",
    "    for i in range(1, N+1):\n",
    "        mapping[i] = i \n",
    "    count = N+1\n",
    "    \n",
    "    #Convert newly appearing strings to integers.\n",
    "    for v in variables:\n",
    "        if type(v) == str:\n",
    "            mapping[v] = count\n",
    "            count += 1\n",
    "    return mapping\n",
    "\n",
    "# Create a dictionary that represents the correspondence between variables before and after transformation.\n",
    "mapping = generate_mapping(bqm_dimod.variables, 3)\n",
    "\n",
    "# Convert the index to an integer starting with 1.\n",
    "bqm_dimod.relabel_variables(mapping)\n",
    "\n",
    "print('zeroth-order term:', bqm_dimod.offset)\n",
    "print('first-order term:', dict(bqm_dimod.linear))    # bqm.linear converts to python dict\n",
    "print('quadratic-order term:', dict(bqm_dimod.quadratic)) # bqm.quadratic converts to python dict as well\n",
    "print('Variable correspondence:', mapping) # prints the correspondence between the index after relabeling and the original index."
   ]
  },
  {
   "cell_type": "markdown",
   "metadata": {},
   "source": [
    "All indices have been converted to integers, and we can solve this QUBO using OpenJij."
   ]
  },
  {
   "cell_type": "code",
   "execution_count": 7,
   "metadata": {},
   "outputs": [
    {
     "name": "stdout",
     "output_type": "stream",
     "text": [
      "   1  2  3  4  5 energy num_oc.\n",
      "0 +1 +1 -1 -1 +1   -3.0       1\n",
      "['SPIN', 1 rows, 1 samples, 5 variables]\n"
     ]
    }
   ],
   "source": [
    "# Convert dimod bqm to OpenJij BinaryQuadraticModel.\n",
    "bqm_oj = oj.BinaryQuadraticModel(dict(bqm_dimod.linear), dict(bqm_dimod.quadratic), bqm_dimod.offset, vartype=\"SPIN\")\n",
    "\n",
    "# Use the sample method to perform SA.\n",
    "response = sampler.sample(bqm_oj)\n",
    "print(response) "
   ]
  },
  {
   "cell_type": "markdown",
   "metadata": {},
   "source": [
    "The energy obtained here may not correspond to the original energy of HUBO, depending on the value of penalty strength set at 5.0 earlier.\n",
    "Therefore, it is necessary to calculate the energy again.\n",
    "In this case, the original variables were $\\sigma_1,\\sigma_2,\\sigma_3$, so we will calculate the energy using only these spin configurations.\n",
    "Here we note as $\\sigma_1=+1,\\sigma_2=+1,$ and $\\sigma_3=-1$."
   ]
  },
  {
   "cell_type": "code",
   "execution_count": 8,
   "metadata": {},
   "outputs": [
    {
     "name": "stdout",
     "output_type": "stream",
     "text": [
      "Corresponding HUBO solution: {1: 1, 2: 1, 3: -1}\n",
      "Energy of the corresponding HUBO solution: -3.0\n"
     ]
    }
   ],
   "source": [
    "# Bake back to the original HUBO solution.\n",
    "hubo_configuration = {i+1: response.record[0][0][i] for i in range(3)}\n",
    "print('Corresponding HUBO solution:', hubo_configuration)\n",
    "print('Energy of the corresponding HUBO solution:', dimod.BinaryPolynomial(polynomial, \"SPIN\").energy(hubo_configuration))"
   ]
  },
  {
   "cell_type": "markdown",
   "metadata": {},
   "source": [
    "Here we have obtained a spin configuration that gives -3 as the energy. This is the optimal solution for this energy function.\n",
    "\n",
    "This can be verified with [dimod's ExactPolySolver](\n",
    "https://docs.ocean.dwavesys.com/en/stable/docs_dimod/reference/sampler_composites/higher_order_samplers.html#dimod.reference.samplers.ExactPolySolver), which is a solver for exact optimal solutions."
   ]
  },
  {
   "cell_type": "code",
   "execution_count": 9,
   "metadata": {},
   "outputs": [
    {
     "name": "stdout",
     "output_type": "stream",
     "text": [
      "Optimal solution: {1: 1, 2: 1, 3: -1}\n",
      "Corresponding energy: -3.0\n"
     ]
    }
   ],
   "source": [
    "# Check the exact optimal solution of the original HUBO.\n",
    "sampleset = dimod.ExactPolySolver().sample_hising(h = {}, J = polynomial)\n",
    "print('Optimal solution:',sampleset.first.sample)\n",
    "print('Corresponding energy:',sampleset.first.energy)"
   ]
  },
  {
   "cell_type": "markdown",
   "metadata": {},
   "source": [
    "The energy of the optimal solution for the original HUBO is indeed -3.0.\n",
    "Note that the exact solution can be easily obtained in this case because the number of variables was only 3, but it is usually difficult to obtain an exact solution."
   ]
  },
  {
   "cell_type": "markdown",
   "metadata": {},
   "source": [
    "## Comparing the results of direct and indirect HUBO solving\n",
    "\n",
    "Finally, let us compare the direct HUBO solution with the indirect HUBO solution where QUBO transformation is used. We run 100 simulations with SA and compare the energies obtained in each simulation.\n",
    "\n",
    "First, we obtain the energy when using the `sample_hubo` method."
   ]
  },
  {
   "cell_type": "code",
   "execution_count": 10,
   "metadata": {},
   "outputs": [],
   "source": [
    "# Specify the number of simulation times with SA.\n",
    "num_reads = 100\n",
    "\n",
    "# SA will be performed independently for num_reads number of times.\n",
    "# Here, we set it to 100. The default is 1.\n",
    "response = sampler.sample_hubo(polynomial, \"SPIN\", num_reads=num_reads)\n",
    "\n",
    "# Assign the obtained energy to energy_hubo.\n",
    "energy_hubo = response.energies"
   ]
  },
  {
   "cell_type": "markdown",
   "metadata": {},
   "source": [
    "Next, we find the energy by using the QUBO transformation.\n",
    "Note that the energy of HUBO must be recalculated each time because there is no guarantee that the magnitude of the previously set penalty strength is appropriate."
   ]
  },
  {
   "cell_type": "code",
   "execution_count": 11,
   "metadata": {},
   "outputs": [],
   "source": [
    "response = sampler.sample(bqm_oj, num_reads=num_reads)\n",
    "\n",
    "# Define a function to recalculate the energy of HUBO from the obtained spin configuration.\n",
    "def calculate_true_energy(polynomial, response, N):\n",
    "    energy_quad = []\n",
    "    for i in range(num_reads):\n",
    "        hubo_configuration = {j+1: response.record[i][0][j] for j in range(N)}\n",
    "        energy_quad.append(dimod.BinaryPolynomial(polynomial, \"BINARY\").energy(hubo_configuration))\n",
    "    return energy_quad\n",
    "\n",
    "# Substitute the obtained energy into energy_quad.\n",
    "energy_quad = calculate_true_energy(polynomial, response, 3)"
   ]
  },
  {
   "cell_type": "markdown",
   "metadata": {},
   "source": [
    "The obtained 100 results are compared in a histogram."
   ]
  },
  {
   "cell_type": "code",
   "execution_count": 12,
   "metadata": {},
   "outputs": [
    {
     "data": {
      "text/plain": [
       "Text(0, 0.5, 'Frequency')"
      ]
     },
     "execution_count": 12,
     "metadata": {},
     "output_type": "execute_result"
    },
    {
     "data": {
      "image/png": "[encoded data removed]",
      "text/plain": [
       "<Figure size 640x480 with 1 Axes>"
      ]
     },
     "metadata": {},
     "output_type": "display_data"
    }
   ],
   "source": [
    "import matplotlib.pyplot as plt\n",
    "plt.hist(energy_hubo, label='HUBO', range=(-3, 1), bins=10, alpha=0.5)\n",
    "plt.hist(energy_quad, label='Through QUBO', range=(-3, 1), bins=10, alpha=0.5)\n",
    "plt.legend()\n",
    "plt.xlabel('Energy')\n",
    "plt.ylabel('Frequency')"
   ]
  },
  {
   "cell_type": "markdown",
   "metadata": {},
   "source": [
    "The direct HUBO solution yields slightly more optimal solutions than solving with QUBO transformation.\n",
    "However, in this problem, if penalty strength is set to 1 for example, the solution with QUBO transformation yields more optimal solutions.\n",
    "In other words, the initial value of penalty strength set to 5 is too large as we check below."
   ]
  },
  {
   "cell_type": "code",
   "execution_count": 13,
   "metadata": {},
   "outputs": [
    {
     "data": {
      "text/plain": [
       "Text(0.5, 0, 'Energy')"
      ]
     },
     "execution_count": 13,
     "metadata": {},
     "output_type": "execute_result"
    },
    {
     "data": {
      "image/png": "[encoded data removed]",
      "text/plain": [
       "<Figure size 640x480 with 1 Axes>"
      ]
     },
     "metadata": {},
     "output_type": "display_data"
    }
   ],
   "source": [
    "# Convert to QUBO with penalty strength set to 1.\n",
    "bqm_dimod = dimod.make_quadratic(poly=polynomial, strength=1.0, vartype=\"SPIN\")\n",
    "\n",
    "#Convert the indices to integers and then solve with OpenJij.\n",
    "bqm_dimod.relabel_variables(mapping)\n",
    "bqm_oj = oj.BinaryQuadraticModel(dict(bqm_dimod.linear), dict(bqm_dimod.quadratic), bqm_dimod.offset,\n",
    "vartype=\"SPIN\")\n",
    "response = sampler.sample(bqm_oj, num_reads=num_reads)\n",
    "\n",
    "energy_quad = calculate_true_energy(polynomial, response, 3)\n",
    "# Display the histogram.\n",
    "plt.hist(energy_hubo, label='HUBO', range=(-3, 1), bins=10, alpha=0.5)\n",
    "plt.hist(energy_quad, label='Through QUBO', range=(-3, 1), bins=10, alpha=0.5)\n",
    "plt.legend()\n",
    "plt.xlabel('Energy')"
   ]
  },
  {
   "cell_type": "markdown",
   "metadata": {},
   "source": [
    "In the current case, the solution by QUBO transformation always provides the optimal solution.\n",
    "Note that the optimal penalty strength value is not known in advance.\n",
    "In this case, the optimal solution is obtained with penalty strength as 1, but determining the appropriate penalty strength for general HUBO is a difficult problem.\n",
    "Another problem is that the QUBO transformation increases the number of variables and interactions. This requires extra memory.\n",
    "\n",
    "The model we have treated so far as an example is too simple, so let us compare the two solutions with a larger problem.\n",
    "Let us set the number of variables to $N=10$, the interactions to third-order all couplings, and the values to random from -1 to +1.\n",
    "\n",
    "First, we define the interaction."
   ]
  },
  {
   "cell_type": "code",
   "execution_count": 14,
   "metadata": {},
   "outputs": [],
   "source": [
    "import random\n",
    "\n",
    "N=10\n",
    "polynomial = {}\n",
    "for i in range(1, N+1):\n",
    "    for j in range(i+1, N+1):\n",
    "        for k in range(j+1, N+1):\n",
    "            polynomial[(i,j,k)] = random.uniform(-1, +1)"
   ]
  },
  {
   "cell_type": "markdown",
   "metadata": {},
   "source": [
    "As before, we will perform 100 SAs and compare the energies obtained. The penalty strength for the QUBO transformation is set to 2."
   ]
  },
  {
   "cell_type": "code",
   "execution_count": 15,
   "metadata": {},
   "outputs": [
    {
     "data": {
      "text/plain": [
       "Text(0, 0.5, 'Frequency')"
      ]
     },
     "execution_count": 15,
     "metadata": {},
     "output_type": "execute_result"
    },
    {
     "data": {
      "image/png": "[encoded data removed]",
      "text/plain": [
       "<Figure size 640x480 with 1 Axes>"
      ]
     },
     "metadata": {},
     "output_type": "display_data"
    }
   ],
   "source": [
    "# Solve directly with the HUBO solver.\n",
    "response = sampler.sample_hubo(polynomial, \"SPIN\", num_reads=num_reads)\n",
    "energy_hubo = response.energies\n",
    "\n",
    "# Solve through the QUBO transform.\n",
    "bqm_dimod = dimod.make_quadratic(poly=polynomial, strength=2, vartype=\"SPIN\")\n",
    "mapping = generate_mapping(bqm_dimod.variables, N)\n",
    "bqm_dimod.relabel_variables(mapping)\n",
    "bqm_oj = oj.BinaryQuadraticModel(dict(bqm_dimod.linear), dict(bqm_dimod.quadratic), bqm_dimod.offset, vartype=\"SPIN\")\n",
    "response = sampler.sample(bqm_oj, num_reads=num_reads)\n",
    "energy_quad = calculate_true_energy(polynomial, response, N)\n",
    "\n",
    "# Display the histogram.\n",
    "max_e = max(max(energy_hubo), max(energy_quad))\n",
    "min_e = min(min(energy_hubo), min(energy_quad))\n",
    "plt.hist(energy_hubo, label='HUBO', range=(min_e, max_e), alpha=0.5)\n",
    "plt.hist(energy_quad, label='Through QUBO', range=(min_e, max_e), alpha=0.5)\n",
    "plt.legend()\n",
    "plt.xlabel('Energy')\n",
    "plt.ylabel('Frequency')"
   ]
  },
  {
   "cell_type": "markdown",
   "metadata": {},
   "source": [
    "We can see that there is quite a difference in this model: solving HUBO directly yields a lower energy solution.\n",
    "Of course, a more appropriate value of penalty strength could improve the solution by solving with the QUBO transformation, but that is not easy to do."
   ]
  },
  {
   "cell_type": "markdown",
   "metadata": {},
   "source": [
    "## Summary\n",
    "\n",
    "The solution method using the QUBO transformation requires preprocessing to convert to QUBO and to determine a parameter called penalty strength.\n",
    "On the other hand, the HUBO solver eliminates the need for such processing, and (at least for the models treated in this study) the solutions obtained are as good as or better than those obtained by the QUBO solver."
   ]
  },
  {
   "cell_type": "code",
   "execution_count": null,
   "metadata": {},
   "outputs": [],
   "source": []
  }
 ],
 "metadata": {
  "kernelspec": {
   "display_name": "Python 3 (ipykernel)",
   "language": "python",
   "name": "python3"
  },
  "language_info": {
   "codemirror_mode": {
    "name": "ipython",
    "version": 3
   },
   "file_extension": ".py",
   "mimetype": "text/x-python",
   "name": "python",
   "nbconvert_exporter": "python",
   "pygments_lexer": "ipython3",
   "version": "3.9.15"
  },
  "vscode": {
   "interpreter": {
    "hash": "2e8d7574d7ec71e14cb1575cf43673432d6fae464c836a7b3733d4f6c20243fb"
   }
  }
 },
 "nbformat": 4,
 "nbformat_minor": 4
}

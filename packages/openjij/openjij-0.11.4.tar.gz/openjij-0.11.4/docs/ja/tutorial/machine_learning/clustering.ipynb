{
 "cells": [
  {
   "cell_type": "markdown",
   "metadata": {},
   "source": [
    "# アニーリングを用いたクラスタリング\n",
    "\n",
    "このチュートリアルでは、アニーリングの応用の一例としてPyQUBOとOpenjijを利用したクラスタリングを取り上げます。  "
   ]
  },
  {
   "cell_type": "markdown",
   "metadata": {},
   "source": [
    "## クラスタリング\n",
    "\n",
    "クラスタリングとは与えられたデータを$n$個のクラスターに分けるというタスクです($n$は外部から与えられているとします)。簡単のため、今回はクラスター数が2を考えましょう。"
   ]
  },
  {
   "cell_type": "markdown",
   "metadata": {},
   "source": [
    "### クラスタリングのハミルトニアン\n",
    "今回は、以下のハミルトニアンを最小化することでクラスタリングを行います。\n",
    "\n",
    "$$\n",
    "H = - \\sum_{i, j} \\frac{1}{2}d_{i,j} (1 - \\sigma _i \\sigma_j)\n",
    "$$\n",
    "\n",
    "$i, j$はサンプルの番号、$d_{i,j}$は２つのサンプル間の距離、$\\sigma_i=\\{-1,1\\}$は２つのクラスターのどちらかに属しているかを表すスピン変数です。  \n",
    "このハミルトニアンの和の各項は   \n",
    "\n",
    "- $\\sigma_i  = \\sigma_j $のとき、0\n",
    "- $\\sigma_i  \\neq \\sigma_j $のとき、$d_{i,j}$  \n",
    "\n",
    "となります。右辺のマイナスに注意すると、ハミルトニアン全体では「異なるクラスに属しているサンプル同士の距離を最大にする$\\{\\sigma _1, \\sigma _2 \\ldots \\}$の組を選びなさい」という問題に帰着することがわかります。"
   ]
  },
  {
   "cell_type": "markdown",
   "metadata": {},
   "source": [
    "##  JijModelingとOpenJijを用いたクラスタリング\n",
    "\n",
    "### 変数定義\n",
    "\n",
    "JijModelingを用いて、上述のハミルトニアンを定式化しましょう。\n",
    "そのために必要となる変数を定義します。\n",
    "JijModelingでは、スピン変数$\\sigma_i$を扱えないため、バイナリ変数$x_i$で書けるように、$\\sigma_i = 2x_i - 1$という関係を用いて書き直します。"
   ]
  },
  {
   "cell_type": "code",
   "execution_count": 17,
   "metadata": {},
   "outputs": [],
   "source": [
    "import jijmodeling as jm\n",
    "\n",
    "d = jm.Placeholder(\"d\", ndim=2)\n",
    "N = d.len_at(0, latex=\"N\")\n",
    "x = jm.BinaryVar(\"x\", shape=(N, ))\n",
    "i = jm.Element(\"i\", belong_to=(0, N))\n",
    "j = jm.Element(\"j\", belong_to=(0, N))\n",
    "sigma_i = 2 * x[i] - 1\n",
    "sigma_j = 2 * x[j] - 1"
   ]
  },
  {
   "cell_type": "markdown",
   "metadata": {},
   "source": [
    "### 目的関数の実装\n",
    "\n",
    "先ほどのハミルトニアンを実装します。"
   ]
  },
  {
   "cell_type": "code",
   "execution_count": 19,
   "metadata": {},
   "outputs": [],
   "source": [
    "problem = jm.Problem(\"Clustering\")\n",
    "problem += - jm.sum([i, j], d[i, j]*(1-sigma_i*sigma_j))"
   ]
  },
  {
   "cell_type": "markdown",
   "metadata": {},
   "source": [
    "実装された数理モデルを、Jupyter Notebookで表示してみましょう。"
   ]
  },
  {
   "cell_type": "code",
   "execution_count": 20,
   "metadata": {},
   "outputs": [
    {
     "data": {
      "text/latex": [
       "$$\\begin{array}{cccc}\\text{Problem:} & \\text{Clustering} & & \\\\& & \\min \\quad \\displaystyle - \\sum_{i = 0}^{N - 1} \\sum_{j = 0}^{N - 1} d_{i, j} \\cdot \\left(- \\left(2 \\cdot x_{i} - 1\\right) \\cdot \\left(2 \\cdot x_{j} - 1\\right) + 1\\right) & \\\\\\text{{where}} & & & \\\\& x & 1\\text{-dim binary variable}\\\\\\end{array}$$"
      ],
      "text/plain": [
       "<jijmodeling.Problem at 0x3bce1c0>"
      ]
     },
     "execution_count": 20,
     "metadata": {},
     "output_type": "execute_result"
    }
   ],
   "source": [
    "problem"
   ]
  },
  {
   "cell_type": "markdown",
   "metadata": {},
   "source": [
    "### インスタンスの作成\n",
    "\n",
    "今回は人工的に二次元平面上の明らかに線形分離可能なデータを生成しましょう。"
   ]
  },
  {
   "cell_type": "code",
   "execution_count": 21,
   "metadata": {},
   "outputs": [],
   "source": [
    "import numpy as np\n",
    "import pandas as pd\n",
    "from scipy.spatial import distance_matrix\n",
    "\n",
    "data = []\n",
    "label = []\n",
    "for i in range(100):\n",
    "    # [0, 1]の乱数を生成\n",
    "    p = np.random.uniform(0, 1)\n",
    "    # ある条件を満たすときをクラス1、満たさないときを-1\n",
    "    cls =1 if p>0.5 else -1\n",
    "    # ある座標を中心とする正規分布に従う乱数を作成\n",
    "    data.append(np.random.normal(0, 0.5, 2) + np.array([cls, cls]))\n",
    "    label.append(cls)\n",
    "# DataFrameとして整形\n",
    "df1 = pd.DataFrame(data, columns=[\"x\", \"y\"], index=range(len(data)))\n",
    "df1[\"label\"] = label\n",
    "instance_data = {'d': distance_matrix(df1, df1)}"
   ]
  },
  {
   "cell_type": "markdown",
   "metadata": {},
   "source": [
    "生成されたデータを可視化してみます。"
   ]
  },
  {
   "cell_type": "code",
   "execution_count": 22,
   "metadata": {},
   "outputs": [
    {
     "data": {
      "text/plain": [
       "<Axes: xlabel='x', ylabel='y'>"
      ]
     },
     "execution_count": 22,
     "metadata": {},
     "output_type": "execute_result"
    },
    {
     "data": {
      "image/png": "[encoded data removed]",
      "text/plain": [
       "<Figure size 640x480 with 1 Axes>"
      ]
     },
     "metadata": {},
     "output_type": "display_data"
    }
   ],
   "source": [
    "# データセットの可視化\n",
    "df1.plot(kind='scatter', x=\"x\", y=\"y\")"
   ]
  },
  {
   "cell_type": "markdown",
   "metadata": {},
   "source": [
    "### JijModeling TranspilerによるPyQUBOへの変換\n",
    "\n",
    "ここまで行われてきた実装は、全てJijModelingによるものでした。\n",
    "これをPyQUBOに変換することで、OpenJijはもちろん、他のソルバーを用いた組合せ最適化計算を行うことが可能になります。"
   ]
  },
  {
   "cell_type": "code",
   "execution_count": 23,
   "metadata": {},
   "outputs": [],
   "source": [
    "import jijmodeling_transpiler as jmt\n",
    "\n",
    "# compile\n",
    "compiled_model = jmt.core.compile_model(problem, instance_data, {})\n",
    "# get qubo model\n",
    "pubo_builder = jmt.core.pubo.transpile_to_pubo(compiled_model=compiled_model, relax_method=jmt.core.pubo.RelaxationMethod.AugmentedLagrangian)\n",
    "qubo, const = pubo_builder.get_qubo_dict(multipliers={})"
   ]
  },
  {
   "cell_type": "markdown",
   "metadata": {},
   "source": [
    "### OpenJijによる求解\n",
    "\n",
    "Openjijを用いて、最適化問題を解いてみましょう。"
   ]
  },
  {
   "cell_type": "code",
   "execution_count": 24,
   "metadata": {},
   "outputs": [],
   "source": [
    "import openjij as oj\n",
    "\n",
    "# set sampler\n",
    "sampler = oj.SASampler()\n",
    "# solve problem\n",
    "result = sampler.sample_qubo(qubo, num_reads=100)"
   ]
  },
  {
   "cell_type": "markdown",
   "metadata": {},
   "source": [
    "計算結果をデコードします。\n",
    "また得られた解の中から目的関数値が最小のものを選び出し、それを可視化してみましょう。"
   ]
  },
  {
   "cell_type": "code",
   "execution_count": 29,
   "metadata": {},
   "outputs": [
    {
     "data": {
      "text/plain": [
       "Text(0, 0.5, 'y')"
      ]
     },
     "execution_count": 29,
     "metadata": {},
     "output_type": "execute_result"
    },
    {
     "data": {
      "image/png": "[encoded data removed]",
      "text/plain": [
       "<Figure size 640x480 with 1 Axes>"
      ]
     },
     "metadata": {},
     "output_type": "display_data"
    }
   ],
   "source": [
    "import matplotlib.pyplot as plt\n",
    "import numpy as np\n",
    "\n",
    "# decode a result to JijModeling sampleset\n",
    "sampleset = jmt.core.pubo.decode_from_openjij(result, pubo_builder, compiled_model)\n",
    "objectives = [objective for objective in sampleset.evaluation.objective]\n",
    "lowest_index = np.argmin(objectives)\n",
    "# visualize solution\n",
    "for idx in range(0, len(instance_data['d'])):\n",
    "    if idx in sampleset.record.solution[\"x\"][lowest_index][0][0]:\n",
    "        plt.scatter(df1.loc[idx][\"x\"], df1.loc[idx][\"y\"], color=\"b\")\n",
    "    else:\n",
    "        plt.scatter(df1.loc[idx][\"x\"], df1.loc[idx][\"y\"], color=\"r\")\n",
    "plt.xlabel('x')\n",
    "plt.ylabel('y')"
   ]
  },
  {
   "cell_type": "markdown",
   "metadata": {},
   "source": [
    "赤と青の2つのクラスに分類できていることがわかります。"
   ]
  }
 ],
 "metadata": {
  "kernelspec": {
   "display_name": "Python 3.9.5 ('.venv': venv)",
   "language": "python",
   "name": "python3"
  },
  "language_info": {
   "codemirror_mode": {
    "name": "ipython",
    "version": 3
   },
   "file_extension": ".py",
   "mimetype": "text/x-python",
   "name": "python",
   "nbconvert_exporter": "python",
   "pygments_lexer": "ipython3",
   "version": "3.9.5"
  },
  "vscode": {
   "interpreter": {
    "hash": "8e4ef42922154d6c53cb4e5074b09fe7c3d2526e8e95a3a7b0551dc780a36e7a"
   }
  }
 },
 "nbformat": 4,
 "nbformat_minor": 2
}

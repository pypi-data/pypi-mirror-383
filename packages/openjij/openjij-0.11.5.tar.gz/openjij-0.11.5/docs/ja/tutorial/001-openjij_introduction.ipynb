{
 "cells": [
  {
   "cell_type": "markdown",
   "metadata": {
    "colab_type": "text",
    "id": "Y4hVgt6yQyOa"
   },
   "source": [
    "# OpenJij 入門"
   ]
  },
  {
   "cell_type": "markdown",
   "metadata": {},
   "source": [
    "OpenJijは イジング模型および,QUBOのヒューリステック最適化ライブラリです。  \n",
    "最適化計算のコア部分はC++で実装されていますが、Pythonインターフェースを備えているため、Pythonから簡単に最適化を行うことができます。"
   ]
  },
  {
   "cell_type": "code",
   "execution_count": 1,
   "metadata": {
    "colab": {},
    "colab_type": "code",
    "id": "JZW9IAE9QyOd"
   },
   "outputs": [
    {
     "name": "stdout",
     "output_type": "stream",
     "text": [
      "Requirement already satisfied: openjij in /Users/yuyamashiro/.pyenv/versions/3.11.9/lib/python3.11/site-packages (0.9.2)\n",
      "Requirement already satisfied: numpy<1.27.0,>=1.17.3 in /Users/yuyamashiro/.pyenv/versions/3.11.9/lib/python3.11/site-packages (from openjij) (1.26.4)\n",
      "Requirement already satisfied: dimod<0.13.0 in /Users/yuyamashiro/.pyenv/versions/3.11.9/lib/python3.11/site-packages (from openjij) (0.12.20)\n",
      "Requirement already satisfied: scipy<1.12.0,>=1.7.3 in /Users/yuyamashiro/.pyenv/versions/3.11.9/lib/python3.11/site-packages (from openjij) (1.11.4)\n",
      "Requirement already satisfied: requests<2.32.0,>=2.28.0 in /Users/yuyamashiro/.pyenv/versions/3.11.9/lib/python3.11/site-packages (from openjij) (2.31.0)\n",
      "Requirement already satisfied: jij-cimod<1.7.0,>=1.6.0 in /Users/yuyamashiro/.pyenv/versions/3.11.9/lib/python3.11/site-packages (from openjij) (1.6.2)\n",
      "Requirement already satisfied: typing-extensions>=4.2.0 in /Users/yuyamashiro/.pyenv/versions/3.11.9/lib/python3.11/site-packages (from openjij) (4.13.2)\n",
      "Requirement already satisfied: charset-normalizer<4,>=2 in /Users/yuyamashiro/.pyenv/versions/3.11.9/lib/python3.11/site-packages (from requests<2.32.0,>=2.28.0->openjij) (3.4.1)\n",
      "Requirement already satisfied: idna<4,>=2.5 in /Users/yuyamashiro/.pyenv/versions/3.11.9/lib/python3.11/site-packages (from requests<2.32.0,>=2.28.0->openjij) (3.10)\n",
      "Requirement already satisfied: urllib3<3,>=1.21.1 in /Users/yuyamashiro/.pyenv/versions/3.11.9/lib/python3.11/site-packages (from requests<2.32.0,>=2.28.0->openjij) (2.4.0)\n",
      "Requirement already satisfied: certifi>=2017.4.17 in /Users/yuyamashiro/.pyenv/versions/3.11.9/lib/python3.11/site-packages (from requests<2.32.0,>=2.28.0->openjij) (2025.1.31)\n",
      "\n",
      "\u001b[1m[\u001b[0m\u001b[34;49mnotice\u001b[0m\u001b[1;39;49m]\u001b[0m\u001b[39;49m A new release of pip is available: \u001b[0m\u001b[31;49m24.0\u001b[0m\u001b[39;49m -> \u001b[0m\u001b[32;49m25.0.1\u001b[0m\n",
      "\u001b[1m[\u001b[0m\u001b[34;49mnotice\u001b[0m\u001b[1;39;49m]\u001b[0m\u001b[39;49m To update, run: \u001b[0m\u001b[32;49mpip install --upgrade pip\u001b[0m\n"
     ]
    }
   ],
   "source": [
    "!pip install openjij"
   ]
  },
  {
   "cell_type": "code",
   "execution_count": 2,
   "metadata": {
    "colab": {},
    "colab_type": "code",
    "id": "wyu_ZSisQyOg",
    "outputId": "09252d51-5c0a-43c7-af4f-95edea5170af",
    "vscode": {
     "languageId": "markdown"
    }
   },
   "outputs": [
    {
     "name": "stdout",
     "output_type": "stream",
     "text": [
      "Version: 0.9.2\n"
     ]
    }
   ],
   "source": [
    "# Check the installed version of OpenJij\n",
    "!pip show openjij | grep \"Version:\""
   ]
  },
  {
   "cell_type": "markdown",
   "metadata": {
    "colab_type": "text",
    "id": "x9a_Imk1QyOn"
   },
   "source": [
    "## OpenJijによるイジング模型を用いた最適化計算\n",
    "\n",
    "[組合せ最適化とイジング模型](./000-combinatorial_optimization_and_Ising_model.ipynb)で説明したように、\n",
    "イジング模型は磁性体の振る舞いを理解するために提案された模型で、以下のように書かれます。\n",
    "\n",
    "$$H(\\{\\sigma_i\\}) = \\sum_{i > j} J_{ij}\\sigma_i \\sigma_j + \\sum_{i=1}^N h_i \\sigma_i$$\n",
    "$$\\sigma_i \\in \\{-1, 1\\}, i=1,\\cdots N$$\n",
    "\n",
    "ここで$H(\\{\\sigma_i\\})$はハミルトニアンと呼ばれます。エネルギーやコスト関数だと考えてください。  \n",
    "$\\sigma_i$は$\\{1, -1\\}$の2値を取る変数です。  \n",
    "\n",
    "> $\\sigma_i$は物理ではスピンという物理量に対応するため、スピン変数もしくは単純にスピンと呼ばれることもあります。  \n",
    "> スピンとは小さな磁石のようなものです。-1 が磁石が上向き、1が下向きのように変数の値と物理(磁石の向き)が対応します。\n",
    "\n",
    "\n",
    "$H$は変数の組み合わせ$\\{\\sigma_i\\} = \\{\\sigma_1, \\sigma_2, \\cdots, \\sigma_N\\}$に依存します。  \n",
    "$J_{ij}, h_i$が与えられる問題を表しています。それぞれ相互作用係数、縦磁場と呼ばれます。\n",
    "\n",
    "OpenJijは、インプットとして、$J_{ij}$と$h_i$が与えられたときに、Simulated AnnealingやSimulated Quantum Annealingを行う数値計算ライブラリであり、\n",
    "OpenJijを用いることで、$H(\\{\\sigma_i\\})$を最小化するスピン変数の組み$\\{\\sigma_i\\}$を探すことができます。\n"
   ]
  },
  {
   "cell_type": "markdown",
   "metadata": {
    "colab_type": "text",
    "id": "j0iZqoWtQyOn"
   },
   "source": [
    "### OpenJijに問題を投げてみる\n",
    "まずは、簡単な例でどのようにOpenJijを用いるかをみていきます。\n",
    "変数の数が$N=5$で縦磁場と相互作用が\n",
    "\n",
    "$$h_i = -1~\\text{for} ~\\forall i, ~ J_{ij} = -1~\\text{for} ~\\forall i, j$$\n",
    "\n",
    "の問題を考えてみましょう。全ての相互作用がマイナスなので、各スピン変数は同じ値をとった方がエネルギーは低くなることがわかります。\n",
    "また縦磁場は全てマイナスなので、各スピンは1の値をとった方がエネルギーが低くなります。  \n",
    "よってこの問題の最適解は $\\{\\sigma_i\\} = \\{1, 1, 1, 1, 1\\}$になります。\n",
    "\n",
    "では、実際にこの結果が得られるかOpenJijを用いて計算してみましょう。"
   ]
  },
  {
   "cell_type": "markdown",
   "metadata": {},
   "source": [
    "まず初めに、インプットデータとして、$h_i$と$J_{ij}$を用意します。\n",
    "ここでは、それぞれの添字をkeyとし、値をvalueとした辞書を作成します。"
   ]
  },
  {
   "cell_type": "code",
   "execution_count": 3,
   "metadata": {},
   "outputs": [
    {
     "name": "stdout",
     "output_type": "stream",
     "text": [
      "h_i:  {0: -1, 1: -1, 2: -1, 3: -1, 4: -1}\n",
      "Jij:  {(0, 1): -1, (0, 2): -1, (0, 3): -1, (0, 4): -1, (1, 2): -1, (1, 3): -1, (1, 4): -1, (2, 3): -1, (2, 4): -1, (3, 4): -1}\n"
     ]
    }
   ],
   "source": [
    "import openjij as oj\n",
    "\n",
    "# 問題を表す縦磁場と相互作用を作ります。OpenJijでは辞書型で問題を受け付けます。\n",
    "N = 5\n",
    "h = {i: -1 for i in range(N)}\n",
    "J = {(i, j): -1 for i in range(N) for j in range(i+1, N)}\n",
    "\n",
    "print('h_i: ', h)\n",
    "print('Jij: ', J)"
   ]
  },
  {
   "cell_type": "markdown",
   "metadata": {},
   "source": [
    "つづいて、実際に最適化計算を行なっていきます。\n",
    "ここでは、焼きなまし法を行うために、`oj.SASampler`のインスタンスを作成します。\n",
    "ここでは、`sample_ising`メソッドの引数に$h_i$と$J_{ij}$を渡してあげることで、焼きなまし法が実行されます。\n",
    "\n",
    "`oj.SASampler`、`sample_ising`の詳細および、その返り値については、このノートの最後に説明します。"
   ]
  },
  {
   "cell_type": "code",
   "execution_count": 4,
   "metadata": {},
   "outputs": [
    {
     "name": "stdout",
     "output_type": "stream",
     "text": [
      "[[1 1 1 1 1]]\n",
      "[{0: 1, 1: 1, 2: 1, 3: 1, 4: 1}]\n"
     ]
    }
   ],
   "source": [
    "# まず問題を解いてくれるSamplerのインスタンスを作ります。\n",
    "sampler = oj.SASampler()\n",
    "# samplerのメソッドに問題(h, J)を投げて問題を解きます。\n",
    "response = sampler.sample_ising(h, J, num_reads=1)\n",
    "\n",
    "# 計算した結果(状態)は response.states に入っています。\n",
    "print(response.states)\n",
    "\n",
    "# もしくは添字付きでみるには samples関数 を用います。\n",
    "print([s for s in response.samples()])"
   ]
  },
  {
   "cell_type": "markdown",
   "metadata": {},
   "source": [
    "確かに、我々の予想通り全てのスピンが1となった状態が得られました。"
   ]
  },
  {
   "cell_type": "markdown",
   "metadata": {},
   "source": [
    "先ほどは、$h_i$と$J_{ij}$を辞書として渡しましたが、巨大な問題を扱う際にはnumpyを用いた入力が便利となります。\n",
    "OpenJijでは、以下の形のnumpyの行列を渡すことで、OpenJijが解くことができる形に変換する`oj.BinaryQuadraticModel.from_numpy_matrix`が用意されています。\n",
    "\n",
    "$$ \\begin{pmatrix}\n",
    "h_{0} & J_{0,1} & \\cdots & J_{0,N-1}\\\\\n",
    "J_{1,0} & h_{1} & \\cdots & J_{1,N-1}\\\\\n",
    "\\vdots & \\vdots & \\vdots & \\vdots\\\\\n",
    "J_{N-1,0} & J_{N-1,1} & \\cdots & h_{N-1}\\\\\n",
    "\\end{pmatrix} $$"
   ]
  },
  {
   "cell_type": "code",
   "execution_count": 5,
   "metadata": {},
   "outputs": [
    {
     "name": "stdout",
     "output_type": "stream",
     "text": [
      "[[-1.  -0.5 -0.5 -0.5]\n",
      " [-0.5 -1.  -0.5 -0.5]\n",
      " [-0.5 -0.5 -1.  -0.5]\n",
      " [-0.5 -0.5 -0.5 -1. ]]\n",
      "BinaryQuadraticModel({3: -1.0, 2: -1.0, 1: -1.0, 0: -1.0}, {(1, 2): -1.0, (0, 2): -1.0, (1, 3): -1.0, (0, 3): -1.0, (2, 3): -1.0, (0, 1): -1.0}, 0.0, Vartype.SPIN, sparse=False)\n",
      "[[1 1 1 1]]\n"
     ]
    }
   ],
   "source": [
    "import numpy as np\n",
    "mat = np.array([[-1,-0.5,-0.5,-0.5],[-0.5,-1,-0.5,-0.5],[-0.5,-0.5,-1,-0.5],[-0.5,-0.5,-0.5,-1]])\n",
    "print(mat)\n",
    "\n",
    "# oj.BinaryQuadraticModelを作成し、変数タイプ (vartype)を'SPIN'にします。\n",
    "bqm = oj.BinaryQuadraticModel.from_numpy_matrix(mat, vartype='SPIN')\n",
    "# 各要素をprintで確認できます。J_{ij}とJ_{ji}は内部でまとめられます。\n",
    "print(bqm)\n",
    "\n",
    "sampler = oj.SASampler()\n",
    "response = sampler.sample(bqm, num_reads=1)\n",
    "\n",
    "print(response.states)"
   ]
  },
  {
   "cell_type": "markdown",
   "metadata": {},
   "source": [
    "辞書でデータを渡す場合には、相互作用行列の上三角だけを与えていましたが、numpy行列で与える場合には下三角も含めて与えているので、ここでは、辞書で与えた場合と問題を一致させるために、相互作用行列の非対角要素を1の半分の0.5として与えています。"
   ]
  },
  {
   "cell_type": "markdown",
   "metadata": {
    "colab_type": "text",
    "id": "zxyro6tTQyPN"
   },
   "source": [
    "## OpenJijによるQUBOを用いた最適化計算\n",
    "\n",
    "社会の実問題を解きたい場合には、イジング模型よりも QUBO(Quadratic unconstraited binary optimization)と呼ばれる形で定式化した方が素直な場合が多いです。\n",
    "\n",
    "QUBOは以下のように書かれます。\n",
    "\n",
    "$$H(\\{q_i\\}) = \\sum_{i\\geq j} Q_{ij}q_i q_j$$\n",
    "$$q_i \\in \\{0, 1\\}$$\n",
    "\n",
    "イジング模型との違いは、2値変数が0 と 1のバイナリ変数であることです。$\\sum Q_{ij}$の総和の範囲の取り方にはさまざまなもの(例えば$Q_{ij}$を対称行列にするなど)がありますが、今回は上式のように定式化しておきましょう。\n",
    "\n",
    "> $q_i = (\\sigma_i + 1)/2$という変換式を用いることでイジング模型と QUBO は相互変換が可能であり、その意味で二つの模型は等価です。\n",
    "\n",
    "QUBOでは、インプットとして$Q_{ij}$を与え、$H(\\{q_i\\})$を最小化する0, 1の組み合わせ$\\{q_i\\}$を探しましょうという問題になります。\n",
    "ほぼ先ほどのイジング模型の場合と一緒です。\n",
    "\n",
    "また$q_i$はバイナリ変数なので、$q_i^2 = q_i$であることがわかります。よって上式を以下のように書き分けることができます。\n",
    "\n",
    "$$H(\\{q_i\\}) = \\sum_{i > j} Q_{ij}q_i q_j + \\sum_i Q_{ii} q_i$$\n",
    "\n",
    "$Q_{ij}$の添字が同じところは $q_i$の1次の項の係数に対応します。\n",
    "\n",
    "これをOpenJijで解いてみましょう。"
   ]
  },
  {
   "cell_type": "code",
   "execution_count": 6,
   "metadata": {},
   "outputs": [
    {
     "name": "stdout",
     "output_type": "stream",
     "text": [
      "[[1 1 0]]\n"
     ]
    }
   ],
   "source": [
    "# Q_ij を辞書型でつくります。\n",
    "Q = {(0, 0): -1, (0, 1): -1, (1, 2): 1, (2, 2): 1}\n",
    "sampler = oj.SASampler()\n",
    "# QUBOを解く時は .sample_qubo を使います。\n",
    "response = sampler.sample_qubo(Q)\n",
    "print(response.states)"
   ]
  },
  {
   "cell_type": "markdown",
   "metadata": {
    "colab_type": "text",
    "id": "CxbDNkSuQyPU"
   },
   "source": [
    "QUBOでは変数が 0, 1のため、解も 0, 1で出力されていることがわかります。  \n",
    "このようにOpenJijを用いてイジング模型でもQUBOでも、同じように最適化問題を解くことができます。"
   ]
  },
  {
   "cell_type": "markdown",
   "metadata": {
    "colab_type": "text",
    "id": "feViwN6zQyO0"
   },
   "source": [
    "## OpenJijの機能の解説\n",
    "\n",
    "ここでは、上述のコードの詳細を解説をしていきます。\n",
    "OpenJijは現在インターフェースを2つ備えており、上記で使ったものはD-Wave Oceanと同じインターフェースになっています。そのため、OpenJijで慣れておけばD-Wave Oceanも扱うことができるようになります。\n",
    "\n",
    "> もう一つのインターフェースについてはここでは解説しませんが、OpenJijの仕組み`graph, method, algorithm`を直接使うことで拡張のしやすさを備えています。ここでは上のセルで扱ったインターフェースを使えるようになれば十分でしょう。\n",
    "\n",
    "### Sampler\n",
    "\n",
    "先ほどは問題を辞書型で作ったあとに、下のようにSamplerのインスタンスを作りました。\n",
    "```python\n",
    "sampler = oj.SASampler()\n",
    "```\n",
    "ここでこのSamplerのインスタンスが、どのようなアルゴリズムを使うかを指定しています。\n",
    "他のアルゴリズムを試したい場合には、このSamplerを変更することで別のアルゴリズムを使うことができます。\n",
    "例えば、上の例で用いた`SASampler`はSimulated Annealingというアルゴリズムを用いて、解をサンプリングしてくるSamplerです。  \n",
    "他にも、Simulated Quantum Annealing(SQA) という量子アニーリングを古典コンピュータでシミュレーションするアルゴリズムを用いるための`SQASampler`が用意されています。\n",
    "\n",
    "> OpenJijで扱っているアルゴリズムはヒューリスティックなアルゴリズムです。問題を解くたびに返す解が違ったり、必ずしも最適解を得ることができません。\n",
    "> よって複数回問題を解き、その中でよい解を探すという手法をとります。そのため、ここでは解をサンプリングするという気持ちを込めてSamplerと呼んでいます。\n",
    "\n",
    "この後にSampler.sample_quboまたはsample_isingの引数に、`num_reads`引数を指定しています。\n",
    "この`num_reads`引数に整数を入れることで、何個のサンプル（解）を得るかをを指定することができます。\n",
    "`num_reads`の値を明記しない場合、デフォルトの`num_reads=1`で実行されます。\n",
    "\n",
    "\n",
    "\n",
    "### sample_ising(h, J)、sample_qubo(Q)\n",
    "上述のとおり、問題を解く際は`.sample_ising(h, J)`のように縦磁場と相互作用を変数として代入して投入します。\n",
    "\n",
    "QUBOに対して最適化計算を行う時は`.sample_qubo(Q)`を用います。\n",
    "\n",
    "### Response\n",
    "\n",
    "`.sample_ising(h, J)`はResponseクラスを返します。ResponseクラスにはSamplerが解いて出てきた解と各解のエネルギーが入っています。\n",
    "Responseクラスは様々なプロパティを持ちますが、ここでは主要なプロパティについて説明します。\n",
    "\n",
    "- `.states` : list[list[int]]\n",
    "    - num_reads回数の解が格納されている\n",
    "    > 物理ではスピンの配列(解)を状態(state)と呼ぶことがあります。.statesにはnum_reads回だけ解いた解が格納されているので複数の状態を格納しているという気持ちを込めて .states としています。\n",
    "- `.energies` : list[float]\n",
    "    - num_reads回数分の各解のエネルギーが格納されている\n",
    "- `.indices` : list[object]\n",
    "    - 解がlistでstatesに入っているが、それに対応する各スピンの添字を格納されている\n",
    "- `.first.sample` : dict\n",
    "    - 最小エネルギー状態を取るときの状態が格納されている\n",
    "- `.first.energy` : float\n",
    "    - 最小エネルギーの値\n",
    "\n",
    "> ResponseクラスはD-WaveのdimodのSampleSetクラスを継承しています。より詳細な情報は以下のリンクに記述されています。  \n",
    "> [dimodドキュメント、SampleSet](https://docs.ocean.dwavesys.com/en/stable/docs_dimod/reference/sampleset.html#dimod.SampleSet)\n",
    "\n",
    "実際にコードを見てみましょう。\n",
    "ここでは、試しに`num_reads=10`ととして、10回分の解を得てみます。\n",
    "また、今回はSimulated Annealingではなく、Simulated Quantum Annealing用のSamplerである`SQASampler`を用いてみましょう。"
   ]
  },
  {
   "cell_type": "code",
   "execution_count": 7,
   "metadata": {},
   "outputs": [
    {
     "name": "stdout",
     "output_type": "stream",
     "text": [
      "{'a': 1, 'b': 1, 'c': -1}\n",
      "-4.0\n"
     ]
    }
   ],
   "source": [
    "# 実は h, J の添字を示す、辞書のkeyは数値以外も扱うことができます。\n",
    "h = {'a': -1, 'b': -1}\n",
    "J = {('a', 'b'): -1, ('b', 'c'): 1}\n",
    "# num_reads 引数に値を代入することで、SQAを10回試行する計算を一度の命令で解くことができます。\n",
    "sampler = oj.SQASampler()  \n",
    "response = sampler.sample_ising(h, J, num_reads=10)\n",
    "print(response.first.sample)\n",
    "print(response.first.energy)"
   ]
  },
  {
   "cell_type": "code",
   "execution_count": 8,
   "metadata": {},
   "outputs": [
    {
     "name": "stdout",
     "output_type": "stream",
     "text": [
      "[[ 1  1 -1]\n",
      " [ 1  1 -1]\n",
      " [ 1  1 -1]\n",
      " [ 1  1 -1]\n",
      " [ 1  1 -1]\n",
      " [ 1  1 -1]\n",
      " [ 1  1 -1]\n",
      " [ 1  1 -1]\n",
      " [ 1  1 -1]\n",
      " [ 1  1 -1]]\n"
     ]
    }
   ],
   "source": [
    "# response.states を見てみましょう。10回分の解が入っていることがわかります。\n",
    "print(response.states)"
   ]
  },
  {
   "cell_type": "markdown",
   "metadata": {
    "colab_type": "text",
    "id": "4mekWlvTQyO4"
   },
   "source": [
    "今回は問題が簡単なので、10回とも同じ答え [1,1,-1] になっていることがわかります。"
   ]
  },
  {
   "cell_type": "code",
   "execution_count": 9,
   "metadata": {},
   "outputs": [
    {
     "data": {
      "text/plain": [
       "array([-4., -4., -4., -4., -4., -4., -4., -4., -4., -4.])"
      ]
     },
     "execution_count": 9,
     "metadata": {},
     "output_type": "execute_result"
    }
   ],
   "source": [
    "# 次にエネルギーを見てみましょう。\n",
    "response.energies"
   ]
  },
  {
   "cell_type": "markdown",
   "metadata": {
    "colab_type": "text",
    "id": "NYAnma_WQyO7"
   },
   "source": [
    "エネルギーの値を10回とも同じ値を取っていることがわかります。  \n",
    "`response.states`に入っている解はリストになっているため、問題をセットした時の `a, b, c`という文字列との対応がわかりません。それを調べるために`response.variables`を見てみましょう。"
   ]
  },
  {
   "cell_type": "code",
   "execution_count": 10,
   "metadata": {},
   "outputs": [
    {
     "data": {
      "text/plain": [
       "Variables(['a', 'b', 'c'])"
      ]
     },
     "execution_count": 10,
     "metadata": {},
     "output_type": "execute_result"
    }
   ],
   "source": [
    "response.variables"
   ]
  },
  {
   "cell_type": "markdown",
   "metadata": {
    "colab_type": "text",
    "id": "5rf7wB7LQyPJ"
   },
   "source": [
    "最小のエネルギー値を持った状態のみが知りたい場合には `.first` が便利です。"
   ]
  },
  {
   "cell_type": "code",
   "execution_count": 11,
   "metadata": {
    "colab": {},
    "colab_type": "code",
    "id": "-J1utQATQyPK",
    "outputId": "839e1260-3b1c-432d-a4b6-7b318ba1048c"
   },
   "outputs": [
    {
     "data": {
      "text/plain": [
       "Sample(sample={'a': 1, 'b': 1, 'c': -1}, energy=-4.0, num_occurrences=1)"
      ]
     },
     "execution_count": 11,
     "metadata": {},
     "output_type": "execute_result"
    }
   ],
   "source": [
    "response.first"
   ]
  },
  {
   "cell_type": "markdown",
   "metadata": {
    "colab_type": "text",
    "id": "8IRw4pHOQyPV"
   },
   "source": [
    "## ランダムQUBO行列に対する最適化計算\n",
    "\n",
    "これまで解いてきた問題は簡単すぎたので、このチュートリアルの最後に少し難しい問題を解いてみましょう。\n",
    "\n",
    "今度は変数の数が50個でランダムに$Q_{ij}$が振られたQUBOを解いてみたいと思います。"
   ]
  },
  {
   "cell_type": "code",
   "execution_count": 12,
   "metadata": {},
   "outputs": [],
   "source": [
    "N = 50\n",
    "# ランダムにQij を作る\n",
    "import random\n",
    "Q = {(i, j): random.uniform(-1, 1) for i in range(N) for j in range(i+1, N)}\n",
    "\n",
    "# OpenJijで解く\n",
    "sampler = oj.SASampler()\n",
    "response = sampler.sample_qubo(Q, num_reads=100)"
   ]
  },
  {
   "cell_type": "code",
   "execution_count": 13,
   "metadata": {},
   "outputs": [
    {
     "data": {
      "text/plain": [
       "array([-50.40161535, -49.07840717, -50.40161535, -50.40161535,\n",
       "       -50.40161535])"
      ]
     },
     "execution_count": 13,
     "metadata": {},
     "output_type": "execute_result"
    }
   ],
   "source": [
    "# エネルギーを少しみてみます。\n",
    "response.energies[:5]"
   ]
  },
  {
   "cell_type": "markdown",
   "metadata": {
    "colab_type": "text",
    "id": "syclwqyyQyPg"
   },
   "source": [
    "エネルギーを見てみると、先ほどの例とは異なり違う値をとっていることがわかります。  \n",
    "ランダムに$Q_{ij}$ を与えた場合、一般に問題は難しくなります。よってSASamplerも毎回同じ解を出しません。  \n",
    "ではどのような解がでたのかを、エネルギーのヒストグラムで可視化してみましょう。"
   ]
  },
  {
   "cell_type": "code",
   "execution_count": 14,
   "metadata": {},
   "outputs": [
    {
     "data": {
      "image/png": "[encoded data removed]",
      "text/plain": [
       "<Figure size 640x480 with 1 Axes>"
      ]
     },
     "metadata": {},
     "output_type": "display_data"
    }
   ],
   "source": [
    "import matplotlib.pyplot as plt\n",
    "plt.hist(response.energies, bins=15)\n",
    "plt.xlabel('Energy', fontsize=15)\n",
    "plt.ylabel('Frequency', fontsize=15)\n",
    "plt.show()"
   ]
  },
  {
   "cell_type": "markdown",
   "metadata": {
    "colab_type": "text",
    "id": "K61nEm6fQyPl"
   },
   "source": [
    "エネルギーが低いほど良い状態を算出したことになりますが、稀にエネルギーが高い状態も算出されていることが上のヒストグラムからわかります。しかし大半の計算結果はエネルギーが最低の状態を算出しています。\n",
    "解いた(サンプルした)状態のうち一番低い解が最適解に近いはずなので、その解を.statesから探しましょう。\n",
    "> 注意: SAは必ずしも最適解を導くものではありません。よってエネルギーが一番低い解を選んでも最適解ではないのでヒューリスティクスによる解であることを忘れないでください。"
   ]
  },
  {
   "cell_type": "code",
   "execution_count": 15,
   "metadata": {},
   "outputs": [
    {
     "data": {
      "text/plain": [
       "Sample(sample={0: 1, 1: 1, 2: 1, 3: 1, 4: 0, 5: 1, 6: 1, 7: 1, 8: 0, 9: 1, 10: 0, 11: 1, 12: 1, 13: 1, 14: 1, 15: 1, 16: 0, 17: 0, 18: 1, 19: 0, 20: 1, 21: 1, 22: 1, 23: 1, 24: 0, 25: 1, 26: 0, 27: 1, 28: 0, 29: 1, 30: 1, 31: 1, 32: 0, 33: 1, 34: 1, 35: 1, 36: 0, 37: 1, 38: 0, 39: 1, 40: 0, 41: 0, 42: 1, 43: 1, 44: 1, 45: 1, 46: 0, 47: 0, 48: 1, 49: 0}, energy=-50.40161535006633, num_occurrences=1)"
      ]
     },
     "execution_count": 15,
     "metadata": {},
     "output_type": "execute_result"
    }
   ],
   "source": [
    "import numpy as np\n",
    "\n",
    "min_samples = response.first\n",
    "min_samples"
   ]
  },
  {
   "cell_type": "markdown",
   "metadata": {
    "colab_type": "text",
    "id": "XBp8gWZEQyPr"
   },
   "source": [
    "これでエネルギーが最も低い解を得ることができました。この`.first`に入っている状態が、今回得られた最良の解です。これで「最適化計算を実行した」ということになります。\n",
    "\n",
    "ここで`num_occurrences`は計算の結果その状態が何回出力されたかを表しています。"
   ]
  },
  {
   "cell_type": "markdown",
   "metadata": {},
   "source": []
  }
 ],
 "metadata": {
  "colab": {
   "include_colab_link": true,
   "name": "1-Introduction.ipynb",
   "provenance": [],
   "version": "0.3.2"
  },
  "kernelspec": {
   "display_name": ".venv",
   "language": "python",
   "name": "python3"
  },
  "language_info": {
   "codemirror_mode": {
    "name": "ipython",
    "version": 3
   },
   "file_extension": ".py",
   "mimetype": "text/x-python",
   "name": "python",
   "nbconvert_exporter": "python",
   "pygments_lexer": "ipython3",
   "version": "3.11.11"
  }
 },
 "nbformat": 4,
 "nbformat_minor": 4
}

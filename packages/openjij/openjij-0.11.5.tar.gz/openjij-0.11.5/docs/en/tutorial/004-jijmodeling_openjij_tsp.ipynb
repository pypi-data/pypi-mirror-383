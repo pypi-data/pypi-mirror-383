{
 "cells": [
  {
   "cell_type": "markdown",
   "metadata": {},
   "source": [
    "# Mathematical Model Formulation using JijModeling and Optimization with OpenJij\n",
    "In this tutorial, we explain the process of formulating a mathematical model using [JijModeling](https://www.ref.documentation.jijzept.com/jijmodeling/), converting the mathematical model to QUBO, and solving it with OpenJij."
   ]
  },
  {
   "cell_type": "code",
   "execution_count": 1,
   "metadata": {},
   "outputs": [],
   "source": [
    "# !pip install jijmodeling ommx-openjij-adapter"
   ]
  },
  {
   "cell_type": "code",
   "execution_count": 9,
   "metadata": {},
   "outputs": [],
   "source": [
    "import jijmodeling as jm\n",
    "import numpy as np"
   ]
  },
  {
   "cell_type": "markdown",
   "metadata": {},
   "source": [
    "# Traveling Salesman Problem (TSP)\n",
    "We discuss the traveling salesman problem (TSP) as an example of a constrained optimization problem.\n",
    "Suppose a salesman travels once to each of the  cities to sell a product and then returns to the city he started from.\n",
    "The problem is to find the route with the shortest distance to reduce the cost of travel.\n",
    "\n",
    "### Constraints\n",
    "In this problem, there are two constraints: a location constraint, which states that a salesman can only visit each point once, and a time constraint, which states that since there is only one salesman, he can only be in one city at a given time.\n",
    "\n",
    "Using a binary variable with $x_{t,i}=1$ when visiting the $i$th city at time $t$ and $x_{t,i}=0$ otherwise, the above two constraints are:\n",
    "\n",
    "\n",
    "$$\\text{Location constraint : }\\sum_{t=1}^N x_{t,i}=1 \\quad \\forall i$$\n",
    "\n",
    "$$\\text{Time constraint : }\\sum_{i=1}^N x_{t,i}=1 \\quad \\forall t$$\n",
    "\n",
    "A one-hot constraint is a type of constraint in which one of the above variables is 1.\n",
    "\n",
    "### Objective Function\n",
    "TSP is a problem of finding the shortest route.\n",
    "Therefore, if $d_{ij}$ is the distance between cities $i$ and $j$, the distance traveled when visiting city $i$ at time $t$ and city $j$ at time $t+1$ is:\n",
    "\n",
    "$$d_{ij}x_{t,i}x_{t+1,j}$$\n",
    "\n",
    "The sum of the above is:\n",
    "\n",
    "$$\\sum_{t=1}^N\\sum_{i=1}^N \\sum_{j=1}^N d_{ij}x_{t,i}x_{t+1,j}$$\n",
    "\n",
    "This is the total distance traveled, which is the objective function we wish to minimize."
   ]
  },
  {
   "cell_type": "markdown",
   "metadata": {},
   "source": [
    "To perform Ising optimization as described in the previous tutorials, a mathematical model with such constraints must be converted to an Ising Hamiltonian or QUBO Hamiltonian.\n",
    "Doing such work by hand is tedious and may cause bugs between the actual mathematical model and QUBO.\n",
    "JijModeling can do all this work automatically.\n",
    "In other words, it can code the mathematical model constructed as described above and automatically convert it to QUBO.\n",
    "In this section, we explain how to use JijModeling to solve TSP."
   ]
  },
  {
   "cell_type": "markdown",
   "metadata": {},
   "source": [
    "## Building a Mathematical Model of the TSP using JijModeling\n",
    "First, we use JijModeling to describe the mathematical model of the problem.\n",
    "Unlike common modelers for mathematical optimization calculations, JijModeling builds the mathematical model independently from the data of the problem instance.\n",
    "By constructing the mathematical model this way, the generality of the mathematical model can be ensured.\n",
    "Moreover, mathematical equations can be described intuitively, just like writing mathematical equations on paper.\n",
    "Furthermore, the mathematical model described in JijModeling can be checked in LaTeX on the notebook.\n",
    "\n",
    "In this section, we construct mathematical models one by one with JijModeling."
   ]
  },
  {
   "cell_type": "markdown",
   "metadata": {},
   "source": [
    "First, let us define the variables and the constants of the problem."
   ]
  },
  {
   "cell_type": "code",
   "execution_count": 10,
   "metadata": {},
   "outputs": [],
   "source": [
    "dist = jm.Placeholder(\"dist\", ndim=2)\n",
    "N = jm.Placeholder(\"N\")\n",
    "x = jm.BinaryVar(\"x\", shape=(N, N))\n",
    "i = jm.Element(\"i\", (0,N))\n",
    "j = jm.Element(\"j\", (0,N))\n",
    "t = jm.Element(\"t\", (0,N))"
   ]
  },
  {
   "cell_type": "markdown",
   "metadata": {},
   "source": [
    "Here, `jm.Placeholder` represents a constant, which is the distance matrix and the number of cities.\n",
    "By varying the distance matrix and number of cities data, we represent various sizes of TSP.\n",
    "\n",
    "Binary variables are represented by `jm.Binary`.\n",
    "Here we define a binary variable of $N\\times N$.\n",
    "Then, we use `jm.Element` to define the subscripts `i`,`j`,`t`.\n",
    "These are used to represent the range of sums.\n",
    "\n",
    "In JijModeling, we create a `jm.Problem` instance and add objective functions and constraints to it.\n",
    "Next, we will define the objective function using the variables we have defined."
   ]
  },
  {
   "cell_type": "code",
   "execution_count": 11,
   "metadata": {},
   "outputs": [
    {
     "data": {
      "text/latex": [
       "$$\\begin{array}{cccc}\\text{Problem:} & \\text{TSP} & & \\\\& & \\min \\quad \\displaystyle \\sum_{t = 0}^{N - 1} \\sum_{i = 0}^{N - 1} \\sum_{j = 0}^{N - 1} dist_{i, j} \\cdot x_{t, i} \\cdot x_{\\left(t + 1\\right) \\bmod N, j} & \\\\\\text{{where}} & & & \\\\& x & 2\\text{-dim binary variable}\\\\\\end{array}$$"
      ],
      "text/plain": [
       "<jijmodeling.Problem at 0x13f1c1a00>"
      ]
     },
     "execution_count": 11,
     "metadata": {},
     "output_type": "execute_result"
    }
   ],
   "source": [
    "problem = jm.Problem(\"TSP\")\n",
    "obj = jm.sum([t, i, j], dist[i, j] * x[t, i] * x[(t + 1) % N, j])\n",
    "problem += obj\n",
    "problem"
   ]
  },
  {
   "cell_type": "markdown",
   "metadata": {},
   "source": [
    "The sum can be expressed with `jm.Sum`.\n",
    "The first argument of `jm.Sum` is the indices to be summed, and since the objective function of TSP takes sums for three indices, we pass those indices (`jm.element`) in a list.\n",
    "\n",
    "Then, we add the constraint conditions."
   ]
  },
  {
   "cell_type": "code",
   "execution_count": 12,
   "metadata": {},
   "outputs": [],
   "source": [
    "# Constraint 1 : one-hot position constraint\n",
    "problem += jm.Constraint(\n",
    "            \"one-hot location\",\n",
    "            jm.sum(t,x[t,i]) == 1,\n",
    "            forall=i,\n",
    "        )\n",
    "\n",
    "# Constraint 2 : one-hot time constraint\n",
    "problem += jm.Constraint(\n",
    "            \"one-hot time\",\n",
    "            x[t, :].sum() == 1,\n",
    "            forall=t,\n",
    "        )"
   ]
  },
  {
   "cell_type": "markdown",
   "metadata": {},
   "source": [
    "Constraints can be expressed using `jm.Constraint`.\n",
    "The first argument is the name of the constraint condition, and the second argument is a mathematical expression of the constraint condition.\n",
    "\n",
    "This constraint has an optional argument, `forall`.\n",
    "This is a JijModeling argument that expresses what is expressed in a mathematical model as \"for any $i$\" or \"$\\forall i$\".\n",
    "\n",
    "Finally, let us check the mathematical model we have just described."
   ]
  },
  {
   "cell_type": "code",
   "execution_count": 13,
   "metadata": {},
   "outputs": [
    {
     "data": {
      "text/latex": [
       "$$\\begin{array}{cccc}\\text{Problem:} & \\text{TSP} & & \\\\& & \\min \\quad \\displaystyle \\sum_{t = 0}^{N - 1} \\sum_{i = 0}^{N - 1} \\sum_{j = 0}^{N - 1} dist_{i, j} \\cdot x_{t, i} \\cdot x_{\\left(t + 1\\right) \\bmod N, j} & \\\\\\text{{s.t.}} & & & \\\\ & \\text{one-hot location} & \\displaystyle \\sum_{t = 0}^{N - 1} x_{t, i} = 1 & \\forall i \\in \\left\\{0,\\ldots,N - 1\\right\\} \\\\ & \\text{one-hot time} & \\displaystyle \\sum_{\\ast_{1} = 0}^{N - 1} x_{t, \\ast_{1}} = 1 & \\forall t \\in \\left\\{0,\\ldots,N - 1\\right\\} \\\\\\text{{where}} & & & \\\\& x & 2\\text{-dim binary variable}\\\\\\end{array}$$"
      ],
      "text/plain": [
       "<jijmodeling.Problem at 0x13f1c1a00>"
      ]
     },
     "execution_count": 13,
     "metadata": {},
     "output_type": "execute_result"
    }
   ],
   "source": [
    "problem"
   ]
  },
  {
   "cell_type": "markdown",
   "metadata": {},
   "source": [
    "We see the same mathematical expression displayed as in the mathematical model used in the explanation.\n",
    "\n",
    "This completes the construction of the mathematical model.\n",
    "As above, JijModeling allows you to code mathematical models by comparing them with mathematical formulas."
   ]
  },
  {
   "cell_type": "markdown",
   "metadata": {},
   "source": [
    "## Creating the Problem Data\n",
    "Now that we have a mathematical model of the problem, the next step is to create data for the problem.\n",
    "Here we will solve a simple problem with 5 cities and random distances between cities."
   ]
  },
  {
   "cell_type": "code",
   "execution_count": 27,
   "metadata": {},
   "outputs": [
    {
     "data": {
      "text/plain": [
       "(0.0, 1.0)"
      ]
     },
     "execution_count": 27,
     "metadata": {},
     "output_type": "execute_result"
    },
    {
     "data": {
      "image/png": "[encoded data removed]",
      "text/plain": [
       "<Figure size 640x480 with 1 Axes>"
      ]
     },
     "metadata": {},
     "output_type": "display_data"
    }
   ],
   "source": [
    "import matplotlib.pyplot as plt\n",
    "\n",
    "inst_N = 5\n",
    "np.random.seed(3)\n",
    "\n",
    "x_pos = np.random.rand(inst_N) \n",
    "y_pos = np.random.rand(inst_N) \n",
    "\n",
    "plt.plot(x_pos, y_pos, 'o')\n",
    "plt.xlim(0, 1)\n",
    "plt.ylim(0, 1)"
   ]
  },
  {
   "cell_type": "markdown",
   "metadata": {},
   "source": [
    "Since we assign the data to the `jm.Placeholder` to create the mathematical model, we need to pass the data in a dictionary type with the Placeholder's name as the key.\n",
    "In this problem, we need to pass values for `N` and `dist`."
   ]
  },
  {
   "cell_type": "code",
   "execution_count": 15,
   "metadata": {},
   "outputs": [
    {
     "data": {
      "text/plain": [
       "{'N': 5,\n",
       " 'dist': array([[0.        , 0.7866063 , 0.73643374, 0.84577089, 0.56967619],\n",
       "        [0.7866063 , 0.        , 0.4251585 , 0.21078131, 0.36540009],\n",
       "        [0.73643374, 0.4251585 , 0.        , 0.26950348, 0.64576184],\n",
       "        [0.84577089, 0.21078131, 0.26950348, 0.        , 0.54552992],\n",
       "        [0.56967619, 0.36540009, 0.64576184, 0.54552992, 0.        ]])}"
      ]
     },
     "execution_count": 15,
     "metadata": {},
     "output_type": "execute_result"
    }
   ],
   "source": [
    "XX, XX_T = np.meshgrid(x_pos, x_pos)\n",
    "YY, YY_T = np.meshgrid(y_pos, y_pos)\n",
    "distance = np.sqrt((XX - XX_T)**2 + (YY - YY_T)**2)\n",
    "instance_data = {\n",
    "    \"N\":N,\"dist\": distance\n",
    "}\n",
    "instance_data"
   ]
  },
  {
   "cell_type": "markdown",
   "metadata": {},
   "source": [
    "## Convert to OMMX-Instance\n",
    "\n",
    "Now that we have prepared the mathematical model and data, we will create an OMMX Instance object by substituting the previously created `instance_data` into the model described in JijModeling.\n",
    "\n",
    "`OMMX Instance` is an object that follows the data format representing mathematical model instances as specified by [OMMX](https://github.com/Jij-Inc/ommx), which is a common format for data exchange between modeler<>solver and modeler<>modeler in mathematical optimization. For more information about JijModeling and OMMX conversion, please refer to the [JijModeling documentation](https://jij-inc.github.io/JijModeling-Tutorials/en/introduction.html) or [OMMX documentation](https://jij-inc.github.io/ommx/en/introduction.html)."
   ]
  },
  {
   "cell_type": "code",
   "execution_count": 16,
   "metadata": {},
   "outputs": [],
   "source": [
    "# Get interface to convert JijModeling objects to OMMX\n",
    "interpreter = jm.Interpreter(instance_data)\n",
    "\n",
    "# Get OMMX instance by plugging instance_data into problem\n",
    "instance = interpreter.eval_problem(problem)"
   ]
  },
  {
   "cell_type": "markdown",
   "metadata": {},
   "source": [
    "At this stage, `instance` is still data for constrained optimization. Let's check its contents briefly."
   ]
  },
  {
   "cell_type": "code",
   "execution_count": 17,
   "metadata": {},
   "outputs": [
    {
     "data": {
      "text/html": [
       "<div>\n",
       "<style scoped>\n",
       "    .dataframe tbody tr th:only-of-type {\n",
       "        vertical-align: middle;\n",
       "    }\n",
       "\n",
       "    .dataframe tbody tr th {\n",
       "        vertical-align: top;\n",
       "    }\n",
       "\n",
       "    .dataframe thead th {\n",
       "        text-align: right;\n",
       "    }\n",
       "</style>\n",
       "<table border=\"1\" class=\"dataframe\">\n",
       "  <thead>\n",
       "    <tr style=\"text-align: right;\">\n",
       "      <th></th>\n",
       "      <th>kind</th>\n",
       "      <th>lower</th>\n",
       "      <th>upper</th>\n",
       "      <th>name</th>\n",
       "      <th>subscripts</th>\n",
       "      <th>description</th>\n",
       "      <th>substituted_value</th>\n",
       "    </tr>\n",
       "    <tr>\n",
       "      <th>id</th>\n",
       "      <th></th>\n",
       "      <th></th>\n",
       "      <th></th>\n",
       "      <th></th>\n",
       "      <th></th>\n",
       "      <th></th>\n",
       "      <th></th>\n",
       "    </tr>\n",
       "  </thead>\n",
       "  <tbody>\n",
       "    <tr>\n",
       "      <th>0</th>\n",
       "      <td>binary</td>\n",
       "      <td>0.0</td>\n",
       "      <td>1.0</td>\n",
       "      <td>x</td>\n",
       "      <td>[0, 0]</td>\n",
       "      <td>&lt;NA&gt;</td>\n",
       "      <td>&lt;NA&gt;</td>\n",
       "    </tr>\n",
       "    <tr>\n",
       "      <th>1</th>\n",
       "      <td>binary</td>\n",
       "      <td>0.0</td>\n",
       "      <td>1.0</td>\n",
       "      <td>x</td>\n",
       "      <td>[0, 1]</td>\n",
       "      <td>&lt;NA&gt;</td>\n",
       "      <td>&lt;NA&gt;</td>\n",
       "    </tr>\n",
       "    <tr>\n",
       "      <th>2</th>\n",
       "      <td>binary</td>\n",
       "      <td>0.0</td>\n",
       "      <td>1.0</td>\n",
       "      <td>x</td>\n",
       "      <td>[0, 2]</td>\n",
       "      <td>&lt;NA&gt;</td>\n",
       "      <td>&lt;NA&gt;</td>\n",
       "    </tr>\n",
       "    <tr>\n",
       "      <th>3</th>\n",
       "      <td>binary</td>\n",
       "      <td>0.0</td>\n",
       "      <td>1.0</td>\n",
       "      <td>x</td>\n",
       "      <td>[0, 3]</td>\n",
       "      <td>&lt;NA&gt;</td>\n",
       "      <td>&lt;NA&gt;</td>\n",
       "    </tr>\n",
       "    <tr>\n",
       "      <th>4</th>\n",
       "      <td>binary</td>\n",
       "      <td>0.0</td>\n",
       "      <td>1.0</td>\n",
       "      <td>x</td>\n",
       "      <td>[0, 4]</td>\n",
       "      <td>&lt;NA&gt;</td>\n",
       "      <td>&lt;NA&gt;</td>\n",
       "    </tr>\n",
       "  </tbody>\n",
       "</table>\n",
       "</div>"
      ],
      "text/plain": [
       "      kind  lower  upper name subscripts description substituted_value\n",
       "id                                                                    \n",
       "0   binary    0.0    1.0    x     [0, 0]        <NA>              <NA>\n",
       "1   binary    0.0    1.0    x     [0, 1]        <NA>              <NA>\n",
       "2   binary    0.0    1.0    x     [0, 2]        <NA>              <NA>\n",
       "3   binary    0.0    1.0    x     [0, 3]        <NA>              <NA>\n",
       "4   binary    0.0    1.0    x     [0, 4]        <NA>              <NA>"
      ]
     },
     "execution_count": 17,
     "metadata": {},
     "output_type": "execute_result"
    }
   ],
   "source": [
    "instance.decision_variables.head(5)"
   ]
  },
  {
   "cell_type": "code",
   "execution_count": 18,
   "metadata": {},
   "outputs": [
    {
     "data": {
      "text/html": [
       "<div>\n",
       "<style scoped>\n",
       "    .dataframe tbody tr th:only-of-type {\n",
       "        vertical-align: middle;\n",
       "    }\n",
       "\n",
       "    .dataframe tbody tr th {\n",
       "        vertical-align: top;\n",
       "    }\n",
       "\n",
       "    .dataframe thead th {\n",
       "        text-align: right;\n",
       "    }\n",
       "</style>\n",
       "<table border=\"1\" class=\"dataframe\">\n",
       "  <thead>\n",
       "    <tr style=\"text-align: right;\">\n",
       "      <th></th>\n",
       "      <th>kind</th>\n",
       "      <th>lower</th>\n",
       "      <th>upper</th>\n",
       "      <th>name</th>\n",
       "      <th>subscripts</th>\n",
       "      <th>description</th>\n",
       "      <th>substituted_value</th>\n",
       "    </tr>\n",
       "    <tr>\n",
       "      <th>id</th>\n",
       "      <th></th>\n",
       "      <th></th>\n",
       "      <th></th>\n",
       "      <th></th>\n",
       "      <th></th>\n",
       "      <th></th>\n",
       "      <th></th>\n",
       "    </tr>\n",
       "  </thead>\n",
       "  <tbody>\n",
       "    <tr>\n",
       "      <th>0</th>\n",
       "      <td>binary</td>\n",
       "      <td>0.0</td>\n",
       "      <td>1.0</td>\n",
       "      <td>x</td>\n",
       "      <td>[0, 0]</td>\n",
       "      <td>&lt;NA&gt;</td>\n",
       "      <td>&lt;NA&gt;</td>\n",
       "    </tr>\n",
       "    <tr>\n",
       "      <th>1</th>\n",
       "      <td>binary</td>\n",
       "      <td>0.0</td>\n",
       "      <td>1.0</td>\n",
       "      <td>x</td>\n",
       "      <td>[0, 1]</td>\n",
       "      <td>&lt;NA&gt;</td>\n",
       "      <td>&lt;NA&gt;</td>\n",
       "    </tr>\n",
       "    <tr>\n",
       "      <th>2</th>\n",
       "      <td>binary</td>\n",
       "      <td>0.0</td>\n",
       "      <td>1.0</td>\n",
       "      <td>x</td>\n",
       "      <td>[0, 2]</td>\n",
       "      <td>&lt;NA&gt;</td>\n",
       "      <td>&lt;NA&gt;</td>\n",
       "    </tr>\n",
       "    <tr>\n",
       "      <th>3</th>\n",
       "      <td>binary</td>\n",
       "      <td>0.0</td>\n",
       "      <td>1.0</td>\n",
       "      <td>x</td>\n",
       "      <td>[0, 3]</td>\n",
       "      <td>&lt;NA&gt;</td>\n",
       "      <td>&lt;NA&gt;</td>\n",
       "    </tr>\n",
       "    <tr>\n",
       "      <th>4</th>\n",
       "      <td>binary</td>\n",
       "      <td>0.0</td>\n",
       "      <td>1.0</td>\n",
       "      <td>x</td>\n",
       "      <td>[0, 4]</td>\n",
       "      <td>&lt;NA&gt;</td>\n",
       "      <td>&lt;NA&gt;</td>\n",
       "    </tr>\n",
       "  </tbody>\n",
       "</table>\n",
       "</div>"
      ],
      "text/plain": [
       "      kind  lower  upper name subscripts description substituted_value\n",
       "id                                                                    \n",
       "0   binary    0.0    1.0    x     [0, 0]        <NA>              <NA>\n",
       "1   binary    0.0    1.0    x     [0, 1]        <NA>              <NA>\n",
       "2   binary    0.0    1.0    x     [0, 2]        <NA>              <NA>\n",
       "3   binary    0.0    1.0    x     [0, 3]        <NA>              <NA>\n",
       "4   binary    0.0    1.0    x     [0, 4]        <NA>              <NA>"
      ]
     },
     "execution_count": 18,
     "metadata": {},
     "output_type": "execute_result"
    }
   ],
   "source": [
    "instance.decision_variables.head(5)"
   ]
  },
  {
   "cell_type": "markdown",
   "metadata": {},
   "source": [
    "## Converting Instance to QUBO\n",
    "We can confirm that binary variables and constraints have been successfully defined.\n",
    "Next, let's convert the OMMX Instance to QUBO. OMMX Instance uses the penalty method for QUBO conversion.\n",
    "Running `instance.to_qubo()` will perform the conversion to QUBO. For details about to_qubo, please refer to the [to_qubo API Reference](https://jij-inc.github.io/ommx/python/ommx/autoapi/ommx/v1/index.html#ommx.v1.Instance.to_qubo). \n",
    "\n",
    "If you want to adjust the penalty coefficient weights, you can:\n",
    "- Use `uniform_penalty_weight` to adjust all penalty coefficients uniformly\n",
    "- Or specify `penalty_weights: dict[int, float]` using the Constraint table IDs as keys to individually adjust penalty coefficients for specific constraints\n",
    "\n",
    "If not specified, all penalty coefficients will default to 1.0."
   ]
  },
  {
   "cell_type": "code",
   "execution_count": 19,
   "metadata": {},
   "outputs": [],
   "source": [
    "qubo, const = instance.to_qubo(uniform_penalty_weight=0.8)"
   ]
  },
  {
   "cell_type": "markdown",
   "metadata": {},
   "source": [
    "We have successfully generated QUBO."
   ]
  },
  {
   "cell_type": "markdown",
   "metadata": {},
   "source": [
    "# Performing Optimization using OpenJij\n",
    "Since QUBO has been obtained, optimization calculations can be performed as before using this QUBO."
   ]
  },
  {
   "cell_type": "code",
   "execution_count": 21,
   "metadata": {},
   "outputs": [],
   "source": [
    "import openjij as oj"
   ]
  },
  {
   "cell_type": "code",
   "execution_count": 22,
   "metadata": {},
   "outputs": [],
   "source": [
    "sampler = oj.SASampler()\n",
    "res = sampler.sample_qubo(Q=qubo, num_reads=100)"
   ]
  },
  {
   "cell_type": "markdown",
   "metadata": {},
   "source": [
    "# Using ommx-openjij-adapter for Solution Analysis\n",
    "Since running optimization with OpenJij returns a sequence of 0s and 1s, which is difficult to read. Let's use ommx-openjij-adapter to verify if the constraints are satisfied and convert the solution into a more usable format."
   ]
  },
  {
   "cell_type": "code",
   "execution_count": 23,
   "metadata": {
    "tags": []
   },
   "outputs": [],
   "source": [
    "import ommx_openjij_adapter as oj_ad\n",
    "\n",
    "# Adapter handles conversion between OMMX Instance and OpenJij\n",
    "adapter = oj_ad.OMMXOpenJijSAAdapter(instance)\n",
    "\n",
    "# Convert OpenJij results to OMMX SampleSet.\n",
    "# At this point, it calculates the objective function of the original optimization problem and checks if constraints are satisfied.\n",
    "sampleset = adapter.decode_to_sampleset(res)"
   ]
  },
  {
   "cell_type": "markdown",
   "metadata": {},
   "source": [
    "`sampleset` is a format that contains multiple solutions. We will select the best solution from these.\n",
    "\n",
    "The `.best_feasible` method selects the solution with the smallest objective function value among feasible solutions that satisfy the constraints in the instance. However, when using `instance.to_qubo`, all constraints are removed and combined into the objective function as penalties, so we cannot use this method to select feasible solutions.\n",
    "\n",
    "The operation of removing constraints and combining them into the objective function as penalties is called relaxation. In other words, the `instance` has been relaxed by calling `.to_qubo`. However, we typically want to verify if the original constraints are satisfied. Even though the constraints appear to be removed after relaxation, they are actually preserved internally in a different location. Therefore, the `.best_feasible_unrelaxed` method is available to extract feasible solutions based on the pre-relaxation state. After converting to QUBO, we can use this method to select the solution with the best objective function value from among the feasible solutions."
   ]
  },
  {
   "cell_type": "code",
   "execution_count": 24,
   "metadata": {},
   "outputs": [],
   "source": [
    "best_sample = sampleset.best_feasible_unrelaxed()"
   ]
  },
  {
   "cell_type": "markdown",
   "metadata": {},
   "source": [
    "`.extract_decision_variables` is a method that returns the OpenJij results converted back to the original mathematical model variables in an easy-to-read format."
   ]
  },
  {
   "cell_type": "code",
   "execution_count": 25,
   "metadata": {},
   "outputs": [
    {
     "data": {
      "text/plain": [
       "{(0, 1), (1, 4), (2, 0), (3, 2), (4, 3)}"
      ]
     },
     "execution_count": 25,
     "metadata": {},
     "output_type": "execute_result"
    }
   ],
   "source": [
    "x_value: dict[tuple[int, int], float] = best_sample.extract_decision_variables(\"x\")\n",
    "nonzero_keys = {k for k, v in x_value.items() if v > 0.5}\n",
    "nonzero_keys"
   ]
  },
  {
   "cell_type": "markdown",
   "metadata": {},
   "source": [
    "You can check the original constraints and their values in `sampleset.constraints`. The `value` field contains the value of the left side minus the right side of the constraint equation. If the constraint is satisfied, it will be 0; if not satisfied, it will be 1 or greater. The `feasible` field contains a boolean value indicating whether this constraint is satisfied. Since we used `.best_feasible_unrelaxed`, we can confirm that all constraints are satisfied.\n",
    "\n",
    "Additionally, `removed_reason` indicates that this constraint was combined into the objective function as a penalty using the `uniform_penalty_method`."
   ]
  },
  {
   "cell_type": "code",
   "execution_count": 26,
   "metadata": {},
   "outputs": [
    {
     "data": {
      "text/html": [
       "<div>\n",
       "<style scoped>\n",
       "    .dataframe tbody tr th:only-of-type {\n",
       "        vertical-align: middle;\n",
       "    }\n",
       "\n",
       "    .dataframe tbody tr th {\n",
       "        vertical-align: top;\n",
       "    }\n",
       "\n",
       "    .dataframe thead th {\n",
       "        text-align: right;\n",
       "    }\n",
       "</style>\n",
       "<table border=\"1\" class=\"dataframe\">\n",
       "  <thead>\n",
       "    <tr style=\"text-align: right;\">\n",
       "      <th></th>\n",
       "      <th>equality</th>\n",
       "      <th>used_ids</th>\n",
       "      <th>name</th>\n",
       "      <th>subscripts</th>\n",
       "      <th>description</th>\n",
       "      <th>removed_reason</th>\n",
       "      <th>value.0</th>\n",
       "      <th>value.1</th>\n",
       "      <th>value.2</th>\n",
       "      <th>value.3</th>\n",
       "      <th>...</th>\n",
       "      <th>feasible.41</th>\n",
       "      <th>feasible.27</th>\n",
       "      <th>feasible.95</th>\n",
       "      <th>feasible.69</th>\n",
       "      <th>feasible.51</th>\n",
       "      <th>feasible.32</th>\n",
       "      <th>feasible.1</th>\n",
       "      <th>feasible.4</th>\n",
       "      <th>feasible.25</th>\n",
       "      <th>feasible.47</th>\n",
       "    </tr>\n",
       "    <tr>\n",
       "      <th>id</th>\n",
       "      <th></th>\n",
       "      <th></th>\n",
       "      <th></th>\n",
       "      <th></th>\n",
       "      <th></th>\n",
       "      <th></th>\n",
       "      <th></th>\n",
       "      <th></th>\n",
       "      <th></th>\n",
       "      <th></th>\n",
       "      <th></th>\n",
       "      <th></th>\n",
       "      <th></th>\n",
       "      <th></th>\n",
       "      <th></th>\n",
       "      <th></th>\n",
       "      <th></th>\n",
       "      <th></th>\n",
       "      <th></th>\n",
       "      <th></th>\n",
       "      <th></th>\n",
       "    </tr>\n",
       "  </thead>\n",
       "  <tbody>\n",
       "    <tr>\n",
       "      <th>0</th>\n",
       "      <td>=0</td>\n",
       "      <td>{0, 5, 10, 15, 20}</td>\n",
       "      <td>one-hot location</td>\n",
       "      <td>[0]</td>\n",
       "      <td>&lt;NA&gt;</td>\n",
       "      <td>uniform_penalty_method</td>\n",
       "      <td>0.0</td>\n",
       "      <td>0.0</td>\n",
       "      <td>0.0</td>\n",
       "      <td>0.0</td>\n",
       "      <td>...</td>\n",
       "      <td>True</td>\n",
       "      <td>True</td>\n",
       "      <td>True</td>\n",
       "      <td>True</td>\n",
       "      <td>True</td>\n",
       "      <td>True</td>\n",
       "      <td>True</td>\n",
       "      <td>True</td>\n",
       "      <td>True</td>\n",
       "      <td>True</td>\n",
       "    </tr>\n",
       "    <tr>\n",
       "      <th>1</th>\n",
       "      <td>=0</td>\n",
       "      <td>{1, 6, 11, 16, 21}</td>\n",
       "      <td>one-hot location</td>\n",
       "      <td>[1]</td>\n",
       "      <td>&lt;NA&gt;</td>\n",
       "      <td>uniform_penalty_method</td>\n",
       "      <td>0.0</td>\n",
       "      <td>0.0</td>\n",
       "      <td>0.0</td>\n",
       "      <td>0.0</td>\n",
       "      <td>...</td>\n",
       "      <td>True</td>\n",
       "      <td>True</td>\n",
       "      <td>True</td>\n",
       "      <td>True</td>\n",
       "      <td>True</td>\n",
       "      <td>True</td>\n",
       "      <td>True</td>\n",
       "      <td>True</td>\n",
       "      <td>True</td>\n",
       "      <td>True</td>\n",
       "    </tr>\n",
       "    <tr>\n",
       "      <th>2</th>\n",
       "      <td>=0</td>\n",
       "      <td>{2, 7, 12, 17, 22}</td>\n",
       "      <td>one-hot location</td>\n",
       "      <td>[2]</td>\n",
       "      <td>&lt;NA&gt;</td>\n",
       "      <td>uniform_penalty_method</td>\n",
       "      <td>0.0</td>\n",
       "      <td>0.0</td>\n",
       "      <td>0.0</td>\n",
       "      <td>0.0</td>\n",
       "      <td>...</td>\n",
       "      <td>True</td>\n",
       "      <td>True</td>\n",
       "      <td>True</td>\n",
       "      <td>True</td>\n",
       "      <td>True</td>\n",
       "      <td>True</td>\n",
       "      <td>True</td>\n",
       "      <td>True</td>\n",
       "      <td>True</td>\n",
       "      <td>True</td>\n",
       "    </tr>\n",
       "    <tr>\n",
       "      <th>3</th>\n",
       "      <td>=0</td>\n",
       "      <td>{3, 8, 13, 18, 23}</td>\n",
       "      <td>one-hot location</td>\n",
       "      <td>[3]</td>\n",
       "      <td>&lt;NA&gt;</td>\n",
       "      <td>uniform_penalty_method</td>\n",
       "      <td>0.0</td>\n",
       "      <td>0.0</td>\n",
       "      <td>0.0</td>\n",
       "      <td>0.0</td>\n",
       "      <td>...</td>\n",
       "      <td>True</td>\n",
       "      <td>True</td>\n",
       "      <td>True</td>\n",
       "      <td>True</td>\n",
       "      <td>True</td>\n",
       "      <td>True</td>\n",
       "      <td>True</td>\n",
       "      <td>True</td>\n",
       "      <td>True</td>\n",
       "      <td>True</td>\n",
       "    </tr>\n",
       "    <tr>\n",
       "      <th>4</th>\n",
       "      <td>=0</td>\n",
       "      <td>{4, 9, 14, 19, 24}</td>\n",
       "      <td>one-hot location</td>\n",
       "      <td>[4]</td>\n",
       "      <td>&lt;NA&gt;</td>\n",
       "      <td>uniform_penalty_method</td>\n",
       "      <td>0.0</td>\n",
       "      <td>0.0</td>\n",
       "      <td>0.0</td>\n",
       "      <td>0.0</td>\n",
       "      <td>...</td>\n",
       "      <td>True</td>\n",
       "      <td>True</td>\n",
       "      <td>True</td>\n",
       "      <td>True</td>\n",
       "      <td>True</td>\n",
       "      <td>True</td>\n",
       "      <td>True</td>\n",
       "      <td>True</td>\n",
       "      <td>True</td>\n",
       "      <td>True</td>\n",
       "    </tr>\n",
       "    <tr>\n",
       "      <th>5</th>\n",
       "      <td>=0</td>\n",
       "      <td>{0, 1, 2, 3, 4}</td>\n",
       "      <td>one-hot time</td>\n",
       "      <td>[0]</td>\n",
       "      <td>&lt;NA&gt;</td>\n",
       "      <td>uniform_penalty_method</td>\n",
       "      <td>0.0</td>\n",
       "      <td>0.0</td>\n",
       "      <td>0.0</td>\n",
       "      <td>0.0</td>\n",
       "      <td>...</td>\n",
       "      <td>True</td>\n",
       "      <td>True</td>\n",
       "      <td>True</td>\n",
       "      <td>True</td>\n",
       "      <td>True</td>\n",
       "      <td>True</td>\n",
       "      <td>True</td>\n",
       "      <td>True</td>\n",
       "      <td>True</td>\n",
       "      <td>True</td>\n",
       "    </tr>\n",
       "    <tr>\n",
       "      <th>6</th>\n",
       "      <td>=0</td>\n",
       "      <td>{5, 6, 7, 8, 9}</td>\n",
       "      <td>one-hot time</td>\n",
       "      <td>[1]</td>\n",
       "      <td>&lt;NA&gt;</td>\n",
       "      <td>uniform_penalty_method</td>\n",
       "      <td>0.0</td>\n",
       "      <td>0.0</td>\n",
       "      <td>0.0</td>\n",
       "      <td>0.0</td>\n",
       "      <td>...</td>\n",
       "      <td>True</td>\n",
       "      <td>True</td>\n",
       "      <td>True</td>\n",
       "      <td>True</td>\n",
       "      <td>True</td>\n",
       "      <td>True</td>\n",
       "      <td>True</td>\n",
       "      <td>True</td>\n",
       "      <td>True</td>\n",
       "      <td>True</td>\n",
       "    </tr>\n",
       "    <tr>\n",
       "      <th>7</th>\n",
       "      <td>=0</td>\n",
       "      <td>{10, 11, 12, 13, 14}</td>\n",
       "      <td>one-hot time</td>\n",
       "      <td>[2]</td>\n",
       "      <td>&lt;NA&gt;</td>\n",
       "      <td>uniform_penalty_method</td>\n",
       "      <td>0.0</td>\n",
       "      <td>0.0</td>\n",
       "      <td>0.0</td>\n",
       "      <td>0.0</td>\n",
       "      <td>...</td>\n",
       "      <td>True</td>\n",
       "      <td>True</td>\n",
       "      <td>True</td>\n",
       "      <td>True</td>\n",
       "      <td>True</td>\n",
       "      <td>True</td>\n",
       "      <td>True</td>\n",
       "      <td>True</td>\n",
       "      <td>True</td>\n",
       "      <td>True</td>\n",
       "    </tr>\n",
       "    <tr>\n",
       "      <th>8</th>\n",
       "      <td>=0</td>\n",
       "      <td>{15, 16, 17, 18, 19}</td>\n",
       "      <td>one-hot time</td>\n",
       "      <td>[3]</td>\n",
       "      <td>&lt;NA&gt;</td>\n",
       "      <td>uniform_penalty_method</td>\n",
       "      <td>0.0</td>\n",
       "      <td>0.0</td>\n",
       "      <td>0.0</td>\n",
       "      <td>0.0</td>\n",
       "      <td>...</td>\n",
       "      <td>True</td>\n",
       "      <td>True</td>\n",
       "      <td>True</td>\n",
       "      <td>True</td>\n",
       "      <td>True</td>\n",
       "      <td>True</td>\n",
       "      <td>True</td>\n",
       "      <td>True</td>\n",
       "      <td>True</td>\n",
       "      <td>True</td>\n",
       "    </tr>\n",
       "    <tr>\n",
       "      <th>9</th>\n",
       "      <td>=0</td>\n",
       "      <td>{20, 21, 22, 23, 24}</td>\n",
       "      <td>one-hot time</td>\n",
       "      <td>[4]</td>\n",
       "      <td>&lt;NA&gt;</td>\n",
       "      <td>uniform_penalty_method</td>\n",
       "      <td>0.0</td>\n",
       "      <td>0.0</td>\n",
       "      <td>0.0</td>\n",
       "      <td>0.0</td>\n",
       "      <td>...</td>\n",
       "      <td>True</td>\n",
       "      <td>True</td>\n",
       "      <td>True</td>\n",
       "      <td>True</td>\n",
       "      <td>True</td>\n",
       "      <td>True</td>\n",
       "      <td>True</td>\n",
       "      <td>True</td>\n",
       "      <td>True</td>\n",
       "      <td>True</td>\n",
       "    </tr>\n",
       "  </tbody>\n",
       "</table>\n",
       "<p>10 rows × 206 columns</p>\n",
       "</div>"
      ],
      "text/plain": [
       "   equality              used_ids              name subscripts description  \\\n",
       "id                                                                           \n",
       "0        =0    {0, 5, 10, 15, 20}  one-hot location        [0]        <NA>   \n",
       "1        =0    {1, 6, 11, 16, 21}  one-hot location        [1]        <NA>   \n",
       "2        =0    {2, 7, 12, 17, 22}  one-hot location        [2]        <NA>   \n",
       "3        =0    {3, 8, 13, 18, 23}  one-hot location        [3]        <NA>   \n",
       "4        =0    {4, 9, 14, 19, 24}  one-hot location        [4]        <NA>   \n",
       "5        =0       {0, 1, 2, 3, 4}      one-hot time        [0]        <NA>   \n",
       "6        =0       {5, 6, 7, 8, 9}      one-hot time        [1]        <NA>   \n",
       "7        =0  {10, 11, 12, 13, 14}      one-hot time        [2]        <NA>   \n",
       "8        =0  {15, 16, 17, 18, 19}      one-hot time        [3]        <NA>   \n",
       "9        =0  {20, 21, 22, 23, 24}      one-hot time        [4]        <NA>   \n",
       "\n",
       "            removed_reason  value.0  value.1  value.2  value.3  ...  \\\n",
       "id                                                              ...   \n",
       "0   uniform_penalty_method      0.0      0.0      0.0      0.0  ...   \n",
       "1   uniform_penalty_method      0.0      0.0      0.0      0.0  ...   \n",
       "2   uniform_penalty_method      0.0      0.0      0.0      0.0  ...   \n",
       "3   uniform_penalty_method      0.0      0.0      0.0      0.0  ...   \n",
       "4   uniform_penalty_method      0.0      0.0      0.0      0.0  ...   \n",
       "5   uniform_penalty_method      0.0      0.0      0.0      0.0  ...   \n",
       "6   uniform_penalty_method      0.0      0.0      0.0      0.0  ...   \n",
       "7   uniform_penalty_method      0.0      0.0      0.0      0.0  ...   \n",
       "8   uniform_penalty_method      0.0      0.0      0.0      0.0  ...   \n",
       "9   uniform_penalty_method      0.0      0.0      0.0      0.0  ...   \n",
       "\n",
       "    feasible.41  feasible.27  feasible.95  feasible.69  feasible.51  \\\n",
       "id                                                                    \n",
       "0          True         True         True         True         True   \n",
       "1          True         True         True         True         True   \n",
       "2          True         True         True         True         True   \n",
       "3          True         True         True         True         True   \n",
       "4          True         True         True         True         True   \n",
       "5          True         True         True         True         True   \n",
       "6          True         True         True         True         True   \n",
       "7          True         True         True         True         True   \n",
       "8          True         True         True         True         True   \n",
       "9          True         True         True         True         True   \n",
       "\n",
       "    feasible.32  feasible.1  feasible.4  feasible.25  feasible.47  \n",
       "id                                                                 \n",
       "0          True        True        True         True         True  \n",
       "1          True        True        True         True         True  \n",
       "2          True        True        True         True         True  \n",
       "3          True        True        True         True         True  \n",
       "4          True        True        True         True         True  \n",
       "5          True        True        True         True         True  \n",
       "6          True        True        True         True         True  \n",
       "7          True        True        True         True         True  \n",
       "8          True        True        True         True         True  \n",
       "9          True        True        True         True         True  \n",
       "\n",
       "[10 rows x 206 columns]"
      ]
     },
     "execution_count": 26,
     "metadata": {},
     "output_type": "execute_result"
    }
   ],
   "source": [
    "sampleset.constraints"
   ]
  },
  {
   "cell_type": "code",
   "execution_count": 28,
   "metadata": {},
   "outputs": [
    {
     "data": {
      "image/png": "[encoded data removed]",
      "text/plain": [
       "<Figure size 640x480 with 1 Axes>"
      ]
     },
     "metadata": {},
     "output_type": "display_data"
    }
   ],
   "source": [
    "tour = [0 for _ in range(inst_N)]\n",
    "for t, i in nonzero_keys:\n",
    "    tour[t] = i\n",
    "tour.append(tour[0])\n",
    "\n",
    "plt.plot(x_pos, y_pos, \"o\", markersize=12)\n",
    "plt.plot(x_pos[tour], y_pos[tour], \"blue\")\n",
    "plt.xlim(0, 1)\n",
    "plt.ylim(0, 1)\n",
    "plt.show()"
   ]
  }
 ],
 "metadata": {
  "kernelspec": {
   "display_name": ".venv",
   "language": "python",
   "name": "python3"
  },
  "language_info": {
   "codemirror_mode": {
    "name": "ipython",
    "version": 3
   },
   "file_extension": ".py",
   "mimetype": "text/x-python",
   "name": "python",
   "nbconvert_exporter": "python",
   "pygments_lexer": "ipython3",
   "version": "3.11.11"
  }
 },
 "nbformat": 4,
 "nbformat_minor": 4
}

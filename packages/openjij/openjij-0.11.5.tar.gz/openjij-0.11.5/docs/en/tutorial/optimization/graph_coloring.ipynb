{
 "cells": [
  {
   "cell_type": "markdown",
   "metadata": {},
   "source": [
    "# Graph Coloring Problem\n",
    "Here we show how to solve the graph coloring problem using OpenJij, [JijModeling](https://www.ref.documentation.jijzept.com/jijmodeling/), and [JijModeling Transpiler](https://www.ref.documentation.jijzept.com/jijmodeling-transpiler/). This problem is also mentioned in 6.1. Graph Coloring in [Lucas, 2014, \"Ising formulations of many NP problems\"](https://doi.org/10.3389/fphy.2014.00005).\n",
    "\n",
    "## Overview of the Graph Coloring Problem\n",
    "\n",
    "In a graph coloring problem, we color vertices on a given graph differently when they are on the same edge.\n",
    "This problem is one of the famous NP-complete problems.\n",
    "\n",
    "### Example\n",
    "\n",
    "Consider an undirected graph with 6 vertices and some edges as shown below.\n",
    "\n",
    "![](../../../assets/graph_coloring_01.png)\n",
    "\n",
    "We can color this graph in three colors as follows:\n",
    "\n",
    "![](../../../assets/graph_coloring_02.png)\n",
    "\n",
    "No edge connects two vertices of the same color exist.\n",
    "\n",
    "### Generalizing the Problem\n",
    "\n",
    "Now let us generalize the problem and express it in a mathematical model. Consider an undirected graph $G = (V, E)$ with $N$ colors so that vertices connected by edges do not overlap.\n",
    "We consider coloring an undirected graph $G=(V, E)$ with $N$ colors, and introduce variables $x_{v, n}$ which are 1 if vertex $v$ is colored with $n$ and 0 otherwise.\n",
    "\n",
    "#### Constraint\n",
    "Vertices must be painted with one color, meaning that it is not allowed to paint one vertex with two colors.\n",
    "\n",
    "$$\n",
    "\\sum_{n=0}^{N-1} x_{v, n} \n",
    "= 1 \\quad (\\forall v \\in V)\n",
    "$$(1)\n",
    "\n",
    "#### Objective Function\n",
    "The problem setup for the graph coloring problem requires that the vertices at both ends of every edge be painted with a different color.\n",
    "This can be expressed as:\n",
    "\n",
    "$$\n",
    "\\min \\quad \n",
    "\\sum_{n=0}^{N-1} \\sum_{(uv) \\in E} x_{u, n} x_{v, n}\n",
    "$$(2)\n",
    "\n",
    "where $E$ is a set of edges on graph $G$.\n",
    "\n",
    "| $x_{u,n}$ | $x_{v,n}$ | $x_{u,n}x_{v,n}$ |  \n",
    "|-----------|-----------|------------------|\n",
    "|     0     |     0     |         0        |\n",
    "|     0     |     0     |         0        |\n",
    "|     1     |     0     |         0        |\n",
    "|     1     |     1     |         1        |\n",
    "\n",
    "Since $x_{u,n}=1$ if vertex $u$ is colored by $n$ as defined above, $x_{u,n}x_{v,n}=1$ in the table above only when both $x_{u,n}$ and $x_{v,n}$ are 1, and 0 otherwise.\n",
    "When two vertices on every edge have different colors, the value of this objective function is 0.\n",
    "Therefore, this objective function is an indicator of the degree to which graph coloring has been achieved."
   ]
  },
  {
   "cell_type": "markdown",
   "metadata": {},
   "source": [
    "## Modeling by JijModeling\n",
    "\n",
    "### Variables\n",
    "\n",
    "Let us define the variables used in equations (1) and (2) as follows:"
   ]
  },
  {
   "cell_type": "code",
   "execution_count": 1,
   "metadata": {},
   "outputs": [],
   "source": [
    "import jijmodeling as jm\n",
    "\n",
    "# define variables\n",
    "V = jm.Placeholder('V')\n",
    "E = jm.Placeholder('E', dim=2)\n",
    "N = jm.Placeholder('N')\n",
    "x = jm.Binary('x', shape=(V, N))\n",
    "n = jm.Element('i', (0, N))\n",
    "v = jm.Element('v', (0, V))\n",
    "e = jm.Element('e', E)"
   ]
  },
  {
   "cell_type": "markdown",
   "metadata": {},
   "source": [
    "`V=jm.Placeholder('V')` represents the number of vertices. \n",
    "We denote `E=jm.Placeholder('E', dim=2)` a set of edges.\n",
    "`N` is the number of colors.\n",
    "We define a two-dimensional list of binary variables `x=jm.Binary('x', shape=(V, N))`, and we set the subscripts `n` and `v` used in the mathematical model.\n",
    "`e` represents the variable for edges. `e[0]` and `e[1]` mean the vertex $u$ and $v$ on the edge, respectively."
   ]
  },
  {
   "cell_type": "markdown",
   "metadata": {},
   "source": [
    "### Constraint\n",
    "\n",
    "Let us implement the constraint in equation (1)."
   ]
  },
  {
   "cell_type": "code",
   "execution_count": 2,
   "metadata": {},
   "outputs": [],
   "source": [
    "# set problem\n",
    "problem = jm.Problem('Graph Coloring')\n",
    "# set one-hot constraint that each vertex has only one color\n",
    "const = x[v, :]\n",
    "problem += jm.Constraint('one-color', const==1, forall=v)"
   ]
  },
  {
   "cell_type": "markdown",
   "metadata": {},
   "source": [
    "`x[v, :]` implements `Sum(n, x[v, n])` in a concise way."
   ]
  },
  {
   "cell_type": "markdown",
   "metadata": {},
   "source": [
    "### Objective Function\n",
    "\n",
    "Next, we implement the objective function of equation (2).\n",
    "We write $\\sum_n \\sum_e$ as `Sum([n, e], ...)`.\n",
    "JijModeling easily formulates the summation over nodes in edges."
   ]
  },
  {
   "cell_type": "code",
   "execution_count": 3,
   "metadata": {},
   "outputs": [
    {
     "data": {
      "text/latex": [
       "$$\\begin{alignat*}{4}\\text{Problem} & \\text{: Graph Coloring} \\\\\\min & \\quad \\sum_{ i = 0 }^{ N - 1 } \\sum_{ e \\in E } x_{e_{0},i} \\cdot x_{e_{1},i} \\\\\\text{s.t.} & \\\\& \\text{one-color} :\\\\ &\\quad \\quad \\sum_{ \\bar{i}_{1} = 0 }^{ N - 1 } x_{v,\\bar{i}_{1}} = 1,\\ \\forall v \\in \\left\\{ 0 ,\\ldots , V - 1 \\right\\} \\\\[8pt]& x_{i_{0},i_{1}} \\in \\{0, 1\\}\\end{alignat*}$$"
      ],
      "text/plain": [
       "<jijmodeling.problem.problem.Problem at 0x105c60c40>"
      ]
     },
     "execution_count": 3,
     "metadata": {},
     "output_type": "execute_result"
    }
   ],
   "source": [
    "# set objective function: minimize edges whose vertices connected by edges are the same color\n",
    "sum_list = [n, e]\n",
    "problem += jm.Sum(sum_list, x[e[0], n]*x[e[1], n])\n",
    "problem"
   ]
  },
  {
   "cell_type": "markdown",
   "metadata": {},
   "source": [
    "### Instance\n",
    "\n",
    "Here we create a random graph with 12 vertices."
   ]
  },
  {
   "cell_type": "code",
   "execution_count": 4,
   "metadata": {},
   "outputs": [],
   "source": [
    "import networkx as nx\n",
    "\n",
    "# set the number of vertices\n",
    "inst_V = 12\n",
    "# set the number of colors\n",
    "inst_N = 4\n",
    "# create a random graph\n",
    "inst_G = nx.gnp_random_graph(inst_V, 0.4)\n",
    "# get information of edges\n",
    "inst_E = [list(edge) for edge in inst_G.edges]\n",
    "instance_data = {'V': inst_V, 'N': inst_N, 'E': inst_E, 'G': inst_G}"
   ]
  },
  {
   "cell_type": "markdown",
   "metadata": {},
   "source": [
    "In this code, the number of vertices in the graph and the number of colors are 12 and 4, respectively. "
   ]
  },
  {
   "cell_type": "markdown",
   "metadata": {},
   "source": [
    "### Undetermined Multiplier\n",
    "\n",
    "This problem has one constraint, and we need to set the weight of that constraint.\n",
    "We will set it to match the name we gave in the `Constraint` part earlier using a dictionary type."
   ]
  },
  {
   "cell_type": "code",
   "execution_count": 5,
   "metadata": {},
   "outputs": [],
   "source": [
    "# set multipliers\n",
    "lam1 = 1.0\n",
    "multipliers = {'one-color': lam1}"
   ]
  },
  {
   "cell_type": "markdown",
   "metadata": {},
   "source": [
    "### Conversion to PyQUBO by JijModeling Transpiler\n",
    "\n",
    "JijModeling has executed all the implementations so far.\n",
    "By converting this to [PyQUBO](https://pyqubo.readthedocs.io/en/latest/), it is possible to perform combinatorial optimization calculations using OpenJij and other solvers."
   ]
  },
  {
   "cell_type": "code",
   "execution_count": 6,
   "metadata": {},
   "outputs": [],
   "source": [
    "from jijmodeling.transpiler.pyqubo import to_pyqubo\n",
    "\n",
    "# convert to pyqubo\n",
    "pyq_model, pyq_chache = to_pyqubo(problem, instance_data, {})\n",
    "qubo, bias = pyq_model.compile().to_qubo(feed_dict=multipliers)"
   ]
  },
  {
   "cell_type": "markdown",
   "metadata": {},
   "source": [
    "The PyQUBO model is created by `to_pyqubo` with the `problem` created by JijModeling and the `instance_data` we set to a value as arguments.\n",
    "Next, we compile it into a QUBO model that can be computed by OpenJij or other solver.\n",
    "\n",
    "### Optimization by OpenJij\n",
    "\n",
    "This time, we will use OpenJij's simulated annealing to solve the optimization problem.\n",
    "We set the `SASampler` and input the QUBO into that sampler to get the result of the calculation."
   ]
  },
  {
   "cell_type": "code",
   "execution_count": 7,
   "metadata": {},
   "outputs": [],
   "source": [
    "import openjij as oj\n",
    "# set sampler\n",
    "sampler = oj.SASampler(num_reads=100)\n",
    "# solve problem\n",
    "response = sampler.sample_qubo(qubo)"
   ]
  },
  {
   "cell_type": "markdown",
   "metadata": {},
   "source": [
    "### Decoding and Displaying the Solution\n",
    "\n",
    "Decode the returned results to facilitate analysis."
   ]
  },
  {
   "cell_type": "code",
   "execution_count": 8,
   "metadata": {},
   "outputs": [],
   "source": [
    "# decode solution\n",
    "result = pyq_chache.decode(response)"
   ]
  },
  {
   "cell_type": "markdown",
   "metadata": {},
   "source": [
    "From the result thus obtained, let us visualize the graph.\n",
    "We prepare a graph using [NetworkX](https://networkx.org/). "
   ]
  },
  {
   "cell_type": "code",
   "execution_count": 9,
   "metadata": {
    "tags": []
   },
   "outputs": [
    {
     "data": {
      "image/png": "[encoded data removed]",
      "text/plain": [
       "<Figure size 640x480 with 1 Axes>"
      ]
     },
     "metadata": {},
     "output_type": "display_data"
    }
   ],
   "source": [
    "import matplotlib.pyplot as plt\n",
    "# get indices of x = 1\n",
    "indices, _, _ = result.lowest().record.solution['x'][0]\n",
    "# get vertex number and color\n",
    "vertices, colors = indices\n",
    "# sort lists by vertex number\n",
    "zip_lists = zip(vertices, colors)\n",
    "zip_sort = sorted(zip_lists)\n",
    "sorted_vertices, sorted_colors = zip(*zip_sort)\n",
    "# initialize vertex color list\n",
    "node_colors = [-1] * len(vertices)\n",
    "# set color list for visualization\n",
    "colorlist = ['gold', 'violet', 'limegreen', 'darkorange']\n",
    "# set vertex color list\n",
    "for i, j in zip(sorted_vertices, sorted_colors):\n",
    "    node_colors[i] = colorlist[j]\n",
    "# make figure\n",
    "fig = plt.figure()\n",
    "nx.draw_networkx(instance_data['G'], node_color=node_colors, with_labels=True)"
   ]
  }
 ],
 "metadata": {
  "kernelspec": {
   "display_name": "Python 3 (ipykernel)",
   "language": "python",
   "name": "python3"
  },
  "language_info": {
   "codemirror_mode": {
    "name": "ipython",
    "version": 3
   },
   "file_extension": ".py",
   "mimetype": "text/x-python",
   "name": "python",
   "nbconvert_exporter": "python",
   "pygments_lexer": "ipython3",
   "version": "3.9.15"
  },
  "vscode": {
   "interpreter": {
    "hash": "2e8d7574d7ec71e14cb1575cf43673432d6fae464c836a7b3733d4f6c20243fb"
   }
  }
 },
 "nbformat": 4,
 "nbformat_minor": 4
}

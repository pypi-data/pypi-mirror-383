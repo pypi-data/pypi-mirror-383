{
 "cells": [
  {
   "cell_type": "markdown",
   "id": "31c71a78",
   "metadata": {},
   "source": [
    "# ブラックボックス最適化\n",
    "数理モデルとして記述することが難しい関数に対しても何かしらの方法で最適化計算を行いたい時があります。\n",
    "例えば、複雑なシミュレーションの結果や、物理実験の出力、あるいは内部構造が不明なレガシーシステムの応答などを最適化したい場合です。\n",
    "このように、最適化したい関数の具体的な形が分からず、入力に対する出力値（評価値）しか得られない状況での最適化問題を**ブラックボックス最適化（Black Box Optimization, BBO）**と呼びます。\n",
    "\n",
    "ブラックボックス最適化は、関数の内部情報を利用できないため、数理モデルを利用する数理最適化が適用できません。\n",
    "そのため、評価値に基づいて効率的に最適解を探索する別の戦略が必要となります。"
   ]
  },
  {
   "cell_type": "markdown",
   "id": "60e2d57b",
   "metadata": {},
   "source": [
    "# OpenJijを用いたサロゲートベースBBO\n",
    "\n",
    "OpenJijは、主にイジングモデルやQUBO（Quadratic Unconstrained Binary Optimization）といった組合せ最適化問題に特化したライブラリです。ブラックボックス最適化（BBO）においても、特に最適化したい変数がバイナリ変数である場合、OpenJijを活用するアプローチが考えられます。\n",
    "\n",
    "ここで紹介するのは、QUBOをサロゲートモデル（代理モデル）として利用する BBOの手法です。基本的なアイデアは以下の通りです。\n",
    "\n",
    "1. データ収集: ブラックボックス関数 f(x) に対して、いくつかの入力バイナリベクトル x とその出力 f(x) のペアを収集します。\n",
    "2. サロゲートモデル構築 (QUBO推定): 収集した (x,f(x)) のデータセットを用いて、f(x) を最もよく近似するようなQUBOモデル E(x) を構築します。具体的には、QUBOの係数をデータセットに基づいて最適化します。\n",
    "3. 最適化: QUBOモデル E(x) を用いて、最適化問題を解きます。これにより、E(x) の最小値を与えるバイナリベクトル x* を求めます。\n",
    "4. 評価: x* を用いて、元のブラックボックス関数 f(x) を評価します。得られた f(x*) の値をデータセットに追加します。\n",
    "5. 更新: 新たに得られた (x*, f(x*)) をデータセットに追加し、ステップ2に戻ってサロゲートモデル（QUBO）を更新します。これを繰り返すことで、徐々に f(x) の真の最小値を与える x に近づけていきます。\n",
    "この手法は、特にバイナリ変数の最適化問題において、サロゲートモデルを用いることで探索空間を効率的に探索することが可能です。以下に、具体的な実装例を示します。"
   ]
  },
  {
   "cell_type": "markdown",
   "id": "f525c030",
   "metadata": {},
   "source": [
    "# QUBOの推定方法: Factorization Machine (FM)\n",
    "ステップ2のQUBO推定には様々な方法が考えられます。QUBOの係数 QQijを未知数とみなせば、線形回帰のように解くこともできます。ここでは、より高度な手法としてFactorization Machine (FM) を利用します。Factorization Machineは、特徴量間の相互作用（特に二次の相互作用）を効率的に捉えることができるモデルです。FMによる予測値$\\hat y(x)$は以下のように表されます。\n",
    "\n",
    "$$\\hat y(x) = w_0 + \\sum_{i=1}^{n} w_i x_i + \\sum_{i=1}^{n} \\sum_{j=i+1}^{n} \\braket{\\vec{v}_i, \\vec{v}_j} x_i x_j $$\n",
    "\n",
    "ここで、$x = (x_1, x_2, \\ldots, x_n)$ は入力特徴量ベクトル (今回はバイナリ変数) であり、\n",
    "$w_0$はバイアス項、\n",
    "$w_i$ は各特徴量の重み、$v_i$ は特徴量のベクトル表現です。FMは、特徴量間の相互作用を捉えるために、各特徴量に対して低次元のベクトルを割り当てます。これにより、二次の相互作用を効率的にモデル化することができます。\n",
    "\n",
    "$|\\vec v|=k$はFMのランクであり、$k$が大きいほどより多くの相互作用を捉えることができますが、過学習のリスクも高まります。FMは、特徴量間の相互作用を捉えるために、各特徴量に対して低次元のベクトルを割り当てます。これにより、二次の相互作用を効率的にモデル化することができます。\n",
    "\n",
    "そのQUBOの推定にFactorization Machine (FM) を利用するBBO手法をプロセスは FM Annealing (FMA) と呼ばれることがあります。ここではFMAと呼ぶことにします。"
   ]
  },
  {
   "cell_type": "markdown",
   "id": "1a790c57",
   "metadata": {},
   "source": [
    "## FMA実装に向けた準備\n",
    "\n",
    "それでは、PyTorchを用いたFMとOpenJijのSAを組み合わせたFMAを実装します。ブラックボックス関数としては、ランダムに生成したQUBOのエネルギー計算を用いますが、FMAアルゴリズム自体はそのQUBO係数を知らないという設定で進めます。"
   ]
  },
  {
   "cell_type": "code",
   "execution_count": 1,
   "id": "4f65122c",
   "metadata": {},
   "outputs": [],
   "source": [
    "import copy\n",
    "import typing as typ\n",
    "\n",
    "import numpy as np\n",
    "import torch\n",
    "import torch.nn as nn\n",
    "import torch.nn.functional as func\n",
    "from tqdm.auto import trange\n",
    "\n",
    "\n",
    "class FactorizationMachine(nn.Module):\n",
    "    \"\"\"Factorization Machine model\n",
    "\n",
    "    ```math\n",
    "    f(x|w, v) = w0 + Σwi*xi + ΣΣ<vj, vk>xj*xk\n",
    "    = w0 + Σwi*xi + 1/2*(Σ(vi*xi)^2 - Σ(vi^2*xi^2))\n",
    "    ```\n",
    "\n",
    "    \"\"\"\n",
    "\n",
    "    def __init__(self, n_features: int, latent_dim: int):\n",
    "        \"\"\"Factroization Machine model\n",
    "\n",
    "        Args:\n",
    "            n_features (int): dimension of input features\n",
    "            latent_dim (int): dimension of latent space\n",
    "        \"\"\"\n",
    "        super(FactorizationMachine, self).__init__()\n",
    "        self.n_features = n_features\n",
    "        self.latent_dim = latent_dim\n",
    "\n",
    "        # weight of 1st order terms\n",
    "        self.linear = nn.Linear(n_features, 1, bias=True)\n",
    "        # weight of 2nd order terms\n",
    "        self.quad = nn.Parameter(torch.randn(n_features, latent_dim) / latent_dim)\n",
    "\n",
    "    def forward(self, x):\n",
    "        linear_terms = self.linear(x)\n",
    "\n",
    "        square_of_sum = torch.pow(torch.matmul(x, self.quad), 2)\n",
    "        sum_of_square = torch.matmul(x**2, self.quad**2)\n",
    "        quad_terms = 0.5 * torch.sum(square_of_sum - sum_of_square, dim=1, keepdim=True)\n",
    "\n",
    "        return linear_terms + quad_terms\n",
    "\n",
    "    @property\n",
    "    def v(self):\n",
    "        return self.quad\n",
    "\n",
    "    @property\n",
    "    def w(self):\n",
    "        return self.linear.weight\n",
    "\n",
    "    @property\n",
    "    def w0(self):\n",
    "        return self.linear.bias\n",
    "\n",
    "\n",
    "class FMTrainer:\n",
    "    def __init__(\n",
    "        self,\n",
    "        n_features: int,\n",
    "        latent_dim: int,\n",
    "        optimizer_params: typ.Optional[dict] = None,\n",
    "    ):\n",
    "        self.model = FactorizationMachine(n_features, latent_dim)\n",
    "        if optimizer_params is None:\n",
    "            self.optimizer = torch.optim.AdamW(self.model.parameters())\n",
    "        else:\n",
    "            self.optimizer = torch.optim.AdamW(\n",
    "                self.model.parameters(), **optimizer_params\n",
    "            )\n",
    "        self._x_numpy = np.array([])\n",
    "        self._y_numpy = np.array([])\n",
    "\n",
    "    def fit(self, x_numpy: np.ndarray, y_numpy: np.ndarray, n_epochs: int):\n",
    "        x = torch.tensor(x_numpy, dtype=torch.float32)\n",
    "        y = torch.tensor(y_numpy, dtype=torch.float32).view(-1, 1)\n",
    "        dataset = torch.utils.data.TensorDataset(x, y)\n",
    "        train_set, test_set = torch.utils.data.random_split(dataset, (0.8, 0.2))\n",
    "        train_loader = torch.utils.data.DataLoader(\n",
    "            train_set, batch_size=8, shuffle=True\n",
    "        )\n",
    "        test_loader = torch.utils.data.DataLoader(test_set, batch_size=8, shuffle=True)\n",
    "\n",
    "        # 学習の実行\n",
    "        min_loss = 1e18  # 損失関数の最小値を保存\n",
    "        best_state = self.model.state_dict()  # モデルの最も良いパラメータを保存\n",
    "        for _ in trange(n_epochs, leave=False):\n",
    "            for x_batch, y_batch in train_loader:\n",
    "                self.optimizer.zero_grad()\n",
    "                y_pred = self.model(x_batch)\n",
    "                loss = func.mse_loss(y_pred, y_batch)\n",
    "                loss.backward()\n",
    "                self.optimizer.step()\n",
    "\n",
    "            # Early Stopping\n",
    "            patience = 10  # 我慢するエポック数\n",
    "            min_loss = float(\"inf\")\n",
    "            patience_counter = 0\n",
    "            with torch.no_grad():\n",
    "                for x_batch, y_batch in test_loader:\n",
    "                    y_pred = self.model(x_batch)\n",
    "                    loss = func.mse_loss(y_pred, y_batch)\n",
    "\n",
    "                    if loss < min_loss:\n",
    "                        min_loss = loss\n",
    "                        patience_counter = 0\n",
    "                        best_state = copy.deepcopy(self.model.state_dict())\n",
    "                    else:\n",
    "                        patience_counter += 1\n",
    "            if patience_counter > patience:\n",
    "                break\n",
    "        self.model.load_state_dict(best_state)\n",
    "\n",
    "    def predict(self, x: torch.Tensor) -> torch.Tensor:\n",
    "        return self.model(x)\n",
    "\n",
    "    @property\n",
    "    def x(self):\n",
    "        return self._x_numpy\n",
    "\n",
    "    @property\n",
    "    def y(self):\n",
    "        return self._y_numpy\n",
    "\n",
    "    def get_qubo(self) -> tuple[np.ndarray, float]:\n",
    "        w = self.model.linear.weight.data.numpy().flatten()\n",
    "        w0 = self.model.linear.bias.data.numpy().flatten()\n",
    "        q = np.diag(w)\n",
    "        v = self.model.quad.data.numpy()\n",
    "        # <vi, vj> = Σ_f v_if * v_jf\n",
    "        # (v @ v.T)_ij = Σ_f v_if * v_jf\n",
    "        vv = v @ v.T\n",
    "        vv = vv - np.diag(np.diag(vv))\n",
    "        q += 1 / 2 * vv\n",
    "        return q, float(w0)"
   ]
  },
  {
   "cell_type": "markdown",
   "id": "889c26df",
   "metadata": {},
   "source": [
    "### ランダムQUBOの実装\n",
    "\n",
    "ここでは、ランダムQUBOのエネルギー計算を行う関数を定義します。ここではこのQUBOをアルゴリズム側では知らないとして進めます。"
   ]
  },
  {
   "cell_type": "code",
   "execution_count": 2,
   "id": "2c9f960e",
   "metadata": {},
   "outputs": [],
   "source": [
    "# --- ブラックボックス関数の定義 ---\n",
    "# (最適化アルゴリズムはこの内部を知らないという想定)\n",
    "\n",
    "\n",
    "N = 40  # 変数の数\n",
    "# ランダムなQUBOを生成 (これが真の目的関数)\n",
    "class QuadraticBlackboxFunc:\n",
    "    def __init__(self, n: int, random_seed: int = 0):\n",
    "        self.random_state = np.random.RandomState(random_seed)\n",
    "        Q = self.random_state.uniform(-0.5, 1, (n, n))\n",
    "        self.Q = (Q + Q.T) / 2\n",
    "        self.Q[np.abs(self.Q) < 0.08] = 0.0\n",
    "\n",
    "        noise_variance = 0.1\n",
    "        num_vars = n\n",
    "        self.noise_variance = noise_variance\n",
    "        self.rng = np.random.default_rng(random_seed)\n",
    "        self.Q = self.rng.normal(0, 1, size=(num_vars, num_vars))\n",
    "\n",
    "    def __call__(self, x: np.ndarray) -> float:\n",
    "        return x @ self.Q @ x\n",
    "\n",
    "black_box_function = QuadraticBlackboxFunc(N, random_seed=0)"
   ]
  },
  {
   "cell_type": "markdown",
   "id": "bf9529ff",
   "metadata": {},
   "source": [
    "### FMAのパラメータ設定"
   ]
  },
  {
   "cell_type": "code",
   "execution_count": 3,
   "id": "9bc2eaf8",
   "metadata": {},
   "outputs": [],
   "source": [
    "# --- FMA設定 ---\n",
    "num_total_evaluations = 80  # ブラックボックス関数の総評価回数\n",
    "num_initial_points = 30  # 初期ランダムサンプリング数\n",
    "k_fm = 10  # Factorization Machine の因子ベクトルの次元 (k)\n",
    "fm_learning_rate = 0.01\n",
    "fm_epochs_per_iteration = 50  # 各FMA反復でのFM学習エポック数\n",
    "num_reads_sa = 50  # OpenJij SA の num_reads"
   ]
  },
  {
   "cell_type": "code",
   "execution_count": 4,
   "id": "a922d248",
   "metadata": {},
   "outputs": [],
   "source": [
    "fm_trainer = FMTrainer(N, k_fm, {\"lr\": fm_learning_rate})"
   ]
  },
  {
   "cell_type": "markdown",
   "id": "85931c97",
   "metadata": {},
   "source": [
    "### 初期データセットの生成"
   ]
  },
  {
   "cell_type": "code",
   "execution_count": 5,
   "id": "621d4970",
   "metadata": {},
   "outputs": [],
   "source": [
    "# --- 初期データ収集 ---\n",
    "n = N\n",
    "num_init = num_initial_points\n",
    "\n",
    "quad_bf = QuadraticBlackboxFunc(n)\n",
    "\n",
    "X_init = np.random.choice([0, 1], (num_init, n))\n",
    "y_init = np.array([quad_bf(x) for x in X_init])"
   ]
  },
  {
   "cell_type": "markdown",
   "id": "8efb608b",
   "metadata": {},
   "source": [
    "## FMAの実装と実行"
   ]
  },
  {
   "cell_type": "code",
   "execution_count": 6,
   "id": "e537844e",
   "metadata": {},
   "outputs": [],
   "source": [
    "import openjij as oj\n",
    "\n",
    "\n",
    "def solver(Q):\n",
    "    _Q, _ = Q\n",
    "    sampler = oj.SASampler()\n",
    "    response = sampler.sample_qubo(_Q, num_reads=100)\n",
    "    return response.lowest().states[0]"
   ]
  },
  {
   "cell_type": "code",
   "execution_count": 7,
   "id": "d5cb40bc",
   "metadata": {},
   "outputs": [
    {
     "data": {
      "application/vnd.jupyter.widget-view+json": {
       "model_id": "546788b6c25f45d4817a4723edbc6da2",
       "version_major": 2,
       "version_minor": 0
      },
      "text/plain": [
       "  0%|          | 0/50 [00:00<?, ?it/s]"
      ]
     },
     "metadata": {},
     "output_type": "display_data"
    },
    {
     "name": "stdout",
     "output_type": "stream",
     "text": [
      "FM: [1 1 1 0 0 1 1 0 1 1 1 1 0 1 1 1 1 0 0 0 1 1 0 1 1 1 1 1 1 1 1 1 0 1 0 1 1\n",
      " 1 1 1] -> -37.933205585134466\n"
     ]
    },
    {
     "name": "stderr",
     "output_type": "stream",
     "text": [
      "/var/folders/75/kxv4q45s3vv21rqmyth9036w0000gn/T/ipykernel_96754/2265195906.py:137: DeprecationWarning: Conversion of an array with ndim > 0 to a scalar is deprecated, and will error in future. Ensure you extract a single element from your array before performing this operation. (Deprecated NumPy 1.25.)\n",
      "  return q, float(w0)\n"
     ]
    },
    {
     "data": {
      "application/vnd.jupyter.widget-view+json": {
       "model_id": "a9dbb2a7b98c4e06bbb49720046b9f46",
       "version_major": 2,
       "version_minor": 0
      },
      "text/plain": [
       "  0%|          | 0/50 [00:00<?, ?it/s]"
      ]
     },
     "metadata": {},
     "output_type": "display_data"
    },
    {
     "name": "stdout",
     "output_type": "stream",
     "text": [
      "FM: [1 1 1 1 0 1 1 0 1 1 0 1 0 1 1 1 1 0 0 0 0 1 1 1 1 1 1 1 1 1 1 1 0 1 1 1 1\n",
      " 1 1 1] -> -33.523388811142325\n"
     ]
    },
    {
     "data": {
      "application/vnd.jupyter.widget-view+json": {
       "model_id": "3c9b6bff09c64c9ab164a430eea4aefb",
       "version_major": 2,
       "version_minor": 0
      },
      "text/plain": [
       "  0%|          | 0/50 [00:00<?, ?it/s]"
      ]
     },
     "metadata": {},
     "output_type": "display_data"
    },
    {
     "name": "stdout",
     "output_type": "stream",
     "text": [
      "FM: [1 1 1 1 0 1 1 0 0 1 0 1 0 1 1 1 1 0 0 1 1 1 0 1 1 1 1 0 1 1 1 1 0 1 1 1 1\n",
      " 1 1 1] -> -50.61952430051983\n"
     ]
    },
    {
     "data": {
      "application/vnd.jupyter.widget-view+json": {
       "model_id": "4c0b3db2b85b43189454e6bd98bd571a",
       "version_major": 2,
       "version_minor": 0
      },
      "text/plain": [
       "  0%|          | 0/50 [00:00<?, ?it/s]"
      ]
     },
     "metadata": {},
     "output_type": "display_data"
    },
    {
     "name": "stdout",
     "output_type": "stream",
     "text": [
      "FM: [1 1 1 1 0 1 1 0 0 1 0 1 0 1 1 1 1 0 0 1 1 1 0 1 1 1 1 0 1 1 1 1 0 1 1 1 1\n",
      " 1 1 1] -> -50.61952430051983\n"
     ]
    },
    {
     "data": {
      "application/vnd.jupyter.widget-view+json": {
       "model_id": "5ce63c7f7dec4b98aebbe3dcb4d63c2e",
       "version_major": 2,
       "version_minor": 0
      },
      "text/plain": [
       "  0%|          | 0/50 [00:00<?, ?it/s]"
      ]
     },
     "metadata": {},
     "output_type": "display_data"
    },
    {
     "name": "stdout",
     "output_type": "stream",
     "text": [
      "FM: [1 1 1 1 0 1 1 0 0 1 0 1 0 1 1 1 1 0 0 1 1 1 0 1 1 1 1 0 1 1 1 1 0 1 1 1 1\n",
      " 1 1 1] -> -50.61952430051983\n"
     ]
    },
    {
     "data": {
      "application/vnd.jupyter.widget-view+json": {
       "model_id": "04095025e94b47b1903aaf288a5bd4ab",
       "version_major": 2,
       "version_minor": 0
      },
      "text/plain": [
       "  0%|          | 0/50 [00:00<?, ?it/s]"
      ]
     },
     "metadata": {},
     "output_type": "display_data"
    },
    {
     "name": "stdout",
     "output_type": "stream",
     "text": [
      "FM: [1 1 1 1 0 1 1 0 0 1 0 1 0 1 1 1 1 0 0 1 1 1 0 1 1 1 1 0 1 1 1 1 0 1 1 1 1\n",
      " 1 1 1] -> -50.61952430051983\n"
     ]
    },
    {
     "data": {
      "application/vnd.jupyter.widget-view+json": {
       "model_id": "3b87df74ce40416cb6fd07c96d8390b1",
       "version_major": 2,
       "version_minor": 0
      },
      "text/plain": [
       "  0%|          | 0/50 [00:00<?, ?it/s]"
      ]
     },
     "metadata": {},
     "output_type": "display_data"
    },
    {
     "name": "stdout",
     "output_type": "stream",
     "text": [
      "FM: [1 1 1 1 0 1 1 0 0 1 0 1 0 1 1 1 1 0 0 1 1 1 0 1 1 1 1 0 1 1 1 1 0 1 1 1 1\n",
      " 1 1 1] -> -50.61952430051983\n"
     ]
    },
    {
     "data": {
      "application/vnd.jupyter.widget-view+json": {
       "model_id": "1471250a7f3a419a8b4648b9480dd2bb",
       "version_major": 2,
       "version_minor": 0
      },
      "text/plain": [
       "  0%|          | 0/50 [00:00<?, ?it/s]"
      ]
     },
     "metadata": {},
     "output_type": "display_data"
    },
    {
     "name": "stdout",
     "output_type": "stream",
     "text": [
      "FM: [1 1 1 1 0 1 1 0 0 1 0 1 0 1 1 1 1 0 0 1 1 1 0 1 1 1 1 0 1 1 1 1 0 1 1 1 1\n",
      " 1 1 1] -> -50.61952430051983\n"
     ]
    },
    {
     "data": {
      "application/vnd.jupyter.widget-view+json": {
       "model_id": "7c6188cab6db45c2b6c8ec2e845f9b76",
       "version_major": 2,
       "version_minor": 0
      },
      "text/plain": [
       "  0%|          | 0/50 [00:00<?, ?it/s]"
      ]
     },
     "metadata": {},
     "output_type": "display_data"
    },
    {
     "name": "stdout",
     "output_type": "stream",
     "text": [
      "FM: [1 1 1 1 0 1 1 0 0 1 0 1 0 1 1 1 1 0 0 1 1 1 0 1 1 1 1 0 1 1 1 1 0 1 1 1 1\n",
      " 1 1 1] -> -50.61952430051983\n"
     ]
    },
    {
     "data": {
      "application/vnd.jupyter.widget-view+json": {
       "model_id": "1a2e5db2b8094c28b31160ad1d505bd6",
       "version_major": 2,
       "version_minor": 0
      },
      "text/plain": [
       "  0%|          | 0/50 [00:00<?, ?it/s]"
      ]
     },
     "metadata": {},
     "output_type": "display_data"
    },
    {
     "name": "stdout",
     "output_type": "stream",
     "text": [
      "FM: [1 1 1 1 0 1 1 0 0 1 0 1 0 1 1 1 1 0 0 1 1 1 0 1 1 1 1 0 1 1 1 1 0 1 1 1 1\n",
      " 1 1 1] -> -50.61952430051983\n"
     ]
    },
    {
     "data": {
      "application/vnd.jupyter.widget-view+json": {
       "model_id": "31281b40ad90421e99d8edf5a1d96c80",
       "version_major": 2,
       "version_minor": 0
      },
      "text/plain": [
       "  0%|          | 0/50 [00:00<?, ?it/s]"
      ]
     },
     "metadata": {},
     "output_type": "display_data"
    },
    {
     "name": "stdout",
     "output_type": "stream",
     "text": [
      "FM: [1 1 1 1 0 1 1 0 0 1 0 1 0 1 1 1 1 0 0 1 1 1 0 1 1 1 1 0 1 1 1 1 0 1 1 1 1\n",
      " 1 1 1] -> -50.61952430051983\n"
     ]
    },
    {
     "data": {
      "application/vnd.jupyter.widget-view+json": {
       "model_id": "a635ccae4b84421a895f722e874fce7e",
       "version_major": 2,
       "version_minor": 0
      },
      "text/plain": [
       "  0%|          | 0/50 [00:00<?, ?it/s]"
      ]
     },
     "metadata": {},
     "output_type": "display_data"
    },
    {
     "name": "stdout",
     "output_type": "stream",
     "text": [
      "FM: [1 1 1 1 0 1 1 0 0 1 0 1 0 1 1 1 1 0 0 1 1 1 0 1 1 1 1 0 1 1 1 1 0 1 1 1 1\n",
      " 1 1 1] -> -50.61952430051983\n"
     ]
    },
    {
     "data": {
      "application/vnd.jupyter.widget-view+json": {
       "model_id": "400556fea7be4b6b923ab55dfef2ce59",
       "version_major": 2,
       "version_minor": 0
      },
      "text/plain": [
       "  0%|          | 0/50 [00:00<?, ?it/s]"
      ]
     },
     "metadata": {},
     "output_type": "display_data"
    },
    {
     "name": "stdout",
     "output_type": "stream",
     "text": [
      "FM: [1 1 1 1 0 1 1 0 0 1 0 1 0 1 1 1 1 0 0 1 1 1 0 1 1 1 1 0 1 1 1 1 0 1 1 1 1\n",
      " 1 1 1] -> -50.61952430051983\n"
     ]
    },
    {
     "data": {
      "application/vnd.jupyter.widget-view+json": {
       "model_id": "d1505e203b3849b3aa56ca11c80d946e",
       "version_major": 2,
       "version_minor": 0
      },
      "text/plain": [
       "  0%|          | 0/50 [00:00<?, ?it/s]"
      ]
     },
     "metadata": {},
     "output_type": "display_data"
    },
    {
     "name": "stdout",
     "output_type": "stream",
     "text": [
      "FM: [1 1 1 1 0 1 1 0 0 1 0 1 0 1 1 1 1 0 0 1 1 1 0 1 1 1 1 0 1 1 1 1 0 1 1 1 1\n",
      " 1 1 1] -> -50.61952430051983\n"
     ]
    },
    {
     "data": {
      "application/vnd.jupyter.widget-view+json": {
       "model_id": "cabc07583ecd4a529394aaced4837cbb",
       "version_major": 2,
       "version_minor": 0
      },
      "text/plain": [
       "  0%|          | 0/50 [00:00<?, ?it/s]"
      ]
     },
     "metadata": {},
     "output_type": "display_data"
    },
    {
     "name": "stdout",
     "output_type": "stream",
     "text": [
      "FM: [1 1 1 1 0 1 1 0 0 1 0 1 0 1 1 1 1 0 0 1 1 1 0 1 1 1 1 0 1 1 1 1 0 1 1 1 1\n",
      " 1 1 1] -> -50.61952430051983\n"
     ]
    },
    {
     "data": {
      "application/vnd.jupyter.widget-view+json": {
       "model_id": "84b0b173c35a4be48cb90c8a8a860460",
       "version_major": 2,
       "version_minor": 0
      },
      "text/plain": [
       "  0%|          | 0/50 [00:00<?, ?it/s]"
      ]
     },
     "metadata": {},
     "output_type": "display_data"
    },
    {
     "name": "stdout",
     "output_type": "stream",
     "text": [
      "FM: [1 1 1 1 0 1 1 0 0 1 0 1 0 1 1 1 1 0 0 1 1 1 0 1 1 1 1 0 1 1 1 1 0 1 1 1 1\n",
      " 1 1 1] -> -50.61952430051983\n"
     ]
    },
    {
     "data": {
      "application/vnd.jupyter.widget-view+json": {
       "model_id": "71eb47ea4a3742029befb15192bb1ef1",
       "version_major": 2,
       "version_minor": 0
      },
      "text/plain": [
       "  0%|          | 0/50 [00:00<?, ?it/s]"
      ]
     },
     "metadata": {},
     "output_type": "display_data"
    },
    {
     "name": "stdout",
     "output_type": "stream",
     "text": [
      "FM: [1 1 1 1 0 1 1 0 0 1 0 1 0 1 1 1 1 0 0 1 1 1 0 1 1 1 1 0 1 1 1 1 0 1 1 1 1\n",
      " 1 1 1] -> -50.61952430051983\n"
     ]
    },
    {
     "data": {
      "application/vnd.jupyter.widget-view+json": {
       "model_id": "640cb6924c9e4051b9c3f7dc50a130f5",
       "version_major": 2,
       "version_minor": 0
      },
      "text/plain": [
       "  0%|          | 0/50 [00:00<?, ?it/s]"
      ]
     },
     "metadata": {},
     "output_type": "display_data"
    },
    {
     "name": "stdout",
     "output_type": "stream",
     "text": [
      "FM: [1 1 1 1 0 1 1 0 0 1 0 1 0 1 1 1 1 0 0 1 1 1 0 1 1 1 1 0 1 1 1 1 0 1 1 1 1\n",
      " 1 1 1] -> -50.61952430051983\n"
     ]
    },
    {
     "data": {
      "application/vnd.jupyter.widget-view+json": {
       "model_id": "01a9108490aa49af9447832fcd8a750f",
       "version_major": 2,
       "version_minor": 0
      },
      "text/plain": [
       "  0%|          | 0/50 [00:00<?, ?it/s]"
      ]
     },
     "metadata": {},
     "output_type": "display_data"
    },
    {
     "name": "stdout",
     "output_type": "stream",
     "text": [
      "FM: [1 1 1 1 0 1 1 0 0 1 0 1 0 1 1 1 1 0 0 1 1 1 0 1 1 1 1 0 1 1 1 1 0 1 1 1 1\n",
      " 1 1 1] -> -50.61952430051983\n"
     ]
    },
    {
     "data": {
      "application/vnd.jupyter.widget-view+json": {
       "model_id": "e30047fa348a4426aba219891b08de90",
       "version_major": 2,
       "version_minor": 0
      },
      "text/plain": [
       "  0%|          | 0/50 [00:00<?, ?it/s]"
      ]
     },
     "metadata": {},
     "output_type": "display_data"
    },
    {
     "name": "stdout",
     "output_type": "stream",
     "text": [
      "FM: [1 1 1 1 0 1 1 0 0 1 0 1 0 1 1 1 1 0 0 1 1 1 0 1 1 1 1 0 1 1 1 1 0 1 1 1 1\n",
      " 1 1 1] -> -50.61952430051983\n"
     ]
    },
    {
     "data": {
      "application/vnd.jupyter.widget-view+json": {
       "model_id": "b12d0ad95ba6408f806aab9a57891064",
       "version_major": 2,
       "version_minor": 0
      },
      "text/plain": [
       "  0%|          | 0/50 [00:00<?, ?it/s]"
      ]
     },
     "metadata": {},
     "output_type": "display_data"
    },
    {
     "name": "stdout",
     "output_type": "stream",
     "text": [
      "FM: [1 1 1 1 0 1 1 0 0 1 0 1 0 1 1 1 1 0 0 1 1 1 0 1 1 1 1 0 1 1 1 1 0 1 1 1 1\n",
      " 1 1 1] -> -50.61952430051983\n"
     ]
    },
    {
     "data": {
      "application/vnd.jupyter.widget-view+json": {
       "model_id": "50b56d19952a44d7b5697f530d9cf1a7",
       "version_major": 2,
       "version_minor": 0
      },
      "text/plain": [
       "  0%|          | 0/50 [00:00<?, ?it/s]"
      ]
     },
     "metadata": {},
     "output_type": "display_data"
    },
    {
     "name": "stdout",
     "output_type": "stream",
     "text": [
      "FM: [1 1 1 1 0 1 1 0 0 1 0 1 0 1 1 1 1 0 0 1 1 1 0 1 1 1 1 0 1 1 1 1 0 1 1 1 1\n",
      " 1 1 1] -> -50.61952430051983\n"
     ]
    },
    {
     "data": {
      "application/vnd.jupyter.widget-view+json": {
       "model_id": "dc05bbb4ec894b9f89b30c1f4b15430a",
       "version_major": 2,
       "version_minor": 0
      },
      "text/plain": [
       "  0%|          | 0/50 [00:00<?, ?it/s]"
      ]
     },
     "metadata": {},
     "output_type": "display_data"
    },
    {
     "name": "stdout",
     "output_type": "stream",
     "text": [
      "FM: [1 1 1 1 0 1 1 0 0 1 0 1 0 1 1 1 1 0 0 1 1 1 0 1 1 1 1 0 1 1 1 1 0 1 1 1 1\n",
      " 1 1 1] -> -50.61952430051983\n"
     ]
    },
    {
     "data": {
      "application/vnd.jupyter.widget-view+json": {
       "model_id": "f620f6af16af4ab3b07c593a2072e0cc",
       "version_major": 2,
       "version_minor": 0
      },
      "text/plain": [
       "  0%|          | 0/50 [00:00<?, ?it/s]"
      ]
     },
     "metadata": {},
     "output_type": "display_data"
    },
    {
     "name": "stdout",
     "output_type": "stream",
     "text": [
      "FM: [1 1 1 1 0 1 1 0 0 1 0 1 0 1 1 1 1 0 0 1 1 1 0 1 1 1 1 0 1 1 1 1 0 1 1 1 1\n",
      " 1 1 1] -> -50.61952430051983\n"
     ]
    },
    {
     "data": {
      "application/vnd.jupyter.widget-view+json": {
       "model_id": "8ef148b8e7104c4fa49cf3f989a7065f",
       "version_major": 2,
       "version_minor": 0
      },
      "text/plain": [
       "  0%|          | 0/50 [00:00<?, ?it/s]"
      ]
     },
     "metadata": {},
     "output_type": "display_data"
    },
    {
     "name": "stdout",
     "output_type": "stream",
     "text": [
      "FM: [1 1 1 1 0 1 1 0 0 1 0 1 0 1 1 1 1 0 0 1 1 1 0 1 1 1 1 0 1 1 1 1 0 1 1 1 1\n",
      " 1 1 1] -> -50.61952430051983\n"
     ]
    },
    {
     "data": {
      "application/vnd.jupyter.widget-view+json": {
       "model_id": "6de630413fba49228195d7e3c3f24e91",
       "version_major": 2,
       "version_minor": 0
      },
      "text/plain": [
       "  0%|          | 0/50 [00:00<?, ?it/s]"
      ]
     },
     "metadata": {},
     "output_type": "display_data"
    },
    {
     "name": "stdout",
     "output_type": "stream",
     "text": [
      "FM: [1 1 1 1 0 1 1 0 0 1 0 1 0 1 1 1 1 0 0 1 1 1 0 1 1 1 1 0 1 1 1 1 0 1 1 1 1\n",
      " 1 1 1] -> -50.61952430051983\n"
     ]
    },
    {
     "data": {
      "application/vnd.jupyter.widget-view+json": {
       "model_id": "29db35db904348a0b9e92446de587a6c",
       "version_major": 2,
       "version_minor": 0
      },
      "text/plain": [
       "  0%|          | 0/50 [00:00<?, ?it/s]"
      ]
     },
     "metadata": {},
     "output_type": "display_data"
    },
    {
     "name": "stdout",
     "output_type": "stream",
     "text": [
      "FM: [1 1 1 1 0 1 1 0 0 1 0 1 0 1 1 1 1 0 0 1 1 1 0 1 1 1 1 0 1 1 1 1 0 1 1 1 1\n",
      " 1 1 1] -> -50.61952430051983\n"
     ]
    },
    {
     "data": {
      "application/vnd.jupyter.widget-view+json": {
       "model_id": "baa06d8818c746e8b1b11b329401b9f4",
       "version_major": 2,
       "version_minor": 0
      },
      "text/plain": [
       "  0%|          | 0/50 [00:00<?, ?it/s]"
      ]
     },
     "metadata": {},
     "output_type": "display_data"
    },
    {
     "name": "stdout",
     "output_type": "stream",
     "text": [
      "FM: [1 1 1 1 0 1 1 0 0 1 0 1 0 1 1 1 1 0 0 1 1 1 0 1 1 1 1 0 1 1 1 1 0 1 1 1 1\n",
      " 1 1 1] -> -50.61952430051983\n"
     ]
    },
    {
     "data": {
      "application/vnd.jupyter.widget-view+json": {
       "model_id": "87bd2100358343aa94450c81e76b8e80",
       "version_major": 2,
       "version_minor": 0
      },
      "text/plain": [
       "  0%|          | 0/50 [00:00<?, ?it/s]"
      ]
     },
     "metadata": {},
     "output_type": "display_data"
    },
    {
     "name": "stdout",
     "output_type": "stream",
     "text": [
      "FM: [1 1 1 1 0 1 1 0 0 1 0 1 0 1 1 1 1 0 0 1 1 1 0 1 1 1 1 0 1 1 1 1 0 1 1 1 1\n",
      " 1 1 1] -> -50.61952430051983\n"
     ]
    },
    {
     "data": {
      "application/vnd.jupyter.widget-view+json": {
       "model_id": "1d1f3796a2a049ef8ddb2d8aff3fd810",
       "version_major": 2,
       "version_minor": 0
      },
      "text/plain": [
       "  0%|          | 0/50 [00:00<?, ?it/s]"
      ]
     },
     "metadata": {},
     "output_type": "display_data"
    },
    {
     "name": "stdout",
     "output_type": "stream",
     "text": [
      "FM: [1 1 1 1 0 1 1 0 0 1 0 1 0 1 1 1 1 0 0 1 1 1 0 1 1 1 1 0 1 1 1 1 0 1 1 1 1\n",
      " 1 1 1] -> -50.61952430051983\n"
     ]
    }
   ],
   "source": [
    "dataset_X = X_init\n",
    "dataset_y = y_init\n",
    "for i in range(num_initial_points):\n",
    "    fm_trainer.fit(dataset_X, dataset_y, n_epochs=fm_epochs_per_iteration)\n",
    "    Q, w0 = fm_trainer.get_qubo()\n",
    "    x = solver((Q, w0))\n",
    "    y = black_box_function(x)\n",
    "    dataset_X = np.vstack([dataset_X, x])\n",
    "    dataset_y = np.hstack([dataset_y, y])\n",
    "    print(f\"FM: {x} -> {y}\")\n"
   ]
  },
  {
   "cell_type": "code",
   "execution_count": 9,
   "id": "dad722d0",
   "metadata": {},
   "outputs": [
    {
     "data": {
      "text/plain": [
       "[<matplotlib.lines.Line2D at 0x13f995180>]"
      ]
     },
     "execution_count": 9,
     "metadata": {},
     "output_type": "execute_result"
    },
    {
     "data": {
      "image/png": "[encoded data removed]",
      "text/plain": [
       "<Figure size 640x480 with 1 Axes>"
      ]
     },
     "metadata": {},
     "output_type": "display_data"
    }
   ],
   "source": [
    "import matplotlib.pyplot as plt\n",
    "\n",
    "plt.plot(dataset_y)"
   ]
  },
  {
   "cell_type": "code",
   "execution_count": null,
   "id": "790fd2b1",
   "metadata": {},
   "outputs": [],
   "source": []
  }
 ],
 "metadata": {
  "kernelspec": {
   "display_name": "3.10.13",
   "language": "python",
   "name": "python3"
  },
  "language_info": {
   "codemirror_mode": {
    "name": "ipython",
    "version": 3
   },
   "file_extension": ".py",
   "mimetype": "text/x-python",
   "name": "python",
   "nbconvert_exporter": "python",
   "pygments_lexer": "ipython3",
   "version": "3.10.13"
  }
 },
 "nbformat": 4,
 "nbformat_minor": 5
}

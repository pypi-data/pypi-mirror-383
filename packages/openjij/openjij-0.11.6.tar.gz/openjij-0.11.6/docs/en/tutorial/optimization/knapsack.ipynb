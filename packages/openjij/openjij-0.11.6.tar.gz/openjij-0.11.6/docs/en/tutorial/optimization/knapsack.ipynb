{
 "cells": [
  {
   "cell_type": "markdown",
   "metadata": {},
   "source": [
    "# Knapsack Problem\n",
    "Here we show how to solve the knapsack problem using OpenJij, [JijModeling](https://www.ref.documentation.jijzept.com/jijmodeling/),.\n",
    "This problem is also mentioned in 5.2. Knapsack with Integer Weights in [Lucas, 2014, \"Ising formulations of many NP problems\"](https://doi.org/10.3389/fphy.2014.00005).\n",
    "\n",
    "## Overview of the Knapsack Problem\n",
    "\n",
    "The knapsack problem is the problem of finding the optimal solution in the following situations.\n",
    "It is known as one of the most famous NP-hard integer programming problems. First, let us consider an example.\n",
    "\n",
    "### Example\n",
    "\n",
    "As an example of this problem, consider the following story.\n",
    "\n",
    "> In a cave, an explorer unexpectedly discovered several treasures."
   ]
  },
  {
   "cell_type": "markdown",
   "metadata": {},
   "source": [
    "||Treasure A|Treasure B|Treasure C|Treasure D|Treasure E|Treasure F|\n",
    "|---|---|---|---|---|---|---|\n",
    "|Price|\\$5000|\\$7000|\\$2000|\\$1000|\\$4000|\\$3000|\n",
    "|Weight|800g|1000g|600g|400g|500g|300g|"
   ]
  },
  {
   "cell_type": "markdown",
   "metadata": {},
   "source": [
    "> Unfortunately, the explorer only has a small knapsack.\n",
    "> This knapsack can only hold up to 2 kg. The explorer wants to get as much value as possible for the treasure in this knapsack, so which treasures should he bring back?"
   ]
  },
  {
   "cell_type": "markdown",
   "metadata": {
    "tags": []
   },
   "source": [
    "### Generalizing the Problem\n",
    "\n",
    "To generalize this problem, assume that there is a set $\\{ 0, 1, \\dots, i, \\dots, N-1\\}$ of $N$ items to put in the knapsack and that each item has $i$ as its index.  \n",
    "We can represent the problem by making a list of costs $\\boldsymbol{v}$ and a list of weights $\\boldsymbol{w}$ for each luggage $i$ to be put in the knapsack.\n",
    "\n",
    "$$\n",
    "\\nonumber\n",
    "\\boldsymbol{v} = \\{v_0, v_1, \\dots, v_i, \\dots, v_{N-1}\\}\n",
    "$$\n",
    "\n",
    "$$\n",
    "\\nonumber\n",
    "\\boldsymbol{w} = \\{w_0, w_1, \\dots, w_i, \\dots, w_{N-1}\\}\n",
    "$$\n",
    "\n",
    "Let $x_i$ further denote the binary variable that represents the $i$th package selected.\n",
    "It is $x_i = 1$ when $i$ is placed in the knapsack and $x_i = 0$ when $i$ is not.\n",
    "Finally, let $W$ be the maximum capacity of the knapsack.  \n",
    "We want to maximize the total value of luggage we can put in the knapsack, and we express this as an objective function.\n",
    "Given the further constraint that the knapsack must be below the capacity limit, the knapsack problem can be expressed as the following expression:\n",
    "\n",
    "$$\n",
    "\\max \\ \\sum_{i=0}^{N-1} v_i x_i\n",
    "$$(1)\n",
    "\n",
    "$$\n",
    "\\mathrm{s.t.} \\quad \\sum_{i=0}^{N-1} w_i x_i \\leq W\n",
    "$$(2)\n",
    "\n",
    "$$\n",
    "x_i \\in \\{0, 1\\} \\quad (\\forall i \\in \\{0, 1, \\dots, N-1\\})\n",
    "$$(3)"
   ]
  },
  {
   "cell_type": "markdown",
   "metadata": {},
   "source": [
    "## Modeling by JijModeling\n",
    "\n",
    "### Variables\n",
    "\n",
    "Let us define the variables $\\boldsymbol{v}, \\boldsymbol{w}, N, W, x_i, i$ used in expressions (1), (2) and (3) as follows:"
   ]
  },
  {
   "cell_type": "code",
   "execution_count": 1,
   "metadata": {},
   "outputs": [],
   "source": [
    "import jijmodeling as jm\n",
    "\n",
    "\n",
    "# define variables\n",
    "v = jm.Placeholder('v', ndim=1)\n",
    "N = v.len_at(0, latex='N')\n",
    "w = jm.Placeholder('w', shape=(N,))\n",
    "W = jm.Placeholder('W')\n",
    "x = jm.BinaryVar('x', shape=(N,))\n",
    "i = jm.Element('i', (0, N))"
   ]
  },
  {
   "cell_type": "markdown",
   "metadata": {
    "tags": []
   },
   "source": [
    "`v = jm.Placeholder('v', dim=1)` declares a one-dimensional list of values of things to put in the knapsack, and the number of elements is `N`.\n",
    "`N` has `set_latex()` expression so that the representation changes ([link](https://www.ref.documentation.jijzept.com/jijmodeling/reference/jijmodeling/#jijmodeling.expression.expression.Expression.set_latex)).\n",
    "Using that `N`, we can guarantee that `v` and `w` have the same length by defining a one-dimensional list representing the weight of the items to put in the knapsack as `w = jm.Placeholder('w', shape=(N))`.\n",
    "`W = jm.Placeholder('W')` defines $W$ to represent the knapsack capacity limit.\n",
    "`x = jm.Binary('x', shape=(N))` defines a binary variable list `x` of the same length as `v, w`.\n",
    "Finally, `i = jm.Element('i', (0, N))` defines the indices of $v_i, w_i, x_i$, which are integers in the range $0\\leq i < N$."
   ]
  },
  {
   "cell_type": "markdown",
   "metadata": {
    "tags": []
   },
   "source": [
    "### Objective Function\n",
    "\n",
    "Expression (1) is implemented as an objective function.\n",
    "Note that we added a negative sign to make this a minimization problem.\n",
    "Let us create a problem and add an objective function to it.\n",
    "By `Sum(i, formula)`, we can sum the expression part to the subscript `i`."
   ]
  },
  {
   "cell_type": "code",
   "execution_count": 2,
   "metadata": {},
   "outputs": [],
   "source": [
    "# set problem\n",
    "problem = jm.Problem('Knapsack')    \n",
    "# set objective function\n",
    "obj = - jm.sum(i, v[i]*x[i])\n",
    "problem += obj"
   ]
  },
  {
   "cell_type": "markdown",
   "metadata": {
    "tags": []
   },
   "source": [
    "### Constraint\n",
    "\n",
    "Let us implement the constraint in expression (2) by using `Constraint(constraint name, constraint expression)`.\n",
    "This gives the appropriate constraint name to the constraint expression."
   ]
  },
  {
   "cell_type": "code",
   "execution_count": 3,
   "metadata": {},
   "outputs": [
    {
     "data": {
      "text/latex": [
       "$$\\begin{array}{cccc}\\text{Problem:} & \\text{Knapsack} & & \\\\& & \\min \\quad \\displaystyle - \\sum_{i = 0}^{N - 1} v_{i} \\cdot x_{i} & \\\\\\text{{s.t.}} & & & \\\\ & \\text{weight} & \\displaystyle \\sum_{i = 0}^{N - 1} w_{i} \\cdot x_{i} \\leq W &  \\\\\\text{{where}} & & & \\\\& x & 1\\text{-dim binary variable}\\\\\\end{array}$$"
      ],
      "text/plain": [
       "<jijmodeling.Problem at 0x1200e4200>"
      ]
     },
     "execution_count": 3,
     "metadata": {},
     "output_type": "execute_result"
    }
   ],
   "source": [
    "# set total weight constraint\n",
    "total_weight = jm.sum(i, w[i]*x[i])\n",
    "problem += jm.Constraint('weight', total_weight<=W)\n",
    "problem"
   ]
  },
  {
   "cell_type": "markdown",
   "metadata": {},
   "source": [
    "### Instance\n",
    "\n",
    "Let us set up an instance of the explorer story from earlier.\n",
    "The value of the treasure is normalized to \\$1000, and the weight of the treasure is also normalized to 100g."
   ]
  },
  {
   "cell_type": "code",
   "execution_count": 4,
   "metadata": {},
   "outputs": [],
   "source": [
    "import numpy as np\n",
    "\n",
    "# set a list of values & weights\n",
    "inst_v = np.array([5, 7, 2, 1, 4, 3])\n",
    "inst_w = np.array([8, 10, 6, 4, 5, 3])\n",
    "# set maximum weight\n",
    "inst_W = 20\n",
    "instance_data = {\"v\": inst_v, \"w\": inst_w, \"W\": inst_W}"
   ]
  },
  {
   "cell_type": "markdown",
   "metadata": {},
   "source": [
    "## Create Instance"
   ]
  },
  {
   "cell_type": "code",
   "execution_count": 5,
   "metadata": {},
   "outputs": [],
   "source": [
    "instance = jm.Interpreter(instance_data).eval_problem(problem)"
   ]
  },
  {
   "cell_type": "markdown",
   "metadata": {},
   "source": [
    "## Solve by OpenJij's SA"
   ]
  },
  {
   "cell_type": "code",
   "execution_count": 6,
   "metadata": {},
   "outputs": [],
   "source": [
    "import ommx_openjij_adapter as oj_ad\n",
    "\n",
    "sampleset = oj_ad.OMMXOpenJijSAAdapter.sample(\n",
    "    instance,\n",
    "    num_reads=100,\n",
    "    uniform_penalty_weight=1.0\n",
    ")"
   ]
  },
  {
   "cell_type": "markdown",
   "metadata": {
    "tags": []
   },
   "source": [
    "### Displaying the Solution"
   ]
  },
  {
   "cell_type": "code",
   "execution_count": 7,
   "metadata": {},
   "outputs": [
    {
     "data": {
      "text/html": [
       "<div>\n",
       "<style scoped>\n",
       "    .dataframe tbody tr th:only-of-type {\n",
       "        vertical-align: middle;\n",
       "    }\n",
       "\n",
       "    .dataframe tbody tr th {\n",
       "        vertical-align: top;\n",
       "    }\n",
       "\n",
       "    .dataframe thead th {\n",
       "        text-align: right;\n",
       "    }\n",
       "</style>\n",
       "<table border=\"1\" class=\"dataframe\">\n",
       "  <thead>\n",
       "    <tr style=\"text-align: right;\">\n",
       "      <th></th>\n",
       "      <th>objective</th>\n",
       "      <th>feasible</th>\n",
       "    </tr>\n",
       "    <tr>\n",
       "      <th>sample_id</th>\n",
       "      <th></th>\n",
       "      <th></th>\n",
       "    </tr>\n",
       "  </thead>\n",
       "  <tbody>\n",
       "    <tr>\n",
       "      <th>5</th>\n",
       "      <td>-14.0</td>\n",
       "      <td>True</td>\n",
       "    </tr>\n",
       "    <tr>\n",
       "      <th>6</th>\n",
       "      <td>-14.0</td>\n",
       "      <td>True</td>\n",
       "    </tr>\n",
       "    <tr>\n",
       "      <th>22</th>\n",
       "      <td>-14.0</td>\n",
       "      <td>True</td>\n",
       "    </tr>\n",
       "    <tr>\n",
       "      <th>31</th>\n",
       "      <td>-14.0</td>\n",
       "      <td>True</td>\n",
       "    </tr>\n",
       "    <tr>\n",
       "      <th>33</th>\n",
       "      <td>-14.0</td>\n",
       "      <td>True</td>\n",
       "    </tr>\n",
       "    <tr>\n",
       "      <th>...</th>\n",
       "      <td>...</td>\n",
       "      <td>...</td>\n",
       "    </tr>\n",
       "    <tr>\n",
       "      <th>26</th>\n",
       "      <td>-8.0</td>\n",
       "      <td>False</td>\n",
       "    </tr>\n",
       "    <tr>\n",
       "      <th>39</th>\n",
       "      <td>-8.0</td>\n",
       "      <td>False</td>\n",
       "    </tr>\n",
       "    <tr>\n",
       "      <th>64</th>\n",
       "      <td>-7.0</td>\n",
       "      <td>False</td>\n",
       "    </tr>\n",
       "    <tr>\n",
       "      <th>52</th>\n",
       "      <td>-5.0</td>\n",
       "      <td>False</td>\n",
       "    </tr>\n",
       "    <tr>\n",
       "      <th>93</th>\n",
       "      <td>-5.0</td>\n",
       "      <td>False</td>\n",
       "    </tr>\n",
       "  </tbody>\n",
       "</table>\n",
       "<p>100 rows × 2 columns</p>\n",
       "</div>"
      ],
      "text/plain": [
       "           objective  feasible\n",
       "sample_id                     \n",
       "5              -14.0      True\n",
       "6              -14.0      True\n",
       "22             -14.0      True\n",
       "31             -14.0      True\n",
       "33             -14.0      True\n",
       "...              ...       ...\n",
       "26              -8.0     False\n",
       "39              -8.0     False\n",
       "64              -7.0     False\n",
       "52              -5.0     False\n",
       "93              -5.0     False\n",
       "\n",
       "[100 rows x 2 columns]"
      ]
     },
     "execution_count": 7,
     "metadata": {},
     "output_type": "execute_result"
    }
   ],
   "source": [
    "sampleset.summary"
   ]
  },
  {
   "cell_type": "markdown",
   "metadata": {
    "tags": []
   },
   "source": [
    "From the result thus obtained, let us see which treasures we decide to put in the knapsack."
   ]
  },
  {
   "cell_type": "code",
   "execution_count": 8,
   "metadata": {},
   "outputs": [
    {
     "name": "stdout",
     "output_type": "stream",
     "text": [
      "Items:  [1, 4, 5]\n",
      "Total value:  14\n",
      "Total weight:  18\n"
     ]
    }
   ],
   "source": [
    "x_value = sampleset.best_feasible_unrelaxed().extract_decision_variables(\"x\")\n",
    "items = [i[0] for i, v in x_value.items() if v == 1]\n",
    "print(\"Items: \", items)\n",
    "print(\"Total value: \", sum(inst_v[items]))\n",
    "print(\"Total weight: \", sum(inst_w[items]))"
   ]
  }
 ],
 "metadata": {
  "kernelspec": {
   "display_name": ".venv",
   "language": "python",
   "name": "python3"
  },
  "language_info": {
   "codemirror_mode": {
    "name": "ipython",
    "version": 3
   },
   "file_extension": ".py",
   "mimetype": "text/x-python",
   "name": "python",
   "nbconvert_exporter": "python",
   "pygments_lexer": "ipython3",
   "version": "3.11.11"
  }
 },
 "nbformat": 4,
 "nbformat_minor": 4
}

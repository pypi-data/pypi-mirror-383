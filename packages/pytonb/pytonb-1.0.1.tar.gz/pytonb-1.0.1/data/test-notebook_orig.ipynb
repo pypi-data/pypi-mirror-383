{
 "cells": [
  {
   "cell_type": "code",
   "execution_count": 1,
   "id": "0e276a91-482b-45a1-8c1a-b87a5da63e65",
   "metadata": {},
   "outputs": [],
   "source": [
    "import sys"
   ]
  },
  {
   "cell_type": "markdown",
   "id": "0fd6078e-7075-4446-87f8-1fc5d7cceda5",
   "metadata": {},
   "source": [
    "# markdown\n",
    "## t2\n",
    "### t3\n",
    "#### t4\n",
    "t5\n",
    "* t6"
   ]
  },
  {
   "cell_type": "code",
   "execution_count": 2,
   "id": "495ba05a-55fb-457d-a678-4303d0c1c4d5",
   "metadata": {},
   "outputs": [],
   "source": [
    "import os\n",
    "import time"
   ]
  },
  {
   "cell_type": "code",
   "execution_count": 3,
   "id": "ea01537a-5866-4684-8de7-d436d18266f9",
   "metadata": {},
   "outputs": [],
   "source": [
    "def test_function(p1:str=None, p2:bool=False)->os.path:\n",
    "    \"\"\"docstring 1\"\"\"\n",
    "    a=0\n",
    "    if a is not None: # should execute\n",
    "        print(a)"
   ]
  },
  {
   "cell_type": "code",
   "execution_count": 4,
   "id": "c20493f4-07a6-4c92-bcf0-1f7fdb48037e",
   "metadata": {},
   "outputs": [],
   "source": [
    "a,t=5,6 # unique numbers"
   ]
  },
  {
   "cell_type": "code",
   "execution_count": 5,
   "id": "20389051-e06d-4b87-9d02-fbc36b47f6cf",
   "metadata": {},
   "outputs": [
    {
     "name": "stdout",
     "output_type": "stream",
     "text": [
      "5 6\n"
     ]
    }
   ],
   "source": [
    "# we try a loop\n",
    "if a>2:\n",
    "    while t==6:\n",
    "        print(a,t)\n",
    "        t+=1"
   ]
  },
  {
   "cell_type": "code",
   "execution_count": 6,
   "id": "51dd8f47-4e40-4c23-8d88-990148035b7f",
   "metadata": {},
   "outputs": [],
   "source": [
    "## comment here"
   ]
  },
  {
   "cell_type": "code",
   "execution_count": 7,
   "id": "136e02bd-9948-4b98-bb0a-a7fe1cc75664",
   "metadata": {},
   "outputs": [
    {
     "data": {
      "text/plain": [
       "'This is a multi-line string,\\n    and it will be created but not used.'"
      ]
     },
     "execution_count": 7,
     "metadata": {},
     "output_type": "execute_result"
    }
   ],
   "source": [
    "\"\"\"This is a multi-line string,\n",
    "    and it will be created but not used.\"\"\""
   ]
  },
  {
   "cell_type": "code",
   "execution_count": null,
   "id": "0650e335-4796-4ad1-8a0a-804a4967f81b",
   "metadata": {},
   "outputs": [],
   "source": []
  }
 ],
 "metadata": {
  "kernelspec": {
   "display_name": "Python 3 (ipykernel)",
   "language": "python",
   "name": "python3"
  },
  "language_info": {
   "codemirror_mode": {
    "name": "ipython",
    "version": 3
   },
   "file_extension": ".py",
   "mimetype": "text/x-python",
   "name": "python",
   "nbconvert_exporter": "python",
   "pygments_lexer": "ipython3",
   "version": "3.13.0"
  }
 },
 "nbformat": 4,
 "nbformat_minor": 5
}

{
 "cells": [
  {
   "cell_type": "markdown",
   "metadata": {},
   "source": [
    "# Passband Demo\n",
    "\n",
    "A `Passband` object stores the information needed to transform the observed flux density over multiple wavelengths into a single band flux for a given filter. A `PassbandGroup` object implements a collection of `Passband` objects providing convenient helper functions for loading and processing multiple passbands.\n",
    "\n",
    "By default the passband data files are stored in the data/passbands subdirectory of the top level LightCurveLynx directory."
   ]
  },
  {
   "cell_type": "code",
   "execution_count": null,
   "metadata": {},
   "outputs": [],
   "source": [
    "import math\n",
    "\n",
    "import matplotlib.pyplot as plt\n",
    "import numpy as np\n",
    "\n",
    "from pathlib import Path\n",
    "\n",
    "from lightcurvelynx.astro_utils.passbands import Passband, PassbandGroup\n",
    "from lightcurvelynx.utils.plotting import plot_bandflux_lightcurves, plot_flux_spectrogram\n",
    "\n",
    "# Usually we would not hardcode the path to the passband files, but for this demo we will use a relative path\n",
    "# to the test data directory so that we do not have to download the files.\n",
    "table_dir = \"../../tests/lightcurvelynx/data/passbands\""
   ]
  },
  {
   "cell_type": "markdown",
   "metadata": {},
   "source": [
    "## Passband Example\n",
    "\n",
    "Let's start with looking at a simple `Passband` and the information it contains.  As we will see below, the `Passband` class provides multiple mechanisms for loading in the passband information, including reading it in from both ASCII and VOTable files.\n",
    "\n",
    "### Loading from a File\n",
    "\n",
    "If we have the passband's file downloaded, we can load it with the `Passband.from_file()` function. Here we open the g-band information from the LSST files in our testing directory."
   ]
  },
  {
   "cell_type": "code",
   "execution_count": null,
   "metadata": {},
   "outputs": [],
   "source": [
    "lsst_g = Passband.from_file(\n",
    "    \"LSST\",  # The survey name\n",
    "    \"g\",  # The filter name\n",
    "    table_path=Path(table_dir, \"LSST\", \"g.dat\"),  # The path to the passband file\n",
    ")\n",
    "lsst_g.plot()"
   ]
  },
  {
   "cell_type": "markdown",
   "metadata": {},
   "source": [
    "\n",
    "### Downloading Files\n",
    "\n",
    "Both `Passband.from_file()` can take a combination of file path and URL information. LightCurveLynx uses the [pooch library](https://www.fatiando.org/pooch/latest/) to handle downloading files and maintaining versions. If the file in the given path already exists, it will be used directly. Otherwise pooch will download it to that location. We could specify a URL from which to download the files with the `table_url` parameter.\n",
    "\n",
    "_Note_: Throughout this notebook, we use the hardcoded test directory path to retrieve pre-downloaded files so the notebook does not have external dependencies. In most cases, users will want to use the default table directory (data/passbands) and let LightCurveLynx handle the downloads and caching.\n",
    "\n",
    "A special case of the file download is retrieving passbands from the [SVO filter profile service](https://svo2.cab.inta-csic.es/theory/fps/).  LightCurveLynx includes a built in function `Passband.from_svo()` that takes the SVO identifier, constructs the appropriate URL, and downloads the file if does not already exist.\n",
    "\n",
    "Let's look at the 'g' filter from the ZTF survey."
   ]
  },
  {
   "cell_type": "code",
   "execution_count": null,
   "metadata": {},
   "outputs": [],
   "source": [
    "ztf_g = Passband.from_svo(\n",
    "    \"Palomar/ZTF.g\",  # SVO identifier of the form \"{observatory}/{camera}.{filter}\"\n",
    "    table_dir=table_dir,  # The directory for caching the passband files\n",
    "    force_download=False,  # Do not force a download if the file already exists\n",
    ")\n",
    "ztf_g.plot()"
   ]
  },
  {
   "cell_type": "markdown",
   "metadata": {},
   "source": [
    "### Manually specified passbands\n",
    "\n",
    "For testing, we might want to manually specify the passband information. We can do this by creating a 2-dimensional numpy array where the first column is wavelength and the second column is transmission values. The wavelength column can take data in either angstroms or nanometers. Angstroms are assumed by default, but can be overridden using the units parameter (`units=\"nm\"`). The values in the transmission column are relative and there is no need for the user to normalize them."
   ]
  },
  {
   "cell_type": "code",
   "execution_count": null,
   "metadata": {},
   "outputs": [],
   "source": [
    "values = np.array(\n",
    "    [\n",
    "        [1000, 0.5],\n",
    "        [1005, 0.6],\n",
    "        [1010, 0.7],\n",
    "        [1015, 0.5],\n",
    "        [1020, 0.7],\n",
    "        [1025, 0.8],\n",
    "        [1030, 0.2],\n",
    "        [1035, 0.2],\n",
    "    ]\n",
    ")\n",
    "\n",
    "toy_passband = Passband(\n",
    "    values,  # The matrix of transmission data\n",
    "    \"toy_survey\",  # Survey name.\n",
    "    \"a\",  # Filter name\n",
    ")\n",
    "toy_passband.plot()"
   ]
  },
  {
   "cell_type": "markdown",
   "metadata": {},
   "source": [
    "## Loading a PassbandGroup\n",
    "\n",
    "`PassbandGroup` also provides multiple mechanisms for loading in the passband information. Users can manually provide the list of `passband` objects, provide a path to a directory of passband files, or load from a preset (which will download the files if needed). Supported presets include \"LSST\", \"Roman\", and \"ZTF\".\n",
    "\n",
    "Let's load the default passbands for LSST and printing basic information. In general we would want to leave out the table directory to allow the code to use the latest version, but here we use (older) cached data from the testing directory to avoid a download in the notebook. In most cases users will want to use `data/passbands/` from the root directory."
   ]
  },
  {
   "cell_type": "code",
   "execution_count": null,
   "metadata": {},
   "outputs": [],
   "source": [
    "passband_group = PassbandGroup.from_preset(preset=\"LSST\", table_dir=table_dir)\n",
    "print(passband_group)\n",
    "\n",
    "wavelengths = passband_group.waves\n",
    "min_wave, max_wave = passband_group.wave_bounds()\n",
    "print(f\"Wavelengths range [{min_wave}, {max_wave}]\")"
   ]
  },
  {
   "cell_type": "markdown",
   "metadata": {},
   "source": [
    "We can access individual `Passband` objects with the [] notation and plot them using `Passband`'s plot functionality. Note that passband_group[\"LSST_g\"] is the same passband as we saw earlier when we manually opened the file for LSST's g filter."
   ]
  },
  {
   "cell_type": "code",
   "execution_count": null,
   "metadata": {},
   "outputs": [],
   "source": [
    "passband_group[\"LSST_g\"].plot()"
   ]
  },
  {
   "cell_type": "markdown",
   "metadata": {},
   "source": [
    "We can plot all of the passbands using `PassbandGroup`'s plot functionality."
   ]
  },
  {
   "cell_type": "code",
   "execution_count": null,
   "metadata": {},
   "outputs": [],
   "source": [
    "passband_group.plot()"
   ]
  },
  {
   "cell_type": "markdown",
   "metadata": {},
   "source": [
    "Individual passbands can also be accessed by the filter name as long as it is unique."
   ]
  },
  {
   "cell_type": "code",
   "execution_count": null,
   "metadata": {},
   "outputs": [],
   "source": [
    "passband_group[\"g\"].plot()"
   ]
  },
  {
   "cell_type": "markdown",
   "metadata": {},
   "source": [
    "If we only care about a subset of passbands, such as a few filters, we can load only those using the `filters_to_load` parameter. This is particularly helpful in reducing the computational cost of the simulation as LightCurveLynx will evaluate the sources on the **union** of wavelengths in the `PassbandGroup`. By dropping individual passbands, we reduce the number of wavelengths at which we evaluate the object."
   ]
  },
  {
   "cell_type": "code",
   "execution_count": null,
   "metadata": {},
   "outputs": [],
   "source": [
    "passband_group_rg = PassbandGroup.from_preset(preset=\"LSST\", table_dir=table_dir, filters=[\"r\", \"g\"])\n",
    "print(passband_group_rg)\n",
    "\n",
    "min_wave, max_wave = passband_group_rg.wave_bounds()\n",
    "print(f\"Wavelengths range [{min_wave}, {max_wave}]\")"
   ]
  },
  {
   "cell_type": "markdown",
   "metadata": {},
   "source": [
    "## Applying Passbands\n",
    "\n",
    "In order to apply passbands, we first need a 2-dimensional matrix flux densities for different times and wavelengths. We can manually specify these or generate them with one of the physical models. \n",
    "\n",
    "In this example, we use simple model to compute flux densities using a predefined spline."
   ]
  },
  {
   "cell_type": "code",
   "execution_count": null,
   "metadata": {},
   "outputs": [],
   "source": [
    "from lightcurvelynx.models.spline_model import SplineModel\n",
    "\n",
    "# Load a model\n",
    "input_times = np.array([1001.0, 1002.0, 1003.0, 1004.0, 1005.0, 1006.0])\n",
    "input_wavelengths = np.linspace(min_wave, max_wave, 5)\n",
    "input_fluxes = np.array(\n",
    "    [\n",
    "        [1.0, 5.0, 2.0, 3.0, 1.0],\n",
    "        [5.0, 10.0, 6.0, 7.0, 5.0],\n",
    "        [2.0, 6.0, 3.0, 4.0, 2.0],\n",
    "        [1.0, 5.0, 2.0, 3.0, 1.0],\n",
    "        [1.0, 5.0, 2.0, 3.0, 1.0],\n",
    "        [0.0, 0.0, 0.0, 0.0, 0.0],\n",
    "    ]\n",
    ")\n",
    "spline_model = SplineModel(input_times, input_wavelengths, input_fluxes, time_degree=3, wave_degree=3)\n",
    "\n",
    "# Query the model at different time steps and all the wavelengths covered\n",
    "# by the current passband group.\n",
    "times = np.linspace(1000.0, 1006.0, 40)\n",
    "fluxes = spline_model.evaluate_sed(times, wavelengths)"
   ]
  },
  {
   "cell_type": "markdown",
   "metadata": {},
   "source": [
    "To visualize the flux densities, we plot the flux spectrogram."
   ]
  },
  {
   "cell_type": "code",
   "execution_count": null,
   "metadata": {},
   "outputs": [],
   "source": [
    "plot_flux_spectrogram(fluxes, times, wavelengths, title=\"Flux Spectrogram\")"
   ]
  },
  {
   "cell_type": "markdown",
   "metadata": {},
   "source": [
    "### Plot Light Curves\n",
    "\n",
    "Compute the light curves in each band and plot them."
   ]
  },
  {
   "cell_type": "code",
   "execution_count": null,
   "metadata": {},
   "outputs": [],
   "source": [
    "bandfluxes = passband_group.fluxes_to_bandfluxes(fluxes)\n",
    "plot_bandflux_lightcurves(bandfluxes, times, title=\"Passband-Normalized Light Curve\")"
   ]
  },
  {
   "cell_type": "markdown",
   "metadata": {},
   "source": [
    "Or we can plot each band's light curve on its own."
   ]
  },
  {
   "cell_type": "code",
   "execution_count": null,
   "metadata": {},
   "outputs": [],
   "source": [
    "num_cols = 3\n",
    "num_rows = math.ceil(len(bandfluxes.keys()) / num_cols)\n",
    "\n",
    "fig = plt.figure(figsize=(12, 4))\n",
    "axes = fig.subplots(num_rows, num_cols, sharex=True, sharey=True)\n",
    "\n",
    "for idx, band_name in enumerate(bandfluxes.keys()):\n",
    "    row = int(idx / num_cols)\n",
    "    col = idx % num_cols\n",
    "    plot_bandflux_lightcurves(bandfluxes[band_name], times, ax=axes[row][col], title=band_name)"
   ]
  },
  {
   "cell_type": "markdown",
   "metadata": {},
   "source": [
    "## Filtering on Passband\n",
    "\n",
    "We might wish to filter a large data set so it contains only the passbands of interest. For example if we are running a simulation of Rubin data in only the r-filter, we do not care about the pointings in an `ObsTable`, such as Rubin's OpSim, for every other filter. We can remove those at the start by masking them out.\n",
    "\n",
    "For example we could have a list of observing filters as shown below, but only be interested in the ones corresponding to our current passband group. These can then be feed into `ObsTable`'s `filter_rows()` function."
   ]
  },
  {
   "cell_type": "code",
   "execution_count": null,
   "metadata": {},
   "outputs": [],
   "source": [
    "obs_filters = [\"r\", \"g\", \"p\", \"q\", \"r\", \"x\", \"w\", \"r\", \"something else\"]\n",
    "filter_mask = passband_group.mask_by_filter(obs_filters)\n",
    "print(filter_mask)"
   ]
  },
  {
   "cell_type": "markdown",
   "metadata": {},
   "source": [
    "## Modifying Passbands and PassbandGroups\n",
    "\n",
    "In some cases we might want to modify the passband information to fit our use case. In this section we show how to perform several different modifications, including: filtering the passbands used, updating the wave grid, and trimming the passbands.\n",
    "\n",
    "### Update Wave Grid\n",
    "\n",
    "By increasing our `delta_wave` parameter, we increase the grid step of our transmission table, and the fluxes caluculated from `passband_group.waves`."
   ]
  },
  {
   "cell_type": "code",
   "execution_count": null,
   "metadata": {},
   "outputs": [],
   "source": [
    "passband_group.process_transmission_tables(delta_wave=30.0)\n",
    "\n",
    "times = np.linspace(1000.0, 1006.0, 40)\n",
    "wavelengths = passband_group.waves\n",
    "fluxes = spline_model.evaluate_sed(times, wavelengths)\n",
    "\n",
    "bandfluxes = passband_group.fluxes_to_bandfluxes(fluxes)\n",
    "plot_bandflux_lightcurves(bandfluxes, times, title=\"Passband-Normalized Light Curve\")"
   ]
  },
  {
   "cell_type": "markdown",
   "metadata": {},
   "source": [
    "### Setting Trim Quantile\n",
    "\n",
    "By setting our `trim_quantile` parameter to None, we disable the automatic trimming performed on transmission table to remove the upper and lower tails."
   ]
  },
  {
   "cell_type": "code",
   "execution_count": null,
   "metadata": {},
   "outputs": [],
   "source": [
    "passband_group.process_transmission_tables(delta_wave=30.0, trim_quantile=None)\n",
    "\n",
    "times = np.linspace(1000.0, 1006.0, 40)\n",
    "wavelengths = passband_group.waves\n",
    "fluxes = spline_model.evaluate_sed(times, wavelengths)\n",
    "\n",
    "bandfluxes = passband_group.fluxes_to_bandfluxes(fluxes)\n",
    "plot_bandflux_lightcurves(bandfluxes, times, title=\"Passband-Normalized Light Curve\")"
   ]
  }
 ],
 "metadata": {
  "kernelspec": {
   "display_name": "lightcurvelynx",
   "language": "python",
   "name": "python3"
  },
  "language_info": {
   "codemirror_mode": {
    "name": "ipython",
    "version": 3
   },
   "file_extension": ".py",
   "mimetype": "text/x-python",
   "name": "python",
   "nbconvert_exporter": "python",
   "pygments_lexer": "ipython3",
   "version": "3.10.4"
  }
 },
 "nbformat": 4,
 "nbformat_minor": 2
}

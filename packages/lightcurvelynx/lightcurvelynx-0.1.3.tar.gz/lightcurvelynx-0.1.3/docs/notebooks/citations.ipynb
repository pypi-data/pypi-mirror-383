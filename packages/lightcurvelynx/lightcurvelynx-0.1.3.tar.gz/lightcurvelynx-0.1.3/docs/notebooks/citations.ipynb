{
 "cells": [
  {
   "cell_type": "markdown",
   "metadata": {},
   "source": [
    "# Generating Citations\n",
    "\n",
    "LightCurveLynx uses the LINCC Frameworks [Citation-Compass package](https://github.com/lincc-frameworks/citation-compass) to track which packages are used. You can use it to generate a list of all citations found in the code or the citations for blocks of code that were executed during a simulation.\n",
    "\n",
    "## Manually Generating Citations\n",
    "\n",
    "Let's consider a basic hsiao model from within the sncosmo package:"
   ]
  },
  {
   "cell_type": "code",
   "execution_count": null,
   "metadata": {},
   "outputs": [],
   "source": [
    "import numpy as np\n",
    "\n",
    "from lightcurvelynx.consts import M_SUN_G\n",
    "from lightcurvelynx.models.agn import AGN\n",
    "\n",
    "model = AGN(\n",
    "    t0=0.0,\n",
    "    blackhole_mass=1e9 * M_SUN_G,\n",
    "    edd_ratio=0.9,\n",
    "    node_label=\"AGN\",\n",
    ")\n",
    "\n",
    "times = np.linspace(0, 200, 201)\n",
    "wavelengths_aa = np.array([4500, 6000])\n",
    "fluxes = model.evaluate_sed(times, wavelengths_aa)"
   ]
  },
  {
   "cell_type": "markdown",
   "metadata": {},
   "source": [
    "Now that we have run the simulation, we can print out a list of all the citations during execution using `print_used_citations`:"
   ]
  },
  {
   "cell_type": "code",
   "execution_count": null,
   "metadata": {},
   "outputs": [],
   "source": [
    "import citation_compass as cc\n",
    "\n",
    "cc.print_used_citations()"
   ]
  },
  {
   "cell_type": "markdown",
   "metadata": {},
   "source": [
    "In this case we return the relevant citation to sncosmo. If we want to be more thorough, we can look at all the citations included in imported libraries, by using `print_all_citations`:"
   ]
  },
  {
   "cell_type": "code",
   "execution_count": null,
   "metadata": {},
   "outputs": [],
   "source": [
    "cc.print_all_citations()"
   ]
  },
  {
   "cell_type": "markdown",
   "metadata": {},
   "source": [
    "We now pick up the passband functions even though they are not used in the above code snippet. Note that both these print calls will only return functions that have been explicitly **annotated** and thus the list is not guaranteed to be complete.\n",
    "\n",
    "## Listing Libraries\n",
    "\n",
    "You can also return a list of imported libraries using `get_all_imports`:"
   ]
  },
  {
   "cell_type": "code",
   "execution_count": null,
   "metadata": {},
   "outputs": [],
   "source": [
    "cc.get_all_imports()"
   ]
  },
  {
   "cell_type": "markdown",
   "metadata": {},
   "source": [
    "The list of libraries tends to be pretty long.\n",
    "\n",
    "## Citations in Simulations\n",
    "\n",
    "For convenience a `generate_citations` flag is included in the top level `simulate_lightcurves` function.\n",
    "\n",
    "## Disclaimer\n",
    "\n",
    "Citation-Compass is still experimental and relies on users to explicitly annotate the functions. LightCurveLynx users should confirm that they are citing all of the relevant papers."
   ]
  }
 ],
 "metadata": {
  "kernelspec": {
   "display_name": "lightcurvelynx",
   "language": "python",
   "name": "python3"
  },
  "language_info": {
   "codemirror_mode": {
    "name": "ipython",
    "version": 3
   },
   "file_extension": ".py",
   "mimetype": "text/x-python",
   "name": "python",
   "nbconvert_exporter": "python",
   "pygments_lexer": "ipython3",
   "version": "3.10.4"
  }
 },
 "nbformat": 4,
 "nbformat_minor": 2
}

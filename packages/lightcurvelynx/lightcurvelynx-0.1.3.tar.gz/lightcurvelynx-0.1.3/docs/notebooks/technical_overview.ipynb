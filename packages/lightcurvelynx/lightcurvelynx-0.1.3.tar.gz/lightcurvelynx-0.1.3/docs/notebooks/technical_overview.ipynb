{
 "cells": [
  {
   "cell_type": "markdown",
   "metadata": {},
   "source": [
    "# Building Simple Models\n",
    "\n",
    "In this tutorial we look at how to build a simple model and sample the parameters from a variety of basic sources.  For more complex sampling see the notebooks: sampling.ipynb, adding_models.ipynb, and using_pzflow.ipynb."
   ]
  },
  {
   "cell_type": "markdown",
   "metadata": {},
   "source": [
    "## Parameterized Nodes\n",
    "\n",
    "All sources of information in LightCurveLynx live as `ParameterizedNode` objects. This allows us to link the nodes (and their variables) together and sample them as a single block. As you will see in this tutorial, most of the nodes are specific to the object that you want to simulate. For example if we wanted to create a model with constant brightness in the night sky with a brightness of 10, we could use: "
   ]
  },
  {
   "cell_type": "code",
   "execution_count": null,
   "metadata": {},
   "outputs": [],
   "source": [
    "import matplotlib.pyplot as plt\n",
    "import numpy as np\n",
    "\n",
    "from lightcurvelynx.models.basic_models import ConstantSEDModel\n",
    "\n",
    "model = ConstantSEDModel(brightness=10.0, node_label=\"a_star\")"
   ]
  },
  {
   "cell_type": "markdown",
   "metadata": {},
   "source": [
    "`ParameterizedNode`s can then be sampled with the `sample_parameters()` function. This samples the internal parameters of the model.  For example we might be sampling an object's brightness (as with the constant SED model), a host galaxy's mass, or even the (RA, dec) position of the observations. The `sample_parameters()` function returns a special data structure, the `GraphState`, that captures this state and can later be fed into the models to generate fluxes.\n",
    "\n",
    "**Note:** Users do not need to know the details of the `GraphState` storage, only that it can be accessed like a dictionary using the node's label and the variable name."
   ]
  },
  {
   "cell_type": "code",
   "execution_count": null,
   "metadata": {},
   "outputs": [],
   "source": [
    "state = model.sample_parameters(num_samples=10)\n",
    "state[\"a_star\"][\"brightness\"]"
   ]
  },
  {
   "cell_type": "markdown",
   "metadata": {},
   "source": [
    "The sample function produced 10 independent samples of our system's state.\n",
    "\n",
    "The brightness values of these samples are not particularly interesting because we were sampling from a fixed parameter. The brightness is always 10.0. However LightCurveLynx allows the user to set a node's parameter from a variety of sources including constants (as with 10.0 above), the values stored in other nodes, or even the results of a \"functional\" or \"computation\" type node (more about that later).\n",
    "\n",
    "TDAStro includes the built-in `NumpyRandomFunc` which will sample from a given numpy function and use the results to set a given parameter."
   ]
  },
  {
   "cell_type": "code",
   "execution_count": null,
   "metadata": {},
   "outputs": [],
   "source": [
    "from lightcurvelynx.math_nodes.np_random import NumpyRandomFunc\n",
    "\n",
    "brightness_func = NumpyRandomFunc(\"uniform\", low=11.0, high=15.5)\n",
    "model2 = ConstantSEDModel(brightness=brightness_func, node_label=\"a_star_2\")\n",
    "state = model2.sample_parameters(num_samples=10)\n",
    "\n",
    "state[\"a_star_2\"][\"brightness\"]"
   ]
  },
  {
   "cell_type": "markdown",
   "metadata": {},
   "source": [
    "Now each of our 10 samples use different a different brightness value.\n",
    "\n",
    "We can make the distributions of objects more interesting by using combinations of randomly generated parameters. Different random generators can be specified for different parameters such as brightness and redshift. For example we can sample the brightness from a Gaussian distribution and sample the redshift from a uniform distribution.\n"
   ]
  },
  {
   "cell_type": "code",
   "execution_count": null,
   "metadata": {},
   "outputs": [],
   "source": [
    "model3 = ConstantSEDModel(\n",
    "    brightness=NumpyRandomFunc(\"normal\", loc=20.0, scale=2.0),\n",
    "    redshift=NumpyRandomFunc(\"uniform\", low=0.1, high=0.5),\n",
    "    node_label=\"test\",\n",
    ")\n",
    "\n",
    "num_samples = 10\n",
    "state = model3.sample_parameters(num_samples=num_samples)\n",
    "for i in range(num_samples):\n",
    "    print(f\"{i}: brightness={state['test']['brightness'][i]} redshift={state['test']['redshift'][i]}\")"
   ]
  },
  {
   "cell_type": "markdown",
   "metadata": {},
   "source": [
    "The sampling process creates **vectors** of samples for each parameter such that the `i`-th value of each parameter is from the same sampling run. So in the output above, sample 0 consists of all the parameter values for that sample (everything at index=0), sample 1 consists of all parameter values for that sample (everything at index=1), and so forth. This is critically important once we start dealing with parameters that are not independent. We might want to choose the host galaxy's mass and redshift from a joint distribution. Alternatively, as we will see below, we will often want to compute one parameter as a mathematical transform of another or sample one parameter based on the value of another. In all of these cases it is important that we can access the parameters that were generated together and that these parameters stay consistent.\n",
    "\n",
    "We can slice out a single sample using `extract_single_sample()` and display it."
   ]
  },
  {
   "cell_type": "code",
   "execution_count": null,
   "metadata": {},
   "outputs": [],
   "source": [
    "single_sample = state.extract_single_sample(0)\n",
    "print(str(single_sample))"
   ]
  },
  {
   "cell_type": "markdown",
   "metadata": {},
   "source": [
    "You'll notice that there are more parameters than we manually set. Some of these are for internal bookkeeping. Parameters are created automatically by the nodes if needed. In general the user should not need to worry about these extra parameters. They can access the ones of interest with the dictionary notation."
   ]
  },
  {
   "cell_type": "markdown",
   "metadata": {},
   "source": [
    "## Function Nodes\n",
    "\n",
    "Sampling functions, such as those provided by numpy, are only one type of function that we might want to use to generate parameters. We might want to sample from other functions or apply a mathematical transform to multiple input parameters to compute a new parameter. For example consider the case of computing the `distmod` parameter from `redshift`. We can do this using the information about the cosmology, such as provided by astropy's `FlatLambdaCDM` class:"
   ]
  },
  {
   "cell_type": "code",
   "execution_count": null,
   "metadata": {},
   "outputs": [],
   "source": [
    "from astropy.cosmology import FlatLambdaCDM\n",
    "\n",
    "cosmo_obj = FlatLambdaCDM(H0=73.0, Om0=0.3)\n",
    "redshifts = np.array([0.1, 0.2, 0.3])\n",
    "distmods = cosmo_obj.distmod(redshifts).value\n",
    "print(distmods)"
   ]
  },
  {
   "cell_type": "markdown",
   "metadata": {},
   "source": [
    "Importantly, you can use a `FunctionNode` that takes input parameter(s) and produces output parameter(s) during the generation. `FunctionNode` is a subclass of `ParameterizedNode` that wraps the functionality of collecting the inputs, running the computations, and storing the output. The user simply needs to provide the function node with the function it will use and the parameters. For example, LightCurveLynx has a `DistModFromRedshift` class that wraps the previous operation.\n",
    "\n",
    "The below code samples a redshift uniformly from [0.0, 1.0], uses it to compute the `distmod` parameter, and sets that."
   ]
  },
  {
   "cell_type": "code",
   "execution_count": null,
   "metadata": {},
   "outputs": [],
   "source": [
    "from lightcurvelynx.astro_utils.snia_utils import DistModFromRedshift\n",
    "\n",
    "distmod_obj = DistModFromRedshift(\n",
    "    H0=73.0, Omega_m=0.3, redshift=NumpyRandomFunc(\"uniform\", low=0.1, high=0.5)\n",
    ")"
   ]
  },
  {
   "cell_type": "markdown",
   "metadata": {},
   "source": [
    "or more concretely, we can create our own `FunctionNode` that computes y = m * x + b."
   ]
  },
  {
   "cell_type": "code",
   "execution_count": null,
   "metadata": {},
   "outputs": [],
   "source": [
    "from lightcurvelynx.base_models import FunctionNode\n",
    "\n",
    "\n",
    "def _linear_eq(x, m, b):\n",
    "    \"\"\"Compute y = m * x + b\"\"\"\n",
    "    return m * x + b\n",
    "\n",
    "\n",
    "func_node = FunctionNode(\n",
    "    _linear_eq,  # First parameter is the function to call.\n",
    "    x=NumpyRandomFunc(\"uniform\", low=0.0, high=10.0),\n",
    "    m=5.0,\n",
    "    b=-2.0,\n",
    ")\n",
    "print(func_node.sample_parameters(num_samples=1))"
   ]
  },
  {
   "cell_type": "markdown",
   "metadata": {},
   "source": [
    "The first parameter of the function node is the input function, such as our linear equation above. Each input into the function **must** be included as a named parameter, such as `x`, `m`, and `b` above. If any of the input parameters are missing the code will give an error.\n",
    "\n",
    "Here we use constants for `m` and `b` so we use the same linear formulation for each sample. Only the value of `x` changes. However we could have also used function nodes, including sampling functions, to set `m` and `b`. In that case it is important to remember that each of our results sample will be the result of a sampling of all the variable parameters.\n",
    "\n",
    "It would be tiresome to manually generate a `FunctionNode` object or class for every small mathematical function we need to use. As such LightCurveLynx also provides the `BasicMathNode`, which will take a string and (safely) compile the mathematical expression into a function."
   ]
  },
  {
   "cell_type": "code",
   "execution_count": null,
   "metadata": {},
   "outputs": [],
   "source": [
    "from lightcurvelynx.math_nodes.basic_math_node import BasicMathNode\n",
    "\n",
    "math_node = BasicMathNode(\"a + b\", a=5.0, b=10.0)\n",
    "print(math_node.sample_parameters(num_samples=1))"
   ]
  },
  {
   "cell_type": "markdown",
   "metadata": {},
   "source": [
    "## Linked Parameters / Nodes\n",
    "\n",
    "Often the values of one node might depend on the values of another. A great case of this is a source/host pair where the location of the object depends on that of the host. We can access another node’s sampled parameters using a `.` notation: `{model_object}.{parameter_name}`"
   ]
  },
  {
   "cell_type": "code",
   "execution_count": null,
   "metadata": {},
   "outputs": [],
   "source": [
    "host = ConstantSEDModel(brightness=15.0, ra=1.0, dec=2.0, node_label=\"host\")\n",
    "source = ConstantSEDModel(brightness=10.0, ra=host.ra, dec=host.dec, node_label=\"source\")\n",
    "state = source.sample_parameters(num_samples=5)\n",
    "\n",
    "for i in range(5):\n",
    "    print(\n",
    "        f\"{i}: Host=({state['host']['ra'][i]}, {state['host']['dec'][i]})\"\n",
    "        f\"Source=({state['source']['ra'][i]}, {state['source']['dec'][i]})\"\n",
    "    )"
   ]
  },
  {
   "cell_type": "markdown",
   "metadata": {},
   "source": [
    "We can combine the node-parameter references with functional nodes to perform actions such as sampling with noise.\n",
    "\n",
    "Here we generate the host's (RA, dec) from a uniform patch of the sky and then generate the source's (RA, dec) using a Gaussian distribution centered on the host's position. For each sample the host and source should be close, but not necessarily identical."
   ]
  },
  {
   "cell_type": "code",
   "execution_count": null,
   "metadata": {},
   "outputs": [],
   "source": [
    "host = ConstantSEDModel(\n",
    "    brightness=15.0,\n",
    "    ra=NumpyRandomFunc(\"uniform\", low=10.0, high=15.0),\n",
    "    dec=NumpyRandomFunc(\"uniform\", low=-10.0, high=10.0),\n",
    "    node_label=\"host\",\n",
    ")\n",
    "\n",
    "source = ConstantSEDModel(\n",
    "    brightness=100.0,\n",
    "    ra=NumpyRandomFunc(\"normal\", loc=host.ra, scale=0.1),\n",
    "    dec=NumpyRandomFunc(\"normal\", loc=host.dec, scale=0.1),\n",
    "    node_label=\"source\",\n",
    ")\n",
    "state = source.sample_parameters(num_samples=10)\n",
    "\n",
    "ax = plt.figure().add_subplot()\n",
    "ax.plot(state[\"host\"][\"ra\"], state[\"host\"][\"dec\"], \"b.\")\n",
    "ax.plot(state[\"source\"][\"ra\"], state[\"source\"][\"dec\"], \"r.\")\n",
    "\n",
    "for i in range(5):\n",
    "    print(\n",
    "        f\"{i}: Host=({state['host']['ra'][i]}, {state['host']['dec'][i]})    \"\n",
    "        f\"Source=({state['source']['ra'][i]}, {state['source']['dec'][i]})\"\n",
    "    )"
   ]
  },
  {
   "cell_type": "markdown",
   "metadata": {},
   "source": [
    "Again we can access all the information for a single sample. Here we see the full state tracked by the system. In addition to the `host` and `source` nodes we created, the information for the functional nodes is tracked."
   ]
  },
  {
   "cell_type": "code",
   "execution_count": null,
   "metadata": {},
   "outputs": [],
   "source": [
    "single_sample = state.extract_single_sample(0)\n",
    "print(str(single_sample))"
   ]
  },
  {
   "cell_type": "markdown",
   "metadata": {},
   "source": [
    "It is interesting to note that functional nodes themselves are parameterized nodes, allowing for more complex forms of chaining. For example we could set the `low` parameter from one of the `NumpyRandomFunc`s from another function node. This allows us to specify priors and comlex distributions."
   ]
  },
  {
   "cell_type": "markdown",
   "metadata": {},
   "source": [
    "Similarly we can now make the input parameters of one node depend on a function of parameters from other nodes. We can arbitrarily chain the computations."
   ]
  },
  {
   "cell_type": "code",
   "execution_count": null,
   "metadata": {},
   "outputs": [],
   "source": [
    "# Create a host galaxy with a random brightness.\n",
    "host = ConstantSEDModel(\n",
    "    brightness=NumpyRandomFunc(\"uniform\", low=1.0, high=5.0),\n",
    "    node_label=\"host\",\n",
    ")\n",
    "\n",
    "# Create the brightness of the source as a uniformly sampled foreground brightness\n",
    "# added to the 80% of the host's brightness (background).\n",
    "source_brightness = BasicMathNode(\n",
    "    \"0.8 * val1 + val2\",\n",
    "    val1=host.brightness,\n",
    "    val2=NumpyRandomFunc(\"uniform\", low=1.0, high=2.0),\n",
    "    node_label=\"plus_80percent\",\n",
    ")\n",
    "\n",
    "source = ConstantSEDModel(\n",
    "    brightness=source_brightness,\n",
    "    node_label=\"source\",\n",
    ")\n",
    "state = source.sample_parameters(num_samples=10)\n",
    "print(f\"Host Brightness: {state['host']['brightness']}\")\n",
    "print(f\"Source Brightness: {state['source']['brightness']}\")"
   ]
  },
  {
   "cell_type": "markdown",
   "metadata": {},
   "source": [
    "The state is used within the `evaluate_sed()` function to generate the flux densities."
   ]
  },
  {
   "cell_type": "code",
   "execution_count": null,
   "metadata": {},
   "outputs": [],
   "source": [
    "time = np.arange(0, 10, 0.1)\n",
    "waves = np.array([1000.0, 2000.0])\n",
    "fluxes = source.evaluate_sed(time, waves, state)\n",
    "print(f\"Generated {fluxes.shape} fluxes (samples x times x wavelengths).\")\n",
    "\n",
    "# Plot the the flux for sample=0 and wavelength=1000.0.\n",
    "plt.plot(time, fluxes[0, :, 0], \"k-\")\n",
    "plt.xlabel(\"Time (days)\")\n",
    "plt.ylabel(\"Flux (nJy)\")\n",
    "plt.title(\"Flux for sample=0 and wavelength=1000.0\")\n",
    "plt.show()"
   ]
  },
  {
   "cell_type": "markdown",
   "metadata": {},
   "source": [
    "## MultiObjectModels\n",
    "\n",
    "We expect that many users will want to simulate fluxes produced by a combination of objects, such as a supernova and its host galaxy.  LightCurveLynx provides the `AdditiveMultiObjectModel` for computing such combinations. The flux produced by the model is the (weighted) sum of fluxes from the individual sources.\n",
    "\n",
    "Each underlying model in the `AdditiveMultiObjectModel` separately applies rest frame effects to its component flux. This allows users to model unresolved objects at different distances (with different redshifts or dust extinctions).  All observer frame effects are applied to the summed fluxes for consistency."
   ]
  },
  {
   "cell_type": "code",
   "execution_count": null,
   "metadata": {},
   "outputs": [],
   "source": [
    "from lightcurvelynx.models.basic_models import SinWaveModel\n",
    "from lightcurvelynx.models.multi_object_model import AdditiveMultiObjectModel\n",
    "\n",
    "# We model the host as a galaxy with a random brightness and position.\n",
    "host = ConstantSEDModel(\n",
    "    brightness=NumpyRandomFunc(\"normal\", loc=10.0, scale=1.0),\n",
    "    ra=NumpyRandomFunc(\"uniform\", low=10.0, high=15.0),\n",
    "    dec=NumpyRandomFunc(\"uniform\", low=-10.0, high=10.0),\n",
    "    node_label=\"host\",\n",
    ")\n",
    "\n",
    "# We model the source as a sine wave with a given frequency and amplitude.\n",
    "source = SinWaveModel(\n",
    "    brightness=1.0,\n",
    "    amplitude=1.0,\n",
    "    frequency=0.5,\n",
    "    ra=NumpyRandomFunc(\"normal\", loc=host.ra, scale=0.1),\n",
    "    dec=NumpyRandomFunc(\"normal\", loc=host.dec, scale=0.1),\n",
    "    t0=0.0,\n",
    "    node_label=\"sin_wave_source\",\n",
    ")\n",
    "\n",
    "# We combine the host and source into a multi-source model and sample it.\n",
    "combined = AdditiveMultiObjectModel(\n",
    "    objects=[host, source],\n",
    "    node_label=\"combined_model\",\n",
    ")\n",
    "state = combined.sample_parameters(num_samples=1)\n",
    "print(state)"
   ]
  },
  {
   "cell_type": "code",
   "execution_count": null,
   "metadata": {},
   "outputs": [],
   "source": [
    "# Evaluate and generate the fluxes from the combined model for a\n",
    "# single wavelength parameter sample.\n",
    "time = np.arange(0, 10, 0.1)\n",
    "fluxes = combined.evaluate_sed(time, np.array([1000.0]), state)\n",
    "\n",
    "# Plot the the flux for sample=0 and wavelength=1000.0.\n",
    "plt.plot(time, fluxes[:, 0], \"k-\")\n",
    "plt.xlabel(\"Time (days)\")\n",
    "plt.ylabel(\"Flux (nJy)\")\n",
    "plt.title(\"Flux for combined model\")\n",
    "plt.show()"
   ]
  }
 ],
 "metadata": {
  "kernelspec": {
   "display_name": "lightcurvelynx",
   "language": "python",
   "name": "python3"
  },
  "language_info": {
   "codemirror_mode": {
    "name": "ipython",
    "version": 3
   },
   "file_extension": ".py",
   "mimetype": "text/x-python",
   "name": "python",
   "nbconvert_exporter": "python",
   "pygments_lexer": "ipython3",
   "version": "3.10.4"
  }
 },
 "nbformat": 4,
 "nbformat_minor": 2
}

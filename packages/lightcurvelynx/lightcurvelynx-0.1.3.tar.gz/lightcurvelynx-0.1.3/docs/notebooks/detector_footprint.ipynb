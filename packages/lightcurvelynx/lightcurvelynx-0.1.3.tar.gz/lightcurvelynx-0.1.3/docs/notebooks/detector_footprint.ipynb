{
 "cells": [
  {
   "cell_type": "markdown",
   "id": "b93e472d",
   "metadata": {},
   "source": [
    "# Detector Footprints\n",
    "\n",
    "In this tutorial we look at the basics of specifying detector footprints. Detector footprints provide templates for filtering which objects are seen in a given pointing. As such we will need to provide both the information about the query point and the survey pointing itself.\n",
    "\n",
    "Detector footprints are defined by AstroPy regions."
   ]
  },
  {
   "cell_type": "code",
   "execution_count": null,
   "id": "652fdc71",
   "metadata": {},
   "outputs": [],
   "source": [
    "import matplotlib.pyplot as plt\n",
    "import numpy as np\n",
    "\n",
    "from astropy import units as u\n",
    "from astropy.coordinates import SkyCoord\n",
    "from regions import CirclePixelRegion, PixCoord, RectanglePixelRegion, RectangleSkyRegion\n",
    "\n",
    "from lightcurvelynx.astro_utils.detector_footprint import DetectorFootprint"
   ]
  },
  {
   "cell_type": "markdown",
   "id": "8dd0a2ee",
   "metadata": {},
   "source": [
    "## DetectorFootprint Class\n",
    "\n",
    "The `DetectorFootprint` class is a wrapper around the AstroPy region that handles data validation, handles transformations, and provides helper functions. Most users will not need to work with the `DetectorFootprint` directly as the wrapping will be handled automatically by the `ObsTable`.\n",
    "\n",
    "We start by defining a rectangular footprint with a width of 2 degrees and a height of 1 degree. In addition to the shape information, the user needs to pass in either the wcs or pixel scale (in arcseconds per pixel)."
   ]
  },
  {
   "cell_type": "code",
   "execution_count": null,
   "id": "9310e49a",
   "metadata": {},
   "outputs": [],
   "source": [
    "center = SkyCoord(ra=0.0, dec=0.0, unit=\"deg\", frame=\"icrs\")\n",
    "rect_region = RectangleSkyRegion(center=center, width=2.0 * u.deg, height=1.0 * u.deg, angle=0.0 * u.deg)\n",
    "\n",
    "fp = DetectorFootprint(rect_region, pixel_scale=10.0)"
   ]
  },
  {
   "cell_type": "markdown",
   "id": "ca0a7505",
   "metadata": {},
   "source": [
    "### Plotting\n",
    "\n",
    "We can plot the footprint with the `plot` command.  This plots the footprint of the detector in pixel space."
   ]
  },
  {
   "cell_type": "code",
   "execution_count": null,
   "id": "75a0fcdf",
   "metadata": {},
   "outputs": [],
   "source": [
    "fp.plot()"
   ]
  },
  {
   "cell_type": "markdown",
   "id": "3e9d5b01",
   "metadata": {},
   "source": [
    "In many cases users will be interested in seeing the footprint in the context of points on the sky. Since the footprint itself is defined without respect to position on the sky, we have to pass in the detector’s location (center RA, center dec, and rotation) as well as the sample points we want to include.\n",
    "\n",
    "Let’s look at a rectangular detector centered on RA=20.0 and dec=10.0 with a 30 degree clockwise rotation."
   ]
  },
  {
   "cell_type": "code",
   "execution_count": null,
   "id": "d1cafd74",
   "metadata": {},
   "outputs": [],
   "source": [
    "ra_points = []\n",
    "dec_points = []\n",
    "for ra in np.linspace(18, 22, 20):\n",
    "    for dec in np.linspace(8, 12, 20):\n",
    "        ra_points.append(ra)\n",
    "        dec_points.append(dec)\n",
    "ra_points = np.array(ra_points)\n",
    "dec_points = np.array(dec_points)\n",
    "\n",
    "ax = fp.plot(\n",
    "    center_ra=20.0,\n",
    "    center_dec=10.0,\n",
    "    rotation=30.0,\n",
    "    point_ra=ra_points,\n",
    "    point_dec=dec_points,\n",
    ")"
   ]
  },
  {
   "cell_type": "markdown",
   "id": "cba4088b",
   "metadata": {},
   "source": [
    "### Querying\n",
    "\n",
    "The code uses the same notation for querying whether a point is within the footprint. Unlike plotting, we might which to query multiple pointings (with different center locations and rotations) at once. The `contains` function can take a vector of center points and rotations. All arrays must be the same length."
   ]
  },
  {
   "cell_type": "code",
   "execution_count": null,
   "id": "334d1bb4",
   "metadata": {},
   "outputs": [],
   "source": [
    "# The query points alternate between (20, 10) and (25, 10).\n",
    "query_ra = np.array([20.0, 25.0, 20.0, 25.0])\n",
    "query_dec = np.array([10.0, 10.0, 10.0, 10.0])\n",
    "\n",
    "# The survey pointings alternate between (20, 10) and (10, 10).\n",
    "# No rotation is applied.\n",
    "pointing_ra = np.array([20.0, 20.0, 10.0, 10.0])\n",
    "pointing_dec = np.array([10.0, 10.0, 10.0, 10.0])\n",
    "\n",
    "contains = fp.contains(query_ra, query_dec, pointing_ra, pointing_dec)\n",
    "print(contains)"
   ]
  },
  {
   "cell_type": "markdown",
   "id": "6c673f91",
   "metadata": {},
   "source": [
    "As we see the first point falls within the footprint, but the remaining points do not.  Let’s look again at our rectangular detector centered on RA=20.0 and dec=10.0 with a 30 degree clockwise rotation."
   ]
  },
  {
   "cell_type": "code",
   "execution_count": null,
   "id": "3e2c17ae",
   "metadata": {},
   "outputs": [],
   "source": [
    "ax = plt.subplot(111)\n",
    "\n",
    "# Use the footprints to label the points.\n",
    "inside = fp.contains(\n",
    "    ra_points,\n",
    "    dec_points,\n",
    "    center_ra=20.0,\n",
    "    center_dec=10.0,\n",
    "    rotation=30.0,\n",
    ")\n",
    "\n",
    "ax.scatter(ra_points[~inside], dec_points[~inside], color=\"red\", marker=\"x\", label=\"Outside Footprint\")\n",
    "ax.scatter(ra_points[inside], dec_points[inside], color=\"green\", marker=\"o\", label=\"Inside Footprint\")\n",
    "ax.legend()\n",
    "ax.set_xlabel(\"RA (degrees)\")\n",
    "ax.set_ylabel(\"Dec (degrees)\")\n",
    "ax.set_aspect(\"equal\")\n",
    "\n",
    "plt.show()"
   ]
  },
  {
   "cell_type": "markdown",
   "id": "026ed8cc",
   "metadata": {},
   "source": [
    "## More Complex Detectors\n",
    "\n",
    "The `DetectorFootprint` class can support any region that can be represented as a AstroPy Region. Let’s consider the union of two shapes."
   ]
  },
  {
   "cell_type": "code",
   "execution_count": null,
   "id": "9fd281af",
   "metadata": {},
   "outputs": [],
   "source": [
    "region1 = RectanglePixelRegion(center=PixCoord(x=-50, y=0), width=20, height=31, angle=0.0 * u.deg)\n",
    "region2 = CirclePixelRegion(center=PixCoord(x=50, y=10), radius=15)\n",
    "region3 = RectanglePixelRegion(center=PixCoord(x=0, y=-30), width=41, height=5, angle=0.0 * u.deg)\n",
    "combined_region = region1 | region2 | region3\n",
    "\n",
    "fp_combined = DetectorFootprint(combined_region, pixel_scale=0.5 * 3600.0)"
   ]
  },
  {
   "cell_type": "code",
   "execution_count": null,
   "id": "ba15a590",
   "metadata": {},
   "outputs": [],
   "source": [
    "ra_points = []\n",
    "dec_points = []\n",
    "for ra in np.linspace(-50, 50, 100):\n",
    "    for dec in np.linspace(-40, 40, 80):\n",
    "        ra_points.append(ra)\n",
    "        dec_points.append(dec)\n",
    "ra_points = np.array(ra_points)\n",
    "dec_points = np.array(dec_points)\n",
    "\n",
    "ax = plt.subplot(111)\n",
    "\n",
    "# Use the footprints to label the points.\n",
    "inside = fp_combined.contains(\n",
    "    ra_points,\n",
    "    dec_points,\n",
    "    center_ra=0.0,\n",
    "    center_dec=0.0,\n",
    ")\n",
    "\n",
    "ax.scatter(ra_points[~inside], dec_points[~inside], color=\"red\", marker=\"x\", label=\"Outside Footprint\")\n",
    "ax.scatter(ra_points[inside], dec_points[inside], color=\"green\", marker=\"o\", label=\"Inside Footprint\")\n",
    "ax.legend()\n",
    "ax.set_xlabel(\"RA (degrees)\")\n",
    "ax.set_ylabel(\"Dec (degrees)\")\n",
    "ax.set_aspect(\"equal\")"
   ]
  }
 ],
 "metadata": {
  "kernelspec": {
   "display_name": "lightcurvelynx",
   "language": "python",
   "name": "python3"
  },
  "language_info": {
   "codemirror_mode": {
    "name": "ipython",
    "version": 3
   },
   "file_extension": ".py",
   "mimetype": "text/x-python",
   "name": "python",
   "nbconvert_exporter": "python",
   "pygments_lexer": "ipython3",
   "version": "3.10.4"
  }
 },
 "nbformat": 4,
 "nbformat_minor": 5
}

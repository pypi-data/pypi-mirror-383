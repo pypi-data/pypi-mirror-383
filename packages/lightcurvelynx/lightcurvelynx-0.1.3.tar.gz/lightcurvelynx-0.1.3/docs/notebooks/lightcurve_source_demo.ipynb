{
 "cells": [
  {
   "cell_type": "markdown",
   "id": "e5b7a501",
   "metadata": {},
   "source": [
    "# LightcurveTemplateModel Demo\n",
    "\n",
    "The `LightcurveTemplateModel` model is designed to replicate given light curves in specific bands. It is specified as a separate light curve for each passband. In this notebook we provide an introductory demo to setting up and using the `LightcurveTemplateModel` model.\n",
    "\n",
    "## Setup"
   ]
  },
  {
   "cell_type": "code",
   "execution_count": null,
   "id": "463f4ed7",
   "metadata": {},
   "outputs": [],
   "source": [
    "import matplotlib.pyplot as plt\n",
    "import numpy as np\n",
    "\n",
    "from lightcurvelynx.astro_utils.passbands import PassbandGroup\n",
    "from lightcurvelynx.consts import lsst_filter_plot_colors\n",
    "from lightcurvelynx.models.lightcurve_template_model import (\n",
    "    LightcurveData,\n",
    "    LightcurveTemplateModel,\n",
    "    MultiLightcurveTemplateModel,\n",
    ")"
   ]
  },
  {
   "cell_type": "markdown",
   "id": "d5098537",
   "metadata": {},
   "source": [
    "We start be loading the passbands that we will use to define the model. In this case we use the passbands from the LSST preset (but use a cached local version in the test directory to avoid a download). In most cases users will want to use `data/passbands/` from the root directory."
   ]
  },
  {
   "cell_type": "code",
   "execution_count": null,
   "id": "71aa0508",
   "metadata": {},
   "outputs": [],
   "source": [
    "# Use a (possibly older) cached version of the passbands to avoid downloading them.\n",
    "table_dir = \"../../tests/lightcurvelynx/data/passbands\"\n",
    "passband_group = PassbandGroup.from_preset(preset=\"LSST\", table_dir=table_dir)\n",
    "filters = passband_group.filters\n",
    "print(passband_group)\n",
    "\n",
    "wavelengths = passband_group.waves\n",
    "min_wave, max_wave = passband_group.wave_bounds()\n",
    "print(f\"Wavelengths range [{min_wave}, {max_wave}]\")\n",
    "\n",
    "passband_group.plot()"
   ]
  },
  {
   "cell_type": "markdown",
   "id": "6b6db695",
   "metadata": {},
   "source": [
    "## Creating the model\n",
    "\n",
    "We create the model from light curves for each passbands of interest. This is what we want the model to reproduce then we call `evaluate_bandfluxes()`. While these light curves do no need to be the same as in the `PassbandGroup` every light curve must have a corresponding entry in the `PassbandGroup`.\n",
    "\n",
    "The times of a light curve are defined relative to a reference epoch. In some cases the reference epoch will be the first time in the input data, indicating that the light curve starts at the first data point. In other cases users might want to set the reference epoch as the actual start of the event in the light curve or the peak of the event. It will depend on what is being simulated.\n",
    "\n",
    "For simplicity of the demo, we create each curve as a randomly parameterized sin wave.  Note that the times for all the light curves do not need to be the same."
   ]
  },
  {
   "cell_type": "code",
   "execution_count": null,
   "id": "173d88fd",
   "metadata": {},
   "outputs": [],
   "source": [
    "num_times = 100\n",
    "times = np.linspace(0, 20, num_times)\n",
    "\n",
    "lightcurves = {}\n",
    "for filter in filters:\n",
    "    amp = 5.0 * np.random.random() + 1.0\n",
    "    flux_offset = np.random.random() * 25 + 10\n",
    "    time_offset = np.random.random() * 10\n",
    "    filter_flux = amp * np.sin(times + time_offset) + flux_offset\n",
    "    print(f\"Filter {filter}: {amp:.2f} * sin(t + {time_offset:.2f}) + {flux_offset:.2f}\")\n",
    "\n",
    "    lightcurves[filter] = np.array([times + time_offset, filter_flux]).T"
   ]
  },
  {
   "cell_type": "code",
   "execution_count": null,
   "id": "8bd002c7",
   "metadata": {},
   "outputs": [],
   "source": [
    "# Plot the light curves\n",
    "figure = plt.figure()\n",
    "ax = figure.add_axes([0, 0, 1, 1])\n",
    "for filter, lightcurve in lightcurves.items():\n",
    "    color = lsst_filter_plot_colors.get(filter, \"black\")\n",
    "    ax.plot(lightcurve[:, 0], lightcurve[:, 1], color=color, label=filter)"
   ]
  },
  {
   "cell_type": "markdown",
   "id": "188eba77",
   "metadata": {},
   "source": [
    "We then create the model from the dictionary of light curve information. \n",
    "\n",
    "In addition to the light curve data itself, the model also needs to know:\n",
    "\n",
    "  * `t0` - The survey date (e.g. in MJD) that corresponds to the model’s reference epoch.\n",
    "  * `lc_data_t0` - The time stamp of the input data (`lightcurves`) specifying the model’s reference epoch. If the survey made an observation at time `t0`, it would measure the band flux corresponding to the `lc_data_t0` timestamp.\n",
    "\n",
    "The difference between `lc_data_t0` and `t0` is needed due to how the data can be provided. For example we could read in simulated supernova curve that starts at MJD 59534.5, but latter simulate the same light curve starting at `t0`=63426.0. In this case we would need to set `lc_data_t0`=59534.5 to indicate that our supernova light curve starts then (alternative we could use a later time if we want the reference epoch to correspond to the peak of the light curve). We would set `t0`=63426.0 to indicate that this is where we want to add the light curve to the *new* simulation."
   ]
  },
  {
   "cell_type": "code",
   "execution_count": null,
   "id": "f81cfd42",
   "metadata": {},
   "outputs": [],
   "source": [
    "model = LightcurveTemplateModel(lightcurves, passband_group, lc_data_t0=0.0, t0=0.0)"
   ]
  },
  {
   "cell_type": "markdown",
   "id": "c2281f9e",
   "metadata": {},
   "source": [
    "If we plot the underlying light curves we can see they matched the provided ones. Note that by definition non-periodic light curves drop to 0.0 outside their range. Later we will see how to set a baseline value."
   ]
  },
  {
   "cell_type": "code",
   "execution_count": null,
   "id": "0c7e8516",
   "metadata": {},
   "outputs": [],
   "source": [
    "plot_times = np.linspace(-5, 30, 100)\n",
    "model.plot_lightcurves(times=plot_times)"
   ]
  },
  {
   "cell_type": "markdown",
   "id": "1dd6157b",
   "metadata": {},
   "source": [
    "As described above, the *reference epoch* of a light curve indicates the time stamp from the incoming data that should correspond to the model's `t0`. For example, if we set the reference epoch of the model to 2.0 the light curve will be shifted to the *left* so that a query time of 0.0 corresponds to the input data's time stamp of 2.0."
   ]
  },
  {
   "cell_type": "code",
   "execution_count": null,
   "id": "5f270b49",
   "metadata": {},
   "outputs": [],
   "source": [
    "model_shifted = LightcurveTemplateModel(lightcurves, passband_group, lc_data_t0=2.0, t0=0.0)\n",
    "model_shifted.plot_lightcurves(times=plot_times)"
   ]
  },
  {
   "cell_type": "markdown",
   "id": "c21e6520",
   "metadata": {},
   "source": [
    "## Generating Bandfluxes\n",
    "\n",
    "We evaluate the `LightcurveTemplateModel` model the same way we evaltuate any source model with functions such as `evaluate_sed()`, `sample_parameters()`, and `evaluate_bandfluxes()`. This model was specifically designed for the `evaluate_bandfluxes()` function, so we explore that below.\n",
    "\n",
    "Specifically, because the models are defined at the filter level, we do not need to generate the underlying SEDs and integrate with the filters’ passbands. Instead the `LightcurveTemplateModel` object will compute the band fluxes directly from the underlying curves.\n",
    "\n",
    "The `evaluate_bandfluxes()` function requires two arrays to determine how the source was observed: an array of times at which the observations occurred and a corresponding array of filters in which the observation was made.\n",
    "\n",
    "![Example input and output to evaluate_bandfluxes](../_static/GetBandFluxes.png \"The input and output of evaluate_bandfluxes()\")\n",
    "\n",
    "Let's model a sequence of observations in the g and r filters only."
   ]
  },
  {
   "cell_type": "code",
   "execution_count": null,
   "id": "9498659c",
   "metadata": {},
   "outputs": [],
   "source": [
    "# The state is not used since we do not have any random parameters, but we need it for evaluate_bandfluxes().\n",
    "state = model.sample_parameters(num_samples=1)\n",
    "\n",
    "# Create query times over the middle of the range. Make 3/4 of them r and the rest g.\n",
    "query_times = np.linspace(-10, 40, 500)\n",
    "query_filters = np.array([\"g\" if int(t) % 4 == 0 else \"r\" for t in query_times])\n",
    "\n",
    "# Get the fluxes for the query times and filters\n",
    "flux = model.evaluate_bandfluxes(passband_group, query_times, query_filters, state)"
   ]
  },
  {
   "cell_type": "code",
   "execution_count": null,
   "id": "bf65595e",
   "metadata": {},
   "outputs": [],
   "source": [
    "def print_fluxes(query_times, query_filters, flux):\n",
    "    \"\"\"Display the fluxes for the given query times and filters.\n",
    "\n",
    "    Parameters\n",
    "    ----------\n",
    "    query_times : np.ndarray\n",
    "        The times at which the fluxes are queried.\n",
    "    query_filters : np.ndarray\n",
    "        The filters corresponding to the query times.\n",
    "    flux : np.ndarray\n",
    "        The flux values for the query times and filters.\n",
    "    \"\"\"\n",
    "    # Plot the fluxes\n",
    "    figure = plt.figure()\n",
    "    ax = figure.add_axes([0, 0, 1, 1])\n",
    "    for filter in [\"g\", \"r\"]:\n",
    "        mask = query_filters == filter\n",
    "        color = lsst_filter_plot_colors.get(filter, \"black\")\n",
    "        label = f\"Observation in {filter}\"\n",
    "        ax.plot(query_times[mask], flux[mask], color=color, label=label, linewidth=0, marker=\".\")\n",
    "\n",
    "    ax.set_xlabel(\"Time\")\n",
    "    ax.set_ylabel(\"Flux\")\n",
    "    ax.legend()\n",
    "    plt.show()\n",
    "\n",
    "\n",
    "print_fluxes(query_times, query_filters, flux)"
   ]
  },
  {
   "cell_type": "markdown",
   "id": "6fd6fb03",
   "metadata": {},
   "source": [
    "## Setting Background Fluxes\n",
    "\n",
    "For some light curves we might not want the default value to be 0.0. For example a variable star might have the value of 100.0 when active and 50.0 when inactive. We can set a baseline value for light curves using the `baseline` parameter.  This parameter takes a dictionary mapping the filter name to the baseline value."
   ]
  },
  {
   "cell_type": "code",
   "execution_count": null,
   "id": "5ca533fa",
   "metadata": {},
   "outputs": [],
   "source": [
    "baseline = {\n",
    "    \"u\": 0.0,\n",
    "    \"g\": 10.0,\n",
    "    \"r\": 20.0,\n",
    "    \"i\": 30.0,\n",
    "    \"z\": 40.0,\n",
    "    \"y\": 50.0,\n",
    "}\n",
    "\n",
    "model = LightcurveTemplateModel(lightcurves, passband_group, lc_data_t0=0.0, t0=0.0, baseline=baseline)"
   ]
  },
  {
   "cell_type": "code",
   "execution_count": null,
   "id": "d1bc7308",
   "metadata": {},
   "outputs": [],
   "source": [
    "# Evaluate the new model and plot the fluxes\n",
    "state = model.sample_parameters(num_samples=1)\n",
    "flux = model.evaluate_bandfluxes(passband_group, query_times, query_filters, state)\n",
    "print_fluxes(query_times, query_filters, flux)"
   ]
  },
  {
   "cell_type": "markdown",
   "id": "e0116160",
   "metadata": {},
   "source": [
    "## Periodic Models\n",
    "\n",
    "LightcurveTemplateModel supports both periodic and non-periodic lightcurves. Periodic models require that each filter's lightcurve is sampled at the same time and that the value at the end of the lightcurve is equal to the value at the start of the lightcurve. The lightcurve epoch (lc_t0) is automatically set to the first time so that the t0 parameter corresponds to the shift in phase."
   ]
  },
  {
   "cell_type": "code",
   "execution_count": null,
   "id": "1506e5f5",
   "metadata": {},
   "outputs": [],
   "source": [
    "num_times = 100\n",
    "times = np.linspace(0, 2.0 * np.pi, num_times)\n",
    "\n",
    "lightcurves = {}\n",
    "for filter in filters:\n",
    "    amp = 5.0 * np.random.random() + 1.0\n",
    "    flux_offset = np.random.random() * 25 + 10\n",
    "    phase_offset = np.random.random() * 10\n",
    "    filter_flux = amp * np.sin(times + phase_offset) + flux_offset\n",
    "    print(f\"Filter {filter}: {amp:.2f} * sin(t + {phase_offset:.2f}) + {flux_offset:.2f}\")\n",
    "\n",
    "    lightcurves[filter] = np.array([times, filter_flux]).T\n",
    "\n",
    "model = LightcurveTemplateModel(lightcurves, passband_group, lc_data_t0=0.0, t0=0.0, periodic=True)\n",
    "model.plot_lightcurves()"
   ]
  },
  {
   "cell_type": "code",
   "execution_count": null,
   "id": "1714a4df",
   "metadata": {},
   "outputs": [],
   "source": [
    "# Evaluate the new model and plot the fluxes\n",
    "state = model.sample_parameters(num_samples=1)\n",
    "flux = model.evaluate_bandfluxes(passband_group, query_times, query_filters, state)\n",
    "print_fluxes(query_times, query_filters, flux)"
   ]
  },
  {
   "cell_type": "markdown",
   "id": "9e1e0f54",
   "metadata": {},
   "source": [
    "## Multi-Lightcurve Models\n",
    "\n",
    "Users can also load in a series of light curves and randomly sample which light curve to use for each evaluation.  The `MultiLightcurveTemplateModel` class takes in a list of `LightcurveData` with information about each light curve's time range, values, periodicity, etc.\n",
    "\n",
    "Unlike the `LightcurveTemplateModel` class, the `MultiLightcurveTemplateModel` class requires the user to provide the input as prepackaged `LightcurveData` objects.  Here we create source that randomly samples from two light curves. The first is a non-periodic light curve in u and g.  The second is a periodic light curve in r and g.  We provide weights so second light curve is more likely to be sampled than the first."
   ]
  },
  {
   "cell_type": "code",
   "execution_count": null,
   "id": "4b329423",
   "metadata": {},
   "outputs": [],
   "source": [
    "# Lightcurve 1 is non-periodic and covers u and g.\n",
    "lc1_times = np.arange(0.0, 10.5, 0.5)\n",
    "lc1_lightcurves = {\n",
    "    \"u\": np.array([lc1_times + 0.1, 2.0 * np.ones_like(lc1_times)]).T,\n",
    "    \"g\": np.array([lc1_times, 3.0 * np.ones_like(lc1_times)]).T,\n",
    "}\n",
    "lc1_data = LightcurveData(lc1_lightcurves, lc_data_t0=0.0, baseline={\"u\": 0.1, \"g\": 0.2})\n",
    "\n",
    "# Lightcurve 2 is periodic and covers r and g.\n",
    "lc2_times = np.arange(0.0, 19.0, 1.0)\n",
    "lc2_lightcurves = {\n",
    "    \"r\": np.array([lc2_times, lc2_times % 2]).T,\n",
    "    \"g\": np.array([lc2_times, lc2_times % 2 + 0.5]).T,\n",
    "}\n",
    "lc2_data = LightcurveData(lc2_lightcurves, lc_data_t0=0.0, periodic=True)\n",
    "\n",
    "# Create the MultiLightcurveTemplateModel with both light curves.\n",
    "source = MultiLightcurveTemplateModel(\n",
    "    [lc1_data, lc2_data],\n",
    "    passband_group,\n",
    "    weights=[0.3, 0.7],\n",
    "    t0=0.0,\n",
    "    node_label=\"source\",\n",
    ")"
   ]
  },
  {
   "cell_type": "markdown",
   "id": "93ab1b58",
   "metadata": {},
   "source": [
    "The light curve choosen for each evaluation is stored in the `selected_lightcurve` parameter."
   ]
  },
  {
   "cell_type": "code",
   "execution_count": null,
   "id": "21fc8728",
   "metadata": {},
   "outputs": [],
   "source": [
    "state = source.sample_parameters(num_samples=10)\n",
    "print(f\"selected_lightcurve: {state['source']['selected_lightcurve']}\")"
   ]
  }
 ],
 "metadata": {
  "kernelspec": {
   "display_name": "lightcurvelynx",
   "language": "python",
   "name": "python3"
  },
  "language_info": {
   "codemirror_mode": {
    "name": "ipython",
    "version": 3
   },
   "file_extension": ".py",
   "mimetype": "text/x-python",
   "name": "python",
   "nbconvert_exporter": "python",
   "pygments_lexer": "ipython3",
   "version": "3.10.4"
  }
 },
 "nbformat": 4,
 "nbformat_minor": 5
}

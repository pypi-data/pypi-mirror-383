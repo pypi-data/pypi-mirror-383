{
 "cells": [
  {
   "cell_type": "markdown",
   "metadata": {},
   "source": [
    "# Time Varying EffectModels\n",
    "\n",
    "The impact of an `EffectModel` can vary with time and wavelength (or filter). In this notebook, we show how to construct a basic time varying effect model.\n",
    "\n",
    "In this notebook we model a Gaussian activation function, such as we might see if the contribution of an object to the observed flux followed a Gaussian curve over time. For example we might have a high proper motion star whose contribution to the current field of view varies with time and PSF as it moves into and then out of the field of view. The percentage of its flux is determined by the Gaussian smearing of the PSF."
   ]
  },
  {
   "cell_type": "code",
   "execution_count": null,
   "metadata": {},
   "outputs": [],
   "source": [
    "import numpy as np\n",
    "import matplotlib.pyplot as plt\n",
    "\n",
    "from lightcurvelynx.effects.effect_model import EffectModel\n",
    "from lightcurvelynx.models.basic_models import ConstantSEDModel"
   ]
  },
  {
   "cell_type": "markdown",
   "metadata": {},
   "source": [
    "We start be defining our new effect model.  Below we only show the implementation for `apply()` which applies the effects to the SED. The code for `apply_bandflux()` would be almost identical.  Our new model inherits from the base effect model. "
   ]
  },
  {
   "cell_type": "code",
   "execution_count": null,
   "metadata": {},
   "outputs": [],
   "source": [
    "class GaussianActivation(EffectModel):\n",
    "    \"\"\"An effect that applies a Gaussian multiplier to the flux density.\n",
    "    This is primarily included as a demonstration of how to implement effects\n",
    "    that vary with time, but could be used to model a fast moving star that\n",
    "    moves through the field of view.\n",
    "\n",
    "    flux = flux * exp(-0.5 * ((time - t0) / decay) ** 2)\n",
    "\n",
    "    Attributes\n",
    "    ----------\n",
    "    t0 : parameter\n",
    "        The peak time of the effect (in days).\n",
    "    decay : parameter\n",
    "        The decay time of the effect (in days).\n",
    "    rest_frame : bool\n",
    "        Whether the effect is applied in the rest frame of the observation (True)\n",
    "        or in the observed frame (False).\n",
    "    \"\"\"\n",
    "\n",
    "    def __init__(self, t0, decay, rest_frame=True, **kwargs):\n",
    "        super().__init__(**kwargs)\n",
    "\n",
    "        # Define the effect's parameters. Note that these do not need to match\n",
    "        # the argument names. They should be chosen so that they do not overlap\n",
    "        # parameters within the model node (e.g. we can't use t0).\n",
    "        self.add_effect_parameter(\"gaussian_activation_t0\", t0)\n",
    "        self.add_effect_parameter(\"gaussian_activation_decay\", decay)\n",
    "\n",
    "        # Set the rest_frame parameter.\n",
    "        self.rest_frame = rest_frame\n",
    "\n",
    "    def apply(\n",
    "        self,\n",
    "        flux_density,\n",
    "        times=None,\n",
    "        wavelengths=None,\n",
    "        gaussian_activation_t0=None,\n",
    "        gaussian_activation_decay=None,\n",
    "        rng_info=None,\n",
    "        **kwargs,\n",
    "    ):\n",
    "        \"\"\"Apply the effect to observations (flux_density values).\n",
    "\n",
    "        Parameters\n",
    "        ----------\n",
    "        flux_density : numpy.ndarray\n",
    "            A length T X N matrix of flux density values (in nJy).\n",
    "        times : numpy.ndarray, optional\n",
    "            A length T array of times (in MJD). Not used for this effect.\n",
    "        wavelengths : numpy.ndarray, optional\n",
    "            A length N array of wavelengths (in angstroms). Not used for this effect.\n",
    "        gaussian_activation_t0 : float, optional\n",
    "            The peak time of the effect (in days). Raises an error if None is provided.\n",
    "        gaussian_activation_decay : float, optional\n",
    "            The decay time of the effect (in days). Raises an error if None is provided.\n",
    "        rng_info : numpy.random._generator.Generator, optional\n",
    "            A given numpy random number generator to use for this computation. If not\n",
    "            provided, the function uses the node's random number generator.\n",
    "        **kwargs : `dict`, optional\n",
    "           Any additional keyword arguments, including any additional\n",
    "           parameters needed to apply the effect.\n",
    "\n",
    "        Returns\n",
    "        -------\n",
    "        flux_density : numpy.ndarray\n",
    "            A length T x N matrix of flux densities after the effect is applied (in nJy).\n",
    "        \"\"\"\n",
    "        # Basic error checking to make sure we got values for the parameters we need.\n",
    "        if gaussian_activation_t0 is None or gaussian_activation_decay is None:\n",
    "            raise ValueError(\"gaussian_activation_t0 and gaussian_activation_decay must be provided\")\n",
    "        if times is None:\n",
    "            raise ValueError(\"times must be provided\")\n",
    "\n",
    "        # Compute the scale at each time and apply it.\n",
    "        scale = np.exp(-0.5 * ((times - gaussian_activation_t0) / gaussian_activation_decay) ** 2)\n",
    "        return flux_density * scale[:, np.newaxis]"
   ]
  },
  {
   "cell_type": "markdown",
   "metadata": {},
   "source": [
    "Now that we have an effect model, we can create a model object and apply the effect."
   ]
  },
  {
   "cell_type": "code",
   "execution_count": null,
   "metadata": {},
   "outputs": [],
   "source": [
    "model = ConstantSEDModel(brightness=100.0)\n",
    "model.add_effect(GaussianActivation(t0=5.0, decay=2.0))"
   ]
  },
  {
   "cell_type": "markdown",
   "metadata": {},
   "source": [
    "We then run a simulation on this compound object and plot the flux density at the first wavelength over our time range."
   ]
  },
  {
   "cell_type": "code",
   "execution_count": null,
   "metadata": {},
   "outputs": [],
   "source": [
    "times = np.arange(0.0, 20.5, 0.5)\n",
    "wavelengths = np.array([1000.0, 2000.0, 3000.0, 4000.0])\n",
    "flux_density = model.evaluate_sed(times=times, wavelengths=wavelengths)\n",
    "\n",
    "# Plot the first wavelength's flux density over time\n",
    "plt.plot(times, flux_density[:, 0])\n",
    "plt.xlabel(\"Time\")\n",
    "plt.ylabel(\"Flux\")\n",
    "plt.show()"
   ]
  }
 ],
 "metadata": {
  "kernelspec": {
   "display_name": "lightcurvelynx",
   "language": "python",
   "name": "python3"
  },
  "language_info": {
   "codemirror_mode": {
    "name": "ipython",
    "version": 3
   },
   "file_extension": ".py",
   "mimetype": "text/x-python",
   "name": "python",
   "nbconvert_exporter": "python",
   "pygments_lexer": "ipython3",
   "version": "3.10.4"
  }
 },
 "nbformat": 4,
 "nbformat_minor": 2
}

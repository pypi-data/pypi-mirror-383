{
 "cells": [
  {
   "cell_type": "markdown",
   "id": "f08fa6dd-d1ea-4725-a91d-e26139a5fed1",
   "metadata": {},
   "source": [
    "# BayeSN SNIa"
   ]
  },
  {
   "cell_type": "code",
   "execution_count": 1,
   "id": "a1c99653-2c0b-4c3a-a21e-3307f90fe5e2",
   "metadata": {},
   "outputs": [
    {
     "name": "stderr",
     "output_type": "stream",
     "text": [
      "2025-07-24 16:51:37,701 - INFO - Note: NumExpr detected 10 cores but \"NUMEXPR_MAX_THREADS\" not set, so enforcing safe limit of 8.\n",
      "2025-07-24 16:51:37,703 - INFO - NumExpr defaulting to 8 threads.\n"
     ]
    }
   ],
   "source": [
    "import numpy as np\n",
    "import matplotlib.pyplot as plt\n",
    "\n",
    "from lightcurvelynx.astro_utils.passbands import PassbandGroup\n",
    "from lightcurvelynx.astro_utils.pzflow_node import PZFlowNode\n",
    "from lightcurvelynx.astro_utils.snia_utils import (\n",
    "    DistModFromRedshift,\n",
    "    HostmassX1Func,\n",
    "    X0FromDistMod,\n",
    ")\n",
    "from lightcurvelynx.math_nodes.np_random import NumpyRandomFunc\n",
    "from lightcurvelynx.obstable.opsim import OpSim\n",
    "from lightcurvelynx.simulate import simulate_lightcurves\n",
    "from lightcurvelynx.models.sncomso_models import SncosmoWrapperModel\n",
    "from lightcurvelynx.models.snia_host import SNIaHost\n",
    "from lightcurvelynx.utils.plotting import plot_lightcurves\n",
    "\n",
    "from lightcurvelynx import _LIGHTCURVELYNX_BASE_DATA_DIR"
   ]
  },
  {
   "cell_type": "markdown",
   "id": "367df2dc-caef-4aa6-ab92-fc2833ddaa93",
   "metadata": {},
   "source": [
    "## Load Data Files\n",
    "\n",
    "We start by loading the files we will need for running the simulation: the OpSim database and the passband information. Both of these live in the `data/` directory in the root directory. Note that nothing in this directory is saved to github, so the files might have to be downloaded initially."
   ]
  },
  {
   "cell_type": "code",
   "execution_count": null,
   "id": "f3a36a1e-4865-489d-9c4b-8bc01d012862",
   "metadata": {},
   "outputs": [],
   "source": [
    "# Load the OpSim data.\n",
    "opsim_db = OpSim.from_db(_LIGHTCURVELYNX_BASE_DATA_DIR / \"baseline_v3.4_10yrs.db\")\n",
    "t_min, t_max = opsim_db.time_bounds()\n",
    "print(f\"Loaded OpSim with {len(opsim_db)} rows and times [{t_min}, {t_max}]\")\n",
    "\n",
    "# Load the passband data for the griz filters only.\n",
    "# Use a (possibly older) cached version of the passbands to avoid downloading them.\n",
    "table_dir = \"../../tests/lightcurvelynx/data/passbands\"\n",
    "passband_group = PassbandGroup(\n",
    "    preset=\"LSST\",\n",
    "    filters_to_load=[\"g\", \"r\", \"i\", \"z\"],\n",
    "    units=\"nm\",\n",
    "    trim_quantile=0.001,\n",
    "    delta_wave=1,\n",
    "    table_dir=table_dir,\n",
    ")\n",
    "# passband_group = PassbandGroup.from_preset(preset=\"LSST\", table_dir=table_dir)\n",
    "print(f\"Loaded Passbands: {passband_group}\")"
   ]
  },
  {
   "cell_type": "code",
   "execution_count": null,
   "id": "c1771d05-498b-40c8-a7b9-87c39b7088ce",
   "metadata": {},
   "outputs": [],
   "source": [
    "# Create a mask of matching filters.\n",
    "filter_mask = passband_group.mask_by_filter(opsim_db[\"filter\"])\n",
    "\n",
    "# Filter the OpSim\n",
    "opsim_db = opsim_db.filter_rows(filter_mask)\n",
    "t_min, t_max = opsim_db.time_bounds()\n",
    "print(f\"Filtered OpSim to {len(opsim_db)} rows and times [{t_min}, {t_max}]\")"
   ]
  },
  {
   "cell_type": "markdown",
   "id": "d40f7c1b-d804-4ada-b99c-9098a6689c04",
   "metadata": {},
   "source": [
    "## Create the model\n",
    "\n",
    "To generate simulationed light curves we need to define the proporties of the object from which to sample. We start by creating a host based on a pre-trained pzflow model."
   ]
  },
  {
   "cell_type": "code",
   "execution_count": null,
   "id": "7ab7429e-d3a2-49c8-a197-1363b12f5008",
   "metadata": {},
   "outputs": [],
   "source": [
    "# Load the Flow model into a PZFlow node. This gives access to all of the outputs of the\n",
    "# flow model as attributes of the PZFlowNode.\n",
    "pz_node = PZFlowNode.from_file(\n",
    "    _LIGHTCURVELYNX_BASE_DATA_DIR / \"model_files\" / \"snia_hosts_test_pzflow.pkl\",  # filename\n",
    "    node_label=\"pznode\",\n",
    ")\n",
    "\n",
    "# Create a model for the host of the SNIa. The attributes will be sampled via\n",
    "# the PZFlowNode's model. So each host instantiation will have its own properties.\n",
    "# Note: This requires the user to know the output names from the underlying flow model.\n",
    "host = SNIaHost(\n",
    "    ra=pz_node.RA_GAL,\n",
    "    dec=pz_node.DEC_GAL,\n",
    "    hostmass=pz_node.LOGMASS,\n",
    "    redshift=NumpyRandomFunc(\"uniform\", low=0.1, high=0.6),\n",
    "    node_label=\"host\",\n",
    ")"
   ]
  },
  {
   "cell_type": "markdown",
   "id": "5b971544-15fa-411f-8b13-92d84411c576",
   "metadata": {},
   "source": [
    "Here we define the Amplitude class with the purpose to create the distance modulus normalization factor to be added as a parameter to the bayesn model."
   ]
  },
  {
   "cell_type": "code",
   "execution_count": null,
   "id": "2cabb44f-10ed-4d7e-88a8-311255c3e870",
   "metadata": {},
   "outputs": [],
   "source": [
    "from lightcurvelynx.base_models import FunctionNode\n",
    "\n",
    "\n",
    "class AmplitudeFromDistMod(FunctionNode):\n",
    "    def __init__(self, distmod, m_abs, **kwargs):\n",
    "        # Call the super class's constructor with the needed information.\n",
    "        super().__init__(\n",
    "            func=self._amplitude_given_distmod,\n",
    "            distmod=distmod,\n",
    "            m_abs=m_abs,\n",
    "            **kwargs,\n",
    "        )\n",
    "\n",
    "    def _amplitude_given_distmod(self, distmod, m_abs):\n",
    "        \"\"\"Compute distance modulus given redshift and cosmology.\n",
    "\n",
    "        Parameters\n",
    "        ----------\n",
    "        distmod: float or numpy.ndarray\n",
    "            The distance modulus (in mag)\n",
    "        m_abs: float or numpy.ndarry\n",
    "            The absolute magnitude modulus (in mag)\n",
    "\n",
    "        Returns\n",
    "        -------\n",
    "        amplitude : float or numpy.ndarray\n",
    "            The distance modulus effect\n",
    "        \"\"\"\n",
    "        return np.power(10.0, -0.4 * (distmod + m_abs))"
   ]
  },
  {
   "cell_type": "markdown",
   "id": "43429e8e-ae79-49ef-913a-9fa1ad881a89",
   "metadata": {},
   "source": [
    "Next we create the SNIa model itself. We use bayeSN model with parameters randomly generated from realistic distributions.\n",
    "\n",
    "Note that some attributes, such as (RA, dec), are sampled relative to the host's properties."
   ]
  },
  {
   "cell_type": "code",
   "execution_count": null,
   "id": "929b6715-8185-4676-ac1e-1abdf763efa5",
   "metadata": {},
   "outputs": [],
   "source": [
    "bayesian_model_name = \"bayesnModel\"\n",
    "distmod_func = DistModFromRedshift(host.redshift, H0=73.0, Omega_m=0.3)\n",
    "m_abs_func = NumpyRandomFunc(\"normal\", loc=-19.3, scale=0.1)\n",
    "amplitude_func = AmplitudeFromDistMod(distmod_func, m_abs_func)\n",
    "source = BayesnModel(\n",
    "    theta=NumpyRandomFunc(\"uniform\", low=-1.74, high=2.10),\n",
    "    Av=NumpyRandomFunc(\"uniform\", low=0.01, high=0.3),\n",
    "    Rv=NumpyRandomFunc(\"uniform\", low=3, high=3),\n",
    "    t0=NumpyRandomFunc(\"uniform\", low=t_min, high=t_max),\n",
    "    ra=NumpyRandomFunc(\"normal\", loc=host.ra, scale=0.01),\n",
    "    dec=NumpyRandomFunc(\"normal\", loc=host.dec, scale=0.01),\n",
    "    redshift=host.redshift,\n",
    "    node_label=\"source\",\n",
    "    Amplitude=amplitude_func,\n",
    ")"
   ]
  },
  {
   "cell_type": "markdown",
   "id": "49f7ae61-7700-464f-bb92-77528577b488",
   "metadata": {},
   "source": [
    "## Generate the simulations\n",
    "\n",
    "We can now generate random simulations with all the information defined above. The light curves are written in the [nested-pandas](https://github.com/lincc-frameworks/nested-pandas) format for easy analysis. "
   ]
  },
  {
   "cell_type": "code",
   "execution_count": null,
   "id": "f0a44c6d-27c0-40a2-b6e0-d143fb135786",
   "metadata": {},
   "outputs": [],
   "source": [
    "lightcurves = simulate_lightcurves(source, 1_000, opsim_db, passband_group)\n",
    "print(lightcurves)"
   ]
  },
  {
   "cell_type": "markdown",
   "id": "41ff55d8-5c3c-46f0-bc52-1a6fc4d1aa8a",
   "metadata": {},
   "source": [
    "Now let's plot some random light curves"
   ]
  },
  {
   "cell_type": "code",
   "execution_count": null,
   "id": "74a3a911-2443-4dc1-8cbc-bc18910e86b0",
   "metadata": {},
   "outputs": [],
   "source": [
    "random_ids = np.random.choice(len(lightcurves), 10)\n",
    "\n",
    "for random_id in random_ids:\n",
    "    # Extract the row for this object.\n",
    "    lc = lightcurves.loc[random_id]\n",
    "\n",
    "    if lc[\"nobs\"] > 0:\n",
    "        # Unpack the nested columns (filters, mjd, flux, and flux error).\n",
    "        lc_filters = np.asarray(lc[\"lightcurve\"][\"filter\"], dtype=str)\n",
    "        lc_mjd = np.asarray(lc[\"lightcurve\"][\"mjd\"], dtype=float)\n",
    "        lc_flux = np.asarray(lc[\"lightcurve\"][\"flux\"], dtype=float)\n",
    "        lc_fluxerr = np.asarray(lc[\"lightcurve\"][\"fluxerr\"], dtype=float)\n",
    "\n",
    "        plot_lightcurves(\n",
    "            fluxes=lc_flux,\n",
    "            times=lc_mjd,\n",
    "            fluxerrs=lc_fluxerr,\n",
    "            filters=lc_filters,\n",
    "        )"
   ]
  },
  {
   "cell_type": "markdown",
   "id": "8d980758-53e4-481d-9a1c-8332b135b7a7",
   "metadata": {},
   "source": [
    "We can also plot the light curves in magnitude"
   ]
  },
  {
   "cell_type": "code",
   "execution_count": null,
   "id": "72b06ac4-8016-4bed-9245-e2e7452878be",
   "metadata": {},
   "outputs": [],
   "source": [
    "lc_mag = -2.5 * np.log10(lc_flux) + 31.4\n",
    "lc_magerr = np.absolute(1.086 * lc_fluxerr / lc_flux)\n",
    "\n",
    "plot_lightcurves(\n",
    "    fluxes=lc_mag,\n",
    "    times=lc_mjd,\n",
    "    fluxerrs=lc_magerr,\n",
    "    filters=lc_filters,\n",
    ")\n",
    "plt.title(lc[\"z\"])\n",
    "plt.ylabel(\"Mag\")\n",
    "plt.ylim(plt.ylim()[::-1])"
   ]
  }
 ],
 "metadata": {
  "kernelspec": {
   "display_name": "lightcurvelynx",
   "language": "python",
   "name": "python3"
  },
  "language_info": {
   "codemirror_mode": {
    "name": "ipython",
    "version": 3
   },
   "file_extension": ".py",
   "mimetype": "text/x-python",
   "name": "python",
   "nbconvert_exporter": "python",
   "pygments_lexer": "ipython3",
   "version": "3.10.4"
  }
 },
 "nbformat": 4,
 "nbformat_minor": 5
}

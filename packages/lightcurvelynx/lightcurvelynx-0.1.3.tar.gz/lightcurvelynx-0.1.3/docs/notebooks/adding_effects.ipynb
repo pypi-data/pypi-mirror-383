{
 "cells": [
  {
   "cell_type": "markdown",
   "metadata": {},
   "source": [
    "# EffectModels\n",
    "\n",
    "In this tutorial we look at how a user can add effects to the models that we are simulating in order to make their sampled flux more realistic.\n",
    "\n",
    "LightCurveLynx supports multiple model-level effects including:\n",
    "  * Constant dimming\n",
    "  * Dust extinction\n",
    "  * White Noise\n",
    "\n",
    "In addition, as shown below, users can create their own effects.\n",
    "\n",
    "\n",
    "## Applying Effects \n",
    "\n",
    "We add effects to our models, using the `BasePhysicalModel.add_effect()` function, before generating samples. For example if we want to apply a basic white noise effect to a `ConstantSEDModel` we would use:"
   ]
  },
  {
   "cell_type": "code",
   "execution_count": null,
   "metadata": {},
   "outputs": [],
   "source": [
    "import numpy as np\n",
    "\n",
    "from lightcurvelynx.effects.white_noise import WhiteNoise\n",
    "from lightcurvelynx.models.basic_models import ConstantSEDModel\n",
    "\n",
    "# Create the constant SED model.\n",
    "model = ConstantSEDModel(\n",
    "    brightness=10.0,\n",
    "    node_label=\"my_constant_sed_model\",\n",
    "    seed=100,\n",
    ")\n",
    "\n",
    "# Create the white noise effect and add it to the model.\n",
    "white_noise = WhiteNoise(white_noise_sigma=0.1)\n",
    "model.add_effect(white_noise)\n",
    "\n",
    "# Sample the flux.\n",
    "state = model.sample_parameters()\n",
    "times = np.array([1, 2, 3, 4, 5, 10])\n",
    "wavelengths = np.array([100.0, 200.0, 300.0])\n",
    "model.evaluate_sed(times, wavelengths, state)"
   ]
  },
  {
   "cell_type": "markdown",
   "metadata": {},
   "source": [
    "There are a few things to note in the above code block. First, effects must be explicitly added to each model. Second, effects can contain parameters, such as the `white_noise_sigma` parameter above.\n",
    "\n",
    "We can list the effects added to a model using the `list_effects()` function. This will return a list of all effects in the order in which they are applied."
   ]
  },
  {
   "cell_type": "code",
   "execution_count": null,
   "metadata": {},
   "outputs": [],
   "source": [
    "model.list_effects()"
   ]
  },
  {
   "cell_type": "markdown",
   "metadata": {},
   "source": [
    "### Effect Parameters\n",
    "\n",
    "Although effects are not a subclass of `ParameterizedNode`, they can include settable parameters. These parameters could be set from another parameterized node, such as a `NumpyRandomFunc` node or the model node itself. \n",
    "\n",
    "An effect's parameterized values are stored in the model node's namespace. So the full parameter name in this example will be `my_constant_sed_model.white_noise_sigma`. This is done to ensure sampling consistency with the model **and** allow an effect to be added to multiple models without accidentally linking those models' simulated values. For most users, this distinction will not matter.\n",
    "\n",
    "Let's we create a constant dimming effect whose strength is a random parameter sampled uniformly from [0, 1]."
   ]
  },
  {
   "cell_type": "code",
   "execution_count": null,
   "metadata": {},
   "outputs": [],
   "source": [
    "from lightcurvelynx.effects.basic_effects import ConstantDimming\n",
    "from lightcurvelynx.math_nodes.np_random import NumpyRandomFunc\n",
    "\n",
    "# Create a new constant SED model.\n",
    "model = ConstantSEDModel(\n",
    "    brightness=10.0,\n",
    "    node_label=\"my_constant_sed_model\",\n",
    "    seed=100,\n",
    ")\n",
    "\n",
    "# Create the constant dimming effect sigmwhera itself is sampled.\n",
    "dimming_frac = NumpyRandomFunc(\"uniform\", low=0.0, high=1.0)\n",
    "dimming_effect = ConstantDimming(flux_fraction=dimming_frac)\n",
    "\n",
    "# When we add the effect, its parameters are included in the model.\n",
    "model.add_effect(dimming_effect)\n",
    "state = model.sample_parameters(num_samples=10)\n",
    "print(state)"
   ]
  },
  {
   "cell_type": "markdown",
   "metadata": {},
   "source": [
    "Note that, as expected, `flux_fraction` is stored under `my_constant_sed_model`.\n",
    "\n",
    "Each sample's `flux_fraction` is applied during simulation."
   ]
  },
  {
   "cell_type": "code",
   "execution_count": null,
   "metadata": {},
   "outputs": [],
   "source": [
    "times = np.array([1])\n",
    "wavelengths = np.array([100.0])\n",
    "flux_densities = model.evaluate_sed(times, wavelengths, state)\n",
    "\n",
    "for idx, fd in enumerate(flux_densities):\n",
    "    print(f\"Sample {idx}: {fd[0, 0]}\")"
   ]
  },
  {
   "cell_type": "markdown",
   "metadata": {},
   "source": [
    "## Dust Maps\n",
    "\n",
    "Dust extinction represents a more complex effect since it requires the user to specify both a dust map and an extinction function. The dust map is stored in a `ParameterizedNode` that uses the object's (RA, dec) to compute ebv values. The `ExtinctionEffect` then links these together by creating a new \"ebv\" parameter in the model node. This \"ebv\" parameter is the output of the dustmap and the input to the extinction effect.\n",
    "\n",
    "The extinction effect requires the `dust_extinction` package which is not installed by default. Users can install the `pip install dust_extinction` or `conda install -c conda-forge dust_extinction` to run this cell of the notebook."
   ]
  },
  {
   "cell_type": "code",
   "execution_count": null,
   "metadata": {},
   "outputs": [],
   "source": [
    "import importlib\n",
    "\n",
    "if importlib.util.find_spec(\"dust_extinction\") is None:\n",
    "    print(\"Skipping dust extinction example since dust_extinction is not installed.\")\n",
    "else:\n",
    "    from lightcurvelynx.astro_utils.dustmap import ConstantHemisphereDustMap, DustmapWrapper\n",
    "    from lightcurvelynx.effects.extinction import ExtinctionEffect\n",
    "\n",
    "    model2 = ConstantSEDModel(\n",
    "        brightness=100.0,\n",
    "        ra=45.0,\n",
    "        dec=20.0,\n",
    "        redshift=0.0,\n",
    "        node_label=\"object\",\n",
    "    )\n",
    "\n",
    "    # Create a dust map that pulls ebv values using the object's (RA, dec) values.\n",
    "    dust_map = ConstantHemisphereDustMap(north_ebv=0.8, south_ebv=0.5)\n",
    "    dust_map_node = DustmapWrapper(\n",
    "        dust_map,\n",
    "        ra=model2.ra,\n",
    "        dec=model2.dec,\n",
    "        node_label=\"dust_map\",\n",
    "    )\n",
    "\n",
    "    # Create an add an extinction effect.\n",
    "    ext_effect = ExtinctionEffect(\n",
    "        extinction_model=\"CCM89\",\n",
    "        ebv=dust_map_node,\n",
    "        frame=\"rest\",\n",
    "        Rv=3.1,\n",
    "    )\n",
    "    model2.add_effect(ext_effect)\n",
    "\n",
    "    # Sample the model.\n",
    "    times = np.array([1.0, 2.0, 3.0, 4.0, 5.0])\n",
    "    wavelengths = np.array([7000.0, 5200.0])\n",
    "    states2 = model2.sample_parameters(num_samples=3)\n",
    "    model2.evaluate_sed(times, wavelengths, states2)"
   ]
  },
  {
   "cell_type": "markdown",
   "metadata": {},
   "source": [
    "By printing the information in the `states` variable, we can see a sampled ebv for each different model (RA, dec)."
   ]
  },
  {
   "cell_type": "code",
   "execution_count": null,
   "metadata": {},
   "outputs": [],
   "source": [
    "print(states2)"
   ]
  },
  {
   "cell_type": "markdown",
   "metadata": {},
   "source": [
    "Most users will want to use a more realistic dust map, such as those from the `dustmaps` library. For example if you had that package installed, you could create the dust map node as:"
   ]
  },
  {
   "cell_type": "code",
   "execution_count": null,
   "metadata": {},
   "outputs": [],
   "source": [
    "if importlib.util.find_spec(\"dustmaps\") is not None:\n",
    "    import dustmaps.sfd\n",
    "    from dustmaps.config import config as dm_config\n",
    "\n",
    "    from lightcurvelynx.astro_utils.dustmap import DustmapWrapper\n",
    "\n",
    "    dm_config[\"data_dir\"] = \"../../data/dustmaps\"\n",
    "    dustmaps.sfd.fetch()\n",
    "    dust_map_node = DustmapWrapper(\n",
    "        dustmaps.sfd.SFDQuery(),\n",
    "        ra=model2.ra,\n",
    "        dec=model2.dec,\n",
    "    )"
   ]
  },
  {
   "cell_type": "markdown",
   "metadata": {},
   "source": [
    "## Custom Effects\n",
    "\n",
    "Users can also create their own custom effect by inheriting from the `EffectModel` class and overriding the `apply()` function. \n",
    "\n",
    "An `EffectModel` object can have its own parameters (defined with a `add_effect_parameter()` function). Unlike a `ParameterizedNode`, these parameters will be added to the source object and passed to the effect as input. This means that all effect parameters will be computed during the parameter sampling phase, which keeps them consistent with the model parameters. These parameters *must* also be listed in the argument list for the `apply()` function because that is how the effect will get them.\n",
    "\n",
    "Let’s consider the example of an effect that adds sinusoidal dimming to the flux."
   ]
  },
  {
   "cell_type": "code",
   "execution_count": null,
   "metadata": {},
   "outputs": [],
   "source": [
    "from lightcurvelynx.effects.effect_model import EffectModel\n",
    "\n",
    "\n",
    "class SinDimming(EffectModel):\n",
    "    \"\"\"A sinusoidal dimming model.\n",
    "\n",
    "    Attributes\n",
    "    ----------\n",
    "    period : parameter\n",
    "        The period of the sinusoidal dimming.\n",
    "    \"\"\"\n",
    "\n",
    "    def __init__(self, period, **kwargs):\n",
    "        super().__init__(**kwargs)\n",
    "        self.add_effect_parameter(\"period\", period)\n",
    "\n",
    "    def apply(\n",
    "        self,\n",
    "        flux_density,\n",
    "        times=None,\n",
    "        wavelengths=None,\n",
    "        period=None,\n",
    "        rng_info=None,\n",
    "        **kwargs,\n",
    "    ):\n",
    "        \"\"\"Apply the effect to observations (flux_density values).\n",
    "\n",
    "        Parameters\n",
    "        ----------\n",
    "        flux_density : numpy.ndarray\n",
    "            A length T X N matrix of flux density values (in nJy).\n",
    "        times : numpy.ndarray, optional\n",
    "            A length T array of times (in MJD). Not used for this effect.\n",
    "        wavelengths : numpy.ndarray, optional\n",
    "            A length N array of wavelengths (in angstroms). Not used for this effect.\n",
    "        period : float, optional\n",
    "            The period of the dimming. Raises an error if None is provided.\n",
    "        rng_info : numpy.random._generator.Generator, optional\n",
    "            A given numpy random number generator to use for this computation. If not\n",
    "            provided, the function uses the node's random number generator.\n",
    "        **kwargs : `dict`, optional\n",
    "           Any additional keyword arguments. This includes all of the\n",
    "           parameters needed to apply the effect.\n",
    "\n",
    "        Returns\n",
    "        -------\n",
    "        flux_density : numpy.ndarray\n",
    "            A length T x N matrix of flux densities after the effect is applied (in nJy).\n",
    "        \"\"\"\n",
    "        if period is None:\n",
    "            raise ValueError(\"period must be provided\")\n",
    "\n",
    "        scale = 0.5 * (1.0 + np.sin(2 * np.pi * times / period))\n",
    "        return flux_density * scale[:, None]"
   ]
  },
  {
   "cell_type": "code",
   "execution_count": null,
   "metadata": {},
   "outputs": [],
   "source": [
    "import matplotlib.pyplot as plt\n",
    "\n",
    "model3 = ConstantSEDModel(\n",
    "    brightness=100.0,\n",
    "    ra=45.0,\n",
    "    dec=20.0,\n",
    "    redshift=0.0,\n",
    "    node_label=\"object\",\n",
    ")\n",
    "sin_effect = SinDimming(period=10.0)\n",
    "model3.add_effect(sin_effect)\n",
    "\n",
    "# Construct one sample of the model and its output flux.\n",
    "times = np.arange(50.0)\n",
    "wavelengths = np.array([7000.0, 5200.0])\n",
    "fluxes = model3.evaluate_sed(times, wavelengths)\n",
    "\n",
    "plt.plot(times, fluxes[:, 0])\n",
    "plt.xlabel(\"Time (MJD)\")\n",
    "plt.ylabel(\"Flux Density (nJy)\")"
   ]
  },
  {
   "cell_type": "markdown",
   "metadata": {},
   "source": [
    "Effects can also vary their impact depending on both time and wavelength. For more complex examples see the `time_varying_effects.ipynb` notebook."
   ]
  }
 ],
 "metadata": {
  "kernelspec": {
   "display_name": "lightcurvelynx",
   "language": "python",
   "name": "python3"
  },
  "language_info": {
   "codemirror_mode": {
    "name": "ipython",
    "version": 3
   },
   "file_extension": ".py",
   "mimetype": "text/x-python",
   "name": "python",
   "nbconvert_exporter": "python",
   "pygments_lexer": "ipython3",
   "version": "3.10.4"
  }
 },
 "nbformat": 4,
 "nbformat_minor": 2
}

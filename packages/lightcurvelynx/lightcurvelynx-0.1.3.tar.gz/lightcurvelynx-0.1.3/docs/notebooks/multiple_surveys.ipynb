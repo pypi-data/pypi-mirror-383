{
 "cells": [
  {
   "cell_type": "markdown",
   "metadata": {},
   "source": [
    "# Simulating from Multiple Surveys\n",
    "\n",
    "LightCurveLynx can simulate observations from multiple surveys in a single run. In this notebook, we show how to perform these simulations and discuss how it works."
   ]
  },
  {
   "cell_type": "code",
   "execution_count": null,
   "metadata": {},
   "outputs": [],
   "source": [
    "import numpy as np\n",
    "\n",
    "from lightcurvelynx.astro_utils.passbands import PassbandGroup\n",
    "from lightcurvelynx.models.basic_models import ConstantSEDModel\n",
    "from lightcurvelynx.obstable.opsim import OpSim\n",
    "from lightcurvelynx.simulate import simulate_lightcurves\n",
    "\n",
    "# Usually we would not hardcode the path to the passband files, but for this demo we will use a relative path\n",
    "# to the test data directory so that we do not have to download the files.\n",
    "table_dir = \"../../tests/lightcurvelynx/data/passbands\""
   ]
  },
  {
   "cell_type": "markdown",
   "metadata": {},
   "source": [
    "## Prerequisite Data\n",
    "\n",
    "For each survey that we would like to include in the simulation, we need two pieces of information:\n",
    "\n",
    "  * An `ObsTable` that includes the survey’s pointing and noise information.\n",
    "  * A `PassbandGroup` for that survey.\n",
    "\n",
    "Let's start by creating toy data for each survey.\n",
    "\n",
    "The first survey will include pointings at two locations (0.0, 10.0) and (180.0, -10.0) in the \"g\" and \"r\" bands."
   ]
  },
  {
   "cell_type": "code",
   "execution_count": null,
   "metadata": {},
   "outputs": [],
   "source": [
    "obsdata1 = {\n",
    "    \"time\": [0.0, 1.0, 2.0, 3.0],\n",
    "    \"ra\": [0.0, 0.0, 180.0, 180.0],\n",
    "    \"dec\": [10.0, 10.0, -10.0, -10.0],\n",
    "    \"filter\": [\"g\", \"r\", \"g\", \"r\"],\n",
    "    \"zp\": [5.0, 6.0, 7.0, 8.0],\n",
    "    \"seeing\": [1.12, 1.12, 1.12, 1.12],\n",
    "    \"skybrightness\": [20.0, 20.0, 20.0, 20.0],\n",
    "    \"exptime\": [29.2, 29.2, 29.2, 29.2],\n",
    "    \"nexposure\": [2, 2, 2, 2],\n",
    "}\n",
    "obstable1 = OpSim(obsdata1)\n",
    "\n",
    "passband_group1 = PassbandGroup.from_preset(\n",
    "    preset=\"LSST\",\n",
    "    table_dir=table_dir,\n",
    "    filters=[\"g\", \"r\", \"i\"],\n",
    ")"
   ]
  },
  {
   "cell_type": "markdown",
   "metadata": {},
   "source": [
    "The second survey will include pointings at two locations (0.0, 10.0) and (90.0, -10.0) in the \"r\" and \"z\" bands. "
   ]
  },
  {
   "cell_type": "code",
   "execution_count": null,
   "metadata": {},
   "outputs": [],
   "source": [
    "obsdata2 = {\n",
    "    \"time\": [0.5, 1.5, 2.5, 3.5],\n",
    "    \"ra\": [0.0, 90.0, 0.0, 90.0],\n",
    "    \"dec\": [10.0, -10.0, 10.0, -10.0],\n",
    "    \"filter\": [\"r\", \"z\", \"r\", \"z\"],\n",
    "    \"zp\": [1.0, 2.0, 3.0, 4.0],\n",
    "    \"seeing\": [1.12, 1.12, 1.12, 1.12],\n",
    "    \"skybrightness\": [20.0, 20.0, 20.0, 20.0],\n",
    "    \"exptime\": [29.2, 29.2, 29.2, 29.2],\n",
    "    \"nexposure\": [2, 2, 2, 2],\n",
    "}\n",
    "obstable2 = OpSim(obsdata2)\n",
    "\n",
    "passband_group2 = PassbandGroup.from_preset(\n",
    "    preset=\"LSST\",\n",
    "    table_dir=table_dir,\n",
    "    filters=[\"r\", \"z\"],\n",
    ")"
   ]
  },
  {
   "cell_type": "markdown",
   "metadata": {},
   "source": [
    "Note that, while we use the `OpSim` objects for both `ObsTable`s and we use LSST preset for both passbands, this is only for simplicity of the example (only some of the data files are installed by default).\n",
    "\n",
    "In most cases users will be interested in combining data from multiple surveys. For example we could simulate a trio of surveys: **Rubin** ( `OpSim` and LSST passbands), **ZTF** (`ZTFObsTable` with ZTF passbands) and Roman (data coming soon).\n",
    "\n",
    "\n",
    "## Model Creation\n",
    "\n",
    "Nothing changes in the model creation step. We define a model and its parameters as we would with any other simulation.  Here we use a constant SED model (same value for all times and wavelengths). We place the object at (0.0, 10.0) so it is observed by some of the pointings from each survey."
   ]
  },
  {
   "cell_type": "code",
   "execution_count": null,
   "metadata": {},
   "outputs": [],
   "source": [
    "model = ConstantSEDModel(brightness=100.0, t0=0.0, ra=0.0, dec=10.0, redshift=0.0, node_label=\"my_star\")"
   ]
  },
  {
   "cell_type": "markdown",
   "metadata": {},
   "source": [
    "## Simulation\n",
    "\n",
    "We run the simulation by passing in a *list** of `ObsTable` and a *list* of `PassbandGroup`.  The parameter space is only sampled once for each object, so the observations in each survey are consistent with respect to the parameterization. The times of observation and filters used are determined by each survey. And the bandflux is computed using that survey's passbands.\n",
    "\n",
    "We can simulate a single object and look at its light curve."
   ]
  },
  {
   "cell_type": "code",
   "execution_count": null,
   "metadata": {},
   "outputs": [],
   "source": [
    "results = simulate_lightcurves(\n",
    "    model,\n",
    "    1,\n",
    "    [obstable1, obstable2],\n",
    "    [passband_group1, passband_group2],\n",
    "    obstable_save_cols=[\"zp\"],\n",
    ")\n",
    "print(results[\"lightcurve\"][0])"
   ]
  },
  {
   "cell_type": "markdown",
   "metadata": {},
   "source": [
    "In addition to the standard information like mjd and flux, we capture the survey index to help us trace which survey the data came from. We also can save per-survey, per-observation data, such as the zero point for that observation."
   ]
  }
 ],
 "metadata": {
  "kernelspec": {
   "display_name": "lightcurvelynx",
   "language": "python",
   "name": "python3"
  },
  "language_info": {
   "codemirror_mode": {
    "name": "ipython",
    "version": 3
   },
   "file_extension": ".py",
   "mimetype": "text/x-python",
   "name": "python",
   "nbconvert_exporter": "python",
   "pygments_lexer": "ipython3",
   "version": "3.10.4"
  }
 },
 "nbformat": 4,
 "nbformat_minor": 2
}

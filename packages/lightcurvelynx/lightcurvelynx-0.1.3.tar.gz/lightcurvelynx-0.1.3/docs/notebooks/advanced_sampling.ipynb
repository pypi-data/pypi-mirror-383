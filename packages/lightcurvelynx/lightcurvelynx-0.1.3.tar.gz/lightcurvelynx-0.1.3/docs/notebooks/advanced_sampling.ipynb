{
 "cells": [
  {
   "cell_type": "markdown",
   "metadata": {},
   "source": [
    "# Advanced Parameter Sampling\n",
    "\n",
    "This tutorial builds off the \"Sampling Parameters\" notebook to describe how to implement more complex dependencies between parameters.\n",
    "\n",
    "## Core Concepts\n",
    "\n",
    "In the \"Sampling Parameters\" notebook, we introduced a few core concepts that will be heavily used throughout this notebook and are worth reviewing:\n",
    "\n",
    "* A *parameters* is effectively a variable in the mathematical equations that is instantiated during a round of sampling. A simple model might contain a handful of parameters for everything from position on the sky (RA, Dec) to inherent physical quantities (hostmass) to purely functional parameters (curve decay rate). \n",
    "* A `ParameterizedNode` is a computational unit for working with parameters. These nodes provide the code that defines the recipe for computing its own parameters. These nodes may use inputs that are parameters computed within other nodes.\n",
    "* A `GraphState` is a data structure that holds the sampled values for all the parameters in the model. Each `ParameterizedNode` object is stateless and does not store information about the parameters themselves. Instead all operations take a `GraphState` that contains the necessary input parameters and will store the corresponding output parameters.\n",
    "\n",
    "The combined values of **all** the parameters in the graph define a single sample of the model's parameters.\n",
    "\n",
    "## Basic Chaining\n",
    "\n",
    "We can use one `ParameterizedNode` object to provide parameters for another object. As described in the previous notebook, this chaining can use the output of a node as the input to another node:"
   ]
  },
  {
   "cell_type": "code",
   "execution_count": null,
   "metadata": {},
   "outputs": [],
   "source": [
    "import numpy as np\n",
    "\n",
    "from lightcurvelynx.math_nodes.np_random import NumpyRandomFunc\n",
    "from lightcurvelynx.models.basic_models import ConstantSEDModel\n",
    "\n",
    "brightness_dist = NumpyRandomFunc(\"normal\", loc=20.0, scale=2.0, node_label=\"brightness_dist\")\n",
    "model = ConstantSEDModel(brightness=brightness_dist, node_label=\"test\")\n",
    "state = model.sample_parameters(num_samples=10)\n",
    "print(state[\"test\"][\"brightness\"])"
   ]
  },
  {
   "cell_type": "markdown",
   "metadata": {},
   "source": [
    "In this example, the value of the object's brightness parameter is taken from the output of the brightness_dist node. Since that node is generating samples from a normal distribution, the object's brightness is being sampled as a normal distribution.\n",
    "\n",
    "We can also reference another node's parameter using the dot notation:"
   ]
  },
  {
   "cell_type": "code",
   "execution_count": null,
   "metadata": {},
   "outputs": [],
   "source": [
    "ra_node = NumpyRandomFunc(\"uniform\", low=0.0, high=360.0)\n",
    "host = ConstantSEDModel(brightness=15.0, ra=ra_node, dec=2.0, node_label=\"host\")\n",
    "source = ConstantSEDModel(brightness=10.0, ra=host.ra, dec=host.dec, node_label=\"source\")\n",
    "state = source.sample_parameters(num_samples=10)\n",
    "print(\"Host RA:\", state[\"host\"][\"ra\"])\n",
    "print(\"Source RA:\", state[\"source\"][\"ra\"])"
   ]
  },
  {
   "cell_type": "markdown",
   "metadata": {},
   "source": [
    "Here we see that the source's RA is simply a copy of the host's RA. \n",
    "\n",
    "## Sampling from Known Values\n",
    "\n",
    "LightCurveLynx provides multiple `ParameterizedNode` subclasses for selecting known values in math_nodes/given_sampler.py. These can be used for testing, allowing a user to input different (but known) values for each sample. As we will see later in this notebook, they can also be combined with other node types to do more complex computations.\n",
    "\n",
    "### BinarySampler\n",
    "\n",
    "The `BinarySampler` node returns a single True or False value for each sample. This is specifically designed for is probabilistically applying effects or making decisions in the simulation."
   ]
  },
  {
   "cell_type": "code",
   "execution_count": null,
   "metadata": {},
   "outputs": [],
   "source": [
    "from lightcurvelynx.math_nodes.given_sampler import BinarySampler\n",
    "\n",
    "apply_effect = BinarySampler(0.25, node_label=\"apply_effect\")\n",
    "states = apply_effect.sample_parameters(num_samples=5000)\n",
    "\n",
    "num_true = np.count_nonzero(states[\"apply_effect\"][\"function_node_result\"])\n",
    "print(f\"Returned {num_true} TRUE and {5000 - num_true} FALSE\")"
   ]
  },
  {
   "cell_type": "markdown",
   "metadata": {},
   "source": [
    "### GivenValueList\n",
    "\n",
    "The `GivenValueList` node returns the values from a given list (in the order in which they are given). This is primarily used for testing:"
   ]
  },
  {
   "cell_type": "code",
   "execution_count": null,
   "metadata": {},
   "outputs": [],
   "source": [
    "from lightcurvelynx.math_nodes.given_sampler import GivenValueList\n",
    "\n",
    "brightness_dist = GivenValueList([18.0, 20.0, 22.0])\n",
    "model = ConstantSEDModel(brightness=brightness_dist, node_label=\"test\")\n",
    "state = model.sample_parameters(num_samples=3)\n",
    "print(state[\"test\"][\"brightness\"])"
   ]
  },
  {
   "cell_type": "markdown",
   "metadata": {},
   "source": [
    "### GivenValueSampler\n",
    "\n",
    "The `GivenValueSampler` node returns a random value (with replacement) from a given list:"
   ]
  },
  {
   "cell_type": "code",
   "execution_count": null,
   "metadata": {},
   "outputs": [],
   "source": [
    "from lightcurvelynx.math_nodes.given_sampler import GivenValueSampler\n",
    "\n",
    "brightness_dist = GivenValueSampler([18.0, 20.0, 22.0])\n",
    "model = ConstantSEDModel(brightness=brightness_dist, node_label=\"test\")\n",
    "state = model.sample_parameters(num_samples=10)\n",
    "print(state[\"test\"][\"brightness\"])"
   ]
  },
  {
   "cell_type": "markdown",
   "metadata": {},
   "source": [
    "### GivenValueSelector\n",
    "\n",
    "The `GivenValueSelector` node takes a single input parameter *index* and uses that to lookup the parameter's value from a given list. Which item is selected is determined by the `GivenValueSelector`'s *index* parameter. Below we use a constant value for *index* so we return the same element each time:"
   ]
  },
  {
   "cell_type": "code",
   "execution_count": null,
   "metadata": {},
   "outputs": [],
   "source": [
    "from lightcurvelynx.math_nodes.given_sampler import GivenValueSelector\n",
    "\n",
    "brightness_dist = GivenValueSelector([18.0, 20.0, 22.0], index=2)\n",
    "model = ConstantSEDModel(brightness=brightness_dist, node_label=\"test\")\n",
    "state = model.sample_parameters(num_samples=10)\n",
    "print(state[\"test\"][\"brightness\"])"
   ]
  },
  {
   "cell_type": "markdown",
   "metadata": {},
   "source": [
    "## Combining Node Types\n",
    "\n",
    "We can perform complex sampling operations by combining multiple types of nodes. For example, imagine that we wanted to sample from a list of known objects where we have a list of the RAs, decs, brightness, and redshifts. We can combine a random selection of the object's index with nodes that look up the value for that object index in each of the corresponding lists:"
   ]
  },
  {
   "cell_type": "code",
   "execution_count": null,
   "metadata": {},
   "outputs": [],
   "source": [
    "ra_list = [10.0, 20.0, 30.0, 40.0, 50.0]\n",
    "dec_list = [1.0, 2.0, 3.0, 4.0, 5.0]\n",
    "brightness_list = [15.0, 16.0, 17.0, 18.0, 19.0]\n",
    "\n",
    "index_dist = GivenValueSampler(5)\n",
    "model = ConstantSEDModel(\n",
    "    brightness=GivenValueSelector(brightness_list, index=index_dist),\n",
    "    ra=GivenValueSelector(ra_list, index=index_dist),\n",
    "    dec=GivenValueSelector(dec_list, index=index_dist),\n",
    "    node_label=\"model\",\n",
    ")\n",
    "\n",
    "state = model.sample_parameters(num_samples=10)\n",
    "for i in range(10):\n",
    "    ra = state[\"model\"][\"ra\"][i]\n",
    "    dec = state[\"model\"][\"dec\"][i]\n",
    "    brightness = state[\"model\"][\"brightness\"][i]\n",
    "    print(f\"Sample {i + 1}: ({ra}, {dec}) = {brightness}\")"
   ]
  },
  {
   "cell_type": "markdown",
   "metadata": {},
   "source": [
    "The `GivenValueSampler` node chooses an object index value from the range [0, 5). The output of this node (the index) is passed as the input to multiple `GivenValueSelector` nodes to extract the corresponding element from each of the lists.\n",
    "\n",
    "Any important consideration is that each node in the graph is only sampled once. This means a *single* index is chosen and used for all three lists. For each sample, the value of all parameters (RA, Dec, and brightness) will be consistent for a single object.\n",
    "\n",
    "For other examples of how these types of nodes can be combined, see the implementation of the `MultiLightcurveTemplateModel` and the `RandomMultiObjectModel` models."
   ]
  },
  {
   "cell_type": "markdown",
   "metadata": {},
   "source": [
    "## Sampling from Tables\n",
    "\n",
    "Instead of lists, we might want to extract values from tabular data represented as an a dictionary, AstroPy Table, or Pandas Dataframe. The `TableSampler` node will sampling a row from given tabular data and store a unique parameter for each column of the table.\n",
    "\n",
    "For example we can create a table columns 'A', 'B', and 'C' and sample from those:"
   ]
  },
  {
   "cell_type": "code",
   "execution_count": null,
   "metadata": {},
   "outputs": [],
   "source": [
    "from astropy.table import Table\n",
    "\n",
    "from lightcurvelynx.math_nodes.given_sampler import TableSampler\n",
    "\n",
    "raw_data_dict = {\n",
    "    \"A\": [1, 2, 3, 4, 5, 6, 7, 8],\n",
    "    \"B\": [2, 3, 4, 5, 4, 3, 2, 1],\n",
    "    \"C\": [3, 4, 5, 6, 7, 8, 9, 10],\n",
    "}\n",
    "data = Table(raw_data_dict)\n",
    "\n",
    "table_node = TableSampler(data, in_order=True, node_label=\"node\")\n",
    "state = table_node.sample_parameters(num_samples=3)\n",
    "print(state)"
   ]
  },
  {
   "cell_type": "markdown",
   "metadata": {},
   "source": [
    "The `in_order` flag tells the node whether to extract the rows in order (`True`) or randomly with replacement (`False`).\n",
    "\n",
    "As with other node types, we can use the dot notation to use these values as input for other models. For example, let’s assume that the 'B' column corresponds to Brightness, 'A' corresponds to RA, and 'C' is not used."
   ]
  },
  {
   "cell_type": "code",
   "execution_count": null,
   "metadata": {},
   "outputs": [],
   "source": [
    "table_node = TableSampler(data, in_order=False, node_label=\"node\")\n",
    "model = ConstantSEDModel(\n",
    "    brightness=table_node.B,\n",
    "    ra=table_node.A,\n",
    "    node_label=\"test\",\n",
    ")\n",
    "\n",
    "state = model.sample_parameters(num_samples=10)\n",
    "print(state)"
   ]
  }
 ],
 "metadata": {
  "kernelspec": {
   "display_name": "lightcurvelynx",
   "language": "python",
   "name": "python3"
  },
  "language_info": {
   "codemirror_mode": {
    "name": "ipython",
    "version": 3
   },
   "file_extension": ".py",
   "mimetype": "text/x-python",
   "name": "python",
   "nbconvert_exporter": "python",
   "pygments_lexer": "ipython3",
   "version": "3.10.4"
  }
 },
 "nbformat": 4,
 "nbformat_minor": 2
}

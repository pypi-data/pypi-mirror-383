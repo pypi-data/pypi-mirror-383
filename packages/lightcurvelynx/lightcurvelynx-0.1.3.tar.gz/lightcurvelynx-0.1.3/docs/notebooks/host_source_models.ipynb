{
 "cells": [
  {
   "cell_type": "markdown",
   "metadata": {},
   "source": [
    "# Simulating Combinations of Objects\n",
    "\n",
    "For some intergalactic studies the user might be interested in simulating the *combination* of fluxes coming from an object and its host galaxy. LightCurveLynx provides a general purpose class `AdditiveMultiObjectModel` that produces the combined flux densities from multiple models. This class can be used to simulate host/object combinations, unresolved sources, etc.\n",
    "\n",
    "\n",
    "## The AdditiveMultiObjectModel Node\n",
    "\n",
    "The `AdditiveMultiObjectModel` node model takes a list of `BasePhysicalModel` objects and returns the sum of their flux densities. As an example, let's create a source that is a sinwave (with magnitude 3.0) in front of a static host (of brightness 5). "
   ]
  },
  {
   "cell_type": "code",
   "execution_count": null,
   "metadata": {},
   "outputs": [],
   "source": [
    "import numpy as np\n",
    "\n",
    "from lightcurvelynx.models.basic_models import SinWaveModel, ConstantSEDModel\n",
    "from lightcurvelynx.models.multi_object_model import AdditiveMultiObjectModel\n",
    "\n",
    "host = ConstantSEDModel(\n",
    "    brightness=5.0,\n",
    "    ra=10.0,\n",
    "    dec=-5.0,\n",
    ")\n",
    "\n",
    "source = SinWaveModel(\n",
    "    amplitude=3.0,\n",
    "    frequency=1.0,\n",
    "    t0=0.0,\n",
    "    ra=10.01,\n",
    "    dec=-5.01,\n",
    ")\n",
    "\n",
    "model = AdditiveMultiObjectModel(objects=[source, host])"
   ]
  },
  {
   "cell_type": "markdown",
   "metadata": {},
   "source": [
    "Next we evaluate the combined model across a range of times.  As we see, the fluxes oscillate from [-3, 3] against a background of 5."
   ]
  },
  {
   "cell_type": "code",
   "execution_count": null,
   "metadata": {},
   "outputs": [],
   "source": [
    "import matplotlib.pyplot as plt\n",
    "\n",
    "times = np.linspace(0, 10, 100)\n",
    "wavelengths = np.array([500])\n",
    "\n",
    "fluxes = model.evaluate_sed(times, wavelengths)\n",
    "\n",
    "plt.plot(times, fluxes[:, 0], color=\"blue\")\n",
    "plt.xlabel(\"Time\")\n",
    "plt.ylabel(\"Flux\")\n",
    "plt.show()"
   ]
  },
  {
   "cell_type": "markdown",
   "metadata": {},
   "source": [
    "## RA, dec, and Other Parameters\n",
    "\n",
    "It is important to note that the `AdditiveMultiObjectModel` node does not automatically inherit any of the parameters from its objects. This is intentional to allow the component objects to vary. For example we might want a star that is offset from the center of the host (ra_star != ra_host and dec_star != dec_host). Or we may want two unresolved sources at completely different redshifts."
   ]
  },
  {
   "cell_type": "code",
   "execution_count": null,
   "metadata": {},
   "outputs": [],
   "source": [
    "print(model.sample_parameters())"
   ]
  },
  {
   "cell_type": "markdown",
   "metadata": {},
   "source": [
    "In order to ensure the final computations include RA, dec, etc. it is necessary to specify them when defining the additive model. If you want to use the same (RA, dec) as one of the components, you can access that attribute with the dot notation. "
   ]
  },
  {
   "cell_type": "code",
   "execution_count": null,
   "metadata": {},
   "outputs": [],
   "source": [
    "model = AdditiveMultiObjectModel(\n",
    "    objects=[source, host],\n",
    "    ra=source.ra,\n",
    "    dec=source.dec,\n",
    ")\n",
    "print(model.sample_parameters())"
   ]
  },
  {
   "cell_type": "markdown",
   "metadata": {},
   "source": [
    "## Redshift and Effects\n",
    "\n",
    "Redshift and rest frame effects are applied to each object individually (to allow for unresolved sources at different redshifts). In contrast, observer frame effects are applied to the combination of fluxes. From the user's point of view, effects can be added to the `AdditiveMultiObjectModel` the same way as any other model. The model will internally handle how these effects are applied."
   ]
  },
  {
   "cell_type": "code",
   "execution_count": null,
   "metadata": {},
   "outputs": [],
   "source": [
    "from lightcurvelynx.effects.basic_effects import ConstantDimming\n",
    "\n",
    "# Create the white noise effect (in the rest frame) and add it to the model.\n",
    "white_noise = ConstantDimming(flux_fraction=0.5, rest_frame=True)\n",
    "model.add_effect(white_noise)"
   ]
  },
  {
   "cell_type": "code",
   "execution_count": null,
   "metadata": {},
   "outputs": [],
   "source": [
    "fluxes = model.evaluate_sed(times, wavelengths)\n",
    "\n",
    "plt.plot(times, fluxes[:, 0], color=\"blue\")\n",
    "plt.xlabel(\"Time\")\n",
    "plt.ylabel(\"Flux\")\n",
    "plt.show()"
   ]
  },
  {
   "cell_type": "markdown",
   "metadata": {},
   "source": [
    "As we can see the contributions of both the host and object are dimmed."
   ]
  }
 ],
 "metadata": {
  "kernelspec": {
   "display_name": "lightcurvelynx",
   "language": "python",
   "name": "python3"
  },
  "language_info": {
   "codemirror_mode": {
    "name": "ipython",
    "version": 3
   },
   "file_extension": ".py",
   "mimetype": "text/x-python",
   "name": "python",
   "nbconvert_exporter": "python",
   "pygments_lexer": "ipython3",
   "version": "3.10.4"
  }
 },
 "nbformat": 4,
 "nbformat_minor": 2
}

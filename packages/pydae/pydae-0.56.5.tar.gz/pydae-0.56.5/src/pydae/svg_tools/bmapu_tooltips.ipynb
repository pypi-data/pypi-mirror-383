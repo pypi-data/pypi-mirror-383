{
 "cells": [
  {
   "cell_type": "code",
   "execution_count": null,
   "id": "4916d61e",
   "metadata": {},
   "outputs": [],
   "source": [
    "from pydae.utils import read_data\n",
    "from xml.etree.ElementTree import Element\n",
    "import numpy as np"
   ]
  },
  {
   "cell_type": "code",
   "execution_count": 3,
   "id": "87764463",
   "metadata": {},
   "outputs": [],
   "source": [
    "grid_data = read_data('grid_data.hjson')"
   ]
  },
  {
   "cell_type": "code",
   "execution_count": 5,
   "id": "afb311d8",
   "metadata": {},
   "outputs": [
    {
     "data": {
      "text/plain": [
       "[OrderedDict([('name', 'POI'),\n",
       "              ('P_W', 0),\n",
       "              ('Q_var', 0),\n",
       "              ('U_kV', 20),\n",
       "              ('monitor', True),\n",
       "              ('fdii', True)]),\n",
       " OrderedDict([('name', 'POIHV'),\n",
       "              ('P_W', 0),\n",
       "              ('Q_var', 0),\n",
       "              ('U_kV', 132),\n",
       "              ('monitor', True),\n",
       "              ('fdii', True)]),\n",
       " OrderedDict([('name', 'GRID'),\n",
       "              ('P_W', 0),\n",
       "              ('Q_var', 0),\n",
       "              ('U_kV', 132),\n",
       "              ('monitor', True)]),\n",
       " OrderedDict([('name', 'BESS'),\n",
       "              ('P_W', 0),\n",
       "              ('Q_var', 0),\n",
       "              ('U_kV', 0.8),\n",
       "              ('monitor', True)]),\n",
       " OrderedDict([('name', 'SS1LV'),\n",
       "              ('P_W', 0),\n",
       "              ('Q_var', 0),\n",
       "              ('U_kV', 0.8),\n",
       "              ('monitor', True)]),\n",
       " OrderedDict([('name', 'SS1'),\n",
       "              ('P_W', 0),\n",
       "              ('Q_var', 0),\n",
       "              ('U_kV', 20),\n",
       "              ('monitor', True),\n",
       "              ('fdii', True)]),\n",
       " OrderedDict([('name', 'SS2LV'),\n",
       "              ('P_W', 0),\n",
       "              ('Q_var', 0),\n",
       "              ('U_kV', 0.8),\n",
       "              ('monitor', True)]),\n",
       " OrderedDict([('name', 'SS2'),\n",
       "              ('P_W', 0),\n",
       "              ('Q_var', 0),\n",
       "              ('U_kV', 20),\n",
       "              ('monitor', True),\n",
       "              ('fdii', True)])]"
      ]
     },
     "execution_count": 5,
     "metadata": {},
     "output_type": "execute_result"
    }
   ],
   "source": [
    "grid_data['buses']"
   ]
  },
  {
   "cell_type": "code",
   "execution_count": null,
   "id": "349525c8",
   "metadata": {},
   "outputs": [],
   "source": []
  }
 ],
 "metadata": {
  "kernelspec": {
   "display_name": "base",
   "language": "python",
   "name": "python3"
  },
  "language_info": {
   "codemirror_mode": {
    "name": "ipython",
    "version": 3
   },
   "file_extension": ".py",
   "mimetype": "text/x-python",
   "name": "python",
   "nbconvert_exporter": "python",
   "pygments_lexer": "ipython3",
   "version": "3.11.7"
  }
 },
 "nbformat": 4,
 "nbformat_minor": 5
}

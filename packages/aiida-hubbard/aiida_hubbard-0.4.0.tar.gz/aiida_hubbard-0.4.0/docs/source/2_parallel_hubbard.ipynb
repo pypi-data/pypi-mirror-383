{
 "cells": [
  {
   "attachments": {},
   "cell_type": "markdown",
   "metadata": {},
   "source": [
    "\n",
    "(tutorials-hubbard-parallel)=\n",
    "\n",
    "# Parallelizing the computation of Hubbard parameters\n",
    "\n",
    "In this tutorial you will learn how to parallelize the computation of the Hubbard parameters using the {py:class}`~aiida_hubbard.workflows.hp.main.HpWorkChain`.\n",
    "\n",
    "We can divide this goal in two phases:\n",
    "\n",
    "* __Parallelize over independent atoms__: parallelize the ``hp.x`` calculation with multiple sub-``hp.x`` running single atoms.\n",
    "* __Parallelize over independent q points__: parallelize each atom sub-``hp.x`` with other sub-``hp.x`` running single q points.\n",
    "\n",
    "As we learnt from the [previous tutorial](./1_computing_hubbard.ipynb), first we need to compute the ground-state with a ``pw.x`` calculation.\n",
    "\n",
    "Let's get started!"
   ]
  },
  {
   "cell_type": "code",
   "execution_count": 1,
   "metadata": {
    "tags": [
     "hide-cell"
    ]
   },
   "outputs": [
    {
     "name": "stderr",
     "output_type": "stream",
     "text": [
      "/opt/conda/lib/python3.9/site-packages/aiida/orm/nodes/data/code/legacy.py:46: AiidaDeprecationWarning: The `Code` class is deprecated. To create an instance, use the `aiida.orm.nodes.data.code.installed.InstalledCode` or `aiida.orm.nodes.data.code.portable.PortableCode` for a \"remote\" or \"local\" code, respectively. If you are using this class to compare type, e.g. in `isinstance`, use `aiida.orm.nodes.data.code.abstract.AbstractCode`. (this will be removed in v3)\n",
      "  warn_deprecation(\n",
      "/opt/conda/lib/python3.9/site-packages/aiida/orm/nodes/data/code/legacy.py:58: AiidaDeprecationWarning: The `Code` plugin is deprecated, use the `InstalledCode` (`core.code.remote`) instead. (this will be removed in v3)\n",
      "  warn_deprecation(\n",
      "/opt/conda/lib/python3.9/site-packages/aiida/orm/nodes/data/code/legacy.py:493: AiidaDeprecationWarning: `Code.set_remote_computer_exec` method is deprecated, use `InstalledCode`. (this will be removed in v3)\n",
      "  warn_deprecation('`Code.set_remote_computer_exec` method is deprecated, use `InstalledCode`.', version=3)\n",
      "/opt/conda/lib/python3.9/site-packages/aiida/orm/nodes/data/code/legacy.py:406: AiidaDeprecationWarning: `Code.set_input_plugin_name` method is deprecated, use the `default_calc_job_plugin` property instead. (this will be removed in v3)\n",
      "  warn_deprecation(\n",
      "/opt/conda/lib/python3.9/site-packages/aiida/orm/nodes/data/code/legacy.py:386: AiidaDeprecationWarning: `Code.set_prepend_text` method is deprecated, use the `prepend_text` property instead. (this will be removed in v3)\n",
      "  warn_deprecation(\n",
      "/opt/conda/lib/python3.9/site-packages/aiida/orm/nodes/data/code/legacy.py:565: AiidaDeprecationWarning: `Code.is_local` method is deprecated, use a `PortableCode` instance and check the type. (this will be removed in v3)\n",
      "  warn_deprecation(\n",
      "/opt/conda/lib/python3.9/site-packages/aiida/orm/nodes/data/code/legacy.py:523: AiidaDeprecationWarning: `Code.get_remote_computer` method is deprecated, use the `computer` attribute instead. (this will be removed in v3)\n",
      "  warn_deprecation(\n",
      "/opt/conda/lib/python3.9/site-packages/aiida/orm/nodes/data/code/legacy.py:513: AiidaDeprecationWarning: `Code.get_remote_exec_path` method is deprecated, use `InstalledCode.filepath_executable` instead. (this will be removed in v3)\n",
      "  warn_deprecation(\n",
      "/opt/conda/lib/python3.9/site-packages/aiida/orm/nodes/data/code/legacy.py:46: AiidaDeprecationWarning: The `Code` class is deprecated. To create an instance, use the `aiida.orm.nodes.data.code.installed.InstalledCode` or `aiida.orm.nodes.data.code.portable.PortableCode` for a \"remote\" or \"local\" code, respectively. If you are using this class to compare type, e.g. in `isinstance`, use `aiida.orm.nodes.data.code.abstract.AbstractCode`. (this will be removed in v3)\n",
      "  warn_deprecation(\n",
      "/opt/conda/lib/python3.9/site-packages/aiida/orm/nodes/data/code/legacy.py:58: AiidaDeprecationWarning: The `Code` plugin is deprecated, use the `InstalledCode` (`core.code.remote`) instead. (this will be removed in v3)\n",
      "  warn_deprecation(\n",
      "/opt/conda/lib/python3.9/site-packages/aiida/orm/nodes/data/code/legacy.py:493: AiidaDeprecationWarning: `Code.set_remote_computer_exec` method is deprecated, use `InstalledCode`. (this will be removed in v3)\n",
      "  warn_deprecation('`Code.set_remote_computer_exec` method is deprecated, use `InstalledCode`.', version=3)\n",
      "/opt/conda/lib/python3.9/site-packages/aiida/orm/nodes/data/code/legacy.py:406: AiidaDeprecationWarning: `Code.set_input_plugin_name` method is deprecated, use the `default_calc_job_plugin` property instead. (this will be removed in v3)\n",
      "  warn_deprecation(\n",
      "/opt/conda/lib/python3.9/site-packages/aiida/orm/nodes/data/code/legacy.py:386: AiidaDeprecationWarning: `Code.set_prepend_text` method is deprecated, use the `prepend_text` property instead. (this will be removed in v3)\n",
      "  warn_deprecation(\n",
      "/opt/conda/lib/python3.9/site-packages/aiida/orm/nodes/data/code/legacy.py:565: AiidaDeprecationWarning: `Code.is_local` method is deprecated, use a `PortableCode` instance and check the type. (this will be removed in v3)\n",
      "  warn_deprecation(\n",
      "/opt/conda/lib/python3.9/site-packages/aiida/orm/nodes/data/code/legacy.py:523: AiidaDeprecationWarning: `Code.get_remote_computer` method is deprecated, use the `computer` attribute instead. (this will be removed in v3)\n",
      "  warn_deprecation(\n",
      "/opt/conda/lib/python3.9/site-packages/aiida/orm/nodes/data/code/legacy.py:513: AiidaDeprecationWarning: `Code.get_remote_exec_path` method is deprecated, use `InstalledCode.filepath_executable` instead. (this will be removed in v3)\n",
      "  warn_deprecation(\n"
     ]
    }
   ],
   "source": [
    "from local_module import load_temp_profile\n",
    "\n",
    "# If you download this file, you can run it with your own profile.\n",
    "# Put these lines instead:\n",
    "# from aiida import load_profile\n",
    "# load_profile()\n",
    "data = load_temp_profile(\n",
    "    name=\"hubbard-parallel-tutorial\",\n",
    "    add_computer=True,\n",
    "    add_pw_code=True,\n",
    "    add_hp_code=True,\n",
    "    add_sssp=True,\n",
    "    add_structure_licoo=True,\n",
    ")"
   ]
  },
  {
   "cell_type": "code",
   "execution_count": 2,
   "metadata": {
    "tags": [
     "hide-cell"
    ]
   },
   "outputs": [
    {
     "name": "stderr",
     "output_type": "stream",
     "text": [
      "02/18/2025 09:47:42 AM <48797> aiida.orm.nodes.process.workflow.workchain.WorkChainNode: [REPORT] [112|PwBaseWorkChain|run_process]: launching PwCalculation<115> iteration #1\n",
      "/opt/conda/lib/python3.9/site-packages/aiida/orm/nodes/data/code/legacy.py:565: AiidaDeprecationWarning: `Code.is_local` method is deprecated, use a `PortableCode` instance and check the type. (this will be removed in v3)\n",
      "  warn_deprecation(\n",
      "/opt/conda/lib/python3.9/site-packages/aiida/orm/nodes/data/code/legacy.py:523: AiidaDeprecationWarning: `Code.get_remote_computer` method is deprecated, use the `computer` attribute instead. (this will be removed in v3)\n",
      "  warn_deprecation(\n",
      "/opt/conda/lib/python3.9/site-packages/aiida/orm/nodes/data/code/legacy.py:565: AiidaDeprecationWarning: `Code.is_local` method is deprecated, use a `PortableCode` instance and check the type. (this will be removed in v3)\n",
      "  warn_deprecation(\n",
      "/opt/conda/lib/python3.9/site-packages/aiida/orm/nodes/data/code/legacy.py:513: AiidaDeprecationWarning: `Code.get_remote_exec_path` method is deprecated, use `InstalledCode.filepath_executable` instead. (this will be removed in v3)\n",
      "  warn_deprecation(\n",
      "02/18/2025 09:47:54 AM <48797> aiida.orm.nodes.process.workflow.workchain.WorkChainNode: [REPORT] [112|PwBaseWorkChain|results]: work chain completed after 1 iterations\n",
      "02/18/2025 09:47:54 AM <48797> aiida.orm.nodes.process.workflow.workchain.WorkChainNode: [REPORT] [112|PwBaseWorkChain|on_terminated]: remote folders will not be cleaned\n"
     ]
    }
   ],
   "source": [
    "from aiida.engine import run_get_node\n",
    "from aiida.orm import KpointsData\n",
    "from aiida_quantumespresso.workflows.pw.base import PwBaseWorkChain\n",
    "from aiida_quantumespresso.common.types import ElectronicType\n",
    "kpoints = KpointsData()\n",
    "kpoints.set_kpoints_mesh([1,1,1])\n",
    "\n",
    "builder = PwBaseWorkChain.get_builder_from_protocol(\n",
    "    code=data.pw_code, # modify here if you downloaded the notebook\n",
    "    structure=data.structure, # modify here if you downloaded the notebook\n",
    "    protocol=\"fast\",\n",
    "    electronic_type=ElectronicType.INSULATOR,\n",
    "    overrides={\"kpoints\":kpoints, \"clean_workdir\":False}\n",
    ")\n",
    "results, pw_node = run_get_node(builder)"
   ]
  },
  {
   "attachments": {},
   "cell_type": "markdown",
   "metadata": {},
   "source": [
    "## Parallelize over atoms\n",
    "\n",
    "To parallelize over atoms, we need a _new_ workchain which is dedicated to this purpose: the {py:class}`~aiida_hubbard.workflows.hp.main.HpWorkChain`. This workchain is able to parallelize both over atoms and over q points.\n",
    "\n",
    "Let's see first the atom parallelization. As usual, we need to get the `builder` and fill the inputs.\n",
    "Specifying the input `parallelize_atoms` as `True` in `HpWorkChain`, each _independent atom_ will be run as a separate `HpBaseWorkChain`."
   ]
  },
  {
   "cell_type": "code",
   "execution_count": 3,
   "metadata": {
    "tags": [
     "hide-output"
    ]
   },
   "outputs": [
    {
     "name": "stderr",
     "output_type": "stream",
     "text": [
      "02/18/2025 09:47:56 AM <48797> aiida.orm.nodes.process.workflow.workchain.WorkChainNode: [REPORT] [128|HpWorkChain|run_parallel_workchain]: running in parallel, launching HpParallelizeAtomsWorkChain<132>\n",
      "02/18/2025 09:47:56 AM <48797> aiida.orm.nodes.process.workflow.workchain.WorkChainNode: [REPORT] [132|HpParallelizeAtomsWorkChain|run_init]: launched initialization HpBaseWorkChain<134>\n",
      "02/18/2025 09:47:56 AM <48797> aiida.orm.nodes.process.workflow.workchain.WorkChainNode: [REPORT] [134|HpBaseWorkChain|run_process]: launching HpCalculation<137> iteration #1\n",
      "/opt/conda/lib/python3.9/site-packages/aiida/orm/nodes/data/code/legacy.py:565: AiidaDeprecationWarning: `Code.is_local` method is deprecated, use a `PortableCode` instance and check the type. (this will be removed in v3)\n",
      "  warn_deprecation(\n",
      "/opt/conda/lib/python3.9/site-packages/aiida/orm/nodes/data/code/legacy.py:523: AiidaDeprecationWarning: `Code.get_remote_computer` method is deprecated, use the `computer` attribute instead. (this will be removed in v3)\n",
      "  warn_deprecation(\n",
      "/opt/conda/lib/python3.9/site-packages/aiida/orm/nodes/data/code/legacy.py:565: AiidaDeprecationWarning: `Code.is_local` method is deprecated, use a `PortableCode` instance and check the type. (this will be removed in v3)\n",
      "  warn_deprecation(\n",
      "/opt/conda/lib/python3.9/site-packages/aiida/orm/nodes/data/code/legacy.py:513: AiidaDeprecationWarning: `Code.get_remote_exec_path` method is deprecated, use `InstalledCode.filepath_executable` instead. (this will be removed in v3)\n",
      "  warn_deprecation(\n",
      "02/18/2025 09:48:00 AM <48797> aiida.orm.nodes.process.workflow.workchain.WorkChainNode: [REPORT] [134|HpBaseWorkChain|results]: work chain completed after 1 iterations\n",
      "02/18/2025 09:48:00 AM <48797> aiida.orm.nodes.process.workflow.workchain.WorkChainNode: [REPORT] [134|HpBaseWorkChain|on_terminated]: cleaned remote folders of calculations: 137\n",
      "02/18/2025 09:48:00 AM <48797> aiida.orm.nodes.process.workflow.workchain.WorkChainNode: [REPORT] [134|HpBaseWorkChain|on_terminated]: cleaned remote folders of calculations: 137\n",
      "02/18/2025 09:48:00 AM <48797> aiida.orm.nodes.process.workflow.workchain.WorkChainNode: [REPORT] [132|HpParallelizeAtomsWorkChain|run_atoms]: launched HpBaseWorkChain<143> for atomic site 1 of kind Co\n",
      "02/18/2025 09:48:01 AM <48797> aiida.orm.nodes.process.workflow.workchain.WorkChainNode: [REPORT] [132|HpParallelizeAtomsWorkChain|run_atoms]: launched HpBaseWorkChain<146> for atomic site 2 of kind O\n",
      "02/18/2025 09:48:01 AM <48797> aiida.orm.nodes.process.workflow.workchain.WorkChainNode: [REPORT] [132|HpParallelizeAtomsWorkChain|run_atoms]: launched HpBaseWorkChain<149> for atomic site 3 of kind O\n",
      "02/18/2025 09:48:01 AM <48797> aiida.orm.nodes.process.workflow.workchain.WorkChainNode: [REPORT] [143|HpBaseWorkChain|run_process]: launching HpCalculation<152> iteration #1\n",
      "02/18/2025 09:48:02 AM <48797> aiida.orm.nodes.process.workflow.workchain.WorkChainNode: [REPORT] [146|HpBaseWorkChain|run_process]: launching HpCalculation<155> iteration #1\n",
      "02/18/2025 09:48:02 AM <48797> aiida.orm.nodes.process.workflow.workchain.WorkChainNode: [REPORT] [149|HpBaseWorkChain|run_process]: launching HpCalculation<158> iteration #1\n",
      "/opt/conda/lib/python3.9/site-packages/aiida/orm/nodes/data/code/legacy.py:565: AiidaDeprecationWarning: `Code.is_local` method is deprecated, use a `PortableCode` instance and check the type. (this will be removed in v3)\n",
      "  warn_deprecation(\n",
      "/opt/conda/lib/python3.9/site-packages/aiida/orm/nodes/data/code/legacy.py:523: AiidaDeprecationWarning: `Code.get_remote_computer` method is deprecated, use the `computer` attribute instead. (this will be removed in v3)\n",
      "  warn_deprecation(\n",
      "/opt/conda/lib/python3.9/site-packages/aiida/orm/nodes/data/code/legacy.py:565: AiidaDeprecationWarning: `Code.is_local` method is deprecated, use a `PortableCode` instance and check the type. (this will be removed in v3)\n",
      "  warn_deprecation(\n",
      "/opt/conda/lib/python3.9/site-packages/aiida/orm/nodes/data/code/legacy.py:513: AiidaDeprecationWarning: `Code.get_remote_exec_path` method is deprecated, use `InstalledCode.filepath_executable` instead. (this will be removed in v3)\n",
      "  warn_deprecation(\n",
      "/opt/conda/lib/python3.9/site-packages/aiida/orm/nodes/data/code/legacy.py:565: AiidaDeprecationWarning: `Code.is_local` method is deprecated, use a `PortableCode` instance and check the type. (this will be removed in v3)\n",
      "  warn_deprecation(\n",
      "/opt/conda/lib/python3.9/site-packages/aiida/orm/nodes/data/code/legacy.py:523: AiidaDeprecationWarning: `Code.get_remote_computer` method is deprecated, use the `computer` attribute instead. (this will be removed in v3)\n",
      "  warn_deprecation(\n",
      "/opt/conda/lib/python3.9/site-packages/aiida/orm/nodes/data/code/legacy.py:565: AiidaDeprecationWarning: `Code.is_local` method is deprecated, use a `PortableCode` instance and check the type. (this will be removed in v3)\n",
      "  warn_deprecation(\n",
      "/opt/conda/lib/python3.9/site-packages/aiida/orm/nodes/data/code/legacy.py:513: AiidaDeprecationWarning: `Code.get_remote_exec_path` method is deprecated, use `InstalledCode.filepath_executable` instead. (this will be removed in v3)\n",
      "  warn_deprecation(\n",
      "/opt/conda/lib/python3.9/site-packages/aiida/orm/nodes/data/code/legacy.py:565: AiidaDeprecationWarning: `Code.is_local` method is deprecated, use a `PortableCode` instance and check the type. (this will be removed in v3)\n",
      "  warn_deprecation(\n",
      "/opt/conda/lib/python3.9/site-packages/aiida/orm/nodes/data/code/legacy.py:523: AiidaDeprecationWarning: `Code.get_remote_computer` method is deprecated, use the `computer` attribute instead. (this will be removed in v3)\n",
      "  warn_deprecation(\n",
      "/opt/conda/lib/python3.9/site-packages/aiida/orm/nodes/data/code/legacy.py:565: AiidaDeprecationWarning: `Code.is_local` method is deprecated, use a `PortableCode` instance and check the type. (this will be removed in v3)\n",
      "  warn_deprecation(\n",
      "/opt/conda/lib/python3.9/site-packages/aiida/orm/nodes/data/code/legacy.py:513: AiidaDeprecationWarning: `Code.get_remote_exec_path` method is deprecated, use `InstalledCode.filepath_executable` instead. (this will be removed in v3)\n",
      "  warn_deprecation(\n",
      "02/18/2025 09:49:04 AM <48797> aiida.orm.nodes.process.workflow.workchain.WorkChainNode: [REPORT] [143|HpBaseWorkChain|results]: work chain completed after 1 iterations\n",
      "02/18/2025 09:49:04 AM <48797> aiida.orm.nodes.process.workflow.workchain.WorkChainNode: [REPORT] [143|HpBaseWorkChain|on_terminated]: cleaned remote folders of calculations: 152\n",
      "02/18/2025 09:49:05 AM <48797> aiida.orm.nodes.process.workflow.workchain.WorkChainNode: [REPORT] [143|HpBaseWorkChain|on_terminated]: cleaned remote folders of calculations: 152\n",
      "02/18/2025 09:49:06 AM <48797> aiida.orm.nodes.process.workflow.workchain.WorkChainNode: [REPORT] [146|HpBaseWorkChain|results]: work chain completed after 1 iterations\n",
      "02/18/2025 09:49:07 AM <48797> aiida.orm.nodes.process.workflow.workchain.WorkChainNode: [REPORT] [146|HpBaseWorkChain|on_terminated]: cleaned remote folders of calculations: 155\n",
      "02/18/2025 09:49:07 AM <48797> aiida.orm.nodes.process.workflow.workchain.WorkChainNode: [REPORT] [146|HpBaseWorkChain|on_terminated]: cleaned remote folders of calculations: 155\n",
      "02/18/2025 09:49:07 AM <48797> aiida.orm.nodes.process.workflow.workchain.WorkChainNode: [REPORT] [149|HpBaseWorkChain|results]: work chain completed after 1 iterations\n",
      "02/18/2025 09:49:07 AM <48797> aiida.orm.nodes.process.workflow.workchain.WorkChainNode: [REPORT] [149|HpBaseWorkChain|on_terminated]: cleaned remote folders of calculations: 158\n",
      "02/18/2025 09:49:07 AM <48797> aiida.orm.nodes.process.workflow.workchain.WorkChainNode: [REPORT] [149|HpBaseWorkChain|on_terminated]: cleaned remote folders of calculations: 158\n",
      "02/18/2025 09:49:08 AM <48797> aiida.orm.nodes.process.workflow.workchain.WorkChainNode: [REPORT] [132|HpParallelizeAtomsWorkChain|run_final]: launched HpBaseWorkChain<170> to collect matrices\n",
      "02/18/2025 09:49:08 AM <48797> aiida.orm.nodes.process.workflow.workchain.WorkChainNode: [REPORT] [170|HpBaseWorkChain|run_process]: launching HpCalculation<173> iteration #1\n",
      "/opt/conda/lib/python3.9/site-packages/aiida/orm/nodes/data/code/legacy.py:565: AiidaDeprecationWarning: `Code.is_local` method is deprecated, use a `PortableCode` instance and check the type. (this will be removed in v3)\n",
      "  warn_deprecation(\n",
      "/opt/conda/lib/python3.9/site-packages/aiida/orm/nodes/data/code/legacy.py:523: AiidaDeprecationWarning: `Code.get_remote_computer` method is deprecated, use the `computer` attribute instead. (this will be removed in v3)\n",
      "  warn_deprecation(\n",
      "/opt/conda/lib/python3.9/site-packages/aiida/orm/nodes/data/code/legacy.py:565: AiidaDeprecationWarning: `Code.is_local` method is deprecated, use a `PortableCode` instance and check the type. (this will be removed in v3)\n",
      "  warn_deprecation(\n",
      "/opt/conda/lib/python3.9/site-packages/aiida/orm/nodes/data/code/legacy.py:513: AiidaDeprecationWarning: `Code.get_remote_exec_path` method is deprecated, use `InstalledCode.filepath_executable` instead. (this will be removed in v3)\n",
      "  warn_deprecation(\n",
      "02/18/2025 09:49:11 AM <48797> aiida.orm.nodes.process.workflow.workchain.WorkChainNode: [REPORT] [170|HpBaseWorkChain|results]: work chain completed after 1 iterations\n",
      "02/18/2025 09:49:11 AM <48797> aiida.orm.nodes.process.workflow.workchain.WorkChainNode: [REPORT] [170|HpBaseWorkChain|on_terminated]: remote folders will not be cleaned\n",
      "02/18/2025 09:49:11 AM <48797> aiida.orm.nodes.process.workflow.workchain.WorkChainNode: [REPORT] [170|HpBaseWorkChain|on_terminated]: remote folders will not be cleaned\n",
      "02/18/2025 09:49:12 AM <48797> aiida.orm.nodes.process.workflow.workchain.WorkChainNode: [REPORT] [132|HpParallelizeAtomsWorkChain|on_terminated]: cleaned remote folders of calculations: 137 152 155 158 173\n",
      "02/18/2025 09:49:13 AM <48797> aiida.orm.nodes.process.workflow.workchain.WorkChainNode: [REPORT] [128|HpWorkChain|on_terminated]: cleaned remote folders of calculations: 137 152 155 158 173\n"
     ]
    },
    {
     "data": {
      "text/plain": [
       "{'hubbard': <Dict: uuid: e97f52a2-a942-43f3-a827-121e3cff18c1 (pk: 177)>,\n",
       " 'hubbard_chi': <ArrayData: uuid: abae32e5-057c-4cfa-8d33-3cdac0292317 (pk: 179)>,\n",
       " 'hubbard_matrices': <ArrayData: uuid: 0319f3cc-cd5c-4084-8d9c-7656ddf4f0a9 (pk: 178)>,\n",
       " 'hubbard_structure': <HubbardStructureData: uuid: 3c1b6c74-1627-4f73-840a-e3866765650b (pk: 180)>,\n",
       " 'parameters': <Dict: uuid: ab2a083a-bfaa-4e61-b26b-6f6ad796eb80 (pk: 176)>,\n",
       " 'remote_folder': <RemoteData: uuid: 61aea6f8-cb79-4776-92d3-0d7542e0250b (pk: 174)>,\n",
       " 'retrieved': <FolderData: uuid: f7079947-c1f1-4c21-b155-06814b2d46f6 (pk: 175)>}"
      ]
     },
     "execution_count": 3,
     "metadata": {},
     "output_type": "execute_result"
    }
   ],
   "source": [
    "from aiida_hubbard.workflows.hp.main import HpWorkChain\n",
    "\n",
    "builder = HpWorkChain.get_builder_from_protocol(\n",
    "    code=data.hp_code,\n",
    "    protocol=\"fast\",\n",
    "    parent_scf_folder=pw_node.outputs.remote_folder,\n",
    "    overrides={\n",
    "        \"parallelize_atoms\":True, \n",
    "        \"parallelize_qpoints\":False, \n",
    "        \"hp\":{\"hubbard_structure\":data.structure},\n",
    "        \"qpoints_distance\": 100.0, # to get few q points\n",
    "        }\n",
    ")\n",
    "\n",
    "results, hp_node = run_get_node(builder)\n",
    "results"
   ]
  },
  {
   "attachments": {},
   "cell_type": "markdown",
   "metadata": {},
   "source": [
    "Let's have a look at the workflow:"
   ]
  },
  {
   "cell_type": "code",
   "execution_count": 4,
   "metadata": {},
   "outputs": [
    {
     "name": "stdout",
     "output_type": "stream",
     "text": [
      "\u001b[22mHpWorkChain<128> Finished [0] [3:results]\n",
      "    ├── create_kpoints_from_distance<130> Finished [0]\n",
      "    └── HpParallelizeAtomsWorkChain<132> Finished [0] [6:results]\n",
      "        ├── HpBaseWorkChain<134> Finished [0] [3:results]\n",
      "        │   └── HpCalculation<137> Finished [0]\n",
      "        ├── HpBaseWorkChain<143> Finished [0] [3:results]\n",
      "        │   └── HpCalculation<152> Finished [0]\n",
      "        ├── HpBaseWorkChain<146> Finished [0] [3:results]\n",
      "        │   └── HpCalculation<155> Finished [0]\n",
      "        ├── HpBaseWorkChain<149> Finished [0] [3:results]\n",
      "        │   └── HpCalculation<158> Finished [0]\n",
      "        └── HpBaseWorkChain<170> Finished [0] [3:results]\n",
      "            └── HpCalculation<173> Finished [0]\u001b[0m\n"
     ]
    }
   ],
   "source": [
    "%verdi process status {hp_node.pk}"
   ]
  },
  {
   "attachments": {},
   "cell_type": "markdown",
   "metadata": {},
   "source": [
    "The following just happened:\n",
    "- A grid of q points is generated automatically using the distance (between points) in $\\r{A}^{-1}$ we gave in input (of 100 $\\r{A}^{-1}$ to have very sparse - it is just a tutorial!).\n",
    "- The `HpParallelizeAtomsWorkChain` is called.\n",
    "- This work chain calls first a `HpBaseWorkChain` to get the independent atoms to perturb.\n",
    "- **Three** `HpBaseWorkChain` are submitted __simultaneously__, one for cobalt, and two for the two oxygen sites.\n",
    "- The response matrices ($\\chi^{(0)}$,$\\chi$) of each atom are collected to post-process them and compute the final U/V values using $V_{IJ} = (\\chi^{(0) -1} -\\chi^{-1})_{IJ}$\n",
    "\n",
    "As for the `HpBaseWorkChain`, we also have here the `hubbard_structure` output namespace, containing the same results as the serial execution:"
   ]
  },
  {
   "cell_type": "code",
   "execution_count": 5,
   "metadata": {},
   "outputs": [
    {
     "name": "stdout",
     "output_type": "stream",
     "text": [
      "HUBBARD\tortho-atomic\n",
      " V\tCo-3d\tCo-3d\t1\t1\t9.8969\n",
      " V\tCo-3d\tO-2p\t1\t11\t3.3429\n",
      " V\tCo-3d\tO-2p\t1\t22\t3.3407\n",
      "\n"
     ]
    }
   ],
   "source": [
    "from aiida_quantumespresso.utils.hubbard import HubbardUtils\n",
    "print(HubbardUtils(results['hubbard_structure']).get_hubbard_card())"
   ]
  },
  {
   "attachments": {},
   "cell_type": "markdown",
   "metadata": {},
   "source": [
    "## Parallelize q points for each perturbed atom\n",
    "\n",
    "In density-functional perturbation theory, we can simulate linear responses in reciprocal space as monocrhomatic perturbations, described via a grid of __q points__: each q point a monocrhomatic perturbation. The number of q points can be reduced using symmetries, and each Hubbard atom (manifold) will have in principle different number of perturbations.\n",
    "\n",
    "Specifying the input `parallelize_qpoints` as `True` in `HpWorkChain`, each single independent q point _of each atom_ will run as a separate `HpBaseWorkChain`.\n",
    "\n",
    ":::{important}\n",
    "To parallelize over q points you __MUST__ parallelize over atoms as well.\n",
    ":::"
   ]
  },
  {
   "cell_type": "code",
   "execution_count": 6,
   "metadata": {
    "tags": [
     "hide-output"
    ]
   },
   "outputs": [
    {
     "name": "stdout",
     "output_type": "stream",
     "text": [
      "\u001b[34m\u001b[1mReport\u001b[0m: [189|HpWorkChain|run_parallel_workchain]: running in parallel, launching HpParallelizeAtomsWorkChain<193>\n",
      "\u001b[34m\u001b[1mReport\u001b[0m: [193|HpParallelizeAtomsWorkChain|run_init]: launched initialization HpBaseWorkChain<195>\n",
      "\u001b[34m\u001b[1mReport\u001b[0m: [195|HpBaseWorkChain|run_process]: launching HpCalculation<198> iteration #1\n"
     ]
    },
    {
     "name": "stderr",
     "output_type": "stream",
     "text": [
      "/opt/conda/lib/python3.9/site-packages/aiida/orm/nodes/data/code/legacy.py:565: AiidaDeprecationWarning: `Code.is_local` method is deprecated, use a `PortableCode` instance and check the type. (this will be removed in v3)\n",
      "  warn_deprecation(\n",
      "/opt/conda/lib/python3.9/site-packages/aiida/orm/nodes/data/code/legacy.py:523: AiidaDeprecationWarning: `Code.get_remote_computer` method is deprecated, use the `computer` attribute instead. (this will be removed in v3)\n",
      "  warn_deprecation(\n",
      "/opt/conda/lib/python3.9/site-packages/aiida/orm/nodes/data/code/legacy.py:565: AiidaDeprecationWarning: `Code.is_local` method is deprecated, use a `PortableCode` instance and check the type. (this will be removed in v3)\n",
      "  warn_deprecation(\n",
      "/opt/conda/lib/python3.9/site-packages/aiida/orm/nodes/data/code/legacy.py:513: AiidaDeprecationWarning: `Code.get_remote_exec_path` method is deprecated, use `InstalledCode.filepath_executable` instead. (this will be removed in v3)\n",
      "  warn_deprecation(\n"
     ]
    },
    {
     "name": "stdout",
     "output_type": "stream",
     "text": [
      "\u001b[34m\u001b[1mReport\u001b[0m: [195|HpBaseWorkChain|results]: work chain completed after 1 iterations\n",
      "\u001b[34m\u001b[1mReport\u001b[0m: [195|HpBaseWorkChain|on_terminated]: cleaned remote folders of calculations: 198\n",
      "\u001b[34m\u001b[1mReport\u001b[0m: [195|HpBaseWorkChain|on_terminated]: cleaned remote folders of calculations: 198\n",
      "\u001b[34m\u001b[1mReport\u001b[0m: [193|HpParallelizeAtomsWorkChain|run_atoms]: launched HpParallelizeQpointsWorkChain<204> for atomic site 1 of kind Co\n",
      "\u001b[34m\u001b[1mReport\u001b[0m: [193|HpParallelizeAtomsWorkChain|run_atoms]: launched HpParallelizeQpointsWorkChain<207> for atomic site 2 of kind O\n",
      "\u001b[34m\u001b[1mReport\u001b[0m: [204|HpParallelizeQpointsWorkChain|run_init]: launched initialization HpBaseWorkChain<210>\n",
      "\u001b[34m\u001b[1mReport\u001b[0m: [207|HpParallelizeQpointsWorkChain|run_init]: launched initialization HpBaseWorkChain<213>\n",
      "\u001b[34m\u001b[1mReport\u001b[0m: [210|HpBaseWorkChain|run_process]: launching HpCalculation<216> iteration #1\n",
      "\u001b[34m\u001b[1mReport\u001b[0m: [213|HpBaseWorkChain|run_process]: launching HpCalculation<219> iteration #1\n"
     ]
    },
    {
     "name": "stderr",
     "output_type": "stream",
     "text": [
      "/opt/conda/lib/python3.9/site-packages/aiida/orm/nodes/data/code/legacy.py:565: AiidaDeprecationWarning: `Code.is_local` method is deprecated, use a `PortableCode` instance and check the type. (this will be removed in v3)\n",
      "  warn_deprecation(\n",
      "/opt/conda/lib/python3.9/site-packages/aiida/orm/nodes/data/code/legacy.py:523: AiidaDeprecationWarning: `Code.get_remote_computer` method is deprecated, use the `computer` attribute instead. (this will be removed in v3)\n",
      "  warn_deprecation(\n",
      "/opt/conda/lib/python3.9/site-packages/aiida/orm/nodes/data/code/legacy.py:565: AiidaDeprecationWarning: `Code.is_local` method is deprecated, use a `PortableCode` instance and check the type. (this will be removed in v3)\n",
      "  warn_deprecation(\n",
      "/opt/conda/lib/python3.9/site-packages/aiida/orm/nodes/data/code/legacy.py:513: AiidaDeprecationWarning: `Code.get_remote_exec_path` method is deprecated, use `InstalledCode.filepath_executable` instead. (this will be removed in v3)\n",
      "  warn_deprecation(\n",
      "/opt/conda/lib/python3.9/site-packages/aiida/orm/nodes/data/code/legacy.py:565: AiidaDeprecationWarning: `Code.is_local` method is deprecated, use a `PortableCode` instance and check the type. (this will be removed in v3)\n",
      "  warn_deprecation(\n",
      "/opt/conda/lib/python3.9/site-packages/aiida/orm/nodes/data/code/legacy.py:523: AiidaDeprecationWarning: `Code.get_remote_computer` method is deprecated, use the `computer` attribute instead. (this will be removed in v3)\n",
      "  warn_deprecation(\n",
      "/opt/conda/lib/python3.9/site-packages/aiida/orm/nodes/data/code/legacy.py:565: AiidaDeprecationWarning: `Code.is_local` method is deprecated, use a `PortableCode` instance and check the type. (this will be removed in v3)\n",
      "  warn_deprecation(\n",
      "/opt/conda/lib/python3.9/site-packages/aiida/orm/nodes/data/code/legacy.py:513: AiidaDeprecationWarning: `Code.get_remote_exec_path` method is deprecated, use `InstalledCode.filepath_executable` instead. (this will be removed in v3)\n",
      "  warn_deprecation(\n"
     ]
    },
    {
     "name": "stdout",
     "output_type": "stream",
     "text": [
      "\u001b[34m\u001b[1mReport\u001b[0m: [210|HpBaseWorkChain|results]: work chain completed after 1 iterations\n",
      "\u001b[34m\u001b[1mReport\u001b[0m: [210|HpBaseWorkChain|on_terminated]: cleaned remote folders of calculations: 216\n",
      "\u001b[34m\u001b[1mReport\u001b[0m: [210|HpBaseWorkChain|on_terminated]: cleaned remote folders of calculations: 216\n",
      "\u001b[34m\u001b[1mReport\u001b[0m: [213|HpBaseWorkChain|results]: work chain completed after 1 iterations\n",
      "\u001b[34m\u001b[1mReport\u001b[0m: [213|HpBaseWorkChain|on_terminated]: cleaned remote folders of calculations: 219\n",
      "\u001b[34m\u001b[1mReport\u001b[0m: [213|HpBaseWorkChain|on_terminated]: cleaned remote folders of calculations: 219\n",
      "\u001b[34m\u001b[1mReport\u001b[0m: [204|HpParallelizeQpointsWorkChain|run_qpoints]: launched HpBaseWorkChain<228> for q point 0\n",
      "\u001b[34m\u001b[1mReport\u001b[0m: [228|HpBaseWorkChain|run_process]: launching HpCalculation<231> iteration #1\n",
      "\u001b[34m\u001b[1mReport\u001b[0m: [207|HpParallelizeQpointsWorkChain|run_qpoints]: launched HpBaseWorkChain<234> for q point 0\n",
      "\u001b[34m\u001b[1mReport\u001b[0m: [234|HpBaseWorkChain|run_process]: launching HpCalculation<237> iteration #1\n"
     ]
    },
    {
     "name": "stderr",
     "output_type": "stream",
     "text": [
      "/opt/conda/lib/python3.9/site-packages/aiida/orm/nodes/data/code/legacy.py:565: AiidaDeprecationWarning: `Code.is_local` method is deprecated, use a `PortableCode` instance and check the type. (this will be removed in v3)\n",
      "  warn_deprecation(\n",
      "/opt/conda/lib/python3.9/site-packages/aiida/orm/nodes/data/code/legacy.py:523: AiidaDeprecationWarning: `Code.get_remote_computer` method is deprecated, use the `computer` attribute instead. (this will be removed in v3)\n",
      "  warn_deprecation(\n",
      "/opt/conda/lib/python3.9/site-packages/aiida/orm/nodes/data/code/legacy.py:565: AiidaDeprecationWarning: `Code.is_local` method is deprecated, use a `PortableCode` instance and check the type. (this will be removed in v3)\n",
      "  warn_deprecation(\n",
      "/opt/conda/lib/python3.9/site-packages/aiida/orm/nodes/data/code/legacy.py:513: AiidaDeprecationWarning: `Code.get_remote_exec_path` method is deprecated, use `InstalledCode.filepath_executable` instead. (this will be removed in v3)\n",
      "  warn_deprecation(\n",
      "/opt/conda/lib/python3.9/site-packages/aiida/orm/nodes/data/code/legacy.py:565: AiidaDeprecationWarning: `Code.is_local` method is deprecated, use a `PortableCode` instance and check the type. (this will be removed in v3)\n",
      "  warn_deprecation(\n",
      "/opt/conda/lib/python3.9/site-packages/aiida/orm/nodes/data/code/legacy.py:523: AiidaDeprecationWarning: `Code.get_remote_computer` method is deprecated, use the `computer` attribute instead. (this will be removed in v3)\n",
      "  warn_deprecation(\n",
      "/opt/conda/lib/python3.9/site-packages/aiida/orm/nodes/data/code/legacy.py:565: AiidaDeprecationWarning: `Code.is_local` method is deprecated, use a `PortableCode` instance and check the type. (this will be removed in v3)\n",
      "  warn_deprecation(\n",
      "/opt/conda/lib/python3.9/site-packages/aiida/orm/nodes/data/code/legacy.py:513: AiidaDeprecationWarning: `Code.get_remote_exec_path` method is deprecated, use `InstalledCode.filepath_executable` instead. (this will be removed in v3)\n",
      "  warn_deprecation(\n"
     ]
    },
    {
     "name": "stdout",
     "output_type": "stream",
     "text": [
      "\u001b[34m\u001b[1mReport\u001b[0m: [228|HpBaseWorkChain|results]: work chain completed after 1 iterations\n",
      "\u001b[34m\u001b[1mReport\u001b[0m: [228|HpBaseWorkChain|on_terminated]: cleaned remote folders of calculations: 231\n",
      "\u001b[34m\u001b[1mReport\u001b[0m: [228|HpBaseWorkChain|on_terminated]: cleaned remote folders of calculations: 231\n",
      "\u001b[34m\u001b[1mReport\u001b[0m: [204|HpParallelizeQpointsWorkChain|run_final]: launched HpBaseWorkChain<246> to collect perturbation matrices\n",
      "\u001b[34m\u001b[1mReport\u001b[0m: [246|HpBaseWorkChain|run_process]: launching HpCalculation<249> iteration #1\n",
      "\u001b[34m\u001b[1mReport\u001b[0m: [234|HpBaseWorkChain|results]: work chain completed after 1 iterations\n",
      "\u001b[34m\u001b[1mReport\u001b[0m: [234|HpBaseWorkChain|on_terminated]: cleaned remote folders of calculations: 237\n",
      "\u001b[34m\u001b[1mReport\u001b[0m: [234|HpBaseWorkChain|on_terminated]: cleaned remote folders of calculations: 237\n"
     ]
    },
    {
     "name": "stderr",
     "output_type": "stream",
     "text": [
      "/opt/conda/lib/python3.9/site-packages/aiida/orm/nodes/data/code/legacy.py:565: AiidaDeprecationWarning: `Code.is_local` method is deprecated, use a `PortableCode` instance and check the type. (this will be removed in v3)\n",
      "  warn_deprecation(\n",
      "/opt/conda/lib/python3.9/site-packages/aiida/orm/nodes/data/code/legacy.py:523: AiidaDeprecationWarning: `Code.get_remote_computer` method is deprecated, use the `computer` attribute instead. (this will be removed in v3)\n",
      "  warn_deprecation(\n",
      "/opt/conda/lib/python3.9/site-packages/aiida/orm/nodes/data/code/legacy.py:565: AiidaDeprecationWarning: `Code.is_local` method is deprecated, use a `PortableCode` instance and check the type. (this will be removed in v3)\n",
      "  warn_deprecation(\n",
      "/opt/conda/lib/python3.9/site-packages/aiida/orm/nodes/data/code/legacy.py:513: AiidaDeprecationWarning: `Code.get_remote_exec_path` method is deprecated, use `InstalledCode.filepath_executable` instead. (this will be removed in v3)\n",
      "  warn_deprecation(\n"
     ]
    },
    {
     "name": "stdout",
     "output_type": "stream",
     "text": [
      "\u001b[34m\u001b[1mReport\u001b[0m: [207|HpParallelizeQpointsWorkChain|run_final]: launched HpBaseWorkChain<253> to collect perturbation matrices\n",
      "\u001b[34m\u001b[1mReport\u001b[0m: [253|HpBaseWorkChain|run_process]: launching HpCalculation<256> iteration #1\n"
     ]
    },
    {
     "name": "stderr",
     "output_type": "stream",
     "text": [
      "/opt/conda/lib/python3.9/site-packages/aiida/orm/nodes/data/code/legacy.py:565: AiidaDeprecationWarning: `Code.is_local` method is deprecated, use a `PortableCode` instance and check the type. (this will be removed in v3)\n",
      "  warn_deprecation(\n",
      "/opt/conda/lib/python3.9/site-packages/aiida/orm/nodes/data/code/legacy.py:523: AiidaDeprecationWarning: `Code.get_remote_computer` method is deprecated, use the `computer` attribute instead. (this will be removed in v3)\n",
      "  warn_deprecation(\n",
      "/opt/conda/lib/python3.9/site-packages/aiida/orm/nodes/data/code/legacy.py:565: AiidaDeprecationWarning: `Code.is_local` method is deprecated, use a `PortableCode` instance and check the type. (this will be removed in v3)\n",
      "  warn_deprecation(\n",
      "/opt/conda/lib/python3.9/site-packages/aiida/orm/nodes/data/code/legacy.py:513: AiidaDeprecationWarning: `Code.get_remote_exec_path` method is deprecated, use `InstalledCode.filepath_executable` instead. (this will be removed in v3)\n",
      "  warn_deprecation(\n"
     ]
    },
    {
     "name": "stdout",
     "output_type": "stream",
     "text": [
      "\u001b[34m\u001b[1mReport\u001b[0m: [246|HpBaseWorkChain|results]: work chain completed after 1 iterations\n",
      "\u001b[34m\u001b[1mReport\u001b[0m: [246|HpBaseWorkChain|on_terminated]: remote folders will not be cleaned\n",
      "\u001b[34m\u001b[1mReport\u001b[0m: [246|HpBaseWorkChain|on_terminated]: remote folders will not be cleaned\n",
      "\u001b[34m\u001b[1mReport\u001b[0m: [204|HpParallelizeQpointsWorkChain|on_terminated]: cleaned remote folders of calculations: 216 231 249\n",
      "\u001b[34m\u001b[1mReport\u001b[0m: [253|HpBaseWorkChain|results]: work chain completed after 1 iterations\n",
      "\u001b[34m\u001b[1mReport\u001b[0m: [253|HpBaseWorkChain|on_terminated]: remote folders will not be cleaned\n",
      "\u001b[34m\u001b[1mReport\u001b[0m: [253|HpBaseWorkChain|on_terminated]: remote folders will not be cleaned\n",
      "\u001b[34m\u001b[1mReport\u001b[0m: [207|HpParallelizeQpointsWorkChain|on_terminated]: cleaned remote folders of calculations: 219 237 256\n",
      "\u001b[34m\u001b[1mReport\u001b[0m: [193|HpParallelizeAtomsWorkChain|run_atoms]: launched HpParallelizeQpointsWorkChain<264> for atomic site 3 of kind O\n",
      "\u001b[34m\u001b[1mReport\u001b[0m: [264|HpParallelizeQpointsWorkChain|run_init]: launched initialization HpBaseWorkChain<267>\n",
      "\u001b[34m\u001b[1mReport\u001b[0m: [267|HpBaseWorkChain|run_process]: launching HpCalculation<270> iteration #1\n"
     ]
    },
    {
     "name": "stderr",
     "output_type": "stream",
     "text": [
      "/opt/conda/lib/python3.9/site-packages/aiida/orm/nodes/data/code/legacy.py:565: AiidaDeprecationWarning: `Code.is_local` method is deprecated, use a `PortableCode` instance and check the type. (this will be removed in v3)\n",
      "  warn_deprecation(\n",
      "/opt/conda/lib/python3.9/site-packages/aiida/orm/nodes/data/code/legacy.py:523: AiidaDeprecationWarning: `Code.get_remote_computer` method is deprecated, use the `computer` attribute instead. (this will be removed in v3)\n",
      "  warn_deprecation(\n",
      "/opt/conda/lib/python3.9/site-packages/aiida/orm/nodes/data/code/legacy.py:565: AiidaDeprecationWarning: `Code.is_local` method is deprecated, use a `PortableCode` instance and check the type. (this will be removed in v3)\n",
      "  warn_deprecation(\n",
      "/opt/conda/lib/python3.9/site-packages/aiida/orm/nodes/data/code/legacy.py:513: AiidaDeprecationWarning: `Code.get_remote_exec_path` method is deprecated, use `InstalledCode.filepath_executable` instead. (this will be removed in v3)\n",
      "  warn_deprecation(\n"
     ]
    },
    {
     "name": "stdout",
     "output_type": "stream",
     "text": [
      "\u001b[34m\u001b[1mReport\u001b[0m: [267|HpBaseWorkChain|results]: work chain completed after 1 iterations\n",
      "\u001b[34m\u001b[1mReport\u001b[0m: [267|HpBaseWorkChain|on_terminated]: cleaned remote folders of calculations: 270\n",
      "\u001b[34m\u001b[1mReport\u001b[0m: [267|HpBaseWorkChain|on_terminated]: cleaned remote folders of calculations: 270\n",
      "\u001b[34m\u001b[1mReport\u001b[0m: [264|HpParallelizeQpointsWorkChain|run_qpoints]: launched HpBaseWorkChain<276> for q point 0\n",
      "\u001b[34m\u001b[1mReport\u001b[0m: [276|HpBaseWorkChain|run_process]: launching HpCalculation<279> iteration #1\n"
     ]
    },
    {
     "name": "stderr",
     "output_type": "stream",
     "text": [
      "/opt/conda/lib/python3.9/site-packages/aiida/orm/nodes/data/code/legacy.py:565: AiidaDeprecationWarning: `Code.is_local` method is deprecated, use a `PortableCode` instance and check the type. (this will be removed in v3)\n",
      "  warn_deprecation(\n",
      "/opt/conda/lib/python3.9/site-packages/aiida/orm/nodes/data/code/legacy.py:523: AiidaDeprecationWarning: `Code.get_remote_computer` method is deprecated, use the `computer` attribute instead. (this will be removed in v3)\n",
      "  warn_deprecation(\n",
      "/opt/conda/lib/python3.9/site-packages/aiida/orm/nodes/data/code/legacy.py:565: AiidaDeprecationWarning: `Code.is_local` method is deprecated, use a `PortableCode` instance and check the type. (this will be removed in v3)\n",
      "  warn_deprecation(\n",
      "/opt/conda/lib/python3.9/site-packages/aiida/orm/nodes/data/code/legacy.py:513: AiidaDeprecationWarning: `Code.get_remote_exec_path` method is deprecated, use `InstalledCode.filepath_executable` instead. (this will be removed in v3)\n",
      "  warn_deprecation(\n"
     ]
    },
    {
     "name": "stdout",
     "output_type": "stream",
     "text": [
      "\u001b[34m\u001b[1mReport\u001b[0m: [276|HpBaseWorkChain|results]: work chain completed after 1 iterations\n",
      "\u001b[34m\u001b[1mReport\u001b[0m: [276|HpBaseWorkChain|on_terminated]: cleaned remote folders of calculations: 279\n",
      "\u001b[34m\u001b[1mReport\u001b[0m: [276|HpBaseWorkChain|on_terminated]: cleaned remote folders of calculations: 279\n",
      "\u001b[34m\u001b[1mReport\u001b[0m: [264|HpParallelizeQpointsWorkChain|run_final]: launched HpBaseWorkChain<285> to collect perturbation matrices\n",
      "\u001b[34m\u001b[1mReport\u001b[0m: [285|HpBaseWorkChain|run_process]: launching HpCalculation<288> iteration #1\n"
     ]
    },
    {
     "name": "stderr",
     "output_type": "stream",
     "text": [
      "/opt/conda/lib/python3.9/site-packages/aiida/orm/nodes/data/code/legacy.py:565: AiidaDeprecationWarning: `Code.is_local` method is deprecated, use a `PortableCode` instance and check the type. (this will be removed in v3)\n",
      "  warn_deprecation(\n",
      "/opt/conda/lib/python3.9/site-packages/aiida/orm/nodes/data/code/legacy.py:523: AiidaDeprecationWarning: `Code.get_remote_computer` method is deprecated, use the `computer` attribute instead. (this will be removed in v3)\n",
      "  warn_deprecation(\n",
      "/opt/conda/lib/python3.9/site-packages/aiida/orm/nodes/data/code/legacy.py:565: AiidaDeprecationWarning: `Code.is_local` method is deprecated, use a `PortableCode` instance and check the type. (this will be removed in v3)\n",
      "  warn_deprecation(\n",
      "/opt/conda/lib/python3.9/site-packages/aiida/orm/nodes/data/code/legacy.py:513: AiidaDeprecationWarning: `Code.get_remote_exec_path` method is deprecated, use `InstalledCode.filepath_executable` instead. (this will be removed in v3)\n",
      "  warn_deprecation(\n"
     ]
    },
    {
     "name": "stdout",
     "output_type": "stream",
     "text": [
      "\u001b[34m\u001b[1mReport\u001b[0m: [285|HpBaseWorkChain|results]: work chain completed after 1 iterations\n",
      "\u001b[34m\u001b[1mReport\u001b[0m: [285|HpBaseWorkChain|on_terminated]: remote folders will not be cleaned\n",
      "\u001b[34m\u001b[1mReport\u001b[0m: [285|HpBaseWorkChain|on_terminated]: remote folders will not be cleaned\n",
      "\u001b[34m\u001b[1mReport\u001b[0m: [264|HpParallelizeQpointsWorkChain|on_terminated]: cleaned remote folders of calculations: 270 279 288\n",
      "\u001b[34m\u001b[1mReport\u001b[0m: [193|HpParallelizeAtomsWorkChain|run_final]: launched HpBaseWorkChain<294> to collect matrices\n",
      "\u001b[34m\u001b[1mReport\u001b[0m: [294|HpBaseWorkChain|run_process]: launching HpCalculation<297> iteration #1\n"
     ]
    },
    {
     "name": "stderr",
     "output_type": "stream",
     "text": [
      "/opt/conda/lib/python3.9/site-packages/aiida/orm/nodes/data/code/legacy.py:565: AiidaDeprecationWarning: `Code.is_local` method is deprecated, use a `PortableCode` instance and check the type. (this will be removed in v3)\n",
      "  warn_deprecation(\n",
      "/opt/conda/lib/python3.9/site-packages/aiida/orm/nodes/data/code/legacy.py:523: AiidaDeprecationWarning: `Code.get_remote_computer` method is deprecated, use the `computer` attribute instead. (this will be removed in v3)\n",
      "  warn_deprecation(\n",
      "/opt/conda/lib/python3.9/site-packages/aiida/orm/nodes/data/code/legacy.py:565: AiidaDeprecationWarning: `Code.is_local` method is deprecated, use a `PortableCode` instance and check the type. (this will be removed in v3)\n",
      "  warn_deprecation(\n",
      "/opt/conda/lib/python3.9/site-packages/aiida/orm/nodes/data/code/legacy.py:513: AiidaDeprecationWarning: `Code.get_remote_exec_path` method is deprecated, use `InstalledCode.filepath_executable` instead. (this will be removed in v3)\n",
      "  warn_deprecation(\n"
     ]
    },
    {
     "name": "stdout",
     "output_type": "stream",
     "text": [
      "\u001b[34m\u001b[1mReport\u001b[0m: [294|HpBaseWorkChain|results]: work chain completed after 1 iterations\n",
      "\u001b[34m\u001b[1mReport\u001b[0m: [294|HpBaseWorkChain|on_terminated]: remote folders will not be cleaned\n",
      "\u001b[34m\u001b[1mReport\u001b[0m: [294|HpBaseWorkChain|on_terminated]: remote folders will not be cleaned\n",
      "\u001b[34m\u001b[1mReport\u001b[0m: [193|HpParallelizeAtomsWorkChain|on_terminated]: cleaned remote folders of calculations: 198 216 231 249 219 237 256 270 279 288 297\n",
      "\u001b[34m\u001b[1mReport\u001b[0m: [189|HpWorkChain|on_terminated]: cleaned remote folders of calculations: 198 216 231 249 219 237 256 270 279 288 297\n"
     ]
    }
   ],
   "source": [
    "builder = HpWorkChain.get_builder_from_protocol(\n",
    "    code=data.hp_code,\n",
    "    protocol=\"fast\",\n",
    "    parent_scf_folder=pw_node.outputs.remote_folder,\n",
    "    overrides={\n",
    "        \"parallelize_atoms\":True, \n",
    "        \"parallelize_qpoints\":True,  \n",
    "        \"hp\":{\"hubbard_structure\":data.structure},\n",
    "        \"qpoints_distance\": 1000, # to get few q points\n",
    "        \"max_concurrent_base_workchains\": 2, # useful to not overload HPC or local computer\n",
    "    }\n",
    ")\n",
    "\n",
    "results, hp_node = run_get_node(builder)"
   ]
  },
  {
   "cell_type": "code",
   "execution_count": 7,
   "metadata": {},
   "outputs": [
    {
     "name": "stdout",
     "output_type": "stream",
     "text": [
      "\u001b[22mHpWorkChain<189> Finished [0] [3:results]\n",
      "    ├── create_kpoints_from_distance<191> Finished [0]\n",
      "    └── HpParallelizeAtomsWorkChain<193> Finished [0] [6:results]\n",
      "        ├── HpBaseWorkChain<195> Finished [0] [3:results]\n",
      "        │   └── HpCalculation<198> Finished [0]\n",
      "        ├── HpParallelizeQpointsWorkChain<204> Finished [0] [5:results]\n",
      "        │   ├── HpBaseWorkChain<210> Finished [0] [3:results]\n",
      "        │   │   └── HpCalculation<216> Finished [0]\n",
      "        │   ├── HpBaseWorkChain<228> Finished [0] [3:results]\n",
      "        │   │   └── HpCalculation<231> Finished [0]\n",
      "        │   └── HpBaseWorkChain<246> Finished [0] [3:results]\n",
      "        │       └── HpCalculation<249> Finished [0]\n",
      "        ├── HpParallelizeQpointsWorkChain<207> Finished [0] [5:results]\n",
      "        │   ├── HpBaseWorkChain<213> Finished [0] [3:results]\n",
      "        │   │   └── HpCalculation<219> Finished [0]\n",
      "        │   ├── HpBaseWorkChain<234> Finished [0] [3:results]\n",
      "        │   │   └── HpCalculation<237> Finished [0]\n",
      "        │   └── HpBaseWorkChain<253> Finished [0] [3:results]\n",
      "        │       └── HpCalculation<256> Finished [0]\n",
      "        ├── HpParallelizeQpointsWorkChain<264> Finished [0] [5:results]\n",
      "        │   ├── HpBaseWorkChain<267> Finished [0] [3:results]\n",
      "        │   │   └── HpCalculation<270> Finished [0]\n",
      "        │   ├── HpBaseWorkChain<276> Finished [0] [3:results]\n",
      "        │   │   └── HpCalculation<279> Finished [0]\n",
      "        │   └── HpBaseWorkChain<285> Finished [0] [3:results]\n",
      "        │       └── HpCalculation<288> Finished [0]\n",
      "        └── HpBaseWorkChain<294> Finished [0] [3:results]\n",
      "            └── HpCalculation<297> Finished [0]\u001b[0m\n"
     ]
    }
   ],
   "source": [
    "%verdi process status {hp_node.pk}"
   ]
  },
  {
   "attachments": {},
   "cell_type": "markdown",
   "metadata": {},
   "source": [
    "The following just happened:\n",
    "- A grid of q points was generated automatically using the distance (between points) in $\\r{A}^{-1}$ we gave in input (of 1000 $\\r{A}^{-1}$ to have very sparse - it is just a tutorial!).\n",
    "- The `HpParallelizeAtomsWorkChain` is called.\n",
    "- This work chain calls first a `HpBaseWorkChain` to get the independent atoms to perturb.\n",
    "- For independent each atom (three in total) an `HpParallelizeQpointsWorkChain` is submitted __simultaneously__, one for cobalt, and two for the two oxygen sites.\n",
    "- Each of such work chain submit a fist `HpBaseWorkChain` to get the independent q points (in this case, only 1).\n",
    "- An `HpBaseWorkCahin` is run for every q points, executed at the same time. __Imagine this on an HPC!__ 🚀\n",
    "- The response matrices ($\\chi^{(0)}_{\\mathbf{q}}$,$\\chi_{\\mathbf{q}}$) of each q point for each atom are collected to post-process them and compute the atomic response matrices.\n",
    "- A last final `HpBaseWorkChain` collects such matrices to compute U/V values.\n",
    "\n",
    "And we check the results are the same as before:"
   ]
  },
  {
   "cell_type": "code",
   "execution_count": 8,
   "metadata": {},
   "outputs": [
    {
     "name": "stdout",
     "output_type": "stream",
     "text": [
      "HUBBARD\tortho-atomic\n",
      " V\tCo-3d\tCo-3d\t1\t1\t9.8969\n",
      " V\tCo-3d\tO-2p\t1\t11\t3.3429\n",
      " V\tCo-3d\tO-2p\t1\t22\t3.3407\n",
      "\n"
     ]
    }
   ],
   "source": [
    "print(HubbardUtils(results['hubbard_structure']).get_hubbard_card())"
   ]
  },
  {
   "attachments": {},
   "cell_type": "markdown",
   "metadata": {},
   "source": [
    "## Final considerations\n",
    "\n",
    "We managed to compute the Hubbard parameters __parallelizing over atoms and q points__! 🎉\n",
    "\n",
    "Still, you might need to converge self-consistently the parameters using the iterative procedure of relax -> scf -> hubbard.\n",
    "Learn the automated way [in the last tutorial](./3_self_consistent.ipynb)!\n",
    "\n",
    ":::{admonition} Learn more and in details\n",
    ":class: hint\n",
    "\n",
    "To learn the full sets of inputs, to use proficiently the `get_builder_from_protocol` and more, have a look at the following sections:\n",
    "- [Specific how tos](howto/workflows/hp/main.md)\n",
    "- [General information of the implemented workchain](topics/workflows/hp/main.md)\n",
    ":::"
   ]
  }
 ],
 "metadata": {
  "kernelspec": {
   "display_name": "base",
   "language": "python",
   "name": "python3"
  },
  "language_info": {
   "codemirror_mode": {
    "name": "ipython",
    "version": 3
   },
   "file_extension": ".py",
   "mimetype": "text/x-python",
   "name": "python",
   "nbconvert_exporter": "python",
   "pygments_lexer": "ipython3",
   "version": "3.8.10"
  },
  "orig_nbformat": 4,
  "vscode": {
   "interpreter": {
    "hash": "d4d1e4263499bec80672ea0156c357c1ee493ec2b1c70f0acce89fc37c4a6abe"
   }
  }
 },
 "nbformat": 4,
 "nbformat_minor": 2
}

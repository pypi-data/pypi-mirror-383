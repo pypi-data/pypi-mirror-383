{
 "cells": [
  {
   "cell_type": "markdown",
   "id": "6f84d2ac-5d7c-4f07-a9fb-23cc95ad263e",
   "metadata": {
    "tags": []
   },
   "source": [
    "## Calculate Future Energy Prices\n",
    "\n",
    "Two strategies:\n",
    "\n",
    "[1] Monthly average price from CBS + inflation rate (2% or 4%):   Future Price = [Current Price × (1 + inflation rate)^years into the future]\n",
    "\n",
    "[2] Policy based scenarios \n",
    "\n",
    "Steps:\n",
    "\n",
    "[1] Data collection for the current energy prices from CBS\n",
    "\n",
    "[2] Inflation correction\n",
    "\n",
    "[3] Determining energy scenarios based on KEV: scenario-based price pathways (e.g. moderate and high)\n",
    "\n",
    "\n",
    "References:\n",
    "\n",
    "CBS monthly average prices for gas and electricity: https://opendata.cbs.nl/statline/#/CBS/en/dataset/85592ENG/table?ts=1749022887872\n",
    "\n",
    "PBL future scenarios for gas and electricity: https://www.pbl.nl/kev/publicaties ( pbl-2023-scenarios-voor-aardgas-en-elektriciteitsprijzen-voor-kleinverbruikers-in-de-periode-2025-2040_0)\n",
    "\n",
    "Notes:\n",
    "\n",
    "CBL prices include VAT\n",
    "\n",
    "Total CBL prices are calculated based on the 'Variable delivery rate contract prices (Euro/m3)' and 'Energy tax (Euro/m3)' figures in CSV "
   ]
  },
  {
   "cell_type": "markdown",
   "id": "2ea93bca",
   "metadata": {},
   "source": [
    "## Importing input data"
   ]
  },
  {
   "cell_type": "code",
   "execution_count": 1,
   "id": "ea4f1eb4-b27d-441e-ab3d-34870c1f71db",
   "metadata": {
    "tags": []
   },
   "outputs": [],
   "source": [
    "import os\n",
    "\n",
    "# importing sys\n",
    "import sys\n",
    "\n",
    "import tracemalloc\n",
    "\n",
    "import numpy as np\n",
    "import pandas as pd\n",
    "from tqdm import tqdm\n",
    "\n",
    "%matplotlib inline\n",
    "\n",
    "tracemalloc.start()"
   ]
  },
  {
   "cell_type": "code",
   "execution_count": 2,
   "id": "d3130a5e",
   "metadata": {},
   "outputs": [],
   "source": [
    "# Step 1: Load the dataset\n",
    "file_path_CBS = 'energy_prices_original.csv'  \n",
    "df = pd.read_csv(file_path_CBS)"
   ]
  },
  {
   "cell_type": "code",
   "execution_count": 3,
   "id": "aeff1284",
   "metadata": {},
   "outputs": [],
   "source": [
    "columns_to_remove = [\n",
    "    'Natural gas/Variable delivery rate with price cap (Euro/m3)', \n",
    "    'Electricity/Variable delivery rate with price cap (Euro/kWh)', \n",
    "    'Electricity/Energy tax refund (Euro/year)'\n",
    "]\n",
    "\n",
    "df = df.drop(columns=columns_to_remove, errors='ignore')"
   ]
  },
  {
   "cell_type": "code",
   "execution_count": 4,
   "id": "b46fb74d",
   "metadata": {},
   "outputs": [],
   "source": [
    "#transport rate is per year in the original dataset, so it needs a conversion\n",
    "df['Electricity/Transport rate (Euro/year)'] = df['Electricity/Transport rate (Euro/year)'] / 12\n",
    "df['Natural gas/Transport rate (Euro/year)'] = df['Natural gas/Transport rate (Euro/year)'] / 12\n",
    "\n",
    "#define annual consumption for electricity and natural gas (now i am using average household consumption)\n",
    "df['Electricity/Annual consumption (kWh)'] = 3500 # average household consumption\n",
    "df['Natural gas/Annual consumption (m3)'] = 1500 # average household consumption\n",
    "\n",
    "# Step 2: Calculate the total cost for each energy type\n",
    "df['Transport_rate_electricity_kwh'] = df['Electricity/Transport rate (Euro/year)'] / df['Electricity/Annual consumption (kWh)']\n",
    "df['Transport_rate_natural_gas_m3'] = df['Natural gas/Transport rate (Euro/year)'] / df['Natural gas/Annual consumption (m3)']"
   ]
  },
  {
   "cell_type": "code",
   "execution_count": 5,
   "id": "a0e81b8f",
   "metadata": {},
   "outputs": [],
   "source": [
    "# Step 3: Extract and compute prices\n",
    "df['Total Gas Price (€/m³)'] = (\n",
    "    df['Natural gas/Variable delivery rate contract prices (Euro/m3)'] +\n",
    "    df['Natural gas/Energy tax (Euro/m3)'] + df['Transport_rate_natural_gas_m3']\n",
    ")\n",
    "\n",
    "df['Total Electricity Price (€/kWh)'] = (\n",
    "    df['Electricity/Variable delivery rate contract prices (Euro/kWh)'] +\n",
    "    df['Electricity/Energy tax (Euro/kWh)'] + df['Transport_rate_electricity_kwh']\n",
    ")"
   ]
  },
  {
   "cell_type": "code",
   "execution_count": 6,
   "id": "81f0ed5b",
   "metadata": {},
   "outputs": [
    {
     "name": "stdout",
     "output_type": "stream",
     "text": [
      "0    1.407951\n",
      "1    1.395251\n",
      "2    1.356451\n",
      "3    1.308751\n",
      "4    1.304251\n",
      "Name: Total Gas Price (€/m³), dtype: float64\n",
      "0    0.340347\n",
      "1    0.335147\n",
      "2    0.323847\n",
      "3    0.314447\n",
      "4    0.311847\n",
      "Name: Total Electricity Price (€/kWh), dtype: float64\n"
     ]
    }
   ],
   "source": [
    "print(df['Total Gas Price (€/m³)'].head())\n",
    "print(df['Total Electricity Price (€/kWh)'].head())"
   ]
  },
  {
   "cell_type": "markdown",
   "id": "3c5a879e",
   "metadata": {},
   "source": [
    "## [1] CBS + inflation rate (2% or 4%)\n"
   ]
  },
  {
   "cell_type": "code",
   "execution_count": 26,
   "id": "b3a7303b",
   "metadata": {},
   "outputs": [],
   "source": [
    "inflation_rate = 0.02  # Example inflation rate of 2%\n",
    "years = 5 # Example period of 5 years\n",
    "df['Future Gas Price (€/m³)'] = df['Total Gas Price (€/m³)'] * (1 + inflation_rate) ** years\n",
    "df['Future Electricity Price (€/kWh)'] = df['Total Electricity Price (€/kWh)'] * (1 + inflation_rate) ** years"
   ]
  },
  {
   "cell_type": "code",
   "execution_count": 27,
   "id": "3a0e1ff6",
   "metadata": {},
   "outputs": [],
   "source": [
    "average_gas_price = df['Future Gas Price (€/m³)'].mean()\n",
    "average_electricity_price = df['Future Electricity Price (€/kWh)'].mean()"
   ]
  },
  {
   "cell_type": "code",
   "execution_count": 28,
   "id": "f9bc9bf7",
   "metadata": {},
   "outputs": [
    {
     "data": {
      "text/plain": [
       "(np.float64(0.33698583405622284), np.float64(1.481545174954464))"
      ]
     },
     "execution_count": 28,
     "metadata": {},
     "output_type": "execute_result"
    }
   ],
   "source": [
    "average_electricity_price, average_gas_price"
   ]
  },
  {
   "cell_type": "markdown",
   "id": "f74506a8",
   "metadata": {},
   "source": [
    "## [2] Using policy based scenarios  "
   ]
  },
  {
   "cell_type": "code",
   "execution_count": 59,
   "id": "dc9f8ef6",
   "metadata": {},
   "outputs": [],
   "source": [
    "# Load data\n",
    "df_E = pd.read_csv('Scenarios_Electricity.csv')\n",
    "df_G = pd.read_csv('Scenarios_Gas.csv')\n",
    "\n",
    "# Ensure year is numeric\n",
    "df_E['Year'] = pd.to_numeric(df_E['Year'], errors='coerce')\n",
    "df_G['Year'] = pd.to_numeric(df_G['Year'], errors='coerce')\n",
    "\n",
    "# Clean column names by stripping whitespace and removing text like \"(excl. VAT)\"\n",
    "def clean_columns(df):\n",
    "    df.columns = df.columns.str.replace(r\"\\(.*?\\)\", \"\", regex=True)\n",
    "    df.columns = df.columns.str.strip().str.lower()\n",
    "    return df\n",
    "\n",
    "df_E = clean_columns(df_E)\n",
    "df_G = clean_columns(df_G)\n",
    "\n",
    "# Apply VAT\n",
    "def add_vat(df, vat_rate=0.21):\n",
    "    df = df.copy()\n",
    "    for col in df.columns:\n",
    "        if col != 'year':\n",
    "            df[col] = pd.to_numeric(df[col], errors='coerce')\n",
    "    numeric_cols = df.select_dtypes(include='number').columns.drop('year', errors='ignore')\n",
    "    df[numeric_cols] = df[numeric_cols] * (1 + vat_rate)\n",
    "    return df\n",
    "\n",
    "df_E = add_vat(df_E)\n",
    "df_G = add_vat(df_G)\n",
    "\n",
    "# Function to find column with keyword like 'central'\n",
    "def find_column_with_keyword(df, keyword):\n",
    "    for col in df.columns:\n",
    "        if keyword in col:\n",
    "            return col\n",
    "    return None"
   ]
  },
  {
   "cell_type": "code",
   "execution_count": 60,
   "id": "3e2e39bc",
   "metadata": {},
   "outputs": [
    {
     "name": "stdout",
     "output_type": "stream",
     "text": [
      "Electricity | Year: 2025 | Price type: central\n",
      " year  central prices\n",
      " 2025          0.2541\n",
      "\n",
      "Gas | Year: 2025 | Price type: central\n",
      " year  central prices\n",
      " 2025           1.331\n"
     ]
    }
   ],
   "source": [
    "# User input\n",
    "year = 2025\n",
    "price = 'central'  # 'central', 'higher', or 'lower'\n",
    "\n",
    "# Find columns\n",
    "col_E = find_column_with_keyword(df_E, price)\n",
    "col_G = find_column_with_keyword(df_G, price)\n",
    "\n",
    "# Print results\n",
    "if col_E:\n",
    "    row_E = df_E[df_E['year'] == year][['year', col_E]]\n",
    "    if not row_E.empty:\n",
    "        print(f\"Electricity | Year: {year} | Price type: {price}\\n{row_E.to_string(index=False)}\")\n",
    "    else:\n",
    "        print(f\"No electricity data found for year {year}.\")\n",
    "else:\n",
    "    print(\"Electricity price column not found.\")\n",
    "\n",
    "if col_G:\n",
    "    row_G = df_G[df_G['year'] == year][['year', col_G]]\n",
    "    if not row_G.empty:\n",
    "        print(f\"\\nGas | Year: {year} | Price type: {price}\\n{row_G.to_string(index=False)}\")\n",
    "    else:\n",
    "        print(f\"No gas data found for year {year}.\")\n",
    "else:\n",
    "    print(\"Gas price column not found.\")"
   ]
  }
 ],
 "metadata": {
  "kernelspec": {
   "display_name": "renovexpy",
   "language": "python",
   "name": "python3"
  },
  "language_info": {
   "codemirror_mode": {
    "name": "ipython",
    "version": 3
   },
   "file_extension": ".py",
   "mimetype": "text/x-python",
   "name": "python",
   "nbconvert_exporter": "python",
   "pygments_lexer": "ipython3",
   "version": "3.11.9"
  }
 },
 "nbformat": 4,
 "nbformat_minor": 5
}

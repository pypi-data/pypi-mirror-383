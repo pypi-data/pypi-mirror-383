{
 "cells": [
  {
   "cell_type": "code",
   "execution_count": 1,
   "metadata": {},
   "outputs": [
    {
     "ename": "AttributeError",
     "evalue": "module 'Hql' has no attribute 'make_query'",
     "output_type": "error",
     "traceback": [
      "\u001b[0;31m---------------------------------------------------------------------------\u001b[0m",
      "\u001b[0;31mAttributeError\u001b[0m                            Traceback (most recent call last)",
      "Cell \u001b[0;32mIn[1], line 3\u001b[0m\n\u001b[1;32m      1\u001b[0m \u001b[38;5;28;01mimport\u001b[39;00m\u001b[38;5;250m \u001b[39m\u001b[38;5;21;01mtabulate\u001b[39;00m\u001b[38;5;241m,\u001b[39m\u001b[38;5;250m \u001b[39m\u001b[38;5;21;01mHql\u001b[39;00m\n\u001b[0;32m----> 3\u001b[0m \u001b[43mHql\u001b[49m\u001b[38;5;241;43m.\u001b[39;49m\u001b[43mmake_query\u001b[49m()\n",
      "\u001b[0;31mAttributeError\u001b[0m: module 'Hql' has no attribute 'make_query'"
     ]
    }
   ],
   "source": [
    "import tabulate, logging\n",
    "import Hql\n",
    "from pathlib import Path\n",
    "logging.getLogger().setLevel(logging.DEBUG)\n",
    "\n",
    "conf_path = './conf'\n",
    "conf = Hql.Config(Path(conf_path))\n",
    "\n",
    "###\n",
    "\n",
    "query = r\"\"\"\n",
    "database('json').macro('network')\n",
    "| project ['@timestamp'], src_ip=toip4(source.ip), src_port=source.port, dest_ip=toip4(destination.ip), dest_port=destination.port\n",
    "| summarize count() by src_ip\n",
    "\"\"\"\n",
    "\n",
    "data = Hql.run_query(query, )"
   ]
  },
  {
   "cell_type": "code",
   "execution_count": 4,
   "metadata": {},
   "outputs": [
    {
     "name": "stdout",
     "output_type": "stream",
     "text": [
      "test\n"
     ]
    },
    {
     "data": {
      "text/html": [
       "<table>\n",
       "<tbody>\n",
       "<tr><td>Sun  </td><td style=\"text-align: right;\">696000</td><td style=\"text-align: right;\">   1.9891e+09</td></tr>\n",
       "<tr><td>Earth</td><td style=\"text-align: right;\">  6371</td><td style=\"text-align: right;\">5973.6       </td></tr>\n",
       "<tr><td>Moon </td><td style=\"text-align: right;\">  1737</td><td style=\"text-align: right;\">  73.5       </td></tr>\n",
       "<tr><td>Mars </td><td style=\"text-align: right;\">  3390</td><td style=\"text-align: right;\"> 641.85      </td></tr>\n",
       "</tbody>\n",
       "</table>"
      ],
      "text/plain": [
       "'<table>\\n<tbody>\\n<tr><td>Sun  </td><td style=\"text-align: right;\">696000</td><td style=\"text-align: right;\">   1.9891e+09</td></tr>\\n<tr><td>Earth</td><td style=\"text-align: right;\">  6371</td><td style=\"text-align: right;\">5973.6       </td></tr>\\n<tr><td>Moon </td><td style=\"text-align: right;\">  1737</td><td style=\"text-align: right;\">  73.5       </td></tr>\\n<tr><td>Mars </td><td style=\"text-align: right;\">  3390</td><td style=\"text-align: right;\"> 641.85      </td></tr>\\n</tbody>\\n</table>'"
      ]
     },
     "execution_count": 4,
     "metadata": {},
     "output_type": "execute_result"
    }
   ],
   "source": [
    "import tabulate\n",
    "data = [[\"Sun\",696000,1989100000],\n",
    "         [\"Earth\",6371,5973.6],\n",
    "         [\"Moon\",1737,73.5],\n",
    "         [\"Mars\",3390,641.85]]\n",
    "table = tabulate.tabulate(data, tablefmt='html')\n",
    "table"
   ]
  },
  {
   "cell_type": "code",
   "execution_count": 31,
   "metadata": {},
   "outputs": [
    {
     "name": "stdout",
     "output_type": "stream",
     "text": [
      "True\n",
      "True\n",
      "False\n"
     ]
    }
   ],
   "source": [
    "import time\n",
    "import datetime\n",
    "\n",
    "def timestamp() -> int:\n",
    "    return int(time.time())\n",
    "\n",
    "def matches_minute(ts:int, minutes:list) -> bool:\n",
    "    cur_minute = (ts % 3600) % 60\n",
    "    for i in minutes:\n",
    "        if i == cur_minute or i == '*':\n",
    "            return True\n",
    "    return False\n",
    "\n",
    "def matches_hour(ts:int, hours:list) -> bool:\n",
    "    cur_hour = (ts // 3600) % 24\n",
    "    for i in hours:\n",
    "        if i == cur_hour or i == '*':\n",
    "            return True\n",
    "    return False\n",
    "\n",
    "def matches_day(ts:int, days:list) -> bool:\n",
    "    datetime.datetime.utcfromtimestamp(ts).day\n",
    "    \n",
    "    for i in days:\n",
    "        if i == cur_hour or i == '*':\n",
    "            return True\n",
    "    return False\n",
    "\n",
    "# 0 * * * *\n",
    "# Minute 0\n",
    "ts = 1760144500\n",
    "print(matches_minute(ts, ['*']))\n",
    "\n",
    "# * 5 * * *\n",
    "ts = 1760158860\n",
    "print(matches_hour(ts, [5]))\n",
    "ts = 1760144460\n",
    "print(matches_hour(ts, [5]))\n",
    "\n"
   ]
  },
  {
   "cell_type": "code",
   "execution_count": 32,
   "metadata": {},
   "outputs": [
    {
     "name": "stdout",
     "output_type": "stream",
     "text": [
      "1760165107.075769\n",
      "(1, 19, 10, 10, 4)\n"
     ]
    }
   ],
   "source": [
    "import datetime\n",
    "\n",
    "print(datetime.datetime.now().timestamp())\n",
    "\n",
    "def time_parts(ts: int) -> tuple[int, int, int, int, int]:\n",
    "    dt = datetime.datetime.fromtimestamp(ts)\n",
    "    return (dt.minute, dt.hour, dt.month, dt.day, dt.weekday())\n",
    "\n",
    "print(time_parts(ts))\n"
   ]
  }
 ],
 "metadata": {
  "kernelspec": {
   "display_name": ".venv",
   "language": "python",
   "name": "python3"
  },
  "language_info": {
   "codemirror_mode": {
    "name": "ipython",
    "version": 3
   },
   "file_extension": ".py",
   "mimetype": "text/x-python",
   "name": "python",
   "nbconvert_exporter": "python",
   "pygments_lexer": "ipython3",
   "version": "3.9.21"
  }
 },
 "nbformat": 4,
 "nbformat_minor": 2
}

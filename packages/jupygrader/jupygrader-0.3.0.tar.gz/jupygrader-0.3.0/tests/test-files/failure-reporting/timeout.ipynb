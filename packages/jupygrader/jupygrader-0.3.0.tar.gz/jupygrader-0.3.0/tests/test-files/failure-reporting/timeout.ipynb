{
 "cells": [
  {
   "cell_type": "code",
   "execution_count": 2,
   "id": "52c79a04",
   "metadata": {},
   "outputs": [],
   "source": [
    "my_var = \"Correct\""
   ]
  },
  {
   "cell_type": "code",
   "execution_count": 3,
   "id": "7826e1e6",
   "metadata": {},
   "outputs": [],
   "source": [
    "_test_case = \"correct-tc\"\n",
    "_points = 4\n",
    "\n",
    "assert my_var == \"Correct\""
   ]
  },
  {
   "cell_type": "code",
   "execution_count": 4,
   "id": "6f155520",
   "metadata": {},
   "outputs": [
    {
     "name": "stdout",
     "output_type": "stream",
     "text": [
      "Starting a 1.5-seconds sleep...\n",
      "Done sleeping!\n"
     ]
    }
   ],
   "source": [
    "import time\n",
    "\n",
    "print(\"Starting a 1.5-seconds sleep...\")\n",
    "time.sleep(1.5)  # sleep for 1.5 seconds (1500 ms)\n",
    "print(\"Done sleeping!\")"
   ]
  },
  {
   "cell_type": "code",
   "execution_count": 5,
   "id": "28db0d68",
   "metadata": {},
   "outputs": [],
   "source": [
    "_test_case = \"timeout_tc\"\n",
    "_points = 6\n",
    "\n",
    "# Deliberately do nothing, just pass the test case\n",
    "# This test case is expected to timeout if the timeout is set to less than 1.5 seconds\n",
    "assert True"
   ]
  }
 ],
 "metadata": {
  "kernelspec": {
   "display_name": "gies",
   "language": "python",
   "name": "python3"
  },
  "language_info": {
   "codemirror_mode": {
    "name": "ipython",
    "version": 3
   },
   "file_extension": ".py",
   "mimetype": "text/x-python",
   "name": "python",
   "nbconvert_exporter": "python",
   "pygments_lexer": "ipython3",
   "version": "3.12.6"
  }
 },
 "nbformat": 4,
 "nbformat_minor": 5
}

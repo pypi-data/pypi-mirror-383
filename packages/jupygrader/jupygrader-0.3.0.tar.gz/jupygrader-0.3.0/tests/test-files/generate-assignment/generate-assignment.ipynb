{
 "cells": [
  {
   "cell_type": "markdown",
   "id": "52d52999",
   "metadata": {},
   "source": [
    "# Test Notebook for Strip and Obfuscate Functions\n"
   ]
  },
  {
   "cell_type": "markdown",
   "id": "dbb8486f",
   "metadata": {
    "id": "DiznwS2xem7h"
   },
   "source": [
    "▶️ First, run the code cell below to import `unittest`, a module used for the **🧭 Check Your Work** and the autograder.\n"
   ]
  },
  {
   "cell_type": "code",
   "execution_count": null,
   "id": "d911d7fb",
   "metadata": {
    "id": "xOFvIip0em7h"
   },
   "outputs": [],
   "source": [
    "# DO NOT MODIFY THE CODE IN THIS CELL\n",
    "import unittest\n",
    "\n",
    "tc = unittest.TestCase()"
   ]
  },
  {
   "cell_type": "markdown",
   "id": "cac11410",
   "metadata": {},
   "source": [
    "---\n",
    "\n",
    "### 🎯 Challenge 1: Create a List\n",
    "\n",
    "#### 👇 Tasks\n",
    "\n",
    "You have three job offers with salaries of `100000`, `110000`, and `120000`.\n",
    "\n",
    "Create a new list variable named `offers` that contains these three salary amounts (in the same order).\n",
    "\n",
    "#### 💡 Hint\n",
    "\n",
    "`my_list = [1, 2, 3]` creates a `list` named `my_list` with initial values `1`, `2`, and `3`.\n"
   ]
  },
  {
   "cell_type": "code",
   "execution_count": 2,
   "id": "2a853316",
   "metadata": {
    "id": "jfnhv8_Yem7j"
   },
   "outputs": [
    {
     "name": "stdout",
     "output_type": "stream",
     "text": [
      "100000\n",
      "110000\n",
      "120000\n"
     ]
    }
   ],
   "source": [
    "# YOUR CODE BEGINS\n",
    "offers = [100000, 110000, 120000]\n",
    "# YOUR CODE ENDS\n",
    "\n",
    "print(offers[0])\n",
    "print(offers[1])\n",
    "print(offers[2])"
   ]
  },
  {
   "cell_type": "markdown",
   "id": "7a2bc4ad",
   "metadata": {
    "id": "EdrK-mBsem7r"
   },
   "source": [
    "#### 🧭 Check Your Work\n",
    "\n",
    "Run the code cell below to test your solution.\n",
    "\n",
    "- ✔️ If the code cell runs without errors, you're good to move on.\n",
    "- ❌ If the code cell produces an error, review your code and fix any mistakes.\n"
   ]
  },
  {
   "cell_type": "code",
   "execution_count": null,
   "id": "6bd27917",
   "metadata": {},
   "outputs": [],
   "source": [
    "_test_case = \"create-a-list\"\n",
    "_points = 2\n",
    "\n",
    "tc.assertEqual(offers, [100000, 110000, 120000])"
   ]
  },
  {
   "cell_type": "markdown",
   "id": "22266848",
   "metadata": {
    "id": "Dg-bBkF8fGaN"
   },
   "source": [
    "---\n",
    "\n",
    "### 🎯 Challenge 2: Number of NYX Products\n",
    "\n",
    "#### 👇 Tasks\n",
    "\n",
    "Assume you own 30 makeup products. The `brands` variable contains the list of brand names for each product in your collection. Can you count the number of `NYX` products in your collection and store the result in the `num_NYX_products` variable?\n",
    "\n",
    "Use a `for` loop to perform this task.\n"
   ]
  },
  {
   "cell_type": "code",
   "execution_count": null,
   "id": "08b5949c",
   "metadata": {
    "colab": {
     "base_uri": "https://localhost:8080/"
    },
    "id": "OoYuVAyhem7q",
    "outputId": "8eea66d1-ee93-464c-9889-346fd512d07a"
   },
   "outputs": [
    {
     "name": "stdout",
     "output_type": "stream",
     "text": [
      "You have 9 NYX products.\n"
     ]
    }
   ],
   "source": [
    "brands = [\n",
    "    \"Bobbi Brown\",\n",
    "    \"Maybelline\",\n",
    "    \"Hourglass\",\n",
    "    \"Clinique\",\n",
    "    \"NYX\",\n",
    "    \"Kosas\",\n",
    "    \"Bobbi Brown\",\n",
    "    \"Hourglass\",\n",
    "    \"NYX\",\n",
    "    \"NYX\",\n",
    "    \"Clinique\",\n",
    "    \"NYX\",\n",
    "    \"Kosas\",\n",
    "    \"Maybelline\",\n",
    "    \"Urban Decay\",\n",
    "    \"Revlon\",\n",
    "    \"Clinique\",\n",
    "    \"NYX\",\n",
    "    \"Bobbi Brown\",\n",
    "    \"Sephora\",\n",
    "    \"Urban Decay\",\n",
    "    \"NYX\",\n",
    "    \"Clinique\",\n",
    "    \"NYX\",\n",
    "    \"Estee Lauder\",\n",
    "    \"Hourglass\",\n",
    "    \"Kosas\",\n",
    "    \"NYX\",\n",
    "    \"NYX\",\n",
    "    \"Sephora\",\n",
    "]\n",
    "num_NYX_products = 0\n",
    "\n",
    "# YOUR CODE BEGINS\n",
    "for b in brands:\n",
    "    if b == \"NYX\":\n",
    "        num_NYX_products += 1\n",
    "# YOUR CODE ENDS\n",
    "\n",
    "print(f\"You have {num_NYX_products} NYX products.\")"
   ]
  },
  {
   "cell_type": "markdown",
   "id": "576a4028-6cbd-4433-bc8b-966ffabd89d7",
   "metadata": {
    "id": "EdrK-mBsem7r"
   },
   "source": [
    "#### 🧭 Check Your Work\n",
    "\n",
    "Run the code cell below to test your solution.\n",
    "\n",
    "- ✔️ If the code cell runs without errors, you're good to move on.\n",
    "- ❌ If the code cell produces an error, review your code and fix any mistakes.\n"
   ]
  },
  {
   "cell_type": "code",
   "execution_count": null,
   "id": "cd666161",
   "metadata": {
    "id": "DXDG3nzpem7r"
   },
   "outputs": [],
   "source": [
    "_test_case = \"count-occurrences-in-a-list\"\n",
    "_points = 3\n",
    "\n",
    "tc.assertEqual(num_NYX_products, 9)"
   ]
  },
  {
   "cell_type": "markdown",
   "id": "acdf6787-9f77-423f-9541-6686b70c98ee",
   "metadata": {
    "id": "Dg-bBkF8fGaN"
   },
   "source": [
    "---\n",
    "\n",
    "### 🎯 Challenge 3: Add All Values in a List\n",
    "\n",
    "#### 👇 Tasks\n",
    "\n",
    "Using a `for` loop, calculate the sum of all values in the list `sales` and store the result in the variable `total_sales`.\n",
    "\n",
    "#### 💡 Hint\n",
    "\n",
    "The code below iterates through `my_list` and incrementally sums up the values in `my_list`.\n",
    "\n",
    "```python\n",
    "my_list = [1, 2, 3, 4]\n",
    "total = 0\n",
    "\n",
    "for v in my_list:\n",
    "    total = total + v\n",
    "```\n"
   ]
  },
  {
   "cell_type": "code",
   "execution_count": 6,
   "id": "68f0eddd-6f51-416b-938b-dcd32c0f4c17",
   "metadata": {},
   "outputs": [
    {
     "name": "stdout",
     "output_type": "stream",
     "text": [
      "Total sales: 105\n"
     ]
    }
   ],
   "source": [
    "sales = [31, 30, 24, 20]\n",
    "total_sales = 0\n",
    "\n",
    "# YOUR CODE BEGINS\n",
    "for v in sales:\n",
    "    total_sales = total_sales + v\n",
    "# YOUR CODE ENDS\n",
    "\n",
    "print(f\"Total sales: {total_sales}\")"
   ]
  },
  {
   "cell_type": "markdown",
   "id": "9d8edbb5-3e08-4e06-8d2b-f6f18c75b082",
   "metadata": {
    "id": "EdrK-mBsem7r"
   },
   "source": [
    "#### 🧭 Check Your Work\n",
    "\n",
    "Run the code cell below to test your solution.\n",
    "\n",
    "- ✔️ If the code cell runs without errors, you're good to move on.\n",
    "- ❌ If the code cell produces an error, review your code and fix any mistakes.\n"
   ]
  },
  {
   "cell_type": "code",
   "execution_count": null,
   "id": "4900231a",
   "metadata": {},
   "outputs": [],
   "source": [
    "_test_case = \"calculate-total-sales\"\n",
    "_points = 3\n",
    "\n",
    "list_SOL = [31, 30, 24, 20]\n",
    "\n",
    "tc.assertEqual(total_sales, sum(list_SOL))"
   ]
  },
  {
   "cell_type": "markdown",
   "id": "ca368045-ca13-4578-8de7-161c02934411",
   "metadata": {
    "id": "Dg-bBkF8fGaN"
   },
   "source": [
    "---\n",
    "\n",
    "### 🎯 Challenge 4: Sum of Even Numbers\n",
    "\n",
    "#### 👇 Tasks\n",
    "\n",
    "Using a `for` loop, find the sum of only even numbers in `nums` list and store the result to `even_sum`.\n",
    "\n",
    "#### 🔑 Sample Code\n",
    "\n",
    "```python\n",
    "my_list = [1, 2, 3, 4]\n",
    "my_sum = 0\n",
    "\n",
    "for x in my_list:\n",
    "    if x % 2 == 0:\n",
    "        my_sum = my_sum + x\n",
    "```\n"
   ]
  },
  {
   "cell_type": "code",
   "execution_count": 8,
   "id": "a37cf021-8d0d-4777-8dbb-9dc7198c11b4",
   "metadata": {},
   "outputs": [
    {
     "name": "stdout",
     "output_type": "stream",
     "text": [
      "Sum of even numbers: 20\n"
     ]
    }
   ],
   "source": [
    "nums = [1, 2, 3, 4, 5, 6, 7, 8]\n",
    "even_sum = 0\n",
    "\n",
    "# YOUR CODE BEGINS\n",
    "for x in nums:\n",
    "    if x % 2 == 0:\n",
    "        even_sum = even_sum + x\n",
    "# YOUR CODE ENDS\n",
    "\n",
    "print(f\"Sum of even numbers: {even_sum}\")"
   ]
  },
  {
   "cell_type": "markdown",
   "id": "2ad6fd19-8315-413b-9c4b-2c8e218cbd77",
   "metadata": {
    "id": "EdrK-mBsem7r"
   },
   "source": [
    "#### 🧭 Check Your Work\n",
    "\n",
    "Run the code cell below to test your solution.\n",
    "\n",
    "- ✔️ If the code cell runs without errors, you're good to move on.\n",
    "- ❌ If the code cell produces an error, review your code and fix any mistakes.\n"
   ]
  },
  {
   "cell_type": "code",
   "execution_count": null,
   "id": "3ca28c33-8027-4609-af29-ba8eef7a920b",
   "metadata": {},
   "outputs": [],
   "source": [
    "_test_case = \"even-sum\"\n",
    "_points = 3\n",
    "\n",
    "tc.assertEqual(even_sum, 20)"
   ]
  },
  {
   "cell_type": "markdown",
   "id": "9383c11b-6d1e-4263-b256-fb919463ad4f",
   "metadata": {
    "id": "Dg-bBkF8fGaN"
   },
   "source": [
    "---\n",
    "\n",
    "### 🎯 Challenge 5: Total Salary of Chiefs Players 🏈\n",
    "\n",
    "#### 👇 Tasks\n",
    "\n",
    "The variable `players` contains a list of 5 dictionaries. Each dictionary includes an NFL player’s name, team, and salary.\n",
    "\n",
    "Calculate the total salary of Kansas City Chiefs players (`\"team\" == \"Chiefs\"`).\n",
    "Store the result in the variable `chiefs_total_salary`.\n",
    "\n",
    "Use a `for` loop to perform this task.\n"
   ]
  },
  {
   "cell_type": "code",
   "execution_count": null,
   "id": "7817af28-fb1d-4046-9027-0723a95e3742",
   "metadata": {
    "scrolled": true
   },
   "outputs": [
    {
     "name": "stdout",
     "output_type": "stream",
     "text": [
      "Chiefs players' total salary is 42900000!\n"
     ]
    }
   ],
   "source": [
    "players = [\n",
    "    {\"name\": \"Tom Brady\", \"team\": \"Buccaneers\", \"salary\": 23000000},\n",
    "    {\"name\": \"Patrick Mahomes\", \"team\": \"Chiefs\", \"salary\": 9900000},\n",
    "    {\"name\": \"Aaron Donald\", \"team\": \"Rams\", \"salary\": 19900000},\n",
    "    {\"name\": \"Tyreek Hill\", \"team\": \"Chiefs\", \"salary\": 18000000},\n",
    "    {\"name\": \"Travis Kelce\", \"team\": \"Chiefs\", \"salary\": 15000000},\n",
    "]\n",
    "chiefs_total_salary = 0\n",
    "\n",
    "# YOUR CODE BEGINS\n",
    "for p in players:\n",
    "    if p[\"team\"] == \"Chiefs\":\n",
    "        chiefs_total_salary += p[\"salary\"]\n",
    "# YOUR CODE ENDS\n",
    "\n",
    "print(f\"Chiefs players' total salary is {chiefs_total_salary}!\")"
   ]
  },
  {
   "cell_type": "markdown",
   "id": "d12b2810-d44c-460e-b27b-5cfedaf4e1ed",
   "metadata": {
    "id": "EdrK-mBsem7r"
   },
   "source": [
    "#### 🧭 Check Your Work\n",
    "\n",
    "Run the code cell below to test your solution.\n",
    "\n",
    "- ✔️ If the code cell runs without errors, you're good to move on.\n",
    "- ❌ If the code cell produces an error, review your code and fix any mistakes.\n"
   ]
  },
  {
   "cell_type": "code",
   "execution_count": null,
   "id": "c164366b-4ed2-4dea-9b40-7f262d80c06c",
   "metadata": {},
   "outputs": [],
   "source": [
    "_test_case = \"chiefs-players-salary\"\n",
    "_points = 4\n",
    "\n",
    "### BEGIN HIDDEN TESTS\n",
    "tc.assertAlmostEqual(chiefs_total_salary, 42900000.0)\n",
    "### END HIDDEN TESTS"
   ]
  },
  {
   "cell_type": "markdown",
   "id": "ed52dcd6-5f25-41ed-9f39-7e115ab86695",
   "metadata": {
    "id": "Dg-bBkF8fGaN"
   },
   "source": [
    "---\n",
    "\n",
    "### 🎯 Challenge 6: Average Positive and Negative Transactions\n",
    "\n",
    "#### 👇 Tasks\n",
    "\n",
    "The `transactions` variable contains a list of transaction amounts. Your goal is to calculate the following two variables:\n",
    "\n",
    "- `pos_avg`: the average of all positive transactions\n",
    "- `neg_avg`: the average of all negative transactions\n",
    "\n",
    "**Example**: `transactions = [10, -5, -15, 30, 20]`\n",
    "\n",
    "- `pos_avg` is `20` (`(10 + 30 + 20) / 3`) .\n",
    "- `neg_avg` is `-10` (`(-5 + -15) / 2`).\n",
    "\n",
    "**Rules**\n",
    "\n",
    "- Create additional variables as needed for your calculations.\n",
    "- You may **not** manually count positives or negatives when dividing — your code must handle the counting.\n",
    "- You **must** use a `for` loop to solve this task.\n"
   ]
  },
  {
   "cell_type": "code",
   "execution_count": null,
   "id": "7be4579f-e314-4252-a38a-9c3cfcbdd7c3",
   "metadata": {},
   "outputs": [
    {
     "name": "stdout",
     "output_type": "stream",
     "text": [
      "Average of positive transactions is 19.0\n",
      "Average of negative transactions is -25.25\n"
     ]
    }
   ],
   "source": [
    "transactions = [15, 8, 7, 5, 15, 72, -20, -66, 9, -4, -11, 21, 19]\n",
    "\n",
    "# YOUR CODE BEGINS\n",
    "pos_sum = 0\n",
    "pos_count = 0\n",
    "neg_sum = 0\n",
    "neg_count = 0\n",
    "\n",
    "for amount in transactions:\n",
    "    if amount > 0:\n",
    "        pos_sum += amount\n",
    "        pos_count += 1\n",
    "    else:\n",
    "        neg_sum += amount\n",
    "        neg_count += 1\n",
    "\n",
    "pos_avg = pos_sum / pos_count\n",
    "neg_avg = neg_sum / neg_count\n",
    "# YOUR CODE ENDS\n",
    "\n",
    "print(f\"Average of positive transactions is {pos_avg}\")\n",
    "print(f\"Average of negative transactions is {neg_avg}\")"
   ]
  },
  {
   "cell_type": "markdown",
   "id": "ce737138-82b9-4c77-a82d-32b8a6a1a3bc",
   "metadata": {
    "id": "EdrK-mBsem7r"
   },
   "source": [
    "#### 🧭 Check Your Work\n",
    "\n",
    "Run the code cell below to test your solution.\n",
    "\n",
    "- ✔️ If the code cell runs without errors, you're good to move on.\n",
    "- ❌ If the code cell produces an error, review your code and fix any mistakes.\n"
   ]
  },
  {
   "cell_type": "code",
   "execution_count": null,
   "id": "f9db8fdd-cc8a-4def-bc8d-07d22c4b55b6",
   "metadata": {},
   "outputs": [],
   "source": [
    "_test_case = \"average-pos-neg-transactions\"\n",
    "_points = 5\n",
    "\n",
    "# First test case\n",
    "### BEGIN HIDDEN TESTS\n",
    "tc.assertAlmostEqual(pos_avg, 19.0)\n",
    "### END HIDDEN TESTS\n",
    "\n",
    "# Second test case\n",
    "### BEGIN HIDDEN TESTS\n",
    "tc.assertAlmostEqual(neg_avg, -25.25)\n",
    "### END HIDDEN TESTS"
   ]
  }
 ],
 "metadata": {
  "kernelspec": {
   "display_name": "Python 3 (ipykernel)",
   "language": "python",
   "name": "python3"
  },
  "language_info": {
   "codemirror_mode": {
    "name": "ipython",
    "version": 3
   },
   "file_extension": ".py",
   "mimetype": "text/x-python",
   "name": "python",
   "nbconvert_exporter": "python",
   "pygments_lexer": "ipython3",
   "version": "3.10.10"
  }
 },
 "nbformat": 4,
 "nbformat_minor": 5
}

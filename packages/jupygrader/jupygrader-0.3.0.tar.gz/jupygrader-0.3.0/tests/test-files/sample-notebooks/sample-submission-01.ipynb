{
 "cells": [
  {
   "cell_type": "markdown",
   "metadata": {},
   "source": [
    "## Challenge 1\n",
    "\n",
    "Calculate the sum of odd numbers in `my_list1` and store it to a new variable named `odd_sum`."
   ]
  },
  {
   "cell_type": "code",
   "execution_count": null,
   "metadata": {},
   "outputs": [],
   "source": [
    "my_list1 = [1, 2, 3, 4, 5]\n",
    "\n",
    "# YOUR CODE BEGINS\n",
    "odd_sum = 0\n",
    "for x in my_list1:\n",
    "    if x % 2 != 0:\n",
    "        odd_sum += x\n",
    "# YOUR CODE ENDS"
   ]
  },
  {
   "cell_type": "code",
   "execution_count": null,
   "metadata": {},
   "outputs": [],
   "source": [
    "_test_case = \"calculate-odd-sum\"\n",
    "_points = 2\n",
    "\n",
    "assert odd_sum == 9"
   ]
  },
  {
   "cell_type": "markdown",
   "metadata": {},
   "source": [
    "## Challenge 2\n",
    "\n",
    "Calculate the product of all odd numbers in `my_list2` and store the result in a new variable named `odd_product`."
   ]
  },
  {
   "cell_type": "code",
   "execution_count": null,
   "metadata": {},
   "outputs": [],
   "source": []
  },
  {
   "cell_type": "code",
   "execution_count": null,
   "metadata": {},
   "outputs": [],
   "source": [
    "my_list2 = [1, 2, 3, 4, 5]\n",
    "\n",
    "# YOUR CODE BEGINS\n",
    "odd_product = 1\n",
    "for x in my_list2:\n",
    "    if x % 2 != 0:\n",
    "        odd_product *= x\n",
    "# YOUR CODE ENDS"
   ]
  },
  {
   "cell_type": "code",
   "execution_count": null,
   "metadata": {},
   "outputs": [],
   "source": [
    "_test_case = \"calculate-odd-product\"\n",
    "_points = 3\n",
    "\n",
    "assert odd_product == 15"
   ]
  },
  {
   "cell_type": "markdown",
   "metadata": {},
   "source": [
    "## Challenge 3 (Manually Graded)\n",
    "\n",
    "In a markdown cell, discuss why Python is an easy language for beginners to learn."
   ]
  },
  {
   "cell_type": "markdown",
   "metadata": {},
   "source": [
    "- Python's syntax is close to natural language, making it easier to understand.\n",
    "- No need to compile before running the code; you can execute scripts directly.\n",
    "- Python has a built-in library for everything from handling files to web development."
   ]
  },
  {
   "cell_type": "code",
   "execution_count": null,
   "metadata": {},
   "outputs": [],
   "source": []
  },
  {
   "cell_type": "code",
   "execution_count": null,
   "metadata": {},
   "outputs": [],
   "source": [
    "_test_case = \"free-response-question\"\n",
    "_points = 5\n",
    "_grade_manually = True\n"
   ]
  }
 ],
 "metadata": {
  "language_info": {
   "name": "python"
  }
 },
 "nbformat": 4,
 "nbformat_minor": 2
}

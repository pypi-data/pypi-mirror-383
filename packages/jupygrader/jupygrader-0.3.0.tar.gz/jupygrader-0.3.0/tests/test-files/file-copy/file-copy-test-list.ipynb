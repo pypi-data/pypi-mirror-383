{
 "cells": [
  {
   "cell_type": "markdown",
   "id": "06d17fe9-3337-4e31-b331-080a548ca8b5",
   "metadata": {},
   "source": [
    "## Case 1: Input file in the same directory as the notebook"
   ]
  },
  {
   "cell_type": "code",
   "execution_count": null,
   "id": "573f95c7-5283-42a9-be84-abe8193bbdd1",
   "metadata": {},
   "outputs": [],
   "source": [
    "with open('my-first-input.txt', 'r') as f:\n",
    "    s1 = f.read()\n",
    "\n",
    "print(s1)"
   ]
  },
  {
   "cell_type": "code",
   "execution_count": null,
   "id": "6fd97f54-404e-42ed-9c5a-2a71f78e74f3",
   "metadata": {},
   "outputs": [],
   "source": [
    "import unittest\n",
    "\n",
    "tc = unittest.TestCase()\n",
    "\n",
    "_test_case = 'tc-read-files-01'\n",
    "_points = 10\n",
    "\n",
    "tc.assertEqual(s1, 'This is a text file')"
   ]
  },
  {
   "cell_type": "markdown",
   "id": "e2a5ddff",
   "metadata": {},
   "source": [
    "## Case 2: Input file in a subdirectory"
   ]
  },
  {
   "cell_type": "code",
   "execution_count": null,
   "id": "28810335",
   "metadata": {},
   "outputs": [],
   "source": [
    "with open('input-folder/my-second-input.txt', 'r') as f:\n",
    "    s2 = f.read()\n",
    "\n",
    "print(s2)"
   ]
  },
  {
   "cell_type": "code",
   "execution_count": null,
   "id": "7b6aecaa",
   "metadata": {},
   "outputs": [],
   "source": [
    "import unittest\n",
    "\n",
    "tc = unittest.TestCase()\n",
    "\n",
    "_test_case = 'tc-read-files-02'\n",
    "_points = 10\n",
    "\n",
    "tc.assertEqual(s2, 'This is another text file')"
   ]
  },
  {
   "cell_type": "markdown",
   "id": "368edc35",
   "metadata": {},
   "source": [
    "## Case 3: Input file in a nested subdirectory"
   ]
  },
  {
   "cell_type": "code",
   "execution_count": null,
   "id": "cb2ca274",
   "metadata": {},
   "outputs": [],
   "source": [
    "with open('input-folder/another-nested-folder/my-third-input.txt', 'r') as f:\n",
    "    s3 = f.read()\n",
    "\n",
    "print(s3)"
   ]
  },
  {
   "cell_type": "code",
   "execution_count": null,
   "id": "c2874e65",
   "metadata": {},
   "outputs": [],
   "source": [
    "import unittest\n",
    "\n",
    "tc = unittest.TestCase()\n",
    "\n",
    "_test_case = 'tc-read-files-03'\n",
    "_points = 10\n",
    "\n",
    "tc.assertEqual(s3, 'This is the third text file')"
   ]
  },
  {
   "cell_type": "markdown",
   "id": "c49e14e2",
   "metadata": {},
   "source": [
    "## Case 4: Copy to the same directory (base_files)"
   ]
  },
  {
   "cell_type": "code",
   "execution_count": null,
   "id": "1f42c1c5",
   "metadata": {},
   "outputs": [],
   "source": [
    "with open('base1.txt', 'r') as f:\n",
    "    base1_text = f.read()\n",
    "\n",
    "print(base1_text)"
   ]
  },
  {
   "cell_type": "code",
   "execution_count": null,
   "id": "93a907d6",
   "metadata": {},
   "outputs": [],
   "source": [
    "import unittest\n",
    "\n",
    "tc = unittest.TestCase()\n",
    "\n",
    "_test_case = 'tc-read-base-01'\n",
    "_points = 10\n",
    "\n",
    "tc.assertEqual(base1_text, 'base file 1')"
   ]
  },
  {
   "cell_type": "markdown",
   "id": "0dfc32ba",
   "metadata": {},
   "source": [
    "## Case 5: Copy to a subdirectory (base_files)"
   ]
  },
  {
   "cell_type": "code",
   "execution_count": null,
   "id": "ac301fd8",
   "metadata": {},
   "outputs": [],
   "source": [
    "with open('created-folder/base2.txt', 'r') as f:\n",
    "    base2_text = f.read()\n",
    "\n",
    "print(base2_text)"
   ]
  },
  {
   "cell_type": "code",
   "execution_count": null,
   "id": "2f606c7f",
   "metadata": {},
   "outputs": [],
   "source": [
    "import unittest\n",
    "\n",
    "tc = unittest.TestCase()\n",
    "\n",
    "_test_case = 'tc-read-base-02'\n",
    "_points = 10\n",
    "\n",
    "tc.assertEqual(base2_text, 'base file 2')"
   ]
  },
  {
   "cell_type": "markdown",
   "id": "ac5aa626",
   "metadata": {},
   "source": [
    "## Case 6: Copy to a nested subdirectory (base_files)"
   ]
  },
  {
   "cell_type": "code",
   "execution_count": null,
   "id": "9e913657",
   "metadata": {},
   "outputs": [],
   "source": [
    "with open('created-folder/another-folder/base3.txt', 'r') as f:\n",
    "    base3_text = f.read()\n",
    "\n",
    "print(base3_text)"
   ]
  },
  {
   "cell_type": "code",
   "execution_count": null,
   "id": "414cfe17",
   "metadata": {},
   "outputs": [],
   "source": [
    "import unittest\n",
    "\n",
    "tc = unittest.TestCase()\n",
    "\n",
    "_test_case = 'tc-read-base-03'\n",
    "_points = 10\n",
    "\n",
    "tc.assertEqual(base3_text, 'base file 3')"
   ]
  }
 ],
 "metadata": {
  "kernelspec": {
   "display_name": "gies",
   "language": "python",
   "name": "python3"
  },
  "language_info": {
   "codemirror_mode": {
    "name": "ipython",
    "version": 3
   },
   "file_extension": ".py",
   "mimetype": "text/x-python",
   "name": "python",
   "nbconvert_exporter": "python",
   "pygments_lexer": "ipython3",
   "version": "3.12.5"
  }
 },
 "nbformat": 4,
 "nbformat_minor": 5
}

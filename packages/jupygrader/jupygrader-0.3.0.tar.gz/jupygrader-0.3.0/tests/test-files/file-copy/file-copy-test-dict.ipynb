{
 "cells": [
  {
   "cell_type": "markdown",
   "metadata": {},
   "source": [
    "## Case 1: Copy to the same directory"
   ]
  },
  {
   "cell_type": "code",
   "execution_count": null,
   "metadata": {},
   "outputs": [],
   "source": [
    "with open('copied1.txt', 'r') as f:\n",
    "    s1 = f.read()\n",
    "\n",
    "print(s1)"
   ]
  },
  {
   "cell_type": "code",
   "execution_count": null,
   "metadata": {},
   "outputs": [],
   "source": [
    "import unittest\n",
    "\n",
    "tc = unittest.TestCase()\n",
    "\n",
    "_test_case = 'tc-read-files-01'\n",
    "_points = 10\n",
    "\n",
    "tc.assertEqual(s1, 'This is a text file')"
   ]
  },
  {
   "cell_type": "markdown",
   "metadata": {},
   "source": [
    "## Case 2: Copy to a subdirectory"
   ]
  },
  {
   "cell_type": "code",
   "execution_count": null,
   "metadata": {},
   "outputs": [],
   "source": [
    "with open('created-folder/another-folder/copied2.txt', 'r') as f:\n",
    "    s2 = f.read()\n",
    "\n",
    "print(s2)"
   ]
  },
  {
   "cell_type": "code",
   "execution_count": null,
   "metadata": {},
   "outputs": [],
   "source": [
    "import unittest\n",
    "\n",
    "tc = unittest.TestCase()\n",
    "\n",
    "_test_case = 'tc-read-files-02'\n",
    "_points = 10\n",
    "\n",
    "tc.assertEqual(s2, 'This is another text file')"
   ]
  },
  {
   "cell_type": "markdown",
   "metadata": {},
   "source": [
    "## Case 3: Copy to the same directory (base_files)"
   ]
  },
  {
   "cell_type": "code",
   "execution_count": null,
   "metadata": {},
   "outputs": [],
   "source": [
    "with open('base1.txt', 'r') as f:\n",
    "    base1_text = f.read()\n",
    "\n",
    "print(base1_text)"
   ]
  },
  {
   "cell_type": "code",
   "execution_count": null,
   "metadata": {},
   "outputs": [],
   "source": [
    "import unittest\n",
    "\n",
    "tc = unittest.TestCase()\n",
    "\n",
    "_test_case = 'tc-read-base-01'\n",
    "_points = 10\n",
    "\n",
    "tc.assertEqual(base1_text, 'base file 1')"
   ]
  },
  {
   "cell_type": "markdown",
   "metadata": {},
   "source": [
    "## Case 4: Copy to a subdirectory (base_files)"
   ]
  },
  {
   "cell_type": "code",
   "execution_count": null,
   "metadata": {},
   "outputs": [],
   "source": [
    "with open('created-folder/base2.txt', 'r') as f:\n",
    "    base2_text = f.read()\n",
    "\n",
    "print(base2_text)"
   ]
  },
  {
   "cell_type": "code",
   "execution_count": null,
   "metadata": {},
   "outputs": [],
   "source": [
    "import unittest\n",
    "\n",
    "tc = unittest.TestCase()\n",
    "\n",
    "_test_case = 'tc-read-base-02'\n",
    "_points = 10\n",
    "\n",
    "tc.assertEqual(base2_text, 'base file 2')"
   ]
  },
  {
   "cell_type": "markdown",
   "metadata": {},
   "source": [
    "## Case 5: Copy to a nested subdirectory (base_files)"
   ]
  },
  {
   "cell_type": "code",
   "execution_count": null,
   "metadata": {},
   "outputs": [],
   "source": [
    "with open('created-folder/another-folder/base3.txt', 'r') as f:\n",
    "    base3_text = f.read()\n",
    "\n",
    "print(base3_text)"
   ]
  },
  {
   "cell_type": "code",
   "execution_count": null,
   "metadata": {},
   "outputs": [],
   "source": [
    "import unittest\n",
    "\n",
    "tc = unittest.TestCase()\n",
    "\n",
    "_test_case = 'tc-read-base-03'\n",
    "_points = 10\n",
    "\n",
    "tc.assertEqual(base3_text, 'base file 3')"
   ]
  }
 ],
 "metadata": {
  "language_info": {
   "name": "python"
  }
 },
 "nbformat": 4,
 "nbformat_minor": 2
}

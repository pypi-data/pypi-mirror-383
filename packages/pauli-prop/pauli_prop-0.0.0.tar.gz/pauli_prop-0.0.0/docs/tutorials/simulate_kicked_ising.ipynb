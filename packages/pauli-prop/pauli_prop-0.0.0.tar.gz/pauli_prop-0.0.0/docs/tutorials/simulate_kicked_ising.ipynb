{
 "cells": [
  {
   "cell_type": "markdown",
   "id": "df27beb5-e42d-4fa8-a47b-cbd4b7fd61a4",
   "metadata": {},
   "source": [
    "### Simulating quantum systems with Pauli propagation\n",
    "\n",
    "In this tutorial we will use the ``pauli-prop`` package to classically simulate the time dynamics of a 127-qubit kicked Ising model on a heavy-hex lattice and approximate the single-site magnetization, $\\langle Z_{62} \\rangle$. The Hamiltonian considered is:\n",
    "\n",
    "$H = -J\\sum\\limits_{\\langle i,j \\rangle} Z_iZ_j + h\\sum\\limits_iX_i$\n",
    "\n",
    "where $J>0$ describes the coupling of nearest-neighbor spins, $i<j$, and $h$ is the global transverse field. A first-order Trotter decomposition of the time-evolved operator will be implemented as a quantum circuit, $U$, over $20$ Trotter steps. The coupling constant, $J$, will be fixed at $J=-\\frac{\\pi}{2}$ such that $U$ is Clifford any time $h\\mod\\frac{\\pi}{2}=0$.\n",
    "\n",
    "In this tutorial, we will:\n",
    "\n",
    "- Create quantum circuits implementing the Trotterized Ising model\n",
    "    - Vary $h$ between Clifford points, $0.0$ and $\\frac{\\pi}{2}$.\n",
    "- Choose a site in the middle of the lattice (qubit $62$) and estimate the magnetization after $20$ Trotter steps for each circuit\n",
    "- Observe the magnetization roll off from $1.0$ to $0.0$ as $h$ moves from one Clifford point to another."
   ]
  },
  {
   "cell_type": "markdown",
   "id": "ab545dd3-7771-4226-921a-e797ad4749c1",
   "metadata": {},
   "source": [
    "#### Create circuits\n",
    "\n",
    "First, we use ``FakeSherbrooke`` from ``qiskit-ibm-runtime`` to get the edge indices for the coupling map of the 127-qubit Eagle QPU. Once we have the edge indices, we create the Trotter circuits for the varying values of $h$ we want to simulate. The circuits will implement a first-order Trotterization of the Hamiltonian using 20 Trotter steps and 5420 gates."
   ]
  },
  {
   "cell_type": "code",
   "execution_count": 1,
   "id": "92612eff-e570-45a0-be1c-16d22dfa9690",
   "metadata": {},
   "outputs": [],
   "source": [
    "import numpy as np\n",
    "from qiskit import QuantumCircuit\n",
    "from qiskit_ibm_runtime.fake_provider import FakeSherbrooke\n",
    "\n",
    "# Get the edges in the device coupling map\n",
    "backend = FakeSherbrooke()\n",
    "edges = backend.coupling_map.get_edges()\n",
    "\n",
    "# Num Trotter steps\n",
    "num_steps = 20\n",
    "\n",
    "# Create Trotter circuits with varying global fields\n",
    "hs = [i * np.pi / 32 for i in range(17)]\n",
    "circuits = []\n",
    "for h in hs:\n",
    "    circuit = QuantumCircuit(backend.num_qubits)\n",
    "    for _ in range(num_steps):\n",
    "        circuit.rx(h, [i for i in range(backend.num_qubits)])\n",
    "        for edge in edges:\n",
    "            circuit.rzz(-np.pi / 2, edge[0], edge[1])\n",
    "    circuits.append(circuit)"
   ]
  },
  {
   "cell_type": "markdown",
   "id": "2dfebe6e-3956-40eb-b19c-97ea1c20516c",
   "metadata": {},
   "source": [
    "#### Simulate the time dynamics with Pauli propagation\n",
    "\n",
    "Next, we specify the observable, $O$, we want to measure. In this case, we will estimate $\\langle Z_{62} \\rangle$.\n",
    "\n",
    "To study the magnetization between Clifford points, we will approximately propagate $O$ to the beginning of the circuit, $U$, resulting in a new observable, $\\tilde{O} \\approx U^{\\dagger}OU$.\n",
    "\n",
    "During propagation, the number of terms in the evolved observable will grow exponentially in the number of gates, so it is usually necessary to limit how large it may grow. Here, we limit the number of terms in $\\tilde{O}$ to $10^5$ and truncate terms with coefficients smaller than $10^{-5}$. Truncating terms results in some error.\n",
    "Once we have $\\tilde{O}$, we can easily estimate the expectation value, $\\langle0|U^{\\dagger}OU|0\\rangle = \\langle0|\\tilde{O}|0\\rangle$, by summing the coefficients of the diagonal terms in $\\tilde{O}$, i.e. terms consisting only of ``I`` or ``Z`` on all qubits.\n",
    "\n",
    "We set ``frame='h'`` to specify we want to evolve the observable in the Heisenberg framework ($U^{\\dagger}OU$). Use ``frame=s`` for Schrödinger evolution ($UOU^{\\dagger}$)."
   ]
  },
  {
   "cell_type": "code",
   "execution_count": 2,
   "id": "f0cfea45-2e5a-4e9e-9dd4-4b5502128e3a",
   "metadata": {},
   "outputs": [
    {
     "name": "stdout",
     "output_type": "stream",
     "text": [
      "Finshed 17 simulations in 116s\n"
     ]
    }
   ],
   "source": [
    "import time\n",
    "\n",
    "from pauli_prop import propagate_through_circuit\n",
    "from qiskit.quantum_info import Pauli, SparsePauliOp\n",
    "\n",
    "# Z_62 observable\n",
    "id_pauli = Pauli(\"I\" * backend.num_qubits)\n",
    "observable = SparsePauliOp(id_pauli.dot(Pauli(\"Z\"), [62]))\n",
    "\n",
    "# Estimate the single-site magnetization for varying magnetic fields\n",
    "times = []\n",
    "approx_evs = []\n",
    "for circuit in circuits:\n",
    "    st = time.time()\n",
    "    propagated_obs, _ = propagate_through_circuit(observable, circuit, 100_000, 1e-5, frame=\"h\")\n",
    "    times.append(time.time() - st)\n",
    "    approx_evs.append(float(propagated_obs.coeffs[~propagated_obs.paulis.x.any(axis=1)].sum()))\n",
    "print(f\"Finshed {len(circuits)} simulations in {sum(times):.0f}s\")"
   ]
  },
  {
   "cell_type": "markdown",
   "id": "d214da4c-d5cf-43f2-97a7-380858d4a953",
   "metadata": {},
   "source": [
    "#### Visualize\n",
    "\n",
    "Finally, we plot the magnetization as a function of $h$. When $h=0$ the circuit does not affect the initial state in the computational basis, and we know $\\langle0|O|0\\rangle = 1.0$. As $h$ moves further from $0$, the magnetization decays monotonically until $h$ reaches the next Clifford angle, $\\frac{\\pi}{2}$, and the magnetization converges to $0$."
   ]
  },
  {
   "cell_type": "code",
   "execution_count": 3,
   "id": "01a3e294-f5c3-485c-b027-a14d9a6384c9",
   "metadata": {},
   "outputs": [
    {
     "data": {
      "text/plain": [
       "[<matplotlib.lines.Line2D at 0x123f68b00>]"
      ]
     },
     "execution_count": 3,
     "metadata": {},
     "output_type": "execute_result"
    },
    {
     "data": {
      "image/png": "[encoded data removed]",
      "text/plain": [
       "<Figure size 640x480 with 1 Axes>"
      ]
     },
     "metadata": {},
     "output_type": "display_data"
    }
   ],
   "source": [
    "import matplotlib.pyplot as plt\n",
    "\n",
    "plt.xlabel(r\"$R_x$ angle $\\theta_h$\")\n",
    "plt.ylabel(r\"$\\langle Z_{62} \\rangle$\")\n",
    "plt.plot(hs, approx_evs, marker=\"o\")"
   ]
  }
 ],
 "metadata": {
  "kernelspec": {
   "display_name": "Python 3 (ipykernel)",
   "language": "python",
   "name": "python3"
  },
  "language_info": {
   "codemirror_mode": {
    "name": "ipython",
    "version": 3
   },
   "file_extension": ".py",
   "mimetype": "text/x-python",
   "name": "python",
   "nbconvert_exporter": "python",
   "pygments_lexer": "ipython3",
   "version": "3.12.9"
  }
 },
 "nbformat": 4,
 "nbformat_minor": 5
}

{
 "cells": [
  {
   "cell_type": "code",
   "execution_count": 10,
   "id": "b8553a18",
   "metadata": {},
   "outputs": [
    {
     "data": {
      "text/plain": [
       "'2025.09.30 13:52:45'"
      ]
     },
     "execution_count": 10,
     "metadata": {},
     "output_type": "execute_result"
    }
   ],
   "source": [
    "from datetime import datetime, date, timezone, timedelta\n",
    "\n",
    "date.today().strftime(\"%Y%m%d\")\n",
    "\n",
    "# 한국 표준시 (KST, UTC+9)로 현재 시간 출력\n",
    "kst = timezone(timedelta(hours=9))\n",
    "datetime.now(kst).strftime(\"%Y.%m.%d %H:%M:%S\")"
   ]
  },
  {
   "cell_type": "code",
   "execution_count": null,
   "id": "0e52a5a7",
   "metadata": {},
   "outputs": [
    {
     "data": {
      "text/plain": [
       "{'a', 'b'}"
      ]
     },
     "execution_count": 5,
     "metadata": {},
     "output_type": "execute_result"
    }
   ],
   "source": [
    "data = {\n",
    "    \"a\": \"a1\",\n",
    "    \"b\": \"b1\"\n",
    "}\n",
    "\n",
    "data = [\n",
    "    {\n",
    "        \"chart\":  \"1\",\n",
    "        \"result\": 1\n",
    "    },\n",
    "    {\n",
    "        \"chart\":  \"2\",\n",
    "        \"result\": 2\n",
    "    },\n",
    "    {\n",
    "        \"chart\":  \"3\",\n",
    "        \"result\": 1\n",
    "    }]\n",
    "\n",
    "data2 = [\n",
    "    {\n",
    "        \"chart\":  \"1\",\n",
    "        \"result\": 5\n",
    "    },\n",
    "    {\n",
    "        \"chart\":  \"2\",\n",
    "        \"result\": 1\n",
    "    },\n",
    "    {\n",
    "        \"chart\":  \"3\",\n",
    "        \"result\": 1\n",
    "    }\n",
    "]\n",
    "set(data)"
   ]
  },
  {
   "cell_type": "code",
   "execution_count": 6,
   "id": "4e0ba914",
   "metadata": {},
   "outputs": [
    {
     "data": {
      "text/plain": [
       "{'a', 'b'}"
      ]
     },
     "execution_count": 6,
     "metadata": {},
     "output_type": "execute_result"
    }
   ],
   "source": [
    "data = ['a', 'b']\n",
    "\n",
    "set(data)"
   ]
  },
  {
   "cell_type": "code",
   "execution_count": null,
   "id": "611d62af",
   "metadata": {},
   "outputs": [
    {
     "ename": "TypeError",
     "evalue": "unhashable type: 'dict'",
     "output_type": "error",
     "traceback": [
      "\u001b[31m---------------------------------------------------------------------------\u001b[39m",
      "\u001b[31mTypeError\u001b[39m                                 Traceback (most recent call last)",
      "\u001b[36mCell\u001b[39m\u001b[36m \u001b[39m\u001b[32mIn[4]\u001b[39m\u001b[32m, line 3\u001b[39m\n\u001b[32m      1\u001b[39m data = [\u001b[33m'\u001b[39m\u001b[33ma\u001b[39m\u001b[33m'\u001b[39m, \u001b[33m'\u001b[39m\u001b[33mb\u001b[39m\u001b[33m'\u001b[39m, {\u001b[33m'\u001b[39m\u001b[33ma\u001b[39m\u001b[33m'\u001b[39m: \u001b[33m'\u001b[39m\u001b[33ma1\u001b[39m\u001b[33m'\u001b[39m}]\n\u001b[32m----> \u001b[39m\u001b[32m3\u001b[39m \u001b[38;5;28;43mset\u001b[39;49m\u001b[43m(\u001b[49m\u001b[43mdata\u001b[49m\u001b[43m)\u001b[49m\n",
      "\u001b[31mTypeError\u001b[39m: unhashable type: 'dict'"
     ]
    }
   ],
   "source": [
    "data = ['a', 'b', {'a': 'a1'}]\n",
    "\n",
    "set(data)"
   ]
  },
  {
   "cell_type": "code",
   "execution_count": 1,
   "id": "a12e1f4a",
   "metadata": {},
   "outputs": [
    {
     "ename": "TypeError",
     "evalue": "unhashable type: 'set'",
     "output_type": "error",
     "traceback": [
      "\u001b[31m---------------------------------------------------------------------------\u001b[39m",
      "\u001b[31mTypeError\u001b[39m                                 Traceback (most recent call last)",
      "\u001b[36mCell\u001b[39m\u001b[36m \u001b[39m\u001b[32mIn[1]\u001b[39m\u001b[32m, line 3\u001b[39m\n\u001b[32m      1\u001b[39m data = [{\u001b[33m\"\u001b[39m\u001b[33ma\u001b[39m\u001b[33m\"\u001b[39m, \u001b[33m\"\u001b[39m\u001b[33mb\u001b[39m\u001b[33m\"\u001b[39m}, {\u001b[33m\"\u001b[39m\u001b[33mc\u001b[39m\u001b[33m\"\u001b[39m, \u001b[33m\"\u001b[39m\u001b[33md\u001b[39m\u001b[33m\"\u001b[39m}]\n\u001b[32m----> \u001b[39m\u001b[32m3\u001b[39m \u001b[38;5;28;43mset\u001b[39;49m\u001b[43m(\u001b[49m\u001b[43mdata\u001b[49m\u001b[43m)\u001b[49m\n",
      "\u001b[31mTypeError\u001b[39m: unhashable type: 'set'"
     ]
    }
   ],
   "source": [
    "data = [{\"a\", \"b\"}, {\"c\", \"d\"}]\n",
    "\n",
    "set(data)"
   ]
  }
 ],
 "metadata": {
  "kernelspec": {
   "display_name": "cs-mcp",
   "language": "python",
   "name": "python3"
  },
  "language_info": {
   "codemirror_mode": {
    "name": "ipython",
    "version": 3
   },
   "file_extension": ".py",
   "mimetype": "text/x-python",
   "name": "python",
   "nbconvert_exporter": "python",
   "pygments_lexer": "ipython3",
   "version": "3.13.3"
  }
 },
 "nbformat": 4,
 "nbformat_minor": 5
}

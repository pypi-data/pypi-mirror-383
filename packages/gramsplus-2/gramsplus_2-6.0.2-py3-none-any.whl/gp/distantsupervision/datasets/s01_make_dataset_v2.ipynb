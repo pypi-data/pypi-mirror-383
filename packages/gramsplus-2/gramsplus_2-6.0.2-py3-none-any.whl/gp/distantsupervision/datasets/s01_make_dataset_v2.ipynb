{
 "cells": [
  {
   "cell_type": "markdown",
   "id": "c81a726d-d8c3-4ce1-9245-551734390bb1",
   "metadata": {},
   "source": [
    "# Generate auto-labeled tables for distant supervision"
   ]
  },
  {
   "cell_type": "markdown",
   "id": "82458744-e1c6-4254-8734-9c484ebf5dbb",
   "metadata": {
    "editable": true,
    "slideshow": {
     "slide_type": ""
    },
    "tags": []
   },
   "source": [
    "## 🛠️ Setup\n",
    "\n",
    "Import packages"
   ]
  },
  {
   "cell_type": "code",
   "execution_count": 1,
   "id": "9262bb36-9c00-4647-b9bc-762641c3e11e",
   "metadata": {
    "editable": true,
    "execution": {
     "iopub.execute_input": "2024-03-28T15:48:26.348163Z",
     "iopub.status.busy": "2024-03-28T15:48:26.347801Z",
     "iopub.status.idle": "2024-03-28T15:48:53.274725Z",
     "shell.execute_reply": "2024-03-28T15:48:53.273158Z",
     "shell.execute_reply.started": "2024-03-28T15:48:26.348119Z"
    },
    "slideshow": {
     "slide_type": ""
    },
    "tags": []
   },
   "outputs": [],
   "source": [
    "import socket, serde.textline, re\n",
    "from operator import attrgetter, itemgetter\n",
    "from resm.base import *\n",
    "from sm_datasets import Datasets\n",
    "from sm.dataset import Dataset, Example\n",
    "from asciitree import LeftAligned\n",
    "from gramsplus.misc.evaluation.unorganized import reorder2tree, IndirectDictAccess"
   ]
  },
  {
   "cell_type": "markdown",
   "id": "1206c87b-70b3-421b-a46a-f94a46b020c9",
   "metadata": {},
   "source": [
    "Setup singleton objects such as data directory config"
   ]
  },
  {
   "cell_type": "markdown",
   "id": "0421daf3-8e10-4338-8704-7abcea9977de",
   "metadata": {},
   "source": [
    "Define list of files/parameters that will be produced/used when running this notebook"
   ]
  },
  {
   "cell_type": "code",
   "execution_count": 2,
   "id": "e28f1dc8-afd9-4e06-9998-c59756fdb728",
   "metadata": {
    "execution": {
     "iopub.execute_input": "2024-03-28T15:50:31.906860Z",
     "iopub.status.busy": "2024-03-28T15:50:31.906247Z",
     "iopub.status.idle": "2024-03-28T15:50:31.914680Z",
     "shell.execute_reply": "2024-03-28T15:50:31.913398Z",
     "shell.execute_reply.started": "2024-03-28T15:50:31.906811Z"
    }
   },
   "outputs": [],
   "source": [
    "AUTOLABEL_DIR = DATA_DIR / \"datasets/wiki-20230620\"\n",
    "\n",
    "SEED = 2345\n",
    "\n",
    "# max rows\n",
    "MAX_ROWS = 51  # 1 for the header\n",
    "\n",
    "# list of high level concepts -- built from table types as well as columns\n",
    "HIGH_LEVEL_CONCEPT_FILE = AUTOLABEL_DIR / \"highlevel_concepts.txt\"\n",
    "ALL_EASY_TABLE_DATASET_DIR = AUTOLABEL_DIR / f\"wt-all-easy-sp{MAX_ROWS}\"\n",
    "LIMIT_EASY_TABLE_DATASET_DIR = AUTOLABEL_DIR / f\"wt-limited-easy-sp{MAX_ROWS}\""
   ]
  },
  {
   "cell_type": "markdown",
   "id": "68444d42-bc84-4190-a467-5263e8ccdbf2",
   "metadata": {},
   "source": [
    "Define common actor args"
   ]
  },
  {
   "cell_type": "code",
   "execution_count": 3,
   "id": "671a4138-aee9-40cf-b1dc-269fd309b696",
   "metadata": {
    "execution": {
     "iopub.execute_input": "2024-03-28T15:50:32.602238Z",
     "iopub.status.busy": "2024-03-28T15:50:32.601271Z",
     "iopub.status.idle": "2024-03-28T15:50:32.612004Z",
     "shell.execute_reply": "2024-03-28T15:50:32.610942Z",
     "shell.execute_reply.started": "2024-03-28T15:50:32.602190Z"
    }
   },
   "outputs": [
    {
     "data": {
      "text/plain": [
       "<sm.namespaces.wikidata.ExtendedWikidataNamespace at 0x7f7505a59710>"
      ]
     },
     "execution_count": 3,
     "metadata": {},
     "output_type": "execute_result"
    }
   ],
   "source": [
    "kgdb = KGDB.get_instance(common_actor_args[0].kgdbs[1])\n",
    "classes = kgdb.pydb.classes.cache()\n",
    "props = kgdb.pydb.props.cache()\n",
    "entity_types = kgdb.pydb.entity_types.cache()\n",
    "kgns = kgdb.kgns\n",
    "kgns"
   ]
  },
  {
   "cell_type": "markdown",
   "id": "84d11668-ab88-4b7e-a9bd-8231b394ac1a",
   "metadata": {
    "jp-MarkdownHeadingCollapsed": true
   },
   "source": [
    "## ♾ Get all raw tables with maximum N rows\n",
    "\n",
    "Retrieve all raw tables that are not in the same wikipedia pages as test tables (wt250 dataset)"
   ]
  },
  {
   "cell_type": "raw",
   "id": "670ff55c-bd8f-4f08-b930-57b3c54f2996",
   "metadata": {
    "execution": {
     "iopub.execute_input": "2024-03-25T03:22:54.133752Z",
     "iopub.status.busy": "2024-03-25T03:22:54.132549Z",
     "iopub.status.idle": "2024-03-25T03:22:54.147303Z",
     "shell.execute_reply": "2024-03-25T03:22:54.145911Z",
     "shell.execute_reply.started": "2024-03-25T03:22:54.133707Z"
    }
   },
   "source": [
    "deepreload.reload(\"kgdata.wikipedia.datasets.easy_tables\")"
   ]
  },
  {
   "cell_type": "code",
   "execution_count": 141,
   "id": "94a883a5-9ce4-4a8b-82b3-e091e310f116",
   "metadata": {
    "execution": {
     "iopub.execute_input": "2024-03-25T20:05:16.157749Z",
     "iopub.status.busy": "2024-03-25T20:05:16.157169Z",
     "iopub.status.idle": "2024-03-25T20:05:16.193177Z",
     "shell.execute_reply": "2024-03-25T20:05:16.191785Z",
     "shell.execute_reply.started": "2024-03-25T20:05:16.157701Z"
    }
   },
   "outputs": [],
   "source": [
    "import random\n",
    "from kgdata.dataset import get_spark_context\n",
    "from kgdata.wikipedia.datasets.easy_tables import get_easy_tables_dataset\n",
    "from kgdata.wikipedia.datasets.easy_tables_metadata import get_easy_tables_metadata_dataset\n",
    "from kgdata.wikipedia.misc import get_title_from_url, is_wikipedia_url"
   ]
  },
  {
   "cell_type": "code",
   "execution_count": 142,
   "id": "70c7d95c-58a8-40b2-b4a3-35a98ff34f2b",
   "metadata": {
    "execution": {
     "iopub.execute_input": "2024-03-25T20:05:16.341341Z",
     "iopub.status.busy": "2024-03-25T20:05:16.340691Z",
     "iopub.status.idle": "2024-03-25T20:05:18.403120Z",
     "shell.execute_reply": "2024-03-25T20:05:18.402125Z",
     "shell.execute_reply.started": "2024-03-25T20:05:16.341293Z"
    }
   },
   "outputs": [
    {
     "data": {
      "application/vnd.jupyter.widget-view+json": {
       "model_id": "0d693952b14047dba21060120f092df0",
       "version_major": 2,
       "version_minor": 0
      },
      "text/plain": [
       "read dataset:   0%|          | 0/192 [00:00<?, ?it/s]"
      ]
     },
     "metadata": {},
     "output_type": "display_data"
    },
    {
     "data": {
      "text/plain": [
       "81628"
      ]
     },
     "execution_count": 142,
     "metadata": {},
     "output_type": "execute_result"
    }
   ],
   "source": [
    "tables_metadata = get_easy_tables_metadata_dataset(with_dep=False).get_list(file_order=\"asc\")\n",
    "len(tables_metadata)"
   ]
  },
  {
   "cell_type": "code",
   "execution_count": 143,
   "id": "8c96b43f-93ff-43c1-afba-53bd2e389ce1",
   "metadata": {
    "execution": {
     "iopub.execute_input": "2024-03-25T20:05:18.841418Z",
     "iopub.status.busy": "2024-03-25T20:05:18.840885Z",
     "iopub.status.idle": "2024-03-25T20:05:18.854005Z",
     "shell.execute_reply": "2024-03-25T20:05:18.852903Z",
     "shell.execute_reply.started": "2024-03-25T20:05:18.841371Z"
    }
   },
   "outputs": [],
   "source": [
    "def save_raw_dataset(sampled_tables: set[str], output_dir: Path, seed: int, max_nrows: int):\n",
    "    tables = get_easy_tables_dataset(with_dep=False).get_list()\n",
    "    filtered_tables = [tbl for tbl in tables if tbl.table.id in sampled_tables]\n",
    "    \n",
    "    examples = []\n",
    "\n",
    "    for tbl in tqdm(filtered_tables, desc='convert table'):\n",
    "        tbl = tbl.to_full_table()\n",
    "        # plus 1 to include the header -- as we already converted the HTML table to FullTable\n",
    "        if tbl.nrows() + 1 > max_nrows:\n",
    "            random.seed(seed)\n",
    "            tbl = tbl.select_rows(random.sample(range(tbl.nrows()), max_nrows - 1))\n",
    "\n",
    "        # need to remove links that are empty\n",
    "        tbl = tbl.remove_empty_links()\n",
    "        examples.append(Example(id=tbl.table.table_id, sms=[], table=tbl))\n",
    "    \n",
    "    print('save dataset...')\n",
    "    Dataset(output_dir).save(\n",
    "        examples=examples,\n",
    "        batch_compressed=True,\n",
    "        batch_size=256,\n",
    "        clean_previous_data=True,\n",
    "    )"
   ]
  },
  {
   "cell_type": "code",
   "execution_count": 144,
   "id": "aac4b66b-4595-4d5f-a158-038a7380db4d",
   "metadata": {
    "execution": {
     "iopub.execute_input": "2024-03-25T20:05:19.269040Z",
     "iopub.status.busy": "2024-03-25T20:05:19.268538Z",
     "iopub.status.idle": "2024-03-25T20:05:22.330028Z",
     "shell.execute_reply": "2024-03-25T20:05:22.329263Z",
     "shell.execute_reply.started": "2024-03-25T20:05:19.268996Z"
    }
   },
   "outputs": [],
   "source": [
    "ignored_page_titles = {ex.table.context.page_title for ex in Datasets().wt250().load()}\n",
    "\n",
    "selected_tbls = set()\n",
    "\n",
    "for tbl in tables_metadata:\n",
    "    if any(pagetype in {\"Q4167410\"} for pagetype in tbl.page_types) or len(tbl.page_types) == 0:\n",
    "        # ignore disambiguation page\n",
    "        continue\n",
    "        \n",
    "    assert is_wikipedia_url(tbl.id)\n",
    "    title = get_title_from_url(tbl.id)\n",
    "    if title in ignored_page_titles:\n",
    "        continue\n",
    "        \n",
    "    selected_tbls.add(tbl.id)\n",
    "\n",
    "if (ALL_EASY_TABLE_DATASET_DIR / \"metadata.json\").exists():\n",
    "    metadata = orjson.loads((ALL_EASY_TABLE_DATASET_DIR / \"metadata.json\").read_bytes())\n",
    "    if set(metadata[\"tables\"]) != set(selected_tbls):\n",
    "        # print(list(set(metadata[\"tables\"]).symmetric_difference(selected_tbls))[:5])\n",
    "        assert False\n",
    "    print(\"Found existing metadata.json and our sampled tables are the same!\")\n",
    "else:\n",
    "    ALL_EASY_TABLE_DATASET_DIR.mkdir(exist_ok=True, parents=True)\n",
    "    (ALL_EASY_TABLE_DATASET_DIR / \"metadata.json\").write_bytes(\n",
    "        orjson.dumps(\n",
    "            {\n",
    "                \"n_target_tables\": len(selected_tbls),\n",
    "                \"seed\": SEED,\n",
    "                \"tables\": sorted(selected_tbls),\n",
    "            },\n",
    "            option=orjson.OPT_INDENT_2,\n",
    "        )\n",
    "    )"
   ]
  },
  {
   "cell_type": "code",
   "execution_count": 145,
   "id": "5fe480e4-331d-432f-82f3-d760b13014ab",
   "metadata": {
    "execution": {
     "iopub.execute_input": "2024-03-25T20:05:22.332128Z",
     "iopub.status.busy": "2024-03-25T20:05:22.331759Z",
     "iopub.status.idle": "2024-03-25T20:05:22.337075Z",
     "shell.execute_reply": "2024-03-25T20:05:22.336504Z",
     "shell.execute_reply.started": "2024-03-25T20:05:22.332105Z"
    }
   },
   "outputs": [
    {
     "data": {
      "text/plain": [
       "'94.61% (77228/81628)'"
      ]
     },
     "execution_count": 145,
     "metadata": {},
     "output_type": "execute_result"
    }
   ],
   "source": [
    "M.percentage(len(selected_tbls), len(tables_metadata))"
   ]
  },
  {
   "cell_type": "code",
   "execution_count": 146,
   "id": "944cdae4-d5a6-4abf-b817-b8c24bb315de",
   "metadata": {
    "execution": {
     "iopub.execute_input": "2024-03-25T20:05:22.338430Z",
     "iopub.status.busy": "2024-03-25T20:05:22.338086Z",
     "iopub.status.idle": "2024-03-25T20:08:01.323914Z",
     "shell.execute_reply": "2024-03-25T20:08:01.322523Z",
     "shell.execute_reply.started": "2024-03-25T20:05:22.338410Z"
    }
   },
   "outputs": [
    {
     "data": {
      "application/vnd.jupyter.widget-view+json": {
       "model_id": "145c2740773049979200cdff8effe39b",
       "version_major": 2,
       "version_minor": 0
      },
      "text/plain": [
       "read dataset:   0%|          | 0/64 [00:00<?, ?it/s]"
      ]
     },
     "metadata": {},
     "output_type": "display_data"
    },
    {
     "data": {
      "application/vnd.jupyter.widget-view+json": {
       "model_id": "175f0036b7c24a78b3f2ec7472b5dcdf",
       "version_major": 2,
       "version_minor": 0
      },
      "text/plain": [
       "convert table:   0%|          | 0/77228 [00:00<?, ?it/s]"
      ]
     },
     "metadata": {},
     "output_type": "display_data"
    },
    {
     "name": "stdout",
     "output_type": "stream",
     "text": [
      "save dataset...\n"
     ]
    }
   ],
   "source": [
    "save_raw_dataset(selected_tbls, ALL_EASY_TABLE_DATASET_DIR, SEED, MAX_ROWS)"
   ]
  },
  {
   "cell_type": "markdown",
   "id": "a9d64f5e",
   "metadata": {},
   "source": [
    "## 🌳 Taxnomony"
   ]
  },
  {
   "cell_type": "markdown",
   "id": "0260581b-eb91-455a-ae0d-5f81c8d8015a",
   "metadata": {},
   "source": [
    "### 🧳 Load predefined types as well as normalization functions"
   ]
  },
  {
   "cell_type": "code",
   "execution_count": 4,
   "id": "5b58e4ab-6d08-4a48-b27b-fc2ed9b491ae",
   "metadata": {
    "execution": {
     "iopub.execute_input": "2024-03-28T15:50:39.368048Z",
     "iopub.status.busy": "2024-03-28T15:50:39.367317Z",
     "iopub.status.idle": "2024-03-28T15:50:39.374221Z",
     "shell.execute_reply": "2024-03-28T15:50:39.372723Z",
     "shell.execute_reply.started": "2024-03-28T15:50:39.367995Z"
    }
   },
   "outputs": [],
   "source": [
    "import pandas as pd\n",
    "from functools import partial"
   ]
  },
  {
   "cell_type": "code",
   "execution_count": 5,
   "id": "da14588c-a568-4637-8733-f5af12eff807",
   "metadata": {
    "execution": {
     "iopub.execute_input": "2024-03-28T15:50:39.376965Z",
     "iopub.status.busy": "2024-03-28T15:50:39.376505Z",
     "iopub.status.idle": "2024-03-28T15:50:39.435840Z",
     "shell.execute_reply": "2024-03-28T15:50:39.434805Z",
     "shell.execute_reply.started": "2024-03-28T15:50:39.376925Z"
    }
   },
   "outputs": [
    {
     "name": "stdout",
     "output_type": "stream",
     "text": [
      "#types: 73\n"
     ]
    }
   ],
   "source": [
    "predefined_types: dict[str, int] = TaxonomyFn.load_predefined_types(\n",
    "    HIGH_LEVEL_CONCEPT_FILE, classes\n",
    ")\n",
    "print(\"#types:\", len(predefined_types))\n",
    "\n",
    "label2id = TaxonomyFn.label2id\n",
    "normalize_types = partial(TaxonomyFn.normalize_types, collection=classes)"
   ]
  },
  {
   "cell_type": "markdown",
   "id": "1c5fee03-7a14-44af-b91a-42fc13c40792",
   "metadata": {},
   "source": [
    "visualize predefined types"
   ]
  },
  {
   "cell_type": "code",
   "execution_count": 8,
   "id": "6c82b14a-77dc-43bb-82ca-e5dbc50f470a",
   "metadata": {
    "execution": {
     "iopub.execute_input": "2024-03-28T15:50:39.437359Z",
     "iopub.status.busy": "2024-03-28T15:50:39.436997Z",
     "iopub.status.idle": "2024-03-28T15:50:39.448071Z",
     "shell.execute_reply": "2024-03-28T15:50:39.447146Z",
     "shell.execute_reply.started": "2024-03-28T15:50:39.437327Z"
    },
    "scrolled": true
   },
   "outputs": [
    {
     "name": "stdout",
     "output_type": "stream",
     "text": [
      "entity (Q35120)\n",
      " +-- index number (Q1738991)\n",
      " +-- award (Q618779)\n",
      " +-- submarine (Q2811)\n",
      " +-- company (Q783794)\n",
      " |   +-- local authority (Q837766)\n",
      " +-- chemical compound (Q11173)\n",
      " +-- educational institution (Q2385804)\n",
      " +-- legislative term (Q15238777)\n",
      " +-- city (Q515)\n",
      " +-- international organization (Q484652)\n",
      " |   +-- international sport governing body (Q11422536)\n",
      " +-- political party (Q7278)\n",
      " +-- military unit (Q176799)\n",
      " +-- county (Q28575)\n",
      " +-- mountain (Q8502)\n",
      " +-- musical group (Q215380)\n",
      " +-- arena (Q641226)\n",
      " +-- human (Q5)\n",
      " +-- written work (Q47461344)\n",
      " |   +-- magazine (Q41298)\n",
      " |   +-- filmography (Q1371849)\n",
      " |   +-- video game (Q7889)\n",
      " +-- electoral result (Q19571328)\n",
      " +-- gene (Q7187)\n",
      " +-- electoral district (Q192611)\n",
      " +-- legislature (Q11204)\n",
      " +-- public election (Q40231)\n",
      " +-- village (Q532)\n",
      " +-- album (Q482994)\n",
      " +-- district (Q149621)\n",
      " +-- recurring event (Q15275719)\n",
      " +-- ethnic group (Q2531956)\n",
      " +-- municipality (Q15284)\n",
      " +-- town (Q3957)\n",
      " +-- federated state (Q107390)\n",
      " +-- film (Q11424)\n",
      " +-- Wikimedia list article (Q13406463)\n",
      " |   +-- filmography (Q1371849)\n",
      " +-- country population (Q62944360)\n",
      " +-- prefecture (Q515716)\n",
      " +-- single (Q134556)\n",
      " +-- position (Q4164871)\n",
      " +-- station (Q12819564)\n",
      " |   +-- aerodrome (Q62447)\n",
      " |       +-- airport (Q1248784)\n",
      " +-- television channel (Q2001305)\n",
      " +-- broadcast network (Q141683)\n",
      " +-- metropolitan area (Q1907114)\n",
      " +-- business (Q4830453)\n",
      " +-- stadium (Q483110)\n",
      " +-- sports competition (Q13406554)\n",
      " +-- road (Q34442)\n",
      " +-- train service (Q15141321)\n",
      " +-- earthquake (Q7944)\n",
      " +-- regional economy (Q100773131)\n",
      " +-- province (Q34876)\n",
      " +-- ethnic group (Q41710)\n",
      " +-- industry (Q268592)\n",
      " +-- ranking (Q526719)\n",
      " +-- musical work/composition (Q105543609)\n",
      " +-- type of chemical entity (Q113145171)\n",
      " +-- mountain range (Q46831)\n",
      " +-- sports terminology (Q28829877)\n",
      " +-- television program (Q15416)\n",
      " +-- position (Q1781513)\n",
      " +-- sports organization (Q4438121)\n",
      " |   +-- international sport governing body (Q11422536)\n",
      " |   +-- rugby union governing body (Q58973026)\n",
      " |   +-- association football federation (Q1478443)\n",
      " +-- railway line (Q728937)\n",
      " +-- language (Q34770)\n",
      " +-- country (Q6256)\n",
      " +-- dependent territory (Q161243)\n",
      " +-- taxon (Q16521)\n",
      " +-- sports discipline (Q2312410)\n"
     ]
    }
   ],
   "source": [
    "tree = reorder2tree(predefined_types.keys(), IndirectDictAccess(classes, lambda x: x.ancestors)).make_tree(kgns.entity_id)\n",
    "print(LeftAligned()(tree.to_dict(lambda cid: str(classes[cid]))))"
   ]
  },
  {
   "cell_type": "markdown",
   "id": "829eba12",
   "metadata": {},
   "source": [
    "### 🪜 Create high-level concepts\n",
    "\n",
    "We manually create high-level concepts by showing in the tree and manually select concepts that are general enough.\n",
    "\n",
    "Candidate concepts can be derived from page types and candidate column types."
   ]
  },
  {
   "cell_type": "markdown",
   "id": "1bef1cdf-2bde-473d-9b2c-bf1dd2a9db10",
   "metadata": {
    "execution": {
     "iopub.execute_input": "2024-03-27T18:00:50.278269Z",
     "iopub.status.busy": "2024-03-27T18:00:50.277718Z",
     "iopub.status.idle": "2024-03-27T18:00:50.283742Z",
     "shell.execute_reply": "2024-03-27T18:00:50.282511Z",
     "shell.execute_reply.started": "2024-03-27T18:00:50.278228Z"
    },
    "jp-MarkdownHeadingCollapsed": true
   },
   "source": [
    "#### Get candidate concepts from page types"
   ]
  },
  {
   "cell_type": "raw",
   "id": "791bbaba",
   "metadata": {},
   "source": [
    "def render(i):\n",
    "    tbl = tables_metadata[i]\n",
    "    print([str(classes[x]) for x in tbl.page_types])\n",
    "    print([str(classes[x]) for x in normalize_types(tbl.page_types, predefined_types)])\n",
    "\n",
    "\n",
    "from labext.prelude import A\n",
    "\n",
    "A.slider(render, max=len(tables_metadata) - 1)"
   ]
  },
  {
   "cell_type": "code",
   "execution_count": 154,
   "id": "1463cafb-ce64-4ad8-9245-755f0cdc2bde",
   "metadata": {
    "execution": {
     "iopub.execute_input": "2024-03-25T20:11:21.437444Z",
     "iopub.status.busy": "2024-03-25T20:11:21.436859Z",
     "iopub.status.idle": "2024-03-25T20:11:22.656081Z",
     "shell.execute_reply": "2024-03-25T20:11:22.655082Z",
     "shell.execute_reply.started": "2024-03-25T20:11:21.437396Z"
    }
   },
   "outputs": [
    {
     "data": {
      "text/plain": [
       "1247"
      ]
     },
     "execution_count": 154,
     "metadata": {},
     "output_type": "execute_result"
    }
   ],
   "source": [
    "type2tbls = defaultdict(list)\n",
    "for tbl in tables_metadata:\n",
    "    if any(pagetype in {\"Q4167410\"} for pagetype in tbl.page_types):\n",
    "        # ignore disambiguation page\n",
    "        continue\n",
    "    newpagetypes = set()\n",
    "    for pagetype in set(tbl.page_types):\n",
    "        # map current type to the list of predefined type if possible.\n",
    "        # if it cannot be mapped, return the original type, so we can take a look at it manually.\n",
    "        lst = normalize_types([pagetype], predefined_types, skip_if_not_found=True)\n",
    "        if len(lst) == 0 and len(entity_types[pagetype]) > 0:\n",
    "            lst = normalize_types(\n",
    "                entity_types[pagetype], predefined_types, skip_if_not_found=True\n",
    "            )\n",
    "        lst = sorted(lst, key=lambda x: predefined_types[x], reverse=True)\n",
    "        if len(lst) == 0:\n",
    "            newpagetypes.add(pagetype)\n",
    "        else:\n",
    "            newpagetypes.add(lst[0])\n",
    "\n",
    "        # if pagetype in predefined_types or any(\n",
    "        #     pretype in classes[pagetype].ancestors for pretype in predefined_types\n",
    "        # ):\n",
    "        #     for pretype in predefined_types:\n",
    "        #         if pagetype == pretype or pretype in classes[pagetype].ancestors:\n",
    "        #             newpagetype = pretype\n",
    "        #             break\n",
    "        #     else:\n",
    "        #         raise Exception(\"Unreachable\")\n",
    "        #     type2tbls[newpagetype].append(tbl)\n",
    "        # else:\n",
    "        #     if any(\n",
    "        #         instanceof == pretype or pretype in classes[instanceof].ancestors\n",
    "        #         for instanceof in entity_types[pagetype]\n",
    "        #         for pretype in predefined_types\n",
    "        #     ):\n",
    "        #         pretypes = [\n",
    "        #             pretype\n",
    "        #             for instanceof in entity_types[pagetype]\n",
    "        #             for pretype in predefined_types\n",
    "        #             if instanceof == pretype or pretype in classes[instanceof].ancestors\n",
    "        #         ]\n",
    "        #         # Found an example: World Race Walking Team Championships (Q2002757) ['recurring event (Q15275719)', 'sports competition (Q13406554)']\n",
    "        #         # if len(pretypes) != 1 and len(entity_types[pagetype]) == 1:\n",
    "        #         #     print(str(classes[pagetype]), [str(classes[x]) for x in pretypes])\n",
    "        #         #     assert False\n",
    "        #         newpagetype = sorted(pretypes)[0]\n",
    "        #         type2tbls[newpagetype].append(tbl)\n",
    "        #     else:\n",
    "        #         type2tbls[pagetype].append(tbl)\n",
    "\n",
    "    for pagetype in newpagetypes:\n",
    "        type2tbls[pagetype].append(tbl)\n",
    "len(type2tbls)"
   ]
  },
  {
   "cell_type": "code",
   "execution_count": 155,
   "id": "a8f89b4c-e311-4a10-bb21-6501b90e6a44",
   "metadata": {
    "execution": {
     "iopub.execute_input": "2024-03-25T20:11:24.114635Z",
     "iopub.status.busy": "2024-03-25T20:11:24.113939Z",
     "iopub.status.idle": "2024-03-25T20:11:24.303361Z",
     "shell.execute_reply": "2024-03-25T20:11:24.302346Z",
     "shell.execute_reply.started": "2024-03-25T20:11:24.114586Z"
    },
    "scrolled": true
   },
   "outputs": [
    {
     "name": "stdout",
     "output_type": "stream",
     "text": [
      "1247\n",
      "75445\n",
      "74516\n"
     ]
    },
    {
     "data": {
      "text/html": [
       "<div>\n",
       "<style scoped>\n",
       "    .dataframe tbody tr th:only-of-type {\n",
       "        vertical-align: middle;\n",
       "    }\n",
       "\n",
       "    .dataframe tbody tr th {\n",
       "        vertical-align: top;\n",
       "    }\n",
       "\n",
       "    .dataframe thead th {\n",
       "        text-align: right;\n",
       "    }\n",
       "</style>\n",
       "<table border=\"1\" class=\"dataframe\">\n",
       "  <thead>\n",
       "    <tr style=\"text-align: right;\">\n",
       "      <th></th>\n",
       "      <th>type</th>\n",
       "      <th>size</th>\n",
       "    </tr>\n",
       "  </thead>\n",
       "  <tbody>\n",
       "    <tr>\n",
       "      <th>0</th>\n",
       "      <td>sports competition (Q13406554)</td>\n",
       "      <td>41042</td>\n",
       "    </tr>\n",
       "    <tr>\n",
       "      <th>1</th>\n",
       "      <td>Wikimedia list article (Q13406463)</td>\n",
       "      <td>9270</td>\n",
       "    </tr>\n",
       "    <tr>\n",
       "      <th>2</th>\n",
       "      <td>human (Q5)</td>\n",
       "      <td>7344</td>\n",
       "    </tr>\n",
       "    <tr>\n",
       "      <th>3</th>\n",
       "      <td>sports organization (Q4438121)</td>\n",
       "      <td>6455</td>\n",
       "    </tr>\n",
       "    <tr>\n",
       "      <th>4</th>\n",
       "      <td>recurring event (Q15275719)</td>\n",
       "      <td>1496</td>\n",
       "    </tr>\n",
       "    <tr>\n",
       "      <th>5</th>\n",
       "      <td>written work (Q47461344)</td>\n",
       "      <td>1287</td>\n",
       "    </tr>\n",
       "    <tr>\n",
       "      <th>6</th>\n",
       "      <td>award (Q618779)</td>\n",
       "      <td>1062</td>\n",
       "    </tr>\n",
       "    <tr>\n",
       "      <th>7</th>\n",
       "      <td>television program (Q15416)</td>\n",
       "      <td>693</td>\n",
       "    </tr>\n",
       "    <tr>\n",
       "      <th>8</th>\n",
       "      <td>award ceremony (Q4504495)</td>\n",
       "      <td>538</td>\n",
       "    </tr>\n",
       "    <tr>\n",
       "      <th>9</th>\n",
       "      <td>municipality (Q15284)</td>\n",
       "      <td>469</td>\n",
       "    </tr>\n",
       "    <tr>\n",
       "      <th>10</th>\n",
       "      <td>public election (Q40231)</td>\n",
       "      <td>408</td>\n",
       "    </tr>\n",
       "    <tr>\n",
       "      <th>11</th>\n",
       "      <td>business (Q4830453)</td>\n",
       "      <td>372</td>\n",
       "    </tr>\n",
       "    <tr>\n",
       "      <th>12</th>\n",
       "      <td>sports discipline (Q2312410)</td>\n",
       "      <td>347</td>\n",
       "    </tr>\n",
       "    <tr>\n",
       "      <th>13</th>\n",
       "      <td>event (Q1656682)</td>\n",
       "      <td>320</td>\n",
       "    </tr>\n",
       "    <tr>\n",
       "      <th>14</th>\n",
       "      <td>military unit (Q176799)</td>\n",
       "      <td>308</td>\n",
       "    </tr>\n",
       "    <tr>\n",
       "      <th>15</th>\n",
       "      <td>airport (Q1248784)</td>\n",
       "      <td>262</td>\n",
       "    </tr>\n",
       "    <tr>\n",
       "      <th>16</th>\n",
       "      <td>aerodrome (Q62447)</td>\n",
       "      <td>261</td>\n",
       "    </tr>\n",
       "    <tr>\n",
       "      <th>17</th>\n",
       "      <td>company (Q783794)</td>\n",
       "      <td>218</td>\n",
       "    </tr>\n",
       "    <tr>\n",
       "      <th>18</th>\n",
       "      <td>political party (Q7278)</td>\n",
       "      <td>192</td>\n",
       "    </tr>\n",
       "    <tr>\n",
       "      <th>19</th>\n",
       "      <td>film (Q11424)</td>\n",
       "      <td>183</td>\n",
       "    </tr>\n",
       "    <tr>\n",
       "      <th>20</th>\n",
       "      <td>organization (Q43229)</td>\n",
       "      <td>178</td>\n",
       "    </tr>\n",
       "    <tr>\n",
       "      <th>21</th>\n",
       "      <td>county (Q28575)</td>\n",
       "      <td>163</td>\n",
       "    </tr>\n",
       "    <tr>\n",
       "      <th>22</th>\n",
       "      <td>legislative term (Q15238777)</td>\n",
       "      <td>157</td>\n",
       "    </tr>\n",
       "    <tr>\n",
       "      <th>23</th>\n",
       "      <td>district (Q149621)</td>\n",
       "      <td>154</td>\n",
       "    </tr>\n",
       "    <tr>\n",
       "      <th>24</th>\n",
       "      <td>ranking (Q526719)</td>\n",
       "      <td>148</td>\n",
       "    </tr>\n",
       "    <tr>\n",
       "      <th>25</th>\n",
       "      <td>ethnic group (Q41710)</td>\n",
       "      <td>142</td>\n",
       "    </tr>\n",
       "    <tr>\n",
       "      <th>26</th>\n",
       "      <td>city (Q515)</td>\n",
       "      <td>137</td>\n",
       "    </tr>\n",
       "    <tr>\n",
       "      <th>27</th>\n",
       "      <td>electoral district (Q192611)</td>\n",
       "      <td>133</td>\n",
       "    </tr>\n",
       "    <tr>\n",
       "      <th>28</th>\n",
       "      <td>educational institution (Q2385804)</td>\n",
       "      <td>128</td>\n",
       "    </tr>\n",
       "    <tr>\n",
       "      <th>29</th>\n",
       "      <td>filmography (Q1371849)</td>\n",
       "      <td>128</td>\n",
       "    </tr>\n",
       "    <tr>\n",
       "      <th>30</th>\n",
       "      <td>demographics of country or region (Q23983664)</td>\n",
       "      <td>127</td>\n",
       "    </tr>\n",
       "    <tr>\n",
       "      <th>31</th>\n",
       "      <td>international sport governing body (Q11422536)</td>\n",
       "      <td>111</td>\n",
       "    </tr>\n",
       "    <tr>\n",
       "      <th>32</th>\n",
       "      <td>album (Q482994)</td>\n",
       "      <td>102</td>\n",
       "    </tr>\n",
       "    <tr>\n",
       "      <th>33</th>\n",
       "      <td>data set of a specific country (Q17305522)</td>\n",
       "      <td>99</td>\n",
       "    </tr>\n",
       "    <tr>\n",
       "      <th>34</th>\n",
       "      <td>position (Q4164871)</td>\n",
       "      <td>88</td>\n",
       "    </tr>\n",
       "    <tr>\n",
       "      <th>35</th>\n",
       "      <td>aspect in a geographic region (Q74817647)</td>\n",
       "      <td>87</td>\n",
       "    </tr>\n",
       "    <tr>\n",
       "      <th>36</th>\n",
       "      <td>team rivalry in sports (Q40434727)</td>\n",
       "      <td>81</td>\n",
       "    </tr>\n",
       "    <tr>\n",
       "      <th>37</th>\n",
       "      <td>stadium (Q483110)</td>\n",
       "      <td>74</td>\n",
       "    </tr>\n",
       "    <tr>\n",
       "      <th>38</th>\n",
       "      <td>metropolitan area (Q1907114)</td>\n",
       "      <td>73</td>\n",
       "    </tr>\n",
       "    <tr>\n",
       "      <th>39</th>\n",
       "      <td>district of the Czech Republic (Q548611)</td>\n",
       "      <td>72</td>\n",
       "    </tr>\n",
       "    <tr>\n",
       "      <th>40</th>\n",
       "      <td>nonprofit organization (Q163740)</td>\n",
       "      <td>67</td>\n",
       "    </tr>\n",
       "    <tr>\n",
       "      <th>41</th>\n",
       "      <td>musical group (Q215380)</td>\n",
       "      <td>62</td>\n",
       "    </tr>\n",
       "    <tr>\n",
       "      <th>42</th>\n",
       "      <td>geographic region (Q82794)</td>\n",
       "      <td>55</td>\n",
       "    </tr>\n",
       "    <tr>\n",
       "      <th>43</th>\n",
       "      <td>international organization (Q484652)</td>\n",
       "      <td>54</td>\n",
       "    </tr>\n",
       "    <tr>\n",
       "      <th>44</th>\n",
       "      <td>road (Q34442)</td>\n",
       "      <td>52</td>\n",
       "    </tr>\n",
       "    <tr>\n",
       "      <th>45</th>\n",
       "      <td>tourism in a region (Q98374854)</td>\n",
       "      <td>50</td>\n",
       "    </tr>\n",
       "    <tr>\n",
       "      <th>46</th>\n",
       "      <td>sport rivalry (Q63981919)</td>\n",
       "      <td>50</td>\n",
       "    </tr>\n",
       "    <tr>\n",
       "      <th>47</th>\n",
       "      <td>chemical compound (Q11173)</td>\n",
       "      <td>49</td>\n",
       "    </tr>\n",
       "    <tr>\n",
       "      <th>48</th>\n",
       "      <td>industry (Q268592)</td>\n",
       "      <td>49</td>\n",
       "    </tr>\n",
       "    <tr>\n",
       "      <th>49</th>\n",
       "      <td>federated state (Q107390)</td>\n",
       "      <td>48</td>\n",
       "    </tr>\n",
       "  </tbody>\n",
       "</table>\n",
       "</div>"
      ],
      "text/plain": [
       "                                              type   size\n",
       "0                   sports competition (Q13406554)  41042\n",
       "1               Wikimedia list article (Q13406463)   9270\n",
       "2                                       human (Q5)   7344\n",
       "3                   sports organization (Q4438121)   6455\n",
       "4                      recurring event (Q15275719)   1496\n",
       "5                         written work (Q47461344)   1287\n",
       "6                                  award (Q618779)   1062\n",
       "7                      television program (Q15416)    693\n",
       "8                        award ceremony (Q4504495)    538\n",
       "9                            municipality (Q15284)    469\n",
       "10                        public election (Q40231)    408\n",
       "11                             business (Q4830453)    372\n",
       "12                    sports discipline (Q2312410)    347\n",
       "13                                event (Q1656682)    320\n",
       "14                         military unit (Q176799)    308\n",
       "15                              airport (Q1248784)    262\n",
       "16                              aerodrome (Q62447)    261\n",
       "17                               company (Q783794)    218\n",
       "18                         political party (Q7278)    192\n",
       "19                                   film (Q11424)    183\n",
       "20                           organization (Q43229)    178\n",
       "21                                 county (Q28575)    163\n",
       "22                    legislative term (Q15238777)    157\n",
       "23                              district (Q149621)    154\n",
       "24                               ranking (Q526719)    148\n",
       "25                           ethnic group (Q41710)    142\n",
       "26                                     city (Q515)    137\n",
       "27                    electoral district (Q192611)    133\n",
       "28              educational institution (Q2385804)    128\n",
       "29                          filmography (Q1371849)    128\n",
       "30   demographics of country or region (Q23983664)    127\n",
       "31  international sport governing body (Q11422536)    111\n",
       "32                                 album (Q482994)    102\n",
       "33      data set of a specific country (Q17305522)     99\n",
       "34                             position (Q4164871)     88\n",
       "35       aspect in a geographic region (Q74817647)     87\n",
       "36              team rivalry in sports (Q40434727)     81\n",
       "37                               stadium (Q483110)     74\n",
       "38                    metropolitan area (Q1907114)     73\n",
       "39        district of the Czech Republic (Q548611)     72\n",
       "40                nonprofit organization (Q163740)     67\n",
       "41                         musical group (Q215380)     62\n",
       "42                      geographic region (Q82794)     55\n",
       "43            international organization (Q484652)     54\n",
       "44                                   road (Q34442)     52\n",
       "45                 tourism in a region (Q98374854)     50\n",
       "46                       sport rivalry (Q63981919)     50\n",
       "47                      chemical compound (Q11173)     49\n",
       "48                              industry (Q268592)     49\n",
       "49                       federated state (Q107390)     48"
      ]
     },
     "execution_count": 155,
     "metadata": {},
     "output_type": "execute_result"
    }
   ],
   "source": [
    "lst = [\n",
    "    {\"type\": str(classes[type]), \"size\": len(tbls)}\n",
    "    for type, tbls in sorted(type2tbls.items(), key=lambda x: len(x[1]), reverse=True)\n",
    "]\n",
    "df = pd.DataFrame(lst)\n",
    "print(len(lst))\n",
    "print(df.head(50)[\"size\"].sum())\n",
    "print(sum(len(type2tbls[type]) for type in predefined_types))\n",
    "df.head(50)"
   ]
  },
  {
   "cell_type": "markdown",
   "id": "9218333e-2ffb-4e72-b26d-d53a0c4ec81d",
   "metadata": {
    "jp-MarkdownHeadingCollapsed": true
   },
   "source": [
    "#### Get candidate concepts from column types"
   ]
  },
  {
   "cell_type": "code",
   "execution_count": 165,
   "id": "415c65c0-dd27-447b-8725-2b89e886d07b",
   "metadata": {
    "execution": {
     "iopub.execute_input": "2024-03-25T20:27:05.833168Z",
     "iopub.status.busy": "2024-03-25T20:27:05.832496Z",
     "iopub.status.idle": "2024-03-25T20:27:05.849335Z",
     "shell.execute_reply": "2024-03-25T20:27:05.848091Z",
     "shell.execute_reply.started": "2024-03-25T20:27:05.833100Z"
    }
   },
   "outputs": [
    {
     "name": "stderr",
     "output_type": "stream",
     "text": [
      "\u001b[32m2024-03-25 20:27:05.839\u001b[0m | \u001b[34m\u001b[1mDEBUG   \u001b[0m | \u001b[36mream.actor_graph\u001b[0m:\u001b[36mcreate_actor\u001b[0m:\u001b[36m273\u001b[0m - \u001b[34m\u001b[1mDetermine the actor to run...\u001b[0m\n",
      "\u001b[32m2024-03-25 20:27:05.841\u001b[0m | \u001b[34m\u001b[1mDEBUG   \u001b[0m | \u001b[36mream.actor_graph\u001b[0m:\u001b[36mcreate_actor\u001b[0m:\u001b[36m275\u001b[0m - \u001b[34m\u001b[1mInitializing argument parser...\u001b[0m\n",
      "\u001b[32m2024-03-25 20:27:05.843\u001b[0m | \u001b[34m\u001b[1mDEBUG   \u001b[0m | \u001b[36mream.actor_graph\u001b[0m:\u001b[36mcreate_actor\u001b[0m:\u001b[36m292\u001b[0m - \u001b[34m\u001b[1mConstructing the actor...\u001b[0m\n"
     ]
    }
   ],
   "source": [
    "unprocess_autolabel_actor = G.create_actor(AutoLabeledDataActor, common_actor_args + [\n",
    "    AutoLabelDataActorArgs(\n",
    "        dataset_dir=RelWorkdirPath(AUTOLABEL_DIR),\n",
    "        skip_non_unique_mention=True,\n",
    "        skip_column_with_no_type=True,\n",
    "        filter_method=\"no_filter\",\n",
    "        transform_method=\"no_transform\",\n",
    "        label_method=\"label_v1\",\n",
    "        label_v1=LabelV1Args(\n",
    "            topk=1,\n",
    "            threshold=0.7,\n",
    "            include_similar_score=True,\n",
    "        ),\n",
    "    ),\n",
    "])"
   ]
  },
  {
   "cell_type": "code",
   "execution_count": 166,
   "id": "5b9bec43-bb4a-456d-8d0b-a31868b047f6",
   "metadata": {
    "execution": {
     "iopub.execute_input": "2024-03-25T20:27:07.022647Z",
     "iopub.status.busy": "2024-03-25T20:27:07.022129Z",
     "iopub.status.idle": "2024-03-25T20:39:02.715546Z",
     "shell.execute_reply": "2024-03-25T20:39:02.714775Z",
     "shell.execute_reply.started": "2024-03-25T20:27:07.022606Z"
    }
   },
   "outputs": [
    {
     "name": "stderr",
     "output_type": "stream",
     "text": [
      "\u001b[32m2024-03-25 20:27:07.055\u001b[0m | \u001b[34m\u001b[1mDEBUG   \u001b[0m | \u001b[36mAutoLabeledDataActor\u001b[0m:\u001b[36mream.actors.base\u001b[0m:\u001b[36mget_working_fs\u001b[0m:\u001b[36m98\u001b[0m - \u001b[34m\u001b[1mUsing working directory: /nas/home/binhvu/workspace/sm-research/data/ream/AutoLabeledDataActor/v116/001\u001b[0m\n",
      "\u001b[32m2024-03-25 20:28:40.527\u001b[0m | \u001b[1mINFO    \u001b[0m | \u001b[36msm.misc.ray_helper\u001b[0m:\u001b[36mray_init\u001b[0m:\u001b[36m36\u001b[0m - \u001b[1mInitialize ray with args: {'log_to_driver': False, 'address': 'auto'}\u001b[0m\n",
      "2024-03-25 20:28:40,563\tINFO worker.py:1567 -- Connecting to existing Ray cluster at address: 128.9.35.196:26379...\n",
      "2024-03-25 20:28:40,573\tINFO worker.py:1743 -- Connected to Ray cluster. View the dashboard at \u001b[1m\u001b[32mhttp://128.9.35.196:28265 \u001b[39m\u001b[22m\n"
     ]
    },
    {
     "data": {
      "application/vnd.jupyter.widget-view+json": {
       "model_id": "28b01ddb264d4382aa2ea8aecf9cefba",
       "version_major": 2,
       "version_minor": 0
      },
      "text/plain": [
       "generate auto-label dataset:   0%|          | 0/77228 [00:00<?, ?it/s]"
      ]
     },
     "metadata": {},
     "output_type": "display_data"
    },
    {
     "name": "stderr",
     "output_type": "stream",
     "text": [
      "\u001b[32m2024-03-25 20:38:59.185\u001b[0m | \u001b[34m\u001b[1mDEBUG   \u001b[0m | \u001b[36mtimer\u001b[0m:\u001b[36mwatch_and_report\u001b[0m:\u001b[36m74\u001b[0m - \u001b[34m\u001b[1mserialize: 130.270 seconds\u001b[0m\n"
     ]
    }
   ],
   "source": [
    "unprocess_easy_tables = unprocess_autolabel_actor.process_dataset(ALL_EASY_TABLE_DATASET_DIR.name)"
   ]
  },
  {
   "cell_type": "code",
   "execution_count": 158,
   "id": "ad66fd22-f89a-4c94-834b-37d7f040585d",
   "metadata": {
    "execution": {
     "iopub.execute_input": "2024-03-25T20:12:53.791583Z",
     "iopub.status.busy": "2024-03-25T20:12:53.791421Z",
     "iopub.status.idle": "2024-03-25T20:12:55.522681Z",
     "shell.execute_reply": "2024-03-25T20:12:55.521846Z",
     "shell.execute_reply.started": "2024-03-25T20:12:53.791569Z"
    }
   },
   "outputs": [
    {
     "data": {
      "text/plain": [
       "630"
      ]
     },
     "execution_count": 158,
     "metadata": {},
     "output_type": "execute_result"
    }
   ],
   "source": [
    "type2columns = defaultdict(list)\n",
    "for tbl in unprocess_easy_tables:\n",
    "    for ci, ctypes in zip(tbl.entity_columns, tbl.entity_column_types):\n",
    "        new_types = normalize_types(\n",
    "            [(x.id, x.score) for x in ctypes], predefined_types, skip_if_not_found=True\n",
    "        )\n",
    "\n",
    "        # ignore disambiguation page\n",
    "        new_types = [x for x in new_types if x not in {\"Q4167410\"}]\n",
    "        new_types = sorted(new_types, key=itemgetter(1), reverse=True)\n",
    "\n",
    "        if len(new_types) == 0:\n",
    "            # use the original types -- but we only use the top type\n",
    "            new_types = [x.id for x in ctypes if x.score == ctypes[0].score]\n",
    "        else:\n",
    "            new_types = [x[0] for x in new_types if x[1] == new_types[0][1]]\n",
    "\n",
    "        type2columns[new_types[0]].append(\n",
    "            (\n",
    "                tbl.table.table.table_id,\n",
    "                ci,\n",
    "                tbl.table.table.columns[ci].clean_multiline_name,\n",
    "            )\n",
    "        )\n",
    "\n",
    "len(type2columns)"
   ]
  },
  {
   "cell_type": "markdown",
   "id": "25b992e0-7585-456d-b0cb-f3a064211f05",
   "metadata": {
    "jp-MarkdownHeadingCollapsed": true
   },
   "source": [
    "#### Arrange candidate concepts into trees\n",
    "\n",
    "We are going to figure out the top level classes and merge them into there. the next three cells print out the unprocessed types arrange into trees"
   ]
  },
  {
   "cell_type": "code",
   "execution_count": 23,
   "id": "6c6cc704-aa9a-4d94-bcd6-ed69d517c3e5",
   "metadata": {
    "execution": {
     "iopub.execute_input": "2024-03-25T05:46:55.365719Z",
     "iopub.status.busy": "2024-03-25T05:46:55.365125Z",
     "iopub.status.idle": "2024-03-25T05:46:55.407418Z",
     "shell.execute_reply": "2024-03-25T05:46:55.406422Z",
     "shell.execute_reply.started": "2024-03-25T05:46:55.365671Z"
    }
   },
   "outputs": [
    {
     "data": {
      "text/plain": [
       "72"
      ]
     },
     "execution_count": 23,
     "metadata": {},
     "output_type": "execute_result"
    }
   ],
   "source": [
    "forest = reorder2tree(\n",
    "    [type for type, tbls in type2tbls.items() if len(tbls) > 10] + [\n",
    "        type for type, cols in type2columns.items() if len(cols) > 10\n",
    "    ],\n",
    "    IndirectDictAccess(classes, lambda x: x.ancestors),\n",
    ")\n",
    "len(forest.trees)"
   ]
  },
  {
   "cell_type": "code",
   "execution_count": 24,
   "id": "8ed4e4ca-a11a-4786-9d0f-8a180b7ea8b6",
   "metadata": {
    "execution": {
     "iopub.execute_input": "2024-03-25T05:46:55.540710Z",
     "iopub.status.busy": "2024-03-25T05:46:55.540287Z",
     "iopub.status.idle": "2024-03-25T05:46:55.563143Z",
     "shell.execute_reply": "2024-03-25T05:46:55.561845Z",
     "shell.execute_reply.started": "2024-03-25T05:46:55.540678Z"
    },
    "scrolled": true
   },
   "outputs": [
    {
     "name": "stdout",
     "output_type": "stream",
     "text": [
      ">>>\n",
      "organization (Q43229)\n",
      " +-- nonprofit organization (Q163740)\n",
      " |   +-- voluntary association (Q48204)\n",
      " +-- research institute (Q31855)\n",
      " +-- squad (Q51747567)\n",
      " +-- government agency (Q327333)\n",
      " |   +-- government (Q7188)\n",
      " |   |   +-- public institution of intermunicipal cooperation with own taxation (Q18706073)\n",
      " |   +-- European Commission (Q8880)\n",
      " +-- umbrella organization (Q1156831)\n",
      "\n",
      ">>>\n",
      "data set of a specific country (Q17305522)\n",
      "\n",
      ">>>\n",
      "aspect in a geographic region (Q74817647)\n",
      " +-- tourism in a region (Q98374854)\n",
      " +-- religion of an area (Q66374263)\n",
      " +-- sport in a geographic region (Q29791211)\n",
      "\n",
      ">>>\n",
      "NRL Auckland Nines (Q16971168)\n",
      "\n",
      ">>>\n",
      "world cup (Q1936368)\n",
      "\n",
      ">>>\n",
      "locomotive class (Q19832486)\n",
      "\n",
      ">>>\n",
      "geographic region (Q82794)\n",
      " +-- human settlement (Q486972)\n",
      " |   +-- county seat (Q62049)\n",
      " |   +-- major regional center (Q253030)\n",
      " |   +-- neighborhood in Boston (Q3413329)\n",
      " |   +-- cadastral populated place in the Netherlands (Q1852859)\n",
      " |   +-- urban area in Sweden (Q12813115)\n",
      " |   +-- locality of Mexico (Q20202352)\n",
      " |   +-- census-designated place in the United States (Q498162)\n",
      " |   +-- city or town (Q7930989)\n",
      " |   |   +-- city of Iran (Q56557504)\n",
      " |   +-- rural district of Vietnam (Q2582669)\n",
      " +-- passenger train (Q1363599)\n",
      " +-- administrative territorial entity (Q56061)\n",
      " |   +-- hundred (Q313354)\n",
      " |   +-- province of Italy (Q15089)\n",
      " |   +-- regional unit of Greece (Q1234255)\n",
      " |   +-- district of the Czech Republic (Q548611)\n",
      " |   +-- revenue division (Q24943410)\n",
      " |   +-- comarca of Catalonia (Q937876)\n",
      " |   +-- district of India (Q1149652)\n",
      " |   +-- public institution of intermunicipal cooperation with own taxation (Q18706073)\n",
      " |   +-- governorate of Tunisia (Q690084)\n",
      " |   +-- major regional center (Q253030)\n",
      " |   +-- neighborhood in Boston (Q3413329)\n",
      " |   +-- department of Colombia (Q215655)\n",
      " |   +-- urban area in Sweden (Q12813115)\n",
      " |   +-- county of Hungary (Q188604)\n",
      " |   +-- locality of Mexico (Q20202352)\n",
      " |   +-- region of Italy (Q16110)\n",
      " |   +-- autonomous community of Spain (Q10742)\n",
      " |   +-- județ (Q1776764)\n",
      " |   +-- province of Sri Lanka (Q861559)\n",
      " |   +-- region of Chile (Q590080)\n",
      " |   +-- city or town (Q7930989)\n",
      " |   |   +-- city of Iran (Q56557504)\n",
      " |   +-- oblast of Ukraine (Q3348196)\n",
      " |   +-- tambon (Q1077097)\n",
      " |   +-- county of Ireland (Q179872)\n",
      " |   +-- county of Norway (Q192299)\n",
      " |   +-- rural district of Vietnam (Q2582669)\n",
      " |   +-- civil parish (Q1115575)\n",
      " +-- sports venue (Q1076486)\n",
      " |   +-- artificial whitewater (Q182886)\n",
      " +-- island (Q23442)\n",
      " +-- river (Q4022)\n",
      "\n",
      ">>>\n",
      "demographics of country or region (Q23983664)\n",
      "\n",
      ">>>\n",
      "FIRST Robotics Competition (Q444706)\n",
      "\n",
      ">>>\n",
      "aspect of history (Q17524420)\n",
      "\n",
      ">>>\n",
      "occurrence (Q1190554)\n",
      " +-- event (Q1656682)\n",
      " |   +-- concert tour (Q1573906)\n",
      " |   +-- expansion draft (Q1359142)\n",
      " |   +-- recurrent event edition (Q27968055)\n",
      " |   |   +-- award ceremony (Q4504495)\n",
      " |   |   |   +-- Golden Globe Award ceremony (Q19311591)\n",
      " |   |   +-- film festival edition (Q27787439)\n",
      " |   +-- tourism in a region (Q98374854)\n",
      " |   +-- referendum (Q43109)\n",
      " |   +-- sport rivalry (Q63981919)\n",
      " |   |   +-- team rivalry in sports (Q40434727)\n",
      " |   +-- wine competition (Q8024924)\n",
      " +-- career statistics (Q20054355)\n",
      " +-- sentiment (Q7451247)\n",
      " +-- treaty (Q131569)\n",
      " |   +-- International Labour Organization Convention (Q29883540)\n",
      " +-- electoral history (Q20045609)\n",
      " +-- urban area in Sweden (Q12813115)\n",
      " +-- typhoon (Q140588)\n",
      "\n",
      ">>>\n",
      "rugby union records and statistics (Q60856733)\n",
      "\n",
      ">>>\n",
      "Act of the Oireachtas (Q91586285)\n",
      "\n",
      ">>>\n",
      "visa policy (Q16725895)\n",
      "\n",
      ">>>\n",
      "geography of geographic location (Q46865913)\n",
      "\n",
      ">>>\n",
      "aircraft family (Q15056993)\n",
      "\n",
      ">>>\n",
      "automobile model (Q3231690)\n",
      "\n",
      ">>>\n",
      "chemical element (Q11344)\n",
      "\n",
      ">>>\n",
      "type of sport (Q31629)\n",
      "\n",
      ">>>\n",
      "dog breed (Q39367)\n",
      "\n",
      ">>>\n",
      "family name (Q101352)\n",
      "\n",
      ">>>\n",
      "racing automobile model (Q90834785)\n",
      "\n",
      ">>>\n",
      "church building (Q16970)\n",
      "\n",
      ">>>\n",
      "organization (Q43229)\n",
      " +-- nonprofit organization (Q163740)\n",
      " |   +-- voluntary association (Q48204)\n",
      " +-- research institute (Q31855)\n",
      " +-- squad (Q51747567)\n",
      " +-- government agency (Q327333)\n",
      " |   +-- government (Q7188)\n",
      " |   |   +-- public institution of intermunicipal cooperation with own taxation (Q18706073)\n",
      " |   +-- European Commission (Q8880)\n",
      " +-- umbrella organization (Q1156831)\n",
      "\n",
      ">>>\n",
      "locomotive class (Q19832486)\n",
      "\n"
     ]
    }
   ],
   "source": [
    "def viz_node(cid: str):\n",
    "    label = f\"{classes[cid]}\"\n",
    "    if is_covered(cid):\n",
    "        return f\"{label} (covered)\"\n",
    "    return label\n",
    "\n",
    "def is_covered(cid: str):\n",
    "    return cid in predefined_types or any(\n",
    "        pretype in classes[cid].ancestors for pretype in predefined_types\n",
    "    )\n",
    "\n",
    "def trim_tree(tree, path):\n",
    "    if is_covered(tree.id):\n",
    "        tree.children = []\n",
    "    tree.children = [c for c in tree.children if not is_covered(c.id)]\n",
    "\n",
    "\n",
    "tr = LeftAligned()\n",
    "for tree in forest.trees:\n",
    "    if is_covered(tree.id):\n",
    "        continue\n",
    "\n",
    "    tree = tree.clone()\n",
    "    tree.preorder(trim_tree)\n",
    "    # if tree.size() == 1:\n",
    "    #     continue\n",
    "\n",
    "    print(\">>>\")\n",
    "    print(tr(tree.to_dict(viz_node)))\n",
    "    print(\"\")"
   ]
  },
  {
   "cell_type": "markdown",
   "id": "b4a3c41f-d42d-4d7f-9b26-51d821c46da1",
   "metadata": {},
   "source": [
    "## 🍣 Create raw dataset of unlabeled tables"
   ]
  },
  {
   "cell_type": "markdown",
   "id": "8bdcf87c-1ac7-481a-a8fd-5c5448c49e35",
   "metadata": {
    "jp-MarkdownHeadingCollapsed": true
   },
   "source": [
    "### ♾ Get raw predefined typed tables with maximum N rows"
   ]
  },
  {
   "cell_type": "code",
   "execution_count": 6,
   "id": "dfa5fce1-8fb9-4bea-8515-ce3c656f6311",
   "metadata": {
    "execution": {
     "iopub.execute_input": "2024-03-27T15:35:40.621629Z",
     "iopub.status.busy": "2024-03-27T15:35:40.621027Z",
     "iopub.status.idle": "2024-03-27T15:35:40.639546Z",
     "shell.execute_reply": "2024-03-27T15:35:40.638362Z",
     "shell.execute_reply.started": "2024-03-27T15:35:40.621581Z"
    }
   },
   "outputs": [],
   "source": [
    "rerun = False\n",
    "if not LIMIT_EASY_TABLE_DATASET_DIR.exists() or rerun:\n",
    "    ignored_page_titles = {ex.table.context.page_title for ex in Datasets().wt250().load()}\n",
    "\n",
    "    selected_tbls = set()\n",
    "    for predef_type in predefined_types:\n",
    "        tbls = type2tbls[predef_type]\n",
    "        for tbl in tbls:\n",
    "            assert is_wikipedia_url(tbl.id)\n",
    "            title = get_title_from_url(tbl.id)\n",
    "            if title in ignored_page_titles:\n",
    "                continue\n",
    "            selected_tbls.add(tbl.id)\n",
    "    \n",
    "    if (LIMIT_EASY_TABLE_DATASET_DIR / \"metadata.json\").exists():\n",
    "        metadata = orjson.loads((LIMIT_EASY_TABLE_DATASET_DIR / \"metadata.json\").read_bytes())\n",
    "        if set(metadata[\"tables\"]) != set(selected_tbls):\n",
    "            # print(list(set(metadata[\"tables\"]).symmetric_difference(selected_tbls))[:5])\n",
    "            assert False\n",
    "        print(\"Found existing metadata.json and our sampled tables are the same!\")\n",
    "    else:\n",
    "        LIMIT_EASY_TABLE_DATASET_DIR.mkdir(exist_ok=True, parents=True)\n",
    "        (LIMIT_EASY_TABLE_DATASET_DIR / \"metadata.json\").write_bytes(\n",
    "            orjson.dumps(\n",
    "                {\n",
    "                    \"n_target_tables\": len(selected_tbls),\n",
    "                    \"predefined_types\": sorted(\n",
    "                        str(classes[cid]) for cid in predefined_types\n",
    "                    ),\n",
    "                    \"seed\": SEED,\n",
    "                    \"tables\": sorted(selected_tbls),\n",
    "                },\n",
    "                option=orjson.OPT_INDENT_2,\n",
    "            )\n",
    "        )\n",
    "    save_raw_dataset(selected_tbls, LIMIT_EASY_TABLE_DATASET_DIR, SEED, MAX_ROWS)"
   ]
  },
  {
   "cell_type": "markdown",
   "id": "717f4fa0-0ea9-42bc-b128-fa3193c4b0d1",
   "metadata": {
    "execution": {
     "iopub.execute_input": "2024-03-25T20:12:58.603401Z",
     "iopub.status.busy": "2024-03-25T20:12:58.603115Z",
     "iopub.status.idle": "2024-03-25T20:15:42.385828Z",
     "shell.execute_reply": "2024-03-25T20:15:42.385165Z",
     "shell.execute_reply.started": "2024-03-25T20:12:58.603385Z"
    }
   },
   "source": [
    "### ♾ Create initial labeled version of the tables"
   ]
  },
  {
   "cell_type": "code",
   "execution_count": 12,
   "id": "14c16418-a3d3-4733-92cf-49354fe8b128",
   "metadata": {
    "execution": {
     "iopub.execute_input": "2024-03-27T18:54:28.904903Z",
     "iopub.status.busy": "2024-03-27T18:54:28.904320Z",
     "iopub.status.idle": "2024-03-27T18:54:28.919320Z",
     "shell.execute_reply": "2024-03-27T18:54:28.917782Z",
     "shell.execute_reply.started": "2024-03-27T18:54:28.904857Z"
    }
   },
   "outputs": [
    {
     "name": "stderr",
     "output_type": "stream",
     "text": [
      "\u001b[32m2024-03-27 18:54:28.908\u001b[0m | \u001b[34m\u001b[1mDEBUG   \u001b[0m | \u001b[36mream.actor_graph\u001b[0m:\u001b[36mcreate_actor\u001b[0m:\u001b[36m273\u001b[0m - \u001b[34m\u001b[1mDetermine the actor to run...\u001b[0m\n",
      "\u001b[32m2024-03-27 18:54:28.911\u001b[0m | \u001b[34m\u001b[1mDEBUG   \u001b[0m | \u001b[36mream.actor_graph\u001b[0m:\u001b[36mcreate_actor\u001b[0m:\u001b[36m275\u001b[0m - \u001b[34m\u001b[1mInitializing argument parser...\u001b[0m\n",
      "\u001b[32m2024-03-27 18:54:28.913\u001b[0m | \u001b[34m\u001b[1mDEBUG   \u001b[0m | \u001b[36mream.actor_graph\u001b[0m:\u001b[36mcreate_actor\u001b[0m:\u001b[36m292\u001b[0m - \u001b[34m\u001b[1mConstructing the actor...\u001b[0m\n"
     ]
    }
   ],
   "source": [
    "unprocess_autolabel_actor = G.create_actor(AutoLabeledDataActor, common_actor_args + [\n",
    "    AutoLabelDataActorArgs(\n",
    "        dataset_dir=RelWorkdirPath(AUTOLABEL_DIR),\n",
    "        skip_non_unique_mention=True,\n",
    "        skip_column_with_no_type=True,\n",
    "        filter_method=\"filter_non_ent_col\",\n",
    "        transform_method=\"no_transform\",\n",
    "        label_method=\"label_v1\",\n",
    "        label_v1=LabelV1Args(\n",
    "            topk=1,\n",
    "            threshold=0.7,\n",
    "            include_similar_score=True,\n",
    "        ),\n",
    "    ),\n",
    "])"
   ]
  },
  {
   "cell_type": "code",
   "execution_count": 13,
   "id": "052b648e-7901-4e71-a975-3eaa10ff443e",
   "metadata": {
    "execution": {
     "iopub.execute_input": "2024-03-27T18:54:28.922068Z",
     "iopub.status.busy": "2024-03-27T18:54:28.921603Z",
     "iopub.status.idle": "2024-03-27T18:55:20.803147Z",
     "shell.execute_reply": "2024-03-27T18:55:20.801916Z",
     "shell.execute_reply.started": "2024-03-27T18:54:28.922030Z"
    }
   },
   "outputs": [
    {
     "name": "stderr",
     "output_type": "stream",
     "text": [
      "\u001b[32m2024-03-27 18:54:29.093\u001b[0m | \u001b[34m\u001b[1mDEBUG   \u001b[0m | \u001b[36mAutoLabeledDataActor\u001b[0m:\u001b[36mream.actors.base\u001b[0m:\u001b[36mget_working_fs\u001b[0m:\u001b[36m98\u001b[0m - \u001b[34m\u001b[1mUsing working directory: /nas/home/binhvu/workspace/sm-research/data/ream/AutoLabeledDataActor/v116/002\u001b[0m\n",
      "\u001b[32m2024-03-27 18:55:20.792\u001b[0m | \u001b[34m\u001b[1mDEBUG   \u001b[0m | \u001b[36mtimer\u001b[0m:\u001b[36mwatch_and_report\u001b[0m:\u001b[36m74\u001b[0m - \u001b[34m\u001b[1mdeserialize: 51.658 seconds\u001b[0m\n"
     ]
    }
   ],
   "source": [
    "autolabeled_tables = unprocess_autolabel_actor.process_dataset(LIMIT_EASY_TABLE_DATASET_DIR.name)"
   ]
  },
  {
   "cell_type": "markdown",
   "id": "f55b3575-e882-4cdb-b3d8-8ace39d31c1d",
   "metadata": {},
   "source": [
    "## 👷 Building a whitelist to filter inconsistent columns"
   ]
  },
  {
   "cell_type": "code",
   "execution_count": 14,
   "id": "cd06b99c-3714-4b3a-aeac-c3978db0ac63",
   "metadata": {
    "execution": {
     "iopub.execute_input": "2024-03-27T22:46:44.623535Z",
     "iopub.status.busy": "2024-03-27T22:46:44.622944Z",
     "iopub.status.idle": "2024-03-27T22:46:44.655304Z",
     "shell.execute_reply": "2024-03-27T22:46:44.654144Z",
     "shell.execute_reply.started": "2024-03-27T22:46:44.623486Z"
    }
   },
   "outputs": [
    {
     "data": {
      "text/plain": [
       "<module 'resm.distantsupervision.datasets.make_dataset_helper' from '/nas/home/binhvu/workspace/sm-research/resm/distantsupervision/datasets/make_dataset_helper.py'>"
      ]
     },
     "execution_count": 14,
     "metadata": {},
     "output_type": "execute_result"
    }
   ],
   "source": [
    "deepreload.reload('resm.distantsupervision.datasets.make_dataset_helper')"
   ]
  },
  {
   "cell_type": "code",
   "execution_count": 15,
   "id": "9674d38f-f26d-4c9d-9ea3-bdfa526e0dda",
   "metadata": {
    "execution": {
     "iopub.execute_input": "2024-03-27T22:46:44.867980Z",
     "iopub.status.busy": "2024-03-27T22:46:44.866785Z",
     "iopub.status.idle": "2024-03-27T22:46:44.875443Z",
     "shell.execute_reply": "2024-03-27T22:46:44.873905Z",
     "shell.execute_reply.started": "2024-03-27T22:46:44.867930Z"
    }
   },
   "outputs": [],
   "source": [
    "import serde.jl\n",
    "from gramsplus.semanticmodeling.text_parser import TextParser\n",
    "from gramsplus.actors.data_autolabel import (\n",
    "    has_non_unique_mention,\n",
    "    normalize_table,\n",
    "    AutoLabeledTable,\n",
    ")\n",
    "from sm.misc.ray_helper import ray_map\n",
    "from resm.distantsupervision.datasets.make_dataset_helper import NamingHelper"
   ]
  },
  {
   "cell_type": "markdown",
   "id": "8834098b-cb80-4bd1-8ac3-e70245472a4c",
   "metadata": {
    "notebookRunGroups": {
     "groupValue": "1"
    }
   },
   "source": [
    "#### Step 1: group column by the type, and gather the name\n",
    "\n",
    "Note that we ignore columns that the names are all numbers"
   ]
  },
  {
   "cell_type": "code",
   "execution_count": 18,
   "id": "a8c5bac1-cd46-423e-8136-8e06c0df5f2d",
   "metadata": {
    "execution": {
     "iopub.execute_input": "2024-03-27T22:46:57.660606Z",
     "iopub.status.busy": "2024-03-27T22:46:57.660004Z",
     "iopub.status.idle": "2024-03-27T22:46:57.722465Z",
     "shell.execute_reply": "2024-03-27T22:46:57.720680Z",
     "shell.execute_reply.started": "2024-03-27T22:46:57.660560Z"
    }
   },
   "outputs": [
    {
     "ename": "NameError",
     "evalue": "name 'autolabeled_tables' is not defined",
     "output_type": "error",
     "traceback": [
      "\u001b[0;31m---------------------------------------------------------------------------\u001b[0m",
      "\u001b[0;31mNameError\u001b[0m                                 Traceback (most recent call last)",
      "Cell \u001b[0;32mIn[18], line 2\u001b[0m\n\u001b[1;32m      1\u001b[0m type2columns \u001b[38;5;241m=\u001b[39m defaultdict(\u001b[38;5;28mlist\u001b[39m)\n\u001b[0;32m----> 2\u001b[0m \u001b[38;5;28;01mfor\u001b[39;00m tbl \u001b[38;5;129;01min\u001b[39;00m \u001b[43mautolabeled_tables\u001b[49m:\n\u001b[1;32m      3\u001b[0m     \u001b[38;5;28;01mfor\u001b[39;00m ci, ctypes \u001b[38;5;129;01min\u001b[39;00m \u001b[38;5;28mzip\u001b[39m(tbl\u001b[38;5;241m.\u001b[39mentity_columns, tbl\u001b[38;5;241m.\u001b[39mentity_column_types):\n\u001b[1;32m      4\u001b[0m         new_types \u001b[38;5;241m=\u001b[39m normalize_types(\n\u001b[1;32m      5\u001b[0m             [(x\u001b[38;5;241m.\u001b[39mid, x\u001b[38;5;241m.\u001b[39mscore) \u001b[38;5;28;01mfor\u001b[39;00m x \u001b[38;5;129;01min\u001b[39;00m ctypes], predefined_types, skip_if_not_found\u001b[38;5;241m=\u001b[39m\u001b[38;5;28;01mTrue\u001b[39;00m\n\u001b[1;32m      6\u001b[0m         )\n",
      "\u001b[0;31mNameError\u001b[0m: name 'autolabeled_tables' is not defined"
     ]
    }
   ],
   "source": [
    "type2columns = defaultdict(list)\n",
    "for tbl in autolabeled_tables:\n",
    "    for ci, ctypes in zip(tbl.entity_columns, tbl.entity_column_types):\n",
    "        new_types = normalize_types(\n",
    "            [(x.id, x.score) for x in ctypes], predefined_types, skip_if_not_found=True\n",
    "        )\n",
    "        new_types = sorted(new_types, key=itemgetter(1), reverse=True)\n",
    "        new_types = [x[0] for x in new_types if x[1] == new_types[0][1]]\n",
    "        # if len(new_types) > 1:\n",
    "        #     print(\n",
    "        #         tbl.table.table.table_id,\n",
    "        #         tbl.table.table.columns[ci].name,\n",
    "        #         [(str(classes[x[0]]), x[1]) for x in new_types],\n",
    "        #         [(str(classes[x.id]), x.score) for x in ctypes],\n",
    "        #     )\n",
    "        #     otbl = AuxComplexTableObject(entity_metadata, props, kgns).get_table(\n",
    "        #         tbl, defaultdict(list)\n",
    "        #     )\n",
    "        #     assert False\n",
    "\n",
    "        if len(new_types) != 1:\n",
    "            continue\n",
    "\n",
    "        cname = tbl.table.table.columns[ci].clean_multiline_name\n",
    "        if cname.strip().isdigit():\n",
    "            continue\n",
    "            \n",
    "        type2columns[new_types[0]].append(\n",
    "            (\n",
    "                tbl.table.table.table_id,\n",
    "                ci,\n",
    "                cname,\n",
    "            )\n",
    "        )"
   ]
  },
  {
   "cell_type": "code",
   "execution_count": 19,
   "id": "2c597c1b-f00b-456e-a4ae-2fceffdb7946",
   "metadata": {
    "execution": {
     "iopub.execute_input": "2024-03-27T22:46:57.835589Z",
     "iopub.status.busy": "2024-03-27T22:46:57.835071Z",
     "iopub.status.idle": "2024-03-27T22:46:57.843130Z",
     "shell.execute_reply": "2024-03-27T22:46:57.841821Z",
     "shell.execute_reply.started": "2024-03-27T22:46:57.835546Z"
    }
   },
   "outputs": [
    {
     "name": "stdout",
     "output_type": "stream",
     "text": [
      "Number of types: 0\n",
      "Number of columns: 0\n"
     ]
    }
   ],
   "source": [
    "print(\"Number of types:\", len(type2columns))\n",
    "print(\"Number of columns:\", sum(len(x) for x in type2columns.values()))"
   ]
  },
  {
   "cell_type": "markdown",
   "id": "d00ea83b-c2a3-4533-9b4c-75d3965f4549",
   "metadata": {
    "execution": {
     "iopub.execute_input": "2024-03-25T17:13:26.085131Z",
     "iopub.status.busy": "2024-03-25T17:13:26.084557Z",
     "iopub.status.idle": "2024-03-25T17:13:26.093972Z",
     "shell.execute_reply": "2024-03-25T17:13:26.092334Z",
     "shell.execute_reply.started": "2024-03-25T17:13:26.085082Z"
    }
   },
   "source": [
    "#### Step 2: Grouping similar names\n",
    "\n",
    "There are so many different variation of names, grouping them allowing us to look for inconsistency faster"
   ]
  },
  {
   "cell_type": "code",
   "execution_count": 57,
   "id": "014d5dbc",
   "metadata": {
    "execution": {
     "iopub.execute_input": "2024-03-27T19:04:24.818742Z",
     "iopub.status.busy": "2024-03-27T19:04:24.818609Z",
     "iopub.status.idle": "2024-03-27T19:04:24.933424Z",
     "shell.execute_reply": "2024-03-27T19:04:24.932230Z",
     "shell.execute_reply.started": "2024-03-27T19:04:24.818730Z"
    }
   },
   "outputs": [],
   "source": [
    "type2names = defaultdict(set)\n",
    "for type, lst in type2columns.items():\n",
    "    for tbl_id, ci, cname in lst:\n",
    "        type2names[str(classes[str(type)])].add(cname)\n",
    "type_names = list(type2names.items())"
   ]
  },
  {
   "cell_type": "code",
   "execution_count": 58,
   "id": "16f3a898",
   "metadata": {
    "execution": {
     "iopub.execute_input": "2024-03-27T19:04:24.934886Z",
     "iopub.status.busy": "2024-03-27T19:04:24.934600Z",
     "iopub.status.idle": "2024-03-27T19:04:24.942012Z",
     "shell.execute_reply": "2024-03-27T19:04:24.941048Z",
     "shell.execute_reply.started": "2024-03-27T19:04:24.934870Z"
    }
   },
   "outputs": [
    {
     "data": {
      "text/plain": [
       "2448"
      ]
     },
     "execution_count": 58,
     "metadata": {},
     "output_type": "execute_result"
    }
   ],
   "source": [
    "name2types = defaultdict(set)\n",
    "for type, names in type2names.items():\n",
    "    for name in names:\n",
    "        name2types[name].add(type)\n",
    "len(name2types)"
   ]
  },
  {
   "cell_type": "markdown",
   "id": "d6690a1d-3937-43a8-92e5-c6f0bcfb64b2",
   "metadata": {},
   "source": [
    "Using naming normalization to help us cluster names"
   ]
  },
  {
   "cell_type": "code",
   "execution_count": 16,
   "id": "5a334815-881b-43c4-8c4f-22714d5319e8",
   "metadata": {
    "execution": {
     "iopub.execute_input": "2024-03-27T22:46:51.152172Z",
     "iopub.status.busy": "2024-03-27T22:46:51.151435Z",
     "iopub.status.idle": "2024-03-27T22:46:51.158232Z",
     "shell.execute_reply": "2024-03-27T22:46:51.156694Z",
     "shell.execute_reply.started": "2024-03-27T22:46:51.152111Z"
    }
   },
   "outputs": [],
   "source": [
    "norm_fn = NamingHelper.make_dataset_v2_norm_fn"
   ]
  },
  {
   "cell_type": "code",
   "execution_count": 17,
   "id": "a2226927-2105-40a5-8b0f-329c81c7f190",
   "metadata": {
    "execution": {
     "iopub.execute_input": "2024-03-27T22:46:53.264305Z",
     "iopub.status.busy": "2024-03-27T22:46:53.263732Z",
     "iopub.status.idle": "2024-03-27T22:46:53.321802Z",
     "shell.execute_reply": "2024-03-27T22:46:53.320360Z",
     "shell.execute_reply.started": "2024-03-27T22:46:53.264258Z"
    }
   },
   "outputs": [
    {
     "ename": "NameError",
     "evalue": "name 'name2types' is not defined",
     "output_type": "error",
     "traceback": [
      "\u001b[0;31m---------------------------------------------------------------------------\u001b[0m",
      "\u001b[0;31mNameError\u001b[0m                                 Traceback (most recent call last)",
      "Cell \u001b[0;32mIn[17], line 3\u001b[0m\n\u001b[1;32m      1\u001b[0m cluster2names \u001b[38;5;241m=\u001b[39m defaultdict(\u001b[38;5;28mlist\u001b[39m)\n\u001b[1;32m      2\u001b[0m name2cluster \u001b[38;5;241m=\u001b[39m {}\n\u001b[0;32m----> 3\u001b[0m \u001b[38;5;28;01mfor\u001b[39;00m name \u001b[38;5;129;01min\u001b[39;00m \u001b[43mname2types\u001b[49m:\n\u001b[1;32m      4\u001b[0m     norm_name \u001b[38;5;241m=\u001b[39m norm_fn(name)\n\u001b[1;32m      5\u001b[0m     cluster2names[norm_name]\u001b[38;5;241m.\u001b[39mappend(name)\n",
      "\u001b[0;31mNameError\u001b[0m: name 'name2types' is not defined"
     ]
    }
   ],
   "source": [
    "cluster2names = defaultdict(list)\n",
    "name2cluster = {}\n",
    "for name in name2types:\n",
    "    norm_name = norm_fn(name)\n",
    "    cluster2names[norm_name].append(name)\n",
    "    name2cluster[name] = norm_name\n",
    "len(cluster2names)"
   ]
  },
  {
   "cell_type": "raw",
   "id": "e6acd918-5902-4eb9-a462-60db3b29eba8",
   "metadata": {
    "execution": {
     "iopub.execute_input": "2024-03-25T18:07:53.824069Z",
     "iopub.status.busy": "2024-03-25T18:07:53.823557Z",
     "iopub.status.idle": "2024-03-25T18:07:53.879743Z",
     "shell.execute_reply": "2024-03-25T18:07:53.878694Z",
     "shell.execute_reply.started": "2024-03-25T18:07:53.824023Z"
    },
    "jupyter": {
     "outputs_hidden": true
    }
   },
   "source": [
    "cluster2names"
   ]
  },
  {
   "cell_type": "code",
   "execution_count": 61,
   "id": "3e1c28dc",
   "metadata": {
    "execution": {
     "iopub.execute_input": "2024-03-27T19:04:25.858226Z",
     "iopub.status.busy": "2024-03-27T19:04:25.857886Z",
     "iopub.status.idle": "2024-03-27T19:04:25.866718Z",
     "shell.execute_reply": "2024-03-27T19:04:25.865585Z",
     "shell.execute_reply.started": "2024-03-27T19:04:25.858210Z"
    }
   },
   "outputs": [],
   "source": [
    "cluster2types = defaultdict(set)\n",
    "for name, types in name2types.items():\n",
    "    cluster2types[name2cluster[name]].update(types)"
   ]
  },
  {
   "cell_type": "code",
   "execution_count": 62,
   "id": "fdea9743",
   "metadata": {
    "execution": {
     "iopub.execute_input": "2024-03-27T19:04:26.006804Z",
     "iopub.status.busy": "2024-03-27T19:04:26.006298Z",
     "iopub.status.idle": "2024-03-27T19:04:26.012239Z",
     "shell.execute_reply": "2024-03-27T19:04:26.010943Z",
     "shell.execute_reply.started": "2024-03-27T19:04:26.006758Z"
    }
   },
   "outputs": [],
   "source": [
    "# print(\"\\n\".join(cluster2names[name2cluster[\"Ref(s)\"]]))"
   ]
  },
  {
   "cell_type": "markdown",
   "id": "13e46f3a-55e3-402f-8e17-dbc24d2c8537",
   "metadata": {},
   "source": [
    "#### Step 3: Find out headers that we want to ignore, and generic headers that multiple types can have"
   ]
  },
  {
   "cell_type": "code",
   "execution_count": 63,
   "id": "3c7d3190",
   "metadata": {
    "execution": {
     "iopub.execute_input": "2024-03-27T19:04:26.378967Z",
     "iopub.status.busy": "2024-03-27T19:04:26.378368Z",
     "iopub.status.idle": "2024-03-27T19:04:26.394537Z",
     "shell.execute_reply": "2024-03-27T19:04:26.393053Z",
     "shell.execute_reply.started": "2024-03-27T19:04:26.378927Z"
    }
   },
   "outputs": [],
   "source": [
    "crosstype_headers_denylist = serde.jl.deser(AUTOLABEL_DIR / \"crosstype_headers_denylist.jl\")\n",
    "crosstype_headers_allowlist = serde.jl.deser(AUTOLABEL_DIR / \"crosstype_headers_allowlist.jl\")\n",
    "crosstype_clusters_denylist = serde.jl.deser(AUTOLABEL_DIR / \"crosstype_clusters_denylist.jl\")\n",
    "crosstype_clusters_allowlist = serde.jl.deser(AUTOLABEL_DIR / \"crosstype_clusters_allowlist.jl\")"
   ]
  },
  {
   "cell_type": "raw",
   "id": "e9930512-f6d4-4604-bd6e-32c9ff5a2e0b",
   "metadata": {
    "execution": {
     "iopub.execute_input": "2024-03-27T19:03:23.299912Z",
     "iopub.status.busy": "2024-03-27T19:03:23.299393Z",
     "iopub.status.idle": "2024-03-27T19:03:23.433941Z",
     "shell.execute_reply": "2024-03-27T19:03:23.432781Z",
     "shell.execute_reply.started": "2024-03-27T19:03:23.299867Z"
    }
   },
   "source": [
    "def render(i):\n",
    "    type, names = type_names[i]\n",
    "    print(type)\n",
    "    print(\"===\")\n",
    "    print(\n",
    "        \"\\n\".join(\n",
    "            [\n",
    "                f\"'{name}'\"\n",
    "                for name in names\n",
    "                if not should_ignore(name) and name not in blacklist_names\n",
    "            ]\n",
    "        )\n",
    "    )\n",
    "\n",
    "\n",
    "from labext.prelude import A\n",
    "\n",
    "A.slider(render, max=len(type_names) - 1)"
   ]
  },
  {
   "cell_type": "markdown",
   "id": "613a3a84-effc-49ce-8f84-eede7cb76404",
   "metadata": {},
   "source": [
    "We sort the clusters by the number of types they have to detect generic names"
   ]
  },
  {
   "cell_type": "code",
   "execution_count": 64,
   "id": "c392b019-9d9e-4045-95ad-cefcde8fd5e7",
   "metadata": {
    "execution": {
     "iopub.execute_input": "2024-03-27T19:04:27.626268Z",
     "iopub.status.busy": "2024-03-27T19:04:27.625729Z",
     "iopub.status.idle": "2024-03-27T19:04:27.681250Z",
     "shell.execute_reply": "2024-03-27T19:04:27.680078Z",
     "shell.execute_reply.started": "2024-03-27T19:04:27.626225Z"
    },
    "scrolled": true
   },
   "outputs": [
    {
     "data": {
      "text/html": [
       "<div>\n",
       "<style scoped>\n",
       "    .dataframe tbody tr th:only-of-type {\n",
       "        vertical-align: middle;\n",
       "    }\n",
       "\n",
       "    .dataframe tbody tr th {\n",
       "        vertical-align: top;\n",
       "    }\n",
       "\n",
       "    .dataframe thead th {\n",
       "        text-align: right;\n",
       "    }\n",
       "</style>\n",
       "<table border=\"1\" class=\"dataframe\">\n",
       "  <thead>\n",
       "    <tr style=\"text-align: right;\">\n",
       "      <th></th>\n",
       "      <th>cluster</th>\n",
       "      <th>n_cluster_types</th>\n",
       "      <th>grouped names</th>\n",
       "    </tr>\n",
       "  </thead>\n",
       "  <tbody>\n",
       "    <tr>\n",
       "      <th>40</th>\n",
       "      <td>name</td>\n",
       "      <td>33</td>\n",
       "      <td>{'Name': 33, 'Name[9]': 2, 'Name [6]': 1, 'Nam...</td>\n",
       "    </tr>\n",
       "    <tr>\n",
       "      <th>987</th>\n",
       "      <td>location</td>\n",
       "      <td>15</td>\n",
       "      <td>{'Location': 15, 'Location(s)': 1, 'Location(s...</td>\n",
       "    </tr>\n",
       "    <tr>\n",
       "      <th>362</th>\n",
       "      <td>title</td>\n",
       "      <td>14</td>\n",
       "      <td>{'Title': 14, 'Titles': 1, 'Title[2]': 1, 'Tit...</td>\n",
       "    </tr>\n",
       "    <tr>\n",
       "      <th>0</th>\n",
       "      <td></td>\n",
       "      <td>13</td>\n",
       "      <td>{'': 13, '[1]': 1}</td>\n",
       "    </tr>\n",
       "    <tr>\n",
       "      <th>1031</th>\n",
       "      <td>venue</td>\n",
       "      <td>10</td>\n",
       "      <td>{'Venue': 9, 'Venues': 1}</td>\n",
       "    </tr>\n",
       "    <tr>\n",
       "      <th>708</th>\n",
       "      <td>region</td>\n",
       "      <td>10</td>\n",
       "      <td>{'Region': 10}</td>\n",
       "    </tr>\n",
       "    <tr>\n",
       "      <th>695</th>\n",
       "      <td>state</td>\n",
       "      <td>10</td>\n",
       "      <td>{'State': 10, 'State[3][1]': 1, 'State[3]': 1,...</td>\n",
       "    </tr>\n",
       "    <tr>\n",
       "      <th>597</th>\n",
       "      <td>team</td>\n",
       "      <td>9</td>\n",
       "      <td>{'Team': 9, 'Team[11]\n",
       "v\n",
       "t\n",
       "e': 1, 'Team[13][14]...</td>\n",
       "    </tr>\n",
       "    <tr>\n",
       "      <th>872</th>\n",
       "      <td>province</td>\n",
       "      <td>8</td>\n",
       "      <td>{'Province': 8, 'Province[1]': 1, 'Province[4]...</td>\n",
       "    </tr>\n",
       "    <tr>\n",
       "      <th>421</th>\n",
       "      <td>country</td>\n",
       "      <td>8</td>\n",
       "      <td>{'Country': 8, 'Countries': 2, 'Country [2]': ...</td>\n",
       "    </tr>\n",
       "    <tr>\n",
       "      <th>1025</th>\n",
       "      <td>city</td>\n",
       "      <td>7</td>\n",
       "      <td>{'City': 7, 'City[106]': 1, 'Cities': 1, 'city...</td>\n",
       "    </tr>\n",
       "    <tr>\n",
       "      <th>1037</th>\n",
       "      <td>district</td>\n",
       "      <td>7</td>\n",
       "      <td>{'District': 7, 'district': 1, 'Districts': 1}</td>\n",
       "    </tr>\n",
       "    <tr>\n",
       "      <th>1229</th>\n",
       "      <td>english name</td>\n",
       "      <td>7</td>\n",
       "      <td>{'English Name': 2, 'English name': 6}</td>\n",
       "    </tr>\n",
       "    <tr>\n",
       "      <th>267</th>\n",
       "      <td>winner</td>\n",
       "      <td>7</td>\n",
       "      <td>{'Winner[140]': 1, 'Winners': 2, 'Winner[1][2]...</td>\n",
       "    </tr>\n",
       "    <tr>\n",
       "      <th>190</th>\n",
       "      <td>note</td>\n",
       "      <td>7</td>\n",
       "      <td>{'Notes': 6, 'Note': 2}</td>\n",
       "    </tr>\n",
       "    <tr>\n",
       "      <th>402</th>\n",
       "      <td>from</td>\n",
       "      <td>7</td>\n",
       "      <td>{'From': 7, 'from': 1}</td>\n",
       "    </tr>\n",
       "    <tr>\n",
       "      <th>729</th>\n",
       "      <td>county</td>\n",
       "      <td>6</td>\n",
       "      <td>{'Counties': 1, 'County': 6, 'County[159]': 1,...</td>\n",
       "    </tr>\n",
       "    <tr>\n",
       "      <th>487</th>\n",
       "      <td>nation</td>\n",
       "      <td>6</td>\n",
       "      <td>{'Nation': 6, 'Nations': 2}</td>\n",
       "    </tr>\n",
       "    <tr>\n",
       "      <th>484</th>\n",
       "      <td>opponent</td>\n",
       "      <td>6</td>\n",
       "      <td>{'Opponent': 6, 'OPPONENT': 1, 'Opponent(s)': ...</td>\n",
       "    </tr>\n",
       "    <tr>\n",
       "      <th>1257</th>\n",
       "      <td>event</td>\n",
       "      <td>6</td>\n",
       "      <td>{'Events': 1, 'Event': 6, 'Event[a]': 1}</td>\n",
       "    </tr>\n",
       "    <tr>\n",
       "      <th>985</th>\n",
       "      <td>station</td>\n",
       "      <td>5</td>\n",
       "      <td>{'Station': 5}</td>\n",
       "    </tr>\n",
       "    <tr>\n",
       "      <th>316</th>\n",
       "      <td>school</td>\n",
       "      <td>5</td>\n",
       "      <td>{'School': 5, 'School[2]': 2, 'School[13]': 1,...</td>\n",
       "    </tr>\n",
       "    <tr>\n",
       "      <th>795</th>\n",
       "      <td>nationality</td>\n",
       "      <td>5</td>\n",
       "      <td>{'Nationality': 5, 'Nationality[48]': 1, 'Nati...</td>\n",
       "    </tr>\n",
       "    <tr>\n",
       "      <th>928</th>\n",
       "      <td>network</td>\n",
       "      <td>5</td>\n",
       "      <td>{'Network': 4, 'Network(s)': 1}</td>\n",
       "    </tr>\n",
       "    <tr>\n",
       "      <th>944</th>\n",
       "      <td>show</td>\n",
       "      <td>5</td>\n",
       "      <td>{'Shows': 1, 'Show': 5}</td>\n",
       "    </tr>\n",
       "    <tr>\n",
       "      <th>982</th>\n",
       "      <td>municipality</td>\n",
       "      <td>5</td>\n",
       "      <td>{'Municipality': 4, 'Municipality[4]': 1, 'Mun...</td>\n",
       "    </tr>\n",
       "    <tr>\n",
       "      <th>990</th>\n",
       "      <td>place</td>\n",
       "      <td>5</td>\n",
       "      <td>{'Place': 5}</td>\n",
       "    </tr>\n",
       "    <tr>\n",
       "      <th>1072</th>\n",
       "      <td>origin</td>\n",
       "      <td>5</td>\n",
       "      <td>{'Origin': 5}</td>\n",
       "    </tr>\n",
       "    <tr>\n",
       "      <th>393</th>\n",
       "      <td>champion</td>\n",
       "      <td>5</td>\n",
       "      <td>{'Champion': 5, 'Champions': 2, 'Champion[1]':...</td>\n",
       "    </tr>\n",
       "    <tr>\n",
       "      <th>711</th>\n",
       "      <td>club</td>\n",
       "      <td>5</td>\n",
       "      <td>{'Club': 5, 'Club[70]': 1, 'Clubs': 2, 'club':...</td>\n",
       "    </tr>\n",
       "    <tr>\n",
       "      <th>198</th>\n",
       "      <td>film</td>\n",
       "      <td>5</td>\n",
       "      <td>{'Film': 4, 'Films': 2, 'Film![5]': 1, 'Film (...</td>\n",
       "    </tr>\n",
       "    <tr>\n",
       "      <th>923</th>\n",
       "      <td>year</td>\n",
       "      <td>5</td>\n",
       "      <td>{'Year': 5}</td>\n",
       "    </tr>\n",
       "    <tr>\n",
       "      <th>601</th>\n",
       "      <td>race</td>\n",
       "      <td>4</td>\n",
       "      <td>{'Race': 4}</td>\n",
       "    </tr>\n",
       "    <tr>\n",
       "      <th>88</th>\n",
       "      <td>contestant</td>\n",
       "      <td>4</td>\n",
       "      <td>{'Contestant': 4, 'Contestants': 1}</td>\n",
       "    </tr>\n",
       "    <tr>\n",
       "      <th>996</th>\n",
       "      <td>commune</td>\n",
       "      <td>4</td>\n",
       "      <td>{'Commune': 3, 'Communes': 2, 'commune': 1}</td>\n",
       "    </tr>\n",
       "    <tr>\n",
       "      <th>1380</th>\n",
       "      <td>award</td>\n",
       "      <td>4</td>\n",
       "      <td>{'Award': 4, 'Awards': 1}</td>\n",
       "    </tr>\n",
       "    <tr>\n",
       "      <th>1487</th>\n",
       "      <td>channel</td>\n",
       "      <td>4</td>\n",
       "      <td>{'Channel': 4}</td>\n",
       "    </tr>\n",
       "    <tr>\n",
       "      <th>559</th>\n",
       "      <td>recipient</td>\n",
       "      <td>4</td>\n",
       "      <td>{'Recipients': 1, 'Recipient(s)': 1, 'Recipien...</td>\n",
       "    </tr>\n",
       "    <tr>\n",
       "      <th>1010</th>\n",
       "      <td>hometown</td>\n",
       "      <td>4</td>\n",
       "      <td>{'Hometown': 4}</td>\n",
       "    </tr>\n",
       "    <tr>\n",
       "      <th>970</th>\n",
       "      <td>member association</td>\n",
       "      <td>4</td>\n",
       "      <td>{'Member association': 1, 'Member Associations...</td>\n",
       "    </tr>\n",
       "    <tr>\n",
       "      <th>940</th>\n",
       "      <td>work</td>\n",
       "      <td>4</td>\n",
       "      <td>{'Work': 4}</td>\n",
       "    </tr>\n",
       "    <tr>\n",
       "      <th>921</th>\n",
       "      <td>production</td>\n",
       "      <td>4</td>\n",
       "      <td>{'Production': 4}</td>\n",
       "    </tr>\n",
       "    <tr>\n",
       "      <th>80</th>\n",
       "      <td>host</td>\n",
       "      <td>4</td>\n",
       "      <td>{'Hosts': 1, 'Host': 4}</td>\n",
       "    </tr>\n",
       "    <tr>\n",
       "      <th>727</th>\n",
       "      <td>association</td>\n",
       "      <td>4</td>\n",
       "      <td>{'Association': 4}</td>\n",
       "    </tr>\n",
       "    <tr>\n",
       "      <th>1250</th>\n",
       "      <td>category</td>\n",
       "      <td>4</td>\n",
       "      <td>{'Category': 4}</td>\n",
       "    </tr>\n",
       "    <tr>\n",
       "      <th>215</th>\n",
       "      <td>role</td>\n",
       "      <td>4</td>\n",
       "      <td>{'Role': 3, 'Role:': 1}</td>\n",
       "    </tr>\n",
       "    <tr>\n",
       "      <th>1256</th>\n",
       "      <td>game</td>\n",
       "      <td>4</td>\n",
       "      <td>{'Games': 2, 'Game': 3}</td>\n",
       "    </tr>\n",
       "    <tr>\n",
       "      <th>766</th>\n",
       "      <td>university</td>\n",
       "      <td>4</td>\n",
       "      <td>{'University': 4, 'University[7][11]': 1}</td>\n",
       "    </tr>\n",
       "    <tr>\n",
       "      <th>1260</th>\n",
       "      <td>division</td>\n",
       "      <td>4</td>\n",
       "      <td>{'Division': 4}</td>\n",
       "    </tr>\n",
       "    <tr>\n",
       "      <th>825</th>\n",
       "      <td>conference</td>\n",
       "      <td>4</td>\n",
       "      <td>{'Conference': 4, 'Conferences': 1}</td>\n",
       "    </tr>\n",
       "  </tbody>\n",
       "</table>\n",
       "</div>"
      ],
      "text/plain": [
       "                 cluster  n_cluster_types  \\\n",
       "40                  name               33   \n",
       "987             location               15   \n",
       "362                title               14   \n",
       "0                                      13   \n",
       "1031               venue               10   \n",
       "708               region               10   \n",
       "695                state               10   \n",
       "597                 team                9   \n",
       "872             province                8   \n",
       "421              country                8   \n",
       "1025                city                7   \n",
       "1037            district                7   \n",
       "1229        english name                7   \n",
       "267               winner                7   \n",
       "190                 note                7   \n",
       "402                 from                7   \n",
       "729               county                6   \n",
       "487               nation                6   \n",
       "484             opponent                6   \n",
       "1257               event                6   \n",
       "985              station                5   \n",
       "316               school                5   \n",
       "795          nationality                5   \n",
       "928              network                5   \n",
       "944                 show                5   \n",
       "982         municipality                5   \n",
       "990                place                5   \n",
       "1072              origin                5   \n",
       "393             champion                5   \n",
       "711                 club                5   \n",
       "198                 film                5   \n",
       "923                 year                5   \n",
       "601                 race                4   \n",
       "88            contestant                4   \n",
       "996              commune                4   \n",
       "1380               award                4   \n",
       "1487             channel                4   \n",
       "559            recipient                4   \n",
       "1010            hometown                4   \n",
       "970   member association                4   \n",
       "940                 work                4   \n",
       "921           production                4   \n",
       "80                  host                4   \n",
       "727          association                4   \n",
       "1250            category                4   \n",
       "215                 role                4   \n",
       "1256                game                4   \n",
       "766           university                4   \n",
       "1260            division                4   \n",
       "825           conference                4   \n",
       "\n",
       "                                          grouped names  \n",
       "40    {'Name': 33, 'Name[9]': 2, 'Name [6]': 1, 'Nam...  \n",
       "987   {'Location': 15, 'Location(s)': 1, 'Location(s...  \n",
       "362   {'Title': 14, 'Titles': 1, 'Title[2]': 1, 'Tit...  \n",
       "0                                    {'': 13, '[1]': 1}  \n",
       "1031                          {'Venue': 9, 'Venues': 1}  \n",
       "708                                      {'Region': 10}  \n",
       "695   {'State': 10, 'State[3][1]': 1, 'State[3]': 1,...  \n",
       "597   {'Team': 9, 'Team[11]\n",
       "v\n",
       "t\n",
       "e': 1, 'Team[13][14]...  \n",
       "872   {'Province': 8, 'Province[1]': 1, 'Province[4]...  \n",
       "421   {'Country': 8, 'Countries': 2, 'Country [2]': ...  \n",
       "1025  {'City': 7, 'City[106]': 1, 'Cities': 1, 'city...  \n",
       "1037     {'District': 7, 'district': 1, 'Districts': 1}  \n",
       "1229             {'English Name': 2, 'English name': 6}  \n",
       "267   {'Winner[140]': 1, 'Winners': 2, 'Winner[1][2]...  \n",
       "190                             {'Notes': 6, 'Note': 2}  \n",
       "402                              {'From': 7, 'from': 1}  \n",
       "729   {'Counties': 1, 'County': 6, 'County[159]': 1,...  \n",
       "487                         {'Nation': 6, 'Nations': 2}  \n",
       "484   {'Opponent': 6, 'OPPONENT': 1, 'Opponent(s)': ...  \n",
       "1257           {'Events': 1, 'Event': 6, 'Event[a]': 1}  \n",
       "985                                      {'Station': 5}  \n",
       "316   {'School': 5, 'School[2]': 2, 'School[13]': 1,...  \n",
       "795   {'Nationality': 5, 'Nationality[48]': 1, 'Nati...  \n",
       "928                     {'Network': 4, 'Network(s)': 1}  \n",
       "944                             {'Shows': 1, 'Show': 5}  \n",
       "982   {'Municipality': 4, 'Municipality[4]': 1, 'Mun...  \n",
       "990                                        {'Place': 5}  \n",
       "1072                                      {'Origin': 5}  \n",
       "393   {'Champion': 5, 'Champions': 2, 'Champion[1]':...  \n",
       "711   {'Club': 5, 'Club[70]': 1, 'Clubs': 2, 'club':...  \n",
       "198   {'Film': 4, 'Films': 2, 'Film![5]': 1, 'Film (...  \n",
       "923                                         {'Year': 5}  \n",
       "601                                         {'Race': 4}  \n",
       "88                  {'Contestant': 4, 'Contestants': 1}  \n",
       "996         {'Commune': 3, 'Communes': 2, 'commune': 1}  \n",
       "1380                          {'Award': 4, 'Awards': 1}  \n",
       "1487                                     {'Channel': 4}  \n",
       "559   {'Recipients': 1, 'Recipient(s)': 1, 'Recipien...  \n",
       "1010                                    {'Hometown': 4}  \n",
       "970   {'Member association': 1, 'Member Associations...  \n",
       "940                                         {'Work': 4}  \n",
       "921                                   {'Production': 4}  \n",
       "80                              {'Hosts': 1, 'Host': 4}  \n",
       "727                                  {'Association': 4}  \n",
       "1250                                    {'Category': 4}  \n",
       "215                             {'Role': 3, 'Role:': 1}  \n",
       "1256                            {'Games': 2, 'Game': 3}  \n",
       "766           {'University': 4, 'University[7][11]': 1}  \n",
       "1260                                    {'Division': 4}  \n",
       "825                 {'Conference': 4, 'Conferences': 1}  "
      ]
     },
     "execution_count": 64,
     "metadata": {},
     "output_type": "execute_result"
    }
   ],
   "source": [
    "pd.DataFrame(\n",
    "    [\n",
    "        (\n",
    "            cluster,\n",
    "            len(types),\n",
    "            {name: len(name2types[name]) for name in cluster2names[cluster]},\n",
    "        )\n",
    "        for cluster, types in cluster2types.items()\n",
    "    ],\n",
    "    columns=[\"cluster\", \"n_cluster_types\", \"grouped names\"],\n",
    ").sort_values(\n",
    "    [\n",
    "        \"n_cluster_types\",\n",
    "        # \"n_types\",\n",
    "    ],\n",
    "    ascending=False,\n",
    ").head(\n",
    "    50\n",
    ")"
   ]
  },
  {
   "cell_type": "code",
   "execution_count": 65,
   "id": "19b9fe85",
   "metadata": {
    "execution": {
     "iopub.execute_input": "2024-03-27T19:04:28.538846Z",
     "iopub.status.busy": "2024-03-27T19:04:28.538320Z",
     "iopub.status.idle": "2024-03-27T19:04:28.546973Z",
     "shell.execute_reply": "2024-03-27T19:04:28.545545Z",
     "shell.execute_reply.started": "2024-03-27T19:04:28.538802Z"
    }
   },
   "outputs": [
    {
     "name": "stdout",
     "output_type": "stream",
     "text": [
      "\"Title\"\n",
      "\"Titles\"\n",
      "\"Title[2]\"\n",
      "\"Title(s)\"\n",
      "\"Title\\n[19]\"\n",
      "\"Title[7][8]\"\n",
      "\"Title:\"\n",
      "\"Title[107]\"\n",
      "\"Title[7]\"\n",
      "\"Title[1]\"\n"
     ]
    }
   ],
   "source": [
    "print(\"\\n\".join([orjson.dumps(s).decode() for s in cluster2names[\"title\"]]))"
   ]
  },
  {
   "cell_type": "markdown",
   "id": "a31c3dd6-31ba-4c23-9483-f474af0ae4c3",
   "metadata": {},
   "source": [
    "#### Step 4: Dump the list of header and columns for manually labeled \n",
    "\n",
    "-- we are labeling header that appears in multiple types"
   ]
  },
  {
   "cell_type": "markdown",
   "id": "a21dc498-f02c-40ec-9a62-31f465e02cef",
   "metadata": {},
   "source": [
    "**make data for manual labeling**"
   ]
  },
  {
   "cell_type": "code",
   "execution_count": 110,
   "id": "352fa41f-d2a4-40a7-8522-5f438f09da2c",
   "metadata": {
    "execution": {
     "iopub.execute_input": "2024-03-27T19:44:47.541390Z",
     "iopub.status.busy": "2024-03-27T19:44:47.540832Z",
     "iopub.status.idle": "2024-03-27T19:44:48.678084Z",
     "shell.execute_reply": "2024-03-27T19:44:48.677491Z",
     "shell.execute_reply.started": "2024-03-27T19:44:47.541349Z"
    }
   },
   "outputs": [],
   "source": [
    "label_data = []\n",
    "count = 0\n",
    "for cluster, types in cluster2types.items():\n",
    "    if cluster in crosstype_clusters_allowlist or cluster in crosstype_clusters_denylist:\n",
    "        continue\n",
    "    if len(types) > 1:\n",
    "        scores = [\n",
    "            (\n",
    "                type,\n",
    "                sum(int(name2cluster[x[2]] == cluster) for x in type2columns[label2id(type)]),\n",
    "            )\n",
    "            for type in types\n",
    "        ]\n",
    "        scores.sort(key=itemgetter(1), reverse=True)\n",
    "        label_data.append((cluster, scores))\n",
    "label_data_index: dict[str, dict[str, int]] = defaultdict(dict)\n",
    "for cluster, scores in label_data:\n",
    "    for score in scores:\n",
    "        label_data_index[cluster][score[0]] = score[1]"
   ]
  },
  {
   "cell_type": "code",
   "execution_count": null,
   "id": "562f9330-9aa7-4ea5-8a71-89ab101e07e5",
   "metadata": {},
   "outputs": [],
   "source": [
    "print(\"number of labeling examples\", sum(len(x[1]) for x in label_data))"
   ]
  },
  {
   "cell_type": "markdown",
   "id": "3a21c265-043e-4866-997b-e836d3f73635",
   "metadata": {},
   "source": [
    "load labeled data -- comment out assertion to disable data validation"
   ]
  },
  {
   "cell_type": "code",
   "execution_count": 124,
   "id": "136d9d57-fd83-4f26-bddc-3fe23d338d07",
   "metadata": {
    "execution": {
     "iopub.execute_input": "2024-03-27T20:13:55.630445Z",
     "iopub.status.busy": "2024-03-27T20:13:55.629847Z",
     "iopub.status.idle": "2024-03-27T20:13:55.733064Z",
     "shell.execute_reply": "2024-03-27T20:13:55.731999Z",
     "shell.execute_reply.started": "2024-03-27T20:13:55.630396Z"
    }
   },
   "outputs": [
    {
     "data": {
      "text/plain": [
       "791"
      ]
     },
     "execution_count": 124,
     "metadata": {},
     "output_type": "execute_result"
    }
   ],
   "source": [
    "labeled_cluster_types = {}\n",
    "for file in AUTOLABEL_DIR.glob(\"cluster_type_agreements.revision*.csv\"):\n",
    "    for ri, row in pd.read_csv(file, na_filter=False).iterrows():\n",
    "        key = (row['cluster'], row['type'])\n",
    "        assert key not in labeled_cluster_types\n",
    "        assert row['label'] in {\"T\", \"F\"}, (file, ri, row['label'])\n",
    "        labeled_cluster_types[key] = row['label']\n",
    "len(labeled_cluster_types)"
   ]
  },
  {
   "cell_type": "code",
   "execution_count": 121,
   "id": "a0feb519-a9da-4a99-bbb5-1e75ad95335c",
   "metadata": {
    "execution": {
     "iopub.execute_input": "2024-03-27T20:11:50.793834Z",
     "iopub.status.busy": "2024-03-27T20:11:50.793251Z",
     "iopub.status.idle": "2024-03-27T20:11:50.806728Z",
     "shell.execute_reply": "2024-03-27T20:11:50.805401Z",
     "shell.execute_reply.started": "2024-03-27T20:11:50.793787Z"
    }
   },
   "outputs": [
    {
     "name": "stdout",
     "output_type": "stream",
     "text": [
      "All data has been annotated\n"
     ]
    }
   ],
   "source": [
    "unannotate_data = [\n",
    "    {\n",
    "        'index': i,\n",
    "        'cluster': name,\n",
    "        'type': score[0],\n",
    "        'freq': score[1],\n",
    "        'label': '',\n",
    "        'cluster2types': \" | \".join(f\"{t}: {f}\" for t, f in label_data_index[name].items() if t != score[0]),\n",
    "        'names': \" | \".join(cluster2names[name]).replace('\\n', '\\\\n'),\n",
    "    }\n",
    "    for i, (name, scores) in enumerate(label_data)\n",
    "    for score in scores\n",
    "    if (name, score[0]) not in labeled_cluster_types\n",
    "]\n",
    "if len(unannotate_data) > 0:\n",
    "    pd.DataFrame(unannotate_data).to_csv(AUTOLABEL_DIR / \"cluster_type_agreements.unannotate.csv\", index=False)\n",
    "else:\n",
    "    print(\"All data has been annotated\")"
   ]
  },
  {
   "cell_type": "markdown",
   "id": "c76f21b2-d542-4d8d-9881-18a9c559246b",
   "metadata": {},
   "source": [
    "#### Step 4: Build our whitelist"
   ]
  },
  {
   "cell_type": "code",
   "execution_count": 125,
   "id": "7e70ca41-3a5b-4204-8a77-1bf5fe33ad89",
   "metadata": {
    "execution": {
     "iopub.execute_input": "2024-03-27T20:14:28.874580Z",
     "iopub.status.busy": "2024-03-27T20:14:28.873985Z",
     "iopub.status.idle": "2024-03-27T20:14:28.903618Z",
     "shell.execute_reply": "2024-03-27T20:14:28.902166Z",
     "shell.execute_reply.started": "2024-03-27T20:14:28.874533Z"
    }
   },
   "outputs": [],
   "source": [
    "df = pd.concat([\n",
    "    pd.read_csv(file, na_filter=False)\n",
    "    for file in AUTOLABEL_DIR.glob(\"cluster_type_agreements.revision*.csv\")\n",
    "])"
   ]
  },
  {
   "cell_type": "code",
   "execution_count": 133,
   "id": "e8e5d551-c38f-4d8a-b428-cb3c02617267",
   "metadata": {
    "execution": {
     "iopub.execute_input": "2024-03-27T20:23:39.844535Z",
     "iopub.status.busy": "2024-03-27T20:23:39.843971Z",
     "iopub.status.idle": "2024-03-27T20:23:44.971847Z",
     "shell.execute_reply": "2024-03-27T20:23:44.970872Z",
     "shell.execute_reply.started": "2024-03-27T20:23:39.844493Z"
    }
   },
   "outputs": [],
   "source": [
    "valid_type2cluster = defaultdict(dict)\n",
    "\n",
    "for name, types in cluster2types.items():\n",
    "    if name in crosstype_clusters_denylist:\n",
    "        continue\n",
    "    if name in crosstype_clusters_allowlist:\n",
    "        for type in types:\n",
    "            valid_type2cluster[type][name] = {'type': 'cross', 'freq': -1}\n",
    "    elif len(types) == 1:\n",
    "        type = list(types)[0]\n",
    "        freq = sum(int(name2cluster[x[2]] == name) for x in type2columns[label2id(type)])\n",
    "        valid_type2cluster[type][name] = {'type': 'single', 'freq': freq}"
   ]
  },
  {
   "cell_type": "code",
   "execution_count": 136,
   "id": "ac716269-18c4-4ea7-a41f-7321c39e81ec",
   "metadata": {
    "execution": {
     "iopub.execute_input": "2024-03-27T20:29:19.746147Z",
     "iopub.status.busy": "2024-03-27T20:29:19.745565Z",
     "iopub.status.idle": "2024-03-27T20:29:19.840728Z",
     "shell.execute_reply": "2024-03-27T20:29:19.839361Z",
     "shell.execute_reply.started": "2024-03-27T20:29:19.746102Z"
    }
   },
   "outputs": [],
   "source": [
    "for ri, row in df.iterrows():\n",
    "    assert row['label'] in {'T', 'F'}\n",
    "    if row['label'] == 'T':\n",
    "        freq = sum(int(name2cluster[x[2]] == row['label']) for x in type2columns[label2id(type)])\n",
    "        valid_type2cluster[row['type']][row['label']] = {'type': 'manual', 'freq': freq}"
   ]
  },
  {
   "cell_type": "code",
   "execution_count": 137,
   "id": "a7f2df3d-cf87-4b57-ad2e-ee12747a235e",
   "metadata": {
    "execution": {
     "iopub.execute_input": "2024-03-27T20:30:10.210710Z",
     "iopub.status.busy": "2024-03-27T20:30:10.210112Z",
     "iopub.status.idle": "2024-03-27T20:30:10.242886Z",
     "shell.execute_reply": "2024-03-27T20:30:10.241350Z",
     "shell.execute_reply.started": "2024-03-27T20:30:10.210664Z"
    }
   },
   "outputs": [],
   "source": [
    "serde.json.ser(valid_type2cluster, AUTOLABEL_DIR / \"type_to_clusters.json\", indent=2)"
   ]
  },
  {
   "cell_type": "markdown",
   "id": "a9085f80-b8c7-48b1-9699-e59d5d9fe98c",
   "metadata": {
    "jp-MarkdownHeadingCollapsed": true
   },
   "source": [
    "#### Debugging area\n",
    "\n",
    "##### seeing examples of a combination of header and types"
   ]
  },
  {
   "cell_type": "code",
   "execution_count": 33,
   "id": "ada07e32-0344-4d8d-a91b-f1e382638fe2",
   "metadata": {
    "execution": {
     "iopub.execute_input": "2024-03-27T18:57:01.139167Z",
     "iopub.status.busy": "2024-03-27T18:57:01.138576Z",
     "iopub.status.idle": "2024-03-27T18:57:01.663568Z",
     "shell.execute_reply": "2024-03-27T18:57:01.662566Z",
     "shell.execute_reply.started": "2024-03-27T18:57:01.139110Z"
    },
    "scrolled": true
   },
   "outputs": [
    {
     "data": {
      "application/vnd.jupyter.widget-view+json": {
       "model_id": "62ad6da59a784261aaaa5f05a327c572",
       "version_major": 2,
       "version_minor": 0
      },
      "text/plain": [
       "HBox(children=(Text(value='', description='Name:'), Text(value='', description='Type:'), Button(description='f…"
      ]
     },
     "metadata": {},
     "output_type": "display_data"
    },
    {
     "data": {
      "application/vnd.jupyter.widget-view+json": {
       "model_id": "579f038480c848368275c192e9ff48ad",
       "version_major": 2,
       "version_minor": 0
      },
      "text/plain": [
       "Output()"
      ]
     },
     "metadata": {},
     "output_type": "display_data"
    }
   ],
   "source": [
    "from gramsplus.misc.evaluation.osin_complex_objects import full_table_object, OsinObjectContext\n",
    "import ipywidgets as widgets\n",
    "\n",
    "ctx = OsinObjectContext(kgdb)\n",
    "wname = widgets.Text(description='Name:')\n",
    "wtype = widgets.Text(description='Type:')\n",
    "wout = widgets.Output()    \n",
    "btn = widgets.Button(description='find')\n",
    "display(widgets.HBox([wname, wtype, btn]))\n",
    "display(wout)\n",
    "\n",
    "def debug_header_type(name: str, type: str, is_cluster: bool = True, top_k: int = 10):\n",
    "    lst = [\n",
    "        x\n",
    "        for x in type2columns[label2id(type)]\n",
    "        if (is_cluster and name2cluster[x[2]] == name) or (x[2] == name)\n",
    "    ]\n",
    "    for x in lst[:top_k]:\n",
    "        print(x)\n",
    "    return lst\n",
    "    \n",
    "def on_click(btn):\n",
    "    with wout:\n",
    "        wout.clear_output()\n",
    "        lst = debug_header_type(wname.value, wtype.value)\n",
    "        wcounter = widgets.BoundedIntText(max=len(lst), description='Table Index')\n",
    "        display(wcounter)\n",
    "        tbl, = [tbl for tbl in autolabeled_tables if tbl.table.table.table_id == lst[wcounter.value][0]]\n",
    "        display(full_table_object(ctx, Example(id=tbl.table.table.table_id, sms=[], table=tbl.table.remove_empty_links())))\n",
    "    \n",
    "btn.on_click(on_click)"
   ]
  },
  {
   "cell_type": "markdown",
   "id": "34c8b9da-c3b3-4a5e-8e14-1ef7a48611e9",
   "metadata": {},
   "source": [
    "##### checking auto-labeled dataset"
   ]
  },
  {
   "cell_type": "code",
   "execution_count": 102,
   "id": "712eeb89-ede4-478f-9e14-5fc20565cafa",
   "metadata": {
    "execution": {
     "iopub.execute_input": "2024-03-27T19:41:38.326513Z",
     "iopub.status.busy": "2024-03-27T19:41:38.325920Z",
     "iopub.status.idle": "2024-03-27T19:41:38.407156Z",
     "shell.execute_reply": "2024-03-27T19:41:38.406138Z",
     "shell.execute_reply.started": "2024-03-27T19:41:38.326467Z"
    }
   },
   "outputs": [],
   "source": [
    "tbl, = [tbl for tbl in autolabeled_tables if tbl.table.table.table_id == 'https://en.wikipedia.org/wiki/A_Court_of_Thorns_and_Roses?table_no=3']"
   ]
  },
  {
   "cell_type": "code",
   "execution_count": 103,
   "id": "493e81fe-dde5-4e46-9c68-b9387961594d",
   "metadata": {
    "execution": {
     "iopub.execute_input": "2024-03-27T19:41:39.383810Z",
     "iopub.status.busy": "2024-03-27T19:41:39.383291Z",
     "iopub.status.idle": "2024-03-27T19:41:39.389978Z",
     "shell.execute_reply": "2024-03-27T19:41:39.388547Z",
     "shell.execute_reply.started": "2024-03-27T19:41:39.383765Z"
    }
   },
   "outputs": [],
   "source": [
    "labeler = unprocess_autolabel_actor.get_label(LIMIT_EASY_TABLE_DATASET_DIR.name)"
   ]
  },
  {
   "cell_type": "code",
   "execution_count": 104,
   "id": "ae0e1470-ec03-4491-99bf-fed153e1cbd8",
   "metadata": {
    "execution": {
     "iopub.execute_input": "2024-03-27T19:41:39.719760Z",
     "iopub.status.busy": "2024-03-27T19:41:39.719289Z",
     "iopub.status.idle": "2024-03-27T19:41:39.730376Z",
     "shell.execute_reply": "2024-03-27T19:41:39.729256Z",
     "shell.execute_reply.started": "2024-03-27T19:41:39.719721Z"
    }
   },
   "outputs": [],
   "source": [
    "from gramsplus.distantsupervision.make_dataset.lv1 import *\n",
    "\n",
    "def label_column(self, links: list[list[Link]]) -> list[EntityIdWithScore]:\n",
    "    type2freq = get_type_freq(links, self.entities, self.classes)\n",
    "    output = []\n",
    "    for c, freq in sorted(type2freq.items(), key=itemgetter(1), reverse=True):\n",
    "        print(classes[c], freq)\n",
    "        if freq < self.args.threshold:\n",
    "            break\n",
    "        \n",
    "        if len(output) >= self.args.topk and (\n",
    "            not self.args.include_similar_score\n",
    "            or (self.args.include_similar_score and output[-1].score != freq)\n",
    "        ):\n",
    "            break\n",
    "\n",
    "        output.append(\n",
    "            EntityIdWithScore(\n",
    "                EntityId(c, KGName.Wikidata),\n",
    "                freq,\n",
    "            )\n",
    "        )\n",
    "    return output"
   ]
  },
  {
   "cell_type": "code",
   "execution_count": 105,
   "id": "5562e556-9809-4e5c-964a-9348f7e189ce",
   "metadata": {
    "execution": {
     "iopub.execute_input": "2024-03-27T19:41:42.617723Z",
     "iopub.status.busy": "2024-03-27T19:41:42.617132Z",
     "iopub.status.idle": "2024-03-27T19:41:42.627236Z",
     "shell.execute_reply": "2024-03-27T19:41:42.625999Z",
     "shell.execute_reply.started": "2024-03-27T19:41:42.617677Z"
    }
   },
   "outputs": [
    {
     "data": {
      "text/plain": [
       "([1], [['website (Q35127): 0.800']])"
      ]
     },
     "execution_count": 105,
     "metadata": {},
     "output_type": "execute_result"
    }
   ],
   "source": [
    "tbl.entity_columns, [[f\"{classes[x.id]}: {x.score:.3f}\" for x in lst] for lst in tbl.entity_column_types]"
   ]
  },
  {
   "cell_type": "code",
   "execution_count": 106,
   "id": "d502bfea-c8b6-4885-a5cd-c38206d814c3",
   "metadata": {
    "execution": {
     "iopub.execute_input": "2024-03-27T19:41:50.862519Z",
     "iopub.status.busy": "2024-03-27T19:41:50.861924Z",
     "iopub.status.idle": "2024-03-27T19:41:50.870837Z",
     "shell.execute_reply": "2024-03-27T19:41:50.869697Z",
     "shell.execute_reply.started": "2024-03-27T19:41:50.862475Z"
    }
   },
   "outputs": [
    {
     "data": {
      "text/plain": [
       "[]"
      ]
     },
     "execution_count": 106,
     "metadata": {},
     "output_type": "execute_result"
    }
   ],
   "source": [
    "label_column(labeler, tbl.table.links[:, 3])"
   ]
  },
  {
   "cell_type": "code",
   "execution_count": 101,
   "id": "9686acfa-a8a6-450b-bb0b-edc11b3a8fa8",
   "metadata": {
    "execution": {
     "iopub.execute_input": "2024-03-27T19:38:48.695496Z",
     "iopub.status.busy": "2024-03-27T19:38:48.694940Z",
     "iopub.status.idle": "2024-03-27T19:38:48.703007Z",
     "shell.execute_reply": "2024-03-27T19:38:48.701746Z",
     "shell.execute_reply.started": "2024-03-27T19:38:48.695450Z"
    }
   },
   "outputs": [
    {
     "name": "stdout",
     "output_type": "stream",
     "text": [
      "region of France (Q36784)\n",
      "company (Q783794)\n",
      "electoral district (Q192611)\n"
     ]
    }
   ],
   "source": [
    "print('\\n'.join(\n",
    "    str(classes[cid])\n",
    "    for cid in ['Q36784', 'Q783794', 'Q192611']\n",
    "))"
   ]
  },
  {
   "cell_type": "code",
   "execution_count": 74,
   "id": "4547a7f2-b547-4f5f-a6db-3737fc5d65c2",
   "metadata": {
    "execution": {
     "iopub.execute_input": "2024-03-27T17:51:14.055352Z",
     "iopub.status.busy": "2024-03-27T17:51:14.054798Z",
     "iopub.status.idle": "2024-03-27T17:51:14.064572Z",
     "shell.execute_reply": "2024-03-27T17:51:14.063469Z",
     "shell.execute_reply.started": "2024-03-27T17:51:14.055309Z"
    }
   },
   "outputs": [
    {
     "data": {
      "text/plain": [
       "['Q837766']"
      ]
     },
     "execution_count": 74,
     "metadata": {},
     "output_type": "execute_result"
    }
   ],
   "source": [
    "[cid for cid in classes['Q36784'].parents if 'Q783794' in classes[cid].ancestors]\n",
    "[cid for cid in classes['Q583865'].parents if 'Q783794' in classes[cid].ancestors]"
   ]
  },
  {
   "cell_type": "code",
   "execution_count": 109,
   "id": "e2cd24dc-cc62-4e91-9222-9c61146a648a",
   "metadata": {
    "execution": {
     "iopub.execute_input": "2024-03-27T19:42:35.711672Z",
     "iopub.status.busy": "2024-03-27T19:42:35.711086Z",
     "iopub.status.idle": "2024-03-27T19:42:35.719988Z",
     "shell.execute_reply": "2024-03-27T19:42:35.718575Z",
     "shell.execute_reply.started": "2024-03-27T19:42:35.711627Z"
    }
   },
   "outputs": [
    {
     "name": "stdout",
     "output_type": "stream",
     "text": [
      "website (Q35127) -> ['industry (Q268592)']\n"
     ]
    }
   ],
   "source": [
    "cid = \"Q35127\"\n",
    "print(classes[cid], \"->\", [str(classes[x]) for x in normalize_types([\"Q35127\"], predefined_types)])"
   ]
  },
  {
   "cell_type": "code",
   "execution_count": 396,
   "id": "5c6eee74-233e-4a63-8637-94425870a91c",
   "metadata": {
    "execution": {
     "iopub.execute_input": "2024-03-26T18:41:50.656309Z",
     "iopub.status.busy": "2024-03-26T18:41:50.655698Z",
     "iopub.status.idle": "2024-03-26T18:41:50.664674Z",
     "shell.execute_reply": "2024-03-26T18:41:50.663520Z",
     "shell.execute_reply.started": "2024-03-26T18:41:50.656261Z"
    }
   },
   "outputs": [
    {
     "data": {
      "text/plain": [
       "['Q3918', 'Q45400320']"
      ]
     },
     "execution_count": 396,
     "metadata": {},
     "output_type": "execute_result"
    }
   ],
   "source": [
    "entity_types['Q1071609']"
   ]
  },
  {
   "cell_type": "code",
   "execution_count": 411,
   "id": "06ed6e0b-ee3a-4c0a-a0f0-476a0e3872a3",
   "metadata": {
    "execution": {
     "iopub.execute_input": "2024-03-26T18:56:09.280922Z",
     "iopub.status.busy": "2024-03-26T18:56:09.280331Z",
     "iopub.status.idle": "2024-03-26T18:56:09.292050Z",
     "shell.execute_reply": "2024-03-26T18:56:09.290934Z",
     "shell.execute_reply.started": "2024-03-26T18:56:09.280875Z"
    }
   },
   "outputs": [
    {
     "data": {
      "text/plain": [
       "[[['Q45400320', 'Q15936437', 'Q43229', 'Q11057861']],\n",
       " [['Q3918', 'Q45400320']],\n",
       " [['Q3918', 'Q45400320']],\n",
       " [['Q3918', 'Q45400320']],\n",
       " [['Q7950347', 'Q62078547', 'Q5003624']],\n",
       " [],\n",
       " [['Q3918', 'Q45400320']],\n",
       " [],\n",
       " [['Q875538', 'Q45400320']],\n",
       " [['Q3918', 'Q45400320']]]"
      ]
     },
     "execution_count": 411,
     "metadata": {},
     "output_type": "execute_result"
    }
   ],
   "source": [
    "[[entity_types[e] for e in l[0].entities] for l in tbl.table.links[:, 1]]"
   ]
  },
  {
   "cell_type": "code",
   "execution_count": 395,
   "id": "cb137d53-0e93-40f3-a9c6-92e21d871e90",
   "metadata": {
    "execution": {
     "iopub.execute_input": "2024-03-26T18:41:02.404832Z",
     "iopub.status.busy": "2024-03-26T18:41:02.404123Z",
     "iopub.status.idle": "2024-03-26T18:41:02.447592Z",
     "shell.execute_reply": "2024-03-26T18:41:02.446372Z",
     "shell.execute_reply.started": "2024-03-26T18:41:02.404783Z"
    }
   },
   "outputs": [
    {
     "ename": "IndexError",
     "evalue": "list index out of range",
     "output_type": "error",
     "traceback": [
      "\u001b[0;31m---------------------------------------------------------------------------\u001b[0m",
      "\u001b[0;31mIndexError\u001b[0m                                Traceback (most recent call last)",
      "Cell \u001b[0;32mIn[395], line 1\u001b[0m\n\u001b[0;32m----> 1\u001b[0m \u001b[38;5;28mstr\u001b[39m(\u001b[43mtbl\u001b[49m\u001b[38;5;241;43m.\u001b[39;49m\u001b[43mentity_column_types\u001b[49m\u001b[43m[\u001b[49m\u001b[38;5;241;43m0\u001b[39;49m\u001b[43m]\u001b[49m\u001b[43m[\u001b[49m\u001b[38;5;241;43m1\u001b[39;49m\u001b[43m]\u001b[49m\u001b[38;5;241m.\u001b[39mid)\n",
      "\u001b[0;31mIndexError\u001b[0m: list index out of range"
     ]
    }
   ],
   "source": [
    "str(tbl.entity_column_types[0][1].id)"
   ]
  },
  {
   "cell_type": "markdown",
   "id": "c8a035a1-8d84-47e3-baf8-ae3833d88842",
   "metadata": {},
   "source": [
    "## 🍱 Create labeled dataset"
   ]
  },
  {
   "cell_type": "markdown",
   "id": "c00fd252-d781-4d5b-9391-3a0fff3dd1ec",
   "metadata": {},
   "source": [
    "#### 🎚 Create label actor\n",
    "\n",
    "Put your configuration here"
   ]
  },
  {
   "cell_type": "code",
   "execution_count": 11,
   "id": "c37c0f0d-3e73-40cc-8349-c4547f05d628",
   "metadata": {
    "editable": true,
    "execution": {
     "iopub.execute_input": "2024-03-28T15:50:44.554488Z",
     "iopub.status.busy": "2024-03-28T15:50:44.553879Z",
     "iopub.status.idle": "2024-03-28T15:50:44.569544Z",
     "shell.execute_reply": "2024-03-28T15:50:44.568420Z",
     "shell.execute_reply.started": "2024-03-28T15:50:44.554439Z"
    },
    "slideshow": {
     "slide_type": ""
    },
    "tags": []
   },
   "outputs": [
    {
     "name": "stderr",
     "output_type": "stream",
     "text": [
      "\u001b[32m2024-04-02 21:59:12.153\u001b[0m | \u001b[34m\u001b[1mDEBUG   \u001b[0m | \u001b[36mream.actor_graph\u001b[0m:\u001b[36mcreate_actor\u001b[0m:\u001b[36m273\u001b[0m - \u001b[34m\u001b[1mDetermine the actor to run...\u001b[0m\n",
      "\u001b[32m2024-04-02 21:59:12.155\u001b[0m | \u001b[34m\u001b[1mDEBUG   \u001b[0m | \u001b[36mream.actor_graph\u001b[0m:\u001b[36mcreate_actor\u001b[0m:\u001b[36m275\u001b[0m - \u001b[34m\u001b[1mInitializing argument parser...\u001b[0m\n",
      "\u001b[32m2024-04-02 21:59:12.156\u001b[0m | \u001b[34m\u001b[1mDEBUG   \u001b[0m | \u001b[36mream.actor_graph\u001b[0m:\u001b[36mcreate_actor\u001b[0m:\u001b[36m292\u001b[0m - \u001b[34m\u001b[1mConstructing the actor...\u001b[0m\n"
     ]
    }
   ],
   "source": [
    "from gramsplus.distantsupervision.make_dataset.prelude import (\n",
    "    CombinedFilterArgs,\n",
    "    LabelV2,\n",
    "    LabelV2Args,\n",
    "    TransformV1Args,\n",
    ")\n",
    "\n",
    "autolabel_actor = G.create_actor(\n",
    "    AutoLabeledDataActor,\n",
    "    common_actor_args\n",
    "    + [\n",
    "        AutoLabelDataActorArgs(\n",
    "            dataset_dir=AUTOLABEL_DIR,\n",
    "            skip_non_unique_mention=True,\n",
    "            skip_column_with_no_type=True,\n",
    "            filter_method=\"filter_combined\",\n",
    "            filter_combined=CombinedFilterArgs(\n",
    "                header_col_type=None,\n",
    "            ),\n",
    "            transform_method=\"transform_v2\",\n",
    "            transform_v2=TransformV1Args(),\n",
    "            label_method=\"label_v2\",\n",
    "            label_v2=LabelV2Args(\n",
    "                base_labeler=LabelV1Args(\n",
    "                    topk=1,\n",
    "                    threshold=0.7,\n",
    "                    include_similar_score=True,\n",
    "                ),\n",
    "                type_header_agreement_file=RelWorkdirPath(\n",
    "                    AUTOLABEL_DIR / \"type_to_clusters.json\"\n",
    "                ),\n",
    "                norm_name_fn=\"resm.distantsupervision.datasets.make_dataset_helper.NamingHelper.make_dataset_v2_norm_fn\",\n",
    "            ),\n",
    "        ),\n",
    "    ],\n",
    ")"
   ]
  },
  {
   "cell_type": "code",
   "execution_count": 12,
   "id": "3f8431ba-7be6-45c5-b039-28f2e6b49771",
   "metadata": {
    "execution": {
     "iopub.execute_input": "2024-03-28T17:54:19.494228Z",
     "iopub.status.busy": "2024-03-28T17:54:19.493650Z",
     "iopub.status.idle": "2024-03-28T17:54:19.501597Z",
     "shell.execute_reply": "2024-03-28T17:54:19.500374Z",
     "shell.execute_reply.started": "2024-03-28T17:54:19.494178Z"
    }
   },
   "outputs": [
    {
     "name": "stderr",
     "output_type": "stream",
     "text": [
      "\u001b[32m2024-04-02 21:59:13.383\u001b[0m | \u001b[34m\u001b[1mDEBUG   \u001b[0m | \u001b[36mAutoLabeledDataActor\u001b[0m:\u001b[36mream.actors.base\u001b[0m:\u001b[36mget_working_fs\u001b[0m:\u001b[36m98\u001b[0m - \u001b[34m\u001b[1mUsing working directory: /nas/home/binhvu/workspace/sm-research/data/ream/AutoLabeledDataActor/v116/008\u001b[0m\n",
      "\u001b[32m2024-04-02 22:00:20.368\u001b[0m | \u001b[1mINFO    \u001b[0m | \u001b[36msm.misc.ray_helper\u001b[0m:\u001b[36mray_init\u001b[0m:\u001b[36m36\u001b[0m - \u001b[1mInitialize ray with args: {'log_to_driver': False, 'address': 'auto'}\u001b[0m\n",
      "2024-04-02 22:00:20,409\tINFO worker.py:1567 -- Connecting to existing Ray cluster at address: 128.9.35.196:26379...\n",
      "2024-04-02 22:00:20,417\tINFO worker.py:1743 -- Connected to Ray cluster. View the dashboard at \u001b[1m\u001b[32mhttp://128.9.35.196:28265 \u001b[39m\u001b[22m\n"
     ]
    },
    {
     "data": {
      "application/vnd.jupyter.widget-view+json": {
       "model_id": "c14c0dea47fc488f9393d2e260b87b3c",
       "version_major": 2,
       "version_minor": 0
      },
      "text/plain": [
       "generate auto-label dataset:   0%|          | 0/73373 [00:00<?, ?it/s]"
      ]
     },
     "metadata": {},
     "output_type": "display_data"
    },
    {
     "name": "stderr",
     "output_type": "stream",
     "text": [
      "\u001b[32m2024-04-02 22:05:30.390\u001b[0m | \u001b[34m\u001b[1mDEBUG   \u001b[0m | \u001b[36mtimer\u001b[0m:\u001b[36mwatch_and_report\u001b[0m:\u001b[36m74\u001b[0m - \u001b[34m\u001b[1mserialize: 25.013 seconds\u001b[0m\n"
     ]
    },
    {
     "name": "stdout",
     "output_type": "stream",
     "text": [
      "# tables 20985\n"
     ]
    }
   ],
   "source": [
    "tables = autolabel_actor(LIMIT_EASY_TABLE_DATASET_DIR.name)\n",
    "print(\"# tables\", len(tables))"
   ]
  },
  {
   "cell_type": "code",
   "execution_count": 14,
   "id": "ccf71246-59ac-49c4-9c75-d19337eab5a5",
   "metadata": {
    "execution": {
     "iopub.execute_input": "2024-03-28T07:29:20.679517Z",
     "iopub.status.busy": "2024-03-28T07:29:20.678769Z",
     "iopub.status.idle": "2024-03-28T07:29:20.867676Z",
     "shell.execute_reply": "2024-03-28T07:29:20.866833Z",
     "shell.execute_reply.started": "2024-03-28T07:29:20.679464Z"
    }
   },
   "outputs": [],
   "source": [
    "autolabel = {}\n",
    "for tbl in tables:\n",
    "    autolabel[tbl.table.table.table_id] = {\n",
    "        \"entity_columns\": [\n",
    "            (ci, tbl.table.table.get_column_by_index(ci).clean_multiline_name)\n",
    "            for ci in tbl.entity_columns\n",
    "        ],\n",
    "        \"entity_column_types\": [\n",
    "            [e.to_dict() for e in coltypes] for coltypes in tbl.entity_column_types\n",
    "        ],\n",
    "    }"
   ]
  },
  {
   "cell_type": "code",
   "execution_count": 13,
   "id": "df25c173",
   "metadata": {},
   "outputs": [
    {
     "data": {
      "text/plain": [
       "PosixPath('/nas/home/binhvu/workspace/sm-research/data/datasets/wiki-20230620/wt-limited-easy-sp51')"
      ]
     },
     "execution_count": 13,
     "metadata": {},
     "output_type": "execute_result"
    }
   ],
   "source": [
    "LIMIT_EASY_TABLE_DATASET_DIR"
   ]
  },
  {
   "cell_type": "code",
   "execution_count": 12,
   "id": "f1d69a95-4ebd-4507-abcc-0c5506dc7638",
   "metadata": {
    "execution": {
     "iopub.execute_input": "2024-03-28T07:29:20.893823Z",
     "iopub.status.busy": "2024-03-28T07:29:20.893425Z",
     "iopub.status.idle": "2024-03-28T07:29:21.038338Z",
     "shell.execute_reply": "2024-03-28T07:29:21.037593Z",
     "shell.execute_reply.started": "2024-03-28T07:29:20.893798Z"
    },
    "scrolled": true
   },
   "outputs": [],
   "source": [
    "serde.json.ser(autolabel, LIMIT_EASY_TABLE_DATASET_DIR / \"autolabel.json\", indent=2)"
   ]
  },
  {
   "cell_type": "code",
   "execution_count": 15,
   "id": "f223a623",
   "metadata": {},
   "outputs": [
    {
     "name": "stdout",
     "output_type": "stream",
     "text": [
      "# cols 22774\n"
     ]
    }
   ],
   "source": [
    "n_cols = sum(\n",
    "    sum(len(x) > 0 for x in tbl[\"entity_column_types\"]) for tbl in autolabel.values()\n",
    ")\n",
    "print(\"# cols\", n_cols)"
   ]
  },
  {
   "cell_type": "code",
   "execution_count": 14,
   "id": "ee3881bb-e246-4ae4-98b3-97d6e9b54d77",
   "metadata": {
    "execution": {
     "iopub.execute_input": "2024-03-28T07:30:59.600083Z",
     "iopub.status.busy": "2024-03-28T07:30:59.599522Z",
     "iopub.status.idle": "2024-03-28T07:30:59.640884Z",
     "shell.execute_reply": "2024-03-28T07:30:59.639679Z",
     "shell.execute_reply.started": "2024-03-28T07:30:59.600037Z"
    }
   },
   "outputs": [
    {
     "name": "stdout",
     "output_type": "stream",
     "text": [
      "# cols 21926\n"
     ]
    }
   ],
   "source": [
    "n_cols = sum(sum(len(x) > 0 for x in tbl['entity_column_types']) for tbl in autolabel.values())\n",
    "print(\"# cols\", n_cols)"
   ]
  },
  {
   "cell_type": "code",
   "execution_count": 16,
   "id": "08c0e3d0-d244-4a6e-9524-f107267131c6",
   "metadata": {
    "execution": {
     "iopub.execute_input": "2024-03-28T07:35:18.718038Z",
     "iopub.status.busy": "2024-03-28T07:35:18.717429Z",
     "iopub.status.idle": "2024-03-28T07:35:18.725210Z",
     "shell.execute_reply": "2024-03-28T07:35:18.723971Z",
     "shell.execute_reply.started": "2024-03-28T07:35:18.717988Z"
    }
   },
   "outputs": [],
   "source": [
    "def assert_not_empty(lst: list) -> list:\n",
    "    assert len(lst) > 0\n",
    "    return lst\n",
    "\n",
    "\n",
    "M.assert_not_empty = assert_not_empty"
   ]
  },
  {
   "cell_type": "code",
   "execution_count": 20,
   "id": "bcc933ea-5ceb-4093-b367-062926507aff",
   "metadata": {
    "execution": {
     "iopub.execute_input": "2024-03-28T07:38:50.697918Z",
     "iopub.status.busy": "2024-03-28T07:38:50.697337Z",
     "iopub.status.idle": "2024-03-28T07:38:50.923804Z",
     "shell.execute_reply": "2024-03-28T07:38:50.923153Z",
     "shell.execute_reply.started": "2024-03-28T07:38:50.697871Z"
    }
   },
   "outputs": [
    {
     "data": {
      "text/html": [
       "<div>\n",
       "<style scoped>\n",
       "    .dataframe tbody tr th:only-of-type {\n",
       "        vertical-align: middle;\n",
       "    }\n",
       "\n",
       "    .dataframe tbody tr th {\n",
       "        vertical-align: top;\n",
       "    }\n",
       "\n",
       "    .dataframe thead th {\n",
       "        text-align: right;\n",
       "    }\n",
       "</style>\n",
       "<table border=\"1\" class=\"dataframe\">\n",
       "  <thead>\n",
       "    <tr style=\"text-align: right;\">\n",
       "      <th></th>\n",
       "      <th>table_id</th>\n",
       "      <th>column_index</th>\n",
       "      <th>column_name</th>\n",
       "      <th>column_types</th>\n",
       "    </tr>\n",
       "  </thead>\n",
       "  <tbody>\n",
       "    <tr>\n",
       "      <th>0</th>\n",
       "      <td>https://en.wikipedia.org/wiki/2021%E2%80%9322_...</td>\n",
       "      <td>0</td>\n",
       "      <td>Team \\ Match played</td>\n",
       "      <td>association football club (Q476028): 0.833</td>\n",
       "    </tr>\n",
       "    <tr>\n",
       "      <th>1</th>\n",
       "      <td>https://en.wikipedia.org/wiki/List_of_managers...</td>\n",
       "      <td>1</td>\n",
       "      <td>Manager</td>\n",
       "      <td>human (Q5): 1.000</td>\n",
       "    </tr>\n",
       "    <tr>\n",
       "      <th>2</th>\n",
       "      <td>https://en.wikipedia.org/wiki/2013%E2%80%9314_...</td>\n",
       "      <td>1</td>\n",
       "      <td>Name</td>\n",
       "      <td>human (Q5): 1.000</td>\n",
       "    </tr>\n",
       "    <tr>\n",
       "      <th>3</th>\n",
       "      <td>https://en.wikipedia.org/wiki/City_with_powiat...</td>\n",
       "      <td>0</td>\n",
       "      <td>City county</td>\n",
       "      <td>city with powiat rights (Q925381): 1.000</td>\n",
       "    </tr>\n",
       "    <tr>\n",
       "      <th>4</th>\n",
       "      <td>https://en.wikipedia.org/wiki/City_with_powiat...</td>\n",
       "      <td>1</td>\n",
       "      <td>Voivodeship</td>\n",
       "      <td>voivodeship of Poland (Q150093): 1.000</td>\n",
       "    </tr>\n",
       "    <tr>\n",
       "      <th>...</th>\n",
       "      <td>...</td>\n",
       "      <td>...</td>\n",
       "      <td>...</td>\n",
       "      <td>...</td>\n",
       "    </tr>\n",
       "    <tr>\n",
       "      <th>21921</th>\n",
       "      <td>https://en.wikipedia.org/wiki/B.J._Penn?table_...</td>\n",
       "      <td>1</td>\n",
       "      <td>Title</td>\n",
       "      <td>video game (Q7889): 1.000</td>\n",
       "    </tr>\n",
       "    <tr>\n",
       "      <th>21922</th>\n",
       "      <td>https://en.wikipedia.org/wiki/2020%E2%80%9321_...</td>\n",
       "      <td>0</td>\n",
       "      <td>Opposition</td>\n",
       "      <td>association football club (Q476028): 1.000</td>\n",
       "    </tr>\n",
       "    <tr>\n",
       "      <th>21923</th>\n",
       "      <td>https://en.wikipedia.org/wiki/Forbes_list_of_t...</td>\n",
       "      <td>0</td>\n",
       "      <td>Team[lower-alpha 7]</td>\n",
       "      <td>basketball team (Q13393265): 1.000</td>\n",
       "    </tr>\n",
       "    <tr>\n",
       "      <th>21924</th>\n",
       "      <td>https://en.wikipedia.org/wiki/2013_FIVB_Volley...</td>\n",
       "      <td>2</td>\n",
       "      <td></td>\n",
       "      <td>national sports team (Q1194951): 1.000</td>\n",
       "    </tr>\n",
       "    <tr>\n",
       "      <th>21925</th>\n",
       "      <td>https://en.wikipedia.org/wiki/2013_FIVB_Volley...</td>\n",
       "      <td>4</td>\n",
       "      <td></td>\n",
       "      <td>national sports team (Q1194951): 1.000</td>\n",
       "    </tr>\n",
       "  </tbody>\n",
       "</table>\n",
       "<p>21926 rows × 4 columns</p>\n",
       "</div>"
      ],
      "text/plain": [
       "                                                table_id  column_index  \\\n",
       "0      https://en.wikipedia.org/wiki/2021%E2%80%9322_...             0   \n",
       "1      https://en.wikipedia.org/wiki/List_of_managers...             1   \n",
       "2      https://en.wikipedia.org/wiki/2013%E2%80%9314_...             1   \n",
       "3      https://en.wikipedia.org/wiki/City_with_powiat...             0   \n",
       "4      https://en.wikipedia.org/wiki/City_with_powiat...             1   \n",
       "...                                                  ...           ...   \n",
       "21921  https://en.wikipedia.org/wiki/B.J._Penn?table_...             1   \n",
       "21922  https://en.wikipedia.org/wiki/2020%E2%80%9321_...             0   \n",
       "21923  https://en.wikipedia.org/wiki/Forbes_list_of_t...             0   \n",
       "21924  https://en.wikipedia.org/wiki/2013_FIVB_Volley...             2   \n",
       "21925  https://en.wikipedia.org/wiki/2013_FIVB_Volley...             4   \n",
       "\n",
       "               column_name                                column_types  \n",
       "0      Team \\ Match played  association football club (Q476028): 0.833  \n",
       "1                  Manager                           human (Q5): 1.000  \n",
       "2                     Name                           human (Q5): 1.000  \n",
       "3              City county    city with powiat rights (Q925381): 1.000  \n",
       "4              Voivodeship      voivodeship of Poland (Q150093): 1.000  \n",
       "...                    ...                                         ...  \n",
       "21921                Title                   video game (Q7889): 1.000  \n",
       "21922           Opposition  association football club (Q476028): 1.000  \n",
       "21923  Team[lower-alpha 7]          basketball team (Q13393265): 1.000  \n",
       "21924                           national sports team (Q1194951): 1.000  \n",
       "21925                           national sports team (Q1194951): 1.000  \n",
       "\n",
       "[21926 rows x 4 columns]"
      ]
     },
     "execution_count": 20,
     "metadata": {},
     "output_type": "execute_result"
    }
   ],
   "source": [
    "df = pd.DataFrame([\n",
    "    {\n",
    "        \"table_id\": table_id,\n",
    "        \"column_index\": tbl_label['entity_columns'][i][0],\n",
    "        \"column_name\": tbl_label['entity_columns'][i][1],\n",
    "        \"column_types\": \" | \".join(f\"{classes[x['id']['id']]}: {x['score']:.3f}\" for x in M.assert_not_empty(tbl_label['entity_column_types'][i]))\n",
    "    }\n",
    "    for table_id, tbl_label in autolabel.items()\n",
    "    for i in range(len(tbl_label['entity_columns']))\n",
    "])\n",
    "df"
   ]
  },
  {
   "cell_type": "code",
   "execution_count": null,
   "id": "0f157ea5-c867-4758-bf5e-88f200c08f20",
   "metadata": {},
   "outputs": [],
   "source": []
  }
 ],
 "metadata": {
  "kernelspec": {
   "display_name": "Python 3 (ipykernel)",
   "language": "python",
   "name": "python3"
  },
  "language_info": {
   "codemirror_mode": {
    "name": "ipython",
    "version": 3
   },
   "file_extension": ".py",
   "mimetype": "text/x-python",
   "name": "python",
   "nbconvert_exporter": "python",
   "pygments_lexer": "ipython3",
   "version": "3.11.5"
  }
 },
 "nbformat": 4,
 "nbformat_minor": 5
}

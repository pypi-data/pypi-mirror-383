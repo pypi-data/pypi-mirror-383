{
 "cells": [
  {
   "attachments": {},
   "cell_type": "markdown",
   "id": "c81a726d-d8c3-4ce1-9245-551734390bb1",
   "metadata": {},
   "source": [
    "# Generate auto-labeled tables for distant supervision"
   ]
  },
  {
   "attachments": {},
   "cell_type": "markdown",
   "id": "82458744-e1c6-4254-8734-9c484ebf5dbb",
   "metadata": {
    "editable": true,
    "slideshow": {
     "slide_type": ""
    },
    "tags": []
   },
   "source": [
    "## 🛠️ Setup\n",
    "\n",
    "Import packages"
   ]
  },
  {
   "cell_type": "code",
   "execution_count": 1,
   "id": "9262bb36-9c00-4647-b9bc-762641c3e11e",
   "metadata": {
    "editable": true,
    "execution": {
     "iopub.execute_input": "2024-01-04T09:33:16.983874Z",
     "iopub.status.busy": "2024-01-04T09:33:16.983357Z",
     "iopub.status.idle": "2024-01-04T09:33:23.101304Z",
     "shell.execute_reply": "2024-01-04T09:33:23.100581Z",
     "shell.execute_reply.started": "2024-01-04T09:33:16.983824Z"
    },
    "slideshow": {
     "slide_type": ""
    },
    "tags": []
   },
   "outputs": [],
   "source": [
    "import socket\n",
    "from scripts.base import *\n",
    "\n",
    "from kgdata.wikipedia.config import WikipediaDirCfg\n",
    "from kgdata.wikipedia.datasets.easy_tables import easy_tables, EasyTests\n",
    "from kgdata.wikipedia.datasets.easy_tables_metadata import easy_tables_metadata\n",
    "from kgdata.wikidata.db import WikidataDB\n",
    "from kgdata.wikidata.config import WikidataDirCfg\n",
    "from kgdata.wikipedia.misc import get_title_from_url, is_wikipedia_url\n",
    "from sm_datasets import Datasets\n",
    "from asciitree import LeftAligned\n",
    "from gramsplus.misc.evaluation.unorganized import reorder2tree, IndirectDictAccess\n",
    "from resm_scripts.experiments.setup import *"
   ]
  },
  {
   "attachments": {},
   "cell_type": "markdown",
   "id": "1206c87b-70b3-421b-a46a-f94a46b020c9",
   "metadata": {},
   "source": [
    "Setup singleton objects such as data directory config"
   ]
  },
  {
   "cell_type": "code",
   "execution_count": null,
   "id": "c407354c-ce82-4869-b52e-bd1792f0bbcd",
   "metadata": {
    "editable": true,
    "execution": {
     "iopub.execute_input": "2024-01-04T09:33:23.103035Z",
     "iopub.status.busy": "2024-01-04T09:33:23.102714Z",
     "iopub.status.idle": "2024-01-04T09:33:23.600669Z",
     "shell.execute_reply": "2024-01-04T09:33:23.600031Z",
     "shell.execute_reply.started": "2024-01-04T09:33:23.103015Z"
    },
    "slideshow": {
     "slide_type": ""
    },
    "tags": []
   },
   "outputs": [],
   "source": [
    "if WikipediaDirCfg.instance is None:\n",
    "    WikipediaDirCfg.init(WIKIPEDIA_DIR)\n",
    "if WikidataDirCfg.instance is None:\n",
    "    WikidataDirCfg.init(WIKIDATA_DIR)\n",
    "if DBpediaDirCfg.instance is None:\n",
    "    DBpediaDirCfg.init(DBPEDIA_DIR)\n",
    "if \"db\" not in locals():\n",
    "    db = WikidataDB(DATABASE_DIR / \"wikidata\" / WIKIDATA_DIR.name)\n",
    "    classes = db.classes.cache()\n",
    "    props = db.props.cache()\n",
    "    entity_types = db.entity_types.cache()\n",
    "    entity_metadata = db.entity_metadata.cache()"
   ]
  },
  {
   "cell_type": "markdown",
   "id": "0421daf3-8e10-4338-8704-7abcea9977de",
   "metadata": {},
   "source": [
    "Define list of files/parameters that will be produced/used when running this notebook"
   ]
  },
  {
   "cell_type": "code",
   "execution_count": 3,
   "id": "e28f1dc8-afd9-4e06-9998-c59756fdb728",
   "metadata": {
    "execution": {
     "iopub.execute_input": "2024-01-04T09:33:23.601732Z",
     "iopub.status.busy": "2024-01-04T09:33:23.601470Z",
     "iopub.status.idle": "2024-01-04T09:33:23.604937Z",
     "shell.execute_reply": "2024-01-04T09:33:23.604450Z",
     "shell.execute_reply.started": "2024-01-04T09:33:23.601714Z"
    }
   },
   "outputs": [],
   "source": [
    "AUTOLABEL_DIR = DATA_DIR / \"datasets/wiki-20230620\"\n",
    "\n",
    "# max rows\n",
    "MAX_ROWS = 51  # 1 for the header\n",
    "\n",
    "# list of high level concepts -- built from table types as well as columns\n",
    "HIGH_LEVEL_CONCEPT_FILE = AUTOLABEL_DIR / \"highlevel_concepts.txt\"\n",
    "ALL_EASY_TABLE_DATASET_DIR = AUTOLABEL_DIR / f\"wt-all-easy-{MAX_ROWS}\"\n",
    "LIMIT_EASY_TABLE_DATASET_DIR = AUTOLABEL_DIR / f\"wt-limited-easy-{MAX_ROWS}\""
   ]
  },
  {
   "cell_type": "markdown",
   "id": "68444d42-bc84-4190-a467-5263e8ccdbf2",
   "metadata": {},
   "source": [
    "Define common actor args"
   ]
  },
  {
   "cell_type": "code",
   "execution_count": 4,
   "id": "6b986ad6-6d9f-4ca4-8be1-f412284a2051",
   "metadata": {
    "execution": {
     "iopub.execute_input": "2024-01-04T09:33:23.605854Z",
     "iopub.status.busy": "2024-01-04T09:33:23.605613Z",
     "iopub.status.idle": "2024-01-04T09:33:23.648171Z",
     "shell.execute_reply": "2024-01-04T09:33:23.647615Z",
     "shell.execute_reply.started": "2024-01-04T09:33:23.605836Z"
    }
   },
   "outputs": [],
   "source": [
    "common_actor_args = [\n",
    "    DBActorArgs(\n",
    "        kgdbs=[\n",
    "            KGDBArgs(\n",
    "                name=KGName.Wikidata,\n",
    "                version=f\"{WIKIDATA_DIR.name}:v100\",\n",
    "                datadir=DATABASE_DIR / \"wikidata\" / WIKIDATA_DIR.name,\n",
    "                entity_url=(\n",
    "                    \"tcp://ckg03.isi.edu:35500-35532\"\n",
    "                    if socket.getfqdn().find(\"isi.edu\") != -1\n",
    "                    else None\n",
    "                ),\n",
    "                entity_metadata_url=(\n",
    "                    \"tcp://ckg03.isi.edu:35600-35632\"\n",
    "                    if socket.getfqdn().find(\"isi.edu\") != -1\n",
    "                    else None\n",
    "                ),\n",
    "            ),\n",
    "            KGDBArgs(\n",
    "                name=KGName.DBpedia,\n",
    "                version=f\"{DBPEDIA_DIR.name}:v100\",\n",
    "                datadir=DATABASE_DIR / \"dbpedia\" / DBPEDIA_DIR.name,\n",
    "            ),\n",
    "        ]\n",
    "    ),\n",
    "    DataActorArgs(skip_unk_ont_ent=True, skip_no_sm=True),\n",
    "]"
   ]
  },
  {
   "cell_type": "markdown",
   "id": "84d11668-ab88-4b7e-a9bd-8231b394ac1a",
   "metadata": {},
   "source": [
    "## ♾ Get all raw tables with maximum N rows\n",
    "\n",
    "Retrieve all raw tables that are not in the same wikipedia pages as test tables (wt250 dataset)"
   ]
  },
  {
   "cell_type": "code",
   "execution_count": 5,
   "id": "70c7d95c-58a8-40b2-b4a3-35a98ff34f2b",
   "metadata": {
    "execution": {
     "iopub.execute_input": "2024-01-04T02:51:20.301398Z",
     "iopub.status.busy": "2024-01-04T02:51:20.300775Z",
     "iopub.status.idle": "2024-01-04T02:51:22.510775Z",
     "shell.execute_reply": "2024-01-04T02:51:22.510087Z",
     "shell.execute_reply.started": "2024-01-04T02:51:20.301347Z"
    }
   },
   "outputs": [
    {
     "data": {
      "application/vnd.jupyter.widget-view+json": {
       "model_id": "0890caf15abc488ca6a71ccbb0b89d56",
       "version_major": 2,
       "version_minor": 0
      },
      "text/plain": [
       "read dataset:   0%|          | 0/192 [00:00<?, ?it/s]"
      ]
     },
     "metadata": {},
     "output_type": "display_data"
    },
    {
     "data": {
      "text/plain": [
       "81628"
      ]
     },
     "execution_count": 5,
     "metadata": {},
     "output_type": "execute_result"
    }
   ],
   "source": [
    "tables_metadata = easy_tables_metadata().get_list(file_order=\"asc\")\n",
    "len(tables_metadata)"
   ]
  },
  {
   "cell_type": "code",
   "execution_count": 6,
   "id": "8c96b43f-93ff-43c1-afba-53bd2e389ce1",
   "metadata": {
    "execution": {
     "iopub.execute_input": "2024-01-04T02:51:22.512940Z",
     "iopub.status.busy": "2024-01-04T02:51:22.512578Z",
     "iopub.status.idle": "2024-01-04T02:51:22.518662Z",
     "shell.execute_reply": "2024-01-04T02:51:22.517801Z",
     "shell.execute_reply.started": "2024-01-04T02:51:22.512917Z"
    }
   },
   "outputs": [],
   "source": [
    "from kgdata.dataset import get_spark_context\n",
    "\n",
    "def save_raw_dataset(sampled_tables: set[str], output_dir: Path):\n",
    "    bc_sampled_tables = get_spark_context().broadcast(set(sampled_tables))\n",
    "    tables = (\n",
    "        easy_tables()\n",
    "        .get_rdd()\n",
    "        .filter(lambda x: x.table.id in bc_sampled_tables.value)\n",
    "        .collect()\n",
    "    )\n",
    "\n",
    "    Dataset(output_dir).save(\n",
    "        examples=[\n",
    "            Example(id=tbl.table.id, sms=[], table=tbl.to_full_table()) for tbl in tables\n",
    "        ],\n",
    "        batch_compressed=True,\n",
    "        batch_size=256,\n",
    "        clean_previous_data=True,\n",
    "    )"
   ]
  },
  {
   "cell_type": "code",
   "execution_count": 7,
   "id": "aac4b66b-4595-4d5f-a158-038a7380db4d",
   "metadata": {
    "execution": {
     "iopub.execute_input": "2024-01-04T02:51:23.617373Z",
     "iopub.status.busy": "2024-01-04T02:51:23.616850Z",
     "iopub.status.idle": "2024-01-04T02:51:25.219662Z",
     "shell.execute_reply": "2024-01-04T02:51:25.218517Z",
     "shell.execute_reply.started": "2024-01-04T02:51:23.617330Z"
    }
   },
   "outputs": [
    {
     "name": "stdout",
     "output_type": "stream",
     "text": [
      "Found existing metadata.json and our sampled tables are the same!\n"
     ]
    }
   ],
   "source": [
    "ignored_page_titles = {ex.table.context.page_title for ex in Datasets().wt250().load()}\n",
    "\n",
    "selected_tbls = set()\n",
    "\n",
    "for tbl in tables_metadata:\n",
    "    if any(pagetype in {\"Q4167410\"} for pagetype in tbl.page_types) or len(tbl.page_types) == 0:\n",
    "        # ignore disambiguation page\n",
    "        continue\n",
    "        \n",
    "    assert is_wikipedia_url(tbl.id)\n",
    "    title = get_title_from_url(tbl.id)\n",
    "    if title in ignored_page_titles or tbl.n_rows > MAX_ROWS:\n",
    "        continue\n",
    "    selected_tbls.add(tbl.id)\n",
    "\n",
    "if (ALL_EASY_TABLE_DATASET_DIR / \"metadata.json\").exists():\n",
    "    metadata = orjson.loads((ALL_EASY_TABLE_DATASET_DIR / \"metadata.json\").read_bytes())\n",
    "    if set(metadata[\"tables\"]) != set(selected_tbls):\n",
    "        # print(list(set(metadata[\"tables\"]).symmetric_difference(selected_tbls))[:5])\n",
    "        assert False\n",
    "    print(\"Found existing metadata.json and our sampled tables are the same!\")\n",
    "else:\n",
    "    ALL_EASY_TABLE_DATASET_DIR.mkdir(exist_ok=True, parents=True)\n",
    "    (ALL_EASY_TABLE_DATASET_DIR / \"metadata.json\").write_bytes(\n",
    "        orjson.dumps(\n",
    "            {\n",
    "                \"n_target_tables\": len(selected_tbls),\n",
    "                \"max_rows\": MAX_ROWS,\n",
    "                \"tables\": sorted(selected_tbls),\n",
    "            },\n",
    "            option=orjson.OPT_INDENT_2,\n",
    "        )\n",
    "    )"
   ]
  },
  {
   "cell_type": "code",
   "execution_count": 8,
   "id": "5fe480e4-331d-432f-82f3-d760b13014ab",
   "metadata": {
    "execution": {
     "iopub.execute_input": "2024-01-04T02:51:25.221445Z",
     "iopub.status.busy": "2024-01-04T02:51:25.221248Z",
     "iopub.status.idle": "2024-01-04T02:51:25.227842Z",
     "shell.execute_reply": "2024-01-04T02:51:25.226886Z",
     "shell.execute_reply.started": "2024-01-04T02:51:25.221427Z"
    }
   },
   "outputs": [
    {
     "data": {
      "text/plain": [
       "(73301, 73301)"
      ]
     },
     "execution_count": 8,
     "metadata": {},
     "output_type": "execute_result"
    }
   ],
   "source": [
    "len(metadata[\"tables\"]), len(selected_tbls)"
   ]
  },
  {
   "cell_type": "code",
   "execution_count": null,
   "id": "944cdae4-d5a6-4abf-b817-b8c24bb315de",
   "metadata": {
    "execution": {
     "iopub.execute_input": "2024-01-04T02:51:26.629243Z",
     "iopub.status.busy": "2024-01-04T02:51:26.628682Z",
     "iopub.status.idle": "2024-01-04T02:53:35.666413Z",
     "shell.execute_reply": "2024-01-04T02:53:35.664247Z",
     "shell.execute_reply.started": "2024-01-04T02:51:26.629198Z"
    }
   },
   "outputs": [],
   "source": [
    "save_raw_dataset(selected_tbls, ALL_EASY_TABLE_DATASET_DIR)"
   ]
  },
  {
   "cell_type": "markdown",
   "id": "a9d64f5e",
   "metadata": {},
   "source": [
    "## 🌳 Taxnomony"
   ]
  },
  {
   "cell_type": "code",
   "execution_count": 5,
   "id": "da14588c-a568-4637-8733-f5af12eff807",
   "metadata": {
    "execution": {
     "iopub.execute_input": "2024-01-04T09:33:23.649911Z",
     "iopub.status.busy": "2024-01-04T09:33:23.649663Z",
     "iopub.status.idle": "2024-01-04T09:33:23.662379Z",
     "shell.execute_reply": "2024-01-04T09:33:23.661863Z",
     "shell.execute_reply.started": "2024-01-04T09:33:23.649893Z"
    }
   },
   "outputs": [],
   "source": [
    "predefined_types: dict[str, int] = {}"
   ]
  },
  {
   "cell_type": "code",
   "execution_count": 6,
   "id": "eb17f660",
   "metadata": {
    "execution": {
     "iopub.execute_input": "2024-01-04T09:33:23.663286Z",
     "iopub.status.busy": "2024-01-04T09:33:23.663055Z",
     "iopub.status.idle": "2024-01-04T09:33:23.827165Z",
     "shell.execute_reply": "2024-01-04T09:33:23.825960Z",
     "shell.execute_reply.started": "2024-01-04T09:33:23.663270Z"
    }
   },
   "outputs": [],
   "source": [
    "def label2id(label: str):\n",
    "    m = re.match(r\"[^(]*\\(([QP]\\d+)\\)\", label)\n",
    "    assert m is not None, label\n",
    "    return m.group(1)"
   ]
  },
  {
   "cell_type": "code",
   "execution_count": 7,
   "id": "435a6e78-1aa4-4181-bad3-ced78d718b85",
   "metadata": {
    "execution": {
     "iopub.execute_input": "2024-01-04T09:33:23.829304Z",
     "iopub.status.busy": "2024-01-04T09:33:23.828735Z",
     "iopub.status.idle": "2024-01-04T09:33:23.885156Z",
     "shell.execute_reply": "2024-01-04T09:33:23.884281Z",
     "shell.execute_reply.started": "2024-01-04T09:33:23.829263Z"
    }
   },
   "outputs": [
    {
     "name": "stdout",
     "output_type": "stream",
     "text": [
      "#types 71\n"
     ]
    }
   ],
   "source": [
    "# load the predefined high-level types from disk\n",
    "predefined_types: dict[str, int] = {}\n",
    "tmp = set()\n",
    "for line in serde.textline.deser(HIGH_LEVEL_CONCEPT_FILE):\n",
    "    line = line.strip()\n",
    "    if line == \"\" or line.startswith(\"#\"):\n",
    "        continue\n",
    "    tmp.add(label2id(line))\n",
    "\n",
    "print(\"#types\", len(tmp))\n",
    "\n",
    "trees = reorder2tree(\n",
    "    list(tmp), IndirectDictAccess(classes, attrgetter(\"ancestors\"))\n",
    ").trees\n",
    "for tree in trees:\n",
    "    for item in tree.get_flatten_hierarchy():\n",
    "        predefined_types[item.id] = max(item.depth, predefined_types.get(item.id, 0))\n",
    "assert len(predefined_types) == len(tmp)"
   ]
  },
  {
   "cell_type": "code",
   "execution_count": 3,
   "id": "6a924b8f",
   "metadata": {},
   "outputs": [
    {
     "ename": "NameError",
     "evalue": "name 'classes' is not defined",
     "output_type": "error",
     "traceback": [
      "\u001b[0;31m---------------------------------------------------------------------------\u001b[0m",
      "\u001b[0;31mNameError\u001b[0m                                 Traceback (most recent call last)",
      "Cell \u001b[0;32mIn[3], line 4\u001b[0m\n\u001b[1;32m      1\u001b[0m \u001b[38;5;28;01mfrom\u001b[39;00m \u001b[38;5;21;01mfunctools\u001b[39;00m \u001b[38;5;28;01mimport\u001b[39;00m partial\n\u001b[1;32m      2\u001b[0m \u001b[38;5;28;01mfrom\u001b[39;00m \u001b[38;5;21;01mresm\u001b[39;00m\u001b[38;5;21;01m.\u001b[39;00m\u001b[38;5;21;01mdistantsupervision\u001b[39;00m\u001b[38;5;21;01m.\u001b[39;00m\u001b[38;5;21;01mtaxonomy_helper\u001b[39;00m \u001b[38;5;28;01mimport\u001b[39;00m TaxonomyFn\n\u001b[0;32m----> 4\u001b[0m normalize_types \u001b[38;5;241m=\u001b[39m partial(TaxonomyFn\u001b[38;5;241m.\u001b[39mnormalize_types, collection\u001b[38;5;241m=\u001b[39m\u001b[43mclasses\u001b[49m)\n",
      "\u001b[0;31mNameError\u001b[0m: name 'classes' is not defined"
     ]
    }
   ],
   "source": [
    "from functools import partial\n",
    "from resm.distantsupervision.taxonomy_helper import TaxonomyFn\n",
    "\n",
    "normalize_types = partial(TaxonomyFn.normalize_types, collection=classes)"
   ]
  },
  {
   "cell_type": "code",
   "execution_count": 8,
   "id": "e6e41a9f",
   "metadata": {
    "execution": {
     "iopub.execute_input": "2024-01-04T09:33:23.886887Z",
     "iopub.status.busy": "2024-01-04T09:33:23.886328Z",
     "iopub.status.idle": "2024-01-04T09:33:23.935663Z",
     "shell.execute_reply": "2024-01-04T09:33:23.934717Z",
     "shell.execute_reply.started": "2024-01-04T09:33:23.886854Z"
    }
   },
   "outputs": [],
   "source": [
    "def normalize_types(\n",
    "    types: list[str] | list[tuple[str, float]],\n",
    "    predefined_types: dict[str, int],\n",
    "    skip_if_not_found=False,\n",
    ") -> list[str] | list[tuple[str, float]]:\n",
    "    \"\"\"normalize the type to find the closest most-specific one from the taxonomy. if haven't found\n",
    "    the closest one, return the original type. sorted by their depth and prefer the one appeared in the taxonomy first.\n",
    "    \"\"\"\n",
    "    newtypes = {}\n",
    "    newtype_scores = {}\n",
    "    for item in types:\n",
    "        if isinstance(item, str):\n",
    "            type, score = item, 0.0\n",
    "        else:\n",
    "            type, score = item\n",
    "        ancestors = classes[type].ancestors\n",
    "        foundtypes = [\n",
    "            (pretype, depth)\n",
    "            for pretype, depth in predefined_types.items()\n",
    "            if pretype == type or pretype in ancestors\n",
    "        ]\n",
    "        if len(foundtypes) > 0:\n",
    "            foundtype, depth = max(foundtypes, key=itemgetter(1))\n",
    "            newtypes[foundtype] = max(depth, newtypes.get(foundtype, 0))\n",
    "            newtype_scores[foundtype] = max(score, newtype_scores.get(foundtype, 0))\n",
    "        elif not skip_if_not_found:\n",
    "            newtypes[type] = 100\n",
    "            newtype_scores[type] = score\n",
    "\n",
    "    normed_types = [\n",
    "        item for item, _ in sorted(newtypes.items(), key=lambda x: x[1], reverse=True)\n",
    "    ]\n",
    "    if isinstance(types[0], str):\n",
    "        return normed_types\n",
    "\n",
    "    return [(type, newtype_scores[type]) for type in normed_types]"
   ]
  },
  {
   "cell_type": "markdown",
   "id": "829eba12",
   "metadata": {},
   "source": [
    "### 🪜 Create high-level concepts\n",
    "\n",
    "We manually create high-level concepts by showing in the tree and manually select concepts that are general enough.\n",
    "\n",
    "Candidate concepts can be derived from page types and candidate column types.\n",
    "\n",
    "#### Get candidate concepts from page types"
   ]
  },
  {
   "cell_type": "raw",
   "id": "791bbaba",
   "metadata": {},
   "source": [
    "def render(i):\n",
    "    tbl = tables_metadata[i]\n",
    "    print([str(classes[x]) for x in tbl.page_types])\n",
    "    print([str(classes[x]) for x in normalize_types(tbl.page_types, predefined_types)])\n",
    "\n",
    "\n",
    "from labext.prelude import A\n",
    "\n",
    "A.slider(render, max=len(tables_metadata) - 1)"
   ]
  },
  {
   "cell_type": "code",
   "execution_count": 9,
   "id": "1463cafb-ce64-4ad8-9245-755f0cdc2bde",
   "metadata": {
    "execution": {
     "iopub.execute_input": "2024-01-04T09:33:23.937331Z",
     "iopub.status.busy": "2024-01-04T09:33:23.936930Z",
     "iopub.status.idle": "2024-01-04T09:33:24.357497Z",
     "shell.execute_reply": "2024-01-04T09:33:24.356448Z",
     "shell.execute_reply.started": "2024-01-04T09:33:23.937305Z"
    }
   },
   "outputs": [
    {
     "ename": "NameError",
     "evalue": "name 'tables_metadata' is not defined",
     "output_type": "error",
     "traceback": [
      "\u001b[0;31m---------------------------------------------------------------------------\u001b[0m",
      "\u001b[0;31mNameError\u001b[0m                                 Traceback (most recent call last)",
      "Cell \u001b[0;32mIn[9], line 2\u001b[0m\n\u001b[1;32m      1\u001b[0m type2tbls \u001b[38;5;241m=\u001b[39m defaultdict(\u001b[38;5;28mlist\u001b[39m)\n\u001b[0;32m----> 2\u001b[0m \u001b[38;5;28;01mfor\u001b[39;00m tbl \u001b[38;5;129;01min\u001b[39;00m \u001b[43mtables_metadata\u001b[49m:\n\u001b[1;32m      3\u001b[0m     \u001b[38;5;28;01mif\u001b[39;00m \u001b[38;5;28many\u001b[39m(pagetype \u001b[38;5;129;01min\u001b[39;00m {\u001b[38;5;124m\"\u001b[39m\u001b[38;5;124mQ4167410\u001b[39m\u001b[38;5;124m\"\u001b[39m} \u001b[38;5;28;01mfor\u001b[39;00m pagetype \u001b[38;5;129;01min\u001b[39;00m tbl\u001b[38;5;241m.\u001b[39mpage_types):\n\u001b[1;32m      4\u001b[0m         \u001b[38;5;66;03m# ignore disambiguation page\u001b[39;00m\n\u001b[1;32m      5\u001b[0m         \u001b[38;5;28;01mcontinue\u001b[39;00m\n",
      "\u001b[0;31mNameError\u001b[0m: name 'tables_metadata' is not defined"
     ]
    }
   ],
   "source": [
    "type2tbls = defaultdict(list)\n",
    "for tbl in tables_metadata:\n",
    "    if any(pagetype in {\"Q4167410\"} for pagetype in tbl.page_types):\n",
    "        # ignore disambiguation page\n",
    "        continue\n",
    "    newpagetypes = set()\n",
    "    for pagetype in set(tbl.page_types):\n",
    "        # map current type to the list of predefined type if possible.\n",
    "        # if it cannot be mapped, return the original type, so we can take a look at it manually.\n",
    "        lst = normalize_types([pagetype], predefined_types, skip_if_not_found=True)\n",
    "        if len(lst) == 0 and len(entity_types[pagetype]) > 0:\n",
    "            lst = normalize_types(\n",
    "                entity_types[pagetype], predefined_types, skip_if_not_found=True\n",
    "            )\n",
    "        lst = sorted(lst, key=lambda x: predefined_types[x], reverse=True)\n",
    "        if len(lst) == 0:\n",
    "            newpagetypes.add(pagetype)\n",
    "        else:\n",
    "            newpagetypes.add(lst[0])\n",
    "\n",
    "        # if pagetype in predefined_types or any(\n",
    "        #     pretype in classes[pagetype].ancestors for pretype in predefined_types\n",
    "        # ):\n",
    "        #     for pretype in predefined_types:\n",
    "        #         if pagetype == pretype or pretype in classes[pagetype].ancestors:\n",
    "        #             newpagetype = pretype\n",
    "        #             break\n",
    "        #     else:\n",
    "        #         raise Exception(\"Unreachable\")\n",
    "        #     type2tbls[newpagetype].append(tbl)\n",
    "        # else:\n",
    "        #     if any(\n",
    "        #         instanceof == pretype or pretype in classes[instanceof].ancestors\n",
    "        #         for instanceof in entity_types[pagetype]\n",
    "        #         for pretype in predefined_types\n",
    "        #     ):\n",
    "        #         pretypes = [\n",
    "        #             pretype\n",
    "        #             for instanceof in entity_types[pagetype]\n",
    "        #             for pretype in predefined_types\n",
    "        #             if instanceof == pretype or pretype in classes[instanceof].ancestors\n",
    "        #         ]\n",
    "        #         # Found an example: World Race Walking Team Championships (Q2002757) ['recurring event (Q15275719)', 'sports competition (Q13406554)']\n",
    "        #         # if len(pretypes) != 1 and len(entity_types[pagetype]) == 1:\n",
    "        #         #     print(str(classes[pagetype]), [str(classes[x]) for x in pretypes])\n",
    "        #         #     assert False\n",
    "        #         newpagetype = sorted(pretypes)[0]\n",
    "        #         type2tbls[newpagetype].append(tbl)\n",
    "        #     else:\n",
    "        #         type2tbls[pagetype].append(tbl)\n",
    "\n",
    "    for pagetype in newpagetypes:\n",
    "        type2tbls[pagetype].append(tbl)\n",
    "len(type2tbls)"
   ]
  },
  {
   "cell_type": "code",
   "execution_count": null,
   "id": "a8f89b4c-e311-4a10-bb21-6501b90e6a44",
   "metadata": {
    "execution": {
     "iopub.status.busy": "2024-01-04T09:33:24.358160Z",
     "iopub.status.idle": "2024-01-04T09:33:24.358507Z",
     "shell.execute_reply": "2024-01-04T09:33:24.358396Z",
     "shell.execute_reply.started": "2024-01-04T09:33:24.358386Z"
    },
    "scrolled": true
   },
   "outputs": [],
   "source": [
    "lst = [\n",
    "    {\"type\": str(classes[type]), \"size\": len(tbls)}\n",
    "    for type, tbls in sorted(type2tbls.items(), key=lambda x: len(x[1]), reverse=True)\n",
    "]\n",
    "df = pd.DataFrame(lst)\n",
    "print(len(lst))\n",
    "print(df.head(50)[\"size\"].sum())\n",
    "print(sum(len(type2tbls[type]) for type in predefined_types))\n",
    "df.head(50)"
   ]
  },
  {
   "cell_type": "markdown",
   "id": "9218333e-2ffb-4e72-b26d-d53a0c4ec81d",
   "metadata": {},
   "source": [
    "#### Get candidate concepts from column types"
   ]
  },
  {
   "cell_type": "code",
   "execution_count": null,
   "id": "415c65c0-dd27-447b-8725-2b89e886d07b",
   "metadata": {
    "execution": {
     "iopub.status.busy": "2024-01-04T09:33:24.359380Z",
     "iopub.status.idle": "2024-01-04T09:33:24.359687Z",
     "shell.execute_reply": "2024-01-04T09:33:24.359575Z",
     "shell.execute_reply.started": "2024-01-04T09:33:24.359564Z"
    }
   },
   "outputs": [],
   "source": [
    "unprocess_autolabel_actor = G.create_actor(AutoLabeledDataActor, common_actor_args + [\n",
    "    AutoLabelDataActorArgs(\n",
    "        dataset_dir=AUTOLABEL_DIR,\n",
    "        skip_non_unique_mention=True,\n",
    "        skip_column_with_no_type=True,\n",
    "        filter_method=\"no_filter\",\n",
    "        transform_method=\"no_transform\",\n",
    "        label_method=\"label_v1\",\n",
    "        label_v1=LabelV1Args(\n",
    "            topk=1,\n",
    "            threshold=0.7,\n",
    "            include_similar_score=True,\n",
    "        ),\n",
    "    ),\n",
    "])\n",
    "unprocess_easy_tables = unprocess_autolabel_actor.process_dataset(ALL_EASY_TABLE_DATASET_DIR.name)"
   ]
  },
  {
   "cell_type": "code",
   "execution_count": null,
   "id": "ad66fd22-f89a-4c94-834b-37d7f040585d",
   "metadata": {
    "execution": {
     "iopub.status.busy": "2024-01-04T09:33:24.360828Z",
     "iopub.status.idle": "2024-01-04T09:33:24.361082Z",
     "shell.execute_reply": "2024-01-04T09:33:24.360966Z",
     "shell.execute_reply.started": "2024-01-04T09:33:24.360956Z"
    }
   },
   "outputs": [],
   "source": [
    "type2columns = defaultdict(list)\n",
    "for tbl in unprocess_easy_tables:\n",
    "    for ci, ctypes in zip(tbl.entity_columns, tbl.entity_column_types):\n",
    "        new_types = normalize_types(\n",
    "            [(x.id, x.score) for x in ctypes], predefined_types, skip_if_not_found=True\n",
    "        )\n",
    "\n",
    "        # ignore disambiguation page\n",
    "        new_types = [x for x in new_types if x not in {\"Q4167410\"}]\n",
    "        new_types = sorted(new_types, key=itemgetter(1), reverse=True)\n",
    "\n",
    "        if len(new_types) == 0:\n",
    "            # use the original types -- but we only use the top type\n",
    "            new_types = [x.id for x in ctypes if x.score == ctypes[0].score]\n",
    "        else:\n",
    "            new_types = [x[0] for x in new_types if x[1] == new_types[0][1]]\n",
    "\n",
    "        type2columns[new_types[0]].append(\n",
    "            (\n",
    "                tbl.table.table.table_id,\n",
    "                ci,\n",
    "                tbl.table.table.columns[ci].clean_multiline_name,\n",
    "            )\n",
    "        )\n",
    "\n",
    "len(type2columns)"
   ]
  },
  {
   "cell_type": "markdown",
   "id": "25b992e0-7585-456d-b0cb-f3a064211f05",
   "metadata": {},
   "source": [
    "#### Arrange candidate concepts into trees\n",
    "\n",
    "We are going to figure out the top level classes and merge them into there. the next three cells print out the unprocessed types arrange into trees"
   ]
  },
  {
   "cell_type": "code",
   "execution_count": null,
   "id": "6c6cc704-aa9a-4d94-bcd6-ed69d517c3e5",
   "metadata": {
    "execution": {
     "iopub.status.busy": "2024-01-04T09:33:24.362056Z",
     "iopub.status.idle": "2024-01-04T09:33:24.362290Z",
     "shell.execute_reply": "2024-01-04T09:33:24.362181Z",
     "shell.execute_reply.started": "2024-01-04T09:33:24.362172Z"
    }
   },
   "outputs": [],
   "source": [
    "forest = reorder2tree(\n",
    "    [type for type, tbls in type2tbls.items() if len(tbls) > 10] + [\n",
    "        type for type, cols in type2columns.items() if len(cols) > 10\n",
    "    ],\n",
    "    IndirectDictAccess(classes, lambda x: x.ancestors),\n",
    ")\n",
    "len(forest.trees)"
   ]
  },
  {
   "cell_type": "code",
   "execution_count": null,
   "id": "8ed4e4ca-a11a-4786-9d0f-8a180b7ea8b6",
   "metadata": {
    "execution": {
     "iopub.status.busy": "2024-01-04T09:33:24.363031Z",
     "iopub.status.idle": "2024-01-04T09:33:24.363266Z",
     "shell.execute_reply": "2024-01-04T09:33:24.363160Z",
     "shell.execute_reply.started": "2024-01-04T09:33:24.363151Z"
    },
    "scrolled": true
   },
   "outputs": [],
   "source": [
    "def viz_node(cid: str):\n",
    "    label = f\"{classes[cid]}\"\n",
    "    if is_covered(cid):\n",
    "        return f\"{label} (covered)\"\n",
    "    return label\n",
    "\n",
    "def is_covered(cid: str):\n",
    "    return cid in predefined_types or any(\n",
    "        pretype in classes[cid].ancestors for pretype in predefined_types\n",
    "    )\n",
    "\n",
    "def trim_tree(tree, path):\n",
    "    if is_covered(tree.id):\n",
    "        tree.children = []\n",
    "    tree.children = [c for c in tree.children if not is_covered(c.id)]\n",
    "\n",
    "\n",
    "tr = LeftAligned()\n",
    "for tree in forest.trees:\n",
    "    if is_covered(tree.id):\n",
    "        continue\n",
    "\n",
    "    tree = tree.clone()\n",
    "    tree.preorder(trim_tree)\n",
    "    # if tree.size() == 1:\n",
    "    #     continue\n",
    "\n",
    "    print(\">>>\")\n",
    "    print(tr(tree.to_dict(viz_node)))\n",
    "    print(\"\")"
   ]
  },
  {
   "attachments": {},
   "cell_type": "markdown",
   "id": "b4a3c41f-d42d-4d7f-9b26-51d821c46da1",
   "metadata": {},
   "source": [
    "## 🍣 Create raw dataset of unlabeled tables"
   ]
  },
  {
   "attachments": {},
   "cell_type": "markdown",
   "id": "7b565466-e935-434f-9f2c-70a3b1d6089c",
   "metadata": {
    "jp-MarkdownHeadingCollapsed": true
   },
   "source": [
    "### 🎲 Sample raw tables"
   ]
  },
  {
   "cell_type": "markdown",
   "id": "81665b17-1c0e-4ae2-9aed-75d0b506f3a9",
   "metadata": {
    "editable": true,
    "slideshow": {
     "slide_type": ""
    },
    "tags": []
   },
   "source": [
    "#### 🎚 sampling parameters\n",
    "\n",
    "if you are building a dev-set you need to first build a non-dev set first, then come back and change `build_dev_set` to `True`"
   ]
  },
  {
   "cell_type": "code",
   "execution_count": null,
   "id": "efda8362-760d-47b2-a2e8-12b4377e6aba",
   "metadata": {},
   "outputs": [],
   "source": [
    "build_dev_set = False\n",
    "\n",
    "n_target_tables = 5000\n",
    "n_target_per_category = 30\n",
    "max_rows = 51  # 1 for the header\n",
    "seed = 22\n",
    "\n",
    "output_dir = DATA_DIR / f\"datasets/wtauto-{n_target_tables}-s{n_target_per_category}\""
   ]
  },
  {
   "cell_type": "markdown",
   "id": "e1b44962-8adc-4a01-9dfa-57a9191b0a5e",
   "metadata": {},
   "source": [
    "#### 🏭 sample tables"
   ]
  },
  {
   "cell_type": "code",
   "execution_count": null,
   "id": "1d5890a1-e79c-4330-92a3-1486c528e3a3",
   "metadata": {},
   "outputs": [],
   "source": [
    "output_dir.mkdir(exist_ok=True, parents=True)\n",
    "\n",
    "ignored_page_titles = {ex.table.context.page_title for ex in Datasets().wt250()}\n",
    "\n",
    "if build_dev_set:\n",
    "    for ex in Dataset(output_dir).load():\n",
    "        ignored_page_titles.add(ex.table.context.page_title)\n",
    "\n",
    "    output_dir = output_dir.parent / (output_dir.name + \"-dev\")\n",
    "    output_dir.mkdir(exist_ok=True, parents=True)"
   ]
  },
  {
   "cell_type": "code",
   "execution_count": null,
   "id": "82896244-d198-4311-aba5-897defe476f7",
   "metadata": {
    "scrolled": true
   },
   "outputs": [],
   "source": [
    "random.seed(seed)\n",
    "sampled_tables = set()\n",
    "sampled_table_types = {}  # mapping from the table to the type in which it is sampled from -- reason: for stratified sampling later.\n",
    "while n_target_tables > len(sampled_tables):\n",
    "    print(\"=\" * 20)\n",
    "    for type, tbls in sorted(type2tbls.items(), key=lambda x: len(x[1]), reverse=True):\n",
    "        lst = []\n",
    "        for tbl in tbls:\n",
    "            assert is_wikipedia_url(tbl.id)\n",
    "            title = get_title_from_url(tbl.id)\n",
    "            if tbl.id in sampled_tables or title in ignored_page_titles or tbl.n_rows > max_rows:\n",
    "                continue\n",
    "            lst.append(tbl.id)\n",
    "        lst.sort()\n",
    "        selected_tbls = random.sample(lst, k=min(n_target_per_category, n_target_tables - len(sampled_tables), len(lst)))\n",
    "        print(type, classes[type].label, len(tbls), len(selected_tbls))\n",
    "        sampled_tables.update(selected_tbls)\n",
    "        sampled_table_types.update({tblid: type for tblid in selected_tbls})\n",
    "        if len(sampled_tables) >= n_target_tables:\n",
    "            break\n",
    "sampled_tables = sorted(sampled_tables)"
   ]
  },
  {
   "cell_type": "code",
   "execution_count": null,
   "id": "10e68a7e-50d7-48ba-8662-b286a5334028",
   "metadata": {},
   "outputs": [],
   "source": [
    "if (output_dir / \"metadata.json\").exists():\n",
    "    metadata = orjson.loads((output_dir / \"metadata.json\").read_bytes())\n",
    "    if metadata[\"tables\"] != sampled_tables:\n",
    "        # print(set(metadata[\"tables\"]).difference(sampled_tables))\n",
    "        assert False\n",
    "    print(\"Found existing metadata.json and our sampled tables are the same!\")"
   ]
  },
  {
   "cell_type": "code",
   "execution_count": null,
   "id": "7919758c-cdd6-428c-a362-92cc6bf9e1d4",
   "metadata": {},
   "outputs": [],
   "source": [
    "(output_dir / \"metadata.json\").write_bytes(orjson.dumps({\n",
    "    \"n_target_tables\": n_target_tables,\n",
    "    \"n_target_per_category\": n_target_per_category,\n",
    "    \"seed\": seed,\n",
    "    \"max_rows\": max_rows,\n",
    "    \"tables\": sampled_tables,\n",
    "}, option=orjson.OPT_INDENT_2))"
   ]
  },
  {
   "cell_type": "markdown",
   "id": "8bdcf87c-1ac7-481a-a8fd-5c5448c49e35",
   "metadata": {
    "jp-MarkdownHeadingCollapsed": true
   },
   "source": [
    "### ♾ Get raw predefined typed tables with maximum N rows"
   ]
  },
  {
   "cell_type": "code",
   "execution_count": 57,
   "id": "f3f8b063-b25d-4b5b-9810-787fa03953ea",
   "metadata": {
    "execution": {
     "iopub.execute_input": "2024-01-04T03:28:39.652554Z",
     "iopub.status.busy": "2024-01-04T03:28:39.651982Z",
     "iopub.status.idle": "2024-01-04T03:28:40.719788Z",
     "shell.execute_reply": "2024-01-04T03:28:40.719177Z",
     "shell.execute_reply.started": "2024-01-04T03:28:39.652509Z"
    }
   },
   "outputs": [],
   "source": [
    "ignored_page_titles = {ex.table.context.page_title for ex in Datasets().wt250().load()}\n",
    "\n",
    "selected_tbls = set()\n",
    "for predef_type in predefined_types:\n",
    "    tbls = type2tbls[predef_type]\n",
    "    for tbl in tbls:\n",
    "        assert is_wikipedia_url(tbl.id)\n",
    "        title = get_title_from_url(tbl.id)\n",
    "        if title in ignored_page_titles or tbl.n_rows > MAX_ROWS:\n",
    "            continue\n",
    "        selected_tbls.add(tbl.id)\n",
    "\n",
    "if (LIMIT_EASY_TABLE_DATASET_DIR / \"metadata.json\").exists():\n",
    "    metadata = orjson.loads((LIMIT_EASY_TABLE_DATASET_DIR / \"metadata.json\").read_bytes())\n",
    "    if set(metadata[\"tables\"]) != set(selected_tbls):\n",
    "        # print(list(set(metadata[\"tables\"]).symmetric_difference(selected_tbls))[:5])\n",
    "        assert False\n",
    "    print(\"Found existing metadata.json and our sampled tables are the same!\")\n",
    "else:\n",
    "    LIMIT_EASY_TABLE_DATASET_DIR.mkdir(exist_ok=True, parents=True)\n",
    "    (LIMIT_EASY_TABLE_DATASET_DIR / \"metadata.json\").write_bytes(\n",
    "        orjson.dumps(\n",
    "            {\n",
    "                \"n_target_tables\": len(selected_tbls),\n",
    "                \"predefined_types\": sorted(\n",
    "                    str(classes[cid]) for cid in predefined_types\n",
    "                ),\n",
    "                \"max_rows\": MAX_ROWS,\n",
    "                \"tables\": sorted(selected_tbls),\n",
    "            },\n",
    "            option=orjson.OPT_INDENT_2,\n",
    "        )\n",
    "    )"
   ]
  },
  {
   "cell_type": "code",
   "execution_count": 58,
   "id": "5e8e2923-0ad2-41c0-9f76-f4ef1ebce165",
   "metadata": {
    "execution": {
     "iopub.execute_input": "2024-01-04T03:29:18.450118Z",
     "iopub.status.busy": "2024-01-04T03:29:18.449536Z",
     "iopub.status.idle": "2024-01-04T03:31:09.417780Z",
     "shell.execute_reply": "2024-01-04T03:31:09.382614Z",
     "shell.execute_reply.started": "2024-01-04T03:29:18.450073Z"
    }
   },
   "outputs": [
    {
     "name": "stderr",
     "output_type": "stream",
     "text": [
      "                                                                                \r"
     ]
    }
   ],
   "source": [
    "save_raw_dataset(selected_tbls, LIMIT_EASY_TABLE_DATASET_DIR)"
   ]
  },
  {
   "cell_type": "markdown",
   "id": "f55b3575-e882-4cdb-b3d8-8ace39d31c1d",
   "metadata": {},
   "source": [
    "## 👷 Building a whitelist to filter inconsistent columns"
   ]
  },
  {
   "cell_type": "code",
   "execution_count": 10,
   "id": "9674d38f-f26d-4c9d-9ea3-bdfa526e0dda",
   "metadata": {
    "execution": {
     "iopub.execute_input": "2024-01-04T05:48:06.198539Z",
     "iopub.status.busy": "2024-01-04T05:48:06.197936Z",
     "iopub.status.idle": "2024-01-04T05:48:06.205883Z",
     "shell.execute_reply": "2024-01-04T05:48:06.204601Z",
     "shell.execute_reply.started": "2024-01-04T05:48:06.198492Z"
    }
   },
   "outputs": [],
   "source": [
    "import socket\n",
    "from gramsplus.semanticmodeling.text_parser import TextParser\n",
    "from gramsplus.actors.data_autolabel import (\n",
    "    has_non_unique_mention,\n",
    "    normalize_table,\n",
    "    AutoLabeledTable,\n",
    ")\n",
    "from gramsplus.misc.evaluation.sm_osin_mixin import AuxComplexTableObject"
   ]
  },
  {
   "cell_type": "code",
   "execution_count": 11,
   "id": "14c16418-a3d3-4733-92cf-49354fe8b128",
   "metadata": {
    "execution": {
     "iopub.execute_input": "2024-01-04T05:48:06.208647Z",
     "iopub.status.busy": "2024-01-04T05:48:06.208124Z",
     "iopub.status.idle": "2024-01-04T05:48:06.260591Z",
     "shell.execute_reply": "2024-01-04T05:48:06.259471Z",
     "shell.execute_reply.started": "2024-01-04T05:48:06.208607Z"
    }
   },
   "outputs": [
    {
     "name": "stderr",
     "output_type": "stream",
     "text": [
      "\u001b[32m2024-01-04 05:48:06.252\u001b[0m | \u001b[34m\u001b[1mDEBUG   \u001b[0m | \u001b[36mream.actor_graph\u001b[0m:\u001b[36mcreate_actor\u001b[0m:\u001b[36m264\u001b[0m - \u001b[34m\u001b[1mDetermine the actor to run...\u001b[0m\n",
      "\u001b[32m2024-01-04 05:48:06.254\u001b[0m | \u001b[34m\u001b[1mDEBUG   \u001b[0m | \u001b[36mream.actor_graph\u001b[0m:\u001b[36mcreate_actor\u001b[0m:\u001b[36m266\u001b[0m - \u001b[34m\u001b[1mInitializing argument parser...\u001b[0m\n",
      "\u001b[32m2024-01-04 05:48:06.255\u001b[0m | \u001b[34m\u001b[1mDEBUG   \u001b[0m | \u001b[36mream.actor_graph\u001b[0m:\u001b[36mcreate_actor\u001b[0m:\u001b[36m283\u001b[0m - \u001b[34m\u001b[1mConstructing the actor...\u001b[0m\n"
     ]
    }
   ],
   "source": [
    "unprocess_autolabel_actor = G.create_actor(AutoLabeledDataActor, common_actor_args + [\n",
    "    AutoLabelDataActorArgs(\n",
    "        dataset_dir=AUTOLABEL_DIR,\n",
    "        skip_non_unique_mention=True,\n",
    "        skip_column_with_no_type=True,\n",
    "        filter_method=\"no_filter\",\n",
    "        transform_method=\"no_transform\",\n",
    "        label_method=\"label_v1\",\n",
    "        label_v1=LabelV1Args(\n",
    "            topk=1,\n",
    "            threshold=0.7,\n",
    "            include_similar_score=True,\n",
    "        ),\n",
    "    ),\n",
    "])"
   ]
  },
  {
   "cell_type": "code",
   "execution_count": 12,
   "id": "052b648e-7901-4e71-a975-3eaa10ff443e",
   "metadata": {
    "execution": {
     "iopub.execute_input": "2024-01-04T05:48:06.262375Z",
     "iopub.status.busy": "2024-01-04T05:48:06.261915Z",
     "iopub.status.idle": "2024-01-04T05:48:46.811380Z",
     "shell.execute_reply": "2024-01-04T05:48:46.810542Z",
     "shell.execute_reply.started": "2024-01-04T05:48:06.262338Z"
    }
   },
   "outputs": [
    {
     "name": "stderr",
     "output_type": "stream",
     "text": [
      "\u001b[32m2024-01-04 05:48:06.288\u001b[0m | \u001b[34m\u001b[1mDEBUG   \u001b[0m | \u001b[36mAutoLabeledDataActor\u001b[0m:\u001b[36mream.actors.base\u001b[0m:\u001b[36mget_working_fs\u001b[0m:\u001b[36m93\u001b[0m - \u001b[34m\u001b[1mUsing working directory: /data/binhvu/sm-research/libraries/gramsplus/data/ream/AutoLabeledDataActor/v116/002\u001b[0m\n",
      "\u001b[32m2024-01-04 05:48:46.796\u001b[0m | \u001b[34m\u001b[1mDEBUG   \u001b[0m | \u001b[36mtimer\u001b[0m:\u001b[36mwatch_and_report\u001b[0m:\u001b[36m74\u001b[0m - \u001b[34m\u001b[1mdeserialize: 40.506 seconds\u001b[0m\n"
     ]
    }
   ],
   "source": [
    "autolabeled_tables = unprocess_autolabel_actor.process_dataset(LIMIT_EASY_TABLE_DATASET_DIR.name)"
   ]
  },
  {
   "cell_type": "markdown",
   "id": "8834098b-cb80-4bd1-8ac3-e70245472a4c",
   "metadata": {
    "notebookRunGroups": {
     "groupValue": "1"
    }
   },
   "source": [
    "group column by the type, and gather the name"
   ]
  },
  {
   "cell_type": "code",
   "execution_count": 13,
   "id": "a81f636f-4b2f-40bd-a279-bec1a41b390d",
   "metadata": {
    "execution": {
     "iopub.execute_input": "2024-01-04T05:48:46.813290Z",
     "iopub.status.busy": "2024-01-04T05:48:46.813131Z",
     "iopub.status.idle": "2024-01-04T05:48:46.816903Z",
     "shell.execute_reply": "2024-01-04T05:48:46.816256Z",
     "shell.execute_reply.started": "2024-01-04T05:48:46.813276Z"
    }
   },
   "outputs": [],
   "source": [
    "kgns = get_kgns(\"wikidata\")"
   ]
  },
  {
   "cell_type": "code",
   "execution_count": 14,
   "id": "a8c5bac1-cd46-423e-8136-8e06c0df5f2d",
   "metadata": {
    "execution": {
     "iopub.execute_input": "2024-01-04T05:48:46.817688Z",
     "iopub.status.busy": "2024-01-04T05:48:46.817535Z",
     "iopub.status.idle": "2024-01-04T05:48:48.274256Z",
     "shell.execute_reply": "2024-01-04T05:48:48.273596Z",
     "shell.execute_reply.started": "2024-01-04T05:48:46.817674Z"
    }
   },
   "outputs": [],
   "source": [
    "type2columns = defaultdict(list)\n",
    "for tbl in autolabeled_tables:\n",
    "    for ci, ctypes in zip(tbl.entity_columns, tbl.entity_column_types):\n",
    "        new_types = normalize_types(\n",
    "            [(x.id, x.score) for x in ctypes], predefined_types, skip_if_not_found=True\n",
    "        )\n",
    "        new_types = sorted(new_types, key=itemgetter(1), reverse=True)\n",
    "        new_types = [x[0] for x in new_types if x[1] == new_types[0][1]]\n",
    "        # if len(new_types) > 1:\n",
    "        #     print(\n",
    "        #         tbl.table.table.table_id,\n",
    "        #         tbl.table.table.columns[ci].name,\n",
    "        #         [(str(classes[x[0]]), x[1]) for x in new_types],\n",
    "        #         [(str(classes[x.id]), x.score) for x in ctypes],\n",
    "        #     )\n",
    "        #     otbl = AuxComplexTableObject(entity_metadata, props, kgns).get_table(\n",
    "        #         tbl, defaultdict(list)\n",
    "        #     )\n",
    "        #     assert False\n",
    "\n",
    "        if len(new_types) != 1:\n",
    "            continue\n",
    "\n",
    "        type2columns[new_types[0]].append(\n",
    "            (\n",
    "                tbl.table.table.table_id,\n",
    "                ci,\n",
    "                tbl.table.table.columns[ci].clean_multiline_name,\n",
    "            )\n",
    "        )"
   ]
  },
  {
   "cell_type": "code",
   "execution_count": 15,
   "id": "ad40e90a-7043-4fbf-9b6e-b78fad0a5f7b",
   "metadata": {
    "execution": {
     "iopub.execute_input": "2024-01-04T05:48:48.275081Z",
     "iopub.status.busy": "2024-01-04T05:48:48.274930Z",
     "iopub.status.idle": "2024-01-04T05:48:48.281533Z",
     "shell.execute_reply": "2024-01-04T05:48:48.280854Z",
     "shell.execute_reply.started": "2024-01-04T05:48:48.275067Z"
    }
   },
   "outputs": [
    {
     "data": {
      "text/plain": [
       "66"
      ]
     },
     "execution_count": 15,
     "metadata": {},
     "output_type": "execute_result"
    }
   ],
   "source": [
    "len(type2columns)"
   ]
  },
  {
   "cell_type": "code",
   "execution_count": 16,
   "id": "511ac015",
   "metadata": {
    "execution": {
     "iopub.execute_input": "2024-01-04T05:48:48.282215Z",
     "iopub.status.busy": "2024-01-04T05:48:48.282064Z",
     "iopub.status.idle": "2024-01-04T05:48:48.324416Z",
     "shell.execute_reply": "2024-01-04T05:48:48.323689Z",
     "shell.execute_reply.started": "2024-01-04T05:48:48.282201Z"
    }
   },
   "outputs": [
    {
     "data": {
      "text/plain": [
       "86873"
      ]
     },
     "execution_count": 16,
     "metadata": {},
     "output_type": "execute_result"
    }
   ],
   "source": [
    "sum(len(x) for x in type2columns.values())"
   ]
  },
  {
   "cell_type": "code",
   "execution_count": 17,
   "id": "0331583a",
   "metadata": {
    "execution": {
     "iopub.execute_input": "2024-01-04T05:48:48.325545Z",
     "iopub.status.busy": "2024-01-04T05:48:48.325212Z",
     "iopub.status.idle": "2024-01-04T05:48:48.356139Z",
     "shell.execute_reply": "2024-01-04T05:48:48.355055Z",
     "shell.execute_reply.started": "2024-01-04T05:48:48.325526Z"
    }
   },
   "outputs": [],
   "source": [
    "import rltk.similarity as sim\n",
    "\n",
    "\n",
    "def norm_header(s: str) -> str:\n",
    "    # remove [X] at the end of the string\n",
    "    m = re.match(r\"^([^[]*)\\[\\d+\\]$\", s)\n",
    "    if m is not None:\n",
    "        s = m.group(1)\n",
    "\n",
    "    # return \\nv\\nt\\ne\n",
    "    s = s.replace(r\"\\nv\\nt\\ne\", s)\n",
    "\n",
    "    return s\n",
    "\n",
    "\n",
    "def should_ignore(s: str) -> bool:\n",
    "    conditions = [\n",
    "        # any(s.find(c) != -1 for c in [\"\\\\\", \"/\"])  # this won't work\n",
    "        0 < len(s) < 3,\n",
    "        s.isdigit(),\n",
    "        re.match(r\"\\[\\d+\\]\", s) is not None,\n",
    "    ]\n",
    "    if any(conditions):\n",
    "        return True\n",
    "    return False\n",
    "\n",
    "\n",
    "def string_distance(s1: str, s2: str) -> float:\n",
    "    if len(s1) > len(s2):\n",
    "        return string_distance(s2, s1)\n",
    "\n",
    "    s1 = s1.lower().strip()\n",
    "    s2 = s2.lower().strip()\n",
    "\n",
    "    dis = sim.levenshtein_distance(s1, s2)\n",
    "\n",
    "    s1 = norm_header(s1)\n",
    "    s2 = norm_header(s2)\n",
    "\n",
    "    newdis = sim.levenshtein_distance(s1, s2)\n",
    "    if newdis < dis:\n",
    "        dis = newdis\n",
    "    return newdis"
   ]
  },
  {
   "cell_type": "code",
   "execution_count": 18,
   "id": "014d5dbc",
   "metadata": {
    "execution": {
     "iopub.execute_input": "2024-01-04T05:48:48.360647Z",
     "iopub.status.busy": "2024-01-04T05:48:48.360130Z",
     "iopub.status.idle": "2024-01-04T05:48:48.516478Z",
     "shell.execute_reply": "2024-01-04T05:48:48.515899Z",
     "shell.execute_reply.started": "2024-01-04T05:48:48.360609Z"
    }
   },
   "outputs": [],
   "source": [
    "type2names = defaultdict(set)\n",
    "for type, lst in type2columns.items():\n",
    "    for tbl_id, ci, cname in lst:\n",
    "        type2names[str(classes[str(type)])].add(cname)\n",
    "type_names = list(type2names.items())"
   ]
  },
  {
   "cell_type": "code",
   "execution_count": 19,
   "id": "16f3a898",
   "metadata": {
    "execution": {
     "iopub.execute_input": "2024-01-04T05:48:48.517424Z",
     "iopub.status.busy": "2024-01-04T05:48:48.517236Z",
     "iopub.status.idle": "2024-01-04T05:48:48.527908Z",
     "shell.execute_reply": "2024-01-04T05:48:48.527225Z",
     "shell.execute_reply.started": "2024-01-04T05:48:48.517407Z"
    }
   },
   "outputs": [
    {
     "data": {
      "text/plain": [
       "2262"
      ]
     },
     "execution_count": 19,
     "metadata": {},
     "output_type": "execute_result"
    }
   ],
   "source": [
    "name2types = defaultdict(set)\n",
    "for type, names in type2names.items():\n",
    "    for name in names:\n",
    "        if should_ignore(name):\n",
    "            # print(name)\n",
    "            continue\n",
    "        name2types[name].add(type)\n",
    "len(name2types)"
   ]
  },
  {
   "cell_type": "markdown",
   "id": "e2bf0d83",
   "metadata": {},
   "source": [
    "define a string similarity for clustering the column names"
   ]
  },
  {
   "cell_type": "code",
   "execution_count": 20,
   "id": "e9e057bd",
   "metadata": {
    "execution": {
     "iopub.execute_input": "2024-01-04T05:48:48.528787Z",
     "iopub.status.busy": "2024-01-04T05:48:48.528612Z",
     "iopub.status.idle": "2024-01-04T05:49:06.505835Z",
     "shell.execute_reply": "2024-01-04T05:49:06.504391Z",
     "shell.execute_reply.started": "2024-01-04T05:48:48.528772Z"
    }
   },
   "outputs": [
    {
     "name": "stderr",
     "output_type": "stream",
     "text": [
      "\u001b[32m2024-01-04 05:48:48.932\u001b[0m | \u001b[1mINFO    \u001b[0m | \u001b[36msm.misc.ray_helper\u001b[0m:\u001b[36mray_init\u001b[0m:\u001b[36m35\u001b[0m - \u001b[1mInitialize ray with args: {'log_to_driver': False}\u001b[0m\n",
      "2024-01-04 05:48:48,980\tINFO worker.py:1540 -- Connecting to existing Ray cluster at address: 128.9.35.38:26379...\n",
      "2024-01-04 05:48:48,992\tINFO worker.py:1715 -- Connected to Ray cluster. View the dashboard at \u001b[1m\u001b[32mhttp://128.9.35.38:28265 \u001b[39m\u001b[22m\n"
     ]
    },
    {
     "data": {
      "application/vnd.jupyter.widget-view+json": {
       "model_id": "9bb3bd1fb3d742638061ef056454dcdf",
       "version_major": 2,
       "version_minor": 0
      },
      "text/plain": [
       "compute distance:   0%|          | 0/512 [00:00<?, ?it/s]"
      ]
     },
     "metadata": {},
     "output_type": "display_data"
    }
   ],
   "source": [
    "def pp_string_distance(args: list[tuple]) -> list[tuple]:\n",
    "    return [(i, j, string_distance(a, b)) for i, j, a, b in args]\n",
    "\n",
    "\n",
    "names = list(name2types.keys())\n",
    "rayargs = M.batch(\n",
    "    5000,\n",
    "    [\n",
    "        (i, j, names[i], names[j])\n",
    "        for i in range(len(names))\n",
    "        for j in range(i + 1, len(names))\n",
    "    ],\n",
    "    return_tuple=True,\n",
    ")\n",
    "rayout = ray_map(\n",
    "    pp_string_distance,\n",
    "    rayargs,\n",
    "    verbose=True,\n",
    "    desc=\"compute distance\",\n",
    "    is_func_remote=False,\n",
    "    auto_shutdown=True,\n",
    ")\n",
    "\n",
    "flatten_rayout = M.flatten_list(rayout)\n",
    "rows = [x[0] for x in flatten_rayout]\n",
    "cols = [x[1] for x in flatten_rayout]\n",
    "dis = [x[2] for x in flatten_rayout]\n",
    "\n",
    "dis_matrix = np.zeros((len(names), len(names)), dtype=np.float32)\n",
    "dis_matrix[rows, cols] = dis\n",
    "dis_matrix[cols, rows] = dis"
   ]
  },
  {
   "cell_type": "code",
   "execution_count": 21,
   "id": "20203ba0",
   "metadata": {
    "execution": {
     "iopub.execute_input": "2024-01-04T05:49:06.507075Z",
     "iopub.status.busy": "2024-01-04T05:49:06.506887Z",
     "iopub.status.idle": "2024-01-04T05:49:07.024026Z",
     "shell.execute_reply": "2024-01-04T05:49:07.023082Z",
     "shell.execute_reply.started": "2024-01-04T05:49:06.507060Z"
    }
   },
   "outputs": [],
   "source": [
    "from sklearn.cluster import DBSCAN\n",
    "\n",
    "clusters = DBSCAN(eps=1, min_samples=1, metric=\"precomputed\").fit(dis_matrix)"
   ]
  },
  {
   "cell_type": "code",
   "execution_count": 22,
   "id": "54b3c31a",
   "metadata": {
    "execution": {
     "iopub.execute_input": "2024-01-04T05:49:07.026120Z",
     "iopub.status.busy": "2024-01-04T05:49:07.025327Z",
     "iopub.status.idle": "2024-01-04T05:49:07.033116Z",
     "shell.execute_reply": "2024-01-04T05:49:07.032293Z",
     "shell.execute_reply.started": "2024-01-04T05:49:07.026103Z"
    }
   },
   "outputs": [],
   "source": [
    "name2cluster = dict(zip(names, clusters.labels_))\n",
    "cluster2names = M.exchange_keyvalue(name2cluster)\n",
    "# pd.DataFrame(list(name2cluster.items()), columns=[\"name\", \"cluster\"])"
   ]
  },
  {
   "cell_type": "raw",
   "id": "e3eb05a8",
   "metadata": {},
   "source": [
    "cluster2names"
   ]
  },
  {
   "cell_type": "code",
   "execution_count": 23,
   "id": "3e1c28dc",
   "metadata": {
    "execution": {
     "iopub.execute_input": "2024-01-04T05:49:07.034223Z",
     "iopub.status.busy": "2024-01-04T05:49:07.033948Z",
     "iopub.status.idle": "2024-01-04T05:49:07.066159Z",
     "shell.execute_reply": "2024-01-04T05:49:07.065302Z",
     "shell.execute_reply.started": "2024-01-04T05:49:07.034208Z"
    }
   },
   "outputs": [],
   "source": [
    "cluster2types = defaultdict(set)\n",
    "for name, types in name2types.items():\n",
    "    cluster2types[name2cluster[name]].update(types)"
   ]
  },
  {
   "cell_type": "code",
   "execution_count": 24,
   "id": "fdea9743",
   "metadata": {
    "execution": {
     "iopub.execute_input": "2024-01-04T05:49:07.067378Z",
     "iopub.status.busy": "2024-01-04T05:49:07.067075Z",
     "iopub.status.idle": "2024-01-04T05:49:07.101057Z",
     "shell.execute_reply": "2024-01-04T05:49:07.099818Z",
     "shell.execute_reply.started": "2024-01-04T05:49:07.067360Z"
    }
   },
   "outputs": [
    {
     "name": "stdout",
     "output_type": "stream",
     "text": [
      "Ref(s)\n",
      "Ref(s).\n"
     ]
    }
   ],
   "source": [
    "print(\"\\n\".join(cluster2names[name2cluster[\"Ref(s)\"]]))"
   ]
  },
  {
   "cell_type": "code",
   "execution_count": 25,
   "id": "05c90d06",
   "metadata": {
    "execution": {
     "iopub.execute_input": "2024-01-04T05:49:07.103226Z",
     "iopub.status.busy": "2024-01-04T05:49:07.102659Z",
     "iopub.status.idle": "2024-01-04T05:49:07.174990Z",
     "shell.execute_reply": "2024-01-04T05:49:07.173943Z",
     "shell.execute_reply.started": "2024-01-04T05:49:07.103184Z"
    },
    "scrolled": true
   },
   "outputs": [
    {
     "data": {
      "text/html": [
       "<div>\n",
       "<style scoped>\n",
       "    .dataframe tbody tr th:only-of-type {\n",
       "        vertical-align: middle;\n",
       "    }\n",
       "\n",
       "    .dataframe tbody tr th {\n",
       "        vertical-align: top;\n",
       "    }\n",
       "\n",
       "    .dataframe thead th {\n",
       "        text-align: right;\n",
       "    }\n",
       "</style>\n",
       "<table border=\"1\" class=\"dataframe\">\n",
       "  <thead>\n",
       "    <tr style=\"text-align: right;\">\n",
       "      <th></th>\n",
       "      <th>name</th>\n",
       "      <th>n_types</th>\n",
       "      <th>n_cluster_type</th>\n",
       "      <th>cluster</th>\n",
       "    </tr>\n",
       "  </thead>\n",
       "  <tbody>\n",
       "    <tr>\n",
       "      <th>606</th>\n",
       "      <td>Name</td>\n",
       "      <td>30</td>\n",
       "      <td>31</td>\n",
       "      <td>[Name[9], Name[1], Name[32], Name[4], Name:, N...</td>\n",
       "    </tr>\n",
       "    <tr>\n",
       "      <th>255</th>\n",
       "      <td>Ref.</td>\n",
       "      <td>28</td>\n",
       "      <td>33</td>\n",
       "      <td>[Ref., Ref, Refs, ref, Refs., ref., Ref[37], R...</td>\n",
       "    </tr>\n",
       "    <tr>\n",
       "      <th>257</th>\n",
       "      <td>Source</td>\n",
       "      <td>24</td>\n",
       "      <td>24</td>\n",
       "      <td>[Source, Source[2], source, Source[5], Sources]</td>\n",
       "    </tr>\n",
       "    <tr>\n",
       "      <th>336</th>\n",
       "      <td>Ref</td>\n",
       "      <td>24</td>\n",
       "      <td>33</td>\n",
       "      <td>[Ref., Ref, Refs, ref, Refs., ref., Ref[37], R...</td>\n",
       "    </tr>\n",
       "    <tr>\n",
       "      <th>439</th>\n",
       "      <td>Reference</td>\n",
       "      <td>18</td>\n",
       "      <td>20</td>\n",
       "      <td>[References, Reference, reference, Reference [1]]</td>\n",
       "    </tr>\n",
       "    <tr>\n",
       "      <th>7</th>\n",
       "      <td></td>\n",
       "      <td>17</td>\n",
       "      <td>17</td>\n",
       "      <td>[]</td>\n",
       "    </tr>\n",
       "    <tr>\n",
       "      <th>1267</th>\n",
       "      <td>Location</td>\n",
       "      <td>13</td>\n",
       "      <td>13</td>\n",
       "      <td>[Location]</td>\n",
       "    </tr>\n",
       "    <tr>\n",
       "      <th>678</th>\n",
       "      <td>Notes</td>\n",
       "      <td>12</td>\n",
       "      <td>15</td>\n",
       "      <td>[Note, Notes, Votes, North, Norte, notes]</td>\n",
       "    </tr>\n",
       "    <tr>\n",
       "      <th>331</th>\n",
       "      <td>Title</td>\n",
       "      <td>12</td>\n",
       "      <td>13</td>\n",
       "      <td>[Title, Title:, Title\\n[19], Title[107], Title...</td>\n",
       "    </tr>\n",
       "    <tr>\n",
       "      <th>226</th>\n",
       "      <td>Team</td>\n",
       "      <td>11</td>\n",
       "      <td>11</td>\n",
       "      <td>[Team, Term, Team[4], Team[1], Team[2], Team[8...</td>\n",
       "    </tr>\n",
       "    <tr>\n",
       "      <th>1066</th>\n",
       "      <td>Region</td>\n",
       "      <td>10</td>\n",
       "      <td>10</td>\n",
       "      <td>[Region]</td>\n",
       "    </tr>\n",
       "    <tr>\n",
       "      <th>1237</th>\n",
       "      <td>City</td>\n",
       "      <td>10</td>\n",
       "      <td>10</td>\n",
       "      <td>[City, city, City[106]]</td>\n",
       "    </tr>\n",
       "    <tr>\n",
       "      <th>381</th>\n",
       "      <td>Ref(s)</td>\n",
       "      <td>9</td>\n",
       "      <td>10</td>\n",
       "      <td>[Ref(s), Ref(s).]</td>\n",
       "    </tr>\n",
       "    <tr>\n",
       "      <th>843</th>\n",
       "      <td>Year</td>\n",
       "      <td>9</td>\n",
       "      <td>9</td>\n",
       "      <td>[Years, Year]</td>\n",
       "    </tr>\n",
       "    <tr>\n",
       "      <th>842</th>\n",
       "      <td>State</td>\n",
       "      <td>9</td>\n",
       "      <td>11</td>\n",
       "      <td>[Statue, State, State[3], State[1], States, St...</td>\n",
       "    </tr>\n",
       "    <tr>\n",
       "      <th>825</th>\n",
       "      <td>Venue</td>\n",
       "      <td>9</td>\n",
       "      <td>10</td>\n",
       "      <td>[Venue, Venues]</td>\n",
       "    </tr>\n",
       "    <tr>\n",
       "      <th>80</th>\n",
       "      <td>References</td>\n",
       "      <td>8</td>\n",
       "      <td>20</td>\n",
       "      <td>[References, Reference, reference, Reference [1]]</td>\n",
       "    </tr>\n",
       "    <tr>\n",
       "      <th>798</th>\n",
       "      <td>Event</td>\n",
       "      <td>8</td>\n",
       "      <td>8</td>\n",
       "      <td>[Event, Event[2], Events]</td>\n",
       "    </tr>\n",
       "    <tr>\n",
       "      <th>194</th>\n",
       "      <td>Winner</td>\n",
       "      <td>7</td>\n",
       "      <td>8</td>\n",
       "      <td>[Winner, Winners, Winner[140]]</td>\n",
       "    </tr>\n",
       "    <tr>\n",
       "      <th>721</th>\n",
       "      <td>Country</td>\n",
       "      <td>7</td>\n",
       "      <td>10</td>\n",
       "      <td>[Country, County, COUNTRY, Country [2], Countr...</td>\n",
       "    </tr>\n",
       "    <tr>\n",
       "      <th>716</th>\n",
       "      <td>From</td>\n",
       "      <td>7</td>\n",
       "      <td>7</td>\n",
       "      <td>[From, from]</td>\n",
       "    </tr>\n",
       "    <tr>\n",
       "      <th>447</th>\n",
       "      <td>Opponent</td>\n",
       "      <td>7</td>\n",
       "      <td>7</td>\n",
       "      <td>[Opponent, OPPONENT, Opponents]</td>\n",
       "    </tr>\n",
       "    <tr>\n",
       "      <th>1153</th>\n",
       "      <td>Institution</td>\n",
       "      <td>6</td>\n",
       "      <td>6</td>\n",
       "      <td>[Institution]</td>\n",
       "    </tr>\n",
       "    <tr>\n",
       "      <th>1097</th>\n",
       "      <td>Province</td>\n",
       "      <td>6</td>\n",
       "      <td>6</td>\n",
       "      <td>[Province, Province[1], Province[4], Provinces]</td>\n",
       "    </tr>\n",
       "    <tr>\n",
       "      <th>813</th>\n",
       "      <td>Season</td>\n",
       "      <td>6</td>\n",
       "      <td>6</td>\n",
       "      <td>[Season[99], Season]</td>\n",
       "    </tr>\n",
       "    <tr>\n",
       "      <th>344</th>\n",
       "      <td>Note</td>\n",
       "      <td>6</td>\n",
       "      <td>15</td>\n",
       "      <td>[Note, Notes, Votes, North, Norte, notes]</td>\n",
       "    </tr>\n",
       "    <tr>\n",
       "      <th>615</th>\n",
       "      <td>School</td>\n",
       "      <td>6</td>\n",
       "      <td>6</td>\n",
       "      <td>[School, School[2], School[1], School[13]]</td>\n",
       "    </tr>\n",
       "    <tr>\n",
       "      <th>1241</th>\n",
       "      <td>Station</td>\n",
       "      <td>6</td>\n",
       "      <td>6</td>\n",
       "      <td>[Station]</td>\n",
       "    </tr>\n",
       "    <tr>\n",
       "      <th>1186</th>\n",
       "      <td>County</td>\n",
       "      <td>6</td>\n",
       "      <td>10</td>\n",
       "      <td>[Country, County, COUNTRY, Country [2], Countr...</td>\n",
       "    </tr>\n",
       "    <tr>\n",
       "      <th>394</th>\n",
       "      <td>Nation</td>\n",
       "      <td>6</td>\n",
       "      <td>6</td>\n",
       "      <td>[Nation, Nations, Natiom]</td>\n",
       "    </tr>\n",
       "    <tr>\n",
       "      <th>1232</th>\n",
       "      <td>Hometown</td>\n",
       "      <td>6</td>\n",
       "      <td>7</td>\n",
       "      <td>[Hometown, Home Town, Home town]</td>\n",
       "    </tr>\n",
       "    <tr>\n",
       "      <th>846</th>\n",
       "      <td>Division</td>\n",
       "      <td>5</td>\n",
       "      <td>5</td>\n",
       "      <td>[Division]</td>\n",
       "    </tr>\n",
       "    <tr>\n",
       "      <th>679</th>\n",
       "      <td>Refs</td>\n",
       "      <td>5</td>\n",
       "      <td>33</td>\n",
       "      <td>[Ref., Ref, Refs, ref, Refs., ref., Ref[37], R...</td>\n",
       "    </tr>\n",
       "    <tr>\n",
       "      <th>708</th>\n",
       "      <td>Club</td>\n",
       "      <td>5</td>\n",
       "      <td>5</td>\n",
       "      <td>[Club, Club[7], Clubs, Club[3], club, Club1, C...</td>\n",
       "    </tr>\n",
       "    <tr>\n",
       "      <th>1300</th>\n",
       "      <td>Place</td>\n",
       "      <td>5</td>\n",
       "      <td>6</td>\n",
       "      <td>[Plate, Place]</td>\n",
       "    </tr>\n",
       "    <tr>\n",
       "      <th>720</th>\n",
       "      <td>Nationality</td>\n",
       "      <td>5</td>\n",
       "      <td>5</td>\n",
       "      <td>[Nationality, Nationality[1], Nationality[48],...</td>\n",
       "    </tr>\n",
       "    <tr>\n",
       "      <th>752</th>\n",
       "      <td>Show</td>\n",
       "      <td>5</td>\n",
       "      <td>5</td>\n",
       "      <td>[Show, Shows]</td>\n",
       "    </tr>\n",
       "    <tr>\n",
       "      <th>340</th>\n",
       "      <td>Champion</td>\n",
       "      <td>5</td>\n",
       "      <td>5</td>\n",
       "      <td>[Champion, Champions, Champions[54], Champions...</td>\n",
       "    </tr>\n",
       "    <tr>\n",
       "      <th>862</th>\n",
       "      <td>Series</td>\n",
       "      <td>5</td>\n",
       "      <td>5</td>\n",
       "      <td>[Series]</td>\n",
       "    </tr>\n",
       "    <tr>\n",
       "      <th>1259</th>\n",
       "      <td>Origin</td>\n",
       "      <td>5</td>\n",
       "      <td>5</td>\n",
       "      <td>[Origin]</td>\n",
       "    </tr>\n",
       "    <tr>\n",
       "      <th>855</th>\n",
       "      <td>Award</td>\n",
       "      <td>4</td>\n",
       "      <td>5</td>\n",
       "      <td>[Award, Ward, Awards]</td>\n",
       "    </tr>\n",
       "    <tr>\n",
       "      <th>856</th>\n",
       "      <td>Tournament</td>\n",
       "      <td>4</td>\n",
       "      <td>4</td>\n",
       "      <td>[Tournaments, Tournament]</td>\n",
       "    </tr>\n",
       "    <tr>\n",
       "      <th>1354</th>\n",
       "      <td>Production</td>\n",
       "      <td>4</td>\n",
       "      <td>4</td>\n",
       "      <td>[Production]</td>\n",
       "    </tr>\n",
       "    <tr>\n",
       "      <th>761</th>\n",
       "      <td>Category</td>\n",
       "      <td>4</td>\n",
       "      <td>4</td>\n",
       "      <td>[Category]</td>\n",
       "    </tr>\n",
       "    <tr>\n",
       "      <th>1782</th>\n",
       "      <td>Channel</td>\n",
       "      <td>4</td>\n",
       "      <td>4</td>\n",
       "      <td>[Channel]</td>\n",
       "    </tr>\n",
       "    <tr>\n",
       "      <th>880</th>\n",
       "      <td>Competition</td>\n",
       "      <td>4</td>\n",
       "      <td>4</td>\n",
       "      <td>[Competition]</td>\n",
       "    </tr>\n",
       "    <tr>\n",
       "      <th>833</th>\n",
       "      <td>University</td>\n",
       "      <td>4</td>\n",
       "      <td>4</td>\n",
       "      <td>[University]</td>\n",
       "    </tr>\n",
       "    <tr>\n",
       "      <th>66</th>\n",
       "      <td>Film</td>\n",
       "      <td>4</td>\n",
       "      <td>7</td>\n",
       "      <td>[Film, For, Film![5], film, Films, Firm, Form]</td>\n",
       "    </tr>\n",
       "    <tr>\n",
       "      <th>1641</th>\n",
       "      <td>Network</td>\n",
       "      <td>4</td>\n",
       "      <td>4</td>\n",
       "      <td>[Network]</td>\n",
       "    </tr>\n",
       "    <tr>\n",
       "      <th>2065</th>\n",
       "      <td>English name</td>\n",
       "      <td>4</td>\n",
       "      <td>5</td>\n",
       "      <td>[English Name, English name]</td>\n",
       "    </tr>\n",
       "  </tbody>\n",
       "</table>\n",
       "</div>"
      ],
      "text/plain": [
       "              name  n_types  n_cluster_type  \\\n",
       "606           Name       30              31   \n",
       "255           Ref.       28              33   \n",
       "257         Source       24              24   \n",
       "336            Ref       24              33   \n",
       "439      Reference       18              20   \n",
       "7                        17              17   \n",
       "1267      Location       13              13   \n",
       "678          Notes       12              15   \n",
       "331          Title       12              13   \n",
       "226           Team       11              11   \n",
       "1066        Region       10              10   \n",
       "1237          City       10              10   \n",
       "381         Ref(s)        9              10   \n",
       "843           Year        9               9   \n",
       "842          State        9              11   \n",
       "825          Venue        9              10   \n",
       "80      References        8              20   \n",
       "798          Event        8               8   \n",
       "194         Winner        7               8   \n",
       "721        Country        7              10   \n",
       "716           From        7               7   \n",
       "447       Opponent        7               7   \n",
       "1153   Institution        6               6   \n",
       "1097      Province        6               6   \n",
       "813         Season        6               6   \n",
       "344           Note        6              15   \n",
       "615         School        6               6   \n",
       "1241       Station        6               6   \n",
       "1186        County        6              10   \n",
       "394         Nation        6               6   \n",
       "1232      Hometown        6               7   \n",
       "846       Division        5               5   \n",
       "679           Refs        5              33   \n",
       "708           Club        5               5   \n",
       "1300         Place        5               6   \n",
       "720    Nationality        5               5   \n",
       "752           Show        5               5   \n",
       "340       Champion        5               5   \n",
       "862         Series        5               5   \n",
       "1259        Origin        5               5   \n",
       "855          Award        4               5   \n",
       "856     Tournament        4               4   \n",
       "1354    Production        4               4   \n",
       "761       Category        4               4   \n",
       "1782       Channel        4               4   \n",
       "880    Competition        4               4   \n",
       "833     University        4               4   \n",
       "66            Film        4               7   \n",
       "1641       Network        4               4   \n",
       "2065  English name        4               5   \n",
       "\n",
       "                                                cluster  \n",
       "606   [Name[9], Name[1], Name[32], Name[4], Name:, N...  \n",
       "255   [Ref., Ref, Refs, ref, Refs., ref., Ref[37], R...  \n",
       "257     [Source, Source[2], source, Source[5], Sources]  \n",
       "336   [Ref., Ref, Refs, ref, Refs., ref., Ref[37], R...  \n",
       "439   [References, Reference, reference, Reference [1]]  \n",
       "7                                                    []  \n",
       "1267                                         [Location]  \n",
       "678           [Note, Notes, Votes, North, Norte, notes]  \n",
       "331   [Title, Title:, Title\\n[19], Title[107], Title...  \n",
       "226   [Team, Term, Team[4], Team[1], Team[2], Team[8...  \n",
       "1066                                           [Region]  \n",
       "1237                            [City, city, City[106]]  \n",
       "381                                   [Ref(s), Ref(s).]  \n",
       "843                                       [Years, Year]  \n",
       "842   [Statue, State, State[3], State[1], States, St...  \n",
       "825                                     [Venue, Venues]  \n",
       "80    [References, Reference, reference, Reference [1]]  \n",
       "798                           [Event, Event[2], Events]  \n",
       "194                      [Winner, Winners, Winner[140]]  \n",
       "721   [Country, County, COUNTRY, Country [2], Countr...  \n",
       "716                                        [From, from]  \n",
       "447                     [Opponent, OPPONENT, Opponents]  \n",
       "1153                                      [Institution]  \n",
       "1097    [Province, Province[1], Province[4], Provinces]  \n",
       "813                                [Season[99], Season]  \n",
       "344           [Note, Notes, Votes, North, Norte, notes]  \n",
       "615          [School, School[2], School[1], School[13]]  \n",
       "1241                                          [Station]  \n",
       "1186  [Country, County, COUNTRY, Country [2], Countr...  \n",
       "394                           [Nation, Nations, Natiom]  \n",
       "1232                   [Hometown, Home Town, Home town]  \n",
       "846                                          [Division]  \n",
       "679   [Ref., Ref, Refs, ref, Refs., ref., Ref[37], R...  \n",
       "708   [Club, Club[7], Clubs, Club[3], club, Club1, C...  \n",
       "1300                                     [Plate, Place]  \n",
       "720   [Nationality, Nationality[1], Nationality[48],...  \n",
       "752                                       [Show, Shows]  \n",
       "340   [Champion, Champions, Champions[54], Champions...  \n",
       "862                                            [Series]  \n",
       "1259                                           [Origin]  \n",
       "855                               [Award, Ward, Awards]  \n",
       "856                           [Tournaments, Tournament]  \n",
       "1354                                       [Production]  \n",
       "761                                          [Category]  \n",
       "1782                                          [Channel]  \n",
       "880                                       [Competition]  \n",
       "833                                        [University]  \n",
       "66       [Film, For, Film![5], film, Films, Firm, Form]  \n",
       "1641                                          [Network]  \n",
       "2065                       [English Name, English name]  "
      ]
     },
     "execution_count": 25,
     "metadata": {},
     "output_type": "execute_result"
    }
   ],
   "source": [
    "pd.DataFrame(\n",
    "    [\n",
    "        (\n",
    "            name,\n",
    "            len(types),\n",
    "            len(cluster2types[name2cluster[name]]),\n",
    "            cluster2names[name2cluster[name]],\n",
    "        )\n",
    "        for name, types in name2types.items()\n",
    "    ],\n",
    "    columns=[\"name\", \"n_types\", \"n_cluster_type\", \"cluster\"],\n",
    ").sort_values(\n",
    "    [\n",
    "        # \"n_cluster_type\",\n",
    "        \"n_types\",\n",
    "    ],\n",
    "    ascending=False,\n",
    ").head(\n",
    "    50\n",
    ")"
   ]
  },
  {
   "cell_type": "code",
   "execution_count": 26,
   "id": "19b9fe85",
   "metadata": {
    "execution": {
     "iopub.execute_input": "2024-01-04T05:49:07.176642Z",
     "iopub.status.busy": "2024-01-04T05:49:07.176226Z",
     "iopub.status.idle": "2024-01-04T05:49:07.183215Z",
     "shell.execute_reply": "2024-01-04T05:49:07.182256Z",
     "shell.execute_reply.started": "2024-01-04T05:49:07.176614Z"
    }
   },
   "outputs": [
    {
     "data": {
      "text/plain": [
       "['Name[9]',\n",
       " 'Name[1]',\n",
       " 'Name[32]',\n",
       " 'Name[4]',\n",
       " 'Name:',\n",
       " 'Name[107]',\n",
       " 'Name [2]',\n",
       " 'Name [3]',\n",
       " 'NAME',\n",
       " 'Name[65]',\n",
       " 'Names',\n",
       " 'name',\n",
       " 'Name',\n",
       " 'Games',\n",
       " 'Game',\n",
       " 'Name [5]',\n",
       " 'Name [6]',\n",
       " 'Name [16]',\n",
       " 'Name [10]',\n",
       " 'Name [14]',\n",
       " 'Name[3]']"
      ]
     },
     "execution_count": 26,
     "metadata": {},
     "output_type": "execute_result"
    }
   ],
   "source": [
    "cluster2names[name2cluster[\"name\"]]"
   ]
  },
  {
   "cell_type": "code",
   "execution_count": 27,
   "id": "3c7d3190",
   "metadata": {
    "execution": {
     "iopub.execute_input": "2024-01-04T05:49:07.184776Z",
     "iopub.status.busy": "2024-01-04T05:49:07.184412Z",
     "iopub.status.idle": "2024-01-04T05:49:07.212366Z",
     "shell.execute_reply": "2024-01-04T05:49:07.211340Z",
     "shell.execute_reply.started": "2024-01-04T05:49:07.184748Z"
    }
   },
   "outputs": [],
   "source": [
    "blacklist_names = serde.textline.deser(\n",
    "    AUTOLABEL_DIR / \"blacklist.csv\", trim=True\n",
    ")\n",
    "# fmt: off\n",
    "allow_crosstype_names = [\n",
    "    \"Name[32]\", \"Name:\", \"Name [7]\", \"NAME\", \"Name[65]\", \"Name[2]\",\n",
    "    \"Name\", \"Name [2]\", \"name\", \"Name[1]\", \"Name [6]\", \"Names\", \"Name[9]\",\n",
    "    \"Name [3]\", \"Name[107]\", \"Name[3]\", \"Name [10]\", \"Name [5]\", \"Name [14]\",\n",
    "    \"Name [16]\", \"Name[4]\", \"Name[21]\", \"\",\n",
    "]\n",
    "# fmt: on"
   ]
  },
  {
   "cell_type": "code",
   "execution_count": 28,
   "id": "2bbb946e",
   "metadata": {
    "execution": {
     "iopub.execute_input": "2024-01-04T05:49:07.214697Z",
     "iopub.status.busy": "2024-01-04T05:49:07.213998Z",
     "iopub.status.idle": "2024-01-04T05:49:07.292544Z",
     "shell.execute_reply": "2024-01-04T05:49:07.291612Z",
     "shell.execute_reply.started": "2024-01-04T05:49:07.214657Z"
    },
    "scrolled": true
   },
   "outputs": [
    {
     "data": {
      "application/vnd.jupyter.widget-view+json": {
       "model_id": "945fe54794524ccabfebbdc6421fefe4",
       "version_major": 2,
       "version_minor": 0
      },
      "text/plain": [
       "HBox(children=(Button(description='Previous', icon='arrow-circle-left', style=ButtonStyle()), Button(descripti…"
      ]
     },
     "metadata": {},
     "output_type": "display_data"
    },
    {
     "data": {
      "application/vnd.jupyter.widget-view+json": {
       "model_id": "664edb665b1947ccb48f00ae9c724661",
       "version_major": 2,
       "version_minor": 0
      },
      "text/plain": [
       "Output()"
      ]
     },
     "metadata": {},
     "output_type": "display_data"
    }
   ],
   "source": [
    "def render(i):\n",
    "    type, names = type_names[i]\n",
    "    print(type)\n",
    "    print(\"===\")\n",
    "    print(\n",
    "        \"\\n\".join(\n",
    "            [\n",
    "                f\"'{name}'\"\n",
    "                for name in names\n",
    "                if not should_ignore(name) and name not in blacklist_names\n",
    "            ]\n",
    "        )\n",
    "    )\n",
    "\n",
    "\n",
    "from labext.prelude import A\n",
    "\n",
    "A.slider(render, max=len(type_names) - 1)"
   ]
  },
  {
   "cell_type": "code",
   "execution_count": 29,
   "id": "218b5aa9",
   "metadata": {
    "execution": {
     "iopub.execute_input": "2024-01-04T05:49:07.293878Z",
     "iopub.status.busy": "2024-01-04T05:49:07.293619Z",
     "iopub.status.idle": "2024-01-04T05:49:07.300428Z",
     "shell.execute_reply": "2024-01-04T05:49:07.299392Z",
     "shell.execute_reply.started": "2024-01-04T05:49:07.293855Z"
    }
   },
   "outputs": [],
   "source": [
    "def ream_get_text_embedding(model: str):\n",
    "    fspath = ReamWorkspace.get_instance().fs.get(\n",
    "        f\"embeddings/{model}\", diskpath=f\"embeddings/{model}\", key={\"model\": model}\n",
    "    )\n",
    "    if fspath.exists():\n",
    "        realdir = fspath.get()\n",
    "    else:\n",
    "        with fspath.reserve_and_track() as realdir:\n",
    "            ...\n",
    "    return TextEmbedding.from_disk(realdir, model)"
   ]
  },
  {
   "cell_type": "code",
   "execution_count": 30,
   "id": "1be012f0",
   "metadata": {
    "execution": {
     "iopub.execute_input": "2024-01-04T05:49:07.302232Z",
     "iopub.status.busy": "2024-01-04T05:49:07.301621Z",
     "iopub.status.idle": "2024-01-04T05:49:08.758205Z",
     "shell.execute_reply": "2024-01-04T05:49:08.756874Z",
     "shell.execute_reply.started": "2024-01-04T05:49:07.302207Z"
    }
   },
   "outputs": [],
   "source": [
    "embedding = ream_get_text_embedding(\"sentence-transformers/all-mpnet-base-v2\")"
   ]
  },
  {
   "cell_type": "code",
   "execution_count": 31,
   "id": "2e67d85a",
   "metadata": {
    "execution": {
     "iopub.execute_input": "2024-01-04T05:49:08.759773Z",
     "iopub.status.busy": "2024-01-04T05:49:08.759444Z",
     "iopub.status.idle": "2024-01-04T05:49:08.766984Z",
     "shell.execute_reply": "2024-01-04T05:49:08.766129Z",
     "shell.execute_reply.started": "2024-01-04T05:49:08.759748Z"
    }
   },
   "outputs": [],
   "source": [
    "from gramsplus.misc.embedding import BatchText\n",
    "\n",
    "\n",
    "@dataclass\n",
    "class BatchTextEmbedding:\n",
    "    unique_text: dict[str, int]\n",
    "    text_index: list[int]\n",
    "    embeddings: np.ndarray\n",
    "\n",
    "    @staticmethod\n",
    "    def from_batch_text(texts: list[str] | BatchText, embs: np.ndarray):\n",
    "        if not isinstance(texts, BatchText):\n",
    "            batch_text = BatchText.from_list_str(texts)\n",
    "        else:\n",
    "            batch_text = texts\n",
    "        return BatchTextEmbedding(batch_text.unique_text, batch_text.text_index, embs)\n",
    "\n",
    "    def get_embedding(self, text: str):\n",
    "        return self.embeddings[self.text_index[self.unique_text[text]]]"
   ]
  },
  {
   "cell_type": "code",
   "execution_count": 32,
   "id": "79d51584",
   "metadata": {
    "execution": {
     "iopub.execute_input": "2024-01-04T05:49:08.768289Z",
     "iopub.status.busy": "2024-01-04T05:49:08.767999Z",
     "iopub.status.idle": "2024-01-04T05:49:17.273991Z",
     "shell.execute_reply": "2024-01-04T05:49:17.272724Z",
     "shell.execute_reply.started": "2024-01-04T05:49:08.768267Z"
    }
   },
   "outputs": [
    {
     "name": "stderr",
     "output_type": "stream",
     "text": [
      "\u001b[32m2024-01-04 05:49:08.848\u001b[0m | \u001b[1mINFO    \u001b[0m | \u001b[36msm.misc.ray_helper\u001b[0m:\u001b[36mray_init\u001b[0m:\u001b[36m35\u001b[0m - \u001b[1mInitialize ray with args: {'log_to_driver': False}\u001b[0m\n",
      "2024-01-04 05:49:08,939\tINFO worker.py:1540 -- Connecting to existing Ray cluster at address: 128.9.35.38:26379...\n",
      "2024-01-04 05:49:08,949\tINFO worker.py:1715 -- Connected to Ray cluster. View the dashboard at \u001b[1m\u001b[32mhttp://128.9.35.38:28265 \u001b[39m\u001b[22m\n"
     ]
    }
   ],
   "source": [
    "type_lbls = [classes[label2id(lbl)].label for lbl in type2names.keys()]\n",
    "type_lbl_embs = embedding.batch_get(type_lbls)\n",
    "type2emb = BatchTextEmbedding.from_batch_text(type_lbls, type_lbl_embs)"
   ]
  },
  {
   "cell_type": "code",
   "execution_count": 33,
   "id": "64c41205",
   "metadata": {
    "execution": {
     "iopub.execute_input": "2024-01-04T05:49:17.280730Z",
     "iopub.status.busy": "2024-01-04T05:49:17.280187Z",
     "iopub.status.idle": "2024-01-04T05:49:26.214912Z",
     "shell.execute_reply": "2024-01-04T05:49:26.214185Z",
     "shell.execute_reply.started": "2024-01-04T05:49:17.280691Z"
    }
   },
   "outputs": [
    {
     "name": "stderr",
     "output_type": "stream",
     "text": [
      "\u001b[32m2024-01-04 05:49:17.462\u001b[0m | \u001b[1mINFO    \u001b[0m | \u001b[36msm.misc.ray_helper\u001b[0m:\u001b[36mray_init\u001b[0m:\u001b[36m35\u001b[0m - \u001b[1mInitialize ray with args: {'log_to_driver': False}\u001b[0m\n",
      "2024-01-04 05:49:17,536\tINFO worker.py:1540 -- Connecting to existing Ray cluster at address: 128.9.35.38:26379...\n",
      "2024-01-04 05:49:17,543\tINFO worker.py:1715 -- Connected to Ray cluster. View the dashboard at \u001b[1m\u001b[32mhttp://128.9.35.38:28265 \u001b[39m\u001b[22m\n"
     ]
    }
   ],
   "source": [
    "names = list(name2types.keys())\n",
    "name_embs = embedding.batch_get(names)\n",
    "name2emb = BatchTextEmbedding.from_batch_text(names, name_embs)"
   ]
  },
  {
   "cell_type": "code",
   "execution_count": 34,
   "id": "824da359",
   "metadata": {
    "execution": {
     "iopub.execute_input": "2024-01-04T05:49:26.216001Z",
     "iopub.status.busy": "2024-01-04T05:49:26.215797Z",
     "iopub.status.idle": "2024-01-04T05:49:26.220629Z",
     "shell.execute_reply": "2024-01-04T05:49:26.220105Z",
     "shell.execute_reply.started": "2024-01-04T05:49:26.215981Z"
    }
   },
   "outputs": [
    {
     "data": {
      "text/plain": [
       "(66, 768)"
      ]
     },
     "execution_count": 34,
     "metadata": {},
     "output_type": "execute_result"
    }
   ],
   "source": [
    "type_lbl_embs.shape"
   ]
  },
  {
   "cell_type": "code",
   "execution_count": 35,
   "id": "73bd194f",
   "metadata": {
    "execution": {
     "iopub.execute_input": "2024-01-04T05:49:26.221858Z",
     "iopub.status.busy": "2024-01-04T05:49:26.221606Z",
     "iopub.status.idle": "2024-01-04T05:49:27.418938Z",
     "shell.execute_reply": "2024-01-04T05:49:27.418206Z",
     "shell.execute_reply.started": "2024-01-04T05:49:26.221841Z"
    }
   },
   "outputs": [],
   "source": [
    "def vec_sim(x, y):\n",
    "    return np.dot(x, y)  # / (np.linalg.norm(x) * np.linalg.norm(y))\n",
    "\n",
    "\n",
    "label_data = []\n",
    "count = 0\n",
    "for name, types in name2types.items():\n",
    "    if name in allow_crosstype_names or name in blacklist_names:\n",
    "        continue\n",
    "    if len(types) > 1:\n",
    "        xemb = name2emb.get_embedding(name)\n",
    "        yembs = [\n",
    "            type2emb.get_embedding(classes[label2id(type)].label) for type in types\n",
    "        ]\n",
    "        scores = [\n",
    "            (\n",
    "                type,\n",
    "                vec_sim(xemb, yemb),\n",
    "                sum(int(x[2] == name) for x in type2columns[label2id(type)]),\n",
    "            )\n",
    "            for type, yemb in zip(types, yembs)\n",
    "        ]\n",
    "        scores.sort(key=itemgetter(1), reverse=True)\n",
    "        label_data.append((name, scores))\n",
    "        # print(\n",
    "        #     f\"'{name}'\",\n",
    "        #     scores,\n",
    "        # )\n",
    "        # count += 1\n",
    "# print(count)"
   ]
  },
  {
   "cell_type": "markdown",
   "id": "a31c3dd6-31ba-4c23-9483-f474af0ae4c3",
   "metadata": {},
   "source": [
    "Dump the list of header and columns for manually labeled -- we are labeling header that appears in multiple types"
   ]
  },
  {
   "cell_type": "code",
   "execution_count": 39,
   "id": "bc6aa1b4-7c63-4101-a1a8-95908bad7be9",
   "metadata": {
    "execution": {
     "iopub.execute_input": "2024-01-04T06:24:23.144465Z",
     "iopub.status.busy": "2024-01-04T06:24:23.143831Z",
     "iopub.status.idle": "2024-01-04T06:24:23.210724Z",
     "shell.execute_reply": "2024-01-04T06:24:23.209422Z",
     "shell.execute_reply.started": "2024-01-04T06:24:23.144415Z"
    }
   },
   "outputs": [],
   "source": [
    "labeled_header_types = {(row['name'], row['label']) for ri, row in pd.read_csv(AUTOLABEL_DIR / \"header_type_agreements.rev1.csv\").iterrows()}"
   ]
  },
  {
   "cell_type": "code",
   "execution_count": 40,
   "id": "a0feb519-a9da-4a99-bbb5-1e75ad95335c",
   "metadata": {
    "execution": {
     "iopub.execute_input": "2024-01-04T06:24:29.334981Z",
     "iopub.status.busy": "2024-01-04T06:24:29.334358Z",
     "iopub.status.idle": "2024-01-04T06:24:29.353351Z",
     "shell.execute_reply": "2024-01-04T06:24:29.351916Z",
     "shell.execute_reply.started": "2024-01-04T06:24:29.334932Z"
    }
   },
   "outputs": [],
   "source": [
    "pd.DataFrame([\n",
    "    {\n",
    "        'index': i,\n",
    "        'name': name,\n",
    "        'type': score[0],\n",
    "        'relevant': score[1],\n",
    "        'freq': score[2]\n",
    "    }\n",
    "    for i, (name, scores) in enumerate(label_data)\n",
    "    for score in scores\n",
    "    if (name, score[0]) not in labeled_header_types\n",
    "]).to_csv(AUTOLABEL_DIR / \"header_type_agreements.pre.csv\", index=False)"
   ]
  },
  {
   "cell_type": "raw",
   "id": "7df975a1-c2f1-4f4e-a8b7-3b6ba960a6e0",
   "metadata": {
    "execution": {
     "iopub.execute_input": "2024-01-04T05:49:27.433301Z",
     "iopub.status.busy": "2024-01-04T05:49:27.433164Z",
     "iopub.status.idle": "2024-01-04T05:49:27.498157Z",
     "shell.execute_reply": "2024-01-04T05:49:27.497534Z",
     "shell.execute_reply.started": "2024-01-04T05:49:27.433289Z"
    }
   },
   "source": [
    "ann.render_example()"
   ]
  },
  {
   "cell_type": "code",
   "execution_count": null,
   "id": "fe8c7e7e",
   "metadata": {
    "execution": {
     "iopub.status.busy": "2024-01-04T05:49:27.498632Z",
     "iopub.status.idle": "2024-01-04T05:49:27.498811Z",
     "shell.execute_reply": "2024-01-04T05:49:27.498728Z",
     "shell.execute_reply.started": "2024-01-04T05:49:27.498720Z"
    }
   },
   "outputs": [],
   "source": [
    "len(label_data)"
   ]
  },
  {
   "cell_type": "code",
   "execution_count": null,
   "id": "b0ae730a",
   "metadata": {
    "execution": {
     "iopub.status.busy": "2024-01-04T05:49:27.499524Z",
     "iopub.status.idle": "2024-01-04T05:49:27.499700Z",
     "shell.execute_reply": "2024-01-04T05:49:27.499620Z",
     "shell.execute_reply.started": "2024-01-04T05:49:27.499612Z"
    }
   },
   "outputs": [],
   "source": [
    "disjoint_concepts = {\n",
    "    ''\n",
    "}"
   ]
  },
  {
   "cell_type": "code",
   "execution_count": 53,
   "id": "e8e5d551-c38f-4d8a-b428-cb3c02617267",
   "metadata": {
    "execution": {
     "iopub.execute_input": "2024-01-04T09:15:04.774628Z",
     "iopub.status.busy": "2024-01-04T09:15:04.773191Z",
     "iopub.status.idle": "2024-01-04T09:15:08.201648Z",
     "shell.execute_reply": "2024-01-04T09:15:08.200364Z",
     "shell.execute_reply.started": "2024-01-04T09:15:04.774566Z"
    }
   },
   "outputs": [],
   "source": [
    "valid_type2name = defaultdict(set)\n",
    "\n",
    "for name, types in name2types.items():\n",
    "    if name in blacklist_names:\n",
    "        continue\n",
    "    if name in allow_crosstype_names:\n",
    "        for type in types:\n",
    "            valid_type2name[type].add(name)\n",
    "    elif len(types) == 1:\n",
    "        type = list(types)[0]\n",
    "        score = sum(int(x[2] == name) for x in type2columns[label2id(type)])\n",
    "        # print(name, type, score)\n",
    "        valid_type2name[type].add(name)"
   ]
  },
  {
   "cell_type": "code",
   "execution_count": 56,
   "id": "7e70ca41-3a5b-4204-8a77-1bf5fe33ad89",
   "metadata": {
    "execution": {
     "iopub.execute_input": "2024-01-04T09:15:58.004920Z",
     "iopub.status.busy": "2024-01-04T09:15:58.004352Z",
     "iopub.status.idle": "2024-01-04T09:15:58.023645Z",
     "shell.execute_reply": "2024-01-04T09:15:58.022275Z",
     "shell.execute_reply.started": "2024-01-04T09:15:58.004875Z"
    }
   },
   "outputs": [],
   "source": [
    "df = pd.concat([\n",
    "    pd.read_csv(AUTOLABEL_DIR / f\"header_type_agreements.rev{v}.csv\")\n",
    "    for v in [1, 2]\n",
    "])"
   ]
  },
  {
   "cell_type": "code",
   "execution_count": 58,
   "id": "ac716269-18c4-4ea7-a41f-7321c39e81ec",
   "metadata": {
    "execution": {
     "iopub.execute_input": "2024-01-04T09:16:09.359851Z",
     "iopub.status.busy": "2024-01-04T09:16:09.359315Z",
     "iopub.status.idle": "2024-01-04T09:16:09.464538Z",
     "shell.execute_reply": "2024-01-04T09:16:09.463242Z",
     "shell.execute_reply.started": "2024-01-04T09:16:09.359807Z"
    }
   },
   "outputs": [],
   "source": [
    "for ri, row in df.iterrows():\n",
    "    if not isinstance(row['label'], str) and np.isnan(row['label']):\n",
    "        assert row['label'] != 'F'\n",
    "        valid_type2name[row['type']].add(row['name'])\n",
    "    else:\n",
    "        assert row['label'] == 'F'\n",
    "        continue\n",
    "    # print(row['name'], row['label'], row['label.1'])"
   ]
  },
  {
   "cell_type": "code",
   "execution_count": 59,
   "id": "a7f2df3d-cf87-4b57-ad2e-ee12747a235e",
   "metadata": {
    "execution": {
     "iopub.execute_input": "2024-01-04T09:16:50.834674Z",
     "iopub.status.busy": "2024-01-04T09:16:50.834147Z",
     "iopub.status.idle": "2024-01-04T09:16:50.843718Z",
     "shell.execute_reply": "2024-01-04T09:16:50.842554Z",
     "shell.execute_reply.started": "2024-01-04T09:16:50.834630Z"
    }
   },
   "outputs": [],
   "source": [
    "serde.json.ser({k: list(v) for k, v in valid_type2name.items()}, AUTOLABEL_DIR / \"whitelist.json\", indent=2)"
   ]
  },
  {
   "cell_type": "markdown",
   "id": "a9085f80-b8c7-48b1-9699-e59d5d9fe98c",
   "metadata": {},
   "source": [
    "Debugging area, seeing examples of a combination of header and types"
   ]
  },
  {
   "cell_type": "code",
   "execution_count": 52,
   "id": "80f3c73b-6b0b-4011-8e2f-a643a623bdc0",
   "metadata": {
    "execution": {
     "iopub.execute_input": "2024-01-04T07:57:56.306395Z",
     "iopub.status.busy": "2024-01-04T07:57:56.305813Z",
     "iopub.status.idle": "2024-01-04T07:57:56.349601Z",
     "shell.execute_reply": "2024-01-04T07:57:56.348371Z",
     "shell.execute_reply.started": "2024-01-04T07:57:56.306349Z"
    }
   },
   "outputs": [
    {
     "name": "stdout",
     "output_type": "stream",
     "text": [
      "('https://en.wikipedia.org/wiki/Rider_deaths_in_motorcycle_racing?table_no=4', 0, 'Circuit')\n"
     ]
    }
   ],
   "source": [
    "def debug_header_type(header: str, type: str):\n",
    "    lst = [\n",
    "        x\n",
    "        for x in type2columns[label2id(type)]\n",
    "        if x[2] == header\n",
    "    ]\n",
    "    for x in lst[:10]:\n",
    "        print(x)\n",
    "        \n",
    "debug_header_type('Circuit', 'country (Q6256)')"
   ]
  },
  {
   "cell_type": "code",
   "execution_count": 49,
   "id": "cbe680ca-91c4-48a8-a96e-fa525648f737",
   "metadata": {
    "execution": {
     "iopub.execute_input": "2024-01-04T07:52:52.981797Z",
     "iopub.status.busy": "2024-01-04T07:52:52.981278Z",
     "iopub.status.idle": "2024-01-04T07:52:52.990382Z",
     "shell.execute_reply": "2024-01-04T07:52:52.989281Z",
     "shell.execute_reply.started": "2024-01-04T07:52:52.981756Z"
    }
   },
   "outputs": [
    {
     "data": {
      "text/plain": [
       "['Q11828004']"
      ]
     },
     "execution_count": 49,
     "metadata": {},
     "output_type": "execute_result"
    }
   ],
   "source": [
    "entity_types['Q1904']"
   ]
  },
  {
   "attachments": {},
   "cell_type": "markdown",
   "id": "c8a035a1-8d84-47e3-baf8-ae3833d88842",
   "metadata": {},
   "source": [
    "## 🍱 Create labeled dataset"
   ]
  },
  {
   "cell_type": "markdown",
   "id": "c00fd252-d781-4d5b-9391-3a0fff3dd1ec",
   "metadata": {},
   "source": [
    "#### 🎚 Create label actor\n",
    "\n",
    "Put your configuration here"
   ]
  },
  {
   "cell_type": "code",
   "execution_count": 10,
   "id": "c37c0f0d-3e73-40cc-8349-c4547f05d628",
   "metadata": {
    "editable": true,
    "execution": {
     "iopub.execute_input": "2024-01-04T09:38:07.247415Z",
     "iopub.status.busy": "2024-01-04T09:38:07.246838Z",
     "iopub.status.idle": "2024-01-04T09:38:07.262055Z",
     "shell.execute_reply": "2024-01-04T09:38:07.260909Z",
     "shell.execute_reply.started": "2024-01-04T09:38:07.247371Z"
    },
    "slideshow": {
     "slide_type": ""
    },
    "tags": []
   },
   "outputs": [
    {
     "name": "stderr",
     "output_type": "stream",
     "text": [
      "\u001b[32m2024-01-04 09:38:07.253\u001b[0m | \u001b[34m\u001b[1mDEBUG   \u001b[0m | \u001b[36mream.actor_graph\u001b[0m:\u001b[36mcreate_actor\u001b[0m:\u001b[36m264\u001b[0m - \u001b[34m\u001b[1mDetermine the actor to run...\u001b[0m\n",
      "\u001b[32m2024-01-04 09:38:07.255\u001b[0m | \u001b[34m\u001b[1mDEBUG   \u001b[0m | \u001b[36mream.actor_graph\u001b[0m:\u001b[36mcreate_actor\u001b[0m:\u001b[36m266\u001b[0m - \u001b[34m\u001b[1mInitializing argument parser...\u001b[0m\n",
      "\u001b[32m2024-01-04 09:38:07.257\u001b[0m | \u001b[34m\u001b[1mDEBUG   \u001b[0m | \u001b[36mream.actor_graph\u001b[0m:\u001b[36mcreate_actor\u001b[0m:\u001b[36m283\u001b[0m - \u001b[34m\u001b[1mConstructing the actor...\u001b[0m\n"
     ]
    }
   ],
   "source": [
    "from gramsplus.distantsupervision.make_dataset.prelude import (\n",
    "    CombinedFilterArgs,\n",
    "    FilterByHeaderColTypeArgs,\n",
    ")\n",
    "\n",
    "autolabel_actor = G.create_actor(\n",
    "    AutoLabeledDataActor,\n",
    "    common_actor_args + [\n",
    "        AutoLabelDataActorArgs(\n",
    "            dataset_dir=AUTOLABEL_DIR,\n",
    "            skip_non_unique_mention=True,\n",
    "            skip_column_with_no_type=True,\n",
    "            filter_method=\"filter_combined\",\n",
    "            filter_combined=CombinedFilterArgs(\n",
    "                header_col_type=FilterByHeaderColTypeArgs(\n",
    "                    whitelist_file=AUTOLABEL_DIR / \"whitelist.json\"\n",
    "                ),\n",
    "            ),\n",
    "            transform_method=\"transform_v1\",\n",
    "            label_method=\"label_v1\",\n",
    "            label_v1=LabelV1Args(\n",
    "                topk=1,\n",
    "                threshold=0.7,\n",
    "                include_similar_score=True,\n",
    "            ),\n",
    "        ),\n",
    "    ],\n",
    ")"
   ]
  },
  {
   "cell_type": "code",
   "execution_count": 21,
   "id": "3f8431ba-7be6-45c5-b039-28f2e6b49771",
   "metadata": {
    "execution": {
     "iopub.execute_input": "2024-01-04T09:49:35.237609Z",
     "iopub.status.busy": "2024-01-04T09:49:35.236949Z",
     "iopub.status.idle": "2024-01-04T09:49:35.256265Z",
     "shell.execute_reply": "2024-01-04T09:49:35.254630Z",
     "shell.execute_reply.started": "2024-01-04T09:49:35.237561Z"
    },
    "scrolled": true
   },
   "outputs": [],
   "source": [
    "tables = autolabel_actor(LIMIT_EASY_TABLE_DATASET_DIR.name)\n",
    "# tables = autolabel_actor.process_dataset(LIMIT_EASY_TABLE_DATASET_DIR.name)"
   ]
  },
  {
   "cell_type": "code",
   "execution_count": 31,
   "id": "ccf71246-59ac-49c4-9c75-d19337eab5a5",
   "metadata": {
    "execution": {
     "iopub.execute_input": "2024-01-04T10:37:10.519709Z",
     "iopub.status.busy": "2024-01-04T10:37:10.519174Z",
     "iopub.status.idle": "2024-01-04T10:37:11.281613Z",
     "shell.execute_reply": "2024-01-04T10:37:11.280811Z",
     "shell.execute_reply.started": "2024-01-04T10:37:10.519670Z"
    }
   },
   "outputs": [],
   "source": [
    "autolabel = {}\n",
    "for tbl in tables:\n",
    "    autolabel[tbl.table.table.table_id] = {\n",
    "        \"entity_columns\": [(ci, tbl.table.table.get_column_by_index(ci).clean_multiline_name) for ci in tbl.entity_columns],\n",
    "        \"entity_column_types\": [\n",
    "            [e.to_dict() for e in coltypes] for coltypes in tbl.entity_column_types\n",
    "        ],\n",
    "    }"
   ]
  },
  {
   "cell_type": "code",
   "execution_count": 33,
   "id": "f1d69a95-4ebd-4507-abcc-0c5506dc7638",
   "metadata": {
    "execution": {
     "iopub.execute_input": "2024-01-04T10:37:31.348683Z",
     "iopub.status.busy": "2024-01-04T10:37:31.348135Z",
     "iopub.status.idle": "2024-01-04T10:37:31.635715Z",
     "shell.execute_reply": "2024-01-04T10:37:31.633649Z",
     "shell.execute_reply.started": "2024-01-04T10:37:31.348641Z"
    }
   },
   "outputs": [],
   "source": [
    "serde.json.ser(autolabel, LIMIT_EASY_TABLE_DATASET_DIR / \"autolabel.json\", indent=2)"
   ]
  }
 ],
 "metadata": {
  "kernelspec": {
   "display_name": ".venv",
   "language": "python",
   "name": "python3"
  },
  "language_info": {
   "codemirror_mode": {
    "name": "ipython",
    "version": 3
   },
   "file_extension": ".py",
   "mimetype": "text/x-python",
   "name": "python",
   "nbconvert_exporter": "python",
   "pygments_lexer": "ipython3",
   "version": "3.11.7"
  }
 },
 "nbformat": 4,
 "nbformat_minor": 5
}

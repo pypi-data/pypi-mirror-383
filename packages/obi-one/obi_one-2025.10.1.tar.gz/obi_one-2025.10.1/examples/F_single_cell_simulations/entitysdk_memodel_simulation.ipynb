{
 "cells": [
  {
   "cell_type": "code",
   "execution_count": null,
   "id": "5b76fac8",
   "metadata": {},
   "outputs": [],
   "source": [
    "import requests\n",
    "import obi_one as obi\n",
    "virtual_lab_id=obi.LAB_ID_STAGING_TEST\n",
    "project_id=obi.PROJECT_ID_STAGING_TEST\n",
    "from entitysdk import Client, ProjectContext\n",
    "\n",
    "from obi_auth import get_token\n",
    "from obi_notebook import get_projects\n",
    "\n",
    "obi_one_api_url = \"http://127.0.0.1:8100\"\n",
    "\n",
    "token = get_token(environment=\"staging\")\n",
    "project_context = ProjectContext(virtual_lab_id=obi.LAB_ID_STAGING_TEST, project_id=obi.PROJECT_ID_STAGING_TEST)\n",
    "db_client = Client(api_url=\"https://staging.openbraininstitute.org/api/entitycore\", project_context=project_context, token_manager=token)"
   ]
  },
  {
   "cell_type": "code",
   "execution_count": null,
   "id": "6f4e1a8e",
   "metadata": {},
   "outputs": [],
   "source": [
    "memodel_id = \"82c27da0-2d11-4e40-a594-12f5519effed\""
   ]
  },
  {
   "cell_type": "code",
   "execution_count": null,
   "id": "c4ca2e06",
   "metadata": {},
   "outputs": [],
   "source": [
    "\n",
    "# Sim duration\n",
    "sim_duration = 3000.0\n",
    "\n",
    "sim_conf = obi.MEModelSimulationScanConfig.empty_config()\n",
    "\n",
    "# Info\n",
    "info = obi.Info(campaign_name=\"MEModel Simulation\", campaign_description=\"Simulation of MEModel circuit with predefined neuron set and constant current stimulus\")\n",
    "sim_conf.set(info, name=\"info\")\n",
    "\n",
    "# Regular Timesteps\n",
    "regular_timestamps = obi.RegularTimestamps(start_time=0.0, number_of_repetitions=3, interval=sim_duration)\n",
    "sim_conf.add(regular_timestamps, name='RegularTimestamps')\n",
    "\n",
    "# Recordings\n",
    "voltage_recording = obi.SomaVoltageRecording()\n",
    "sim_conf.add(voltage_recording, name='VoltageRecording')\n",
    "\n",
    "time_window_voltage_recording = obi.TimeWindowSomaVoltageRecording(start_time=0.0, end_time=2000.0)\n",
    "sim_conf.add(time_window_voltage_recording, name='TimeWindowVoltageRecording')\n",
    "\n",
    "# Initialization\n",
    "simulations_initialize = obi.MEModelSimulationScanConfig.Initialize(circuit=obi.MEModelFromID(id_str=memodel_id), \n",
    "                                                        simulation_length=sim_duration)\n",
    "sim_conf.set(simulations_initialize, name='initialize')\n",
    "\n",
    "# Validated Config\n",
    "validated_sim_conf = sim_conf.validated_config()\n",
    "\n",
    "\n",
    "\n"
   ]
  },
  {
   "cell_type": "code",
   "execution_count": null,
   "id": "73039ca7",
   "metadata": {},
   "outputs": [],
   "source": [
    "import tempfile\n",
    "\n",
    "# Create a temporary directory (not used in this example, but can be useful for testing)\n",
    "with tempfile.TemporaryDirectory() as temp_dir:\n",
    "\n",
    "    \"\"\"\n",
    "    Very strange issue with adding assets when a relative path is used here. Need to look into after CNS.\n",
    "    \"\"\"\n",
    "    grid_scan = obi.GridScanGenerationTask(form=validated_sim_conf, coordinate_directory_option=\"ZERO_INDEX\", output_root='../../../obi-output/memodel_simulations/grid_scan')\n",
    "    # grid_scan = obi.GridScanGenerationTask(form=validated_sim_conf, coordinate_directory_option=\"ZERO_INDEX\", output_root=temp_dir)\n",
    "    grid_scan.multiple_value_parameters(display=True)\n",
    "    grid_scan.coordinate_parameters(display=True)\n",
    "    grid_scan.execute(db_client=db_client)\n",
    "    obi.run_tasks_for_generated_scan(grid_scan, db_client=db_client)"
   ]
  },
  {
   "cell_type": "code",
   "execution_count": null,
   "id": "584c1872",
   "metadata": {},
   "outputs": [],
   "source": []
  }
 ],
 "metadata": {
  "kernelspec": {
   "display_name": "obi-one (3.12.9)",
   "language": "python",
   "name": "python3"
  },
  "language_info": {
   "codemirror_mode": {
    "name": "ipython",
    "version": 3
   },
   "file_extension": ".py",
   "mimetype": "text/x-python",
   "name": "python",
   "nbconvert_exporter": "python",
   "pygments_lexer": "ipython3",
   "version": "3.12.9"
  }
 },
 "nbformat": 4,
 "nbformat_minor": 5
}

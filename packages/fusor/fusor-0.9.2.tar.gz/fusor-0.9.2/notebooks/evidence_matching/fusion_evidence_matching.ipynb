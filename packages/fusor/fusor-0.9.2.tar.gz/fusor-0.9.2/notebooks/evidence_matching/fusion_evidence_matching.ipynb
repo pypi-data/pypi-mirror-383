{
 "cells": [
  {
   "cell_type": "markdown",
   "id": "c75a5a00",
   "metadata": {},
   "source": [
    "# Notebook for demonstrating evidence matching between assayed fusions and categorical fusions"
   ]
  },
  {
   "cell_type": "code",
   "execution_count": 1,
   "id": "bf73da60",
   "metadata": {},
   "outputs": [],
   "source": [
    "import warnings\n",
    "from os import environ\n",
    "\n",
    "warnings.filterwarnings(\"ignore\")\n",
    "\n",
    "# These are the configurations for the UTA and SeqRepo databases. These should\n",
    "# be adjusted by the user based on the locations where these databases exist.\n",
    "environ[\"UTA_DB_URL\"] = \"postgresql://anonymous@localhost:5432/uta/uta_20241220\"\n",
    "environ[\"SEQREPO_ROOT_DIR\"] = \"/usr/local/share/seqrepo/2024-12-20\""
   ]
  },
  {
   "cell_type": "markdown",
   "id": "b5e4f0b0",
   "metadata": {},
   "source": [
    "### Load FUSOR and Translator modules\n",
    "Run the cell below to load the FUSOR and Translator modules"
   ]
  },
  {
   "cell_type": "code",
   "execution_count": 2,
   "id": "3c78c9c4",
   "metadata": {},
   "outputs": [
    {
     "name": "stdout",
     "output_type": "stream",
     "text": [
      "***Using Gene Database Endpoint: http://localhost:8000***\n"
     ]
    }
   ],
   "source": [
    "from civicpy import civic\n",
    "\n",
    "from fusor.fusor import FUSOR\n",
    "\n",
    "fusor = FUSOR()"
   ]
  },
  {
   "cell_type": "markdown",
   "id": "3c7fbde4",
   "metadata": {},
   "source": [
    "### Generate list of AssayedFusion objects from STAR-Fusion file\n",
    "Run the cell below to generate a list of AssayedFusion objects from a file of STAR-Fusion output"
   ]
  },
  {
   "cell_type": "code",
   "execution_count": 3,
   "id": "39397589",
   "metadata": {},
   "outputs": [
    {
     "name": "stderr",
     "output_type": "stream",
     "text": [
      "Unable to get MANE Transcript data for gene: RN7SKP80\n",
      "Could not find a transcript for RN7SKP80 on NC_000022.11\n",
      "Unable to get MANE Transcript data for gene: RN7SKP118\n",
      "Could not find a transcript for RN7SKP118 on NC_000016.10\n",
      "Gene does not exist in UTA: AC021660.2\n",
      "Unable to get MANE Transcript data for gene: EEF1A1P13\n",
      "Could not find a transcript for EEF1A1P13 on NC_000005.10\n",
      "Gene does not exist in UTA: AC098590.1\n",
      "Gene does not exist in UTA: AC099789.1\n",
      "Unable to get MANE Transcript data for gene: USP27X-DT\n",
      "38584945 on NC_000021.9 occurs more than 150 bp outside the exon boundaries of the NM_182918.4 transcript, indicating this may not be a chimeric transcript junction and is unlikely to represent a contiguous coding sequence. Confirm that the genomic position 38584945 is being used to represent transcript junction and not DNA breakpoint.\n",
      "Unable to get MANE Transcript data for gene: LINC00158\n",
      "Gene does not exist in UTA: AP001341.1\n",
      "Gene does not exist in UTA: AC021660.2\n",
      "Gene does not exist in UTA: AC021660.2\n",
      "35720747 on NC_000001.11 occurs more than 150 bp outside the exon boundaries of the NM_022111.4 transcript, indicating this may not be a chimeric transcript junction and is unlikely to represent a contiguous coding sequence. Confirm that the genomic position 35720747 is being used to represent transcript junction and not DNA breakpoint.\n",
      "35719497 on NC_000001.11 occurs more than 150 bp outside the exon boundaries of the NM_152374.2 transcript, indicating this may not be a chimeric transcript junction and is unlikely to represent a contiguous coding sequence. Confirm that the genomic position 35719497 is being used to represent transcript junction and not DNA breakpoint.\n",
      "Gene does not exist in UTA: RF00100\n",
      "Unable to get MANE Transcript data for gene: RN7SKP76\n",
      "Could not find a transcript for RN7SKP76 on NC_000016.10\n",
      "Unable to get MANE Transcript data for gene: RN7SK\n",
      "Unable to get MANE Transcript data for gene: RN7SKP76\n",
      "Could not find a transcript for RN7SKP76 on NC_000016.10\n",
      "143950183 on NC_000008.11 occurs more than 150 bp outside the exon boundaries of the NM_201384.3 transcript, indicating this may not be a chimeric transcript junction and is unlikely to represent a contiguous coding sequence. Confirm that the genomic position 143950183 is being used to represent transcript junction and not DNA breakpoint.\n",
      "Unable to get MANE Transcript data for gene: XXYLT1-AS2\n",
      "Gene does not exist in UTA: AC091132.5\n"
     ]
    }
   ],
   "source": [
    "# Generate AssayedFusion list from STAR-Fusion file\n",
    "from pathlib import Path\n",
    "\n",
    "from cool_seq_tool.schemas import Assembly\n",
    "\n",
    "from fusor.harvester import StarFusionHarvester\n",
    "\n",
    "path = Path(\"../../tests/fixtures/star-fusion.fusion_predictions.abridged.tsv\")\n",
    "harvester = StarFusionHarvester(fusor=fusor, assembly=Assembly.GRCH38)\n",
    "fusions_list = await harvester.load_records(path)\n",
    "\n",
    "assayed_fusion_star_fusion = [fusions_list[1]] # Use EML4::ALK fusion as testing example"
   ]
  },
  {
   "cell_type": "markdown",
   "id": "b0df9a86",
   "metadata": {},
   "source": [
    "### Load CIViC fusion variants\n",
    "Run the cell below to load accepted fusion variants from the CIViC knowledgebase"
   ]
  },
  {
   "cell_type": "code",
   "execution_count": 4,
   "id": "c4a0b16d",
   "metadata": {},
   "outputs": [],
   "source": [
    "# Load in accepted fusion variants\n",
    "variants = civic.get_all_fusion_variants(include_status=\"accepted\")"
   ]
  },
  {
   "cell_type": "code",
   "execution_count": 5,
   "id": "4bd30b54",
   "metadata": {},
   "outputs": [
    {
     "name": "stdout",
     "output_type": "stream",
     "text": [
      "EML4(entrez:27436)::ALK(entrez:238)\n",
      "v::ALK(entrez:238)\n",
      "NPM1(entrez:4869)::ALK(entrez:238)\n",
      "RANBP2(entrez:5903)::ALK(entrez:238)\n",
      "CLTC(entrez:1213)::ALK(entrez:238)\n",
      "STRN(entrez:6801)::ALK(entrez:238)\n",
      "CAD(entrez:790)::ALK(entrez:238)\n",
      "KANK4(entrez:163782)::ALK(entrez:238)\n",
      "EML4(entrez:27436)::NTRK3(entrez:4916)\n",
      "HIP1(entrez:3092)::ALK(entrez:238)\n",
      "ENST00000318522.5(EML4):e.20::ENST00000389048.3(ALK):e.20\n",
      "ENST00000318522.5(EML4):e.2::ENST00000389048.3(ALK):e.20\n",
      "ENST00000318522.5(EML4):e.6::ENST00000389048.3(ALK):e.20\n"
     ]
    }
   ],
   "source": [
    "partners = (\"EML4\", \"ALK\")\n",
    "for fusion in variants:\n",
    "    if any(partner in fusion.vicc_compliant_name for partner in partners):\n",
    "        print(fusion.vicc_compliant_name)"
   ]
  },
  {
   "cell_type": "markdown",
   "id": "1f9bbef6",
   "metadata": {},
   "source": [
    "The output above lists all possible categorical fusions with EML4 and ALK \n",
    "as a partner that could be returned from the CIViC knowledgebase. "
   ]
  },
  {
   "cell_type": "markdown",
   "id": "dedd9921",
   "metadata": {},
   "source": [
    "### Run FusionMatcher to gather objects containing standardized fusion knowledge\n",
    "Run the cell below to use FusionMatcher to extract standardized knowledge for the fusion extracted from the STAR-Fusion file (EML4::ALK). The score for each matching CategoricalFusion is printed at the bottom of the cell."
   ]
  },
  {
   "cell_type": "code",
   "execution_count": 6,
   "id": "9b2d9760",
   "metadata": {},
   "outputs": [
    {
     "name": "stderr",
     "output_type": "stream",
     "text": [
      "WARNING:cool_seq_tool.mappers.exon_genomic_coords:48406078 on NC_000023.11 occurs more than 150 bp outside the exon boundaries of the NM_005636.4 transcript, indicating this may not be a chimeric transcript junction and is unlikely to represent a contiguous coding sequence. Confirm that the genomic position 48406078 is being used to represent transcript junction and not DNA breakpoint.\n",
      "ERROR:fusor.harvester:Cannot translate fusion: v::PDGFRB(entrez:5159) due to the following reason: Translation cannot proceed as GRCh37 transcripts and exons lacks genomic breakpoints\n",
      "Traceback (most recent call last):\n",
      "  File \"/Users/rsjxa001/fusion_project/fusor/src/fusor/harvester.py\", line 412, in load_records\n",
      "    cat_fusion = await self.translator.translate(civic=fusion)\n",
      "                 ^^^^^^^^^^^^^^^^^^^^^^^^^^^^^^^^^^^^^^^^^^^^^\n",
      "  File \"/Users/rsjxa001/fusion_project/fusor/src/fusor/translator.py\", line 993, in translate\n",
      "    raise ValueError(msg)\n",
      "ValueError: Translation cannot proceed as GRCh37 transcripts and exons lacks genomic breakpoints\n",
      "ERROR:fusor.harvester:Cannot translate fusion: SQSTM1(entrez:8878)::NTRK1(entrez:4914) due to the following reason: Translation cannot proceed as GRCh37 transcripts and exons lacks genomic breakpoints\n",
      "Traceback (most recent call last):\n",
      "  File \"/Users/rsjxa001/fusion_project/fusor/src/fusor/harvester.py\", line 412, in load_records\n",
      "    cat_fusion = await self.translator.translate(civic=fusion)\n",
      "                 ^^^^^^^^^^^^^^^^^^^^^^^^^^^^^^^^^^^^^^^^^^^^^\n",
      "  File \"/Users/rsjxa001/fusion_project/fusor/src/fusor/translator.py\", line 993, in translate\n",
      "    raise ValueError(msg)\n",
      "ValueError: Translation cannot proceed as GRCh37 transcripts and exons lacks genomic breakpoints\n",
      "ERROR:fusor.harvester:Cannot translate fusion: v::NTRK3(entrez:4916) due to the following reason: Translation cannot proceed as GRCh37 transcripts and exons lacks genomic breakpoints\n",
      "Traceback (most recent call last):\n",
      "  File \"/Users/rsjxa001/fusion_project/fusor/src/fusor/harvester.py\", line 412, in load_records\n",
      "    cat_fusion = await self.translator.translate(civic=fusion)\n",
      "                 ^^^^^^^^^^^^^^^^^^^^^^^^^^^^^^^^^^^^^^^^^^^^^\n",
      "  File \"/Users/rsjxa001/fusion_project/fusor/src/fusor/translator.py\", line 993, in translate\n",
      "    raise ValueError(msg)\n",
      "ValueError: Translation cannot proceed as GRCh37 transcripts and exons lacks genomic breakpoints\n",
      "ERROR:fusor.harvester:Cannot translate fusion: v::RET(entrez:5979) due to the following reason: Translation cannot proceed as GRCh37 transcripts and exons lacks genomic breakpoints\n",
      "Traceback (most recent call last):\n",
      "  File \"/Users/rsjxa001/fusion_project/fusor/src/fusor/harvester.py\", line 412, in load_records\n",
      "    cat_fusion = await self.translator.translate(civic=fusion)\n",
      "                 ^^^^^^^^^^^^^^^^^^^^^^^^^^^^^^^^^^^^^^^^^^^^^\n",
      "  File \"/Users/rsjxa001/fusion_project/fusor/src/fusor/translator.py\", line 993, in translate\n",
      "    raise ValueError(msg)\n",
      "ValueError: Translation cannot proceed as GRCh37 transcripts and exons lacks genomic breakpoints\n",
      "ERROR:fusor.harvester:Cannot translate fusion: ATP1B1(entrez:481)::NRG1(entrez:3084) due to the following reason: Translation cannot proceed as GRCh37 transcripts and exons lacks genomic breakpoints\n",
      "Traceback (most recent call last):\n",
      "  File \"/Users/rsjxa001/fusion_project/fusor/src/fusor/harvester.py\", line 412, in load_records\n",
      "    cat_fusion = await self.translator.translate(civic=fusion)\n",
      "                 ^^^^^^^^^^^^^^^^^^^^^^^^^^^^^^^^^^^^^^^^^^^^^\n",
      "  File \"/Users/rsjxa001/fusion_project/fusor/src/fusor/translator.py\", line 993, in translate\n",
      "    raise ValueError(msg)\n",
      "ValueError: Translation cannot proceed as GRCh37 transcripts and exons lacks genomic breakpoints\n",
      "ERROR:fusor.harvester:Cannot translate fusion: SDC4(entrez:6385)::NRG1(entrez:3084) due to the following reason: Translation cannot proceed as GRCh37 transcripts and exons lacks genomic breakpoints\n",
      "Traceback (most recent call last):\n",
      "  File \"/Users/rsjxa001/fusion_project/fusor/src/fusor/harvester.py\", line 412, in load_records\n",
      "    cat_fusion = await self.translator.translate(civic=fusion)\n",
      "                 ^^^^^^^^^^^^^^^^^^^^^^^^^^^^^^^^^^^^^^^^^^^^^\n",
      "  File \"/Users/rsjxa001/fusion_project/fusor/src/fusor/translator.py\", line 993, in translate\n",
      "    raise ValueError(msg)\n",
      "ValueError: Translation cannot proceed as GRCh37 transcripts and exons lacks genomic breakpoints\n",
      "ERROR:fusor.harvester:Cannot translate fusion: FGFR1OP2(entrez:26127)::FGFR1(entrez:2260) due to the following reason: Translation cannot proceed as GRCh37 transcripts and exons lacks genomic breakpoints\n",
      "Traceback (most recent call last):\n",
      "  File \"/Users/rsjxa001/fusion_project/fusor/src/fusor/harvester.py\", line 412, in load_records\n",
      "    cat_fusion = await self.translator.translate(civic=fusion)\n",
      "                 ^^^^^^^^^^^^^^^^^^^^^^^^^^^^^^^^^^^^^^^^^^^^^\n",
      "  File \"/Users/rsjxa001/fusion_project/fusor/src/fusor/translator.py\", line 993, in translate\n",
      "    raise ValueError(msg)\n",
      "ValueError: Translation cannot proceed as GRCh37 transcripts and exons lacks genomic breakpoints\n",
      "ERROR:fusor.harvester:Cannot translate fusion: GOPC(entrez:57120)::ROS1(entrez:6098) due to the following reason: Translation cannot proceed as GRCh37 transcripts and exons lacks genomic breakpoints\n",
      "Traceback (most recent call last):\n",
      "  File \"/Users/rsjxa001/fusion_project/fusor/src/fusor/harvester.py\", line 412, in load_records\n",
      "    cat_fusion = await self.translator.translate(civic=fusion)\n",
      "                 ^^^^^^^^^^^^^^^^^^^^^^^^^^^^^^^^^^^^^^^^^^^^^\n",
      "  File \"/Users/rsjxa001/fusion_project/fusor/src/fusor/translator.py\", line 993, in translate\n",
      "    raise ValueError(msg)\n",
      "ValueError: Translation cannot proceed as GRCh37 transcripts and exons lacks genomic breakpoints\n",
      "ERROR:fusor.harvester:Cannot translate fusion: TPM3(entrez:7170)::NTRK1(entrez:4914) due to the following reason: Translation cannot proceed as GRCh37 transcripts and exons lacks genomic breakpoints\n",
      "Traceback (most recent call last):\n",
      "  File \"/Users/rsjxa001/fusion_project/fusor/src/fusor/harvester.py\", line 412, in load_records\n",
      "    cat_fusion = await self.translator.translate(civic=fusion)\n",
      "                 ^^^^^^^^^^^^^^^^^^^^^^^^^^^^^^^^^^^^^^^^^^^^^\n",
      "  File \"/Users/rsjxa001/fusion_project/fusor/src/fusor/translator.py\", line 993, in translate\n",
      "    raise ValueError(msg)\n",
      "ValueError: Translation cannot proceed as GRCh37 transcripts and exons lacks genomic breakpoints\n",
      "ERROR:fusor.harvester:Cannot translate fusion: RCSD1(entrez:92241)::ABL2(entrez:27) due to the following reason: Translation cannot proceed as GRCh37 transcripts and exons lacks genomic breakpoints\n",
      "Traceback (most recent call last):\n",
      "  File \"/Users/rsjxa001/fusion_project/fusor/src/fusor/harvester.py\", line 412, in load_records\n",
      "    cat_fusion = await self.translator.translate(civic=fusion)\n",
      "                 ^^^^^^^^^^^^^^^^^^^^^^^^^^^^^^^^^^^^^^^^^^^^^\n",
      "  File \"/Users/rsjxa001/fusion_project/fusor/src/fusor/translator.py\", line 993, in translate\n",
      "    raise ValueError(msg)\n",
      "ValueError: Translation cannot proceed as GRCh37 transcripts and exons lacks genomic breakpoints\n",
      "ERROR:fusor.harvester:Cannot translate fusion: v::TFE3(entrez:7030) due to the following reason: Translation cannot proceed as GRCh37 transcripts and exons lacks genomic breakpoints\n",
      "Traceback (most recent call last):\n",
      "  File \"/Users/rsjxa001/fusion_project/fusor/src/fusor/harvester.py\", line 412, in load_records\n",
      "    cat_fusion = await self.translator.translate(civic=fusion)\n",
      "                 ^^^^^^^^^^^^^^^^^^^^^^^^^^^^^^^^^^^^^^^^^^^^^\n",
      "  File \"/Users/rsjxa001/fusion_project/fusor/src/fusor/translator.py\", line 993, in translate\n",
      "    raise ValueError(msg)\n",
      "ValueError: Translation cannot proceed as GRCh37 transcripts and exons lacks genomic breakpoints\n",
      "ERROR:fusor.harvester:Cannot translate fusion: TCF3(entrez:6929)::PBX1(entrez:5087) due to the following reason: Translation cannot proceed as GRCh37 transcripts and exons lacks genomic breakpoints\n",
      "Traceback (most recent call last):\n",
      "  File \"/Users/rsjxa001/fusion_project/fusor/src/fusor/harvester.py\", line 412, in load_records\n",
      "    cat_fusion = await self.translator.translate(civic=fusion)\n",
      "                 ^^^^^^^^^^^^^^^^^^^^^^^^^^^^^^^^^^^^^^^^^^^^^\n",
      "  File \"/Users/rsjxa001/fusion_project/fusor/src/fusor/translator.py\", line 993, in translate\n",
      "    raise ValueError(msg)\n",
      "ValueError: Translation cannot proceed as GRCh37 transcripts and exons lacks genomic breakpoints\n",
      "ERROR:fusor.harvester:Cannot translate fusion: v::NUTM1(entrez:256646) due to the following reason: Translation cannot proceed as GRCh37 transcripts and exons lacks genomic breakpoints\n",
      "Traceback (most recent call last):\n",
      "  File \"/Users/rsjxa001/fusion_project/fusor/src/fusor/harvester.py\", line 412, in load_records\n",
      "    cat_fusion = await self.translator.translate(civic=fusion)\n",
      "                 ^^^^^^^^^^^^^^^^^^^^^^^^^^^^^^^^^^^^^^^^^^^^^\n",
      "  File \"/Users/rsjxa001/fusion_project/fusor/src/fusor/translator.py\", line 993, in translate\n",
      "    raise ValueError(msg)\n",
      "ValueError: Translation cannot proceed as GRCh37 transcripts and exons lacks genomic breakpoints\n",
      "ERROR:fusor.harvester:Cannot translate fusion: ENST00000275493.7(EGFR):e.24::ENST00000267868.8(RAD51):e.4 due to the following reason: Translation cannot proceed as GRCh37 transcripts and exons lacks genomic breakpoints\n",
      "Traceback (most recent call last):\n",
      "  File \"/Users/rsjxa001/fusion_project/fusor/src/fusor/harvester.py\", line 412, in load_records\n",
      "    cat_fusion = await self.translator.translate(civic=fusion)\n",
      "                 ^^^^^^^^^^^^^^^^^^^^^^^^^^^^^^^^^^^^^^^^^^^^^\n",
      "  File \"/Users/rsjxa001/fusion_project/fusor/src/fusor/translator.py\", line 993, in translate\n",
      "    raise ValueError(msg)\n",
      "ValueError: Translation cannot proceed as GRCh37 transcripts and exons lacks genomic breakpoints\n",
      "WARNING:fusor.harvester:15 fusion(s) were dropped during translation\n",
      "WARNING:fusor.models:Cached fusions file already exists. Overwriting with new file\n"
     ]
    },
    {
     "name": "stdout",
     "output_type": "stream",
     "text": [
      "Fusion event: NM_019063.5(EML4):e.13::NM_004304.5(ALK):e.20\n",
      "Match Type: MatchType.EXACT\n",
      "Fusion event: NM_019063.5(EML4):e.20::NM_004304.5(ALK):e.20\n",
      "Match Type: MatchType.SHARED_GENES_THREE_PRIME_EXACT\n",
      "Fusion event: NM_019063.5(EML4):e.2::NM_004304.5(ALK):e.20\n",
      "Match Type: MatchType.SHARED_GENES_THREE_PRIME_EXACT\n",
      "Fusion event: NM_019063.5(EML4):e.6::NM_004304.5(ALK):e.20\n",
      "Match Type: MatchType.SHARED_GENES_THREE_PRIME_EXACT\n",
      "Fusion event: v::NM_004304.5(ALK):e.20\n",
      "Match Type: MatchType.THREE_PRIME_EXACT\n",
      "Fusion event: NM_002520.7(NPM1):e.4::NM_004304.5(ALK):e.20\n",
      "Match Type: MatchType.THREE_PRIME_EXACT\n",
      "Fusion event: NM_006267.5(RANBP2):e.18::NM_004304.5(ALK):e.20\n",
      "Match Type: MatchType.THREE_PRIME_EXACT\n",
      "Fusion event: NM_004859.4(CLTC):e.31::NM_004304.5(ALK):e.20\n",
      "Match Type: MatchType.THREE_PRIME_EXACT\n",
      "Fusion event: NM_003162.4(STRN):e.3::NM_004304.5(ALK):e.20\n",
      "Match Type: MatchType.THREE_PRIME_EXACT\n",
      "Fusion event: NM_004341.5(CAD):e.35::NM_004304.5(ALK):e.20\n",
      "Match Type: MatchType.THREE_PRIME_EXACT\n",
      "Fusion event: NM_019063.5(EML4):e.2::NM_001012338.3(NTRK3):e.14\n",
      "Match Type: MatchType.FIVE_PRIME_GENE\n",
      "Fusion event: KANK4(hgnc:27263)::ALK(hgnc:427)\n",
      "Match Type: MatchType.THREE_PRIME_GENE\n",
      "Fusion event: HIP1(hgnc:4913)::ALK(hgnc:427)\n",
      "Match Type: MatchType.THREE_PRIME_GENE\n"
     ]
    }
   ],
   "source": [
    "# Generate list of matches, report match score\n",
    "from fusor.fusion_matching import FusionMatcher\n",
    "from fusor.harvester import CIVICHarvester\n",
    "from fusor.config import config\n",
    "from fusor.models import save_fusions_cache\n",
    "\n",
    "# Generate categorical fusions list\n",
    "harvester = CIVICHarvester(fusor=fusor, local_cache_path=\"../../tests/fixtures/civic_cache.pkl\")\n",
    "civic_fusions = await harvester.load_records()\n",
    "\n",
    "# Save cache for later\n",
    "save_fusions_cache(civic_fusions, cache_dir=config.data_root, cache_name=\"civic_translated_fusions.pkl\")\n",
    "\n",
    "# Initialize FusionMatcher and define sources to match against\n",
    "fm = FusionMatcher(assayed_fusions=assayed_fusion_star_fusion,\n",
    "                   comparator_fusions=civic_fusions)\n",
    "\n",
    "# Generate list of matching fusions\n",
    "matches = await fm.match_fusion()\n",
    "for matching_output in matches:\n",
    "    for match in matching_output:\n",
    "        print(f\"Fusion event: {match[0].viccNomenclature}\")\n",
    "        print(f\"Match Type: {match[1]}\")"
   ]
  },
  {
   "cell_type": "markdown",
   "id": "e0403ae8",
   "metadata": {},
   "source": [
    "### View matching categorical fusions\n",
    "Run the cells below to view the matching CategoricalFusion objects for the queried AssayedFusion object."
   ]
  },
  {
   "cell_type": "markdown",
   "id": "90b15b2e",
   "metadata": {},
   "source": [
    "#### EML4::ALK"
   ]
  },
  {
   "cell_type": "code",
   "execution_count": 7,
   "id": "64d08226",
   "metadata": {},
   "outputs": [
    {
     "data": {
      "text/plain": [
       "{'structure': [{'type': <FUSORTypes.TRANSCRIPT_SEGMENT_ELEMENT: 'TranscriptSegmentElement'>,\n",
       "   'transcript': 'refseq:NM_019063.5',\n",
       "   'transcriptStatus': <TranscriptPriority.MANE_SELECT: 'mane_select'>,\n",
       "   'strand': <Strand.POSITIVE: 1>,\n",
       "   'exonEnd': 13,\n",
       "   'exonEndOffset': 0,\n",
       "   'gene': {'conceptType': 'Gene',\n",
       "    'name': 'EML4',\n",
       "    'primaryCoding': {'id': 'hgnc:1316',\n",
       "     'system': 'https://www.genenames.org/data/gene-symbol-report/#!/hgnc_id/',\n",
       "     'code': 'HGNC:1316'}},\n",
       "   'elementGenomicEnd': {'id': 'ga4gh:SL.PQzV-kfeCQ4MBmxD5mSHqZmId3I_f-Ib',\n",
       "    'type': 'SequenceLocation',\n",
       "    'extensions': [{'name': 'is_exonic', 'value': True}],\n",
       "    'digest': 'PQzV-kfeCQ4MBmxD5mSHqZmId3I_f-Ib',\n",
       "    'sequenceReference': {'id': 'refseq:NC_000002.12',\n",
       "     'type': 'SequenceReference',\n",
       "     'refgetAccession': 'SQ.pnAqCRBrTsUoBghSD1yp_jXWSmlbdh4g'},\n",
       "    'end': 42295516}},\n",
       "  {'type': <FUSORTypes.TRANSCRIPT_SEGMENT_ELEMENT: 'TranscriptSegmentElement'>,\n",
       "   'transcript': 'refseq:NM_004304.5',\n",
       "   'transcriptStatus': <TranscriptPriority.MANE_SELECT: 'mane_select'>,\n",
       "   'strand': <Strand.NEGATIVE: -1>,\n",
       "   'exonStart': 20,\n",
       "   'exonStartOffset': 0,\n",
       "   'gene': {'conceptType': 'Gene',\n",
       "    'name': 'ALK',\n",
       "    'primaryCoding': {'id': 'hgnc:427',\n",
       "     'system': 'https://www.genenames.org/data/gene-symbol-report/#!/hgnc_id/',\n",
       "     'code': 'HGNC:427'}},\n",
       "   'elementGenomicStart': {'id': 'ga4gh:SL.Eu_igVd9zOahn3tFN-pyxtphUmrSlRAh',\n",
       "    'type': 'SequenceLocation',\n",
       "    'extensions': [{'name': 'is_exonic', 'value': True}],\n",
       "    'digest': 'Eu_igVd9zOahn3tFN-pyxtphUmrSlRAh',\n",
       "    'sequenceReference': {'id': 'refseq:NC_000002.12',\n",
       "     'type': 'SequenceReference',\n",
       "     'refgetAccession': 'SQ.pnAqCRBrTsUoBghSD1yp_jXWSmlbdh4g'},\n",
       "    'end': 29223528}}],\n",
       " 'type': <FUSORTypes.CATEGORICAL_FUSION: 'CategoricalFusion'>,\n",
       " 'viccNomenclature': 'NM_019063.5(EML4):e.13::NM_004304.5(ALK):e.20',\n",
       " 'extensions': [{'name': 'civicMolecularProfiles',\n",
       "   'value': [<CIViC molecular_profile 5>,\n",
       "    <CIViC molecular_profile 4225>,\n",
       "    <CIViC molecular_profile 4230>,\n",
       "    <CIViC molecular_profile 4253>,\n",
       "    <CIViC molecular_profile 4308>,\n",
       "    <CIViC molecular_profile 4312>,\n",
       "    <CIViC molecular_profile 4328>,\n",
       "    <CIViC molecular_profile 4237>,\n",
       "    <CIViC molecular_profile 4172>,\n",
       "    <CIViC molecular_profile 4221>,\n",
       "    <CIViC molecular_profile 4351>,\n",
       "    <CIViC molecular_profile 4255>,\n",
       "    <CIViC molecular_profile 4329>,\n",
       "    <CIViC molecular_profile 4309>,\n",
       "    <CIViC molecular_profile 4357>]}]}"
      ]
     },
     "execution_count": 7,
     "metadata": {},
     "output_type": "execute_result"
    }
   ],
   "source": [
    "# Print highest quality match for EML4::ALK\n",
    "matches[0][0][0].model_dump(exclude_none=True)"
   ]
  },
  {
   "cell_type": "code",
   "execution_count": 8,
   "id": "2364ae8c",
   "metadata": {},
   "outputs": [
    {
     "data": {
      "text/plain": [
       "{'structure': [{'type': <FUSORTypes.TRANSCRIPT_SEGMENT_ELEMENT: 'TranscriptSegmentElement'>,\n",
       "   'transcript': 'refseq:NM_019063.5',\n",
       "   'transcriptStatus': <TranscriptPriority.MANE_SELECT: 'mane_select'>,\n",
       "   'strand': <Strand.POSITIVE: 1>,\n",
       "   'exonEnd': 20,\n",
       "   'exonEndOffset': 0,\n",
       "   'gene': {'conceptType': 'Gene',\n",
       "    'name': 'EML4',\n",
       "    'primaryCoding': {'id': 'hgnc:1316',\n",
       "     'system': 'https://www.genenames.org/data/gene-symbol-report/#!/hgnc_id/',\n",
       "     'code': 'HGNC:1316'}},\n",
       "   'elementGenomicEnd': {'id': 'ga4gh:SL.-IgV899bqi2cN3ugOPhJG_ZAbuUgrN7N',\n",
       "    'type': 'SequenceLocation',\n",
       "    'extensions': [{'name': 'is_exonic', 'value': True}],\n",
       "    'digest': '-IgV899bqi2cN3ugOPhJG_ZAbuUgrN7N',\n",
       "    'sequenceReference': {'id': 'refseq:NC_000002.12',\n",
       "     'type': 'SequenceReference',\n",
       "     'refgetAccession': 'SQ.pnAqCRBrTsUoBghSD1yp_jXWSmlbdh4g'},\n",
       "    'end': 42325554}},\n",
       "  {'type': <FUSORTypes.TRANSCRIPT_SEGMENT_ELEMENT: 'TranscriptSegmentElement'>,\n",
       "   'transcript': 'refseq:NM_004304.5',\n",
       "   'transcriptStatus': <TranscriptPriority.MANE_SELECT: 'mane_select'>,\n",
       "   'strand': <Strand.NEGATIVE: -1>,\n",
       "   'exonStart': 20,\n",
       "   'exonStartOffset': 0,\n",
       "   'gene': {'conceptType': 'Gene',\n",
       "    'name': 'ALK',\n",
       "    'primaryCoding': {'id': 'hgnc:427',\n",
       "     'system': 'https://www.genenames.org/data/gene-symbol-report/#!/hgnc_id/',\n",
       "     'code': 'HGNC:427'}},\n",
       "   'elementGenomicStart': {'id': 'ga4gh:SL.Eu_igVd9zOahn3tFN-pyxtphUmrSlRAh',\n",
       "    'type': 'SequenceLocation',\n",
       "    'extensions': [{'name': 'is_exonic', 'value': True}],\n",
       "    'digest': 'Eu_igVd9zOahn3tFN-pyxtphUmrSlRAh',\n",
       "    'sequenceReference': {'id': 'refseq:NC_000002.12',\n",
       "     'type': 'SequenceReference',\n",
       "     'refgetAccession': 'SQ.pnAqCRBrTsUoBghSD1yp_jXWSmlbdh4g'},\n",
       "    'end': 29223528}}],\n",
       " 'type': <FUSORTypes.CATEGORICAL_FUSION: 'CategoricalFusion'>,\n",
       " 'viccNomenclature': 'NM_019063.5(EML4):e.20::NM_004304.5(ALK):e.20',\n",
       " 'extensions': [{'name': 'civicMolecularProfiles',\n",
       "   'value': [<CIViC molecular_profile 496>]}]}"
      ]
     },
     "execution_count": 8,
     "metadata": {},
     "output_type": "execute_result"
    }
   ],
   "source": [
    "# Print second match for EML4::ALK\n",
    "matches[0][1][0].model_dump(exclude_none=True)"
   ]
  },
  {
   "cell_type": "markdown",
   "id": "b7b1eda6",
   "metadata": {},
   "source": [
    "### View Standardized Evidence for each matching CategoricalFusion object\n",
    "Run the cells below to view an associated evidence item for a matching CategoricalFusion object"
   ]
  },
  {
   "cell_type": "markdown",
   "id": "00989dd9",
   "metadata": {},
   "source": [
    "### EML4::ALK"
   ]
  },
  {
   "cell_type": "code",
   "execution_count": 9,
   "id": "c8e9f12c",
   "metadata": {},
   "outputs": [
    {
     "data": {
      "text/plain": [
       "{'_assertions': [<CIViC assertion 3>],\n",
       " '_therapies': [<CIViC therapy 12>],\n",
       " '_phenotypes': [],\n",
       " '_incomplete': {'phenotypes', 'therapies'},\n",
       " '_partial': False,\n",
       " 'type': 'evidence',\n",
       " 'id': 262,\n",
       " 'variant_origin': 'SOMATIC',\n",
       " 'therapy_interaction_type': None,\n",
       " 'therapy_ids': [12],\n",
       " 'status': 'accepted',\n",
       " 'source_id': 166,\n",
       " 'significance': 'SENSITIVITYRESPONSE',\n",
       " 'rating': 4,\n",
       " 'phenotype_ids': [],\n",
       " 'name': 'EID262',\n",
       " 'molecular_profile_id': 5,\n",
       " 'evidence_type': 'PREDICTIVE',\n",
       " 'evidence_level': 'C',\n",
       " 'evidence_direction': 'SUPPORTS',\n",
       " 'disease_id': 30,\n",
       " 'description': 'A 28 year-old patient with non-small cell lung cancer that failed conventional therapy was found to harbor the EML4-ALK (E13;A20) fusion using reverse transcription PCR. Treatment with 250mg crizotinib twice daily resulted in rapid improvement of symptoms and disease control for 5 months.',\n",
       " 'assertion_ids': [3],\n",
       " '_include_status': ['accepted', 'submitted', 'rejected']}"
      ]
     },
     "execution_count": 9,
     "metadata": {},
     "output_type": "execute_result"
    }
   ],
   "source": [
    "# View evidence item linked to matched EML4::ALK categorical fusion\n",
    "matches[0][0][0].extensions[0].value[0].evidence_items[0].__dict__"
   ]
  },
  {
   "cell_type": "code",
   "execution_count": 10,
   "id": "09a8ad13",
   "metadata": {},
   "outputs": [
    {
     "data": {
      "text/plain": [
       "{'_assertions': [<CIViC assertion 3>],\n",
       " '_therapies': [<CIViC therapy 12>],\n",
       " '_phenotypes': [],\n",
       " '_incomplete': {'phenotypes', 'therapies'},\n",
       " '_partial': False,\n",
       " 'type': 'evidence',\n",
       " 'id': 1189,\n",
       " 'variant_origin': 'SOMATIC',\n",
       " 'therapy_interaction_type': None,\n",
       " 'therapy_ids': [12],\n",
       " 'status': 'accepted',\n",
       " 'source_id': 819,\n",
       " 'significance': 'SENSITIVITYRESPONSE',\n",
       " 'rating': 2,\n",
       " 'phenotype_ids': [],\n",
       " 'name': 'EID1189',\n",
       " 'molecular_profile_id': 496,\n",
       " 'evidence_type': 'PREDICTIVE',\n",
       " 'evidence_level': 'C',\n",
       " 'evidence_direction': 'SUPPORTS',\n",
       " 'disease_id': 8,\n",
       " 'description': 'In the PROFILE 1001 study, from 31 NSCLC tumors positive for ALK fusions with sufficient material for RT-PCR aided exon breakpoint identification, 1 case of EML4-ALK variant 2 (EML4 exon 20 fused to ALK exon 20) was found. This patient had adenocarcinoma and a 9 pack year smoking history. Crizotinib treatment duration was over 16 weeks. The patient had multiple lines of prior treatment and showed a partial response to first-time crizotinib treatment. Overall, in the 82 ALK positive patients treated in the study, 46 had partial responses (including this patient) and 1 had a complete response for an overall response rate of 57%.',\n",
       " 'assertion_ids': [3],\n",
       " '_include_status': ['accepted', 'submitted', 'rejected']}"
      ]
     },
     "execution_count": 10,
     "metadata": {},
     "output_type": "execute_result"
    }
   ],
   "source": [
    "# View evidence item linked to matched EML4::ALK categorical fusion\n",
    "matches[0][1][0].extensions[0].value[0].evidence_items[0].__dict__"
   ]
  },
  {
   "cell_type": "markdown",
   "id": "c32bfe82",
   "metadata": {},
   "source": [
    "### Evidence Matching against CIVIC and Molecular Oncology Almanac (MOA)\n",
    "The example below displays how a detected BCR::ABL1 fusion can be matched against the CIVIC and MOA knowledgebases"
   ]
  },
  {
   "cell_type": "markdown",
   "id": "5dd3aa06",
   "metadata": {},
   "source": [
    "#### Load and standardize patient fusion"
   ]
  },
  {
   "cell_type": "code",
   "execution_count": 11,
   "id": "02814194",
   "metadata": {},
   "outputs": [],
   "source": [
    "from fusor.harvester import ArribaHarvester\n",
    "\n",
    "path = Path(\"../../tests/fixtures/fusions_arriba_test.tsv\")\n",
    "harvester = ArribaHarvester(fusor=fusor, assembly=Assembly.GRCH37)\n",
    "fusions_list = await harvester.load_records(path)"
   ]
  },
  {
   "cell_type": "markdown",
   "id": "062b8820",
   "metadata": {},
   "source": [
    "#### Load and standardize data from Molecular Oncology Almanac (MOA)"
   ]
  },
  {
   "cell_type": "code",
   "execution_count": 12,
   "id": "92b5485c",
   "metadata": {},
   "outputs": [
    {
     "name": "stderr",
     "output_type": "stream",
     "text": [
      "WARNING:fusor.models:Cached fusions file already exists. Overwriting with new file\n"
     ]
    }
   ],
   "source": [
    "from fusor.harvester import MOAHarvester\n",
    "harvester = MOAHarvester(fusor=fusor, cache_dir=Path(\"../../tests/fixtures\"), use_local=True)\n",
    "moa_fusions = harvester.load_records()\n",
    "\n",
    "# Save cache for later\n",
    "save_fusions_cache(moa_fusions, cache_dir=config.data_root, cache_name=\"moa_translated_fusions.pkl\")"
   ]
  },
  {
   "cell_type": "markdown",
   "id": "6ed39fe1",
   "metadata": {},
   "source": [
    "### Run FusionMatcher to gather objects containing standardized fusion knowledge from CIVIC and MOA.\n",
    "Run the cell below to use FusionMatcher to extract standardized knowledge for the fusion extracted from the Arriba file (BCR::ABL1). The score for each matching CategoricalFusion is printed at the bottom of the cell. This query matches against both the CIVIC and MOA knowledgebases."
   ]
  },
  {
   "cell_type": "code",
   "execution_count": 13,
   "id": "79afb22e",
   "metadata": {},
   "outputs": [
    {
     "name": "stdout",
     "output_type": "stream",
     "text": [
      "Fusion event: NM_004327.4(BCR):e.14::NM_005157.6(ABL1):e.2\n",
      "Match Score: MatchType.EXACT\n",
      "Fusion event: BCR(hgnc:1014)::ABL1(hgnc:76)\n",
      "Match Score: MatchType.SHARED_GENES\n",
      "Fusion event: BCR(hgnc:1014)::ABL1(hgnc:76)\n",
      "Match Score: MatchType.SHARED_GENES\n",
      "Fusion event: BCR(hgnc:1014)::ABL1(hgnc:76)\n",
      "Match Score: MatchType.SHARED_GENES\n",
      "Fusion event: BCR(hgnc:1014)::ABL1(hgnc:76)\n",
      "Match Score: MatchType.SHARED_GENES\n",
      "Fusion event: BCR(hgnc:1014)::ABL1(hgnc:76)\n",
      "Match Score: MatchType.SHARED_GENES\n",
      "Fusion event: BCR(hgnc:1014)::ABL1(hgnc:76)\n",
      "Match Score: MatchType.SHARED_GENES\n",
      "Fusion event: BCR(hgnc:1014)::ABL1(hgnc:76)\n",
      "Match Score: MatchType.SHARED_GENES\n",
      "Fusion event: BCR(hgnc:1014)::ABL1(hgnc:76)\n",
      "Match Score: MatchType.SHARED_GENES\n",
      "Fusion event: BCR(hgnc:1014)::ABL1(hgnc:76)\n",
      "Match Score: MatchType.SHARED_GENES\n",
      "Fusion event: BCR(hgnc:1014)::ABL1(hgnc:76)\n",
      "Match Score: MatchType.SHARED_GENES\n",
      "Fusion event: BCR(hgnc:1014)::ABL1(hgnc:76)\n",
      "Match Score: MatchType.SHARED_GENES\n",
      "Fusion event: BCR(hgnc:1014)::ABL1(hgnc:76)\n",
      "Match Score: MatchType.SHARED_GENES\n",
      "Fusion event: BCR(hgnc:1014)::ABL1(hgnc:76)\n",
      "Match Score: MatchType.SHARED_GENES\n",
      "Fusion event: BCR(hgnc:1014)::ABL1(hgnc:76)\n",
      "Match Score: MatchType.SHARED_GENES\n",
      "Fusion event: BCR(hgnc:1014)::ABL1(hgnc:76)\n",
      "Match Score: MatchType.SHARED_GENES\n",
      "Fusion event: BCR(hgnc:1014)::ABL1(hgnc:76)\n",
      "Match Score: MatchType.SHARED_GENES\n",
      "Fusion event: BCR(hgnc:1014)::ABL1(hgnc:76)\n",
      "Match Score: MatchType.SHARED_GENES\n",
      "Fusion event: BCR(hgnc:1014)::ABL1(hgnc:76)\n",
      "Match Score: MatchType.SHARED_GENES\n",
      "Fusion event: BCR(hgnc:1014)::ABL1(hgnc:76)\n",
      "Match Score: MatchType.SHARED_GENES\n",
      "Fusion event: BCR(hgnc:1014)::ABL1(hgnc:76)\n",
      "Match Score: MatchType.SHARED_GENES\n",
      "Fusion event: BCR(hgnc:1014)::ABL1(hgnc:76)\n",
      "Match Score: MatchType.SHARED_GENES\n",
      "Fusion event: BCR(hgnc:1014)::ABL1(hgnc:76)\n",
      "Match Score: MatchType.SHARED_GENES\n",
      "Fusion event: BCR(hgnc:1014)::ABL1(hgnc:76)\n",
      "Match Score: MatchType.SHARED_GENES\n",
      "Fusion event: BCR(hgnc:1014)::ABL1(hgnc:76)\n",
      "Match Score: MatchType.SHARED_GENES\n",
      "Fusion event: BCR(hgnc:1014)::ABL1(hgnc:76)\n",
      "Match Score: MatchType.SHARED_GENES\n",
      "Fusion event: BCR(hgnc:1014)::ABL1(hgnc:76)\n",
      "Match Score: MatchType.SHARED_GENES\n",
      "Fusion event: BCR(hgnc:1014)::ABL1(hgnc:76)\n",
      "Match Score: MatchType.SHARED_GENES\n",
      "Fusion event: BCR(hgnc:1014)::ABL1(hgnc:76)\n",
      "Match Score: MatchType.SHARED_GENES\n",
      "Fusion event: BCR(hgnc:1014)::ABL1(hgnc:76)\n",
      "Match Score: MatchType.SHARED_GENES\n",
      "Fusion event: BCR(hgnc:1014)::ABL1(hgnc:76)\n",
      "Match Score: MatchType.SHARED_GENES\n",
      "Fusion event: BCR(hgnc:1014)::ABL1(hgnc:76)\n",
      "Match Score: MatchType.SHARED_GENES\n",
      "Fusion event: BCR(hgnc:1014)::ABL1(hgnc:76)\n",
      "Match Score: MatchType.SHARED_GENES\n",
      "Fusion event: BCR(hgnc:1014)::ABL1(hgnc:76)\n",
      "Match Score: MatchType.SHARED_GENES\n",
      "Fusion event: BCR(hgnc:1014)::ABL1(hgnc:76)\n",
      "Match Score: MatchType.SHARED_GENES\n",
      "Fusion event: BCR(hgnc:1014)::ABL1(hgnc:76)\n",
      "Match Score: MatchType.SHARED_GENES\n",
      "Fusion event: BCR(hgnc:1014)::ABL1(hgnc:76)\n",
      "Match Score: MatchType.SHARED_GENES\n",
      "Fusion event: BCR(hgnc:1014)::ABL1(hgnc:76)\n",
      "Match Score: MatchType.SHARED_GENES\n",
      "Fusion event: NM_006267.5(RANBP2):e.18::NM_005157.6(ABL1):e.2\n",
      "Match Score: MatchType.THREE_PRIME_EXACT\n",
      "Fusion event: NM_020338.4(ZMIZ1):e.18::NM_005157.6(ABL1):e.2\n",
      "Match Score: MatchType.THREE_PRIME_EXACT\n",
      "Fusion event: BCR(hgnc:1014)::JAK2(hgnc:6192)\n",
      "Match Score: MatchType.FIVE_PRIME_GENE\n",
      "Fusion event: BCR(hgnc:1014)::PDGFRA(hgnc:8803)\n",
      "Match Score: MatchType.FIVE_PRIME_GENE\n",
      "Fusion event: BCR(hgnc:1014)::FGFR1(hgnc:3688)\n",
      "Match Score: MatchType.FIVE_PRIME_GENE\n",
      "Fusion event: BCR(hgnc:1014)::NTRK2(hgnc:8032)\n",
      "Match Score: MatchType.FIVE_PRIME_GENE\n",
      "Fusion event: ETV6(hgnc:3495)::ABL1(hgnc:76)\n",
      "Match Score: MatchType.THREE_PRIME_GENE\n",
      "Fusion event: NM_005085.4(NUP214):e.34::NM_005157.6(ABL1):e.3\n",
      "Match Score: MatchType.THREE_PRIME_GENE\n",
      "Fusion event: NM_003100.4(SNX2):e.3::NM_005157.6(ABL1):e.4\n",
      "Match Score: MatchType.THREE_PRIME_GENE\n",
      "Fusion event: NM_052862.4(RCSD1):e.4::NM_005157.6(ABL1):e.4\n",
      "Match Score: MatchType.THREE_PRIME_GENE\n",
      "Fusion event: FOXP1(hgnc:3823)::ABL1(hgnc:76)\n",
      "Match Score: MatchType.THREE_PRIME_GENE\n",
      "Fusion event: CENPC(hgnc:1854)::ABL1(hgnc:76)\n",
      "Match Score: MatchType.THREE_PRIME_GENE\n",
      "Fusion event: NUP153(hgnc:8062)::ABL1(hgnc:76)\n",
      "Match Score: MatchType.THREE_PRIME_GENE\n",
      "Fusion event: LSM14A(hgnc:24489)::ABL1(hgnc:76)\n",
      "Match Score: MatchType.THREE_PRIME_GENE\n",
      "Fusion event: SFPQ(hgnc:10774)::ABL1(hgnc:76)\n",
      "Match Score: MatchType.THREE_PRIME_GENE\n"
     ]
    }
   ],
   "source": [
    "# Generate list of matches, report match score\n",
    "from fusor.fusion_matching import FusionMatcher\n",
    "\n",
    "# Initialize FusionMatcher and define sources to match against. This time, we will use\n",
    "# the cache_files field, using the cached pickle files that have been saved\n",
    "fm = FusionMatcher(assayed_fusions=fusions_list,\n",
    "                   cache_dir=config.data_root,\n",
    "                   cache_files=[\"civic_translated_fusions.pkl\", \"moa_translated_fusions.pkl\"])\n",
    "\n",
    "# Generate list of matching fusions\n",
    "matches = await fm.match_fusion()\n",
    "for matching_output in matches:\n",
    "    for match in matching_output:\n",
    "        print(f\"Fusion event: {match[0].viccNomenclature}\")\n",
    "        print(f\"Match Score: {match[1]}\")"
   ]
  },
  {
   "cell_type": "markdown",
   "id": "40bf2185",
   "metadata": {},
   "source": [
    "The cell below can be uncommented to view the corresponding matches. Assertion and evidence information from CIVIC and MOA can be accessed through the `extensions` field."
   ]
  },
  {
   "cell_type": "code",
   "execution_count": 14,
   "id": "af5e10b1",
   "metadata": {},
   "outputs": [],
   "source": [
    "#matches"
   ]
  }
 ],
 "metadata": {
  "kernelspec": {
   "display_name": "fusor",
   "language": "python",
   "name": "python3"
  },
  "language_info": {
   "codemirror_mode": {
    "name": "ipython",
    "version": 3
   },
   "file_extension": ".py",
   "mimetype": "text/x-python",
   "name": "python",
   "nbconvert_exporter": "python",
   "pygments_lexer": "ipython3",
   "version": "3.13.5"
  }
 },
 "nbformat": 4,
 "nbformat_minor": 5
}

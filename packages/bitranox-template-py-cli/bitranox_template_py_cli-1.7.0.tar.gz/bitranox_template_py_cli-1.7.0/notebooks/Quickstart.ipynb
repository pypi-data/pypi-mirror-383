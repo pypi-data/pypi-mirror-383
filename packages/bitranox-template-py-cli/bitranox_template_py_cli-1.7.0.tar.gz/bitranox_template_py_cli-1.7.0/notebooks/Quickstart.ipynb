{
  "cells": [
    {
      "cell_type": "markdown",
      "id": "intro",
      "metadata": {},
      "source": [
        "# bitranox_template_py_cli Quickstart\n",
        "\n",
        "Install the package (from PyPI or GitHub), then try the CLI and API examples below."
      ]
    },
    {
      "cell_type": "markdown",
      "id": "github-title",
      "metadata": {},
      "source": [
        "## 1) Install latest from GitHub (default)"
      ]
    },
    {
      "cell_type": "code",
      "execution_count": null,
      "id": "github-install",
      "metadata": {},
      "outputs": [],
      "source": [
        "# update pip and setuptools\n",
        "import sys\n",
        "\n",
        "!{sys.executable} -m pip install --upgrade pip\n",
        "!{sys.executable} -m pip install --upgrade setuptools\n",
        "\n",
        "# install bitranox_template_py_cli from GitHub (default)\n",
        "!{sys.executable} -m pip install --upgrade git+https://github.com/bitranox/bitranox_template_py_cli.git"
      ]
    },
    {
      "cell_type": "markdown",
      "id": "pypi-title",
      "metadata": {},
      "source": [
        "## Or: Install from PyPI (alternative)\n",
        "Uncomment and run the cell below if you prefer the PyPI release."
      ]
    },
    {
      "cell_type": "code",
      "execution_count": null,
      "id": "pypi-install",
      "metadata": {},
      "outputs": [],
      "source": [
        "# !{sys.executable} -m pip install --upgrade bitranox_template_py_cli\n"
      ]
    },
    {
      "cell_type": "markdown",
      "id": "cli-title",
      "metadata": {},
      "source": [
        "## 2) CLI: version and help"
      ]
    },
    {
      "cell_type": "code",
      "execution_count": null,
      "id": "cli-code",
      "metadata": {},
      "outputs": [],
      "source": [
        "!bitranox_template_py_cli --version\n",
        "!bitranox_template_py_cli --help\n",
        "!bitranox_template_py_cli info\n",
        "!bitranox_template_py_cli hello\n",
        "!bitranox_template_py_cli fail"
      ]
    },
    {
      "cell_type": "markdown",
      "id": "cli-fail-no-traceback-title",
      "metadata": {},
      "source": [
        "## 3) CLI fail without traceback"
      ]
    },
    {
      "cell_type": "code",
      "execution_count": null,
      "id": "cli-fail-no-traceback-code",
      "metadata": {},
      "outputs": [],
      "source": [
        "!bitranox_template_py_cli fail"
      ]
    },
    {
      "cell_type": "markdown",
      "id": "cli-fail-with-traceback-title",
      "metadata": {},
      "source": [
        "## 4) CLI fail with traceback"
      ]
    },
    {
      "cell_type": "code",
      "execution_count": null,
      "id": "cli-fail-with-traceback-code",
      "metadata": {},
      "outputs": [],
      "source": [
        "!bitranox_template_py_cli --traceback fail"
      ]
    },
    {
      "cell_type": "markdown",
      "id": "script-fail-no-traceback-title",
      "metadata": {},
      "source": [
        "## 5) script fail without traceback"
      ]
    },
    {
      "cell_type": "code",
      "execution_count": null,
      "id": "script-fail-no-traceback-code",
      "metadata": {},
      "outputs": [],
      "source": [
        "!{sys.executable} -m bitranox_template_py_cli fail"
      ]
    },
    {
      "cell_type": "markdown",
      "id": "script-fail-with-traceback-title",
      "metadata": {},
      "source": [
        "## 6) script fail with traceback"
      ]
    },
    {
      "cell_type": "code",
      "execution_count": null,
      "id": "script-fail-with-traceback-code",
      "metadata": {},
      "outputs": [],
      "source": [
        "!{sys.executable} -m bitranox_template_py_cli --traceback fail"
      ]
    }
  ],
  "metadata": {
    "kernelspec": {
      "display_name": "Python 3",
      "language": "python",
      "name": "python3"
    },
    "language_info": {
      "name": "python",
      "version": "3"
    }
  },
  "nbformat": 4,
  "nbformat_minor": 5
}

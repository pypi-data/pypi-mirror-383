{
 "cells": [
  {
   "cell_type": "code",
   "execution_count": null,
   "id": "e125893e-9f1a-4335-83a0-cffd4df90770",
   "metadata": {},
   "outputs": [],
   "source": [
    "import os\n",
    "\n",
    "from rich import print as rprint\n",
    "\n",
    "from entitysdk.client import Client\n",
    "from entitysdk.common import ProjectContext\n",
    "from entitysdk.models import (\n",
    "    MTypeClass,\n",
    "    Organization,\n",
    "    Person,\n",
    "    CellMorphology,\n",
    "    Role,\n",
    "    Species,\n",
    "    Strain,\n",
    ")\n",
    "\n",
    "entitycore_api_url = \"http://127.0.0.1:8000\"\n",
    "project_context = ProjectContext(\n",
    "    virtual_lab_id=\"a98b7abc-fc46-4700-9e3d-37137812c730\",\n",
    "    project_id=\"0dbced5f-cc3d-488a-8c7f-cfb8ea039dc6\",\n",
    ")\n",
    "token = os.getenv(\"ACCESS_TOKEN\", \"XXX\")\n",
    "client = Client(api_url=entitycore_api_url, project_context=project_context, token_manager=token)\n",
    "\n",
    "\n",
    "# uncomment for staging\n",
    "# from obi_auth import get_token\n",
    "\n",
    "# token = get_token(environment=\"staging\")\n",
    "# client = Client(environment=\"staging\")"
   ]
  },
  {
   "cell_type": "markdown",
   "id": "9130787e-65ff-404b-9400-2af2ca4e84d5",
   "metadata": {},
   "source": [
    "## List all species"
   ]
  },
  {
   "cell_type": "code",
   "execution_count": null,
   "id": "40c5e95e-c10a-404d-8d98-be21ac04709a",
   "metadata": {},
   "outputs": [],
   "source": [
    "all_species = client.search_entity(entity_type=Species).all()"
   ]
  },
  {
   "cell_type": "code",
   "execution_count": null,
   "id": "afe6d8c2-22d7-4971-abf6-72fcc375d7f7",
   "metadata": {},
   "outputs": [],
   "source": [
    "rprint(len(all_species))\n",
    "rprint(all_species)"
   ]
  },
  {
   "cell_type": "markdown",
   "id": "bede81dc-0915-4272-be75-4af6f4b67b71",
   "metadata": {},
   "source": [
    "## List all strains"
   ]
  },
  {
   "cell_type": "code",
   "execution_count": null,
   "id": "0e84c5ef-549d-47df-abb4-eda9527b235b",
   "metadata": {},
   "outputs": [],
   "source": [
    "all_strains = client.search_entity(entity_type=Strain).all()"
   ]
  },
  {
   "cell_type": "code",
   "execution_count": null,
   "id": "8f1acd65-7599-4c61-b77d-cced760f395a",
   "metadata": {},
   "outputs": [],
   "source": [
    "rprint(len(all_strains))\n",
    "rprint(all_strains[:2])"
   ]
  },
  {
   "cell_type": "markdown",
   "id": "099614f8-b326-48f8-aa76-ca3e2b00aba4",
   "metadata": {},
   "source": [
    "## List all roles"
   ]
  },
  {
   "cell_type": "code",
   "execution_count": null,
   "id": "24cbf54b-2759-4e44-b275-078c0b1169a1",
   "metadata": {},
   "outputs": [],
   "source": [
    "all_roles = client.search_entity(entity_type=Role).all()"
   ]
  },
  {
   "cell_type": "code",
   "execution_count": null,
   "id": "9ede09f1-77cd-419c-8161-9b3df86b5e1c",
   "metadata": {},
   "outputs": [],
   "source": [
    "rprint(len(all_roles))\n",
    "rprint(all_roles[:2])"
   ]
  },
  {
   "cell_type": "markdown",
   "id": "080a8aed-2ef9-48fe-9d5d-a9d66dc0bdb9",
   "metadata": {},
   "source": [
    "## List all users"
   ]
  },
  {
   "cell_type": "code",
   "execution_count": null,
   "id": "ad3b9059-3c50-4cbd-86df-9f5af4ec1df9",
   "metadata": {},
   "outputs": [],
   "source": [
    "all_users = client.search_entity(entity_type=Person).all()"
   ]
  },
  {
   "cell_type": "code",
   "execution_count": null,
   "id": "df61dce3-dc45-425b-a88d-a985a199578c",
   "metadata": {},
   "outputs": [],
   "source": [
    "rprint(len(all_users))\n",
    "rprint(all_users[:2])"
   ]
  },
  {
   "cell_type": "markdown",
   "id": "a8a44e27-c30a-4fe9-90cb-64042c45e35e",
   "metadata": {},
   "source": [
    "## List all organizations"
   ]
  },
  {
   "cell_type": "code",
   "execution_count": null,
   "id": "ca81d3a8-ccc5-4982-a2d4-1f8f4ebb3644",
   "metadata": {},
   "outputs": [],
   "source": [
    "all_orgs = client.search_entity(entity_type=Organization).all()"
   ]
  },
  {
   "cell_type": "code",
   "execution_count": null,
   "id": "bb3e0881-961e-40b6-befe-b5f47e9ee539",
   "metadata": {},
   "outputs": [],
   "source": [
    "rprint(len(all_orgs))\n",
    "rprint(all_orgs[:2])"
   ]
  },
  {
   "cell_type": "markdown",
   "id": "d618e18d-dffc-4540-8aca-f2ca9e27a4c9",
   "metadata": {},
   "source": [
    "## List all mtypes"
   ]
  },
  {
   "cell_type": "code",
   "execution_count": null,
   "id": "9ca37909-9431-42dc-b373-292206d7e66b",
   "metadata": {},
   "outputs": [],
   "source": [
    "all_mtypes = client.search_entity(entity_type=MTypeClass).all()"
   ]
  },
  {
   "cell_type": "code",
   "execution_count": null,
   "id": "030da0a2-2e54-4fca-85fc-c147e1bb8c8b",
   "metadata": {},
   "outputs": [],
   "source": [
    "rprint(len(all_mtypes))\n",
    "rprint(all_mtypes[:2])"
   ]
  },
  {
   "cell_type": "markdown",
   "id": "cbb7263f-11da-4ab1-b7a9-61dde72645f9",
   "metadata": {},
   "source": [
    "## List N morphologies"
   ]
  },
  {
   "cell_type": "code",
   "execution_count": null,
   "id": "c139fe93-6f0f-4d82-b73f-cd0dc5d72aff",
   "metadata": {},
   "outputs": [],
   "source": [
    "morphs = client.search_entity(entity_type=CellMorphology, limit=10).all()"
   ]
  },
  {
   "cell_type": "code",
   "execution_count": null,
   "id": "cb748567-21f8-4f79-9abb-93d2dfc07c29",
   "metadata": {},
   "outputs": [],
   "source": [
    "rprint(len(morphs))\n",
    "rprint(morphs[:2])"
   ]
  },
  {
   "cell_type": "markdown",
   "id": "fae8506b-9cbc-433b-a17d-6ce3d84bcf4c",
   "metadata": {},
   "source": [
    "## Find morphologies by mtype"
   ]
  },
  {
   "cell_type": "code",
   "execution_count": null,
   "id": "cfb1e69c-6117-4104-ba4e-21b43d3aa351",
   "metadata": {},
   "outputs": [],
   "source": [
    "morphs = client.search_entity(\n",
    "    entity_type=CellMorphology, query={\"mtype__pref_label\": \"SR_PC\"}\n",
    ").all()"
   ]
  },
  {
   "cell_type": "code",
   "execution_count": null,
   "id": "5f4270e4-3565-4062-956f-5d4746589a12",
   "metadata": {},
   "outputs": [],
   "source": [
    "rprint(len(morphs))\n",
    "rprint(morphs[:2])"
   ]
  },
  {
   "cell_type": "code",
   "execution_count": null,
   "id": "4c41d5ae-81a6-4b01-965c-3f46a082cd31",
   "metadata": {},
   "outputs": [],
   "source": []
  }
 ],
 "metadata": {
  "language_info": {
   "name": "python"
  }
 },
 "nbformat": 4,
 "nbformat_minor": 5
}

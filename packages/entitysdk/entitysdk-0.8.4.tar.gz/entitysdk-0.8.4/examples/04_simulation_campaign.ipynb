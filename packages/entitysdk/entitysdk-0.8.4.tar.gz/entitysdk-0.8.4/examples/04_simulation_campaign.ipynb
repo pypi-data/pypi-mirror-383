{
 "cells": [
  {
   "cell_type": "code",
   "execution_count": null,
   "id": "9bc20f94-86d5-494d-b2c7-079ea731c162",
   "metadata": {},
   "outputs": [],
   "source": [
    "import os\n",
    "from datetime import UTC, datetime\n",
    "\n",
    "from rich import print as rprint\n",
    "\n",
    "from entitysdk import Client, ProjectContext, models\n",
    "\n",
    "entitycore_api_url = \"http://127.0.0.1:8000\"\n",
    "project_context = ProjectContext(\n",
    "    virtual_lab_id=\"a98b7abc-fc46-4700-9e3d-37137812c730\",\n",
    "    project_id=\"0dbced5f-cc3d-488a-8c7f-cfb8ea039dc6\",\n",
    ")\n",
    "token = os.getenv(\"ACCESS_TOKEN\", \"XXX\")\n",
    "client = Client(api_url=entitycore_api_url, project_context=project_context, token_manager=token)"
   ]
  },
  {
   "cell_type": "markdown",
   "id": "2e29f4cb-28ae-447a-8ac2-bc319f2d33b8",
   "metadata": {},
   "source": [
    "## Register a Circuit"
   ]
  },
  {
   "cell_type": "code",
   "execution_count": null,
   "id": "5d5d04b1-59be-44a9-a283-2856783768f0",
   "metadata": {},
   "outputs": [],
   "source": [
    "species = client.search_entity(\n",
    "    entity_type=models.Species, query={\"name__ilike\": \"Homo sapiens\"}\n",
    ").one()\n",
    "\n",
    "subject = models.Subject(\n",
    "    name=\"my-subject\", description=\"my-subject-description\", sex=\"male\", species=species\n",
    ")\n",
    "subject = client.register_entity(subject)\n",
    "\n",
    "brain_region = client.search_entity(entity_type=models.BrainRegion, query={\"acronym\": \"CB\"}).first()\n",
    "\n",
    "\n",
    "circuit = models.Circuit(\n",
    "    name=\"my-circuit\",\n",
    "    description=\"my-circuit\",\n",
    "    subject=subject,\n",
    "    brain_region=brain_region,\n",
    "    number_synapses=2,\n",
    "    number_neurons=5,\n",
    "    number_connections=10,\n",
    "    scale=\"microcircuit\",\n",
    "    build_category=\"em_reconstruction\",\n",
    ")\n",
    "\n",
    "circuit = client.register_entity(circuit)"
   ]
  },
  {
   "cell_type": "markdown",
   "id": "08520e6d-1b5d-4d89-afeb-1f77feeeff6d",
   "metadata": {},
   "source": [
    "# 1. Register the entire provenance at once\n",
    "When all entities are available up front the entire provenance can be generated using the creation endpoints without any updating taking place."
   ]
  },
  {
   "cell_type": "markdown",
   "id": "bb0984e9-b382-435c-b114-69b76403dcda",
   "metadata": {},
   "source": [
    "## Register all entities"
   ]
  },
  {
   "cell_type": "code",
   "execution_count": null,
   "id": "1e7eb667-d6cf-46db-9f7c-b69ab1838cf5",
   "metadata": {},
   "outputs": [],
   "source": [
    "campaign = client.register_entity(\n",
    "    models.SimulationCampaign(\n",
    "        name=\"my-campaign\",\n",
    "        description=\"my-campaign-description\",\n",
    "        entity_id=circuit.id,\n",
    "        scan_parameters={\"foo\": \"bar\"},\n",
    "    )\n",
    ")\n",
    "\n",
    "simulations = [\n",
    "    client.register_entity(\n",
    "        models.Simulation(\n",
    "            name=f\"sim-{i}\",\n",
    "            description=f\"sim-{i}\",\n",
    "            scan_parameters={\"foo\": \"bar\"},\n",
    "            entity_id=circuit.id,\n",
    "            simulation_campaign_id=campaign.id,\n",
    "        )\n",
    "    )\n",
    "    for i in range(5)\n",
    "]\n",
    "simulation_results = [\n",
    "    client.register_entity(\n",
    "        models.SimulationResult(\n",
    "            name=f\"result-{i}\",\n",
    "            description=f\"result-{i}\",\n",
    "            simulation_id=simulations[i].id,\n",
    "        )\n",
    "    )\n",
    "    for i in range(5)\n",
    "]"
   ]
  },
  {
   "cell_type": "markdown",
   "id": "6c8b7d39-2858-4d39-8a87-01f8fd71c2af",
   "metadata": {},
   "source": [
    "## Register activities"
   ]
  },
  {
   "cell_type": "code",
   "execution_count": null,
   "id": "4a13c71f-84ae-4bcf-bfbd-637b124963db",
   "metadata": {},
   "outputs": [],
   "source": [
    "simulation_generation = client.register_entity(\n",
    "    models.SimulationGeneration(\n",
    "        start_time=datetime.now(UTC),\n",
    "        used=[campaign],\n",
    "        generated=simulations,\n",
    "    )\n",
    ")\n",
    "\n",
    "simulation_executions = [\n",
    "    client.register_entity(\n",
    "        models.SimulationExecution(\n",
    "            used=[simulations[i]],\n",
    "            generated=[simulation_results[i]],\n",
    "            start_time=datetime.now(UTC),\n",
    "            status=\"done\",\n",
    "        )\n",
    "    )\n",
    "    for i in range(5)\n",
    "]"
   ]
  },
  {
   "cell_type": "code",
   "execution_count": null,
   "id": "085c2ae7-ca05-49d9-92a7-a14db5b52616",
   "metadata": {},
   "outputs": [],
   "source": [
    "rprint(simulation_generation)\n",
    "rprint(simulation_executions)"
   ]
  },
  {
   "cell_type": "markdown",
   "id": "34d071a7-47d5-4f46-ba42-269082cfc71e",
   "metadata": {},
   "source": [
    "# 2. Register provenance gradually"
   ]
  },
  {
   "cell_type": "markdown",
   "id": "eb0132f6-88e4-4700-a2b7-799bb0ee77e6",
   "metadata": {},
   "source": [
    "## Register a SimulationCampaign"
   ]
  },
  {
   "cell_type": "code",
   "execution_count": null,
   "id": "ed03bf00-51da-43eb-b887-8d0502c404c6",
   "metadata": {},
   "outputs": [],
   "source": [
    "campaign = client.register_entity(\n",
    "    models.SimulationCampaign(\n",
    "        name=\"my-campaign\",\n",
    "        description=\"my-campaign-description\",\n",
    "        entity_id=circuit.id,\n",
    "        scan_parameters={\"foo\": \"bar\"},\n",
    "    )\n",
    ")"
   ]
  },
  {
   "cell_type": "markdown",
   "id": "379201b4-39fd-4c0c-ac51-bc6bc2a976cb",
   "metadata": {},
   "source": [
    "## Register SimulationGeneration"
   ]
  },
  {
   "cell_type": "code",
   "execution_count": null,
   "id": "279f388c-968d-4a4f-bdf5-34612bce6440",
   "metadata": {},
   "outputs": [],
   "source": [
    "sim_generation = client.register_entity(\n",
    "    models.SimulationGeneration(\n",
    "        start_time=datetime.now(UTC),\n",
    "        used=[campaign],\n",
    "    )\n",
    ")"
   ]
  },
  {
   "cell_type": "markdown",
   "id": "d5c5fd58-3c00-4452-90ac-54ca0269e165",
   "metadata": {},
   "source": [
    "## Register Simulations"
   ]
  },
  {
   "cell_type": "code",
   "execution_count": null,
   "id": "75430feb-1bf2-4152-8204-75619fe8d51e",
   "metadata": {},
   "outputs": [],
   "source": [
    "simulations = [\n",
    "    client.register_entity(\n",
    "        models.Simulation(\n",
    "            name=f\"sim-{i}\",\n",
    "            description=f\"sim-{i}\",\n",
    "            scan_parameters={\"foo\": \"bar\"},\n",
    "            entity_id=circuit.id,\n",
    "            simulation_campaign_id=campaign.id,\n",
    "        )\n",
    "    )\n",
    "    for i in range(5)\n",
    "]"
   ]
  },
  {
   "cell_type": "markdown",
   "id": "847511de-60a7-4c37-aeae-9eba5ee50f8a",
   "metadata": {},
   "source": [
    "## Update SimulationGeneration with simulations"
   ]
  },
  {
   "cell_type": "code",
   "execution_count": null,
   "id": "6f113473-4af1-4824-9102-f64e6ddc779d",
   "metadata": {},
   "outputs": [],
   "source": [
    "data_to_update = {\n",
    "    \"generated_ids\": [s.id for s in simulations],\n",
    "    \"end_time\": datetime.now(UTC),\n",
    "}\n",
    "\n",
    "updated_sim_generation = client.update_entity(\n",
    "    entity_id=sim_generation.id, entity_type=type(sim_generation), attrs_or_entity=data_to_update\n",
    ")"
   ]
  },
  {
   "cell_type": "code",
   "execution_count": null,
   "id": "29ee7fc8-da7a-4a05-af19-5032865e7246",
   "metadata": {},
   "outputs": [],
   "source": [
    "rprint(updated_sim_generation)"
   ]
  },
  {
   "cell_type": "markdown",
   "id": "027b5f7a-5191-4785-9e45-616a8c1a93da",
   "metadata": {},
   "source": [
    "## Create simulation executions"
   ]
  },
  {
   "cell_type": "code",
   "execution_count": null,
   "id": "5622a11d-205d-458c-b3a9-6002cc6f9ae0",
   "metadata": {},
   "outputs": [],
   "source": [
    "executions = [\n",
    "    client.register_entity(\n",
    "        models.SimulationExecution(\n",
    "            used=[simulations[i]],\n",
    "            start_time=datetime.now(UTC),\n",
    "            status=\"created\",\n",
    "        )\n",
    "    )\n",
    "    for i in range(5)\n",
    "]"
   ]
  },
  {
   "cell_type": "markdown",
   "id": "9ffccf17-1429-4538-bec0-21e9cc444a95",
   "metadata": {},
   "source": [
    "## Create simulation results"
   ]
  },
  {
   "cell_type": "code",
   "execution_count": null,
   "id": "b74fab6e-be66-4c0a-bd0d-da4ecdcabed3",
   "metadata": {},
   "outputs": [],
   "source": [
    "results = [\n",
    "    client.register_entity(\n",
    "        models.SimulationResult(\n",
    "            name=f\"result-{i}\",\n",
    "            description=f\"result-{i}\",\n",
    "            simulation_id=simulations[i].id,\n",
    "        )\n",
    "    )\n",
    "    for i in range(5)\n",
    "]"
   ]
  },
  {
   "cell_type": "markdown",
   "id": "77819c3b-a111-4c62-bf07-a66a1801b69f",
   "metadata": {},
   "source": [
    "## Update simulation executions with results"
   ]
  },
  {
   "cell_type": "code",
   "execution_count": null,
   "id": "6ee592a1-06a5-4593-bb00-84ea40e956e0",
   "metadata": {},
   "outputs": [],
   "source": [
    "updated_executions = [\n",
    "    client.update_entity(\n",
    "        entity_id=executions[i].id,\n",
    "        entity_type=models.SimulationExecution,\n",
    "        attrs_or_entity={\n",
    "            \"generated_ids\": [results[i].id],\n",
    "            \"end_time\": datetime.now(UTC),\n",
    "            \"status\": \"done\",\n",
    "        },\n",
    "    )\n",
    "    for i in range(5)\n",
    "]"
   ]
  },
  {
   "cell_type": "code",
   "execution_count": null,
   "id": "98d1320a-fdcb-4d4a-ae25-faac8d7676b3",
   "metadata": {},
   "outputs": [],
   "source": [
    "rprint(updated_executions)"
   ]
  }
 ],
 "metadata": {
  "language_info": {
   "name": "python"
  }
 },
 "nbformat": 4,
 "nbformat_minor": 5
}

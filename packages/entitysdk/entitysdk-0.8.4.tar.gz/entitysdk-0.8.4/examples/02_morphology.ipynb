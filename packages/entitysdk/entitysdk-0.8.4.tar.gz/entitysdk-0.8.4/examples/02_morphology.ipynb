{
 "cells": [
  {
   "cell_type": "code",
   "execution_count": null,
   "id": "47471adc-9c79-4262-9fc4-66f5579f14a8",
   "metadata": {},
   "outputs": [],
   "source": [
    "import io\n",
    "import os\n",
    "import tempfile\n",
    "from pathlib import Path\n",
    "\n",
    "from rich import print as rprint\n",
    "\n",
    "from entitysdk.client import Client\n",
    "from entitysdk.common import ProjectContext\n",
    "from entitysdk.models import (\n",
    "    BrainLocation,\n",
    "    BrainRegion,\n",
    "    CellMorphology,\n",
    "    CellMorphologyProtocol,\n",
    "    Contribution,\n",
    "    MTypeClass,\n",
    "    MTypeClassification,\n",
    "    Organization,\n",
    "    Role,\n",
    "    Species,\n",
    "    Strain,\n",
    "    Subject,\n",
    ")\n",
    "from entitysdk.types import (\n",
    "    CellMorphologyGenerationType,\n",
    "    CellMorphologyProtocolDesign,\n",
    "    SlicingDirectionType,\n",
    ")"
   ]
  },
  {
   "cell_type": "markdown",
   "id": "cacdf95f-d545-417b-b1bd-c8a5181c162f",
   "metadata": {},
   "source": [
    "### Initialize the entitycore client"
   ]
  },
  {
   "cell_type": "code",
   "execution_count": null,
   "id": "5e4f4ff2-3d5b-4f3a-90a9-ea43d587ebce",
   "metadata": {},
   "outputs": [],
   "source": [
    "entitycore_api_url = \"http://127.0.0.1:8000\"\n",
    "project_context = ProjectContext(\n",
    "    virtual_lab_id=\"a98b7abc-fc46-4700-9e3d-37137812c730\",\n",
    "    project_id=\"0dbced5f-cc3d-488a-8c7f-cfb8ea039dc6\",\n",
    ")\n",
    "token = os.getenv(\"ACCESS_TOKEN\", \"XXX\")\n",
    "client = Client(api_url=entitycore_api_url, project_context=project_context, token_manager=token)\n",
    "\n",
    "\n",
    "# uncomment for staging\n",
    "# from obi_auth import get_token\n",
    "# token = get_token(environment=\"staging\")\n",
    "# Replace this with your vlab project url in staging\n",
    "# project_context = ProjectContext.from_vlab_url(\"https://staging.openbraininstitute.org/app/virtual-lab/lab/594fd60d-7a38-436f-939d-500feaa13bba/project/ff89ca07-6613-4922-9ab0-2637221db8b5/home\")\n",
    "# client = Client(environment=\"staging\", project_context=project_context)"
   ]
  },
  {
   "cell_type": "markdown",
   "id": "15b1762d-11df-42be-bcff-5f42b03ab2cd",
   "metadata": {},
   "source": [
    "## Search for entities"
   ]
  },
  {
   "cell_type": "code",
   "execution_count": null,
   "id": "93d30bc5-c40c-4a5d-ad9e-9b0c4abc3ef4",
   "metadata": {},
   "outputs": [],
   "source": [
    "species = client.search_entity(entity_type=Species, query={\"name\": \"Mus musculus\"}, limit=10).one()"
   ]
  },
  {
   "cell_type": "code",
   "execution_count": null,
   "id": "2a697b1d-2bdc-488d-8ce6-5f7547af87fe",
   "metadata": {},
   "outputs": [],
   "source": [
    "rprint(species)"
   ]
  },
  {
   "cell_type": "code",
   "execution_count": null,
   "id": "0ea7fd15-bf51-4039-a1fd-c580ce813ff3",
   "metadata": {},
   "outputs": [],
   "source": [
    "strain = client.search_entity(entity_type=Strain, query={\"name\": \"Cux2-CreERT2\"}).one()"
   ]
  },
  {
   "cell_type": "code",
   "execution_count": null,
   "id": "e5dde536-0c58-4d42-a834-1b1a0ec17e9d",
   "metadata": {},
   "outputs": [],
   "source": [
    "rprint(strain)"
   ]
  },
  {
   "cell_type": "code",
   "execution_count": null,
   "id": "5d42a174-9737-4477-830a-3dc908dea925",
   "metadata": {},
   "outputs": [],
   "source": [
    "brain_region = client.search_entity(entity_type=BrainRegion, query={\"annotation_value\": 68}).one()"
   ]
  },
  {
   "cell_type": "code",
   "execution_count": null,
   "id": "282200cd-ad0c-4bb3-bc21-88de85289179",
   "metadata": {},
   "outputs": [],
   "source": [
    "rprint(brain_region)"
   ]
  },
  {
   "cell_type": "markdown",
   "id": "65bea11e",
   "metadata": {},
   "source": [
    "### Create and register a new subject"
   ]
  },
  {
   "cell_type": "markdown",
   "id": "40772ff8",
   "metadata": {},
   "source": [
    "Subjects should be reused if possible, but they can be created when needed."
   ]
  },
  {
   "cell_type": "code",
   "execution_count": null,
   "id": "c78f0e4d",
   "metadata": {},
   "outputs": [],
   "source": [
    "subject = Subject(\n",
    "    name=\"my-subject-for-morphology\",\n",
    "    description=\"my-subject-description\",\n",
    "    sex=\"male\",\n",
    "    species=species,\n",
    "    strain=strain,\n",
    ")\n",
    "\n",
    "subject = client.register_entity(subject)\n",
    "rprint(subject)"
   ]
  },
  {
   "cell_type": "markdown",
   "id": "62e916c9",
   "metadata": {},
   "source": [
    "### Create and register a new morphology protocol"
   ]
  },
  {
   "cell_type": "markdown",
   "id": "1b2dacaf",
   "metadata": {},
   "source": [
    "Morphology protocols should be reused if possible, but they can be created when needed."
   ]
  },
  {
   "cell_type": "code",
   "execution_count": null,
   "id": "5200e8cf",
   "metadata": {},
   "outputs": [],
   "source": [
    "morphology_protocol = CellMorphologyProtocol(\n",
    "  generation_type=CellMorphologyGenerationType.digital_reconstruction,\n",
    "  protocol_document=\"https://example.com/\",\n",
    "  protocol_design=CellMorphologyProtocolDesign.cell_patch,\n",
    "  slicing_thickness=20.0,\n",
    "  slicing_direction=SlicingDirectionType.horizontal,\n",
    ")\n",
    "rprint(morphology_protocol.__class__.__name__)\n",
    "morphology_protocol = client.register_entity(morphology_protocol)\n",
    "rprint(morphology_protocol)"
   ]
  },
  {
   "cell_type": "markdown",
   "id": "ff0d1d01",
   "metadata": {},
   "source": [
    "### Optional, list morphology protocols"
   ]
  },
  {
   "cell_type": "code",
   "execution_count": null,
   "id": "71818153",
   "metadata": {},
   "outputs": [],
   "source": [
    "protocols = client.search_entity(entity_type=CellMorphologyProtocol).all()\n",
    "rprint(protocols)"
   ]
  },
  {
   "cell_type": "markdown",
   "id": "a0193055-3448-4d1c-99cc-4d953727ef4e",
   "metadata": {},
   "source": [
    "### Create a morphology object"
   ]
  },
  {
   "cell_type": "code",
   "execution_count": null,
   "id": "fdc328df-2cef-4e23-b240-2de061f0e640",
   "metadata": {},
   "outputs": [],
   "source": [
    "brain_location = BrainLocation(\n",
    "    x=4101.52490234375,\n",
    "    y=1173.8499755859375,\n",
    "    z=4744.60009765625,\n",
    ")\n",
    "morphology = CellMorphology(\n",
    "    cell_morphology_protocol=morphology_protocol,\n",
    "    name=\"my-morph\",\n",
    "    description=\"A morphology\",\n",
    "    subject=subject,\n",
    "    brain_region=brain_region,\n",
    "    location=brain_location,\n",
    "    legacy_id=None,\n",
    "    authorized_public=False,\n",
    ")"
   ]
  },
  {
   "cell_type": "code",
   "execution_count": null,
   "id": "2568abc1-8b72-4f35-85d3-19f6935ea232",
   "metadata": {},
   "outputs": [],
   "source": [
    "rprint(morphology)"
   ]
  },
  {
   "cell_type": "markdown",
   "id": "83fb7e5e-73b5-4227-aa22-90bb789b0907",
   "metadata": {},
   "source": [
    "## Register morphology"
   ]
  },
  {
   "cell_type": "code",
   "execution_count": null,
   "id": "2e32a168",
   "metadata": {},
   "outputs": [],
   "source": [
    "registered = client.register_entity(entity=morphology)"
   ]
  },
  {
   "cell_type": "code",
   "execution_count": null,
   "id": "6b029401",
   "metadata": {},
   "outputs": [],
   "source": [
    "rprint(registered)"
   ]
  },
  {
   "cell_type": "markdown",
   "id": "5a4482d8-d5d4-45b9-80cb-264c1a531216",
   "metadata": {},
   "source": [
    "## Add mtype to morphology"
   ]
  },
  {
   "cell_type": "code",
   "execution_count": null,
   "id": "540aec85-ed13-4224-99ce-a0628f3fa745",
   "metadata": {},
   "outputs": [],
   "source": [
    "mtype = client.search_entity(entity_type=MTypeClass, query={\"pref_label\": \"L5_PC\"}).one()\n",
    "\n",
    "mtype_classification = MTypeClassification(\n",
    "    mtype_class_id=mtype.id, entity_id=registered.id, authorized_public=True\n",
    ")\n",
    "\n",
    "mtype_classification = client.register_entity(mtype_classification)"
   ]
  },
  {
   "cell_type": "markdown",
   "id": "9cd036c4-e722-42a9-bed9-b6985a663400",
   "metadata": {},
   "source": [
    "## Add contribution to morphology"
   ]
  },
  {
   "cell_type": "code",
   "execution_count": null,
   "id": "c74eedae-6674-4695-b20b-177c25c8a59c",
   "metadata": {},
   "outputs": [],
   "source": [
    "agent = client.search_entity(entity_type=Organization, limit=1).one()\n",
    "role = client.search_entity(entity_type=Role, limit=1).one()\n",
    "contribution = Contribution(\n",
    "    agent=agent,\n",
    "    role=role,\n",
    "    entity=registered,\n",
    ")\n",
    "contribution = client.register_entity(contribution)"
   ]
  },
  {
   "cell_type": "code",
   "execution_count": null,
   "id": "5eea0777-2256-4c00-b387-3d8b9171ef63",
   "metadata": {},
   "outputs": [],
   "source": [
    "rprint(contribution)"
   ]
  },
  {
   "cell_type": "markdown",
   "id": "c0d500bd",
   "metadata": {},
   "source": [
    "## Upload assets"
   ]
  },
  {
   "cell_type": "code",
   "execution_count": null,
   "id": "51d0c5b4-6251-4ee4-99ef-b6449a4d5da8",
   "metadata": {},
   "outputs": [],
   "source": [
    "with tempfile.TemporaryDirectory() as tdir:\n",
    "    file1 = Path(tdir, \"morph.h5\")\n",
    "    file1.write_text(\"h5\")\n",
    "\n",
    "    file2 = Path(tdir, \"morph.swc\")\n",
    "    file2.write_text(\"swc\")\n",
    "\n",
    "    # use a filepath to register first asset\n",
    "    asset1 = client.upload_file(\n",
    "        entity_id=registered.id,\n",
    "        entity_type=CellMorphology,\n",
    "        file_path=file1,\n",
    "        file_content_type=\"application/x-hdf5\",\n",
    "        asset_label=\"morphology\",\n",
    "    )\n",
    "    rprint(asset1)\n",
    "\n",
    "    # use an in-memory buffer to upload second asset\n",
    "    buffer = io.BytesIO(b\"morph bytes buffer\")\n",
    "\n",
    "    asset2 = client.upload_content(\n",
    "        entity_id=registered.id,\n",
    "        entity_type=CellMorphology,\n",
    "        file_content=buffer,\n",
    "        file_name=\"buffer.swc\",\n",
    "        file_content_type=\"application/swc\",\n",
    "        asset_label=\"morphology\",\n",
    "    )\n",
    "    rprint(asset2)"
   ]
  },
  {
   "cell_type": "markdown",
   "id": "1b5e396e-bf57-436d-9b06-ce198afc15ca",
   "metadata": {},
   "source": [
    "## Retrieve it"
   ]
  },
  {
   "cell_type": "code",
   "execution_count": null,
   "id": "3a0f9360-a805-4ccf-ad7c-95f7237d0819",
   "metadata": {},
   "outputs": [],
   "source": [
    "# with assets and mtypes\n",
    "fetched = client.get_entity(entity_id=registered.id, entity_type=CellMorphology)"
   ]
  },
  {
   "cell_type": "markdown",
   "id": "b00725dc-ba90-4ddf-b3ba-dea612cd7720",
   "metadata": {},
   "source": [
    "## Download asset"
   ]
  },
  {
   "cell_type": "code",
   "execution_count": null,
   "id": "c89e91f7-a9bb-4d09-b921-4659e338225c",
   "metadata": {},
   "outputs": [],
   "source": [
    "downloaded = client.download_assets(\n",
    "    fetched,\n",
    "    selection={\"content_type\": \"application/swc\"},\n",
    "    output_path=\"./my-file.swc\",\n",
    ").one()\n",
    "\n",
    "content = client.download_content(\n",
    "    entity_id=fetched.id, entity_type=type(fetched), asset_id=downloaded.asset.id\n",
    ")\n",
    "\n",
    "print(content)\n",
    "print(Path(\"my-file.h5\").read_text())"
   ]
  },
  {
   "cell_type": "markdown",
   "id": "6879c149-3f59-4ee6-b878-92bdc6038de9",
   "metadata": {},
   "source": [
    "## Delete asset"
   ]
  },
  {
   "cell_type": "code",
   "execution_count": null,
   "id": "9a211674-54d2-498f-983a-ab3f3675087d",
   "metadata": {},
   "outputs": [],
   "source": [
    "for asset in fetched.assets:\n",
    "    if asset.content_type == \"application/swc\":\n",
    "        print(\"Deleting asset \", asset.id)\n",
    "        deleted_asset = client.delete_asset(\n",
    "            entity_id=fetched.id,\n",
    "            entity_type=type(registered),\n",
    "            asset_id=asset.id,\n",
    "        )\n",
    "        break\n",
    "\n",
    "rprint(deleted_asset)\n",
    "\n",
    "fetched = client.get_entity(entity_id=registered.id, entity_type=CellMorphology)\n",
    "rprint(fetched.assets)"
   ]
  },
  {
   "cell_type": "markdown",
   "id": "f15c808c-c454-4277-9ec4-587922ac74f3",
   "metadata": {},
   "source": [
    "## Search it"
   ]
  },
  {
   "cell_type": "code",
   "execution_count": null,
   "id": "956cc4d7-9ca8-4bb4-9911-648b4ca18a49",
   "metadata": {},
   "outputs": [],
   "source": [
    "hits = client.search_entity(\n",
    "    entity_type=CellMorphology,\n",
    "    query={\"name__ilike\": \"my-morph\", \"page\": 1, \"page_size\": 2},\n",
    "    limit=None,\n",
    ").all()\n",
    "\n",
    "print(\"Number of results: \", len(hits))"
   ]
  },
  {
   "cell_type": "code",
   "execution_count": null,
   "id": "4091c7a8-75b9-49d0-8c98-378b7fb5df6d",
   "metadata": {},
   "outputs": [],
   "source": [
    "rprint(hits[0])"
   ]
  },
  {
   "cell_type": "markdown",
   "id": "0cea5392",
   "metadata": {},
   "source": [
    "## Register existing data from an external cloud storage"
   ]
  },
  {
   "cell_type": "code",
   "execution_count": null,
   "id": "2c2718ce",
   "metadata": {},
   "outputs": [],
   "source": [
    "## register a file\n",
    "# asset = client.register_asset(\n",
    "#     entity_id=registered.id,\n",
    "#     entity_type=CellMorphology,\n",
    "#     name=\"my-morphology.h5\",\n",
    "#     storage_path=\"path/to/morph.h5\",\n",
    "#     storage_type=\"aws_s3_open\",\n",
    "#     is_directory=False,\n",
    "#     content_type=\"application/x-hdf5\",\n",
    "#     asset_label=\"morphology\",\n",
    "# )"
   ]
  },
  {
   "cell_type": "code",
   "execution_count": null,
   "id": "bdbe30f9",
   "metadata": {},
   "outputs": [],
   "source": [
    "## register a directory\n",
    "# asset = client.register_asset(\n",
    "#     entity_id=registered.id,\n",
    "#     entity_type=Circuit,\n",
    "#     name=\"sonata_circuit\",\n",
    "#     storage_path=\"path/to/circuit/directory\",\n",
    "#     storage_type=\"aws_s3_open\",\n",
    "#     is_directory=True,\n",
    "#     content_type=\"application/vnd.directory\",\n",
    "#     asset_label=\"sonata_circuit\",\n",
    "# )"
   ]
  }
 ],
 "metadata": {
  "language_info": {
   "name": "python"
  }
 },
 "nbformat": 4,
 "nbformat_minor": 5
}

{
 "cells": [
  {
   "cell_type": "code",
   "execution_count": null,
   "id": "5a9af7dd-7946-409f-b242-41497e526894",
   "metadata": {},
   "outputs": [],
   "source": [
    "import os\n",
    "import tempfile\n",
    "from pathlib import Path\n",
    "\n",
    "from rich import print as rprint\n",
    "from utils import create_mock_circuit_dir\n",
    "\n",
    "from entitysdk import Client, ProjectContext, models, types\n",
    "\n",
    "entitycore_api_url = \"http://127.0.0.1:8000\"\n",
    "project_context = ProjectContext(\n",
    "    virtual_lab_id=\"a98b7abc-fc46-4700-9e3d-37137812c730\",\n",
    "    project_id=\"0dbced5f-cc3d-488a-8c7f-cfb8ea039dc6\",\n",
    ")\n",
    "token = os.getenv(\"ACCESS_TOKEN\", \"XXX\")\n",
    "client = Client(api_url=entitycore_api_url, project_context=project_context, token_manager=token)"
   ]
  },
  {
   "cell_type": "markdown",
   "id": "f36d70c1-54dc-4ea7-8eb9-e14fbcbf1ded",
   "metadata": {},
   "source": [
    "## Create a subject"
   ]
  },
  {
   "cell_type": "code",
   "execution_count": null,
   "id": "8396a7ba-bbaa-41b8-ace0-bd4ef9c1ddb8",
   "metadata": {},
   "outputs": [],
   "source": [
    "species = client.search_entity(\n",
    "    entity_type=models.Species, query={\"name__ilike\": \"Mus musculus\"}\n",
    ").first()\n",
    "\n",
    "subject = models.Subject(\n",
    "    name=\"my-subject\", description=\"my-subject-description\", sex=\"male\", species=species\n",
    ")\n",
    "\n",
    "subject = client.register_entity(subject)"
   ]
  },
  {
   "cell_type": "markdown",
   "id": "5a68b30e-bad6-43cc-8c87-0eeb373232b5",
   "metadata": {},
   "source": [
    "## Create circuit model"
   ]
  },
  {
   "cell_type": "code",
   "execution_count": null,
   "id": "eec53881-cf1b-4816-94a2-06881d8533e4",
   "metadata": {},
   "outputs": [],
   "source": [
    "brain_region = client.search_entity(entity_type=models.BrainRegion, query={\"acronym\": \"CB\"}).first()\n",
    "\n",
    "\n",
    "circuit = models.Circuit(\n",
    "    name=\"my-circuit\",\n",
    "    description=\"my-circuit\",\n",
    "    subject=subject,\n",
    "    brain_region=brain_region,\n",
    "    number_synapses=2,\n",
    "    number_neurons=5,\n",
    "    number_connections=10,\n",
    "    scale=\"microcircuit\",\n",
    "    build_category=\"em_reconstruction\",\n",
    ")"
   ]
  },
  {
   "cell_type": "markdown",
   "id": "b7a23d69-b901-45f1-a7f3-f1769bbc9a2d",
   "metadata": {},
   "source": [
    "## Register circuit"
   ]
  },
  {
   "cell_type": "code",
   "execution_count": null,
   "id": "013f9698-978d-48e4-ae98-a9b5f1e1dd31",
   "metadata": {},
   "outputs": [],
   "source": [
    "registered_circuit = client.register_entity(circuit)"
   ]
  },
  {
   "cell_type": "code",
   "execution_count": null,
   "id": "99fbda19-329e-4270-8380-f6afc168d758",
   "metadata": {},
   "outputs": [],
   "source": [
    "rprint(registered_circuit)"
   ]
  },
  {
   "cell_type": "markdown",
   "id": "c3ff25a9-fc61-4c19-8949-140c1dd33af7",
   "metadata": {},
   "source": [
    "## Upload directory"
   ]
  },
  {
   "cell_type": "code",
   "execution_count": null,
   "id": "3dccd413-f91b-42b1-8efe-56d01f68ddd0",
   "metadata": {},
   "outputs": [],
   "source": [
    "with tempfile.TemporaryDirectory() as tdir:\n",
    "    # create a hierarchy of files to upload\n",
    "    create_mock_circuit_dir(tdir)\n",
    "\n",
    "    files = {str(path.relative_to(tdir)): path for path in Path(tdir).rglob(\"*\") if path.is_file()}\n",
    "\n",
    "    directory_asset = client.upload_directory(\n",
    "        entity_id=registered_circuit.id,\n",
    "        entity_type=models.Circuit,\n",
    "        name=\"circuit\",\n",
    "        label=types.AssetLabel.sonata_circuit,\n",
    "        paths=files,\n",
    "    )"
   ]
  },
  {
   "cell_type": "markdown",
   "id": "6ad6ce94-ad74-4710-b274-1883fdeb41f5",
   "metadata": {},
   "source": [
    "## List directory"
   ]
  },
  {
   "cell_type": "code",
   "execution_count": null,
   "id": "3b0d302e-46fe-4d97-b221-99833975eede",
   "metadata": {},
   "outputs": [],
   "source": [
    "files = client.list_directory(\n",
    "    entity_id=registered_circuit.id, entity_type=models.Circuit, asset_id=directory_asset.id\n",
    ")"
   ]
  },
  {
   "cell_type": "code",
   "execution_count": null,
   "id": "749b85d2-dbce-455b-9ade-fec7e17f7208",
   "metadata": {},
   "outputs": [],
   "source": [
    "rprint(files)"
   ]
  },
  {
   "cell_type": "markdown",
   "id": "aad97379-3010-42c9-9fc5-f30101163f1c",
   "metadata": {},
   "source": [
    "## Download directory"
   ]
  },
  {
   "cell_type": "code",
   "execution_count": null,
   "id": "ace27230-6dfa-4bc6-8b2c-33998a22a111",
   "metadata": {},
   "outputs": [],
   "source": [
    "with tempfile.TemporaryDirectory() as tdir:\n",
    "    client.download_directory(\n",
    "        entity_id=registered_circuit.id,\n",
    "        entity_type=models.Circuit,\n",
    "        asset_id=directory_asset.id,\n",
    "        output_path=Path(tdir),\n",
    "    )\n",
    "    files = {str(path.relative_to(tdir)): path for path in Path(tdir).rglob(\"*\") if path.is_file()}\n",
    "    rprint(files)"
   ]
  },
  {
   "cell_type": "markdown",
   "id": "8bf620b4-fafc-4476-a719-bbe6e7a821bf",
   "metadata": {},
   "source": [
    "## Fetch Circuit"
   ]
  },
  {
   "cell_type": "code",
   "execution_count": null,
   "id": "bed0af2c-ae46-41b0-ba77-485daef0a87b",
   "metadata": {},
   "outputs": [],
   "source": [
    "fetched = client.get_entity(entity_id=registered_circuit.id, entity_type=models.Circuit)"
   ]
  },
  {
   "cell_type": "code",
   "execution_count": null,
   "id": "ee27c8b5-dfa5-4fa5-ac2f-6cf158057bcf",
   "metadata": {},
   "outputs": [],
   "source": [
    "rprint(fetched)"
   ]
  }
 ],
 "metadata": {
  "language_info": {
   "name": "python"
  }
 },
 "nbformat": 4,
 "nbformat_minor": 5
}

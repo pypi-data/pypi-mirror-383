{
 "cells": [
  {
   "cell_type": "markdown",
   "id": "0",
   "metadata": {},
   "source": [
    "# (Iterative) Hirshfeld method\n",
    "\n",
    "In this tutorial, we will introduce how to use the `horton_part` API method to execute (iterative) Hirshfeld partitioning methods.\n",
    "\n",
    "First, we import the required libraries."
   ]
  },
  {
   "cell_type": "code",
   "execution_count": null,
   "id": "1",
   "metadata": {},
   "outputs": [],
   "source": [
    "import logging\n",
    "\n",
    "import numpy as np\n",
    "from gbasis.evals.eval import evaluate_basis\n",
    "from gbasis.wrappers import from_iodata\n",
    "from grid import AtomGrid, ExpRTransform, UniformInteger\n",
    "from iodata import load_one\n",
    "from setup import prepare_grid_and_dens, print_results\n",
    "\n",
    "from horton_part import HirshfeldIWPart, HirshfeldWPart, ProAtomDB, ProAtomRecord\n",
    "from horton_part.scripts.generate_cube import (\n",
    "    _setup_cube_grid,\n",
    "    prepare_input_cube,\n",
    "    to_cube,\n",
    ")\n",
    "\n",
    "np.set_printoptions(precision=3, linewidth=np.inf, suppress=True)"
   ]
  },
  {
   "cell_type": "markdown",
   "id": "2",
   "metadata": {},
   "source": [
    "In (iterative) Hirshfeld methods, a database of atomic radial density profiles is required. Therefore, different single-atom DFT or other *ab initio* calculations should be executed. Here, we use the Gaussian package. The checkpoint files, in `fchk` format, are generated using Gaussian tools as well.\n",
    "\n",
    "Next, the radial atomic density is obtained by computing the spherical average of the atomic density. This process can be applied using the `gbasis` and `grid` packages."
   ]
  },
  {
   "cell_type": "code",
   "execution_count": null,
   "id": "3",
   "metadata": {},
   "outputs": [],
   "source": [
    "def prepare_record(filename):\n",
    "    \"\"\"Prepare molecular grid and density.\"\"\"\n",
    "    mol = load_one(filename)\n",
    "\n",
    "    # Specify the integration grid\n",
    "    rtf = ExpRTransform(5e-4, 2e1, 120 - 1)\n",
    "    uniform_grid = UniformInteger(120)\n",
    "    rgrid = rtf.transform_1d_grid(uniform_grid)\n",
    "\n",
    "    # Get the spin-summed density matrix\n",
    "    one_rdm = mol.one_rdms.get(\"post_scf\", mol.one_rdms.get(\"scf\"))\n",
    "    basis = from_iodata(mol)\n",
    "    assert len(mol.atnums) == 1\n",
    "    grid = AtomGrid.from_preset(atnum=mol.atnums[0], preset=\"fine\", rgrid=rgrid)\n",
    "\n",
    "    basis_grid = evaluate_basis(basis, grid.points)\n",
    "    rho = np.einsum(\"ab,bp,ap->p\", one_rdm, basis_grid, basis_grid, optimize=True)\n",
    "    spline = grid.spherical_average(rho)\n",
    "    radial_rho = spline(rgrid.points)\n",
    "\n",
    "    record = ProAtomRecord(mol.atnums[0], mol.charge, mol.energy, rgrid, radial_rho)\n",
    "    return record"
   ]
  },
  {
   "cell_type": "markdown",
   "id": "4",
   "metadata": {},
   "source": [
    "In this tutorial, we focus on the water molecule and therefore only need data for hydrogen and oxygen atoms. It should be noted that data for both cations and anions are also used."
   ]
  },
  {
   "cell_type": "code",
   "execution_count": null,
   "id": "5",
   "metadata": {},
   "outputs": [],
   "source": [
    "h_1 = prepare_record(\"./data/atoms/001__h_001_q+00/mult02/atom.fchk\")\n",
    "h_2 = prepare_record(\"./data/atoms/001__h_002_q-01/mult01/atom.fchk\")\n",
    "o_7 = prepare_record(\"./data/atoms/008__o_007_q+01/mult04/atom.fchk\")\n",
    "o_8 = prepare_record(\"./data/atoms/008__o_008_q+00/mult03/atom.fchk\")\n",
    "o_9 = prepare_record(\"./data/atoms/008__o_009_q-01/mult02/atom.fchk\")\n",
    "\n",
    "records = [h_1, h_2, o_7, o_8, o_9]\n",
    "db = ProAtomDB(records)"
   ]
  },
  {
   "cell_type": "markdown",
   "id": "6",
   "metadata": {},
   "source": [
    "Next, we prepare the molecular grid and densities as described in the `Basic Usage` section. It should be noted that the radial grids for atoms in the water molecule should match the atomic radial grids used for the corresponding single atoms in the atomic database calculations."
   ]
  },
  {
   "cell_type": "code",
   "execution_count": null,
   "id": "7",
   "metadata": {},
   "outputs": [],
   "source": [
    "def prepare_argument_dict(mol, grid, rho, db):\n",
    "    \"\"\"Prepare basic input arguments for all AIM methods.\"\"\"\n",
    "    kwargs = {\n",
    "        \"coordinates\": mol.atcoords,\n",
    "        \"numbers\": np.asarray(mol.atnums, np.int64),\n",
    "        \"pseudo_numbers\": mol.atnums,\n",
    "        \"grid\": grid,\n",
    "        \"moldens\": rho,\n",
    "        \"lmax\": 3,\n",
    "        \"proatomdb\": db,\n",
    "    }\n",
    "    return kwargs"
   ]
  },
  {
   "cell_type": "markdown",
   "id": "8",
   "metadata": {},
   "source": [
    "## Hirshfeld method\n",
    "\n",
    "The Hirshfeld method can be executed using the `HirshfeldWPart` class."
   ]
  },
  {
   "cell_type": "code",
   "execution_count": null,
   "id": "9",
   "metadata": {},
   "outputs": [],
   "source": [
    "mol, grid, rho = prepare_grid_and_dens(\"data/h2o.fchk\")\n",
    "h = HirshfeldWPart(**prepare_argument_dict(mol, grid, rho, db))\n",
    "h.do_all()\n",
    "print_results(h)"
   ]
  },
  {
   "cell_type": "markdown",
   "id": "10",
   "metadata": {},
   "source": [
    "## Iterative Hirshfeld method\n",
    "\n",
    "The iterative Hirshfeld method can be executed using `HirshfeldIWpart` class."
   ]
  },
  {
   "cell_type": "code",
   "execution_count": null,
   "id": "11",
   "metadata": {},
   "outputs": [],
   "source": [
    "hi = HirshfeldIWPart(**prepare_argument_dict(mol, grid, rho, db))\n",
    "hi.do_all()\n",
    "print_results(hi)"
   ]
  },
  {
   "cell_type": "markdown",
   "id": "12",
   "metadata": {},
   "source": [
    "## Export AIM density to a cube file\n",
    "\n",
    "First, a new cube grid must be constructed and the molecular density evaluated at the grid points.\n",
    "Next, the AIM density is recalculated on this cube grid using the AIM weight functions obtained from the partitioning method (e.g., `h` or `hi`).\n"
   ]
  },
  {
   "cell_type": "code",
   "execution_count": null,
   "id": "13",
   "metadata": {},
   "outputs": [],
   "source": [
    "def update_pro(part, iatom, proatmdens, grid):\n",
    "    \"\"\"Update propars.\n",
    "\n",
    "    Parameters\n",
    "    ----------\n",
    "    iatom : int\n",
    "        The index of the atom for which the pro-atom densities are to be updated.\n",
    "    proatdens : 1D np.ndarray\n",
    "        The array representing the pro-atom density. This array is updated with the new density values\n",
    "        for the specified atom.\n",
    "    grid : Grid\n",
    "        A `Grid` object, e.g., Molecular grid or a 3D cubic grid.\n",
    "    \"\"\"\n",
    "    work = np.zeros((grid.size,))\n",
    "    part.eval_proatom(iatom, work, grid)\n",
    "    proatmdens += work\n",
    "    proatmdens += 1e-100\n",
    "\n",
    "\n",
    "def compute_aimdens(part, grid, moldens):\n",
    "    \"\"\"See ``Compute AIM density.\n",
    "\n",
    "    Parameters\n",
    "    ----------\n",
    "    part : HirshfeldWPart or HirshfeldIWPart.\n",
    "        A partitioning method.\n",
    "    grid : Grid\n",
    "        A `Grid` object, e.g., Molecular grid or a 3D cubic grid.\n",
    "    moldens : 1D np.ndarray\n",
    "        Molecular density on `grid` points.\n",
    "    \"\"\"\n",
    "    proatmdens = np.zeros((part.natom, grid.size))\n",
    "    for iatom in range(part.natom):\n",
    "        update_pro(part, iatom, proatmdens[iatom, :], grid)\n",
    "    promoldens = np.sum(proatmdens, axis=0)\n",
    "\n",
    "    at_weights = np.zeros((part.natom, grid.size))\n",
    "    # Compute the atomic weights by taking the ratios: pro-atom-dens/pro-molecule-dens.\n",
    "    for iatom in range(part.natom):\n",
    "        at_weights[iatom, :] = proatmdens[iatom, :] / promoldens\n",
    "    np.clip(at_weights, 0, 1, out=at_weights)\n",
    "    aimdens = at_weights * moldens[None, :]\n",
    "    return proatmdens, promoldens, at_weights, aimdens"
   ]
  },
  {
   "cell_type": "code",
   "execution_count": null,
   "id": "14",
   "metadata": {},
   "outputs": [],
   "source": [
    "logger = logging.getLogger(\"__main__\")\n",
    "# A denser grid points should be applied to reproduce correct population.\n",
    "cube_grid = _setup_cube_grid(mol.atnums, mol.atcoords, logger, spacing=0.2)\n",
    "cube_grid, data = prepare_input_cube(mol, 1000, False, False, logger, cube_grid)\n",
    "cube_moldens = data[\"density\"]\n",
    "proatmdens, promoldens, at_weights, aimdens = compute_aimdens(\n",
    "    hi, cube_grid, cube_moldens\n",
    ")\n",
    "\n",
    "sum_pop = 0.0\n",
    "for iatom in range(hi.natom):\n",
    "    pop = cube_grid.integrate(aimdens[iatom, :])\n",
    "    print(f\"The population of atom {iatom} using cube_grid is : {pop:.3f}\")\n",
    "    sum_pop += pop\n",
    "    # export AIM density of each atom in water to a cube file\n",
    "    to_cube(\n",
    "        f\"h2o_aimrho_{iatom}.cube\",\n",
    "        mol.atnums,\n",
    "        mol.atcorenums,\n",
    "        mol.atcoords,\n",
    "        cube_grid,\n",
    "        aimdens[iatom, :],\n",
    "    )\n",
    "    # export pro-atom density to a cube file\n",
    "    to_cube(\n",
    "        f\"h2o_prorho_{iatom}.cube\",\n",
    "        mol.atnums,\n",
    "        mol.atcorenums,\n",
    "        mol.atcoords,\n",
    "        cube_grid,\n",
    "        proatmdens[iatom, :],\n",
    "    )\n",
    "\n",
    "# Note: the pupulation of sum of all atoms is not equal to 10 due to a coarse cube grid used.\n",
    "print(f\"The total population using cube_grid is : {sum_pop:.3f}\")\n",
    "print(\n",
    "    f\"The total population using partitioning grid is : {hi.grid.integrate(hi._moldens):.3f}\"\n",
    ")\n",
    "# export molecular density of water to cube file\n",
    "to_cube(\n",
    "    \"h2o_molrho.cube\",\n",
    "    mol.atnums,\n",
    "    mol.atcorenums,\n",
    "    mol.atcoords,\n",
    "    cube_grid,\n",
    "    cube_moldens,\n",
    ")\n",
    "# export pro-molecular density of water to cube file\n",
    "to_cube(\n",
    "    \"h2o_promolrho.cube\",\n",
    "    mol.atnums,\n",
    "    mol.atcorenums,\n",
    "    mol.atcoords,\n",
    "    cube_grid,\n",
    "    cube_moldens,\n",
    ")"
   ]
  },
  {
   "cell_type": "markdown",
   "id": "15",
   "metadata": {},
   "source": [
    "By plotting these cube files with a visualization program such as VESTA (using an isosurface value of 0.05), one obtains the following:\n",
    "\n",
    "| ![](h2o_molrho.png) |  ![](h2o_promolrho.png) |\n",
    "|----------------------|---|\n",
    "| Molecular density    |  Pro-molecular density   |\n",
    "\n",
    "| ![](h2o_aimrho_0.png) | ![](h2o_prorho_0.png) |\n",
    "|------------------------|------------------------|\n",
    "| AIM density (O)        | Pro-atom density (O)   |\n",
    "\n",
    "| ![](h2o_aimrho_1.png) | ![](h2o_prorho_1.png) |\n",
    "|------------------------|------------------------|\n",
    "| AIM density (H)        | Pro-atom density (H)   |\n"
   ]
  },
  {
   "cell_type": "code",
   "execution_count": null,
   "id": "16",
   "metadata": {},
   "outputs": [],
   "source": [
    "import glob\n",
    "\n",
    "# remvoe all cube files\n",
    "import os\n",
    "\n",
    "for f in glob.glob(\"*.cube\"):\n",
    "    os.remove(f)"
   ]
  },
  {
   "cell_type": "code",
   "execution_count": null,
   "id": "17",
   "metadata": {},
   "outputs": [],
   "source": []
  }
 ],
 "metadata": {
  "kernelspec": {
   "display_name": "Python 3 (ipykernel)",
   "language": "python",
   "name": "python3"
  },
  "language_info": {
   "codemirror_mode": {
    "name": "ipython",
    "version": 3
   },
   "file_extension": ".py",
   "mimetype": "text/x-python",
   "name": "python",
   "nbconvert_exporter": "python",
   "pygments_lexer": "ipython3"
  }
 },
 "nbformat": 4,
 "nbformat_minor": 5
}

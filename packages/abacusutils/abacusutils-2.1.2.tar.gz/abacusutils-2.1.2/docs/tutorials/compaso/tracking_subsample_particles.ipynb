{
 "cells": [
  {
   "cell_type": "markdown",
   "id": "912e81de",
   "metadata": {},
   "source": [
    "# Tracking Subsample Particles"
   ]
  },
  {
   "cell_type": "markdown",
   "id": "ab1588cc",
   "metadata": {},
   "source": [
    "CompaSO subsample particles can be tracked across output redshifts by particle ID (PID). This has many uses, one of which is building merger trees. Many users will want to use the pre-built merger trees for their halo-tracking needs, rather than deal with subsample particles directly. However, some applications might need to track particles at a granularity that the pre-built merger trees do not expose. This tutorial addresses those cases.\n",
    "\n",
    "For example, beyond just knowing that halo A merged into halo B, one might be interested in knowing where halo A's subsample particles ended up post-merger.\n",
    "\n",
    "CompaSO has a notion of \"tagged particles\" that can help with this. CompaSO tags a bit field in the particle aux structure when a particle is part of an L2 halo (i.e. a halo core). The idea is that these particles can be identified in future outputs as a proxy for where that halo core ended up, even if it is absorbed by a larger halo or disrupted. In practice, most halo subsample particles end up being tagged relatively quickly, so one might not care about the distinction of tagged vs not tagged, unless one is tracking halos from an early time.\n",
    "\n",
    "Let's work through an example of identifying the subsample particles of a high-redshift halo and finding those particles again at a lower redshift.\n",
    "\n",
    "As a reminder, \"subsample\" particles in CompaSO are divided into two sets: \"A\" (3% of all particles) and \"B\" (7% of all particles). The union of the A and B set is a uniform 10% subsample of all particles. Membership in the A and B sets is determined by a hash of the PIDs and is thus consistent across time."
   ]
  },
  {
   "cell_type": "code",
   "execution_count": 1,
   "id": "0670f28b",
   "metadata": {},
   "outputs": [],
   "source": [
    "import numpy as np\n",
    "from abacusnbody.data.compaso_halo_catalog import CompaSOHaloCatalog"
   ]
  },
  {
   "cell_type": "markdown",
   "id": "c0e9de96",
   "metadata": {},
   "source": [
    "Load some small ($N=250$) halos from $z=2$, along with their subsampled particles:"
   ]
  },
  {
   "cell_type": "code",
   "execution_count": 2,
   "id": "384ed06e",
   "metadata": {},
   "outputs": [],
   "source": [
    "cat = CompaSOHaloCatalog(\n",
    "    '/mnt/home/lgarrison/ceph/AbacusSummit/AbacusSummit_base_c000_ph000/halos/z2.000/halo_info/halo_info_000.asdf',\n",
    "    fields='all',\n",
    "    subsamples={'A': True, 'pid': True, 'pos': True},\n",
    "    unpack_bits=['pid', 'tagged'],\n",
    "    filter_func=lambda h: h['N'] == 250,\n",
    ")"
   ]
  },
  {
   "cell_type": "markdown",
   "id": "1ebbe39c",
   "metadata": {},
   "source": [
    "Looking at the subsample particles, we see that we have a column for whether the particle is tagged (i.e. was ever part of a L2 halo):"
   ]
  },
  {
   "cell_type": "code",
   "execution_count": 3,
   "id": "f146f24a",
   "metadata": {},
   "outputs": [
    {
     "data": {
      "text/html": [
       "<div><i>Table length=37300</i>\n",
       "<table id=\"table23108073341712\" class=\"table-striped table-bordered table-condensed\">\n",
       "<thead><tr><th>pos</th><th>pid</th><th>tagged</th></tr></thead>\n",
       "<thead><tr><th>float32[3]</th><th>int64</th><th>uint8</th></tr></thead>\n",
       "<tr><td>-999.15 .. -953.86</td><td>704379748365</td><td>1</td></tr>\n",
       "<tr><td>-999.228 .. -953.896</td><td>708674846732</td><td>1</td></tr>\n",
       "<tr><td>-999.258 .. -953.892</td><td>704379748363</td><td>1</td></tr>\n",
       "<tr><td>-999.284 .. -953.87</td><td>717264650253</td><td>1</td></tr>\n",
       "<tr><td>-999.234 .. -953.954</td><td>700084715532</td><td>1</td></tr>\n",
       "<tr><td>-999.216 .. -953.91</td><td>708674715659</td><td>1</td></tr>\n",
       "<tr><td>-999.224 .. -953.888</td><td>712969617420</td><td>1</td></tr>\n",
       "<tr><td>-998.858 .. 727.898</td><td>25598014397177</td><td>0</td></tr>\n",
       "<tr><td>-999.64 .. -773.606</td><td>3354390167555</td><td>1</td></tr>\n",
       "<tr><td>...</td><td>...</td><td>...</td></tr>\n",
       "<tr><td>-941.49 .. -371.676</td><td>9294753366225</td><td>1</td></tr>\n",
       "<tr><td>-941.43 .. -371.566</td><td>9286163366095</td><td>0</td></tr>\n",
       "<tr><td>-941.812 .. -293.368</td><td>10471577223381</td><td>1</td></tr>\n",
       "<tr><td>-941.882 .. -293.462</td><td>10493051994327</td><td>1</td></tr>\n",
       "<tr><td>-941.75 .. -293.356</td><td>10480167289042</td><td>1</td></tr>\n",
       "<tr><td>-941.754 .. -293.294</td><td>10480167223506</td><td>1</td></tr>\n",
       "<tr><td>-941.75 .. -293.354</td><td>10484461994194</td><td>1</td></tr>\n",
       "<tr><td>-941.904 .. -293.298</td><td>10467282190548</td><td>0</td></tr>\n",
       "<tr><td>-941.826 .. -293.47</td><td>10471577354453</td><td>0</td></tr>\n",
       "<tr><td>-941.796 .. -293.294</td><td>10471577092311</td><td>1</td></tr>\n",
       "</table></div>"
      ],
      "text/plain": [
       "<Table length=37300>\n",
       "        pos               pid       tagged\n",
       "     float32[3]          int64      uint8 \n",
       "-------------------- -------------- ------\n",
       "  -999.15 .. -953.86   704379748365      1\n",
       "-999.228 .. -953.896   708674846732      1\n",
       "-999.258 .. -953.892   704379748363      1\n",
       " -999.284 .. -953.87   717264650253      1\n",
       "-999.234 .. -953.954   700084715532      1\n",
       " -999.216 .. -953.91   708674715659      1\n",
       "-999.224 .. -953.888   712969617420      1\n",
       " -998.858 .. 727.898 25598014397177      0\n",
       " -999.64 .. -773.606  3354390167555      1\n",
       "                 ...            ...    ...\n",
       " -941.49 .. -371.676  9294753366225      1\n",
       " -941.43 .. -371.566  9286163366095      0\n",
       "-941.812 .. -293.368 10471577223381      1\n",
       "-941.882 .. -293.462 10493051994327      1\n",
       " -941.75 .. -293.356 10480167289042      1\n",
       "-941.754 .. -293.294 10480167223506      1\n",
       " -941.75 .. -293.354 10484461994194      1\n",
       "-941.904 .. -293.298 10467282190548      0\n",
       " -941.826 .. -293.47 10471577354453      0\n",
       "-941.796 .. -293.294 10471577092311      1"
      ]
     },
     "execution_count": 3,
     "metadata": {},
     "output_type": "execute_result"
    }
   ],
   "source": [
    "cat.subsamples"
   ]
  },
  {
   "cell_type": "markdown",
   "id": "fd549da2",
   "metadata": {},
   "source": [
    "As mentioned before, most particles are tagged.\n",
    "\n",
    "Now let's pick out the subsample particles belonging to a particular halo (selected by hand to be a good example for this tutorial):"
   ]
  },
  {
   "cell_type": "code",
   "execution_count": 4,
   "id": "df5d7447",
   "metadata": {},
   "outputs": [
    {
     "data": {
      "text/html": [
       "<div><i>Table length=7</i>\n",
       "<table id=\"table23107194833808\" class=\"table-striped table-bordered table-condensed\">\n",
       "<thead><tr><th>pos</th><th>pid</th><th>tagged</th></tr></thead>\n",
       "<thead><tr><th>float32[3]</th><th>int64</th><th>uint8</th></tr></thead>\n",
       "<tr><td>-999.018 .. 345.814</td><td>19937277640704</td><td>1</td></tr>\n",
       "<tr><td>-999.08 .. 345.792</td><td>19941572614910</td><td>1</td></tr>\n",
       "<tr><td>-999.146 .. 345.756</td><td>19945867902976</td><td>1</td></tr>\n",
       "<tr><td>-999.188 .. 345.8</td><td>19941572739074</td><td>1</td></tr>\n",
       "<tr><td>-999.198 .. 345.814</td><td>19941572673539</td><td>1</td></tr>\n",
       "<tr><td>-999.052 .. 345.708</td><td>19954457254654</td><td>0</td></tr>\n",
       "<tr><td>-999.258 .. 345.732</td><td>19950162673665</td><td>1</td></tr>\n",
       "</table></div>"
      ],
      "text/plain": [
       "<Table length=7>\n",
       "        pos              pid       tagged\n",
       "     float32[3]         int64      uint8 \n",
       "------------------- -------------- ------\n",
       "-999.018 .. 345.814 19937277640704      1\n",
       " -999.08 .. 345.792 19941572614910      1\n",
       "-999.146 .. 345.756 19945867902976      1\n",
       "  -999.188 .. 345.8 19941572739074      1\n",
       "-999.198 .. 345.814 19941572673539      1\n",
       "-999.052 .. 345.708 19954457254654      0\n",
       "-999.258 .. 345.732 19950162673665      1"
      ]
     },
     "execution_count": 4,
     "metadata": {},
     "output_type": "execute_result"
    }
   ],
   "source": [
    "h0 = cat.halos[3]\n",
    "s0 = cat.subsamples[h0['npstartA'] : h0['npstartA'] + h0['npoutA']]\n",
    "s0"
   ]
  },
  {
   "cell_type": "markdown",
   "id": "c5a7e436",
   "metadata": {},
   "source": [
    "Since most of the particles are tagged, there's not much difference in tracking all vs tagged particles. For that reason, we'll just track all particles. But one could filter to just tagged particles if desired. At higher redshifts, we'd expect a larger difference, and if one were processing all redshifts, one could establish \"seen\" vs \"not yet seen\" tagged particles. But that's out of scope for this tutorial.\n",
    "\n",
    "Now let's load the next primary[^1] redshift catalog and find these particles:\n",
    "\n",
    "[^1]: Secondary redshifts do not have subsample particle positions, just PIDs, so one could (e.g.) find the halo that this halo merged into, but not infer its position within the halo because the particle positions would not be available."
   ]
  },
  {
   "cell_type": "code",
   "execution_count": 5,
   "id": "b9cbbbfe",
   "metadata": {},
   "outputs": [],
   "source": [
    "cat_next = CompaSOHaloCatalog(\n",
    "    '/mnt/home/lgarrison/ceph/AbacusSummit/AbacusSummit_base_c000_ph000/halos/z1.700/halo_info/halo_info_000.asdf',\n",
    "    fields='all',\n",
    "    subsamples={'A': True, 'pid': True, 'pos': True},\n",
    "    unpack_bits=['pid', 'tagged'],\n",
    ")"
   ]
  },
  {
   "cell_type": "markdown",
   "id": "56b4febd",
   "metadata": {},
   "source": [
    "We want to search the subsample PIDs of this catalog to figure out where the $z=2$ halo ended up. To make the search efficient, we'll sort by PID. This would be especially important if we were searching for many halos, not just one.\n",
    "\n",
    "To make it easier to associate subsamples back to halos, we'll add a halo row index column to the subsamples.\n",
    "\n",
    "Note that the particles we're looking for may not be in any halo! Even if they are in a halo, they may not be in this superslab (`halo_info_000.asdf`). A more robust solution would also look in the field particle files, and look in the neighboring superslabs.\n",
    "\n",
    "And note that if we didn't need the association back to halos (i.e. we just wanted to know where the halo particles ended up, not what halo it belonged to now), we could operate on the subsample particle files directly, without going through the `CompaSOHaloCatalog` interface for `cat_next`."
   ]
  },
  {
   "cell_type": "code",
   "execution_count": 6,
   "id": "087cec27",
   "metadata": {},
   "outputs": [],
   "source": [
    "# technical detail: this works because the compaso loader has already eliminated L0-but-not-L1 subsample particles\n",
    "cat_next.subsamples['halo_row_id'] = np.repeat(\n",
    "    np.arange(len(cat_next.halos)), cat_next.halos['npoutA']\n",
    ")\n",
    "\n",
    "subsamples_sorted = cat_next.subsamples.copy()\n",
    "subsamples_sorted.sort('pid')\n",
    "\n",
    "s0_sorted = s0.copy()\n",
    "s0_sorted.sort('pid')"
   ]
  },
  {
   "cell_type": "code",
   "execution_count": 7,
   "id": "a266c4a9",
   "metadata": {},
   "outputs": [],
   "source": [
    "import numba as nb\n",
    "\n",
    "# Technical note: for small B, a binary search would probably be faster.\n",
    "# But if B gets large enough such that most values in A are visited,\n",
    "# visiting them in order (i.e. zipper search) is probably faster.\n",
    "\n",
    "\n",
    "@nb.njit\n",
    "def zipper_search(A, B):\n",
    "    \"\"\"Search for elements of B in A, assuming both A and B are sorted.\"\"\"\n",
    "    indices = np.empty(len(B), dtype=np.int64)\n",
    "\n",
    "    i = 0  # index for A\n",
    "\n",
    "    for j in range(len(B)):\n",
    "        while i < len(A) and A[i] < B[j]:\n",
    "            i += 1\n",
    "\n",
    "        if i < len(A) and A[i] == B[j]:\n",
    "            indices[j] = i\n",
    "        else:\n",
    "            indices[j] = -1\n",
    "\n",
    "    return indices"
   ]
  },
  {
   "cell_type": "code",
   "execution_count": 8,
   "id": "53fe8235",
   "metadata": {},
   "outputs": [
    {
     "data": {
      "text/plain": [
       "array([32948273, 32955212, 32955213, 32955215, 32962347, 32969208,\n",
       "             -1])"
      ]
     },
     "execution_count": 8,
     "metadata": {},
     "output_type": "execute_result"
    }
   ],
   "source": [
    "idx = zipper_search(subsamples_sorted['pid'], s0_sorted['pid'])\n",
    "idx"
   ]
  },
  {
   "cell_type": "code",
   "execution_count": 9,
   "id": "fd45ef75",
   "metadata": {},
   "outputs": [
    {
     "data": {
      "text/html": [
       "<div><i>Table length=6</i>\n",
       "<table id=\"table23107237004240\" class=\"table-striped table-bordered table-condensed\">\n",
       "<thead><tr><th>pos</th><th>pid</th><th>tagged</th><th>halo_row_id</th></tr></thead>\n",
       "<thead><tr><th>float32[3]</th><th>int64</th><th>uint8</th><th>int64</th></tr></thead>\n",
       "<tr><td>-998.996 .. 346.136</td><td>19937277640704</td><td>1</td><td>18003</td></tr>\n",
       "<tr><td>-998.956 .. 346.12</td><td>19941572614910</td><td>1</td><td>18003</td></tr>\n",
       "<tr><td>-998.95 .. 346.112</td><td>19941572673539</td><td>1</td><td>18003</td></tr>\n",
       "<tr><td>-998.906 .. 346.156</td><td>19941572739074</td><td>1</td><td>18003</td></tr>\n",
       "<tr><td>-998.914 .. 346.178</td><td>19945867902976</td><td>1</td><td>18003</td></tr>\n",
       "<tr><td>-998.934 .. 346.146</td><td>19950162673665</td><td>1</td><td>18003</td></tr>\n",
       "</table></div>"
      ],
      "text/plain": [
       "<Table length=6>\n",
       "        pos              pid       tagged halo_row_id\n",
       "     float32[3]         int64      uint8     int64   \n",
       "------------------- -------------- ------ -----------\n",
       "-998.996 .. 346.136 19937277640704      1       18003\n",
       " -998.956 .. 346.12 19941572614910      1       18003\n",
       " -998.95 .. 346.112 19941572673539      1       18003\n",
       "-998.906 .. 346.156 19941572739074      1       18003\n",
       "-998.914 .. 346.178 19945867902976      1       18003\n",
       "-998.934 .. 346.146 19950162673665      1       18003"
      ]
     },
     "execution_count": 9,
     "metadata": {},
     "output_type": "execute_result"
    }
   ],
   "source": [
    "subsamples_sorted[idx[idx != -1]]"
   ]
  },
  {
   "cell_type": "code",
   "execution_count": 10,
   "id": "8598b5d5",
   "metadata": {},
   "outputs": [
    {
     "data": {
      "text/html": [
       "<div><i>Table length=6</i>\n",
       "<table id=\"table23107237890704\" class=\"table-striped table-bordered table-condensed\">\n",
       "<thead><tr><th>pos</th><th>pid</th><th>tagged</th></tr></thead>\n",
       "<thead><tr><th>float32[3]</th><th>int64</th><th>uint8</th></tr></thead>\n",
       "<tr><td>-999.018 .. 345.814</td><td>19937277640704</td><td>1</td></tr>\n",
       "<tr><td>-999.08 .. 345.792</td><td>19941572614910</td><td>1</td></tr>\n",
       "<tr><td>-999.198 .. 345.814</td><td>19941572673539</td><td>1</td></tr>\n",
       "<tr><td>-999.188 .. 345.8</td><td>19941572739074</td><td>1</td></tr>\n",
       "<tr><td>-999.146 .. 345.756</td><td>19945867902976</td><td>1</td></tr>\n",
       "<tr><td>-999.258 .. 345.732</td><td>19950162673665</td><td>1</td></tr>\n",
       "</table></div>"
      ],
      "text/plain": [
       "<Table length=6>\n",
       "        pos              pid       tagged\n",
       "     float32[3]         int64      uint8 \n",
       "------------------- -------------- ------\n",
       "-999.018 .. 345.814 19937277640704      1\n",
       " -999.08 .. 345.792 19941572614910      1\n",
       "-999.198 .. 345.814 19941572673539      1\n",
       "  -999.188 .. 345.8 19941572739074      1\n",
       "-999.146 .. 345.756 19945867902976      1\n",
       "-999.258 .. 345.732 19950162673665      1"
      ]
     },
     "execution_count": 10,
     "metadata": {},
     "output_type": "execute_result"
    }
   ],
   "source": [
    "s0_sorted[idx != -1]"
   ]
  },
  {
   "cell_type": "markdown",
   "id": "0d91ae12",
   "metadata": {},
   "source": [
    "So we see that all but 1 particle was found[^2]. And all of those particles ended up in the same halo. Let's check the halo's mass:\n",
    "\n",
    "[^2]: all the particles must, by definition, be in one of the output files. Maybe this particle is in the field or neighboring superslab files."
   ]
  },
  {
   "cell_type": "code",
   "execution_count": null,
   "id": "e48ad59c",
   "metadata": {},
   "outputs": [
    {
     "data": {
      "text/plain": [
       "np.uint32(541)"
      ]
     },
     "execution_count": 11,
     "metadata": {},
     "output_type": "execute_result"
    }
   ],
   "source": [
    "cat_next.halos[subsamples_sorted['halo_row_id'][idx[idx != -1]][0]]"
   ]
  },
  {
   "cell_type": "markdown",
   "id": "44f5d822",
   "metadata": {},
   "source": [
    "We can also look at the individual particle displacements (in Mpc/h):"
   ]
  },
  {
   "cell_type": "code",
   "execution_count": 12,
   "id": "c1c5cf68",
   "metadata": {},
   "outputs": [
    {
     "data": {
      "text/plain": [
       "array([[ 0.02203369, -0.18597412,  0.32199097],\n",
       "       [ 0.12402344, -0.1619873 ,  0.32800293],\n",
       "       [ 0.24798584, -0.14196777,  0.29800415],\n",
       "       [ 0.28198242, -0.06799316,  0.35601807],\n",
       "       [ 0.23199463,  0.01397705,  0.42199707],\n",
       "       [ 0.3239746 , -0.20599365,  0.41400146]], dtype=float32)"
      ]
     },
     "execution_count": 12,
     "metadata": {},
     "output_type": "execute_result"
    }
   ],
   "source": [
    "np.asarray(subsamples_sorted['pos'][idx[idx != -1]] - s0_sorted['pos'][idx != -1])"
   ]
  },
  {
   "cell_type": "markdown",
   "id": "62b364f8",
   "metadata": {},
   "source": [
    "And verify that it (roughly) matches the displacement of the halo:"
   ]
  },
  {
   "cell_type": "code",
   "execution_count": 13,
   "id": "53898eac",
   "metadata": {},
   "outputs": [
    {
     "data": {
      "text/plain": [
       "array([ 0.17645264, -0.16577148,  0.3140564 ], dtype=float32)"
      ]
     },
     "execution_count": 13,
     "metadata": {},
     "output_type": "execute_result"
    }
   ],
   "source": [
    "(\n",
    "    cat_next.halos[subsamples_sorted['halo_row_id'][idx[idx != -1]][0]]['x_L2com']\n",
    "    - h0['x_L2com']\n",
    ")"
   ]
  },
  {
   "cell_type": "markdown",
   "id": "1a394908",
   "metadata": {},
   "source": [
    "To establish something like a \"subhalo\" catalog, one might be interested in knowing whether the halo that these particles ended up in is the \"same\" halo that they started in or the result of a major merger. One could probably make a decent guess based on relative masses, but a more robust solution would likely use the merger trees in conjunction with this particle tracking."
   ]
  }
 ],
 "metadata": {
  "kernelspec": {
   "display_name": ".venv",
   "language": "python",
   "name": "python3"
  },
  "language_info": {
   "codemirror_mode": {
    "name": "ipython",
    "version": 3
   },
   "file_extension": ".py",
   "mimetype": "text/x-python",
   "name": "python",
   "nbconvert_exporter": "python",
   "pygments_lexer": "ipython3",
   "version": "3.11.11"
  }
 },
 "nbformat": 4,
 "nbformat_minor": 5
}

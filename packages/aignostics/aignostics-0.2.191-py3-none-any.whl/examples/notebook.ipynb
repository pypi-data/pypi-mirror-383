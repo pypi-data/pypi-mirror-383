{
 "cells": [
  {
   "cell_type": "markdown",
   "metadata": {},
   "source": [
    "# Initialize the Client\n",
    "\n",
    "As a first step, you need to initialize the client to interact with the Aignostics Platform. This will execute an OAuth flow depending on the environment you run:\n",
    "- In case you have a browser available, an interactive login flow in your browser is started.\n",
    "- In case there is no browser available, a device flow is started.\n",
    "\n",
    "**NOTE:** By default, the client caches the access token in your operation systems application cache folder. If you do not want to store the access token, please initialize the client like this:\n",
    "\n",
    "```python\n",
    "import aignostics.platform as platform\n",
    "# initialize the client\n",
    "client = platform.Client(cache_token=False)\n",
    "```\n",
    "\n"
   ]
  },
  {
   "cell_type": "code",
   "execution_count": null,
   "metadata": {},
   "outputs": [],
   "source": [
    "from collections.abc import Iterator\n",
    "\n",
    "import pandas as pd\n",
    "from pydantic import BaseModel\n",
    "\n",
    "\n",
    "# the following function is used for visualizing the results nicely in this notebook\n",
    "def show(models: BaseModel | list[BaseModel] | Iterator[BaseModel]) -> pd.DataFrame:\n",
    "    \"\"\"Visualize the results in a pandas DataFrame.\n",
    "\n",
    "    Returns:\n",
    "        pd.DataFrame: A DataFrame containing the results.\n",
    "    \"\"\"\n",
    "    items = [models.model_dump()] if isinstance(models, BaseModel) else (a.model_dump() for a in models)\n",
    "    return pd.DataFrame(items)"
   ]
  },
  {
   "cell_type": "code",
   "execution_count": null,
   "metadata": {},
   "outputs": [],
   "source": [
    "from aignostics import platform\n",
    "\n",
    "# initialize the client\n",
    "client = platform.Client(cache_token=False)"
   ]
  },
  {
   "cell_type": "markdown",
   "metadata": {},
   "source": [
    "# List our available applications\n",
    "\n",
    "Next, let us list the applications that are available in your organization:"
   ]
  },
  {
   "cell_type": "code",
   "execution_count": null,
   "metadata": {},
   "outputs": [],
   "source": [
    "applications = client.applications.list()\n",
    "# visualize\n",
    "show(applications)"
   ]
  },
  {
   "cell_type": "markdown",
   "metadata": {},
   "source": [
    "# List all available versions of an application\n",
    "\n",
    "Now that we know the applications that are available, we can list all the versions of a specific application. In this case, we will use the `TwoTask Dummy Application` as an example, which has the `application_id`: `two-task-dummy`. Using the `application_id`, we can list all the versions of the application:"
   ]
  },
  {
   "cell_type": "code",
   "execution_count": null,
   "metadata": {},
   "outputs": [],
   "source": [
    "application_versions = client.applications.versions.list(application=\"two-task-dummy\")\n",
    "# visualize\n",
    "show(application_versions)"
   ]
  },
  {
   "cell_type": "markdown",
   "metadata": {},
   "source": [
    "# Inspect the application version details\n",
    "\n",
    "Now that we have the list of versions, we can inspect the details of a specific version. While we could directly use the list of application version returned by the `list` method, we want to directly query details for a specific application version. In this case, we will use version `0.35.0`, which has the `application_version_id`: `two-task-dummy:v0.35.0`. We use the `application_version_id` to retrieve further details about the application version:"
   ]
  },
  {
   "cell_type": "code",
   "execution_count": null,
   "metadata": {},
   "outputs": [],
   "source": [
    "from IPython.display import JSON\n",
    "\n",
    "# get the application version details\n",
    "two_task_app = client.applications.versions.details(application_version=\"two-task-dummy:v0.35.0\")\n",
    "\n",
    "# view the `input_artifacts` to get insights in the required fields of the application version payload\n",
    "JSON(two_task_app.input_artifacts[0].to_json())"
   ]
  },
  {
   "cell_type": "markdown",
   "metadata": {},
   "source": [
    "# Trigger an application run\n",
    "\n",
    "Now, let's trigger an application run for the `Test Application`. We will use the `application_version_id` that we retrieved in the previous step. To create an application run, we need to provide a payload that consists of 1 or more items. We provide the Pydantic model `InputItem` an item and the data that comes with it:\n",
    "```python\n",
    "platform.InputItem(\n",
    "    reference=\"<a unique reference associate outputs to this input item>\",\n",
    "    input_artifacts=[platform.InputArtifact]\n",
    ")\n",
    "```\n",
    "The `InputArtifact` defines the actual data that you provide aka. in this case the image that you want to be processed. The expected values are defined by the application version and have to align with the `input_artifacts` schema of the application version. In the case of the two task dummy application, we only require a single artifact per item, which is the image to process on. The artifact name is defined as `user_slide` for the `two-task-dummy` application and `whole_slide_image` for the `he-tme` application. The `download_url` is a signed URL that allows the Aignostics Platform to download the image data later during processing. In addition to the image data itself, you have to provide the metadata defined in the input artifact schema, i.e., `checksum_crc32c`, `base_mpp`, `width`, and `height`. The metadata is used to validate the input data and is required for the processing of the image. The following example shows how to create an item with a single input artifact:\n",
    "\n",
    "```python\n",
    "platform.InputArtifact(\n",
    "    name=\"user_slide\", # as defined by the application version input_artifact schema\n",
    "    download_url=\"<a signed url to download the data>\",\n",
    "    metadata={\n",
    "        \"checksum_crc32c\": \"<checksum>\",\n",
    "        \"base_mpp\": \"<base_mpp>\",\n",
    "        \"width\": \"<width>\",\n",
    "        \"height\": \"<height>\"\n",
    "    }\n",
    ")\n",
    "```"
   ]
  },
  {
   "cell_type": "code",
   "execution_count": null,
   "metadata": {},
   "outputs": [],
   "source": [
    "application_run = client.runs.create(\n",
    "    application_version=\"two-task-dummy:v0.0.5\",\n",
    "    items=[\n",
    "        platform.InputItem(\n",
    "            reference=\"wsi-1\",\n",
    "            input_artifacts=[\n",
    "                platform.InputArtifact(\n",
    "                    name=\"user_slide\",\n",
    "                    download_url=platform.generate_signed_url(\"<signed-url>\"),\n",
    "                    metadata={\n",
    "                        \"checksum_crc32c\": \"AAAAAA==\",\n",
    "                        \"base_mpp\": 0.25,\n",
    "                        \"width\": 10000,\n",
    "                        \"height\": 10000,\n",
    "                    },\n",
    "                )\n",
    "            ],\n",
    "        ),\n",
    "    ],\n",
    ")\n",
    "print(application_run)"
   ]
  },
  {
   "cell_type": "markdown",
   "metadata": {},
   "source": [
    "# Observe the status of the application run and download\n",
    "\n",
    "While you can observe the status of an application run directly via the `status()` method and also retrieve the results via the `results()` method, you can also download the results directly to a folder of your choice. The `download_to_folder()` method will download all the results to the specified folder. The method will automatically create a sub-folder in the specified folder with the name of the application run. The results for each individual input item will be stored in a separate folder named after the `reference` you defined in the `Item`.\n",
    "\n",
    "The method downloads the results for a slide as soon as they are available. There is no need to keep the method running until all results are available. The method will automatically check for the status of the application run and download the results as soon as they are available. If you invoke the method on a run you already downloaded some results before, it will only download the missing artifacts."
   ]
  },
  {
   "cell_type": "code",
   "execution_count": null,
   "metadata": {},
   "outputs": [],
   "source": [
    "import tempfile\n",
    "\n",
    "download_folder = tempfile.gettempdir()\n",
    "application_run.download_to_folder(download_folder)"
   ]
  },
  {
   "cell_type": "markdown",
   "metadata": {},
   "source": [
    "# Continue to retrieve results for an application run\n",
    "\n",
    "In case you just triggered an application run and want to check on the results later or you had a connection loss, you can simply initialize an applicaiton run object via it's `application_run_id`. If you do not have the `application_run_id` anymore, you can simple list all currently running application version via the `client.runs.list()` method. The `application_run_id` is part of the `ApplicationRun` object returned by the `list()` method. You can then use the `download_to_folder()` method to continue downloading the results."
   ]
  },
  {
   "cell_type": "code",
   "execution_count": null,
   "metadata": {},
   "outputs": [],
   "source": [
    "# list currently running applications\n",
    "application_runs = client.runs.list()\n",
    "for run in application_runs:\n",
    "    print(run)"
   ]
  },
  {
   "cell_type": "code",
   "execution_count": null,
   "metadata": {},
   "outputs": [],
   "source": [
    "import tempfile\n",
    "\n",
    "from aignostics.platform.resources.runs import ApplicationRun\n",
    "\n",
    "application_run = ApplicationRun.for_application_run_id(\"<application_run_id>\")\n",
    "# download\n",
    "\n",
    "download_folder = tempfile.gettempdir()\n",
    "application_run.download_to_folder(download_folder)"
   ]
  },
  {
   "cell_type": "code",
   "execution_count": null,
   "metadata": {},
   "outputs": [],
   "source": []
  }
 ],
 "metadata": {
  "kernelspec": {
   "display_name": "Python 3 (ipykernel)",
   "language": "python",
   "name": "python3"
  },
  "language_info": {
   "codemirror_mode": {
    "name": "ipython",
    "version": 3
   },
   "file_extension": ".py",
   "mimetype": "text/x-python",
   "name": "python",
   "nbconvert_exporter": "python",
   "pygments_lexer": "ipython3",
   "version": "3.11.9"
  }
 },
 "nbformat": 4,
 "nbformat_minor": 4
}

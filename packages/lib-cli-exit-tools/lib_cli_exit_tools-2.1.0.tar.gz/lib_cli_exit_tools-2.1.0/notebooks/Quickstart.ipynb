{
 "cells": [
  {
   "cell_type": "markdown",
   "id": "7fb27b941602401d91542211134fc71a",
   "metadata": {},
   "source": [
    "# lib_cli_exit_tools Quickstart\n",
    "\n",
    "Use this notebook to install the package, explore the CLI, and observe how rich-formatted tracebacks behave when you enable debugging output.\n"
   ]
  },
  {
   "cell_type": "markdown",
   "id": "acae54e37e7d407bbb7b55eff062a284",
   "metadata": {},
   "source": [
    "## 1) Install latest from GitHub (default)\n"
   ]
  },
  {
   "cell_type": "code",
   "execution_count": null,
   "id": "9a63283cbaf04dbcab1f6479b197f3a8",
   "metadata": {},
   "outputs": [],
   "source": [
    "# update pip and setuptools\n",
    "import sys\n",
    "\n",
    "!{sys.executable} -m pip install --upgrade \"pip!=25.2\"\n",
    "!{sys.executable} -m pip install --upgrade setuptools\n",
    "\n",
    "# install lib_cli_exit_tools from GitHub (default)\n",
    "!{sys.executable} -m pip install --upgrade git+https://github.com/bitranox/lib_cli_exit_tools.git"
   ]
  },
  {
   "cell_type": "markdown",
   "id": "8dd0d8092fe74a7c96281538738b07e2",
   "metadata": {},
   "source": [
    "## Or: Install from PyPI (alternative)\n",
    "Uncomment and run the cell below if you prefer the PyPI release.\n"
   ]
  },
  {
   "cell_type": "code",
   "execution_count": null,
   "id": "72eea5119410473aa328ad9291626812",
   "metadata": {},
   "outputs": [],
   "source": [
    "# !{sys.executable} -m pip install --upgrade lib_cli_exit_tools\n"
   ]
  },
  {
   "cell_type": "markdown",
   "id": "8edb47106e1a46a883d545849b8ab81b",
   "metadata": {},
   "source": [
    "## 2) CLI: version and help\n"
   ]
  },
  {
   "cell_type": "code",
   "execution_count": null,
   "id": "10185d26023b46108eb7d9f57d49d2b3",
   "metadata": {},
   "outputs": [],
   "source": [
    "!lib_cli_exit_tools --version\n",
    "!lib-cli-exit-tools --help\n",
    "!lib_cli_exit_tools info"
   ]
  },
  {
   "cell_type": "markdown",
   "id": "8763a12b2bbd4a93a75aff182afb95dc",
   "metadata": {},
   "source": [
    "## 3) Demo command for failure handling\n",
    "The helper below builds a tiny Click command that purposely raises an error so you can compare short messages with rich tracebacks.\n"
   ]
  },
  {
   "cell_type": "code",
   "execution_count": null,
   "id": "7623eae2785240b9bd12b16a66d81610",
   "metadata": {},
   "outputs": [],
   "source": [
    "import click\n",
    "from lib_cli_exit_tools.lib_cli_exit_tools import config, run_cli\n",
    "\n",
    "\n",
    "@click.command()\n",
    "def quickstart_fail() -> None:\n",
    "    \"\"\"Raise a demo error to exercise lib_cli_exit_tools.\"\"\"\n",
    "    raise RuntimeError(\"demo failure from Quickstart\")\n",
    "\n",
    "\n",
    "def run_quickstart_demo(traceback_enabled: bool) -> int:\n",
    "    \"\"\"Execute the demo command with the desired traceback mode.\n",
    "\n",
    "    The helper keeps tests deterministic by disabling signal handlers\n",
    "    in notebook contexts and resets global flags after execution.\n",
    "    \"\"\"\n",
    "\n",
    "    original_flag = config.traceback\n",
    "    config.traceback = traceback_enabled\n",
    "    try:\n",
    "        return run_cli(quickstart_fail, argv=[], install_signals=False)\n",
    "    finally:\n",
    "        config.traceback = original_flag"
   ]
  },
  {
   "cell_type": "markdown",
   "id": "7cdc8c89c7104fffa095e18ddfef8986",
   "metadata": {},
   "source": [
    "## 4) CLI failure with short message (default)\n",
    "Tracebacks are suppressed by default; the CLI emits a concise summary and returns a deterministic exit code.\n"
   ]
  },
  {
   "cell_type": "code",
   "execution_count": null,
   "id": "b118ea5561624da68c537baed56e602f",
   "metadata": {},
   "outputs": [],
   "source": [
    "exit_code = run_quickstart_demo(False)\n",
    "print(f\"Exit code: {exit_code}\")"
   ]
  },
  {
   "cell_type": "markdown",
   "id": "938c804e27f84196a10c8828c723f798",
   "metadata": {},
   "source": [
    "## 5) CLI failure with rich traceback\n",
    "Enable tracebacks to surface a full Rich-formatted stack trace for debugging.\n"
   ]
  },
  {
   "cell_type": "code",
   "execution_count": null,
   "id": "504fb2a444614c0babb325280ed9130a",
   "metadata": {},
   "outputs": [],
   "source": [
    "import lib_cli_exit_tools\n",
    "\n",
    "try:\n",
    "    run_quickstart_demo(True)\n",
    "except RuntimeError:\n",
    "    lib_cli_exit_tools.print_exception_message(trace_back=True)"
   ]
  },
  {
   "cell_type": "markdown",
   "id": "59bbdb311c014d738909a11f9e486628",
   "metadata": {},
   "source": [
    "## 6) Library usage: exit codes and traceback formatting\n",
    "Use the functional API to translate exceptions into exit codes and to opt in to rich tracebacks programmatically.\n"
   ]
  },
  {
   "cell_type": "code",
   "execution_count": null,
   "id": "b43b363d81ae4b689946ece5c682cd59",
   "metadata": {},
   "outputs": [],
   "source": [
    "import lib_cli_exit_tools\n",
    "\n",
    "# Short message (default)\n",
    "try:\n",
    "    raise FileNotFoundError(\"missing.txt\")\n",
    "except Exception as exc:\n",
    "    exit_code = lib_cli_exit_tools.get_system_exit_code(exc)\n",
    "    lib_cli_exit_tools.print_exception_message(trace_back=False)\n",
    "    print(f\"Exit code would be: {exit_code}\")\n",
    "\n",
    "# Rich traceback\n",
    "try:\n",
    "    raise ValueError(\"boom\")\n",
    "except Exception:\n",
    "    lib_cli_exit_tools.print_exception_message(trace_back=True)"
   ]
  },
  {
   "cell_type": "markdown",
   "id": "d56cb190",
   "metadata": {},
   "source": [
    "## 7) Registered Command Fail"
   ]
  },
  {
   "cell_type": "code",
   "execution_count": null,
   "id": "b2eb015b",
   "metadata": {},
   "outputs": [],
   "source": [
    "!lib_cli_exit_tools fail"
   ]
  },
  {
   "cell_type": "markdown",
   "id": "6c546140",
   "metadata": {},
   "source": [
    "## 8) Registered Command Fail with Traceback"
   ]
  },
  {
   "cell_type": "code",
   "execution_count": null,
   "id": "db445316",
   "metadata": {},
   "outputs": [],
   "source": [
    "!lib_cli_exit_tools --traceback fail"
   ]
  },
  {
   "cell_type": "markdown",
   "id": "24c157fa",
   "metadata": {},
   "source": [
    "## 9)  Script Command Fail"
   ]
  },
  {
   "cell_type": "code",
   "execution_count": null,
   "id": "81a4fa19",
   "metadata": {},
   "outputs": [],
   "source": [
    "!{sys.executable} -m lib_cli_exit_tools fail"
   ]
  },
  {
   "cell_type": "markdown",
   "id": "ab2685a2",
   "metadata": {},
   "source": [
    "## 10) Script Command Fail with Traceback"
   ]
  },
  {
   "cell_type": "code",
   "execution_count": null,
   "id": "ea02859a",
   "metadata": {},
   "outputs": [],
   "source": [
    "!{sys.executable} -m lib_cli_exit_tools --traceback fail"
   ]
  }
 ],
 "metadata": {
  "kernelspec": {
   "display_name": "Python 3",
   "language": "python",
   "name": "python3"
  },
  "language_info": {
   "name": "python",
   "version": "3"
  }
 },
 "nbformat": 4,
 "nbformat_minor": 5
}
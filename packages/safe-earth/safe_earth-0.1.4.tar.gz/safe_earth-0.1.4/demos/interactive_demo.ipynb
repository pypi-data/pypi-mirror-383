{
  "cells": [
    {
      "cell_type": "markdown",
      "metadata": {
        "id": "13i7KQ9t-CV8"
      },
      "source": [
        "# Fairness of AI Weather Predictions\n",
        "Author(s):\n",
        "*   Nick Masi (nicholas_masi@alumni.brown.edu)\n",
        "*   Randall Balestriero (randall_balestriero@brown.edu)\n",
        "\n",
        "### Summary\n",
        "\n",
        "In this tutorial, we will investigate AI weather prediction (AIWP) models using the [SAFE](https://pypi.org/project/safe-earth/) package. We will compare performance across different territories/countries, global subregions, and income categories of countries to analyze whether models have relatively fair performance or exhibit biases.\n",
        "\n",
        "### Expected Learning Outcomes\n",
        "* Measuring the performance of AIWP models in specific territories or regions\n",
        "* Comparing the performance across strata to assess the fairness of AIWP models\n",
        "* Visualizing AIWP model fairness"
      ]
    },
    {
      "cell_type": "markdown",
      "metadata": {
        "id": "yNv0ANr5WcD_"
      },
      "source": [
        "# Table of Contents\n",
        "\n",
        "*   [Climate Impact](#climate-impact)\n",
        "*   [Target Audience](#target-audience)\n",
        "*   [Background & Prerequisites](#background-and-prereqs)\n",
        "*   [Software Requirements](#software-requirements)\n",
        "*   [Data Description](#data-description)\n",
        "*   [Investigate](#investigate)\n",
        "*   [References](#references)\n"
      ]
    },
    {
      "cell_type": "markdown",
      "metadata": {
        "id": "99jkSa_KmrDH"
      },
      "source": [
        "<a name=\"climate-impact\"></a>\n",
        "# Climate Impact\n",
        "\n",
        "It has been found that more accurate weather forecasts causally relates with mortality [7]. In tandem, the usage of AI models for weather forecasting is growing. Despite this, there is little research that evaluates how well the AIWP models work in one regions versus another. The recently introduced SAFE package makes this possible. Using this package can be beneficial for weather forecasters to understand which models perform best in their particular region, improving forecasts that emergency responses and policy decisions are made upon, potentially saving lives."
      ]
    },
    {
      "cell_type": "markdown",
      "metadata": {
        "id": "o5sbM_JPpdMR"
      },
      "source": [
        "<a name=\"target-audience\"></a>\n",
        "# Target Audience\n",
        "\n",
        "* ML researchers wanting to develop more fair AIWP models\n",
        "* Weather forecasters trying to determine which models perform best in their region"
      ]
    },
    {
      "cell_type": "markdown",
      "metadata": {
        "id": "gQgijl46pYzn"
      },
      "source": [
        "<a name=\"background-and-prereqs\"></a>\n",
        "# Background & Prerequisites\n",
        "\n",
        "In this tutorial we will be exploring the Google's deterministic AIWP model, GraphCast. \n",
        "\n",
        "GraphCast uses an MSE training objective $$\\textup{MSE}=\\frac{1}{|D||\\Tau||I||J||V|}\\sum\\limits_{d,\\tau,i,j,v}a_j(\\hat{y}_{i,j,v}^{d+\\tau}-y_{i,j,v}^{d+\\tau})^2$$\n",
        "\n",
        "where $y$ is the ground truth value for a given variable (e.g., temperature or winde speed) that a model is trying to predict, and $\\hat{y}$ is the model's prediction for each corresponding $y\\in Y$. Every $y$ is the value of the given variable at a specific combination of time $d\\in D$, lead time $\\tau\\in\\Tau$, longitude $i\\in I$, latitude $j\\in J$, and (for certain atmospheric variables) vertical level $v\\in V$. $a_j$ is the latitude-weight for the cell. It is the surface area of a grid cell (on Earth's surface) at $i,j$ normalized by the mean cell surface area. For evaluation of the model's performance, the RMSE is used, which is $\\sqrt{\\textup{MSE}}$. Model performance is reported separately for each lead time, so we really have $\\textup{RMSE}_\\tau=\\sqrt{\\textup{MSE}_\\tau}~\\forall\\tau\\in\\Tau$.\n",
        "\n",
        "This is a standard approach in the field of using AI for weather and climate modeling. However, this approach masks spatial variation by averaging over latitude and longitude. This tutorial will demonstrate how to move past this paradigm."
      ]
    },
    {
      "cell_type": "markdown",
      "metadata": {
        "id": "rSRCNgYzUwaf"
      },
      "source": [
        "<a name=\"software-requirements\"></a>\n",
        "# Software Requirements\n",
        "\n",
        "All packages have been confirmed to work and be available as follows in this tutorial as of August 20, 2025."
      ]
    },
    {
      "cell_type": "code",
      "execution_count": 1,
      "metadata": {
        "id": "jObV5LtDk0Vm"
      },
      "outputs": [],
      "source": [
        "# installs\n",
        "!pip install safe-earth==0.0.18 -q # SAFE package\n",
        "!pip install nbformat -q # for visualizations"
      ]
    },
    {
      "cell_type": "code",
      "execution_count": 2,
      "metadata": {
        "id": "xVzk4V7qUu2R"
      },
      "outputs": [],
      "source": [
        "# imports\n",
        "import safe_earth as safe\n",
        "from safe_earth.data.climate.era5 import ERA5Var\n",
        "import numpy as np"
      ]
    },
    {
      "cell_type": "markdown",
      "metadata": {
        "id": "jXoiLncsU3pe"
      },
      "source": [
        "<a name=\"data-description\"></a>\n",
        "# Data Description\n",
        "\n",
        "Model training data and evaluation data comes from the ERA5 dataset [[1](#references)] provided by the European Centre for Medium-Range Weather Forecasts (ECMWF). A subset of this data is accessible through SAFE via a mirror hosted by WeatherBench 2 (WB2) [[2](#references)]. For this tutorial we will be looking at 1.5degree spatial resolution, meaning the Earth is segmented into a grid of 240 by 121. Each of these cells is synonymous with the gridpoint it's centered on, providing the cell with precise latitude and longitude coordinates. Predictions for lead times every 12 hours in [12, 240] are used.\n",
        "\n",
        "One of the main benefits of SAFE is that it centralizes disparate datasets on attributes of gridpoints across the globe. The territory (e.g., which country a gridpoint is within), global subregion, and income attributes originate from the geoBoundaries dataset [[3](#references)] and [pygeoboundaries](https://github.com/ibhalin/pygeoboundaries) package. geoBoundaries determines the territorial assignments. Subregion classifications for territories come from the United Nation's Department of Economic and Social Affairs [[4](#references)]. Income classifications of territories are made by the World Bank based on their Atlas methodology for calculating gross national income (GNI) per capita [[5](#references)]."
      ]
    },
    {
      "cell_type": "markdown",
      "metadata": {
        "id": "PoF-BxSM5Jkc"
      },
      "source": [
        "## Data Download\n",
        "\n",
        "SAFE takes care of downloading model predictions from WB2 and ERA5 data. Attribute data is baked in. We will look at predictions made by Google's GraphCast [[6](#references)]."
      ]
    },
    {
      "cell_type": "code",
      "execution_count": 3,
      "metadata": {
        "id": "Qh5FKi6Nopbr"
      },
      "outputs": [
        {
          "name": "stderr",
          "output_type": "stream",
          "text": [
            "/users/nmasi/ccai25/.env/lib/python3.10/site-packages/safe_earth/data/climate/wb2.py:24: FutureWarning: In a future version, xarray will not decode timedelta values based on the presence of a timedelta-like units attribute by default. Instead it will rely on the presence of a timedelta64 dtype attribute, which is now xarray's default way of encoding timedelta64 values. To continue decoding timedeltas based on the presence of a timedelta-like units attribute, users will need to explicitly opt-in by passing True or CFTimedeltaCoder(decode_via_units=True) to decode_timedelta. To silence this warning, set decode_timedelta to True, False, or a 'CFTimedeltaCoder' instance.\n",
            "  ds = xr.open_zarr(wb2_stores.models[model_name][resolution])\n"
          ]
        }
      ],
      "source": [
        "model = 'graphcast'\n",
        "resolution = '240x121'\n",
        "lead_times = [np.timedelta64(x, 'h') for x in range(12, 49, 12)]\n",
        "\n",
        "variables = [ERA5Var('2m_temperature', name='T2M')]\n",
        "era5 = safe.data.climate.era5.get_era5(resolution, variables=variables)\n",
        "preds = safe.data.climate.wb2.get_wb2_preds(model, resolution, lead_times, variables=variables)"
      ]
    },
    {
      "cell_type": "markdown",
      "metadata": {
        "id": "bSt6h_Q-oqjK"
      },
      "source": [
        "## Data Exploration\n",
        "\n",
        "GraphCast was trained to predict the weather at various set times into the future (\"lead times\") with ERA5 data spanning 1979–2019. `era5` includes snapshots of the ERA5 weather data every 6 hours in 2020, part of GraphCast's evaluation set. Here, we analyze model performance on temperature at 2 meters off the surface. This means there are no vertical levels $v$ to reduce over over. `preds` includes GraphCast's predictions for this variable (downsampled to every 12 hours) with lead times of 12 to 48 hours."
      ]
    },
    {
      "cell_type": "code",
      "execution_count": 4,
      "metadata": {
        "id": "0aBJ5aLZosk-"
      },
      "outputs": [
        {
          "data": {
            "text/html": [
              "<div><svg style=\"position: absolute; width: 0; height: 0; overflow: hidden\">\n",
              "<defs>\n",
              "<symbol id=\"icon-database\" viewBox=\"0 0 32 32\">\n",
              "<path d=\"M16 0c-8.837 0-16 2.239-16 5v4c0 2.761 7.163 5 16 5s16-2.239 16-5v-4c0-2.761-7.163-5-16-5z\"></path>\n",
              "<path d=\"M16 17c-8.837 0-16-2.239-16-5v6c0 2.761 7.163 5 16 5s16-2.239 16-5v-6c0 2.761-7.163 5-16 5z\"></path>\n",
              "<path d=\"M16 26c-8.837 0-16-2.239-16-5v6c0 2.761 7.163 5 16 5s16-2.239 16-5v-6c0 2.761-7.163 5-16 5z\"></path>\n",
              "</symbol>\n",
              "<symbol id=\"icon-file-text2\" viewBox=\"0 0 32 32\">\n",
              "<path d=\"M28.681 7.159c-0.694-0.947-1.662-2.053-2.724-3.116s-2.169-2.030-3.116-2.724c-1.612-1.182-2.393-1.319-2.841-1.319h-15.5c-1.378 0-2.5 1.121-2.5 2.5v27c0 1.378 1.122 2.5 2.5 2.5h23c1.378 0 2.5-1.122 2.5-2.5v-19.5c0-0.448-0.137-1.23-1.319-2.841zM24.543 5.457c0.959 0.959 1.712 1.825 2.268 2.543h-4.811v-4.811c0.718 0.556 1.584 1.309 2.543 2.268zM28 29.5c0 0.271-0.229 0.5-0.5 0.5h-23c-0.271 0-0.5-0.229-0.5-0.5v-27c0-0.271 0.229-0.5 0.5-0.5 0 0 15.499-0 15.5 0v7c0 0.552 0.448 1 1 1h7v19.5z\"></path>\n",
              "<path d=\"M23 26h-14c-0.552 0-1-0.448-1-1s0.448-1 1-1h14c0.552 0 1 0.448 1 1s-0.448 1-1 1z\"></path>\n",
              "<path d=\"M23 22h-14c-0.552 0-1-0.448-1-1s0.448-1 1-1h14c0.552 0 1 0.448 1 1s-0.448 1-1 1z\"></path>\n",
              "<path d=\"M23 18h-14c-0.552 0-1-0.448-1-1s0.448-1 1-1h14c0.552 0 1 0.448 1 1s-0.448 1-1 1z\"></path>\n",
              "</symbol>\n",
              "</defs>\n",
              "</svg>\n",
              "<style>/* CSS stylesheet for displaying xarray objects in jupyterlab.\n",
              " *\n",
              " */\n",
              "\n",
              ":root {\n",
              "  --xr-font-color0: var(\n",
              "    --jp-content-font-color0,\n",
              "    var(--pst-color-text-base rgba(0, 0, 0, 1))\n",
              "  );\n",
              "  --xr-font-color2: var(\n",
              "    --jp-content-font-color2,\n",
              "    var(--pst-color-text-base, rgba(0, 0, 0, 0.54))\n",
              "  );\n",
              "  --xr-font-color3: var(\n",
              "    --jp-content-font-color3,\n",
              "    var(--pst-color-text-base, rgba(0, 0, 0, 0.38))\n",
              "  );\n",
              "  --xr-border-color: var(\n",
              "    --jp-border-color2,\n",
              "    hsl(from var(--pst-color-on-background, white) h s calc(l - 10))\n",
              "  );\n",
              "  --xr-disabled-color: var(\n",
              "    --jp-layout-color3,\n",
              "    hsl(from var(--pst-color-on-background, white) h s calc(l - 40))\n",
              "  );\n",
              "  --xr-background-color: var(\n",
              "    --jp-layout-color0,\n",
              "    var(--pst-color-on-background, white)\n",
              "  );\n",
              "  --xr-background-color-row-even: var(\n",
              "    --jp-layout-color1,\n",
              "    hsl(from var(--pst-color-on-background, white) h s calc(l - 5))\n",
              "  );\n",
              "  --xr-background-color-row-odd: var(\n",
              "    --jp-layout-color2,\n",
              "    hsl(from var(--pst-color-on-background, white) h s calc(l - 15))\n",
              "  );\n",
              "}\n",
              "\n",
              "html[theme=\"dark\"],\n",
              "html[data-theme=\"dark\"],\n",
              "body[data-theme=\"dark\"],\n",
              "body.vscode-dark {\n",
              "  --xr-font-color0: var(\n",
              "    --jp-content-font-color0,\n",
              "    var(--pst-color-text-base, rgba(255, 255, 255, 1))\n",
              "  );\n",
              "  --xr-font-color2: var(\n",
              "    --jp-content-font-color2,\n",
              "    var(--pst-color-text-base, rgba(255, 255, 255, 0.54))\n",
              "  );\n",
              "  --xr-font-color3: var(\n",
              "    --jp-content-font-color3,\n",
              "    var(--pst-color-text-base, rgba(255, 255, 255, 0.38))\n",
              "  );\n",
              "  --xr-border-color: var(\n",
              "    --jp-border-color2,\n",
              "    hsl(from var(--pst-color-on-background, #111111) h s calc(l + 10))\n",
              "  );\n",
              "  --xr-disabled-color: var(\n",
              "    --jp-layout-color3,\n",
              "    hsl(from var(--pst-color-on-background, #111111) h s calc(l + 40))\n",
              "  );\n",
              "  --xr-background-color: var(\n",
              "    --jp-layout-color0,\n",
              "    var(--pst-color-on-background, #111111)\n",
              "  );\n",
              "  --xr-background-color-row-even: var(\n",
              "    --jp-layout-color1,\n",
              "    hsl(from var(--pst-color-on-background, #111111) h s calc(l + 5))\n",
              "  );\n",
              "  --xr-background-color-row-odd: var(\n",
              "    --jp-layout-color2,\n",
              "    hsl(from var(--pst-color-on-background, #111111) h s calc(l + 15))\n",
              "  );\n",
              "}\n",
              "\n",
              ".xr-wrap {\n",
              "  display: block !important;\n",
              "  min-width: 300px;\n",
              "  max-width: 700px;\n",
              "}\n",
              "\n",
              ".xr-text-repr-fallback {\n",
              "  /* fallback to plain text repr when CSS is not injected (untrusted notebook) */\n",
              "  display: none;\n",
              "}\n",
              "\n",
              ".xr-header {\n",
              "  padding-top: 6px;\n",
              "  padding-bottom: 6px;\n",
              "  margin-bottom: 4px;\n",
              "  border-bottom: solid 1px var(--xr-border-color);\n",
              "}\n",
              "\n",
              ".xr-header > div,\n",
              ".xr-header > ul {\n",
              "  display: inline;\n",
              "  margin-top: 0;\n",
              "  margin-bottom: 0;\n",
              "}\n",
              "\n",
              ".xr-obj-type,\n",
              ".xr-array-name {\n",
              "  margin-left: 2px;\n",
              "  margin-right: 10px;\n",
              "}\n",
              "\n",
              ".xr-obj-type {\n",
              "  color: var(--xr-font-color2);\n",
              "}\n",
              "\n",
              ".xr-sections {\n",
              "  padding-left: 0 !important;\n",
              "  display: grid;\n",
              "  grid-template-columns: 150px auto auto 1fr 0 20px 0 20px;\n",
              "}\n",
              "\n",
              ".xr-section-item {\n",
              "  display: contents;\n",
              "}\n",
              "\n",
              ".xr-section-item input {\n",
              "  display: inline-block;\n",
              "  opacity: 0;\n",
              "  height: 0;\n",
              "}\n",
              "\n",
              ".xr-section-item input + label {\n",
              "  color: var(--xr-disabled-color);\n",
              "  border: 2px solid transparent !important;\n",
              "}\n",
              "\n",
              ".xr-section-item input:enabled + label {\n",
              "  cursor: pointer;\n",
              "  color: var(--xr-font-color2);\n",
              "}\n",
              "\n",
              ".xr-section-item input:focus + label {\n",
              "  border: 2px solid var(--xr-font-color0) !important;\n",
              "}\n",
              "\n",
              ".xr-section-item input:enabled + label:hover {\n",
              "  color: var(--xr-font-color0);\n",
              "}\n",
              "\n",
              ".xr-section-summary {\n",
              "  grid-column: 1;\n",
              "  color: var(--xr-font-color2);\n",
              "  font-weight: 500;\n",
              "}\n",
              "\n",
              ".xr-section-summary > span {\n",
              "  display: inline-block;\n",
              "  padding-left: 0.5em;\n",
              "}\n",
              "\n",
              ".xr-section-summary-in:disabled + label {\n",
              "  color: var(--xr-font-color2);\n",
              "}\n",
              "\n",
              ".xr-section-summary-in + label:before {\n",
              "  display: inline-block;\n",
              "  content: \"►\";\n",
              "  font-size: 11px;\n",
              "  width: 15px;\n",
              "  text-align: center;\n",
              "}\n",
              "\n",
              ".xr-section-summary-in:disabled + label:before {\n",
              "  color: var(--xr-disabled-color);\n",
              "}\n",
              "\n",
              ".xr-section-summary-in:checked + label:before {\n",
              "  content: \"▼\";\n",
              "}\n",
              "\n",
              ".xr-section-summary-in:checked + label > span {\n",
              "  display: none;\n",
              "}\n",
              "\n",
              ".xr-section-summary,\n",
              ".xr-section-inline-details {\n",
              "  padding-top: 4px;\n",
              "  padding-bottom: 4px;\n",
              "}\n",
              "\n",
              ".xr-section-inline-details {\n",
              "  grid-column: 2 / -1;\n",
              "}\n",
              "\n",
              ".xr-section-details {\n",
              "  display: none;\n",
              "  grid-column: 1 / -1;\n",
              "  margin-bottom: 5px;\n",
              "}\n",
              "\n",
              ".xr-section-summary-in:checked ~ .xr-section-details {\n",
              "  display: contents;\n",
              "}\n",
              "\n",
              ".xr-array-wrap {\n",
              "  grid-column: 1 / -1;\n",
              "  display: grid;\n",
              "  grid-template-columns: 20px auto;\n",
              "}\n",
              "\n",
              ".xr-array-wrap > label {\n",
              "  grid-column: 1;\n",
              "  vertical-align: top;\n",
              "}\n",
              "\n",
              ".xr-preview {\n",
              "  color: var(--xr-font-color3);\n",
              "}\n",
              "\n",
              ".xr-array-preview,\n",
              ".xr-array-data {\n",
              "  padding: 0 5px !important;\n",
              "  grid-column: 2;\n",
              "}\n",
              "\n",
              ".xr-array-data,\n",
              ".xr-array-in:checked ~ .xr-array-preview {\n",
              "  display: none;\n",
              "}\n",
              "\n",
              ".xr-array-in:checked ~ .xr-array-data,\n",
              ".xr-array-preview {\n",
              "  display: inline-block;\n",
              "}\n",
              "\n",
              ".xr-dim-list {\n",
              "  display: inline-block !important;\n",
              "  list-style: none;\n",
              "  padding: 0 !important;\n",
              "  margin: 0;\n",
              "}\n",
              "\n",
              ".xr-dim-list li {\n",
              "  display: inline-block;\n",
              "  padding: 0;\n",
              "  margin: 0;\n",
              "}\n",
              "\n",
              ".xr-dim-list:before {\n",
              "  content: \"(\";\n",
              "}\n",
              "\n",
              ".xr-dim-list:after {\n",
              "  content: \")\";\n",
              "}\n",
              "\n",
              ".xr-dim-list li:not(:last-child):after {\n",
              "  content: \",\";\n",
              "  padding-right: 5px;\n",
              "}\n",
              "\n",
              ".xr-has-index {\n",
              "  font-weight: bold;\n",
              "}\n",
              "\n",
              ".xr-var-list,\n",
              ".xr-var-item {\n",
              "  display: contents;\n",
              "}\n",
              "\n",
              ".xr-var-item > div,\n",
              ".xr-var-item label,\n",
              ".xr-var-item > .xr-var-name span {\n",
              "  background-color: var(--xr-background-color-row-even);\n",
              "  border-color: var(--xr-background-color-row-odd);\n",
              "  margin-bottom: 0;\n",
              "  padding-top: 2px;\n",
              "}\n",
              "\n",
              ".xr-var-item > .xr-var-name:hover span {\n",
              "  padding-right: 5px;\n",
              "}\n",
              "\n",
              ".xr-var-list > li:nth-child(odd) > div,\n",
              ".xr-var-list > li:nth-child(odd) > label,\n",
              ".xr-var-list > li:nth-child(odd) > .xr-var-name span {\n",
              "  background-color: var(--xr-background-color-row-odd);\n",
              "  border-color: var(--xr-background-color-row-even);\n",
              "}\n",
              "\n",
              ".xr-var-name {\n",
              "  grid-column: 1;\n",
              "}\n",
              "\n",
              ".xr-var-dims {\n",
              "  grid-column: 2;\n",
              "}\n",
              "\n",
              ".xr-var-dtype {\n",
              "  grid-column: 3;\n",
              "  text-align: right;\n",
              "  color: var(--xr-font-color2);\n",
              "}\n",
              "\n",
              ".xr-var-preview {\n",
              "  grid-column: 4;\n",
              "}\n",
              "\n",
              ".xr-index-preview {\n",
              "  grid-column: 2 / 5;\n",
              "  color: var(--xr-font-color2);\n",
              "}\n",
              "\n",
              ".xr-var-name,\n",
              ".xr-var-dims,\n",
              ".xr-var-dtype,\n",
              ".xr-preview,\n",
              ".xr-attrs dt {\n",
              "  white-space: nowrap;\n",
              "  overflow: hidden;\n",
              "  text-overflow: ellipsis;\n",
              "  padding-right: 10px;\n",
              "}\n",
              "\n",
              ".xr-var-name:hover,\n",
              ".xr-var-dims:hover,\n",
              ".xr-var-dtype:hover,\n",
              ".xr-attrs dt:hover {\n",
              "  overflow: visible;\n",
              "  width: auto;\n",
              "  z-index: 1;\n",
              "}\n",
              "\n",
              ".xr-var-attrs,\n",
              ".xr-var-data,\n",
              ".xr-index-data {\n",
              "  display: none;\n",
              "  border-top: 2px dotted var(--xr-background-color);\n",
              "  padding-bottom: 20px !important;\n",
              "  padding-top: 10px !important;\n",
              "}\n",
              "\n",
              ".xr-var-attrs-in + label,\n",
              ".xr-var-data-in + label,\n",
              ".xr-index-data-in + label {\n",
              "  padding: 0 1px;\n",
              "}\n",
              "\n",
              ".xr-var-attrs-in:checked ~ .xr-var-attrs,\n",
              ".xr-var-data-in:checked ~ .xr-var-data,\n",
              ".xr-index-data-in:checked ~ .xr-index-data {\n",
              "  display: block;\n",
              "}\n",
              "\n",
              ".xr-var-data > table {\n",
              "  float: right;\n",
              "}\n",
              "\n",
              ".xr-var-data > pre,\n",
              ".xr-index-data > pre,\n",
              ".xr-var-data > table > tbody > tr {\n",
              "  background-color: transparent !important;\n",
              "}\n",
              "\n",
              ".xr-var-name span,\n",
              ".xr-var-data,\n",
              ".xr-index-name div,\n",
              ".xr-index-data,\n",
              ".xr-attrs {\n",
              "  padding-left: 25px !important;\n",
              "}\n",
              "\n",
              ".xr-attrs,\n",
              ".xr-var-attrs,\n",
              ".xr-var-data,\n",
              ".xr-index-data {\n",
              "  grid-column: 1 / -1;\n",
              "}\n",
              "\n",
              "dl.xr-attrs {\n",
              "  padding: 0;\n",
              "  margin: 0;\n",
              "  display: grid;\n",
              "  grid-template-columns: 125px auto;\n",
              "}\n",
              "\n",
              ".xr-attrs dt,\n",
              ".xr-attrs dd {\n",
              "  padding: 0;\n",
              "  margin: 0;\n",
              "  float: left;\n",
              "  padding-right: 10px;\n",
              "  width: auto;\n",
              "}\n",
              "\n",
              ".xr-attrs dt {\n",
              "  font-weight: normal;\n",
              "  grid-column: 1;\n",
              "}\n",
              "\n",
              ".xr-attrs dt:hover span {\n",
              "  display: inline-block;\n",
              "  background: var(--xr-background-color);\n",
              "  padding-right: 10px;\n",
              "}\n",
              "\n",
              ".xr-attrs dd {\n",
              "  grid-column: 2;\n",
              "  white-space: pre-wrap;\n",
              "  word-break: break-all;\n",
              "}\n",
              "\n",
              ".xr-icon-database,\n",
              ".xr-icon-file-text2,\n",
              ".xr-no-icon {\n",
              "  display: inline-block;\n",
              "  vertical-align: middle;\n",
              "  width: 1em;\n",
              "  height: 1.5em !important;\n",
              "  stroke-width: 0;\n",
              "  stroke: currentColor;\n",
              "  fill: currentColor;\n",
              "}\n",
              "\n",
              ".xr-var-attrs-in:checked + label > .xr-icon-file-text2,\n",
              ".xr-var-data-in:checked + label > .xr-icon-database,\n",
              ".xr-index-data-in:checked + label > .xr-icon-database {\n",
              "  color: var(--xr-font-color0);\n",
              "  filter: drop-shadow(1px 1px 5px var(--xr-font-color2));\n",
              "  stroke-width: 0.8px;\n",
              "}\n",
              "</style><pre class='xr-text-repr-fallback'>&lt;xarray.Dataset&gt; Size: 175MB\n",
              "Dimensions:    (time: 1505, longitude: 240, latitude: 121)\n",
              "Coordinates:\n",
              "  * latitude   (latitude) float64 968B -90.0 -88.5 -87.0 ... 87.0 88.5 90.0\n",
              "  * time       (time) datetime64[ns] 12kB 2020-01-01 ... 2021-01-11\n",
              "  * longitude  (longitude) float64 2kB 0.0 1.5 3.0 4.5 ... -6.0 -4.5 -3.0 -1.5\n",
              "Data variables:\n",
              "    T2M        (time, longitude, latitude) float32 175MB ...</pre><div class='xr-wrap' style='display:none'><div class='xr-header'><div class='xr-obj-type'>xarray.Dataset</div></div><ul class='xr-sections'><li class='xr-section-item'><input id='section-594fff2d-6f57-4d8f-a867-d7d9605698b5' class='xr-section-summary-in' type='checkbox' disabled ><label for='section-594fff2d-6f57-4d8f-a867-d7d9605698b5' class='xr-section-summary'  title='Expand/collapse section'>Dimensions:</label><div class='xr-section-inline-details'><ul class='xr-dim-list'><li><span class='xr-has-index'>time</span>: 1505</li><li><span class='xr-has-index'>longitude</span>: 240</li><li><span class='xr-has-index'>latitude</span>: 121</li></ul></div><div class='xr-section-details'></div></li><li class='xr-section-item'><input id='section-e05f153c-4e46-4966-811d-cbf6423d2143' class='xr-section-summary-in' type='checkbox'  checked><label for='section-e05f153c-4e46-4966-811d-cbf6423d2143' class='xr-section-summary' >Coordinates: <span>(3)</span></label><div class='xr-section-inline-details'></div><div class='xr-section-details'><ul class='xr-var-list'><li class='xr-var-item'><div class='xr-var-name'><span class='xr-has-index'>latitude</span></div><div class='xr-var-dims'>(latitude)</div><div class='xr-var-dtype'>float64</div><div class='xr-var-preview xr-preview'>-90.0 -88.5 -87.0 ... 88.5 90.0</div><input id='attrs-5025a9c0-7b40-47db-a54d-30a76f106810' class='xr-var-attrs-in' type='checkbox' disabled><label for='attrs-5025a9c0-7b40-47db-a54d-30a76f106810' title='Show/Hide attributes'><svg class='icon xr-icon-file-text2'><use xlink:href='#icon-file-text2'></use></svg></label><input id='data-ff60c61d-a254-4756-8f19-a2696f5f8171' class='xr-var-data-in' type='checkbox'><label for='data-ff60c61d-a254-4756-8f19-a2696f5f8171' title='Show/Hide data repr'><svg class='icon xr-icon-database'><use xlink:href='#icon-database'></use></svg></label><div class='xr-var-attrs'><dl class='xr-attrs'></dl></div><div class='xr-var-data'><pre>array([-90. , -88.5, -87. , -85.5, -84. , -82.5, -81. , -79.5, -78. , -76.5,\n",
              "       -75. , -73.5, -72. , -70.5, -69. , -67.5, -66. , -64.5, -63. , -61.5,\n",
              "       -60. , -58.5, -57. , -55.5, -54. , -52.5, -51. , -49.5, -48. , -46.5,\n",
              "       -45. , -43.5, -42. , -40.5, -39. , -37.5, -36. , -34.5, -33. , -31.5,\n",
              "       -30. , -28.5, -27. , -25.5, -24. , -22.5, -21. , -19.5, -18. , -16.5,\n",
              "       -15. , -13.5, -12. , -10.5,  -9. ,  -7.5,  -6. ,  -4.5,  -3. ,  -1.5,\n",
              "         0. ,   1.5,   3. ,   4.5,   6. ,   7.5,   9. ,  10.5,  12. ,  13.5,\n",
              "        15. ,  16.5,  18. ,  19.5,  21. ,  22.5,  24. ,  25.5,  27. ,  28.5,\n",
              "        30. ,  31.5,  33. ,  34.5,  36. ,  37.5,  39. ,  40.5,  42. ,  43.5,\n",
              "        45. ,  46.5,  48. ,  49.5,  51. ,  52.5,  54. ,  55.5,  57. ,  58.5,\n",
              "        60. ,  61.5,  63. ,  64.5,  66. ,  67.5,  69. ,  70.5,  72. ,  73.5,\n",
              "        75. ,  76.5,  78. ,  79.5,  81. ,  82.5,  84. ,  85.5,  87. ,  88.5,\n",
              "        90. ])</pre></div></li><li class='xr-var-item'><div class='xr-var-name'><span class='xr-has-index'>time</span></div><div class='xr-var-dims'>(time)</div><div class='xr-var-dtype'>datetime64[ns]</div><div class='xr-var-preview xr-preview'>2020-01-01 ... 2021-01-11</div><input id='attrs-cc8ebed4-1755-4c96-979e-c1fdc01d899f' class='xr-var-attrs-in' type='checkbox' disabled><label for='attrs-cc8ebed4-1755-4c96-979e-c1fdc01d899f' title='Show/Hide attributes'><svg class='icon xr-icon-file-text2'><use xlink:href='#icon-file-text2'></use></svg></label><input id='data-881011fe-a031-439f-a1ef-4c1e9a659853' class='xr-var-data-in' type='checkbox'><label for='data-881011fe-a031-439f-a1ef-4c1e9a659853' title='Show/Hide data repr'><svg class='icon xr-icon-database'><use xlink:href='#icon-database'></use></svg></label><div class='xr-var-attrs'><dl class='xr-attrs'></dl></div><div class='xr-var-data'><pre>array([&#x27;2020-01-01T00:00:00.000000000&#x27;, &#x27;2020-01-01T06:00:00.000000000&#x27;,\n",
              "       &#x27;2020-01-01T12:00:00.000000000&#x27;, ..., &#x27;2021-01-10T12:00:00.000000000&#x27;,\n",
              "       &#x27;2021-01-10T18:00:00.000000000&#x27;, &#x27;2021-01-11T00:00:00.000000000&#x27;],\n",
              "      shape=(1505,), dtype=&#x27;datetime64[ns]&#x27;)</pre></div></li><li class='xr-var-item'><div class='xr-var-name'><span class='xr-has-index'>longitude</span></div><div class='xr-var-dims'>(longitude)</div><div class='xr-var-dtype'>float64</div><div class='xr-var-preview xr-preview'>0.0 1.5 3.0 4.5 ... -4.5 -3.0 -1.5</div><input id='attrs-f1999eea-329a-449d-9a8b-208befaa4a57' class='xr-var-attrs-in' type='checkbox' disabled><label for='attrs-f1999eea-329a-449d-9a8b-208befaa4a57' title='Show/Hide attributes'><svg class='icon xr-icon-file-text2'><use xlink:href='#icon-file-text2'></use></svg></label><input id='data-d5835351-1059-45ca-971f-33718147c903' class='xr-var-data-in' type='checkbox'><label for='data-d5835351-1059-45ca-971f-33718147c903' title='Show/Hide data repr'><svg class='icon xr-icon-database'><use xlink:href='#icon-database'></use></svg></label><div class='xr-var-attrs'><dl class='xr-attrs'></dl></div><div class='xr-var-data'><pre>array([ 0. ,  1.5,  3. , ..., -4.5, -3. , -1.5], shape=(240,))</pre></div></li></ul></div></li><li class='xr-section-item'><input id='section-0831f6f9-83b4-4e99-a2af-aa90bdff2c59' class='xr-section-summary-in' type='checkbox'  checked><label for='section-0831f6f9-83b4-4e99-a2af-aa90bdff2c59' class='xr-section-summary' >Data variables: <span>(1)</span></label><div class='xr-section-inline-details'></div><div class='xr-section-details'><ul class='xr-var-list'><li class='xr-var-item'><div class='xr-var-name'><span>T2M</span></div><div class='xr-var-dims'>(time, longitude, latitude)</div><div class='xr-var-dtype'>float32</div><div class='xr-var-preview xr-preview'>...</div><input id='attrs-a3ca316b-675b-49ea-b4b3-3dc7ff07dfef' class='xr-var-attrs-in' type='checkbox' ><label for='attrs-a3ca316b-675b-49ea-b4b3-3dc7ff07dfef' title='Show/Hide attributes'><svg class='icon xr-icon-file-text2'><use xlink:href='#icon-file-text2'></use></svg></label><input id='data-6d2f01f1-a410-44ce-a64c-e44be260bc60' class='xr-var-data-in' type='checkbox'><label for='data-6d2f01f1-a410-44ce-a64c-e44be260bc60' title='Show/Hide data repr'><svg class='icon xr-icon-database'><use xlink:href='#icon-database'></use></svg></label><div class='xr-var-attrs'><dl class='xr-attrs'><dt><span>long_name :</span></dt><dd>2 metre temperature</dd><dt><span>short_name :</span></dt><dd>t2m</dd><dt><span>units :</span></dt><dd>K</dd></dl></div><div class='xr-var-data'><pre>[43705200 values with dtype=float32]</pre></div></li></ul></div></li><li class='xr-section-item'><input id='section-c83e4a97-cc71-451c-a462-dd8533ac98d9' class='xr-section-summary-in' type='checkbox'  ><label for='section-c83e4a97-cc71-451c-a462-dd8533ac98d9' class='xr-section-summary' >Indexes: <span>(3)</span></label><div class='xr-section-inline-details'></div><div class='xr-section-details'><ul class='xr-var-list'><li class='xr-var-item'><div class='xr-index-name'><div>latitude</div></div><div class='xr-index-preview'>PandasIndex</div><input type='checkbox' disabled/><label></label><input id='index-5d22a210-5aef-4c06-99d3-6e110ffba058' class='xr-index-data-in' type='checkbox'/><label for='index-5d22a210-5aef-4c06-99d3-6e110ffba058' title='Show/Hide index repr'><svg class='icon xr-icon-database'><use xlink:href='#icon-database'></use></svg></label><div class='xr-index-data'><pre>PandasIndex(Index([-90.0, -88.5, -87.0, -85.5, -84.0, -82.5, -81.0, -79.5, -78.0, -76.5,\n",
              "       ...\n",
              "        76.5,  78.0,  79.5,  81.0,  82.5,  84.0,  85.5,  87.0,  88.5,  90.0],\n",
              "      dtype=&#x27;float64&#x27;, name=&#x27;latitude&#x27;, length=121))</pre></div></li><li class='xr-var-item'><div class='xr-index-name'><div>time</div></div><div class='xr-index-preview'>PandasIndex</div><input type='checkbox' disabled/><label></label><input id='index-b45623eb-d844-4038-bff9-09c8dcc6f489' class='xr-index-data-in' type='checkbox'/><label for='index-b45623eb-d844-4038-bff9-09c8dcc6f489' title='Show/Hide index repr'><svg class='icon xr-icon-database'><use xlink:href='#icon-database'></use></svg></label><div class='xr-index-data'><pre>PandasIndex(DatetimeIndex([&#x27;2020-01-01 00:00:00&#x27;, &#x27;2020-01-01 06:00:00&#x27;,\n",
              "               &#x27;2020-01-01 12:00:00&#x27;, &#x27;2020-01-01 18:00:00&#x27;,\n",
              "               &#x27;2020-01-02 00:00:00&#x27;, &#x27;2020-01-02 06:00:00&#x27;,\n",
              "               &#x27;2020-01-02 12:00:00&#x27;, &#x27;2020-01-02 18:00:00&#x27;,\n",
              "               &#x27;2020-01-03 00:00:00&#x27;, &#x27;2020-01-03 06:00:00&#x27;,\n",
              "               ...\n",
              "               &#x27;2021-01-08 18:00:00&#x27;, &#x27;2021-01-09 00:00:00&#x27;,\n",
              "               &#x27;2021-01-09 06:00:00&#x27;, &#x27;2021-01-09 12:00:00&#x27;,\n",
              "               &#x27;2021-01-09 18:00:00&#x27;, &#x27;2021-01-10 00:00:00&#x27;,\n",
              "               &#x27;2021-01-10 06:00:00&#x27;, &#x27;2021-01-10 12:00:00&#x27;,\n",
              "               &#x27;2021-01-10 18:00:00&#x27;, &#x27;2021-01-11 00:00:00&#x27;],\n",
              "              dtype=&#x27;datetime64[ns]&#x27;, name=&#x27;time&#x27;, length=1505, freq=None))</pre></div></li><li class='xr-var-item'><div class='xr-index-name'><div>longitude</div></div><div class='xr-index-preview'>PandasIndex</div><input type='checkbox' disabled/><label></label><input id='index-b7250730-a2c7-4e86-8e93-6caad8c5053e' class='xr-index-data-in' type='checkbox'/><label for='index-b7250730-a2c7-4e86-8e93-6caad8c5053e' title='Show/Hide index repr'><svg class='icon xr-icon-database'><use xlink:href='#icon-database'></use></svg></label><div class='xr-index-data'><pre>PandasIndex(Index([  0.0,   1.5,   3.0,   4.5,   6.0,   7.5,   9.0,  10.5,  12.0,  13.5,\n",
              "       ...\n",
              "       -15.0, -13.5, -12.0, -10.5,  -9.0,  -7.5,  -6.0,  -4.5,  -3.0,  -1.5],\n",
              "      dtype=&#x27;float64&#x27;, name=&#x27;longitude&#x27;, length=240))</pre></div></li></ul></div></li><li class='xr-section-item'><input id='section-ded27c9e-46f8-4261-87b6-74037ee176bf' class='xr-section-summary-in' type='checkbox' disabled ><label for='section-ded27c9e-46f8-4261-87b6-74037ee176bf' class='xr-section-summary'  title='Expand/collapse section'>Attributes: <span>(0)</span></label><div class='xr-section-inline-details'></div><div class='xr-section-details'><dl class='xr-attrs'></dl></div></li></ul></div></div>"
            ],
            "text/plain": [
              "<xarray.Dataset> Size: 175MB\n",
              "Dimensions:    (time: 1505, longitude: 240, latitude: 121)\n",
              "Coordinates:\n",
              "  * latitude   (latitude) float64 968B -90.0 -88.5 -87.0 ... 87.0 88.5 90.0\n",
              "  * time       (time) datetime64[ns] 12kB 2020-01-01 ... 2021-01-11\n",
              "  * longitude  (longitude) float64 2kB 0.0 1.5 3.0 4.5 ... -6.0 -4.5 -3.0 -1.5\n",
              "Data variables:\n",
              "    T2M        (time, longitude, latitude) float32 175MB ..."
            ]
          },
          "execution_count": 4,
          "metadata": {},
          "output_type": "execute_result"
        }
      ],
      "source": [
        "era5"
      ]
    },
    {
      "cell_type": "code",
      "execution_count": 5,
      "metadata": {},
      "outputs": [
        {
          "data": {
            "text/html": [
              "<div><svg style=\"position: absolute; width: 0; height: 0; overflow: hidden\">\n",
              "<defs>\n",
              "<symbol id=\"icon-database\" viewBox=\"0 0 32 32\">\n",
              "<path d=\"M16 0c-8.837 0-16 2.239-16 5v4c0 2.761 7.163 5 16 5s16-2.239 16-5v-4c0-2.761-7.163-5-16-5z\"></path>\n",
              "<path d=\"M16 17c-8.837 0-16-2.239-16-5v6c0 2.761 7.163 5 16 5s16-2.239 16-5v-6c0 2.761-7.163 5-16 5z\"></path>\n",
              "<path d=\"M16 26c-8.837 0-16-2.239-16-5v6c0 2.761 7.163 5 16 5s16-2.239 16-5v-6c0 2.761-7.163 5-16 5z\"></path>\n",
              "</symbol>\n",
              "<symbol id=\"icon-file-text2\" viewBox=\"0 0 32 32\">\n",
              "<path d=\"M28.681 7.159c-0.694-0.947-1.662-2.053-2.724-3.116s-2.169-2.030-3.116-2.724c-1.612-1.182-2.393-1.319-2.841-1.319h-15.5c-1.378 0-2.5 1.121-2.5 2.5v27c0 1.378 1.122 2.5 2.5 2.5h23c1.378 0 2.5-1.122 2.5-2.5v-19.5c0-0.448-0.137-1.23-1.319-2.841zM24.543 5.457c0.959 0.959 1.712 1.825 2.268 2.543h-4.811v-4.811c0.718 0.556 1.584 1.309 2.543 2.268zM28 29.5c0 0.271-0.229 0.5-0.5 0.5h-23c-0.271 0-0.5-0.229-0.5-0.5v-27c0-0.271 0.229-0.5 0.5-0.5 0 0 15.499-0 15.5 0v7c0 0.552 0.448 1 1 1h7v19.5z\"></path>\n",
              "<path d=\"M23 26h-14c-0.552 0-1-0.448-1-1s0.448-1 1-1h14c0.552 0 1 0.448 1 1s-0.448 1-1 1z\"></path>\n",
              "<path d=\"M23 22h-14c-0.552 0-1-0.448-1-1s0.448-1 1-1h14c0.552 0 1 0.448 1 1s-0.448 1-1 1z\"></path>\n",
              "<path d=\"M23 18h-14c-0.552 0-1-0.448-1-1s0.448-1 1-1h14c0.552 0 1 0.448 1 1s-0.448 1-1 1z\"></path>\n",
              "</symbol>\n",
              "</defs>\n",
              "</svg>\n",
              "<style>/* CSS stylesheet for displaying xarray objects in jupyterlab.\n",
              " *\n",
              " */\n",
              "\n",
              ":root {\n",
              "  --xr-font-color0: var(\n",
              "    --jp-content-font-color0,\n",
              "    var(--pst-color-text-base rgba(0, 0, 0, 1))\n",
              "  );\n",
              "  --xr-font-color2: var(\n",
              "    --jp-content-font-color2,\n",
              "    var(--pst-color-text-base, rgba(0, 0, 0, 0.54))\n",
              "  );\n",
              "  --xr-font-color3: var(\n",
              "    --jp-content-font-color3,\n",
              "    var(--pst-color-text-base, rgba(0, 0, 0, 0.38))\n",
              "  );\n",
              "  --xr-border-color: var(\n",
              "    --jp-border-color2,\n",
              "    hsl(from var(--pst-color-on-background, white) h s calc(l - 10))\n",
              "  );\n",
              "  --xr-disabled-color: var(\n",
              "    --jp-layout-color3,\n",
              "    hsl(from var(--pst-color-on-background, white) h s calc(l - 40))\n",
              "  );\n",
              "  --xr-background-color: var(\n",
              "    --jp-layout-color0,\n",
              "    var(--pst-color-on-background, white)\n",
              "  );\n",
              "  --xr-background-color-row-even: var(\n",
              "    --jp-layout-color1,\n",
              "    hsl(from var(--pst-color-on-background, white) h s calc(l - 5))\n",
              "  );\n",
              "  --xr-background-color-row-odd: var(\n",
              "    --jp-layout-color2,\n",
              "    hsl(from var(--pst-color-on-background, white) h s calc(l - 15))\n",
              "  );\n",
              "}\n",
              "\n",
              "html[theme=\"dark\"],\n",
              "html[data-theme=\"dark\"],\n",
              "body[data-theme=\"dark\"],\n",
              "body.vscode-dark {\n",
              "  --xr-font-color0: var(\n",
              "    --jp-content-font-color0,\n",
              "    var(--pst-color-text-base, rgba(255, 255, 255, 1))\n",
              "  );\n",
              "  --xr-font-color2: var(\n",
              "    --jp-content-font-color2,\n",
              "    var(--pst-color-text-base, rgba(255, 255, 255, 0.54))\n",
              "  );\n",
              "  --xr-font-color3: var(\n",
              "    --jp-content-font-color3,\n",
              "    var(--pst-color-text-base, rgba(255, 255, 255, 0.38))\n",
              "  );\n",
              "  --xr-border-color: var(\n",
              "    --jp-border-color2,\n",
              "    hsl(from var(--pst-color-on-background, #111111) h s calc(l + 10))\n",
              "  );\n",
              "  --xr-disabled-color: var(\n",
              "    --jp-layout-color3,\n",
              "    hsl(from var(--pst-color-on-background, #111111) h s calc(l + 40))\n",
              "  );\n",
              "  --xr-background-color: var(\n",
              "    --jp-layout-color0,\n",
              "    var(--pst-color-on-background, #111111)\n",
              "  );\n",
              "  --xr-background-color-row-even: var(\n",
              "    --jp-layout-color1,\n",
              "    hsl(from var(--pst-color-on-background, #111111) h s calc(l + 5))\n",
              "  );\n",
              "  --xr-background-color-row-odd: var(\n",
              "    --jp-layout-color2,\n",
              "    hsl(from var(--pst-color-on-background, #111111) h s calc(l + 15))\n",
              "  );\n",
              "}\n",
              "\n",
              ".xr-wrap {\n",
              "  display: block !important;\n",
              "  min-width: 300px;\n",
              "  max-width: 700px;\n",
              "}\n",
              "\n",
              ".xr-text-repr-fallback {\n",
              "  /* fallback to plain text repr when CSS is not injected (untrusted notebook) */\n",
              "  display: none;\n",
              "}\n",
              "\n",
              ".xr-header {\n",
              "  padding-top: 6px;\n",
              "  padding-bottom: 6px;\n",
              "  margin-bottom: 4px;\n",
              "  border-bottom: solid 1px var(--xr-border-color);\n",
              "}\n",
              "\n",
              ".xr-header > div,\n",
              ".xr-header > ul {\n",
              "  display: inline;\n",
              "  margin-top: 0;\n",
              "  margin-bottom: 0;\n",
              "}\n",
              "\n",
              ".xr-obj-type,\n",
              ".xr-array-name {\n",
              "  margin-left: 2px;\n",
              "  margin-right: 10px;\n",
              "}\n",
              "\n",
              ".xr-obj-type {\n",
              "  color: var(--xr-font-color2);\n",
              "}\n",
              "\n",
              ".xr-sections {\n",
              "  padding-left: 0 !important;\n",
              "  display: grid;\n",
              "  grid-template-columns: 150px auto auto 1fr 0 20px 0 20px;\n",
              "}\n",
              "\n",
              ".xr-section-item {\n",
              "  display: contents;\n",
              "}\n",
              "\n",
              ".xr-section-item input {\n",
              "  display: inline-block;\n",
              "  opacity: 0;\n",
              "  height: 0;\n",
              "}\n",
              "\n",
              ".xr-section-item input + label {\n",
              "  color: var(--xr-disabled-color);\n",
              "  border: 2px solid transparent !important;\n",
              "}\n",
              "\n",
              ".xr-section-item input:enabled + label {\n",
              "  cursor: pointer;\n",
              "  color: var(--xr-font-color2);\n",
              "}\n",
              "\n",
              ".xr-section-item input:focus + label {\n",
              "  border: 2px solid var(--xr-font-color0) !important;\n",
              "}\n",
              "\n",
              ".xr-section-item input:enabled + label:hover {\n",
              "  color: var(--xr-font-color0);\n",
              "}\n",
              "\n",
              ".xr-section-summary {\n",
              "  grid-column: 1;\n",
              "  color: var(--xr-font-color2);\n",
              "  font-weight: 500;\n",
              "}\n",
              "\n",
              ".xr-section-summary > span {\n",
              "  display: inline-block;\n",
              "  padding-left: 0.5em;\n",
              "}\n",
              "\n",
              ".xr-section-summary-in:disabled + label {\n",
              "  color: var(--xr-font-color2);\n",
              "}\n",
              "\n",
              ".xr-section-summary-in + label:before {\n",
              "  display: inline-block;\n",
              "  content: \"►\";\n",
              "  font-size: 11px;\n",
              "  width: 15px;\n",
              "  text-align: center;\n",
              "}\n",
              "\n",
              ".xr-section-summary-in:disabled + label:before {\n",
              "  color: var(--xr-disabled-color);\n",
              "}\n",
              "\n",
              ".xr-section-summary-in:checked + label:before {\n",
              "  content: \"▼\";\n",
              "}\n",
              "\n",
              ".xr-section-summary-in:checked + label > span {\n",
              "  display: none;\n",
              "}\n",
              "\n",
              ".xr-section-summary,\n",
              ".xr-section-inline-details {\n",
              "  padding-top: 4px;\n",
              "  padding-bottom: 4px;\n",
              "}\n",
              "\n",
              ".xr-section-inline-details {\n",
              "  grid-column: 2 / -1;\n",
              "}\n",
              "\n",
              ".xr-section-details {\n",
              "  display: none;\n",
              "  grid-column: 1 / -1;\n",
              "  margin-bottom: 5px;\n",
              "}\n",
              "\n",
              ".xr-section-summary-in:checked ~ .xr-section-details {\n",
              "  display: contents;\n",
              "}\n",
              "\n",
              ".xr-array-wrap {\n",
              "  grid-column: 1 / -1;\n",
              "  display: grid;\n",
              "  grid-template-columns: 20px auto;\n",
              "}\n",
              "\n",
              ".xr-array-wrap > label {\n",
              "  grid-column: 1;\n",
              "  vertical-align: top;\n",
              "}\n",
              "\n",
              ".xr-preview {\n",
              "  color: var(--xr-font-color3);\n",
              "}\n",
              "\n",
              ".xr-array-preview,\n",
              ".xr-array-data {\n",
              "  padding: 0 5px !important;\n",
              "  grid-column: 2;\n",
              "}\n",
              "\n",
              ".xr-array-data,\n",
              ".xr-array-in:checked ~ .xr-array-preview {\n",
              "  display: none;\n",
              "}\n",
              "\n",
              ".xr-array-in:checked ~ .xr-array-data,\n",
              ".xr-array-preview {\n",
              "  display: inline-block;\n",
              "}\n",
              "\n",
              ".xr-dim-list {\n",
              "  display: inline-block !important;\n",
              "  list-style: none;\n",
              "  padding: 0 !important;\n",
              "  margin: 0;\n",
              "}\n",
              "\n",
              ".xr-dim-list li {\n",
              "  display: inline-block;\n",
              "  padding: 0;\n",
              "  margin: 0;\n",
              "}\n",
              "\n",
              ".xr-dim-list:before {\n",
              "  content: \"(\";\n",
              "}\n",
              "\n",
              ".xr-dim-list:after {\n",
              "  content: \")\";\n",
              "}\n",
              "\n",
              ".xr-dim-list li:not(:last-child):after {\n",
              "  content: \",\";\n",
              "  padding-right: 5px;\n",
              "}\n",
              "\n",
              ".xr-has-index {\n",
              "  font-weight: bold;\n",
              "}\n",
              "\n",
              ".xr-var-list,\n",
              ".xr-var-item {\n",
              "  display: contents;\n",
              "}\n",
              "\n",
              ".xr-var-item > div,\n",
              ".xr-var-item label,\n",
              ".xr-var-item > .xr-var-name span {\n",
              "  background-color: var(--xr-background-color-row-even);\n",
              "  border-color: var(--xr-background-color-row-odd);\n",
              "  margin-bottom: 0;\n",
              "  padding-top: 2px;\n",
              "}\n",
              "\n",
              ".xr-var-item > .xr-var-name:hover span {\n",
              "  padding-right: 5px;\n",
              "}\n",
              "\n",
              ".xr-var-list > li:nth-child(odd) > div,\n",
              ".xr-var-list > li:nth-child(odd) > label,\n",
              ".xr-var-list > li:nth-child(odd) > .xr-var-name span {\n",
              "  background-color: var(--xr-background-color-row-odd);\n",
              "  border-color: var(--xr-background-color-row-even);\n",
              "}\n",
              "\n",
              ".xr-var-name {\n",
              "  grid-column: 1;\n",
              "}\n",
              "\n",
              ".xr-var-dims {\n",
              "  grid-column: 2;\n",
              "}\n",
              "\n",
              ".xr-var-dtype {\n",
              "  grid-column: 3;\n",
              "  text-align: right;\n",
              "  color: var(--xr-font-color2);\n",
              "}\n",
              "\n",
              ".xr-var-preview {\n",
              "  grid-column: 4;\n",
              "}\n",
              "\n",
              ".xr-index-preview {\n",
              "  grid-column: 2 / 5;\n",
              "  color: var(--xr-font-color2);\n",
              "}\n",
              "\n",
              ".xr-var-name,\n",
              ".xr-var-dims,\n",
              ".xr-var-dtype,\n",
              ".xr-preview,\n",
              ".xr-attrs dt {\n",
              "  white-space: nowrap;\n",
              "  overflow: hidden;\n",
              "  text-overflow: ellipsis;\n",
              "  padding-right: 10px;\n",
              "}\n",
              "\n",
              ".xr-var-name:hover,\n",
              ".xr-var-dims:hover,\n",
              ".xr-var-dtype:hover,\n",
              ".xr-attrs dt:hover {\n",
              "  overflow: visible;\n",
              "  width: auto;\n",
              "  z-index: 1;\n",
              "}\n",
              "\n",
              ".xr-var-attrs,\n",
              ".xr-var-data,\n",
              ".xr-index-data {\n",
              "  display: none;\n",
              "  border-top: 2px dotted var(--xr-background-color);\n",
              "  padding-bottom: 20px !important;\n",
              "  padding-top: 10px !important;\n",
              "}\n",
              "\n",
              ".xr-var-attrs-in + label,\n",
              ".xr-var-data-in + label,\n",
              ".xr-index-data-in + label {\n",
              "  padding: 0 1px;\n",
              "}\n",
              "\n",
              ".xr-var-attrs-in:checked ~ .xr-var-attrs,\n",
              ".xr-var-data-in:checked ~ .xr-var-data,\n",
              ".xr-index-data-in:checked ~ .xr-index-data {\n",
              "  display: block;\n",
              "}\n",
              "\n",
              ".xr-var-data > table {\n",
              "  float: right;\n",
              "}\n",
              "\n",
              ".xr-var-data > pre,\n",
              ".xr-index-data > pre,\n",
              ".xr-var-data > table > tbody > tr {\n",
              "  background-color: transparent !important;\n",
              "}\n",
              "\n",
              ".xr-var-name span,\n",
              ".xr-var-data,\n",
              ".xr-index-name div,\n",
              ".xr-index-data,\n",
              ".xr-attrs {\n",
              "  padding-left: 25px !important;\n",
              "}\n",
              "\n",
              ".xr-attrs,\n",
              ".xr-var-attrs,\n",
              ".xr-var-data,\n",
              ".xr-index-data {\n",
              "  grid-column: 1 / -1;\n",
              "}\n",
              "\n",
              "dl.xr-attrs {\n",
              "  padding: 0;\n",
              "  margin: 0;\n",
              "  display: grid;\n",
              "  grid-template-columns: 125px auto;\n",
              "}\n",
              "\n",
              ".xr-attrs dt,\n",
              ".xr-attrs dd {\n",
              "  padding: 0;\n",
              "  margin: 0;\n",
              "  float: left;\n",
              "  padding-right: 10px;\n",
              "  width: auto;\n",
              "}\n",
              "\n",
              ".xr-attrs dt {\n",
              "  font-weight: normal;\n",
              "  grid-column: 1;\n",
              "}\n",
              "\n",
              ".xr-attrs dt:hover span {\n",
              "  display: inline-block;\n",
              "  background: var(--xr-background-color);\n",
              "  padding-right: 10px;\n",
              "}\n",
              "\n",
              ".xr-attrs dd {\n",
              "  grid-column: 2;\n",
              "  white-space: pre-wrap;\n",
              "  word-break: break-all;\n",
              "}\n",
              "\n",
              ".xr-icon-database,\n",
              ".xr-icon-file-text2,\n",
              ".xr-no-icon {\n",
              "  display: inline-block;\n",
              "  vertical-align: middle;\n",
              "  width: 1em;\n",
              "  height: 1.5em !important;\n",
              "  stroke-width: 0;\n",
              "  stroke: currentColor;\n",
              "  fill: currentColor;\n",
              "}\n",
              "\n",
              ".xr-var-attrs-in:checked + label > .xr-icon-file-text2,\n",
              ".xr-var-data-in:checked + label > .xr-icon-database,\n",
              ".xr-index-data-in:checked + label > .xr-icon-database {\n",
              "  color: var(--xr-font-color0);\n",
              "  filter: drop-shadow(1px 1px 5px var(--xr-font-color2));\n",
              "  stroke-width: 0.8px;\n",
              "}\n",
              "</style><pre class='xr-text-repr-fallback'>&lt;xarray.Dataset&gt; Size: 340MB\n",
              "Dimensions:               (time: 732, prediction_timedelta: 4, longitude: 240,\n",
              "                           latitude: 121)\n",
              "Coordinates:\n",
              "  * latitude              (latitude) float64 968B -90.0 -88.5 ... 88.5 90.0\n",
              "  * prediction_timedelta  (prediction_timedelta) timedelta64[ns] 32B 0 days 1...\n",
              "  * time                  (time) datetime64[ns] 6kB 2020-01-01 ... 2020-12-31...\n",
              "  * longitude             (longitude) float64 2kB 0.0 1.5 3.0 ... -4.5 -3.0 -1.5\n",
              "Data variables:\n",
              "    T2M                   (time, prediction_timedelta, longitude, latitude) float32 340MB ...</pre><div class='xr-wrap' style='display:none'><div class='xr-header'><div class='xr-obj-type'>xarray.Dataset</div></div><ul class='xr-sections'><li class='xr-section-item'><input id='section-bab724c4-8271-4be5-bdac-d19dc6aadd55' class='xr-section-summary-in' type='checkbox' disabled ><label for='section-bab724c4-8271-4be5-bdac-d19dc6aadd55' class='xr-section-summary'  title='Expand/collapse section'>Dimensions:</label><div class='xr-section-inline-details'><ul class='xr-dim-list'><li><span class='xr-has-index'>time</span>: 732</li><li><span class='xr-has-index'>prediction_timedelta</span>: 4</li><li><span class='xr-has-index'>longitude</span>: 240</li><li><span class='xr-has-index'>latitude</span>: 121</li></ul></div><div class='xr-section-details'></div></li><li class='xr-section-item'><input id='section-432e0120-6fb8-4c5e-808c-14faebfe311e' class='xr-section-summary-in' type='checkbox'  checked><label for='section-432e0120-6fb8-4c5e-808c-14faebfe311e' class='xr-section-summary' >Coordinates: <span>(4)</span></label><div class='xr-section-inline-details'></div><div class='xr-section-details'><ul class='xr-var-list'><li class='xr-var-item'><div class='xr-var-name'><span class='xr-has-index'>latitude</span></div><div class='xr-var-dims'>(latitude)</div><div class='xr-var-dtype'>float64</div><div class='xr-var-preview xr-preview'>-90.0 -88.5 -87.0 ... 88.5 90.0</div><input id='attrs-ae8344fe-eaef-4680-95c1-b6411e2d0c7c' class='xr-var-attrs-in' type='checkbox' disabled><label for='attrs-ae8344fe-eaef-4680-95c1-b6411e2d0c7c' title='Show/Hide attributes'><svg class='icon xr-icon-file-text2'><use xlink:href='#icon-file-text2'></use></svg></label><input id='data-4dd7b52a-4793-4e50-9ca8-377c5fe3061e' class='xr-var-data-in' type='checkbox'><label for='data-4dd7b52a-4793-4e50-9ca8-377c5fe3061e' title='Show/Hide data repr'><svg class='icon xr-icon-database'><use xlink:href='#icon-database'></use></svg></label><div class='xr-var-attrs'><dl class='xr-attrs'></dl></div><div class='xr-var-data'><pre>array([-90. , -88.5, -87. , -85.5, -84. , -82.5, -81. , -79.5, -78. , -76.5,\n",
              "       -75. , -73.5, -72. , -70.5, -69. , -67.5, -66. , -64.5, -63. , -61.5,\n",
              "       -60. , -58.5, -57. , -55.5, -54. , -52.5, -51. , -49.5, -48. , -46.5,\n",
              "       -45. , -43.5, -42. , -40.5, -39. , -37.5, -36. , -34.5, -33. , -31.5,\n",
              "       -30. , -28.5, -27. , -25.5, -24. , -22.5, -21. , -19.5, -18. , -16.5,\n",
              "       -15. , -13.5, -12. , -10.5,  -9. ,  -7.5,  -6. ,  -4.5,  -3. ,  -1.5,\n",
              "         0. ,   1.5,   3. ,   4.5,   6. ,   7.5,   9. ,  10.5,  12. ,  13.5,\n",
              "        15. ,  16.5,  18. ,  19.5,  21. ,  22.5,  24. ,  25.5,  27. ,  28.5,\n",
              "        30. ,  31.5,  33. ,  34.5,  36. ,  37.5,  39. ,  40.5,  42. ,  43.5,\n",
              "        45. ,  46.5,  48. ,  49.5,  51. ,  52.5,  54. ,  55.5,  57. ,  58.5,\n",
              "        60. ,  61.5,  63. ,  64.5,  66. ,  67.5,  69. ,  70.5,  72. ,  73.5,\n",
              "        75. ,  76.5,  78. ,  79.5,  81. ,  82.5,  84. ,  85.5,  87. ,  88.5,\n",
              "        90. ])</pre></div></li><li class='xr-var-item'><div class='xr-var-name'><span class='xr-has-index'>prediction_timedelta</span></div><div class='xr-var-dims'>(prediction_timedelta)</div><div class='xr-var-dtype'>timedelta64[ns]</div><div class='xr-var-preview xr-preview'>0 days 12:00:00 ... 2 days 00:00:00</div><input id='attrs-affb22ef-4a36-4af3-9b1d-0aff88f31532' class='xr-var-attrs-in' type='checkbox' disabled><label for='attrs-affb22ef-4a36-4af3-9b1d-0aff88f31532' title='Show/Hide attributes'><svg class='icon xr-icon-file-text2'><use xlink:href='#icon-file-text2'></use></svg></label><input id='data-553b751f-f925-4fb6-b3e4-24c11a5f2dda' class='xr-var-data-in' type='checkbox'><label for='data-553b751f-f925-4fb6-b3e4-24c11a5f2dda' title='Show/Hide data repr'><svg class='icon xr-icon-database'><use xlink:href='#icon-database'></use></svg></label><div class='xr-var-attrs'><dl class='xr-attrs'></dl></div><div class='xr-var-data'><pre>array([ 43200000000000,  86400000000000, 129600000000000, 172800000000000],\n",
              "      dtype=&#x27;timedelta64[ns]&#x27;)</pre></div></li><li class='xr-var-item'><div class='xr-var-name'><span class='xr-has-index'>time</span></div><div class='xr-var-dims'>(time)</div><div class='xr-var-dtype'>datetime64[ns]</div><div class='xr-var-preview xr-preview'>2020-01-01 ... 2020-12-31T12:00:00</div><input id='attrs-e4fa37f1-3342-4dfa-ad19-7a7b242b63ee' class='xr-var-attrs-in' type='checkbox' disabled><label for='attrs-e4fa37f1-3342-4dfa-ad19-7a7b242b63ee' title='Show/Hide attributes'><svg class='icon xr-icon-file-text2'><use xlink:href='#icon-file-text2'></use></svg></label><input id='data-e7004fcc-81e4-4a8d-b32f-744dd41d06ff' class='xr-var-data-in' type='checkbox'><label for='data-e7004fcc-81e4-4a8d-b32f-744dd41d06ff' title='Show/Hide data repr'><svg class='icon xr-icon-database'><use xlink:href='#icon-database'></use></svg></label><div class='xr-var-attrs'><dl class='xr-attrs'></dl></div><div class='xr-var-data'><pre>array([&#x27;2020-01-01T00:00:00.000000000&#x27;, &#x27;2020-01-01T12:00:00.000000000&#x27;,\n",
              "       &#x27;2020-01-02T00:00:00.000000000&#x27;, ..., &#x27;2020-12-30T12:00:00.000000000&#x27;,\n",
              "       &#x27;2020-12-31T00:00:00.000000000&#x27;, &#x27;2020-12-31T12:00:00.000000000&#x27;],\n",
              "      shape=(732,), dtype=&#x27;datetime64[ns]&#x27;)</pre></div></li><li class='xr-var-item'><div class='xr-var-name'><span class='xr-has-index'>longitude</span></div><div class='xr-var-dims'>(longitude)</div><div class='xr-var-dtype'>float64</div><div class='xr-var-preview xr-preview'>0.0 1.5 3.0 4.5 ... -4.5 -3.0 -1.5</div><input id='attrs-793198be-7628-41f1-ac0d-770dc8e4858e' class='xr-var-attrs-in' type='checkbox' disabled><label for='attrs-793198be-7628-41f1-ac0d-770dc8e4858e' title='Show/Hide attributes'><svg class='icon xr-icon-file-text2'><use xlink:href='#icon-file-text2'></use></svg></label><input id='data-4ee1f960-c7fc-4aa3-b9af-0f307a554f5d' class='xr-var-data-in' type='checkbox'><label for='data-4ee1f960-c7fc-4aa3-b9af-0f307a554f5d' title='Show/Hide data repr'><svg class='icon xr-icon-database'><use xlink:href='#icon-database'></use></svg></label><div class='xr-var-attrs'><dl class='xr-attrs'></dl></div><div class='xr-var-data'><pre>array([ 0. ,  1.5,  3. , ..., -4.5, -3. , -1.5], shape=(240,))</pre></div></li></ul></div></li><li class='xr-section-item'><input id='section-fb6f57cc-4367-4278-90dc-034aba59d409' class='xr-section-summary-in' type='checkbox'  checked><label for='section-fb6f57cc-4367-4278-90dc-034aba59d409' class='xr-section-summary' >Data variables: <span>(1)</span></label><div class='xr-section-inline-details'></div><div class='xr-section-details'><ul class='xr-var-list'><li class='xr-var-item'><div class='xr-var-name'><span>T2M</span></div><div class='xr-var-dims'>(time, prediction_timedelta, longitude, latitude)</div><div class='xr-var-dtype'>float32</div><div class='xr-var-preview xr-preview'>...</div><input id='attrs-2a172592-8ae8-47c6-ab5a-ea07ba653924' class='xr-var-attrs-in' type='checkbox' disabled><label for='attrs-2a172592-8ae8-47c6-ab5a-ea07ba653924' title='Show/Hide attributes'><svg class='icon xr-icon-file-text2'><use xlink:href='#icon-file-text2'></use></svg></label><input id='data-9599511d-a276-4e7e-93ef-ed52e381deb0' class='xr-var-data-in' type='checkbox'><label for='data-9599511d-a276-4e7e-93ef-ed52e381deb0' title='Show/Hide data repr'><svg class='icon xr-icon-database'><use xlink:href='#icon-database'></use></svg></label><div class='xr-var-attrs'><dl class='xr-attrs'></dl></div><div class='xr-var-data'><pre>[85029120 values with dtype=float32]</pre></div></li></ul></div></li><li class='xr-section-item'><input id='section-16497a4c-3530-4b38-9bc8-7974a1a24e0e' class='xr-section-summary-in' type='checkbox'  ><label for='section-16497a4c-3530-4b38-9bc8-7974a1a24e0e' class='xr-section-summary' >Indexes: <span>(4)</span></label><div class='xr-section-inline-details'></div><div class='xr-section-details'><ul class='xr-var-list'><li class='xr-var-item'><div class='xr-index-name'><div>latitude</div></div><div class='xr-index-preview'>PandasIndex</div><input type='checkbox' disabled/><label></label><input id='index-426676e0-08ab-423c-9619-42daa65ccd6f' class='xr-index-data-in' type='checkbox'/><label for='index-426676e0-08ab-423c-9619-42daa65ccd6f' title='Show/Hide index repr'><svg class='icon xr-icon-database'><use xlink:href='#icon-database'></use></svg></label><div class='xr-index-data'><pre>PandasIndex(Index([-90.0, -88.5, -87.0, -85.5, -84.0, -82.5, -81.0, -79.5, -78.0, -76.5,\n",
              "       ...\n",
              "        76.5,  78.0,  79.5,  81.0,  82.5,  84.0,  85.5,  87.0,  88.5,  90.0],\n",
              "      dtype=&#x27;float64&#x27;, name=&#x27;latitude&#x27;, length=121))</pre></div></li><li class='xr-var-item'><div class='xr-index-name'><div>prediction_timedelta</div></div><div class='xr-index-preview'>PandasIndex</div><input type='checkbox' disabled/><label></label><input id='index-97c361b4-126b-44b9-a425-6fdaa93842f7' class='xr-index-data-in' type='checkbox'/><label for='index-97c361b4-126b-44b9-a425-6fdaa93842f7' title='Show/Hide index repr'><svg class='icon xr-icon-database'><use xlink:href='#icon-database'></use></svg></label><div class='xr-index-data'><pre>PandasIndex(TimedeltaIndex([&#x27;0 days 12:00:00&#x27;, &#x27;1 days 00:00:00&#x27;, &#x27;1 days 12:00:00&#x27;,\n",
              "                &#x27;2 days 00:00:00&#x27;],\n",
              "               dtype=&#x27;timedelta64[ns]&#x27;, name=&#x27;prediction_timedelta&#x27;, freq=None))</pre></div></li><li class='xr-var-item'><div class='xr-index-name'><div>time</div></div><div class='xr-index-preview'>PandasIndex</div><input type='checkbox' disabled/><label></label><input id='index-c5af75d4-87ad-4c94-aa8b-98a2352f40eb' class='xr-index-data-in' type='checkbox'/><label for='index-c5af75d4-87ad-4c94-aa8b-98a2352f40eb' title='Show/Hide index repr'><svg class='icon xr-icon-database'><use xlink:href='#icon-database'></use></svg></label><div class='xr-index-data'><pre>PandasIndex(DatetimeIndex([&#x27;2020-01-01 00:00:00&#x27;, &#x27;2020-01-01 12:00:00&#x27;,\n",
              "               &#x27;2020-01-02 00:00:00&#x27;, &#x27;2020-01-02 12:00:00&#x27;,\n",
              "               &#x27;2020-01-03 00:00:00&#x27;, &#x27;2020-01-03 12:00:00&#x27;,\n",
              "               &#x27;2020-01-04 00:00:00&#x27;, &#x27;2020-01-04 12:00:00&#x27;,\n",
              "               &#x27;2020-01-05 00:00:00&#x27;, &#x27;2020-01-05 12:00:00&#x27;,\n",
              "               ...\n",
              "               &#x27;2020-12-27 00:00:00&#x27;, &#x27;2020-12-27 12:00:00&#x27;,\n",
              "               &#x27;2020-12-28 00:00:00&#x27;, &#x27;2020-12-28 12:00:00&#x27;,\n",
              "               &#x27;2020-12-29 00:00:00&#x27;, &#x27;2020-12-29 12:00:00&#x27;,\n",
              "               &#x27;2020-12-30 00:00:00&#x27;, &#x27;2020-12-30 12:00:00&#x27;,\n",
              "               &#x27;2020-12-31 00:00:00&#x27;, &#x27;2020-12-31 12:00:00&#x27;],\n",
              "              dtype=&#x27;datetime64[ns]&#x27;, name=&#x27;time&#x27;, length=732, freq=None))</pre></div></li><li class='xr-var-item'><div class='xr-index-name'><div>longitude</div></div><div class='xr-index-preview'>PandasIndex</div><input type='checkbox' disabled/><label></label><input id='index-2da7f1fa-70d8-45ff-a703-4c2fa3dc53bb' class='xr-index-data-in' type='checkbox'/><label for='index-2da7f1fa-70d8-45ff-a703-4c2fa3dc53bb' title='Show/Hide index repr'><svg class='icon xr-icon-database'><use xlink:href='#icon-database'></use></svg></label><div class='xr-index-data'><pre>PandasIndex(Index([  0.0,   1.5,   3.0,   4.5,   6.0,   7.5,   9.0,  10.5,  12.0,  13.5,\n",
              "       ...\n",
              "       -15.0, -13.5, -12.0, -10.5,  -9.0,  -7.5,  -6.0,  -4.5,  -3.0,  -1.5],\n",
              "      dtype=&#x27;float64&#x27;, name=&#x27;longitude&#x27;, length=240))</pre></div></li></ul></div></li><li class='xr-section-item'><input id='section-669d7ffc-5ce4-4b61-bdc4-a0f253e25bf0' class='xr-section-summary-in' type='checkbox' disabled ><label for='section-669d7ffc-5ce4-4b61-bdc4-a0f253e25bf0' class='xr-section-summary'  title='Expand/collapse section'>Attributes: <span>(0)</span></label><div class='xr-section-inline-details'></div><div class='xr-section-details'><dl class='xr-attrs'></dl></div></li></ul></div></div>"
            ],
            "text/plain": [
              "<xarray.Dataset> Size: 340MB\n",
              "Dimensions:               (time: 732, prediction_timedelta: 4, longitude: 240,\n",
              "                           latitude: 121)\n",
              "Coordinates:\n",
              "  * latitude              (latitude) float64 968B -90.0 -88.5 ... 88.5 90.0\n",
              "  * prediction_timedelta  (prediction_timedelta) timedelta64[ns] 32B 0 days 1...\n",
              "  * time                  (time) datetime64[ns] 6kB 2020-01-01 ... 2020-12-31...\n",
              "  * longitude             (longitude) float64 2kB 0.0 1.5 3.0 ... -4.5 -3.0 -1.5\n",
              "Data variables:\n",
              "    T2M                   (time, prediction_timedelta, longitude, latitude) float32 340MB ..."
            ]
          },
          "execution_count": 5,
          "metadata": {},
          "output_type": "execute_result"
        }
      ],
      "source": [
        "preds"
      ]
    },
    {
      "cell_type": "markdown",
      "metadata": {
        "id": "qa9Iuu2GU52Z"
      },
      "source": [
        "<a name=\"investigate\"></a>\n",
        "# Investigate"
      ]
    },
    {
      "cell_type": "markdown",
      "metadata": {
        "id": "yWXsiZ5freTG"
      },
      "source": [
        "## Per-gridpoint loss\n",
        "\n",
        "In order to do any sort of fairness evaluation, we first must get the loss at each individual gridpoint as defined by the unique $(i,j)$ pair. We've already eliminated vertical level $v$, and as stated want to calculate a different metric for each lead time $\\tau$ too. We can use SAFE to calculate the resulting per-gridpoint loss we want\n",
        "\n",
        "$$\\textup{MSE}_{i,j}=\\frac{1}{|D|}\\sum\\limits_{d}a_j(\\hat{y}_{i,j}^{d}-y_{i,j}^{d})^2$$ \n",
        "where we are not reducing over any $v$ or $\\tau$. \n",
        "\n",
        "With the SAFE package we can do this in two easy steps. First, we will further get the per-gridpoint loss at every time $d\\in D$ as well. This is $a_j(\\hat{y}_{i,j}-y_{i,j})^2~\\forall d\\in D$, which really more resembles $L2$ than $\\textup{MSE}$."
      ]
    },
    {
      "cell_type": "code",
      "execution_count": 6,
      "metadata": {
        "id": "6CeKQHfyrU7k"
      },
      "outputs": [],
      "source": [
        "loss_gdf = safe.metrics.losses.climate_weighted_l2(\n",
        "    data=preds, \n",
        "    ground_truth=era5, \n",
        "    lon_dim='longitude', \n",
        "    lat_dim='latitude',\n",
        "    lead_time_dim='prediction_timedelta'\n",
        ")"
      ]
    },
    {
      "cell_type": "markdown",
      "metadata": {},
      "source": [
        "We should have 116160 entries for our variable at 240x121 gridpoints and 4 different lead times"
      ]
    },
    {
      "cell_type": "code",
      "execution_count": 7,
      "metadata": {},
      "outputs": [],
      "source": [
        "assert 116160 == 240*121*4\n",
        "assert 116160 == len(loss_gdf)"
      ]
    },
    {
      "cell_type": "markdown",
      "metadata": {},
      "source": [
        "We can quickly inspect `loss_gdf`"
      ]
    },
    {
      "cell_type": "code",
      "execution_count": 8,
      "metadata": {},
      "outputs": [
        {
          "data": {
            "text/html": [
              "<div>\n",
              "<style scoped>\n",
              "    .dataframe tbody tr th:only-of-type {\n",
              "        vertical-align: middle;\n",
              "    }\n",
              "\n",
              "    .dataframe tbody tr th {\n",
              "        vertical-align: top;\n",
              "    }\n",
              "\n",
              "    .dataframe thead th {\n",
              "        text-align: right;\n",
              "    }\n",
              "</style>\n",
              "<table border=\"1\" class=\"dataframe\">\n",
              "  <thead>\n",
              "    <tr style=\"text-align: right;\">\n",
              "      <th></th>\n",
              "      <th>longitude</th>\n",
              "      <th>latitude</th>\n",
              "      <th>weighted_l2</th>\n",
              "      <th>geometry</th>\n",
              "      <th>variable</th>\n",
              "      <th>lead_time</th>\n",
              "    </tr>\n",
              "  </thead>\n",
              "  <tbody>\n",
              "    <tr>\n",
              "      <th>0</th>\n",
              "      <td>0.0</td>\n",
              "      <td>-90.0</td>\n",
              "      <td>[0.0005280023902331615, 0.034471699966342126, ...</td>\n",
              "      <td>POLYGON ((0.75 -90, 0.75 -89.25, -0.75 -89.25,...</td>\n",
              "      <td>T2M</td>\n",
              "      <td>12</td>\n",
              "    </tr>\n",
              "    <tr>\n",
              "      <th>1</th>\n",
              "      <td>0.0</td>\n",
              "      <td>-88.5</td>\n",
              "      <td>[0.009565884919968941, 0.04475717726366594, 0....</td>\n",
              "      <td>POLYGON ((0.75 -89.25, 0.75 -87.75, -0.75 -87....</td>\n",
              "      <td>T2M</td>\n",
              "      <td>12</td>\n",
              "    </tr>\n",
              "    <tr>\n",
              "      <th>2</th>\n",
              "      <td>0.0</td>\n",
              "      <td>-87.0</td>\n",
              "      <td>[0.0181766406392264, 0.07144891140664797, 0.00...</td>\n",
              "      <td>POLYGON ((0.75 -87.75, 0.75 -86.25, -0.75 -86....</td>\n",
              "      <td>T2M</td>\n",
              "      <td>12</td>\n",
              "    </tr>\n",
              "    <tr>\n",
              "      <th>3</th>\n",
              "      <td>0.0</td>\n",
              "      <td>-85.5</td>\n",
              "      <td>[0.01226580855314763, 0.04359714707207892, 0.0...</td>\n",
              "      <td>POLYGON ((0.75 -86.25, 0.75 -84.75, -0.75 -84....</td>\n",
              "      <td>T2M</td>\n",
              "      <td>12</td>\n",
              "    </tr>\n",
              "    <tr>\n",
              "      <th>4</th>\n",
              "      <td>0.0</td>\n",
              "      <td>-84.0</td>\n",
              "      <td>[0.027680050051256393, 0.04959510845460031, 0....</td>\n",
              "      <td>POLYGON ((0.75 -84.75, 0.75 -83.25, -0.75 -83....</td>\n",
              "      <td>T2M</td>\n",
              "      <td>12</td>\n",
              "    </tr>\n",
              "    <tr>\n",
              "      <th>...</th>\n",
              "      <td>...</td>\n",
              "      <td>...</td>\n",
              "      <td>...</td>\n",
              "      <td>...</td>\n",
              "      <td>...</td>\n",
              "      <td>...</td>\n",
              "    </tr>\n",
              "    <tr>\n",
              "      <th>116155</th>\n",
              "      <td>-1.5</td>\n",
              "      <td>84.0</td>\n",
              "      <td>[0.0008910524695590192, 0.010219005699457776, ...</td>\n",
              "      <td>POLYGON ((-0.75 83.25, -0.75 84.75, -2.25 84.7...</td>\n",
              "      <td>T2M</td>\n",
              "      <td>48</td>\n",
              "    </tr>\n",
              "    <tr>\n",
              "      <th>116156</th>\n",
              "      <td>-1.5</td>\n",
              "      <td>85.5</td>\n",
              "      <td>[0.2818628197884443, 0.15576449761849318, 0.00...</td>\n",
              "      <td>POLYGON ((-0.75 84.75, -0.75 86.25, -2.25 86.2...</td>\n",
              "      <td>T2M</td>\n",
              "      <td>48</td>\n",
              "    </tr>\n",
              "    <tr>\n",
              "      <th>116157</th>\n",
              "      <td>-1.5</td>\n",
              "      <td>87.0</td>\n",
              "      <td>[0.4700292219093021, 0.047008480208742, 0.0206...</td>\n",
              "      <td>POLYGON ((-0.75 86.25, -0.75 87.75, -2.25 87.7...</td>\n",
              "      <td>T2M</td>\n",
              "      <td>48</td>\n",
              "    </tr>\n",
              "    <tr>\n",
              "      <th>116158</th>\n",
              "      <td>-1.5</td>\n",
              "      <td>88.5</td>\n",
              "      <td>[0.031107043484190522, 0.018230850748467243, 0...</td>\n",
              "      <td>POLYGON ((-0.75 87.75, -0.75 89.25, -2.25 89.2...</td>\n",
              "      <td>T2M</td>\n",
              "      <td>48</td>\n",
              "    </tr>\n",
              "    <tr>\n",
              "      <th>116159</th>\n",
              "      <td>-1.5</td>\n",
              "      <td>90.0</td>\n",
              "      <td>[0.0025017486085205324, 0.01900568876171852, 0...</td>\n",
              "      <td>POLYGON ((-0.75 89.25, -0.75 90, -2.25 90, -2....</td>\n",
              "      <td>T2M</td>\n",
              "      <td>48</td>\n",
              "    </tr>\n",
              "  </tbody>\n",
              "</table>\n",
              "<p>116160 rows × 6 columns</p>\n",
              "</div>"
            ],
            "text/plain": [
              "        longitude  latitude  \\\n",
              "0             0.0     -90.0   \n",
              "1             0.0     -88.5   \n",
              "2             0.0     -87.0   \n",
              "3             0.0     -85.5   \n",
              "4             0.0     -84.0   \n",
              "...           ...       ...   \n",
              "116155       -1.5      84.0   \n",
              "116156       -1.5      85.5   \n",
              "116157       -1.5      87.0   \n",
              "116158       -1.5      88.5   \n",
              "116159       -1.5      90.0   \n",
              "\n",
              "                                              weighted_l2  \\\n",
              "0       [0.0005280023902331615, 0.034471699966342126, ...   \n",
              "1       [0.009565884919968941, 0.04475717726366594, 0....   \n",
              "2       [0.0181766406392264, 0.07144891140664797, 0.00...   \n",
              "3       [0.01226580855314763, 0.04359714707207892, 0.0...   \n",
              "4       [0.027680050051256393, 0.04959510845460031, 0....   \n",
              "...                                                   ...   \n",
              "116155  [0.0008910524695590192, 0.010219005699457776, ...   \n",
              "116156  [0.2818628197884443, 0.15576449761849318, 0.00...   \n",
              "116157  [0.4700292219093021, 0.047008480208742, 0.0206...   \n",
              "116158  [0.031107043484190522, 0.018230850748467243, 0...   \n",
              "116159  [0.0025017486085205324, 0.01900568876171852, 0...   \n",
              "\n",
              "                                                 geometry variable  lead_time  \n",
              "0       POLYGON ((0.75 -90, 0.75 -89.25, -0.75 -89.25,...      T2M         12  \n",
              "1       POLYGON ((0.75 -89.25, 0.75 -87.75, -0.75 -87....      T2M         12  \n",
              "2       POLYGON ((0.75 -87.75, 0.75 -86.25, -0.75 -86....      T2M         12  \n",
              "3       POLYGON ((0.75 -86.25, 0.75 -84.75, -0.75 -84....      T2M         12  \n",
              "4       POLYGON ((0.75 -84.75, 0.75 -83.25, -0.75 -83....      T2M         12  \n",
              "...                                                   ...      ...        ...  \n",
              "116155  POLYGON ((-0.75 83.25, -0.75 84.75, -2.25 84.7...      T2M         48  \n",
              "116156  POLYGON ((-0.75 84.75, -0.75 86.25, -2.25 86.2...      T2M         48  \n",
              "116157  POLYGON ((-0.75 86.25, -0.75 87.75, -2.25 87.7...      T2M         48  \n",
              "116158  POLYGON ((-0.75 87.75, -0.75 89.25, -2.25 89.2...      T2M         48  \n",
              "116159  POLYGON ((-0.75 89.25, -0.75 90, -2.25 90, -2....      T2M         48  \n",
              "\n",
              "[116160 rows x 6 columns]"
            ]
          },
          "execution_count": 8,
          "metadata": {},
          "output_type": "execute_result"
        }
      ],
      "source": [
        "loss_gdf"
      ]
    },
    {
      "cell_type": "markdown",
      "metadata": {},
      "source": [
        "We see that the `weighted_l2` column provides the values $a_j(\\hat{y}_{i,j}-y_{i,j})^2~\\forall d\\in D$ as a list. So we now have the loss at each individual gridpoint, at every 12 hour timestamp $d$ in the year 2020, across all lead times."
      ]
    },
    {
      "cell_type": "markdown",
      "metadata": {
        "id": "o8L28axZ4NVj"
      },
      "source": [
        "## Per-strata RMSE\n",
        "\n",
        "Now that we have the per-gridpoint losses, we can spatially reduce, but doing so in a stratified manner. From SAFE, we will get the metrics for the attributes (`attributes`) of territory, subregion, and income group."
      ]
    },
    {
      "cell_type": "code",
      "execution_count": 9,
      "metadata": {
        "id": "_6HotiSW4Pe8"
      },
      "outputs": [],
      "source": [
        "import safe_earth as safe\n",
        "metrics = safe.metrics.errors.stratified_rmse(\n",
        "    loss_gdf,\n",
        "    loss_metrics=['weighted_l2'],\n",
        "    attributes='all',\n",
        "    added_cols={'model': model}\n",
        ")"
      ]
    },
    {
      "cell_type": "markdown",
      "metadata": {},
      "source": [
        "We can investigate the stratified $\\textup{RMSE}_\\tau$ values of GraphCast by territory. SAFE spatially reduced $i$ and $j$ such that we have an $\\textup{RMSE}_\\tau$ metric for each territory."
      ]
    },
    {
      "cell_type": "code",
      "execution_count": 10,
      "metadata": {},
      "outputs": [
        {
          "data": {
            "text/html": [
              "<div>\n",
              "<style scoped>\n",
              "    .dataframe tbody tr th:only-of-type {\n",
              "        vertical-align: middle;\n",
              "    }\n",
              "\n",
              "    .dataframe tbody tr th {\n",
              "        vertical-align: top;\n",
              "    }\n",
              "\n",
              "    .dataframe thead th {\n",
              "        text-align: right;\n",
              "    }\n",
              "</style>\n",
              "<table border=\"1\" class=\"dataframe\">\n",
              "  <thead>\n",
              "    <tr style=\"text-align: right;\">\n",
              "      <th></th>\n",
              "      <th>variable</th>\n",
              "      <th>lead_time</th>\n",
              "      <th>model</th>\n",
              "      <th>rmse_weighted_l2</th>\n",
              "      <th>territory</th>\n",
              "    </tr>\n",
              "  </thead>\n",
              "  <tbody>\n",
              "    <tr>\n",
              "      <th>0</th>\n",
              "      <td>T2M</td>\n",
              "      <td>12.0</td>\n",
              "      <td>graphcast</td>\n",
              "      <td>0.398030</td>\n",
              "      <td>Antarctica</td>\n",
              "    </tr>\n",
              "    <tr>\n",
              "      <th>1</th>\n",
              "      <td>T2M</td>\n",
              "      <td>24.0</td>\n",
              "      <td>graphcast</td>\n",
              "      <td>0.482999</td>\n",
              "      <td>Antarctica</td>\n",
              "    </tr>\n",
              "    <tr>\n",
              "      <th>2</th>\n",
              "      <td>T2M</td>\n",
              "      <td>36.0</td>\n",
              "      <td>graphcast</td>\n",
              "      <td>0.576830</td>\n",
              "      <td>Antarctica</td>\n",
              "    </tr>\n",
              "    <tr>\n",
              "      <th>3</th>\n",
              "      <td>T2M</td>\n",
              "      <td>48.0</td>\n",
              "      <td>graphcast</td>\n",
              "      <td>0.674554</td>\n",
              "      <td>Antarctica</td>\n",
              "    </tr>\n",
              "    <tr>\n",
              "      <th>4</th>\n",
              "      <td>T2M</td>\n",
              "      <td>12.0</td>\n",
              "      <td>graphcast</td>\n",
              "      <td>0.724330</td>\n",
              "      <td>Ghana</td>\n",
              "    </tr>\n",
              "    <tr>\n",
              "      <th>...</th>\n",
              "      <td>...</td>\n",
              "      <td>...</td>\n",
              "      <td>...</td>\n",
              "      <td>...</td>\n",
              "      <td>...</td>\n",
              "    </tr>\n",
              "    <tr>\n",
              "      <th>919</th>\n",
              "      <td>T2M</td>\n",
              "      <td>48.0</td>\n",
              "      <td>graphcast</td>\n",
              "      <td>0.405269</td>\n",
              "      <td>Isle of Man</td>\n",
              "    </tr>\n",
              "    <tr>\n",
              "      <th>920</th>\n",
              "      <td>T2M</td>\n",
              "      <td>12.0</td>\n",
              "      <td>graphcast</td>\n",
              "      <td>0.248690</td>\n",
              "      <td>Guernsey</td>\n",
              "    </tr>\n",
              "    <tr>\n",
              "      <th>921</th>\n",
              "      <td>T2M</td>\n",
              "      <td>24.0</td>\n",
              "      <td>graphcast</td>\n",
              "      <td>0.317997</td>\n",
              "      <td>Guernsey</td>\n",
              "    </tr>\n",
              "    <tr>\n",
              "      <th>922</th>\n",
              "      <td>T2M</td>\n",
              "      <td>36.0</td>\n",
              "      <td>graphcast</td>\n",
              "      <td>0.381150</td>\n",
              "      <td>Guernsey</td>\n",
              "    </tr>\n",
              "    <tr>\n",
              "      <th>923</th>\n",
              "      <td>T2M</td>\n",
              "      <td>48.0</td>\n",
              "      <td>graphcast</td>\n",
              "      <td>0.438981</td>\n",
              "      <td>Guernsey</td>\n",
              "    </tr>\n",
              "  </tbody>\n",
              "</table>\n",
              "<p>924 rows × 5 columns</p>\n",
              "</div>"
            ],
            "text/plain": [
              "    variable  lead_time      model  rmse_weighted_l2    territory\n",
              "0        T2M       12.0  graphcast          0.398030   Antarctica\n",
              "1        T2M       24.0  graphcast          0.482999   Antarctica\n",
              "2        T2M       36.0  graphcast          0.576830   Antarctica\n",
              "3        T2M       48.0  graphcast          0.674554   Antarctica\n",
              "4        T2M       12.0  graphcast          0.724330        Ghana\n",
              "..       ...        ...        ...               ...          ...\n",
              "919      T2M       48.0  graphcast          0.405269  Isle of Man\n",
              "920      T2M       12.0  graphcast          0.248690     Guernsey\n",
              "921      T2M       24.0  graphcast          0.317997     Guernsey\n",
              "922      T2M       36.0  graphcast          0.381150     Guernsey\n",
              "923      T2M       48.0  graphcast          0.438981     Guernsey\n",
              "\n",
              "[924 rows x 5 columns]"
            ]
          },
          "execution_count": 10,
          "metadata": {},
          "output_type": "execute_result"
        }
      ],
      "source": [
        "metrics['territory']"
      ]
    },
    {
      "cell_type": "markdown",
      "metadata": {},
      "source": [
        "We can look at the other attributes too"
      ]
    },
    {
      "cell_type": "code",
      "execution_count": 11,
      "metadata": {},
      "outputs": [
        {
          "data": {
            "text/html": [
              "<div>\n",
              "<style scoped>\n",
              "    .dataframe tbody tr th:only-of-type {\n",
              "        vertical-align: middle;\n",
              "    }\n",
              "\n",
              "    .dataframe tbody tr th {\n",
              "        vertical-align: top;\n",
              "    }\n",
              "\n",
              "    .dataframe thead th {\n",
              "        text-align: right;\n",
              "    }\n",
              "</style>\n",
              "<table border=\"1\" class=\"dataframe\">\n",
              "  <thead>\n",
              "    <tr style=\"text-align: right;\">\n",
              "      <th></th>\n",
              "      <th>variable</th>\n",
              "      <th>lead_time</th>\n",
              "      <th>model</th>\n",
              "      <th>rmse_weighted_l2</th>\n",
              "      <th>subregion</th>\n",
              "    </tr>\n",
              "  </thead>\n",
              "  <tbody>\n",
              "    <tr>\n",
              "      <th>0</th>\n",
              "      <td>T2M</td>\n",
              "      <td>12.0</td>\n",
              "      <td>graphcast</td>\n",
              "      <td>0.398030</td>\n",
              "      <td>Antarctica</td>\n",
              "    </tr>\n",
              "    <tr>\n",
              "      <th>1</th>\n",
              "      <td>T2M</td>\n",
              "      <td>24.0</td>\n",
              "      <td>graphcast</td>\n",
              "      <td>0.482999</td>\n",
              "      <td>Antarctica</td>\n",
              "    </tr>\n",
              "    <tr>\n",
              "      <th>2</th>\n",
              "      <td>T2M</td>\n",
              "      <td>36.0</td>\n",
              "      <td>graphcast</td>\n",
              "      <td>0.576830</td>\n",
              "      <td>Antarctica</td>\n",
              "    </tr>\n",
              "    <tr>\n",
              "      <th>3</th>\n",
              "      <td>T2M</td>\n",
              "      <td>48.0</td>\n",
              "      <td>graphcast</td>\n",
              "      <td>0.674554</td>\n",
              "      <td>Antarctica</td>\n",
              "    </tr>\n",
              "    <tr>\n",
              "      <th>4</th>\n",
              "      <td>T2M</td>\n",
              "      <td>12.0</td>\n",
              "      <td>graphcast</td>\n",
              "      <td>0.740554</td>\n",
              "      <td>Western Africa</td>\n",
              "    </tr>\n",
              "    <tr>\n",
              "      <th>...</th>\n",
              "      <td>...</td>\n",
              "      <td>...</td>\n",
              "      <td>...</td>\n",
              "      <td>...</td>\n",
              "      <td>...</td>\n",
              "    </tr>\n",
              "    <tr>\n",
              "      <th>87</th>\n",
              "      <td>T2M</td>\n",
              "      <td>48.0</td>\n",
              "      <td>graphcast</td>\n",
              "      <td>0.977685</td>\n",
              "      <td>South America</td>\n",
              "    </tr>\n",
              "    <tr>\n",
              "      <th>88</th>\n",
              "      <td>T2M</td>\n",
              "      <td>12.0</td>\n",
              "      <td>graphcast</td>\n",
              "      <td>0.261053</td>\n",
              "      <td>Caribbean</td>\n",
              "    </tr>\n",
              "    <tr>\n",
              "      <th>89</th>\n",
              "      <td>T2M</td>\n",
              "      <td>24.0</td>\n",
              "      <td>graphcast</td>\n",
              "      <td>0.336955</td>\n",
              "      <td>Caribbean</td>\n",
              "    </tr>\n",
              "    <tr>\n",
              "      <th>90</th>\n",
              "      <td>T2M</td>\n",
              "      <td>36.0</td>\n",
              "      <td>graphcast</td>\n",
              "      <td>0.379875</td>\n",
              "      <td>Caribbean</td>\n",
              "    </tr>\n",
              "    <tr>\n",
              "      <th>91</th>\n",
              "      <td>T2M</td>\n",
              "      <td>48.0</td>\n",
              "      <td>graphcast</td>\n",
              "      <td>0.410437</td>\n",
              "      <td>Caribbean</td>\n",
              "    </tr>\n",
              "  </tbody>\n",
              "</table>\n",
              "<p>92 rows × 5 columns</p>\n",
              "</div>"
            ],
            "text/plain": [
              "   variable  lead_time      model  rmse_weighted_l2       subregion\n",
              "0       T2M       12.0  graphcast          0.398030      Antarctica\n",
              "1       T2M       24.0  graphcast          0.482999      Antarctica\n",
              "2       T2M       36.0  graphcast          0.576830      Antarctica\n",
              "3       T2M       48.0  graphcast          0.674554      Antarctica\n",
              "4       T2M       12.0  graphcast          0.740554  Western Africa\n",
              "..      ...        ...        ...               ...             ...\n",
              "87      T2M       48.0  graphcast          0.977685   South America\n",
              "88      T2M       12.0  graphcast          0.261053       Caribbean\n",
              "89      T2M       24.0  graphcast          0.336955       Caribbean\n",
              "90      T2M       36.0  graphcast          0.379875       Caribbean\n",
              "91      T2M       48.0  graphcast          0.410437       Caribbean\n",
              "\n",
              "[92 rows x 5 columns]"
            ]
          },
          "execution_count": 11,
          "metadata": {},
          "output_type": "execute_result"
        }
      ],
      "source": [
        "metrics['subregion']"
      ]
    },
    {
      "cell_type": "code",
      "execution_count": 12,
      "metadata": {},
      "outputs": [
        {
          "data": {
            "text/html": [
              "<div>\n",
              "<style scoped>\n",
              "    .dataframe tbody tr th:only-of-type {\n",
              "        vertical-align: middle;\n",
              "    }\n",
              "\n",
              "    .dataframe tbody tr th {\n",
              "        vertical-align: top;\n",
              "    }\n",
              "\n",
              "    .dataframe thead th {\n",
              "        text-align: right;\n",
              "    }\n",
              "</style>\n",
              "<table border=\"1\" class=\"dataframe\">\n",
              "  <thead>\n",
              "    <tr style=\"text-align: right;\">\n",
              "      <th></th>\n",
              "      <th>income</th>\n",
              "      <th>variable</th>\n",
              "      <th>lead_time</th>\n",
              "      <th>model</th>\n",
              "      <th>rmse_weighted_l2</th>\n",
              "    </tr>\n",
              "  </thead>\n",
              "  <tbody>\n",
              "    <tr>\n",
              "      <th>0</th>\n",
              "      <td>Lower-middle-income Countries</td>\n",
              "      <td>T2M</td>\n",
              "      <td>12.0</td>\n",
              "      <td>graphcast</td>\n",
              "      <td>0.686856</td>\n",
              "    </tr>\n",
              "    <tr>\n",
              "      <th>1</th>\n",
              "      <td>Lower-middle-income Countries</td>\n",
              "      <td>T2M</td>\n",
              "      <td>24.0</td>\n",
              "      <td>graphcast</td>\n",
              "      <td>0.779353</td>\n",
              "    </tr>\n",
              "    <tr>\n",
              "      <th>2</th>\n",
              "      <td>Lower-middle-income Countries</td>\n",
              "      <td>T2M</td>\n",
              "      <td>36.0</td>\n",
              "      <td>graphcast</td>\n",
              "      <td>0.861883</td>\n",
              "    </tr>\n",
              "    <tr>\n",
              "      <th>3</th>\n",
              "      <td>Lower-middle-income Countries</td>\n",
              "      <td>T2M</td>\n",
              "      <td>48.0</td>\n",
              "      <td>graphcast</td>\n",
              "      <td>0.909841</td>\n",
              "    </tr>\n",
              "    <tr>\n",
              "      <th>4</th>\n",
              "      <td>Low-income Countries</td>\n",
              "      <td>T2M</td>\n",
              "      <td>12.0</td>\n",
              "      <td>graphcast</td>\n",
              "      <td>0.734870</td>\n",
              "    </tr>\n",
              "    <tr>\n",
              "      <th>5</th>\n",
              "      <td>Low-income Countries</td>\n",
              "      <td>T2M</td>\n",
              "      <td>24.0</td>\n",
              "      <td>graphcast</td>\n",
              "      <td>0.883258</td>\n",
              "    </tr>\n",
              "    <tr>\n",
              "      <th>6</th>\n",
              "      <td>Low-income Countries</td>\n",
              "      <td>T2M</td>\n",
              "      <td>36.0</td>\n",
              "      <td>graphcast</td>\n",
              "      <td>0.986981</td>\n",
              "    </tr>\n",
              "    <tr>\n",
              "      <th>7</th>\n",
              "      <td>Low-income Countries</td>\n",
              "      <td>T2M</td>\n",
              "      <td>48.0</td>\n",
              "      <td>graphcast</td>\n",
              "      <td>1.042963</td>\n",
              "    </tr>\n",
              "    <tr>\n",
              "      <th>8</th>\n",
              "      <td>Upper-middle-income Countries</td>\n",
              "      <td>T2M</td>\n",
              "      <td>12.0</td>\n",
              "      <td>graphcast</td>\n",
              "      <td>0.706642</td>\n",
              "    </tr>\n",
              "    <tr>\n",
              "      <th>9</th>\n",
              "      <td>Upper-middle-income Countries</td>\n",
              "      <td>T2M</td>\n",
              "      <td>24.0</td>\n",
              "      <td>graphcast</td>\n",
              "      <td>0.799247</td>\n",
              "    </tr>\n",
              "    <tr>\n",
              "      <th>10</th>\n",
              "      <td>Upper-middle-income Countries</td>\n",
              "      <td>T2M</td>\n",
              "      <td>36.0</td>\n",
              "      <td>graphcast</td>\n",
              "      <td>0.905037</td>\n",
              "    </tr>\n",
              "    <tr>\n",
              "      <th>11</th>\n",
              "      <td>Upper-middle-income Countries</td>\n",
              "      <td>T2M</td>\n",
              "      <td>48.0</td>\n",
              "      <td>graphcast</td>\n",
              "      <td>0.985375</td>\n",
              "    </tr>\n",
              "    <tr>\n",
              "      <th>12</th>\n",
              "      <td>High-income Countries</td>\n",
              "      <td>T2M</td>\n",
              "      <td>12.0</td>\n",
              "      <td>graphcast</td>\n",
              "      <td>0.626368</td>\n",
              "    </tr>\n",
              "    <tr>\n",
              "      <th>13</th>\n",
              "      <td>High-income Countries</td>\n",
              "      <td>T2M</td>\n",
              "      <td>24.0</td>\n",
              "      <td>graphcast</td>\n",
              "      <td>0.725243</td>\n",
              "    </tr>\n",
              "    <tr>\n",
              "      <th>14</th>\n",
              "      <td>High-income Countries</td>\n",
              "      <td>T2M</td>\n",
              "      <td>36.0</td>\n",
              "      <td>graphcast</td>\n",
              "      <td>0.823652</td>\n",
              "    </tr>\n",
              "    <tr>\n",
              "      <th>15</th>\n",
              "      <td>High-income Countries</td>\n",
              "      <td>T2M</td>\n",
              "      <td>48.0</td>\n",
              "      <td>graphcast</td>\n",
              "      <td>0.904810</td>\n",
              "    </tr>\n",
              "  </tbody>\n",
              "</table>\n",
              "</div>"
            ],
            "text/plain": [
              "                           income variable  lead_time      model  \\\n",
              "0   Lower-middle-income Countries      T2M       12.0  graphcast   \n",
              "1   Lower-middle-income Countries      T2M       24.0  graphcast   \n",
              "2   Lower-middle-income Countries      T2M       36.0  graphcast   \n",
              "3   Lower-middle-income Countries      T2M       48.0  graphcast   \n",
              "4            Low-income Countries      T2M       12.0  graphcast   \n",
              "5            Low-income Countries      T2M       24.0  graphcast   \n",
              "6            Low-income Countries      T2M       36.0  graphcast   \n",
              "7            Low-income Countries      T2M       48.0  graphcast   \n",
              "8   Upper-middle-income Countries      T2M       12.0  graphcast   \n",
              "9   Upper-middle-income Countries      T2M       24.0  graphcast   \n",
              "10  Upper-middle-income Countries      T2M       36.0  graphcast   \n",
              "11  Upper-middle-income Countries      T2M       48.0  graphcast   \n",
              "12          High-income Countries      T2M       12.0  graphcast   \n",
              "13          High-income Countries      T2M       24.0  graphcast   \n",
              "14          High-income Countries      T2M       36.0  graphcast   \n",
              "15          High-income Countries      T2M       48.0  graphcast   \n",
              "\n",
              "    rmse_weighted_l2  \n",
              "0           0.686856  \n",
              "1           0.779353  \n",
              "2           0.861883  \n",
              "3           0.909841  \n",
              "4           0.734870  \n",
              "5           0.883258  \n",
              "6           0.986981  \n",
              "7           1.042963  \n",
              "8           0.706642  \n",
              "9           0.799247  \n",
              "10          0.905037  \n",
              "11          0.985375  \n",
              "12          0.626368  \n",
              "13          0.725243  \n",
              "14          0.823652  \n",
              "15          0.904810  "
            ]
          },
          "execution_count": 12,
          "metadata": {},
          "output_type": "execute_result"
        }
      ],
      "source": [
        "metrics['income']"
      ]
    },
    {
      "cell_type": "markdown",
      "metadata": {},
      "source": [
        "## Measuring performance in individual countries\n",
        "\n",
        "Now that we have this data, let's look at some countries! We will consider predictions made 12 hours out ($\\tau=12$)."
      ]
    },
    {
      "cell_type": "code",
      "execution_count": 13,
      "metadata": {},
      "outputs": [
        {
          "name": "stdout",
          "output_type": "stream",
          "text": [
            "RMSE in USA: 0.7216426216894967\n",
            "RMSE in Namibia: 0.9013644394784815\n",
            "Percent difference: 0.24904545877324072\n"
          ]
        },
        {
          "name": "stderr",
          "output_type": "stream",
          "text": [
            "/tmp/ipykernel_758528/3786902390.py:1: UserWarning: Boolean Series key will be reindexed to match DataFrame index.\n",
            "  usa_perf = metrics['territory'][metrics['territory'].territory == 'United States'][metrics['territory'].lead_time == 12].rmse_weighted_l2.item()\n",
            "/tmp/ipykernel_758528/3786902390.py:2: UserWarning: Boolean Series key will be reindexed to match DataFrame index.\n",
            "  nam_perf = metrics['territory'][metrics['territory'].territory == 'Republic of Namibia'][metrics['territory'].lead_time == 12].rmse_weighted_l2.item()\n"
          ]
        }
      ],
      "source": [
        "usa_perf = metrics['territory'][metrics['territory'].territory == 'United States'][metrics['territory'].lead_time == 12].rmse_weighted_l2.item()\n",
        "nam_perf = metrics['territory'][metrics['territory'].territory == 'Republic of Namibia'][metrics['territory'].lead_time == 12].rmse_weighted_l2.item()\n",
        "print(f'RMSE in USA: {usa_perf}')\n",
        "print(f'RMSE in Namibia: {nam_perf}')\n",
        "print(f'Percent difference: {(nam_perf-usa_perf)/usa_perf}')"
      ]
    },
    {
      "cell_type": "markdown",
      "metadata": {},
      "source": [
        "As an example, we see that **GraphCast is 24.9% worse at predicting surface temperature 12 hours out in Namibia than in the US.**"
      ]
    },
    {
      "cell_type": "markdown",
      "metadata": {},
      "source": [
        "## Investigating Systemic Bias\n",
        "\n",
        "We will now look to see if there are any persistent biases in GraphCast performance when grouping territories by their income level. It is easy to visualize any such trends with SAFE."
      ]
    },
    {
      "cell_type": "code",
      "execution_count": 20,
      "metadata": {},
      "outputs": [
        {
          "data": {
            "application/vnd.plotly.v1+json": {
              "config": {
                "plotlyServerURL": "https://plot.ly"
              },
              "data": [
                {
                  "hovertemplate": "income=High-income Countries<br>variable=T2M<br>model=graphcast<br>lead time (hours)=%{x}<br>rmse_weighted_l2=%{y}<extra></extra>",
                  "legendgroup": "High-income Countries",
                  "line": {
                    "color": "#636efa",
                    "dash": "solid"
                  },
                  "marker": {
                    "symbol": "circle"
                  },
                  "mode": "lines+markers",
                  "name": "High-income Countries",
                  "orientation": "v",
                  "showlegend": true,
                  "type": "scatter",
                  "x": {
                    "bdata": "AAAAAAAAKEAAAAAAAAA4QAAAAAAAAEJAAAAAAAAASEA=",
                    "dtype": "f8"
                  },
                  "xaxis": "x",
                  "y": {
                    "bdata": "7AMh5zML5D/SI4msMDXnP/hm5mNcW+o/n2hTEzX07D8=",
                    "dtype": "f8"
                  },
                  "yaxis": "y"
                },
                {
                  "hovertemplate": "income=Upper-middle-income Countries<br>variable=T2M<br>model=graphcast<br>lead time (hours)=%{x}<br>rmse_weighted_l2=%{y}<extra></extra>",
                  "legendgroup": "Upper-middle-income Countries",
                  "line": {
                    "color": "#EF553B",
                    "dash": "solid"
                  },
                  "marker": {
                    "symbol": "diamond"
                  },
                  "mode": "lines+markers",
                  "name": "Upper-middle-income Countries",
                  "orientation": "v",
                  "showlegend": true,
                  "type": "scatter",
                  "x": {
                    "bdata": "AAAAAAAAKEAAAAAAAAA4QAAAAAAAAEJAAAAAAAAASEA=",
                    "dtype": "f8"
                  },
                  "xaxis": "x",
                  "y": {
                    "bdata": "oJKjjs+c5j+0orkZbpPpP0F1BHEP9uw/NikhozGI7z8=",
                    "dtype": "f8"
                  },
                  "yaxis": "y"
                },
                {
                  "hovertemplate": "income=Lower-middle-income Countries<br>variable=T2M<br>model=graphcast<br>lead time (hours)=%{x}<br>rmse_weighted_l2=%{y}<extra></extra>",
                  "legendgroup": "Lower-middle-income Countries",
                  "line": {
                    "color": "#00cc96",
                    "dash": "solid"
                  },
                  "marker": {
                    "symbol": "square"
                  },
                  "mode": "lines+markers",
                  "name": "Lower-middle-income Countries",
                  "orientation": "v",
                  "showlegend": true,
                  "type": "scatter",
                  "x": {
                    "bdata": "AAAAAAAAKEAAAAAAAAA4QAAAAAAAAEJAAAAAAAAASEA=",
                    "dtype": "f8"
                  },
                  "xaxis": "x",
                  "y": {
                    "bdata": "FI7Fbrn65T+no2MRdfDoPxH1bmaLlOs/defgd2od7T8=",
                    "dtype": "f8"
                  },
                  "yaxis": "y"
                },
                {
                  "hovertemplate": "income=Low-income Countries<br>variable=T2M<br>model=graphcast<br>lead time (hours)=%{x}<br>rmse_weighted_l2=%{y}<extra></extra>",
                  "legendgroup": "Low-income Countries",
                  "line": {
                    "color": "#ab63fa",
                    "dash": "solid"
                  },
                  "marker": {
                    "symbol": "x"
                  },
                  "mode": "lines+markers",
                  "name": "Low-income Countries",
                  "orientation": "v",
                  "showlegend": true,
                  "type": "scatter",
                  "x": {
                    "bdata": "AAAAAAAAKEAAAAAAAAA4QAAAAAAAAEJAAAAAAAAASEA=",
                    "dtype": "f8"
                  },
                  "xaxis": "x",
                  "y": {
                    "bdata": "AhoF5Q2E5z+o+CJgpUPsP2yrr6hYle8/XHw4Ifqv8D8=",
                    "dtype": "f8"
                  },
                  "yaxis": "y"
                },
                {
                  "hovertemplate": "income=Baseline (all gridpoints)<br>variable=T2M<br>model=graphcast<br>lead time (hours)=%{x}<br>rmse_weighted_l2=%{y}<extra></extra>",
                  "legendgroup": "Baseline (all gridpoints)",
                  "line": {
                    "color": "#FFA15A",
                    "dash": "solid"
                  },
                  "marker": {
                    "symbol": "cross"
                  },
                  "mode": "lines+markers",
                  "name": "Baseline (all gridpoints)",
                  "orientation": "v",
                  "showlegend": true,
                  "type": "scatter",
                  "x": {
                    "bdata": "AAAAAAAAKEAAAAAAAAA4QAAAAAAAAEJAAAAAAAAASEA=",
                    "dtype": "f8"
                  },
                  "xaxis": "x",
                  "y": {
                    "bdata": "w4Tzp9UX2z+WZl+C2WngPyeKnSsMF+M/+vgFt29c5T8=",
                    "dtype": "f8"
                  },
                  "yaxis": "y"
                }
              ],
              "layout": {
                "annotations": [
                  {
                    "font": {},
                    "showarrow": false,
                    "text": "model=graphcast",
                    "x": 0.49,
                    "xanchor": "center",
                    "xref": "paper",
                    "y": 1,
                    "yanchor": "bottom",
                    "yref": "paper"
                  },
                  {
                    "font": {},
                    "showarrow": false,
                    "text": "variable=T2M",
                    "textangle": 90,
                    "x": 0.98,
                    "xanchor": "left",
                    "xref": "paper",
                    "y": 0.5,
                    "yanchor": "middle",
                    "yref": "paper"
                  }
                ],
                "legend": {
                  "title": {
                    "text": "income"
                  },
                  "tracegroupgap": 0
                },
                "margin": {
                  "t": 60
                },
                "template": {
                  "data": {
                    "bar": [
                      {
                        "error_x": {
                          "color": "#2a3f5f"
                        },
                        "error_y": {
                          "color": "#2a3f5f"
                        },
                        "marker": {
                          "line": {
                            "color": "#E5ECF6",
                            "width": 0.5
                          },
                          "pattern": {
                            "fillmode": "overlay",
                            "size": 10,
                            "solidity": 0.2
                          }
                        },
                        "type": "bar"
                      }
                    ],
                    "barpolar": [
                      {
                        "marker": {
                          "line": {
                            "color": "#E5ECF6",
                            "width": 0.5
                          },
                          "pattern": {
                            "fillmode": "overlay",
                            "size": 10,
                            "solidity": 0.2
                          }
                        },
                        "type": "barpolar"
                      }
                    ],
                    "carpet": [
                      {
                        "aaxis": {
                          "endlinecolor": "#2a3f5f",
                          "gridcolor": "white",
                          "linecolor": "white",
                          "minorgridcolor": "white",
                          "startlinecolor": "#2a3f5f"
                        },
                        "baxis": {
                          "endlinecolor": "#2a3f5f",
                          "gridcolor": "white",
                          "linecolor": "white",
                          "minorgridcolor": "white",
                          "startlinecolor": "#2a3f5f"
                        },
                        "type": "carpet"
                      }
                    ],
                    "choropleth": [
                      {
                        "colorbar": {
                          "outlinewidth": 0,
                          "ticks": ""
                        },
                        "type": "choropleth"
                      }
                    ],
                    "contour": [
                      {
                        "colorbar": {
                          "outlinewidth": 0,
                          "ticks": ""
                        },
                        "colorscale": [
                          [
                            0,
                            "#0d0887"
                          ],
                          [
                            0.1111111111111111,
                            "#46039f"
                          ],
                          [
                            0.2222222222222222,
                            "#7201a8"
                          ],
                          [
                            0.3333333333333333,
                            "#9c179e"
                          ],
                          [
                            0.4444444444444444,
                            "#bd3786"
                          ],
                          [
                            0.5555555555555556,
                            "#d8576b"
                          ],
                          [
                            0.6666666666666666,
                            "#ed7953"
                          ],
                          [
                            0.7777777777777778,
                            "#fb9f3a"
                          ],
                          [
                            0.8888888888888888,
                            "#fdca26"
                          ],
                          [
                            1,
                            "#f0f921"
                          ]
                        ],
                        "type": "contour"
                      }
                    ],
                    "contourcarpet": [
                      {
                        "colorbar": {
                          "outlinewidth": 0,
                          "ticks": ""
                        },
                        "type": "contourcarpet"
                      }
                    ],
                    "heatmap": [
                      {
                        "colorbar": {
                          "outlinewidth": 0,
                          "ticks": ""
                        },
                        "colorscale": [
                          [
                            0,
                            "#0d0887"
                          ],
                          [
                            0.1111111111111111,
                            "#46039f"
                          ],
                          [
                            0.2222222222222222,
                            "#7201a8"
                          ],
                          [
                            0.3333333333333333,
                            "#9c179e"
                          ],
                          [
                            0.4444444444444444,
                            "#bd3786"
                          ],
                          [
                            0.5555555555555556,
                            "#d8576b"
                          ],
                          [
                            0.6666666666666666,
                            "#ed7953"
                          ],
                          [
                            0.7777777777777778,
                            "#fb9f3a"
                          ],
                          [
                            0.8888888888888888,
                            "#fdca26"
                          ],
                          [
                            1,
                            "#f0f921"
                          ]
                        ],
                        "type": "heatmap"
                      }
                    ],
                    "histogram": [
                      {
                        "marker": {
                          "pattern": {
                            "fillmode": "overlay",
                            "size": 10,
                            "solidity": 0.2
                          }
                        },
                        "type": "histogram"
                      }
                    ],
                    "histogram2d": [
                      {
                        "colorbar": {
                          "outlinewidth": 0,
                          "ticks": ""
                        },
                        "colorscale": [
                          [
                            0,
                            "#0d0887"
                          ],
                          [
                            0.1111111111111111,
                            "#46039f"
                          ],
                          [
                            0.2222222222222222,
                            "#7201a8"
                          ],
                          [
                            0.3333333333333333,
                            "#9c179e"
                          ],
                          [
                            0.4444444444444444,
                            "#bd3786"
                          ],
                          [
                            0.5555555555555556,
                            "#d8576b"
                          ],
                          [
                            0.6666666666666666,
                            "#ed7953"
                          ],
                          [
                            0.7777777777777778,
                            "#fb9f3a"
                          ],
                          [
                            0.8888888888888888,
                            "#fdca26"
                          ],
                          [
                            1,
                            "#f0f921"
                          ]
                        ],
                        "type": "histogram2d"
                      }
                    ],
                    "histogram2dcontour": [
                      {
                        "colorbar": {
                          "outlinewidth": 0,
                          "ticks": ""
                        },
                        "colorscale": [
                          [
                            0,
                            "#0d0887"
                          ],
                          [
                            0.1111111111111111,
                            "#46039f"
                          ],
                          [
                            0.2222222222222222,
                            "#7201a8"
                          ],
                          [
                            0.3333333333333333,
                            "#9c179e"
                          ],
                          [
                            0.4444444444444444,
                            "#bd3786"
                          ],
                          [
                            0.5555555555555556,
                            "#d8576b"
                          ],
                          [
                            0.6666666666666666,
                            "#ed7953"
                          ],
                          [
                            0.7777777777777778,
                            "#fb9f3a"
                          ],
                          [
                            0.8888888888888888,
                            "#fdca26"
                          ],
                          [
                            1,
                            "#f0f921"
                          ]
                        ],
                        "type": "histogram2dcontour"
                      }
                    ],
                    "mesh3d": [
                      {
                        "colorbar": {
                          "outlinewidth": 0,
                          "ticks": ""
                        },
                        "type": "mesh3d"
                      }
                    ],
                    "parcoords": [
                      {
                        "line": {
                          "colorbar": {
                            "outlinewidth": 0,
                            "ticks": ""
                          }
                        },
                        "type": "parcoords"
                      }
                    ],
                    "pie": [
                      {
                        "automargin": true,
                        "type": "pie"
                      }
                    ],
                    "scatter": [
                      {
                        "fillpattern": {
                          "fillmode": "overlay",
                          "size": 10,
                          "solidity": 0.2
                        },
                        "type": "scatter"
                      }
                    ],
                    "scatter3d": [
                      {
                        "line": {
                          "colorbar": {
                            "outlinewidth": 0,
                            "ticks": ""
                          }
                        },
                        "marker": {
                          "colorbar": {
                            "outlinewidth": 0,
                            "ticks": ""
                          }
                        },
                        "type": "scatter3d"
                      }
                    ],
                    "scattercarpet": [
                      {
                        "marker": {
                          "colorbar": {
                            "outlinewidth": 0,
                            "ticks": ""
                          }
                        },
                        "type": "scattercarpet"
                      }
                    ],
                    "scattergeo": [
                      {
                        "marker": {
                          "colorbar": {
                            "outlinewidth": 0,
                            "ticks": ""
                          }
                        },
                        "type": "scattergeo"
                      }
                    ],
                    "scattergl": [
                      {
                        "marker": {
                          "colorbar": {
                            "outlinewidth": 0,
                            "ticks": ""
                          }
                        },
                        "type": "scattergl"
                      }
                    ],
                    "scattermap": [
                      {
                        "marker": {
                          "colorbar": {
                            "outlinewidth": 0,
                            "ticks": ""
                          }
                        },
                        "type": "scattermap"
                      }
                    ],
                    "scattermapbox": [
                      {
                        "marker": {
                          "colorbar": {
                            "outlinewidth": 0,
                            "ticks": ""
                          }
                        },
                        "type": "scattermapbox"
                      }
                    ],
                    "scatterpolar": [
                      {
                        "marker": {
                          "colorbar": {
                            "outlinewidth": 0,
                            "ticks": ""
                          }
                        },
                        "type": "scatterpolar"
                      }
                    ],
                    "scatterpolargl": [
                      {
                        "marker": {
                          "colorbar": {
                            "outlinewidth": 0,
                            "ticks": ""
                          }
                        },
                        "type": "scatterpolargl"
                      }
                    ],
                    "scatterternary": [
                      {
                        "marker": {
                          "colorbar": {
                            "outlinewidth": 0,
                            "ticks": ""
                          }
                        },
                        "type": "scatterternary"
                      }
                    ],
                    "surface": [
                      {
                        "colorbar": {
                          "outlinewidth": 0,
                          "ticks": ""
                        },
                        "colorscale": [
                          [
                            0,
                            "#0d0887"
                          ],
                          [
                            0.1111111111111111,
                            "#46039f"
                          ],
                          [
                            0.2222222222222222,
                            "#7201a8"
                          ],
                          [
                            0.3333333333333333,
                            "#9c179e"
                          ],
                          [
                            0.4444444444444444,
                            "#bd3786"
                          ],
                          [
                            0.5555555555555556,
                            "#d8576b"
                          ],
                          [
                            0.6666666666666666,
                            "#ed7953"
                          ],
                          [
                            0.7777777777777778,
                            "#fb9f3a"
                          ],
                          [
                            0.8888888888888888,
                            "#fdca26"
                          ],
                          [
                            1,
                            "#f0f921"
                          ]
                        ],
                        "type": "surface"
                      }
                    ],
                    "table": [
                      {
                        "cells": {
                          "fill": {
                            "color": "#EBF0F8"
                          },
                          "line": {
                            "color": "white"
                          }
                        },
                        "header": {
                          "fill": {
                            "color": "#C8D4E3"
                          },
                          "line": {
                            "color": "white"
                          }
                        },
                        "type": "table"
                      }
                    ]
                  },
                  "layout": {
                    "annotationdefaults": {
                      "arrowcolor": "#2a3f5f",
                      "arrowhead": 0,
                      "arrowwidth": 1
                    },
                    "autotypenumbers": "strict",
                    "coloraxis": {
                      "colorbar": {
                        "outlinewidth": 0,
                        "ticks": ""
                      }
                    },
                    "colorscale": {
                      "diverging": [
                        [
                          0,
                          "#8e0152"
                        ],
                        [
                          0.1,
                          "#c51b7d"
                        ],
                        [
                          0.2,
                          "#de77ae"
                        ],
                        [
                          0.3,
                          "#f1b6da"
                        ],
                        [
                          0.4,
                          "#fde0ef"
                        ],
                        [
                          0.5,
                          "#f7f7f7"
                        ],
                        [
                          0.6,
                          "#e6f5d0"
                        ],
                        [
                          0.7,
                          "#b8e186"
                        ],
                        [
                          0.8,
                          "#7fbc41"
                        ],
                        [
                          0.9,
                          "#4d9221"
                        ],
                        [
                          1,
                          "#276419"
                        ]
                      ],
                      "sequential": [
                        [
                          0,
                          "#0d0887"
                        ],
                        [
                          0.1111111111111111,
                          "#46039f"
                        ],
                        [
                          0.2222222222222222,
                          "#7201a8"
                        ],
                        [
                          0.3333333333333333,
                          "#9c179e"
                        ],
                        [
                          0.4444444444444444,
                          "#bd3786"
                        ],
                        [
                          0.5555555555555556,
                          "#d8576b"
                        ],
                        [
                          0.6666666666666666,
                          "#ed7953"
                        ],
                        [
                          0.7777777777777778,
                          "#fb9f3a"
                        ],
                        [
                          0.8888888888888888,
                          "#fdca26"
                        ],
                        [
                          1,
                          "#f0f921"
                        ]
                      ],
                      "sequentialminus": [
                        [
                          0,
                          "#0d0887"
                        ],
                        [
                          0.1111111111111111,
                          "#46039f"
                        ],
                        [
                          0.2222222222222222,
                          "#7201a8"
                        ],
                        [
                          0.3333333333333333,
                          "#9c179e"
                        ],
                        [
                          0.4444444444444444,
                          "#bd3786"
                        ],
                        [
                          0.5555555555555556,
                          "#d8576b"
                        ],
                        [
                          0.6666666666666666,
                          "#ed7953"
                        ],
                        [
                          0.7777777777777778,
                          "#fb9f3a"
                        ],
                        [
                          0.8888888888888888,
                          "#fdca26"
                        ],
                        [
                          1,
                          "#f0f921"
                        ]
                      ]
                    },
                    "colorway": [
                      "#636efa",
                      "#EF553B",
                      "#00cc96",
                      "#ab63fa",
                      "#FFA15A",
                      "#19d3f3",
                      "#FF6692",
                      "#B6E880",
                      "#FF97FF",
                      "#FECB52"
                    ],
                    "font": {
                      "color": "#2a3f5f"
                    },
                    "geo": {
                      "bgcolor": "white",
                      "lakecolor": "white",
                      "landcolor": "#E5ECF6",
                      "showlakes": true,
                      "showland": true,
                      "subunitcolor": "white"
                    },
                    "hoverlabel": {
                      "align": "left"
                    },
                    "hovermode": "closest",
                    "mapbox": {
                      "style": "light"
                    },
                    "paper_bgcolor": "white",
                    "plot_bgcolor": "#E5ECF6",
                    "polar": {
                      "angularaxis": {
                        "gridcolor": "white",
                        "linecolor": "white",
                        "ticks": ""
                      },
                      "bgcolor": "#E5ECF6",
                      "radialaxis": {
                        "gridcolor": "white",
                        "linecolor": "white",
                        "ticks": ""
                      }
                    },
                    "scene": {
                      "xaxis": {
                        "backgroundcolor": "#E5ECF6",
                        "gridcolor": "white",
                        "gridwidth": 2,
                        "linecolor": "white",
                        "showbackground": true,
                        "ticks": "",
                        "zerolinecolor": "white"
                      },
                      "yaxis": {
                        "backgroundcolor": "#E5ECF6",
                        "gridcolor": "white",
                        "gridwidth": 2,
                        "linecolor": "white",
                        "showbackground": true,
                        "ticks": "",
                        "zerolinecolor": "white"
                      },
                      "zaxis": {
                        "backgroundcolor": "#E5ECF6",
                        "gridcolor": "white",
                        "gridwidth": 2,
                        "linecolor": "white",
                        "showbackground": true,
                        "ticks": "",
                        "zerolinecolor": "white"
                      }
                    },
                    "shapedefaults": {
                      "line": {
                        "color": "#2a3f5f"
                      }
                    },
                    "ternary": {
                      "aaxis": {
                        "gridcolor": "white",
                        "linecolor": "white",
                        "ticks": ""
                      },
                      "baxis": {
                        "gridcolor": "white",
                        "linecolor": "white",
                        "ticks": ""
                      },
                      "bgcolor": "#E5ECF6",
                      "caxis": {
                        "gridcolor": "white",
                        "linecolor": "white",
                        "ticks": ""
                      }
                    },
                    "title": {
                      "x": 0.05
                    },
                    "xaxis": {
                      "automargin": true,
                      "gridcolor": "white",
                      "linecolor": "white",
                      "ticks": "",
                      "title": {
                        "standoff": 15
                      },
                      "zerolinecolor": "white",
                      "zerolinewidth": 2
                    },
                    "yaxis": {
                      "automargin": true,
                      "gridcolor": "white",
                      "linecolor": "white",
                      "ticks": "",
                      "title": {
                        "standoff": 15
                      },
                      "zerolinecolor": "white",
                      "zerolinewidth": 2
                    }
                  }
                },
                "xaxis": {
                  "anchor": "y",
                  "domain": [
                    0,
                    0.98
                  ],
                  "title": {
                    "text": "lead time (hours)"
                  }
                },
                "yaxis": {
                  "anchor": "x",
                  "domain": [
                    0,
                    1
                  ],
                  "title": {
                    "text": "rmse_weighted_l2"
                  }
                }
              }
            }
          },
          "metadata": {},
          "output_type": "display_data"
        }
      ],
      "source": [
        "safe.viz.viz_metrics.incomes(metrics)"
      ]
    },
    {
      "cell_type": "markdown",
      "metadata": {},
      "source": [
        "We see that across all lead times, **GraphCast performs worst at predicting temperature in low income countries.**"
      ]
    },
    {
      "cell_type": "markdown",
      "metadata": {
        "id": "PkKqewK_-ZLD"
      },
      "source": [
        "<a name=\"references\"></a>\n",
        "# References\n",
        "\n",
        "[1] Hersbach, Hans, et al. “The ERA5 global reanalysis”. *Quarterly journal of the royal\n",
        "meteorological society* 146.730 (2020): pp. 1999–2049.\n",
        "\n",
        "[2] Rasp, Stephan, et al. “Weatherbench 2: A benchmark for the next generation of data-driven global weather models”. *Journal of Advances in Modeling Earth Systems* 16.6 (2024), e2023MS004019.\n",
        "\n",
        "[3] Runfola, Daniel, et al. \"geoBoundaries: A global database of political administrative boundaries.\" *PLoS one* 15.4 (2020), e0231866.\n",
        "\n",
        "[4] https://unstats.un.org/sdgs/indicators/regional-groups\n",
        "\n",
        "[5] https://datahelpdesk.worldbank.org/knowledgebase/articles/906519-world-bank-country-and-lending-groups\n",
        "\n",
        "[6] Lam, Remi, et al. \"Learning skillful medium-range global weather forecasting.\" *Science* 382.6677 (2023): pp. 1416-1421.\n",
        "\n",
        "[7] Shrader, Jeffrey G., Laura Bakkensen, and Derek Lemoine. “Fatal Errors: The Mortality Value\n",
        "of Accurate Weather Forecasts\". Working Paper. June 2023. DOI: 10.3386/w31361. URL:\n",
        "https://www.nber.org/papers/w31361 (visited on 02/16/2025).\n",
        "\n"
      ]
    }
  ],
  "metadata": {
    "colab": {
      "provenance": []
    },
    "kernelspec": {
      "display_name": ".env",
      "language": "python",
      "name": "python3"
    },
    "language_info": {
      "codemirror_mode": {
        "name": "ipython",
        "version": 3
      },
      "file_extension": ".py",
      "mimetype": "text/x-python",
      "name": "python",
      "nbconvert_exporter": "python",
      "pygments_lexer": "ipython3",
      "version": "3.10.9"
    }
  },
  "nbformat": 4,
  "nbformat_minor": 0
}

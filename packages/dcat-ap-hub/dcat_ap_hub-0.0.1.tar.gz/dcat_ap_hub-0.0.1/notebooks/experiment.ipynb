{
 "cells": [
  {
   "cell_type": "code",
   "execution_count": 1,
   "id": "9a25bedd",
   "metadata": {},
   "outputs": [],
   "source": [
    "import json"
   ]
  },
  {
   "cell_type": "code",
   "execution_count": 2,
   "id": "a4588e5f",
   "metadata": {},
   "outputs": [
    {
     "name": "stdout",
     "output_type": "stream",
     "text": [
      "[('@graph', [{'@id': 'https://piveau.io/set/distribution/147386fe-e43e-427f-8fd2-e88f5253c74a', 'dcat:downloadURL': {'@id': 'https://archive.ics.uci.edu/static/public/240/human+activity+recognition+using+smartphones.zip'}, 'dcat:mediaType': 'application/zip', 'dct:identifier': 'https://example.io/set/distribution/1', '@type': 'dcat:Distribution', 'dct:license': {'@id': 'http://dcat-ap.de/def/licenses/cc-by/4.0'}, 'dct:title': 'Original Data', 'dcat:accessURL': {'@id': 'https://archive.ics.uci.edu/dataset/240/human+activity+recognition+using+smartphones'}}, {'@id': 'https://piveau.io/set/distribution/9bdfdbf4-a339-44c3-bbbb-006da15d8cbb', 'dcat:downloadURL': {'@id': 'https://test.de/download.zip'}, 'dct:title': 'Parser and Config Repository', 'dcat:mediaType': 'application/zip', '@type': 'dcat:Distribution', 'dct:identifier': 'https://example.io/set/distribution/2', 'dct:license': {'@id': 'http://dcat-ap.de/def/licenses/cc-by/4.0'}, 'dcat:accessURL': {'@id': 'https://test.de'}}, {'@id': 'https://piveau.io/set/data/uci-har', 'dcat:distribution': [{'@id': 'https://piveau.io/set/distribution/147386fe-e43e-427f-8fd2-e88f5253c74a'}, {'@id': 'https://piveau.io/set/distribution/9bdfdbf4-a339-44c3-bbbb-006da15d8cbb'}], 'dct:title': 'UCI-HAR', 'dct:description': 'Human Activity Recognition database built from the recordings of 30 subjects performing activities of daily living (ADL) while carrying a waist-mounted smartphone with embedded inertial sensors.', '@type': 'dcat:Dataset'}]), ('@context', {'dct': 'http://purl.org/dc/terms/', 'dcat': 'http://www.w3.org/ns/dcat#', 'rdf': 'http://www.w3.org/1999/02/22-rdf-syntax-ns#'})]\n"
     ]
    }
   ],
   "source": [
    "# load json file from url\n",
    "\n",
    "from urllib import request\n",
    "\n",
    "\n",
    "url = \"http://localhost:8081/datasets/uci-har.jsonld\"\n",
    "with request.urlopen(url) as response:\n",
    "    data = json.load(response)\n",
    "\n",
    "    print(list(data.items()))"
   ]
  },
  {
   "cell_type": "code",
   "execution_count": null,
   "id": "a653e609",
   "metadata": {},
   "outputs": [
    {
     "name": "stdout",
     "output_type": "stream",
     "text": [
      "https://piveau.io/set/distribution/147386fe-e43e-427f-8fd2-e88f5253c74a http://purl.org/dc/terms/license http://dcat-ap.de/def/licenses/cc-by/4.0\n",
      "https://piveau.io/set/distribution/147386fe-e43e-427f-8fd2-e88f5253c74a http://www.w3.org/ns/dcat#mediaType application/zip\n",
      "https://piveau.io/set/distribution/147386fe-e43e-427f-8fd2-e88f5253c74a http://www.w3.org/ns/dcat#downloadURL https://archive.ics.uci.edu/static/public/240/human+activity+recognition+using+smartphones.zip\n",
      "https://piveau.io/set/distribution/147386fe-e43e-427f-8fd2-e88f5253c74a http://www.w3.org/1999/02/22-rdf-syntax-ns#type http://www.w3.org/ns/dcat#Distribution\n",
      "https://piveau.io/set/distribution/147386fe-e43e-427f-8fd2-e88f5253c74a http://purl.org/dc/terms/identifier https://example.io/set/distribution/1\n",
      "https://piveau.io/set/distribution/147386fe-e43e-427f-8fd2-e88f5253c74a http://www.w3.org/ns/dcat#accessURL https://archive.ics.uci.edu/dataset/240/human+activity+recognition+using+smartphones\n",
      "https://piveau.io/set/distribution/147386fe-e43e-427f-8fd2-e88f5253c74a http://purl.org/dc/terms/title Original Data\n"
     ]
    }
   ],
   "source": [
    "from rdflib import Graph\n",
    "\n",
    "g = Graph()\n",
    "g.parse(data=data, format=\"json-ld\")\n",
    "\n",
    "for s, p, o in g:\n",
    "    print(s, p, o)"
   ]
  }
 ],
 "metadata": {
  "kernelspec": {
   "display_name": "dcat-ap-hub",
   "language": "python",
   "name": "python3"
  },
  "language_info": {
   "codemirror_mode": {
    "name": "ipython",
    "version": 3
   },
   "file_extension": ".py",
   "mimetype": "text/x-python",
   "name": "python",
   "nbconvert_exporter": "python",
   "pygments_lexer": "ipython3",
   "version": "3.11.12"
  }
 },
 "nbformat": 4,
 "nbformat_minor": 5
}

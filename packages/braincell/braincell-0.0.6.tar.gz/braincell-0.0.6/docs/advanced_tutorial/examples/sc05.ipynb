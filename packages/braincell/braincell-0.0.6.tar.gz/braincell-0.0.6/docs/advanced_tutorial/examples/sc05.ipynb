{
 "cells": [
  {
   "metadata": {},
   "cell_type": "markdown",
   "source": [
    "# 丘脑神经元模型的构建与电活动模拟\n",
    "\n",
    "本实例将基于 `braincell` 框架实现丘脑神经元模型，包括四种典型丘脑神经元类型： `HTC`、`RTC`、`IN`、`TRN`。\n",
    "通过构建这些包含复杂离子通道组合的神经元模型，你将学习如何模拟丘脑神经元的电生理特性，理解不同神经元类型的通道组成差异及其功能意义。\n",
    "\n",
    "## 准备工作\n",
    "首先确保已安装必要的库（`braincell`、`brainstate`、`brainunit`、`matplotlib`），并导入所需模块："
   ],
   "id": "3e316db481ea72fe"
  },
  {
   "metadata": {
    "ExecuteTime": {
     "end_time": "2025-10-13T09:24:48.222727Z",
     "start_time": "2025-10-13T09:24:48.220484Z"
    }
   },
   "cell_type": "code",
   "source": [
    "import time  # 用于记录模拟耗时\n",
    "\n",
    "import brainstate\n",
    "import braintools\n",
    "import brainunit as u\n",
    "import matplotlib.pyplot as plt\n",
    "import braincell"
   ],
   "id": "3127da63817f773a",
   "outputs": [],
   "execution_count": 15
  },
  {
   "metadata": {},
   "cell_type": "markdown",
   "source": [
    "## 代码详解\n",
    "\n",
    "### 丘脑神经元基类\n",
    "\n",
    "定义所有丘脑神经元的基类，封装通用功能："
   ],
   "id": "de625e637a78e3fa"
  },
  {
   "metadata": {
    "ExecuteTime": {
     "end_time": "2025-10-13T09:24:48.237679Z",
     "start_time": "2025-10-13T09:24:48.234569Z"
    }
   },
   "cell_type": "code",
   "source": [
    "class ThalamusNeuron(braincell.SingleCompartment):\n",
    "    def compute_derivative(self, I_ext=0. * u.nA):\n",
    "        I_ext = self.sum_current_inputs(I_ext, self.V.value) * self.area\n",
    "        for key, ch in self.nodes(braincell.IonChannel, allowed_hierarchy=(1, 1)).items():\n",
    "            I_ext = I_ext + ch.current(self.V.value)\n",
    "        self.V.derivative = I_ext / self.C\n",
    "        for key, node in self.nodes(braincell.IonChannel, allowed_hierarchy=(1, 1)).items():\n",
    "            node.compute_derivative(self.V.value)\n",
    "\n",
    "    def step_run(self, t, inp):\n",
    "        # 定义每个时间的更新规则\n",
    "        with brainstate.environ.context(t=t):\n",
    "            self.update(inp)\n",
    "            return self.V.value"
   ],
   "id": "442d98ad44653814",
   "outputs": [],
   "execution_count": 16
  },
  {
   "metadata": {},
   "cell_type": "markdown",
   "source": [
    "### 四种丘脑神经元类型的实现\n",
    "\n",
    "在丘脑中，不同神经元类型通过特定的离子通道组合实现不同功能。以下分别解析其通道组成：\n",
    "\n",
    "#### HTC"
   ],
   "id": "a8dfd148e1bd6ac0"
  },
  {
   "metadata": {
    "ExecuteTime": {
     "end_time": "2025-10-13T09:24:48.270143Z",
     "start_time": "2025-10-13T09:24:48.264887Z"
    }
   },
   "cell_type": "code",
   "source": [
    "class HTC(ThalamusNeuron):\n",
    "    def __init__(\n",
    "        self,\n",
    "        size,\n",
    "        gKL=0.01 * (u.mS / u.cm **2),  # 钾漏通道电导\n",
    "        V_initializer=braintools.init.Constant(-65. * u.mV),  # 初始膜电位\n",
    "        solver: str = 'ind_exp_euler'  # 积分方法\n",
    "    ):\n",
    "        super().__init__(size, V_initializer=V_initializer, V_th=20. * u.mV, solver=solver)\n",
    "\n",
    "        # 膜面积参数\n",
    "        self.area = 1e-3 / (2.9e-4 * u.cm** 2)\n",
    "\n",
    "        # 钠离子通道\n",
    "        self.na = braincell.ion.SodiumFixed(size, E=50. * u.mV)  # 钠反转电位 50 mV\n",
    "        self.na.add(INa=braincell.channel.INa_Ba2002(size, V_sh=-30 * u.mV))\n",
    "\n",
    "        # 钾离子通道\n",
    "        self.k = braincell.ion.PotassiumFixed(size, E=-90. * u.mV)  # 钾反转电位 -90 mV\n",
    "        self.k.add(IKL=braincell.channel.IK_Leak(size, g_max=gKL))  # 钾漏电流\n",
    "        self.k.add(IDR=braincell.channel.IKDR_Ba2002(size, V_sh=-30. * u.mV, phi=0.25))  # 延迟整流钾电流\n",
    "\n",
    "        # 钙离子通道\n",
    "        self.ca = braincell.ion.CalciumDetailed(\n",
    "            size,\n",
    "            C_rest=5e-5 * u.mM,  # 静息钙浓度\n",
    "            tau=10. * u.ms,  # 钙浓度衰减时间常数\n",
    "            d=0.5 * u.um  # 钙扩散距离\n",
    "        )\n",
    "        self.ca.add(ICaL=braincell.channel.ICaL_IS2008(size, g_max=0.5 * (u.mS / u.cm **2)))  # L型钙通道\n",
    "        self.ca.add(ICaN=braincell.channel.ICaN_IS2008(size, g_max=0.5 * (u.mS / u.cm** 2)))  # N型钙通道\n",
    "        self.ca.add(ICaT=braincell.channel.ICaT_HM1992(size, g_max=2.1 * (u.mS / u.cm **2)))  # T型钙通道（低阈值）\n",
    "        self.ca.add(ICaHT=braincell.channel.ICaHT_HM1992(size, g_max=3.0 * (u.mS / u.cm** 2)))  # 高阈值钙通道\n",
    "\n",
    "        # 钙激活钾通道（IAHP）\n",
    "        self.kca = braincell.MixIons(self.k, self.ca)  # 混合钾离子和钙离子\n",
    "        self.kca.add(IAHP=braincell.channel.IAHP_De1994(size, g_max=0.3 * (u.mS / u.cm **2)))\n",
    "\n",
    "        # 超极化激活阳离子电流（Ih）和漏电流（IL）\n",
    "        self.Ih = braincell.channel.Ih_HM1992(size, g_max=0.01 * (u.mS / u.cm** 2), E=-43 * u.mV)  # 调节静息电位和节律\n",
    "        self.IL = braincell.channel.IL(size, g_max=0.0075 * (u.mS / u.cm **2), E=-70 * u.mV)  # 背景漏电流"
   ],
   "id": "d856d4866382d6dc",
   "outputs": [],
   "execution_count": 17
  },
  {
   "metadata": {},
   "cell_type": "markdown",
   "source": "#### RTC",
   "id": "c519f384afa6ff61"
  },
  {
   "metadata": {
    "ExecuteTime": {
     "end_time": "2025-10-13T09:24:48.300117Z",
     "start_time": "2025-10-13T09:24:48.295845Z"
    }
   },
   "cell_type": "code",
   "source": [
    "class RTC(ThalamusNeuron):\n",
    "    def __init__(\n",
    "        self,\n",
    "        size,\n",
    "        gKL=0.01 * (u.mS / u.cm** 2),\n",
    "        V_initializer=braintools.init.Constant(-65. * u.mV),\n",
    "        solver: str = 'ind_exp_euler'\n",
    "    ):\n",
    "        super().__init__(size, V_initializer=V_initializer, V_th=20 * u.mV, solver=solver)\n",
    "\n",
    "        self.area = 1e-3 / (2.9e-4 * u.cm **2)  # 膜面积参数\n",
    "\n",
    "        # 钠离子通道\n",
    "        self.na = braincell.ion.SodiumFixed(size)\n",
    "        self.na.add(INa=braincell.channel.INa_Ba2002(size, V_sh=-40 * u.mV))\n",
    "\n",
    "        # 钾离子通道\n",
    "        self.k = braincell.ion.PotassiumFixed(size, E=-90. * u.mV)\n",
    "        self.k.add(IDR=braincell.channel.IKDR_Ba2002(size, V_sh=-40 * u.mV, phi=0.25))  # 门控偏移\n",
    "        self.k.add(IKL=braincell.channel.IK_Leak(size, g_max=gKL))\n",
    "\n",
    "        # 钙离子通道\n",
    "        self.ca = braincell.ion.CalciumDetailed(size, C_rest=5e-5 * u.mM, tau=10. * u.ms, d=0.5 * u.um)\n",
    "        self.ca.add(ICaL=braincell.channel.ICaL_IS2008(size, g_max=0.3 * (u.mS / u.cm** 2)))\n",
    "        self.ca.add(ICaN=braincell.channel.ICaN_IS2008(size, g_max=0.6 * (u.mS / u.cm **2)))\n",
    "        self.ca.add(ICaT=braincell.channel.ICaT_HM1992(size, g_max=2.1 * (u.mS / u.cm** 2)))\n",
    "        self.ca.add(ICaHT=braincell.channel.ICaHT_HM1992(size, g_max=0.6 * (u.mS / u.cm **2)))\n",
    "\n",
    "        # 钙激活钾通道（IAHP）\n",
    "        self.kca = braincell.MixIons(self.k, self.ca)\n",
    "        self.kca.add(IAHP=braincell.channel.IAHP_De1994(size, g_max=0.1 * (u.mS / u.cm** 2)))\n",
    "\n",
    "        # Ih 和 IL 电流\n",
    "        self.Ih = braincell.channel.Ih_HM1992(size, g_max=0.01 * (u.mS / u.cm **2), E=-43 * u.mV)\n",
    "        self.IL = braincell.channel.IL(size, g_max=0.0075 * (u.mS / u.cm** 2), E=-70 * u.mV)"
   ],
   "id": "d1145a1a4b5adb37",
   "outputs": [],
   "execution_count": 18
  },
  {
   "metadata": {},
   "cell_type": "markdown",
   "source": "#### IN",
   "id": "17c464d4af82fcbb"
  },
  {
   "metadata": {
    "ExecuteTime": {
     "end_time": "2025-10-13T09:24:48.319078Z",
     "start_time": "2025-10-13T09:24:48.315064Z"
    }
   },
   "cell_type": "code",
   "source": [
    "class IN(ThalamusNeuron):\n",
    "    def __init__(\n",
    "        self,\n",
    "        size,\n",
    "        gKL=0.01 * (u.mS / u.cm **2),\n",
    "        V_initializer=braintools.init.Constant(-70. * u.mV),  # 初始膜电位更负\n",
    "        solver: str = 'ind_exp_euler'\n",
    "    ):\n",
    "        super().__init__(size, V_initializer=V_initializer, V_th=20. * u.mV, solver=solver)\n",
    "\n",
    "        self.area = 1e-3 / (1.7e-4 * u.cm** 2)\n",
    "\n",
    "        # 钠离子通道\n",
    "        self.na = braincell.ion.SodiumFixed(size)\n",
    "        self.na.add(INa=braincell.channel.INa_Ba2002(size, V_sh=-30 * u.mV))\n",
    "\n",
    "        # 钾离子通道\n",
    "        self.k = braincell.ion.PotassiumFixed(size, E=-90. * u.mV)\n",
    "        self.k.add(IDR=braincell.channel.IKDR_Ba2002(size, V_sh=-30 * u.mV, phi=0.25))\n",
    "        self.k.add(IKL=braincell.channel.IK_Leak(size, g_max=gKL))\n",
    "\n",
    "        # 钙离子通道\n",
    "        self.ca = braincell.ion.CalciumDetailed(size, C_rest=5e-5 * u.mM, tau=10. * u.ms, d=0.5 * u.um)\n",
    "        self.ca.add(ICaN=braincell.channel.ICaN_IS2008(size, g_max=0.1 * (u.mS / u.cm **2)))\n",
    "        self.ca.add(ICaHT=braincell.channel.ICaHT_HM1992(size, g_max=2.5 * (u.mS / u.cm** 2)))\n",
    "\n",
    "        # 钙激活钾通道（IAHP）\n",
    "        self.kca = braincell.MixIons(self.k, self.ca)\n",
    "        self.kca.add(IAHP=braincell.channel.IAHP_De1994(size, g_max=0.2 * (u.mS / u.cm **2)))\n",
    "\n",
    "        # 漏电流（IL）和 Ih 电流\n",
    "        self.IL = braincell.channel.IL(size, g_max=0.0075 * (u.mS / u.cm** 2), E=-60 * u.mV)\n",
    "        self.Ih = braincell.channel.Ih_HM1992(size, g_max=0.05 * (u.mS / u.cm **2), E=-43 * u.mV)"
   ],
   "id": "b8848c7317a31960",
   "outputs": [],
   "execution_count": 19
  },
  {
   "metadata": {},
   "cell_type": "markdown",
   "source": "#### TRN",
   "id": "8de99a6ba6eced59"
  },
  {
   "metadata": {
    "ExecuteTime": {
     "end_time": "2025-10-13T09:24:48.346690Z",
     "start_time": "2025-10-13T09:24:48.342445Z"
    }
   },
   "cell_type": "code",
   "source": [
    "class TRN(ThalamusNeuron):\n",
    "    def __init__(\n",
    "        self,\n",
    "        size,\n",
    "        gKL=0.01 * (u.mS / u.cm** 2),\n",
    "        V_initializer=braintools.init.Constant(-70. * u.mV),\n",
    "        gl=0.0075,  # 漏通道电导系数\n",
    "        solver: str = 'ind_exp_euler'\n",
    "    ):\n",
    "        super().__init__(size, V_initializer=V_initializer, V_th=20. * u.mV, solver=solver)\n",
    "\n",
    "        self.area = 1e-3 / (1.43e-4 * u.cm **2)\n",
    "\n",
    "        # 钠离子通道\n",
    "        self.na = braincell.ion.SodiumFixed(size)\n",
    "        self.na.add(INa=braincell.channel.INa_Ba2002(size, V_sh=-40 * u.mV))\n",
    "\n",
    "        # 钾离子通道\n",
    "        self.k = braincell.ion.PotassiumFixed(size, E=-90. * u.mV)\n",
    "        self.k.add(IDR=braincell.channel.IKDR_Ba2002(size, V_sh=-40 * u.mV))\n",
    "        self.k.add(IKL=braincell.channel.IK_Leak(size, g_max=gKL))\n",
    "\n",
    "        # 钙离子通道\n",
    "        self.ca = braincell.ion.CalciumDetailed(size, C_rest=5e-5 * u.mM, tau=100. * u.ms, d=0.5 * u.um)\n",
    "        self.ca.add(ICaN=braincell.channel.ICaN_IS2008(size, g_max=0.2 * (u.mS / u.cm** 2)))\n",
    "        self.ca.add(ICaT=braincell.channel.ICaT_HP1992(size, g_max=1.3 * (u.mS / u.cm **2)))\n",
    "\n",
    "        # 钙激活钾通道（IAHP）\n",
    "        self.kca = braincell.MixIons(self.k, self.ca)\n",
    "        self.kca.add(IAHP=braincell.channel.IAHP_De1994(size, g_max=0.2 * (u.mS / u.cm** 2)))\n",
    "\n",
    "        # 漏电流（IL）\n",
    "        self.IL = braincell.channel.IL(size, g_max=gl * (u.mS / u.cm **2), E=-60 * u.mV)"
   ],
   "id": "4d459cf6562f41f3",
   "outputs": [],
   "execution_count": 20
  },
  {
   "metadata": {},
   "cell_type": "markdown",
   "source": [
    "### 模拟丘脑神经元电活动\n",
    "\n",
    "定义 `try_trn_neuron` 函数，设置输入电流、模拟参数，运行仿真并可视化结果："
   ],
   "id": "b5405d5120eedd72"
  },
  {
   "metadata": {
    "ExecuteTime": {
     "end_time": "2025-10-13T09:24:49.873993Z",
     "start_time": "2025-10-13T09:24:48.363368Z"
    }
   },
   "cell_type": "code",
   "source": [
    "def try_trn_neuron():\n",
    "    # 设置模拟时间步长\n",
    "    brainstate.environ.set(dt=0.02 * u.ms)\n",
    "\n",
    "    # 生成分段输入电流\n",
    "    I = braintools.input.section(\n",
    "        values=[0, 0.05, 0],  # 电流强度\n",
    "        durations=[50 * u.ms, 200 * u.ms, 100 * u.ms]  # 各阶段持续时间\n",
    "    ) * u.uA\n",
    "\n",
    "    # 生成模拟时间序列\n",
    "    times = u.math.arange(I.shape[0]) * brainstate.environ.get_dt()\n",
    "\n",
    "    # 选择模拟的神经元类型（此处以 HTC 为例，可替换为 RTC、IN、TRN）\n",
    "    neu = HTC(1, solver='ind_exp_euler')  # 使用独立指数欧拉法积分\n",
    "    neu.init_state()  # 初始化神经元状态\n",
    "\n",
    "    # 运行模拟并记录耗时\n",
    "    t0 = time.time()\n",
    "    vs = brainstate.transform.for_loop(neu.step_run, times, I)  # 循环更新神经元状态\n",
    "    t1 = time.time()\n",
    "    print(f\"模拟耗时：{t1 - t0:.4f} 秒\")  # 输出计算效率\n",
    "\n",
    "    # 可视化膜电位变化\n",
    "    plt.plot(\n",
    "        times.to_decimal(u.ms),  # 横轴：时间\n",
    "        u.math.squeeze(vs.to_decimal(u.mV))  # 纵轴：膜电位\n",
    "    )\n",
    "    plt.xlabel('时间（ms）')\n",
    "    plt.ylabel('膜电位（mV）')\n",
    "    plt.title('HTC 神经元对分段电流的响应')\n",
    "    plt.show()\n",
    "\n",
    "\n",
    "# 执行模拟\n",
    "if __name__ == '__main__':\n",
    "    try_trn_neuron()"
   ],
   "id": "5b1dff1ed3d6567c",
   "outputs": [
    {
     "name": "stdout",
     "output_type": "stream",
     "text": [
      "模拟耗时：1.4487 秒\n"
     ]
    },
    {
     "data": {
      "text/plain": [
       "<Figure size 640x480 with 1 Axes>"
      ],
      "image/png": "[encoded data removed]"
     },
     "metadata": {},
     "output_type": "display_data"
    }
   ],
   "execution_count": 21
  },
  {
   "metadata": {},
   "cell_type": "markdown",
   "source": [
    "## 结果解读\n",
    "\n",
    "运行代码后，将得到 HTC 神经元在分段电流刺激下的膜电位变化曲线，典型特征如下：\n",
    "\n",
    "0~50 ms（无电流）：神经元处于静息状态，膜电位稳定在约 -65 mV，由漏电流和 Ih 电流平衡维持。\n",
    "\n",
    "50~250 ms（注入 0.05 uA 电流）：\n",
    "   - 电流注入导致膜电位去极化，达到阈值后产生动作电位。\n",
    "   - 由于 T 型钙通道和 IAHP 电流的作用，可能出现爆发式放电，这是丘脑神经元参与节律振荡的典型特征。\n",
    "\n",
    "250~350 ms（电流关闭）：\n",
    "   - 膜电位逐渐恢复静息水平，但可能因钙激活钾通道的持续作用出现超极化后电位。\n",
    "\n",
    "## 扩展练习\n",
    "\n",
    "- 替换神经元类型，如 ``neu = TRN(1)``，对比 TRN 与 HTC 对相同电流的响应差异。\n",
    "- 修改 T 型钙通道电导，如 ``ICaT_HM1992(g_max=1.0 * ...)``，观察对神经元爆发式放电的影响。\n",
    "- 延长模拟时间并分析不同丘脑神经元的自发节律特性。\n",
    "\n",
    "通过这些实践，你将深入理解丘脑神经元的电生理特性及其在大脑节律调控中的作用。"
   ],
   "id": "9f34a308cd614c8c"
  }
 ],
 "metadata": {
  "kernelspec": {
   "display_name": "Python 3",
   "language": "python",
   "name": "python3"
  },
  "language_info": {
   "codemirror_mode": {
    "name": "ipython",
    "version": 2
   },
   "file_extension": ".py",
   "mimetype": "text/x-python",
   "name": "python",
   "nbconvert_exporter": "python",
   "pygments_lexer": "ipython2",
   "version": "2.7.6"
  }
 },
 "nbformat": 4,
 "nbformat_minor": 5
}

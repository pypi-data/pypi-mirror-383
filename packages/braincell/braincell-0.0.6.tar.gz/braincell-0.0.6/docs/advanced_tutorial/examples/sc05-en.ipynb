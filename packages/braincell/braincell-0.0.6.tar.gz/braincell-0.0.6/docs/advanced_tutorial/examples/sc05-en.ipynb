{
 "cells": [
  {
   "metadata": {},
   "cell_type": "markdown",
   "source": [
    "# Construction and Electrophysiological Simulation of Thalamic Neuron Models\n",
    "\n",
    "This example demonstrates how to implement thalamic neuron models using the `braincell` framework, including four typical thalamic neuron types: `HTC`, `RTC`, `IN`, and `TRN`.\n",
    "By constructing these neurons with complex combinations of ion channels, you will learn how to simulate the electrophysiological properties of thalamic neurons and understand the functional significance of differences in channel composition among neuron types.\n",
    "\n",
    "## Preparation\n",
    "First, ensure that the necessary libraries (`braincell`, `brainstate`, `brainunit`, `matplotlib`) are installed, and import the required modules:\n"
   ],
   "id": "3e316db481ea72fe"
  },
  {
   "metadata": {
    "ExecuteTime": {
     "end_time": "2025-10-13T09:25:02.108097Z",
     "start_time": "2025-10-13T09:25:02.105610Z"
    }
   },
   "cell_type": "code",
   "source": [
    "import time  # 用于记录模拟耗时\n",
    "\n",
    "import brainstate\n",
    "import braintools\n",
    "import brainunit as u\n",
    "import matplotlib.pyplot as plt\n",
    "import braincell"
   ],
   "id": "3127da63817f773a",
   "outputs": [],
   "execution_count": 22
  },
  {
   "metadata": {},
   "cell_type": "markdown",
   "source": [
    "## Code Explanation\n",
    "\n",
    "### Base Class for Thalamic Neurons\n",
    "\n",
    "Define a base class for all thalamic neurons, encapsulating common functionalities:\n"
   ],
   "id": "de625e637a78e3fa"
  },
  {
   "metadata": {
    "ExecuteTime": {
     "end_time": "2025-10-13T09:25:02.121103Z",
     "start_time": "2025-10-13T09:25:02.117631Z"
    }
   },
   "cell_type": "code",
   "source": [
    "class ThalamusNeuron(braincell.SingleCompartment):\n",
    "    def compute_derivative(self, I_ext=0. * u.nA):\n",
    "        I_ext = self.sum_current_inputs(I_ext, self.V.value) * self.area\n",
    "        for key, ch in self.nodes(braincell.IonChannel, allowed_hierarchy=(1, 1)).items():\n",
    "            I_ext = I_ext + ch.current(self.V.value)\n",
    "        self.V.derivative = I_ext / self.C\n",
    "        for key, node in self.nodes(braincell.IonChannel, allowed_hierarchy=(1, 1)).items():\n",
    "            node.compute_derivative(self.V.value)\n",
    "\n",
    "    def step_run(self, t, inp):\n",
    "        # Define update rule at each time step\n",
    "        with brainstate.environ.context(t=t):\n",
    "            self.update(inp)\n",
    "            return self.V.value\n"
   ],
   "id": "442d98ad44653814",
   "outputs": [],
   "execution_count": 23
  },
  {
   "metadata": {},
   "cell_type": "markdown",
   "source": [
    "### Implementation of Four Thalamic Neuron Types\n",
    "\n",
    "In the thalamus, different neuron types achieve distinct functions through specific combinations of ion channels. The following describes their channel composition:\n",
    "\n",
    "#### HTC\n"
   ],
   "id": "a8dfd148e1bd6ac0"
  },
  {
   "metadata": {
    "ExecuteTime": {
     "end_time": "2025-10-13T09:25:02.135968Z",
     "start_time": "2025-10-13T09:25:02.130762Z"
    }
   },
   "cell_type": "code",
   "source": [
    "class HTC(ThalamusNeuron):\n",
    "    def __init__(\n",
    "        self,\n",
    "        size,\n",
    "        gKL=0.01 * (u.mS / u.cm **2),  # Potassium leak channel conductance\n",
    "        V_initializer=braintools.init.Constant(-65. * u.mV),  # Initial membrane potential\n",
    "        solver: str = 'ind_exp_euler'  # Integration method\n",
    "    ):\n",
    "        super().__init__(size, V_initializer=V_initializer, V_th=20. * u.mV, solver=solver)\n",
    "\n",
    "        # Membrane area parameter\n",
    "        self.area = 1e-3 / (2.9e-4 * u.cm** 2)\n",
    "\n",
    "        # Sodium channel\n",
    "        self.na = braincell.ion.SodiumFixed(size, E=50. * u.mV)  # Sodium reversal potential 50 mV\n",
    "        self.na.add(INa=braincell.channel.INa_Ba2002(size, V_sh=-30 * u.mV))\n",
    "\n",
    "        # Potassium channel\n",
    "        self.k = braincell.ion.PotassiumFixed(size, E=-90. * u.mV)  # Potassium reversal potential -90 mV\n",
    "        self.k.add(IKL=braincell.channel.IK_Leak(size, g_max=gKL))  # Potassium leak current\n",
    "        self.k.add(IDR=braincell.channel.IKDR_Ba2002(size, V_sh=-30. * u.mV, phi=0.25))  # Delayed rectifier potassium current\n",
    "\n",
    "        # Calcium channel\n",
    "        self.ca = braincell.ion.CalciumDetailed(\n",
    "            size,\n",
    "            C_rest=5e-5 * u.mM,  # Resting calcium concentration\n",
    "            tau=10. * u.ms,  # Calcium decay time constant\n",
    "            d=0.5 * u.um  # Calcium diffusion distance\n",
    "        )\n",
    "        self.ca.add(ICaL=braincell.channel.ICaL_IS2008(size, g_max=0.5 * (u.mS / u.cm **2)))  # L-type calcium channel\n",
    "        self.ca.add(ICaN=braincell.channel.ICaN_IS2008(size, g_max=0.5 * (u.mS / u.cm** 2)))  # N-type calcium channel\n",
    "        self.ca.add(ICaT=braincell.channel.ICaT_HM1992(size, g_max=2.1 * (u.mS / u.cm **2)))  # T-type calcium channel (low-threshold)\n",
    "        self.ca.add(ICaHT=braincell.channel.ICaHT_HM1992(size, g_max=3.0 * (u.mS / u.cm** 2)))  # High-threshold calcium channel\n",
    "\n",
    "        # Calcium-activated potassium channel (IAHP)\n",
    "        self.kca = braincell.MixIons(self.k, self.ca)  # Mix potassium and calcium ions\n",
    "        self.kca.add(IAHP=braincell.channel.IAHP_De1994(size, g_max=0.3 * (u.mS / u.cm **2)))\n",
    "\n",
    "        # Hyperpolarization-activated cation current (Ih) and leak current (IL)\n",
    "        self.Ih = braincell.channel.Ih_HM1992(size, g_max=0.01 * (u.mS / u.cm** 2), E=-43 * u.mV)  # Regulates resting potential and rhythm\n",
    "        self.IL = braincell.channel.IL(size, g_max=0.0075 * (u.mS / u.cm **2), E=-70 * u.mV)  # Background leak current\n"
   ],
   "id": "d856d4866382d6dc",
   "outputs": [],
   "execution_count": 24
  },
  {
   "metadata": {},
   "cell_type": "markdown",
   "source": "#### RTC",
   "id": "c519f384afa6ff61"
  },
  {
   "metadata": {
    "ExecuteTime": {
     "end_time": "2025-10-13T09:25:02.167383Z",
     "start_time": "2025-10-13T09:25:02.162904Z"
    }
   },
   "cell_type": "code",
   "source": [
    "class RTC(ThalamusNeuron):\n",
    "    def __init__(\n",
    "        self,\n",
    "        size,\n",
    "        gKL=0.01 * (u.mS / u.cm** 2),\n",
    "        V_initializer=braintools.init.Constant(-65. * u.mV),\n",
    "        solver: str = 'ind_exp_euler'\n",
    "    ):\n",
    "        super().__init__(size, V_initializer=V_initializer, V_th=20 * u.mV, solver=solver)\n",
    "\n",
    "        self.area = 1e-3 / (2.9e-4 * u.cm **2)  # Membrane area parameter\n",
    "\n",
    "        # Sodium channel\n",
    "        self.na = braincell.ion.SodiumFixed(size)\n",
    "        self.na.add(INa=braincell.channel.INa_Ba2002(size, V_sh=-40 * u.mV))\n",
    "\n",
    "        # Potassium channel\n",
    "        self.k = braincell.ion.PotassiumFixed(size, E=-90. * u.mV)\n",
    "        self.k.add(IDR=braincell.channel.IKDR_Ba2002(size, V_sh=-40 * u.mV, phi=0.25))  # Gating shift\n",
    "        self.k.add(IKL=braincell.channel.IK_Leak(size, g_max=gKL))\n",
    "\n",
    "        # Calcium channel\n",
    "        self.ca = braincell.ion.CalciumDetailed(size, C_rest=5e-5 * u.mM, tau=10. * u.ms, d=0.5 * u.um)\n",
    "        self.ca.add(ICaL=braincell.channel.ICaL_IS2008(size, g_max=0.3 * (u.mS / u.cm** 2)))\n",
    "        self.ca.add(ICaN=braincell.channel.ICaN_IS2008(size, g_max=0.6 * (u.mS / u.cm **2)))\n",
    "        self.ca.add(ICaT=braincell.channel.ICaT_HM1992(size, g_max=2.1 * (u.mS / u.cm** 2)))\n",
    "        self.ca.add(ICaHT=braincell.channel.ICaHT_HM1992(size, g_max=0.6 * (u.mS / u.cm **2)))\n",
    "\n",
    "        # Calcium-activated potassium channel (IAHP)\n",
    "        self.kca = braincell.MixIons(self.k, self.ca)\n",
    "        self.kca.add(IAHP=braincell.channel.IAHP_De1994(size, g_max=0.1 * (u.mS / u.cm** 2)))\n",
    "\n",
    "        # Ih and IL currents\n",
    "        self.Ih = braincell.channel.Ih_HM1992(size, g_max=0.01 * (u.mS / u.cm **2), E=-43 * u.mV)\n",
    "        self.IL = braincell.channel.IL(size, g_max=0.0075 * (u.mS / u.cm** 2), E=-70 * u.mV)\n"
   ],
   "id": "d1145a1a4b5adb37",
   "outputs": [],
   "execution_count": 25
  },
  {
   "metadata": {},
   "cell_type": "markdown",
   "source": "#### IN",
   "id": "17c464d4af82fcbb"
  },
  {
   "metadata": {
    "ExecuteTime": {
     "end_time": "2025-10-13T09:25:02.181844Z",
     "start_time": "2025-10-13T09:25:02.177974Z"
    }
   },
   "cell_type": "code",
   "source": [
    "class IN(ThalamusNeuron):\n",
    "    def __init__(\n",
    "        self,\n",
    "        size,\n",
    "        gKL=0.01 * (u.mS / u.cm **2),\n",
    "        V_initializer=braintools.init.Constant(-70. * u.mV),  # More hyperpolarized initial membrane potential\n",
    "        solver: str = 'ind_exp_euler'\n",
    "    ):\n",
    "        super().__init__(size, V_initializer=V_initializer, V_th=20. * u.mV, solver=solver)\n",
    "\n",
    "        self.area = 1e-3 / (1.7e-4 * u.cm** 2)\n",
    "\n",
    "        # Sodium channel\n",
    "        self.na = braincell.ion.SodiumFixed(size)\n",
    "        self.na.add(INa=braincell.channel.INa_Ba2002(size, V_sh=-30 * u.mV))\n",
    "\n",
    "        # Potassium channel\n",
    "        self.k = braincell.ion.PotassiumFixed(size, E=-90. * u.mV)\n",
    "        self.k.add(IDR=braincell.channel.IKDR_Ba2002(size, V_sh=-30 * u.mV, phi=0.25))\n",
    "        self.k.add(IKL=braincell.channel.IK_Leak(size, g_max=gKL))\n",
    "\n",
    "        # Calcium channel\n",
    "        self.ca = braincell.ion.CalciumDetailed(size, C_rest=5e-5 * u.mM, tau=10. * u.ms, d=0.5 * u.um)\n",
    "        self.ca.add(ICaN=braincell.channel.ICaN_IS2008(size, g_max=0.1 * (u.mS / u.cm **2)))\n",
    "        self.ca.add(ICaHT=braincell.channel.ICaHT_HM1992(size, g_max=2.5 * (u.mS / u.cm** 2)))\n",
    "\n",
    "        # Calcium-activated potassium channel (IAHP)\n",
    "        self.kca = braincell.MixIons(self.k, self.ca)\n",
    "        self.kca.add(IAHP=braincell.channel.IAHP_De1994(size, g_max=0.2 * (u.mS / u.cm **2)))\n",
    "\n",
    "        # Leak (IL) and hyperpolarization-activated current (Ih)\n",
    "        self.IL = braincell.channel.IL(size, g_max=0.0075 * (u.mS / u.cm** 2), E=-60 * u.mV)\n",
    "        self.Ih = braincell.channel.Ih_HM1992(size, g_max=0.05 * (u.mS / u.cm **2), E=-43 * u.mV)\n"
   ],
   "id": "b8848c7317a31960",
   "outputs": [],
   "execution_count": 26
  },
  {
   "metadata": {},
   "cell_type": "markdown",
   "source": "#### TRN",
   "id": "8de99a6ba6eced59"
  },
  {
   "metadata": {
    "ExecuteTime": {
     "end_time": "2025-10-13T09:25:02.197006Z",
     "start_time": "2025-10-13T09:25:02.192835Z"
    }
   },
   "cell_type": "code",
   "source": [
    "class TRN(ThalamusNeuron):\n",
    "    def __init__(\n",
    "        self,\n",
    "        size,\n",
    "        gKL=0.01 * (u.mS / u.cm** 2),\n",
    "        V_initializer=braintools.init.Constant(-70. * u.mV),\n",
    "        gl=0.0075,  # Leak conductance coefficient\n",
    "        solver: str = 'ind_exp_euler'\n",
    "    ):\n",
    "        super().__init__(size, V_initializer=V_initializer, V_th=20. * u.mV, solver=solver)\n",
    "\n",
    "        self.area = 1e-3 / (1.43e-4 * u.cm **2)\n",
    "\n",
    "        # Sodium channel\n",
    "        self.na = braincell.ion.SodiumFixed(size)\n",
    "        self.na.add(INa=braincell.channel.INa_Ba2002(size, V_sh=-40 * u.mV))\n",
    "\n",
    "        # Potassium channel\n",
    "        self.k = braincell.ion.PotassiumFixed(size, E=-90. * u.mV)\n",
    "        self.k.add(IDR=braincell.channel.IKDR_Ba2002(size, V_sh=-40 * u.mV))\n",
    "        self.k.add(IKL=braincell.channel.IK_Leak(size, g_max=gKL))\n",
    "\n",
    "        # Calcium channel\n",
    "        self.ca = braincell.ion.CalciumDetailed(size, C_rest=5e-5 * u.mM, tau=100. * u.ms, d=0.5 * u.um)\n",
    "        self.ca.add(ICaN=braincell.channel.ICaN_IS2008(size, g_max=0.2 * (u.mS / u.cm** 2)))\n",
    "        self.ca.add(ICaT=braincell.channel.ICaT_HP1992(size, g_max=1.3 * (u.mS / u.cm **2)))\n",
    "\n",
    "        # Calcium-activated potassium channel (IAHP)\n",
    "        self.kca = braincell.MixIons(self.k, self.ca)\n",
    "        self.kca.add(IAHP=braincell.channel.IAHP_De1994(size, g_max=0.2 * (u.mS / u.cm** 2)))\n",
    "\n",
    "        # Leak current (IL)\n",
    "        self.IL = braincell.channel.IL(size, g_max=gl * (u.mS / u.cm **2), E=-60 * u.mV)\n"
   ],
   "id": "4d459cf6562f41f3",
   "outputs": [],
   "execution_count": 27
  },
  {
   "metadata": {},
   "cell_type": "markdown",
   "source": [
    "### Simulating Thalamic Neuron Electrical Activity\n",
    "\n",
    "Define the `try_trn_neuron` function to set input currents, simulation parameters, run the simulation, and visualize the results:\n"
   ],
   "id": "b5405d5120eedd72"
  },
  {
   "metadata": {
    "ExecuteTime": {
     "end_time": "2025-10-13T09:25:03.733730Z",
     "start_time": "2025-10-13T09:25:02.225284Z"
    }
   },
   "cell_type": "code",
   "source": [
    "def try_trn_neuron():\n",
    "    # Set the simulation time step\n",
    "    brainstate.environ.set(dt=0.02 * u.ms)\n",
    "\n",
    "    # Generate stepwise input current\n",
    "    I = braintools.input.section(\n",
    "        values=[0, 0.05, 0],  # Current amplitudes\n",
    "        durations=[50 * u.ms, 200 * u.ms, 100 * u.ms]  # Duration of each segment\n",
    "    ) * u.uA\n",
    "\n",
    "    # Generate simulation time series\n",
    "    times = u.math.arange(I.shape[0]) * brainstate.environ.get_dt()\n",
    "\n",
    "    # Select the neuron type to simulate (HTC here; can be replaced with RTC, IN, TRN)\n",
    "    neu = HTC(1, solver='ind_exp_euler')  # Use independent exponential Euler method\n",
    "    neu.init_state()  # Initialize neuron state\n",
    "\n",
    "    # Run the simulation and record elapsed time\n",
    "    t0 = time.time()\n",
    "    vs = brainstate.transform.for_loop(neu.step_run, times, I)  # Loop to update neuron state\n",
    "    t1 = time.time()\n",
    "    print(f\"Simulation elapsed time: {t1 - t0:.4f} seconds\")  # Output computation time\n",
    "\n",
    "    # Visualize membrane potential changes\n",
    "    plt.plot(\n",
    "        times.to_decimal(u.ms),  # x-axis: time\n",
    "        u.math.squeeze(vs.to_decimal(u.mV))  # y-axis: membrane potential\n",
    "    )\n",
    "    plt.xlabel('Time (ms)')\n",
    "    plt.ylabel('Membrane Potential (mV)')\n",
    "    plt.title('HTC neuron response to step current')\n",
    "    plt.show()\n",
    "\n",
    "\n",
    "# Execute the simulation\n",
    "if __name__ == '__main__':\n",
    "    try_trn_neuron()\n"
   ],
   "id": "5b1dff1ed3d6567c",
   "outputs": [
    {
     "name": "stdout",
     "output_type": "stream",
     "text": [
      "Simulation elapsed time: 1.4482 seconds\n"
     ]
    },
    {
     "data": {
      "text/plain": [
       "<Figure size 640x480 with 1 Axes>"
      ],
      "image/png": "[encoded data removed]"
     },
     "metadata": {},
     "output_type": "display_data"
    }
   ],
   "execution_count": 28
  },
  {
   "metadata": {},
   "cell_type": "markdown",
   "source": [
    "## Results Interpretation\n",
    "\n",
    "After running the code, you will obtain the membrane potential trace of an HTC neuron under step current stimulation. Typical characteristics are as follows:\n",
    "\n",
    "- 0–50 ms (no current): The neuron remains at rest, with a stable membrane potential around -65 mV, maintained by the balance of leak current and Ih current.\n",
    "\n",
    "- 50–250 ms (0.05 uA current injection):\n",
    "   - The injected current depolarizes the membrane, reaching threshold and triggering action potentials.\n",
    "   - Due to the involvement of T-type calcium channels and IAHP currents, burst firing may occur, which is a hallmark of thalamic neurons participating in rhythmic oscillations.\n",
    "\n",
    "- 250–350 ms (current off):\n",
    "   - The membrane potential gradually returns to the resting level, but afterhyperpolarization may appear due to the sustained action of calcium-activated potassium channels.\n",
    "\n",
    "## Extended Exercises\n",
    "\n",
    "- Replace the neuron type, e.g., `neu = TRN(1)`, to compare how TRN and HTC neurons respond to the same current.\n",
    "- Modify the conductance of T-type calcium channels, e.g., `ICaT_HM1992(g_max=1.0 * ...)`, to observe its effect on burst firing.\n",
    "- Extend the simulation time and analyze the spontaneous rhythmic activity of different thalamic neuron types.\n",
    "\n",
    "Through these exercises, you will gain a deeper understanding of thalamic neuron electrophysiological properties and their role in regulating brain rhythms.\n"
   ],
   "id": "9f34a308cd614c8c"
  }
 ],
 "metadata": {
  "kernelspec": {
   "display_name": "Python 3",
   "language": "python",
   "name": "python3"
  },
  "language_info": {
   "codemirror_mode": {
    "name": "ipython",
    "version": 2
   },
   "file_extension": ".py",
   "mimetype": "text/x-python",
   "name": "python",
   "nbconvert_exporter": "python",
   "pygments_lexer": "ipython2",
   "version": "2.7.6"
  }
 },
 "nbformat": 4,
 "nbformat_minor": 5
}

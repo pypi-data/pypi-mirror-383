{
 "cells": [
  {
   "metadata": {},
   "cell_type": "markdown",
   "source": [
    "# More\n",
    "\n",
    "It is not difficult to see from our tutorial that `braincell` is actually closely integrated with `brainstate` and other components of the [brain modeling ecosystem](https://ecosystem-for-brain-dynamics.readthedocs.io/).\n",
    "The general brain modeling ecosystem we are building has evolved from our previous project [BrainPy](https://github.com/brainpy/BrainPy).\n",
    "\n",
    "This ecosystem is a collection of tools, libraries, and frameworks for constructing brain dynamics models and related applications. The ecosystem is modularly designed, so you can flexibly use some or all of its features according to your needs.\n",
    "\n",
    "If you want to learn more deeply about computational neuroscience modeling, you can read [*Practical Computational Neuroscience Modeling: Based on BrainPy*](https://brainmodeling.readthedocs.io/book.html).\n",
    "\n",
    "We warmly welcome community contributions. If you have ideas for new tools or libraries, please let us know! You can contact us via email: [chao.brain@qq.com](mailto:chao.brain@qq.com).\n",
    "\n",
    "Also, if `braincell` or other components of the [brain modeling ecosystem](https://brain-modeling.readthedocs.io/) have played an important role in your research and you wish to acknowledge the project, you can refer to the [citation information](https://brain-modeling.readthedocs.io/citation.html) to find relevant papers and project references."
   ],
   "id": "241529d13043868e"
  }
 ],
 "metadata": {
  "kernelspec": {
   "display_name": "Python 3",
   "language": "python",
   "name": "python3"
  },
  "language_info": {
   "codemirror_mode": {
    "name": "ipython",
    "version": 2
   },
   "file_extension": ".py",
   "mimetype": "text/x-python",
   "name": "python",
   "nbconvert_exporter": "python",
   "pygments_lexer": "ipython2",
   "version": "2.7.6"
  }
 },
 "nbformat": 4,
 "nbformat_minor": 5
}

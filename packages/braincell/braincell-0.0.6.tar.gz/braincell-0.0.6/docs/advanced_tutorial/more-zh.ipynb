{
 "cells": [
  {
   "metadata": {},
   "cell_type": "markdown",
   "source": [
    "# 更多\n",
    "\n",
    "不难从我们的教程看出，`braincell` 实际上是和 `brainstate` 及其他 [大脑建模生态系统](https://ecosystem-for-brain-dynamics.readthedocs.io/) 中的板块紧密相连的。\n",
    "我们正在构建的这个通用大脑建模生态系统，它是在我们之前的项目 [BrainPy](https://github.com/brainpy/BrainPy) 基础上发展而来的。\n",
    "\n",
    "该生态系统是一系列工具、库和框架的集合，可用于构建大脑动力学模型和相关应用。这个大脑建模生态系统采用模块化设计，因此你可以根据需要灵活使用其中的部分或全部功能。\n",
    "\n",
    "如果你想对神经计算建模进行更为深入的学习，可以阅读[《神经计算建模实战：基于BrainPy》](https://brainmodeling.readthedocs.io/book.html)一书。\n",
    "\n",
    "我们非常欢迎社区的贡献，如果您有关于新工具或库的想法，请告诉我们！请通过以下邮箱联系我们：[chao.brain@qq.com](mailto:chao.brain@qq.com)。\n",
    "\n",
    "同时，如果 [大脑建模生态系统](https://brain-modeling.readthedocs.io/) 中的 `braincell` 或其他板块在你的研究中发挥了重要作用，并且你希望承认该项目，你可以查看[引用信息](https://brain-modeling.readthedocs.io/citation.html)来获取相关论文与项目信息。"
   ],
   "id": "368b36e77d98bb56"
  }
 ],
 "metadata": {
  "kernelspec": {
   "display_name": "Python 3",
   "language": "python",
   "name": "python3"
  },
  "language_info": {
   "codemirror_mode": {
    "name": "ipython",
    "version": 2
   },
   "file_extension": ".py",
   "mimetype": "text/x-python",
   "name": "python",
   "nbconvert_exporter": "python",
   "pygments_lexer": "ipython2",
   "version": "2.7.6"
  }
 },
 "nbformat": 4,
 "nbformat_minor": 5
}

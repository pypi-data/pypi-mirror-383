{
 "cells": [
  {
   "metadata": {},
   "cell_type": "markdown",
   "source": [
    "# 微分方程\n",
    "\n",
    "在 `braincell` 中，我们经常需要定义随时间变化的状态，例如膜电位、门控变量、浓度等。这些状态的演化通常由微分方程决定。\n",
    "\n",
    "为了统一地描述这类动态状态，`braincell` 提供了两个非常重要的基础构件：\n",
    "\n",
    "- `DiffEqState`：用于定义具有导数和扩散项的动态状态变量。\n",
    "- `DiffEqModule`：用于构建实现微分方程所需的核心接口。\n",
    "\n",
    "借助 `DiffEqState` 和 `DiffEqModule`，我们可以清晰、模块化地表达各种微分方程系统，将电生理学机制转换为数值可计算的模型结构，是构建神经动力学模型的关键工具。\n",
    "\n",
    "下面我们分别介绍这两个模块的用途与使用方式。\n",
    "\n",
    "## DiffEqState\n",
    "\n",
    "`DiffEqState` 是所有基于微分方程演化的状态变量的通用实现，继承自 `brainstate.ShortTermState`。\n",
    "\n",
    "你可以在微分方程模块中对其导数和扩散项进行更新，框架会自动处理积分等步骤。\n",
    "\n",
    "## DiffEqModule\n",
    "\n",
    "`DiffEqModule` 是一个 `mixin` 类，为模块提供微分方程建模接口。\n",
    "\n",
    "\n"
   ],
   "id": "baf1b1e2008c7f52"
  },
  {
   "metadata": {},
   "cell_type": "code",
   "outputs": [],
   "execution_count": null,
   "source": "",
   "id": "753a1245035476ed"
  }
 ],
 "metadata": {
  "kernelspec": {
   "display_name": "Python 3",
   "language": "python",
   "name": "python3"
  },
  "language_info": {
   "codemirror_mode": {
    "name": "ipython",
    "version": 2
   },
   "file_extension": ".py",
   "mimetype": "text/x-python",
   "name": "python",
   "nbconvert_exporter": "python",
   "pygments_lexer": "ipython2",
   "version": "2.7.6"
  }
 },
 "nbformat": 4,
 "nbformat_minor": 5
}

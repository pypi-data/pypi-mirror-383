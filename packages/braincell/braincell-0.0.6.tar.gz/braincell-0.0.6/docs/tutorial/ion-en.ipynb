{
 "cells": [
  {
   "metadata": {},
   "cell_type": "markdown",
   "source": [
    "# Ions\n",
    "\n",
    "In `braincell`, ions are divided into the following three base classes:\n",
    "\n",
    "* `Calcium`: calcium ions\n",
    "* `Potassium`: potassium ions\n",
    "* `Sodium`: sodium ions\n",
    "\n",
    "## Using Existing Ions\n",
    "\n",
    "First, let's explain how to use the existing ions.\n",
    "\n",
    "In practice, calling models related to these ions is very straightforward.\n",
    "\n",
    "### Ion Usage\n",
    "\n",
    "Similarly, let's look at an example of modeling an HH neuron:"
   ],
   "id": "f1a90ffb529e63f7"
  },
  {
   "cell_type": "code",
   "id": "initial_id",
   "metadata": {
    "collapsed": true,
    "ExecuteTime": {
     "end_time": "2025-10-13T09:22:19.925460Z",
     "start_time": "2025-10-13T09:22:19.921939Z"
    }
   },
   "source": [
    "import braincell\n",
    "\n",
    "class HH(braincell.SingleCompartment):\n",
    "    def __init__(self, in_size):\n",
    "        super().__init__(in_size, C=Cm, solver='ind_exp_euler')\n",
    "        self.na = braincell.ion.SodiumFixed(in_size, E=50. * u.mV)\n",
    "        self.na.add_elem(\n",
    "            INa=braincell.channel.INa_TM1991(in_size, g_max=(100. * u.mS * u.cm ** -2) * area, V_sh=-63. * u.mV)\n",
    "        )\n",
    "\n",
    "        self.k = braincell.ion.PotassiumFixed(in_size, E=-90 * u.mV)\n",
    "        self.k.add_elem(\n",
    "            IK=braincell.channel.IK_TM1991(in_size, g_max=(30. * u.mS * u.cm ** -2) * area, V_sh=-63. * u.mV)\n",
    "        )\n",
    "\n",
    "        self.IL = braincell.channel.IL(in_size, E=-60. * u.mV, g_max=(5. * u.nS * u.cm ** -2) * area)"
   ],
   "outputs": [],
   "execution_count": 12
  },
  {
   "metadata": {},
   "cell_type": "markdown",
   "source": [
    "First, after importing the relevant modules, we need to create specific model objects in the `__init__` method.\n",
    "\n",
    "Here, using sodium ion `na` as an example, we use `SodiumDetailed` to create a calcium ion model.\n",
    "We only need to set the parameters of `SodiumDetailed` according to definitions in the literature or the actual scenario.\n",
    "\n",
    "As you can see, using pre-modeled ion models is very simple—just a straightforward call is enough.\n",
    "\n",
    "Similarly, we can perform simple simulations by calling a specific `Ion` type.\n",
    "For example, we can use `CalciumDetailed` to simulate the dynamic changes of intracellular calcium reversal potential over time.\n"
   ],
   "id": "137002470ab57229"
  },
  {
   "metadata": {
    "ExecuteTime": {
     "end_time": "2025-10-13T09:22:19.942971Z",
     "start_time": "2025-10-13T09:22:19.935553Z"
    }
   },
   "cell_type": "code",
   "source": [
    "import matplotlib.pyplot as plt\n",
    "import brainstate\n",
    "import braintools\n",
    "import braincell\n",
    "import brainunit as u"
   ],
   "id": "414a59c96a7ce4d4",
   "outputs": [],
   "execution_count": 13
  },
  {
   "metadata": {
    "ExecuteTime": {
     "end_time": "2025-10-13T09:22:20.425991Z",
     "start_time": "2025-10-13T09:22:20.422678Z"
    }
   },
   "cell_type": "code",
   "source": [
    "ca = braincell.ion.CalciumDetailed(size=1)\n",
    "V = -65 * u.mV\n",
    "ca.init_state(V)\n",
    "\n",
    "dt = 0.1 * u.ms\n",
    "steps = 1000"
   ],
   "id": "5ed669db087f2647",
   "outputs": [],
   "execution_count": 14
  },
  {
   "metadata": {
    "ExecuteTime": {
     "end_time": "2025-10-13T09:22:20.763240Z",
     "start_time": "2025-10-13T09:22:20.680978Z"
    }
   },
   "cell_type": "code",
   "source": [
    "def run_calcium(i):\n",
    "    t = i * dt\n",
    "    with brainstate.environ.context(i=i, t=t, dt=dt):\n",
    "        # Inward Currents\n",
    "        input_current = -0.1 * u.uA / u.cm**2\n",
    "        ca.C.derivative = input_current / (2 * u.faraday_constant * ca.d) + (ca.C_rest - ca.C.value) / ca.tau\n",
    "        ca.C.value = ca.C.value + ca.C.derivative * dt\n",
    "    return ca.E\n",
    "\n",
    "indices = u.math.arange(steps)\n",
    "E = brainstate.transform.for_loop(run_calcium, indices)\n",
    "\n",
    "plt.plot(indices * dt, E)\n",
    "plt.xlabel('Time (ms)')\n",
    "plt.ylabel('E (mV)')\n",
    "plt.title('Calcium Reversal Potential')\n",
    "plt.show()\n"
   ],
   "id": "3c313dae2eec7b72",
   "outputs": [
    {
     "data": {
      "text/plain": [
       "<Figure size 640x480 with 1 Axes>"
      ],
      "image/png": "[encoded data removed]"
     },
     "metadata": {},
     "output_type": "display_data"
    }
   ],
   "execution_count": 15
  },
  {
   "metadata": {},
   "cell_type": "markdown",
   "source": [
    "### MixIons Usage\n",
    "\n",
    "In some complex models, a single channel may involve the cooperative action of multiple ions. For example, certain calcium-activated potassium channels depend both on calcium concentration and membrane potential to regulate potassium efflux. Such multi-ion dependent mechanisms are very common in biological systems.\n",
    "\n",
    "To address this, `braincell` provides a specialized module called `MixIons` for modeling composite channel systems driven by multiple ions.\n",
    "\n",
    "`MixIons` inherits from `IonChannel` and `Container`, conforms to the channel component interface, and can host multiple submodules, making it convenient to manage multiple `Channel` objects. Similarly, `MixIons` supports the interfaces we discussed earlier.\n",
    "\n",
    "In summary, `MixIons` provides a modular way to combine multiple `Ion` objects and multiple `Channel` objects, making it particularly suitable for channels that depend on multiple ion states or for integrating multiple channel currents in a model. With `MixIons`, you can build more flexible and precise neuronal dynamics models while maintaining clean and maintainable code structure.\n",
    "\n",
    "Let's look at an example of using `MixIons` in practical modeling:\n"
   ],
   "id": "cd4e450c431b71fb"
  },
  {
   "metadata": {
    "ExecuteTime": {
     "end_time": "2025-10-13T09:22:21.005283Z",
     "start_time": "2025-10-13T09:22:21.001194Z"
    }
   },
   "cell_type": "code",
   "source": [
    "class HTC(braincell.SingleCompartment):\n",
    "    def __init__(\n",
    "        self,\n",
    "        size,\n",
    "        gKL=0.01 * (u.mS / u.cm ** 2),\n",
    "        V_initializer=braintools.init.Constant(-65. * u.mV),\n",
    "        solver: str = 'ind_exp_euler'\n",
    "    ):\n",
    "        super().__init__(size, V_initializer=V_initializer, V_th=20. * u.mV, solver=solver)\n",
    "\n",
    "        self.area = 1e-3 / (2.9e-4 * u.cm ** 2)\n",
    "\n",
    "        self.k = braincell.ion.PotassiumFixed(size, E=-90. * u.mV)\n",
    "        self.k.add(IKL=braincell.channel.IK_Leak(size, g_max=gKL))\n",
    "        self.k.add(IDR=braincell.channel.IKDR_Ba2002(size, V_sh=-30. * u.mV, phi=0.25))\n",
    "\n",
    "        self.ca = braincell.ion.CalciumDetailed(size, C_rest=5e-5 * u.mM, tau=10. * u.ms, d=0.5 * u.um)\n",
    "        self.ca.add(ICaL=braincell.channel.ICaL_IS2008(size, g_max=0.5 * (u.mS / u.cm ** 2)))\n",
    "        self.ca.add(ICaN=braincell.channel.ICaN_IS2008(size, g_max=0.5 * (u.mS / u.cm ** 2)))\n",
    "        self.ca.add(ICaT=braincell.channel.ICaT_HM1992(size, g_max=2.1 * (u.mS / u.cm ** 2)))\n",
    "        self.ca.add(ICaHT=braincell.channel.ICaHT_HM1992(size, g_max=3.0 * (u.mS / u.cm ** 2)))\n",
    "\n",
    "        self.kca = braincell.MixIons(self.k, self.ca)\n",
    "        self.kca.add(IAHP=braincell.channel.IAHP_De1994(size, g_max=0.3 * (u.mS / u.cm ** 2)))"
   ],
   "id": "64d8c617c2ad13d9",
   "outputs": [],
   "execution_count": 16
  },
  {
   "metadata": {},
   "cell_type": "markdown",
   "source": [
    "In this example, other ions and their associated channels are omitted, and we focus on modeling the mixed ions.\n",
    "\n",
    "If integration with other ions is needed, such as the `kca` mixed-ion example, you can simply use a mixed-ion pool with `MixIons(self.k, self.ca)`.\n",
    "\n",
    "Here, it is important to note that the order of ions passed in matters. For example:\n"
   ],
   "id": "454f2fbcc7e563b"
  },
  {
   "metadata": {
    "ExecuteTime": {
     "end_time": "2025-10-13T09:22:21.250683Z",
     "start_time": "2025-10-13T09:22:21.247357Z"
    }
   },
   "cell_type": "code",
   "source": "braincell.channel.IAHP_De1994.root_type",
   "id": "59c732117fe042d1",
   "outputs": [
    {
     "data": {
      "text/plain": [
       "JointTypes[braincell.ion.Potassium, braincell.ion.Calcium]"
      ]
     },
     "execution_count": 17,
     "metadata": {},
     "output_type": "execute_result"
    }
   ],
   "execution_count": 17
  },
  {
   "metadata": {},
   "cell_type": "markdown",
   "source": [
    "You can see that for a `channel` like `IAHP_De1994`, which involves multiple ions, the order of the two `Ion` types in its `root_type` matters.\n",
    "Thus, when passing ions to `MixIons`, the order must match exactly. For example, for `IAHP_De1994`, you must pass `(self.k, self.ca)` and not `(self.ca, self.k)` to avoid modeling errors caused by mismatched ion types.\n",
    "\n",
    "In summary, as long as you have models for all the ions you want to integrate, like `k` and `ca` in this example, you can easily use `MixIons` to combine them.\n",
    "\n",
    "---\n",
    "\n",
    "## Custom Ion Modeling\n",
    "\n",
    "In practical modeling, the built-in ion types (`Ca`, `K`, `Na`) may not be sufficient. You might need to model other ions like `Cl` or require more detailed control over existing ions.\n",
    "Here, we will explain how to perform custom ion modeling.\n",
    "\n",
    "### Ion Modeling\n",
    "\n",
    "From a physiological perspective, ions pass through the membrane selectively via channels. In programming, this dependency is reflected in the inheritance structure: `Ion` inherits from both `IonChannel` and `Container`. This means an `Ion` both provides channel interfaces and can contain multiple submodules.\n",
    "\n",
    "In a simulation system, an `Ion` is attached to a `HHTypedNeuron` cell and, together with the membrane potential, drives the evolution of channels.\n",
    "\n",
    "In `braincell`, `Ion` is an abstract entity for managing a specific type of ion. It does **not directly produce current**; instead, it organizes and orchestrates multiple `Channel` objects that carry the actual ionic currents. Each ion type corresponds to an `Ion` instance that acts as a container and control center for its associated channels, ensuring unified management.\n",
    "\n",
    "`Ion` provides a set of simulation interfaces to manage its state evolution. Modeling ions this way allows for modular code structure and centralized management of all channels related to a particular ion. It also enables easy component reuse, improving efficiency.\n",
    "\n",
    "During modeling, we often need to share key properties of ions, such as concentration and reversal potential, across multiple channels or functions. To handle this efficiently, `braincell` introduces a dedicated data structure: `IonInfo`.\n",
    "\n",
    "`IonInfo` has two key attributes:\n",
    "\n",
    "* `C` : Ion concentration\n",
    "* `E` : Reversal potential\n",
    "\n",
    "`IonInfo` acts as a lightweight container to manage and pass ion-related information, bridging `Ion` and `Channel` objects. It is a simple yet powerful mechanism for information flow in the simulation framework.\n",
    "\n",
    "With this understanding, we are ready to model specific ions. Let’s take calcium as an example:\n"
   ],
   "id": "55a223ff1e133b74"
  },
  {
   "metadata": {
    "ExecuteTime": {
     "end_time": "2025-10-13T09:22:21.500839Z",
     "start_time": "2025-10-13T09:22:21.498552Z"
    }
   },
   "cell_type": "code",
   "source": [
    "from typing import Union, Callable, Optional\n",
    "from braincell.ion import Calcium"
   ],
   "id": "2d66fa50f41606e9",
   "outputs": [],
   "execution_count": 18
  },
  {
   "metadata": {
    "ExecuteTime": {
     "end_time": "2025-10-13T09:22:21.520062Z",
     "start_time": "2025-10-13T09:22:21.516969Z"
    }
   },
   "cell_type": "code",
   "source": [
    "class CalciumFixed(Calcium):\n",
    "\n",
    "    __module__ = 'braincell.ion'\n",
    "\n",
    "    def __init__(\n",
    "        self,\n",
    "        size: brainstate.typing.Size,\n",
    "        E: Union[brainstate.typing.ArrayLike, Callable] = 120. * u.mV,\n",
    "        C: Union[brainstate.typing.ArrayLike, Callable] = 2.4e-4 * u.mM,\n",
    "        name: Optional[str] = None,\n",
    "        **channels\n",
    "    ):\n",
    "        super().__init__(size, name=name, **channels)\n",
    "        self.E = braintools.init.param(E, self.varshape, allow_none=False)\n",
    "        self.C = braintools.init.param(C, self.varshape, allow_none=False)\n",
    "\n",
    "    def reset_state(self, V, batch_size=None):\n",
    "        ca_info = self.pack_info()\n",
    "        nodes = brainstate.graph.nodes(self, Channel, allowed_hierarchy=(1, 1)).values()\n",
    "        self.check_hierarchies(type(self), *tuple(nodes))\n",
    "        for node in nodes:\n",
    "            node.reset_state(V, ca_info, batch_size=batch_size)"
   ],
   "id": "75f687fcef920649",
   "outputs": [],
   "execution_count": 19
  },
  {
   "metadata": {},
   "cell_type": "markdown",
   "source": [
    "We can very easily model `CalciumFixed`, which inherits from `Calcium` and implements a general-purpose calcium ion model.\n",
    "\n",
    "When modeling specific ions, you can follow the structure shown above. The most important part of defining a new ion is setting its key attributes, `E` (reversal potential) and `C` (concentration).\n",
    "\n",
    "Based on this, you can create custom ion models for any ions you need in your simulations.\n"
   ],
   "id": "9e0395401f12f8c1"
  },
  {
   "metadata": {},
   "cell_type": "markdown",
   "source": [
    "We continue using calcium as an example to further explain how to model more detailed dynamic ions, such as `CalciumDetailed`.\n",
    "\n",
    "The modeling of `CalciumDetailed` is based on the model proposed by Bazhenov in 1998. In this model, calcium dynamics can be simplified as a first-order linear differential equation:\n",
    "\n",
    "$$\n",
    "\\frac{d[Ca^{2+}]_i}{dt} = -\\frac{I_{Ca}}{z F d} + \\frac{[Ca^{2+}]_{\\text{rest}} - [Ca^{2+}]_i}{\\tau_{Ca}}\n",
    "$$\n",
    "\n",
    "We implement this differential equation in `braincell` as follows:\n"
   ],
   "id": "e65ba1a25de58471"
  },
  {
   "metadata": {
    "ExecuteTime": {
     "end_time": "2025-10-13T09:22:21.987990Z",
     "start_time": "2025-10-13T09:22:21.986184Z"
    }
   },
   "cell_type": "code",
   "source": [
    "from braincell.ion.calcium import _CalciumDynamics\n",
    "\n",
    "class CalciumDetailed(_CalciumDynamics):\n",
    "\n",
    "    __module__ = 'braincell.ion'"
   ],
   "id": "2bde16f4b3c497eb",
   "outputs": [],
   "execution_count": 20
  },
  {
   "metadata": {},
   "cell_type": "markdown",
   "source": [
    "In this model, the parameters are as follows:\n",
    "\n",
    "* $I_{Ca}$: total calcium current produced by all calcium channels\n",
    "* $d$: thickness of the submembrane shell ($1,\\mu\\mathrm{m}$)\n",
    "* $F$: Faraday constant\n",
    "* $\\tau_{Ca}$: calcium removal time constant\n",
    "* $[Ca^{2+}]_{\\text{rest}} = 0.05,\\mu\\mathrm{M}$\n",
    "\n",
    "Based on these, we define the corresponding parameters:\n"
   ],
   "id": "3b8e12746bc2da2b"
  },
  {
   "metadata": {
    "ExecuteTime": {
     "end_time": "2025-10-13T09:22:22.238183Z",
     "start_time": "2025-10-13T09:22:22.235022Z"
    }
   },
   "cell_type": "code",
   "source": [
    "    def __init__(\n",
    "        self,\n",
    "        size: brainstate.typing.Size,\n",
    "        T: Union[brainstate.typing.ArrayLike, Callable] = u.celsius2kelvin(36.),\n",
    "        d: Union[brainstate.typing.ArrayLike, Callable] = 1. * u.um,\n",
    "        tau: Union[brainstate.typing.ArrayLike, Callable] = 5. * u.ms,\n",
    "        C_rest: Union[brainstate.typing.ArrayLike, Callable] = 2.4e-4 * u.mM,\n",
    "        C0: Union[brainstate.typing.ArrayLike, Callable] = 2. * u.mM,\n",
    "        C_initializer: Union[brainstate.typing.ArrayLike, Callable] = braintools.init.Constant(2.4e-4 * u.mM),\n",
    "        name: Optional[str] = None,\n",
    "        **channels\n",
    "    ):\n",
    "        super().__init__(size, name=name, T=T, C0=C0, C_initializer=C_initializer, **channels)\n",
    "\n",
    "        # parameters\n",
    "        self.d = braintools.init.param(d, self.varshape, allow_none=False)\n",
    "        self.tau = braintools.init.param(tau, self.varshape, allow_none=False)\n",
    "        self.C_rest = braintools.init.param(C_rest, self.varshape, allow_none=False)"
   ],
   "id": "4e6173082f09f24d",
   "outputs": [],
   "execution_count": 21
  },
  {
   "metadata": {},
   "cell_type": "markdown",
   "source": [
    "Then, according to the relevant formula:\n",
    "\n",
    "$$\n",
    "\\frac{d[Ca^{2+}]_i}{dt} = -\\frac{I_{Ca}}{z F d} + \\frac{[Ca^{2+}]_{\\text{rest}} - [Ca^{2+}]_i}{\\tau_{Ca}}\n",
    "$$\n",
    "\n",
    "where $z = 2$, representing the valence of $\\mathrm{Ca^{2+}}$.\n"
   ],
   "id": "d82717ae891881b4"
  },
  {
   "metadata": {
    "ExecuteTime": {
     "end_time": "2025-10-13T09:22:22.248776Z",
     "start_time": "2025-10-13T09:22:22.246534Z"
    }
   },
   "cell_type": "code",
   "source": [
    "    def derivative(self, C, V):\n",
    "        ICa = self.current(V, include_external=True)\n",
    "        drive = ICa / (2 * u.faraday_constant * self.d)\n",
    "        drive = u.math.maximum(drive, u.math.zeros_like(drive))\n",
    "        return drive + (self.C_rest - C) / self.tau"
   ],
   "id": "49a7dd0dc2ecf5a5",
   "outputs": [],
   "execution_count": 22
  },
  {
   "metadata": {},
   "cell_type": "markdown",
   "source": [
    "At this point, we have completed the modeling of `CalciumDetailed`, implementing a classical dynamic calcium concentration model.\n",
    "\n",
    "`CalciumDetailed` inherits from the `_CalciumDynamics` base class, which itself is a subclass of `Calcium`. Through this inheritance hierarchy, we can understand the recommended conventions for ion modeling.\n",
    "\n",
    "In summary:\n",
    "\n",
    "* For general-purpose ions, such as `CalciumFixed`, modeling requires defining the key properties `E` (reversal potential) and `C` (concentration).\n",
    "* For more detailed ions, such as `CalciumDetailed`, modeling requires defining the dynamics according to the actual governing equations.\n",
    "\n",
    "Through this tutorial, you have learned how to model new ions in `braincell`.\n"
   ],
   "id": "aa9f87501530f76b"
  },
  {
   "metadata": {},
   "cell_type": "markdown",
   "source": [
    "## Existing Ion Instances\n",
    "\n",
    "Our existing ion models are also quite rich. The following is an introduction to the relevant ions.\n",
    "\n",
    "### Calcium\n",
    "\n",
    "In `braincell`, we extend the `Ion` class to model various specific types of ions. Here, we focus on the modeling approach for calcium ions (`Calcium`).\n",
    "\n",
    "Calcium ions play a crucial role in neurons, participating in action potential initiation, neurotransmitter release, and various calcium-dependent signaling pathways. Therefore, for different modeling needs, we provide multiple versions of calcium ion models:\n",
    "- `CalciumFixed`: calcium ion model with fixed concentration and reversal potential.\n",
    "- `CalciumDetailed`: detailed calcium dynamics model based on biophysical mechanisms.\n",
    "- `CalciumFirstOrder`: simplified first-order calcium dynamics model.\n",
    "\n",
    "Before understanding these different models, we first explain the base class `Calcium`.\n",
    "\n",
    "`Calcium` is the base class for all calcium ion models. It does not contain any specific dynamics itself and serves only as a semantic label, i.e., a calcium-specialized version of `Ion`, facilitating unified management and constraints for calcium ions.\n",
    "\n",
    "#### `CalciumFixed`\n",
    "\n",
    "`CalciumFixed` provides the simplest form of calcium modeling, assuming the calcium ion reversal potential `E` and concentration `C` are fixed and do not change over time.\n",
    "\n",
    "#### `CalciumDetailed`\n",
    "\n",
    "##### Intracellular Calcium Dynamics\n",
    "\n",
    "The changes in intracellular calcium concentration are primarily determined by two mechanisms:\n",
    "\n",
    "###### Influx through Calcium Currents\n",
    "\n",
    "Calcium ions enter the cell through calcium channels and diffuse into the interior. The model only considers the submembrane shell region's calcium concentration. The influx formula is:\n",
    "\n",
    "$$\n",
    "[Ca]_i = -\\frac{I_{Ca}}{2 F d}\n",
    "$$\n",
    "\n",
    "Where:\n",
    "- \\$F = 96489, \\mathrm{C/mol}\\$ is Faraday's constant\n",
    "- \\$d = 1, \\mu\\mathrm{m}\\$ is the thickness of the submembrane shell region\n",
    "- \\$I\\_{Ca}\\$ is the total current from all calcium channels\n",
    "- \\$[Ca]_i\\$ is the intracellular calcium concentration\n",
    "\n",
    "###### Efflux via Calcium Pumps\n",
    "\n",
    "In the submembrane region, calcium removal occurs through binding to buffers, pump activity, diffusion, etc. Here, the model only considers pumps and uses the following kinetic reaction:\n",
    "\n",
    "$$\n",
    "\\mathrm{Ca^{2+}_i} + P \\underset{c_2}{\\overset{c_1}{\\rightleftharpoons}} \\mathrm{CaP} \\xrightarrow{c_3} P + \\mathrm{Ca^{2+}_0}\n",
    "$$\n",
    "\n",
    "Where:\n",
    "- \\$P\\$ represents the calcium pump\n",
    "- \\$\\mathrm{CaP}\\$ is the intermediate complex in the pump\n",
    "- \\$\\mathrm{Ca^{2+}_0}\\$ is the extracellular calcium concentration\n",
    "- \\$c\\_1\\$, \\$c\\_2\\$, \\$c\\_3\\$ are reaction rate constants\n",
    "\n",
    "Considering \\$c\\_3\\$ is very small, we can use the Michaelis-Menten approximation for the pump kinetics:\n",
    "\n",
    "$$\n",
    "\\frac{d[Ca^{2+}]_i}{dt} = -\\frac{K_T [Ca]_i}{[Ca]_i + K_d}\n",
    "$$\n",
    "\n",
    "Where:\n",
    "- \\$K\\_T = 10^{-4}, \\mathrm{mM/ms}\\$\n",
    "- \\$K\\_d = \\frac{c\\_2}{c\\_1} = 10^{-4}, \\mathrm{mM}\\$\n",
    "- \\$K\\_d\\$ is the calcium concentration at half-activation of the pump\n",
    "\n",
    "##### Simplified First-Order Model\n",
    "\n",
    "In the model proposed by Bazhenov in 1998, calcium dynamics can be simplified as a first-order linear differential equation:\n",
    "\n",
    "$$\n",
    "\\frac{d[Ca^{2+}]_i}{dt} = -\\frac{I_{Ca}}{z F d} + \\frac{[Ca^{2+}]_{\\text{rest}} - [Ca^{2+}]_i}{\\tau_{Ca}}\n",
    "$$\n",
    "\n",
    "Where:\n",
    "- \\$I\\_{Ca}\\$: total current from all calcium channels\n",
    "- \\$d\\$: thickness of the submembrane shell (1 μm)\n",
    "- \\$z = 2\\$: valence of \\$\\mathrm{Ca^{2+}}\\$\n",
    "- \\$F\\$: Faraday's constant\n",
    "- \\$\\tau_{Ca}\\$: calcium clearance time constant\n",
    "- \\$[Ca^{2+}]_{\\text{rest}} = 0.05 \\mu\\mathrm{M}\\$\n",
    "\n",
    "##### Calcium Reversal Potential\n",
    "\n",
    "The calcium reversal potential is given by the Nernst equation:\n",
    "\n",
    "$$\n",
    "E = \\frac{RT}{2F} \\log \\left( \\frac{[Ca^{2+}]_0}{[Ca^{2+}]_i} \\right)\n",
    "$$\n",
    "\n",
    "Where:\n",
    "- \\$R = 8.31441, \\mathrm{J/(mol\\cdot K)}\\$: gas constant\n",
    "- \\$T = 309.15, \\mathrm{K}\\$: absolute temperature (~36℃)\n",
    "- \\$F = 96489, \\mathrm{C/mol}\\$: Faraday's constant\n",
    "- \\$[Ca^{2+}]_0 = 2, \\mathrm{mM}\\$: extracellular calcium concentration\n",
    "\n",
    "#### `CalciumFirstOrder`\n",
    "\n",
    "This model uses a simple first-order differential equation to simulate calcium concentration changes:\n",
    "\n",
    "$$\n",
    " Ca' = -\\alpha I_{Ca} + -\\beta Ca\n",
    "$$\n",
    "\n",
    "At this point, we have fully understood the several built-in calcium ion models in `Calcium`.\n",
    "\n",
    "### Potassium\n",
    "\n",
    "For `Potassium`, we still extend the `Ion` class for modeling.\n",
    "\n",
    "Potassium ions are widely present in neurons, and their transmembrane flow is crucial for maintaining the resting membrane potential, repolarization of action potentials, and controlling neuronal excitability.\n",
    "\n",
    "`Potassium` is the base class for all potassium ion models. It inherits from `Ion` and is used for unified identification and organization of potassium ions. The class itself does not contain specific dynamics and serves only as an interface template. This class is mainly for structural and organizational purposes.\n",
    "\n",
    "If actual modeling is needed, we use `PotassiumFixed`.\n",
    "\n",
    "#### `PotassiumFixed`\n",
    "\n",
    "`PotassiumFixed` provides the most basic potassium modeling approach, assuming its concentration and reversal potential are fixed and do not change over time. This model is suitable for situations where intracellular potassium dynamics are not of interest, only the potassium current and constant reversal potential are needed.\n",
    "\n",
    "In `reset_state`, it packages `E` and `C` into an `IonInfo` object and passes it to all attached `Channel` submodules for subsequent current calculations.\n",
    "\n",
    "### Sodium\n",
    "\n",
    "Similar to other ion models, sodium ions in `braincell` are modeled by extending the `Ion` class.\n",
    "\n",
    "Sodium ions are core participants in action potential generation. Their inward flow leads to depolarization, which is a key mechanism for neuronal excitability and signal transmission.\n",
    "\n",
    "`Sodium` is the abstract base class for all sodium ion models. It inherits from `Ion` and is used to uniformly manage sodium ion instances and provide a consistent structural interface. The class itself does not implement any dynamics and serves only as an interface template.\n",
    "\n",
    "#### `SodiumFixed`\n",
    "\n",
    "`SodiumFixed` provides the simplest form of sodium modeling, assuming its concentration `C` and reversal potential `E` are fixed and do not change over time.\n",
    "\n",
    "This model is suitable for scenarios where only the magnitude of the sodium current is considered, and the time-dependent dynamics of sodium concentration are not required, commonly used in traditional Hodgkin-Huxley-type modeling.\n",
    "\n",
    "Similarly, in the `reset_state` method, the model packages its reversal potential `E` and concentration `C` into an `IonInfo` object and propagates it to all bound `Channel` submodules for current calculation.\n",
    "\n"
   ],
   "id": "f682ef891f71e607"
  }
 ],
 "metadata": {
  "kernelspec": {
   "display_name": "Python 3",
   "language": "python",
   "name": "python3"
  },
  "language_info": {
   "codemirror_mode": {
    "name": "ipython",
    "version": 2
   },
   "file_extension": ".py",
   "mimetype": "text/x-python",
   "name": "python",
   "nbconvert_exporter": "python",
   "pygments_lexer": "ipython2",
   "version": "2.7.6"
  }
 },
 "nbformat": 4,
 "nbformat_minor": 5
}

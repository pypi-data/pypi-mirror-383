{
 "cells": [
  {
   "cell_type": "markdown",
   "id": "3093ce39-84db-4b57-b0e5-6344d45cbe07",
   "metadata": {},
   "source": [
    "# Evaluation objects and pipelines"
   ]
  },
  {
   "cell_type": "code",
   "execution_count": 1,
   "id": "619f0778-2464-48f6-92ba-988ab70a92a2",
   "metadata": {},
   "outputs": [
    {
     "name": "stdout",
     "output_type": "stream",
     "text": [
      "Jupyter environment detected. Enabling Open3D WebVisualizer.\n",
      "[Open3D INFO] WebRTC GUI backend enabled.\n",
      "[Open3D INFO] WebRTCWindowSystem: HTTP handshake server disabled.\n"
     ]
    }
   ],
   "source": [
    "%load_ext autoreload\n",
    "%autoreload 2\n",
    "\n",
    "import open3d # open3d can occasionally cause issues during imports; importing it first can help alleviate that\n",
    "import numpy as np\n",
    "from rdkit import Chem\n",
    "from shepherd_score.conformer_generation import embed_conformer_from_smiles\n",
    "\n",
    "from shepherd_score.evaluations.evaluate import ConfEval, UnconditionalEvalPipeline\n",
    "from shepherd_score.evaluations.evaluate import ConsistencyEvalPipeline, ConditionalEvalPipeline"
   ]
  },
  {
   "cell_type": "markdown",
   "id": "adafaa9d-3539-41af-b9bf-49b1ade22b22",
   "metadata": {},
   "source": [
    "## Conformer evaluation base class"
   ]
  },
  {
   "cell_type": "markdown",
   "id": "32637760-1c3a-4858-b910-b9857c8379cf",
   "metadata": {},
   "source": [
    "The base class used to evaluate conformer validity and get 2D graph properties is `ConfEval`. Other evaluation classes (other than docking) inherit from `ConfEval` and the related pipelines utilize these objects. \n",
    "\n",
    "Let's run a small experiment where the MMFF94-relaxed molecule is the \"generated\" molecule -- represent it as an atomic point cloud."
   ]
  },
  {
   "cell_type": "code",
   "execution_count": 2,
   "id": "01fe312e-cbcd-41c5-9720-1b2da50855f5",
   "metadata": {},
   "outputs": [],
   "source": [
    "rdkit_mol = embed_conformer_from_smiles('c1Cc2ccc(Cl)cc2C(=O)c1c3cc(N1nnc2cc(C)c(Cl)cc2c1=O)ccc3', MMFF_optimize=True)\n",
    "\n",
    "# get the atomic numbers as an array and the positions of the atoms\n",
    "atoms = np.array([a.GetAtomicNum() for a in rdkit_mol.GetAtoms()])\n",
    "positions = rdkit_mol.GetConformer().GetPositions()"
   ]
  },
  {
   "cell_type": "code",
   "execution_count": 3,
   "id": "2ae04c94-b75a-45e2-9e1b-0bbce7fafcb2",
   "metadata": {},
   "outputs": [],
   "source": [
    "conf_eval = ConfEval(atoms, positions, solvent='water') # solvent = None if gas phase"
   ]
  },
  {
   "cell_type": "code",
   "execution_count": 4,
   "id": "8313145a-450d-4e1f-b423-8fa588869008",
   "metadata": {},
   "outputs": [
    {
     "data": {
      "text/plain": [
       "xyz_block                   46\\n\\nC -3.532 -1.388 1.036\\nC -4.779 -0.713 1...\n",
       "mol                          <rdkit.Chem.rdchem.Mol object at 0x145c44717290>\n",
       "smiles                      Cc1cc2nnn(-c3cccc(C4=CCc5ccc(Cl)cc5C4=O)c3)c(=...\n",
       "molblock                    \\n     RDKit          3D\\n\\n 46 50  0  0  0  0...\n",
       "energy                                                             -85.047816\n",
       "partial_charges             [-0.01924502, -0.08763144, 0.02359121, -0.0418...\n",
       "solvent                                                                 water\n",
       "charge                                                                      0\n",
       "xyz_block_post_opt          46\\n\\nC           -3.75184451948461       -1.5...\n",
       "mol_post_opt                 <rdkit.Chem.rdchem.Mol object at 0x145c445a2b20>\n",
       "smiles_post_opt             Cc1cc2nnn(-c3cccc(C4=CCc5ccc(Cl)cc5C4=O)c3)c(=...\n",
       "molblock_post_opt           \\n     RDKit          3D\\n\\n 46 50  0  0  0  0...\n",
       "energy_post_opt                                                    -85.063889\n",
       "partial_charges_post_opt    [-0.01744142, -0.08851187, 0.02560457, -0.0409...\n",
       "is_valid                                                                 True\n",
       "is_valid_post_opt                                                        True\n",
       "is_graph_consistent                                                      True\n",
       "SA_score                                                             2.746132\n",
       "QED                                                                  0.422032\n",
       "logP                                                                  5.21832\n",
       "fsp3                                                                 0.083333\n",
       "morgan_fp                   [0, 0, 0, 0, 0, 0, 0, 0, 0, 0, 0, 0, 0, 0, 0, ...\n",
       "SA_score_post_opt                                                    2.746132\n",
       "QED_post_opt                                                         0.422032\n",
       "logP_post_opt                                                         5.21832\n",
       "fsp3_post_opt                                                        0.083333\n",
       "morgan_fp_post_opt          [0, 0, 0, 0, 0, 0, 0, 0, 0, 0, 0, 0, 0, 0, 0, ...\n",
       "strain_energy                                                        0.016073\n",
       "rmsd                                                                 0.435447\n",
       "dtype: object"
      ]
     },
     "execution_count": 4,
     "metadata": {},
     "output_type": "execute_result"
    }
   ],
   "source": [
    "conf_eval.to_pandas() # show the attributes as a pandas Series"
   ]
  },
  {
   "cell_type": "markdown",
   "id": "7f19b516-bc68-443e-9654-7258ec9e0c3e",
   "metadata": {},
   "source": [
    "## Conformer evaluation pipelines\n",
    "\n",
    "Since typically multiple molecules are generated and all need to be evaluated, some pipeline classes used."
   ]
  },
  {
   "cell_type": "markdown",
   "id": "d9378504-2b09-4305-9528-3db54fc0bbd3",
   "metadata": {},
   "source": [
    "### Unconditional evaluation\n",
    "The `UnconditionalEvalPipeline` simply iterates over all the generated molecules with `ConfEval` and stores the full evaluation."
   ]
  },
  {
   "cell_type": "markdown",
   "id": "48d6e968-4898-4bd8-a1cd-2e80887c78d7",
   "metadata": {},
   "source": [
    "Let's generate a few test molecules and embed them with RDKit ETKDG. We prepare them for the necessary inputs: a list of tuples containing each the molecule's corresponding atoms' atomic numbers and positions as numpy arrays."
   ]
  },
  {
   "cell_type": "code",
   "execution_count": 5,
   "id": "f54bf0ee-75b3-4c9f-aaa7-a7992c80df57",
   "metadata": {},
   "outputs": [],
   "source": [
    "smiles_ls = ['CC', 'CCC', 'CCCC']*100\n",
    "test_mols = [embed_conformer_from_smiles(smi, MMFF_optimize=False) for smi in smiles_ls]\n",
    "\n",
    "generated_mols = []\n",
    "for m in test_mols:\n",
    "    generated_mols.append(\n",
    "        (np.array([a.GetAtomicNum() for a in m.GetAtoms()]), m.GetConformer().GetPositions())\n",
    "    )"
   ]
  },
  {
   "cell_type": "markdown",
   "id": "65d07b5c-9446-4df3-8dd4-222c4c65e404",
   "metadata": {},
   "source": [
    "Initialize and run the pipeline."
   ]
  },
  {
   "cell_type": "code",
   "execution_count": 6,
   "id": "85bdeafe-0e6d-45cb-bfbe-0bb845843398",
   "metadata": {},
   "outputs": [],
   "source": [
    "uncond_pipe = UnconditionalEvalPipeline(generated_mols=generated_mols, solvent='water')"
   ]
  },
  {
   "cell_type": "code",
   "execution_count": 7,
   "id": "ebc883f5-48e6-4bc5-8ff2-df54e0554e27",
   "metadata": {},
   "outputs": [
    {
     "name": "stderr",
     "output_type": "stream",
     "text": [
      "Unconditional Eval: 100%|█████████████████████| 300/300 [00:16<00:00, 18.62it/s]\n"
     ]
    }
   ],
   "source": [
    "uncond_pipe.evaluate(verbose=True, num_processes=4, num_workers=1)"
   ]
  },
  {
   "cell_type": "code",
   "execution_count": 8,
   "id": "13607f07-ed04-442b-ad58-2faee4ef09b2",
   "metadata": {},
   "outputs": [
    {
     "name": "stderr",
     "output_type": "stream",
     "text": [
      "Unconditional Eval: 100%|█████████████████████| 300/300 [00:13<00:00, 22.26it/s]\n"
     ]
    }
   ],
   "source": [
    "uncond_pipe.evaluate(verbose=True, num_processes=1, num_workers=8)"
   ]
  },
  {
   "cell_type": "code",
   "execution_count": 9,
   "id": "f7bfb0a9-79db-4ec5-a3df-63995b2afc55",
   "metadata": {},
   "outputs": [],
   "source": [
    "properties_df, global_attr = uncond_pipe.to_pandas()"
   ]
  },
  {
   "cell_type": "code",
   "execution_count": 10,
   "id": "1caba8bc-c5ea-4391-a772-4fba9f3d3f7d",
   "metadata": {
    "scrolled": true
   },
   "outputs": [
    {
     "data": {
      "text/html": [
       "<div>\n",
       "<style scoped>\n",
       "    .dataframe tbody tr th:only-of-type {\n",
       "        vertical-align: middle;\n",
       "    }\n",
       "\n",
       "    .dataframe tbody tr th {\n",
       "        vertical-align: top;\n",
       "    }\n",
       "\n",
       "    .dataframe thead th {\n",
       "        text-align: right;\n",
       "    }\n",
       "</style>\n",
       "<table border=\"1\" class=\"dataframe\">\n",
       "  <thead>\n",
       "    <tr style=\"text-align: right;\">\n",
       "      <th></th>\n",
       "      <th>generated_mols</th>\n",
       "      <th>molblocks</th>\n",
       "      <th>molblocks_post_opt</th>\n",
       "      <th>strain_energies</th>\n",
       "      <th>rmsds</th>\n",
       "      <th>SA_scores</th>\n",
       "      <th>logPs</th>\n",
       "      <th>QEDs</th>\n",
       "      <th>fsp3s</th>\n",
       "      <th>SA_scores_post_opt</th>\n",
       "      <th>logPs_post_opt</th>\n",
       "      <th>QEDs_post_opt</th>\n",
       "      <th>fsp3s_post_opt</th>\n",
       "    </tr>\n",
       "  </thead>\n",
       "  <tbody>\n",
       "    <tr>\n",
       "      <th>0</th>\n",
       "      <td>([6, 6, 1, 1, 1, 1, 1, 1], [[-0.76367466358819...</td>\n",
       "      <td>\\n     RDKit          3D\\n\\n  8  7  0  0  0  0...</td>\n",
       "      <td>\\n     RDKit          3D\\n\\n  8  7  0  0  0  0...</td>\n",
       "      <td>0.006719</td>\n",
       "      <td>0.001154</td>\n",
       "      <td>2.747568</td>\n",
       "      <td>1.0262</td>\n",
       "      <td>0.372786</td>\n",
       "      <td>1.0</td>\n",
       "      <td>2.747568</td>\n",
       "      <td>1.0262</td>\n",
       "      <td>0.372786</td>\n",
       "      <td>1.0</td>\n",
       "    </tr>\n",
       "    <tr>\n",
       "      <th>1</th>\n",
       "      <td>([6, 6, 6, 1, 1, 1, 1, 1, 1, 1, 1], [[-1.11574...</td>\n",
       "      <td>\\n     RDKit          3D\\n\\n 11 10  0  0  0  0...</td>\n",
       "      <td>\\n     RDKit          3D\\n\\n 11 10  0  0  0  0...</td>\n",
       "      <td>0.017008</td>\n",
       "      <td>0.014296</td>\n",
       "      <td>1.754957</td>\n",
       "      <td>1.4163</td>\n",
       "      <td>0.385471</td>\n",
       "      <td>1.0</td>\n",
       "      <td>1.754957</td>\n",
       "      <td>1.4163</td>\n",
       "      <td>0.385471</td>\n",
       "      <td>1.0</td>\n",
       "    </tr>\n",
       "    <tr>\n",
       "      <th>2</th>\n",
       "      <td>([6, 6, 6, 6, 1, 1, 1, 1, 1, 1, 1, 1, 1, 1], [...</td>\n",
       "      <td>\\n     RDKit          3D\\n\\n 14 13  0  0  0  0...</td>\n",
       "      <td>\\n     RDKit          3D\\n\\n 14 13  0  0  0  0...</td>\n",
       "      <td>0.012470</td>\n",
       "      <td>0.062969</td>\n",
       "      <td>1.605723</td>\n",
       "      <td>1.8064</td>\n",
       "      <td>0.431024</td>\n",
       "      <td>1.0</td>\n",
       "      <td>1.605723</td>\n",
       "      <td>1.8064</td>\n",
       "      <td>0.431024</td>\n",
       "      <td>1.0</td>\n",
       "    </tr>\n",
       "    <tr>\n",
       "      <th>3</th>\n",
       "      <td>([6, 6, 1, 1, 1, 1, 1, 1], [[-0.74841118384649...</td>\n",
       "      <td>\\n     RDKit          3D\\n\\n  8  7  0  0  0  0...</td>\n",
       "      <td>\\n     RDKit          3D\\n\\n  8  7  0  0  0  0...</td>\n",
       "      <td>0.007161</td>\n",
       "      <td>0.011072</td>\n",
       "      <td>2.747568</td>\n",
       "      <td>1.0262</td>\n",
       "      <td>0.372786</td>\n",
       "      <td>1.0</td>\n",
       "      <td>2.747568</td>\n",
       "      <td>1.0262</td>\n",
       "      <td>0.372786</td>\n",
       "      <td>1.0</td>\n",
       "    </tr>\n",
       "    <tr>\n",
       "      <th>4</th>\n",
       "      <td>([6, 6, 6, 1, 1, 1, 1, 1, 1, 1, 1], [[-1.24483...</td>\n",
       "      <td>\\n     RDKit          3D\\n\\n 11 10  0  0  0  0...</td>\n",
       "      <td>\\n     RDKit          3D\\n\\n 11 10  0  0  0  0...</td>\n",
       "      <td>0.011083</td>\n",
       "      <td>0.021313</td>\n",
       "      <td>1.754957</td>\n",
       "      <td>1.4163</td>\n",
       "      <td>0.385471</td>\n",
       "      <td>1.0</td>\n",
       "      <td>1.754957</td>\n",
       "      <td>1.4163</td>\n",
       "      <td>0.385471</td>\n",
       "      <td>1.0</td>\n",
       "    </tr>\n",
       "  </tbody>\n",
       "</table>\n",
       "</div>"
      ],
      "text/plain": [
       "                                      generated_mols  \\\n",
       "0  ([6, 6, 1, 1, 1, 1, 1, 1], [[-0.76367466358819...   \n",
       "1  ([6, 6, 6, 1, 1, 1, 1, 1, 1, 1, 1], [[-1.11574...   \n",
       "2  ([6, 6, 6, 6, 1, 1, 1, 1, 1, 1, 1, 1, 1, 1], [...   \n",
       "3  ([6, 6, 1, 1, 1, 1, 1, 1], [[-0.74841118384649...   \n",
       "4  ([6, 6, 6, 1, 1, 1, 1, 1, 1, 1, 1], [[-1.24483...   \n",
       "\n",
       "                                           molblocks  \\\n",
       "0  \\n     RDKit          3D\\n\\n  8  7  0  0  0  0...   \n",
       "1  \\n     RDKit          3D\\n\\n 11 10  0  0  0  0...   \n",
       "2  \\n     RDKit          3D\\n\\n 14 13  0  0  0  0...   \n",
       "3  \\n     RDKit          3D\\n\\n  8  7  0  0  0  0...   \n",
       "4  \\n     RDKit          3D\\n\\n 11 10  0  0  0  0...   \n",
       "\n",
       "                                  molblocks_post_opt  strain_energies  \\\n",
       "0  \\n     RDKit          3D\\n\\n  8  7  0  0  0  0...         0.006719   \n",
       "1  \\n     RDKit          3D\\n\\n 11 10  0  0  0  0...         0.017008   \n",
       "2  \\n     RDKit          3D\\n\\n 14 13  0  0  0  0...         0.012470   \n",
       "3  \\n     RDKit          3D\\n\\n  8  7  0  0  0  0...         0.007161   \n",
       "4  \\n     RDKit          3D\\n\\n 11 10  0  0  0  0...         0.011083   \n",
       "\n",
       "      rmsds  SA_scores   logPs      QEDs  fsp3s  SA_scores_post_opt  \\\n",
       "0  0.001154   2.747568  1.0262  0.372786    1.0            2.747568   \n",
       "1  0.014296   1.754957  1.4163  0.385471    1.0            1.754957   \n",
       "2  0.062969   1.605723  1.8064  0.431024    1.0            1.605723   \n",
       "3  0.011072   2.747568  1.0262  0.372786    1.0            2.747568   \n",
       "4  0.021313   1.754957  1.4163  0.385471    1.0            1.754957   \n",
       "\n",
       "   logPs_post_opt  QEDs_post_opt  fsp3s_post_opt  \n",
       "0          1.0262       0.372786             1.0  \n",
       "1          1.4163       0.385471             1.0  \n",
       "2          1.8064       0.431024             1.0  \n",
       "3          1.0262       0.372786             1.0  \n",
       "4          1.4163       0.385471             1.0  "
      ]
     },
     "execution_count": 10,
     "metadata": {},
     "output_type": "execute_result"
    }
   ],
   "source": [
    "global_attr.head()"
   ]
  },
  {
   "cell_type": "code",
   "execution_count": 11,
   "id": "c1d5d51f-201f-471c-a09d-eb79398f3a9b",
   "metadata": {},
   "outputs": [
    {
     "data": {
      "text/plain": [
       "num_generated_mols                                                       300\n",
       "solvent                                                                water\n",
       "num_valid                                                                600\n",
       "num_valid_post_opt                                                       600\n",
       "num_consistent_graph                                                     600\n",
       "frac_valid                                                               2.0\n",
       "frac_valid_post_opt                                                      2.0\n",
       "frac_consistent                                                          2.0\n",
       "frac_unique                                                            0.005\n",
       "frac_unique_post_opt                                                   0.005\n",
       "avg_graph_diversity                                                 0.118716\n",
       "graph_similarity_matrix    [[1.0, 0.2, 0.16666666666666666, 1.0, 0.2, 0.1...\n",
       "dtype: object"
      ]
     },
     "execution_count": 11,
     "metadata": {},
     "output_type": "execute_result"
    }
   ],
   "source": [
    "properties_df"
   ]
  },
  {
   "cell_type": "markdown",
   "id": "94158bc3-07df-4ac1-8bc2-2a4a40bb9556",
   "metadata": {},
   "source": [
    "### Consistency evaluation\n",
    "\n",
    "This is used to evaluate if the jointly generated interaction profiles correspond to the true interaction profile of the generated molecule. The `ConsistencyEvalPipeline` simply iterates over all the generated molecules with the `ConsistencyEval` class and stores the full evaluation. In addition to the properties calculated by `ConfEval` it also does score-based alignment so it is a slower operation."
   ]
  },
  {
   "cell_type": "code",
   "execution_count": 12,
   "id": "ae1322cf-f751-4074-8339-294a8e9ea5c8",
   "metadata": {},
   "outputs": [],
   "source": [
    "from shepherd_score.container import Molecule"
   ]
  },
  {
   "cell_type": "markdown",
   "id": "4ed6a487",
   "metadata": {},
   "source": [
    "Prepare the inputs. We pretend that the test smiles are \"generated\" molecules with their corresponding interaction profiles. `ConsistencyEvalPipeline` expects this format for the inputs."
   ]
  },
  {
   "cell_type": "code",
   "execution_count": 13,
   "id": "a90d056d-e39f-4403-8325-208b26b81652",
   "metadata": {},
   "outputs": [],
   "source": [
    "smiles_ls = ['CC', 'CCC', 'CCCC']*33\n",
    "test_mols = [embed_conformer_from_smiles(smi, MMFF_optimize=True) for smi in smiles_ls]\n",
    "\n",
    "generated_mols = []\n",
    "generated_surf_points = []\n",
    "generated_surf_esp = []\n",
    "generated_pharm_feats = []\n",
    "for m in test_mols:\n",
    "    generated_mols.append(\n",
    "        (np.array([a.GetAtomicNum() for a in m.GetAtoms()]), m.GetConformer().GetPositions())\n",
    "    )\n",
    "    # Generate and store each interaction profile as if they were generated.\n",
    "    # Notably, we use MMFF94 partial charges and ConsistencyEvalPipeline \n",
    "    #  will compare the ESP to xTB generated partial charges\n",
    "    molec = Molecule(m, num_surf_points=200, probe_radius=1.2, partial_charges=None, pharm_multi_vector=False)\n",
    "    generated_surf_points.append(molec.surf_pos)\n",
    "    generated_surf_esp.append(molec.surf_esp)\n",
    "    generated_pharm_feats.append(\n",
    "        (molec.pharm_types, molec.pharm_ancs, molec.pharm_vecs)\n",
    "    )"
   ]
  },
  {
   "cell_type": "markdown",
   "id": "678c3dda",
   "metadata": {},
   "source": [
    "Initialize and run the pipeline"
   ]
  },
  {
   "cell_type": "code",
   "execution_count": 14,
   "id": "c04a8d8b-582e-4b30-a984-75def543c62a",
   "metadata": {},
   "outputs": [],
   "source": [
    "consis_eval = ConsistencyEvalPipeline(\n",
    "    generated_mols = generated_mols,\n",
    "    generated_surf_points = generated_surf_points,\n",
    "    generated_surf_esp = generated_surf_esp,\n",
    "    generated_pharm_feats = generated_pharm_feats,\n",
    "    probe_radius=1.2,\n",
    "    pharm_multi_vector=False,\n",
    "    solvent=None\n",
    ")"
   ]
  },
  {
   "cell_type": "code",
   "execution_count": 15,
   "id": "1dd5dc7a-6142-4a5e-8b95-6e9ebaeee5ad",
   "metadata": {},
   "outputs": [
    {
     "name": "stderr",
     "output_type": "stream",
     "text": [
      "Consistency Eval: 100%|█████████████████████████| 99/99 [02:35<00:00,  1.57s/it]\n"
     ]
    }
   ],
   "source": [
    "consis_eval.evaluate(num_workers=1, verbose=True)"
   ]
  },
  {
   "cell_type": "code",
   "execution_count": 16,
   "id": "279ca544-f6bc-4470-9e40-0dcd98f1a179",
   "metadata": {},
   "outputs": [
    {
     "name": "stderr",
     "output_type": "stream",
     "text": [
      "Consistency Eval: 100%|█████████████████████████| 99/99 [00:22<00:00,  4.43it/s]\n"
     ]
    }
   ],
   "source": [
    "consis_eval.evaluate(num_workers=10, verbose=True)"
   ]
  },
  {
   "cell_type": "markdown",
   "id": "785caf98",
   "metadata": {},
   "source": [
    "You can view the saved attributes and properties as a pandas Series for the global (whole set) attributes and a DataFrame for per-sample properties."
   ]
  },
  {
   "cell_type": "code",
   "execution_count": 17,
   "id": "67db0c2b-1821-4b80-a8bc-a02fd6bb552f",
   "metadata": {},
   "outputs": [],
   "source": [
    "properties_df_consis, global_attr_consis = consis_eval.to_pandas()"
   ]
  },
  {
   "cell_type": "code",
   "execution_count": 18,
   "id": "da060844",
   "metadata": {
    "scrolled": true
   },
   "outputs": [
    {
     "data": {
      "text/html": [
       "<div>\n",
       "<style scoped>\n",
       "    .dataframe tbody tr th:only-of-type {\n",
       "        vertical-align: middle;\n",
       "    }\n",
       "\n",
       "    .dataframe tbody tr th {\n",
       "        vertical-align: top;\n",
       "    }\n",
       "\n",
       "    .dataframe thead th {\n",
       "        text-align: right;\n",
       "    }\n",
       "</style>\n",
       "<table border=\"1\" class=\"dataframe\">\n",
       "  <thead>\n",
       "    <tr style=\"text-align: right;\">\n",
       "      <th></th>\n",
       "      <th>generated_mols</th>\n",
       "      <th>generated_surf_points</th>\n",
       "      <th>generated_surf_esp</th>\n",
       "      <th>generated_pharm_feats</th>\n",
       "      <th>molblocks</th>\n",
       "      <th>molblocks_post_opt</th>\n",
       "      <th>strain_energies</th>\n",
       "      <th>rmsds</th>\n",
       "      <th>SA_scores</th>\n",
       "      <th>logPs</th>\n",
       "      <th>...</th>\n",
       "      <th>sims_esp_upper_bound</th>\n",
       "      <th>sims_surf_lower_bound</th>\n",
       "      <th>sims_esp_lower_bound</th>\n",
       "      <th>sims_pharm_lower_bound</th>\n",
       "      <th>sims_surf_consistent_relax</th>\n",
       "      <th>sims_esp_consistent_relax</th>\n",
       "      <th>sims_pharm_consistent_relax</th>\n",
       "      <th>sims_surf_consistent_relax_optimal</th>\n",
       "      <th>sims_esp_consistent_relax_optimal</th>\n",
       "      <th>sims_pharm_consistent_relax_optimal</th>\n",
       "    </tr>\n",
       "  </thead>\n",
       "  <tbody>\n",
       "    <tr>\n",
       "      <th>0</th>\n",
       "      <td>([6, 6, 1, 1, 1, 1, 1, 1], [[-0.75427424835602...</td>\n",
       "      <td>[[-0.5813803, -1.4873081, -2.4721417], [-1.619...</td>\n",
       "      <td>[0.0, 0.0, 0.0, 0.0, 0.0, 0.0, 0.0, 0.0, 0.0, ...</td>\n",
       "      <td>([3], [[-6.558661541644639e-08, -1.08085862537...</td>\n",
       "      <td>\\n     RDKit          3D\\n\\n  8  7  0  0  0  0...</td>\n",
       "      <td>\\n     RDKit          3D\\n\\n  8  7  0  0  0  0...</td>\n",
       "      <td>0.000197</td>\n",
       "      <td>0.005077</td>\n",
       "      <td>2.747568</td>\n",
       "      <td>1.0262</td>\n",
       "      <td>...</td>\n",
       "      <td>0.977656</td>\n",
       "      <td>NaN</td>\n",
       "      <td>NaN</td>\n",
       "      <td>NaN</td>\n",
       "      <td>0.976818</td>\n",
       "      <td>0.976816</td>\n",
       "      <td>1.000000</td>\n",
       "      <td>0.977372</td>\n",
       "      <td>0.977369</td>\n",
       "      <td>0.999995</td>\n",
       "    </tr>\n",
       "    <tr>\n",
       "      <th>1</th>\n",
       "      <td>([6, 6, 6, 1, 1, 1, 1, 1, 1, 1, 1], [[-1.23450...</td>\n",
       "      <td>[[-1.6486647, -2.8718212, 1.0219024], [-1.1368...</td>\n",
       "      <td>[0.0, 0.0, 0.0, 0.0, 0.0, 0.0, 0.0, 0.0, 0.0, ...</td>\n",
       "      <td>([3], [[0.004617025132251855, 0.00548270018345...</td>\n",
       "      <td>\\n     RDKit          3D\\n\\n 11 10  0  0  0  0...</td>\n",
       "      <td>\\n     RDKit          3D\\n\\n 11 10  0  0  0  0...</td>\n",
       "      <td>0.000214</td>\n",
       "      <td>0.002903</td>\n",
       "      <td>1.754957</td>\n",
       "      <td>1.4163</td>\n",
       "      <td>...</td>\n",
       "      <td>0.971617</td>\n",
       "      <td>NaN</td>\n",
       "      <td>NaN</td>\n",
       "      <td>NaN</td>\n",
       "      <td>0.962465</td>\n",
       "      <td>0.962464</td>\n",
       "      <td>0.999997</td>\n",
       "      <td>0.963093</td>\n",
       "      <td>0.963092</td>\n",
       "      <td>0.999997</td>\n",
       "    </tr>\n",
       "    <tr>\n",
       "      <th>2</th>\n",
       "      <td>([6, 6, 6, 6, 1, 1, 1, 1, 1, 1, 1, 1, 1, 1], [...</td>\n",
       "      <td>[[-3.3231347, -1.6956815, 0.9845177], [-3.3837...</td>\n",
       "      <td>[0.0, 0.0, 0.0, 0.0, 0.0, 0.0, 0.0, 0.0, 0.0, ...</td>\n",
       "      <td>([3, 3], [[-1.3538755875425377, 0.129942825536...</td>\n",
       "      <td>\\n     RDKit          3D\\n\\n 14 13  0  0  0  0...</td>\n",
       "      <td>\\n     RDKit          3D\\n\\n 14 13  0  0  0  0...</td>\n",
       "      <td>0.000287</td>\n",
       "      <td>0.003050</td>\n",
       "      <td>1.605723</td>\n",
       "      <td>1.8064</td>\n",
       "      <td>...</td>\n",
       "      <td>0.963071</td>\n",
       "      <td>NaN</td>\n",
       "      <td>NaN</td>\n",
       "      <td>NaN</td>\n",
       "      <td>0.969413</td>\n",
       "      <td>0.969412</td>\n",
       "      <td>0.999997</td>\n",
       "      <td>0.969788</td>\n",
       "      <td>0.969787</td>\n",
       "      <td>0.999994</td>\n",
       "    </tr>\n",
       "    <tr>\n",
       "      <th>3</th>\n",
       "      <td>([6, 6, 1, 1, 1, 1, 1, 1], [[0.754557611047011...</td>\n",
       "      <td>[[0.6699976, -3.0041163, 0.48550072], [0.25443...</td>\n",
       "      <td>[0.0, 0.0, 0.0, 0.0, 0.0, 0.0, 0.0, 0.0, 0.0, ...</td>\n",
       "      <td>([3], [[-2.2718348313688352e-09, 1.48791622940...</td>\n",
       "      <td>\\n     RDKit          3D\\n\\n  8  7  0  0  0  0...</td>\n",
       "      <td>\\n     RDKit          3D\\n\\n  8  7  0  0  0  0...</td>\n",
       "      <td>0.000178</td>\n",
       "      <td>0.004375</td>\n",
       "      <td>2.747568</td>\n",
       "      <td>1.0262</td>\n",
       "      <td>...</td>\n",
       "      <td>0.975956</td>\n",
       "      <td>NaN</td>\n",
       "      <td>NaN</td>\n",
       "      <td>NaN</td>\n",
       "      <td>0.976338</td>\n",
       "      <td>0.976336</td>\n",
       "      <td>1.000000</td>\n",
       "      <td>0.977218</td>\n",
       "      <td>0.977217</td>\n",
       "      <td>0.999992</td>\n",
       "    </tr>\n",
       "    <tr>\n",
       "      <th>4</th>\n",
       "      <td>([6, 6, 6, 1, 1, 1, 1, 1, 1, 1, 1], [[1.264255...</td>\n",
       "      <td>[[1.5423033, -2.574833, 1.6369876], [1.8832769...</td>\n",
       "      <td>[0.0, 0.0, 0.0, 0.0, 0.0, 0.0, 0.0, 0.0, 0.0, ...</td>\n",
       "      <td>([3], [[-0.012158210270805473, -0.127197368223...</td>\n",
       "      <td>\\n     RDKit          3D\\n\\n 11 10  0  0  0  0...</td>\n",
       "      <td>\\n     RDKit          3D\\n\\n 11 10  0  0  0  0...</td>\n",
       "      <td>0.000232</td>\n",
       "      <td>0.003398</td>\n",
       "      <td>1.754957</td>\n",
       "      <td>1.4163</td>\n",
       "      <td>...</td>\n",
       "      <td>0.971013</td>\n",
       "      <td>NaN</td>\n",
       "      <td>NaN</td>\n",
       "      <td>NaN</td>\n",
       "      <td>0.966891</td>\n",
       "      <td>0.966890</td>\n",
       "      <td>0.999998</td>\n",
       "      <td>0.967209</td>\n",
       "      <td>0.967207</td>\n",
       "      <td>0.999992</td>\n",
       "    </tr>\n",
       "  </tbody>\n",
       "</table>\n",
       "<p>5 rows × 30 columns</p>\n",
       "</div>"
      ],
      "text/plain": [
       "                                      generated_mols  \\\n",
       "0  ([6, 6, 1, 1, 1, 1, 1, 1], [[-0.75427424835602...   \n",
       "1  ([6, 6, 6, 1, 1, 1, 1, 1, 1, 1, 1], [[-1.23450...   \n",
       "2  ([6, 6, 6, 6, 1, 1, 1, 1, 1, 1, 1, 1, 1, 1], [...   \n",
       "3  ([6, 6, 1, 1, 1, 1, 1, 1], [[0.754557611047011...   \n",
       "4  ([6, 6, 6, 1, 1, 1, 1, 1, 1, 1, 1], [[1.264255...   \n",
       "\n",
       "                               generated_surf_points  \\\n",
       "0  [[-0.5813803, -1.4873081, -2.4721417], [-1.619...   \n",
       "1  [[-1.6486647, -2.8718212, 1.0219024], [-1.1368...   \n",
       "2  [[-3.3231347, -1.6956815, 0.9845177], [-3.3837...   \n",
       "3  [[0.6699976, -3.0041163, 0.48550072], [0.25443...   \n",
       "4  [[1.5423033, -2.574833, 1.6369876], [1.8832769...   \n",
       "\n",
       "                                  generated_surf_esp  \\\n",
       "0  [0.0, 0.0, 0.0, 0.0, 0.0, 0.0, 0.0, 0.0, 0.0, ...   \n",
       "1  [0.0, 0.0, 0.0, 0.0, 0.0, 0.0, 0.0, 0.0, 0.0, ...   \n",
       "2  [0.0, 0.0, 0.0, 0.0, 0.0, 0.0, 0.0, 0.0, 0.0, ...   \n",
       "3  [0.0, 0.0, 0.0, 0.0, 0.0, 0.0, 0.0, 0.0, 0.0, ...   \n",
       "4  [0.0, 0.0, 0.0, 0.0, 0.0, 0.0, 0.0, 0.0, 0.0, ...   \n",
       "\n",
       "                               generated_pharm_feats  \\\n",
       "0  ([3], [[-6.558661541644639e-08, -1.08085862537...   \n",
       "1  ([3], [[0.004617025132251855, 0.00548270018345...   \n",
       "2  ([3, 3], [[-1.3538755875425377, 0.129942825536...   \n",
       "3  ([3], [[-2.2718348313688352e-09, 1.48791622940...   \n",
       "4  ([3], [[-0.012158210270805473, -0.127197368223...   \n",
       "\n",
       "                                           molblocks  \\\n",
       "0  \\n     RDKit          3D\\n\\n  8  7  0  0  0  0...   \n",
       "1  \\n     RDKit          3D\\n\\n 11 10  0  0  0  0...   \n",
       "2  \\n     RDKit          3D\\n\\n 14 13  0  0  0  0...   \n",
       "3  \\n     RDKit          3D\\n\\n  8  7  0  0  0  0...   \n",
       "4  \\n     RDKit          3D\\n\\n 11 10  0  0  0  0...   \n",
       "\n",
       "                                  molblocks_post_opt  strain_energies  \\\n",
       "0  \\n     RDKit          3D\\n\\n  8  7  0  0  0  0...         0.000197   \n",
       "1  \\n     RDKit          3D\\n\\n 11 10  0  0  0  0...         0.000214   \n",
       "2  \\n     RDKit          3D\\n\\n 14 13  0  0  0  0...         0.000287   \n",
       "3  \\n     RDKit          3D\\n\\n  8  7  0  0  0  0...         0.000178   \n",
       "4  \\n     RDKit          3D\\n\\n 11 10  0  0  0  0...         0.000232   \n",
       "\n",
       "      rmsds  SA_scores   logPs  ...  sims_esp_upper_bound  \\\n",
       "0  0.005077   2.747568  1.0262  ...              0.977656   \n",
       "1  0.002903   1.754957  1.4163  ...              0.971617   \n",
       "2  0.003050   1.605723  1.8064  ...              0.963071   \n",
       "3  0.004375   2.747568  1.0262  ...              0.975956   \n",
       "4  0.003398   1.754957  1.4163  ...              0.971013   \n",
       "\n",
       "   sims_surf_lower_bound  sims_esp_lower_bound  sims_pharm_lower_bound  \\\n",
       "0                    NaN                   NaN                     NaN   \n",
       "1                    NaN                   NaN                     NaN   \n",
       "2                    NaN                   NaN                     NaN   \n",
       "3                    NaN                   NaN                     NaN   \n",
       "4                    NaN                   NaN                     NaN   \n",
       "\n",
       "   sims_surf_consistent_relax  sims_esp_consistent_relax  \\\n",
       "0                    0.976818                   0.976816   \n",
       "1                    0.962465                   0.962464   \n",
       "2                    0.969413                   0.969412   \n",
       "3                    0.976338                   0.976336   \n",
       "4                    0.966891                   0.966890   \n",
       "\n",
       "   sims_pharm_consistent_relax  sims_surf_consistent_relax_optimal  \\\n",
       "0                     1.000000                            0.977372   \n",
       "1                     0.999997                            0.963093   \n",
       "2                     0.999997                            0.969788   \n",
       "3                     1.000000                            0.977218   \n",
       "4                     0.999998                            0.967209   \n",
       "\n",
       "   sims_esp_consistent_relax_optimal  sims_pharm_consistent_relax_optimal  \n",
       "0                           0.977369                             0.999995  \n",
       "1                           0.963092                             0.999997  \n",
       "2                           0.969787                             0.999994  \n",
       "3                           0.977217                             0.999992  \n",
       "4                           0.967207                             0.999992  \n",
       "\n",
       "[5 rows x 30 columns]"
      ]
     },
     "execution_count": 18,
     "metadata": {},
     "output_type": "execute_result"
    }
   ],
   "source": [
    "global_attr_consis.head()"
   ]
  },
  {
   "cell_type": "code",
   "execution_count": 19,
   "id": "280d4a73",
   "metadata": {},
   "outputs": [
    {
     "data": {
      "text/plain": [
       "num_generated_mols                                                                 99\n",
       "solvent                                                                          None\n",
       "probe_radius                                                                      1.2\n",
       "pharm_multi_vector                                                              False\n",
       "num_valid                                                                         198\n",
       "num_valid_post_opt                                                                198\n",
       "num_consistent_graph                                                              198\n",
       "frac_valid                                                                        2.0\n",
       "frac_valid_post_opt                                                               2.0\n",
       "frac_consistent                                                                   2.0\n",
       "frac_unique                                                                  0.015152\n",
       "frac_unique_post_opt                                                         0.015152\n",
       "avg_graph_diversity                                                           0.11912\n",
       "graph_similarity_matrix             [[1.0, 0.2, 0.16666666666666666, 1.0, 0.2, 0.1...\n",
       "avg_graph_diversity_post_opt                                                  0.11912\n",
       "graph_similarity_matrix_post_opt    [[1.0, 0.2, 0.16666666666666666, 1.0, 0.2, 0.1...\n",
       "dtype: object"
      ]
     },
     "execution_count": 19,
     "metadata": {},
     "output_type": "execute_result"
    }
   ],
   "source": [
    "properties_df_consis"
   ]
  },
  {
   "cell_type": "markdown",
   "id": "b208183c",
   "metadata": {},
   "source": [
    "### Conditional evaluation\n",
    "\n",
    "This is used to evaluate if the generated is similar (based on `shepherd_score` 3D scoring functions) to the target/reference molecule. The `ConditionalEvalPipeline` simply iterates over all the generated molecules with the `ConditionalEval` class and stores the full evaluation. In addition to the properties calculated by `ConfEval` it also does score-based alignment so it is a slower operation."
   ]
  },
  {
   "cell_type": "code",
   "execution_count": 20,
   "id": "ef746c18",
   "metadata": {},
   "outputs": [],
   "source": [
    "rdkit_mol = embed_conformer_from_smiles('c1Cc2ccc(Cl)cc2C(=O)c1c3cc(N1nnc2cc(C)c(Cl)cc2c1=O)ccc3', MMFF_optimize=True)\n",
    "\n",
    "# Again using MMFF94 partial charges\n",
    "ref_molec = Molecule(rdkit_mol, num_surf_points=200, probe_radius=1.2, pharm_multi_vector=False)"
   ]
  },
  {
   "cell_type": "code",
   "execution_count": 21,
   "id": "c18485f9",
   "metadata": {},
   "outputs": [],
   "source": [
    "cond_pipe = ConditionalEvalPipeline(ref_molec, generated_mols=generated_mols,\n",
    "                                    condition='all', num_surf_points=200,\n",
    "                                    pharm_multi_vector=False, solvent=None)"
   ]
  },
  {
   "cell_type": "code",
   "execution_count": 22,
   "id": "44490176-8f99-4554-a483-fd5522247c0a",
   "metadata": {},
   "outputs": [
    {
     "name": "stderr",
     "output_type": "stream",
     "text": [
      "Conditional Eval: 100%|█████████████████████████| 99/99 [02:09<00:00,  1.31s/it]\n"
     ]
    }
   ],
   "source": [
    "cond_pipe.evaluate(verbose=True, num_workers=1, mp_context='spawn')"
   ]
  },
  {
   "cell_type": "code",
   "execution_count": 23,
   "id": "ee885efa-85bb-4c33-b39b-181cd4e48c7b",
   "metadata": {},
   "outputs": [
    {
     "name": "stderr",
     "output_type": "stream",
     "text": [
      "Conditional Eval: 100%|█████████████████████████| 99/99 [00:21<00:00,  4.68it/s]\n"
     ]
    }
   ],
   "source": [
    "cond_pipe.evaluate(verbose=True, num_workers=8, mp_context='spawn')"
   ]
  },
  {
   "cell_type": "code",
   "execution_count": 24,
   "id": "ace1cc0e",
   "metadata": {},
   "outputs": [],
   "source": [
    "properties_df_cond, global_attr_cond = cond_pipe.to_pandas()"
   ]
  },
  {
   "cell_type": "code",
   "execution_count": 25,
   "id": "c7672375",
   "metadata": {},
   "outputs": [
    {
     "data": {
      "text/html": [
       "<div>\n",
       "<style scoped>\n",
       "    .dataframe tbody tr th:only-of-type {\n",
       "        vertical-align: middle;\n",
       "    }\n",
       "\n",
       "    .dataframe tbody tr th {\n",
       "        vertical-align: top;\n",
       "    }\n",
       "\n",
       "    .dataframe thead th {\n",
       "        text-align: right;\n",
       "    }\n",
       "</style>\n",
       "<table border=\"1\" class=\"dataframe\">\n",
       "  <thead>\n",
       "    <tr style=\"text-align: right;\">\n",
       "      <th></th>\n",
       "      <th>generated_mols</th>\n",
       "      <th>molblocks</th>\n",
       "      <th>molblocks_post_opt</th>\n",
       "      <th>strain_energies</th>\n",
       "      <th>rmsds</th>\n",
       "      <th>SA_scores</th>\n",
       "      <th>logPs</th>\n",
       "      <th>QEDs</th>\n",
       "      <th>fsp3s</th>\n",
       "      <th>SA_scores_post_opt</th>\n",
       "      <th>...</th>\n",
       "      <th>sims_surf_target_relax</th>\n",
       "      <th>sims_esp_target_relax</th>\n",
       "      <th>sims_pharm_target_relax</th>\n",
       "      <th>sims_surf_target_relax_optimal</th>\n",
       "      <th>sims_esp_target_relax_optimal</th>\n",
       "      <th>sims_pharm_target_relax_optimal</th>\n",
       "      <th>sims_surf_target_relax_esp_aligned</th>\n",
       "      <th>sims_pharm_target_relax_esp_aligned</th>\n",
       "      <th>graph_similarities</th>\n",
       "      <th>graph_similarities_post_opt</th>\n",
       "    </tr>\n",
       "  </thead>\n",
       "  <tbody>\n",
       "    <tr>\n",
       "      <th>0</th>\n",
       "      <td>([6, 6, 1, 1, 1, 1, 1, 1], [[-0.75427424835602...</td>\n",
       "      <td>\\n     RDKit          3D\\n\\n  8  7  0  0  0  0...</td>\n",
       "      <td>\\n     RDKit          3D\\n\\n  8  7  0  0  0  0...</td>\n",
       "      <td>0.000197</td>\n",
       "      <td>0.005077</td>\n",
       "      <td>2.747568</td>\n",
       "      <td>1.0262</td>\n",
       "      <td>0.372786</td>\n",
       "      <td>1.0</td>\n",
       "      <td>2.747568</td>\n",
       "      <td>...</td>\n",
       "      <td>0.136365</td>\n",
       "      <td>0.135720</td>\n",
       "      <td>0.010560</td>\n",
       "      <td>0.158949</td>\n",
       "      <td>0.158310</td>\n",
       "      <td>0.075350</td>\n",
       "      <td>0.158950</td>\n",
       "      <td>0.007106</td>\n",
       "      <td>0.011905</td>\n",
       "      <td>0.011905</td>\n",
       "    </tr>\n",
       "    <tr>\n",
       "      <th>1</th>\n",
       "      <td>([6, 6, 6, 1, 1, 1, 1, 1, 1, 1, 1], [[-1.23450...</td>\n",
       "      <td>\\n     RDKit          3D\\n\\n 11 10  0  0  0  0...</td>\n",
       "      <td>\\n     RDKit          3D\\n\\n 11 10  0  0  0  0...</td>\n",
       "      <td>0.000214</td>\n",
       "      <td>0.002903</td>\n",
       "      <td>1.754957</td>\n",
       "      <td>1.4163</td>\n",
       "      <td>0.385471</td>\n",
       "      <td>1.0</td>\n",
       "      <td>1.754957</td>\n",
       "      <td>...</td>\n",
       "      <td>0.166879</td>\n",
       "      <td>0.166159</td>\n",
       "      <td>0.011084</td>\n",
       "      <td>0.207935</td>\n",
       "      <td>0.207234</td>\n",
       "      <td>0.075341</td>\n",
       "      <td>0.207939</td>\n",
       "      <td>0.068363</td>\n",
       "      <td>0.011628</td>\n",
       "      <td>0.011628</td>\n",
       "    </tr>\n",
       "    <tr>\n",
       "      <th>2</th>\n",
       "      <td>([6, 6, 6, 6, 1, 1, 1, 1, 1, 1, 1, 1, 1, 1], [...</td>\n",
       "      <td>\\n     RDKit          3D\\n\\n 14 13  0  0  0  0...</td>\n",
       "      <td>\\n     RDKit          3D\\n\\n 14 13  0  0  0  0...</td>\n",
       "      <td>0.000287</td>\n",
       "      <td>0.003050</td>\n",
       "      <td>1.605723</td>\n",
       "      <td>1.8064</td>\n",
       "      <td>0.431024</td>\n",
       "      <td>1.0</td>\n",
       "      <td>1.605723</td>\n",
       "      <td>...</td>\n",
       "      <td>0.175781</td>\n",
       "      <td>0.175023</td>\n",
       "      <td>0.015852</td>\n",
       "      <td>0.239678</td>\n",
       "      <td>0.238713</td>\n",
       "      <td>0.077309</td>\n",
       "      <td>0.239671</td>\n",
       "      <td>0.069266</td>\n",
       "      <td>0.011494</td>\n",
       "      <td>0.011494</td>\n",
       "    </tr>\n",
       "    <tr>\n",
       "      <th>3</th>\n",
       "      <td>([6, 6, 1, 1, 1, 1, 1, 1], [[0.754557611047011...</td>\n",
       "      <td>\\n     RDKit          3D\\n\\n  8  7  0  0  0  0...</td>\n",
       "      <td>\\n     RDKit          3D\\n\\n  8  7  0  0  0  0...</td>\n",
       "      <td>0.000178</td>\n",
       "      <td>0.004375</td>\n",
       "      <td>2.747568</td>\n",
       "      <td>1.0262</td>\n",
       "      <td>0.372786</td>\n",
       "      <td>1.0</td>\n",
       "      <td>2.747568</td>\n",
       "      <td>...</td>\n",
       "      <td>0.138604</td>\n",
       "      <td>0.137975</td>\n",
       "      <td>0.010560</td>\n",
       "      <td>0.203743</td>\n",
       "      <td>0.203575</td>\n",
       "      <td>0.075350</td>\n",
       "      <td>0.203740</td>\n",
       "      <td>0.073533</td>\n",
       "      <td>0.011905</td>\n",
       "      <td>0.011905</td>\n",
       "    </tr>\n",
       "    <tr>\n",
       "      <th>4</th>\n",
       "      <td>([6, 6, 6, 1, 1, 1, 1, 1, 1, 1, 1], [[1.264255...</td>\n",
       "      <td>\\n     RDKit          3D\\n\\n 11 10  0  0  0  0...</td>\n",
       "      <td>\\n     RDKit          3D\\n\\n 11 10  0  0  0  0...</td>\n",
       "      <td>0.000232</td>\n",
       "      <td>0.003398</td>\n",
       "      <td>1.754957</td>\n",
       "      <td>1.4163</td>\n",
       "      <td>0.385471</td>\n",
       "      <td>1.0</td>\n",
       "      <td>1.754957</td>\n",
       "      <td>...</td>\n",
       "      <td>0.155630</td>\n",
       "      <td>0.154976</td>\n",
       "      <td>0.008322</td>\n",
       "      <td>0.209363</td>\n",
       "      <td>0.208614</td>\n",
       "      <td>0.075337</td>\n",
       "      <td>0.209363</td>\n",
       "      <td>0.005040</td>\n",
       "      <td>0.011628</td>\n",
       "      <td>0.011628</td>\n",
       "    </tr>\n",
       "  </tbody>\n",
       "</table>\n",
       "<p>5 rows × 26 columns</p>\n",
       "</div>"
      ],
      "text/plain": [
       "                                      generated_mols  \\\n",
       "0  ([6, 6, 1, 1, 1, 1, 1, 1], [[-0.75427424835602...   \n",
       "1  ([6, 6, 6, 1, 1, 1, 1, 1, 1, 1, 1], [[-1.23450...   \n",
       "2  ([6, 6, 6, 6, 1, 1, 1, 1, 1, 1, 1, 1, 1, 1], [...   \n",
       "3  ([6, 6, 1, 1, 1, 1, 1, 1], [[0.754557611047011...   \n",
       "4  ([6, 6, 6, 1, 1, 1, 1, 1, 1, 1, 1], [[1.264255...   \n",
       "\n",
       "                                           molblocks  \\\n",
       "0  \\n     RDKit          3D\\n\\n  8  7  0  0  0  0...   \n",
       "1  \\n     RDKit          3D\\n\\n 11 10  0  0  0  0...   \n",
       "2  \\n     RDKit          3D\\n\\n 14 13  0  0  0  0...   \n",
       "3  \\n     RDKit          3D\\n\\n  8  7  0  0  0  0...   \n",
       "4  \\n     RDKit          3D\\n\\n 11 10  0  0  0  0...   \n",
       "\n",
       "                                  molblocks_post_opt  strain_energies  \\\n",
       "0  \\n     RDKit          3D\\n\\n  8  7  0  0  0  0...         0.000197   \n",
       "1  \\n     RDKit          3D\\n\\n 11 10  0  0  0  0...         0.000214   \n",
       "2  \\n     RDKit          3D\\n\\n 14 13  0  0  0  0...         0.000287   \n",
       "3  \\n     RDKit          3D\\n\\n  8  7  0  0  0  0...         0.000178   \n",
       "4  \\n     RDKit          3D\\n\\n 11 10  0  0  0  0...         0.000232   \n",
       "\n",
       "      rmsds  SA_scores   logPs      QEDs  fsp3s  SA_scores_post_opt  ...  \\\n",
       "0  0.005077   2.747568  1.0262  0.372786    1.0            2.747568  ...   \n",
       "1  0.002903   1.754957  1.4163  0.385471    1.0            1.754957  ...   \n",
       "2  0.003050   1.605723  1.8064  0.431024    1.0            1.605723  ...   \n",
       "3  0.004375   2.747568  1.0262  0.372786    1.0            2.747568  ...   \n",
       "4  0.003398   1.754957  1.4163  0.385471    1.0            1.754957  ...   \n",
       "\n",
       "   sims_surf_target_relax  sims_esp_target_relax  sims_pharm_target_relax  \\\n",
       "0                0.136365               0.135720                 0.010560   \n",
       "1                0.166879               0.166159                 0.011084   \n",
       "2                0.175781               0.175023                 0.015852   \n",
       "3                0.138604               0.137975                 0.010560   \n",
       "4                0.155630               0.154976                 0.008322   \n",
       "\n",
       "   sims_surf_target_relax_optimal  sims_esp_target_relax_optimal  \\\n",
       "0                        0.158949                       0.158310   \n",
       "1                        0.207935                       0.207234   \n",
       "2                        0.239678                       0.238713   \n",
       "3                        0.203743                       0.203575   \n",
       "4                        0.209363                       0.208614   \n",
       "\n",
       "   sims_pharm_target_relax_optimal  sims_surf_target_relax_esp_aligned  \\\n",
       "0                         0.075350                            0.158950   \n",
       "1                         0.075341                            0.207939   \n",
       "2                         0.077309                            0.239671   \n",
       "3                         0.075350                            0.203740   \n",
       "4                         0.075337                            0.209363   \n",
       "\n",
       "   sims_pharm_target_relax_esp_aligned  graph_similarities  \\\n",
       "0                             0.007106            0.011905   \n",
       "1                             0.068363            0.011628   \n",
       "2                             0.069266            0.011494   \n",
       "3                             0.073533            0.011905   \n",
       "4                             0.005040            0.011628   \n",
       "\n",
       "   graph_similarities_post_opt  \n",
       "0                     0.011905  \n",
       "1                     0.011628  \n",
       "2                     0.011494  \n",
       "3                     0.011905  \n",
       "4                     0.011628  \n",
       "\n",
       "[5 rows x 26 columns]"
      ]
     },
     "execution_count": 25,
     "metadata": {},
     "output_type": "execute_result"
    }
   ],
   "source": [
    "global_attr_cond.head()"
   ]
  },
  {
   "cell_type": "code",
   "execution_count": 26,
   "id": "a762f5b9",
   "metadata": {},
   "outputs": [
    {
     "data": {
      "text/plain": [
       "num_generated_mols                                                               99\n",
       "solvent                                                                        None\n",
       "pharm_multi_vector                                                            False\n",
       "condition                                                                       all\n",
       "num_surf_points                                                                 200\n",
       "lam                                                                             0.3\n",
       "lam_scaled                                                                62.206048\n",
       "ref_molblock                      \\n     RDKit          3D\\n\\n 46 50  0  0  0  0...\n",
       "ref_mol_SA_score                                                           2.746132\n",
       "ref_mol_QED                                                                0.422032\n",
       "ref_mol_logP                                                                6.78332\n",
       "ref_mol_fsp3                                                               0.083333\n",
       "ref_mol_morgan_fp                 [0, 0, 0, 0, 0, 0, 0, 0, 0, 0, 0, 0, 0, 0, 0, ...\n",
       "ref_surf_resampling_scores        [0.8396994276889428, 0.8444193298291229, 0.854...\n",
       "ref_surf_esp_resampling_scores    [0.8396284268748854, 0.844353854359548, 0.8546...\n",
       "sims_surf_upper_bound                                                      0.862957\n",
       "sims_esp_upper_bound                                                       0.862882\n",
       "num_valid                                                                       198\n",
       "num_valid_post_opt                                                              198\n",
       "num_consistent_graph                                                            198\n",
       "frac_valid                                                                      2.0\n",
       "frac_valid_post_opt                                                             2.0\n",
       "frac_consistent                                                                 2.0\n",
       "frac_unique                                                                0.015152\n",
       "frac_unique_post_opt                                                       0.015152\n",
       "avg_graph_diversity                                                        0.988324\n",
       "dtype: object"
      ]
     },
     "execution_count": 26,
     "metadata": {},
     "output_type": "execute_result"
    }
   ],
   "source": [
    "properties_df_cond"
   ]
  },
  {
   "cell_type": "code",
   "execution_count": null,
   "id": "e6c2568f-0cf0-48ff-8d95-97090b9e237c",
   "metadata": {},
   "outputs": [],
   "source": []
  }
 ],
 "metadata": {
  "kernelspec": {
   "display_name": "Python 3 (ipykernel)",
   "language": "python",
   "name": "python3"
  },
  "language_info": {
   "codemirror_mode": {
    "name": "ipython",
    "version": 3
   },
   "file_extension": ".py",
   "mimetype": "text/x-python",
   "name": "python",
   "nbconvert_exporter": "python",
   "pygments_lexer": "ipython3",
   "version": "3.11.13"
  }
 },
 "nbformat": 4,
 "nbformat_minor": 5
}

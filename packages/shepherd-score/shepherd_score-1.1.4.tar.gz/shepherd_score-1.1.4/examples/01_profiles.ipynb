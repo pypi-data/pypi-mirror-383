{
 "cells": [
  {
   "cell_type": "markdown",
   "id": "611d7a8e-de33-4be7-87c7-889bc34df4e9",
   "metadata": {},
   "source": [
    "# Extracting interaction profiles\n",
    "\n",
    "Interaction profiles (surface point cloud, ESP on a surface point cloud, and pharmacophores) can be generated for any arbituary conformer."
   ]
  },
  {
   "cell_type": "code",
   "execution_count": 1,
   "id": "0cefcb8f-757b-4144-b269-e38a499c1978",
   "metadata": {},
   "outputs": [
    {
     "name": "stdout",
     "output_type": "stream",
     "text": [
      "Jupyter environment detected. Enabling Open3D WebVisualizer.\n",
      "[Open3D INFO] WebRTC GUI backend enabled.\n",
      "[Open3D INFO] WebRTCWindowSystem: HTTP handshake server disabled.\n"
     ]
    }
   ],
   "source": [
    "import open3d # open3d can occasionally cause issues during imports; importing it first can help alleviate that\n",
    "from rdkit import Chem\n",
    "from shepherd_score.conformer_generation import embed_conformer_from_smiles, charges_from_single_point_conformer_with_xtb\n",
    "from shepherd_score.extract_profiles import get_atomic_vdw_radii, get_molecular_surface\n",
    "from shepherd_score.extract_profiles import get_pharmacophores, get_electrostatic_potential, get_pharmacophores_dict"
   ]
  },
  {
   "cell_type": "markdown",
   "id": "31f74ed4-e6f2-452b-bff9-0624c1b357d0",
   "metadata": {},
   "source": [
    "Get a conformer with RDKit embedding and MMFF94 optimization then obtain charges from xTB."
   ]
  },
  {
   "cell_type": "code",
   "execution_count": 2,
   "id": "1ffb900e-4e4f-4784-b15b-d8d13f321b1b",
   "metadata": {},
   "outputs": [],
   "source": [
    "ref_mol = embed_conformer_from_smiles('c1Cc2ccc(Cl)cc2C(=O)c1c3cc(N1nnc2cc(C)c(Cl)cc2c1=O)ccc3', MMFF_optimize=True)\n",
    "partial_charges = charges_from_single_point_conformer_with_xtb(ref_mol)"
   ]
  },
  {
   "cell_type": "markdown",
   "id": "075629ab-c62c-4533-b9e8-c97fb0a5c413",
   "metadata": {},
   "source": [
    "### Extract surface\n",
    "The vdW radii and the positions of each atom is used to generate a surface. Here we sample 200 points on the solvent accessible surface with a probe radius of 1.2 A. Note that the sampling is stochastic."
   ]
  },
  {
   "cell_type": "code",
   "execution_count": 3,
   "id": "ecf0ca36-a535-490b-b3c4-74ab48669b65",
   "metadata": {},
   "outputs": [
    {
     "data": {
      "text/plain": [
       "(200, 3)"
      ]
     },
     "execution_count": 3,
     "metadata": {},
     "output_type": "execute_result"
    }
   ],
   "source": [
    "radii = get_atomic_vdw_radii(ref_mol)\n",
    "surface = get_molecular_surface(ref_mol.GetConformer().GetPositions(), radii, num_points=200, probe_radius=1.2)\n",
    "surface.shape"
   ]
  },
  {
   "cell_type": "markdown",
   "id": "77d40b75-1f86-459e-b6c7-e3c20b72fde2",
   "metadata": {},
   "source": [
    "### Extract electrostatic potential (ESP)\n",
    "The ESP at each surface point is be computed from the partial charges."
   ]
  },
  {
   "cell_type": "code",
   "execution_count": 4,
   "id": "1694d288-399f-4517-b6f9-097753b43ff1",
   "metadata": {},
   "outputs": [
    {
     "data": {
      "text/plain": [
       "(200,)"
      ]
     },
     "execution_count": 4,
     "metadata": {},
     "output_type": "execute_result"
    }
   ],
   "source": [
    "esp = get_electrostatic_potential(ref_mol, partial_charges, surface)\n",
    "esp.shape"
   ]
  },
  {
   "cell_type": "markdown",
   "id": "2bf6b737-a537-4c76-be88-3a3487aff97e",
   "metadata": {},
   "source": [
    "### Extract pharmacophores\n",
    "\n",
    "Pharmacophores are extracted using pre-defined SMARTS patterns given an RDKit Mol object. Using `get_pharmacophores` returns a tuple of NumPy arrays corresponding to the type, position, and unit vector of each pharmacophore: `(pharm_types, pharm_positions, pharm_vectors)`. `get_pharmacophores_dict` is a helper function that provides an easy to interpret version. Non-directional pharmacophores (e.g., hydrophobe) have vectors set to the zero vector."
   ]
  },
  {
   "cell_type": "code",
   "execution_count": 5,
   "id": "7ea10017-8928-46f0-afdf-d17420bc32ae",
   "metadata": {},
   "outputs": [
    {
     "data": {
      "text/plain": [
       "{'Aromatic': {'P': [(-5.593005518875246,\n",
       "    1.5822472905787488,\n",
       "    -0.05055084292247661),\n",
       "   (-0.3768898098974877, -2.434828068035075, -0.7221142421115143),\n",
       "   (5.108419996512772, 0.8866522128929535, 0.3417185697262969)],\n",
       "  'V': [(-0.5442705914243223, -0.5776441130965223, -0.6083558185104755),\n",
       "   (-0.03950867265117138, 0.3696432813397431, -0.9283334041957824),\n",
       "   (0.16904555253422235, -0.4837578087815462, 0.8587211326218055)]},\n",
       " 'Acceptor': {'P': [(-2.574004507475966,\n",
       "    0.5621257487600613,\n",
       "    -1.8227072216635074),\n",
       "   (3.213798188877814, -1.9164424655928365, -0.9050733817335864),\n",
       "   (4.401828185691065, -1.5382920136235891, -0.8746418779811505),\n",
       "   (1.585496320521838, 0.6480994875211756, 0.9901575256047624)],\n",
       "  'V': [(0.5192774846023432, 0.31605477666593795, -0.7940152845705851),\n",
       "   (-0.21484821261368212, -0.8623630243491875, -0.45844330049857696),\n",
       "   (0.716843104950723, -0.5638119389543518, -0.4101853975669308),\n",
       "   (-0.6683731188422039, 0.5416641857562932, 0.5097816040993605)]},\n",
       " 'Halogen': {'P': [(-6.4883581436137865,\n",
       "    4.103521127413147,\n",
       "    -1.6448985585024825),\n",
       "   (5.871248435198721, 3.5877604791813846, 1.7157672800897747)],\n",
       "  'V': [(-0.2886440282972733, 0.809514158987977, -0.5112450012726886),\n",
       "   (0.22908726010639524, 0.8661956251687614, 0.44409927515752995)]},\n",
       " 'Hydrophobe': {'P': [(-5.593005518875247,\n",
       "    1.582247290578749,\n",
       "    -0.0505508429224766),\n",
       "   (-0.3768898098974877, -2.4348280680350753, -0.7221142421115143),\n",
       "   (5.108419996512773, 0.8866522128929534, 0.34171856972629694),\n",
       "   (-6.4883581436137865, 4.103521127413147, -1.6448985585024825),\n",
       "   (7.896609321491725, 1.7286970703986586, 0.26549614161845203),\n",
       "   (5.871248435198721, 3.5877604791813846, 1.7157672800897747)],\n",
       "  'V': [(0, 0, 0), (0, 0, 0), (0, 0, 0), (0, 0, 0), (0, 0, 0), (0, 0, 0)]}}"
      ]
     },
     "execution_count": 5,
     "metadata": {},
     "output_type": "execute_result"
    }
   ],
   "source": [
    "get_pharmacophores_dict(ref_mol, multi_vector=False)"
   ]
  },
  {
   "cell_type": "code",
   "execution_count": 6,
   "id": "68b99c6e-edcb-4ad8-ae81-b98c5635db63",
   "metadata": {},
   "outputs": [],
   "source": [
    "pharm_types, pharm_pos, pharm_vecs = get_pharmacophores(ref_mol, multi_vector=False)"
   ]
  },
  {
   "cell_type": "code",
   "execution_count": 7,
   "id": "294a03ab-1395-4649-aaec-d19415bb8972",
   "metadata": {},
   "outputs": [
    {
     "data": {
      "text/plain": [
       "((15,), (15, 3), (15, 3))"
      ]
     },
     "execution_count": 7,
     "metadata": {},
     "output_type": "execute_result"
    }
   ],
   "source": [
    "pharm_types.shape, pharm_pos.shape, pharm_vecs.shape"
   ]
  },
  {
   "cell_type": "markdown",
   "id": "349fa3ec",
   "metadata": {},
   "source": [
    "The pharmacophore types are ordered (with 0 indexing) of the following list."
   ]
  },
  {
   "cell_type": "code",
   "execution_count": 8,
   "id": "d276a2f8",
   "metadata": {},
   "outputs": [
    {
     "data": {
      "text/plain": [
       "('Acceptor',\n",
       " 'Donor',\n",
       " 'Aromatic',\n",
       " 'Hydrophobe',\n",
       " 'Halogen',\n",
       " 'Cation',\n",
       " 'Anion',\n",
       " 'ZnBinder')"
      ]
     },
     "execution_count": 8,
     "metadata": {},
     "output_type": "execute_result"
    }
   ],
   "source": [
    "from shepherd_score.score.constants import P_TYPES\n",
    "P_TYPES"
   ]
  },
  {
   "cell_type": "markdown",
   "id": "b71f7acc-be9e-4c2e-979f-cb79d188b103",
   "metadata": {},
   "source": [
    "## Abstracted objects\n",
    "\n",
    "We introduce the `Molecule` object that facilitates automatic generation of interaction profiles. It holds these profiles as attributes, alongside the RDKit `Mol` object. "
   ]
  },
  {
   "cell_type": "code",
   "execution_count": 9,
   "id": "9f13bd39-030f-469e-8bfc-de9b16512b2e",
   "metadata": {},
   "outputs": [],
   "source": [
    "from shepherd_score.container import Molecule"
   ]
  },
  {
   "cell_type": "markdown",
   "id": "e2995cc8-d047-476c-8140-73491f1ff57f",
   "metadata": {},
   "source": [
    "The same procedure is used as above to extract each interaction profile. Note that if xTB partial charges were not supplied to `Molecule`, the object would compute ESP using MMFF94 partial charges which are not recommended."
   ]
  },
  {
   "cell_type": "code",
   "execution_count": 10,
   "id": "01f37962-e146-43cc-a87e-da802ad6f3ca",
   "metadata": {},
   "outputs": [],
   "source": [
    "molec = Molecule(ref_mol, num_surf_points=200, probe_radius=1.2,\n",
    "                 partial_charges=partial_charges, pharm_multi_vector=False)"
   ]
  },
  {
   "cell_type": "code",
   "execution_count": 11,
   "id": "6d50e6be-e425-4d66-b2d9-80f7b5fca127",
   "metadata": {},
   "outputs": [
    {
     "data": {
      "text/plain": [
       "((200, 3), (200,))"
      ]
     },
     "execution_count": 11,
     "metadata": {},
     "output_type": "execute_result"
    }
   ],
   "source": [
    "molec.surf_pos.shape, molec.surf_esp.shape"
   ]
  },
  {
   "cell_type": "code",
   "execution_count": 12,
   "id": "4c4abd5a-4ba3-4cd6-8a6e-040522f3427b",
   "metadata": {},
   "outputs": [
    {
     "data": {
      "text/plain": [
       "((15,), (15, 3), (15, 3))"
      ]
     },
     "execution_count": 12,
     "metadata": {},
     "output_type": "execute_result"
    }
   ],
   "source": [
    "molec.pharm_types.shape, molec.pharm_ancs.shape, molec.pharm_vecs.shape"
   ]
  },
  {
   "cell_type": "code",
   "execution_count": 13,
   "id": "aaff9cc5-d4f0-4c59-8476-0029bc58990e",
   "metadata": {},
   "outputs": [
    {
     "data": {
      "image/png": "[encoded data removed]",
      "text/plain": [
       "<rdkit.Chem.rdchem.Mol at 0x7f3e97e77a50>"
      ]
     },
     "execution_count": 13,
     "metadata": {},
     "output_type": "execute_result"
    }
   ],
   "source": [
    "molec.mol # rdkit mol object"
   ]
  },
  {
   "cell_type": "code",
   "execution_count": null,
   "id": "b557f4dd-d1cb-4a89-843e-fb13e59a409b",
   "metadata": {},
   "outputs": [],
   "source": []
  }
 ],
 "metadata": {
  "kernelspec": {
   "display_name": "Python [conda env:.conda-shp_score]",
   "language": "python",
   "name": "conda-env-.conda-shp_score-py"
  },
  "language_info": {
   "codemirror_mode": {
    "name": "ipython",
    "version": 3
   },
   "file_extension": ".py",
   "mimetype": "text/x-python",
   "name": "python",
   "nbconvert_exporter": "python",
   "pygments_lexer": "ipython3",
   "version": "3.8.13"
  }
 },
 "nbformat": 4,
 "nbformat_minor": 5
}

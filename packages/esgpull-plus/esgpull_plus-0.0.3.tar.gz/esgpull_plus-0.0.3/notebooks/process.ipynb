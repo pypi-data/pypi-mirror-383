{
 "cells": [
  {
   "cell_type": "code",
   "execution_count": 1,
   "id": "18d84bda",
   "metadata": {},
   "outputs": [],
   "source": [
    "%reload_ext autoreload\n",
    "%autoreload 2"
   ]
  },
  {
   "cell_type": "code",
   "execution_count": 7,
   "id": "fccc8d11",
   "metadata": {},
   "outputs": [
    {
     "data": {
      "text/html": [
       "<div><svg style=\"position: absolute; width: 0; height: 0; overflow: hidden\">\n",
       "<defs>\n",
       "<symbol id=\"icon-database\" viewBox=\"0 0 32 32\">\n",
       "<path d=\"M16 0c-8.837 0-16 2.239-16 5v4c0 2.761 7.163 5 16 5s16-2.239 16-5v-4c0-2.761-7.163-5-16-5z\"></path>\n",
       "<path d=\"M16 17c-8.837 0-16-2.239-16-5v6c0 2.761 7.163 5 16 5s16-2.239 16-5v-6c0 2.761-7.163 5-16 5z\"></path>\n",
       "<path d=\"M16 26c-8.837 0-16-2.239-16-5v6c0 2.761 7.163 5 16 5s16-2.239 16-5v-6c0 2.761-7.163 5-16 5z\"></path>\n",
       "</symbol>\n",
       "<symbol id=\"icon-file-text2\" viewBox=\"0 0 32 32\">\n",
       "<path d=\"M28.681 7.159c-0.694-0.947-1.662-2.053-2.724-3.116s-2.169-2.030-3.116-2.724c-1.612-1.182-2.393-1.319-2.841-1.319h-15.5c-1.378 0-2.5 1.121-2.5 2.5v27c0 1.378 1.122 2.5 2.5 2.5h23c1.378 0 2.5-1.122 2.5-2.5v-19.5c0-0.448-0.137-1.23-1.319-2.841zM24.543 5.457c0.959 0.959 1.712 1.825 2.268 2.543h-4.811v-4.811c0.718 0.556 1.584 1.309 2.543 2.268zM28 29.5c0 0.271-0.229 0.5-0.5 0.5h-23c-0.271 0-0.5-0.229-0.5-0.5v-27c0-0.271 0.229-0.5 0.5-0.5 0 0 15.499-0 15.5 0v7c0 0.552 0.448 1 1 1h7v19.5z\"></path>\n",
       "<path d=\"M23 26h-14c-0.552 0-1-0.448-1-1s0.448-1 1-1h14c0.552 0 1 0.448 1 1s-0.448 1-1 1z\"></path>\n",
       "<path d=\"M23 22h-14c-0.552 0-1-0.448-1-1s0.448-1 1-1h14c0.552 0 1 0.448 1 1s-0.448 1-1 1z\"></path>\n",
       "<path d=\"M23 18h-14c-0.552 0-1-0.448-1-1s0.448-1 1-1h14c0.552 0 1 0.448 1 1s-0.448 1-1 1z\"></path>\n",
       "</symbol>\n",
       "</defs>\n",
       "</svg>\n",
       "<style>/* CSS stylesheet for displaying xarray objects in notebooks */\n",
       "\n",
       ":root {\n",
       "  --xr-font-color0: var(\n",
       "    --jp-content-font-color0,\n",
       "    var(--pst-color-text-base rgba(0, 0, 0, 1))\n",
       "  );\n",
       "  --xr-font-color2: var(\n",
       "    --jp-content-font-color2,\n",
       "    var(--pst-color-text-base, rgba(0, 0, 0, 0.54))\n",
       "  );\n",
       "  --xr-font-color3: var(\n",
       "    --jp-content-font-color3,\n",
       "    var(--pst-color-text-base, rgba(0, 0, 0, 0.38))\n",
       "  );\n",
       "  --xr-border-color: var(\n",
       "    --jp-border-color2,\n",
       "    hsl(from var(--pst-color-on-background, white) h s calc(l - 10))\n",
       "  );\n",
       "  --xr-disabled-color: var(\n",
       "    --jp-layout-color3,\n",
       "    hsl(from var(--pst-color-on-background, white) h s calc(l - 40))\n",
       "  );\n",
       "  --xr-background-color: var(\n",
       "    --jp-layout-color0,\n",
       "    var(--pst-color-on-background, white)\n",
       "  );\n",
       "  --xr-background-color-row-even: var(\n",
       "    --jp-layout-color1,\n",
       "    hsl(from var(--pst-color-on-background, white) h s calc(l - 5))\n",
       "  );\n",
       "  --xr-background-color-row-odd: var(\n",
       "    --jp-layout-color2,\n",
       "    hsl(from var(--pst-color-on-background, white) h s calc(l - 15))\n",
       "  );\n",
       "}\n",
       "\n",
       "html[theme=\"dark\"],\n",
       "html[data-theme=\"dark\"],\n",
       "body[data-theme=\"dark\"],\n",
       "body.vscode-dark {\n",
       "  --xr-font-color0: var(\n",
       "    --jp-content-font-color0,\n",
       "    var(--pst-color-text-base, rgba(255, 255, 255, 1))\n",
       "  );\n",
       "  --xr-font-color2: var(\n",
       "    --jp-content-font-color2,\n",
       "    var(--pst-color-text-base, rgba(255, 255, 255, 0.54))\n",
       "  );\n",
       "  --xr-font-color3: var(\n",
       "    --jp-content-font-color3,\n",
       "    var(--pst-color-text-base, rgba(255, 255, 255, 0.38))\n",
       "  );\n",
       "  --xr-border-color: var(\n",
       "    --jp-border-color2,\n",
       "    hsl(from var(--pst-color-on-background, #111111) h s calc(l + 10))\n",
       "  );\n",
       "  --xr-disabled-color: var(\n",
       "    --jp-layout-color3,\n",
       "    hsl(from var(--pst-color-on-background, #111111) h s calc(l + 40))\n",
       "  );\n",
       "  --xr-background-color: var(\n",
       "    --jp-layout-color0,\n",
       "    var(--pst-color-on-background, #111111)\n",
       "  );\n",
       "  --xr-background-color-row-even: var(\n",
       "    --jp-layout-color1,\n",
       "    hsl(from var(--pst-color-on-background, #111111) h s calc(l + 5))\n",
       "  );\n",
       "  --xr-background-color-row-odd: var(\n",
       "    --jp-layout-color2,\n",
       "    hsl(from var(--pst-color-on-background, #111111) h s calc(l + 15))\n",
       "  );\n",
       "}\n",
       "\n",
       ".xr-wrap {\n",
       "  display: block !important;\n",
       "  min-width: 300px;\n",
       "  max-width: 700px;\n",
       "  line-height: 1.6;\n",
       "}\n",
       "\n",
       ".xr-text-repr-fallback {\n",
       "  /* fallback to plain text repr when CSS is not injected (untrusted notebook) */\n",
       "  display: none;\n",
       "}\n",
       "\n",
       ".xr-header {\n",
       "  padding-top: 6px;\n",
       "  padding-bottom: 6px;\n",
       "  margin-bottom: 4px;\n",
       "  border-bottom: solid 1px var(--xr-border-color);\n",
       "}\n",
       "\n",
       ".xr-header > div,\n",
       ".xr-header > ul {\n",
       "  display: inline;\n",
       "  margin-top: 0;\n",
       "  margin-bottom: 0;\n",
       "}\n",
       "\n",
       ".xr-obj-type,\n",
       ".xr-obj-name,\n",
       ".xr-group-name {\n",
       "  margin-left: 2px;\n",
       "  margin-right: 10px;\n",
       "}\n",
       "\n",
       ".xr-group-name::before {\n",
       "  content: \"📁\";\n",
       "  padding-right: 0.3em;\n",
       "}\n",
       "\n",
       ".xr-group-name,\n",
       ".xr-obj-type {\n",
       "  color: var(--xr-font-color2);\n",
       "}\n",
       "\n",
       ".xr-sections {\n",
       "  padding-left: 0 !important;\n",
       "  display: grid;\n",
       "  grid-template-columns: 150px auto auto 1fr 0 20px 0 20px;\n",
       "  margin-block-start: 0;\n",
       "  margin-block-end: 0;\n",
       "}\n",
       "\n",
       ".xr-section-item {\n",
       "  display: contents;\n",
       "}\n",
       "\n",
       ".xr-section-item input {\n",
       "  display: inline-block;\n",
       "  opacity: 0;\n",
       "  height: 0;\n",
       "  margin: 0;\n",
       "}\n",
       "\n",
       ".xr-section-item input + label {\n",
       "  color: var(--xr-disabled-color);\n",
       "  border: 2px solid transparent !important;\n",
       "}\n",
       "\n",
       ".xr-section-item input:enabled + label {\n",
       "  cursor: pointer;\n",
       "  color: var(--xr-font-color2);\n",
       "}\n",
       "\n",
       ".xr-section-item input:focus + label {\n",
       "  border: 2px solid var(--xr-font-color0) !important;\n",
       "}\n",
       "\n",
       ".xr-section-item input:enabled + label:hover {\n",
       "  color: var(--xr-font-color0);\n",
       "}\n",
       "\n",
       ".xr-section-summary {\n",
       "  grid-column: 1;\n",
       "  color: var(--xr-font-color2);\n",
       "  font-weight: 500;\n",
       "}\n",
       "\n",
       ".xr-section-summary > span {\n",
       "  display: inline-block;\n",
       "  padding-left: 0.5em;\n",
       "}\n",
       "\n",
       ".xr-section-summary-in:disabled + label {\n",
       "  color: var(--xr-font-color2);\n",
       "}\n",
       "\n",
       ".xr-section-summary-in + label:before {\n",
       "  display: inline-block;\n",
       "  content: \"►\";\n",
       "  font-size: 11px;\n",
       "  width: 15px;\n",
       "  text-align: center;\n",
       "}\n",
       "\n",
       ".xr-section-summary-in:disabled + label:before {\n",
       "  color: var(--xr-disabled-color);\n",
       "}\n",
       "\n",
       ".xr-section-summary-in:checked + label:before {\n",
       "  content: \"▼\";\n",
       "}\n",
       "\n",
       ".xr-section-summary-in:checked + label > span {\n",
       "  display: none;\n",
       "}\n",
       "\n",
       ".xr-section-summary,\n",
       ".xr-section-inline-details {\n",
       "  padding-top: 4px;\n",
       "}\n",
       "\n",
       ".xr-section-inline-details {\n",
       "  grid-column: 2 / -1;\n",
       "}\n",
       "\n",
       ".xr-section-details {\n",
       "  display: none;\n",
       "  grid-column: 1 / -1;\n",
       "  margin-top: 4px;\n",
       "  margin-bottom: 5px;\n",
       "}\n",
       "\n",
       ".xr-section-summary-in:checked ~ .xr-section-details {\n",
       "  display: contents;\n",
       "}\n",
       "\n",
       ".xr-group-box {\n",
       "  display: inline-grid;\n",
       "  grid-template-columns: 0px 20px auto;\n",
       "  width: 100%;\n",
       "}\n",
       "\n",
       ".xr-group-box-vline {\n",
       "  grid-column-start: 1;\n",
       "  border-right: 0.2em solid;\n",
       "  border-color: var(--xr-border-color);\n",
       "  width: 0px;\n",
       "}\n",
       "\n",
       ".xr-group-box-hline {\n",
       "  grid-column-start: 2;\n",
       "  grid-row-start: 1;\n",
       "  height: 1em;\n",
       "  width: 20px;\n",
       "  border-bottom: 0.2em solid;\n",
       "  border-color: var(--xr-border-color);\n",
       "}\n",
       "\n",
       ".xr-group-box-contents {\n",
       "  grid-column-start: 3;\n",
       "}\n",
       "\n",
       ".xr-array-wrap {\n",
       "  grid-column: 1 / -1;\n",
       "  display: grid;\n",
       "  grid-template-columns: 20px auto;\n",
       "}\n",
       "\n",
       ".xr-array-wrap > label {\n",
       "  grid-column: 1;\n",
       "  vertical-align: top;\n",
       "}\n",
       "\n",
       ".xr-preview {\n",
       "  color: var(--xr-font-color3);\n",
       "}\n",
       "\n",
       ".xr-array-preview,\n",
       ".xr-array-data {\n",
       "  padding: 0 5px !important;\n",
       "  grid-column: 2;\n",
       "}\n",
       "\n",
       ".xr-array-data,\n",
       ".xr-array-in:checked ~ .xr-array-preview {\n",
       "  display: none;\n",
       "}\n",
       "\n",
       ".xr-array-in:checked ~ .xr-array-data,\n",
       ".xr-array-preview {\n",
       "  display: inline-block;\n",
       "}\n",
       "\n",
       ".xr-dim-list {\n",
       "  display: inline-block !important;\n",
       "  list-style: none;\n",
       "  padding: 0 !important;\n",
       "  margin: 0;\n",
       "}\n",
       "\n",
       ".xr-dim-list li {\n",
       "  display: inline-block;\n",
       "  padding: 0;\n",
       "  margin: 0;\n",
       "}\n",
       "\n",
       ".xr-dim-list:before {\n",
       "  content: \"(\";\n",
       "}\n",
       "\n",
       ".xr-dim-list:after {\n",
       "  content: \")\";\n",
       "}\n",
       "\n",
       ".xr-dim-list li:not(:last-child):after {\n",
       "  content: \",\";\n",
       "  padding-right: 5px;\n",
       "}\n",
       "\n",
       ".xr-has-index {\n",
       "  font-weight: bold;\n",
       "}\n",
       "\n",
       ".xr-var-list,\n",
       ".xr-var-item {\n",
       "  display: contents;\n",
       "}\n",
       "\n",
       ".xr-var-item > div,\n",
       ".xr-var-item label,\n",
       ".xr-var-item > .xr-var-name span {\n",
       "  background-color: var(--xr-background-color-row-even);\n",
       "  border-color: var(--xr-background-color-row-odd);\n",
       "  margin-bottom: 0;\n",
       "  padding-top: 2px;\n",
       "}\n",
       "\n",
       ".xr-var-item > .xr-var-name:hover span {\n",
       "  padding-right: 5px;\n",
       "}\n",
       "\n",
       ".xr-var-list > li:nth-child(odd) > div,\n",
       ".xr-var-list > li:nth-child(odd) > label,\n",
       ".xr-var-list > li:nth-child(odd) > .xr-var-name span {\n",
       "  background-color: var(--xr-background-color-row-odd);\n",
       "  border-color: var(--xr-background-color-row-even);\n",
       "}\n",
       "\n",
       ".xr-var-name {\n",
       "  grid-column: 1;\n",
       "}\n",
       "\n",
       ".xr-var-dims {\n",
       "  grid-column: 2;\n",
       "}\n",
       "\n",
       ".xr-var-dtype {\n",
       "  grid-column: 3;\n",
       "  text-align: right;\n",
       "  color: var(--xr-font-color2);\n",
       "}\n",
       "\n",
       ".xr-var-preview {\n",
       "  grid-column: 4;\n",
       "}\n",
       "\n",
       ".xr-index-preview {\n",
       "  grid-column: 2 / 5;\n",
       "  color: var(--xr-font-color2);\n",
       "}\n",
       "\n",
       ".xr-var-name,\n",
       ".xr-var-dims,\n",
       ".xr-var-dtype,\n",
       ".xr-preview,\n",
       ".xr-attrs dt {\n",
       "  white-space: nowrap;\n",
       "  overflow: hidden;\n",
       "  text-overflow: ellipsis;\n",
       "  padding-right: 10px;\n",
       "}\n",
       "\n",
       ".xr-var-name:hover,\n",
       ".xr-var-dims:hover,\n",
       ".xr-var-dtype:hover,\n",
       ".xr-attrs dt:hover {\n",
       "  overflow: visible;\n",
       "  width: auto;\n",
       "  z-index: 1;\n",
       "}\n",
       "\n",
       ".xr-var-attrs,\n",
       ".xr-var-data,\n",
       ".xr-index-data {\n",
       "  display: none;\n",
       "  border-top: 2px dotted var(--xr-background-color);\n",
       "  padding-bottom: 20px !important;\n",
       "  padding-top: 10px !important;\n",
       "}\n",
       "\n",
       ".xr-var-attrs-in + label,\n",
       ".xr-var-data-in + label,\n",
       ".xr-index-data-in + label {\n",
       "  padding: 0 1px;\n",
       "}\n",
       "\n",
       ".xr-var-attrs-in:checked ~ .xr-var-attrs,\n",
       ".xr-var-data-in:checked ~ .xr-var-data,\n",
       ".xr-index-data-in:checked ~ .xr-index-data {\n",
       "  display: block;\n",
       "}\n",
       "\n",
       ".xr-var-data > table {\n",
       "  float: right;\n",
       "}\n",
       "\n",
       ".xr-var-data > pre,\n",
       ".xr-index-data > pre,\n",
       ".xr-var-data > table > tbody > tr {\n",
       "  background-color: transparent !important;\n",
       "}\n",
       "\n",
       ".xr-var-name span,\n",
       ".xr-var-data,\n",
       ".xr-index-name div,\n",
       ".xr-index-data,\n",
       ".xr-attrs {\n",
       "  padding-left: 25px !important;\n",
       "}\n",
       "\n",
       ".xr-attrs,\n",
       ".xr-var-attrs,\n",
       ".xr-var-data,\n",
       ".xr-index-data {\n",
       "  grid-column: 1 / -1;\n",
       "}\n",
       "\n",
       "dl.xr-attrs {\n",
       "  padding: 0;\n",
       "  margin: 0;\n",
       "  display: grid;\n",
       "  grid-template-columns: 125px auto;\n",
       "}\n",
       "\n",
       ".xr-attrs dt,\n",
       ".xr-attrs dd {\n",
       "  padding: 0;\n",
       "  margin: 0;\n",
       "  float: left;\n",
       "  padding-right: 10px;\n",
       "  width: auto;\n",
       "}\n",
       "\n",
       ".xr-attrs dt {\n",
       "  font-weight: normal;\n",
       "  grid-column: 1;\n",
       "}\n",
       "\n",
       ".xr-attrs dt:hover span {\n",
       "  display: inline-block;\n",
       "  background: var(--xr-background-color);\n",
       "  padding-right: 10px;\n",
       "}\n",
       "\n",
       ".xr-attrs dd {\n",
       "  grid-column: 2;\n",
       "  white-space: pre-wrap;\n",
       "  word-break: break-all;\n",
       "}\n",
       "\n",
       ".xr-icon-database,\n",
       ".xr-icon-file-text2,\n",
       ".xr-no-icon {\n",
       "  display: inline-block;\n",
       "  vertical-align: middle;\n",
       "  width: 1em;\n",
       "  height: 1.5em !important;\n",
       "  stroke-width: 0;\n",
       "  stroke: currentColor;\n",
       "  fill: currentColor;\n",
       "}\n",
       "\n",
       ".xr-var-attrs-in:checked + label > .xr-icon-file-text2,\n",
       ".xr-var-data-in:checked + label > .xr-icon-database,\n",
       ".xr-index-data-in:checked + label > .xr-icon-database {\n",
       "  color: var(--xr-font-color0);\n",
       "  filter: drop-shadow(1px 1px 5px var(--xr-font-color2));\n",
       "  stroke-width: 0.8px;\n",
       "}\n",
       "</style><pre class='xr-text-repr-fallback'>&lt;xarray.Dataset&gt; Size: 364MB\n",
       "Dimensions:             (time: 12, bnds: 2, lev: 60, j: 384, i: 320, vertices: 4)\n",
       "Coordinates:\n",
       "  * time                (time) object 96B 2015-01-16 12:00:00 ... 2015-12-16 ...\n",
       "  * lev                 (lev) float64 480B 5.0 15.0 25.0 ... 5.125e+03 5.375e+03\n",
       "  * j                   (j) int32 2kB 0 1 2 3 4 5 6 ... 378 379 380 381 382 383\n",
       "  * i                   (i) int32 1kB 0 1 2 3 4 5 6 ... 314 315 316 317 318 319\n",
       "    latitude            (j, i) float64 983kB ...\n",
       "    longitude           (j, i) float64 983kB ...\n",
       "Dimensions without coordinates: bnds, vertices\n",
       "Data variables:\n",
       "    time_bnds           (time, bnds) object 192B ...\n",
       "    lev_bnds            (lev, bnds) float64 960B ...\n",
       "    vertices_latitude   (j, i, vertices) float64 4MB ...\n",
       "    vertices_longitude  (j, i, vertices) float64 4MB ...\n",
       "    so                  (time, lev, j, i) float32 354MB ...\n",
       "Attributes: (12/46)\n",
       "    Conventions:            CF-1.7 CMIP-6.2\n",
       "    activity_id:            ScenarioMIP\n",
       "    branch_method:          Hybrid-restart from year 2015-01-01 of historical\n",
       "    branch_time_in_child:   0.0\n",
       "    branch_time_in_parent:  60225.0\n",
       "    contact:                Dr. Wei-Liang Lee (leelupin@gate.sinica.edu.tw)\n",
       "    ...                     ...\n",
       "    title:                  TaiESM1 output prepared for CMIP6\n",
       "    variable_id:            so\n",
       "    variant_label:          r1i1p1f1\n",
       "    license:                CMIP6 model data produced by REQUIRED is licensed...\n",
       "    cmor_version:           3.5.0\n",
       "    tracking_id:            hdl:21.14100/af13f5c0-1b79-4255-aab7-a8c7b7068492</pre><div class='xr-wrap' style='display:none'><div class='xr-header'><div class='xr-obj-type'>xarray.Dataset</div></div><ul class='xr-sections'><li class='xr-section-item'><input id='section-52fe4d5c-2728-4a10-9b35-419bc05eef2d' class='xr-section-summary-in' type='checkbox' disabled ><label for='section-52fe4d5c-2728-4a10-9b35-419bc05eef2d' class='xr-section-summary'  title='Expand/collapse section'>Dimensions:</label><div class='xr-section-inline-details'><ul class='xr-dim-list'><li><span class='xr-has-index'>time</span>: 12</li><li><span>bnds</span>: 2</li><li><span class='xr-has-index'>lev</span>: 60</li><li><span class='xr-has-index'>j</span>: 384</li><li><span class='xr-has-index'>i</span>: 320</li><li><span>vertices</span>: 4</li></ul></div><div class='xr-section-details'></div></li><li class='xr-section-item'><input id='section-635c9652-4b3c-4fe3-b805-dbb08552f5ac' class='xr-section-summary-in' type='checkbox'  checked><label for='section-635c9652-4b3c-4fe3-b805-dbb08552f5ac' class='xr-section-summary' >Coordinates: <span>(6)</span></label><div class='xr-section-inline-details'></div><div class='xr-section-details'><ul class='xr-var-list'><li class='xr-var-item'><div class='xr-var-name'><span class='xr-has-index'>time</span></div><div class='xr-var-dims'>(time)</div><div class='xr-var-dtype'>object</div><div class='xr-var-preview xr-preview'>2015-01-16 12:00:00 ... 2015-12-...</div><input id='attrs-f8aec811-e2d0-421b-be74-edf2cd4456e1' class='xr-var-attrs-in' type='checkbox' ><label for='attrs-f8aec811-e2d0-421b-be74-edf2cd4456e1' title='Show/Hide attributes'><svg class='icon xr-icon-file-text2'><use xlink:href='#icon-file-text2'></use></svg></label><input id='data-747a01d1-6631-45cd-af0f-e85a9ef2b801' class='xr-var-data-in' type='checkbox'><label for='data-747a01d1-6631-45cd-af0f-e85a9ef2b801' title='Show/Hide data repr'><svg class='icon xr-icon-database'><use xlink:href='#icon-database'></use></svg></label><div class='xr-var-attrs'><dl class='xr-attrs'><dt><span>bounds :</span></dt><dd>time_bnds</dd><dt><span>axis :</span></dt><dd>T</dd><dt><span>long_name :</span></dt><dd>time</dd><dt><span>standard_name :</span></dt><dd>time</dd></dl></div><div class='xr-var-data'><pre>array([cftime.DatetimeNoLeap(2015, 1, 16, 12, 0, 0, 0, has_year_zero=True),\n",
       "       cftime.DatetimeNoLeap(2015, 2, 15, 0, 0, 0, 0, has_year_zero=True),\n",
       "       cftime.DatetimeNoLeap(2015, 3, 16, 12, 0, 0, 0, has_year_zero=True),\n",
       "       cftime.DatetimeNoLeap(2015, 4, 16, 0, 0, 0, 0, has_year_zero=True),\n",
       "       cftime.DatetimeNoLeap(2015, 5, 16, 12, 0, 0, 0, has_year_zero=True),\n",
       "       cftime.DatetimeNoLeap(2015, 6, 16, 0, 0, 0, 0, has_year_zero=True),\n",
       "       cftime.DatetimeNoLeap(2015, 7, 16, 12, 0, 0, 0, has_year_zero=True),\n",
       "       cftime.DatetimeNoLeap(2015, 8, 16, 12, 0, 0, 0, has_year_zero=True),\n",
       "       cftime.DatetimeNoLeap(2015, 9, 16, 0, 0, 0, 0, has_year_zero=True),\n",
       "       cftime.DatetimeNoLeap(2015, 10, 16, 12, 0, 0, 0, has_year_zero=True),\n",
       "       cftime.DatetimeNoLeap(2015, 11, 16, 0, 0, 0, 0, has_year_zero=True),\n",
       "       cftime.DatetimeNoLeap(2015, 12, 16, 12, 0, 0, 0, has_year_zero=True)],\n",
       "      dtype=object)</pre></div></li><li class='xr-var-item'><div class='xr-var-name'><span class='xr-has-index'>lev</span></div><div class='xr-var-dims'>(lev)</div><div class='xr-var-dtype'>float64</div><div class='xr-var-preview xr-preview'>5.0 15.0 ... 5.125e+03 5.375e+03</div><input id='attrs-f5817c49-2f6f-44fe-ae05-ea617a293128' class='xr-var-attrs-in' type='checkbox' ><label for='attrs-f5817c49-2f6f-44fe-ae05-ea617a293128' title='Show/Hide attributes'><svg class='icon xr-icon-file-text2'><use xlink:href='#icon-file-text2'></use></svg></label><input id='data-bbfa37b7-9c70-4734-817f-b6ae6fbada35' class='xr-var-data-in' type='checkbox'><label for='data-bbfa37b7-9c70-4734-817f-b6ae6fbada35' title='Show/Hide data repr'><svg class='icon xr-icon-database'><use xlink:href='#icon-database'></use></svg></label><div class='xr-var-attrs'><dl class='xr-attrs'><dt><span>bounds :</span></dt><dd>lev_bnds</dd><dt><span>units :</span></dt><dd>m</dd><dt><span>axis :</span></dt><dd>Z</dd><dt><span>positive :</span></dt><dd>down</dd><dt><span>long_name :</span></dt><dd>ocean depth coordinate</dd><dt><span>standard_name :</span></dt><dd>depth</dd></dl></div><div class='xr-var-data'><pre>array([5.000000e+00, 1.500000e+01, 2.500000e+01, 3.500000e+01, 4.500000e+01,\n",
       "       5.500000e+01, 6.500000e+01, 7.500000e+01, 8.500000e+01, 9.500000e+01,\n",
       "       1.050000e+02, 1.150000e+02, 1.250000e+02, 1.350000e+02, 1.450000e+02,\n",
       "       1.550000e+02, 1.650984e+02, 1.754790e+02, 1.862913e+02, 1.976603e+02,\n",
       "       2.097114e+02, 2.225783e+02, 2.364088e+02, 2.513702e+02, 2.676542e+02,\n",
       "       2.854837e+02, 3.051192e+02, 3.268680e+02, 3.510935e+02, 3.782276e+02,\n",
       "       4.087846e+02, 4.433777e+02, 4.827367e+02, 5.277280e+02, 5.793729e+02,\n",
       "       6.388626e+02, 7.075633e+02, 7.870025e+02, 8.788252e+02, 9.847059e+02,\n",
       "       1.106204e+03, 1.244567e+03, 1.400497e+03, 1.573946e+03, 1.764003e+03,\n",
       "       1.968944e+03, 2.186457e+03, 2.413972e+03, 2.649001e+03, 2.889385e+03,\n",
       "       3.133405e+03, 3.379793e+03, 3.627670e+03, 3.876452e+03, 4.125768e+03,\n",
       "       4.375392e+03, 4.625190e+03, 4.875083e+03, 5.125028e+03, 5.375000e+03])</pre></div></li><li class='xr-var-item'><div class='xr-var-name'><span class='xr-has-index'>j</span></div><div class='xr-var-dims'>(j)</div><div class='xr-var-dtype'>int32</div><div class='xr-var-preview xr-preview'>0 1 2 3 4 5 ... 379 380 381 382 383</div><input id='attrs-75d79fbb-4c57-44c5-91c6-b6fa2fb4a185' class='xr-var-attrs-in' type='checkbox' ><label for='attrs-75d79fbb-4c57-44c5-91c6-b6fa2fb4a185' title='Show/Hide attributes'><svg class='icon xr-icon-file-text2'><use xlink:href='#icon-file-text2'></use></svg></label><input id='data-c5eca03b-f1b4-49e2-bc19-e5a0c678ffd1' class='xr-var-data-in' type='checkbox'><label for='data-c5eca03b-f1b4-49e2-bc19-e5a0c678ffd1' title='Show/Hide data repr'><svg class='icon xr-icon-database'><use xlink:href='#icon-database'></use></svg></label><div class='xr-var-attrs'><dl class='xr-attrs'><dt><span>units :</span></dt><dd>1</dd><dt><span>long_name :</span></dt><dd>cell index along second dimension</dd></dl></div><div class='xr-var-data'><pre>array([  0,   1,   2, ..., 381, 382, 383], shape=(384,), dtype=int32)</pre></div></li><li class='xr-var-item'><div class='xr-var-name'><span class='xr-has-index'>i</span></div><div class='xr-var-dims'>(i)</div><div class='xr-var-dtype'>int32</div><div class='xr-var-preview xr-preview'>0 1 2 3 4 5 ... 315 316 317 318 319</div><input id='attrs-ec84f5c3-d521-49b7-9f5f-65eaaf556f33' class='xr-var-attrs-in' type='checkbox' ><label for='attrs-ec84f5c3-d521-49b7-9f5f-65eaaf556f33' title='Show/Hide attributes'><svg class='icon xr-icon-file-text2'><use xlink:href='#icon-file-text2'></use></svg></label><input id='data-13eccec7-02ed-4ffb-b5ba-8f96cf764053' class='xr-var-data-in' type='checkbox'><label for='data-13eccec7-02ed-4ffb-b5ba-8f96cf764053' title='Show/Hide data repr'><svg class='icon xr-icon-database'><use xlink:href='#icon-database'></use></svg></label><div class='xr-var-attrs'><dl class='xr-attrs'><dt><span>units :</span></dt><dd>1</dd><dt><span>long_name :</span></dt><dd>cell index along first dimension</dd></dl></div><div class='xr-var-data'><pre>array([  0,   1,   2, ..., 317, 318, 319], shape=(320,), dtype=int32)</pre></div></li><li class='xr-var-item'><div class='xr-var-name'><span>latitude</span></div><div class='xr-var-dims'>(j, i)</div><div class='xr-var-dtype'>float64</div><div class='xr-var-preview xr-preview'>...</div><input id='attrs-565e1468-aca9-43ed-8618-40e26ac6ac44' class='xr-var-attrs-in' type='checkbox' ><label for='attrs-565e1468-aca9-43ed-8618-40e26ac6ac44' title='Show/Hide attributes'><svg class='icon xr-icon-file-text2'><use xlink:href='#icon-file-text2'></use></svg></label><input id='data-4971d1c7-93fa-4847-8d66-f715c28301bb' class='xr-var-data-in' type='checkbox'><label for='data-4971d1c7-93fa-4847-8d66-f715c28301bb' title='Show/Hide data repr'><svg class='icon xr-icon-database'><use xlink:href='#icon-database'></use></svg></label><div class='xr-var-attrs'><dl class='xr-attrs'><dt><span>standard_name :</span></dt><dd>latitude</dd><dt><span>long_name :</span></dt><dd>latitude</dd><dt><span>units :</span></dt><dd>degrees_north</dd><dt><span>bounds :</span></dt><dd>vertices_latitude</dd></dl></div><div class='xr-var-data'><pre>[122880 values with dtype=float64]</pre></div></li><li class='xr-var-item'><div class='xr-var-name'><span>longitude</span></div><div class='xr-var-dims'>(j, i)</div><div class='xr-var-dtype'>float64</div><div class='xr-var-preview xr-preview'>...</div><input id='attrs-8500e7e9-e809-4435-a2a8-881067748c9d' class='xr-var-attrs-in' type='checkbox' ><label for='attrs-8500e7e9-e809-4435-a2a8-881067748c9d' title='Show/Hide attributes'><svg class='icon xr-icon-file-text2'><use xlink:href='#icon-file-text2'></use></svg></label><input id='data-e36168ed-904d-405d-b3d1-72db74c93ab4' class='xr-var-data-in' type='checkbox'><label for='data-e36168ed-904d-405d-b3d1-72db74c93ab4' title='Show/Hide data repr'><svg class='icon xr-icon-database'><use xlink:href='#icon-database'></use></svg></label><div class='xr-var-attrs'><dl class='xr-attrs'><dt><span>standard_name :</span></dt><dd>longitude</dd><dt><span>long_name :</span></dt><dd>longitude</dd><dt><span>units :</span></dt><dd>degrees_east</dd><dt><span>bounds :</span></dt><dd>vertices_longitude</dd></dl></div><div class='xr-var-data'><pre>[122880 values with dtype=float64]</pre></div></li></ul></div></li><li class='xr-section-item'><input id='section-4e23dbee-73e3-48c2-bc0d-ea24b9301463' class='xr-section-summary-in' type='checkbox'  checked><label for='section-4e23dbee-73e3-48c2-bc0d-ea24b9301463' class='xr-section-summary' >Data variables: <span>(5)</span></label><div class='xr-section-inline-details'></div><div class='xr-section-details'><ul class='xr-var-list'><li class='xr-var-item'><div class='xr-var-name'><span>time_bnds</span></div><div class='xr-var-dims'>(time, bnds)</div><div class='xr-var-dtype'>object</div><div class='xr-var-preview xr-preview'>...</div><input id='attrs-c44d86c1-b9da-47cd-a968-cacfacd91566' class='xr-var-attrs-in' type='checkbox' disabled><label for='attrs-c44d86c1-b9da-47cd-a968-cacfacd91566' title='Show/Hide attributes'><svg class='icon xr-icon-file-text2'><use xlink:href='#icon-file-text2'></use></svg></label><input id='data-e83271de-f8ba-4eba-a726-765833e15d21' class='xr-var-data-in' type='checkbox'><label for='data-e83271de-f8ba-4eba-a726-765833e15d21' title='Show/Hide data repr'><svg class='icon xr-icon-database'><use xlink:href='#icon-database'></use></svg></label><div class='xr-var-attrs'><dl class='xr-attrs'></dl></div><div class='xr-var-data'><pre>[24 values with dtype=object]</pre></div></li><li class='xr-var-item'><div class='xr-var-name'><span>lev_bnds</span></div><div class='xr-var-dims'>(lev, bnds)</div><div class='xr-var-dtype'>float64</div><div class='xr-var-preview xr-preview'>...</div><input id='attrs-976dc0f8-4dde-422e-ac82-ae9c18b826da' class='xr-var-attrs-in' type='checkbox' disabled><label for='attrs-976dc0f8-4dde-422e-ac82-ae9c18b826da' title='Show/Hide attributes'><svg class='icon xr-icon-file-text2'><use xlink:href='#icon-file-text2'></use></svg></label><input id='data-e3e1c727-3ea2-442e-954e-9ba6a543bde0' class='xr-var-data-in' type='checkbox'><label for='data-e3e1c727-3ea2-442e-954e-9ba6a543bde0' title='Show/Hide data repr'><svg class='icon xr-icon-database'><use xlink:href='#icon-database'></use></svg></label><div class='xr-var-attrs'><dl class='xr-attrs'></dl></div><div class='xr-var-data'><pre>[120 values with dtype=float64]</pre></div></li><li class='xr-var-item'><div class='xr-var-name'><span>vertices_latitude</span></div><div class='xr-var-dims'>(j, i, vertices)</div><div class='xr-var-dtype'>float64</div><div class='xr-var-preview xr-preview'>...</div><input id='attrs-7b2f9fec-3a49-4e79-aa09-43e88971d1bc' class='xr-var-attrs-in' type='checkbox' ><label for='attrs-7b2f9fec-3a49-4e79-aa09-43e88971d1bc' title='Show/Hide attributes'><svg class='icon xr-icon-file-text2'><use xlink:href='#icon-file-text2'></use></svg></label><input id='data-708f0426-1a3b-4876-ac51-6d7e24bceafe' class='xr-var-data-in' type='checkbox'><label for='data-708f0426-1a3b-4876-ac51-6d7e24bceafe' title='Show/Hide data repr'><svg class='icon xr-icon-database'><use xlink:href='#icon-database'></use></svg></label><div class='xr-var-attrs'><dl class='xr-attrs'><dt><span>units :</span></dt><dd>degrees_north</dd></dl></div><div class='xr-var-data'><pre>[491520 values with dtype=float64]</pre></div></li><li class='xr-var-item'><div class='xr-var-name'><span>vertices_longitude</span></div><div class='xr-var-dims'>(j, i, vertices)</div><div class='xr-var-dtype'>float64</div><div class='xr-var-preview xr-preview'>...</div><input id='attrs-6479e047-7882-424c-8624-db567147e66b' class='xr-var-attrs-in' type='checkbox' ><label for='attrs-6479e047-7882-424c-8624-db567147e66b' title='Show/Hide attributes'><svg class='icon xr-icon-file-text2'><use xlink:href='#icon-file-text2'></use></svg></label><input id='data-2089eea8-f910-4ed6-a9cb-15e72f6253b6' class='xr-var-data-in' type='checkbox'><label for='data-2089eea8-f910-4ed6-a9cb-15e72f6253b6' title='Show/Hide data repr'><svg class='icon xr-icon-database'><use xlink:href='#icon-database'></use></svg></label><div class='xr-var-attrs'><dl class='xr-attrs'><dt><span>units :</span></dt><dd>degrees_east</dd></dl></div><div class='xr-var-data'><pre>[491520 values with dtype=float64]</pre></div></li><li class='xr-var-item'><div class='xr-var-name'><span>so</span></div><div class='xr-var-dims'>(time, lev, j, i)</div><div class='xr-var-dtype'>float32</div><div class='xr-var-preview xr-preview'>...</div><input id='attrs-acc3bbcc-378c-40ab-a42e-8e96c23d56f4' class='xr-var-attrs-in' type='checkbox' ><label for='attrs-acc3bbcc-378c-40ab-a42e-8e96c23d56f4' title='Show/Hide attributes'><svg class='icon xr-icon-file-text2'><use xlink:href='#icon-file-text2'></use></svg></label><input id='data-329690cd-aa59-4373-9468-38c36ebff508' class='xr-var-data-in' type='checkbox'><label for='data-329690cd-aa59-4373-9468-38c36ebff508' title='Show/Hide data repr'><svg class='icon xr-icon-database'><use xlink:href='#icon-database'></use></svg></label><div class='xr-var-attrs'><dl class='xr-attrs'><dt><span>standard_name :</span></dt><dd>sea_water_salinity</dd><dt><span>long_name :</span></dt><dd>Sea Water Salinity</dd><dt><span>comment :</span></dt><dd>Sea water salinity is the salt content of sea water, often on the Practical Salinity Scale of 1978. However, the unqualified term &#x27;salinity&#x27; is generic and does not necessarily imply any particular method of calculation. The units of salinity are dimensionless and the units attribute should normally be given as 1e-3 or 0.001 i.e. parts per thousand.</dd><dt><span>units :</span></dt><dd>0.001</dd><dt><span>original_name :</span></dt><dd>SALT</dd><dt><span>original_units :</span></dt><dd>gram/kilogram</dd><dt><span>history :</span></dt><dd>2020-10-21T10:42:34Z altered by CMOR: Converted units from &#x27;gram/kilogram&#x27; to &#x27;0.001&#x27;. 2020-10-21T10:42:34Z altered by CMOR: replaced missing value flag (9.96921e+33) and corresponding data with standard missing value (1e+20).</dd><dt><span>cell_methods :</span></dt><dd>area: mean where sea time: mean</dd><dt><span>cell_measures :</span></dt><dd>area: areacello volume: volcello</dd></dl></div><div class='xr-var-data'><pre>[88473600 values with dtype=float32]</pre></div></li></ul></div></li><li class='xr-section-item'><input id='section-2c19247e-ba84-4e0f-8273-030bc9366c2e' class='xr-section-summary-in' type='checkbox'  ><label for='section-2c19247e-ba84-4e0f-8273-030bc9366c2e' class='xr-section-summary' >Attributes: <span>(46)</span></label><div class='xr-section-inline-details'></div><div class='xr-section-details'><dl class='xr-attrs'><dt><span>Conventions :</span></dt><dd>CF-1.7 CMIP-6.2</dd><dt><span>activity_id :</span></dt><dd>ScenarioMIP</dd><dt><span>branch_method :</span></dt><dd>Hybrid-restart from year 2015-01-01 of historical</dd><dt><span>branch_time_in_child :</span></dt><dd>0.0</dd><dt><span>branch_time_in_parent :</span></dt><dd>60225.0</dd><dt><span>contact :</span></dt><dd>Dr. Wei-Liang Lee (leelupin@gate.sinica.edu.tw)</dd><dt><span>creation_date :</span></dt><dd>2020-10-21T10:42:34Z</dd><dt><span>data_specs_version :</span></dt><dd>01.00.31</dd><dt><span>experiment :</span></dt><dd>update of RCP2.6 based on SSP1</dd><dt><span>experiment_id :</span></dt><dd>ssp126</dd><dt><span>external_variables :</span></dt><dd>areacello volcello</dd><dt><span>forcing_index :</span></dt><dd>1</dd><dt><span>frequency :</span></dt><dd>mon</dd><dt><span>further_info_url :</span></dt><dd>https://furtherinfo.es-doc.org/CMIP6.AS-RCEC.TaiESM1.ssp126.none.r1i1p1f1</dd><dt><span>grid :</span></dt><dd>finite-volume grid with 0.9x1.25 degree lat/lon resolution</dd><dt><span>grid_label :</span></dt><dd>gn</dd><dt><span>history :</span></dt><dd>2020-10-21T10:42:34Z ; CMOR rewrote data to be consistent with CMIP6, CF-1.7 CMIP-6.2 and CF standards.</dd><dt><span>initialization_index :</span></dt><dd>1</dd><dt><span>institution :</span></dt><dd>Research Center for Environmental Changes, Academia Sinica, Nankang, Taipei 11529, Taiwan</dd><dt><span>institution_id :</span></dt><dd>AS-RCEC</dd><dt><span>mip_era :</span></dt><dd>CMIP6</dd><dt><span>nominal_resolution :</span></dt><dd>100 km</dd><dt><span>parent_activity_id :</span></dt><dd>CMIP</dd><dt><span>parent_experiment_id :</span></dt><dd>historical</dd><dt><span>parent_mip_era :</span></dt><dd>CMIP6</dd><dt><span>parent_source_id :</span></dt><dd>TaiESM1</dd><dt><span>parent_time_units :</span></dt><dd>days since 1850-01-01</dd><dt><span>parent_variant_label :</span></dt><dd>r1i1p1f1</dd><dt><span>physics_index :</span></dt><dd>1</dd><dt><span>product :</span></dt><dd>model-output</dd><dt><span>realization_index :</span></dt><dd>1</dd><dt><span>realm :</span></dt><dd>ocean</dd><dt><span>references :</span></dt><dd>https://10.5194/gmd-2019-377</dd><dt><span>source :</span></dt><dd>TaiESM 1.0 (2018): \n",
       "aerosol: SNAP (same grid as atmos)\n",
       "atmos: TaiAM1 (0.9x1.25 degree; 288 x 192 longitude/latitude; 30 levels; top level ~2 hPa)\n",
       "atmosChem: SNAP (same grid as atmos)\n",
       "land: CLM4.0 (same grid as atmos)\n",
       "landIce: none\n",
       "ocean: POP2 (320x384 longitude/latitude; 60 levels; top grid cell 0-10 m)\n",
       "ocnBgchem: none\n",
       "seaIce: CICE4</dd><dt><span>source_id :</span></dt><dd>TaiESM1</dd><dt><span>source_type :</span></dt><dd>AOGCM AER BGC</dd><dt><span>sub_experiment :</span></dt><dd>none</dd><dt><span>sub_experiment_id :</span></dt><dd>none</dd><dt><span>table_id :</span></dt><dd>Omon</dd><dt><span>table_info :</span></dt><dd>Creation Date:(24 July 2019) MD5:dbab1cb31aa309d63bbd9d5b9cefce80</dd><dt><span>title :</span></dt><dd>TaiESM1 output prepared for CMIP6</dd><dt><span>variable_id :</span></dt><dd>so</dd><dt><span>variant_label :</span></dt><dd>r1i1p1f1</dd><dt><span>license :</span></dt><dd>CMIP6 model data produced by REQUIRED is licensed under a Creative Commons Attribution ShareAlike 4.0 International License (https://creativecommons.org/licenses). Consult https://pcmdi.llnl.gov/CMIP6/TermsOfUse for terms of use governing CMIP6 output, including citation requirements and proper acknowledgment. Further information about this data, including some limitations, can be found via the further_info_url (recorded as a global attribute in this file) and. The data producers and data providers make no warranty, either express or implied, including, but not limited to, warranties of merchantability and fitness for a particular purpose. All liabilities arising from the supply of the information (including any liability arising in negligence) are excluded to the fullest extent permitted by law.</dd><dt><span>cmor_version :</span></dt><dd>3.5.0</dd><dt><span>tracking_id :</span></dt><dd>hdl:21.14100/af13f5c0-1b79-4255-aab7-a8c7b7068492</dd></dl></div></li></ul></div></div>"
      ],
      "text/plain": [
       "<xarray.Dataset> Size: 364MB\n",
       "Dimensions:             (time: 12, bnds: 2, lev: 60, j: 384, i: 320, vertices: 4)\n",
       "Coordinates:\n",
       "  * time                (time) object 96B 2015-01-16 12:00:00 ... 2015-12-16 ...\n",
       "  * lev                 (lev) float64 480B 5.0 15.0 25.0 ... 5.125e+03 5.375e+03\n",
       "  * j                   (j) int32 2kB 0 1 2 3 4 5 6 ... 378 379 380 381 382 383\n",
       "  * i                   (i) int32 1kB 0 1 2 3 4 5 6 ... 314 315 316 317 318 319\n",
       "    latitude            (j, i) float64 983kB ...\n",
       "    longitude           (j, i) float64 983kB ...\n",
       "Dimensions without coordinates: bnds, vertices\n",
       "Data variables:\n",
       "    time_bnds           (time, bnds) object 192B ...\n",
       "    lev_bnds            (lev, bnds) float64 960B ...\n",
       "    vertices_latitude   (j, i, vertices) float64 4MB ...\n",
       "    vertices_longitude  (j, i, vertices) float64 4MB ...\n",
       "    so                  (time, lev, j, i) float32 354MB ...\n",
       "Attributes: (12/46)\n",
       "    Conventions:            CF-1.7 CMIP-6.2\n",
       "    activity_id:            ScenarioMIP\n",
       "    branch_method:          Hybrid-restart from year 2015-01-01 of historical\n",
       "    branch_time_in_child:   0.0\n",
       "    branch_time_in_parent:  60225.0\n",
       "    contact:                Dr. Wei-Liang Lee (leelupin@gate.sinica.edu.tw)\n",
       "    ...                     ...\n",
       "    title:                  TaiESM1 output prepared for CMIP6\n",
       "    variable_id:            so\n",
       "    variant_label:          r1i1p1f1\n",
       "    license:                CMIP6 model data produced by REQUIRED is licensed...\n",
       "    cmor_version:           3.5.0\n",
       "    tracking_id:            hdl:21.14100/af13f5c0-1b79-4255-aab7-a8c7b7068492"
      ]
     },
     "execution_count": 7,
     "metadata": {},
     "output_type": "execute_result"
    }
   ],
   "source": [
    "import xarray as xa\n",
    "\n",
    "from esgpull.config import Paths\n",
    "from esgpull.esgpullplus import regrid\n",
    "\n",
    "# get data directory from Paths\n",
    "paths = Paths()\n",
    "\n",
    "test_fp = paths.data / \"CMIP6/ScenarioMIP/AS-RCEC/TaiESM1/ssp126/r1i1p1f1/Omon/so/gn/v20201125/so_Omon_TaiESM1_ssp126_r1i1p1f1_gn_201501-201512.nc\"\n",
    "test_ds = xa.open_dataset(test_fp)\n",
    "test_ds"
   ]
  },
  {
   "cell_type": "code",
   "execution_count": 17,
   "id": "0e529fcd",
   "metadata": {},
   "outputs": [
    {
     "data": {
      "image/png": "[encoded data removed]",
      "text/plain": [
       "<Figure size 640x480 with 4 Axes>"
      ]
     },
     "metadata": {},
     "output_type": "display_data"
    }
   ],
   "source": [
    "import matplotlib.pyplot as plt\n",
    "fig, ax = plt.subplots(1,2)\n",
    "plat = ax[0].imshow(test_ds.latitude)\n",
    "plon = ax[1].imshow(test_ds.longitude)\n",
    "fig.colorbar(plat, ax=ax[0], orientation=\"horizontal\", label=\"Latitude\")\n",
    "fig.colorbar(plon, ax=ax[1], orientation=\"horizontal\", label=\"Longitude\")\n",
    "fig.tight_layout()\n",
    "plt.show()"
   ]
  },
  {
   "cell_type": "code",
   "execution_count": 21,
   "id": "c9940164",
   "metadata": {},
   "outputs": [
    {
     "data": {
      "text/html": [
       "<pre style=\"white-space:pre;overflow-x:auto;line-height:normal;font-family:Menlo,'DejaVu Sans Mono',consolas,'Courier New',monospace\">🕒 START: <span style=\"color: #008080; text-decoration-color: #008080; font-weight: bold\">2025</span>-<span style=\"color: #008080; text-decoration-color: #008080; font-weight: bold\">10</span>-<span style=\"color: #008080; text-decoration-color: #008080; font-weight: bold\">10</span> <span style=\"color: #00ff00; text-decoration-color: #00ff00; font-weight: bold\">09:54:59</span>\n",
       "\n",
       "</pre>\n"
      ],
      "text/plain": [
       "🕒 START: \u001b[1;36m2025\u001b[0m-\u001b[1;36m10\u001b[0m-\u001b[1;36m10\u001b[0m \u001b[1;92m09:54:59\u001b[0m\n",
       "\n"
      ]
     },
     "metadata": {},
     "output_type": "display_data"
    },
    {
     "data": {
      "text/html": [
       "<pre style=\"white-space:pre;overflow-x:auto;line-height:normal;font-family:Menlo,'DejaVu Sans Mono',consolas,'Courier New',monospace\"><span style=\"color: #000080; text-decoration-color: #000080\">Scanning directory:</span> <span style=\"color: #800080; text-decoration-color: #800080\">/maps-priv/maps/rt582/esgf-download/data/</span><span style=\"color: #ff00ff; text-decoration-color: #ff00ff\">test</span>\n",
       "</pre>\n"
      ],
      "text/plain": [
       "\u001b[34mScanning directory:\u001b[0m \u001b[35m/maps-priv/maps/rt582/esgf-download/data/\u001b[0m\u001b[95mtest\u001b[0m\n"
      ]
     },
     "metadata": {},
     "output_type": "display_data"
    },
    {
     "data": {
      "text/html": [
       "<pre style=\"white-space:pre;overflow-x:auto;line-height:normal;font-family:Menlo,'DejaVu Sans Mono',consolas,'Courier New',monospace\"><span style=\"color: #000080; text-decoration-color: #000080\">Found </span><span style=\"color: #000080; text-decoration-color: #000080; font-weight: bold\">2</span><span style=\"color: #000080; text-decoration-color: #000080\"> files to regrid</span>\n",
       "</pre>\n"
      ],
      "text/plain": [
       "\u001b[34mFound \u001b[0m\u001b[1;34m2\u001b[0m\u001b[34m files to regrid\u001b[0m\n"
      ]
     },
     "metadata": {},
     "output_type": "display_data"
    },
    {
     "data": {
      "text/html": [
       "<pre style=\"white-space:pre;overflow-x:auto;line-height:normal;font-family:Menlo,'DejaVu Sans Mono',consolas,'Courier New',monospace\"><span style=\"color: #000080; text-decoration-color: #000080\">Skipped </span><span style=\"color: #000080; text-decoration-color: #000080; font-weight: bold\">0</span><span style=\"color: #000080; text-decoration-color: #000080\"> files </span><span style=\"color: #000080; text-decoration-color: #000080; font-weight: bold\">(</span><span style=\"color: #000080; text-decoration-color: #000080\">already processed</span><span style=\"color: #000080; text-decoration-color: #000080; font-weight: bold\">)</span>\n",
       "</pre>\n"
      ],
      "text/plain": [
       "\u001b[34mSkipped \u001b[0m\u001b[1;34m0\u001b[0m\u001b[34m files \u001b[0m\u001b[1;34m(\u001b[0m\u001b[34malready processed\u001b[0m\u001b[1;34m)\u001b[0m\n"
      ]
     },
     "metadata": {},
     "output_type": "display_data"
    },
    {
     "data": {
      "text/html": [
       "<pre style=\"white-space:pre;overflow-x:auto;line-height:normal;font-family:Menlo,'DejaVu Sans Mono',consolas,'Courier New',monospace\"><span style=\"color: #000080; text-decoration-color: #000080\">Grouped files into </span><span style=\"color: #000080; text-decoration-color: #000080; font-weight: bold\">1</span><span style=\"color: #000080; text-decoration-color: #000080\"> subdirectory...</span>\n",
       "</pre>\n"
      ],
      "text/plain": [
       "\u001b[34mGrouped files into \u001b[0m\u001b[1;34m1\u001b[0m\u001b[34m subdirectory\u001b[0m\u001b[34m...\u001b[0m\n"
      ]
     },
     "metadata": {},
     "output_type": "display_data"
    },
    {
     "data": {
      "text/html": [
       "<pre style=\"white-space:pre;overflow-x:auto;line-height:normal;font-family:Menlo,'DejaVu Sans Mono',consolas,'Courier New',monospace\"><span style=\"color: #000080; text-decoration-color: #000080\">Processing subdirectory:</span> <span style=\"color: #800080; text-decoration-color: #800080\">/maps-priv/maps/rt582/esgf-download/data/</span><span style=\"color: #ff00ff; text-decoration-color: #ff00ff\">test</span>\n",
       "</pre>\n"
      ],
      "text/plain": [
       "\u001b[34mProcessing subdirectory:\u001b[0m \u001b[35m/maps-priv/maps/rt582/esgf-download/data/\u001b[0m\u001b[95mtest\u001b[0m\n"
      ]
     },
     "metadata": {},
     "output_type": "display_data"
    },
    {
     "data": {
      "text/html": [
       "<pre style=\"white-space:pre;overflow-x:auto;line-height:normal;font-family:Menlo,'DejaVu Sans Mono',consolas,'Courier New',monospace\"><span style=\"color: #000080; text-decoration-color: #000080\">Files in subdirectory:</span> <span style=\"color: #008080; text-decoration-color: #008080; font-weight: bold\">2</span>\n",
       "</pre>\n"
      ],
      "text/plain": [
       "\u001b[34mFiles in subdirectory:\u001b[0m \u001b[1;36m2\u001b[0m\n"
      ]
     },
     "metadata": {},
     "output_type": "display_data"
    },
    {
     "data": {
      "text/html": [
       "<pre style=\"white-space:pre;overflow-x:auto;line-height:normal;font-family:Menlo,'DejaVu Sans Mono',consolas,'Courier New',monospace\"><span style=\"color: #000080; text-decoration-color: #000080\">Weight directory:</span> <span style=\"color: #800080; text-decoration-color: #800080\">/maps-priv/maps/rt582/esgf-download/data/test/</span><span style=\"color: #ff00ff; text-decoration-color: #ff00ff\">regrid_weights</span>\n",
       "</pre>\n"
      ],
      "text/plain": [
       "\u001b[34mWeight directory:\u001b[0m \u001b[35m/maps-priv/maps/rt582/esgf-download/data/test/\u001b[0m\u001b[95mregrid_weights\u001b[0m\n"
      ]
     },
     "metadata": {},
     "output_type": "display_data"
    },
    {
     "data": {
      "text/html": [
       "<pre style=\"white-space:pre;overflow-x:auto;line-height:normal;font-family:Menlo,'DejaVu Sans Mono',consolas,'Courier New',monospace\"><span style=\"color: #000080; text-decoration-color: #000080\">Processing file </span><span style=\"color: #000080; text-decoration-color: #000080; font-weight: bold\">1</span><span style=\"color: #000080; text-decoration-color: #000080\">/</span><span style=\"color: #000080; text-decoration-color: #000080; font-weight: bold\">2</span><span style=\"color: #000080; text-decoration-color: #000080\">:</span> so_Omon_TaiESM1_ssp126_r1i1p1f1_gn_201601-<span style=\"color: #008080; text-decoration-color: #008080; font-weight: bold\">201612.</span>nc\n",
       "</pre>\n"
      ],
      "text/plain": [
       "\u001b[34mProcessing file \u001b[0m\u001b[1;34m1\u001b[0m\u001b[34m/\u001b[0m\u001b[1;34m2\u001b[0m\u001b[34m:\u001b[0m so_Omon_TaiESM1_ssp126_r1i1p1f1_gn_201601-\u001b[1;36m201612.\u001b[0mnc\n"
      ]
     },
     "metadata": {},
     "output_type": "display_data"
    },
    {
     "data": {
      "text/html": [
       "<pre style=\"white-space:pre;overflow-x:auto;line-height:normal;font-family:Menlo,'DejaVu Sans Mono',consolas,'Courier New',monospace\">  <span style=\"color: #008080; text-decoration-color: #008080\">Loading dataset...</span>\n",
       "</pre>\n"
      ],
      "text/plain": [
       "  \u001b[36mLoading dataset\u001b[0m\u001b[36m...\u001b[0m\n"
      ]
     },
     "metadata": {},
     "output_type": "display_data"
    },
    {
     "data": {
      "text/html": [
       "<pre style=\"white-space:pre;overflow-x:auto;line-height:normal;font-family:Menlo,'DejaVu Sans Mono',consolas,'Courier New',monospace\">  <span style=\"color: #008080; text-decoration-color: #008080\">Dataset loaded, shape: </span><span style=\"color: #008080; text-decoration-color: #008080; font-weight: bold\">FrozenMappingWarningOnValuesAccess({</span><span style=\"color: #008080; text-decoration-color: #008080\">'time'</span><span style=\"color: #008080; text-decoration-color: #008080\">: </span><span style=\"color: #008080; text-decoration-color: #008080; font-weight: bold\">12</span><span style=\"color: #008080; text-decoration-color: #008080\">, </span><span style=\"color: #008080; text-decoration-color: #008080\">'bnds'</span><span style=\"color: #008080; text-decoration-color: #008080\">: </span><span style=\"color: #008080; text-decoration-color: #008080; font-weight: bold\">2</span><span style=\"color: #008080; text-decoration-color: #008080\">, </span><span style=\"color: #008080; text-decoration-color: #008080\">'lev'</span><span style=\"color: #008080; text-decoration-color: #008080\">: </span><span style=\"color: #008080; text-decoration-color: #008080; font-weight: bold\">60</span><span style=\"color: #008080; text-decoration-color: #008080\">, </span><span style=\"color: #008080; text-decoration-color: #008080\">'j'</span><span style=\"color: #008080; text-decoration-color: #008080\">: </span><span style=\"color: #008080; text-decoration-color: #008080; font-weight: bold\">384</span><span style=\"color: #008080; text-decoration-color: #008080\">, </span><span style=\"color: #008080; text-decoration-color: #008080\">'i'</span><span style=\"color: #008080; text-decoration-color: #008080\">: </span><span style=\"color: #008080; text-decoration-color: #008080; font-weight: bold\">320</span><span style=\"color: #008080; text-decoration-color: #008080\">, </span>\n",
       "<span style=\"color: #008080; text-decoration-color: #008080\">'vertices'</span><span style=\"color: #008080; text-decoration-color: #008080\">: </span><span style=\"color: #008080; text-decoration-color: #008080; font-weight: bold\">4</span><span style=\"color: #008080; text-decoration-color: #008080; font-weight: bold\">})</span>\n",
       "</pre>\n"
      ],
      "text/plain": [
       "  \u001b[36mDataset loaded, shape: \u001b[0m\u001b[1;36mFrozenMappingWarningOnValuesAccess\u001b[0m\u001b[1;36m(\u001b[0m\u001b[1;36m{\u001b[0m\u001b[36m'time'\u001b[0m\u001b[36m: \u001b[0m\u001b[1;36m12\u001b[0m\u001b[36m, \u001b[0m\u001b[36m'bnds'\u001b[0m\u001b[36m: \u001b[0m\u001b[1;36m2\u001b[0m\u001b[36m, \u001b[0m\u001b[36m'lev'\u001b[0m\u001b[36m: \u001b[0m\u001b[1;36m60\u001b[0m\u001b[36m, \u001b[0m\u001b[36m'j'\u001b[0m\u001b[36m: \u001b[0m\u001b[1;36m384\u001b[0m\u001b[36m, \u001b[0m\u001b[36m'i'\u001b[0m\u001b[36m: \u001b[0m\u001b[1;36m320\u001b[0m\u001b[36m, \u001b[0m\n",
       "\u001b[36m'vertices'\u001b[0m\u001b[36m: \u001b[0m\u001b[1;36m4\u001b[0m\u001b[1;36m}\u001b[0m\u001b[1;36m)\u001b[0m\n"
      ]
     },
     "metadata": {},
     "output_type": "display_data"
    },
    {
     "data": {
      "text/html": [
       "<pre style=\"white-space:pre;overflow-x:auto;line-height:normal;font-family:Menlo,'DejaVu Sans Mono',consolas,'Courier New',monospace\">  <span style=\"color: #008080; text-decoration-color: #008080\">Creating RegridderManager...</span>\n",
       "</pre>\n"
      ],
      "text/plain": [
       "  \u001b[36mCreating RegridderManager\u001b[0m\u001b[36m...\u001b[0m\n"
      ]
     },
     "metadata": {},
     "output_type": "display_data"
    },
    {
     "name": "stdout",
     "output_type": "stream",
     "text": [
      "Selected top level of dataset\n"
     ]
    },
    {
     "name": "stderr",
     "output_type": "stream",
     "text": [
      "/maps-priv/maps/rt582/esgf-download/esgpull/esgpullplus/regrid.py:259: UserWarning: rename 'i' to 'y' does not create an index anymore. Try using swap_dims instead or use set_index after rename to create an indexed coordinate.\n",
      "  self.ds = self.ds.rename(coord_map)\n",
      "/maps-priv/maps/rt582/esgf-download/esgpull/esgpullplus/regrid.py:259: UserWarning: rename 'j' to 'x' does not create an index anymore. Try using swap_dims instead or use set_index after rename to create an indexed coordinate.\n",
      "  self.ds = self.ds.rename(coord_map)\n"
     ]
    },
    {
     "data": {
      "text/html": [
       "<pre style=\"white-space:pre;overflow-x:auto;line-height:normal;font-family:Menlo,'DejaVu Sans Mono',consolas,'Courier New',monospace\">  <span style=\"color: #008080; text-decoration-color: #008080\">RegridderManager created</span>\n",
       "</pre>\n"
      ],
      "text/plain": [
       "  \u001b[36mRegridderManager created\u001b[0m\n"
      ]
     },
     "metadata": {},
     "output_type": "display_data"
    },
    {
     "data": {
      "text/html": [
       "<pre style=\"white-space:pre;overflow-x:auto;line-height:normal;font-family:Menlo,'DejaVu Sans Mono',consolas,'Courier New',monospace\">  <span style=\"color: #008080; text-decoration-color: #008080\">Starting regridding...</span>\n",
       "</pre>\n"
      ],
      "text/plain": [
       "  \u001b[36mStarting regridding\u001b[0m\u001b[36m...\u001b[0m\n"
      ]
     },
     "metadata": {},
     "output_type": "display_data"
    },
    {
     "name": "stdout",
     "output_type": "stream",
     "text": [
      "Structured grid detected, using xESMF\n"
     ]
    },
    {
     "name": "stderr",
     "output_type": "stream",
     "text": [
      "/maps/rt582/miniforge3/envs/esgplus/lib/python3.11/site-packages/xesmf/backend.py:41: UserWarning: Input array is not F_CONTIGUOUS. Will affect performance.\n",
      "  warnings.warn('Input array is not F_CONTIGUOUS. ' 'Will affect performance.')\n",
      "/maps/rt582/miniforge3/envs/esgplus/lib/python3.11/site-packages/xesmf/backend.py:56: UserWarning: Latitude is outside of [-90, 90]\n",
      "  warnings.warn('Latitude is outside of [-90, 90]')\n"
     ]
    },
    {
     "data": {
      "text/html": [
       "<pre style=\"white-space:pre;overflow-x:auto;line-height:normal;font-family:Menlo,'DejaVu Sans Mono',consolas,'Courier New',monospace\">  <span style=\"color: #008080; text-decoration-color: #008080\">Regridding completed</span>\n",
       "</pre>\n"
      ],
      "text/plain": [
       "  \u001b[36mRegridding completed\u001b[0m\n"
      ]
     },
     "metadata": {},
     "output_type": "display_data"
    },
    {
     "data": {
      "text/html": [
       "<pre style=\"white-space:pre;overflow-x:auto;line-height:normal;font-family:Menlo,'DejaVu Sans Mono',consolas,'Courier New',monospace\">  <span style=\"color: #008080; text-decoration-color: #008080\">Processing output...</span>\n",
       "</pre>\n"
      ],
      "text/plain": [
       "  \u001b[36mProcessing output\u001b[0m\u001b[36m...\u001b[0m\n"
      ]
     },
     "metadata": {},
     "output_type": "display_data"
    },
    {
     "data": {
      "text/html": [
       "<pre style=\"white-space:pre;overflow-x:auto;line-height:normal;font-family:Menlo,'DejaVu Sans Mono',consolas,'Courier New',monospace\">  <span style=\"color: #008080; text-decoration-color: #008080\">Output processed</span>\n",
       "</pre>\n"
      ],
      "text/plain": [
       "  \u001b[36mOutput processed\u001b[0m\n"
      ]
     },
     "metadata": {},
     "output_type": "display_data"
    },
    {
     "data": {
      "text/html": [
       "<pre style=\"white-space:pre;overflow-x:auto;line-height:normal;font-family:Menlo,'DejaVu Sans Mono',consolas,'Courier New',monospace\">  <span style=\"color: #008080; text-decoration-color: #008080\">Saving to: </span>\n",
       "<span style=\"color: #008080; text-decoration-color: #008080\">/maps-priv/maps/rt582/esgf-download/data/test/reprojected/so_Omon_TaiESM1_ssp126_r1i1p1f1_gn_201601-201612.nc</span>\n",
       "</pre>\n"
      ],
      "text/plain": [
       "  \u001b[36mSaving to: \u001b[0m\n",
       "\u001b[36m/maps-priv/maps/rt582/esgf-download/data/test/reprojected/\u001b[0m\u001b[36mso_Omon_TaiESM1_ssp126_r1i1p1f1_gn_201601-201612.nc\u001b[0m\n"
      ]
     },
     "metadata": {},
     "output_type": "display_data"
    },
    {
     "data": {
      "text/html": [
       "<pre style=\"white-space:pre;overflow-x:auto;line-height:normal;font-family:Menlo,'DejaVu Sans Mono',consolas,'Courier New',monospace\">  <span style=\"color: #008080; text-decoration-color: #008080\">File saved</span>\n",
       "</pre>\n"
      ],
      "text/plain": [
       "  \u001b[36mFile saved\u001b[0m\n"
      ]
     },
     "metadata": {},
     "output_type": "display_data"
    },
    {
     "data": {
      "text/html": [
       "<pre style=\"white-space:pre;overflow-x:auto;line-height:normal;font-family:Menlo,'DejaVu Sans Mono',consolas,'Courier New',monospace\"><span style=\"color: #008000; text-decoration-color: #008000\">Regridded </span><span style=\"color: #008000; text-decoration-color: #008000; font-weight: bold\">(</span><span style=\"color: #008000; text-decoration-color: #008000\">xESMF</span><span style=\"color: #008000; text-decoration-color: #008000; font-weight: bold\">)</span><span style=\"color: #008000; text-decoration-color: #008000\">:</span> maps/rt582/esgf-download/data/test/so_Omon_TaiESM1_ssp126_r1i1p1f1_gn_201601-<span style=\"color: #008080; text-decoration-color: #008080; font-weight: bold\">201612.</span>nc\n",
       "</pre>\n"
      ],
      "text/plain": [
       "\u001b[32mRegridded \u001b[0m\u001b[1;32m(\u001b[0m\u001b[32mxESMF\u001b[0m\u001b[1;32m)\u001b[0m\u001b[32m:\u001b[0m maps/rt582/esgf-download/data/test/so_Omon_TaiESM1_ssp126_r1i1p1f1_gn_201601-\u001b[1;36m201612.\u001b[0mnc\n"
      ]
     },
     "metadata": {},
     "output_type": "display_data"
    },
    {
     "data": {
      "text/html": [
       "<pre style=\"white-space:pre;overflow-x:auto;line-height:normal;font-family:Menlo,'DejaVu Sans Mono',consolas,'Courier New',monospace\"><span style=\"color: #000080; text-decoration-color: #000080\">Processing file </span><span style=\"color: #000080; text-decoration-color: #000080; font-weight: bold\">2</span><span style=\"color: #000080; text-decoration-color: #000080\">/</span><span style=\"color: #000080; text-decoration-color: #000080; font-weight: bold\">2</span><span style=\"color: #000080; text-decoration-color: #000080\">:</span> so_Omon_TaiESM1_ssp126_r1i1p1f1_gn_201501-<span style=\"color: #008080; text-decoration-color: #008080; font-weight: bold\">201512.</span>nc\n",
       "</pre>\n"
      ],
      "text/plain": [
       "\u001b[34mProcessing file \u001b[0m\u001b[1;34m2\u001b[0m\u001b[34m/\u001b[0m\u001b[1;34m2\u001b[0m\u001b[34m:\u001b[0m so_Omon_TaiESM1_ssp126_r1i1p1f1_gn_201501-\u001b[1;36m201512.\u001b[0mnc\n"
      ]
     },
     "metadata": {},
     "output_type": "display_data"
    },
    {
     "data": {
      "text/html": [
       "<pre style=\"white-space:pre;overflow-x:auto;line-height:normal;font-family:Menlo,'DejaVu Sans Mono',consolas,'Courier New',monospace\">  <span style=\"color: #008080; text-decoration-color: #008080\">Loading dataset...</span>\n",
       "</pre>\n"
      ],
      "text/plain": [
       "  \u001b[36mLoading dataset\u001b[0m\u001b[36m...\u001b[0m\n"
      ]
     },
     "metadata": {},
     "output_type": "display_data"
    },
    {
     "data": {
      "text/html": [
       "<pre style=\"white-space:pre;overflow-x:auto;line-height:normal;font-family:Menlo,'DejaVu Sans Mono',consolas,'Courier New',monospace\">  <span style=\"color: #008080; text-decoration-color: #008080\">Dataset loaded, shape: </span><span style=\"color: #008080; text-decoration-color: #008080; font-weight: bold\">FrozenMappingWarningOnValuesAccess({</span><span style=\"color: #008080; text-decoration-color: #008080\">'time'</span><span style=\"color: #008080; text-decoration-color: #008080\">: </span><span style=\"color: #008080; text-decoration-color: #008080; font-weight: bold\">12</span><span style=\"color: #008080; text-decoration-color: #008080\">, </span><span style=\"color: #008080; text-decoration-color: #008080\">'bnds'</span><span style=\"color: #008080; text-decoration-color: #008080\">: </span><span style=\"color: #008080; text-decoration-color: #008080; font-weight: bold\">2</span><span style=\"color: #008080; text-decoration-color: #008080\">, </span><span style=\"color: #008080; text-decoration-color: #008080\">'lev'</span><span style=\"color: #008080; text-decoration-color: #008080\">: </span><span style=\"color: #008080; text-decoration-color: #008080; font-weight: bold\">60</span><span style=\"color: #008080; text-decoration-color: #008080\">, </span><span style=\"color: #008080; text-decoration-color: #008080\">'j'</span><span style=\"color: #008080; text-decoration-color: #008080\">: </span><span style=\"color: #008080; text-decoration-color: #008080; font-weight: bold\">384</span><span style=\"color: #008080; text-decoration-color: #008080\">, </span><span style=\"color: #008080; text-decoration-color: #008080\">'i'</span><span style=\"color: #008080; text-decoration-color: #008080\">: </span><span style=\"color: #008080; text-decoration-color: #008080; font-weight: bold\">320</span><span style=\"color: #008080; text-decoration-color: #008080\">, </span>\n",
       "<span style=\"color: #008080; text-decoration-color: #008080\">'vertices'</span><span style=\"color: #008080; text-decoration-color: #008080\">: </span><span style=\"color: #008080; text-decoration-color: #008080; font-weight: bold\">4</span><span style=\"color: #008080; text-decoration-color: #008080; font-weight: bold\">})</span>\n",
       "</pre>\n"
      ],
      "text/plain": [
       "  \u001b[36mDataset loaded, shape: \u001b[0m\u001b[1;36mFrozenMappingWarningOnValuesAccess\u001b[0m\u001b[1;36m(\u001b[0m\u001b[1;36m{\u001b[0m\u001b[36m'time'\u001b[0m\u001b[36m: \u001b[0m\u001b[1;36m12\u001b[0m\u001b[36m, \u001b[0m\u001b[36m'bnds'\u001b[0m\u001b[36m: \u001b[0m\u001b[1;36m2\u001b[0m\u001b[36m, \u001b[0m\u001b[36m'lev'\u001b[0m\u001b[36m: \u001b[0m\u001b[1;36m60\u001b[0m\u001b[36m, \u001b[0m\u001b[36m'j'\u001b[0m\u001b[36m: \u001b[0m\u001b[1;36m384\u001b[0m\u001b[36m, \u001b[0m\u001b[36m'i'\u001b[0m\u001b[36m: \u001b[0m\u001b[1;36m320\u001b[0m\u001b[36m, \u001b[0m\n",
       "\u001b[36m'vertices'\u001b[0m\u001b[36m: \u001b[0m\u001b[1;36m4\u001b[0m\u001b[1;36m}\u001b[0m\u001b[1;36m)\u001b[0m\n"
      ]
     },
     "metadata": {},
     "output_type": "display_data"
    },
    {
     "data": {
      "text/html": [
       "<pre style=\"white-space:pre;overflow-x:auto;line-height:normal;font-family:Menlo,'DejaVu Sans Mono',consolas,'Courier New',monospace\">  <span style=\"color: #008080; text-decoration-color: #008080\">Creating RegridderManager...</span>\n",
       "</pre>\n"
      ],
      "text/plain": [
       "  \u001b[36mCreating RegridderManager\u001b[0m\u001b[36m...\u001b[0m\n"
      ]
     },
     "metadata": {},
     "output_type": "display_data"
    },
    {
     "name": "stdout",
     "output_type": "stream",
     "text": [
      "Selected top level of dataset\n"
     ]
    },
    {
     "name": "stderr",
     "output_type": "stream",
     "text": [
      "/maps-priv/maps/rt582/esgf-download/esgpull/esgpullplus/regrid.py:259: UserWarning: rename 'i' to 'y' does not create an index anymore. Try using swap_dims instead or use set_index after rename to create an indexed coordinate.\n",
      "  self.ds = self.ds.rename(coord_map)\n",
      "/maps-priv/maps/rt582/esgf-download/esgpull/esgpullplus/regrid.py:259: UserWarning: rename 'j' to 'x' does not create an index anymore. Try using swap_dims instead or use set_index after rename to create an indexed coordinate.\n",
      "  self.ds = self.ds.rename(coord_map)\n"
     ]
    },
    {
     "data": {
      "text/html": [
       "<pre style=\"white-space:pre;overflow-x:auto;line-height:normal;font-family:Menlo,'DejaVu Sans Mono',consolas,'Courier New',monospace\">  <span style=\"color: #008080; text-decoration-color: #008080\">RegridderManager created</span>\n",
       "</pre>\n"
      ],
      "text/plain": [
       "  \u001b[36mRegridderManager created\u001b[0m\n"
      ]
     },
     "metadata": {},
     "output_type": "display_data"
    },
    {
     "data": {
      "text/html": [
       "<pre style=\"white-space:pre;overflow-x:auto;line-height:normal;font-family:Menlo,'DejaVu Sans Mono',consolas,'Courier New',monospace\">  <span style=\"color: #008080; text-decoration-color: #008080\">Starting regridding...</span>\n",
       "</pre>\n"
      ],
      "text/plain": [
       "  \u001b[36mStarting regridding\u001b[0m\u001b[36m...\u001b[0m\n"
      ]
     },
     "metadata": {},
     "output_type": "display_data"
    },
    {
     "name": "stdout",
     "output_type": "stream",
     "text": [
      "Structured grid detected, using xESMF\n"
     ]
    },
    {
     "name": "stderr",
     "output_type": "stream",
     "text": [
      "/maps/rt582/miniforge3/envs/esgplus/lib/python3.11/site-packages/xesmf/backend.py:41: UserWarning: Input array is not F_CONTIGUOUS. Will affect performance.\n",
      "  warnings.warn('Input array is not F_CONTIGUOUS. ' 'Will affect performance.')\n",
      "/maps/rt582/miniforge3/envs/esgplus/lib/python3.11/site-packages/xesmf/backend.py:56: UserWarning: Latitude is outside of [-90, 90]\n",
      "  warnings.warn('Latitude is outside of [-90, 90]')\n"
     ]
    },
    {
     "data": {
      "text/html": [
       "<pre style=\"white-space:pre;overflow-x:auto;line-height:normal;font-family:Menlo,'DejaVu Sans Mono',consolas,'Courier New',monospace\">  <span style=\"color: #008080; text-decoration-color: #008080\">Regridding completed</span>\n",
       "</pre>\n"
      ],
      "text/plain": [
       "  \u001b[36mRegridding completed\u001b[0m\n"
      ]
     },
     "metadata": {},
     "output_type": "display_data"
    },
    {
     "data": {
      "text/html": [
       "<pre style=\"white-space:pre;overflow-x:auto;line-height:normal;font-family:Menlo,'DejaVu Sans Mono',consolas,'Courier New',monospace\">  <span style=\"color: #008080; text-decoration-color: #008080\">Processing output...</span>\n",
       "</pre>\n"
      ],
      "text/plain": [
       "  \u001b[36mProcessing output\u001b[0m\u001b[36m...\u001b[0m\n"
      ]
     },
     "metadata": {},
     "output_type": "display_data"
    },
    {
     "data": {
      "text/html": [
       "<pre style=\"white-space:pre;overflow-x:auto;line-height:normal;font-family:Menlo,'DejaVu Sans Mono',consolas,'Courier New',monospace\">  <span style=\"color: #008080; text-decoration-color: #008080\">Output processed</span>\n",
       "</pre>\n"
      ],
      "text/plain": [
       "  \u001b[36mOutput processed\u001b[0m\n"
      ]
     },
     "metadata": {},
     "output_type": "display_data"
    },
    {
     "data": {
      "text/html": [
       "<pre style=\"white-space:pre;overflow-x:auto;line-height:normal;font-family:Menlo,'DejaVu Sans Mono',consolas,'Courier New',monospace\">  <span style=\"color: #008080; text-decoration-color: #008080\">Saving to: </span>\n",
       "<span style=\"color: #008080; text-decoration-color: #008080\">/maps-priv/maps/rt582/esgf-download/data/test/reprojected/so_Omon_TaiESM1_ssp126_r1i1p1f1_gn_201501-201512.nc</span>\n",
       "</pre>\n"
      ],
      "text/plain": [
       "  \u001b[36mSaving to: \u001b[0m\n",
       "\u001b[36m/maps-priv/maps/rt582/esgf-download/data/test/reprojected/\u001b[0m\u001b[36mso_Omon_TaiESM1_ssp126_r1i1p1f1_gn_201501-201512.nc\u001b[0m\n"
      ]
     },
     "metadata": {},
     "output_type": "display_data"
    },
    {
     "data": {
      "text/html": [
       "<pre style=\"white-space:pre;overflow-x:auto;line-height:normal;font-family:Menlo,'DejaVu Sans Mono',consolas,'Courier New',monospace\">  <span style=\"color: #008080; text-decoration-color: #008080\">File saved</span>\n",
       "</pre>\n"
      ],
      "text/plain": [
       "  \u001b[36mFile saved\u001b[0m\n"
      ]
     },
     "metadata": {},
     "output_type": "display_data"
    },
    {
     "data": {
      "text/html": [
       "<pre style=\"white-space:pre;overflow-x:auto;line-height:normal;font-family:Menlo,'DejaVu Sans Mono',consolas,'Courier New',monospace\"><span style=\"color: #008000; text-decoration-color: #008000\">Regridded </span><span style=\"color: #008000; text-decoration-color: #008000; font-weight: bold\">(</span><span style=\"color: #008000; text-decoration-color: #008000\">xESMF</span><span style=\"color: #008000; text-decoration-color: #008000; font-weight: bold\">)</span><span style=\"color: #008000; text-decoration-color: #008000\">:</span> maps/rt582/esgf-download/data/test/so_Omon_TaiESM1_ssp126_r1i1p1f1_gn_201501-<span style=\"color: #008080; text-decoration-color: #008080; font-weight: bold\">201512.</span>nc\n",
       "</pre>\n"
      ],
      "text/plain": [
       "\u001b[32mRegridded \u001b[0m\u001b[1;32m(\u001b[0m\u001b[32mxESMF\u001b[0m\u001b[1;32m)\u001b[0m\u001b[32m:\u001b[0m maps/rt582/esgf-download/data/test/so_Omon_TaiESM1_ssp126_r1i1p1f1_gn_201501-\u001b[1;36m201512.\u001b[0mnc\n"
      ]
     },
     "metadata": {},
     "output_type": "display_data"
    },
    {
     "data": {
      "text/html": [
       "<pre style=\"white-space:pre;overflow-x:auto;line-height:normal;font-family:Menlo,'DejaVu Sans Mono',consolas,'Courier New',monospace\">\n",
       "<span style=\"color: #000080; text-decoration-color: #000080; font-weight: bold\">Regridding Summary:</span>\n",
       "</pre>\n"
      ],
      "text/plain": [
       "\n",
       "\u001b[1;34mRegridding Summary:\u001b[0m\n"
      ]
     },
     "metadata": {},
     "output_type": "display_data"
    },
    {
     "data": {
      "text/html": [
       "<pre style=\"white-space:pre;overflow-x:auto;line-height:normal;font-family:Menlo,'DejaVu Sans Mono',consolas,'Courier New',monospace\"><span style=\"color: #008000; text-decoration-color: #008000\">Successful:</span> <span style=\"color: #008080; text-decoration-color: #008080; font-weight: bold\">2</span>\n",
       "</pre>\n"
      ],
      "text/plain": [
       "\u001b[32mSuccessful:\u001b[0m \u001b[1;36m2\u001b[0m\n"
      ]
     },
     "metadata": {},
     "output_type": "display_data"
    },
    {
     "data": {
      "text/html": [
       "<pre style=\"white-space:pre;overflow-x:auto;line-height:normal;font-family:Menlo,'DejaVu Sans Mono',consolas,'Courier New',monospace\"><span style=\"color: #800000; text-decoration-color: #800000\">Failed:</span> <span style=\"color: #008080; text-decoration-color: #008080; font-weight: bold\">0</span>\n",
       "</pre>\n"
      ],
      "text/plain": [
       "\u001b[31mFailed:\u001b[0m \u001b[1;36m0\u001b[0m\n"
      ]
     },
     "metadata": {},
     "output_type": "display_data"
    },
    {
     "data": {
      "text/html": [
       "<pre style=\"white-space:pre;overflow-x:auto;line-height:normal;font-family:Menlo,'DejaVu Sans Mono',consolas,'Courier New',monospace\"><span style=\"color: #c0c0c0; text-decoration-color: #c0c0c0\">Skipped:</span> <span style=\"color: #008080; text-decoration-color: #008080; font-weight: bold\">0</span>\n",
       "</pre>\n"
      ],
      "text/plain": [
       "\u001b[37mSkipped:\u001b[0m \u001b[1;36m0\u001b[0m\n"
      ]
     },
     "metadata": {},
     "output_type": "display_data"
    },
    {
     "data": {
      "text/html": [
       "<pre style=\"white-space:pre;overflow-x:auto;line-height:normal;font-family:Menlo,'DejaVu Sans Mono',consolas,'Courier New',monospace\"><span style=\"color: #000080; text-decoration-color: #000080\">Total processed:</span> <span style=\"color: #008080; text-decoration-color: #008080; font-weight: bold\">2</span>\n",
       "</pre>\n"
      ],
      "text/plain": [
       "\u001b[34mTotal processed:\u001b[0m \u001b[1;36m2\u001b[0m\n"
      ]
     },
     "metadata": {},
     "output_type": "display_data"
    },
    {
     "data": {
      "text/html": [
       "<pre style=\"white-space:pre;overflow-x:auto;line-height:normal;font-family:Menlo,'DejaVu Sans Mono',consolas,'Courier New',monospace\">🕒 END: <span style=\"color: #008080; text-decoration-color: #008080; font-weight: bold\">2025</span>-<span style=\"color: #008080; text-decoration-color: #008080; font-weight: bold\">10</span>-<span style=\"color: #008080; text-decoration-color: #008080; font-weight: bold\">10</span> <span style=\"color: #00ff00; text-decoration-color: #00ff00; font-weight: bold\">10:50:10</span>\n",
       "\n",
       "</pre>\n"
      ],
      "text/plain": [
       "🕒 END: \u001b[1;36m2025\u001b[0m-\u001b[1;36m10\u001b[0m-\u001b[1;36m10\u001b[0m \u001b[1;92m10:50:10\u001b[0m\n",
       "\n"
      ]
     },
     "metadata": {},
     "output_type": "display_data"
    },
    {
     "data": {
      "text/html": [
       "<pre style=\"white-space:pre;overflow-x:auto;line-height:normal;font-family:Menlo,'DejaVu Sans Mono',consolas,'Courier New',monospace\">🕒 DURATION: <span style=\"color: #00ff00; text-decoration-color: #00ff00; font-weight: bold\">00:55:11</span>\n",
       "\n",
       "</pre>\n"
      ],
      "text/plain": [
       "🕒 DURATION: \u001b[1;92m00:55:11\u001b[0m\n",
       "\n"
      ]
     },
     "metadata": {},
     "output_type": "display_data"
    }
   ],
   "source": [
    "test_dir = paths.data / \"test\"\n",
    "regrid.regrid_files_by_subdirectory(\n",
    "    watch_dir=test_dir,\n",
    ")\n"
   ]
  },
  {
   "cell_type": "code",
   "execution_count": 6,
   "id": "8f2bc35a",
   "metadata": {},
   "outputs": [
    {
     "data": {
      "text/html": [
       "<div><svg style=\"position: absolute; width: 0; height: 0; overflow: hidden\">\n",
       "<defs>\n",
       "<symbol id=\"icon-database\" viewBox=\"0 0 32 32\">\n",
       "<path d=\"M16 0c-8.837 0-16 2.239-16 5v4c0 2.761 7.163 5 16 5s16-2.239 16-5v-4c0-2.761-7.163-5-16-5z\"></path>\n",
       "<path d=\"M16 17c-8.837 0-16-2.239-16-5v6c0 2.761 7.163 5 16 5s16-2.239 16-5v-6c0 2.761-7.163 5-16 5z\"></path>\n",
       "<path d=\"M16 26c-8.837 0-16-2.239-16-5v6c0 2.761 7.163 5 16 5s16-2.239 16-5v-6c0 2.761-7.163 5-16 5z\"></path>\n",
       "</symbol>\n",
       "<symbol id=\"icon-file-text2\" viewBox=\"0 0 32 32\">\n",
       "<path d=\"M28.681 7.159c-0.694-0.947-1.662-2.053-2.724-3.116s-2.169-2.030-3.116-2.724c-1.612-1.182-2.393-1.319-2.841-1.319h-15.5c-1.378 0-2.5 1.121-2.5 2.5v27c0 1.378 1.122 2.5 2.5 2.5h23c1.378 0 2.5-1.122 2.5-2.5v-19.5c0-0.448-0.137-1.23-1.319-2.841zM24.543 5.457c0.959 0.959 1.712 1.825 2.268 2.543h-4.811v-4.811c0.718 0.556 1.584 1.309 2.543 2.268zM28 29.5c0 0.271-0.229 0.5-0.5 0.5h-23c-0.271 0-0.5-0.229-0.5-0.5v-27c0-0.271 0.229-0.5 0.5-0.5 0 0 15.499-0 15.5 0v7c0 0.552 0.448 1 1 1h7v19.5z\"></path>\n",
       "<path d=\"M23 26h-14c-0.552 0-1-0.448-1-1s0.448-1 1-1h14c0.552 0 1 0.448 1 1s-0.448 1-1 1z\"></path>\n",
       "<path d=\"M23 22h-14c-0.552 0-1-0.448-1-1s0.448-1 1-1h14c0.552 0 1 0.448 1 1s-0.448 1-1 1z\"></path>\n",
       "<path d=\"M23 18h-14c-0.552 0-1-0.448-1-1s0.448-1 1-1h14c0.552 0 1 0.448 1 1s-0.448 1-1 1z\"></path>\n",
       "</symbol>\n",
       "</defs>\n",
       "</svg>\n",
       "<style>/* CSS stylesheet for displaying xarray objects in notebooks */\n",
       "\n",
       ":root {\n",
       "  --xr-font-color0: var(\n",
       "    --jp-content-font-color0,\n",
       "    var(--pst-color-text-base rgba(0, 0, 0, 1))\n",
       "  );\n",
       "  --xr-font-color2: var(\n",
       "    --jp-content-font-color2,\n",
       "    var(--pst-color-text-base, rgba(0, 0, 0, 0.54))\n",
       "  );\n",
       "  --xr-font-color3: var(\n",
       "    --jp-content-font-color3,\n",
       "    var(--pst-color-text-base, rgba(0, 0, 0, 0.38))\n",
       "  );\n",
       "  --xr-border-color: var(\n",
       "    --jp-border-color2,\n",
       "    hsl(from var(--pst-color-on-background, white) h s calc(l - 10))\n",
       "  );\n",
       "  --xr-disabled-color: var(\n",
       "    --jp-layout-color3,\n",
       "    hsl(from var(--pst-color-on-background, white) h s calc(l - 40))\n",
       "  );\n",
       "  --xr-background-color: var(\n",
       "    --jp-layout-color0,\n",
       "    var(--pst-color-on-background, white)\n",
       "  );\n",
       "  --xr-background-color-row-even: var(\n",
       "    --jp-layout-color1,\n",
       "    hsl(from var(--pst-color-on-background, white) h s calc(l - 5))\n",
       "  );\n",
       "  --xr-background-color-row-odd: var(\n",
       "    --jp-layout-color2,\n",
       "    hsl(from var(--pst-color-on-background, white) h s calc(l - 15))\n",
       "  );\n",
       "}\n",
       "\n",
       "html[theme=\"dark\"],\n",
       "html[data-theme=\"dark\"],\n",
       "body[data-theme=\"dark\"],\n",
       "body.vscode-dark {\n",
       "  --xr-font-color0: var(\n",
       "    --jp-content-font-color0,\n",
       "    var(--pst-color-text-base, rgba(255, 255, 255, 1))\n",
       "  );\n",
       "  --xr-font-color2: var(\n",
       "    --jp-content-font-color2,\n",
       "    var(--pst-color-text-base, rgba(255, 255, 255, 0.54))\n",
       "  );\n",
       "  --xr-font-color3: var(\n",
       "    --jp-content-font-color3,\n",
       "    var(--pst-color-text-base, rgba(255, 255, 255, 0.38))\n",
       "  );\n",
       "  --xr-border-color: var(\n",
       "    --jp-border-color2,\n",
       "    hsl(from var(--pst-color-on-background, #111111) h s calc(l + 10))\n",
       "  );\n",
       "  --xr-disabled-color: var(\n",
       "    --jp-layout-color3,\n",
       "    hsl(from var(--pst-color-on-background, #111111) h s calc(l + 40))\n",
       "  );\n",
       "  --xr-background-color: var(\n",
       "    --jp-layout-color0,\n",
       "    var(--pst-color-on-background, #111111)\n",
       "  );\n",
       "  --xr-background-color-row-even: var(\n",
       "    --jp-layout-color1,\n",
       "    hsl(from var(--pst-color-on-background, #111111) h s calc(l + 5))\n",
       "  );\n",
       "  --xr-background-color-row-odd: var(\n",
       "    --jp-layout-color2,\n",
       "    hsl(from var(--pst-color-on-background, #111111) h s calc(l + 15))\n",
       "  );\n",
       "}\n",
       "\n",
       ".xr-wrap {\n",
       "  display: block !important;\n",
       "  min-width: 300px;\n",
       "  max-width: 700px;\n",
       "  line-height: 1.6;\n",
       "}\n",
       "\n",
       ".xr-text-repr-fallback {\n",
       "  /* fallback to plain text repr when CSS is not injected (untrusted notebook) */\n",
       "  display: none;\n",
       "}\n",
       "\n",
       ".xr-header {\n",
       "  padding-top: 6px;\n",
       "  padding-bottom: 6px;\n",
       "  margin-bottom: 4px;\n",
       "  border-bottom: solid 1px var(--xr-border-color);\n",
       "}\n",
       "\n",
       ".xr-header > div,\n",
       ".xr-header > ul {\n",
       "  display: inline;\n",
       "  margin-top: 0;\n",
       "  margin-bottom: 0;\n",
       "}\n",
       "\n",
       ".xr-obj-type,\n",
       ".xr-obj-name,\n",
       ".xr-group-name {\n",
       "  margin-left: 2px;\n",
       "  margin-right: 10px;\n",
       "}\n",
       "\n",
       ".xr-group-name::before {\n",
       "  content: \"📁\";\n",
       "  padding-right: 0.3em;\n",
       "}\n",
       "\n",
       ".xr-group-name,\n",
       ".xr-obj-type {\n",
       "  color: var(--xr-font-color2);\n",
       "}\n",
       "\n",
       ".xr-sections {\n",
       "  padding-left: 0 !important;\n",
       "  display: grid;\n",
       "  grid-template-columns: 150px auto auto 1fr 0 20px 0 20px;\n",
       "  margin-block-start: 0;\n",
       "  margin-block-end: 0;\n",
       "}\n",
       "\n",
       ".xr-section-item {\n",
       "  display: contents;\n",
       "}\n",
       "\n",
       ".xr-section-item input {\n",
       "  display: inline-block;\n",
       "  opacity: 0;\n",
       "  height: 0;\n",
       "  margin: 0;\n",
       "}\n",
       "\n",
       ".xr-section-item input + label {\n",
       "  color: var(--xr-disabled-color);\n",
       "  border: 2px solid transparent !important;\n",
       "}\n",
       "\n",
       ".xr-section-item input:enabled + label {\n",
       "  cursor: pointer;\n",
       "  color: var(--xr-font-color2);\n",
       "}\n",
       "\n",
       ".xr-section-item input:focus + label {\n",
       "  border: 2px solid var(--xr-font-color0) !important;\n",
       "}\n",
       "\n",
       ".xr-section-item input:enabled + label:hover {\n",
       "  color: var(--xr-font-color0);\n",
       "}\n",
       "\n",
       ".xr-section-summary {\n",
       "  grid-column: 1;\n",
       "  color: var(--xr-font-color2);\n",
       "  font-weight: 500;\n",
       "}\n",
       "\n",
       ".xr-section-summary > span {\n",
       "  display: inline-block;\n",
       "  padding-left: 0.5em;\n",
       "}\n",
       "\n",
       ".xr-section-summary-in:disabled + label {\n",
       "  color: var(--xr-font-color2);\n",
       "}\n",
       "\n",
       ".xr-section-summary-in + label:before {\n",
       "  display: inline-block;\n",
       "  content: \"►\";\n",
       "  font-size: 11px;\n",
       "  width: 15px;\n",
       "  text-align: center;\n",
       "}\n",
       "\n",
       ".xr-section-summary-in:disabled + label:before {\n",
       "  color: var(--xr-disabled-color);\n",
       "}\n",
       "\n",
       ".xr-section-summary-in:checked + label:before {\n",
       "  content: \"▼\";\n",
       "}\n",
       "\n",
       ".xr-section-summary-in:checked + label > span {\n",
       "  display: none;\n",
       "}\n",
       "\n",
       ".xr-section-summary,\n",
       ".xr-section-inline-details {\n",
       "  padding-top: 4px;\n",
       "}\n",
       "\n",
       ".xr-section-inline-details {\n",
       "  grid-column: 2 / -1;\n",
       "}\n",
       "\n",
       ".xr-section-details {\n",
       "  display: none;\n",
       "  grid-column: 1 / -1;\n",
       "  margin-top: 4px;\n",
       "  margin-bottom: 5px;\n",
       "}\n",
       "\n",
       ".xr-section-summary-in:checked ~ .xr-section-details {\n",
       "  display: contents;\n",
       "}\n",
       "\n",
       ".xr-group-box {\n",
       "  display: inline-grid;\n",
       "  grid-template-columns: 0px 20px auto;\n",
       "  width: 100%;\n",
       "}\n",
       "\n",
       ".xr-group-box-vline {\n",
       "  grid-column-start: 1;\n",
       "  border-right: 0.2em solid;\n",
       "  border-color: var(--xr-border-color);\n",
       "  width: 0px;\n",
       "}\n",
       "\n",
       ".xr-group-box-hline {\n",
       "  grid-column-start: 2;\n",
       "  grid-row-start: 1;\n",
       "  height: 1em;\n",
       "  width: 20px;\n",
       "  border-bottom: 0.2em solid;\n",
       "  border-color: var(--xr-border-color);\n",
       "}\n",
       "\n",
       ".xr-group-box-contents {\n",
       "  grid-column-start: 3;\n",
       "}\n",
       "\n",
       ".xr-array-wrap {\n",
       "  grid-column: 1 / -1;\n",
       "  display: grid;\n",
       "  grid-template-columns: 20px auto;\n",
       "}\n",
       "\n",
       ".xr-array-wrap > label {\n",
       "  grid-column: 1;\n",
       "  vertical-align: top;\n",
       "}\n",
       "\n",
       ".xr-preview {\n",
       "  color: var(--xr-font-color3);\n",
       "}\n",
       "\n",
       ".xr-array-preview,\n",
       ".xr-array-data {\n",
       "  padding: 0 5px !important;\n",
       "  grid-column: 2;\n",
       "}\n",
       "\n",
       ".xr-array-data,\n",
       ".xr-array-in:checked ~ .xr-array-preview {\n",
       "  display: none;\n",
       "}\n",
       "\n",
       ".xr-array-in:checked ~ .xr-array-data,\n",
       ".xr-array-preview {\n",
       "  display: inline-block;\n",
       "}\n",
       "\n",
       ".xr-dim-list {\n",
       "  display: inline-block !important;\n",
       "  list-style: none;\n",
       "  padding: 0 !important;\n",
       "  margin: 0;\n",
       "}\n",
       "\n",
       ".xr-dim-list li {\n",
       "  display: inline-block;\n",
       "  padding: 0;\n",
       "  margin: 0;\n",
       "}\n",
       "\n",
       ".xr-dim-list:before {\n",
       "  content: \"(\";\n",
       "}\n",
       "\n",
       ".xr-dim-list:after {\n",
       "  content: \")\";\n",
       "}\n",
       "\n",
       ".xr-dim-list li:not(:last-child):after {\n",
       "  content: \",\";\n",
       "  padding-right: 5px;\n",
       "}\n",
       "\n",
       ".xr-has-index {\n",
       "  font-weight: bold;\n",
       "}\n",
       "\n",
       ".xr-var-list,\n",
       ".xr-var-item {\n",
       "  display: contents;\n",
       "}\n",
       "\n",
       ".xr-var-item > div,\n",
       ".xr-var-item label,\n",
       ".xr-var-item > .xr-var-name span {\n",
       "  background-color: var(--xr-background-color-row-even);\n",
       "  border-color: var(--xr-background-color-row-odd);\n",
       "  margin-bottom: 0;\n",
       "  padding-top: 2px;\n",
       "}\n",
       "\n",
       ".xr-var-item > .xr-var-name:hover span {\n",
       "  padding-right: 5px;\n",
       "}\n",
       "\n",
       ".xr-var-list > li:nth-child(odd) > div,\n",
       ".xr-var-list > li:nth-child(odd) > label,\n",
       ".xr-var-list > li:nth-child(odd) > .xr-var-name span {\n",
       "  background-color: var(--xr-background-color-row-odd);\n",
       "  border-color: var(--xr-background-color-row-even);\n",
       "}\n",
       "\n",
       ".xr-var-name {\n",
       "  grid-column: 1;\n",
       "}\n",
       "\n",
       ".xr-var-dims {\n",
       "  grid-column: 2;\n",
       "}\n",
       "\n",
       ".xr-var-dtype {\n",
       "  grid-column: 3;\n",
       "  text-align: right;\n",
       "  color: var(--xr-font-color2);\n",
       "}\n",
       "\n",
       ".xr-var-preview {\n",
       "  grid-column: 4;\n",
       "}\n",
       "\n",
       ".xr-index-preview {\n",
       "  grid-column: 2 / 5;\n",
       "  color: var(--xr-font-color2);\n",
       "}\n",
       "\n",
       ".xr-var-name,\n",
       ".xr-var-dims,\n",
       ".xr-var-dtype,\n",
       ".xr-preview,\n",
       ".xr-attrs dt {\n",
       "  white-space: nowrap;\n",
       "  overflow: hidden;\n",
       "  text-overflow: ellipsis;\n",
       "  padding-right: 10px;\n",
       "}\n",
       "\n",
       ".xr-var-name:hover,\n",
       ".xr-var-dims:hover,\n",
       ".xr-var-dtype:hover,\n",
       ".xr-attrs dt:hover {\n",
       "  overflow: visible;\n",
       "  width: auto;\n",
       "  z-index: 1;\n",
       "}\n",
       "\n",
       ".xr-var-attrs,\n",
       ".xr-var-data,\n",
       ".xr-index-data {\n",
       "  display: none;\n",
       "  border-top: 2px dotted var(--xr-background-color);\n",
       "  padding-bottom: 20px !important;\n",
       "  padding-top: 10px !important;\n",
       "}\n",
       "\n",
       ".xr-var-attrs-in + label,\n",
       ".xr-var-data-in + label,\n",
       ".xr-index-data-in + label {\n",
       "  padding: 0 1px;\n",
       "}\n",
       "\n",
       ".xr-var-attrs-in:checked ~ .xr-var-attrs,\n",
       ".xr-var-data-in:checked ~ .xr-var-data,\n",
       ".xr-index-data-in:checked ~ .xr-index-data {\n",
       "  display: block;\n",
       "}\n",
       "\n",
       ".xr-var-data > table {\n",
       "  float: right;\n",
       "}\n",
       "\n",
       ".xr-var-data > pre,\n",
       ".xr-index-data > pre,\n",
       ".xr-var-data > table > tbody > tr {\n",
       "  background-color: transparent !important;\n",
       "}\n",
       "\n",
       ".xr-var-name span,\n",
       ".xr-var-data,\n",
       ".xr-index-name div,\n",
       ".xr-index-data,\n",
       ".xr-attrs {\n",
       "  padding-left: 25px !important;\n",
       "}\n",
       "\n",
       ".xr-attrs,\n",
       ".xr-var-attrs,\n",
       ".xr-var-data,\n",
       ".xr-index-data {\n",
       "  grid-column: 1 / -1;\n",
       "}\n",
       "\n",
       "dl.xr-attrs {\n",
       "  padding: 0;\n",
       "  margin: 0;\n",
       "  display: grid;\n",
       "  grid-template-columns: 125px auto;\n",
       "}\n",
       "\n",
       ".xr-attrs dt,\n",
       ".xr-attrs dd {\n",
       "  padding: 0;\n",
       "  margin: 0;\n",
       "  float: left;\n",
       "  padding-right: 10px;\n",
       "  width: auto;\n",
       "}\n",
       "\n",
       ".xr-attrs dt {\n",
       "  font-weight: normal;\n",
       "  grid-column: 1;\n",
       "}\n",
       "\n",
       ".xr-attrs dt:hover span {\n",
       "  display: inline-block;\n",
       "  background: var(--xr-background-color);\n",
       "  padding-right: 10px;\n",
       "}\n",
       "\n",
       ".xr-attrs dd {\n",
       "  grid-column: 2;\n",
       "  white-space: pre-wrap;\n",
       "  word-break: break-all;\n",
       "}\n",
       "\n",
       ".xr-icon-database,\n",
       ".xr-icon-file-text2,\n",
       ".xr-no-icon {\n",
       "  display: inline-block;\n",
       "  vertical-align: middle;\n",
       "  width: 1em;\n",
       "  height: 1.5em !important;\n",
       "  stroke-width: 0;\n",
       "  stroke: currentColor;\n",
       "  fill: currentColor;\n",
       "}\n",
       "\n",
       ".xr-var-attrs-in:checked + label > .xr-icon-file-text2,\n",
       ".xr-var-data-in:checked + label > .xr-icon-database,\n",
       ".xr-index-data-in:checked + label > .xr-icon-database {\n",
       "  color: var(--xr-font-color0);\n",
       "  filter: drop-shadow(1px 1px 5px var(--xr-font-color2));\n",
       "  stroke-width: 0.8px;\n",
       "}\n",
       "</style><pre class='xr-text-repr-fallback'>&lt;xarray.Dataset&gt; Size: 888B\n",
       "Dimensions:    (time: 12, latitude: 3, longitude: 5)\n",
       "Coordinates:\n",
       "  * time       (time) object 96B 2015-01-16 12:00:00 ... 2015-12-16 12:00:00\n",
       "  * latitude   (latitude) float64 24B -90.0 10.0 110.0\n",
       "  * longitude  (longitude) float64 40B -180.0 -80.0 20.0 120.0 220.0\n",
       "    depth      float64 8B ...\n",
       "Data variables:\n",
       "    so         (time, latitude, longitude) float32 720B ...\n",
       "Attributes: (12/46)\n",
       "    Conventions:            CF-1.7 CMIP-6.2\n",
       "    activity_id:            ScenarioMIP\n",
       "    branch_method:          Hybrid-restart from year 2015-01-01 of historical\n",
       "    branch_time_in_child:   0.0\n",
       "    branch_time_in_parent:  60225.0\n",
       "    contact:                Dr. Wei-Liang Lee (leelupin@gate.sinica.edu.tw)\n",
       "    ...                     ...\n",
       "    title:                  TaiESM1 output prepared for CMIP6\n",
       "    variable_id:            so\n",
       "    variant_label:          r1i1p1f1\n",
       "    license:                CMIP6 model data produced by REQUIRED is licensed...\n",
       "    cmor_version:           3.5.0\n",
       "    tracking_id:            hdl:21.14100/af13f5c0-1b79-4255-aab7-a8c7b7068492</pre><div class='xr-wrap' style='display:none'><div class='xr-header'><div class='xr-obj-type'>xarray.Dataset</div></div><ul class='xr-sections'><li class='xr-section-item'><input id='section-514cf09c-418c-4b01-9522-7d191b90793e' class='xr-section-summary-in' type='checkbox' disabled ><label for='section-514cf09c-418c-4b01-9522-7d191b90793e' class='xr-section-summary'  title='Expand/collapse section'>Dimensions:</label><div class='xr-section-inline-details'><ul class='xr-dim-list'><li><span class='xr-has-index'>time</span>: 12</li><li><span class='xr-has-index'>latitude</span>: 3</li><li><span class='xr-has-index'>longitude</span>: 5</li></ul></div><div class='xr-section-details'></div></li><li class='xr-section-item'><input id='section-accd7a53-deed-40ff-ba61-2dae92c994e2' class='xr-section-summary-in' type='checkbox'  checked><label for='section-accd7a53-deed-40ff-ba61-2dae92c994e2' class='xr-section-summary' >Coordinates: <span>(4)</span></label><div class='xr-section-inline-details'></div><div class='xr-section-details'><ul class='xr-var-list'><li class='xr-var-item'><div class='xr-var-name'><span class='xr-has-index'>time</span></div><div class='xr-var-dims'>(time)</div><div class='xr-var-dtype'>object</div><div class='xr-var-preview xr-preview'>2015-01-16 12:00:00 ... 2015-12-...</div><input id='attrs-681f7992-b273-4753-8d17-e9476b33254a' class='xr-var-attrs-in' type='checkbox' disabled><label for='attrs-681f7992-b273-4753-8d17-e9476b33254a' title='Show/Hide attributes'><svg class='icon xr-icon-file-text2'><use xlink:href='#icon-file-text2'></use></svg></label><input id='data-14bb7ee2-249a-4b68-abe3-aadd5cb26162' class='xr-var-data-in' type='checkbox'><label for='data-14bb7ee2-249a-4b68-abe3-aadd5cb26162' title='Show/Hide data repr'><svg class='icon xr-icon-database'><use xlink:href='#icon-database'></use></svg></label><div class='xr-var-attrs'><dl class='xr-attrs'></dl></div><div class='xr-var-data'><pre>array([cftime.DatetimeNoLeap(2015, 1, 16, 12, 0, 0, 0, has_year_zero=True),\n",
       "       cftime.DatetimeNoLeap(2015, 2, 15, 0, 0, 0, 0, has_year_zero=True),\n",
       "       cftime.DatetimeNoLeap(2015, 3, 16, 12, 0, 0, 0, has_year_zero=True),\n",
       "       cftime.DatetimeNoLeap(2015, 4, 16, 0, 0, 0, 0, has_year_zero=True),\n",
       "       cftime.DatetimeNoLeap(2015, 5, 16, 12, 0, 0, 0, has_year_zero=True),\n",
       "       cftime.DatetimeNoLeap(2015, 6, 16, 0, 0, 0, 0, has_year_zero=True),\n",
       "       cftime.DatetimeNoLeap(2015, 7, 16, 12, 0, 0, 0, has_year_zero=True),\n",
       "       cftime.DatetimeNoLeap(2015, 8, 16, 12, 0, 0, 0, has_year_zero=True),\n",
       "       cftime.DatetimeNoLeap(2015, 9, 16, 0, 0, 0, 0, has_year_zero=True),\n",
       "       cftime.DatetimeNoLeap(2015, 10, 16, 12, 0, 0, 0, has_year_zero=True),\n",
       "       cftime.DatetimeNoLeap(2015, 11, 16, 0, 0, 0, 0, has_year_zero=True),\n",
       "       cftime.DatetimeNoLeap(2015, 12, 16, 12, 0, 0, 0, has_year_zero=True)],\n",
       "      dtype=object)</pre></div></li><li class='xr-var-item'><div class='xr-var-name'><span class='xr-has-index'>latitude</span></div><div class='xr-var-dims'>(latitude)</div><div class='xr-var-dtype'>float64</div><div class='xr-var-preview xr-preview'>-90.0 10.0 110.0</div><input id='attrs-e7458c89-744b-4dff-acdb-465b5d736519' class='xr-var-attrs-in' type='checkbox' disabled><label for='attrs-e7458c89-744b-4dff-acdb-465b5d736519' title='Show/Hide attributes'><svg class='icon xr-icon-file-text2'><use xlink:href='#icon-file-text2'></use></svg></label><input id='data-a136cd51-f90f-4430-a258-d5dc1536c1da' class='xr-var-data-in' type='checkbox'><label for='data-a136cd51-f90f-4430-a258-d5dc1536c1da' title='Show/Hide data repr'><svg class='icon xr-icon-database'><use xlink:href='#icon-database'></use></svg></label><div class='xr-var-attrs'><dl class='xr-attrs'></dl></div><div class='xr-var-data'><pre>array([-90.,  10., 110.])</pre></div></li><li class='xr-var-item'><div class='xr-var-name'><span class='xr-has-index'>longitude</span></div><div class='xr-var-dims'>(longitude)</div><div class='xr-var-dtype'>float64</div><div class='xr-var-preview xr-preview'>-180.0 -80.0 20.0 120.0 220.0</div><input id='attrs-4759aa1b-2fb9-4966-b2a6-ba48926c2c0e' class='xr-var-attrs-in' type='checkbox' disabled><label for='attrs-4759aa1b-2fb9-4966-b2a6-ba48926c2c0e' title='Show/Hide attributes'><svg class='icon xr-icon-file-text2'><use xlink:href='#icon-file-text2'></use></svg></label><input id='data-c3273876-8fa6-453d-9a48-7b9b4ae53413' class='xr-var-data-in' type='checkbox'><label for='data-c3273876-8fa6-453d-9a48-7b9b4ae53413' title='Show/Hide data repr'><svg class='icon xr-icon-database'><use xlink:href='#icon-database'></use></svg></label><div class='xr-var-attrs'><dl class='xr-attrs'></dl></div><div class='xr-var-data'><pre>array([-180.,  -80.,   20.,  120.,  220.])</pre></div></li><li class='xr-var-item'><div class='xr-var-name'><span>depth</span></div><div class='xr-var-dims'>()</div><div class='xr-var-dtype'>float64</div><div class='xr-var-preview xr-preview'>...</div><input id='attrs-14e27012-53b2-427e-bd45-dae7d082f91b' class='xr-var-attrs-in' type='checkbox' ><label for='attrs-14e27012-53b2-427e-bd45-dae7d082f91b' title='Show/Hide attributes'><svg class='icon xr-icon-file-text2'><use xlink:href='#icon-file-text2'></use></svg></label><input id='data-3b81cf9e-6a17-4472-99de-0c0e336fd14c' class='xr-var-data-in' type='checkbox'><label for='data-3b81cf9e-6a17-4472-99de-0c0e336fd14c' title='Show/Hide data repr'><svg class='icon xr-icon-database'><use xlink:href='#icon-database'></use></svg></label><div class='xr-var-attrs'><dl class='xr-attrs'><dt><span>bounds :</span></dt><dd>lev_bnds</dd><dt><span>units :</span></dt><dd>m</dd><dt><span>axis :</span></dt><dd>Z</dd><dt><span>positive :</span></dt><dd>down</dd><dt><span>long_name :</span></dt><dd>ocean depth coordinate</dd><dt><span>standard_name :</span></dt><dd>depth</dd></dl></div><div class='xr-var-data'><pre>[1 values with dtype=float64]</pre></div></li></ul></div></li><li class='xr-section-item'><input id='section-b86c753d-1921-4b8e-b842-7a1f333fec78' class='xr-section-summary-in' type='checkbox'  checked><label for='section-b86c753d-1921-4b8e-b842-7a1f333fec78' class='xr-section-summary' >Data variables: <span>(1)</span></label><div class='xr-section-inline-details'></div><div class='xr-section-details'><ul class='xr-var-list'><li class='xr-var-item'><div class='xr-var-name'><span>so</span></div><div class='xr-var-dims'>(time, latitude, longitude)</div><div class='xr-var-dtype'>float32</div><div class='xr-var-preview xr-preview'>...</div><input id='attrs-e71ab264-636e-4c8e-9d66-c7126a5434fa' class='xr-var-attrs-in' type='checkbox' ><label for='attrs-e71ab264-636e-4c8e-9d66-c7126a5434fa' title='Show/Hide attributes'><svg class='icon xr-icon-file-text2'><use xlink:href='#icon-file-text2'></use></svg></label><input id='data-adb2e3c8-21df-477b-ac8c-a8e62b19f0ab' class='xr-var-data-in' type='checkbox'><label for='data-adb2e3c8-21df-477b-ac8c-a8e62b19f0ab' title='Show/Hide data repr'><svg class='icon xr-icon-database'><use xlink:href='#icon-database'></use></svg></label><div class='xr-var-attrs'><dl class='xr-attrs'><dt><span>regrid_method :</span></dt><dd>bilinear</dd></dl></div><div class='xr-var-data'><pre>[180 values with dtype=float32]</pre></div></li></ul></div></li><li class='xr-section-item'><input id='section-9ab1e969-21ab-43a6-9e78-0040d6056571' class='xr-section-summary-in' type='checkbox'  ><label for='section-9ab1e969-21ab-43a6-9e78-0040d6056571' class='xr-section-summary' >Attributes: <span>(46)</span></label><div class='xr-section-inline-details'></div><div class='xr-section-details'><dl class='xr-attrs'><dt><span>Conventions :</span></dt><dd>CF-1.7 CMIP-6.2</dd><dt><span>activity_id :</span></dt><dd>ScenarioMIP</dd><dt><span>branch_method :</span></dt><dd>Hybrid-restart from year 2015-01-01 of historical</dd><dt><span>branch_time_in_child :</span></dt><dd>0.0</dd><dt><span>branch_time_in_parent :</span></dt><dd>60225.0</dd><dt><span>contact :</span></dt><dd>Dr. Wei-Liang Lee (leelupin@gate.sinica.edu.tw)</dd><dt><span>creation_date :</span></dt><dd>2020-10-21T10:42:34Z</dd><dt><span>data_specs_version :</span></dt><dd>01.00.31</dd><dt><span>experiment :</span></dt><dd>update of RCP2.6 based on SSP1</dd><dt><span>experiment_id :</span></dt><dd>ssp126</dd><dt><span>external_variables :</span></dt><dd>areacello volcello</dd><dt><span>forcing_index :</span></dt><dd>1</dd><dt><span>frequency :</span></dt><dd>mon</dd><dt><span>further_info_url :</span></dt><dd>https://furtherinfo.es-doc.org/CMIP6.AS-RCEC.TaiESM1.ssp126.none.r1i1p1f1</dd><dt><span>grid :</span></dt><dd>finite-volume grid with 0.9x1.25 degree lat/lon resolution</dd><dt><span>grid_label :</span></dt><dd>gn</dd><dt><span>history :</span></dt><dd>2020-10-21T10:42:34Z ; CMOR rewrote data to be consistent with CMIP6, CF-1.7 CMIP-6.2 and CF standards.</dd><dt><span>initialization_index :</span></dt><dd>1</dd><dt><span>institution :</span></dt><dd>Research Center for Environmental Changes, Academia Sinica, Nankang, Taipei 11529, Taiwan</dd><dt><span>institution_id :</span></dt><dd>AS-RCEC</dd><dt><span>mip_era :</span></dt><dd>CMIP6</dd><dt><span>nominal_resolution :</span></dt><dd>100 km</dd><dt><span>parent_activity_id :</span></dt><dd>CMIP</dd><dt><span>parent_experiment_id :</span></dt><dd>historical</dd><dt><span>parent_mip_era :</span></dt><dd>CMIP6</dd><dt><span>parent_source_id :</span></dt><dd>TaiESM1</dd><dt><span>parent_time_units :</span></dt><dd>days since 1850-01-01</dd><dt><span>parent_variant_label :</span></dt><dd>r1i1p1f1</dd><dt><span>physics_index :</span></dt><dd>1</dd><dt><span>product :</span></dt><dd>model-output</dd><dt><span>realization_index :</span></dt><dd>1</dd><dt><span>realm :</span></dt><dd>ocean</dd><dt><span>references :</span></dt><dd>https://10.5194/gmd-2019-377</dd><dt><span>source :</span></dt><dd>TaiESM 1.0 (2018): \n",
       "aerosol: SNAP (same grid as atmos)\n",
       "atmos: TaiAM1 (0.9x1.25 degree; 288 x 192 longitude/latitude; 30 levels; top level ~2 hPa)\n",
       "atmosChem: SNAP (same grid as atmos)\n",
       "land: CLM4.0 (same grid as atmos)\n",
       "landIce: none\n",
       "ocean: POP2 (320x384 longitude/latitude; 60 levels; top grid cell 0-10 m)\n",
       "ocnBgchem: none\n",
       "seaIce: CICE4</dd><dt><span>source_id :</span></dt><dd>TaiESM1</dd><dt><span>source_type :</span></dt><dd>AOGCM AER BGC</dd><dt><span>sub_experiment :</span></dt><dd>none</dd><dt><span>sub_experiment_id :</span></dt><dd>none</dd><dt><span>table_id :</span></dt><dd>Omon</dd><dt><span>table_info :</span></dt><dd>Creation Date:(24 July 2019) MD5:dbab1cb31aa309d63bbd9d5b9cefce80</dd><dt><span>title :</span></dt><dd>TaiESM1 output prepared for CMIP6</dd><dt><span>variable_id :</span></dt><dd>so</dd><dt><span>variant_label :</span></dt><dd>r1i1p1f1</dd><dt><span>license :</span></dt><dd>CMIP6 model data produced by REQUIRED is licensed under a Creative Commons Attribution ShareAlike 4.0 International License (https://creativecommons.org/licenses). Consult https://pcmdi.llnl.gov/CMIP6/TermsOfUse for terms of use governing CMIP6 output, including citation requirements and proper acknowledgment. Further information about this data, including some limitations, can be found via the further_info_url (recorded as a global attribute in this file) and. The data producers and data providers make no warranty, either express or implied, including, but not limited to, warranties of merchantability and fitness for a particular purpose. All liabilities arising from the supply of the information (including any liability arising in negligence) are excluded to the fullest extent permitted by law.</dd><dt><span>cmor_version :</span></dt><dd>3.5.0</dd><dt><span>tracking_id :</span></dt><dd>hdl:21.14100/af13f5c0-1b79-4255-aab7-a8c7b7068492</dd></dl></div></li></ul></div></div>"
      ],
      "text/plain": [
       "<xarray.Dataset> Size: 888B\n",
       "Dimensions:    (time: 12, latitude: 3, longitude: 5)\n",
       "Coordinates:\n",
       "  * time       (time) object 96B 2015-01-16 12:00:00 ... 2015-12-16 12:00:00\n",
       "  * latitude   (latitude) float64 24B -90.0 10.0 110.0\n",
       "  * longitude  (longitude) float64 40B -180.0 -80.0 20.0 120.0 220.0\n",
       "    depth      float64 8B ...\n",
       "Data variables:\n",
       "    so         (time, latitude, longitude) float32 720B ...\n",
       "Attributes: (12/46)\n",
       "    Conventions:            CF-1.7 CMIP-6.2\n",
       "    activity_id:            ScenarioMIP\n",
       "    branch_method:          Hybrid-restart from year 2015-01-01 of historical\n",
       "    branch_time_in_child:   0.0\n",
       "    branch_time_in_parent:  60225.0\n",
       "    contact:                Dr. Wei-Liang Lee (leelupin@gate.sinica.edu.tw)\n",
       "    ...                     ...\n",
       "    title:                  TaiESM1 output prepared for CMIP6\n",
       "    variable_id:            so\n",
       "    variant_label:          r1i1p1f1\n",
       "    license:                CMIP6 model data produced by REQUIRED is licensed...\n",
       "    cmor_version:           3.5.0\n",
       "    tracking_id:            hdl:21.14100/af13f5c0-1b79-4255-aab7-a8c7b7068492"
      ]
     },
     "execution_count": 6,
     "metadata": {},
     "output_type": "execute_result"
    }
   ],
   "source": [
    "xa.open_dataset(\"/maps/rt582/esgf-download/data/test/reprojected/so_Omon_TaiESM1_ssp126_r1i1p1f1_gn_201501-201512.nc\")"
   ]
  }
 ],
 "metadata": {
  "kernelspec": {
   "display_name": "esgplus",
   "language": "python",
   "name": "python3"
  },
  "language_info": {
   "codemirror_mode": {
    "name": "ipython",
    "version": 3
   },
   "file_extension": ".py",
   "mimetype": "text/x-python",
   "name": "python",
   "nbconvert_exporter": "python",
   "pygments_lexer": "ipython3",
   "version": "3.11.13"
  }
 },
 "nbformat": 4,
 "nbformat_minor": 5
}

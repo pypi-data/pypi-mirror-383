{
 "cells": [
  {
   "cell_type": "code",
   "execution_count": null,
   "id": "dccbc277-7576-4e5c-90e6-438a8521218b",
   "metadata": {},
   "outputs": [],
   "source": [
    "# Same color as the next\n",
    "from iturtle import Screen, Turtle\n",
    "\n",
    "screen = Screen()\n",
    "\n",
    "turtle = Turtle(screen)\n",
    "turtle.bgcolor(1, 0.5, 0.25)\n"
   ]
  },
  {
   "cell_type": "code",
   "execution_count": null,
   "id": "3809ca3d-fc59-4ac7-bd84-c725f14c6ca1",
   "metadata": {},
   "outputs": [],
   "source": [
    "from iturtle import Screen, Turtle\n",
    "\n",
    "screen = Screen()\n",
    "\n",
    "turtle = Turtle(screen)\n",
    "turtle.bgcolor((255, 125, 61))\n"
   ]
  },
  {
   "cell_type": "code",
   "execution_count": null,
   "id": "15ae01a7-cd8c-4bac-a97a-8d9f30bcddb6",
   "metadata": {},
   "outputs": [],
   "source": [
    "# White\n",
    "from iturtle import Screen, Turtle\n",
    "\n",
    "screen = Screen()\n",
    "\n",
    "turtle = Turtle(screen)\n",
    "turtle.bgcolor((1, 1, 1))"
   ]
  },
  {
   "cell_type": "code",
   "execution_count": null,
   "id": "3edbb60c-ec27-460d-a352-d5fd531d039e",
   "metadata": {},
   "outputs": [],
   "source": [
    "# Nearly black\n",
    "from iturtle import Screen, Turtle\n",
    "\n",
    "screen = Screen()\n",
    "\n",
    "turtle = Turtle(screen)\n",
    "turtle.colormode(255)\n",
    "turtle.bgcolor(1, 1, 1)"
   ]
  },
  {
   "cell_type": "code",
   "execution_count": null,
   "id": "981c0062-4953-45ad-be25-4ba63b0e48f4",
   "metadata": {},
   "outputs": [],
   "source": [
    "# (1, 1, 1)\n",
    "turtle.bgcolor()"
   ]
  },
  {
   "cell_type": "code",
   "execution_count": null,
   "id": "f9d982ff-8648-42a6-9a81-642d8ee67862",
   "metadata": {},
   "outputs": [],
   "source": [
    "# (0.00392156862745098, 0.00392156862745098, 0.00392156862745098)\n",
    "turtle.colormode(1.0)\n",
    "turtle.bgcolor()"
   ]
  }
 ],
 "metadata": {
  "kernelspec": {
   "display_name": "Python 3 (ipykernel)",
   "language": "python",
   "name": "python3"
  },
  "language_info": {
   "codemirror_mode": {
    "name": "ipython",
    "version": 3
   },
   "file_extension": ".py",
   "mimetype": "text/x-python",
   "name": "python",
   "nbconvert_exporter": "python",
   "pygments_lexer": "ipython3",
   "version": "3.11.3"
  }
 },
 "nbformat": 4,
 "nbformat_minor": 5
}

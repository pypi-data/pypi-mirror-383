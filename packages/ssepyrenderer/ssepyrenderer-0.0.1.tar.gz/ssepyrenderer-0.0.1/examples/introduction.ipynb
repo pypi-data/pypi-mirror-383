{
 "cells": [
  {
   "cell_type": "code",
   "execution_count": null,
   "id": "098e77dc",
   "metadata": {},
   "outputs": [
    {
     "data": {
      "application/vnd.jupyter.widget-view+json": {
       "model_id": "7c820497baa94928994a9a10eb34c1a8",
       "version_major": 2,
       "version_minor": 1
      },
      "text/plain": [
       "Debug()"
      ]
     },
     "execution_count": 5,
     "metadata": {},
     "output_type": "execute_result"
    }
   ],
   "source": [
    "import anywidget\n",
    "\n",
    "esm_debug = r\"\"\"\n",
    "export default ({ el }) => {\n",
    "  const box = document.createElement('div');\n",
    "  box.style.padding = '12px';\n",
    "  box.style.border = '2px solid #555';\n",
    "  box.style.background = 'gold';\n",
    "  box.style.font = '13px/1.4 system-ui, sans-serif';\n",
    "  box.textContent = 'mounting...';\n",
    "  el.appendChild(box);\n",
    "\n",
    "  try {\n",
    "    const info = [\n",
    "      '[anywidget] mounted',\n",
    "      'userAgent: ' + navigator.userAgent,\n",
    "      'hasWebGPU: ' + ('gpu' in navigator),\n",
    "      'location: ' + (location ? location.href : '(n/a)'),\n",
    "      'document.readyState: ' + document.readyState,\n",
    "    ].join('\\\\n');\n",
    "    box.textContent = info;\n",
    "  } catch (err) {\n",
    "    box.textContent = 'Error during mount: ' + (err && err.message ? err.message : String(err));\n",
    "  }\n",
    "};\n",
    "\"\"\"\n",
    "\n",
    "\n",
    "class Debug(anywidget.AnyWidget):\n",
    "    _esm = esm_debug\n",
    "\n",
    "\n",
    "Debug()  # 셀 마지막 줄"
   ]
  }
 ],
 "metadata": {
  "kernelspec": {
   "display_name": ".venv",
   "language": "python",
   "name": "python3"
  },
  "language_info": {
   "codemirror_mode": {
    "name": "ipython",
    "version": 3
   },
   "file_extension": ".py",
   "mimetype": "text/x-python",
   "name": "python",
   "nbconvert_exporter": "python",
   "pygments_lexer": "ipython3",
   "version": "3.13.7"
  }
 },
 "nbformat": 4,
 "nbformat_minor": 5
}

{
 "cells": [
  {
   "cell_type": "markdown",
   "metadata": {
    "id": "zEuScQa-YTxH"
   },
   "source": [
    "# Welcome to the seventh MAST-ML tutorial notebook,\n",
    "\n",
    "# Model predictions with guide rails with MAST-ML!\n",
    "\n",
    "## In this notebook, we will learn how to perform simple checks on our test data:\n",
    "\n",
    "1. [Set up MAST-ML on Colab and begin session](#task1)\n",
    "2. [Fit models and check elemental spaces](#task2)\n",
    "3. [Fit models and check Gaussian Process Error Bars](#task3)\n",
    "4. [Fit models and check Domain with MADML](#task4)\n",
    "5. [Fit models and predict Domain](#task5)\n",
    "\n",
    "We need to first install dependencies"
   ]
  },
  {
   "cell_type": "markdown",
   "metadata": {
    "id": "qAaWiiqccj0Z"
   },
   "source": [
    "## Task 1: Set up MAST-ML on Colab and begin session <a name=\"task1\"></a>"
   ]
  },
  {
   "cell_type": "code",
   "execution_count": null,
   "metadata": {
    "id": "3s7adwqvUvzm"
   },
   "outputs": [],
   "source": [
    "!pip install mastml"
   ]
  },
  {
   "cell_type": "markdown",
   "metadata": {
    "id": "eHnQfNrgY3Uu"
   },
   "source": [
    "Mount Google Drive to save output from runs."
   ]
  },
  {
   "cell_type": "code",
   "execution_count": null,
   "metadata": {
    "id": "0enGVD7QVO4G"
   },
   "outputs": [],
   "source": [
    "from google.colab import drive\n",
    "drive.mount('/content/drive', force_remount=True)"
   ]
  },
  {
   "cell_type": "markdown",
   "metadata": {
    "id": "oHJq2q2fZCRD"
   },
   "source": [
    "Import needed packages and subroutines for running example."
   ]
  },
  {
   "cell_type": "code",
   "execution_count": 4,
   "metadata": {
    "id": "_eM1p76gW2Yt"
   },
   "outputs": [
    {
     "name": "stdout",
     "output_type": "stream",
     "text": [
      "Figshare is an optional dependency. To import data from figshare, manually install figshare via git clone of git clone https://github.com/cognoma/figshare.git\n",
      "scikit-lego is an optional dependency, enabling use of the LowessRegression model. If you want to use this model, do \"pip install scikit-lego\"\n",
      "linear-tree is an optional dependency, enabling use of Linear tree, forest, and boosting models. If you want to use this model, do \"pip install linear-tree\"\n",
      "gplearn is an optional dependency, enabling the use of genetic programming SymbolicRegressor model. If you want to use this model, do \"pip install gplearn\"\n"
     ]
    },
    {
     "name": "stderr",
     "output_type": "stream",
     "text": [
      "/Users/ryanjacobs/anaconda3/envs/tensorflow_env_v2/lib/python3.11/site-packages/tqdm/auto.py:21: TqdmWarning: IProgress not found. Please update jupyter and ipywidgets. See https://ipywidgets.readthedocs.io/en/stable/user_install.html\n",
      "  from .autonotebook import tqdm as notebook_tqdm\n",
      "Failed to import duecredit due to No module named 'duecredit'\n"
     ]
    },
    {
     "name": "stdout",
     "output_type": "stream",
     "text": [
      "CBFV is an optional dependency. To install CBFV, do pip install cbfv\n",
      "DeepChem is an optional dependency used to generate molecular descriptors from RDKit. To install Deepchem, do pip install deepchem\n"
     ]
    }
   ],
   "source": [
    "from mastml.mastml import Mastml\n",
    "from mastml.datasets import LocalDatasets\n",
    "from mastml.models import SklearnModel, EnsembleModel\n",
    "from mastml.preprocessing import SklearnPreprocessor\n",
    "from mastml.data_splitters import SklearnDataSplitter, NoSplit, LeaveOutPercent\n",
    "from mastml.feature_selectors import EnsembleModelFeatureSelector\n",
    "from mastml.mastml_predictor import make_prediction\n",
    "from pathlib import Path\n",
    "import mastml\n",
    "import subprocess\n",
    "import glob\n",
    "import os\n",
    "try:\n",
    "    data_path = os.path.join(mastml.__path__._path[0], 'data')\n",
    "except:\n",
    "    data_path = os.path.join(mastml.__path__[0], 'data')\n"
   ]
  },
  {
   "cell_type": "markdown",
   "metadata": {
    "id": "vzqT3_kEZF58"
   },
   "source": [
    "Define the path to save data."
   ]
  },
  {
   "cell_type": "code",
   "execution_count": 5,
   "metadata": {
    "id": "MrBExmXsW6-F"
   },
   "outputs": [],
   "source": [
    "SAVEPATH = 'drive/MyDrive/MASTML_tutorial_7_ModelPredictions_with_Guide_Rails'\n",
    "\n",
    "mastml_instance = Mastml(savepath=SAVEPATH)\n",
    "savepath = mastml_instance.get_savepath"
   ]
  },
  {
   "cell_type": "markdown",
   "metadata": {
    "id": "LT_CrB5rZIS6"
   },
   "source": [
    "Load the standard diffusion dataset."
   ]
  },
  {
   "cell_type": "code",
   "execution_count": 6,
   "metadata": {
    "id": "fcUd8ESJXrX-"
   },
   "outputs": [
    {
     "name": "stdout",
     "output_type": "stream",
     "text": [
      "WARNING: feature_names not specified but target was specified. Assuming all columns except target and extra columns are features\n"
     ]
    }
   ],
   "source": [
    "target = 'E_regression'\n",
    "\n",
    "extra_columns = ['Material compositions 1', 'Material compositions 2', 'Hop activation barrier']\n",
    "d = LocalDatasets(file_path=data_path+'/diffusion_data_allfeatures.xlsx',\n",
    "                  target=target,\n",
    "                  extra_columns=extra_columns,\n",
    "                  group_column='Material compositions 1',\n",
    "                  testdata_columns=None,\n",
    "                  as_frame=True)\n",
    "\n",
    "# Load the data with the load_data() method\n",
    "data_dict = d.load_data()\n",
    "\n",
    "# Let's assign each data object to its respective name\n",
    "X = data_dict['X']\n",
    "y = data_dict['y']\n",
    "X_extra = data_dict['X_extra']\n",
    "groups = data_dict['groups']\n",
    "X_testdata = data_dict['X_testdata']\n",
    "\n",
    "metrics = [\n",
    "           'r2_score',\n",
    "           'mean_absolute_error',\n",
    "           'root_mean_squared_error',\n",
    "           'rmse_over_stdev',\n",
    "           ]\n"
   ]
  },
  {
   "cell_type": "markdown",
   "metadata": {
    "id": "QvwP116Dcrxa"
   },
   "source": [
    "## Task 2: Fit models and check elemental spaces <a name=\"task1\"></a>"
   ]
  },
  {
   "cell_type": "markdown",
   "metadata": {
    "id": "SPUKH1kyZPGN"
   },
   "source": [
    "Setup machine learning which checks if an element from a test set was observed within the training set. If all elements from the test set are observed in the training set, the case is marked as \"in_domain\" = 1. If only some elements from the test set are observed in training data, then the case is marked as \"maybe_in_domain\" = 0. If none of the test elements are observed within training data, then the case is flagged as \"out_of_domain\" = -1."
   ]
  },
  {
   "cell_type": "code",
   "execution_count": 8,
   "metadata": {
    "id": "cy2nvl13X86O"
   },
   "outputs": [
    {
     "name": "stderr",
     "output_type": "stream",
     "text": [
      "Running splits: 100%|██████████████████████████████████████████████████████████████████████████████████████████████████████| 50/50 [03:35<00:00,  4.30s/it]\n"
     ]
    }
   ],
   "source": [
    "preprocessor = SklearnPreprocessor(\n",
    "                                   preprocessor='StandardScaler',\n",
    "                                   as_frame=True,\n",
    "                                   )\n",
    "\n",
    "model = SklearnModel(model='RandomForestRegressor')\n",
    "\n",
    "splitter = SklearnDataSplitter(\n",
    "                               splitter='RepeatedKFold',\n",
    "                               n_repeats=1,\n",
    "                               n_splits=5,\n",
    "                               )\n",
    "splitter.evaluate(\n",
    "                  savepath=savepath,\n",
    "                  X=X,\n",
    "                  y=y,\n",
    "                  models=[model],\n",
    "                  preprocessor=preprocessor,\n",
    "                  metrics=metrics,\n",
    "                  plots=['Scatter', 'Histogram'],\n",
    "                  X_extra=X_extra,\n",
    "                  verbosity=3,\n",
    "                  domain=[('elemental', groups)],\n",
    "                  )"
   ]
  },
  {
   "cell_type": "markdown",
   "metadata": {},
   "source": [
    "If you examine the domains_test.csv, you'll see that all data points are marked as in_domain (= 1). This is because test data\n",
    "was randomly held out, virtually guaranteeing that the same set of elements are present in the train and test sets. Below,\n",
    "we examine the extreme case of leaving out groups, where each group is a different host element. After running this, see what \n",
    "happens to the values of domains_train vs. domains_test: the test data are all marked as out of domain!"
   ]
  },
  {
   "cell_type": "code",
   "execution_count": 10,
   "metadata": {},
   "outputs": [
    {
     "name": "stderr",
     "output_type": "stream",
     "text": [
      "Running splits: 100%|██████████████████████████████████████████████████████████████████████████████████████████████████████| 15/15 [01:39<00:00,  6.64s/it]\n"
     ]
    },
    {
     "name": "stdout",
     "output_type": "stream",
     "text": [
      "Warning: unable to make Scatter.plot_predicted_vs_true_bars plot. Skipping...\n",
      "Warning: unable to make Scatter.plot_predicted_vs_true_bars plot. Skipping...\n"
     ]
    }
   ],
   "source": [
    "splitter = SklearnDataSplitter(\n",
    "                               splitter='LeaveOneGroupOut',\n",
    "                               )\n",
    "splitter.evaluate(\n",
    "                  savepath=savepath,\n",
    "                  X=X,\n",
    "                  y=y,\n",
    "                  groups=groups,\n",
    "                  models=[model],\n",
    "                  preprocessor=preprocessor,\n",
    "                  metrics=metrics,\n",
    "                  plots=['Scatter', 'Histogram'],\n",
    "                  X_extra=X_extra,\n",
    "                  verbosity=3,\n",
    "                  domain=[('elemental', groups)],\n",
    "                  )"
   ]
  },
  {
   "cell_type": "markdown",
   "metadata": {
    "id": "1-K4ILEEZuHG"
   },
   "source": [
    "Here we use the error bars inherently in Gaussian Process Regression (GPR) to determine if we should flag a case as worrisome. Through 5-fold cross validation, we attain the maximum uncertainty from GPR and compare to test cases. If the test case uncertainty is greater than the maximum training uncertainty, we mark the observation as \"out_of_domain\" and \"in_domain\" otherwise."
   ]
  },
  {
   "cell_type": "markdown",
   "metadata": {
    "id": "Gce-RKGWc2c4"
   },
   "source": [
    "## Task 3: Fit models and check Gaussian Process Error Bars <a name=\"task1\"></a>"
   ]
  },
  {
   "cell_type": "code",
   "execution_count": 12,
   "metadata": {
    "id": "-SvERU85YBa9"
   },
   "outputs": [
    {
     "name": "stderr",
     "output_type": "stream",
     "text": [
      "Running splits: 100%|████████████████████████████████████████████████████████████████████████████████████████████████████████| 5/5 [02:40<00:00, 32.14s/it]\n"
     ]
    }
   ],
   "source": [
    "splitter = SklearnDataSplitter(\n",
    "                               splitter='RepeatedKFold',\n",
    "                               n_repeats=1,\n",
    "                               n_splits=5,\n",
    "                               )\n",
    "splitter.evaluate(\n",
    "                  savepath=savepath,\n",
    "                  X=X,\n",
    "                  y=y,\n",
    "                  models=[model],\n",
    "                  preprocessor=preprocessor,\n",
    "                  metrics=metrics,\n",
    "                  plots=['Scatter', 'Histogram'],\n",
    "                  X_extra=X_extra,\n",
    "                  verbosity=3,\n",
    "                  domain=['gpr'],\n",
    "                  )"
   ]
  },
  {
   "cell_type": "markdown",
   "metadata": {
    "id": "s7uRLlgb0sPM"
   },
   "source": [
    "## Task 4: Fit models and check domain with MADML  <a name=\"task4\"></a>"
   ]
  },
  {
   "cell_type": "markdown",
   "metadata": {
    "id": "-2ZyDX3C0sPM"
   },
   "source": [
    "Fit the kinds of models that we need for domain evaluation using the kernel density estimate (KDE) approach in the materials application domain for machine learning (MADML) package. We use the bare minimum inputs here and mostly use default parameters. Keep in mind that feature selection may be needed for good results using the MADML package."
   ]
  },
  {
   "cell_type": "code",
   "execution_count": 13,
   "metadata": {
    "id": "iL0UMRyR0sPM"
   },
   "outputs": [
    {
     "name": "stderr",
     "output_type": "stream",
     "text": [
      "Running splits:   0%|                                                                                                                | 0/1 [00:00<?, ?it/s]\n",
      "  0%|                                                                                                                               | 0/10 [00:00<?, ?it/s]\u001b[A"
     ]
    },
    {
     "name": "stdout",
     "output_type": "stream",
     "text": [
      "MODEL <madml.models.combine object at 0x32f055dd0>\n",
      "starting fit\n"
     ]
    },
    {
     "name": "stderr",
     "output_type": "stream",
     "text": [
      "\n",
      " 10%|███████████▉                                                                                                           | 1/10 [00:12<01:51, 12.42s/it]\u001b[A"
     ]
    },
    {
     "name": "stdout",
     "output_type": "stream",
     "text": [
      "fit complete\n",
      "MODEL <madml.models.combine object at 0x35edd9ad0>\n",
      "starting fit\n"
     ]
    },
    {
     "name": "stderr",
     "output_type": "stream",
     "text": [
      "\n",
      " 20%|███████████████████████▊                                                                                               | 2/10 [00:22<01:29, 11.24s/it]\u001b[A"
     ]
    },
    {
     "name": "stdout",
     "output_type": "stream",
     "text": [
      "fit complete\n",
      "MODEL <madml.models.combine object at 0x35edb4c90>\n",
      "starting fit\n"
     ]
    },
    {
     "name": "stderr",
     "output_type": "stream",
     "text": [
      "\n",
      " 30%|███████████████████████████████████▋                                                                                   | 3/10 [00:33<01:15, 10.82s/it]\u001b[A"
     ]
    },
    {
     "name": "stdout",
     "output_type": "stream",
     "text": [
      "fit complete\n",
      "MODEL <madml.models.combine object at 0x32f0efed0>\n",
      "starting fit\n"
     ]
    },
    {
     "name": "stderr",
     "output_type": "stream",
     "text": [
      "\n",
      " 40%|███████████████████████████████████████████████▌                                                                       | 4/10 [00:43<01:03, 10.57s/it]\u001b[A"
     ]
    },
    {
     "name": "stdout",
     "output_type": "stream",
     "text": [
      "fit complete\n",
      "MODEL <madml.models.combine object at 0x35ed99890>\n",
      "starting fit\n"
     ]
    },
    {
     "name": "stderr",
     "output_type": "stream",
     "text": [
      "\n",
      " 50%|███████████████████████████████████████████████████████████▌                                                           | 5/10 [00:54<00:53, 10.78s/it]\u001b[A"
     ]
    },
    {
     "name": "stdout",
     "output_type": "stream",
     "text": [
      "fit complete\n",
      "MODEL <madml.models.combine object at 0x32f0eec10>\n",
      "starting fit\n"
     ]
    },
    {
     "name": "stderr",
     "output_type": "stream",
     "text": [
      "\n",
      " 60%|███████████████████████████████████████████████████████████████████████▍                                               | 6/10 [00:56<00:31,  7.84s/it]\u001b[A"
     ]
    },
    {
     "name": "stdout",
     "output_type": "stream",
     "text": [
      "fit complete\n",
      "MODEL <madml.models.combine object at 0x3334c1c10>\n",
      "starting fit\n"
     ]
    },
    {
     "name": "stderr",
     "output_type": "stream",
     "text": [
      "\n",
      " 70%|███████████████████████████████████████████████████████████████████████████████████▎                                   | 7/10 [01:05<00:24,  8.32s/it]\u001b[A"
     ]
    },
    {
     "name": "stdout",
     "output_type": "stream",
     "text": [
      "fit complete\n",
      "MODEL <madml.models.combine object at 0x31befee90>\n",
      "starting fit\n"
     ]
    },
    {
     "name": "stderr",
     "output_type": "stream",
     "text": [
      "\n",
      " 80%|███████████████████████████████████████████████████████████████████████████████████████████████▏                       | 8/10 [01:13<00:15,  7.92s/it]\u001b[A"
     ]
    },
    {
     "name": "stdout",
     "output_type": "stream",
     "text": [
      "fit complete\n",
      "MODEL <madml.models.combine object at 0x31be91450>\n",
      "starting fit\n"
     ]
    },
    {
     "name": "stderr",
     "output_type": "stream",
     "text": [
      "\n",
      " 90%|███████████████████████████████████████████████████████████████████████████████████████████████████████████            | 9/10 [01:20<00:07,  7.81s/it]\u001b[A"
     ]
    },
    {
     "name": "stdout",
     "output_type": "stream",
     "text": [
      "fit complete\n",
      "MODEL <madml.models.combine object at 0x31bd0c850>\n",
      "starting fit\n"
     ]
    },
    {
     "name": "stderr",
     "output_type": "stream",
     "text": [
      "\n",
      "100%|██████████████████████████████████████████████████████████████████████████████████████████████████████████████████████| 10/10 [01:30<00:00,  9.09s/it]\u001b[A"
     ]
    },
    {
     "name": "stdout",
     "output_type": "stream",
     "text": [
      "fit complete\n"
     ]
    },
    {
     "name": "stderr",
     "output_type": "stream",
     "text": [
      "\n",
      "Running splits: 100%|███████████████████████████████████████████████████████████████████████████████████████████████████████| 1/1 [02:07<00:00, 127.94s/it]\n"
     ]
    }
   ],
   "source": [
    "splitter = NoSplit() # Want to use NoSplit because MADML internally performs nested CV methods\n",
    "\n",
    "params = {'n_repeats': 1}  # Increase if more averaging needed for convergence\n",
    "domain = ('madml', params)\n",
    "\n",
    "splitter.evaluate(\n",
    "                  savepath=savepath,\n",
    "                  X=X,\n",
    "                  y=y,\n",
    "                  models=[model],\n",
    "                  preprocessor=preprocessor,\n",
    "                  metrics=metrics,\n",
    "                  plots=['Scatter', 'Histogram'],\n",
    "                  X_extra=X_extra,\n",
    "                  verbosity=3,\n",
    "                  domain=[domain],\n",
    "                  )"
   ]
  },
  {
   "cell_type": "markdown",
   "metadata": {
    "id": "Q_ZDWNWdoT9t"
   },
   "source": [
    "Use a specific linear uncertainty model with their coefficients here."
   ]
  },
  {
   "cell_type": "code",
   "execution_count": 14,
   "metadata": {
    "id": "L_Xvj1y4oT9t"
   },
   "outputs": [
    {
     "name": "stderr",
     "output_type": "stream",
     "text": [
      "Running splits:   0%|                                                                                                                | 0/1 [00:00<?, ?it/s]\n",
      "  0%|                                                                                                                               | 0/10 [00:00<?, ?it/s]\u001b[A"
     ]
    },
    {
     "name": "stdout",
     "output_type": "stream",
     "text": [
      "MODEL <madml.models.combine object at 0x31820bc90>\n",
      "starting fit\n"
     ]
    },
    {
     "name": "stderr",
     "output_type": "stream",
     "text": [
      "\n",
      " 10%|███████████▉                                                                                                           | 1/10 [00:11<01:43, 11.49s/it]\u001b[A"
     ]
    },
    {
     "name": "stdout",
     "output_type": "stream",
     "text": [
      "fit complete\n",
      "MODEL <madml.models.combine object at 0x313b4f690>\n",
      "starting fit\n"
     ]
    },
    {
     "name": "stderr",
     "output_type": "stream",
     "text": [
      "\n",
      " 20%|███████████████████████▊                                                                                               | 2/10 [00:22<01:29, 11.18s/it]\u001b[A"
     ]
    },
    {
     "name": "stdout",
     "output_type": "stream",
     "text": [
      "fit complete\n",
      "MODEL <madml.models.combine object at 0x317fad0d0>\n",
      "starting fit\n"
     ]
    },
    {
     "name": "stderr",
     "output_type": "stream",
     "text": [
      "\n",
      " 30%|███████████████████████████████████▋                                                                                   | 3/10 [00:33<01:16, 10.95s/it]\u001b[A"
     ]
    },
    {
     "name": "stdout",
     "output_type": "stream",
     "text": [
      "fit complete\n",
      "MODEL <madml.models.combine object at 0x2fe614290>\n",
      "starting fit\n"
     ]
    },
    {
     "name": "stderr",
     "output_type": "stream",
     "text": [
      "\n",
      " 40%|███████████████████████████████████████████████▌                                                                       | 4/10 [00:44<01:06, 11.01s/it]\u001b[A"
     ]
    },
    {
     "name": "stdout",
     "output_type": "stream",
     "text": [
      "fit complete\n",
      "MODEL <madml.models.combine object at 0x2fe6dd7d0>\n",
      "starting fit\n"
     ]
    },
    {
     "name": "stderr",
     "output_type": "stream",
     "text": [
      "\n",
      " 50%|███████████████████████████████████████████████████████████▌                                                           | 5/10 [00:55<00:54, 10.94s/it]\u001b[A"
     ]
    },
    {
     "name": "stdout",
     "output_type": "stream",
     "text": [
      "fit complete\n",
      "MODEL <madml.models.combine object at 0x35ec62f10>\n",
      "starting fit\n"
     ]
    },
    {
     "name": "stderr",
     "output_type": "stream",
     "text": [
      "\n",
      " 60%|███████████████████████████████████████████████████████████████████████▍                                               | 6/10 [00:57<00:31,  7.89s/it]\u001b[A"
     ]
    },
    {
     "name": "stdout",
     "output_type": "stream",
     "text": [
      "fit complete\n",
      "MODEL <madml.models.combine object at 0x35ec62050>\n",
      "starting fit\n"
     ]
    },
    {
     "name": "stderr",
     "output_type": "stream",
     "text": [
      "\n",
      " 70%|███████████████████████████████████████████████████████████████████████████████████▎                                   | 7/10 [01:06<00:25,  8.43s/it]\u001b[A"
     ]
    },
    {
     "name": "stdout",
     "output_type": "stream",
     "text": [
      "fit complete\n",
      "MODEL <madml.models.combine object at 0x2c8db88d0>\n",
      "starting fit\n"
     ]
    },
    {
     "name": "stderr",
     "output_type": "stream",
     "text": [
      "\n",
      " 80%|███████████████████████████████████████████████████████████████████████████████████████████████▏                       | 8/10 [01:13<00:15,  7.85s/it]\u001b[A"
     ]
    },
    {
     "name": "stdout",
     "output_type": "stream",
     "text": [
      "fit complete\n",
      "MODEL <madml.models.combine object at 0x2fe9d1690>\n",
      "starting fit\n"
     ]
    },
    {
     "name": "stderr",
     "output_type": "stream",
     "text": [
      "\n",
      " 90%|███████████████████████████████████████████████████████████████████████████████████████████████████████████            | 9/10 [01:20<00:07,  7.62s/it]\u001b[A"
     ]
    },
    {
     "name": "stdout",
     "output_type": "stream",
     "text": [
      "fit complete\n",
      "MODEL <madml.models.combine object at 0x31b976a90>\n",
      "starting fit\n"
     ]
    },
    {
     "name": "stderr",
     "output_type": "stream",
     "text": [
      "\n",
      "100%|██████████████████████████████████████████████████████████████████████████████████████████████████████████████████████| 10/10 [01:30<00:00,  9.03s/it]\u001b[A"
     ]
    },
    {
     "name": "stdout",
     "output_type": "stream",
     "text": [
      "fit complete\n"
     ]
    },
    {
     "name": "stderr",
     "output_type": "stream",
     "text": [
      "\n",
      "Running splits: 100%|███████████████████████████████████████████████████████████████████████████████████████████████████████| 1/1 [02:08<00:00, 128.44s/it]\n"
     ]
    }
   ],
   "source": [
    "params = {'n_repeats': 1}  # Increase if more averaging needed for convergence\n",
    "params['uq_coeffs'] = [0.0, 2.0, 0.1]  # Starting guess for coefficients in c0+c1*x+c2*x^2+...+cn*x^n\n",
    "domain = ('madml', params)\n",
    "\n",
    "splitter.evaluate(\n",
    "                  savepath=savepath,\n",
    "                  X=X,\n",
    "                  y=y,\n",
    "                  models=[model],\n",
    "                  preprocessor=preprocessor,\n",
    "                  metrics=metrics,\n",
    "                  plots=['Scatter', 'Histogram'],\n",
    "                  X_extra=X_extra,\n",
    "                  verbosity=3,\n",
    "                  domain=[domain],\n",
    "                  )"
   ]
  },
  {
   "cell_type": "markdown",
   "metadata": {
    "id": "bzCKrOOWoT9t"
   },
   "source": [
    "Let's say that we do not want to modify the uncertainty model coefficients. We can base the specific functions for the model as follows:"
   ]
  },
  {
   "cell_type": "code",
   "execution_count": 15,
   "metadata": {
    "id": "1S7xYRhuoT9u"
   },
   "outputs": [
    {
     "name": "stderr",
     "output_type": "stream",
     "text": [
      "Running splits:   0%|                                                                                                                | 0/1 [00:00<?, ?it/s]\n",
      "  0%|                                                                                                                               | 0/10 [00:00<?, ?it/s]\u001b[A"
     ]
    },
    {
     "name": "stdout",
     "output_type": "stream",
     "text": [
      "MODEL <madml.models.combine object at 0x369243890>\n",
      "starting fit\n"
     ]
    },
    {
     "name": "stderr",
     "output_type": "stream",
     "text": [
      "\n",
      " 10%|███████████▉                                                                                                           | 1/10 [00:12<01:50, 12.29s/it]\u001b[A"
     ]
    },
    {
     "name": "stdout",
     "output_type": "stream",
     "text": [
      "fit complete\n",
      "MODEL <madml.models.combine object at 0x317f86a10>\n",
      "starting fit\n"
     ]
    },
    {
     "name": "stderr",
     "output_type": "stream",
     "text": [
      "\n",
      " 20%|███████████████████████▊                                                                                               | 2/10 [00:24<01:36, 12.11s/it]\u001b[A"
     ]
    },
    {
     "name": "stdout",
     "output_type": "stream",
     "text": [
      "fit complete\n",
      "MODEL <madml.models.combine object at 0x31bc72050>\n",
      "starting fit\n"
     ]
    },
    {
     "name": "stderr",
     "output_type": "stream",
     "text": [
      "\n",
      " 30%|███████████████████████████████████▋                                                                                   | 3/10 [00:36<01:25, 12.18s/it]\u001b[A"
     ]
    },
    {
     "name": "stdout",
     "output_type": "stream",
     "text": [
      "fit complete\n",
      "MODEL <madml.models.combine object at 0x3a5992450>\n",
      "starting fit\n"
     ]
    },
    {
     "name": "stderr",
     "output_type": "stream",
     "text": [
      "\n",
      " 40%|███████████████████████████████████████████████▌                                                                       | 4/10 [00:48<01:13, 12.26s/it]\u001b[A"
     ]
    },
    {
     "name": "stdout",
     "output_type": "stream",
     "text": [
      "fit complete\n",
      "MODEL <madml.models.combine object at 0x31bcb1990>\n",
      "starting fit\n"
     ]
    },
    {
     "name": "stderr",
     "output_type": "stream",
     "text": [
      "\n",
      " 50%|███████████████████████████████████████████████████████████▌                                                           | 5/10 [01:00<01:00, 12.07s/it]\u001b[A"
     ]
    },
    {
     "name": "stdout",
     "output_type": "stream",
     "text": [
      "fit complete\n",
      "MODEL <madml.models.combine object at 0x333349a10>\n",
      "starting fit\n"
     ]
    },
    {
     "name": "stderr",
     "output_type": "stream",
     "text": [
      "\n",
      " 60%|███████████████████████████████████████████████████████████████████████▍                                               | 6/10 [01:11<00:46, 11.57s/it]\u001b[A"
     ]
    },
    {
     "name": "stdout",
     "output_type": "stream",
     "text": [
      "fit complete\n",
      "MODEL <madml.models.combine object at 0x32f141450>\n",
      "starting fit\n"
     ]
    },
    {
     "name": "stderr",
     "output_type": "stream",
     "text": [
      "\n",
      " 70%|███████████████████████████████████████████████████████████████████████████████████▎                                   | 7/10 [01:13<00:25,  8.50s/it]\u001b[A"
     ]
    },
    {
     "name": "stdout",
     "output_type": "stream",
     "text": [
      "fit complete\n",
      "MODEL <madml.models.combine object at 0x33516e7d0>\n",
      "starting fit\n"
     ]
    },
    {
     "name": "stderr",
     "output_type": "stream",
     "text": [
      "\n",
      " 80%|███████████████████████████████████████████████████████████████████████████████████████████████▏                       | 8/10 [01:20<00:15,  7.94s/it]\u001b[A"
     ]
    },
    {
     "name": "stdout",
     "output_type": "stream",
     "text": [
      "fit complete\n",
      "MODEL <madml.models.combine object at 0x2ef25eed0>\n",
      "starting fit\n"
     ]
    },
    {
     "name": "stderr",
     "output_type": "stream",
     "text": [
      "\n",
      " 90%|███████████████████████████████████████████████████████████████████████████████████████████████████████████            | 9/10 [01:30<00:08,  8.54s/it]\u001b[A"
     ]
    },
    {
     "name": "stdout",
     "output_type": "stream",
     "text": [
      "fit complete\n",
      "MODEL <madml.models.combine object at 0x2ef2b2990>\n",
      "starting fit\n"
     ]
    },
    {
     "name": "stderr",
     "output_type": "stream",
     "text": [
      "\n",
      "100%|██████████████████████████████████████████████████████████████████████████████████████████████████████████████████████| 10/10 [01:37<00:00,  9.79s/it]\u001b[A"
     ]
    },
    {
     "name": "stdout",
     "output_type": "stream",
     "text": [
      "fit complete\n"
     ]
    },
    {
     "name": "stderr",
     "output_type": "stream",
     "text": [
      "\n",
      "Running splits: 100%|███████████████████████████████████████████████████████████████████████████████████████████████████████| 1/1 [02:14<00:00, 134.96s/it]\n"
     ]
    }
   ],
   "source": [
    "params = {'n_repeats': 1}  # Increase if more averaging needed for convergence\n",
    "params['uq_function'] = lambda x: 0.7+1.05*x  # Note that this is fixed across folds\n",
    "domain = ('madml', params)\n",
    "\n",
    "splitter.evaluate(\n",
    "                  savepath=savepath,\n",
    "                  X=X,\n",
    "                  y=y,\n",
    "                  models=[model],\n",
    "                  preprocessor=preprocessor,\n",
    "                  metrics=metrics,\n",
    "                  plots=['Scatter', 'Histogram'],\n",
    "                  X_extra=X_extra,\n",
    "                  verbosity=3,\n",
    "                  domain=[domain],\n",
    "                  )"
   ]
  },
  {
   "cell_type": "markdown",
   "metadata": {
    "id": "WWQNeNLOoT9u"
   },
   "source": [
    "We can also alter the number of clusters used in agglomerative clustering to make our splits."
   ]
  },
  {
   "cell_type": "code",
   "execution_count": 16,
   "metadata": {
    "id": "Z9u8YLkaoT9u"
   },
   "outputs": [
    {
     "name": "stderr",
     "output_type": "stream",
     "text": [
      "Running splits:   0%|                                                                                                                | 0/1 [00:00<?, ?it/s]\n",
      "  0%|                                                                                                                               | 0/14 [00:00<?, ?it/s]\u001b[A"
     ]
    },
    {
     "name": "stdout",
     "output_type": "stream",
     "text": [
      "MODEL <madml.models.combine object at 0x39a73af50>\n",
      "starting fit\n"
     ]
    },
    {
     "name": "stderr",
     "output_type": "stream",
     "text": [
      "\n",
      "  7%|████████▌                                                                                                              | 1/14 [00:12<02:36, 12.02s/it]\u001b[A"
     ]
    },
    {
     "name": "stdout",
     "output_type": "stream",
     "text": [
      "fit complete\n",
      "MODEL <madml.models.combine object at 0x31bd05110>\n",
      "starting fit\n"
     ]
    },
    {
     "name": "stderr",
     "output_type": "stream",
     "text": [
      "\n",
      " 14%|█████████████████                                                                                                      | 2/14 [00:22<02:16, 11.37s/it]\u001b[A"
     ]
    },
    {
     "name": "stdout",
     "output_type": "stream",
     "text": [
      "fit complete\n",
      "MODEL <madml.models.combine object at 0x318125650>\n",
      "starting fit\n"
     ]
    },
    {
     "name": "stderr",
     "output_type": "stream",
     "text": [
      "\n",
      " 21%|█████████████████████████▌                                                                                             | 3/14 [00:33<02:02, 11.17s/it]\u001b[A"
     ]
    },
    {
     "name": "stdout",
     "output_type": "stream",
     "text": [
      "fit complete\n",
      "MODEL <madml.models.combine object at 0x39a745390>\n",
      "starting fit\n"
     ]
    },
    {
     "name": "stderr",
     "output_type": "stream",
     "text": [
      "\n",
      " 29%|██████████████████████████████████                                                                                     | 4/14 [00:44<01:51, 11.10s/it]\u001b[A"
     ]
    },
    {
     "name": "stdout",
     "output_type": "stream",
     "text": [
      "fit complete\n",
      "MODEL <madml.models.combine object at 0x31bceb010>\n",
      "starting fit\n"
     ]
    },
    {
     "name": "stderr",
     "output_type": "stream",
     "text": [
      "\n",
      " 36%|██████████████████████████████████████████▌                                                                            | 5/14 [00:55<01:39, 11.08s/it]\u001b[A"
     ]
    },
    {
     "name": "stdout",
     "output_type": "stream",
     "text": [
      "fit complete\n",
      "MODEL <madml.models.combine object at 0x318076ed0>\n",
      "starting fit\n"
     ]
    },
    {
     "name": "stderr",
     "output_type": "stream",
     "text": [
      "\n",
      " 43%|███████████████████████████████████████████████████                                                                    | 6/14 [00:57<01:03,  7.99s/it]\u001b[A"
     ]
    },
    {
     "name": "stdout",
     "output_type": "stream",
     "text": [
      "fit complete\n",
      "MODEL <madml.models.combine object at 0x3a5a3ef10>\n",
      "starting fit\n"
     ]
    },
    {
     "name": "stderr",
     "output_type": "stream",
     "text": [
      "\n",
      " 50%|███████████████████████████████████████████████████████████▌                                                           | 7/14 [01:07<00:59,  8.57s/it]\u001b[A"
     ]
    },
    {
     "name": "stdout",
     "output_type": "stream",
     "text": [
      "fit complete\n",
      "MODEL <madml.models.combine object at 0x2fbbf4050>\n",
      "starting fit\n"
     ]
    },
    {
     "name": "stderr",
     "output_type": "stream",
     "text": [
      "\n",
      " 57%|████████████████████████████████████████████████████████████████████                                                   | 8/14 [01:15<00:50,  8.47s/it]\u001b[A"
     ]
    },
    {
     "name": "stdout",
     "output_type": "stream",
     "text": [
      "fit complete\n",
      "MODEL <madml.models.combine object at 0x3351c1010>\n",
      "starting fit\n"
     ]
    },
    {
     "name": "stderr",
     "output_type": "stream",
     "text": [
      "\n",
      " 64%|████████████████████████████████████████████████████████████████████████████▌                                          | 9/14 [01:26<00:45,  9.14s/it]\u001b[A"
     ]
    },
    {
     "name": "stdout",
     "output_type": "stream",
     "text": [
      "fit complete\n",
      "MODEL <madml.models.combine object at 0x35ee5e810>\n",
      "starting fit\n"
     ]
    },
    {
     "name": "stderr",
     "output_type": "stream",
     "text": [
      "\n",
      " 71%|████████████████████████████████████████████████████████████████████████████████████▎                                 | 10/14 [01:33<00:33,  8.44s/it]\u001b[A"
     ]
    },
    {
     "name": "stdout",
     "output_type": "stream",
     "text": [
      "fit complete\n",
      "MODEL <madml.models.combine object at 0x31806a190>\n",
      "starting fit\n"
     ]
    },
    {
     "name": "stderr",
     "output_type": "stream",
     "text": [
      "\n",
      " 79%|████████████████████████████████████████████████████████████████████████████████████████████▋                         | 11/14 [01:42<00:26,  8.78s/it]\u001b[A"
     ]
    },
    {
     "name": "stdout",
     "output_type": "stream",
     "text": [
      "fit complete\n",
      "MODEL <madml.models.combine object at 0x31bb55310>\n",
      "starting fit\n"
     ]
    },
    {
     "name": "stderr",
     "output_type": "stream",
     "text": [
      "\n",
      " 86%|█████████████████████████████████████████████████████████████████████████████████████████████████████▏                | 12/14 [01:53<00:18,  9.34s/it]\u001b[A"
     ]
    },
    {
     "name": "stdout",
     "output_type": "stream",
     "text": [
      "fit complete\n",
      "MODEL <madml.models.combine object at 0x2fe6b4450>\n",
      "starting fit\n"
     ]
    },
    {
     "name": "stderr",
     "output_type": "stream",
     "text": [
      "\n",
      " 93%|█████████████████████████████████████████████████████████████████████████████████████████████████████████████▌        | 13/14 [02:01<00:09,  9.04s/it]\u001b[A"
     ]
    },
    {
     "name": "stdout",
     "output_type": "stream",
     "text": [
      "fit complete\n",
      "MODEL <madml.models.combine object at 0x2fe8d3c10>\n",
      "starting fit\n"
     ]
    },
    {
     "name": "stderr",
     "output_type": "stream",
     "text": [
      "\n",
      "100%|██████████████████████████████████████████████████████████████████████████████████████████████████████████████████████| 14/14 [02:10<00:00,  9.29s/it]\u001b[A"
     ]
    },
    {
     "name": "stdout",
     "output_type": "stream",
     "text": [
      "fit complete\n"
     ]
    },
    {
     "name": "stderr",
     "output_type": "stream",
     "text": [
      "\n",
      "Running splits: 100%|███████████████████████████████████████████████████████████████████████████████████████████████████████| 1/1 [02:46<00:00, 166.63s/it]\n"
     ]
    }
   ],
   "source": [
    "params = {'n_repeats': 1}  # Increase if more averaging needed for convergence\n",
    "params['n_clusters'] = [2, 3, 4]  # A list of the number of clusters in each split\n",
    "\n",
    "domain = ('madml', params)\n",
    "\n",
    "splitter.evaluate(\n",
    "                  savepath=savepath,\n",
    "                  X=X,\n",
    "                  y=y,\n",
    "                  models=[model],\n",
    "                  preprocessor=preprocessor,\n",
    "                  metrics=metrics,\n",
    "                  plots=['Scatter', 'Histogram'],\n",
    "                  X_extra=X_extra,\n",
    "                  verbosity=3,\n",
    "                  domain=[domain],\n",
    "                  )"
   ]
  },
  {
   "cell_type": "markdown",
   "metadata": {
    "id": "ZQvInl0UoT9u"
   },
   "source": [
    "We can also change the ground truth for our domain tests. Note that we can also combine parameters."
   ]
  },
  {
   "cell_type": "code",
   "execution_count": 17,
   "metadata": {
    "id": "S5bG7xsvoT9u"
   },
   "outputs": [
    {
     "name": "stderr",
     "output_type": "stream",
     "text": [
      "Running splits:   0%|                                                                                                                | 0/1 [00:00<?, ?it/s]\n",
      "  0%|                                                                                                                               | 0/10 [00:00<?, ?it/s]\u001b[A"
     ]
    },
    {
     "name": "stdout",
     "output_type": "stream",
     "text": [
      "MODEL <madml.models.combine object at 0x2fc04af10>\n",
      "starting fit\n"
     ]
    },
    {
     "name": "stderr",
     "output_type": "stream",
     "text": [
      "\n",
      " 10%|███████████▉                                                                                                           | 1/10 [00:14<02:09, 14.35s/it]\u001b[A"
     ]
    },
    {
     "name": "stdout",
     "output_type": "stream",
     "text": [
      "fit complete\n",
      "MODEL <madml.models.combine object at 0x2fbe46a90>\n",
      "starting fit\n"
     ]
    },
    {
     "name": "stderr",
     "output_type": "stream",
     "text": [
      "\n",
      " 20%|███████████████████████▊                                                                                               | 2/10 [00:26<01:45, 13.23s/it]\u001b[A"
     ]
    },
    {
     "name": "stdout",
     "output_type": "stream",
     "text": [
      "fit complete\n",
      "MODEL <madml.models.combine object at 0x2fbd65f50>\n",
      "starting fit\n"
     ]
    },
    {
     "name": "stderr",
     "output_type": "stream",
     "text": [
      "\n",
      " 30%|███████████████████████████████████▋                                                                                   | 3/10 [00:38<01:29, 12.75s/it]\u001b[A"
     ]
    },
    {
     "name": "stdout",
     "output_type": "stream",
     "text": [
      "fit complete\n",
      "MODEL <madml.models.combine object at 0x2fbf9d950>\n",
      "starting fit\n"
     ]
    },
    {
     "name": "stderr",
     "output_type": "stream",
     "text": [
      "\n",
      " 40%|███████████████████████████████████████████████▌                                                                       | 4/10 [00:50<01:14, 12.44s/it]\u001b[A"
     ]
    },
    {
     "name": "stdout",
     "output_type": "stream",
     "text": [
      "fit complete\n",
      "MODEL <madml.models.combine object at 0x2ef74d910>\n",
      "starting fit\n"
     ]
    },
    {
     "name": "stderr",
     "output_type": "stream",
     "text": [
      "\n",
      " 50%|███████████████████████████████████████████████████████████▌                                                           | 5/10 [01:02<01:01, 12.27s/it]\u001b[A"
     ]
    },
    {
     "name": "stdout",
     "output_type": "stream",
     "text": [
      "fit complete\n",
      "MODEL <madml.models.combine object at 0x2ef6d1f50>\n",
      "starting fit\n"
     ]
    },
    {
     "name": "stderr",
     "output_type": "stream",
     "text": [
      "\n",
      " 60%|███████████████████████████████████████████████████████████████████████▍                                               | 6/10 [01:17<00:52, 13.01s/it]\u001b[A"
     ]
    },
    {
     "name": "stdout",
     "output_type": "stream",
     "text": [
      "fit complete\n",
      "MODEL <madml.models.combine object at 0x317fae790>\n",
      "starting fit\n"
     ]
    },
    {
     "name": "stderr",
     "output_type": "stream",
     "text": [
      "\n",
      " 70%|███████████████████████████████████████████████████████████████████████████████████▎                                   | 7/10 [01:19<00:28,  9.38s/it]\u001b[A"
     ]
    },
    {
     "name": "stdout",
     "output_type": "stream",
     "text": [
      "fit complete\n",
      "MODEL <madml.models.combine object at 0x2ef582d10>\n",
      "starting fit\n"
     ]
    },
    {
     "name": "stderr",
     "output_type": "stream",
     "text": [
      "\n",
      " 80%|███████████████████████████████████████████████████████████████████████████████████████████████▏                       | 8/10 [01:26<00:17,  8.62s/it]\u001b[A"
     ]
    },
    {
     "name": "stdout",
     "output_type": "stream",
     "text": [
      "fit complete\n",
      "MODEL <madml.models.combine object at 0x2ef636dd0>\n",
      "starting fit\n"
     ]
    },
    {
     "name": "stderr",
     "output_type": "stream",
     "text": [
      "\n",
      " 90%|███████████████████████████████████████████████████████████████████████████████████████████████████████████            | 9/10 [01:32<00:07,  7.83s/it]\u001b[A"
     ]
    },
    {
     "name": "stdout",
     "output_type": "stream",
     "text": [
      "fit complete\n",
      "MODEL <madml.models.combine object at 0x35eec0d10>\n",
      "starting fit\n"
     ]
    },
    {
     "name": "stderr",
     "output_type": "stream",
     "text": [
      "\n",
      "100%|██████████████████████████████████████████████████████████████████████████████████████████████████████████████████████| 10/10 [01:41<00:00, 10.13s/it]\u001b[A"
     ]
    },
    {
     "name": "stdout",
     "output_type": "stream",
     "text": [
      "fit complete\n"
     ]
    },
    {
     "name": "stderr",
     "output_type": "stream",
     "text": [
      "\n",
      "Running splits: 100%|███████████████████████████████████████████████████████████████████████████████████████████████████████| 1/1 [02:16<00:00, 136.54s/it]\n"
     ]
    }
   ],
   "source": [
    "params = {'n_repeats': 1}  # Increase if more averaging needed for convergence\n",
    "params['gt_residual'] = 0.75  # Ground truth for residual test\n",
    "params['gt_uncertainty'] = 0.5  # Ground truth for uncertainty test\n",
    "\n",
    "domain = ('madml', params)\n",
    "\n",
    "splitter.evaluate(\n",
    "                  savepath=savepath,\n",
    "                  X=X,\n",
    "                  y=y,\n",
    "                  models=[model],\n",
    "                  preprocessor=preprocessor,\n",
    "                  metrics=metrics,\n",
    "                  plots=['Scatter', 'Histogram'],\n",
    "                  X_extra=X_extra,\n",
    "                  verbosity=3,\n",
    "                  domain=[domain],\n",
    "                  )"
   ]
  },
  {
   "cell_type": "markdown",
   "metadata": {
    "id": "GYI7DDqaoT9u"
   },
   "source": [
    "We can also change the number of bins used for our uncertainty test."
   ]
  },
  {
   "cell_type": "code",
   "execution_count": 18,
   "metadata": {
    "id": "QHdgXXPXoT9u"
   },
   "outputs": [
    {
     "name": "stderr",
     "output_type": "stream",
     "text": [
      "Running splits:   0%|                                                                                                                | 0/1 [00:00<?, ?it/s]\n",
      "  0%|                                                                                                                               | 0/10 [00:00<?, ?it/s]\u001b[A"
     ]
    },
    {
     "name": "stdout",
     "output_type": "stream",
     "text": [
      "MODEL <madml.models.combine object at 0x39a436250>\n",
      "starting fit\n"
     ]
    },
    {
     "name": "stderr",
     "output_type": "stream",
     "text": [
      "\n",
      " 10%|███████████▉                                                                                                           | 1/10 [00:11<01:42, 11.37s/it]\u001b[A"
     ]
    },
    {
     "name": "stdout",
     "output_type": "stream",
     "text": [
      "fit complete\n",
      "MODEL <madml.models.combine object at 0x32f127b90>\n",
      "starting fit\n"
     ]
    },
    {
     "name": "stderr",
     "output_type": "stream",
     "text": [
      "\n",
      " 20%|███████████████████████▊                                                                                               | 2/10 [00:22<01:28, 11.02s/it]\u001b[A"
     ]
    },
    {
     "name": "stdout",
     "output_type": "stream",
     "text": [
      "fit complete\n",
      "MODEL <madml.models.combine object at 0x34e190110>\n",
      "starting fit\n"
     ]
    },
    {
     "name": "stderr",
     "output_type": "stream",
     "text": [
      "\n",
      " 30%|███████████████████████████████████▋                                                                                   | 3/10 [00:32<01:16, 10.87s/it]\u001b[A"
     ]
    },
    {
     "name": "stdout",
     "output_type": "stream",
     "text": [
      "fit complete\n",
      "MODEL <madml.models.combine object at 0x33fe69910>\n",
      "starting fit\n"
     ]
    },
    {
     "name": "stderr",
     "output_type": "stream",
     "text": [
      "\n",
      " 40%|███████████████████████████████████████████████▌                                                                       | 4/10 [00:43<01:05, 10.86s/it]\u001b[A"
     ]
    },
    {
     "name": "stdout",
     "output_type": "stream",
     "text": [
      "fit complete\n",
      "MODEL <madml.models.combine object at 0x2ef4d0410>\n",
      "starting fit\n"
     ]
    },
    {
     "name": "stderr",
     "output_type": "stream",
     "text": [
      "\n",
      " 50%|███████████████████████████████████████████████████████████▌                                                           | 5/10 [00:54<00:54, 10.91s/it]\u001b[A"
     ]
    },
    {
     "name": "stdout",
     "output_type": "stream",
     "text": [
      "fit complete\n",
      "MODEL <madml.models.combine object at 0x3087c7f50>\n",
      "starting fit\n"
     ]
    },
    {
     "name": "stderr",
     "output_type": "stream",
     "text": [
      "\n",
      " 60%|███████████████████████████████████████████████████████████████████████▍                                               | 6/10 [01:04<00:41, 10.47s/it]\u001b[A"
     ]
    },
    {
     "name": "stdout",
     "output_type": "stream",
     "text": [
      "fit complete\n",
      "MODEL <madml.models.combine object at 0x2c6cbd950>\n",
      "starting fit\n"
     ]
    },
    {
     "name": "stderr",
     "output_type": "stream",
     "text": [
      "\n",
      " 70%|███████████████████████████████████████████████████████████████████████████████████▎                                   | 7/10 [01:06<00:23,  7.68s/it]\u001b[A"
     ]
    },
    {
     "name": "stdout",
     "output_type": "stream",
     "text": [
      "fit complete\n",
      "MODEL <madml.models.combine object at 0x2ef687750>\n",
      "starting fit\n"
     ]
    },
    {
     "name": "stderr",
     "output_type": "stream",
     "text": [
      "\n",
      " 80%|███████████████████████████████████████████████████████████████████████████████████████████████▏                       | 8/10 [01:13<00:14,  7.50s/it]\u001b[A"
     ]
    },
    {
     "name": "stdout",
     "output_type": "stream",
     "text": [
      "fit complete\n",
      "MODEL <madml.models.combine object at 0x2ef782b90>\n",
      "starting fit\n"
     ]
    },
    {
     "name": "stderr",
     "output_type": "stream",
     "text": [
      "\n",
      " 90%|███████████████████████████████████████████████████████████████████████████████████████████████████████████            | 9/10 [01:24<00:08,  8.79s/it]\u001b[A"
     ]
    },
    {
     "name": "stdout",
     "output_type": "stream",
     "text": [
      "fit complete\n",
      "MODEL <madml.models.combine object at 0x30207b6d0>\n",
      "starting fit\n"
     ]
    },
    {
     "name": "stderr",
     "output_type": "stream",
     "text": [
      "\n",
      "100%|██████████████████████████████████████████████████████████████████████████████████████████████████████████████████████| 10/10 [01:32<00:00,  9.21s/it]\u001b[A"
     ]
    },
    {
     "name": "stdout",
     "output_type": "stream",
     "text": [
      "fit complete\n"
     ]
    },
    {
     "name": "stderr",
     "output_type": "stream",
     "text": [
      "\n",
      "Running splits: 100%|███████████████████████████████████████████████████████████████████████████████████████████████████████| 1/1 [02:07<00:00, 127.99s/it]\n"
     ]
    }
   ],
   "source": [
    "params = {'n_repeats': 1}  # Increase if more averaging needed for convergence\n",
    "params['bins'] = 5\n",
    "\n",
    "domain = ('madml', params)\n",
    "\n",
    "splitter.evaluate(\n",
    "                  savepath=savepath,\n",
    "                  X=X,\n",
    "                  y=y,\n",
    "                  models=[model],\n",
    "                  preprocessor=preprocessor,\n",
    "                  metrics=metrics,\n",
    "                  plots=['Scatter', 'Histogram'],\n",
    "                  X_extra=X_extra,\n",
    "                  verbosity=3,\n",
    "                  domain=[domain],\n",
    "                  )"
   ]
  },
  {
   "cell_type": "markdown",
   "metadata": {
    "id": "PY-lwJhxoT9u"
   },
   "source": [
    "The kernel parameters can also be changed."
   ]
  },
  {
   "cell_type": "code",
   "execution_count": 19,
   "metadata": {
    "id": "VY4cmRImoT9u"
   },
   "outputs": [
    {
     "name": "stderr",
     "output_type": "stream",
     "text": [
      "Running splits:   0%|                                                                                                                | 0/1 [00:00<?, ?it/s]\n",
      "  0%|                                                                                                                               | 0/10 [00:00<?, ?it/s]\u001b[A"
     ]
    },
    {
     "name": "stdout",
     "output_type": "stream",
     "text": [
      "MODEL <madml.models.combine object at 0x2ef480f10>\n",
      "starting fit\n"
     ]
    },
    {
     "name": "stderr",
     "output_type": "stream",
     "text": [
      "\n",
      " 10%|███████████▉                                                                                                           | 1/10 [00:10<01:38, 10.90s/it]\u001b[A"
     ]
    },
    {
     "name": "stdout",
     "output_type": "stream",
     "text": [
      "fit complete\n",
      "MODEL <madml.models.combine object at 0x31bb47150>\n",
      "starting fit\n"
     ]
    },
    {
     "name": "stderr",
     "output_type": "stream",
     "text": [
      "\n",
      " 20%|███████████████████████▊                                                                                               | 2/10 [00:21<01:27, 10.89s/it]\u001b[A"
     ]
    },
    {
     "name": "stdout",
     "output_type": "stream",
     "text": [
      "fit complete\n",
      "MODEL <madml.models.combine object at 0x30d727690>\n",
      "starting fit\n"
     ]
    },
    {
     "name": "stderr",
     "output_type": "stream",
     "text": [
      "\n",
      " 30%|███████████████████████████████████▋                                                                                   | 3/10 [00:32<01:15, 10.82s/it]\u001b[A"
     ]
    },
    {
     "name": "stdout",
     "output_type": "stream",
     "text": [
      "fit complete\n",
      "MODEL <madml.models.combine object at 0x366152390>\n",
      "starting fit\n"
     ]
    },
    {
     "name": "stderr",
     "output_type": "stream",
     "text": [
      "\n",
      " 40%|███████████████████████████████████████████████▌                                                                       | 4/10 [00:43<01:04, 10.83s/it]\u001b[A"
     ]
    },
    {
     "name": "stdout",
     "output_type": "stream",
     "text": [
      "fit complete\n",
      "MODEL <madml.models.combine object at 0x317fd5390>\n",
      "starting fit\n"
     ]
    },
    {
     "name": "stderr",
     "output_type": "stream",
     "text": [
      "\n",
      " 50%|███████████████████████████████████████████████████████████▌                                                           | 5/10 [00:54<00:54, 10.81s/it]\u001b[A"
     ]
    },
    {
     "name": "stdout",
     "output_type": "stream",
     "text": [
      "fit complete\n",
      "MODEL <madml.models.combine object at 0x300c10e90>\n",
      "starting fit\n"
     ]
    },
    {
     "name": "stderr",
     "output_type": "stream",
     "text": [
      "\n",
      " 60%|███████████████████████████████████████████████████████████████████████▍                                               | 6/10 [01:04<00:42, 10.60s/it]\u001b[A"
     ]
    },
    {
     "name": "stdout",
     "output_type": "stream",
     "text": [
      "fit complete\n",
      "MODEL <madml.models.combine object at 0x31079ee10>\n",
      "starting fit\n"
     ]
    },
    {
     "name": "stderr",
     "output_type": "stream",
     "text": [
      "\n",
      " 70%|███████████████████████████████████████████████████████████████████████████████████▎                                   | 7/10 [01:06<00:23,  7.82s/it]\u001b[A"
     ]
    },
    {
     "name": "stdout",
     "output_type": "stream",
     "text": [
      "fit complete\n",
      "MODEL <madml.models.combine object at 0x310a5ced0>\n",
      "starting fit\n"
     ]
    },
    {
     "name": "stderr",
     "output_type": "stream",
     "text": [
      "\n",
      " 80%|███████████████████████████████████████████████████████████████████████████████████████████████▏                       | 8/10 [01:16<00:16,  8.48s/it]\u001b[A"
     ]
    },
    {
     "name": "stdout",
     "output_type": "stream",
     "text": [
      "fit complete\n",
      "MODEL <madml.models.combine object at 0x3693f7110>\n",
      "starting fit\n"
     ]
    },
    {
     "name": "stderr",
     "output_type": "stream",
     "text": [
      "\n",
      " 90%|███████████████████████████████████████████████████████████████████████████████████████████████████████████            | 9/10 [01:23<00:08,  8.13s/it]\u001b[A"
     ]
    },
    {
     "name": "stdout",
     "output_type": "stream",
     "text": [
      "fit complete\n",
      "MODEL <madml.models.combine object at 0x300b6f0d0>\n",
      "starting fit\n"
     ]
    },
    {
     "name": "stderr",
     "output_type": "stream",
     "text": [
      "\n",
      "100%|██████████████████████████████████████████████████████████████████████████████████████████████████████████████████████| 10/10 [01:29<00:00,  8.99s/it]\u001b[A"
     ]
    },
    {
     "name": "stdout",
     "output_type": "stream",
     "text": [
      "fit complete\n"
     ]
    },
    {
     "name": "stderr",
     "output_type": "stream",
     "text": [
      "\n",
      "Running splits: 100%|███████████████████████████████████████████████████████████████████████████████████████████████████████| 1/1 [02:04<00:00, 124.57s/it]\n"
     ]
    }
   ],
   "source": [
    "params = {'n_repeats': 1}  # Increase if more averaging needed for convergence\n",
    "params['bandwidth'] = 1.5\n",
    "params['kernel'] = 'gaussian'\n",
    "\n",
    "domain = ('madml', params)\n",
    "\n",
    "splitter.evaluate(\n",
    "                  savepath=savepath,\n",
    "                  X=X,\n",
    "                  y=y,\n",
    "                  models=[model],\n",
    "                  preprocessor=preprocessor,\n",
    "                  metrics=metrics,\n",
    "                  plots=['Scatter', 'Histogram'],\n",
    "                  X_extra=X_extra,\n",
    "                  verbosity=3,\n",
    "                  domain=[domain],\n",
    "                  )"
   ]
  },
  {
   "cell_type": "markdown",
   "metadata": {
    "id": "u2B8S9D8oT9v"
   },
   "source": [
    "## Task 5: Fit models and predict Domain <a name=\"task5\"></a>"
   ]
  },
  {
   "cell_type": "markdown",
   "metadata": {
    "id": "PszCMm7toT9v"
   },
   "source": [
    "Here, we fit both GPR and MADML domain models"
   ]
  },
  {
   "cell_type": "code",
   "execution_count": 20,
   "metadata": {
    "id": "_cEeG_wCoT9v"
   },
   "outputs": [
    {
     "name": "stderr",
     "output_type": "stream",
     "text": [
      "Running splits:   0%|                                                                                                                | 0/1 [00:00<?, ?it/s]\n",
      "  0%|                                                                                                                               | 0/20 [00:00<?, ?it/s]\u001b[A"
     ]
    },
    {
     "name": "stdout",
     "output_type": "stream",
     "text": [
      "MODEL <madml.models.combine object at 0x31bb6f1d0>\n",
      "starting fit\n"
     ]
    },
    {
     "name": "stderr",
     "output_type": "stream",
     "text": [
      "\n",
      "  5%|█████▉                                                                                                                 | 1/20 [00:16<05:06, 16.16s/it]\u001b[A"
     ]
    },
    {
     "name": "stdout",
     "output_type": "stream",
     "text": [
      "fit complete\n",
      "MODEL <madml.models.combine object at 0x3333276d0>\n",
      "starting fit\n"
     ]
    },
    {
     "name": "stderr",
     "output_type": "stream",
     "text": [
      "\n",
      " 10%|███████████▉                                                                                                           | 2/20 [00:31<04:37, 15.44s/it]\u001b[A"
     ]
    },
    {
     "name": "stdout",
     "output_type": "stream",
     "text": [
      "fit complete\n",
      "MODEL <madml.models.combine object at 0x35cd32090>\n",
      "starting fit\n"
     ]
    },
    {
     "name": "stderr",
     "output_type": "stream",
     "text": [
      "\n",
      " 15%|█████████████████▊                                                                                                     | 3/20 [00:47<04:26, 15.66s/it]\u001b[A"
     ]
    },
    {
     "name": "stdout",
     "output_type": "stream",
     "text": [
      "fit complete\n",
      "MODEL <madml.models.combine object at 0x316283c50>\n",
      "starting fit\n"
     ]
    },
    {
     "name": "stderr",
     "output_type": "stream",
     "text": [
      "\n",
      " 20%|███████████████████████▊                                                                                               | 4/20 [01:03<04:15, 15.94s/it]\u001b[A"
     ]
    },
    {
     "name": "stdout",
     "output_type": "stream",
     "text": [
      "fit complete\n",
      "MODEL <madml.models.combine object at 0x2c8982b10>\n",
      "starting fit\n"
     ]
    },
    {
     "name": "stderr",
     "output_type": "stream",
     "text": [
      "\n",
      " 25%|█████████████████████████████▊                                                                                         | 5/20 [01:19<04:00, 16.05s/it]\u001b[A"
     ]
    },
    {
     "name": "stdout",
     "output_type": "stream",
     "text": [
      "fit complete\n",
      "MODEL <madml.models.combine object at 0x31870e5d0>\n",
      "starting fit\n"
     ]
    },
    {
     "name": "stderr",
     "output_type": "stream",
     "text": [
      "\n",
      " 30%|███████████████████████████████████▋                                                                                   | 6/20 [01:34<03:39, 15.70s/it]\u001b[A"
     ]
    },
    {
     "name": "stdout",
     "output_type": "stream",
     "text": [
      "fit complete\n",
      "MODEL <madml.models.combine object at 0x39a688650>\n",
      "starting fit\n"
     ]
    },
    {
     "name": "stderr",
     "output_type": "stream",
     "text": [
      "\n",
      " 35%|█████████████████████████████████████████▋                                                                             | 7/20 [01:50<03:24, 15.71s/it]\u001b[A"
     ]
    },
    {
     "name": "stdout",
     "output_type": "stream",
     "text": [
      "fit complete\n",
      "MODEL <madml.models.combine object at 0x33521ae50>\n",
      "starting fit\n"
     ]
    },
    {
     "name": "stderr",
     "output_type": "stream",
     "text": [
      "\n",
      " 40%|███████████████████████████████████████████████▌                                                                       | 8/20 [02:06<03:08, 15.74s/it]\u001b[A"
     ]
    },
    {
     "name": "stdout",
     "output_type": "stream",
     "text": [
      "fit complete\n",
      "MODEL <madml.models.combine object at 0x2c8e75010>\n",
      "starting fit\n"
     ]
    },
    {
     "name": "stderr",
     "output_type": "stream",
     "text": [
      "\n",
      " 45%|█████████████████████████████████████████████████████▌                                                                 | 9/20 [02:21<02:52, 15.72s/it]\u001b[A"
     ]
    },
    {
     "name": "stdout",
     "output_type": "stream",
     "text": [
      "fit complete\n",
      "MODEL <madml.models.combine object at 0x2ef436dd0>\n",
      "starting fit\n"
     ]
    },
    {
     "name": "stderr",
     "output_type": "stream",
     "text": [
      "\n",
      " 50%|███████████████████████████████████████████████████████████                                                           | 10/20 [02:37<02:36, 15.64s/it]\u001b[A"
     ]
    },
    {
     "name": "stdout",
     "output_type": "stream",
     "text": [
      "fit complete\n",
      "MODEL <madml.models.combine object at 0x31bacb490>\n",
      "starting fit\n"
     ]
    },
    {
     "name": "stderr",
     "output_type": "stream",
     "text": [
      "\n",
      " 55%|████████████████████████████████████████████████████████████████▉                                                     | 11/20 [02:50<02:13, 14.80s/it]\u001b[A"
     ]
    },
    {
     "name": "stdout",
     "output_type": "stream",
     "text": [
      "fit complete\n",
      "MODEL <madml.models.combine object at 0x2ef7d8f90>\n",
      "starting fit\n"
     ]
    },
    {
     "name": "stderr",
     "output_type": "stream",
     "text": [
      "\n",
      " 60%|██████████████████████████████████████████████████████████████████████▊                                               | 12/20 [02:52<01:28, 11.09s/it]\u001b[A"
     ]
    },
    {
     "name": "stdout",
     "output_type": "stream",
     "text": [
      "fit complete\n",
      "MODEL <madml.models.combine object at 0x36956b790>\n",
      "starting fit\n"
     ]
    },
    {
     "name": "stderr",
     "output_type": "stream",
     "text": [
      "\n",
      " 65%|████████████████████████████████████████████████████████████████████████████▋                                         | 13/20 [03:05<01:21, 11.63s/it]\u001b[A"
     ]
    },
    {
     "name": "stdout",
     "output_type": "stream",
     "text": [
      "fit complete\n",
      "MODEL <madml.models.combine object at 0x33fcfd550>\n",
      "starting fit\n"
     ]
    },
    {
     "name": "stderr",
     "output_type": "stream",
     "text": [
      "\n",
      " 70%|██████████████████████████████████████████████████████████████████████████████████▌                                   | 14/20 [03:08<00:53,  8.88s/it]\u001b[A"
     ]
    },
    {
     "name": "stdout",
     "output_type": "stream",
     "text": [
      "fit complete\n",
      "MODEL <madml.models.combine object at 0x2fbc45650>\n",
      "starting fit\n"
     ]
    },
    {
     "name": "stderr",
     "output_type": "stream",
     "text": [
      "\n",
      " 75%|████████████████████████████████████████████████████████████████████████████████████████▌                             | 15/20 [03:16<00:44,  8.82s/it]\u001b[A"
     ]
    },
    {
     "name": "stdout",
     "output_type": "stream",
     "text": [
      "fit complete\n",
      "MODEL <madml.models.combine object at 0x39a844dd0>\n",
      "starting fit\n"
     ]
    },
    {
     "name": "stderr",
     "output_type": "stream",
     "text": [
      "\n",
      " 80%|██████████████████████████████████████████████████████████████████████████████████████████████▍                       | 16/20 [03:26<00:36,  9.11s/it]\u001b[A"
     ]
    },
    {
     "name": "stdout",
     "output_type": "stream",
     "text": [
      "fit complete\n",
      "MODEL <madml.models.combine object at 0x313c41910>\n",
      "starting fit\n"
     ]
    },
    {
     "name": "stderr",
     "output_type": "stream",
     "text": [
      "\n",
      " 85%|████████████████████████████████████████████████████████████████████████████████████████████████████▎                 | 17/20 [03:39<00:30, 10.29s/it]\u001b[A"
     ]
    },
    {
     "name": "stdout",
     "output_type": "stream",
     "text": [
      "fit complete\n",
      "MODEL <madml.models.combine object at 0x3162303d0>\n",
      "starting fit\n"
     ]
    },
    {
     "name": "stderr",
     "output_type": "stream",
     "text": [
      "\n",
      " 90%|██████████████████████████████████████████████████████████████████████████████████████████████████████████▏           | 18/20 [03:48<00:19,  9.72s/it]\u001b[A"
     ]
    },
    {
     "name": "stdout",
     "output_type": "stream",
     "text": [
      "fit complete\n",
      "MODEL <madml.models.combine object at 0x31bb3b6d0>\n",
      "starting fit\n"
     ]
    },
    {
     "name": "stderr",
     "output_type": "stream",
     "text": [
      "\n",
      " 95%|████████████████████████████████████████████████████████████████████████████████████████████████████████████████      | 19/20 [03:57<00:09,  9.50s/it]\u001b[A"
     ]
    },
    {
     "name": "stdout",
     "output_type": "stream",
     "text": [
      "fit complete\n",
      "MODEL <madml.models.combine object at 0x31bb51010>\n",
      "starting fit\n"
     ]
    },
    {
     "name": "stderr",
     "output_type": "stream",
     "text": [
      "\n",
      "100%|██████████████████████████████████████████████████████████████████████████████████████████████████████████████████████| 20/20 [04:08<00:00, 12.43s/it]\u001b[A"
     ]
    },
    {
     "name": "stdout",
     "output_type": "stream",
     "text": [
      "fit complete\n"
     ]
    },
    {
     "name": "stderr",
     "output_type": "stream",
     "text": [
      "\n",
      "Running splits: 100%|███████████████████████████████████████████████████████████████████████████████████████████████████████| 1/1 [05:17<00:00, 317.04s/it]\n"
     ]
    }
   ],
   "source": [
    "splitter = NoSplit()\n",
    "\n",
    "params = {'n_repeats': 2}  # Increase if more averaging needed for convergence\n",
    "domain = ('madml', params)\n",
    "\n",
    "splitter.evaluate(\n",
    "                  savepath=savepath,\n",
    "                  X=X,\n",
    "                  y=y,\n",
    "                  models=[model],\n",
    "                  preprocessor=preprocessor,\n",
    "                  metrics=metrics,\n",
    "                  plots=['Scatter', 'Histogram'],\n",
    "                  X_extra=X_extra,\n",
    "                  verbosity=3,\n",
    "                  domain=[domain, 'gpr'],\n",
    "                  )"
   ]
  },
  {
   "cell_type": "markdown",
   "metadata": {
    "id": "PZBSJry20sPM"
   },
   "source": [
    "Use fitted models and predict on sample data. Here we predict on the data we train on, but can be anything else."
   ]
  },
  {
   "cell_type": "code",
   "execution_count": 26,
   "metadata": {
    "id": "hzA6s98o0sPN"
   },
   "outputs": [
    {
     "name": "stdout",
     "output_type": "stream",
     "text": [
      "       y_pred     y_err    y_true  domain_gpr    y_pred    d_pred  \\\n",
      "0   -0.004018  0.035633  0.000000           1 -0.008182  0.884227   \n",
      "1    0.067530  0.228834 -0.090142           1  0.084015  0.251691   \n",
      "2    0.298510  0.235262  0.259139           1  0.269200  0.283408   \n",
      "3   -0.031400  0.053418 -0.022200           1 -0.026809  0.727743   \n",
      "4    0.297986  0.181234  0.317672           1  0.257376  0.257772   \n",
      "..        ...       ...       ...         ...       ...       ...   \n",
      "403  0.030676  0.255480 -0.067020           1 -0.008405  0.816549   \n",
      "404  0.181463  0.294506  0.153850           1  0.163948  0.820780   \n",
      "405  0.214250  0.117850  0.248110           1  0.215429  0.800442   \n",
      "406  0.177905  0.293322  0.204140           1  0.167494  0.919245   \n",
      "407  0.166161  0.178316  0.248040           1  0.145869  0.934091   \n",
      "\n",
      "     y_stdu_pred  y_stdc_pred rmse/std_y Domain Prediction from Max F1  \\\n",
      "0       0.056104     0.053439                                       ID   \n",
      "1       0.251117     0.171922                                       ID   \n",
      "2       0.123558     0.094421                                       ID   \n",
      "3       0.094557     0.076801                                       ID   \n",
      "4       0.192463     0.136286                                       ID   \n",
      "..           ...          ...                                      ...   \n",
      "403     0.185588     0.132108                                       ID   \n",
      "404     0.233253     0.161068                                       ID   \n",
      "405     0.113199     0.088128                                       ID   \n",
      "406     0.144958     0.107423                                       ID   \n",
      "407     0.175199     0.125797                                       ID   \n",
      "\n",
      "    cdf_area Domain Prediction from Max F1  \n",
      "0                                       OD  \n",
      "1                                       ID  \n",
      "2                                       ID  \n",
      "3                                       OD  \n",
      "4                                       ID  \n",
      "..                                     ...  \n",
      "403                                     OD  \n",
      "404                                     OD  \n",
      "405                                     OD  \n",
      "406                                     OD  \n",
      "407                                     OD  \n",
      "\n",
      "[408 rows x 10 columns]\n"
     ]
    }
   ],
   "source": [
    "import pandas as pd\n",
    "\n",
    "path_fullfit = splitter.splitdir\n",
    "\n",
    "model_path = os.path.join(path_fullfit, 'RandomForestRegressor.pkl')\n",
    "preprocessor_path = os.path.join(path_fullfit, 'StandardScaler.pkl')\n",
    "domain_path = list(map(str, Path(path_fullfit).rglob('domain_*.pkl')))\n",
    "\n",
    "pred_df = make_prediction(\n",
    "                          X_train=X,\n",
    "                          y_train=pd.DataFrame(y),\n",
    "                          X_test=X,\n",
    "                          model=model_path,\n",
    "                          preprocessor=preprocessor_path,\n",
    "                          domain=domain_path,\n",
    "                          )\n",
    "\n",
    "print(pred_df)"
   ]
  },
  {
   "cell_type": "markdown",
   "metadata": {
    "id": "zhXILwDs0sPN"
   },
   "source": [
    "We can also change the default thresholds for prediction and add our own."
   ]
  },
  {
   "cell_type": "code",
   "execution_count": null,
   "metadata": {},
   "outputs": [],
   "source": []
  }
 ],
 "metadata": {
  "colab": {
   "provenance": []
  },
  "kernelspec": {
   "display_name": "Python 3 (ipykernel)",
   "language": "python",
   "name": "python3"
  },
  "language_info": {
   "codemirror_mode": {
    "name": "ipython",
    "version": 3
   },
   "file_extension": ".py",
   "mimetype": "text/x-python",
   "name": "python",
   "nbconvert_exporter": "python",
   "pygments_lexer": "ipython3",
   "version": "3.11.7"
  }
 },
 "nbformat": 4,
 "nbformat_minor": 4
}

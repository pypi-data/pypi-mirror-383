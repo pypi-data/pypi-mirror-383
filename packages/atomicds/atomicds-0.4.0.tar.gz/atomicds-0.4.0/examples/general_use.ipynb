{
 "cells": [
  {
   "cell_type": "markdown",
   "id": "1823abf7-eb71-4cdd-892c-7de1bfcf9392",
   "metadata": {},
   "source": [
    "# Basic API Client Usage"
   ]
  },
  {
   "cell_type": "markdown",
   "id": "e71bd505-423f-46e5-9ab0-cfd90b6a8a37",
   "metadata": {},
   "source": [
    "### Install package"
   ]
  },
  {
   "cell_type": "code",
   "execution_count": 1,
   "id": "51f71656-f1ae-4d07-8b3f-1e6d754f1539",
   "metadata": {},
   "outputs": [],
   "source": [
    "#!pip install atomicds"
   ]
  },
  {
   "cell_type": "markdown",
   "id": "c1357c51-77cd-40b0-99b1-28ab9cdae1fa",
   "metadata": {},
   "source": [
    "### API Client Setup"
   ]
  },
  {
   "cell_type": "code",
   "execution_count": 4,
   "id": "46b4432e-a8a9-4952-903c-f2f5dd8331c8",
   "metadata": {},
   "outputs": [],
   "source": [
    "from atomicds.client import Client\n",
    "from atomicds.results import RHEEDImageCollection\n",
    "\n",
    "from datetime import datetime\n",
    "import networkx as nx\n",
    "import matplotlib as plt"
   ]
  },
  {
   "cell_type": "markdown",
   "id": "3560f0fd-79e6-45d7-bbea-657f9a781d76",
   "metadata": {},
   "source": [
    "To get an API key to run this example, go to Account Management from your profile."
   ]
  },
  {
   "cell_type": "code",
   "execution_count": 3,
   "id": "7b612178-d2a2-4a87-af63-11d19a70b860",
   "metadata": {},
   "outputs": [],
   "source": [
    "api_key = \"YOUR_API_KEY_HERE\"\n",
    "client = Client(api_key=api_key)"
   ]
  },
  {
   "cell_type": "markdown",
   "id": "64a0ad54-a129-4200-acd4-616dd15a7459",
   "metadata": {},
   "source": [
    "### Uploading Data"
   ]
  },
  {
   "cell_type": "markdown",
   "id": "cee88532-629a-4749-ae78-965a4d4340f0",
   "metadata": {},
   "source": [
    "Uploading local files can be done with the `upload` method as shown below. \n",
    "\n",
    "This will also kick off analysis automatically. Data is visible in the platform immediately."
   ]
  },
  {
   "cell_type": "code",
   "execution_count": null,
   "id": "d3659989-2eda-4d48-b782-c757d260504d",
   "metadata": {},
   "outputs": [],
   "source": [
    "files = [\"example/RHEED1.mp4\", \"example/RHEED2.imm\"]\n",
    "client.upload(files=files)"
   ]
  },
  {
   "cell_type": "markdown",
   "id": "1f430c48-12a3-42f2-84f7-b5c90a9d499b",
   "metadata": {},
   "source": [
    "### Searching Data"
   ]
  },
  {
   "cell_type": "markdown",
   "id": "a1be45ad-7800-4f2e-b141-80b72345ba83",
   "metadata": {},
   "source": [
    "Below are examples illustrating different ways to search through data catalogue items with the API.\n",
    "\n",
    "There may be more options than what is here. Refer to the docs (https://atomic-data-sciences.github.io/api-client/) for more details."
   ]
  },
  {
   "cell_type": "code",
   "execution_count": 4,
   "id": "317c17a8-78a2-41b2-a888-d835c8bf5010",
   "metadata": {},
   "outputs": [],
   "source": [
    "# Keyword searching - any keywords in any data catalogue field\n",
    "results = client.search(keywords=[\"WSe2\"])\n",
    "\n",
    "# Limit To Personal - option to limit search results to personal uploads\n",
    "results = client.search(include_organization_data=False)\n",
    "\n",
    "# Data IDs - main ID automatically assigned to the data on upload\n",
    "results = client.search(data_ids=[\"44fa63b0-74da-4d25-a362-2276c80a670a\"])\n",
    "\n",
    "# Data Type -- 'all', 'rheed_image', 'rheed_stationary', 'rheed_rotating', 'xps', etc...\n",
    "results = client.search(data_type=\"all\")\n",
    "\n",
    "# Status - 'all, 'success', 'pending', 'error', 'running'\n",
    "results = client.search(status=\"all\")\n",
    "\n",
    "# Growth Length - min and max length of the growth in seconds, with None meaning no bound\n",
    "results = client.search(growth_length=(3000, None))\n",
    "\n",
    "# Upload Datetime - min and max upload datetime of the growth, with None meaning no bound\n",
    "max_datetime = datetime.strptime('01-04-2025', '%d-%m-%Y')\n",
    "results = client.search(upload_datetime=(None, max_datetime))"
   ]
  },
  {
   "cell_type": "markdown",
   "id": "fd839985-57b5-4a2e-adc7-23b86bb01aa5",
   "metadata": {},
   "source": [
    "### Search Results"
   ]
  },
  {
   "cell_type": "markdown",
   "id": "8ded520a-1b83-4b06-81c1-688abb35abb3",
   "metadata": {},
   "source": [
    "Search results are returned as rows in a pandas `Dataframe` object with the following columns:\n",
    "```\n",
    "['Data ID', 'Upload Datetime', 'Last Accessed Datetime', 'File Metadata',\n",
    "'Type', 'File Name', 'Status', 'File Type', 'Instrument Source',\n",
    "'Sample Name', 'Growth Length', 'Tags', 'Owner', 'Physical Sample ID',\n",
    "'Physical Sample Name', 'Sample Notes', 'Sample Notes Last Updated']\n",
    "```"
   ]
  },
  {
   "cell_type": "code",
   "execution_count": 5,
   "id": "fabdc9b2-0075-40ca-b1a5-704872f9fb93",
   "metadata": {},
   "outputs": [
    {
     "data": {
      "text/html": [
       "<div>\n",
       "<style scoped>\n",
       "    .dataframe tbody tr th:only-of-type {\n",
       "        vertical-align: middle;\n",
       "    }\n",
       "\n",
       "    .dataframe tbody tr th {\n",
       "        vertical-align: top;\n",
       "    }\n",
       "\n",
       "    .dataframe thead th {\n",
       "        text-align: right;\n",
       "    }\n",
       "</style>\n",
       "<table border=\"1\" class=\"dataframe\">\n",
       "  <thead>\n",
       "    <tr style=\"text-align: right;\">\n",
       "      <th></th>\n",
       "      <th>Data ID</th>\n",
       "      <th>Upload Datetime</th>\n",
       "      <th>Last Accessed Datetime</th>\n",
       "      <th>File Metadata</th>\n",
       "      <th>Type</th>\n",
       "      <th>File Name</th>\n",
       "      <th>Status</th>\n",
       "      <th>File Type</th>\n",
       "      <th>Instrument Source</th>\n",
       "      <th>Sample Name</th>\n",
       "      <th>Growth Length</th>\n",
       "      <th>Tags</th>\n",
       "      <th>Owner</th>\n",
       "      <th>Physical Sample ID</th>\n",
       "      <th>Physical Sample Name</th>\n",
       "      <th>Sample Notes</th>\n",
       "      <th>Sample Notes Last Updated</th>\n",
       "    </tr>\n",
       "  </thead>\n",
       "  <tbody>\n",
       "    <tr>\n",
       "      <th>0</th>\n",
       "      <td>6a921282-4c11-485b-8c70-75529a9936f6</td>\n",
       "      <td>2025-02-12 21:28:35.738882</td>\n",
       "      <td>2025-02-12 21:36:09.655542</td>\n",
       "      <td>{'dims': [150, 319, 484], 'width': 0, 'frames'...</td>\n",
       "      <td>rheed_stationary</td>\n",
       "      <td>RHEED Stream @ 4:28pm</td>\n",
       "      <td>success</td>\n",
       "      <td>.avi</td>\n",
       "      <td>None</td>\n",
       "      <td>None</td>\n",
       "      <td>-</td>\n",
       "      <td>None</td>\n",
       "      <td>Jason Munro</td>\n",
       "      <td>None</td>\n",
       "      <td>None</td>\n",
       "      <td>Agent Demo V2\\n</td>\n",
       "      <td>2025-02-12 21:36:09.664756</td>\n",
       "    </tr>\n",
       "    <tr>\n",
       "      <th>1</th>\n",
       "      <td>df6381a9-0380-42ad-8eac-65099076565b</td>\n",
       "      <td>2023-10-23 02:57:24.315666</td>\n",
       "      <td>2025-02-27 15:03:33.250262</td>\n",
       "      <td>{'dims': [4116, 494, 566], 'width': 566, 'fram...</td>\n",
       "      <td>rheed_stationary</td>\n",
       "      <td>demo_heterostructure_growth (LFO-LAO).mp4</td>\n",
       "      <td>success</td>\n",
       "      <td>.mp4</td>\n",
       "      <td>None</td>\n",
       "      <td>None</td>\n",
       "      <td>0 days 00:34:18</td>\n",
       "      <td>None</td>\n",
       "      <td>Jason Munro</td>\n",
       "      <td>None</td>\n",
       "      <td>None</td>\n",
       "      <td>None</td>\n",
       "      <td>NaT</td>\n",
       "    </tr>\n",
       "  </tbody>\n",
       "</table>\n",
       "</div>"
      ],
      "text/plain": [
       "                                Data ID             Upload Datetime  \\\n",
       "0  6a921282-4c11-485b-8c70-75529a9936f6  2025-02-12 21:28:35.738882   \n",
       "1  df6381a9-0380-42ad-8eac-65099076565b  2023-10-23 02:57:24.315666   \n",
       "\n",
       "       Last Accessed Datetime  \\\n",
       "0  2025-02-12 21:36:09.655542   \n",
       "1  2025-02-27 15:03:33.250262   \n",
       "\n",
       "                                       File Metadata              Type  \\\n",
       "0  {'dims': [150, 319, 484], 'width': 0, 'frames'...  rheed_stationary   \n",
       "1  {'dims': [4116, 494, 566], 'width': 566, 'fram...  rheed_stationary   \n",
       "\n",
       "                                   File Name   Status File Type  \\\n",
       "0                      RHEED Stream @ 4:28pm  success      .avi   \n",
       "1  demo_heterostructure_growth (LFO-LAO).mp4  success      .mp4   \n",
       "\n",
       "  Instrument Source Sample Name    Growth Length  Tags        Owner  \\\n",
       "0              None        None                -  None  Jason Munro   \n",
       "1              None        None  0 days 00:34:18  None  Jason Munro   \n",
       "\n",
       "  Physical Sample ID Physical Sample Name     Sample Notes  \\\n",
       "0               None                 None  Agent Demo V2\\n   \n",
       "1               None                 None             None   \n",
       "\n",
       "    Sample Notes Last Updated  \n",
       "0  2025-02-12 21:36:09.664756  \n",
       "1                         NaT  "
      ]
     },
     "execution_count": 5,
     "metadata": {},
     "output_type": "execute_result"
    }
   ],
   "source": [
    "results = client.search(keywords=[\"demo\"], data_type=\"rheed_stationary\", include_organization_data=False)\n",
    "results"
   ]
  },
  {
   "cell_type": "markdown",
   "id": "5483d8cd-308c-460d-b1bd-5ed6b80571be",
   "metadata": {},
   "source": [
    "### Analysis Results"
   ]
  },
  {
   "cell_type": "markdown",
   "id": "8d177ffb-e067-4997-b9c2-b26991e8a4a0",
   "metadata": {},
   "source": [
    "Individual data item analysis results can be obtained using data IDs from a search, or from the web interface."
   ]
  },
  {
   "cell_type": "code",
   "execution_count": 6,
   "id": "0aef04bc-8996-41d1-9ca7-d92173b2bffd",
   "metadata": {},
   "outputs": [
    {
     "data": {
      "application/vnd.jupyter.widget-view+json": {
       "model_id": "e59576d92119421ca9c2f62062b86f25",
       "version_major": 2,
       "version_minor": 0
      },
      "text/plain": [
       "Obtaining data results:   0%|          | 0/2 [00:00<?, ?it/s]"
      ]
     },
     "metadata": {},
     "output_type": "display_data"
    }
   ],
   "source": [
    "analyzed = client.get(results[\"Data ID\"].to_list())"
   ]
  },
  {
   "cell_type": "markdown",
   "id": "5f0bb695-e6e5-4269-86d8-6fe8f5173c24",
   "metadata": {},
   "source": [
    "Let's pull a single RHEED video analysis item and look at some of the data..."
   ]
  },
  {
   "cell_type": "code",
   "execution_count": 7,
   "id": "f47a65fb-610b-4c96-a808-535b39dc4589",
   "metadata": {},
   "outputs": [
    {
     "data": {
      "text/html": [
       "<div>\n",
       "<style scoped>\n",
       "    .dataframe tbody tr th:only-of-type {\n",
       "        vertical-align: middle;\n",
       "    }\n",
       "\n",
       "    .dataframe tbody tr th {\n",
       "        vertical-align: top;\n",
       "    }\n",
       "\n",
       "    .dataframe thead th {\n",
       "        text-align: right;\n",
       "    }\n",
       "</style>\n",
       "<table border=\"1\" class=\"dataframe\">\n",
       "  <thead>\n",
       "    <tr style=\"text-align: right;\">\n",
       "      <th></th>\n",
       "      <th></th>\n",
       "      <th>Time</th>\n",
       "      <th>Specular Intensity</th>\n",
       "      <th>First Order Intensity</th>\n",
       "      <th>Strain</th>\n",
       "      <th>Cumulative Strain</th>\n",
       "      <th>Oscillation Period</th>\n",
       "      <th>Diffraction Spot Count</th>\n",
       "      <th>Lattice Spacing</th>\n",
       "    </tr>\n",
       "    <tr>\n",
       "      <th>Angle</th>\n",
       "      <th>Frame Number</th>\n",
       "      <th></th>\n",
       "      <th></th>\n",
       "      <th></th>\n",
       "      <th></th>\n",
       "      <th></th>\n",
       "      <th></th>\n",
       "      <th></th>\n",
       "      <th></th>\n",
       "    </tr>\n",
       "  </thead>\n",
       "  <tbody>\n",
       "    <tr>\n",
       "      <th rowspan=\"11\" valign=\"top\">Seed Frame 6)</th>\n",
       "      <th>6</th>\n",
       "      <td>0.200053</td>\n",
       "      <td>0.417385</td>\n",
       "      <td>0.363062</td>\n",
       "      <td>0.000000</td>\n",
       "      <td>0.000000</td>\n",
       "      <td>0.0</td>\n",
       "      <td>5</td>\n",
       "      <td>1.007952</td>\n",
       "    </tr>\n",
       "    <tr>\n",
       "      <th>20</th>\n",
       "      <td>0.666844</td>\n",
       "      <td>0.417385</td>\n",
       "      <td>0.363062</td>\n",
       "      <td>0.000195</td>\n",
       "      <td>0.000195</td>\n",
       "      <td>0.0</td>\n",
       "      <td>5</td>\n",
       "      <td>1.007755</td>\n",
       "    </tr>\n",
       "    <tr>\n",
       "      <th>34</th>\n",
       "      <td>1.133636</td>\n",
       "      <td>0.417385</td>\n",
       "      <td>0.363062</td>\n",
       "      <td>0.000195</td>\n",
       "      <td>0.000000</td>\n",
       "      <td>0.0</td>\n",
       "      <td>5</td>\n",
       "      <td>1.007755</td>\n",
       "    </tr>\n",
       "    <tr>\n",
       "      <th>48</th>\n",
       "      <td>1.600427</td>\n",
       "      <td>0.417385</td>\n",
       "      <td>0.363062</td>\n",
       "      <td>0.000171</td>\n",
       "      <td>-0.000024</td>\n",
       "      <td>0.0</td>\n",
       "      <td>5</td>\n",
       "      <td>1.007779</td>\n",
       "    </tr>\n",
       "    <tr>\n",
       "      <th>62</th>\n",
       "      <td>2.067218</td>\n",
       "      <td>0.417012</td>\n",
       "      <td>0.363062</td>\n",
       "      <td>-0.003067</td>\n",
       "      <td>-0.003237</td>\n",
       "      <td>0.0</td>\n",
       "      <td>4</td>\n",
       "      <td>1.011052</td>\n",
       "    </tr>\n",
       "    <tr>\n",
       "      <th>...</th>\n",
       "      <td>...</td>\n",
       "      <td>...</td>\n",
       "      <td>...</td>\n",
       "      <td>...</td>\n",
       "      <td>...</td>\n",
       "      <td>...</td>\n",
       "      <td>...</td>\n",
       "      <td>...</td>\n",
       "    </tr>\n",
       "    <tr>\n",
       "      <th>2900</th>\n",
       "      <td>96.719167</td>\n",
       "      <td>0.379578</td>\n",
       "      <td>0.345762</td>\n",
       "      <td>-0.548904</td>\n",
       "      <td>-0.000031</td>\n",
       "      <td>0.0</td>\n",
       "      <td>20</td>\n",
       "      <td>2.246313</td>\n",
       "    </tr>\n",
       "    <tr>\n",
       "      <th>2920</th>\n",
       "      <td>97.385333</td>\n",
       "      <td>0.380351</td>\n",
       "      <td>0.338220</td>\n",
       "      <td>-0.549462</td>\n",
       "      <td>-0.001236</td>\n",
       "      <td>0.0</td>\n",
       "      <td>22</td>\n",
       "      <td>2.249093</td>\n",
       "    </tr>\n",
       "    <tr>\n",
       "      <th>2940</th>\n",
       "      <td>98.051500</td>\n",
       "      <td>0.380351</td>\n",
       "      <td>0.338220</td>\n",
       "      <td>-0.549282</td>\n",
       "      <td>0.000399</td>\n",
       "      <td>0.0</td>\n",
       "      <td>22</td>\n",
       "      <td>2.248195</td>\n",
       "    </tr>\n",
       "    <tr>\n",
       "      <th>2960</th>\n",
       "      <td>98.717667</td>\n",
       "      <td>0.380812</td>\n",
       "      <td>0.338220</td>\n",
       "      <td>-0.549326</td>\n",
       "      <td>-0.000098</td>\n",
       "      <td>0.0</td>\n",
       "      <td>22</td>\n",
       "      <td>2.248415</td>\n",
       "    </tr>\n",
       "    <tr>\n",
       "      <th>2980</th>\n",
       "      <td>99.383833</td>\n",
       "      <td>0.380755</td>\n",
       "      <td>0.338220</td>\n",
       "      <td>-0.549666</td>\n",
       "      <td>-0.000754</td>\n",
       "      <td>0.0</td>\n",
       "      <td>22</td>\n",
       "      <td>2.250113</td>\n",
       "    </tr>\n",
       "  </tbody>\n",
       "</table>\n",
       "<p>159 rows × 8 columns</p>\n",
       "</div>"
      ],
      "text/plain": [
       "                                 Time  Specular Intensity  \\\n",
       "Angle         Frame Number                                  \n",
       "Seed Frame 6) 6              0.200053            0.417385   \n",
       "              20             0.666844            0.417385   \n",
       "              34             1.133636            0.417385   \n",
       "              48             1.600427            0.417385   \n",
       "              62             2.067218            0.417012   \n",
       "...                               ...                 ...   \n",
       "              2900          96.719167            0.379578   \n",
       "              2920          97.385333            0.380351   \n",
       "              2940          98.051500            0.380351   \n",
       "              2960          98.717667            0.380812   \n",
       "              2980          99.383833            0.380755   \n",
       "\n",
       "                            First Order Intensity    Strain  \\\n",
       "Angle         Frame Number                                    \n",
       "Seed Frame 6) 6                          0.363062  0.000000   \n",
       "              20                         0.363062  0.000195   \n",
       "              34                         0.363062  0.000195   \n",
       "              48                         0.363062  0.000171   \n",
       "              62                         0.363062 -0.003067   \n",
       "...                                           ...       ...   \n",
       "              2900                       0.345762 -0.548904   \n",
       "              2920                       0.338220 -0.549462   \n",
       "              2940                       0.338220 -0.549282   \n",
       "              2960                       0.338220 -0.549326   \n",
       "              2980                       0.338220 -0.549666   \n",
       "\n",
       "                            Cumulative Strain  Oscillation Period  \\\n",
       "Angle         Frame Number                                          \n",
       "Seed Frame 6) 6                      0.000000                 0.0   \n",
       "              20                     0.000195                 0.0   \n",
       "              34                     0.000000                 0.0   \n",
       "              48                    -0.000024                 0.0   \n",
       "              62                    -0.003237                 0.0   \n",
       "...                                       ...                 ...   \n",
       "              2900                  -0.000031                 0.0   \n",
       "              2920                  -0.001236                 0.0   \n",
       "              2940                   0.000399                 0.0   \n",
       "              2960                  -0.000098                 0.0   \n",
       "              2980                  -0.000754                 0.0   \n",
       "\n",
       "                            Diffraction Spot Count  Lattice Spacing  \n",
       "Angle         Frame Number                                           \n",
       "Seed Frame 6) 6                                  5         1.007952  \n",
       "              20                                 5         1.007755  \n",
       "              34                                 5         1.007755  \n",
       "              48                                 5         1.007779  \n",
       "              62                                 4         1.011052  \n",
       "...                                            ...              ...  \n",
       "              2900                              20         2.246313  \n",
       "              2920                              22         2.249093  \n",
       "              2940                              22         2.248195  \n",
       "              2960                              22         2.248415  \n",
       "              2980                              22         2.250113  \n",
       "\n",
       "[159 rows x 8 columns]"
      ]
     },
     "execution_count": 7,
     "metadata": {},
     "output_type": "execute_result"
    }
   ],
   "source": [
    "video_item = analyzed[0]\n",
    "video_item.timeseries_data"
   ]
  },
  {
   "cell_type": "markdown",
   "id": "4d8f8532-1476-4b0a-b9e2-307eec1da6ee",
   "metadata": {
    "jp-MarkdownHeadingCollapsed": true
   },
   "source": [
    "Extracted frame image and segmentation mask"
   ]
  },
  {
   "cell_type": "code",
   "execution_count": 15,
   "id": "5fc711d1-38e7-435d-b045-10cb1cbfa771",
   "metadata": {},
   "outputs": [],
   "source": [
    "extracted_frame = video_item.snapshot_image_data[0]"
   ]
  },
  {
   "cell_type": "code",
   "execution_count": 16,
   "id": "7968bc78-1dfc-4381-860d-a6d8bb2e60eb",
   "metadata": {},
   "outputs": [
    {
     "data": {
      "image/png": "[encoded data removed]",
      "text/plain": [
       "<PIL.Image.Image image mode=RGBA size=484x319>"
      ]
     },
     "execution_count": 16,
     "metadata": {},
     "output_type": "execute_result"
    }
   ],
   "source": [
    "extracted_frame.get_plot()"
   ]
  },
  {
   "cell_type": "markdown",
   "id": "a3de3ce2-611d-439e-aefe-0b58cf3df1b1",
   "metadata": {},
   "source": [
    "NetworkX graph object and RHEED fingerprint data"
   ]
  },
  {
   "cell_type": "code",
   "execution_count": 17,
   "id": "f098ef1d-a445-4881-a29c-74859cda56fb",
   "metadata": {},
   "outputs": [
    {
     "name": "stdout",
     "output_type": "stream",
     "text": [
      "MultiGraph with 6 nodes and 5 edges\n"
     ]
    },
    {
     "data": {
      "image/png": "[encoded data removed]",
      "text/plain": [
       "<Figure size 640x480 with 1 Axes>"
      ]
     },
     "metadata": {},
     "output_type": "display_data"
    }
   ],
   "source": [
    "pattern_network = extracted_frame.pattern_graph\n",
    "print(pattern_network)\n",
    "nx.draw_networkx(pattern_network)"
   ]
  },
  {
   "cell_type": "code",
   "execution_count": 18,
   "id": "3048c0e6-b645-41a8-840d-10f1182a693e",
   "metadata": {},
   "outputs": [
    {
     "data": {
      "text/html": [
       "<div>\n",
       "<style scoped>\n",
       "    .dataframe tbody tr th:only-of-type {\n",
       "        vertical-align: middle;\n",
       "    }\n",
       "\n",
       "    .dataframe tbody tr th {\n",
       "        vertical-align: top;\n",
       "    }\n",
       "\n",
       "    .dataframe thead th {\n",
       "        text-align: right;\n",
       "    }\n",
       "</style>\n",
       "<table border=\"1\" class=\"dataframe\">\n",
       "  <thead>\n",
       "    <tr style=\"text-align: right;\">\n",
       "      <th></th>\n",
       "      <th>node_id</th>\n",
       "      <th>centroid_0</th>\n",
       "      <th>centroid_1</th>\n",
       "      <th>specular_origin_0</th>\n",
       "      <th>specular_origin_1</th>\n",
       "      <th>relative_centroid_0</th>\n",
       "      <th>relative_centroid_1</th>\n",
       "      <th>intensity_centroid_0</th>\n",
       "      <th>intensity_centroid_1</th>\n",
       "      <th>area</th>\n",
       "      <th>...</th>\n",
       "      <th>mask_height</th>\n",
       "      <th>streak_area</th>\n",
       "      <th>eccentricity</th>\n",
       "      <th>bbox_intensity</th>\n",
       "      <th>center_distance</th>\n",
       "      <th>roughness_metric</th>\n",
       "      <th>axis_major_length</th>\n",
       "      <th>axis_minor_length</th>\n",
       "      <th>distances</th>\n",
       "      <th>data_id</th>\n",
       "    </tr>\n",
       "  </thead>\n",
       "  <tbody>\n",
       "    <tr>\n",
       "      <th>0</th>\n",
       "      <td>0</td>\n",
       "      <td>120.774413</td>\n",
       "      <td>247.821347</td>\n",
       "      <td>120.774413</td>\n",
       "      <td>247.821347</td>\n",
       "      <td>0.000000</td>\n",
       "      <td>0.000000</td>\n",
       "      <td>2.225587</td>\n",
       "      <td>-0.321347</td>\n",
       "      <td>1321.0</td>\n",
       "      <td>...</td>\n",
       "      <td>319</td>\n",
       "      <td>517</td>\n",
       "      <td>0.914355</td>\n",
       "      <td>0.521301</td>\n",
       "      <td>0.000000</td>\n",
       "      <td>2.199978</td>\n",
       "      <td>65.761904</td>\n",
       "      <td>26.627896</td>\n",
       "      <td>39.179292</td>\n",
       "      <td>cb12e6ce-469a-491f-9c94-0d40bd30af1a</td>\n",
       "    </tr>\n",
       "    <tr>\n",
       "      <th>1</th>\n",
       "      <td>1</td>\n",
       "      <td>63.169811</td>\n",
       "      <td>247.377358</td>\n",
       "      <td>120.774413</td>\n",
       "      <td>247.821347</td>\n",
       "      <td>-57.604602</td>\n",
       "      <td>-0.443989</td>\n",
       "      <td>-53.774413</td>\n",
       "      <td>-0.321347</td>\n",
       "      <td>53.0</td>\n",
       "      <td>...</td>\n",
       "      <td>319</td>\n",
       "      <td>0</td>\n",
       "      <td>0.383525</td>\n",
       "      <td>0.327044</td>\n",
       "      <td>57.606313</td>\n",
       "      <td>1.999900</td>\n",
       "      <td>8.542747</td>\n",
       "      <td>7.889485</td>\n",
       "      <td>77.446765</td>\n",
       "      <td>cb12e6ce-469a-491f-9c94-0d40bd30af1a</td>\n",
       "    </tr>\n",
       "    <tr>\n",
       "      <th>2</th>\n",
       "      <td>2</td>\n",
       "      <td>47.173077</td>\n",
       "      <td>246.307692</td>\n",
       "      <td>120.774413</td>\n",
       "      <td>247.821347</td>\n",
       "      <td>-73.601336</td>\n",
       "      <td>-1.513655</td>\n",
       "      <td>-69.774413</td>\n",
       "      <td>-1.821347</td>\n",
       "      <td>52.0</td>\n",
       "      <td>...</td>\n",
       "      <td>319</td>\n",
       "      <td>52</td>\n",
       "      <td>0.398166</td>\n",
       "      <td>0.264103</td>\n",
       "      <td>73.616899</td>\n",
       "      <td>4.999500</td>\n",
       "      <td>8.520817</td>\n",
       "      <td>7.816259</td>\n",
       "      <td>91.352075</td>\n",
       "      <td>cb12e6ce-469a-491f-9c94-0d40bd30af1a</td>\n",
       "    </tr>\n",
       "    <tr>\n",
       "      <th>3</th>\n",
       "      <td>3</td>\n",
       "      <td>92.633476</td>\n",
       "      <td>151.613734</td>\n",
       "      <td>120.774413</td>\n",
       "      <td>247.821347</td>\n",
       "      <td>-28.140937</td>\n",
       "      <td>-96.207614</td>\n",
       "      <td>-11.274413</td>\n",
       "      <td>-96.821347</td>\n",
       "      <td>1165.0</td>\n",
       "      <td>...</td>\n",
       "      <td>319</td>\n",
       "      <td>728</td>\n",
       "      <td>0.972915</td>\n",
       "      <td>0.419110</td>\n",
       "      <td>100.238801</td>\n",
       "      <td>0.727266</td>\n",
       "      <td>90.617407</td>\n",
       "      <td>20.947440</td>\n",
       "      <td>69.863769</td>\n",
       "      <td>cb12e6ce-469a-491f-9c94-0d40bd30af1a</td>\n",
       "    </tr>\n",
       "    <tr>\n",
       "      <th>4</th>\n",
       "      <td>4</td>\n",
       "      <td>83.627207</td>\n",
       "      <td>344.719626</td>\n",
       "      <td>120.774413</td>\n",
       "      <td>247.821347</td>\n",
       "      <td>-37.147207</td>\n",
       "      <td>96.898279</td>\n",
       "      <td>-18.218858</td>\n",
       "      <td>95.845319</td>\n",
       "      <td>963.0</td>\n",
       "      <td>...</td>\n",
       "      <td>319</td>\n",
       "      <td>758</td>\n",
       "      <td>0.968453</td>\n",
       "      <td>0.295046</td>\n",
       "      <td>103.774715</td>\n",
       "      <td>3.384589</td>\n",
       "      <td>71.578317</td>\n",
       "      <td>17.837149</td>\n",
       "      <td>142.806020</td>\n",
       "      <td>cb12e6ce-469a-491f-9c94-0d40bd30af1a</td>\n",
       "    </tr>\n",
       "    <tr>\n",
       "      <th>5</th>\n",
       "      <td>5</td>\n",
       "      <td>134.678744</td>\n",
       "      <td>51.596618</td>\n",
       "      <td>120.774413</td>\n",
       "      <td>247.821347</td>\n",
       "      <td>13.904331</td>\n",
       "      <td>-196.224729</td>\n",
       "      <td>33.825587</td>\n",
       "      <td>-192.821347</td>\n",
       "      <td>414.0</td>\n",
       "      <td>...</td>\n",
       "      <td>319</td>\n",
       "      <td>414</td>\n",
       "      <td>0.984403</td>\n",
       "      <td>0.250185</td>\n",
       "      <td>196.716737</td>\n",
       "      <td>8.799824</td>\n",
       "      <td>59.261583</td>\n",
       "      <td>10.425878</td>\n",
       "      <td>158.446093</td>\n",
       "      <td>cb12e6ce-469a-491f-9c94-0d40bd30af1a</td>\n",
       "    </tr>\n",
       "  </tbody>\n",
       "</table>\n",
       "<p>6 rows × 30 columns</p>\n",
       "</div>"
      ],
      "text/plain": [
       "   node_id  centroid_0  centroid_1  specular_origin_0  specular_origin_1  \\\n",
       "0        0  120.774413  247.821347         120.774413         247.821347   \n",
       "1        1   63.169811  247.377358         120.774413         247.821347   \n",
       "2        2   47.173077  246.307692         120.774413         247.821347   \n",
       "3        3   92.633476  151.613734         120.774413         247.821347   \n",
       "4        4   83.627207  344.719626         120.774413         247.821347   \n",
       "5        5  134.678744   51.596618         120.774413         247.821347   \n",
       "\n",
       "   relative_centroid_0  relative_centroid_1  intensity_centroid_0  \\\n",
       "0             0.000000             0.000000              2.225587   \n",
       "1           -57.604602            -0.443989            -53.774413   \n",
       "2           -73.601336            -1.513655            -69.774413   \n",
       "3           -28.140937           -96.207614            -11.274413   \n",
       "4           -37.147207            96.898279            -18.218858   \n",
       "5            13.904331          -196.224729             33.825587   \n",
       "\n",
       "   intensity_centroid_1    area  ...  mask_height  streak_area eccentricity  \\\n",
       "0             -0.321347  1321.0  ...          319          517     0.914355   \n",
       "1             -0.321347    53.0  ...          319            0     0.383525   \n",
       "2             -1.821347    52.0  ...          319           52     0.398166   \n",
       "3            -96.821347  1165.0  ...          319          728     0.972915   \n",
       "4             95.845319   963.0  ...          319          758     0.968453   \n",
       "5           -192.821347   414.0  ...          319          414     0.984403   \n",
       "\n",
       "   bbox_intensity  center_distance  roughness_metric  axis_major_length  \\\n",
       "0        0.521301         0.000000          2.199978          65.761904   \n",
       "1        0.327044        57.606313          1.999900           8.542747   \n",
       "2        0.264103        73.616899          4.999500           8.520817   \n",
       "3        0.419110       100.238801          0.727266          90.617407   \n",
       "4        0.295046       103.774715          3.384589          71.578317   \n",
       "5        0.250185       196.716737          8.799824          59.261583   \n",
       "\n",
       "   axis_minor_length   distances                               data_id  \n",
       "0          26.627896   39.179292  cb12e6ce-469a-491f-9c94-0d40bd30af1a  \n",
       "1           7.889485   77.446765  cb12e6ce-469a-491f-9c94-0d40bd30af1a  \n",
       "2           7.816259   91.352075  cb12e6ce-469a-491f-9c94-0d40bd30af1a  \n",
       "3          20.947440   69.863769  cb12e6ce-469a-491f-9c94-0d40bd30af1a  \n",
       "4          17.837149  142.806020  cb12e6ce-469a-491f-9c94-0d40bd30af1a  \n",
       "5          10.425878  158.446093  cb12e6ce-469a-491f-9c94-0d40bd30af1a  \n",
       "\n",
       "[6 rows x 30 columns]"
      ]
     },
     "execution_count": 18,
     "metadata": {},
     "output_type": "execute_result"
    }
   ],
   "source": [
    "extracted_frame.get_pattern_dataframe()"
   ]
  },
  {
   "cell_type": "markdown",
   "id": "826cd2eb-5e4e-4a4c-b967-e10e922543b1",
   "metadata": {},
   "source": [
    "For more information on other data from the API or other example use see notebooks in the code repository (https://github.com/atomic-data-sciences/api-client) and the documentation (https://atomic-data-sciences.github.io/api-client/)"
   ]
  },
  {
   "cell_type": "markdown",
   "id": "4291e2cb-0f26-48aa-b8e9-b8b7e528fcc5",
   "metadata": {},
   "source": [
    "### Download Processed Videos"
   ]
  },
  {
   "cell_type": "markdown",
   "id": "1af857ea-5e3c-4843-9eb4-2a15f0379fbb",
   "metadata": {},
   "source": [
    "Individual processed videos can be downloaded as MP4 files obtained using data IDs from a search, or from the web interface."
   ]
  },
  {
   "cell_type": "code",
   "execution_count": 5,
   "id": "5d665f0f-89f7-4e75-8894-f7095fb4570b",
   "metadata": {},
   "outputs": [],
   "source": [
    "data_ids = results[\"Data ID\"].to_list()"
   ]
  },
  {
   "cell_type": "code",
   "execution_count": 6,
   "id": "810936a2-d007-4eb2-8ee2-43962ba6b01c",
   "metadata": {},
   "outputs": [
    {
     "data": {
      "application/vnd.jupyter.widget-view+json": {
       "model_id": "3878a999008544188c5a787708efd064",
       "version_major": 2,
       "version_minor": 0
      },
      "text/plain": [
       "Output()"
      ]
     },
     "metadata": {},
     "output_type": "display_data"
    },
    {
     "data": {
      "text/html": [
       "<pre style=\"white-space:pre;overflow-x:auto;line-height:normal;font-family:Menlo,'DejaVu Sans Mono',consolas,'Courier New',monospace\"></pre>\n"
      ],
      "text/plain": []
     },
     "metadata": {},
     "output_type": "display_data"
    }
   ],
   "source": [
    "client.download_videos(data_ids=data_ids, dest_dir=\"./\")"
   ]
  }
 ],
 "metadata": {
  "kernelspec": {
   "display_name": "Python 3 (ipykernel)",
   "language": "python",
   "name": "python3"
  },
  "language_info": {
   "codemirror_mode": {
    "name": "ipython",
    "version": 3
   },
   "file_extension": ".py",
   "mimetype": "text/x-python",
   "name": "python",
   "nbconvert_exporter": "python",
   "pygments_lexer": "ipython3",
   "version": "3.11.8"
  }
 },
 "nbformat": 4,
 "nbformat_minor": 5
}

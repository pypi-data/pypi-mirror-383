{
 "cells": [
  {
   "cell_type": "markdown",
   "id": "5f59250b-acd4-44a5-b085-ddf3c87e001e",
   "metadata": {},
   "source": [
    "# Programmatic RHEED Streaming"
   ]
  },
  {
   "cell_type": "markdown",
   "id": "095b812a-75cb-49b3-9668-ac3d3581c81f",
   "metadata": {},
   "source": [
    "## Install package"
   ]
  },
  {
   "cell_type": "code",
   "execution_count": null,
   "id": "329d48c9-61dd-47e7-93cc-20c9e7bccd54",
   "metadata": {},
   "outputs": [],
   "source": [
    "#!pip install atomicds"
   ]
  },
  {
   "cell_type": "markdown",
   "id": "c6a9e75e-9560-49d4-8df7-f75081ef94d9",
   "metadata": {},
   "source": [
    "## Streaming Client Setup"
   ]
  },
  {
   "cell_type": "code",
   "execution_count": null,
   "id": "95e24714-605c-42cc-92f6-77a4800049f1",
   "metadata": {},
   "outputs": [],
   "source": [
    "from atomicds.streaming.rheed_stream import RHEEDStreamer"
   ]
  },
  {
   "cell_type": "markdown",
   "id": "9a8e219a-5920-42bb-888b-d25e9b9e8c7c",
   "metadata": {},
   "source": [
    "To get an API key to run this example, go to Account Management from your profile."
   ]
  },
  {
   "cell_type": "code",
   "execution_count": null,
   "id": "b813a378-7988-4cb8-ba67-e23863c30411",
   "metadata": {},
   "outputs": [],
   "source": [
    "api_key = \"YOUR_API_KEY_HERE\"\n",
    "streamer = RHEEDStreamer(api_key=api_key) # Add verbosity=4 to get full debug output"
   ]
  },
  {
   "cell_type": "markdown",
   "id": "4b08082f-865b-43ec-8d72-4dceffa30db7",
   "metadata": {},
   "source": [
    "## Streaming modes:\n",
    "\n",
    "- Callback (push)\n",
    "\n",
    "- Generator (pull)\n",
    "\n",
    "Both modes stream data. In either case, deliver frames at the original capture cadence—maintain a consistent inter-frame delay of approximately 1 / FPS seconds, as determined by the capture FPS.\n",
    "\n",
    "**NOTE**: Ensure at least 2 seconds of data is represented in each frame chunk sent."
   ]
  },
  {
   "cell_type": "markdown",
   "id": "f75e52d2-4d48-46bd-8cfa-42d21cbd8f2c",
   "metadata": {},
   "source": [
    "### A) Callback/push mode example"
   ]
  },
  {
   "cell_type": "code",
   "execution_count": null,
   "id": "f67c7f6d-f346-4ac2-85cb-a6f005f7b3d4",
   "metadata": {},
   "outputs": [],
   "source": [
    "# 1) Define capture parameters and a simple mock frame source\n",
    "fps = 120\n",
    "chunk_size = 240\n",
    "H, W = 300, 500\n",
    "seconds_per_chunk = chunk_size / fps  # for simulating real-time cadence\n",
    "\n",
    "# 3) Initialize the remote stream (rotations_per_min > 0.0 => rotating)\n",
    "data_id = stream.initialize(\n",
    "    fps=fps,\n",
    "    rotations_per_min=15.0,\n",
    "    chunk_size=chunk_size,\n",
    "    stream_name=\"Demo (callback mode)\",\n",
    ")\n",
    "\n",
    "# 4) Produce and push chunks as they become available (e.g., from a camera callback)\n",
    "num_chunks = 5\n",
    "for chunk_idx in range(num_chunks):\n",
    "    frames = np.random.randint(0, 256, size=(chunk_size, H, W), dtype=np.uint8)  # (N,H,W)\n",
    "    stream.push(data_id, chunk_idx, frames)  # schedules packaging+upload and returns immediately\n",
    "    time.sleep(seconds_per_chunk)            # simulate real-time capture cadence\n",
    "\n",
    "# 5) (Optional) brief grace period so in-flight uploads finish in this toy example\n",
    "time.sleep(1.0)\n",
    "\n",
    "# 6) Finalize the stream on the server\n",
    "stream.finalize(data_id)"
   ]
  },
  {
   "cell_type": "markdown",
   "id": "bea0c620-6c62-418c-b66d-bb75b63e01f4",
   "metadata": {},
   "source": [
    "### B) Generator/pull mode example"
   ]
  },
  {
   "cell_type": "code",
   "execution_count": null,
   "id": "9d7fcfbe-c161-484e-af61-5cb249c055a4",
   "metadata": {},
   "outputs": [],
   "source": [
    "# 1) Pretend we already have all frames in a numpy array\n",
    "total_frames, H, W = 1200, 300, 500\n",
    "frames = np.random.randint(0, 256, size=(total_frames, H, W), dtype=np.uint8)\n",
    "\n",
    "# 2) A simple generator that yields chunk_size frames and sleeps to simulate fps\n",
    "def frame_chunks(parser, chunk_size=240, fps=120.0):\n",
    "    seconds_per_chunk = chunk_size / fps\n",
    "    for i in range(0, len(parser), chunk_size):\n",
    "        yield parser[i:i + chunk_size]   # (N,H,W) uint8\n",
    "        time.sleep(seconds_per_chunk)    # simulate real-time capture\n",
    "\n",
    "# 3) Initialize the remote stream (use rotations_per_min=0.0 if stationary)\n",
    "data_id = stream.initialize(\n",
    "    fps=10.0,\n",
    "    rotations_per_min=0.0,\n",
    "    chunk_size=20,\n",
    "    stream_name=\"Demo (generator mode)\",\n",
    ")\n",
    "\n",
    "# 4) Stream all chunks via run(...). When it returns, uploads are done.\n",
    "stream.run(data_id, frame_chunks(parser, chunk_size=20, fps=10.0))\n",
    "\n",
    "# 5) Tell the server we're finished.\n",
    "stream.finalize(data_id)"
   ]
  }
 ],
 "metadata": {
  "kernelspec": {
   "display_name": "Python 3 (ipykernel)",
   "language": "python",
   "name": "python3"
  },
  "language_info": {
   "codemirror_mode": {
    "name": "ipython",
    "version": 3
   },
   "file_extension": ".py",
   "mimetype": "text/x-python",
   "name": "python",
   "nbconvert_exporter": "python",
   "pygments_lexer": "ipython3",
   "version": "3.11.8"
  }
 },
 "nbformat": 4,
 "nbformat_minor": 5
}

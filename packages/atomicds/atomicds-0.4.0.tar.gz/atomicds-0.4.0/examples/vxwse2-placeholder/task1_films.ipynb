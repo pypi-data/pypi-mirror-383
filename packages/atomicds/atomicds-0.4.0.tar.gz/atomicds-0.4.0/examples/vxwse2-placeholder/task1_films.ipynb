{
    "cells": [
        {
            "cell_type": "code",
            "execution_count": null,
            "id": "b0533b31",
            "metadata": {},
            "outputs": [],
            "source": [
                "!pip install atomicds"
            ]
        },
        {
            "cell_type": "code",
            "execution_count": 76,
            "id": "011a2f90-ee4d-48b8-af75-d2e0bb664adb",
            "metadata": {},
            "outputs": [
                {
                    "name": "stdout",
                    "output_type": "stream",
                    "text": [
                        "The autoreload extension is already loaded. To reload it, use:\n",
                        "  %reload_ext autoreload\n"
                    ]
                },
                {
                    "data": {
                        "application/javascript": "IPython.notebook.set_autosave_interval(1000)"
                    },
                    "metadata": {},
                    "output_type": "display_data"
                },
                {
                    "name": "stdout",
                    "output_type": "stream",
                    "text": [
                        "Autosaving every 1 seconds\n"
                    ]
                }
            ],
            "source": [
                "import pickle\n",
                "import os\n",
                "import matplotlib.pyplot as plt\n",
                "import numpy as np\n",
                "import pandas as pd\n",
                "\n",
                "from atomicds.client import Client\n",
                "from atomicds.results import RHEEDImageCollection\n",
                "\n",
                "from sklearn.linear_model import LogisticRegression\n",
                "from sklearn.metrics import accuracy_score, confusion_matrix, ConfusionMatrixDisplay\n",
                "\n",
                "work_dir = os.getcwd()"
            ]
        },
        {
            "cell_type": "code",
            "execution_count": 29,
            "id": "4331d451",
            "metadata": {},
            "outputs": [
                {
                    "name": "stderr",
                    "output_type": "stream",
                    "text": [
                        "Obtaining data results: 100%|██████████| 76/76 [00:17<00:00,  4.41it/s]\n"
                    ]
                }
            ],
            "source": [
                "# To get an API key to run this example, email chris@atomicdatasciences.com\n",
                "api_key = \"YOUR_API_KEY_HERE\"\n",
                "\n",
                "api = Client(api_key=api_key, endpoint=\"https://api.atomicdatasciences.com\")\n",
                "result = api.search(\"WSe2\", include_organization_data=False)\n",
                "result = result.sort_values(\"File Name\").reset_index(drop=True)"
            ]
        },
        {
            "cell_type": "code",
            "execution_count": 31,
            "id": "f0c8d61e",
            "metadata": {},
            "outputs": [],
            "source": [
                "# define annotation function to simplify adding labels to the dataset\n",
                "\n",
                "def parse_extra_data(df):\n",
                "    extra_data = []\n",
                "    for vi, row in df.iterrows():\n",
                "        \n",
                "        if \"0.2deg\" in row[\"Sample Notes\"]:\n",
                "            miscut = 0.2\n",
                "        elif \"0.5deg\" in row[\"Physical Sample Name\"]:\n",
                "            miscut = 0.5\n",
                "        else:\n",
                "            miscut = \"none\"\n",
                "\n",
                "        extra_data.append({\n",
                "                    \"name\": row[\"Physical Sample Name\"],\n",
                "                    \"quality\": \"textured\" if \"Quality: Textured\" in row[\"Sample Notes\"] else \"good\",\n",
                "                    \"run_date\": pd.to_datetime(row[\"Physical Sample Name\"].split(\"-\")[0]),\n",
                "                    \"doping\": \"V\" if \"-V-\" in row[\"Physical Sample Name\"] else \"N2\" if \"-N2-\" in row[\"Physical Sample Name\"] else \"none\",\n",
                "                    \"miscut\": miscut\n",
                "                  }\n",
                "        )\n",
                "    return extra_data"
            ]
        },
        {
            "cell_type": "code",
            "execution_count": 32,
            "id": "f3e1fbb5",
            "metadata": {},
            "outputs": [
                {
                    "name": "stderr",
                    "output_type": "stream",
                    "text": [
                        "Obtaining data results: 100%|██████████| 14/14 [00:03<00:00,  4.32it/s]\n"
                    ]
                }
            ],
            "source": [
                "# filter the data for one angle of patterns and fetch the results.\n",
                "image_after_growth = result.loc[result[\"File Name\"].str.contains(\"after\")].loc[result[\"File Name\"].str.contains(\"angle1\")].reset_index(drop=True)\n",
                "after_growth_dataset = api.get(image_after_growth[\"Data ID\"].to_list())\n",
                "\n",
                "# Build an image collection dataset with labels\n",
                "after_growth_dataset = RHEEDImageCollection(after_growth_dataset, extra_data=parse_extra_data(image_after_growth), sort_key=\"run_date\")"
            ]
        },
        {
            "cell_type": "code",
            "execution_count": 34,
            "id": "ae8687cc",
            "metadata": {},
            "outputs": [],
            "source": [
                "# Align the patterns in the dataset to maximize shared feature labels across samples\n",
                "aligned_after_growth_dataset = after_growth_dataset.align_fingerprints(search_range=0.2)"
            ]
        },
        {
            "cell_type": "code",
            "execution_count": 92,
            "id": "86972933",
            "metadata": {},
            "outputs": [],
            "source": [
                "def folded_logistic_regression_with_bagging(X, y, data_size=None, n_folds=128):\n",
                "\n",
                "    all_acc_list = []\n",
                "    wrong_idxs = []\n",
                "    right_idxs = []\n",
                "    cm_total = np.zeros((2,2))\n",
                "    probability_df = pd.DataFrame(np.zeros((len(X), 5)), columns=[\"index\", \"good\", \"textured\", \"counts\", \"true_label\"])\n",
                "    for model_fold in range(n_folds):\n",
                "\n",
                "        coefs = []\n",
                "        intercepts = []\n",
                "        n_trials = 100\n",
                "\n",
                "        pre_CV_test_split = np.random.choice(len(X), size=1, replace=False)\n",
                "        \n",
                "\n",
                "        remaining_idx = [i for i in range(len(X)) if i not in pre_CV_test_split]\n",
                "        np.random.shuffle(remaining_idx)\n",
                "\n",
                "        if data_size is not None:\n",
                "            remaining_idx = remaining_idx[:data_size]\n",
                "        \n",
                "        completed_trials = 0\n",
                "        while completed_trials < n_trials:\n",
                "\n",
                "            train_idx = np.random.choice(remaining_idx, size=len(remaining_idx), replace=True)\n",
                "\n",
                "            X_train = X.iloc[train_idx]\n",
                "            y_train = y.iloc[train_idx]\n",
                "\n",
                "            if len(pd.unique(y_train)) != 2:\n",
                "                continue\n",
                "\n",
                "            classifier = LogisticRegression(max_iter=200)\n",
                "            classifier.fit(X_train, y_train)\n",
                "\n",
                "            coefs.append(classifier.coef_)\n",
                "            intercepts.append(classifier.intercept_)\n",
                "\n",
                "            completed_trials += 1\n",
                "\n",
                "        # print(completed_trials)\n",
                "        avg_coef = np.mean(coefs, axis=0)\n",
                "        avg_intercept = np.mean(intercepts, axis=0)\n",
                "\n",
                "        final_model = LogisticRegression(max_iter=200)\n",
                "        final_model.coef_ = avg_coef\n",
                "        final_model.intercept_ = avg_intercept\n",
                "        final_model.classes_ = np.unique(y)\n",
                "        # final_model.feature_names_in_ = X.columns\n",
                "\n",
                "        # print(final_model.classes_)\n",
                "        X_test = X.iloc[pre_CV_test_split].copy()\n",
                "        probs = final_model.predict_proba(X_test)\n",
                "\n",
                "        probability_df.iloc[pre_CV_test_split, 0] = pre_CV_test_split\n",
                "        probability_df.iloc[pre_CV_test_split, 1:3] += probs\n",
                "        probability_df.iloc[pre_CV_test_split, 3] += 1\n",
                "        probability_df.iloc[pre_CV_test_split, 4] = y.iloc[pre_CV_test_split]\n",
                "        # probability_df.iloc[pre_CV_test_split, 5] \n",
                "\n",
                "        all_pred = final_model.predict(X_test)\n",
                "        really_all_pred = final_model.predict(X)\n",
                "\n",
                "        all_acc = accuracy_score(y.iloc[pre_CV_test_split], all_pred)\n",
                "        really_all_acc = accuracy_score(y, really_all_pred)\n",
                "        \n",
                "        wrong_idx = pre_CV_test_split[np.where(y.iloc[pre_CV_test_split] != all_pred)[0]]\n",
                "        wrong_idxs.extend(wrong_idx)\n",
                "        \n",
                "        right_idx = pre_CV_test_split[np.where(y.iloc[pre_CV_test_split] == all_pred)[0]]\n",
                "        right_idxs.extend(right_idx)\n",
                "\n",
                "        cm = confusion_matrix(y.iloc[pre_CV_test_split], all_pred, labels=[\"good\", \"textured\"])\n",
                "        cm_total += cm\n",
                "\n",
                "        all_acc_list.append(all_acc)\n",
                "\n",
                "    print(f\"Mean All Accuracy: {np.mean(all_acc_list)}\")\n",
                "    print(f\"Global accuracy: {really_all_acc}\")\n",
                "\n",
                "    probability_df[\"good\"] = probability_df[\"good\"] / probability_df[\"counts\"]\n",
                "    probability_df[\"textured\"] = probability_df[\"textured\"] / probability_df[\"counts\"]\n",
                "\n",
                "    # print(probability_df)\n",
                "\n",
                "    return probability_df, cm_total, all_acc_list, wrong_idxs, right_idxs, final_model"
            ]
        },
        {
            "cell_type": "markdown",
            "id": "d3754876",
            "metadata": {},
            "source": [
                "## WSE2 FILMS"
            ]
        },
        {
            "cell_type": "code",
            "execution_count": 93,
            "id": "685ea95a",
            "metadata": {},
            "outputs": [
                {
                    "name": "stderr",
                    "output_type": "stream",
                    "text": [
                        "/var/folders/27/gm005n0s177b05wywv0yp18m0000gn/T/ipykernel_2902/1124028853.py:15: PerformanceWarning: dropping on a non-lexsorted multi-index without a level parameter may impact performance.\n",
                        "  aligned_after_growth_df_for_fitting = aligned_after_growth_df.drop(columns=label_columns).select_dtypes(include='number')\n",
                        "/var/folders/27/gm005n0s177b05wywv0yp18m0000gn/T/ipykernel_2902/2135411619.py:68: FutureWarning: Setting an item of incompatible dtype is deprecated and will raise an error in a future version of pandas. Value '['good']' has dtype incompatible with float64, please explicitly cast to a compatible dtype first.\n",
                        "  probability_df.iloc[pre_CV_test_split, 4] = y.iloc[pre_CV_test_split]\n"
                    ]
                },
                {
                    "name": "stdout",
                    "output_type": "stream",
                    "text": [
                        "     quality   run_date doping                         name\n",
                        "                                                           \n",
                        "0   textured 2021-10-28     N2      28Oct2021-N2-WSe2-Run43\n",
                        "1   textured 2021-10-30     N2      30Oct2021-N2-WSe2-Run45\n",
                        "2   textured 2021-10-31     N2      31Oct2021-N2-WSe2-Run46\n",
                        "3   textured 2021-11-02     N2      02Nov2021-N2-WSe2-Run47\n",
                        "4       good 2023-01-20      V   20January2023-V-WSe2-Run40\n",
                        "5       good 2023-02-13      V  13February2023-V-WSe2-Run46\n",
                        "6       good 2023-02-16      V  16February2023-V-WSe2-Run47\n",
                        "7       good 2023-03-23      V     23March2023-V-WSe2-Run57\n",
                        "8       good 2023-03-30      V     30March2023-V-WSe2-Run59\n",
                        "9   textured 2024-02-07   none          07Feb2024-WSe2-Run1\n",
                        "10  textured 2024-02-08   none          08Feb2024-WSe2-Run2\n",
                        "11      good 2024-03-20   none        20March2024-WSe2-Run9\n",
                        "12      good 2024-03-24   none       24March2024-WSe2-Run11\n",
                        "13      good 2024-03-26   none       26March2024-WSe2-Run12\n",
                        "Mean All Accuracy: 0.8166666666666667\n",
                        "Global accuracy: 0.9285714285714286\n"
                    ]
                }
            ],
            "source": [
                "## Classifying WSe2 patterns based on the provided grain alignment labels\n",
                "\n",
                "aligned_after_growth_df = aligned_after_growth_dataset.get_pattern_dataframe(symmetrize=False, streamline=False, normalize=True, return_as_features=True)\n",
                "aligned_after_growth_df = aligned_after_growth_df.fillna(0)\n",
                "\n",
                "label_columns = ['quality', 'run_date', 'doping', 'name']\n",
                "\n",
                "aligned_after_growth_df_for_fitting = aligned_after_growth_df.drop(columns=label_columns).select_dtypes(include='number')\n",
                "\n",
                "X = aligned_after_growth_df_for_fitting\n",
                "y = aligned_after_growth_df['quality']\n",
                "\n",
                "probability_df, cm_total, all_acc_list, wrong_idxs, right_idxs, final_model = folded_logistic_regression_with_bagging(X, y, n_folds=256)\n"
            ]
        },
        {
            "cell_type": "code",
            "execution_count": 79,
            "id": "e14fd908",
            "metadata": {},
            "outputs": [
                {
                    "data": {
                        "image/png": "[encoded data removed]",
                        "text/plain": [
                            "<Figure size 640x480 with 2 Axes>"
                        ]
                    },
                    "metadata": {},
                    "output_type": "display_data"
                }
            ],
            "source": [
                "disp = ConfusionMatrixDisplay(confusion_matrix=cm_total / cm_total.sum(), display_labels=[\"Aligned\", \"Textured\"])\n",
                "fig, ax = plt.subplots()\n",
                "fig.set_tight_layout(True)\n",
                "disp.plot(ax=ax, cmap=plt.cm.Oranges, colorbar=False, text_kw={'size': 20}, values_format=\".2f\")\n",
                "plt.gcf().colorbar(disp.im_, orientation='horizontal', ax=ax, pad=0.12, aspect=30, shrink=0.5)\n",
                "plt.ylabel('True', fontsize=14)\n",
                "plt.xlabel('Predicted', fontsize=14)\n",
                "plt.tick_params(axis='both', which='major', labelsize=13)\n",
                "\n",
                "plt.show()\n"
            ]
        },
        {
            "cell_type": "code",
            "execution_count": 80,
            "id": "f487e53c",
            "metadata": {},
            "outputs": [
                {
                    "name": "stdout",
                    "output_type": "stream",
                    "text": [
                        "[6, 9, 6, 9, 9, 10, 10, 6, 10, 9, 6, 10, 10, 6, 6, 6, 9, 9, 9, 10, 9, 10, 9, 6, 9, 6, 6, 6, 9, 10, 9, 10, 9, 9, 6, 10, 9, 10, 10, 10, 6, 9, 10, 10, 10, 6, 6, 10, 10]\n",
                        "[ 6  9 10]\n",
                        "[ 0.  0.  0.  0.  0.  0. 15.  0.  0. 16. 18.  0.  0.  0.]\n",
                        "[20. 17. 15. 19. 20. 20.  4. 17. 21.  0.  0. 12. 18. 24.]\n",
                        "[20. 17. 15. 19. 20. 20. 19. 17. 21. 16. 18. 12. 18. 24.]\n"
                    ]
                },
                {
                    "name": "stderr",
                    "output_type": "stream",
                    "text": [
                        "/var/folders/27/gm005n0s177b05wywv0yp18m0000gn/T/ipykernel_2902/4125131581.py:3: FutureWarning: unique with argument that is not not a Series, Index, ExtensionArray, or np.ndarray is deprecated and will raise in a future version.\n",
                        "  print(pd.unique(wrong_idxs))\n"
                    ]
                },
                {
                    "data": {
                        "image/png": "[encoded data removed]",
                        "text/plain": [
                            "<Figure size 600x600 with 2 Axes>"
                        ]
                    },
                    "metadata": {},
                    "output_type": "display_data"
                }
            ],
            "source": [
                "## look at which ones are wrong most frequently\n",
                "\n",
                "fig2, ax = plt.subplots(1,1, figsize=(6, 6))\n",
                "ax_right = ax.twinx()\n",
                "\n",
                "sample_ids = np.arange(0, len(X), 1)\n",
                "wrong_per_sample_frequency = np.zeros(len(X))\n",
                "right_per_sample_frequency = np.zeros(len(X))\n",
                "vals, counts = np.unique(wrong_idxs, return_counts=True)\n",
                "wrong_per_sample_frequency[vals] += counts\n",
                "right_vals, right_counts = np.unique(right_idxs, return_counts=True)\n",
                "right_per_sample_frequency[right_vals] += right_counts\n",
                "total_counts = wrong_per_sample_frequency + right_per_sample_frequency\n",
                "bar = ax_right.bar(sample_ids, wrong_per_sample_frequency / total_counts, color='r', label='Misclassified Rate', alpha=0.2)\n",
                "\n",
                "line_good = ax.scatter(probability_df.loc[probability_df[\"true_label\"] == \"good\", \"index\"], probability_df.loc[probability_df[\"true_label\"] == \"good\"][['good']].max(axis=1), marker='D', color='b', s=100, label=\"True Aligned\")\n",
                "line_textured = ax.scatter(probability_df.loc[probability_df[\"true_label\"] == \"textured\", \"index\"], probability_df.loc[probability_df[\"true_label\"] == \"textured\"][['good']].max(axis=1), marker='D', color='orange', s=100, label=\"True Textured\")\n",
                "\n",
                "lines = [line_good, line_textured, bar]\n",
                "labels = [line.get_label() for line in lines]\n",
                "\n",
                "ax.legend(lines, labels, fontsize=12, loc=(0.25, -0.3))\n",
                "ax.set_ylim([0,1.05])\n",
                "ax.hlines(0.5, 0, len(X)-1, color='k', linestyle='--')\n",
                "ax.set_ylabel(\"P(Aligned Growth)\", fontsize=14)\n",
                "ax_right.set_ylabel(\"Rate\", fontsize=14)\n",
                "ax.set_xticks(np.arange(0, len(X), 1))\n",
                "ax.tick_params(axis='both', labelsize=14)\n",
                "ax_right.tick_params(axis='both', labelsize=14)\n",
                "fig2.tight_layout()\n"
            ]
        },
        {
            "cell_type": "code",
            "execution_count": 82,
            "id": "cb115f3e",
            "metadata": {},
            "outputs": [],
            "source": [
                "## save figures, state, model\n",
                "\n",
                "work_dir = \"/Users/ccprice/Library/CloudStorage/OneDrive-AtomicDataSciences/AtomicDS/product/atom-cloud/case-studies/V-doping WSe2/paper/assets\"\n",
                "\n",
                "with open(work_dir+'/deposited_classification_model.pkl', 'wb') as file:\n",
                "    pickle.dump(final_model, file)"
            ]
        }
    ],
    "metadata": {
        "kernelspec": {
            "display_name": "ads-backend-dev",
            "language": "python",
            "name": "python3"
        },
        "language_info": {
            "codemirror_mode": {
                "name": "ipython",
                "version": 3
            },
            "file_extension": ".py",
            "mimetype": "text/x-python",
            "name": "python",
            "nbconvert_exporter": "python",
            "pygments_lexer": "ipython3",
            "version": "3.11.4"
        },
        "vscode": {
            "interpreter": {
                "hash": "c7c6986f7346717edb5fea342c32376e041b9441d93d438dec82cb238bb6df8d"
            }
        }
    },
    "nbformat": 4,
    "nbformat_minor": 5
}

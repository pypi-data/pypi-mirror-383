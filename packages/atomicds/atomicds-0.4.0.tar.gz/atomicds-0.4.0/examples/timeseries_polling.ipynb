{
 "cells": [
  {
   "cell_type": "markdown",
   "id": "6f552015",
   "metadata": {},
   "source": [
    "# Time Series Polling\n",
    "This short notebook shows how to stream RHEED time series updates using the polling helpers in `atomicds.timeseries.polling`."
   ]
  },
  {
   "cell_type": "markdown",
   "id": "7a7e7828",
   "metadata": {},
   "source": [
    "### Install package"
   ]
  },
  {
   "cell_type": "code",
   "execution_count": null,
   "id": "5f2e3d2d",
   "metadata": {},
   "outputs": [],
   "source": [
    "#!pip install atomicds"
   ]
  },
  {
   "cell_type": "markdown",
   "id": "3f7dede4",
   "metadata": {},
   "source": [
    "### API Client Setup"
   ]
  },
  {
   "cell_type": "code",
   "execution_count": null,
   "id": "9d6abe75",
   "metadata": {},
   "outputs": [],
   "source": [
    "from atomicds.client import Client\n",
    "from atomicds.timeseries.polling import iter_poll, aiter_poll, start_polling_thread, start_polling_task\n",
    "\n",
    "api_key = \"YOUR_API_KEY_HERE\"\n",
    "client = Client(api_key=api_key)\n",
    "\n",
    "# Use a data ID that has RHEED time series data available to your account.\n",
    "data_id = \"YOUR_TIME_SERIES_DATA_ID\""
   ]
  },
  {
   "cell_type": "markdown",
   "id": "ca5d4ad4",
   "metadata": {},
   "source": [
    "### Sync polling loop\n",
    "Iterate over `iter_poll` to fetch the latest rows on a fixed cadence.\n",
    "This example polls every five seconds, keeps the latest ten rows, avoids duplicate results based on the newest timestamp, and stops after three successful polls."
   ]
  },
  {
   "cell_type": "code",
   "execution_count": null,
   "id": "8b879139",
   "metadata": {},
   "outputs": [],
   "source": [
    "def latest_timestamp(df):\n",
    "    if df.empty or \"timestamp\" not in df.columns:\n",
    "        return None\n",
    "    return df.iloc[-1][\"timestamp\"]\n",
    "\n",
    "for idx, result in enumerate(\n",
    "    iter_poll(\n",
    "        client,\n",
    "        data_id=data_id,\n",
    "        interval=5.0,\n",
    "        last_n=10,\n",
    "        distinct_by=latest_timestamp,\n",
    "        max_polls=3,\n",
    "    ),\n",
    "    start=1,\n",
    "):\n",
    "    print(f\"Poll {idx}: latest timestamp -> {latest_timestamp(result)}\")\n",
    "    print(result.tail())"
   ]
  },
  {
   "cell_type": "markdown",
   "id": "c4516473",
   "metadata": {},
   "source": [
    "### Background thread helper\n",
    "`start_polling_thread` runs the same sync poller in a daemon thread and streams each result to a callback.\n",
    "Use the returned event to stop early if needed."
   ]
  },
  {
   "cell_type": "code",
   "execution_count": null,
   "id": "e1f4597c",
   "metadata": {},
   "outputs": [],
   "source": [
    "collected = []\n",
    "\n",
    "\n",
    "def on_result(result):\n",
    "    print(f\"Thread received {len(result)} rows\")\n",
    "    collected.append(result)\n",
    "\n",
    "stop_event = start_polling_thread(\n",
    "    client,\n",
    "    data_id=data_id,\n",
    "    interval=10.0,\n",
    "    last_n=10,\n",
    "    max_polls=5,\n",
    "    distinct_by=latest_timestamp,\n",
    "    on_result=on_result,\n",
    ")\n",
    "\n",
    "# Call `stop_event.set()` if you need to halt polling before `max_polls` is reached."
   ]
  },
  {
   "cell_type": "markdown",
   "id": "46f10cf0",
   "metadata": {},
   "source": [
    "### Async polling loop\n",
    "`aiter_poll` yields the same results without blocking the event loop.\n",
    "Top-level `await` works in Jupyter; otherwise wrap it in `asyncio.run`."
   ]
  },
  {
   "cell_type": "code",
   "execution_count": null,
   "id": "b3b69b8f",
   "metadata": {},
   "outputs": [],
   "source": [
    "import asyncio\n",
    "\n",
    "async def stream_updates():\n",
    "    async for result in aiter_poll(\n",
    "        client,\n",
    "        data_id=data_id,\n",
    "        interval=5.0,\n",
    "        last_n=10,\n",
    "        distinct_by=latest_timestamp,\n",
    "        max_polls=3,\n",
    "    ):\n",
    "        print(f\"Async poll received {len(result)} rows\")\n",
    "        print(result.tail())\n",
    "\n",
    "await stream_updates()"
   ]
  },
  {
   "cell_type": "markdown",
   "id": "599eeab4",
   "metadata": {},
   "source": [
    "### Async background task\n",
    "`start_polling_task` creates an `asyncio.Task` that forwards each poll to a handler.\n",
    "The handler can be sync or async; async handlers will be awaited before the next poll."
   ]
  },
  {
   "cell_type": "code",
   "execution_count": null,
   "id": "d3ee1cab",
   "metadata": {},
   "outputs": [],
   "source": [
    "async def handle_async(result):\n",
    "    print(f\"Task handler received {len(result)} rows\")\n",
    "\n",
    "polling_task = start_polling_task(\n",
    "    client,\n",
    "    data_id=data_id,\n",
    "    interval=5.0,\n",
    "    last_n=5,\n",
    "    max_polls=3,\n",
    "    distinct_by=latest_timestamp,\n",
    "    on_result=handle_async,\n",
    ")\n",
    "\n",
    "await polling_task"
   ]
  }
 ],
 "metadata": {
  "kernelspec": {
   "display_name": "Python 3 (ipykernel)",
   "language": "python",
   "name": "python3"
  },
  "language_info": {
   "codemirror_mode": {
    "name": "ipython",
    "version": 3
   },
   "file_extension": ".py",
   "mimetype": "text/x-python",
   "name": "python",
   "nbconvert_exporter": "python",
   "pygments_lexer": "ipython3",
   "version": "3.11.8"
  }
 },
 "nbformat": 4,
 "nbformat_minor": 5
}

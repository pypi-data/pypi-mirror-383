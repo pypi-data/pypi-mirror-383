{
 "cells": [
  {
   "cell_type": "code",
   "execution_count": 1,
   "id": "642663f6",
   "metadata": {},
   "outputs": [],
   "source": [
    "from spock import GiantImpactPhaseEmulator"
   ]
  },
  {
   "cell_type": "markdown",
   "id": "54bd4125",
   "metadata": {},
   "source": [
    "Each model in SPOCK provides a `cite` convenience function to pull the relevant citations, together with boilerplate text (feel free to edit!). For example, for the GiantImpactPhaseEmulator:"
   ]
  },
  {
   "cell_type": "code",
   "execution_count": 2,
   "id": "7ae68e58",
   "metadata": {},
   "outputs": [
    {
     "name": "stdout",
     "output_type": "stream",
     "text": [
      "This paper made use of stability predictions from the Stability of Planetary Orbital Configurations Klassifier (SPOCK) package \\citep{spock}. Collisional evolution was simulated with the GiantImpactPhaseEmulator \\citep{giantimpact}, repeatedly using the DeepRegressor (a Bayesian neural network) to predict the time to the next dynamical instability \\citep{deepregressor}, and multilayer perceptrons (MLPs) to predict the collisional outcome \\citep{giantimpact}.\n",
      "\n",
      "\n",
      "\n",
      "@ARTICLE{spock,\n",
      "   author = {{Tamayo}, Daniel and {Cranmer}, Miles and {Hadden}, Samuel and {Rein}, Hanno and {Battaglia}, Peter and {Obertas}, Alysa and {Armitage}, Philip J. and {Ho}, Shirley and {Spergel}, David N. and {Gilbertson}, Christian and {Hussain}, Naireen and {Silburt}, Ari and {Jontof-Hutter}, Daniel and {Menou}, Kristen},\n",
      "    title = \"{Predicting the long-term stability of compact multiplanet systems}\",\n",
      "  journal = {Proceedings of the National Academy of Science},\n",
      " keywords = {machine learning, dynamical systems, UAT:498, orbital dynamics, UAT:222, Astrophysics - Earth and Planetary Astrophysics},\n",
      "     year = 2020,\n",
      "    month = aug,\n",
      "   volume = {117},\n",
      "   number = {31},\n",
      "    pages = {18194-18205},\n",
      "      doi = {10.1073/pnas.2001258117},\n",
      "archivePrefix = {arXiv},\n",
      "   eprint = {2007.06521},\n",
      "primaryClass = {astro-ph.EP},\n",
      "   adsurl = {https://ui.adsabs.harvard.edu/abs/2020PNAS..11718194T},\n",
      "  adsnote = {Provided by the SAO/NASA Astrophysics Data System}\n",
      "}\n",
      "\n",
      "@ARTICLE{deepregressor,\n",
      "   author = {{Cranmer}, Miles and {Tamayo}, Daniel and {Rein}, Hanno and {Battaglia}, Peter and {Hadden}, Samuel and {Armitage}, Philip J. and {Ho}, Shirley and {Spergel}, David N.},\n",
      "    title = \"{A Bayesian neural network predicts the dissolution of compact planetary systems}\",\n",
      "  journal = {Proceedings of the National Academy of Science},\n",
      " keywords = {deep learning, UAT:2173, Bayesian analysis, chaos, Astrophysics - Earth and Planetary Astrophysics, Astrophysics - Instrumentation and Methods for Astrophysics, Computer Science - Artificial Intelligence, Computer Science - Machine Learning, Statistics - Machine Learning},\n",
      "     year = 2021,\n",
      "    month = oct,\n",
      "   volume = {118},\n",
      "   number = {40},\n",
      "      eid = {e2026053118},\n",
      "    pages = {e2026053118},\n",
      "      doi = {10.1073/pnas.2026053118},\n",
      "archivePrefix = {arXiv},\n",
      "   eprint = {2101.04117},\n",
      "primaryClass = {astro-ph.EP},\n",
      "   adsurl = {https://ui.adsabs.harvard.edu/abs/2021PNAS..11826053C},\n",
      "  adsnote = {Provided by the SAO/NASA Astrophysics Data System}\n",
      "}\n",
      "\n",
      "@ARTICLE{giantimpact,\n",
      "author = {{Lammers}, Caleb and {Cranmer}, Miles and {Hadden}, Sam and {Ho}, Shirley and {Murray}, Norman and {Tamayo}, Daniel},\n",
      "        title = \"{Accelerating Giant-impact Simulations with Machine Learning}\",\n",
      "      journal = {\u0007pj},\n",
      "     keywords = {Exoplanets, Extrasolar rocky planets, Planet formation, Planetary dynamics, 498, 511, 1241, 2173, Astrophysics - Earth and Planetary Astrophysics, Astrophysics - Instrumentation and Methods for Astrophysics, Computer Science - Machine Learning},\n",
      "         year = 2024,\n",
      "        month = nov,\n",
      "       volume = {975},\n",
      "       number = {2},\n",
      "          eid = {228},\n",
      "        pages = {228},\n",
      "          doi = {10.3847/1538-4357/ad7fe5},\n",
      "archivePrefix = {arXiv},\n",
      "       eprint = {2408.08873},\n",
      " primaryClass = {astro-ph.EP},\n",
      "       adsurl = {https://ui.adsabs.harvard.edu/abs/2024ApJ...975..228L},\n",
      "      adsnote = {Provided by the SAO/NASA Astrophysics Data System}i\n",
      "}\n",
      "\n"
     ]
    }
   ],
   "source": [
    "model = GiantImpactPhaseEmulator()\n",
    "model.cite()"
   ]
  },
  {
   "cell_type": "code",
   "execution_count": null,
   "id": "a103c267",
   "metadata": {},
   "outputs": [],
   "source": []
  }
 ],
 "metadata": {
  "kernelspec": {
   "display_name": "ethadhani",
   "language": "python",
   "name": "python3"
  },
  "language_info": {
   "codemirror_mode": {
    "name": "ipython",
    "version": 3
   },
   "file_extension": ".py",
   "mimetype": "text/x-python",
   "name": "python",
   "nbconvert_exporter": "python",
   "pygments_lexer": "ipython3",
   "version": "3.10.13"
  }
 },
 "nbformat": 4,
 "nbformat_minor": 5
}

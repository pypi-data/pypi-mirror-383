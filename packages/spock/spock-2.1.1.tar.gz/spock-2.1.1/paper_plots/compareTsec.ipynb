{
 "cells": [
  {
   "cell_type": "markdown",
   "metadata": {},
   "source": [
    "# Ablation study of Tsec integration and Tsec feature"
   ]
  },
  {
   "cell_type": "markdown",
   "metadata": {},
   "source": [
    "**We start by importing datasets generated when integrating to Tsec and when integrating to 1e4 orbits**"
   ]
  },
  {
   "cell_type": "markdown",
   "metadata": {},
   "source": [
    "Data generated using rebound 4.3.2"
   ]
  },
  {
   "cell_type": "code",
   "execution_count": 1,
   "metadata": {},
   "outputs": [],
   "source": [
    "import numpy as np\n",
    "import matplotlib.pyplot as plt\n",
    "import pandas as pd\n",
    "from sklearn import metrics\n",
    "import xgboost as xgb\n",
    "from xgboost.sklearn import XGBClassifier\n",
    "from hyperopt import hp, fmin, tpe, STATUS_OK, Trials\n",
    "import hyperopt\n",
    "import sys\n",
    "sys.path.append('../spock/')\n",
    "try:\n",
    "    plt.style.use('paper')\n",
    "except:\n",
    "    pass\n",
    "%matplotlib inline"
   ]
  },
  {
   "cell_type": "code",
   "execution_count": 2,
   "metadata": {},
   "outputs": [],
   "source": [
    "#load datapath for clean training data that is generated\n",
    "datapath = '../../cleanData/csvs/resonant/'\n",
    "oldData = pd.read_csv(datapath+'1e4data.csv')\n",
    "TsecData = pd.read_csv(datapath+'Tsecdata.csv')\n",
    "#remove junk columns\n",
    "oldData = oldData.drop(columns=['Unnamed: 0','Unnamed: 0.1'])\n",
    "TsecData = TsecData.drop(columns=['Unnamed: 0','Unnamed: 0.1'])"
   ]
  },
  {
   "cell_type": "markdown",
   "metadata": {},
   "source": [
    "Define helper functions"
   ]
  },
  {
   "cell_type": "code",
   "execution_count": 3,
   "metadata": {},
   "outputs": [],
   "source": [
    "def train_test(dataset,features):\n",
    "    '''divides the dataset into 80% training and 20% testing and returns training/testing sets'''\n",
    "    Nrows = int(0.8*dataset.shape[0])\n",
    "    train = dataset.iloc[:Nrows, :]\n",
    "    test = dataset.iloc[Nrows:, :]\n",
    "    #remove testing systems that go unstable in 1e4 orbits\n",
    "\n",
    "    test = test.drop(test[test['InitialStable']==False].index)\n",
    "    return train[features], train['Stable'], test[features], test['Stable']"
   ]
  },
  {
   "cell_type": "markdown",
   "metadata": {},
   "source": [
    "We can create sub datasets to consider each combination of Tsec feature addition and integration"
   ]
  },
  {
   "cell_type": "code",
   "execution_count": 4,
   "metadata": {},
   "outputs": [],
   "source": [
    "near = ['EMcrossnear', 'EMfracstdnear', 'EPstdnear', 'MMRstrengthnear']\n",
    "far = ['EMcrossfar', 'EMfracstdfar', 'EPstdfar', 'MMRstrengthfar']\n",
    "megno = ['MEGNO', 'MEGNOstd']\n",
    "\n",
    "TsecFeat = near + far + megno + ['Tsec']\n",
    "oldFeat = near + far + megno \n",
    "\n",
    "train1e4X, train1e4Y, test1e4X, test1e4Y = train_test(oldData, oldFeat)\n",
    "train1e4TsecX, train1e4TsecY, test1e4TsecX, test1e4TsecY = train_test(oldData, TsecFeat)\n",
    "trainTintX, trainTintY, testTintX, testTintY = train_test(TsecData, oldFeat)\n",
    "trainTsecX, trainTsecY, testTsecX, testTsecY = train_test(TsecData, TsecFeat)"
   ]
  },
  {
   "cell_type": "markdown",
   "metadata": {},
   "source": [
    "We can calculating the training balance to account for frequency bias with each dataset"
   ]
  },
  {
   "cell_type": "markdown",
   "metadata": {},
   "source": [
    "We can define some helper functions"
   ]
  },
  {
   "cell_type": "code",
   "execution_count": 5,
   "metadata": {},
   "outputs": [],
   "source": [
    "from sklearn import metrics\n",
    "from sklearn.metrics import roc_curve, confusion_matrix, auc\n",
    "def ROC_curve( model, x,y):\n",
    "    preds = model.predict_proba(x)[:,1]\n",
    "    fpr, tpr, ROCthresholds = roc_curve(y, preds)\n",
    "    roc_auc = metrics.roc_auc_score(y, preds)\n",
    "    return roc_auc, fpr, tpr, ROCthresholds"
   ]
  },
  {
   "cell_type": "code",
   "execution_count": 6,
   "metadata": {},
   "outputs": [],
   "source": [
    "def getPreformance(trainX, trainY, testX, testY, label):\n",
    "    model = XGBClassifier(learning_rate = 0.05, \n",
    "                         max_depth = 13, \n",
    "                         subsample = 0.95,\n",
    "                         min_child_weight = 5,\n",
    "                         n_estimators = 100,\n",
    "                         )\n",
    "    model.fit(trainX,trainY)\n",
    "\n",
    "    roc_auc, fpr, tpr, ROCthresholds = ROC_curve(model, testX, testY)\n",
    "\n",
    "    tprthreshindex = np.where(tpr >=0.9)[0][0]\n",
    "    falsePos = fpr[tprthreshindex]\n",
    "\n",
    "    return label, roc_auc, falsePos"
   ]
  },
  {
   "cell_type": "markdown",
   "metadata": {},
   "source": [
    "**We can now collect the AUC of a model using each permutation of Tsec feature and integration.**\n",
    "Note, FPR (false positive rate) is evaluated when TPR is 0.9"
   ]
  },
  {
   "cell_type": "code",
   "execution_count": 7,
   "metadata": {},
   "outputs": [],
   "source": [
    "results = np.array([getPreformance(train1e4X, train1e4Y, test1e4X, test1e4Y, 'Int to 1e4 with old features'),\n",
    "getPreformance(train1e4TsecX, train1e4TsecY, test1e4TsecX, test1e4TsecY, 'Int to 1e4 with Tsec as feature'),\n",
    "getPreformance(trainTintX, trainTintY, testTintX, testTintY, 'Int to Tsec with old features'),\n",
    "getPreformance(trainTsecX, trainTsecY, testTsecX, testTsecY, 'Int to Tsec with Tsec as feature')])"
   ]
  },
  {
   "cell_type": "code",
   "execution_count": 8,
   "metadata": {},
   "outputs": [],
   "source": [
    "displayResults = pd.DataFrame(results, columns = ['Model comparisons', 'AUC', 'FPR'])"
   ]
  },
  {
   "cell_type": "markdown",
   "metadata": {},
   "source": [
    "# Displayed sorted model comparisons"
   ]
  },
  {
   "cell_type": "code",
   "execution_count": 9,
   "metadata": {},
   "outputs": [
    {
     "data": {
      "text/html": [
       "<div>\n",
       "<style scoped>\n",
       "    .dataframe tbody tr th:only-of-type {\n",
       "        vertical-align: middle;\n",
       "    }\n",
       "\n",
       "    .dataframe tbody tr th {\n",
       "        vertical-align: top;\n",
       "    }\n",
       "\n",
       "    .dataframe thead th {\n",
       "        text-align: right;\n",
       "    }\n",
       "</style>\n",
       "<table border=\"1\" class=\"dataframe\">\n",
       "  <thead>\n",
       "    <tr style=\"text-align: right;\">\n",
       "      <th></th>\n",
       "      <th>Model comparisons</th>\n",
       "      <th>AUC</th>\n",
       "      <th>FPR</th>\n",
       "    </tr>\n",
       "  </thead>\n",
       "  <tbody>\n",
       "    <tr>\n",
       "      <th>2</th>\n",
       "      <td>Int to Tsec with old features</td>\n",
       "      <td>0.941732249925601</td>\n",
       "      <td>0.16600598094443286</td>\n",
       "    </tr>\n",
       "    <tr>\n",
       "      <th>0</th>\n",
       "      <td>Int to 1e4 with old features</td>\n",
       "      <td>0.9429655885741256</td>\n",
       "      <td>0.1604654403567447</td>\n",
       "    </tr>\n",
       "    <tr>\n",
       "      <th>1</th>\n",
       "      <td>Int to 1e4 with Tsec as feature</td>\n",
       "      <td>0.9442496015568057</td>\n",
       "      <td>0.15948996655518394</td>\n",
       "    </tr>\n",
       "    <tr>\n",
       "      <th>3</th>\n",
       "      <td>Int to Tsec with Tsec as feature</td>\n",
       "      <td>0.9502022027554688</td>\n",
       "      <td>0.14312539119549342</td>\n",
       "    </tr>\n",
       "  </tbody>\n",
       "</table>\n",
       "</div>"
      ],
      "text/plain": [
       "                  Model comparisons                 AUC                  FPR\n",
       "2     Int to Tsec with old features   0.941732249925601  0.16600598094443286\n",
       "0      Int to 1e4 with old features  0.9429655885741256   0.1604654403567447\n",
       "1   Int to 1e4 with Tsec as feature  0.9442496015568057  0.15948996655518394\n",
       "3  Int to Tsec with Tsec as feature  0.9502022027554688  0.14312539119549342"
      ]
     },
     "execution_count": 9,
     "metadata": {},
     "output_type": "execute_result"
    }
   ],
   "source": [
    "displayResults.sort_values(by='AUC', ascending=True, inplace=False)"
   ]
  }
 ],
 "metadata": {
  "kernelspec": {
   "display_name": "ethadhani",
   "language": "python",
   "name": "python3"
  },
  "language_info": {
   "codemirror_mode": {
    "name": "ipython",
    "version": 3
   },
   "file_extension": ".py",
   "mimetype": "text/x-python",
   "name": "python",
   "nbconvert_exporter": "python",
   "pygments_lexer": "ipython3",
   "version": "3.10.13"
  }
 },
 "nbformat": 4,
 "nbformat_minor": 2
}

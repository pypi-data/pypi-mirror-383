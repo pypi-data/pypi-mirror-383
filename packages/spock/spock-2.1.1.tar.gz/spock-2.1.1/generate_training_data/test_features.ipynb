{
 "cells": [
  {
   "cell_type": "markdown",
   "metadata": {},
   "source": [
    "# Generate SPOCK training data"
   ]
  },
  {
   "cell_type": "code",
   "execution_count": 1,
   "metadata": {},
   "outputs": [
    {
     "name": "stderr",
     "output_type": "stream",
     "text": [
      "/Users/dtamayo/miniconda3/envs/spock/lib/python3.13/site-packages/rebound/__init__.py:58: UserWarning: pkg_resources is deprecated as an API. See https://setuptools.pypa.io/en/latest/pkg_resources.html. The pkg_resources package is slated for removal as early as 2025-11-30. Refrain from using this package or pin to Setuptools<81.\n",
      "  import pkg_resources\n"
     ]
    }
   ],
   "source": [
    "import spock\n",
    "import random\n",
    "import numpy as np\n",
    "import rebound\n",
    "import pandas as pd\n",
    "from spock import simsetup\n",
    "from spock import FeatureClassifier\n",
    "import sys\n",
    "from multiprocessing import Pool\n",
    "from features import init_model, getFeat"
   ]
  },
  {
   "cell_type": "markdown",
   "metadata": {},
   "source": [
    "The initial conditions are stored as snapshots of a simulation archive, we must thus load the datapath and the labels for the corresponding systems"
   ]
  },
  {
   "cell_type": "code",
   "execution_count": 2,
   "metadata": {},
   "outputs": [],
   "source": [
    "#specify the data path\n",
    "#We will be using cleaned data generated from the original spock initial conditions data\n",
    "# This data is in the form of a simulation archive\n",
    "datapath = '../dataset/resonant/'\n",
    "labels = pd.read_csv(datapath+'sim_labels.csv')"
   ]
  },
  {
   "cell_type": "markdown",
   "metadata": {},
   "source": [
    "We can now generate the set of system indices based on the labels"
   ]
  },
  {
   "cell_type": "code",
   "execution_count": 3,
   "metadata": {},
   "outputs": [],
   "source": [
    "#generates the indexes of the systems\n",
    "systemNum = range(labels.shape[0])"
   ]
  },
  {
   "cell_type": "markdown",
   "metadata": {},
   "source": [
    "We can note the column names and import the different feature generators"
   ]
  },
  {
   "cell_type": "code",
   "execution_count": 4,
   "metadata": {},
   "outputs": [],
   "source": [
    "col = ['EMcrossnear', 'EMfracstdnear', 'EPstdnear', 'MMRstrengthnear', 'EMcrossfar', 'EMfracstdfar', 'EPstdfar', 'MMRstrengthfar', 'MEGNO', 'MEGNOstd', 'Tsec','InitialStable']"
   ]
  },
  {
   "cell_type": "markdown",
   "metadata": {},
   "source": [
    "We can then establish some helper functions that will allow us to map the spock.generate_feature function to the different systems by mapping to the different snapshots"
   ]
  },
  {
   "cell_type": "code",
   "execution_count": 5,
   "metadata": {},
   "outputs": [],
   "source": [
    "def getList(features):\n",
    "    '''Helper function which isolates the data list from the generate_features return'''\n",
    "    return list(features[0][0].values())+[features[1]]"
   ]
  },
  {
   "cell_type": "markdown",
   "metadata": {},
   "source": [
    "We can now map getFeat to the different rows of the Initial df, this will create each simulation and generate the spock features."
   ]
  },
  {
   "cell_type": "code",
   "execution_count": 6,
   "metadata": {},
   "outputs": [
    {
     "name": "stderr",
     "output_type": "stream",
     "text": [
      "/Users/dtamayo/miniconda3/envs/spock/lib/python3.13/site-packages/rebound/simulation.py:153: RuntimeWarning: Binary file was saved with a different version of REBOUND. Binary format might have changed.\n",
      "  warnings.warn(message, RuntimeWarning)\n"
     ]
    },
    {
     "data": {
      "text/plain": [
       "0.54436356"
      ]
     },
     "execution_count": 6,
     "metadata": {},
     "output_type": "execute_result"
    }
   ],
   "source": [
    "model = FeatureClassifier()\n",
    "sim = rebound.Simulation(\"../dataset/resonant/clean_initial_conditions.bin\", snapshot=0)\n",
    "model.predict_stable(sim)"
   ]
  },
  {
   "cell_type": "code",
   "execution_count": 7,
   "metadata": {},
   "outputs": [
    {
     "data": {
      "text/plain": [
       "array([0.54436356, 0.54436356], dtype=float32)"
      ]
     },
     "execution_count": 7,
     "metadata": {},
     "output_type": "execute_result"
    }
   ],
   "source": [
    "model = FeatureClassifier()\n",
    "sim = rebound.Simulation(\"../dataset/resonant/clean_initial_conditions.bin\", snapshot=0)\n",
    "model.predict_stable([sim, sim])"
   ]
  },
  {
   "cell_type": "code",
   "execution_count": 6,
   "metadata": {},
   "outputs": [
    {
     "name": "stderr",
     "output_type": "stream",
     "text": [
      "/Users/dtamayo/miniconda3/envs/spock/lib/python3.13/site-packages/rebound/simulation.py:153: RuntimeWarning: Binary file was saved with a different version of REBOUND. Binary format might have changed.\n",
      "  warnings.warn(message, RuntimeWarning)\n"
     ]
    },
    {
     "data": {
      "text/plain": [
       "([OrderedDict([('EMcrossnear', 0.06023365324093462),\n",
       "               ('EMfracstdnear', 0.029447188962535807),\n",
       "               ('EPstdnear', 0.001994998547310404),\n",
       "               ('MMRstrengthnear', 0.49804017851441507),\n",
       "               ('EMcrossfar', 0.5040626705572052),\n",
       "               ('EMfracstdfar', 0.0029002068051170965),\n",
       "               ('EPstdfar', 0.0008157705748634473),\n",
       "               ('MMRstrengthfar', nan),\n",
       "               ('MEGNO', 1.9966848679613491),\n",
       "               ('MEGNOstd', 0.00245037404332733),\n",
       "               ('Tsec', 28431.3555941486)])],\n",
       " True)"
      ]
     },
     "execution_count": 6,
     "metadata": {},
     "output_type": "execute_result"
    }
   ],
   "source": [
    "model = FeatureClassifier()\n",
    "sim = rebound.Simulation(\"../dataset/resonant/clean_initial_conditions.bin\", snapshot=0)\n",
    "model.generate_features(sim)"
   ]
  },
  {
   "cell_type": "code",
   "execution_count": 7,
   "metadata": {},
   "outputs": [
    {
     "name": "stderr",
     "output_type": "stream",
     "text": [
      "/Users/dtamayo/miniconda3/envs/spock/lib/python3.13/site-packages/rebound/__init__.py:58: UserWarning: pkg_resources is deprecated as an API. See https://setuptools.pypa.io/en/latest/pkg_resources.html. The pkg_resources package is slated for removal as early as 2025-11-30. Refrain from using this package or pin to Setuptools<81.\n",
      "  import pkg_resources\n",
      "/Users/dtamayo/miniconda3/envs/spock/lib/python3.13/site-packages/rebound/__init__.py:58: UserWarning: pkg_resources is deprecated as an API. See https://setuptools.pypa.io/en/latest/pkg_resources.html. The pkg_resources package is slated for removal as early as 2025-11-30. Refrain from using this package or pin to Setuptools<81.\n",
      "  import pkg_resources\n",
      "/Users/dtamayo/miniconda3/envs/spock/lib/python3.13/site-packages/rebound/__init__.py:58: UserWarning: pkg_resources is deprecated as an API. See https://setuptools.pypa.io/en/latest/pkg_resources.html. The pkg_resources package is slated for removal as early as 2025-11-30. Refrain from using this package or pin to Setuptools<81.\n",
      "  import pkg_resources\n",
      "/Users/dtamayo/miniconda3/envs/spock/lib/python3.13/site-packages/rebound/__init__.py:58: UserWarning: pkg_resources is deprecated as an API. See https://setuptools.pypa.io/en/latest/pkg_resources.html. The pkg_resources package is slated for removal as early as 2025-11-30. Refrain from using this package or pin to Setuptools<81.\n",
      "  import pkg_resources\n",
      "/Users/dtamayo/miniconda3/envs/spock/lib/python3.13/site-packages/rebound/__init__.py:58: UserWarning: pkg_resources is deprecated as an API. See https://setuptools.pypa.io/en/latest/pkg_resources.html. The pkg_resources package is slated for removal as early as 2025-11-30. Refrain from using this package or pin to Setuptools<81.\n",
      "  import pkg_resources\n",
      "/Users/dtamayo/miniconda3/envs/spock/lib/python3.13/site-packages/rebound/__init__.py:58: UserWarning: pkg_resources is deprecated as an API. See https://setuptools.pypa.io/en/latest/pkg_resources.html. The pkg_resources package is slated for removal as early as 2025-11-30. Refrain from using this package or pin to Setuptools<81.\n",
      "  import pkg_resources\n",
      "/Users/dtamayo/miniconda3/envs/spock/lib/python3.13/site-packages/rebound/__init__.py:58: UserWarning: pkg_resources is deprecated as an API. See https://setuptools.pypa.io/en/latest/pkg_resources.html. The pkg_resources package is slated for removal as early as 2025-11-30. Refrain from using this package or pin to Setuptools<81.\n",
      "  import pkg_resources\n",
      "/Users/dtamayo/miniconda3/envs/spock/lib/python3.13/site-packages/rebound/__init__.py:58: UserWarning: pkg_resources is deprecated as an API. See https://setuptools.pypa.io/en/latest/pkg_resources.html. The pkg_resources package is slated for removal as early as 2025-11-30. Refrain from using this package or pin to Setuptools<81.\n",
      "  import pkg_resources\n",
      "/Users/dtamayo/miniconda3/envs/spock/lib/python3.13/site-packages/rebound/__init__.py:58: UserWarning: pkg_resources is deprecated as an API. See https://setuptools.pypa.io/en/latest/pkg_resources.html. The pkg_resources package is slated for removal as early as 2025-11-30. Refrain from using this package or pin to Setuptools<81.\n",
      "  import pkg_resources\n",
      "/Users/dtamayo/miniconda3/envs/spock/lib/python3.13/site-packages/rebound/__init__.py:58: UserWarning: pkg_resources is deprecated as an API. See https://setuptools.pypa.io/en/latest/pkg_resources.html. The pkg_resources package is slated for removal as early as 2025-11-30. Refrain from using this package or pin to Setuptools<81.\n",
      "  import pkg_resources\n",
      "/Users/dtamayo/miniconda3/envs/spock/lib/python3.13/site-packages/rebound/simulation.py:153: RuntimeWarning: Binary file was saved with a different version of REBOUND. Binary format might have changed.\n",
      "  warnings.warn(message, RuntimeWarning)\n",
      "/Users/dtamayo/miniconda3/envs/spock/lib/python3.13/site-packages/rebound/simulation.py:153: RuntimeWarning: Binary file was saved with a different version of REBOUND. Binary format might have changed.\n",
      "  warnings.warn(message, RuntimeWarning)\n",
      "/Users/dtamayo/miniconda3/envs/spock/lib/python3.13/site-packages/rebound/simulation.py:153: RuntimeWarning: Binary file was saved with a different version of REBOUND. Binary format might have changed.\n",
      "  warnings.warn(message, RuntimeWarning)\n",
      "/Users/dtamayo/miniconda3/envs/spock/lib/python3.13/site-packages/rebound/simulation.py:153: RuntimeWarning: Binary file was saved with a different version of REBOUND. Binary format might have changed.\n",
      "  warnings.warn(message, RuntimeWarning)\n",
      "/Users/dtamayo/miniconda3/envs/spock/lib/python3.13/site-packages/rebound/simulation.py:153: RuntimeWarning: Binary file was saved with a different version of REBOUND. Binary format might have changed.\n",
      "  warnings.warn(message, RuntimeWarning)\n",
      "/Users/dtamayo/miniconda3/envs/spock/lib/python3.13/site-packages/rebound/simulation.py:153: RuntimeWarning: Binary file was saved with a different version of REBOUND. Binary format might have changed.\n",
      "  warnings.warn(message, RuntimeWarning)\n",
      "/Users/dtamayo/miniconda3/envs/spock/lib/python3.13/site-packages/rebound/simulation.py:153: RuntimeWarning: Binary file was saved with a different version of REBOUND. Binary format might have changed.\n",
      "  warnings.warn(message, RuntimeWarning)\n",
      "/Users/dtamayo/miniconda3/envs/spock/lib/python3.13/site-packages/rebound/simulation.py:153: RuntimeWarning: Binary file was saved with a different version of REBOUND. Binary format might have changed.\n",
      "  warnings.warn(message, RuntimeWarning)\n",
      "/Users/dtamayo/miniconda3/envs/spock/lib/python3.13/site-packages/rebound/simulation.py:153: RuntimeWarning: Binary file was saved with a different version of REBOUND. Binary format might have changed.\n",
      "  warnings.warn(message, RuntimeWarning)\n",
      "/Users/dtamayo/miniconda3/envs/spock/lib/python3.13/site-packages/rebound/simulation.py:153: RuntimeWarning: Binary file was saved with a different version of REBOUND. Binary format might have changed.\n",
      "  warnings.warn(message, RuntimeWarning)\n"
     ]
    },
    {
     "name": "stdout",
     "output_type": "stream",
     "text": [
      "CPU times: user 16.3 ms, sys: 88.8 ms, total: 105 ms\n",
      "Wall time: 35.3 s\n"
     ]
    }
   ],
   "source": [
    "%%time\n",
    "with Pool(initializer=init_model) as pool:\n",
    "    features = pool.map(getFeat,systemNum[:100])\n",
    "    pool.close()\n",
    "    pool.join()\n",
    "#formats the data correctly\n",
    "formattedFeat = pd.DataFrame(np.array(list(map(getList,features))), columns = col)\n"
   ]
  },
  {
   "cell_type": "markdown",
   "metadata": {},
   "source": [
    "We can then join the generated features with the corresponding labels"
   ]
  },
  {
   "cell_type": "code",
   "execution_count": 8,
   "metadata": {},
   "outputs": [],
   "source": [
    "dataset = pd.DataFrame.join(formattedFeat,labels)"
   ]
  },
  {
   "cell_type": "markdown",
   "metadata": {},
   "source": [
    "We can then save the new training data spreadsheet."
   ]
  },
  {
   "cell_type": "code",
   "execution_count": 9,
   "metadata": {},
   "outputs": [
    {
     "data": {
      "text/html": [
       "<div>\n",
       "<style scoped>\n",
       "    .dataframe tbody tr th:only-of-type {\n",
       "        vertical-align: middle;\n",
       "    }\n",
       "\n",
       "    .dataframe tbody tr th {\n",
       "        vertical-align: top;\n",
       "    }\n",
       "\n",
       "    .dataframe thead th {\n",
       "        text-align: right;\n",
       "    }\n",
       "</style>\n",
       "<table border=\"1\" class=\"dataframe\">\n",
       "  <thead>\n",
       "    <tr style=\"text-align: right;\">\n",
       "      <th></th>\n",
       "      <th>EMcrossnear</th>\n",
       "      <th>EMfracstdnear</th>\n",
       "      <th>EPstdnear</th>\n",
       "      <th>MMRstrengthnear</th>\n",
       "      <th>EMcrossfar</th>\n",
       "      <th>EMfracstdfar</th>\n",
       "      <th>EPstdfar</th>\n",
       "      <th>MMRstrengthfar</th>\n",
       "      <th>MEGNO</th>\n",
       "      <th>MEGNOstd</th>\n",
       "      <th>Tsec</th>\n",
       "      <th>InitialStable</th>\n",
       "      <th>Unnamed: 0</th>\n",
       "      <th>runstring</th>\n",
       "      <th>instability_time</th>\n",
       "      <th>shadow_instability_time</th>\n",
       "      <th>Stable</th>\n",
       "    </tr>\n",
       "  </thead>\n",
       "  <tbody>\n",
       "    <tr>\n",
       "      <th>0</th>\n",
       "      <td>0.060234</td>\n",
       "      <td>0.029447</td>\n",
       "      <td>0.001995</td>\n",
       "      <td>0.498040</td>\n",
       "      <td>0.504063</td>\n",
       "      <td>0.002900</td>\n",
       "      <td>0.000816</td>\n",
       "      <td>NaN</td>\n",
       "      <td>1.996685</td>\n",
       "      <td>0.002450</td>\n",
       "      <td>28431.355594</td>\n",
       "      <td>1.0</td>\n",
       "      <td>0</td>\n",
       "      <td>0000000.bin</td>\n",
       "      <td>1.545872e+06</td>\n",
       "      <td>3.063700e+06</td>\n",
       "      <td>False</td>\n",
       "    </tr>\n",
       "    <tr>\n",
       "      <th>1</th>\n",
       "      <td>0.080547</td>\n",
       "      <td>0.016559</td>\n",
       "      <td>0.000112</td>\n",
       "      <td>0.452015</td>\n",
       "      <td>0.240504</td>\n",
       "      <td>0.006736</td>\n",
       "      <td>0.001621</td>\n",
       "      <td>0.008674</td>\n",
       "      <td>2.019031</td>\n",
       "      <td>0.010215</td>\n",
       "      <td>3904.311701</td>\n",
       "      <td>1.0</td>\n",
       "      <td>1</td>\n",
       "      <td>0000001.bin</td>\n",
       "      <td>9.990000e+08</td>\n",
       "      <td>9.990000e+08</td>\n",
       "      <td>True</td>\n",
       "    </tr>\n",
       "    <tr>\n",
       "      <th>2</th>\n",
       "      <td>0.129660</td>\n",
       "      <td>0.028844</td>\n",
       "      <td>0.003181</td>\n",
       "      <td>1.001973</td>\n",
       "      <td>1.001981</td>\n",
       "      <td>0.001402</td>\n",
       "      <td>0.003742</td>\n",
       "      <td>0.010415</td>\n",
       "      <td>1.995858</td>\n",
       "      <td>0.003027</td>\n",
       "      <td>70073.695993</td>\n",
       "      <td>1.0</td>\n",
       "      <td>2</td>\n",
       "      <td>0000002.bin</td>\n",
       "      <td>9.990000e+08</td>\n",
       "      <td>9.990000e+08</td>\n",
       "      <td>True</td>\n",
       "    </tr>\n",
       "    <tr>\n",
       "      <th>3</th>\n",
       "      <td>0.406112</td>\n",
       "      <td>0.036478</td>\n",
       "      <td>0.002390</td>\n",
       "      <td>0.321071</td>\n",
       "      <td>0.427768</td>\n",
       "      <td>0.036219</td>\n",
       "      <td>0.008587</td>\n",
       "      <td>0.012958</td>\n",
       "      <td>2.005184</td>\n",
       "      <td>0.000787</td>\n",
       "      <td>18313.684674</td>\n",
       "      <td>1.0</td>\n",
       "      <td>3</td>\n",
       "      <td>0000003.bin</td>\n",
       "      <td>2.287671e+06</td>\n",
       "      <td>8.392234e+06</td>\n",
       "      <td>False</td>\n",
       "    </tr>\n",
       "    <tr>\n",
       "      <th>4</th>\n",
       "      <td>0.059897</td>\n",
       "      <td>0.028009</td>\n",
       "      <td>0.001623</td>\n",
       "      <td>0.341814</td>\n",
       "      <td>0.257596</td>\n",
       "      <td>0.053197</td>\n",
       "      <td>0.001287</td>\n",
       "      <td>0.034789</td>\n",
       "      <td>2.057699</td>\n",
       "      <td>0.020469</td>\n",
       "      <td>4110.203941</td>\n",
       "      <td>1.0</td>\n",
       "      <td>4</td>\n",
       "      <td>0000004.bin</td>\n",
       "      <td>9.668931e+05</td>\n",
       "      <td>3.380350e+05</td>\n",
       "      <td>False</td>\n",
       "    </tr>\n",
       "  </tbody>\n",
       "</table>\n",
       "</div>"
      ],
      "text/plain": [
       "   EMcrossnear  EMfracstdnear  EPstdnear  MMRstrengthnear  EMcrossfar  \\\n",
       "0     0.060234       0.029447   0.001995         0.498040    0.504063   \n",
       "1     0.080547       0.016559   0.000112         0.452015    0.240504   \n",
       "2     0.129660       0.028844   0.003181         1.001973    1.001981   \n",
       "3     0.406112       0.036478   0.002390         0.321071    0.427768   \n",
       "4     0.059897       0.028009   0.001623         0.341814    0.257596   \n",
       "\n",
       "   EMfracstdfar  EPstdfar  MMRstrengthfar     MEGNO  MEGNOstd          Tsec  \\\n",
       "0      0.002900  0.000816             NaN  1.996685  0.002450  28431.355594   \n",
       "1      0.006736  0.001621        0.008674  2.019031  0.010215   3904.311701   \n",
       "2      0.001402  0.003742        0.010415  1.995858  0.003027  70073.695993   \n",
       "3      0.036219  0.008587        0.012958  2.005184  0.000787  18313.684674   \n",
       "4      0.053197  0.001287        0.034789  2.057699  0.020469   4110.203941   \n",
       "\n",
       "   InitialStable  Unnamed: 0    runstring  instability_time  \\\n",
       "0            1.0           0  0000000.bin      1.545872e+06   \n",
       "1            1.0           1  0000001.bin      9.990000e+08   \n",
       "2            1.0           2  0000002.bin      9.990000e+08   \n",
       "3            1.0           3  0000003.bin      2.287671e+06   \n",
       "4            1.0           4  0000004.bin      9.668931e+05   \n",
       "\n",
       "   shadow_instability_time  Stable  \n",
       "0             3.063700e+06   False  \n",
       "1             9.990000e+08    True  \n",
       "2             9.990000e+08    True  \n",
       "3             8.392234e+06   False  \n",
       "4             3.380350e+05   False  "
      ]
     },
     "execution_count": 9,
     "metadata": {},
     "output_type": "execute_result"
    }
   ],
   "source": [
    "df = pd.read_csv('refdata.csv', index_col=0)\n",
    "df.head()"
   ]
  },
  {
   "cell_type": "code",
   "execution_count": 10,
   "metadata": {},
   "outputs": [
    {
     "data": {
      "text/html": [
       "<div>\n",
       "<style scoped>\n",
       "    .dataframe tbody tr th:only-of-type {\n",
       "        vertical-align: middle;\n",
       "    }\n",
       "\n",
       "    .dataframe tbody tr th {\n",
       "        vertical-align: top;\n",
       "    }\n",
       "\n",
       "    .dataframe thead th {\n",
       "        text-align: right;\n",
       "    }\n",
       "</style>\n",
       "<table border=\"1\" class=\"dataframe\">\n",
       "  <thead>\n",
       "    <tr style=\"text-align: right;\">\n",
       "      <th></th>\n",
       "      <th>EMcrossnear</th>\n",
       "      <th>EMfracstdnear</th>\n",
       "      <th>EPstdnear</th>\n",
       "      <th>MMRstrengthnear</th>\n",
       "      <th>EMcrossfar</th>\n",
       "      <th>EMfracstdfar</th>\n",
       "      <th>EPstdfar</th>\n",
       "      <th>MMRstrengthfar</th>\n",
       "      <th>MEGNO</th>\n",
       "      <th>MEGNOstd</th>\n",
       "      <th>Tsec</th>\n",
       "      <th>InitialStable</th>\n",
       "      <th>Unnamed: 0</th>\n",
       "      <th>runstring</th>\n",
       "      <th>instability_time</th>\n",
       "      <th>shadow_instability_time</th>\n",
       "      <th>Stable</th>\n",
       "    </tr>\n",
       "  </thead>\n",
       "  <tbody>\n",
       "    <tr>\n",
       "      <th>0</th>\n",
       "      <td>0.060234</td>\n",
       "      <td>0.029447</td>\n",
       "      <td>0.001995</td>\n",
       "      <td>0.498040</td>\n",
       "      <td>0.504063</td>\n",
       "      <td>0.002900</td>\n",
       "      <td>0.000816</td>\n",
       "      <td>NaN</td>\n",
       "      <td>1.996685</td>\n",
       "      <td>0.002450</td>\n",
       "      <td>28431.355594</td>\n",
       "      <td>1.0</td>\n",
       "      <td>0</td>\n",
       "      <td>0000000.bin</td>\n",
       "      <td>1.545872e+06</td>\n",
       "      <td>3.063700e+06</td>\n",
       "      <td>False</td>\n",
       "    </tr>\n",
       "    <tr>\n",
       "      <th>1</th>\n",
       "      <td>0.080547</td>\n",
       "      <td>0.016559</td>\n",
       "      <td>0.000112</td>\n",
       "      <td>0.452015</td>\n",
       "      <td>0.240504</td>\n",
       "      <td>0.006736</td>\n",
       "      <td>0.001621</td>\n",
       "      <td>0.008674</td>\n",
       "      <td>2.019031</td>\n",
       "      <td>0.010215</td>\n",
       "      <td>3904.311701</td>\n",
       "      <td>1.0</td>\n",
       "      <td>1</td>\n",
       "      <td>0000001.bin</td>\n",
       "      <td>9.990000e+08</td>\n",
       "      <td>9.990000e+08</td>\n",
       "      <td>True</td>\n",
       "    </tr>\n",
       "    <tr>\n",
       "      <th>2</th>\n",
       "      <td>0.129660</td>\n",
       "      <td>0.028844</td>\n",
       "      <td>0.003181</td>\n",
       "      <td>1.001973</td>\n",
       "      <td>1.001981</td>\n",
       "      <td>0.001402</td>\n",
       "      <td>0.003742</td>\n",
       "      <td>0.010415</td>\n",
       "      <td>1.995858</td>\n",
       "      <td>0.003027</td>\n",
       "      <td>70073.695993</td>\n",
       "      <td>1.0</td>\n",
       "      <td>2</td>\n",
       "      <td>0000002.bin</td>\n",
       "      <td>9.990000e+08</td>\n",
       "      <td>9.990000e+08</td>\n",
       "      <td>True</td>\n",
       "    </tr>\n",
       "    <tr>\n",
       "      <th>3</th>\n",
       "      <td>0.406112</td>\n",
       "      <td>0.036478</td>\n",
       "      <td>0.002390</td>\n",
       "      <td>0.321071</td>\n",
       "      <td>0.427768</td>\n",
       "      <td>0.036219</td>\n",
       "      <td>0.008587</td>\n",
       "      <td>0.012958</td>\n",
       "      <td>2.005184</td>\n",
       "      <td>0.000787</td>\n",
       "      <td>18313.684674</td>\n",
       "      <td>1.0</td>\n",
       "      <td>3</td>\n",
       "      <td>0000003.bin</td>\n",
       "      <td>2.287671e+06</td>\n",
       "      <td>8.392234e+06</td>\n",
       "      <td>False</td>\n",
       "    </tr>\n",
       "    <tr>\n",
       "      <th>4</th>\n",
       "      <td>0.059897</td>\n",
       "      <td>0.028009</td>\n",
       "      <td>0.001623</td>\n",
       "      <td>0.341814</td>\n",
       "      <td>0.257596</td>\n",
       "      <td>0.053197</td>\n",
       "      <td>0.001287</td>\n",
       "      <td>0.034789</td>\n",
       "      <td>2.057699</td>\n",
       "      <td>0.020469</td>\n",
       "      <td>4110.203941</td>\n",
       "      <td>1.0</td>\n",
       "      <td>4</td>\n",
       "      <td>0000004.bin</td>\n",
       "      <td>9.668931e+05</td>\n",
       "      <td>3.380350e+05</td>\n",
       "      <td>False</td>\n",
       "    </tr>\n",
       "  </tbody>\n",
       "</table>\n",
       "</div>"
      ],
      "text/plain": [
       "   EMcrossnear  EMfracstdnear  EPstdnear  MMRstrengthnear  EMcrossfar  \\\n",
       "0     0.060234       0.029447   0.001995         0.498040    0.504063   \n",
       "1     0.080547       0.016559   0.000112         0.452015    0.240504   \n",
       "2     0.129660       0.028844   0.003181         1.001973    1.001981   \n",
       "3     0.406112       0.036478   0.002390         0.321071    0.427768   \n",
       "4     0.059897       0.028009   0.001623         0.341814    0.257596   \n",
       "\n",
       "   EMfracstdfar  EPstdfar  MMRstrengthfar     MEGNO  MEGNOstd          Tsec  \\\n",
       "0      0.002900  0.000816             NaN  1.996685  0.002450  28431.355594   \n",
       "1      0.006736  0.001621        0.008674  2.019031  0.010215   3904.311701   \n",
       "2      0.001402  0.003742        0.010415  1.995858  0.003027  70073.695993   \n",
       "3      0.036219  0.008587        0.012958  2.005184  0.000787  18313.684674   \n",
       "4      0.053197  0.001287        0.034789  2.057699  0.020469   4110.203941   \n",
       "\n",
       "   InitialStable  Unnamed: 0    runstring  instability_time  \\\n",
       "0            1.0           0  0000000.bin      1.545872e+06   \n",
       "1            1.0           1  0000001.bin      9.990000e+08   \n",
       "2            1.0           2  0000002.bin      9.990000e+08   \n",
       "3            1.0           3  0000003.bin      2.287671e+06   \n",
       "4            1.0           4  0000004.bin      9.668931e+05   \n",
       "\n",
       "   shadow_instability_time  Stable  \n",
       "0             3.063700e+06   False  \n",
       "1             9.990000e+08    True  \n",
       "2             9.990000e+08    True  \n",
       "3             8.392234e+06   False  \n",
       "4             3.380350e+05   False  "
      ]
     },
     "execution_count": 10,
     "metadata": {},
     "output_type": "execute_result"
    }
   ],
   "source": [
    "dataset.head()"
   ]
  },
  {
   "cell_type": "code",
   "execution_count": 11,
   "metadata": {},
   "outputs": [
    {
     "name": "stdout",
     "output_type": "stream",
     "text": [
      "EMcrossnear 3.608224830031759e-17\n",
      "EMfracstdnear 4.825133348429489e-17\n",
      "EPstdnear 4.3287042787026886e-17\n",
      "MMRstrengthnear 2.654126918244515e-17\n",
      "EMcrossfar 2.6090241078691177e-17\n",
      "EMfracstdfar 4.236194728335363e-17\n",
      "EPstdfar 4.742612010576186e-17\n",
      "MMRstrengthfar 2.860775852320252e-17\n",
      "MEGNO -9.325873406851315e-17\n",
      "MEGNOstd 4.82971410260824e-17\n",
      "Tsec 2.1600499167107045e-13\n",
      "InitialStable 0.0\n",
      "Unnamed: 0 0.0\n",
      "instability_time 0.0\n",
      "shadow_instability_time 0.0\n"
     ]
    }
   ],
   "source": [
    "for col in df.columns:\n",
    "    try:\n",
    "        print(col, (dataset[col] - df[col]).sum()/dataset[col].shape[0])\n",
    "    except:\n",
    "        pass"
   ]
  },
  {
   "cell_type": "code",
   "execution_count": 12,
   "metadata": {},
   "outputs": [],
   "source": [
    "#dataset.to_csv('refdata.csv')"
   ]
  },
  {
   "cell_type": "code",
   "execution_count": null,
   "metadata": {},
   "outputs": [],
   "source": []
  }
 ],
 "metadata": {
  "kernelspec": {
   "display_name": "Python 3 (ipykernel)",
   "language": "python",
   "name": "python3"
  },
  "language_info": {
   "codemirror_mode": {
    "name": "ipython",
    "version": 3
   },
   "file_extension": ".py",
   "mimetype": "text/x-python",
   "name": "python",
   "nbconvert_exporter": "python",
   "pygments_lexer": "ipython3",
   "version": "3.13.5"
  }
 },
 "nbformat": 4,
 "nbformat_minor": 4
}

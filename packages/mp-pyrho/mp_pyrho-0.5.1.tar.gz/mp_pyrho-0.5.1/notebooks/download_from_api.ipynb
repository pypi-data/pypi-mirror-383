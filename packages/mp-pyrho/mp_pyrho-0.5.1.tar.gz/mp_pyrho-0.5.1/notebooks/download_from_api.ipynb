{
 "cells": [
  {
   "cell_type": "markdown",
   "id": "7ca8d079-3db0-4137-86fb-3b2ca41e16df",
   "metadata": {},
   "source": [
    "# Obtain your API key\n",
    "\n",
    "You can access your Materials Project API key at https://materialsproject.org/api\n",
    "\n",
    "If you do not have an account yet, you will see the following button.\n",
    "Simply click it and follow the instructions to obtain your API key.\n",
    "\n",
    "![image.png](https://github.com/materialsproject/pyrho/blob/main/docs/source/_static/img/mp_api.png?raw=true)\n"
   ]
  },
  {
   "cell_type": "code",
   "execution_count": null,
   "id": "ee6ae7aa-78c6-4481-b5e8-1da80c3684c5",
   "metadata": {},
   "outputs": [],
   "source": [
    "API_KEY = \"<Your API KEY>\""
   ]
  },
  {
   "cell_type": "markdown",
   "id": "5737f658-c1f7-4a6e-a4e1-2375a2a6e2a1",
   "metadata": {
    "tags": []
   },
   "source": [
    "These packages heavily depend on the `pymatgen` package so please first follow the instructions [here](https://pymatgen.org/installation.html) to install pymatgen (it is recommended that you set up a virtual environment using `conda` as part of this process).\n",
    "\n",
    "Instructions for installing and setting up the `Jupyter` notebook environment can be found [here](https://jupyter.org/install)\n",
    "\n",
    "Then you should install the following two packages:\n",
    "\n",
    "```\n",
    "pip install -U mp-pyrho\n",
    "```\n",
    "\n",
    "To test that the installation was completed properly run the following commands and the output should be `pymatgen.io.vasp.outputs.Chgcar`"
   ]
  },
  {
   "cell_type": "code",
   "execution_count": null,
   "id": "4dd96905-de51-4aac-ab8b-2114ce861808",
   "metadata": {},
   "outputs": [],
   "source": [
    "from pymatgen.ext.matproj import MPRester\n",
    "with MPRester(API_KEY) as mpr:\n",
    "    chgcar = mpr.get_charge_density_from_material_id(\"mp-149\")\n",
    "type(chgcar)"
   ]
  },
  {
   "cell_type": "markdown",
   "id": "9982f584-22c8-4f15-b8ae-eaa7aa3918af",
   "metadata": {},
   "source": [
    "To obtain the inputs for a calculation, the `inc_task_doc` parameter can be set to `True`.  This returns a `TaskDocument` object, which represents the parsed directory of a VASP calculation.\n",
    "The inputs used are attributes of this `TaskDocument` object and can be accessed in the follow fashion: "
   ]
  },
  {
   "cell_type": "code",
   "execution_count": null,
   "id": "bb799150-93fc-400d-a6f6-0c38692fbd59",
   "metadata": {},
   "outputs": [],
   "source": [
    "chgcar, task = mpr.get_charge_density_from_material_id(\"mp-149\", inc_task_doc=True)\n",
    "print(f\"INCAR: class -> {type(task.orig_inputs.incar)}\")\n",
    "print(task.orig_inputs.incar)\n",
    "print(f\"POSCAR: class -> {type(task.orig_inputs.poscar)}\")\n",
    "print(task.orig_inputs.poscar)\n",
    "print(f\"KPOINTS: class -> {type(task.orig_inputs.incar)}\")\n",
    "print(task.orig_inputs.kpoints)\n",
    "print(f\"POTCAR: class -> {type(task.orig_inputs.potcar)}\")\n",
    "print(task.orig_inputs.potcar)"
   ]
  },
  {
   "cell_type": "markdown",
   "id": "6e05487e-6036-426c-8725-2ac0d6baefc8",
   "metadata": {},
   "source": [
    "Since the automation framework at the Materials Project attempts to fix common VASP run failures, the exact set of VASP inputs in the final calculation might be different from the original inputs.\n",
    "These outputs can be accessed via the `calcs_reversed` attribute as shown below.  Since all of the charge densities are generated with static calculations there should only be one entry in the `calcs_reversed` list.\n",
    "The detailed information can be accessed using the `input` and `output` attributes."
   ]
  },
  {
   "cell_type": "code",
   "execution_count": null,
   "id": "28cd3305-a982-46f6-99b3-1425fdfa7b2f",
   "metadata": {},
   "outputs": [],
   "source": [
    "task.calcs_reversed[0].input.keys()"
   ]
  },
  {
   "cell_type": "code",
   "execution_count": null,
   "id": "d2179506-4301-440e-8170-5b059c248156",
   "metadata": {},
   "outputs": [],
   "source": [
    "task.calcs_reversed[0].output.keys()"
   ]
  },
  {
   "cell_type": "markdown",
   "id": "435a2310-b278-45d2-a802-6e9b031553d5",
   "metadata": {},
   "source": [
    "# Querying for the charge density of many different structures\n",
    "\n",
    "The `mp_api` is a full-featured REST api for all of the data on the materials project.\n",
    "Its features are too numerous to list here, so we will use a basic cystal-system query to show how you can obtain all of the charge densities of the stable structures in the \"Hexagonal\" crystal system.\n",
    "\n",
    "We can begin be querying for all of the stable materials in that system.\n",
    "But since we are not interested in obtaining all of the material data available we can filter our query by the `material_id` field to reduce the time and network load.\n"
   ]
  },
  {
   "cell_type": "code",
   "execution_count": null,
   "id": "d09a9992-d44c-49df-ae21-4e855f5327e8",
   "metadata": {},
   "outputs": [],
   "source": [
    "from pymatgen.ext.matproj import MPRester\n",
    "with MPRester(API_KEY) as mpr:\n",
    "    hexagonal_materials = mpr.summary.search(crystal_system=\"Hexagonal\", \n",
    "                                             is_stable=True,\n",
    "                                             has_props=[HasProps.charge_density], \n",
    "                                             fields=[\"material_id\"])"
   ]
  },
  {
   "cell_type": "markdown",
   "id": "1a69da27-d34d-4b7f-8547-6b75e0bf826f",
   "metadata": {},
   "source": [
    "We can see how many documents were returned by the query above."
   ]
  },
  {
   "cell_type": "code",
   "execution_count": null,
   "id": "60b93c6a-1776-4720-9686-bdafe9cc2314",
   "metadata": {},
   "outputs": [],
   "source": [
    "print(f\"The query returned {len(hexagonal_materials)} documents.\")"
   ]
  },
  {
   "cell_type": "markdown",
   "id": "9e1a7f55-8553-4aba-a929-67ebe20297eb",
   "metadata": {},
   "source": [
    "This returns a list of more than 3000 materials which is much larger, some will have charge densities available in our database some will not.\n",
    "We can loop through these materials and save the charge densities we find in a folder."
   ]
  },
  {
   "cell_type": "code",
   "execution_count": null,
   "id": "15ab45c4-04fc-45ab-a44a-24989ba0c2fb",
   "metadata": {},
   "outputs": [],
   "source": [
    "# Create the destination folder if it is not already present\n",
    "import os\n",
    "if not os.path.exists('found_chgcars'):\n",
    "    os.makedirs('found_chgcars')"
   ]
  },
  {
   "cell_type": "markdown",
   "id": "3c76662a-1e19-4ac1-b9a3-fe526159e636",
   "metadata": {},
   "source": [
    "Finally, we can loop through the different hexagonal materials and grab the charge densities in the form of a `Chgcar`.\n",
    "Each `Chgcar` object is then written to a file with the name like `CHGCAR_mp-5620.vasp`.\n",
    "The charge density can be viewed in Vesta and after adjusting the isosurface you should see something like this:\n",
    "\n",
    "![image.png](https://github.com/materialsproject/pyrho/blob/main/docs/source/_static/img/chgcar_example.png?raw=true)\n"
   ]
  },
  {
   "cell_type": "code",
   "execution_count": null,
   "id": "a574d123-f204-43ac-b25c-34d2c5a9ff70",
   "metadata": {
    "tags": []
   },
   "outputs": [],
   "source": [
    "found_chgcar_ids = []\n",
    "with MPRester(API_KEY) as mpr:\n",
    "    for imat in hexagonal_materials[:2]:\n",
    "        print(f\"Searching for {imat.material_id}\")\n",
    "        chgcar = mpr.get_charge_density_from_material_id(imat.material_id)\n",
    "        if chgcar is None:\n",
    "            continue\n",
    "        chgcar.write_file(f\"./found_chgcars/CHGCAR_{imat.material_id}.vasp\")\n",
    "        found_chgcar_ids.append(imat.material_id)\n"
   ]
  },
  {
   "cell_type": "code",
   "execution_count": null,
   "id": "d1a65c97-e8a9-4f7a-8712-21cf73434be5",
   "metadata": {},
   "outputs": [],
   "source": []
  }
 ],
 "metadata": {
  "kernelspec": {
   "display_name": "Python 3 (ipykernel)",
   "language": "python",
   "name": "python3"
  },
  "language_info": {
   "codemirror_mode": {
    "name": "ipython",
    "version": 3
   },
   "file_extension": ".py",
   "mimetype": "text/x-python",
   "name": "python",
   "nbconvert_exporter": "python",
   "pygments_lexer": "ipython3",
   "version": "3.9.13"
  }
 },
 "nbformat": 4,
 "nbformat_minor": 5
}

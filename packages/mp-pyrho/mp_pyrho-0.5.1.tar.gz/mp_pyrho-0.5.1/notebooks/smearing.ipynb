{
 "cells": [
  {
   "cell_type": "code",
   "execution_count": null,
   "id": "f3df609f-d530-4206-ae83-cd5d56eed1e4",
   "metadata": {},
   "outputs": [],
   "source": [
    "import numpy as np\n",
    "from scipy.ndimage import convolve\n"
   ]
  },
  {
   "cell_type": "code",
   "execution_count": null,
   "id": "8cf22855-6b4f-4227-a5ad-1f39b5ce777d",
   "metadata": {},
   "outputs": [],
   "source": []
  },
  {
   "cell_type": "code",
   "execution_count": null,
   "id": "ccbee3e6-08f9-4976-a204-94eac650a2b6",
   "metadata": {},
   "outputs": [],
   "source": [
    "arr = np.array([0,0,0,10,0])\n",
    "mask = np.array([0.25,0.5,0.25])\n",
    "convolve(input=arr, weights=mask, mode=\"wrap\")\n"
   ]
  },
  {
   "cell_type": "code",
   "execution_count": null,
   "id": "314fb757-74dd-41df-a9b6-592590abb4e9",
   "metadata": {},
   "outputs": [],
   "source": [
    "np.array([[3,],])"
   ]
  },
  {
   "cell_type": "code",
   "execution_count": null,
   "id": "d943fdaf-cbea-4db8-a583-2f9067e1e792",
   "metadata": {},
   "outputs": [],
   "source": [
    "arr = np.array([0,0,0,1,0,0,0,0])"
   ]
  },
  {
   "cell_type": "code",
   "execution_count": null,
   "id": "3afafea2-ac0f-4b25-93a4-760fd02f7e17",
   "metadata": {},
   "outputs": [],
   "source": [
    "arr2 = arr.reshape(1, len(arr)).T"
   ]
  },
  {
   "cell_type": "code",
   "execution_count": null,
   "id": "d6d16912-9892-4be0-b7e0-a9291705ed3d",
   "metadata": {},
   "outputs": [],
   "source": [
    "latt = np.array([[1,]])\n",
    "latt.reshape(1,1)"
   ]
  },
  {
   "cell_type": "code",
   "execution_count": null,
   "id": "4655c33f-2be9-46a1-bbb8-5bf1d099c3d9",
   "metadata": {},
   "outputs": [],
   "source": [
    "arr = np.array([[1,2], [3,4]])"
   ]
  },
  {
   "cell_type": "code",
   "execution_count": null,
   "id": "dbc2cdeb-511a-421d-90cd-620bf159176f",
   "metadata": {},
   "outputs": [],
   "source": [
    "np.sum(arr, axis=0)"
   ]
  },
  {
   "cell_type": "code",
   "execution_count": null,
   "id": "fde3b103-0d50-41bc-8785-b9629c689398",
   "metadata": {},
   "outputs": [],
   "source": []
  }
 ],
 "metadata": {
  "kernelspec": {
   "display_name": "Python 3 (ipykernel)",
   "language": "python",
   "name": "python3"
  },
  "language_info": {
   "codemirror_mode": {
    "name": "ipython",
    "version": 3
   },
   "file_extension": ".py",
   "mimetype": "text/x-python",
   "name": "python",
   "nbconvert_exporter": "python",
   "pygments_lexer": "ipython3",
   "version": "3.9.9"
  }
 },
 "nbformat": 4,
 "nbformat_minor": 5
}

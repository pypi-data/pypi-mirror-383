{
 "cells": [
  {
   "cell_type": "markdown",
   "id": "5305bbe1-12c2-4cb5-a4ee-c77d6efef01f",
   "metadata": {},
   "source": [
    "# Regridding data using PyRho\n",
    "\n",
    "## The PGrid Class\n",
    "\n",
    "The `PGrid` object is defined by an N-dimensional numpy array `grid_data` and a N lattice vector given as a matrix `lattice`. The input array is a scalar field that is defined on a regularly spaced set of grid points starting at the origin. For example, you can construct a periodic field as follows:"
   ]
  },
  {
   "cell_type": "code",
   "execution_count": null,
   "id": "8877a734-4f80-4811-b23b-5b99ac544347",
   "metadata": {},
   "outputs": [],
   "source": [
    "import numpy as np\n",
    "from pyrho.pgrid import PGrid\n",
    "from pyrho.vis.scatter import get_scatter_plot\n",
    "\n",
    "\n",
    "def func(X, Y):\n",
    "    return np.sin(X) * np.cos(2 * Y) \n",
    "\n",
    "\n",
    "a = np.linspace(0, np.pi, 27, endpoint=False)\n",
    "b = np.linspace(0, np.pi, 28, endpoint=False)\n",
    "X, Y = np.meshgrid(a, b, indexing=\"ij\")\n",
    "data = func(X, Y)\n",
    "pg2d = PGrid(grid_data=data, lattice=[[np.pi, 0], [0, np.pi]])"
   ]
  },
  {
   "cell_type": "markdown",
   "id": "e4360002-f93b-4ca6-acc8-8c402e8e003d",
   "metadata": {},
   "source": [
    "The data can be examined using the helper plotting function which supports up to 3-D."
   ]
  },
  {
   "cell_type": "code",
   "execution_count": null,
   "id": "f50f3c15-8c0f-48e2-bcbd-f513d5f7706c",
   "metadata": {},
   "outputs": [],
   "source": [
    "import matplotlib as mpl\n",
    "\n",
    "mpl.rc(\"image\", cmap=\"viridis\")\n",
    "get_scatter_plot(pg2d.grid_data, pg2d.lattice, marker_size=40)"
   ]
  },
  {
   "cell_type": "markdown",
   "id": "8f1ffa63-70cd-41ef-a153-bdcac937b980",
   "metadata": {},
   "source": [
    "The period data in the PGrid object must be fixed-scaled so if you half the number of points in the domain, the range of the data will stay the same. This is different from how the charge density is stored in codes like VASP where the values at each point change based on the number of grid points used to store the data.\n",
    "\n",
    "The regridding capabilities allow the user to obtain the data in any arbitrary representation. For example, if we want to shift to the middle of the unit-cell and create a ((1,1), (1,-1)) super-cell, with a 30 by 32 grid, we can run:"
   ]
  },
  {
   "cell_type": "code",
   "execution_count": null,
   "id": "d4a6ced1-0d8c-444a-87d6-1596640ea00b",
   "metadata": {},
   "outputs": [],
   "source": [
    "pg_2x = pg2d.get_transformed([[1, 1], [1, -1]], origin=[0.5, 0.5], grid_out=[30, 32])\n",
    "get_scatter_plot(pg_2x.grid_data, pg_2x.lattice, skips=1, opacity=1, marker_size=10)"
   ]
  },
  {
   "cell_type": "markdown",
   "id": "dec466c4-8637-45ad-bd32-b60cb74a1782",
   "metadata": {},
   "source": [
    "# Up-sampling with Fourier interpolation\n",
    "\n",
    "The up-sampling capabilities allow the user to exploit the periodicity of the data to obtain a higher-resolution grid.\n",
    "As an example, we can take a sparsely sampled periodic data in 1-D:"
   ]
  },
  {
   "cell_type": "code",
   "execution_count": null,
   "id": "aff39cbf-e62b-470c-bfca-78aa68c3a2f2",
   "metadata": {},
   "outputs": [],
   "source": [
    "def func1(X):\n",
    "    return np.sin(6 * X)\n",
    "\n",
    "\n",
    "a = np.linspace(0, np.pi, 10, endpoint=False)\n",
    "data = func1(a)\n",
    "\n",
    "pg1d = PGrid(grid_data=data, lattice=[[np.pi]])\n",
    "get_scatter_plot(pg1d.grid_data, pg1d.lattice, marker_size=50)"
   ]
  },
  {
   "cell_type": "markdown",
   "id": "b37c18ec-a8e8-453d-9059-56b484623771",
   "metadata": {},
   "source": [
    "This does not really resemble the `np.sin(6*X)` function we used to generate the data.\n",
    "However, if we use an up-sample factor of 8, we can obtain a more dense representation:"
   ]
  },
  {
   "cell_type": "code",
   "execution_count": null,
   "id": "a251d001-c73a-494a-aeb3-7c48e1e89dde",
   "metadata": {},
   "outputs": [],
   "source": [
    "pg1d_fine = pg1d.get_transformed(\n",
    "    sc_mat=[[2]],\n",
    "    grid_out=[\n",
    "        200,\n",
    "    ],\n",
    "    up_sample=8,\n",
    ")\n",
    "get_scatter_plot(pg1d_fine.grid_data, pg1d_fine.lattice, marker_size=10)"
   ]
  },
  {
   "cell_type": "markdown",
   "id": "64ec47e3-05da-4cbf-ae2e-1b207cd45b17",
   "metadata": {
    "tags": []
   },
   "source": [
    "## The ChargeDensity class\n",
    "\n",
    "The `ChargeDensity` object can use the `from_file` construction methods from `pymatgen.io.vasp.outputs.Chgcar` as show below.\n",
    "The `normalized_data` property contains a dictionary keyed with the same keys as `Chgcar.data` (typically \"total\" and \"diff\" for spin charge densities).\n"
   ]
  },
  {
   "cell_type": "code",
   "execution_count": null,
   "id": "b2dd4e33-80eb-4f13-83c6-2fddda3e4410",
   "metadata": {},
   "outputs": [],
   "source": [
    "from pymatgen.io.vasp import Chgcar\n",
    "from pyrho.charge_density import ChargeDensity\n",
    "\n",
    "cden_uc = ChargeDensity.from_file(\n",
    "    \"../test_files/CHGCAR.uc.vasp\"\n",
    ")\n",
    "cden_sc = ChargeDensity.from_file(\n",
    "    \"../test_files/CHGCAR.sc1.vasp\"\n",
    ")\n",
    "chgcar_sc = Chgcar.from_file(\n",
    "    \"../test_files/CHGCAR.sc1.vasp\"\n",
    ")\n",
    "cden_transformed = cden_uc.get_transformed(\n",
    "    [[1, 1, 0], [1, -1, 0], [0, 0, 1]],\n",
    "    grid_out=cden_sc.grid_shape,\n",
    "    up_sample=2,\n",
    ")\n"
   ]
  },
  {
   "cell_type": "code",
   "execution_count": null,
   "id": "deb4b11e-14e3-4966-801f-8cc2b5cfb021",
   "metadata": {},
   "outputs": [],
   "source": [
    "data = cden_uc.normalized_data[\"total\"]\n",
    "print(\n",
    "    f\"The normalized charge density data is has a range of {data.min():0.3f} --> {data.max():0.3f} e-/Ang^3\"\n",
    ")\n"
   ]
  },
  {
   "cell_type": "markdown",
   "id": "f00d2e29-3035-4e5d-b0ae-8d8c0513be6d",
   "metadata": {},
   "source": [
    "Note that the PAW transformation sometimes results in negative charge densities."
   ]
  },
  {
   "cell_type": "code",
   "execution_count": null,
   "id": "21d9fe14-b6c2-4cba-a6ee-7bfe7afcac74",
   "metadata": {},
   "outputs": [],
   "source": [
    "trans_data = cden_transformed.normalized_data[\"total\"]\n",
    "print(\n",
    "    f\"The transformed normalized charge density data is has a range of {trans_data.min():0.3f} --> {trans_data.max():0.3f} e-/Ang^3\"\n",
    ")\n"
   ]
  },
  {
   "cell_type": "code",
   "execution_count": null,
   "id": "55118c73-e51e-4005-b3d1-25b192b39e73",
   "metadata": {},
   "outputs": [],
   "source": [
    "sc_data = cden_sc.normalized_data[\"total\"]\n",
    "print(\n",
    "    f\"The reference normalized charge density data is has a range of {sc_data.min():0.3f} --> {sc_data.max():0.3f} e-/Ang^3\"\n",
    ")\n"
   ]
  },
  {
   "cell_type": "markdown",
   "id": "b062b794-7966-4449-9875-016159855eed",
   "metadata": {},
   "source": [
    "## Credits\n",
    "\n",
    "Jimmy-Xuan Shen: Project lead\n",
    "\n",
    "Wennie Wang: For naming the package\n"
   ]
  },
  {
   "cell_type": "code",
   "execution_count": null,
   "id": "b41c1c51-9881-4001-ae3f-879b3eca8d09",
   "metadata": {},
   "outputs": [],
   "source": []
  }
 ],
 "metadata": {
  "kernelspec": {
   "display_name": "Python 3 (ipykernel)",
   "language": "python",
   "name": "python3"
  },
  "language_info": {
   "codemirror_mode": {
    "name": "ipython",
    "version": 3
   },
   "file_extension": ".py",
   "mimetype": "text/x-python",
   "name": "python",
   "nbconvert_exporter": "python",
   "pygments_lexer": "ipython3",
   "version": "3.9.13"
  }
 },
 "nbformat": 4,
 "nbformat_minor": 5
}

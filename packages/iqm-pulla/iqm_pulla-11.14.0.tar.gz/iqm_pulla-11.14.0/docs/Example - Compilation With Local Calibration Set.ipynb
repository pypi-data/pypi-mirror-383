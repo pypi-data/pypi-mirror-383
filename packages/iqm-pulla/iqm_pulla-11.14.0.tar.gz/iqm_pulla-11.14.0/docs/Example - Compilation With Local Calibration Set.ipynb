{
 "cells": [
  {
   "metadata": {},
   "cell_type": "markdown",
   "source": [
    "# Compilation using a locally created calibration set\n",
    "\n",
    "This notebook shows how to construct a calibration set locally and use the local calibration set for compiling circuits.\n",
    "\n",
    "The calibration itself is done using IQM's Graph Based Calibration (GBC) software. In this notebook we show recalibration based on the latest calibration set. The usage of Pulla with a local calibration set works mostly the same way also for a full calibration from scratch. In that case you would just have to use a different GBC graph, and possibly manually add observations to the observation stash if it does not yet have all observations required for a valid calibration set.\n",
    "\n",
    "Using the principles shown in this notebook, it is possible to use all Pulla functionality as a helpful tool during the calibration process.\n",
    "\n",
    "**NOTE:** Some of the libraries used in this notebook are only available to on-premise customers and are not currently available publicly."
   ],
   "id": "14686f9ba10105f0"
  },
  {
   "metadata": {
    "ExecuteTime": {
     "end_time": "2025-01-24T20:48:09.126401Z",
     "start_time": "2025-01-24T20:48:06.060420Z"
    }
   },
   "cell_type": "code",
   "source": [
    "import os\n",
    "\n",
    "from calibration_graphs import CrystalRecalibrationGraphBuilder\n",
    "from exa.core.calibration_set_wrapper import CalibrationSetWrapper\n",
    "from exa.core.provider import provider as exa_provider\n",
    "import gbc\n",
    "from qiskit import QuantumCircuit, visualization\n",
    "from qiskit.compiler import transpile\n",
    "\n",
    "from iqm.cpc.compiler.compiler import Compiler\n",
    "from iqm.pulla.pulla import Pulla\n",
    "from iqm.pulla.utils import calset_from_observations\n",
    "from iqm.pulla.utils_qiskit import qiskit_to_pulla, station_control_result_to_qiskit\n",
    "from iqm.qiskit_iqm import IQMProvider\n",
    "from iqm.qiskit_iqm.iqm_transpilation import optimize_single_qubit_gates"
   ],
   "id": "96b7e6e5565e1c9f",
   "outputs": [],
   "execution_count": 1
  },
  {
   "metadata": {},
   "cell_type": "markdown",
   "source": "First we prepare a Pulla object, a `qiskit-iqm` backend, and a circuit as explained in `Quick Start.ipynb`.",
   "id": "9546db83e668b563"
  },
  {
   "metadata": {},
   "cell_type": "code",
   "source": [
    "cocos_url = os.environ['PULLA_COCOS_URL']                      # or set the URL directly here\n",
    "station_control_url = os.environ['PULLA_STATION_CONTROL_URL']  # or set the URL directly here\n",
    "\n",
    "p = Pulla(station_control_url)\n",
    "provider = IQMProvider(cocos_url)\n",
    "backend = provider.get_backend()\n",
    "\n",
    "qc = QuantumCircuit(3, 3)\n",
    "qc.h(0)\n",
    "qc.cx(0, 1)\n",
    "qc.cx(0, 2)\n",
    "qc.measure_all()\n",
    "\n",
    "qc_transpiled = transpile(qc, backend=backend, layout_method='sabre', optimization_level=3)\n",
    "qc_optimized = optimize_single_qubit_gates(qc_transpiled)\n",
    "circuits, compiler = qiskit_to_pulla(p, backend, qc_optimized)"
   ],
   "id": "89e32ba7079d5c5e",
   "outputs": [],
   "execution_count": null
  },
  {
   "metadata": {},
   "cell_type": "markdown",
   "source": "Let's also define a function that compiles and runs the above circuit using the given compiler state. This function will be used to compile and execute the circuit at different points of the calibration process:",
   "id": "a31de0b834c7bb9d"
  },
  {
   "metadata": {
    "ExecuteTime": {
     "end_time": "2025-01-24T20:48:37.620627Z",
     "start_time": "2025-01-24T20:48:37.615503Z"
    }
   },
   "cell_type": "code",
   "source": [
    "def compile_and_execute_circuit(c: Compiler):\n",
    "    shots = 1000\n",
    "    playlist, context = c.compile(circuits)\n",
    "    settings, context = c.build_settings(context, shots=shots)\n",
    "\n",
    "    print(f\"Playlist:\\n{playlist}\")\n",
    "    print(f\"Settings:\")\n",
    "    settings.print_tree()\n",
    "\n",
    "    response_data = p.execute(playlist, context, settings, verbose=False)\n",
    "    qiskit_result = station_control_result_to_qiskit(response_data, shots=shots, execution_options=context['options'])\n",
    "\n",
    "    print(f\"Qiskit result counts:\\n{qiskit_result.get_counts()}\\n\")\n",
    "    visualization.plot_histogram(qiskit_result.get_counts())\n"
   ],
   "id": "b3a3b03d7b522000",
   "outputs": [],
   "execution_count": 3
  },
  {
   "metadata": {},
   "cell_type": "markdown",
   "source": "First we compile and execute the circuit using the compiler obtained above, which uses the current default calibration set on the server. The results of this execution can then be compared to the results after performing (parts of) the recalibration process.",
   "id": "f808e8f13b714eb3"
  },
  {
   "metadata": {
    "ExecuteTime": {
     "end_time": "2025-01-24T20:48:44.575587Z",
     "start_time": "2025-01-24T20:48:41.468224Z"
    }
   },
   "cell_type": "code",
   "source": "compile_and_execute_circuit(compiler)",
   "id": "f836422307f9818f",
   "outputs": [
    {
     "name": "stdout",
     "output_type": "stream",
     "text": [
      "Playlist:\n",
      "Schedule info:\n",
      " - 6 channels\n",
      " - 1 segments\n",
      " - 9 unique waveforms\n",
      " - 29 unique instructions\n",
      "\n",
      " QB3__drive.awg:\n",
      "    Instruction(duration_samples=598000, operation=Wait())\n",
      "    Instruction(duration_samples=80, operation=IQPulse(wave_i=TruncatedGaussian(n_samples=80, full_width=1.4999999999999998, center_offset=0.0), wave_q=TruncatedGaussianDerivative(n_samples=80, full_width=1.4999999999999998, center_offset=0.0), scale_i=0.0951287465369903, scale_q=-0.0034765998160462136, phase=-1.5707963267948966, modulation_frequency=0.0, phase_increment=0))\n",
      "    Instruction(duration_samples=192, operation=VirtualRZ(phase_increment=-3.5601317605991643))\n",
      "    Instruction(duration_samples=152, operation=VirtualRZ(phase_increment=-3.6573362424802793))\n",
      "    Instruction(duration_samples=3624, operation=Wait())\n",
      "\n",
      "    TruncatedGaussian(n_samples=80, full_width=1.4999999999999998, center_offset=0.0)\n",
      "    TruncatedGaussianDerivative(n_samples=80, full_width=1.4999999999999998, center_offset=0.0)\n",
      "\n",
      " QB1__drive.awg:\n",
      "    Instruction(duration_samples=598000, operation=Wait())\n",
      "    Instruction(duration_samples=80, operation=IQPulse(wave_i=TruncatedGaussian(n_samples=80, full_width=1.4999999999999998, center_offset=0.0), wave_q=TruncatedGaussianDerivative(n_samples=80, full_width=1.4999999999999998, center_offset=0.0), scale_i=0.08609682741483171, scale_q=-0.0047191665818062676, phase=-1.5707963267948966, modulation_frequency=0.0, phase_increment=0))\n",
      "    Instruction(duration_samples=192, operation=Wait())\n",
      "    Instruction(duration_samples=152, operation=VirtualRZ(phase_increment=-2.4814390542299964))\n",
      "    Instruction(duration_samples=80, operation=IQPulse(wave_i=TruncatedGaussian(n_samples=80, full_width=1.4999999999999998, center_offset=0.0), wave_q=TruncatedGaussianDerivative(n_samples=80, full_width=1.4999999999999998, center_offset=0.0), scale_i=0.08609682741483171, scale_q=-0.0047191665818062676, phase=1.5707963267948966, modulation_frequency=0.0, phase_increment=0))\n",
      "    Instruction(duration_samples=3544, operation=Wait())\n",
      "\n",
      "    TruncatedGaussian(n_samples=80, full_width=1.4999999999999998, center_offset=0.0)\n",
      "    TruncatedGaussianDerivative(n_samples=80, full_width=1.4999999999999998, center_offset=0.0)\n",
      "\n",
      " QB5__drive.awg:\n",
      "    Instruction(duration_samples=598000, operation=Wait())\n",
      "    Instruction(duration_samples=80, operation=IQPulse(wave_i=TruncatedGaussian(n_samples=80, full_width=1.4999999999999998, center_offset=0.0), wave_q=TruncatedGaussianDerivative(n_samples=80, full_width=1.4999999999999998, center_offset=0.0), scale_i=0.08092153313999559, scale_q=-0.003970079464702867, phase=-1.5707963267948966, modulation_frequency=0.0, phase_increment=0))\n",
      "    Instruction(duration_samples=192, operation=VirtualRZ(phase_increment=-2.5577912632041224))\n",
      "    Instruction(duration_samples=80, operation=IQPulse(wave_i=TruncatedGaussian(n_samples=80, full_width=1.4999999999999998, center_offset=0.0), wave_q=TruncatedGaussianDerivative(n_samples=80, full_width=1.4999999999999998, center_offset=0.0), scale_i=0.08092153313999559, scale_q=-0.003970079464702867, phase=1.5707963267948966, modulation_frequency=0.0, phase_increment=0))\n",
      "    Instruction(duration_samples=3696, operation=Wait())\n",
      "\n",
      "    TruncatedGaussian(n_samples=80, full_width=1.4999999999999998, center_offset=0.0)\n",
      "    TruncatedGaussianDerivative(n_samples=80, full_width=1.4999999999999998, center_offset=0.0)\n",
      "\n",
      " TC-3-5__flux.awg:\n",
      "    Instruction(duration_samples=598080, operation=Wait())\n",
      "    Instruction(duration_samples=192, operation=RealPulse(wave=TruncatedGaussianSmoothedSquare(n_samples=192, full_width=0.9070657578026751, rise_time=0.052083333333333336, center_offset=0.0), scale=-0.06390927105733386))\n",
      "    Instruction(duration_samples=3776, operation=Wait())\n",
      "\n",
      "    TruncatedGaussianSmoothedSquare(n_samples=192, full_width=0.9070657578026751, rise_time=0.052083333333333336, center_offset=0.0)\n",
      "\n",
      " TC-1-3__flux.awg:\n",
      "    Instruction(duration_samples=598272, operation=Wait())\n",
      "    Instruction(duration_samples=152, operation=RealPulse(wave=TruncatedGaussianSmoothedSquare(n_samples=152, full_width=0.8342314615399775, rise_time=0.06578947368421052, center_offset=0.0), scale=0.07634525224113697))\n",
      "    Instruction(duration_samples=3624, operation=Wait())\n",
      "\n",
      "    TruncatedGaussianSmoothedSquare(n_samples=152, full_width=0.8342314615399775, rise_time=0.06578947368421052, center_offset=0.0)\n",
      "\n",
      " PL_RO-1__readout:\n",
      "    Instruction(duration_samples=598504, operation=Wait())\n",
      "    Instruction(duration_samples=2400, operation=IQPulse(wave_i=Constant(n_samples=2400), wave_q=Constant(n_samples=2400), scale_i=0.08, scale_q=0.0, phase=0.4455827663875991, modulation_frequency=0.1328333333333335, phase_increment=0.0))\n",
      "    Instruction(duration_samples=2400, operation=IQPulse(wave_i=Constant(n_samples=2400), wave_q=Constant(n_samples=2400), scale_i=0.09, scale_q=0.0, phase=3.128706468379111, modulation_frequency=-0.0232, phase_increment=0.0))\n",
      "    Instruction(duration_samples=2400, operation=IQPulse(wave_i=Constant(n_samples=2400), wave_q=Constant(n_samples=2400), scale_i=0.06, scale_q=0.0, phase=-0.6313185374545216, modulation_frequency=-0.1159, phase_increment=0.0))\n",
      "    Instruction(duration_samples=2400, operation=IQPulse(wave_i=Constant(n_samples=2400), wave_q=Constant(n_samples=2400), scale_i=0.06, scale_q=0.0, phase=2.590390443434589, modulation_frequency=-0.21126666666666652, phase_increment=0.0))\n",
      "    Instruction(duration_samples=2432, operation=MultiplexedIQPulse(entries=((Instruction(duration_samples=2400, operation=IQPulse(wave_i=Constant(n_samples=2400), wave_q=Constant(n_samples=2400), scale_i=0.08, scale_q=0.0, phase=0.4455827663875991, modulation_frequency=0.1328333333333335, phase_increment=0.0)), 32), (Instruction(duration_samples=2400, operation=IQPulse(wave_i=Constant(n_samples=2400), wave_q=Constant(n_samples=2400), scale_i=0.09, scale_q=0.0, phase=3.128706468379111, modulation_frequency=-0.0232, phase_increment=0.0)), 32), (Instruction(duration_samples=2400, operation=IQPulse(wave_i=Constant(n_samples=2400), wave_q=Constant(n_samples=2400), scale_i=0.06, scale_q=0.0, phase=-0.6313185374545216, modulation_frequency=-0.1159, phase_increment=0.0)), 32), (Instruction(duration_samples=2400, operation=IQPulse(wave_i=Constant(n_samples=2400), wave_q=Constant(n_samples=2400), scale_i=0.06, scale_q=0.0, phase=2.590390443434589, modulation_frequency=-0.21126666666666652, phase_increment=0.0)), 32))))\n",
      "    Instruction(duration_samples=3544, operation=ReadoutTrigger(probe_pulse=Instruction(duration_samples=2432, operation=MultiplexedIQPulse(entries=((Instruction(duration_samples=2400, operation=IQPulse(wave_i=Constant(n_samples=2400), wave_q=Constant(n_samples=2400), scale_i=0.08, scale_q=0.0, phase=0.4455827663875991, modulation_frequency=0.1328333333333335, phase_increment=0.0)), 32), (Instruction(duration_samples=2400, operation=IQPulse(wave_i=Constant(n_samples=2400), wave_q=Constant(n_samples=2400), scale_i=0.09, scale_q=0.0, phase=3.128706468379111, modulation_frequency=-0.0232, phase_increment=0.0)), 32), (Instruction(duration_samples=2400, operation=IQPulse(wave_i=Constant(n_samples=2400), wave_q=Constant(n_samples=2400), scale_i=0.06, scale_q=0.0, phase=-0.6313185374545216, modulation_frequency=-0.1159, phase_increment=0.0)), 32), (Instruction(duration_samples=2400, operation=IQPulse(wave_i=Constant(n_samples=2400), wave_q=Constant(n_samples=2400), scale_i=0.06, scale_q=0.0, phase=2.590390443434589, modulation_frequency=-0.21126666666666652, phase_increment=0.0)), 32)))), acquisitions=(ThresholdStateDiscrimination(label='QB3__m1', delay_samples=992, weights=IQPulse(wave_i=Constant(n_samples=2400), wave_q=Constant(n_samples=2400), scale_i=1.0, scale_q=0.0, phase=0.0, modulation_frequency=0.1328333333333335, phase_increment=0.0), threshold=0.009988737119981418, feedback_signal_label=''), ThresholdStateDiscrimination(label='QB5__m2', delay_samples=992, weights=IQPulse(wave_i=Constant(n_samples=2400), wave_q=Constant(n_samples=2400), scale_i=1.0, scale_q=0.0, phase=0.0, modulation_frequency=-0.0232, phase_increment=0.0), threshold=-0.009706529126624557, feedback_signal_label=''), ThresholdStateDiscrimination(label='QB1__m3', delay_samples=992, weights=IQPulse(wave_i=Constant(n_samples=2400), wave_q=Constant(n_samples=2400), scale_i=1.0, scale_q=0.0, phase=0.0, modulation_frequency=-0.1159, phase_increment=0.0), threshold=0.007225626569837287, feedback_signal_label=''), ThresholdStateDiscrimination(label='QB2____MEASUREMENT_MODE', delay_samples=992, weights=IQPulse(wave_i=Constant(n_samples=2400), wave_q=Constant(n_samples=2400), scale_i=1.0, scale_q=0.0, phase=0.0, modulation_frequency=-0.21126666666666652, phase_increment=0.0), threshold=-0.0019972707623259443, feedback_signal_label=''))))\n",
      "\n",
      "    Constant(n_samples=2400)\n",
      "\n",
      "\n",
      "Settings:\n",
      "\n",
      " \"root\"\n",
      " ║ \n",
      " ╠═ QB3__flux: \"QB3__flux\"\n",
      " ║   ╚─ voltage: Flux voltage at parking spot = 0.06032263109569921 V\n",
      " ╠═ QB3__drive: \"QB3__drive\"\n",
      " ║   ╠─ frequency: Qubit drive frequency, should match the g-e transition frequency at parking spot = 4545030896.43382 Hz\n",
      " ║   ╠─ status:  = True \n",
      " ║   ║ \n",
      " ║   ╠═ awg: \"QB3__drive.awg\"\n",
      " ║   ║   ╠─ trigger_delay: Trigger delay for drive AWG = 4.9978e-07 s\n",
      " ║   ║   ╚─ status:  = True \n",
      " ║   ╚═ local_oscillator: \"QB3__drive.local_oscillator\"\n",
      " ║       ╚─ status:  = True \n",
      " ╠═ QB1__flux: \"QB1__flux\"\n",
      " ║   ╚─ voltage: Flux voltage at parking spot = 0.6573683138656004 V\n",
      " ╠═ QB1__drive: \"QB1__drive\"\n",
      " ║   ╠─ frequency: Qubit drive frequency, should match the g-e transition frequency at parking spot = 4340867845.11001 Hz\n",
      " ║   ╠─ status:  = True \n",
      " ║   ║ \n",
      " ║   ╠═ awg: \"QB1__drive.awg\"\n",
      " ║   ║   ╠─ trigger_delay: Trigger delay for drive AWG = 5.021e-07 s\n",
      " ║   ║   ╚─ status:  = True \n",
      " ║   ╚═ local_oscillator: \"QB1__drive.local_oscillator\"\n",
      " ║       ╚─ status:  = True \n",
      " ╠═ QB5__flux: \"QB5__flux\"\n",
      " ║   ╚─ voltage: Flux voltage at parking spot = -0.6209804866978091 V\n",
      " ╠═ QB5__drive: \"QB5__drive\"\n",
      " ║   ╠─ frequency: Qubit drive frequency, should match the g-e transition frequency at parking spot = 4339287173.374297 Hz\n",
      " ║   ╠─ status:  = True \n",
      " ║   ║ \n",
      " ║   ╠═ awg: \"QB5__drive.awg\"\n",
      " ║   ║   ╠─ trigger_delay: Trigger delay for drive AWG = 5.0122e-07 s\n",
      " ║   ║   ╚─ status:  = True \n",
      " ║   ╚═ local_oscillator: \"QB5__drive.local_oscillator\"\n",
      " ║       ╚─ status:  = True \n",
      " ╠═ TC-3-5__flux: \"TC-3-5__flux\"\n",
      " ║   ╠─ voltage: Flux voltage at idling spot = -0.0948 V\n",
      " ║   ║ \n",
      " ║   ╚═ awg: \"TC-3-5__flux.awg\"\n",
      " ║       ╠─ trigger_delay: Trigger delay for flux AWG = 2.5e-08 s\n",
      " ║       ╠─ status:  = True \n",
      " ║       ║ \n",
      " ║       ╚═ precompensation: \"TC-3-5__flux.awg.precompensation\"\n",
      " ║           ╠─ timeconstants: Precompensation timeconstants = [] \n",
      " ║           ╚─ amplitudes: Precompensation amplitudes = [] \n",
      " ╠═ TC-1-3__flux: \"TC-1-3__flux\"\n",
      " ║   ╠─ voltage: Flux voltage at idling spot = -0.0554 V\n",
      " ║   ║ \n",
      " ║   ╚═ awg: \"TC-1-3__flux.awg\"\n",
      " ║       ╠─ trigger_delay: Trigger delay for flux AWG = 2.1e-08 s\n",
      " ║       ╠─ status:  = True \n",
      " ║       ║ \n",
      " ║       ╚═ precompensation: \"TC-1-3__flux.awg.precompensation\"\n",
      " ║           ╠─ timeconstants: Precompensation timeconstants = [] \n",
      " ║           ╚─ amplitudes: Precompensation amplitudes = [] \n",
      " ╠═ PL_RO-1__twpa: \"PL_RO-1__twpa\"\n",
      " ║   ╠─ status: On/Off status of TWPA = True \n",
      " ║   ╠─ voltage_1: TWPA bias voltage_1 = 0.604 V\n",
      " ║   ╠─ voltage_2: TWPA bias voltage_2 = -0.604 V\n",
      " ║   ╠─ frequency: Frequency of the LO driving the TWPA = 9580000000 Hz\n",
      " ║   ╚─ power: Power of the LO driving the TWPA = 15.5 dBm\n",
      " ╠═ PL_RO-1__readout: \"PL_RO-1__readout\"\n",
      " ║   ╠─ center_frequency: Probe line center frequency = 5550000000.0 Hz\n",
      " ║   ╠─ trigger_delay: Trigger delay for readout instrument = 4.48e-07 s\n",
      " ║   ║ \n",
      " ║   ╚═ local_oscillator: \"PL_RO-1__readout.local_oscillator\"\n",
      " ║       ╚─ status:  = True \n",
      " ╠═ QB4__flux: \"QB4__flux\"\n",
      " ║   ╚─ voltage: Flux voltage at parking spot = -0.017818924978549647 V\n",
      " ╠═ QB2__flux: \"QB2__flux\"\n",
      " ║   ╚─ voltage: Flux voltage at parking spot = 0.41040858061143026 V\n",
      " ╠═ TC-3-4__flux: \"TC-3-4__flux\"\n",
      " ║   ╠─ voltage: Flux voltage at idling spot = -0.0921 V\n",
      " ║   ║ \n",
      " ║   ╚═ awg: \"TC-3-4__flux.awg\"\n",
      " ║       ╚─ status:  = True \n",
      " ╠═ TC-2-3__flux: \"TC-2-3__flux\"\n",
      " ║   ╠─ voltage: Flux voltage at idling spot = 0.0165 V\n",
      " ║   ║ \n",
      " ║   ╚═ awg: \"TC-2-3__flux.awg\"\n",
      " ║       ╚─ status:  = True \n",
      " ╚═ options: \"options\"\n",
      "     ╠─ end_delay: Delay from end of sequence to next trigger = 1e-06 s\n",
      "     ╠─ averaging_bins: Average the repeats into this many bins = 1000 \n",
      "     ╚─ playlist_repeats: Number of times to repeat execution of corresponding playlist = 1000 \n",
      "[01-24 22:48:42;I] Submitted sweep with ID: bded80d9-36cb-42cb-95a9-bed2dd463ffc\n",
      "[01-24 22:48:42;I] Created task in queue with ID: c431bd2a-9fc2-4ec0-96cb-720c080182aa\n",
      "[01-24 22:48:42;I] Sweep link: http://varda.qc.iqm.fi/station/sweeps/bded80d9-36cb-42cb-95a9-bed2dd463ffc\n",
      "[01-24 22:48:42;I] Task link: http://varda.qc.iqm.fi/station/tasks/c431bd2a-9fc2-4ec0-96cb-720c080182aa\n",
      "[01-24 22:48:42;I] Waiting for the sweep to finish...\n",
      "SweepStatus.PROGRESS\n",
      "SweepStatus.SUCCESS\n",
      "[01-24 22:48:44;I] Sweep status: SweepStatus.SUCCESS\n",
      "Qiskit result counts:\n",
      "{'111': 369, '100': 76, '101': 59, '000': 351, '011': 54, '010': 48, '110': 25, '001': 18}\n",
      "\n"
     ]
    }
   ],
   "execution_count": 4
  },
  {
   "metadata": {},
   "cell_type": "markdown",
   "source": "Now we will start recalibration using GBC. We need a CalibrationSetWrapper instance for handling calibration sets and a Calibrator for running the calibration:",
   "id": "d64c6d114415ac4a"
  },
  {
   "metadata": {},
   "cell_type": "code",
   "source": [
    "# CalibrationSetWrapper requires explicitly initializing station control and experiment configuration.\n",
    "exa_provider.init_station_control(station_control_url)\n",
    "exa_provider.init_experiment_configuration(\"experiment.yml\")  # replace with the path to your experiment.yml\n",
    "\n",
    "# Obtain CalibrationSetWrapper and observation stash based on the latest calibration set.\n",
    "chip_topology = p.get_chip_topology()\n",
    "qubits_to_calibrate = ['QB1', 'QB2', 'QB3', 'QB5']  # Set here the qubits you want to calibrate\n",
    "wrapper = CalibrationSetWrapper(\n",
    "    qubits_to_calibrate,\n",
    "    [],  # no computational resonators\n",
    "    chip_topology.get_connecting_couplers(qubits_to_calibrate),\n",
    "    chip_topology.get_connected_probe_lines(qubits_to_calibrate)\n",
    ")\n",
    "stash_before_recalibration = wrapper.observation_stash_from_calset(p.fetch_latest_calibration_set()[1])\n",
    "\n",
    "# Initialize the GBC calibration graph and calibrator.\n",
    "# NOTE: This is a conceptual example that may not work with the latest GBC version. See GBC docs for up-to-date instructions.\n",
    "graph = CrystalRecalibrationGraphBuilder(\n",
    "    qubits=qubits_to_calibrate,\n",
    "    default_implementations={'cz': ['tgss'], 'prx': ['drag_gaussian']}, # This needs to be consistent with the stash.\n",
    "    include_benchmarks_rb=True,\n",
    "    include_benchmarks_coherence=True,\n",
    "    include_cz_recalibration=True,\n",
    ").build()\n",
    "calibrator = gbc.Calibrator(graph)\n",
    "calibrator.initial_stash = stash_before_recalibration.get_latest_observations().values()  # recalibration will start from observations of latest calset obtained above"
   ],
   "id": "6ad4474d53e97496",
   "outputs": [],
   "execution_count": null
  },
  {
   "metadata": {},
   "cell_type": "markdown",
   "source": "To start with, we run the first node that runs any actual calibration experiments:",
   "id": "952555bc68e5a986"
  },
  {
   "metadata": {
    "ExecuteTime": {
     "end_time": "2025-01-24T21:00:29.297468Z",
     "start_time": "2025-01-24T21:00:18.539457Z"
    }
   },
   "cell_type": "code",
   "source": "calibrator.calibrate(calibrator.nodes.freq_initial_recal)",
   "id": "fe98d072ffe115d",
   "outputs": [
    {
     "name": "stdout",
     "output_type": "stream",
     "text": [
      "Calibrating node: set_default_implementations\n",
      "set_default_implementations_#0 completed in 1.0036234855651855 secs -> SUCCESS Ⓒ-1.0\n",
      "Calibrating node: set_target_freq_recal\n",
      "set_target_freq_recal_#0 completed in 1.6071202754974365 secs -> SUCCESS Ⓒ1.0\n",
      "Calibrating node: freq_initial_recal\n",
      "[01-24 23:00:23;I] Celery task ID: 612e95cf-3943-4de6-a141-03eef7f12cb7\n",
      "freq_initial_recal_#0 completed in 7.035228490829468 secs -> SUCCESS Ⓒ0.9742555921904078\n",
      "Calibration process Recalibration graph succeeded\n"
     ]
    },
    {
     "data": {
      "text/plain": [
       "Calibration finished."
      ]
     },
     "execution_count": 12,
     "metadata": {},
     "output_type": "execute_result"
    }
   ],
   "execution_count": 12
  },
  {
   "metadata": {},
   "cell_type": "markdown",
   "source": "Then we can create a local calibration set based on the results of the above calibration node, and update the compiler to use this calibration set. We compile and execute a circuit using the updated compiler to see how our updates to the calibration set affect the results. Because many observations of the updated calibration set don't yet take into account the results of the executed node, the results could even be worse than before updating the calibration set with these intermediate results.",
   "id": "1f5188c7dea00aa6"
  },
  {
   "metadata": {
    "ExecuteTime": {
     "end_time": "2025-01-24T21:00:39.227301Z",
     "start_time": "2025-01-24T21:00:36.236960Z"
    }
   },
   "cell_type": "code",
   "source": [
    "# Obtain observation stash based on results of the given calibration node and its dependencies.\n",
    "stash_after_calibration_node = calibrator.get_observations(calibrator.nodes.freq_initial_recal)\n",
    "# Use the calset wrapper to obtain only the observations that constitute a calibration set.\n",
    "observations = wrapper.filter_stash(stash_after_calibration_node)\n",
    "# Convert into Pulla calibration set format.\n",
    "calset = calset_from_observations(observations)\n",
    "\n",
    "# Update the compiler to use the local calibration set and compile+execute a circuit using it.\n",
    "compiler.set_calibration(calset)\n",
    "compile_and_execute_circuit(compiler)"
   ],
   "id": "7571a00c2940c5a0",
   "outputs": [
    {
     "name": "stdout",
     "output_type": "stream",
     "text": [
      "Playlist:\n",
      "Schedule info:\n",
      " - 6 channels\n",
      " - 1 segments\n",
      " - 9 unique waveforms\n",
      " - 29 unique instructions\n",
      "\n",
      " QB3__drive.awg:\n",
      "    Instruction(duration_samples=598000, operation=Wait())\n",
      "    Instruction(duration_samples=80, operation=IQPulse(wave_i=TruncatedGaussian(n_samples=80, full_width=1.4999999999999998, center_offset=0.0), wave_q=TruncatedGaussianDerivative(n_samples=80, full_width=1.4999999999999998, center_offset=0.0), scale_i=0.0951287465369903, scale_q=-0.0034765998160462136, phase=-1.5707963267948966, modulation_frequency=0.0, phase_increment=0))\n",
      "    Instruction(duration_samples=192, operation=VirtualRZ(phase_increment=-3.5601317605991643))\n",
      "    Instruction(duration_samples=152, operation=VirtualRZ(phase_increment=-3.6573362424802793))\n",
      "    Instruction(duration_samples=3624, operation=Wait())\n",
      "\n",
      "    TruncatedGaussian(n_samples=80, full_width=1.4999999999999998, center_offset=0.0)\n",
      "    TruncatedGaussianDerivative(n_samples=80, full_width=1.4999999999999998, center_offset=0.0)\n",
      "\n",
      " QB1__drive.awg:\n",
      "    Instruction(duration_samples=598000, operation=Wait())\n",
      "    Instruction(duration_samples=80, operation=IQPulse(wave_i=TruncatedGaussian(n_samples=80, full_width=1.4999999999999998, center_offset=0.0), wave_q=TruncatedGaussianDerivative(n_samples=80, full_width=1.4999999999999998, center_offset=0.0), scale_i=0.08609682741483171, scale_q=-0.0047191665818062676, phase=-1.5707963267948966, modulation_frequency=0.0, phase_increment=0))\n",
      "    Instruction(duration_samples=192, operation=Wait())\n",
      "    Instruction(duration_samples=152, operation=VirtualRZ(phase_increment=-2.4814390542299964))\n",
      "    Instruction(duration_samples=80, operation=IQPulse(wave_i=TruncatedGaussian(n_samples=80, full_width=1.4999999999999998, center_offset=0.0), wave_q=TruncatedGaussianDerivative(n_samples=80, full_width=1.4999999999999998, center_offset=0.0), scale_i=0.08609682741483171, scale_q=-0.0047191665818062676, phase=1.5707963267948966, modulation_frequency=0.0, phase_increment=0))\n",
      "    Instruction(duration_samples=3544, operation=Wait())\n",
      "\n",
      "    TruncatedGaussian(n_samples=80, full_width=1.4999999999999998, center_offset=0.0)\n",
      "    TruncatedGaussianDerivative(n_samples=80, full_width=1.4999999999999998, center_offset=0.0)\n",
      "\n",
      " QB5__drive.awg:\n",
      "    Instruction(duration_samples=598000, operation=Wait())\n",
      "    Instruction(duration_samples=80, operation=IQPulse(wave_i=TruncatedGaussian(n_samples=80, full_width=1.4999999999999998, center_offset=0.0), wave_q=TruncatedGaussianDerivative(n_samples=80, full_width=1.4999999999999998, center_offset=0.0), scale_i=0.08092153313999559, scale_q=-0.003970079464702867, phase=-1.5707963267948966, modulation_frequency=0.0, phase_increment=0))\n",
      "    Instruction(duration_samples=192, operation=VirtualRZ(phase_increment=-2.5577912632041224))\n",
      "    Instruction(duration_samples=80, operation=IQPulse(wave_i=TruncatedGaussian(n_samples=80, full_width=1.4999999999999998, center_offset=0.0), wave_q=TruncatedGaussianDerivative(n_samples=80, full_width=1.4999999999999998, center_offset=0.0), scale_i=0.08092153313999559, scale_q=-0.003970079464702867, phase=1.5707963267948966, modulation_frequency=0.0, phase_increment=0))\n",
      "    Instruction(duration_samples=3696, operation=Wait())\n",
      "\n",
      "    TruncatedGaussian(n_samples=80, full_width=1.4999999999999998, center_offset=0.0)\n",
      "    TruncatedGaussianDerivative(n_samples=80, full_width=1.4999999999999998, center_offset=0.0)\n",
      "\n",
      " TC-3-5__flux.awg:\n",
      "    Instruction(duration_samples=598080, operation=Wait())\n",
      "    Instruction(duration_samples=192, operation=RealPulse(wave=TruncatedGaussianSmoothedSquare(n_samples=192, full_width=0.9070657578026751, rise_time=0.052083333333333336, center_offset=0.0), scale=-0.06390927105733386))\n",
      "    Instruction(duration_samples=3776, operation=Wait())\n",
      "\n",
      "    TruncatedGaussianSmoothedSquare(n_samples=192, full_width=0.9070657578026751, rise_time=0.052083333333333336, center_offset=0.0)\n",
      "\n",
      " TC-1-3__flux.awg:\n",
      "    Instruction(duration_samples=598272, operation=Wait())\n",
      "    Instruction(duration_samples=152, operation=RealPulse(wave=TruncatedGaussianSmoothedSquare(n_samples=152, full_width=0.8342314615399775, rise_time=0.06578947368421052, center_offset=0.0), scale=0.07634525224113697))\n",
      "    Instruction(duration_samples=3624, operation=Wait())\n",
      "\n",
      "    TruncatedGaussianSmoothedSquare(n_samples=152, full_width=0.8342314615399775, rise_time=0.06578947368421052, center_offset=0.0)\n",
      "\n",
      " PL_RO-1__readout:\n",
      "    Instruction(duration_samples=598504, operation=Wait())\n",
      "    Instruction(duration_samples=2400, operation=IQPulse(wave_i=Constant(n_samples=2400), wave_q=Constant(n_samples=2400), scale_i=0.08, scale_q=0.0, phase=0.4455827663875991, modulation_frequency=0.1328333333333335, phase_increment=0.0))\n",
      "    Instruction(duration_samples=2400, operation=IQPulse(wave_i=Constant(n_samples=2400), wave_q=Constant(n_samples=2400), scale_i=0.09, scale_q=0.0, phase=3.128706468379111, modulation_frequency=-0.0232, phase_increment=0.0))\n",
      "    Instruction(duration_samples=2400, operation=IQPulse(wave_i=Constant(n_samples=2400), wave_q=Constant(n_samples=2400), scale_i=0.06, scale_q=0.0, phase=-0.6313185374545216, modulation_frequency=-0.1159, phase_increment=0.0))\n",
      "    Instruction(duration_samples=2400, operation=IQPulse(wave_i=Constant(n_samples=2400), wave_q=Constant(n_samples=2400), scale_i=0.06, scale_q=0.0, phase=2.590390443434589, modulation_frequency=-0.21126666666666652, phase_increment=0.0))\n",
      "    Instruction(duration_samples=2432, operation=MultiplexedIQPulse(entries=((Instruction(duration_samples=2400, operation=IQPulse(wave_i=Constant(n_samples=2400), wave_q=Constant(n_samples=2400), scale_i=0.08, scale_q=0.0, phase=0.4455827663875991, modulation_frequency=0.1328333333333335, phase_increment=0.0)), 32), (Instruction(duration_samples=2400, operation=IQPulse(wave_i=Constant(n_samples=2400), wave_q=Constant(n_samples=2400), scale_i=0.09, scale_q=0.0, phase=3.128706468379111, modulation_frequency=-0.0232, phase_increment=0.0)), 32), (Instruction(duration_samples=2400, operation=IQPulse(wave_i=Constant(n_samples=2400), wave_q=Constant(n_samples=2400), scale_i=0.06, scale_q=0.0, phase=-0.6313185374545216, modulation_frequency=-0.1159, phase_increment=0.0)), 32), (Instruction(duration_samples=2400, operation=IQPulse(wave_i=Constant(n_samples=2400), wave_q=Constant(n_samples=2400), scale_i=0.06, scale_q=0.0, phase=2.590390443434589, modulation_frequency=-0.21126666666666652, phase_increment=0.0)), 32))))\n",
      "    Instruction(duration_samples=3544, operation=ReadoutTrigger(probe_pulse=Instruction(duration_samples=2432, operation=MultiplexedIQPulse(entries=((Instruction(duration_samples=2400, operation=IQPulse(wave_i=Constant(n_samples=2400), wave_q=Constant(n_samples=2400), scale_i=0.08, scale_q=0.0, phase=0.4455827663875991, modulation_frequency=0.1328333333333335, phase_increment=0.0)), 32), (Instruction(duration_samples=2400, operation=IQPulse(wave_i=Constant(n_samples=2400), wave_q=Constant(n_samples=2400), scale_i=0.09, scale_q=0.0, phase=3.128706468379111, modulation_frequency=-0.0232, phase_increment=0.0)), 32), (Instruction(duration_samples=2400, operation=IQPulse(wave_i=Constant(n_samples=2400), wave_q=Constant(n_samples=2400), scale_i=0.06, scale_q=0.0, phase=-0.6313185374545216, modulation_frequency=-0.1159, phase_increment=0.0)), 32), (Instruction(duration_samples=2400, operation=IQPulse(wave_i=Constant(n_samples=2400), wave_q=Constant(n_samples=2400), scale_i=0.06, scale_q=0.0, phase=2.590390443434589, modulation_frequency=-0.21126666666666652, phase_increment=0.0)), 32)))), acquisitions=(ThresholdStateDiscrimination(label='QB3__m1', delay_samples=992, weights=IQPulse(wave_i=Constant(n_samples=2400), wave_q=Constant(n_samples=2400), scale_i=1.0, scale_q=0.0, phase=0.0, modulation_frequency=0.1328333333333335, phase_increment=0.0), threshold=0.009988737119981418, feedback_signal_label=''), ThresholdStateDiscrimination(label='QB5__m2', delay_samples=992, weights=IQPulse(wave_i=Constant(n_samples=2400), wave_q=Constant(n_samples=2400), scale_i=1.0, scale_q=0.0, phase=0.0, modulation_frequency=-0.0232, phase_increment=0.0), threshold=-0.009706529126624557, feedback_signal_label=''), ThresholdStateDiscrimination(label='QB1__m3', delay_samples=992, weights=IQPulse(wave_i=Constant(n_samples=2400), wave_q=Constant(n_samples=2400), scale_i=1.0, scale_q=0.0, phase=0.0, modulation_frequency=-0.1159, phase_increment=0.0), threshold=0.007225626569837287, feedback_signal_label=''), ThresholdStateDiscrimination(label='QB2____MEASUREMENT_MODE', delay_samples=992, weights=IQPulse(wave_i=Constant(n_samples=2400), wave_q=Constant(n_samples=2400), scale_i=1.0, scale_q=0.0, phase=0.0, modulation_frequency=-0.21126666666666652, phase_increment=0.0), threshold=-0.0019972707623259443, feedback_signal_label=''))))\n",
      "\n",
      "    Constant(n_samples=2400)\n",
      "\n",
      "\n",
      "Settings:\n",
      "\n",
      " \"root\"\n",
      " ║ \n",
      " ╠═ QB3__flux: \"QB3__flux\"\n",
      " ║   ╚─ voltage: Flux voltage at parking spot = 0.06032263109569921 V\n",
      " ╠═ QB3__drive: \"QB3__drive\"\n",
      " ║   ╠─ frequency: Qubit drive frequency, should match the g-e transition frequency at parking spot = 4544927319.732956 Hz\n",
      " ║   ╠─ status:  = True \n",
      " ║   ║ \n",
      " ║   ╠═ awg: \"QB3__drive.awg\"\n",
      " ║   ║   ╠─ trigger_delay: Trigger delay for drive AWG = 4.9978e-07 s\n",
      " ║   ║   ╚─ status:  = True \n",
      " ║   ╚═ local_oscillator: \"QB3__drive.local_oscillator\"\n",
      " ║       ╚─ status:  = True \n",
      " ╠═ QB1__flux: \"QB1__flux\"\n",
      " ║   ╚─ voltage: Flux voltage at parking spot = 0.6573683138656004 V\n",
      " ╠═ QB1__drive: \"QB1__drive\"\n",
      " ║   ╠─ frequency: Qubit drive frequency, should match the g-e transition frequency at parking spot = 4340785790.793237 Hz\n",
      " ║   ╠─ status:  = True \n",
      " ║   ║ \n",
      " ║   ╠═ awg: \"QB1__drive.awg\"\n",
      " ║   ║   ╠─ trigger_delay: Trigger delay for drive AWG = 5.021e-07 s\n",
      " ║   ║   ╚─ status:  = True \n",
      " ║   ╚═ local_oscillator: \"QB1__drive.local_oscillator\"\n",
      " ║       ╚─ status:  = True \n",
      " ╠═ QB5__flux: \"QB5__flux\"\n",
      " ║   ╚─ voltage: Flux voltage at parking spot = -0.6209804866978091 V\n",
      " ╠═ QB5__drive: \"QB5__drive\"\n",
      " ║   ╠─ frequency: Qubit drive frequency, should match the g-e transition frequency at parking spot = 4339206267.513577 Hz\n",
      " ║   ╠─ status:  = True \n",
      " ║   ║ \n",
      " ║   ╠═ awg: \"QB5__drive.awg\"\n",
      " ║   ║   ╠─ trigger_delay: Trigger delay for drive AWG = 5.0122e-07 s\n",
      " ║   ║   ╚─ status:  = True \n",
      " ║   ╚═ local_oscillator: \"QB5__drive.local_oscillator\"\n",
      " ║       ╚─ status:  = True \n",
      " ╠═ TC-3-5__flux: \"TC-3-5__flux\"\n",
      " ║   ╠─ voltage: Flux voltage at idling spot = -0.0948 V\n",
      " ║   ║ \n",
      " ║   ╚═ awg: \"TC-3-5__flux.awg\"\n",
      " ║       ╠─ trigger_delay: Trigger delay for flux AWG = 2.5e-08 s\n",
      " ║       ╠─ status:  = True \n",
      " ║       ║ \n",
      " ║       ╚═ precompensation: \"TC-3-5__flux.awg.precompensation\"\n",
      " ║           ╠─ timeconstants: Precompensation timeconstants = [] \n",
      " ║           ╚─ amplitudes: Precompensation amplitudes = [] \n",
      " ╠═ TC-1-3__flux: \"TC-1-3__flux\"\n",
      " ║   ╠─ voltage: Flux voltage at idling spot = -0.0554 V\n",
      " ║   ║ \n",
      " ║   ╚═ awg: \"TC-1-3__flux.awg\"\n",
      " ║       ╠─ trigger_delay: Trigger delay for flux AWG = 2.1e-08 s\n",
      " ║       ╠─ status:  = True \n",
      " ║       ║ \n",
      " ║       ╚═ precompensation: \"TC-1-3__flux.awg.precompensation\"\n",
      " ║           ╠─ timeconstants: Precompensation timeconstants = [] \n",
      " ║           ╚─ amplitudes: Precompensation amplitudes = [] \n",
      " ╠═ PL_RO-1__twpa: \"PL_RO-1__twpa\"\n",
      " ║   ╠─ status: On/Off status of TWPA = True \n",
      " ║   ╠─ voltage_1: TWPA bias voltage_1 = 0.604 V\n",
      " ║   ╠─ voltage_2: TWPA bias voltage_2 = -0.604 V\n",
      " ║   ╠─ frequency: Frequency of the LO driving the TWPA = 9580000000 Hz\n",
      " ║   ╚─ power: Power of the LO driving the TWPA = 15.5 dBm\n",
      " ╠═ PL_RO-1__readout: \"PL_RO-1__readout\"\n",
      " ║   ╠─ center_frequency: Probe line center frequency = 5550000000.0 Hz\n",
      " ║   ╠─ trigger_delay: Trigger delay for readout instrument = 4.48e-07 s\n",
      " ║   ║ \n",
      " ║   ╚═ local_oscillator: \"PL_RO-1__readout.local_oscillator\"\n",
      " ║       ╚─ status:  = True \n",
      " ╠═ QB4__flux: \"QB4__flux\"\n",
      " ║   ╚─ voltage: Flux voltage at parking spot = -0.017818924978549647 V\n",
      " ╠═ QB2__flux: \"QB2__flux\"\n",
      " ║   ╚─ voltage: Flux voltage at parking spot = 0.41040858061143026 V\n",
      " ╠═ TC-3-4__flux: \"TC-3-4__flux\"\n",
      " ║   ╠─ voltage: Flux voltage at idling spot = -0.0921 V\n",
      " ║   ║ \n",
      " ║   ╚═ awg: \"TC-3-4__flux.awg\"\n",
      " ║       ╚─ status:  = True \n",
      " ╠═ TC-2-3__flux: \"TC-2-3__flux\"\n",
      " ║   ╠─ voltage: Flux voltage at idling spot = 0.0165 V\n",
      " ║   ║ \n",
      " ║   ╚═ awg: \"TC-2-3__flux.awg\"\n",
      " ║       ╚─ status:  = True \n",
      " ╚═ options: \"options\"\n",
      "     ╠─ end_delay: Delay from end of sequence to next trigger = 1e-06 s\n",
      "     ╠─ averaging_bins: Average the repeats into this many bins = 1000 \n",
      "     ╚─ playlist_repeats: Number of times to repeat execution of corresponding playlist = 1000 \n",
      "[01-24 23:00:36;I] Submitted sweep with ID: a94218ac-99c5-4261-9412-6c5decafdf10\n",
      "[01-24 23:00:36;I] Created task in queue with ID: 240696df-7cd2-4dc3-bdf5-bf2c7e298adc\n",
      "[01-24 23:00:36;I] Sweep link: http://varda.qc.iqm.fi/station/sweeps/a94218ac-99c5-4261-9412-6c5decafdf10\n",
      "[01-24 23:00:36;I] Task link: http://varda.qc.iqm.fi/station/tasks/240696df-7cd2-4dc3-bdf5-bf2c7e298adc\n",
      "[01-24 23:00:36;I] Waiting for the sweep to finish...\n",
      "SweepStatus.PROGRESS\n",
      "SweepStatus.SUCCESS\n",
      "[01-24 23:00:38;I] Sweep status: SweepStatus.SUCCESS\n",
      "Qiskit result counts:\n",
      "{'111': 406, '000': 366, '101': 34, '110': 31, '001': 12, '100': 59, '011': 39, '010': 53}\n",
      "\n"
     ]
    }
   ],
   "execution_count": 13
  },
  {
   "metadata": {},
   "cell_type": "markdown",
   "source": [
    "We could repeat the above steps multiple times for different nodes of the calibration graph, to see how the results change during the calibration process.\n",
    "\n",
    "Finally, we run the full recalibration, which runs all the remaining nodes that we did not run above:"
   ],
   "id": "5a4a93385fadee6f"
  },
  {
   "metadata": {
    "ExecuteTime": {
     "end_time": "2025-01-24T21:31:32.803549Z",
     "start_time": "2025-01-24T21:00:51.460677Z"
    }
   },
   "cell_type": "code",
   "source": "calibrator.calibrate(calibrate_all=True)",
   "id": "ff670c20df6a39de",
   "outputs": [
    {
     "name": "stdout",
     "output_type": "stream",
     "text": [
      "Calibrating node: set_default_implementations\n",
      "Calibrating node: set_target_freq_recal\n",
      "Calibrating node: freq_initial_recal\n",
      "Calibrating node: readout_opt_recal\n",
      "[01-24 23:00:53;I] Celery task ID: 6b7bca61-6252-4fcc-a719-301268b2451f\n",
      "readout_opt_recal_#0 completed in 6.349461793899536 secs -> SUCCESS Ⓒ0.90675\n",
      "Calibrating node: drag_gaussian_iterative_parking_recal_H1\n",
      "[01-24 23:01:00;I] Celery task ID: d7d3a614-a159-42ae-bdd2-0ed17cd99e7c\n",
      "All qubits ready. Stop iteration.\n",
      "drag_gaussian_iterative_parking_recal_H1_#0 completed in 21.51668119430542 secs -> SUCCESS Ⓒ1.0\n",
      "Calibrating node: drag_gaussian_iterative_parking_recal_H2\n",
      "[01-24 23:01:21;I] Celery task ID: 88a30ec7-74a4-4eeb-aa9c-ed72a65177c1\n",
      "All qubits ready. Stop iteration.\n",
      "drag_gaussian_iterative_parking_recal_H2_#0 completed in 21.33298945426941 secs -> SUCCESS Ⓒ1.0\n",
      "Calibrating node: drag_gaussian_qbangbang_recal_H1\n",
      "[01-24 23:01:42;I] Celery task ID: afaff90c-cb98-4485-9404-517e9a9fb8de\n",
      "drag_gaussian_qbangbang_recal_H1_#0 completed in 23.90495014190674 secs -> SUCCESS Ⓒ0.8591387543780767\n",
      "Calibrating node: drag_gaussian_qbangbang_recal_H2\n",
      "[01-24 23:02:06;I] Celery task ID: 003bce54-d78b-4916-9c3f-0a4b687a1cfa\n",
      "drag_gaussian_qbangbang_recal_H2_#0 completed in 22.925169944763184 secs -> SUCCESS Ⓒ0.971452944787634\n",
      "Calibrating node: drag_gaussian_bangbang_recal_H1\n",
      "[01-24 23:02:29;I] Celery task ID: c15e4605-9be9-498e-9fb4-5e8449571081\n",
      "drag_gaussian_bangbang_recal_H1_#0 completed in 18.836557149887085 secs -> SUCCESS Ⓒ0.9255680394575172\n",
      "Calibrating node: drag_gaussian_bangbang_recal_H2\n",
      "[01-24 23:02:48;I] Celery task ID: 0f346d1e-e25e-434d-a123-dbe1123e81c7\n",
      "drag_gaussian_bangbang_recal_H2_#0 completed in 17.69259476661682 secs -> SUCCESS Ⓒ0.9882054896396907\n",
      "Calibrating node: drag_gaussian_readout_opt_r2_recal\n",
      "[01-24 23:03:06;I] Celery task ID: 9ed7d9db-8f77-4867-8927-5e75df63fcb4\n",
      "drag_gaussian_readout_opt_r2_recal_#0 completed in 6.281074047088623 secs -> SUCCESS Ⓒ0.914\n",
      "Calibrating node: tgss_set_default_cz_implementation_recal\n",
      "tgss_set_default_cz_implementation_recal_#0 completed in 0.9664556980133057 secs -> SUCCESS Ⓒ1.0\n",
      "Calibrating node: tgss_CZ_initial_duration_recal_G1\n",
      "tgss_CZ_initial_duration_recal_G1_#0 completed in 0.9828705787658691 secs -> SUCCESS Ⓒ1.0\n",
      "Calibrating node: tgss_CZ_initial_duration_recal_G2\n",
      "tgss_CZ_initial_duration_recal_G2_#0 completed in 0.9940857887268066 secs -> SUCCESS Ⓒ1.0\n",
      "Calibrating node: tgss_CZ_initial_duration_recal_G3\n",
      "tgss_CZ_initial_duration_recal_G3_#0 completed in 1.0983002185821533 secs -> SUCCESS Ⓒ1.0\n",
      "Calibrating node: tgss_CZ_initial_range_recal_G1\n",
      "tgss_CZ_initial_range_recal_G1_#0 completed in 0.9216585159301758 secs -> SUCCESS Ⓒ1.0\n",
      "Calibrating node: tgss_CZ_initial_range_recal_G2\n",
      "tgss_CZ_initial_range_recal_G2_#0 completed in 0.9631028175354004 secs -> SUCCESS Ⓒ1.0\n",
      "Calibrating node: tgss_CZ_initial_range_recal_G3\n",
      "tgss_CZ_initial_range_recal_G3_#0 completed in 0.9916343688964844 secs -> SUCCESS Ⓒ1.0\n",
      "Calibrating node: tgss_CZ_popex_recal_G1\n",
      "[01-24 23:03:21;I] Celery task ID: 5ab90365-1a02-4faf-badd-3ad0ef15564c\n",
      "tgss_CZ_popex_recal_G1_#0 completed in 79.30762887001038 secs -> SUCCESS Ⓒ1.0\n",
      "Calibrating node: tgss_CZ_popex_recal_G2\n",
      "[01-24 23:04:40;I] Celery task ID: 94273820-b2c6-402e-bc73-15be59c3dbb8\n",
      "tgss_CZ_popex_recal_G2_#0 completed in 79.73426628112793 secs -> SUCCESS Ⓒ1.0\n",
      "Calibrating node: tgss_CZ_popex_recal_G3\n",
      "[01-24 23:06:00;I] Celery task ID: 6065f782-cd9f-46a4-8509-08243b0bbe4e\n",
      "tgss_CZ_popex_recal_G3_#0 completed in 79.12011933326721 secs -> SUCCESS Ⓒ1.0\n",
      "Calibrating node: tgss_CZ_cphase_diag_recal_G1\n",
      "[01-24 23:07:18;I] Celery task ID: 4cdc21b4-6b8c-4e61-96c5-7d0014b35bc2\n",
      "tgss_CZ_cphase_diag_recal_G1_#0 completed in 83.09562039375305 secs -> SUCCESS Ⓒ1.0\n",
      "Calibrating node: tgss_CZ_cphase_diag_recal_G2\n",
      "[01-24 23:08:41;I] Celery task ID: 7c64ff45-54a3-4a4b-9d6f-95e7d23a89ed\n",
      "tgss_CZ_cphase_diag_recal_G2_#0 completed in 83.41221714019775 secs -> SUCCESS Ⓒ1.0\n",
      "Calibrating node: tgss_CZ_cphase_diag_recal_G3\n",
      "[01-24 23:10:05;I] Celery task ID: 5feba9f6-76c9-4dcd-8ded-8dac5fda8f61\n",
      "tgss_CZ_cphase_diag_recal_G3_#0 completed in 83.51356530189514 secs -> SUCCESS Ⓒ1.0\n",
      "Calibrating node: tgss_CZ_set_final_duration_recal_G1\n",
      "tgss_CZ_set_final_duration_recal_G1_#0 completed in 0.9463348388671875 secs -> SUCCESS Ⓒ1.0\n",
      "Calibrating node: tgss_CZ_set_final_duration_recal_G2\n",
      "tgss_CZ_set_final_duration_recal_G2_#0 completed in 1.1962735652923584 secs -> SUCCESS Ⓒ1.0\n",
      "Calibrating node: tgss_CZ_set_final_duration_recal_G3\n",
      "tgss_CZ_set_final_duration_recal_G3_#0 completed in 1.0019686222076416 secs -> SUCCESS Ⓒ1.0\n",
      "Calibrating node: tgss_CZ_popex_iteration_1_recal_G1\n",
      "[01-24 23:11:31;I] Celery task ID: dfc00d2b-ba11-4a17-8b28-181b7a551c78\n",
      "tgss_CZ_popex_iteration_1_recal_G1_#0 completed in 8.149068355560303 secs -> SUCCESS Ⓒ1\n",
      "Calibrating node: tgss_CZ_popex_iteration_1_recal_G2\n",
      "[01-24 23:11:40;I] Celery task ID: 959a7234-6ee7-4b3f-8b28-e352a495f1bf\n",
      "tgss_CZ_popex_iteration_1_recal_G2_#0 completed in 8.359061479568481 secs -> SUCCESS Ⓒ1\n",
      "Calibrating node: tgss_CZ_popex_iteration_1_recal_G3\n",
      "[01-24 23:11:48;I] Celery task ID: e77e4ed7-587a-4a9d-a562-e58f96cbcf30\n",
      "tgss_CZ_popex_iteration_1_recal_G3_#0 completed in 8.171659231185913 secs -> SUCCESS Ⓒ1\n",
      "Calibrating node: tgss_CZ_cphase_iteration_1_recal_G1\n",
      "[01-24 23:11:56;I] Celery task ID: 8a7a0b5a-af34-4406-b4ef-d61c16b5af14\n",
      "tgss_CZ_cphase_iteration_1_recal_G1_#0 completed in 83.27073907852173 secs -> SUCCESS Ⓒ0.8298128107145513\n",
      "Calibrating node: tgss_CZ_cphase_iteration_1_recal_G2\n",
      "[01-24 23:13:20;I] Celery task ID: c65c3bc4-b055-41f0-a897-372531d0f12f\n",
      "tgss_CZ_cphase_iteration_1_recal_G2_#0 completed in 83.41191625595093 secs -> SUCCESS Ⓒ0.7177523472977817\n",
      "Calibrating node: tgss_CZ_cphase_iteration_1_recal_G3\n",
      "[01-24 23:14:43;I] Celery task ID: bf140676-0982-46f5-bdac-3c65aa53f499\n",
      "tgss_CZ_cphase_iteration_1_recal_G3_#0 completed in 83.09293246269226 secs -> SUCCESS Ⓒ0.947194531096799\n",
      "Calibrating node: tgss_CZ_vz_first_qubit_recal_G1\n",
      "[01-24 23:16:06;I] Celery task ID: be9a63d0-dd59-4e5c-9582-daaa82cff56b\n",
      "tgss_CZ_vz_first_qubit_recal_G1_#0 completed in 6.1175782680511475 secs -> SUCCESS Ⓒ1.0\n",
      "Calibrating node: tgss_CZ_vz_second_qubit_recal_G1\n",
      "[01-24 23:16:12;I] Celery task ID: 08ea4cd9-7ef6-4e22-8f5f-07c1b5728c56\n",
      "tgss_CZ_vz_second_qubit_recal_G1_#0 completed in 6.248856544494629 secs -> SUCCESS Ⓒ1.0\n",
      "Calibrating node: tgss_CZ_vz_first_qubit_recal_G2\n",
      "[01-24 23:16:19;I] Celery task ID: 8f4a760d-8266-4ecd-82fe-8228ef96fbbc\n",
      "tgss_CZ_vz_first_qubit_recal_G2_#0 completed in 6.212263822555542 secs -> SUCCESS Ⓒ1.0\n",
      "Calibrating node: tgss_CZ_vz_second_qubit_recal_G2\n",
      "[01-24 23:16:25;I] Celery task ID: 1574e893-d0c8-4312-b7b2-c0622dc356be\n",
      "tgss_CZ_vz_second_qubit_recal_G2_#0 completed in 5.963546276092529 secs -> SUCCESS Ⓒ1.0\n",
      "Calibrating node: tgss_CZ_vz_first_qubit_recal_G3\n",
      "[01-24 23:16:31;I] Celery task ID: 9cb07ddf-565e-47e7-8a07-cce7152f44d9\n",
      "tgss_CZ_vz_first_qubit_recal_G3_#0 completed in 6.225014925003052 secs -> SUCCESS Ⓒ1.0\n",
      "Calibrating node: tgss_CZ_vz_second_qubit_recal_G3\n",
      "[01-24 23:16:37;I] Celery task ID: dd030089-8d8f-4b94-bb20-c6349c1bf896\n",
      "tgss_CZ_vz_second_qubit_recal_G3_#0 completed in 7.211985111236572 secs -> SUCCESS Ⓒ1.0\n",
      "Calibrating node: tgss_full_recalibration_without_benchmarks\n",
      "tgss_full_recalibration_without_benchmarks_#0 completed in 1.041907548904419 secs -> SUCCESS Ⓒ-1.0\n",
      "Calibrating node: T1_recal_H1\n",
      "[01-24 23:16:46;I] Celery task ID: 76597668-7d7e-465e-b101-9917264e8465\n"
     ]
    },
    {
     "data": {
      "text/plain": [
       "Iterations of the circuit:   0%|          | 0/5 [00:00<?, ?it/s]"
      ],
      "application/vnd.jupyter.widget-view+json": {
       "version_major": 2,
       "version_minor": 0,
       "model_id": "8d8c0538693f4ef8963f628adf3890aa"
      }
     },
     "metadata": {},
     "output_type": "display_data"
    },
    {
     "name": "stdout",
     "output_type": "stream",
     "text": [
      "T1_recal_H1_#0 completed in 64.67484092712402 secs -> SUCCESS Ⓒ1.0\n",
      "Calibrating node: T2Ramsey_recal_H1\n"
     ]
    },
    {
     "name": "stderr",
     "output_type": "stream",
     "text": [
      "[01-24 23:17:49;W] The drive frequency of QB4 is set to None, can't detune it.\n"
     ]
    },
    {
     "name": "stdout",
     "output_type": "stream",
     "text": [
      "[01-24 23:17:50;I] Celery task ID: 229a3a18-0478-4912-b062-2edd90bd6292\n"
     ]
    },
    {
     "data": {
      "text/plain": [
       "Iterations of the circuit:   0%|          | 0/5 [00:00<?, ?it/s]"
      ],
      "application/vnd.jupyter.widget-view+json": {
       "version_major": 2,
       "version_minor": 0,
       "model_id": "2c4603ad616d4f71994a7750d6af4264"
      }
     },
     "metadata": {},
     "output_type": "display_data"
    },
    {
     "name": "stdout",
     "output_type": "stream",
     "text": [
      "T2Ramsey_recal_H1_#0 completed in 88.10178875923157 secs -> SUCCESS Ⓒ1.0\n",
      "Calibrating node: T2Echo_recal_H1\n",
      "[01-24 23:19:19;I] Celery task ID: d5c2977b-6792-47c5-ab52-2287cbfe574f\n"
     ]
    },
    {
     "data": {
      "text/plain": [
       "Iterations of the circuit:   0%|          | 0/5 [00:00<?, ?it/s]"
      ],
      "application/vnd.jupyter.widget-view+json": {
       "version_major": 2,
       "version_minor": 0,
       "model_id": "88f0c9d9a9ba4d768a0196a455709863"
      }
     },
     "metadata": {},
     "output_type": "display_data"
    },
    {
     "name": "stdout",
     "output_type": "stream",
     "text": [
      "T2Echo_recal_H1_#0 completed in 65.06382870674133 secs -> SUCCESS Ⓒ1.0\n",
      "Calibrating node: T1_recal_H2\n",
      "[01-24 23:20:24;I] Celery task ID: 491b3ea3-3828-4e2d-94bf-5461082d7492\n"
     ]
    },
    {
     "data": {
      "text/plain": [
       "Iterations of the circuit:   0%|          | 0/5 [00:00<?, ?it/s]"
      ],
      "application/vnd.jupyter.widget-view+json": {
       "version_major": 2,
       "version_minor": 0,
       "model_id": "d6dd5d6801c04701a7e17f5d607e4e4d"
      }
     },
     "metadata": {},
     "output_type": "display_data"
    },
    {
     "name": "stdout",
     "output_type": "stream",
     "text": [
      "T1_recal_H2_#0 completed in 64.58206129074097 secs -> SUCCESS Ⓒ1.0\n",
      "Calibrating node: T2Ramsey_recal_H2\n"
     ]
    },
    {
     "name": "stderr",
     "output_type": "stream",
     "text": [
      "[01-24 23:21:27;W] The drive frequency of QB4 is set to None, can't detune it.\n"
     ]
    },
    {
     "name": "stdout",
     "output_type": "stream",
     "text": [
      "[01-24 23:21:28;I] Celery task ID: 9f9533b2-f1ce-4629-996c-1d12d614f4f7\n"
     ]
    },
    {
     "data": {
      "text/plain": [
       "Iterations of the circuit:   0%|          | 0/5 [00:00<?, ?it/s]"
      ],
      "application/vnd.jupyter.widget-view+json": {
       "version_major": 2,
       "version_minor": 0,
       "model_id": "9ce36dae9be1496dbd29a9ce2c9d4954"
      }
     },
     "metadata": {},
     "output_type": "display_data"
    },
    {
     "name": "stdout",
     "output_type": "stream",
     "text": [
      "T2Ramsey_recal_H2_#0 completed in 85.75698494911194 secs -> SUCCESS Ⓒ1.0\n",
      "Calibrating node: T2Echo_recal_H2\n",
      "[01-24 23:22:54;I] Celery task ID: 892b7285-3e9b-4820-9d39-5b14b6cbdc7f\n"
     ]
    },
    {
     "data": {
      "text/plain": [
       "Iterations of the circuit:   0%|          | 0/5 [00:00<?, ?it/s]"
      ],
      "application/vnd.jupyter.widget-view+json": {
       "version_major": 2,
       "version_minor": 0,
       "model_id": "1b1ddb4148be4a838f583226b372b702"
      }
     },
     "metadata": {},
     "output_type": "display_data"
    },
    {
     "name": "stdout",
     "output_type": "stream",
     "text": [
      "T2Echo_recal_H2_#0 completed in 64.47709655761719 secs -> SUCCESS Ⓒ1.0\n",
      "Calibrating node: tgss_set_default_cz_implementation_for_rb_recal\n",
      "tgss_set_default_cz_implementation_for_rb_recal_#0 completed in 0.9962389469146729 secs -> SUCCESS Ⓒ1.0\n",
      "Calibrating node: sqb_rb_simultaneous_recal_H1\n",
      "[01-24 23:24:03;I] Celery task ID: 1256691d-df37-4bc3-a965-dc9b16ed8b94\n"
     ]
    },
    {
     "data": {
      "text/plain": [
       "Playlist execution:   0%|          | 0/11 [00:00<?, ?it/s]"
      ],
      "application/vnd.jupyter.widget-view+json": {
       "version_major": 2,
       "version_minor": 0,
       "model_id": "09c34333b1444aa6bc8508525283b23b"
      }
     },
     "metadata": {},
     "output_type": "display_data"
    },
    {
     "name": "stdout",
     "output_type": "stream",
     "text": [
      "sqb_rb_simultaneous_recal_H1_#0 completed in 41.13888359069824 secs -> SUCCESS Ⓒ0.9969675290708652\n",
      "Calibrating node: sqb_rb_simultaneous_recal_H2\n",
      "[01-24 23:24:43;I] Celery task ID: 8df6fd1a-5472-40bd-b165-24ff919891bd\n"
     ]
    },
    {
     "data": {
      "text/plain": [
       "Playlist execution:   0%|          | 0/11 [00:00<?, ?it/s]"
      ],
      "application/vnd.jupyter.widget-view+json": {
       "version_major": 2,
       "version_minor": 0,
       "model_id": "7933946efda2458381c0c89490d040f2"
      }
     },
     "metadata": {},
     "output_type": "display_data"
    },
    {
     "name": "stdout",
     "output_type": "stream",
     "text": [
      "sqb_rb_simultaneous_recal_H2_#0 completed in 38.13106870651245 secs -> SUCCESS Ⓒ0.9987202100365429\n",
      "Calibrating node: tgss_cz_rb_nn_group_recal_S1\n",
      "[01-24 23:25:36;I] Celery task ID: b9f42266-3c5f-4ecb-b2bc-07a1a80fd674\n"
     ]
    },
    {
     "data": {
      "text/plain": [
       "Playlist execution:   0%|          | 0/19 [00:00<?, ?it/s]"
      ],
      "application/vnd.jupyter.widget-view+json": {
       "version_major": 2,
       "version_minor": 0,
       "model_id": "5088715543ed40beb20aebe4881a7d67"
      }
     },
     "metadata": {},
     "output_type": "display_data"
    },
    {
     "name": "stdout",
     "output_type": "stream",
     "text": [
      "tgss_cz_rb_nn_group_recal_S1_#0 completed in 131.40652108192444 secs -> SUCCESS Ⓒ0.9685197565839166\n",
      "Calibrating node: tgss_cz_rb_nn_group_recal_S2\n",
      "[01-24 23:27:34;I] Celery task ID: 4a171541-cded-4c34-91b7-9fc777795184\n"
     ]
    },
    {
     "data": {
      "text/plain": [
       "Playlist execution:   0%|          | 0/19 [00:00<?, ?it/s]"
      ],
      "application/vnd.jupyter.widget-view+json": {
       "version_major": 2,
       "version_minor": 0,
       "model_id": "448245076bfb4a6a9515433b1270b3ba"
      }
     },
     "metadata": {},
     "output_type": "display_data"
    },
    {
     "name": "stdout",
     "output_type": "stream",
     "text": [
      "tgss_cz_rb_nn_group_recal_S2_#0 completed in 119.88267374038696 secs -> OUT_OF_SPEC Ⓒ0.9517421613861823\n",
      "Calibrating node: tgss_cz_rb_nn_group_recal_S3\n",
      "[01-24 23:29:33;I] Celery task ID: c5290793-f372-4c79-8710-b035769f38fe\n"
     ]
    },
    {
     "data": {
      "text/plain": [
       "Playlist execution:   0%|          | 0/19 [00:00<?, ?it/s]"
      ],
      "application/vnd.jupyter.widget-view+json": {
       "version_major": 2,
       "version_minor": 0,
       "model_id": "58de36f9f85140369b854e19e365edfd"
      }
     },
     "metadata": {},
     "output_type": "display_data"
    },
    {
     "name": "stdout",
     "output_type": "stream",
     "text": [
      "tgss_cz_rb_nn_group_recal_S3_#0 completed in 117.58515524864197 secs -> SUCCESS Ⓒ0.9774642638806206\n",
      "Calibrating node: full_run_with_benchmarks_recal\n"
     ]
    },
    {
     "name": "stderr",
     "output_type": "stream",
     "text": [
      "100%|██████████| 3/3 [00:00<00:00, 1808.15it/s]\n"
     ]
    },
    {
     "name": "stdout",
     "output_type": "stream",
     "text": [
      "full_run_with_benchmarks_recal_#0 completed in 1.968658208847046 secs -> SUCCESS Ⓒ0.9806514316988835\n",
      "Calibrating node: full_recalibration\n",
      "full_recalibration_#0 completed in 0.8926033973693848 secs -> SUCCESS Ⓒ-1.0\n",
      "Calibrating node: calibration_set\n",
      "calibration_set_#0 completed in 0.9779641628265381 secs -> SUCCESS Ⓒ-1.0\n",
      "Calibrating node: quality_metric_set\n",
      "quality_metric_set_#0 completed in 0.9855170249938965 secs -> SUCCESS Ⓒ1\n",
      "Calibration process Recalibration graph succeeded\n"
     ]
    },
    {
     "data": {
      "text/plain": [
       "Calibration finished."
      ]
     },
     "execution_count": 14,
     "metadata": {},
     "output_type": "execute_result"
    },
    {
     "data": {
      "text/plain": [
       "<Figure size 640x480 with 0 Axes>"
      ]
     },
     "metadata": {},
     "output_type": "display_data"
    }
   ],
   "execution_count": 14
  },
  {
   "metadata": {},
   "cell_type": "markdown",
   "source": "Then we again update the compiler using the results of the calibration in the same way as before. If the full recalibration was successful, the execution results should hopefully be at least as good as before the recalibration.",
   "id": "b66a419d79e42375"
  },
  {
   "metadata": {
    "ExecuteTime": {
     "end_time": "2025-01-24T21:31:45.755535Z",
     "start_time": "2025-01-24T21:31:42.418141Z"
    }
   },
   "cell_type": "code",
   "source": [
    "stash_after_full_recalibration = calibrator.get_observations(calibrator.nodes.full_recalibration)  # now we use observations from the full recalibration\n",
    "observations = wrapper.filter_stash(stash_after_full_recalibration)\n",
    "calset = calset_from_observations(observations)\n",
    "\n",
    "compiler.set_calibration(calset)\n",
    "compile_and_execute_circuit(compiler)"
   ],
   "id": "f80c2eb1076ae627",
   "outputs": [
    {
     "name": "stdout",
     "output_type": "stream",
     "text": [
      "Playlist:\n",
      "Schedule info:\n",
      " - 6 channels\n",
      " - 1 segments\n",
      " - 9 unique waveforms\n",
      " - 29 unique instructions\n",
      "\n",
      " QB3__drive.awg:\n",
      "    Instruction(duration_samples=598000, operation=Wait())\n",
      "    Instruction(duration_samples=80, operation=IQPulse(wave_i=TruncatedGaussian(n_samples=80, full_width=1.4999999999999998, center_offset=0.0), wave_q=TruncatedGaussianDerivative(n_samples=80, full_width=1.4999999999999998, center_offset=0.0), scale_i=0.09510904221394137, scale_q=-0.0034453074886052846, phase=-1.5707963267948966, modulation_frequency=0.0, phase_increment=0))\n",
      "    Instruction(duration_samples=184, operation=VirtualRZ(phase_increment=-3.5585511910175773))\n",
      "    Instruction(duration_samples=152, operation=VirtualRZ(phase_increment=-3.6347383064376295))\n",
      "    Instruction(duration_samples=3624, operation=Wait())\n",
      "\n",
      "    TruncatedGaussian(n_samples=80, full_width=1.4999999999999998, center_offset=0.0)\n",
      "    TruncatedGaussianDerivative(n_samples=80, full_width=1.4999999999999998, center_offset=0.0)\n",
      "\n",
      " QB1__drive.awg:\n",
      "    Instruction(duration_samples=598000, operation=Wait())\n",
      "    Instruction(duration_samples=80, operation=IQPulse(wave_i=TruncatedGaussian(n_samples=80, full_width=1.4999999999999998, center_offset=0.0), wave_q=TruncatedGaussianDerivative(n_samples=80, full_width=1.4999999999999998, center_offset=0.0), scale_i=0.08604072669553134, scale_q=-0.004711860602511045, phase=-1.5707963267948966, modulation_frequency=0.0, phase_increment=0))\n",
      "    Instruction(duration_samples=184, operation=Wait())\n",
      "    Instruction(duration_samples=152, operation=VirtualRZ(phase_increment=-2.4717177684050253))\n",
      "    Instruction(duration_samples=80, operation=IQPulse(wave_i=TruncatedGaussian(n_samples=80, full_width=1.4999999999999998, center_offset=0.0), wave_q=TruncatedGaussianDerivative(n_samples=80, full_width=1.4999999999999998, center_offset=0.0), scale_i=0.08604072669553134, scale_q=-0.004711860602511045, phase=1.5707963267948966, modulation_frequency=0.0, phase_increment=0))\n",
      "    Instruction(duration_samples=3544, operation=Wait())\n",
      "\n",
      "    TruncatedGaussian(n_samples=80, full_width=1.4999999999999998, center_offset=0.0)\n",
      "    TruncatedGaussianDerivative(n_samples=80, full_width=1.4999999999999998, center_offset=0.0)\n",
      "\n",
      " QB5__drive.awg:\n",
      "    Instruction(duration_samples=598000, operation=Wait())\n",
      "    Instruction(duration_samples=80, operation=IQPulse(wave_i=TruncatedGaussian(n_samples=80, full_width=1.4999999999999998, center_offset=0.0), wave_q=TruncatedGaussianDerivative(n_samples=80, full_width=1.4999999999999998, center_offset=0.0), scale_i=0.08081939025164948, scale_q=-0.00393400457159252, phase=-1.5707963267948966, modulation_frequency=0.0, phase_increment=0))\n",
      "    Instruction(duration_samples=184, operation=VirtualRZ(phase_increment=-2.590258776424484))\n",
      "    Instruction(duration_samples=80, operation=IQPulse(wave_i=TruncatedGaussian(n_samples=80, full_width=1.4999999999999998, center_offset=0.0), wave_q=TruncatedGaussianDerivative(n_samples=80, full_width=1.4999999999999998, center_offset=0.0), scale_i=0.08081939025164948, scale_q=-0.00393400457159252, phase=1.5707963267948966, modulation_frequency=0.0, phase_increment=0))\n",
      "    Instruction(duration_samples=3696, operation=Wait())\n",
      "\n",
      "    TruncatedGaussian(n_samples=80, full_width=1.4999999999999998, center_offset=0.0)\n",
      "    TruncatedGaussianDerivative(n_samples=80, full_width=1.4999999999999998, center_offset=0.0)\n",
      "\n",
      " TC-3-5__flux.awg:\n",
      "    Instruction(duration_samples=598080, operation=Wait())\n",
      "    Instruction(duration_samples=184, operation=RealPulse(wave=TruncatedGaussianSmoothedSquare(n_samples=184, full_width=0.9524525926893731, rise_time=0.05434782608695652, center_offset=0.0), scale=-0.0638663320314446))\n",
      "    Instruction(duration_samples=3776, operation=Wait())\n",
      "\n",
      "    TruncatedGaussianSmoothedSquare(n_samples=184, full_width=0.9524525926893731, rise_time=0.05434782608695652, center_offset=0.0)\n",
      "\n",
      " TC-1-3__flux.awg:\n",
      "    Instruction(duration_samples=598264, operation=Wait())\n",
      "    Instruction(duration_samples=152, operation=RealPulse(wave=TruncatedGaussianSmoothedSquare(n_samples=152, full_width=0.8371707504767604, rise_time=0.06578947368421052, center_offset=0.0), scale=0.0763022484919656))\n",
      "    Instruction(duration_samples=3624, operation=Wait())\n",
      "\n",
      "    TruncatedGaussianSmoothedSquare(n_samples=152, full_width=0.8371707504767604, rise_time=0.06578947368421052, center_offset=0.0)\n",
      "\n",
      " PL_RO-1__readout:\n",
      "    Instruction(duration_samples=598496, operation=Wait())\n",
      "    Instruction(duration_samples=2400, operation=IQPulse(wave_i=Constant(n_samples=2400), wave_q=Constant(n_samples=2400), scale_i=0.08, scale_q=0.0, phase=0.4173830216463785, modulation_frequency=0.1328333333333335, phase_increment=0.0))\n",
      "    Instruction(duration_samples=2400, operation=IQPulse(wave_i=Constant(n_samples=2400), wave_q=Constant(n_samples=2400), scale_i=0.09, scale_q=0.0, phase=-3.0285610502140976, modulation_frequency=-0.0232, phase_increment=0.0))\n",
      "    Instruction(duration_samples=2400, operation=IQPulse(wave_i=Constant(n_samples=2400), wave_q=Constant(n_samples=2400), scale_i=0.06, scale_q=0.0, phase=-0.6759530275020205, modulation_frequency=-0.1159, phase_increment=0.0))\n",
      "    Instruction(duration_samples=2400, operation=IQPulse(wave_i=Constant(n_samples=2400), wave_q=Constant(n_samples=2400), scale_i=0.06, scale_q=0.0, phase=2.659141936459743, modulation_frequency=-0.21126666666666652, phase_increment=0.0))\n",
      "    Instruction(duration_samples=2432, operation=MultiplexedIQPulse(entries=((Instruction(duration_samples=2400, operation=IQPulse(wave_i=Constant(n_samples=2400), wave_q=Constant(n_samples=2400), scale_i=0.08, scale_q=0.0, phase=0.4173830216463785, modulation_frequency=0.1328333333333335, phase_increment=0.0)), 32), (Instruction(duration_samples=2400, operation=IQPulse(wave_i=Constant(n_samples=2400), wave_q=Constant(n_samples=2400), scale_i=0.09, scale_q=0.0, phase=-3.0285610502140976, modulation_frequency=-0.0232, phase_increment=0.0)), 32), (Instruction(duration_samples=2400, operation=IQPulse(wave_i=Constant(n_samples=2400), wave_q=Constant(n_samples=2400), scale_i=0.06, scale_q=0.0, phase=-0.6759530275020205, modulation_frequency=-0.1159, phase_increment=0.0)), 32), (Instruction(duration_samples=2400, operation=IQPulse(wave_i=Constant(n_samples=2400), wave_q=Constant(n_samples=2400), scale_i=0.06, scale_q=0.0, phase=2.659141936459743, modulation_frequency=-0.21126666666666652, phase_increment=0.0)), 32))))\n",
      "    Instruction(duration_samples=3544, operation=ReadoutTrigger(probe_pulse=Instruction(duration_samples=2432, operation=MultiplexedIQPulse(entries=((Instruction(duration_samples=2400, operation=IQPulse(wave_i=Constant(n_samples=2400), wave_q=Constant(n_samples=2400), scale_i=0.08, scale_q=0.0, phase=0.4173830216463785, modulation_frequency=0.1328333333333335, phase_increment=0.0)), 32), (Instruction(duration_samples=2400, operation=IQPulse(wave_i=Constant(n_samples=2400), wave_q=Constant(n_samples=2400), scale_i=0.09, scale_q=0.0, phase=-3.0285610502140976, modulation_frequency=-0.0232, phase_increment=0.0)), 32), (Instruction(duration_samples=2400, operation=IQPulse(wave_i=Constant(n_samples=2400), wave_q=Constant(n_samples=2400), scale_i=0.06, scale_q=0.0, phase=-0.6759530275020205, modulation_frequency=-0.1159, phase_increment=0.0)), 32), (Instruction(duration_samples=2400, operation=IQPulse(wave_i=Constant(n_samples=2400), wave_q=Constant(n_samples=2400), scale_i=0.06, scale_q=0.0, phase=2.659141936459743, modulation_frequency=-0.21126666666666652, phase_increment=0.0)), 32)))), acquisitions=(ThresholdStateDiscrimination(label='QB3__m1', delay_samples=992, weights=IQPulse(wave_i=Constant(n_samples=2400), wave_q=Constant(n_samples=2400), scale_i=1.0, scale_q=0.0, phase=0.0, modulation_frequency=0.1328333333333335, phase_increment=0.0), threshold=0.0101144345467959, feedback_signal_label=''), ThresholdStateDiscrimination(label='QB5__m2', delay_samples=992, weights=IQPulse(wave_i=Constant(n_samples=2400), wave_q=Constant(n_samples=2400), scale_i=1.0, scale_q=0.0, phase=0.0, modulation_frequency=-0.0232, phase_increment=0.0), threshold=-0.01550599676616576, feedback_signal_label=''), ThresholdStateDiscrimination(label='QB1__m3', delay_samples=992, weights=IQPulse(wave_i=Constant(n_samples=2400), wave_q=Constant(n_samples=2400), scale_i=1.0, scale_q=0.0, phase=0.0, modulation_frequency=-0.1159, phase_increment=0.0), threshold=0.007948755234803977, feedback_signal_label=''), ThresholdStateDiscrimination(label='QB2____MEASUREMENT_MODE', delay_samples=992, weights=IQPulse(wave_i=Constant(n_samples=2400), wave_q=Constant(n_samples=2400), scale_i=1.0, scale_q=0.0, phase=0.0, modulation_frequency=-0.21126666666666652, phase_increment=0.0), threshold=-0.001000531491902862, feedback_signal_label=''))))\n",
      "\n",
      "    Constant(n_samples=2400)\n",
      "\n",
      "\n",
      "Settings:\n",
      "\n",
      " \"root\"\n",
      " ║ \n",
      " ╠═ QB3__flux: \"QB3__flux\"\n",
      " ║   ╚─ voltage: Flux voltage at parking spot = 0.06032263109569921 V\n",
      " ╠═ QB3__drive: \"QB3__drive\"\n",
      " ║   ╠─ frequency: Qubit drive frequency, should match the g-e transition frequency at parking spot = 4544975671.893444 Hz\n",
      " ║   ╠─ status:  = True \n",
      " ║   ║ \n",
      " ║   ╠═ awg: \"QB3__drive.awg\"\n",
      " ║   ║   ╠─ trigger_delay: Trigger delay for drive AWG = 4.9978e-07 s\n",
      " ║   ║   ╚─ status:  = True \n",
      " ║   ╚═ local_oscillator: \"QB3__drive.local_oscillator\"\n",
      " ║       ╚─ status:  = True \n",
      " ╠═ QB1__flux: \"QB1__flux\"\n",
      " ║   ╚─ voltage: Flux voltage at parking spot = 0.6573683138656004 V\n",
      " ╠═ QB1__drive: \"QB1__drive\"\n",
      " ║   ╠─ frequency: Qubit drive frequency, should match the g-e transition frequency at parking spot = 4340851508.042213 Hz\n",
      " ║   ╠─ status:  = True \n",
      " ║   ║ \n",
      " ║   ╠═ awg: \"QB1__drive.awg\"\n",
      " ║   ║   ╠─ trigger_delay: Trigger delay for drive AWG = 5.021e-07 s\n",
      " ║   ║   ╚─ status:  = True \n",
      " ║   ╚═ local_oscillator: \"QB1__drive.local_oscillator\"\n",
      " ║       ╚─ status:  = True \n",
      " ╠═ QB5__flux: \"QB5__flux\"\n",
      " ║   ╚─ voltage: Flux voltage at parking spot = -0.6209804866978091 V\n",
      " ╠═ QB5__drive: \"QB5__drive\"\n",
      " ║   ╠─ frequency: Qubit drive frequency, should match the g-e transition frequency at parking spot = 4339290737.644638 Hz\n",
      " ║   ╠─ status:  = True \n",
      " ║   ║ \n",
      " ║   ╠═ awg: \"QB5__drive.awg\"\n",
      " ║   ║   ╠─ trigger_delay: Trigger delay for drive AWG = 5.0122e-07 s\n",
      " ║   ║   ╚─ status:  = True \n",
      " ║   ╚═ local_oscillator: \"QB5__drive.local_oscillator\"\n",
      " ║       ╚─ status:  = True \n",
      " ╠═ TC-3-5__flux: \"TC-3-5__flux\"\n",
      " ║   ╠─ voltage: Flux voltage at idling spot = -0.0948 V\n",
      " ║   ║ \n",
      " ║   ╚═ awg: \"TC-3-5__flux.awg\"\n",
      " ║       ╠─ trigger_delay: Trigger delay for flux AWG = 2.5e-08 s\n",
      " ║       ╠─ status:  = True \n",
      " ║       ║ \n",
      " ║       ╚═ precompensation: \"TC-3-5__flux.awg.precompensation\"\n",
      " ║           ╠─ timeconstants: Precompensation timeconstants = [] \n",
      " ║           ╚─ amplitudes: Precompensation amplitudes = [] \n",
      " ╠═ TC-1-3__flux: \"TC-1-3__flux\"\n",
      " ║   ╠─ voltage: Flux voltage at idling spot = -0.0554 V\n",
      " ║   ║ \n",
      " ║   ╚═ awg: \"TC-1-3__flux.awg\"\n",
      " ║       ╠─ trigger_delay: Trigger delay for flux AWG = 2.1e-08 s\n",
      " ║       ╠─ status:  = True \n",
      " ║       ║ \n",
      " ║       ╚═ precompensation: \"TC-1-3__flux.awg.precompensation\"\n",
      " ║           ╠─ timeconstants: Precompensation timeconstants = [] \n",
      " ║           ╚─ amplitudes: Precompensation amplitudes = [] \n",
      " ╠═ PL_RO-1__twpa: \"PL_RO-1__twpa\"\n",
      " ║   ╠─ status: On/Off status of TWPA = True \n",
      " ║   ╠─ voltage_1: TWPA bias voltage_1 = 0.604 V\n",
      " ║   ╠─ voltage_2: TWPA bias voltage_2 = -0.604 V\n",
      " ║   ╠─ frequency: Frequency of the LO driving the TWPA = 9580000000 Hz\n",
      " ║   ╚─ power: Power of the LO driving the TWPA = 15.5 dBm\n",
      " ╠═ PL_RO-1__readout: \"PL_RO-1__readout\"\n",
      " ║   ╠─ center_frequency: Probe line center frequency = 5550000000.0 Hz\n",
      " ║   ╠─ trigger_delay: Trigger delay for readout instrument = 4.48e-07 s\n",
      " ║   ║ \n",
      " ║   ╚═ local_oscillator: \"PL_RO-1__readout.local_oscillator\"\n",
      " ║       ╚─ status:  = True \n",
      " ╠═ QB4__flux: \"QB4__flux\"\n",
      " ║   ╚─ voltage: Flux voltage at parking spot = -0.017818924978549647 V\n",
      " ╠═ QB2__flux: \"QB2__flux\"\n",
      " ║   ╚─ voltage: Flux voltage at parking spot = 0.41040858061143026 V\n",
      " ╠═ TC-3-4__flux: \"TC-3-4__flux\"\n",
      " ║   ╠─ voltage: Flux voltage at idling spot = -0.0921 V\n",
      " ║   ║ \n",
      " ║   ╚═ awg: \"TC-3-4__flux.awg\"\n",
      " ║       ╚─ status:  = True \n",
      " ╠═ TC-2-3__flux: \"TC-2-3__flux\"\n",
      " ║   ╠─ voltage: Flux voltage at idling spot = 0.0165 V\n",
      " ║   ║ \n",
      " ║   ╚═ awg: \"TC-2-3__flux.awg\"\n",
      " ║       ╚─ status:  = True \n",
      " ╚═ options: \"options\"\n",
      "     ╠─ end_delay: Delay from end of sequence to next trigger = 1e-06 s\n",
      "     ╠─ averaging_bins: Average the repeats into this many bins = 1000 \n",
      "     ╚─ playlist_repeats: Number of times to repeat execution of corresponding playlist = 1000 \n",
      "[01-24 23:31:43;I] Submitted sweep with ID: 0b113c64-3643-4176-941b-143702a33f70\n",
      "[01-24 23:31:43;I] Created task in queue with ID: bac274d6-7ba9-49ae-a69a-ad1a72df400c\n",
      "[01-24 23:31:43;I] Sweep link: http://varda.qc.iqm.fi/station/sweeps/0b113c64-3643-4176-941b-143702a33f70\n",
      "[01-24 23:31:43;I] Task link: http://varda.qc.iqm.fi/station/tasks/bac274d6-7ba9-49ae-a69a-ad1a72df400c\n",
      "[01-24 23:31:43;I] Waiting for the sweep to finish...\n",
      "SweepStatus.PROGRESS\n",
      "SweepStatus.SUCCESS\n",
      "[01-24 23:31:44;I] Sweep status: SweepStatus.SUCCESS\n",
      "Qiskit result counts:\n",
      "{'110': 25, '000': 386, '111': 356, '010': 45, '101': 47, '011': 55, '100': 68, '001': 18}\n",
      "\n"
     ]
    }
   ],
   "execution_count": 15
  }
 ],
 "metadata": {
  "kernelspec": {
   "display_name": "Python 3",
   "language": "python",
   "name": "python3"
  },
  "language_info": {
   "codemirror_mode": {
    "name": "ipython",
    "version": 2
   },
   "file_extension": ".py",
   "mimetype": "text/x-python",
   "name": "python",
   "nbconvert_exporter": "python",
   "pygments_lexer": "ipython2",
   "version": "2.7.6"
  }
 },
 "nbformat": 4,
 "nbformat_minor": 5
}

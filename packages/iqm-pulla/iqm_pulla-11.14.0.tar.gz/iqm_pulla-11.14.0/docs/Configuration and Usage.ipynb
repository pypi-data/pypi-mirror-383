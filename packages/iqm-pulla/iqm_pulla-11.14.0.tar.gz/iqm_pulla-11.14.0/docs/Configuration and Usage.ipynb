{
 "cells": [
  {
   "cell_type": "markdown",
   "id": "c369ec22",
   "metadata": {},
   "source": [
    "# Configuration and Usage\n",
    "\n",
    "This notebook describes the basic concepts and configuration of Pulla.\n",
    "\n",
    "## Basics"
   ]
  },
  {
   "cell_type": "code",
   "execution_count": 1,
   "id": "aa726584",
   "metadata": {
    "ExecuteTime": {
     "end_time": "2024-07-15T09:46:58.809295Z",
     "start_time": "2024-07-15T09:46:58.482773Z"
    }
   },
   "outputs": [],
   "source": [
    "import os\n",
    "from pprint import pprint\n",
    "from qiskit import QuantumCircuit\n",
    "from qiskit.compiler import transpile\n",
    "from iqm.qiskit_iqm import IQMProvider\n",
    "from iqm.qiskit_iqm.iqm_transpilation import optimize_single_qubit_gates\n",
    "from iqm.pulla.utils_qiskit import qiskit_to_pulla"
   ]
  },
  {
   "cell_type": "markdown",
   "id": "c0d5f768",
   "metadata": {},
   "source": [
    "Now let's create a Pulla object.\n",
    "\n",
    "A Pulla object is conceptually an **IQM quantum computer client for fetching calibration data and constructing a circuit-to-pulse compiler.**. It consists of:\n",
    "\n",
    "- methods for fetching calibration sets from the server\n",
    "- methods for fetching metadata about the QC from the server\n",
    "- method for executing pulse-level instruction schedules (e.g. ones created by the compiler)\n",
    "\n",
    "A Compiler object defines a **particular circuit-to-pulse compilation logic**. It consists of:\n",
    "\n",
    "- single calibration set\n",
    "- schedule builder based on the calibration set\n",
    "- circuit compilation options\n",
    "- information about the QC (chip topology, channel properties, etc.)\n",
    "- compilation stages\n",
    "- set of available circuit-level quantum operations (\"native operations\") (including user-defined operations)\n",
    "- set of implementations for each native operation (including user-defined implementations)\n",
    "- methods for manipulating the calibration, operations, and implementations\n",
    "\n",
    "Pulla can construct a standard compiler equivalent to the one used by the server side (CoCoS). You can also construct a Compiler manually.\n",
    "\n",
    "To create an instance of Pulla, you need to provide the URL of Station Control. Upon successful initialization, some configuration data is printed (the verbosity of such messages will be controlled by a debug level value)."
   ]
  },
  {
   "cell_type": "code",
   "execution_count": 2,
   "id": "507385f0",
   "metadata": {
    "ExecuteTime": {
     "end_time": "2024-07-15T09:47:31.529589Z",
     "start_time": "2024-07-15T09:47:23.417210Z"
    }
   },
   "outputs": [],
   "source": [
    "from iqm.pulla.pulla import Pulla\n",
    "\n",
    "station_control_url = os.environ['PULLA_STATION_CONTROL_URL']  # or set the URL directly here\n",
    "\n",
    "p = Pulla(station_control_url)"
   ]
  },
  {
   "cell_type": "markdown",
   "id": "378fc082",
   "metadata": {},
   "source": [
    "You can access various things like channel properties of the connected station, chip topology, or the current calibration. The initial calibration is the latest calibration of the connected station. "
   ]
  },
  {
   "cell_type": "code",
   "execution_count": 3,
   "id": "79610d10",
   "metadata": {
    "ExecuteTime": {
     "end_time": "2024-07-12T18:26:44.460936Z",
     "start_time": "2024-07-12T18:26:44.360366Z"
    }
   },
   "outputs": [
    {
     "name": "stdout",
     "output_type": "stream",
     "text": [
      "ChannelProperties(sample_rate=2000000000,\n",
      "                  instruction_duration_granularity=8,\n",
      "                  instruction_duration_min=8,\n",
      "                  compatible_instructions=(),\n",
      "                  is_iq=True,\n",
      "                  is_virtual=False,\n",
      "                  blocks_component=True)\n"
     ]
    }
   ],
   "source": [
    "pprint(p.get_channel_properties()[0]['QB1__drive.awg'])"
   ]
  },
  {
   "cell_type": "code",
   "execution_count": 4,
   "id": "6bd02ba4",
   "metadata": {
    "ExecuteTime": {
     "end_time": "2024-07-12T18:26:47.093634Z",
     "start_time": "2024-07-12T18:26:47.020567Z"
    }
   },
   "outputs": [
    {
     "data": {
      "text/plain": [
       "'TC-1-3'"
      ]
     },
     "execution_count": 4,
     "metadata": {},
     "output_type": "execute_result"
    }
   ],
   "source": [
    "p.get_chip_topology().get_coupler_for('QB1', 'QB3')"
   ]
  },
  {
   "cell_type": "markdown",
   "id": "02a29eb8",
   "metadata": {},
   "source": [
    "Call `get_standard_compiler()` method to get an instance of `Compiler`. It will be pre-populated with the latest default calibration set and standard compilation stages. This standard compiler is the same one that CoCoS uses on the server side when processing circuits."
   ]
  },
  {
   "cell_type": "code",
   "execution_count": 5,
   "id": "2a63a4fc",
   "metadata": {},
   "outputs": [],
   "source": [
    "compiler = p.get_standard_compiler()"
   ]
  },
  {
   "cell_type": "code",
   "execution_count": 6,
   "id": "7e1f05a0",
   "metadata": {
    "ExecuteTime": {
     "end_time": "2024-07-12T18:27:05.909017Z",
     "start_time": "2024-07-12T18:27:05.820685Z"
    }
   },
   "outputs": [
    {
     "name": "stdout",
     "output_type": "stream",
     "text": [
      "{'controllers.QB1.drive.awg.center_frequency': 4500000000.0,\n",
      " 'controllers.QB1.drive.awg.trigger_delay': 5.021e-07,\n",
      " 'controllers.QB1.drive.frequency': 4348389108.22752,\n",
      " 'controllers.QB1.flux.voltage': 0.48763612741829193}\n"
     ]
    }
   ],
   "source": [
    "# get_calibration() returns the entire calibration set\n",
    "# here we filter the data to get just the instrument settings of QB1\n",
    "\n",
    "pprint({k: v for k, v in compiler.get_calibration().items() if k.startswith('controllers.QB1')})"
   ]
  },
  {
   "cell_type": "markdown",
   "id": "dd9d6ef4",
   "metadata": {},
   "source": [
    "`get_standard_compiler()` fetches the latest calibration set from the server. This network request takes a few moments. You may want to create many Compiler instances without such delay.\n",
    "\n",
    "It may also be possible that, due to human error, the latest calibration set stored on the server is invalid (or incompatible with your version of Pulla or IQM Pulse). In that case `get_standard_compiler()` will fail. \n",
    "\n",
    "To avoid this, you can pass the calibration set manually, and Pulla will construct the compiler with it instead of getting one from the server. If you want to reuse the calibration of an existing compiler, call `Compiler.get_calibration()`, e.g.:\n",
    "\n",
    "```python\n",
    "compiler_new = p.get_standard_compiler(calibration_set=compiler_old.get_calibration())\n",
    "```\n",
    "\n",
    "You can also get a specific calibration set from the server if you know its UUID by calling `Pulla.fetch_calibration_set_by_id()`, e.g.:\n",
    "\n",
    "```python\n",
    "specific_cal_set = p.fetch_calibration_set_by_id('fe026208-19aa-4906-93ab-06ba3c86100f')\n",
    "compiler = p.get_standard_compiler(calibration_set=specific_cal_set)\n",
    "```"
   ]
  },
  {
   "cell_type": "markdown",
   "id": "aaee44f7",
   "metadata": {},
   "source": [
    "The compiler initializes with the following default configuration options:\n",
    "\n",
    "- `circuit_boundary_mode='all'`\n",
    "- `measurement_mode='all'`\n",
    "- `heralding_mode='none'`\n",
    "- `dd_mode='none'`\n",
    "\n",
    "You can change them by changing the corresponding attributes of `compiler.options`."
   ]
  },
  {
   "cell_type": "markdown",
   "id": "3852e18e",
   "metadata": {},
   "source": [
    "## Complex readout\n",
    "\n",
    "For the `constant` implementation of the `measure` operation, the readout type is controlled by the `acquisition_type` parameter. By default, it's set to `\"threshold\"`. Let's change it to `\"complex\"`. The full key in the calibration set dictionary is `gates.measure.constant.QUBIT.acquisition_type`, where `QUBIT` is the physical qubit name. \n",
    "\n",
    "Note that we call `get_calibration()` to get a copy of the compiler's current calibration set, make changes to the copy, then replace the compiler's set with the copy. The compiler always contains a single calibration set only."
   ]
  },
  {
   "cell_type": "code",
   "execution_count": 7,
   "id": "80d2c0a8",
   "metadata": {},
   "outputs": [
    {
     "name": "stdout",
     "output_type": "stream",
     "text": [
      "[06-17 14:44:00;I] Created job in queue with ID: f3917fe0-a1d3-4d0d-87dc-06300738839b\n",
      "[06-17 14:44:00;I] Job link: http://varda.qc.iqm.fi/station/jobs/f3917fe0-a1d3-4d0d-87dc-06300738839b\n",
      "[06-17 14:44:00;I] Waiting for the job to finish...\n",
      "[06-17 14:44:01;I] Waiting for job ID: f3917fe0-a1d3-4d0d-87dc-06300738839b\n",
      "[06-17 14:44:03;I] Sweep status: ready\n",
      "Raw results:\n",
      "[{'meas_3_1_2': [[(-0.004069618054976066+0.044584868128101036j)], [(-0.009010526090860367+0.04521688704689344j)], [(-0.005457488770286243+0.04069884149357677j)], [(-0.019717537785569828+0.04068584050362309j)], [(-0.014776446806887786+0.0407774516257147j)], [(-0.005077934470027685+0.043093412406742575j)], [(-0.01703992574165265+0.03919237102692326j)], [(-0.02089414958531658+0.03935748310138782j)], [(-0.004082951831320921+0.04183203347648184j)], [(-0.016026709278424582+0.043600302773217366j)]], 'meas_3_1_1': [[(0.003939125500619411-0.0028286848030984403j)], [(0.0017112398147583008-0.0028760674037039283j)], [(0.004765388605495294-0.0057486810597280665j)], [(-0.005619589127600194+0.002789648020019134j)], [(-0.005996218398213387-0.0009911660042901834j)], [(0.00519420308371385-0.003704253478596608j)], [(-0.007004751842468977+7.261164486408234e-05j)], [(-0.004369511989255746-0.0008788697049021721j)], [(0.0035321899130940438-0.0031758802632490795j)], [(-0.005249465958525737-0.001876951064914465j)]], 'meas_3_1_0': [[(0.01191765586535136+0.005799734188864629j)], [(0.013215244375169279+0.0023560794939597447j)], [(0.012529689831038316+0.001752589779595534j)], [(0.006219397181024155+0.007564609919985136j)], [(0.005417316077897946+0.004208895601332188j)], [(0.014259080489476522+0.005666593487064044j)], [(0.005243835989385844+0.003928203247487545j)], [(0.006339223111669223+0.0030599165521562103j)], [(0.01575456033771237+0.001976715705047051j)], [(0.004999476323525111+0.004320879957328241j)]]}]\n",
      "\n"
     ]
    }
   ],
   "source": [
    "cocos_url = os.environ['PULLA_COCOS_URL']  # or set the URL directly here\n",
    "\n",
    "provider = IQMProvider(cocos_url)\n",
    "backend = provider.get_backend()\n",
    "shots = 10\n",
    "\n",
    "qc = QuantumCircuit(3, 3)\n",
    "qc.h(0)\n",
    "qc.cx(0, 1)\n",
    "qc.cx(0, 2)\n",
    "qc.measure_all()\n",
    "\n",
    "qc_transpiled = transpile(qc, backend=backend, layout_method='sabre', optimization_level=3)\n",
    "circuits, compiler = qiskit_to_pulla(p, backend, qc_transpiled)\n",
    "\n",
    "# change the acquisition type to 'complex' in the calibration set\n",
    "updated_cal_set = compiler.get_calibration()\n",
    "for qubit in backend.physical_qubits:\n",
    "    updated_cal_set[f'gates.measure.constant.{qubit}.acquisition_type'] = 'complex'\n",
    "compiler.set_calibration(updated_cal_set)\n",
    "\n",
    "playlist, context = compiler.compile(circuits)\n",
    "settings, context = compiler.build_settings(context, shots=shots)\n",
    "response_data = p.execute(playlist, context, settings, verbose=False)\n",
    "\n",
    "# execute() returns a StationControlResult object; the measurements are in StationControlResult.result\n",
    "# in addition, by default execute() prints the measurement results; disable it with verbose=False\n",
    "\n",
    "print(f\"Raw results:\\n{response_data.result}\\n\")"
   ]
  }
 ],
 "metadata": {
  "kernelspec": {
   "display_name": "Python 3 (ipykernel)",
   "language": "python",
   "name": "python3"
  },
  "language_info": {
   "codemirror_mode": {
    "name": "ipython",
    "version": 3
   },
   "file_extension": ".py",
   "mimetype": "text/x-python",
   "name": "python",
   "nbconvert_exporter": "python",
   "pygments_lexer": "ipython3",
   "version": "3.11.11"
  }
 },
 "nbformat": 4,
 "nbformat_minor": 5
}

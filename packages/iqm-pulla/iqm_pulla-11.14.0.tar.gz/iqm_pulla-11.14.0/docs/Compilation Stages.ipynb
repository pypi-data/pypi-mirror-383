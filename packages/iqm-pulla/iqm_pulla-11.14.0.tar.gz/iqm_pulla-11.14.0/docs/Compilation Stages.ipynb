{
 "cells": [
  {
   "cell_type": "markdown",
   "id": "c369ec22",
   "metadata": {},
   "source": [
    "# Compilation Stages\n"
   ]
  },
  {
   "cell_type": "markdown",
   "id": "5f6ec43b",
   "metadata": {},
   "source": [
    "## Custom compilation stage\n",
    "\n",
    "The generic lifecycle of a Pulla job is a one-way multi-step transformation. The states are as follow:\n",
    "\n",
    "1. Quantum Circuit in a specific format (e.g. Qiskit, Cirq)\n",
    "2. Equivalent Quantum Circuit in an IQM Pulse format (list of CircuitOperations)\n",
    "3. IQM Pulse nested Timebox representation\n",
    "4. IQM Pulse Schedule representation\n",
    "5. Measurement results\n",
    "\n",
    "You don't have to start with a circuit, you can define quantum operations directly (roughly starting from state 2), or define pulse shapes directly (roughly starting from state 3 or 4). The compilation which produces states 3 and 4 is itself multi-step: it consists of multiple stages, and each stage of one or more passes. \n",
    "\n",
    "Let's go over the generic use case, starting from creating a Qiskit circuit to work on:"
   ]
  },
  {
   "cell_type": "code",
   "execution_count": 1,
   "id": "e49cf928",
   "metadata": {},
   "outputs": [],
   "source": [
    "import os\n",
    "from math import pi\n",
    "from pprint import pprint\n",
    "from qiskit import QuantumCircuit, visualization\n",
    "from qiskit.compiler import transpile\n",
    "from iqm.qiskit_iqm import IQMProvider\n",
    "from iqm.qiskit_iqm.iqm_transpilation import optimize_single_qubit_gates\n",
    "from iqm.pulla.pulla import Pulla\n",
    "from iqm.pulla.utils_qiskit import station_control_result_to_qiskit"
   ]
  },
  {
   "cell_type": "code",
   "execution_count": 2,
   "id": "f2a877bd",
   "metadata": {
    "ExecuteTime": {
     "end_time": "2024-07-15T09:48:06.131036Z",
     "start_time": "2024-07-15T09:48:01.641177Z"
    },
    "scrolled": true
   },
   "outputs": [
    {
     "data": {
      "image/png": "[encoded data removed]",
      "text/plain": [
       "<Figure size 831.22x367.889 with 1 Axes>"
      ]
     },
     "execution_count": 2,
     "metadata": {},
     "output_type": "execute_result"
    }
   ],
   "source": [
    "cocos_url = os.environ['PULLA_COCOS_URL']  # or set the URL directly here\n",
    "station_control_url = os.environ['PULLA_STATION_CONTROL_URL']  # or set the URL directly here\n",
    "\n",
    "provider = IQMProvider(cocos_url)\n",
    "backend = provider.get_backend()\n",
    "\n",
    "qc = QuantumCircuit(3, 3)\n",
    "qc.h(0)\n",
    "qc.cx(0, 1)\n",
    "qc.cx(0, 2)\n",
    "qc.measure_all()\n",
    "\n",
    "# Transpile, route and optimize the circuit\n",
    "qc_transpiled = transpile(qc, backend=backend, layout_method='sabre', optimization_level=3)\n",
    "qc_optimized = optimize_single_qubit_gates(qc_transpiled)\n",
    "\n",
    "# Print the circuit\n",
    "qc_optimized.draw(output='mpl', style=\"clifford\", idle_wires=False)"
   ]
  },
  {
   "cell_type": "markdown",
   "id": "c2ea49b7",
   "metadata": {},
   "source": [
    "Pulla has utility functions which accept circuits in different formats (Qiskit, Cirq, IQM JSON) and convert them into Pulla/IQM Pulse format, which is a list of `CircuitOperation` objects. Let's do that. Note that none of the operations have an implementation specified (`implementation=None`).\n",
    "\n",
    "The Qiskit conversion utility also gives us a standard compiler with the same calibration set as the one used by `backend`, in this case the current default one."
   ]
  },
  {
   "cell_type": "code",
   "execution_count": 3,
   "id": "7fff2e62",
   "metadata": {
    "ExecuteTime": {
     "end_time": "2024-07-15T09:48:06.152994Z",
     "start_time": "2024-07-15T09:48:06.134037Z"
    },
    "scrolled": true
   },
   "outputs": [
    {
     "name": "stderr",
     "output_type": "stream",
     "text": [
      "[11-26 14:02:08;W] station-control-client version '1.23' is newer minor version than '1.18' used by the station control server, some new client features might not be supported.\n"
     ]
    },
    {
     "name": "stdout",
     "output_type": "stream",
     "text": [
      "Circuit(name='circuit-166',\n",
      "        instructions=(CircuitOperation(name='prx',\n",
      "                                       locus=('0',),\n",
      "                                       args={'angle_t': 0.25, 'phase_t': 0.75},\n",
      "                                       implementation=None),\n",
      "                      CircuitOperation(name='prx',\n",
      "                                       locus=('2',),\n",
      "                                       args={'angle_t': 0.25, 'phase_t': 0.75},\n",
      "                                       implementation=None),\n",
      "                      CircuitOperation(name='cz',\n",
      "                                       locus=('2', '0'),\n",
      "                                       args={},\n",
      "                                       implementation=None),\n",
      "                      CircuitOperation(name='prx',\n",
      "                                       locus=('0',),\n",
      "                                       args={'angle_t': 0.25, 'phase_t': 1.25},\n",
      "                                       implementation=None),\n",
      "                      CircuitOperation(name='prx',\n",
      "                                       locus=('4',),\n",
      "                                       args={'angle_t': 0.25, 'phase_t': 0.75},\n",
      "                                       implementation=None),\n",
      "                      CircuitOperation(name='cz',\n",
      "                                       locus=('2', '4'),\n",
      "                                       args={},\n",
      "                                       implementation=None),\n",
      "                      CircuitOperation(name='prx',\n",
      "                                       locus=('4',),\n",
      "                                       args={'angle_t': 0.25, 'phase_t': 1.25},\n",
      "                                       implementation=None),\n",
      "                      CircuitOperation(name='barrier',\n",
      "                                       locus=('2', '0', '4'),\n",
      "                                       args={},\n",
      "                                       implementation=None),\n",
      "                      CircuitOperation(name='measure',\n",
      "                                       locus=('2',),\n",
      "                                       args={'key': 'meas_3_1_0'},\n",
      "                                       implementation=None),\n",
      "                      CircuitOperation(name='measure',\n",
      "                                       locus=('0',),\n",
      "                                       args={'key': 'meas_3_1_1'},\n",
      "                                       implementation=None),\n",
      "                      CircuitOperation(name='measure',\n",
      "                                       locus=('4',),\n",
      "                                       args={'key': 'meas_3_1_2'},\n",
      "                                       implementation=None)))\n"
     ]
    }
   ],
   "source": [
    "from iqm.pulla.utils_qiskit import qiskit_to_pulla\n",
    "\n",
    "p = Pulla(station_control_url)\n",
    "circuits, compiler = qiskit_to_pulla(p, backend, qc_optimized)\n",
    "\n",
    "pprint(circuits[0])"
   ]
  },
  {
   "cell_type": "markdown",
   "id": "83902c8a",
   "metadata": {},
   "source": [
    "In order to understand how the compilation stages work, let's remove the standard stages from the compiler:"
   ]
  },
  {
   "cell_type": "code",
   "execution_count": 4,
   "id": "7e8ed78c",
   "metadata": {
    "ExecuteTime": {
     "end_time": "2024-07-15T09:48:10.913271Z",
     "start_time": "2024-07-15T09:48:10.760738Z"
    },
    "scrolled": true
   },
   "outputs": [],
   "source": [
    "compiler.stages = []"
   ]
  },
  {
   "cell_type": "markdown",
   "id": "b39a8e8a",
   "metadata": {},
   "source": [
    "You can check the readiness of the compiler by calling `compiler.ready()`. Right now it would return `False` due to empty stages list.\n",
    "\n",
    "The compiler flow consists of one or more stages, and each stage consists of one or more passes. When the compiler is initialized created by Pulla, it is pre-populated with standard stages. \n",
    "\n",
    "You can define your own stages, with your own passes, grouping them in some meaningful way. Each pass is a function which accepts two arguments: data and context. Data is an iterable of objects of an applicable data type, and context is a dictionary of any additional information. Each pass can transform the data and modify the context, and must return both data and context. This convention allows the compiler to pipe arbitrary amount of passes.\n",
    "\n",
    "A stage is just an ordered collection of passes. The compiler has methods `run_stage()` and `run_pass()` allowing you to run particular stages or passes. The `compile()` method is just calling `run_stage()` in correct order and passes its initial context to the first pass of the first stage. \n",
    "\n",
    "Let's write a simple compilation stage to illustrate the concept:"
   ]
  },
  {
   "cell_type": "code",
   "execution_count": 5,
   "id": "33d6ce32",
   "metadata": {
    "ExecuteTime": {
     "end_time": "2024-07-13T16:38:55.440971Z",
     "start_time": "2024-07-13T16:38:55.336977Z"
    }
   },
   "outputs": [],
   "source": [
    "from iqm.cpc.compiler.compiler import CompilationStage\n",
    "\n",
    "my_stage = CompilationStage(name=\"my_stage\")"
   ]
  },
  {
   "cell_type": "markdown",
   "id": "8eb80b8c",
   "metadata": {},
   "source": [
    "Now let's write two simple passes for that stage. For the first: perhaps we want to add a leading barrier to each circuit.\n",
    "`add_leading_barrier` below determines the locations of qubits used in the circuit and adds a barrier on those qubits as the first instruction."
   ]
  },
  {
   "cell_type": "code",
   "execution_count": 6,
   "id": "51312b00",
   "metadata": {
    "ExecuteTime": {
     "end_time": "2024-07-13T16:38:57.277717Z",
     "start_time": "2024-07-13T16:38:57.072773Z"
    }
   },
   "outputs": [],
   "source": [
    "from iqm.pulse import CircuitOperation\n",
    "\n",
    "\n",
    "def add_leading_barrier(circuits, context):\n",
    "    \"\"\"Add leading barrier on all used qubits.\"\"\"\n",
    "    for circuit in circuits:\n",
    "        loci = [inst.locus for inst in circuit.instructions]\n",
    "        loci = [i for sub in loci for i in sub]\n",
    "        loci = tuple(set(loci))\n",
    "        new_barrier = CircuitOperation(name='barrier', locus=loci, args={}, implementation=None)\n",
    "        circuit.instructions = (new_barrier,) + circuit.instructions\n",
    "    return circuits, context"
   ]
  },
  {
   "cell_type": "markdown",
   "id": "0b548201",
   "metadata": {},
   "source": [
    "Note that the function takes data and context and returns data and context. It happens to neither use nor modify the context, but it should still provide it down to the next passes.\n",
    "\n",
    "Ok, let's define another pass: this one would increase the phase of each `prx` operation by `0.5 * pi`. This may or may\n",
    "not make practical sense, but bear with us for the purposes of illustration:"
   ]
  },
  {
   "cell_type": "code",
   "execution_count": 7,
   "id": "c08e1a73",
   "metadata": {
    "ExecuteTime": {
     "end_time": "2024-07-13T16:38:58.910013Z",
     "start_time": "2024-07-13T16:38:58.792967Z"
    }
   },
   "outputs": [],
   "source": [
    "def increase_phase(circuits, context):\n",
    "    \"\"\"Add 0.5*pi to phase of each prx gate.\"\"\"\n",
    "    for circuit in circuits:\n",
    "        for instruction in circuit.instructions:\n",
    "            if instruction.name == 'prx':\n",
    "                print(instruction.args)\n",
    "                instruction.args['phase'] += 0.5 * pi\n",
    "    return circuits, context"
   ]
  },
  {
   "cell_type": "markdown",
   "id": "8c6861bc",
   "metadata": {},
   "source": [
    "Now let's add those two passes to our stage, then replace the empty `stages` property of the compiler with a list consisting of our single stage, and then call `show_stages()`:"
   ]
  },
  {
   "cell_type": "code",
   "execution_count": 8,
   "id": "90e332e5",
   "metadata": {
    "ExecuteTime": {
     "end_time": "2024-07-13T16:39:00.662868Z",
     "start_time": "2024-07-13T16:39:00.578471Z"
    }
   },
   "outputs": [
    {
     "name": "stdout",
     "output_type": "stream",
     "text": [
      "Stage 0: my_stage\n",
      "    0: add_leading_barrier\n",
      "        Add leading barrier on all used qubits.\n",
      "    1: increase_phase\n",
      "        Add 0.25 to phase_t of each prx gate.\n",
      "\n",
      "\n"
     ]
    }
   ],
   "source": [
    "my_stage.add_passes(add_leading_barrier, increase_phase)\n",
    "compiler.stages = [my_stage]\n",
    "\n",
    "compiler.show_stages(full=True)"
   ]
  },
  {
   "cell_type": "markdown",
   "id": "a8c3824f",
   "metadata": {},
   "source": [
    "The boolean flag `full` of `show_stages()` is optional; when `True`, the doc strings of each pass are printed on the screen. \n",
    "\n",
    "Now that the compiler is ready and we can run `compile`. The compiler always operates on batches of circuits, so you need to provide an iterable; in our case, it's a list with a single circuit. "
   ]
  },
  {
   "cell_type": "code",
   "execution_count": 9,
   "id": "11a85f03",
   "metadata": {
    "ExecuteTime": {
     "end_time": "2024-07-15T09:48:19.283089Z",
     "start_time": "2024-07-15T09:48:19.159849Z"
    }
   },
   "outputs": [
    {
     "name": "stdout",
     "output_type": "stream",
     "text": [
      "{'angle_t': 0.25, 'phase_t': 0.75}\n",
      "{'angle_t': 0.25, 'phase_t': 0.75}\n",
      "{'angle_t': 0.25, 'phase_t': 1.25}\n",
      "{'angle_t': 0.25, 'phase_t': 0.75}\n",
      "{'angle_t': 0.25, 'phase_t': 1.25}\n"
     ]
    }
   ],
   "source": [
    "data, context = compiler.compile(circuits)"
   ]
  },
  {
   "cell_type": "markdown",
   "id": "85c2c017",
   "metadata": {},
   "source": [
    "Note that it did not really compile the circuits into pulse schedules, because the only passes we've defined only modify the circuits, but don't perform the conversion to pulse schedules. The compilation to pulse schedules usually consists of converting circuits to `TimeBox`es, then resolving `TimeBox`es into a single `TimeBox`, then resolving it into a `Schedule`, and finally converting a `Schedule` into a final `Schedule` ready to be submitted to the server. "
   ]
  },
  {
   "cell_type": "markdown",
   "id": "5c13b432",
   "metadata": {},
   "source": [
    "There might be cases when your compilation stages need additional data. You can provide such data as a custom context dictionary. Get the initial compiler context and modify it, then pass it when calling `compile`."
   ]
  },
  {
   "cell_type": "code",
   "execution_count": 10,
   "id": "706de183",
   "metadata": {},
   "outputs": [
    {
     "name": "stdout",
     "output_type": "stream",
     "text": [
      "{'angle_t': 0.25, 'phase_t': 1.0}\n",
      "{'angle_t': 0.25, 'phase_t': 1.0}\n",
      "{'angle_t': 0.25, 'phase_t': 1.5}\n",
      "{'angle_t': 0.25, 'phase_t': 1.0}\n",
      "{'angle_t': 0.25, 'phase_t': 1.5}\n"
     ]
    }
   ],
   "source": [
    "context = compiler.compiler_context()\n",
    "context[\"some_extra_data\"] = [1, 2, 3]\n",
    "data, context = compiler.compile(circuits, context)"
   ]
  },
  {
   "cell_type": "markdown",
   "id": "cfd4b71b",
   "metadata": {},
   "source": [
    "## Standard stages\n",
    "\n",
    "As mentioned earlier, Pulla comes with a pre-defined \"standard\" set of stages which you can use and, if needed, modify. These standard stages are used by CoCoS if you were to submit a circuit to CoCoS (without using Pulla). Thus, if you use the same version of the Pulla library that the remote CoCoS uses, you will be able to produce and inspect the same pulse schedules that CoCoS would (assuming you use the same calibration set). \n",
    "\n",
    "Let's replace our current single stage with standard stages, and view them:"
   ]
  },
  {
   "cell_type": "code",
   "execution_count": 11,
   "id": "4bb0a250",
   "metadata": {
    "ExecuteTime": {
     "end_time": "2024-07-15T09:48:22.169140Z",
     "start_time": "2024-07-15T09:48:22.047603Z"
    },
    "scrolled": true
   },
   "outputs": [
    {
     "name": "stdout",
     "output_type": "stream",
     "text": [
      "Stage 0: circuit\n",
      "    0: validate_circuits_move_gate\n",
      "    1: map_old_operations\n",
      "    2: map_implementations_for_loci\n",
      "    3: derive_readout_mappings\n",
      "\n",
      "\n",
      "Stage 1: circuit_resolution\n",
      "    0: resolve_circuits\n",
      "\n",
      "\n",
      "Stage 2: timebox\n",
      "    0: multiplex_readout\n",
      "    1: prepend_heralding\n",
      "    2: prepend_reset\n",
      "\n",
      "\n",
      "Stage 3: timebox_resolution\n",
      "    0: resolve_timeboxes\n",
      "\n",
      "\n",
      "Stage 4: dynamical_decoupling\n",
      "    0: apply_dd_strategy\n",
      "\n",
      "\n",
      "Stage 5: schedule\n",
      "    0: apply_move_gate_phase_corrections\n",
      "    1: clean_schedule\n",
      "\n",
      "\n",
      "Stage 6: schedule_resolution\n",
      "    0: build_playlist\n",
      "\n",
      "\n"
     ]
    }
   ],
   "source": [
    "from iqm.cpc.compiler.standard_stages import get_standard_stages\n",
    "\n",
    "compiler.stages = get_standard_stages()\n",
    "compiler.show_stages()"
   ]
  },
  {
   "cell_type": "markdown",
   "id": "30b93323",
   "metadata": {},
   "source": [
    "There are 7 standard stages:\n",
    "\n",
    "1. circuit-level: takes care of validating the circuit, renaming some deprecated names, gathering\n",
    "information for the next stages\n",
    "2. circuit resolution: converts circuits to `TimeBox`es\n",
    "3. timebox-level: optimizes \"measure\" gates by multiplexing them if possible\n",
    "4. timebox resolution: converts `TimeBox`es to `Schedule`\n",
    "5. schedule-level: applies dynamical decoupling\n",
    "6. schedule-level: potentially applies some corrections, then cleans up the schedules\n",
    "7. schedule resolution: converts `Schedule` to the final Playlist ready to be executed"
   ]
  },
  {
   "cell_type": "code",
   "execution_count": 12,
   "id": "912d1f4c",
   "metadata": {
    "ExecuteTime": {
     "end_time": "2024-07-15T09:48:23.485084Z",
     "start_time": "2024-07-15T09:48:23.228762Z"
    },
    "scrolled": true
   },
   "outputs": [],
   "source": [
    "circuits, compiler = qiskit_to_pulla(p, backend, qc_optimized)\n",
    "data, context = compiler.compile(circuits)"
   ]
  },
  {
   "cell_type": "markdown",
   "id": "0d066f9e",
   "metadata": {},
   "source": [
    "Variable `data` now contains the Playlist in its final form, and `context` contains a dictionary of various things\n",
    "which were either necessary in some of the passes, or will be necessary for the final execution. It also contains a\n",
    "copy of  `schedules` from before the final playlist resolution. Some of those pieces of data will be needed to build\n",
    "Station  Control settings (more on that later)."
   ]
  },
  {
   "cell_type": "code",
   "execution_count": 13,
   "id": "e478a831",
   "metadata": {
    "ExecuteTime": {
     "end_time": "2024-07-15T09:48:25.831456Z",
     "start_time": "2024-07-15T09:48:25.758836Z"
    },
    "scrolled": true
   },
   "outputs": [
    {
     "name": "stdout",
     "output_type": "stream",
     "text": [
      "Final playlist:\n",
      "Playlist(channel_descriptions={'PL-1__readout': ChannelDescription(channel_config=ReadoutChannelConfig(sampling_rate=2000000000),\n",
      "                                                                   controller_name='PL-1__readout'),\n",
      "                               'QB1__drive.awg': ChannelDescription(channel_config=IQChannelConfig(sampling_rate=2000000000),\n",
      "                                                                    controller_name='QB1__drive.awg'),\n",
      "                               'QB3__drive.awg': ChannelDescription(channel_config=IQChannelConfig(sampling_rate=2000000000),\n",
      "                                                                    controller_name='QB3__drive.awg'),\n",
      "                               'QB5__drive.awg': ChannelDescription(channel_config=IQChannelConfig(sampling_rate=2000000000),\n",
      "                                                                    controller_name='QB5__drive.awg'),\n",
      "                               'TC-1-3__flux.awg': ChannelDescription(channel_config=RealChannelConfig(sampling_rate=2000000000),\n",
      "                                                                      controller_name='TC-1-3__flux.awg'),\n",
      "                               'TC-3-5__flux.awg': ChannelDescription(channel_config=RealChannelConfig(sampling_rate=2000000000),\n",
      "                                                                      controller_name='TC-3-5__flux.awg')},\n",
      "         segments=[Segment(instructions={'PL-1__readout': [0, 7],\n",
      "                                         'QB1__drive.awg': [0, 1, 2, 3],\n",
      "                                         'QB3__drive.awg': [0, 1, 2, 3],\n",
      "                                         'QB5__drive.awg': [0, 1, 2, 3, 4],\n",
      "                                         'TC-1-3__flux.awg': [0, 1, 2],\n",
      "                                         'TC-3-5__flux.awg': [0, 1, 2]})])\n",
      "Context fields:\n",
      "['calibration_set', 'builder', 'component_mapping', 'options', 'channel_properties', 'chip_topology', 'circuit_metrics', 'readout_mappings', 'heralded_components', 'schedules']\n"
     ]
    }
   ],
   "source": [
    "print(\"Final playlist:\")\n",
    "pprint(data)\n",
    "\n",
    "print(\"Context fields:\")\n",
    "print(list(context.keys()))"
   ]
  },
  {
   "cell_type": "markdown",
   "id": "2e70fc2c",
   "metadata": {},
   "source": [
    "Instead of calling `compile()`, which runs all the stages, you can run each stage, or even each separate pass, by yourself. In that case you will have to take care of two things:\n",
    "\n",
    "1. Provide initial context to the first pass of the first stage.\n",
    "2. Save data and context returned by each pass (or stage) in order to provide it to the next pass (or stage).\n",
    "\n",
    "To help you with 1, the compiler has a method `compiler_context()` which returns a dictionary of initial context.\n",
    "\n",
    "(Note: to run a pass of any particular stage: `compiler.stages[0].passes[0](data, context)`)"
   ]
  },
  {
   "cell_type": "code",
   "execution_count": 14,
   "id": "f56b5a28",
   "metadata": {
    "ExecuteTime": {
     "end_time": "2024-07-15T09:48:28.037326Z",
     "start_time": "2024-07-15T09:48:27.930176Z"
    }
   },
   "outputs": [
    {
     "data": {
      "text/plain": [
       "dict_keys(['calibration_set', 'builder', 'component_mapping', 'options', 'channel_properties', 'chip_topology'])"
      ]
     },
     "execution_count": 14,
     "metadata": {},
     "output_type": "execute_result"
    }
   ],
   "source": [
    "compiler.compiler_context().keys()"
   ]
  },
  {
   "cell_type": "markdown",
   "id": "9009747b",
   "metadata": {},
   "source": [
    "Let's create another circuit and compile it manually. We'll use this example to understand each standard stage:"
   ]
  },
  {
   "cell_type": "code",
   "execution_count": 15,
   "id": "a2036c75",
   "metadata": {
    "ExecuteTime": {
     "end_time": "2024-07-15T09:48:30.189709Z",
     "start_time": "2024-07-15T09:48:30.045113Z"
    }
   },
   "outputs": [],
   "source": [
    "qc2 = QuantumCircuit(3, 3)\n",
    "qc2.h(0)\n",
    "qc2.cx(0, 1)\n",
    "qc2.cx(0, 2)\n",
    "qc2.measure_all()\n",
    "\n",
    "qc2_transpiled = transpile(qc2, backend=backend, layout_method='sabre', optimization_level=3)\n",
    "qc2_optimized = optimize_single_qubit_gates(qc2_transpiled)\n",
    "circuits2, compiler = qiskit_to_pulla(p, backend, qc2_optimized)\n",
    "\n",
    "# Initial context (from the compiler) and data (list of circuits)\n",
    "context = compiler.compiler_context()\n",
    "data = circuits2"
   ]
  },
  {
   "cell_type": "markdown",
   "id": "7d3c6766",
   "metadata": {},
   "source": [
    "### 1st standard stage: circuit-level passes\n",
    "\n",
    "The first stage is circuit-level passes:\n",
    "\n",
    "- When defining a circuit in IQM JSON or IQM Pulse format directly, you can specify an implementation for each gate (selecting from implementations provided by the calibration set). If no implementation is specified, the standard circuit-level stage will select the default implementation for each gate automatically.\n",
    "- Currently, the choice of the default implementation is global: e.g. `prx` may have `drag_gaussian` as the default. In the future, the calibration may yield different implementations for different loci, striving to provide the best quality."
   ]
  },
  {
   "cell_type": "code",
   "execution_count": 16,
   "id": "bb1f08e9",
   "metadata": {
    "ExecuteTime": {
     "end_time": "2024-07-15T09:48:31.381620Z",
     "start_time": "2024-07-15T09:48:31.251444Z"
    },
    "scrolled": true
   },
   "outputs": [
    {
     "name": "stdout",
     "output_type": "stream",
     "text": [
      "[Circuit(name='circuit-175',\n",
      "         instructions=(CircuitOperation(name='prx',\n",
      "                                        locus=('QB2',),\n",
      "                                        args={'angle': 1.5707963267948966,\n",
      "                                              'phase': 4.71238898038469},\n",
      "                                        implementation='drag_crf'),\n",
      "                       CircuitOperation(name='prx',\n",
      "                                        locus=('QB3',),\n",
      "                                        args={'angle': 1.5707963267948966,\n",
      "                                              'phase': 4.71238898038469},\n",
      "                                        implementation='drag_crf'),\n",
      "                       CircuitOperation(name='prx',\n",
      "                                        locus=('QB5',),\n",
      "                                        args={'angle': 1.5707963267948966,\n",
      "                                              'phase': 4.71238898038469},\n",
      "                                        implementation='drag_crf'),\n",
      "                       CircuitOperation(name='cz',\n",
      "                                        locus=('QB3', 'QB5'),\n",
      "                                        args={},\n",
      "                                        implementation='crf'),\n",
      "                       CircuitOperation(name='cz',\n",
      "                                        locus=('QB2', 'QB3'),\n",
      "                                        args={},\n",
      "                                        implementation='crf'),\n",
      "                       CircuitOperation(name='prx',\n",
      "                                        locus=('QB2',),\n",
      "                                        args={'angle': 1.5707963267948966,\n",
      "                                              'phase': 7.853981633974483},\n",
      "                                        implementation='drag_crf'),\n",
      "                       CircuitOperation(name='prx',\n",
      "                                        locus=('QB5',),\n",
      "                                        args={'angle': 1.5707963267948966,\n",
      "                                              'phase': 7.853981633974483},\n",
      "                                        implementation='drag_crf'),\n",
      "                       CircuitOperation(name='barrier',\n",
      "                                        locus=('QB3', 'QB5', 'QB2'),\n",
      "                                        args={},\n",
      "                                        implementation=''),\n",
      "                       CircuitOperation(name='measure',\n",
      "                                        locus=('QB3',),\n",
      "                                        args={'key': 'meas_3_1_0'},\n",
      "                                        implementation='constant'),\n",
      "                       CircuitOperation(name='measure',\n",
      "                                        locus=('QB5',),\n",
      "                                        args={'key': 'meas_3_1_1'},\n",
      "                                        implementation='constant'),\n",
      "                       CircuitOperation(name='measure',\n",
      "                                        locus=('QB2',),\n",
      "                                        args={'key': 'meas_3_1_2'},\n",
      "                                        implementation='constant'),\n",
      "                       CircuitOperation(name='measure',\n",
      "                                        locus=('QB4', 'QB1'),\n",
      "                                        args={'key': '__MEASUREMENT_MODE'},\n",
      "                                        implementation=None)))]\n"
     ]
    }
   ],
   "source": [
    "processed_circuits, context = compiler.stages[0].run(data, context)\n",
    "pprint(processed_circuits)"
   ]
  },
  {
   "cell_type": "markdown",
   "id": "150101a8",
   "metadata": {},
   "source": [
    "### 2nd standard stage: circuit resolution\n",
    "\n",
    "Now we can convert the circuit to `TimeBox`es. `TimeBox` is a concept of IQM Pulse: a container for one or more instruction schedule fragments, to be scheduled according to a given scheduling strategy."
   ]
  },
  {
   "cell_type": "code",
   "execution_count": 17,
   "id": "0120b490",
   "metadata": {
    "ExecuteTime": {
     "end_time": "2024-07-15T09:48:34.043486Z",
     "start_time": "2024-07-15T09:48:33.958380Z"
    },
    "scrolled": true
   },
   "outputs": [
    {
     "name": "stdout",
     "output_type": "stream",
     "text": [
      ":           circuit-175\n",
      "[0]:        PRX_DRAGCosineRiseFall on ('QB2',) (atomic)\n",
      "[1]:        PRX_DRAGCosineRiseFall on ('QB3',) (atomic)\n",
      "[2]:        PRX_DRAGCosineRiseFall on ('QB5',) (atomic)\n",
      "[3]:        CZ_CRF on ('QB3', 'QB5') (atomic)\n",
      "[4]:        CZ_CRF on ('QB2', 'QB3') (atomic)\n",
      "[5]:        PRX_DRAGCosineRiseFall on ('QB2',) (atomic)\n",
      "[6]:        PRX_DRAGCosineRiseFall on ('QB5',) (atomic)\n",
      "[7]:        Barrier on ('QB3', 'QB5', 'QB2') (atomic)\n",
      "[8]:        Readout on ('QB3',)\n",
      "[8][0]:     Measure_Constant on ('QB3',) (atomic)\n",
      "[9]:        Readout on ('QB5',)\n",
      "[9][0]:     Measure_Constant on ('QB5',) (atomic)\n",
      "[10]:       Readout on ('QB2',)\n",
      "[10][0]:    Measure_Constant on ('QB2',) (atomic)\n",
      "[11]:       Readout on ('QB4', 'QB1')\n",
      "[11][0]:    MultiplexedProbeTimeBox on {'QB4', 'QB1'} (atomic)\n"
     ]
    }
   ],
   "source": [
    "timeboxes, context = compiler.stages[1].run(processed_circuits, context)\n",
    "\n",
    "# let's look into the first TimeBox which corresponds to the PRX instruction on QB1\n",
    "timeboxes[0].print()"
   ]
  },
  {
   "cell_type": "markdown",
   "id": "ca12de61",
   "metadata": {},
   "source": [
    "`timeboxes` is a list of `TimeBox` objects, and you can edit them manually. A `TimeBox` can contain multiple children `TimeBox`es, each containing either more `TimeBox`es or a `Schedule`. A `TimeBox` containing a `Schedule` rather than children is referred to as \"atomic\". In our example here the circuit was converted into one `TimeBox` containing 11 children atomic `TimeBox`es, which correspond to 11 circuit operations (7 gates + 1 barrier gate + 3 measurement gates). An atomic `TimeBox` holds its `Schedule` in an `atom` property:"
   ]
  },
  {
   "cell_type": "code",
   "execution_count": 18,
   "id": "d72f56c9",
   "metadata": {
    "ExecuteTime": {
     "end_time": "2024-07-13T16:40:31.700133Z",
     "start_time": "2024-07-13T16:40:31.574233Z"
    }
   },
   "outputs": [
    {
     "data": {
      "text/plain": [
       "'QB2__drive.awg    1:!=|\\n'"
      ]
     },
     "execution_count": 18,
     "metadata": {},
     "output_type": "execute_result"
    }
   ],
   "source": [
    "timeboxes[0][0].atom.pprint()"
   ]
  },
  {
   "cell_type": "markdown",
   "id": "a3ec6547",
   "metadata": {},
   "source": [
    "### 3rd standard stage: timebox-level passes\n",
    "\n",
    "Next is a timebox-level stage, which only has one pass: multiplexing measurements. The `measure_all()` we called when\n",
    " creating the circuit adds a single `TimeBox` with the gate implementation `Measure_Constant` for each qubit in the\n",
    " circuit.\n",
    " With the `measurement_mode='all'` option, the first stage has also added a measurement `TimeBox` for the unused qubits."
   ]
  },
  {
   "cell_type": "code",
   "execution_count": 19,
   "id": "e4139763",
   "metadata": {
    "ExecuteTime": {
     "end_time": "2024-07-15T09:49:33.563317Z",
     "start_time": "2024-07-15T09:49:33.457920Z"
    }
   },
   "outputs": [
    {
     "name": "stdout",
     "output_type": "stream",
     "text": [
      ":           circuit-175\n",
      "[0]:        PRX_DRAGCosineRiseFall on ('QB2',) (atomic)\n",
      "[1]:        PRX_DRAGCosineRiseFall on ('QB3',) (atomic)\n",
      "[2]:        PRX_DRAGCosineRiseFall on ('QB5',) (atomic)\n",
      "[3]:        CZ_CRF on ('QB3', 'QB5') (atomic)\n",
      "[4]:        CZ_CRF on ('QB2', 'QB3') (atomic)\n",
      "[5]:        PRX_DRAGCosineRiseFall on ('QB2',) (atomic)\n",
      "[6]:        PRX_DRAGCosineRiseFall on ('QB5',) (atomic)\n",
      "[7]:        Barrier on ('QB3', 'QB5', 'QB2') (atomic)\n",
      "[8]:        Readout on ('QB3',)\n",
      "[8][0]:     Measure_Constant on ('QB3',) (atomic)\n",
      "[9]:        Readout on ('QB5',)\n",
      "[9][0]:     Measure_Constant on ('QB5',) (atomic)\n",
      "[10]:       Readout on ('QB2',)\n",
      "[10][0]:    Measure_Constant on ('QB2',) (atomic)\n",
      "[11]:       Readout on ('QB4', 'QB1')\n",
      "[11][0]:    MultiplexedProbeTimeBox on {'QB4', 'QB1'} (atomic)\n"
     ]
    }
   ],
   "source": [
    "timeboxes[0].print()"
   ]
  },
  {
   "cell_type": "markdown",
   "id": "57d39fcd",
   "metadata": {},
   "source": [
    "Multiplexing means executing all of these measurements at once, instead of one after the other.\n",
    "The multiplexing pass does this optimization for us:"
   ]
  },
  {
   "cell_type": "code",
   "execution_count": 20,
   "id": "2879eb96",
   "metadata": {
    "ExecuteTime": {
     "end_time": "2024-07-15T09:49:55.559270Z",
     "start_time": "2024-07-15T09:49:55.453172Z"
    }
   },
   "outputs": [
    {
     "name": "stdout",
     "output_type": "stream",
     "text": [
      ":           circuit-175\n",
      "[0]:        PRX_DRAGCosineRiseFall on ('QB2',) (atomic)\n",
      "[1]:        PRX_DRAGCosineRiseFall on ('QB3',) (atomic)\n",
      "[2]:        PRX_DRAGCosineRiseFall on ('QB5',) (atomic)\n",
      "[3]:        CZ_CRF on ('QB3', 'QB5') (atomic)\n",
      "[4]:        CZ_CRF on ('QB2', 'QB3') (atomic)\n",
      "[5]:        PRX_DRAGCosineRiseFall on ('QB2',) (atomic)\n",
      "[6]:        PRX_DRAGCosineRiseFall on ('QB5',) (atomic)\n",
      "[7]:        Barrier on ('QB3', 'QB5', 'QB2') (atomic)\n",
      "[8]:        MultiplexedProbeTimeBox on {'QB2', 'QB5', 'QB4', 'QB3', 'QB1'} (atomic)\n"
     ]
    }
   ],
   "source": [
    "multiplexed_timeboxes, context = compiler.stages[2].run(timeboxes, context)\n",
    "multiplexed_timeboxes[0].print()"
   ]
  },
  {
   "cell_type": "markdown",
   "id": "b563e003",
   "metadata": {},
   "source": [
    "If you construct a circuit in Qiskit, and want to ensure multiplexing of measurement instructions, you have to \"wrap\" a group of measurement instructions with ``barrier``s. This would prevent the Qiskit transpiler from putting any other instructions, acting on the same qubits, in between measurements, thus allowing the compiler to multiplex."
   ]
  },
  {
   "cell_type": "markdown",
   "id": "9edcacfa",
   "metadata": {},
   "source": [
    "### 4th standard stage: timebox resolution\n",
    "\n",
    "Next we convert `TimeBox`es into a single `Schedule`. This is a recursive process which resolves all nested `TimeBox`es into atomic `TimeBox`es, and finally assembles a single `Schedule` out each of batches of `TimeBox`es. At this stage, all relative timings between pulses are resolved and fixed."
   ]
  },
  {
   "cell_type": "code",
   "execution_count": 21,
   "id": "4bef57aa",
   "metadata": {
    "ExecuteTime": {
     "end_time": "2024-07-15T08:37:44.217539Z",
     "start_time": "2024-07-15T08:37:44.005640Z"
    },
    "scrolled": true
   },
   "outputs": [
    {
     "data": {
      "text/plain": [
       "{'QB2__drive.awg': <iqm.pulse.playlist.schedule.Segment at 0x1687afe7ad0>,\n",
       " 'QB3__drive.awg': <iqm.pulse.playlist.schedule.Segment at 0x1687ae1f750>,\n",
       " 'QB5__drive.awg': <iqm.pulse.playlist.schedule.Segment at 0x1687ae1c390>,\n",
       " 'TC-3-5__flux.awg': <iqm.pulse.playlist.schedule.Segment at 0x1687ae1f850>,\n",
       " 'TC-2-3__flux.awg': <iqm.pulse.playlist.schedule.Segment at 0x1687ae1ee90>,\n",
       " 'QB3__flux.awg': <iqm.pulse.playlist.schedule.Segment at 0x1687ae691d0>,\n",
       " 'PL-1__readout': <iqm.pulse.playlist.schedule.Segment at 0x1687ae69490>,\n",
       " 'QB4__drive.awg': <iqm.pulse.playlist.schedule.Segment at 0x1687ae69210>,\n",
       " 'QB1__drive.awg': <iqm.pulse.playlist.schedule.Segment at 0x1687ae6b2d0>}"
      ]
     },
     "execution_count": 21,
     "metadata": {},
     "output_type": "execute_result"
    }
   ],
   "source": [
    "schedules, context = compiler.stages[3].run(multiplexed_timeboxes, context)\n",
    "schedules[0]._contents"
   ]
  },
  {
   "cell_type": "markdown",
   "id": "4d04cc50",
   "metadata": {},
   "source": [
    "### 5th standard stage: dynamical decoupling\n",
    "\n",
    "Dynamical decoupling pulse sequences get inserted to replace `Wait` instructions. The process is controlled by a user-submitted dynamical decoupling strategy. By default, this stage is disabled. Please see other notebooks for examples of how to enable and apply dynamical decoupling. "
   ]
  },
  {
   "cell_type": "markdown",
   "id": "fb89af6a",
   "metadata": {},
   "source": [
    "### 6th standard stage: schedule-level passes\n",
    "\n",
    "Next is a schedule-level stage. Its first pass applies calibrated phase corrections if MOVE gates are used (only applicable to QCs with computational resonator, i.e. IQM Star Architecture). The second pass removes non-functional instructions from the schedules."
   ]
  },
  {
   "cell_type": "code",
   "execution_count": 22,
   "id": "efdaa0d4",
   "metadata": {
    "ExecuteTime": {
     "end_time": "2024-07-13T16:40:47.708825Z",
     "start_time": "2024-07-13T16:40:47.621551Z"
    }
   },
   "outputs": [],
   "source": [
    "processed_schedules, context = compiler.stages[5].run(schedules, context)"
   ]
  },
  {
   "cell_type": "markdown",
   "id": "dcd0fd58",
   "metadata": {},
   "source": [
    "### 7th standard stage: schedule resolution\n",
    "\n",
    "Finally, the last stage builds a final schedule from a number of instruction schedules. A playlist is just a compressed `Schedule` with no duplicate information, ready to be submitted for execution."
   ]
  },
  {
   "cell_type": "code",
   "execution_count": 23,
   "id": "a6630081",
   "metadata": {
    "ExecuteTime": {
     "end_time": "2024-07-13T16:40:50.528960Z",
     "start_time": "2024-07-13T16:40:50.404292Z"
    },
    "scrolled": true
   },
   "outputs": [
    {
     "name": "stdout",
     "output_type": "stream",
     "text": [
      "Schedule info:\n",
      " - 6 channels\n",
      " - 1 segments\n",
      " - 9 unique waveforms\n",
      " - 27 unique instructions\n",
      "\n",
      " QB2__drive.awg:\n",
      "    Instruction(duration_samples=40, operation=IQPulse(wave_i=CosineRiseFall(n_samples=40, full_width=1.0, rise_time=0.5, center_offset=0.0), wave_q=Samples(n_samples=40, samples=array([ 0.0784591 ,  0.23344536,  0.38268343,  0.52249856,  0.64944805,\n",
      "        0.76040597,  0.85264016,  0.92387953,  0.97236992,  0.99691733,\n",
      "        0.99691733,  0.97236992,  0.92387953,  0.85264016,  0.76040597,\n",
      "        0.64944805,  0.52249856,  0.38268343,  0.23344536,  0.0784591 ,\n",
      "       -0.0784591 , -0.23344536, -0.38268343, -0.52249856, -0.64944805,\n",
      "       -0.76040597, -0.85264016, -0.92387953, -0.97236992, -0.99691733,\n",
      "       -0.99691733, -0.97236992, -0.92387953, -0.85264016, -0.76040597,\n",
      "       -0.64944805, -0.52249856, -0.38268343, -0.23344536, -0.0784591 ])), scale_i=0.04456917758598103, scale_q=-0.003974513897077347, phase=-1.5707963267948966, modulation_frequency=0.0, phase_increment=0))\n",
      "    Instruction(duration_samples=112, operation=Wait())\n",
      "    Instruction(duration_samples=88, operation=VirtualRZ(phase_increment=-3.8499027575510922))\n",
      "    Instruction(duration_samples=40, operation=IQPulse(wave_i=CosineRiseFall(n_samples=40, full_width=1.0, rise_time=0.5, center_offset=0.0), wave_q=Samples(n_samples=40, samples=array([ 0.0784591 ,  0.23344536,  0.38268343,  0.52249856,  0.64944805,\n",
      "        0.76040597,  0.85264016,  0.92387953,  0.97236992,  0.99691733,\n",
      "        0.99691733,  0.97236992,  0.92387953,  0.85264016,  0.76040597,\n",
      "        0.64944805,  0.52249856,  0.38268343,  0.23344536,  0.0784591 ,\n",
      "       -0.0784591 , -0.23344536, -0.38268343, -0.52249856, -0.64944805,\n",
      "       -0.76040597, -0.85264016, -0.92387953, -0.97236992, -0.99691733,\n",
      "       -0.99691733, -0.97236992, -0.92387953, -0.85264016, -0.76040597,\n",
      "       -0.64944805, -0.52249856, -0.38268343, -0.23344536, -0.0784591 ])), scale_i=0.04456917758598103, scale_q=-0.003974513897077347, phase=1.5707963267948966, modulation_frequency=0.0, phase_increment=0))\n",
      "    Instruction(duration_samples=2144, operation=Wait())\n",
      "\n",
      "    CosineRiseFall(n_samples=40, full_width=1.0, rise_time=0.5, center_offset=0.0)\n",
      "    Samples(n_samples=40, samples=array([ 0.0784591 ,  0.23344536,  0.38268343,  0.52249856,  0.64944805,\n",
      "        0.76040597,  0.85264016,  0.92387953,  0.97236992,  0.99691733,\n",
      "        0.99691733,  0.97236992,  0.92387953,  0.85264016,  0.76040597,\n",
      "        0.64944805,  0.52249856,  0.38268343,  0.23344536,  0.0784591 ,\n",
      "       -0.0784591 , -0.23344536, -0.38268343, -0.52249856, -0.64944805,\n",
      "       -0.76040597, -0.85264016, -0.92387953, -0.97236992, -0.99691733,\n",
      "       -0.99691733, -0.97236992, -0.92387953, -0.85264016, -0.76040597,\n",
      "       -0.64944805, -0.52249856, -0.38268343, -0.23344536, -0.0784591 ]))\n",
      "\n",
      " QB3__drive.awg:\n",
      "    Instruction(duration_samples=40, operation=IQPulse(wave_i=CosineRiseFall(n_samples=40, full_width=1.0, rise_time=0.5, center_offset=0.0), wave_q=Samples(n_samples=40, samples=array([ 0.0784591 ,  0.23344536,  0.38268343,  0.52249856,  0.64944805,\n",
      "        0.76040597,  0.85264016,  0.92387953,  0.97236992,  0.99691733,\n",
      "        0.99691733,  0.97236992,  0.92387953,  0.85264016,  0.76040597,\n",
      "        0.64944805,  0.52249856,  0.38268343,  0.23344536,  0.0784591 ,\n",
      "       -0.0784591 , -0.23344536, -0.38268343, -0.52249856, -0.64944805,\n",
      "       -0.76040597, -0.85264016, -0.92387953, -0.97236992, -0.99691733,\n",
      "       -0.99691733, -0.97236992, -0.92387953, -0.85264016, -0.76040597,\n",
      "       -0.64944805, -0.52249856, -0.38268343, -0.23344536, -0.0784591 ])), scale_i=0.05189384885411283, scale_q=-0.005331421370612681, phase=-1.5707963267948966, modulation_frequency=0.0, phase_increment=0))\n",
      "    Instruction(duration_samples=112, operation=VirtualRZ(phase_increment=-4.837426979072975))\n",
      "    Instruction(duration_samples=88, operation=VirtualRZ(phase_increment=-5.05990505679636))\n",
      "    Instruction(duration_samples=2184, operation=Wait())\n",
      "\n",
      "    CosineRiseFall(n_samples=40, full_width=1.0, rise_time=0.5, center_offset=0.0)\n",
      "    Samples(n_samples=40, samples=array([ 0.0784591 ,  0.23344536,  0.38268343,  0.52249856,  0.64944805,\n",
      "        0.76040597,  0.85264016,  0.92387953,  0.97236992,  0.99691733,\n",
      "        0.99691733,  0.97236992,  0.92387953,  0.85264016,  0.76040597,\n",
      "        0.64944805,  0.52249856,  0.38268343,  0.23344536,  0.0784591 ,\n",
      "       -0.0784591 , -0.23344536, -0.38268343, -0.52249856, -0.64944805,\n",
      "       -0.76040597, -0.85264016, -0.92387953, -0.97236992, -0.99691733,\n",
      "       -0.99691733, -0.97236992, -0.92387953, -0.85264016, -0.76040597,\n",
      "       -0.64944805, -0.52249856, -0.38268343, -0.23344536, -0.0784591 ]))\n",
      "\n",
      " QB5__drive.awg:\n",
      "    Instruction(duration_samples=40, operation=IQPulse(wave_i=CosineRiseFall(n_samples=40, full_width=1.0, rise_time=0.5, center_offset=0.0), wave_q=Samples(n_samples=40, samples=array([ 0.0784591 ,  0.23344536,  0.38268343,  0.52249856,  0.64944805,\n",
      "        0.76040597,  0.85264016,  0.92387953,  0.97236992,  0.99691733,\n",
      "        0.99691733,  0.97236992,  0.92387953,  0.85264016,  0.76040597,\n",
      "        0.64944805,  0.52249856,  0.38268343,  0.23344536,  0.0784591 ,\n",
      "       -0.0784591 , -0.23344536, -0.38268343, -0.52249856, -0.64944805,\n",
      "       -0.76040597, -0.85264016, -0.92387953, -0.97236992, -0.99691733,\n",
      "       -0.99691733, -0.97236992, -0.92387953, -0.85264016, -0.76040597,\n",
      "       -0.64944805, -0.52249856, -0.38268343, -0.23344536, -0.0784591 ])), scale_i=0.04971671718199658, scale_q=-0.0046665883752283555, phase=-1.5707963267948966, modulation_frequency=0.0, phase_increment=0))\n",
      "    Instruction(duration_samples=112, operation=VirtualRZ(phase_increment=-4.141444572356641))\n",
      "    Instruction(duration_samples=40, operation=IQPulse(wave_i=CosineRiseFall(n_samples=40, full_width=1.0, rise_time=0.5, center_offset=0.0), wave_q=Samples(n_samples=40, samples=array([ 0.0784591 ,  0.23344536,  0.38268343,  0.52249856,  0.64944805,\n",
      "        0.76040597,  0.85264016,  0.92387953,  0.97236992,  0.99691733,\n",
      "        0.99691733,  0.97236992,  0.92387953,  0.85264016,  0.76040597,\n",
      "        0.64944805,  0.52249856,  0.38268343,  0.23344536,  0.0784591 ,\n",
      "       -0.0784591 , -0.23344536, -0.38268343, -0.52249856, -0.64944805,\n",
      "       -0.76040597, -0.85264016, -0.92387953, -0.97236992, -0.99691733,\n",
      "       -0.99691733, -0.97236992, -0.92387953, -0.85264016, -0.76040597,\n",
      "       -0.64944805, -0.52249856, -0.38268343, -0.23344536, -0.0784591 ])), scale_i=0.04971671718199658, scale_q=-0.0046665883752283555, phase=1.5707963267948966, modulation_frequency=0.0, phase_increment=0))\n",
      "    Instruction(duration_samples=2232, operation=Wait())\n",
      "\n",
      "    CosineRiseFall(n_samples=40, full_width=1.0, rise_time=0.5, center_offset=0.0)\n",
      "    Samples(n_samples=40, samples=array([ 0.0784591 ,  0.23344536,  0.38268343,  0.52249856,  0.64944805,\n",
      "        0.76040597,  0.85264016,  0.92387953,  0.97236992,  0.99691733,\n",
      "        0.99691733,  0.97236992,  0.92387953,  0.85264016,  0.76040597,\n",
      "        0.64944805,  0.52249856,  0.38268343,  0.23344536,  0.0784591 ,\n",
      "       -0.0784591 , -0.23344536, -0.38268343, -0.52249856, -0.64944805,\n",
      "       -0.76040597, -0.85264016, -0.92387953, -0.97236992, -0.99691733,\n",
      "       -0.99691733, -0.97236992, -0.92387953, -0.85264016, -0.76040597,\n",
      "       -0.64944805, -0.52249856, -0.38268343, -0.23344536, -0.0784591 ]))\n",
      "\n",
      " TC-3-5__flux.awg:\n",
      "    Instruction(duration_samples=40, operation=Wait())\n",
      "    Instruction(duration_samples=112, operation=RealPulse(wave=CosineRiseFall(n_samples=112, full_width=0.8032845266041941, rise_time=0.17857142857142855, center_offset=0.0), scale=0.024448583113667537))\n",
      "    Instruction(duration_samples=2272, operation=Wait())\n",
      "\n",
      "    CosineRiseFall(n_samples=112, full_width=0.8032845266041941, rise_time=0.17857142857142855, center_offset=0.0)\n",
      "\n",
      " TC-2-3__flux.awg:\n",
      "    Instruction(duration_samples=152, operation=Wait())\n",
      "    Instruction(duration_samples=88, operation=RealPulse(wave=CosineRiseFall(n_samples=88, full_width=0.7546642325137667, rise_time=0.22727272727272727, center_offset=0.0), scale=0.03114217780591079))\n",
      "    Instruction(duration_samples=2184, operation=Wait())\n",
      "\n",
      "    CosineRiseFall(n_samples=88, full_width=0.7546642325137667, rise_time=0.22727272727272727, center_offset=0.0)\n",
      "\n",
      " PL-1__readout:\n",
      "    Instruction(duration_samples=280, operation=Wait())\n",
      "    Instruction(duration_samples=1000, operation=IQPulse(wave_i=Constant(n_samples=1000), wave_q=Constant(n_samples=1000), scale_i=0.08941176470588236, scale_q=0.0, phase=-0.587976442473868, modulation_frequency=0.035762280701749805, phase_increment=0.0))\n",
      "    Instruction(duration_samples=1000, operation=IQPulse(wave_i=Constant(n_samples=1000), wave_q=Constant(n_samples=1000), scale_i=0.07352941176470588, scale_q=0.0, phase=-1.0463919227242826, modulation_frequency=-0.1299149122807064, phase_increment=0.0))\n",
      "    Instruction(duration_samples=1000, operation=IQPulse(wave_i=Constant(n_samples=1000), wave_q=Constant(n_samples=1000), scale_i=0.08941176470588236, scale_q=0.0, phase=-0.6153040444477949, modulation_frequency=-0.28011315789474156, phase_increment=0.0))\n",
      "    Instruction(duration_samples=1000, operation=IQPulse(wave_i=Constant(n_samples=1000), wave_q=Constant(n_samples=1000), scale_i=0.1, scale_q=0.0, phase=0.9632997125655525, modulation_frequency=-0.042427192982460976, phase_increment=0.0))\n",
      "    Instruction(duration_samples=1000, operation=IQPulse(wave_i=Constant(n_samples=1000), wave_q=Constant(n_samples=1000), scale_i=0.06823529411764706, scale_q=0.0, phase=-0.6231643821475537, modulation_frequency=-0.1860201754386015, phase_increment=0.0))\n",
      "    Instruction(duration_samples=1032, operation=MultiplexedIQPulse(entries=((Instruction(duration_samples=1000, operation=IQPulse(wave_i=Constant(n_samples=1000), wave_q=Constant(n_samples=1000), scale_i=0.08941176470588236, scale_q=0.0, phase=-0.587976442473868, modulation_frequency=0.035762280701749805, phase_increment=0.0)), 32), (Instruction(duration_samples=1000, operation=IQPulse(wave_i=Constant(n_samples=1000), wave_q=Constant(n_samples=1000), scale_i=0.07352941176470588, scale_q=0.0, phase=-1.0463919227242826, modulation_frequency=-0.1299149122807064, phase_increment=0.0)), 32), (Instruction(duration_samples=1000, operation=IQPulse(wave_i=Constant(n_samples=1000), wave_q=Constant(n_samples=1000), scale_i=0.08941176470588236, scale_q=0.0, phase=-0.6153040444477949, modulation_frequency=-0.28011315789474156, phase_increment=0.0)), 32), (Instruction(duration_samples=1000, operation=IQPulse(wave_i=Constant(n_samples=1000), wave_q=Constant(n_samples=1000), scale_i=0.1, scale_q=0.0, phase=0.9632997125655525, modulation_frequency=-0.042427192982460976, phase_increment=0.0)), 32), (Instruction(duration_samples=1000, operation=IQPulse(wave_i=Constant(n_samples=1000), wave_q=Constant(n_samples=1000), scale_i=0.06823529411764706, scale_q=0.0, phase=-0.6231643821475537, modulation_frequency=-0.1860201754386015, phase_increment=0.0)), 32))))\n",
      "    Instruction(duration_samples=2144, operation=ReadoutTrigger(probe_pulse=Instruction(duration_samples=1032, operation=MultiplexedIQPulse(entries=((Instruction(duration_samples=1000, operation=IQPulse(wave_i=Constant(n_samples=1000), wave_q=Constant(n_samples=1000), scale_i=0.08941176470588236, scale_q=0.0, phase=-0.587976442473868, modulation_frequency=0.035762280701749805, phase_increment=0.0)), 32), (Instruction(duration_samples=1000, operation=IQPulse(wave_i=Constant(n_samples=1000), wave_q=Constant(n_samples=1000), scale_i=0.07352941176470588, scale_q=0.0, phase=-1.0463919227242826, modulation_frequency=-0.1299149122807064, phase_increment=0.0)), 32), (Instruction(duration_samples=1000, operation=IQPulse(wave_i=Constant(n_samples=1000), wave_q=Constant(n_samples=1000), scale_i=0.08941176470588236, scale_q=0.0, phase=-0.6153040444477949, modulation_frequency=-0.28011315789474156, phase_increment=0.0)), 32), (Instruction(duration_samples=1000, operation=IQPulse(wave_i=Constant(n_samples=1000), wave_q=Constant(n_samples=1000), scale_i=0.1, scale_q=0.0, phase=0.9632997125655525, modulation_frequency=-0.042427192982460976, phase_increment=0.0)), 32), (Instruction(duration_samples=1000, operation=IQPulse(wave_i=Constant(n_samples=1000), wave_q=Constant(n_samples=1000), scale_i=0.06823529411764706, scale_q=0.0, phase=-0.6231643821475537, modulation_frequency=-0.1860201754386015, phase_increment=0.0)), 32)))), acquisitions=(ThresholdStateDiscrimination(label='QB3__meas_3_1_0', delay_samples=992, weights=IQPulse(wave_i=Constant(n_samples=1000), wave_q=Constant(n_samples=1000), scale_i=1.0, scale_q=0.0, phase=0.0, modulation_frequency=0.035762280701749805, phase_increment=0.0), threshold=0.0025793458599823065, feedback_signal_label=''), ThresholdStateDiscrimination(label='QB5__meas_3_1_1', delay_samples=992, weights=IQPulse(wave_i=Constant(n_samples=1000), wave_q=Constant(n_samples=1000), scale_i=1.0, scale_q=0.0, phase=0.0, modulation_frequency=-0.1299149122807064, phase_increment=0.0), threshold=0.0038544742606811573, feedback_signal_label=''), ThresholdStateDiscrimination(label='QB2__meas_3_1_2', delay_samples=992, weights=IQPulse(wave_i=Constant(n_samples=1000), wave_q=Constant(n_samples=1000), scale_i=1.0, scale_q=0.0, phase=0.0, modulation_frequency=-0.28011315789474156, phase_increment=0.0), threshold=0.0007528833634885235, feedback_signal_label=''), ThresholdStateDiscrimination(label='QB4____MEASUREMENT_MODE', delay_samples=992, weights=IQPulse(wave_i=Constant(n_samples=1000), wave_q=Constant(n_samples=1000), scale_i=1.0, scale_q=0.0, phase=0.0, modulation_frequency=-0.042427192982460976, phase_increment=0.0), threshold=0.005798437128413735, feedback_signal_label=''), ThresholdStateDiscrimination(label='QB1____MEASUREMENT_MODE', delay_samples=992, weights=IQPulse(wave_i=Constant(n_samples=1000), wave_q=Constant(n_samples=1000), scale_i=1.0, scale_q=0.0, phase=0.0, modulation_frequency=-0.1860201754386015, phase_increment=0.0), threshold=0.0021365335467484503, feedback_signal_label=''))))\n",
      "\n",
      "    Constant(n_samples=1000)\n",
      "\n",
      "\n"
     ]
    }
   ],
   "source": [
    "playlist, context = compiler.stages[6].run(processed_schedules, context)\n",
    "print(playlist)"
   ]
  },
  {
   "cell_type": "markdown",
   "id": "fd318128",
   "metadata": {},
   "source": [
    "In order to submit this final schedule for execution, we have to do one more thing: build the Station Control settings. The settings control the behaviour of instruments."
   ]
  },
  {
   "cell_type": "code",
   "execution_count": 24,
   "id": "e19ee44d",
   "metadata": {
    "ExecuteTime": {
     "end_time": "2024-07-13T16:42:25.519914Z",
     "start_time": "2024-07-13T16:42:25.384129Z"
    }
   },
   "outputs": [],
   "source": [
    "shots = 20\n",
    "settings, context = compiler.build_settings(context, shots=shots)"
   ]
  },
  {
   "cell_type": "markdown",
   "id": "c2e9f72a",
   "metadata": {},
   "source": [
    "At this point everything is ready to be submitted for execution to the server. Namely, these three objects will be used to construct a request to Station Control Service:\n",
    "\n",
    "- `playlist`: sequence of instruction schedules corresponding to the batch of circuits to be executed\n",
    "- `settings`: Station Control settings node\n",
    "- `context['readout_mappings']`: a mapping from measurement keys to the names of readout controller acquisition labels that will hold the measurement results"
   ]
  },
  {
   "cell_type": "code",
   "execution_count": 25,
   "id": "5956efaf",
   "metadata": {
    "ExecuteTime": {
     "end_time": "2024-07-13T16:42:31.881843Z",
     "start_time": "2024-07-13T16:42:28.139717Z"
    }
   },
   "outputs": [
    {
     "name": "stdout",
     "output_type": "stream",
     "text": [
      "[11-26 14:02:12;I] Submitted sweep with ID: 9e4ec691-33f0-4187-941a-0e2f5282dcf8\n",
      "[11-26 14:02:12;I] Created task in queue with ID: cd4c4082-a9f0-4aa6-8b12-006a1075a19c\n",
      "[11-26 14:02:12;I] Sweep link: http://xld11-s2.xld11.iqm.fi/station/sweeps/9e4ec691-33f0-4187-941a-0e2f5282dcf8\n",
      "[11-26 14:02:12;I] Task link: http://xld11-s2.xld11.iqm.fi/station/tasks/cd4c4082-a9f0-4aa6-8b12-006a1075a19c\n",
      "[11-26 14:02:12;I] Waiting for the sweep to finish...\n",
      "[11-26 14:02:13;I] Sweep status: SweepStatus.SUCCESS\n",
      "[11-26 14:02:14;I] [{'meas_3_1_2': [[1.0], [1.0], [1.0], [1.0], [0.0], [0.0], [1.0], [1.0], [1.0], [0.0], [0.0], [1.0], [1.0], [0.0], [1.0], [0.0], [0.0], [0.0], [1.0], [1.0]], 'meas_3_1_1': [[1.0], [1.0], [1.0], [1.0], [0.0], [0.0], [1.0], [1.0], [1.0], [1.0], [1.0], [1.0], [1.0], [0.0], [1.0], [0.0], [0.0], [0.0], [1.0], [1.0]], 'meas_3_1_0': [[1.0], [1.0], [1.0], [1.0], [0.0], [0.0], [1.0], [1.0], [1.0], [1.0], [1.0], [1.0], [1.0], [0.0], [1.0], [0.0], [0.0], [0.0], [1.0], [1.0]]}]\n"
     ]
    }
   ],
   "source": [
    "response_data = p.execute(playlist, context, settings, verbose=True)"
   ]
  },
  {
   "cell_type": "markdown",
   "id": "d08799d0",
   "metadata": {},
   "source": [
    "Now we can convert these raw results into a Qiskit `Result` object:"
   ]
  },
  {
   "cell_type": "code",
   "execution_count": 26,
   "id": "5f076679",
   "metadata": {
    "ExecuteTime": {
     "end_time": "2024-07-13T16:42:35.026697Z",
     "start_time": "2024-07-13T16:42:34.976218Z"
    }
   },
   "outputs": [
    {
     "name": "stdout",
     "output_type": "stream",
     "text": [
      "Qiskit result counts: {'111': 12, '000': 6, '011': 2}\n"
     ]
    },
    {
     "data": {
      "image/png": "[encoded data removed]",
      "text/plain": [
       "<Figure size 640x480 with 1 Axes>"
      ]
     },
     "execution_count": 26,
     "metadata": {},
     "output_type": "execute_result"
    }
   ],
   "source": [
    "qiskit_result = station_control_result_to_qiskit(response_data, shots=shots, execution_options=context['options'])\n",
    "print(f\"Qiskit result counts: {qiskit_result.get_counts()}\")\n",
    "visualization.plot_histogram(qiskit_result.get_counts())"
   ]
  },
  {
   "cell_type": "markdown",
   "id": "fd2ce976",
   "metadata": {},
   "source": [
    "We can also submit the same circuit to CoCoS for execution. CoCoS is essentially a server-side Pulla with fixed standard stages. Since we started with a normal Qiskit backend and a circuit, execution is as simple as:"
   ]
  },
  {
   "cell_type": "code",
   "execution_count": 27,
   "id": "382886f3",
   "metadata": {
    "ExecuteTime": {
     "end_time": "2024-07-13T16:43:24.374962Z",
     "start_time": "2024-07-13T16:43:19.266556Z"
    }
   },
   "outputs": [
    {
     "name": "stdout",
     "output_type": "stream",
     "text": [
      "{'111': 8, '000': 7, '101': 2, '011': 1, '001': 2}\n"
     ]
    },
    {
     "data": {
      "image/png": "[encoded data removed]",
      "text/plain": [
       "<Figure size 640x480 with 1 Axes>"
      ]
     },
     "execution_count": 27,
     "metadata": {},
     "output_type": "execute_result"
    }
   ],
   "source": [
    "job = backend.run(qc_optimized, shots=shots)\n",
    "\n",
    "print(job.result().get_counts())\n",
    "visualization.plot_histogram(job.result().get_counts())"
   ]
  }
 ],
 "metadata": {
  "kernelspec": {
   "display_name": ".venv",
   "language": "python",
   "name": "python3"
  },
  "language_info": {
   "codemirror_mode": {
    "name": "ipython",
    "version": 3
   },
   "file_extension": ".py",
   "mimetype": "text/x-python",
   "name": "python",
   "nbconvert_exporter": "python",
   "pygments_lexer": "ipython3",
   "version": "3.11.9"
  }
 },
 "nbformat": 4,
 "nbformat_minor": 5
}

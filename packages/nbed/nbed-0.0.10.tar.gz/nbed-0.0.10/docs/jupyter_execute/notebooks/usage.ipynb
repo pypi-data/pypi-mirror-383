{
 "cells": [
  {
   "cell_type": "markdown",
   "metadata": {},
   "source": [
    "# Simple Usage\n",
    "\n",
    "The main functionality of the package is accessible through `nbed.nbed()`.\n",
    "\n",
    "There are three ways to provide arguments to the function:\n",
    "1. passing a path to a config `.json` file.  \n",
    "2. passing named arguments directly.\n",
    "3. passing an NbedConfig model.\n",
    "\n",
    "Note that named arguments which are explicitly added will overwrite the config input from a file or model."
   ]
  },
  {
   "cell_type": "markdown",
   "metadata": {},
   "source": [
    "## Example Config file\n",
    "\n",
    "First lets see what's in the file before we pass it to the main function."
   ]
  },
  {
   "cell_type": "code",
   "execution_count": 1,
   "metadata": {},
   "outputs": [
    {
     "data": {
      "text/plain": [
       "{'geometry': '3\\n\\nO   0.0000  0.000  0.115\\nH   0.0000  0.754  -0.459\\nH   0.0000  -0.754  -0.459',\n",
       " 'n_active_atoms': 1,\n",
       " 'basis': 'STO-3G',\n",
       " 'xc_functional': 'b3lyp',\n",
       " 'projector': 'mu',\n",
       " 'localization': 'spade',\n",
       " 'virtual_localization': 'cl',\n",
       " 'convergence': 1e-06,\n",
       " 'charge': 0,\n",
       " 'spin': 0,\n",
       " 'unit': 'angstrom',\n",
       " 'symmetry': False,\n",
       " 'mu_level_shift': 1000000.0,\n",
       " 'run_ccsd_emb': True,\n",
       " 'run_fci_emb': True,\n",
       " 'run_dft_in_dft': True,\n",
       " 'n_mo_overwrite': [None, None],\n",
       " 'max_ram_memory': 4000,\n",
       " 'occupied_threshold': 0.95,\n",
       " 'virtual_threshold': 0.95,\n",
       " 'max_shells': 4,\n",
       " 'init_huzinaga_rhf_with_mu': False,\n",
       " 'max_hf_cycles': 50,\n",
       " 'max_dft_cycles': 50,\n",
       " 'force_unrestricted': False,\n",
       " 'mm_coords': None,\n",
       " 'mm_charges': None,\n",
       " 'mm_radii': None}"
      ]
     },
     "execution_count": 1,
     "metadata": {},
     "output_type": "execute_result"
    }
   ],
   "source": [
    "import json\n",
    "with open(\"test_config.json\") as f:\n",
    "    config_from_file = json.load(f)\n",
    "    \n",
    "config_from_file"
   ]
  },
  {
   "cell_type": "code",
   "execution_count": 2,
   "metadata": {},
   "outputs": [
    {
     "name": "stderr",
     "output_type": "stream",
     "text": [
      "/Users/michaelwilliamsdelabastida/Code/Nbed/.venv/lib/python3.13/site-packages/pyscf/dft/libxc.py:511: UserWarning: Since PySCF-2.3, B3LYP (and B3P86) are changed to the VWN-RPA variant, corresponding to the original definition by Stephens et al. (issue 1480) and the same as the B3LYP functional in Gaussian. To restore the VWN5 definition, you can put the setting \"B3LYP_WITH_VWN5 = True\" in pyscf_conf.py\n",
      "  warnings.warn('Since PySCF-2.3, B3LYP (and B3P86) are changed to the VWN-RPA variant, '\n"
     ]
    },
    {
     "name": "stdout",
     "output_type": "stream",
     "text": [
      "converged SCF energy = -69.5830769556182  <S^2> = 5.0182081e-14  2S+1 = 1\n"
     ]
    }
   ],
   "source": [
    "from nbed import nbed\n",
    "\n",
    "result = nbed(config=\"test_config.json\")"
   ]
  },
  {
   "cell_type": "code",
   "execution_count": 3,
   "metadata": {},
   "outputs": [
    {
     "data": {
      "text/plain": [
       "{'scf': <pyscf.scf.uhf.UHF at 0x12d8d4a50>,\n",
       " 'v_emb': array([[[ 2.40120585e+02,  9.74408104e+03,  6.04224934e-12,\n",
       "          -2.08167002e-11, -1.05560147e+04,  1.02938801e+04,\n",
       "           1.02938801e+04],\n",
       "         [ 9.74408104e+03,  4.00928677e+05,  2.48630933e-10,\n",
       "          -3.33067135e-10, -4.34365854e+05,  4.23574788e+05,\n",
       "           4.23574788e+05],\n",
       "         [ 6.04224934e-12,  2.48630933e-10,  2.54435216e+00,\n",
       "          -1.73505885e-09, -2.69368028e-10, -7.59113406e-10,\n",
       "           1.28446461e-09],\n",
       "         [-1.99493384e-11, -3.12250453e-10, -1.73505885e-09,\n",
       "           7.85534797e+05, -4.09394684e-10,  4.62606474e+05,\n",
       "          -4.62606474e+05],\n",
       "         [-1.05560147e+04, -4.34365854e+05, -2.69368028e-10,\n",
       "          -4.02455790e-10,  4.70596664e+05, -4.58902672e+05,\n",
       "          -4.58902672e+05],\n",
       "         [ 1.02938801e+04,  4.23574788e+05, -7.59113406e-10,\n",
       "           4.62606474e+05, -4.58902672e+05,  7.19934445e+05,\n",
       "           1.75069053e+05],\n",
       "         [ 1.02938801e+04,  4.23574788e+05,  1.28446461e-09,\n",
       "          -4.62606474e+05, -4.58902672e+05,  1.75069053e+05,\n",
       "           7.19934445e+05]],\n",
       " \n",
       "        [[ 2.40124530e+02,  9.74457859e+03, -1.77078600e-12,\n",
       "           6.93889062e-11, -1.05559877e+04,  1.02937976e+04,\n",
       "           1.02937976e+04],\n",
       "         [ 9.74457859e+03,  4.00962941e+05, -7.28686142e-11,\n",
       "          -1.38777908e-10, -4.34379683e+05,  4.23585960e+05,\n",
       "           4.23585960e+05],\n",
       "         [-1.77078600e-12, -7.28686142e-11,  2.54434746e+00,\n",
       "          -2.13676477e-09,  7.89421346e-11, -1.33529095e-09,\n",
       "           1.18133021e-09],\n",
       "         [ 7.56772788e-11, -1.17961226e-10, -2.13676477e-09,\n",
       "           7.85561377e+05, -3.74700212e-10,  4.62605196e+05,\n",
       "          -4.62605196e+05],\n",
       "         [-1.05559877e+04, -4.34379683e+05,  7.89421346e-11,\n",
       "          -3.60822424e-10,  4.70586411e+05, -4.58890168e+05,\n",
       "          -4.58890168e+05],\n",
       "         [ 1.02937976e+04,  4.23585960e+05, -1.33529095e-09,\n",
       "           4.62605196e+05, -4.58890168e+05,  7.19909085e+05,\n",
       "           1.75065139e+05],\n",
       "         [ 1.02937976e+04,  4.23585960e+05,  1.18133021e-09,\n",
       "          -4.62605196e+05, -4.58890168e+05,  1.75065139e+05,\n",
       "           7.19909085e+05]]]),\n",
       " 'mo_energies_emb_pre_del': array([[-2.02201775e+01, -6.92405356e-01, -3.65626850e-01,\n",
       "          6.33627747e-01,  7.54197931e-01,  9.99999537e+05,\n",
       "          9.99999834e+05],\n",
       "        [-2.02201774e+01, -6.92388605e-01, -3.65626402e-01,\n",
       "          6.33606528e-01,  7.54193604e-01,  9.99999537e+05,\n",
       "          9.99999834e+05]]),\n",
       " 'mo_energies_emb_post_del': array([[-20.22017753,  -0.69240536,  -0.36562685,   0.63362775,\n",
       "           0.75419793],\n",
       "        [-20.22017742,  -0.69238861,  -0.3656264 ,   0.63360653,\n",
       "           0.7541936 ]]),\n",
       " 'correction': np.float64(8.179622720577754),\n",
       " 'beta_correction': np.float64(8.179608146077953),\n",
       " 'cl': <nbed.localizers.virtual.concentric.ConcentricLocalizer at 0x12d8d8ec0>,\n",
       " 'e_rhf': np.float64(-75.12380801466118),\n",
       " 'classical_energy': np.float64(-14.229086664019011),\n",
       " 'e_ccsd': np.float64(-75.12858566579726),\n",
       " 'ccsd_emb': np.float64(-60.89949900177825),\n",
       " 'e_fci': np.float64(-75.1285855081776),\n",
       " 'fci_emb': np.float64(-60.89949884415857),\n",
       " 'hf_emb': np.float64(-60.89472135064216),\n",
       " 'v_emb_dft': array([[[ 2.40120585e+02,  9.74408104e+03,  6.04224934e-12,\n",
       "          -2.08167002e-11, -1.05560147e+04,  1.02938801e+04,\n",
       "           1.02938801e+04],\n",
       "         [ 9.74408104e+03,  4.00928677e+05,  2.48630933e-10,\n",
       "          -3.33067135e-10, -4.34365854e+05,  4.23574788e+05,\n",
       "           4.23574788e+05],\n",
       "         [ 6.04224934e-12,  2.48630933e-10,  2.54435216e+00,\n",
       "          -1.73505885e-09, -2.69368028e-10, -7.59113406e-10,\n",
       "           1.28446461e-09],\n",
       "         [-1.99493384e-11, -3.12250453e-10, -1.73505885e-09,\n",
       "           7.85534797e+05, -4.09394684e-10,  4.62606474e+05,\n",
       "          -4.62606474e+05],\n",
       "         [-1.05560147e+04, -4.34365854e+05, -2.69368028e-10,\n",
       "          -4.02455790e-10,  4.70596664e+05, -4.58902672e+05,\n",
       "          -4.58902672e+05],\n",
       "         [ 1.02938801e+04,  4.23574788e+05, -7.59113406e-10,\n",
       "           4.62606474e+05, -4.58902672e+05,  7.19934445e+05,\n",
       "           1.75069053e+05],\n",
       "         [ 1.02938801e+04,  4.23574788e+05,  1.28446461e-09,\n",
       "          -4.62606474e+05, -4.58902672e+05,  1.75069053e+05,\n",
       "           7.19934445e+05]],\n",
       " \n",
       "        [[ 2.40124530e+02,  9.74457859e+03, -1.77078600e-12,\n",
       "           6.93889062e-11, -1.05559877e+04,  1.02937976e+04,\n",
       "           1.02937976e+04],\n",
       "         [ 9.74457859e+03,  4.00962941e+05, -7.28686142e-11,\n",
       "          -1.38777908e-10, -4.34379683e+05,  4.23585960e+05,\n",
       "           4.23585960e+05],\n",
       "         [-1.77078600e-12, -7.28686142e-11,  2.54434746e+00,\n",
       "          -2.13676477e-09,  7.89421346e-11, -1.33529095e-09,\n",
       "           1.18133021e-09],\n",
       "         [ 7.56772788e-11, -1.17961226e-10, -2.13676477e-09,\n",
       "           7.85561377e+05, -3.74700212e-10,  4.62605196e+05,\n",
       "          -4.62605196e+05],\n",
       "         [-1.05559877e+04, -4.34379683e+05,  7.89421346e-11,\n",
       "          -3.60822424e-10,  4.70586411e+05, -4.58890168e+05,\n",
       "          -4.58890168e+05],\n",
       "         [ 1.02937976e+04,  4.23585960e+05, -1.33529095e-09,\n",
       "           4.62605196e+05, -4.58890168e+05,  7.19909085e+05,\n",
       "           1.75065139e+05],\n",
       "         [ 1.02937976e+04,  4.23585960e+05,  1.18133021e-09,\n",
       "          -4.62605196e+05, -4.58890168e+05,  1.75065139e+05,\n",
       "           7.19909085e+05]]]),\n",
       " 'scf_dft': <pyscf.dft.uks.UKS at 0x12d8d56d0>,\n",
       " 'dft_correction': np.float64(1.1494673779477438e-07),\n",
       " 'dft_correction_beta': np.float64(6.842702141574009e-07),\n",
       " 'e_dft_in_dft': np.float64(-75.30914544152617),\n",
       " 'emb_dft': np.float64(-77.43929044337982)}"
      ]
     },
     "execution_count": 3,
     "metadata": {},
     "output_type": "execute_result"
    }
   ],
   "source": [
    "result.mu"
   ]
  },
  {
   "cell_type": "markdown",
   "metadata": {},
   "source": [
    "## Adding arguments directly"
   ]
  },
  {
   "cell_type": "code",
   "execution_count": 4,
   "metadata": {},
   "outputs": [
    {
     "name": "stdout",
     "output_type": "stream",
     "text": [
      "converged SCF energy = -73.6060882962559  <S^2> = 1.3322676e-15  2S+1 = 1\n"
     ]
    }
   ],
   "source": [
    "geometry= \"3\\n\\nO   0.0000  0.000  0.115\\nH   0.0000  0.754  -0.459\\nH   0.0000  -0.754  -0.459\"\n",
    "\n",
    "result = nbed(geometry=geometry, n_active_atoms=2, basis=\"sto-3g\", xc_functional=\"b3lyp\", projector=\"mu\", localization=\"spade\",convergence=1e-6, charge=0, spin=0)"
   ]
  },
  {
   "cell_type": "markdown",
   "metadata": {},
   "source": [
    "### Overwriting arguments\n",
    "Let's now overwrite some arguments, using the same config to embed some atoms of methane."
   ]
  },
  {
   "cell_type": "code",
   "execution_count": 5,
   "metadata": {},
   "outputs": [
    {
     "name": "stdout",
     "output_type": "stream",
     "text": [
      "converged SCF energy = -22.4100986242188  <S^2> = 2.220446e-16  2S+1 = 1\n"
     ]
    }
   ],
   "source": [
    "from nbed import nbed\n",
    "\n",
    "methane = \"\"\"5\n",
    "\n",
    "C\\t0.0\\t0.0\\t0.0\n",
    "H\\t0.5288\\t0.1610\\t0.9359\n",
    "H\\t0.2051\\t0.8240\\t-0.6786\n",
    "H\\t0.3345\\t-0.9314\\t-0.4496\n",
    "H\\t-1.0685\\t-0.0537\\t0.1921\n",
    "#     \"\"\"\n",
    "\n",
    "result = nbed(config=\"test_config.json\", geometry=methane)"
   ]
  },
  {
   "cell_type": "markdown",
   "metadata": {},
   "source": [
    "## Using an NbedConfig model.\n",
    "\n",
    "The final option is to directly pass the pydantic model that Nbed uses internally to validate data."
   ]
  },
  {
   "cell_type": "code",
   "execution_count": 6,
   "metadata": {},
   "outputs": [
    {
     "name": "stdout",
     "output_type": "stream",
     "text": [
      "converged SCF energy = -73.6060882962559  <S^2> = 1.3322676e-15  2S+1 = 1\n"
     ]
    }
   ],
   "source": [
    "from nbed.config import NbedConfig\n",
    "\n",
    "config = NbedConfig(geometry=geometry, n_active_atoms=2, basis=\"sto-3g\", xc_functional=\"b3lyp\", projector=\"mu\", localization=\"spade\",convergence=1e-6, charge=0, spin=0)\n",
    "result = nbed(config)"
   ]
  },
  {
   "cell_type": "markdown",
   "metadata": {},
   "source": []
  },
  {
   "cell_type": "code",
   "execution_count": 7,
   "metadata": {},
   "outputs": [
    {
     "name": "stdout",
     "output_type": "stream",
     "text": [
      "converged SCF energy = -69.5830769556182  <S^2> = 5.0182081e-14  2S+1 = 1\n"
     ]
    }
   ],
   "source": [
    "config = NbedConfig(**config_from_file)\n",
    "result = nbed(config)"
   ]
  },
  {
   "cell_type": "markdown",
   "metadata": {},
   "source": [
    "# Command-line Interface"
   ]
  },
  {
   "cell_type": "markdown",
   "metadata": {},
   "source": [
    "It is also possible to run nbed from the command line, the `nbed` command will be installed with the package and allows you to input the path to a config file.\n",
    "\n",
    "This can be useful for running nbed over ssh."
   ]
  },
  {
   "cell_type": "raw",
   "metadata": {
    "vscode": {
     "languageId": "raw"
    }
   },
   "source": [
    "nbed --config test_config.json"
   ]
  },
  {
   "cell_type": "markdown",
   "metadata": {},
   "source": [
    "# Results\n",
    "\n",
    "Results for the `mu` and `huzinaga` projectors are stored separately, let's take a look at what's included in there."
   ]
  },
  {
   "cell_type": "code",
   "execution_count": 8,
   "metadata": {},
   "outputs": [
    {
     "data": {
      "text/plain": [
       "dict_keys(['scf', 'v_emb', 'mo_energies_emb_pre_del', 'mo_energies_emb_post_del', 'correction', 'beta_correction', 'cl', 'e_rhf', 'classical_energy', 'e_ccsd', 'ccsd_emb', 'e_fci', 'fci_emb', 'hf_emb', 'v_emb_dft', 'scf_dft', 'dft_correction', 'dft_correction_beta', 'e_dft_in_dft', 'emb_dft'])"
      ]
     },
     "execution_count": 8,
     "metadata": {},
     "output_type": "execute_result"
    }
   ],
   "source": [
    "result.mu.keys()"
   ]
  },
  {
   "cell_type": "markdown",
   "metadata": {},
   "source": [
    "## PySCf Object\n",
    "\n",
    "If you want to contnue to use PySCF methods on the embedded system, you can get the embedded PySCF object `result.mu[\"embedded_scf\"]` (usually a UKS object), together with a correction to the energy which represents the environment `result.mu[\"classical_energy\"]`. "
   ]
  },
  {
   "cell_type": "code",
   "execution_count": 9,
   "metadata": {},
   "outputs": [
    {
     "data": {
      "text/plain": [
       "<pyscf.scf.uhf.UHF at 0x10f3dd7f0>"
      ]
     },
     "execution_count": 9,
     "metadata": {},
     "output_type": "execute_result"
    }
   ],
   "source": [
    "result.mu[\"scf\"]"
   ]
  },
  {
   "cell_type": "code",
   "execution_count": 10,
   "metadata": {},
   "outputs": [
    {
     "data": {
      "text/plain": [
       "np.float64(-14.229086664019011)"
      ]
     },
     "execution_count": 10,
     "metadata": {},
     "output_type": "execute_result"
    }
   ],
   "source": [
    "result.mu[\"classical_energy\"]"
   ]
  },
  {
   "cell_type": "markdown",
   "metadata": {},
   "source": [
    "## Second Quantised Hamiltonian\n",
    "\n",
    "The second quantised electronic structure hamiltonian will be the main thing you need if you're planning to run a quantum algorithm. You'll need to pair this with a [Fermion-Qubit encoding](https://ferrmion.readthedocs.io/) to create a qubit Hamiltonian that's well optimised to the device you intend to use.\n",
    "\n",
    "Nbed used the spin-orbit format, where the two spins of molecular orbital $i$: $(i_{\\uparrow}, i_{\\downarrow})$ map to indices $(2i, 2i+1)$"
   ]
  },
  {
   "cell_type": "code",
   "execution_count": 11,
   "metadata": {},
   "outputs": [
    {
     "ename": "KeyError",
     "evalue": "'second_quantised'",
     "output_type": "error",
     "traceback": [
      "\u001b[31m---------------------------------------------------------------------------\u001b[39m",
      "\u001b[31mKeyError\u001b[39m                                  Traceback (most recent call last)",
      "\u001b[36mCell\u001b[39m\u001b[36m \u001b[39m\u001b[32mIn[11]\u001b[39m\u001b[32m, line 1\u001b[39m\n\u001b[32m----> \u001b[39m\u001b[32m1\u001b[39m constant, one_e_terms, two_e_terms = \u001b[43mresult\u001b[49m\u001b[43m.\u001b[49m\u001b[43mmu\u001b[49m\u001b[43m[\u001b[49m\u001b[33;43m\"\u001b[39;49m\u001b[33;43msecond_quantised\u001b[39;49m\u001b[33;43m\"\u001b[39;49m\u001b[43m]\u001b[49m\n",
      "\u001b[31mKeyError\u001b[39m: 'second_quantised'"
     ]
    }
   ],
   "source": [
    "constant, one_e_terms, two_e_terms = result.mu[\"second_quantised\"]"
   ]
  },
  {
   "cell_type": "code",
   "execution_count": 11,
   "metadata": {},
   "outputs": [
    {
     "data": {
      "text/plain": [
       "(np.float64(-14.229086664077219), (10, 10), (10, 10, 10, 10))"
      ]
     },
     "execution_count": 11,
     "metadata": {},
     "output_type": "execute_result"
    }
   ],
   "source": [
    "constant, one_e_terms.shape, two_e_terms.shape"
   ]
  },
  {
   "cell_type": "markdown",
   "metadata": {},
   "source": [
    "##  Other information\n",
    "\n",
    "Most of the relevant information created or used in the embedding is accessible:"
   ]
  },
  {
   "cell_type": "code",
   "execution_count": 12,
   "metadata": {},
   "outputs": [
    {
     "name": "stdout",
     "output_type": "stream",
     "text": [
      "scf: <class 'pyscf.scf.uhf.UHF'>\n",
      "v_emb: <class 'numpy.ndarray'>\n",
      "mo_energies_emb_pre_del: <class 'numpy.ndarray'>\n",
      "mo_energies_emb_post_del: <class 'numpy.ndarray'>\n",
      "correction: <class 'numpy.float64'>\n",
      "beta_correction: <class 'numpy.float64'>\n",
      "cl: <class 'nbed.localizers.virtual.concentric.ConcentricLocalizer'>\n",
      "e_rhf: <class 'numpy.float64'>\n",
      "classical_energy: <class 'numpy.float64'>\n",
      "e_ccsd: <class 'numpy.float64'>\n",
      "ccsd_emb: <class 'numpy.float64'>\n",
      "e_fci: <class 'numpy.float64'>\n",
      "fci_emb: <class 'numpy.float64'>\n",
      "hf_emb: <class 'numpy.float64'>\n",
      "scf_dft: <class 'pyscf.dft.uks.UKS'>\n",
      "v_emb_dft: <class 'numpy.ndarray'>\n",
      "dft_correction: <class 'numpy.float64'>\n",
      "dft_correction_beta: <class 'numpy.float64'>\n",
      "e_dft_in_dft: <class 'numpy.float64'>\n",
      "emb_dft: <class 'numpy.float64'>\n",
      "second_quantised: <class 'tuple'>\n"
     ]
    }
   ],
   "source": [
    "for k, v in result.mu.items():\n",
    "    print(f\"{k}: {type(v)}\")"
   ]
  }
 ],
 "metadata": {
  "kernelspec": {
   "display_name": "Nbed",
   "language": "python",
   "name": "python3"
  },
  "language_info": {
   "codemirror_mode": {
    "name": "ipython",
    "version": 3
   },
   "file_extension": ".py",
   "mimetype": "text/x-python",
   "name": "python",
   "nbconvert_exporter": "python",
   "pygments_lexer": "ipython3",
   "version": "3.13.1"
  }
 },
 "nbformat": 4,
 "nbformat_minor": 4
}

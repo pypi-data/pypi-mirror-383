{
 "cells": [
  {
   "cell_type": "markdown",
   "metadata": {},
   "source": [
    "# 006: Operation Graphs - Academic Claim Validation\n",
    "\n",
    "Building on ReAct patterns from tutorial 005, this demonstrates sequential coordination using Operation Graphs to orchestrate ReaderTool workflows for academic claim validation.\n",
    "\n",
    "## What You'll Learn\n",
    "\n",
    "1. **Sequential Coordination**: Building context step-by-step through dependent operations\n",
    "2. **ReaderTool Integration**: Document chunking and progressive reading strategies  \n",
    "3. **Structured Extraction**: Using Pydantic models for reliable claim extraction\n",
    "4. **Operation Dependencies**: How operations build on previous results\n",
    "\n",
    "## Use Case: Validating a Theoretical Framework Paper\n",
    "\n",
    "We'll validate claims in an academic paper about capability-based security by:\n",
    "- Reading document chunks progressively with ReaderTool\n",
    "- Building understanding through sequential analysis\n",
    "- Extracting verifiable claims with structured output formats\n",
    "- Demonstrating how each operation builds on the previous one's results"
   ]
  },
  {
   "cell_type": "code",
   "execution_count": 1,
   "metadata": {},
   "outputs": [
    {
     "name": "stdout",
     "output_type": "stream",
     "text": [
      "✅ Environment setup complete\n",
      "📄 Target: 006_lion_proof_ch2.md\n",
      "🎯 Goal: Validate academic claims using coordinated ReAct workflows\n"
     ]
    }
   ],
   "source": [
    "# Setup and imports\n",
    "from typing import Literal\n",
    "from pathlib import Path\n",
    "from pydantic import BaseModel, Field\n",
    "\n",
    "from lionagi import Branch, Session, Builder, types, iModel\n",
    "from lionagi.tools.types import ReaderTool\n",
    "\n",
    "# Target document - complex theoretical framework\n",
    "here = Path().cwd()\n",
    "document_path = here / \"data\" / \"006_lion_proof_ch2.md\"\n",
    "\n",
    "print(\"✅ Environment setup complete\")\n",
    "print(f\"📄 Target: {document_path.name}\")\n",
    "print(\"🎯 Goal: Validate academic claims using coordinated ReAct workflows\")"
   ]
  },
  {
   "cell_type": "code",
   "execution_count": 2,
   "metadata": {},
   "outputs": [
    {
     "name": "stdout",
     "output_type": "stream",
     "text": [
      "✅ Data models defined\n"
     ]
    }
   ],
   "source": [
    "# Data models for structured responses\n",
    "class Claim(BaseModel):\n",
    "    claim: str\n",
    "    type: Literal[\"citation\", \"performance\", \"technical\", \"other\"]\n",
    "    location: str = Field(..., description=\"Section/paragraph reference\")\n",
    "    verifiability: Literal[\"high\", \"medium\", \"low\"]\n",
    "    search_strategy: str = Field(..., description=\"How to verify this claim\")\n",
    "\n",
    "\n",
    "class ClaimExtraction(BaseModel):\n",
    "    claims: list[Claim]\n",
    "\n",
    "\n",
    "print(\"✅ Data models defined\")"
   ]
  },
  {
   "cell_type": "markdown",
   "metadata": {},
   "source": [
    "## Pattern 1: Sequential Document Analysis\n",
    "\n",
    "Build understanding step-by-step: Open → Analyze → Extract claims"
   ]
  },
  {
   "cell_type": "code",
   "execution_count": 3,
   "metadata": {},
   "outputs": [
    {
     "name": "stdout",
     "output_type": "stream",
     "text": [
      "🔗 Executing sequential analysis...\n",
      "Operation 4ced7250 waiting for 8482441d\n",
      "Operation 22a5974b waiting for 4ced7250\n",
      "Executing operation: 8482441d\n",
      "Invoking action reader_tool with {'action': 'open', 'path_or_url': '/Users/lion/lio....\n",
      "Action reader_tool invoked, status: completed.\n"
     ]
    },
    {
     "data": {
      "text/markdown": [
       "### ReAct Round No.1 Analysis:\n",
       "```yaml\n",
       "analysis: I will first open the theoretical framework document located at /Users/lion/lionagi/cookbooks/data/006_lion_proof_ch2.md to analyze its structure. After opening it, I will read the i...\n",
       "\n",
       "[Truncated output]\n",
       "```\n",
       "---------"
      ],
      "text/plain": [
       "<IPython.core.display.Markdown object>"
      ]
     },
     "metadata": {},
     "output_type": "display_data"
    },
    {
     "name": "stdout",
     "output_type": "stream",
     "text": [
      "Invoking action reader_tool with {'action': 'read', 'doc_id': 'DOC_3654073707073659....\n",
      "Action reader_tool invoked, status: completed.\n"
     ]
    },
    {
     "data": {
      "text/markdown": [
       "### ReAct Round No.2 Analysis:\n",
       "```yaml\n",
       "analysis: The document /Users/lion/lionagi/cookbooks/data/006_lion_proof_ch2.md has been successfully opened and contains 52,767 characters (~12,127 tokens). To understand the theoretical fram...\n",
       "\n",
       "[Truncated output]\n",
       "```\n",
       "---------"
      ],
      "text/plain": [
       "<IPython.core.display.Markdown object>"
      ]
     },
     "metadata": {},
     "output_type": "display_data"
    },
    {
     "name": "stdout",
     "output_type": "stream",
     "text": [
      "Invoking action reader_tool with {'action': 'read', 'doc_id': 'DOC_3654073707073659....\n",
      "Action reader_tool invoked, status: completed.\n"
     ]
    },
    {
     "data": {
      "text/markdown": [
       "### ReAct Round No.3 Analysis:\n",
       "```yaml\n",
       "analysis: The initial 3000 characters provide a detailed introduction and table of contents-like overview of the theoretical framework. It starts with an introduction explaining the Lion ecosy...\n",
       "\n",
       "[Truncated output]\n",
       "```\n",
       "---------"
      ],
      "text/plain": [
       "<IPython.core.display.Markdown object>"
      ]
     },
     "metadata": {},
     "output_type": "display_data"
    },
    {
     "name": "stdout",
     "output_type": "stream",
     "text": [
      "Invoking action reader_tool with {'action': 'read', 'doc_id': 'DOC_3654073707073659....\n",
      "Action reader_tool invoked, status: completed.\n"
     ]
    },
    {
     "data": {
      "text/markdown": [
       "### ReAct Round No.4 Analysis:\n",
       "```yaml\n",
       "analysis: The content read completes Section 2.2 and begins Section 2.3 with Theorem 2.1 on Cross-Component Capability Flow. Section 2.2 includes formal definitions for the Lion capability sys...\n",
       "\n",
       "[Truncated output]\n",
       "```\n",
       "---------"
      ],
      "text/plain": [
       "<IPython.core.display.Markdown object>"
      ]
     },
     "metadata": {},
     "output_type": "display_data"
    },
    {
     "name": "stdout",
     "output_type": "stream",
     "text": [
      "Invoking action reader_tool with {'action': 'read', 'doc_id': 'DOC_3654073707073659....\n",
      "Action reader_tool invoked, status: completed.\n"
     ]
    },
    {
     "data": {
      "text/markdown": [
       "### ReAct Round No.5 Analysis:\n",
       "```yaml\n",
       "analysis: The portion read includes the full formal statement of Theorem 2.1, asserting that capability authority remains preserved and capability tokens remain unforgeable during inter-compon...\n",
       "\n",
       "[Truncated output]\n",
       "```\n",
       "---------"
      ],
      "text/plain": [
       "<IPython.core.display.Markdown object>"
      ]
     },
     "metadata": {},
     "output_type": "display_data"
    },
    {
     "name": "stdout",
     "output_type": "stream",
     "text": [
      "Invoking action reader_tool with {'action': 'read', 'doc_id': 'DOC_3654073707073659....\n",
      "Action reader_tool invoked, status: completed.\n"
     ]
    },
    {
     "data": {
      "text/markdown": [
       "### ReAct Round No.6 Analysis:\n",
       "```yaml\n",
       "analysis: The continuation completes the proof of Lemma 2.1.2, showing through Rust serialization/deserialization code and authoritative lion core storage that capability authority remains unc...\n",
       "\n",
       "[Truncated output]\n",
       "```\n",
       "---------"
      ],
      "text/plain": [
       "<IPython.core.display.Markdown object>"
      ]
     },
     "metadata": {},
     "output_type": "display_data"
    },
    {
     "name": "stdout",
     "output_type": "stream",
     "text": [
      "Invoking action reader_tool with {'action': 'read', 'doc_id': 'DOC_3654073707073659....\n",
      "Action reader_tool invoked, status: completed.\n"
     ]
    },
    {
     "data": {
      "text/markdown": [
       "### ReAct Round No.7 Analysis:\n",
       "```yaml\n",
       "analysis: The text completes Theorem 2.1 and transitions into Theorem 2.2 on Security Composition. Theorem 2.2 formally states that composing two secure and compatible components results in a ...\n",
       "\n",
       "[Truncated output]\n",
       "```\n",
       "---------"
      ],
      "text/plain": [
       "<IPython.core.display.Markdown object>"
      ]
     },
     "metadata": {},
     "output_type": "display_data"
    },
    {
     "name": "stdout",
     "output_type": "stream",
     "text": [
      "Invoking action reader_tool with {'action': 'read', 'doc_id': 'DOC_3654073707073659....\n",
      "Action reader_tool invoked, status: completed.\n"
     ]
    },
    {
     "data": {
      "text/markdown": [
       "### ReAct Round No.8 Analysis:\n",
       "```yaml\n",
       "analysis: The text completes the detailed proof outline for Theorem 2.2, including lemmas demonstrating that unforgeability, authority confinement, least privilege, and policy compliance are p...\n",
       "\n",
       "[Truncated output]\n",
       "```\n",
       "---------"
      ],
      "text/plain": [
       "<IPython.core.display.Markdown object>"
      ]
     },
     "metadata": {},
     "output_type": "display_data"
    },
    {
     "name": "stdout",
     "output_type": "stream",
     "text": [
      "Invoking action reader_tool with {'action': 'read', 'doc_id': 'DOC_3654073707073659....\n",
      "Action reader_tool invoked, status: completed.\n"
     ]
    },
    {
     "data": {
      "text/markdown": [
       "### ReAct Round No.9 Analysis:\n",
       "```yaml\n",
       "analysis: The section initiates Theorem 2.3, addressing Confused Deputy Prevention within the Lion ecosystem. It provides formal and informal statements, ensuring no component can perform an a...\n",
       "\n",
       "[Truncated output]\n",
       "```\n",
       "---------"
      ],
      "text/plain": [
       "<IPython.core.display.Markdown object>"
      ]
     },
     "metadata": {},
     "output_type": "display_data"
    },
    {
     "name": "stdout",
     "output_type": "stream",
     "text": [
      "Invoking action reader_tool with {'action': 'read', 'doc_id': 'DOC_3654073707073659....\n",
      "Action reader_tool invoked, status: completed.\n"
     ]
    },
    {
     "data": {
      "text/markdown": [
       "### ReAct Round No.10 Analysis:\n",
       "```yaml\n",
       "analysis: The current section provides detailed lemmas supporting Theorem 2.3 on Confused Deputy Prevention, specifically establishing the absence of ambient authority, explicit capability pas...\n",
       "\n",
       "[Truncated output]\n",
       "```\n",
       "---------"
      ],
      "text/plain": [
       "<IPython.core.display.Markdown object>"
      ]
     },
     "metadata": {},
     "output_type": "display_data"
    },
    {
     "name": "stdout",
     "output_type": "stream",
     "text": [
      "Invoking action reader_tool with {'action': 'read', 'doc_id': 'DOC_3654073707073659....\n",
      "Action reader_tool invoked, status: completed.\n"
     ]
    },
    {
     "data": {
      "text/markdown": [
       "### ReAct Round No.11 Analysis:\n",
       "```yaml\n",
       "analysis: The last excerpt begins the discussion of Theorem 2.4 on Automatic POLA Enforcement, highlighting the role of the Lion system's type system to ensure minimal authority assignment aut...\n",
       "\n",
       "[Truncated output]\n",
       "```\n",
       "---------"
      ],
      "text/plain": [
       "<IPython.core.display.Markdown object>"
      ]
     },
     "metadata": {},
     "output_type": "display_data"
    },
    {
     "name": "stdout",
     "output_type": "stream",
     "text": [
      "Invoking action reader_tool with {'action': 'read', 'doc_id': 'DOC_3654073707073659....\n",
      "Action reader_tool invoked, status: completed.\n"
     ]
    },
    {
     "data": {
      "text/markdown": [
       "### ReAct Round No.12 Analysis:\n",
       "```yaml\n",
       "analysis: The current reading covers key lemmas and proof steps for Theorem 2.4 on Automatic POLA Enforcement. It shows how the Rust-based type system statically prevents excessive authority t...\n",
       "\n",
       "[Truncated output]\n",
       "```\n",
       "---------"
      ],
      "text/plain": [
       "<IPython.core.display.Markdown object>"
      ]
     },
     "metadata": {},
     "output_type": "display_data"
    },
    {
     "data": {
      "text/markdown": [
       "### ReAct Round No.13 Analysis:\n",
       "```yaml\n",
       "analysis: The document structure is now clear: it begins with motivation and system model, then presents four key theorems (2.1 through 2.4) each with formal statements, detailed proofs, and s...\n",
       "\n",
       "[Truncated output]\n",
       "```\n",
       "---------"
      ],
      "text/plain": [
       "<IPython.core.display.Markdown object>"
      ]
     },
     "metadata": {},
     "output_type": "display_data"
    },
    {
     "data": {
      "text/markdown": [
       "### ReAct Final Answer:\n",
       "The theoretical framework document is structured into clearly defined sections starting with an introduction and motivation, followed by formal system models and definitions. The core of the document ...\n",
       "\n",
       "[Truncated output]\n",
       "---------"
      ],
      "text/plain": [
       "<IPython.core.display.Markdown object>"
      ]
     },
     "metadata": {},
     "output_type": "display_data"
    },
    {
     "name": "stdout",
     "output_type": "stream",
     "text": [
      "Completed operation: 8482441d\n",
      "Operation 4ced7250 starting with fresh context\n",
      "Executing operation: 4ced7250\n"
     ]
    },
    {
     "data": {
      "text/markdown": [
       "### ReAct Round No.1 Analysis:\n",
       "```yaml\n",
       "analysis: The investigation involved reviewing key sections of the document, focusing on theoretical claims, citations, and performance metrics. The content confirmed that the main assertions ...\n",
       "\n",
       "[Truncated output]\n",
       "```\n",
       "---------"
      ],
      "text/plain": [
       "<IPython.core.display.Markdown object>"
      ]
     },
     "metadata": {},
     "output_type": "display_data"
    },
    {
     "data": {
      "text/markdown": [
       "### ReAct Final Answer:\n",
       "```yaml\n",
       "topic: Formal Security Guarantees in Capability Systems\n",
       "items:\n",
       "  - heading: Introduction and Motivation\n",
       "    summary: Overview of the legitimacy of capability-based security and motivation for ...\n",
       "\n",
       "[Truncated output]\n",
       "```\n",
       "---------"
      ],
      "text/plain": [
       "<IPython.core.display.Markdown object>"
      ]
     },
     "metadata": {},
     "output_type": "display_data"
    },
    {
     "name": "stdout",
     "output_type": "stream",
     "text": [
      "Completed operation: 4ced7250\n",
      "Operation 22a5974b starting with fresh context\n",
      "Executing operation: 22a5974b\n"
     ]
    },
    {
     "data": {
      "text/markdown": [
       "### ReAct Round No.1 Analysis:\n",
       "```yaml\n",
       "analysis: 1. The core verifiable claim is from Theorem 2.1, asserting that capability authority is preserved during inter-component message passing, formalized by the cryptographic unforgeabil...\n",
       "\n",
       "[Truncated output]\n",
       "```\n",
       "---------"
      ],
      "text/plain": [
       "<IPython.core.display.Markdown object>"
      ]
     },
     "metadata": {},
     "output_type": "display_data"
    },
    {
     "data": {
      "text/markdown": [
       "### ReAct Final Answer:\n",
       "```yaml\n",
       "claims:\n",
       "  - claim: Theorem 2.1 asserts that the capability authority is preserved during cross-component message passing, formalized by cryptographic unforgeability and authority invariance of...\n",
       "\n",
       "[Truncated output]\n",
       "```\n",
       "---------"
      ],
      "text/plain": [
       "<IPython.core.display.Markdown object>"
      ]
     },
     "metadata": {},
     "output_type": "display_data"
    },
    {
     "name": "stdout",
     "output_type": "stream",
     "text": [
      "Completed operation: 22a5974b\n"
     ]
    }
   ],
   "source": [
    "async def sequential_analysis():\n",
    "    \"\"\"Sequential workflow: open → analyze structure → extract claims.\"\"\"\n",
    "\n",
    "    # Create branch with ReaderTool\n",
    "    branch = Branch(\n",
    "        tools=[ReaderTool], chat_model=iModel(model=\"openai/gpt-4.1-mini\")\n",
    "    )\n",
    "    session = Session(default_branch=branch)\n",
    "    builder = Builder()\n",
    "\n",
    "    # Step 1: Open and understand document\n",
    "    doc_reader = builder.add_operation(\n",
    "        \"ReAct\",\n",
    "        node_id=\"open_document\",\n",
    "        instruct=types.Instruct(\n",
    "            instruction=\"Use ReaderTool to open and analyze the theoretical framework document. Understand its structure and identify sections containing verifiable claims.\",\n",
    "            context={\"document_path\": str(document_path)},\n",
    "        ),\n",
    "        tools=[\"reader_tool\"],\n",
    "        max_extensions=2,\n",
    "        verbose=True,\n",
    "        verbose_length=200,\n",
    "    )\n",
    "\n",
    "    # Step 2: Progressive content analysis\n",
    "    content_analyzer = builder.add_operation(\n",
    "        \"ReAct\",\n",
    "        node_id=\"analyze_content\",\n",
    "        depends_on=[doc_reader],\n",
    "        instruct=types.Instruct(\n",
    "            instruction=\"Read through key sections to identify citations, technical claims, and performance metrics that can be verified.\"\n",
    "        ),\n",
    "        response_format=types.Outline,\n",
    "        tools=[\"reader_tool\"],\n",
    "        max_extensions=3,\n",
    "        verbose=True,\n",
    "        verbose_length=200,\n",
    "    )\n",
    "\n",
    "    # Step 3: Extract specific claims\n",
    "    claim_extractor = builder.add_operation(\n",
    "        \"ReAct\",\n",
    "        node_id=\"extract_claims\",\n",
    "        depends_on=[content_analyzer],\n",
    "        instruct=types.Instruct(\n",
    "            instruction=\"Extract 5-7 specific, verifiable claims. Prioritize citations, performance metrics, and technical assertions.\"\n",
    "        ),\n",
    "        response_format=ClaimExtraction,\n",
    "        tools=[\"reader_tool\"],\n",
    "        max_extensions=3,\n",
    "        verbose=True,\n",
    "        verbose_length=200,\n",
    "    )\n",
    "\n",
    "    # Execute workflow\n",
    "    graph = builder.get_graph()\n",
    "    print(\"🔗 Executing sequential analysis...\")\n",
    "\n",
    "    result = await session.flow(graph, parallel=False, verbose=True)\n",
    "\n",
    "    return result\n",
    "\n",
    "\n",
    "# Execute sequential analysis\n",
    "result = await sequential_analysis()"
   ]
  },
  {
   "cell_type": "code",
   "execution_count": 4,
   "metadata": {},
   "outputs": [
    {
     "data": {
      "text/markdown": [
       "\n",
       "## 📄 Document Structure (4ced7250-99e5-4819-bc06-c48ea1857998)\n",
       "\n",
       "**Topic:** Formal Security Guarantees in Capability Systems\n",
       "\n",
       "### Key Sections:\n",
       "- **Introduction and Motivation**: Overview of the legitimacy of capability-based security and motivation for formal proofs.\n",
       "- **Formal System Models and Definitions**: Precise formal definitions of capabilities, system components, and security invariants.\n",
       "- **Main Theorems and Proofs**: Theorems 2.1 to 2.4 detailing security preservation, composition, and enforcement, supported by lemmas and mechanized proofs.\n"
      ],
      "text/plain": [
       "<IPython.core.display.Markdown object>"
      ]
     },
     "metadata": {},
     "output_type": "display_data"
    },
    {
     "data": {
      "text/markdown": [
       "\n",
       "## 📑 Extracted Claims (22a5974b-7642-41f7-8728-398c35273c07)\n",
       "\n",
       "Found **7** verifiable claims:\n",
       "\n",
       "\n",
       "### 1. [TECHNICAL] Theorem 2.1 asserts that the capability authority is preserved during cross-component message passing, formalized by cryptographic unforgeability and authority invariance of capabilities.\n",
       "\n",
       "- **Location:** Section 2.3  \n",
       "- **Verifiability:** high\n",
       "- **Search Strategy:** Review formal definitions of capabilities and proof of Theorem 2.1.\n",
       "\n",
       "\n",
       "### 2. [TECHNICAL] Theorem 2.2 states that security properties remain intact when components are composed, supported by lemmas about unforgeability, authority confinement, and policy compliance.\n",
       "\n",
       "- **Location:** Section 2.4  \n",
       "- **Verifiability:** high\n",
       "- **Search Strategy:** Examine lemmas supporting the preservation of security invariants during composition.\n",
       "\n",
       "\n",
       "### 3. [TECHNICAL] Theorem 2.3 guarantees Lion's capability system prevents confused deputy attacks by enforcing explicit capability transfer and restricting ambient authority.\n",
       "\n",
       "- **Location:** Section 2.5  \n",
       "- **Verifiability:** high\n",
       "- **Search Strategy:** Analyze lemmas on the absence of ambient authority and explicit delegation protocols.\n",
       "\n",
       "\n",
       "### 4. [TECHNICAL] Theorem 2.4 ensures the automatic enforcement of the principle of least authority, achieved via static type checks and runtime capability derivation, as supported by formal lemmas.\n",
       "\n",
       "- **Location:** Section 2.6  \n",
       "- **Verifiability:** high\n",
       "- **Search Strategy:** Review lemmas on type enforcement, capability derivation, and minimal scope capabilities.\n",
       "\n",
       "\n",
       "### 5. [CITATION] Mechanized proofs in TLA+ and Lean verify core invariants such as unforgeability, authority preservation, and proper attenuation, providing formal validation of the theoretical claims.\n",
       "\n",
       "- **Location:** Section 2.8  \n",
       "- **Verifiability:** high\n",
       "- **Search Strategy:** Verify the mechanized proof artifacts and their correspondence to the stated theorems.\n",
       "\n",
       "\n",
       "### 6. [TECHNICAL] Cryptographic signatures and formal definitions of capabilities serve as verifiable assertions about unforgeability and authority invariance during capability transfers.\n",
       "\n",
       "- **Location:** Throughout the formal definitions and transfer protocols  \n",
       "- **Verifiability:** medium\n",
       "- **Search Strategy:** Review cryptographic protocol details and formal definitions in the document.\n",
       "\n",
       "\n",
       "### 7. [PERFORMANCE] The formal security invariants hold across modeled actions such as message passing, component composition, capability delegation, and runtime attenuation, as confirmed by model checking and mechanized proofs.\n",
       "\n",
       "- **Location:** Sections 2.8 and Appendix A.2  \n",
       "- **Verifiability:** high\n",
       "- **Search Strategy:** Examine model checking results and mechanized proof summaries for invariant validation.\n",
       "\n"
      ],
      "text/plain": [
       "<IPython.core.display.Markdown object>"
      ]
     },
     "metadata": {},
     "output_type": "display_data"
    },
    {
     "data": {
      "text/markdown": [
       "## ✅ Sequential analysis completed"
      ],
      "text/plain": [
       "<IPython.core.display.Markdown object>"
      ]
     },
     "metadata": {},
     "output_type": "display_data"
    }
   ],
   "source": [
    "from IPython.display import display, Markdown\n",
    "\n",
    "# Display results\n",
    "for node_id, data in result[\"operation_results\"].items():\n",
    "    if isinstance(data, types.Outline):\n",
    "        md_content = f\"\"\"\n",
    "## 📄 Document Structure ({node_id})\n",
    "\n",
    "**Topic:** {data.topic}\n",
    "\n",
    "### Key Sections:\n",
    "\"\"\"\n",
    "        for item in data.items[:3]:  # Show first 3\n",
    "            md_content += f\"- **{item.heading}**: {item.summary}\\n\"\n",
    "\n",
    "        display(Markdown(md_content))\n",
    "\n",
    "    elif isinstance(data, ClaimExtraction):\n",
    "        md_content = f\"\"\"\n",
    "## 📑 Extracted Claims ({node_id})\n",
    "\n",
    "Found **{len(data.claims)}** verifiable claims:\n",
    "\n",
    "\"\"\"\n",
    "        for i, claim in enumerate(data.claims, 1):\n",
    "            md_content += f\"\"\"\n",
    "### {i}. [{claim.type.upper()}] {claim.claim}\n",
    "\n",
    "- **Location:** {claim.location}  \n",
    "- **Verifiability:** {claim.verifiability}\n",
    "- **Search Strategy:** {claim.search_strategy}\n",
    "\n",
    "\"\"\"\n",
    "        display(Markdown(md_content))\n",
    "\n",
    "display(Markdown(\"## ✅ Sequential analysis completed\"))"
   ]
  }
 ],
 "metadata": {
  "kernelspec": {
   "display_name": "lionagi",
   "language": "python",
   "name": "python3"
  },
  "language_info": {
   "codemirror_mode": {
    "name": "ipython",
    "version": 3
   },
   "file_extension": ".py",
   "mimetype": "text/x-python",
   "name": "python",
   "nbconvert_exporter": "python",
   "pygments_lexer": "ipython3",
   "version": "3.10.15"
  }
 },
 "nbformat": 4,
 "nbformat_minor": 4
}

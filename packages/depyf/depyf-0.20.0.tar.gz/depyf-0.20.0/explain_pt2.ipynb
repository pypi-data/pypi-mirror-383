{
 "cells": [
  {
   "cell_type": "markdown",
   "id": "c033961d-e588-4913-930c-a467f746985b",
   "metadata": {},
   "source": [
    "# Explain what does PyTorch 2.0 do to your code\n",
    "\n",
    "Note: the usage has changed. Please refer to the new [usage example](https://github.com/thuml/depyf)."
   ]
  }
 ],
 "metadata": {
  "kernelspec": {
   "display_name": "Python 3 (ipykernel)",
   "language": "python",
   "name": "python3"
  },
  "language_info": {
   "codemirror_mode": {
    "name": "ipython",
    "version": 3
   },
   "file_extension": ".py",
   "mimetype": "text/x-python",
   "name": "python",
   "nbconvert_exporter": "python",
   "pygments_lexer": "ipython3",
   "version": "3.10.12"
  }
 },
 "nbformat": 4,
 "nbformat_minor": 5
}
